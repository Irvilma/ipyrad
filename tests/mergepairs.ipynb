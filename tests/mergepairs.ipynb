{
 "cells": [
  {
   "cell_type": "markdown",
   "metadata": {},
   "source": [
    "### Testing vsearch mergepairs options"
   ]
  },
  {
   "cell_type": "code",
   "execution_count": 1,
   "metadata": {
    "collapsed": true
   },
   "outputs": [],
   "source": [
    "import ipyrad as ip"
   ]
  },
  {
   "cell_type": "code",
   "execution_count": 2,
   "metadata": {
    "collapsed": false
   },
   "outputs": [
    {
     "name": "stdout",
     "output_type": "stream",
     "text": [
      "New Assembly object `mergetest` created\n",
      "ipyparallel setup: Local connection to 4 engines.\n"
     ]
    }
   ],
   "source": [
    "data = ip.Assembly(\"mergetest\")"
   ]
  },
  {
   "cell_type": "code",
   "execution_count": 3,
   "metadata": {
    "collapsed": false
   },
   "outputs": [
    {
     "name": "stdout",
     "output_type": "stream",
     "text": [
      "  1   working_directory             .                                            \n",
      "  2   raw_fastq_path                ./*.fastq                                    \n",
      "  3   barcodes_path                 ./*.barcodes.txt                             \n",
      "  4   sorted_fastq_path                                                          \n",
      "  5   restriction_overhang          ('TGCAG', '')                                \n",
      "  6   max_low_qual_bases            5                                            \n",
      "  7   engines_per_job               4                                            \n",
      "  8   mindepth_statistical          6                                            \n",
      "  9   mindepth_majrule              6                                            \n",
      "  10  datatype                      rad                                          \n",
      "  11  clust_threshold               0.85                                         \n",
      "  12  minsamp                       4                                            \n",
      "  13  max_shared_heterozygosity     0.25                                         \n",
      "  14  prefix_outname                mergetest                                    \n",
      "  15  phred_Qscore_offset           33                                           \n",
      "  16  max_barcode_mismatch          1                                            \n",
      "  17  filter_adapters               0                                            \n",
      "  18  filter_min_trim_len           35                                           \n",
      "  19  ploidy                        2                                            \n",
      "  20  max_stack_size                1000                                         \n",
      "  21  max_Ns_consens                (5, 5)                                       \n",
      "  22  max_Hs_consens                (8, 8)                                       \n",
      "  23  max_SNPs_locus                (100, 100)                                   \n",
      "  24  max_Indels_locus              (5, 99)                                      \n",
      "  25  trim_overhang                 (1, 2, 2, 1)                                 \n",
      "  26  hierarchical_clustering       0                                            \n",
      "  27  assembly_method               denovo                                       \n",
      "  28  reference_sequence                                                         \n"
     ]
    }
   ],
   "source": [
    "data.get_params()"
   ]
  },
  {
   "cell_type": "code",
   "execution_count": 4,
   "metadata": {
    "collapsed": false
   },
   "outputs": [
    {
     "name": "stdout",
     "output_type": "stream",
     "text": [
      "2 new Samples created in `mergetest`.\n",
      "2 fastq files linked to 2 new Samples.\n"
     ]
    }
   ],
   "source": [
    "data.set_params(4, \"/home/deren/Documents/longi_test/longiflora/fastq/L20090356_*\")"
   ]
  },
  {
   "cell_type": "code",
   "execution_count": 5,
   "metadata": {
    "collapsed": false
   },
   "outputs": [
    {
     "ename": "AttributeError",
     "evalue": "'Assembly' object has no attribute 'files'",
     "output_type": "error",
     "traceback": [
      "\u001b[1;31m---------------------------------------------------------------------------\u001b[0m",
      "\u001b[1;31mAttributeError\u001b[0m                            Traceback (most recent call last)",
      "\u001b[1;32m<ipython-input-5-1e86bbc39c53>\u001b[0m in \u001b[0;36m<module>\u001b[1;34m()\u001b[0m\n\u001b[1;32m----> 1\u001b[1;33m \u001b[0mdata\u001b[0m\u001b[1;33m.\u001b[0m\u001b[0mfiles\u001b[0m\u001b[1;33m\u001b[0m\u001b[0m\n\u001b[0m",
      "\u001b[1;31mAttributeError\u001b[0m: 'Assembly' object has no attribute 'files'"
     ]
    }
   ],
   "source": [
    "data.files"
   ]
  }
 ],
 "metadata": {
  "kernelspec": {
   "display_name": "Python 2",
   "language": "python",
   "name": "python2"
  },
  "language_info": {
   "codemirror_mode": {
    "name": "ipython",
    "version": 2
   },
   "file_extension": ".py",
   "mimetype": "text/x-python",
   "name": "python",
   "nbconvert_exporter": "python",
   "pygments_lexer": "ipython2",
   "version": "2.7.10"
  }
 },
 "nbformat": 4,
 "nbformat_minor": 0
}
