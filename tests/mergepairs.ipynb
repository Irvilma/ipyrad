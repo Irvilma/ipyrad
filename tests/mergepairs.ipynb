{
 "cells": [
  {
   "cell_type": "markdown",
   "metadata": {},
   "source": [
    "### Testing vsearch mergepairs options"
   ]
  },
  {
   "cell_type": "code",
   "execution_count": 1,
   "metadata": {
    "collapsed": false
   },
   "outputs": [
    {
     "name": "stderr",
     "output_type": "stream",
     "text": [
      "DEBUG:ipyrad:H4CKERZ-mode: __loglevel__ = DEBUG\n"
     ]
    },
    {
     "name": "stdout",
     "output_type": "stream",
     "text": [
      "0.0.66\n"
     ]
    }
   ],
   "source": [
    "import ipyrad as ip\n",
    "print ip.__version__"
   ]
  },
  {
   "cell_type": "code",
   "execution_count": 2,
   "metadata": {
    "collapsed": false
   },
   "outputs": [
    {
     "name": "stderr",
     "output_type": "stream",
     "text": [
      "INFO:ipyrad.core.parallel:Local connection to 4 engines\n"
     ]
    },
    {
     "name": "stdout",
     "output_type": "stream",
     "text": [
      "New Assembly object `mergetest` created\n",
      "ipyparallel setup: Local connection to 4 engines.\n"
     ]
    }
   ],
   "source": [
    "data = ip.Assembly(\"mergetest\")"
   ]
  },
  {
   "cell_type": "code",
   "execution_count": 3,
   "metadata": {
    "collapsed": false
   },
   "outputs": [],
   "source": [
    "data.set_params(1, \"mergetest\")\n",
    "data.set_params(4, \"~/Documents/longi_test/longiflora/fastq/L20090356_*\")\n",
    "#data.set_params(5, ('TGCWG', \"\"))\n",
    "data.set_params(5, ('TGCAG', \"\"))\n",
    "data.set_params(17, 2)\n",
    "data.set_params(10, 'pairgbs')\n"
   ]
  },
  {
   "cell_type": "code",
   "execution_count": 4,
   "metadata": {
    "collapsed": false
   },
   "outputs": [
    {
     "name": "stdout",
     "output_type": "stream",
     "text": [
      "1 new Samples created in `mergetest`.\n",
      "1 fastq files linked to 1 new Samples.\n"
     ]
    }
   ],
   "source": [
    "data.link_fastqs(force=True)#, append=True)"
   ]
  },
  {
   "cell_type": "code",
   "execution_count": 5,
   "metadata": {
    "collapsed": false
   },
   "outputs": [
    {
     "name": "stdout",
     "output_type": "stream",
     "text": [
      "{'L20090356': <ipyrad.core.sample.Sample object at 0x7f41440853d0>}\n",
      "L20090356    [(/home/deren/Documents/longi_test/longiflora/...\n",
      "Name: fastqs, dtype: object\n"
     ]
    }
   ],
   "source": [
    "print data.samples\n",
    "print data.files.fastqs"
   ]
  },
  {
   "cell_type": "code",
   "execution_count": 6,
   "metadata": {
    "collapsed": false
   },
   "outputs": [
    {
     "name": "stdout",
     "output_type": "stream",
     "text": [
      "  1   working_directory           mergetest                                    \n",
      "  2   raw_fastq_path              ./*.fastq                                    \n",
      "  3   barcodes_path               ./*.barcodes.txt                             \n",
      "  4   sorted_fastq_path           /home/deren/Documents/longi_test/longiflora/fastq/L20090356_*\n",
      "  5   restriction_overhang        ('TGCAG', '')                                \n",
      "  6   max_low_qual_bases          5                                            \n",
      "  7   engines_per_job             4                                            \n",
      "  8   mindepth_statistical        6                                            \n",
      "  9   mindepth_majrule            6                                            \n",
      "  10  datatype                    pairgbs                                      \n",
      "  11  clust_threshold             0.85                                         \n",
      "  12  minsamp                     4                                            \n",
      "  13  max_shared_heterozygosity   0.25                                         \n",
      "  14  prefix_outname              mergetest                                    \n",
      "  15  phred_Qscore_offset         33                                           \n",
      "  16  max_barcode_mismatch        1                                            \n",
      "  17  filter_adapters             2                                            \n",
      "  18  filter_min_trim_len         35                                           \n",
      "  19  ploidy                      2                                            \n",
      "  20  max_stack_size              1000                                         \n",
      "  21  max_Ns_consens              (5, 5)                                       \n",
      "  22  max_Hs_consens              (8, 8)                                       \n",
      "  23  max_SNPs_locus              (100, 100)                                   \n",
      "  24  max_Indels_locus            (5, 99)                                      \n",
      "  25  trim_overhang               (1, 2, 2, 1)                                 \n",
      "  26  hierarchical_clustering     0                                            \n",
      "  27  assembly_method             denovo                                       \n",
      "  28  reference_sequence                                                       \n"
     ]
    }
   ],
   "source": [
    "data.get_params()"
   ]
  },
  {
   "cell_type": "code",
   "execution_count": 7,
   "metadata": {
    "collapsed": false,
    "scrolled": false
   },
   "outputs": [
    {
     "name": "stderr",
     "output_type": "stream",
     "text": [
      "INFO:ipyrad.assemble.demultiplex:optim = 10000\n"
     ]
    },
    {
     "name": "stdout",
     "output_type": "stream",
     "text": [
      "           state  reads_raw  reads_filtered\n",
      "L20090356      2      71185           18779\n"
     ]
    }
   ],
   "source": [
    "data.step2()\n",
    "print data.stats"
   ]
  },
  {
   "cell_type": "code",
   "execution_count": null,
   "metadata": {
    "collapsed": false
   },
   "outputs": [],
   "source": [
    "data.vsearch +\\\n",
    "    \" --fastq-mergepairs\" \\\n",
    "    \" --\""
   ]
  },
  {
   "cell_type": "code",
   "execution_count": null,
   "metadata": {
    "collapsed": false
   },
   "outputs": [],
   "source": [
    "data.samples['L20090356'].barcode"
   ]
  },
  {
   "cell_type": "code",
   "execution_count": null,
   "metadata": {
    "collapsed": true
   },
   "outputs": [],
   "source": [
    "import ipyparallel as ipp"
   ]
  },
  {
   "cell_type": "code",
   "execution_count": null,
   "metadata": {
    "collapsed": false
   },
   "outputs": [],
   "source": [
    "client = ipp.Client()"
   ]
  },
  {
   "cell_type": "code",
   "execution_count": null,
   "metadata": {
    "collapsed": true
   },
   "outputs": [],
   "source": [
    "lbview = client.load_balanced_view()\n",
    "result = lbview.map(sum, [[2,3],[4,5],[6,7],[8,9],3,'a'])"
   ]
  },
  {
   "cell_type": "code",
   "execution_count": null,
   "metadata": {
    "collapsed": false,
    "scrolled": true
   },
   "outputs": [],
   "source": [
    "result.get()"
   ]
  },
  {
   "cell_type": "code",
   "execution_count": null,
   "metadata": {
    "collapsed": true
   },
   "outputs": [],
   "source": [
    "import logging"
   ]
  },
  {
   "cell_type": "code",
   "execution_count": null,
   "metadata": {
    "collapsed": false
   },
   "outputs": [],
   "source": [
    "logging.StreamHandler"
   ]
  }
 ],
 "metadata": {
  "kernelspec": {
   "display_name": "Python 2",
   "language": "python",
   "name": "python2"
  },
  "language_info": {
   "codemirror_mode": {
    "name": "ipython",
    "version": 2
   },
   "file_extension": ".py",
   "mimetype": "text/x-python",
   "name": "python",
   "nbconvert_exporter": "python",
   "pygments_lexer": "ipython2",
   "version": "2.7.10"
  }
 },
 "nbformat": 4,
 "nbformat_minor": 0
}
