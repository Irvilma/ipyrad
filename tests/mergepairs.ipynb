{
 "cells": [
  {
   "cell_type": "markdown",
   "metadata": {},
   "source": [
    "### Testing vsearch mergepairs options"
   ]
  },
  {
   "cell_type": "code",
   "execution_count": 1,
   "metadata": {
    "collapsed": false
   },
   "outputs": [
    {
     "name": "stdout",
     "output_type": "stream",
     "text": [
      "0.1.19\n"
     ]
    }
   ],
   "source": [
    "import ipyrad as ip\n",
    "print ip.__version__"
   ]
  },
  {
   "cell_type": "code",
   "execution_count": 3,
   "metadata": {
    "collapsed": false
   },
   "outputs": [
    {
     "name": "stdout",
     "output_type": "stream",
     "text": [
      "  New Assembly: mergetest\n"
     ]
    }
   ],
   "source": [
    "data = ip.Assembly(\"mergetest\")"
   ]
  },
  {
   "cell_type": "code",
   "execution_count": 4,
   "metadata": {
    "collapsed": false,
    "scrolled": false
   },
   "outputs": [
    {
     "name": "stdout",
     "output_type": "stream",
     "text": [
      "  1   working_directory           .                                            \n",
      "  2   raw_fastq_path              ./*.fastq                                    \n",
      "  3   barcodes_path               ./*.barcodes.txt                             \n",
      "  4   sorted_fastq_path                                                        \n",
      "  5   assembly_method             denovo                                       \n",
      "  6   reference_sequence                                                       \n",
      "  7   datatype                    rad                                          \n",
      "  8   restriction_overhang        ('TGCAG', '')                                \n",
      "  9   max_low_qual_bases          5                                            \n",
      "  10  phred_Qscore_offset         33                                           \n",
      "  11  mindepth_statistical        6                                            \n",
      "  12  mindepth_majrule            6                                            \n",
      "  13  maxdepth                    1000                                         \n",
      "  14  clust_threshold             0.85                                         \n",
      "  15  max_barcode_mismatch        1                                            \n",
      "  16  filter_adapters             0                                            \n",
      "  17  filter_min_trim_len         35                                           \n",
      "  18  max_alleles_consens         2                                            \n",
      "  19  max_Ns_consens              (5, 5)                                       \n",
      "  20  max_Hs_consens              (8, 8)                                       \n",
      "  21  min_samples_locus           4                                            \n",
      "  22  max_SNPs_locus              (100, 100)                                   \n",
      "  23  max_Indels_locus            (5, 99)                                      \n",
      "  24  max_shared_Hs_locus         0.25                                         \n",
      "  25  edit_cutsites               (0, 0)                                       \n",
      "  26  trim_overhang               (1, 2, 2, 1)                                 \n",
      "  27  output_formats              *                                            \n",
      "  28  pop_assign_file                                                          \n",
      "  29  excludes                                                                 \n",
      "  30  outgroups                                                                \n"
     ]
    }
   ],
   "source": [
    "data.get_params()"
   ]
  },
  {
   "cell_type": "code",
   "execution_count": 9,
   "metadata": {
    "collapsed": true
   },
   "outputs": [],
   "source": [
    "data.dirs.edits = \"mergetest\"\n",
    "import os\n",
    "os.mkdir(data.dirs.edits)"
   ]
  },
  {
   "cell_type": "code",
   "execution_count": 10,
   "metadata": {
    "collapsed": false
   },
   "outputs": [],
   "source": [
    "sample = ip.core.sample.Sample('merge')"
   ]
  },
  {
   "cell_type": "code",
   "execution_count": 17,
   "metadata": {
    "collapsed": false
   },
   "outputs": [],
   "source": [
    "sample.files.edits = (\"merge_R1_.fastq\", \"merge_R2_.fastq\")\n",
    "sample.files.edits = [(\"merge_R1_.fastq\", \"merge_revcomp_R2_.fastq\")]\n"
   ]
  },
  {
   "cell_type": "code",
   "execution_count": 27,
   "metadata": {
    "collapsed": false
   },
   "outputs": [],
   "source": [
    "import os\n",
    "import subprocess\n",
    "\n",
    "def merge_fastq_pairs(data, sample):\n",
    "    \"\"\" Merge paired fastq reads. \"\"\"\n",
    "    cmd = data.bins.vsearch \\\n",
    "         +\" --fastq_mergepairs \"+sample.files.edits[0][0] \\\n",
    "         +\" --reverse \"+sample.files.edits[0][1] \\\n",
    "         +\" --fastaout \"+os.path.join(data.dirs.edits, sample.name+\".merge\") \\\n",
    "         +\" --fastaout_notmerged_fwd \"+os.path.join(data.dirs.edits, sample.name+\".R1.notmerge\") \\\n",
    "         +\" --fastaout_notmerged_rev \"+os.path.join(data.dirs.edits, sample.name+\".R2.notmerge\") \\\n",
    "         +\" --fastq_allowmergestagger\" \\\n",
    "         +\" --fastq_maxdiffs \"+str(4) \\\n",
    "         +\" --fastq_maxns \"+str(data.paramsdict[\"max_low_qual_bases\"]) \\\n",
    "         +\" --fastq_minlen \"+str(32) \n",
    "    print cmd\n",
    "    subprocess.check_output(cmd, shell=True)\n"
   ]
  },
  {
   "cell_type": "code",
   "execution_count": 28,
   "metadata": {
    "collapsed": false
   },
   "outputs": [
    {
     "name": "stdout",
     "output_type": "stream",
     "text": [
      "\u001b[0m\u001b[01;34mdata\u001b[0m/                    \u001b[01;34mmergetest\u001b[0m/            \u001b[01;34mtestrad\u001b[0m/\r\n",
      "data1_results.tex        numba_test.ipynb      \u001b[01;34mtest_rad\u001b[0m/\r\n",
      "dstats.ipynb             params.txt            test_rad.ipynb\r\n",
      "ipyrad_test.assembly     quickguide_API.ipynb  \u001b[01;34mtest_refseq\u001b[0m/\r\n",
      "ipytesting.ipynb         \u001b[01;34mtest_clust_0.85\u001b[0m/      test_refseq.ipynb\r\n",
      "mergepairs.ipynb         \u001b[01;34mtest_pairddrad\u001b[0m/       Untitled1.ipynb\r\n",
      "merge_R1_.fastq          test_pairddrad.ipynb  Untitled.ipynb\r\n",
      "merge_R2_.fastq          \u001b[01;34mtest_pairgbs\u001b[0m/         untitled.txt\r\n",
      "merge_revcomp_R2_.fastq  test_pairgbs.ipynb\r\n"
     ]
    }
   ],
   "source": [
    "ls"
   ]
  },
  {
   "cell_type": "code",
   "execution_count": 29,
   "metadata": {
    "collapsed": false
   },
   "outputs": [
    {
     "name": "stdout",
     "output_type": "stream",
     "text": [
      "/home/deren/Documents/ipyrad/bin/vsearch-linux-x86_64 --fastq_mergepairs merge_R1_.fastq --reverse merge_revcomp_R2_.fastq --fastaout mergetest/merge.merge --fastaout_notmerged_fwd mergetest/merge.R1.notmerge --fastaout_notmerged_rev mergetest/merge.R2.notmerge --fastq_allowmergestagger --fastq_maxdiffs 4 --fastq_maxns 5 --fastq_minlen 32\n"
     ]
    },
    {
     "ename": "CalledProcessError",
     "evalue": "Command '/home/deren/Documents/ipyrad/bin/vsearch-linux-x86_64 --fastq_mergepairs merge_R1_.fastq --reverse merge_revcomp_R2_.fastq --fastaout mergetest/merge.merge --fastaout_notmerged_fwd mergetest/merge.R1.notmerge --fastaout_notmerged_rev mergetest/merge.R2.notmerge --fastq_allowmergestagger --fastq_maxdiffs 4 --fastq_maxns 5 --fastq_minlen 32' returned non-zero exit status 1",
     "output_type": "error",
     "traceback": [
      "\u001b[1;31m---------------------------------------------------------------------------\u001b[0m",
      "\u001b[1;31mCalledProcessError\u001b[0m                        Traceback (most recent call last)",
      "\u001b[1;32m<ipython-input-29-0b0c3cc826fd>\u001b[0m in \u001b[0;36m<module>\u001b[1;34m()\u001b[0m\n\u001b[1;32m----> 1\u001b[1;33m \u001b[0mmerge_fastq_pairs\u001b[0m\u001b[1;33m(\u001b[0m\u001b[0mdata\u001b[0m\u001b[1;33m,\u001b[0m \u001b[0msample\u001b[0m\u001b[1;33m)\u001b[0m\u001b[1;33m\u001b[0m\u001b[0m\n\u001b[0m",
      "\u001b[1;32m<ipython-input-27-73b943e1886d>\u001b[0m in \u001b[0;36mmerge_fastq_pairs\u001b[1;34m(data, sample)\u001b[0m\n\u001b[0;32m      6\u001b[0m     \u001b[0mcmd\u001b[0m \u001b[1;33m=\u001b[0m \u001b[0mdata\u001b[0m\u001b[1;33m.\u001b[0m\u001b[0mbins\u001b[0m\u001b[1;33m.\u001b[0m\u001b[0mvsearch\u001b[0m          \u001b[1;33m+\u001b[0m\u001b[1;34m\" --fastq_mergepairs \"\u001b[0m\u001b[1;33m+\u001b[0m\u001b[0msample\u001b[0m\u001b[1;33m.\u001b[0m\u001b[0mfiles\u001b[0m\u001b[1;33m.\u001b[0m\u001b[0medits\u001b[0m\u001b[1;33m[\u001b[0m\u001b[1;36m0\u001b[0m\u001b[1;33m]\u001b[0m\u001b[1;33m[\u001b[0m\u001b[1;36m0\u001b[0m\u001b[1;33m]\u001b[0m          \u001b[1;33m+\u001b[0m\u001b[1;34m\" --reverse \"\u001b[0m\u001b[1;33m+\u001b[0m\u001b[0msample\u001b[0m\u001b[1;33m.\u001b[0m\u001b[0mfiles\u001b[0m\u001b[1;33m.\u001b[0m\u001b[0medits\u001b[0m\u001b[1;33m[\u001b[0m\u001b[1;36m0\u001b[0m\u001b[1;33m]\u001b[0m\u001b[1;33m[\u001b[0m\u001b[1;36m1\u001b[0m\u001b[1;33m]\u001b[0m          \u001b[1;33m+\u001b[0m\u001b[1;34m\" --fastaout \"\u001b[0m\u001b[1;33m+\u001b[0m\u001b[0mos\u001b[0m\u001b[1;33m.\u001b[0m\u001b[0mpath\u001b[0m\u001b[1;33m.\u001b[0m\u001b[0mjoin\u001b[0m\u001b[1;33m(\u001b[0m\u001b[0mdata\u001b[0m\u001b[1;33m.\u001b[0m\u001b[0mdirs\u001b[0m\u001b[1;33m.\u001b[0m\u001b[0medits\u001b[0m\u001b[1;33m,\u001b[0m \u001b[0msample\u001b[0m\u001b[1;33m.\u001b[0m\u001b[0mname\u001b[0m\u001b[1;33m+\u001b[0m\u001b[1;34m\".merge\"\u001b[0m\u001b[1;33m)\u001b[0m          \u001b[1;33m+\u001b[0m\u001b[1;34m\" --fastaout_notmerged_fwd \"\u001b[0m\u001b[1;33m+\u001b[0m\u001b[0mos\u001b[0m\u001b[1;33m.\u001b[0m\u001b[0mpath\u001b[0m\u001b[1;33m.\u001b[0m\u001b[0mjoin\u001b[0m\u001b[1;33m(\u001b[0m\u001b[0mdata\u001b[0m\u001b[1;33m.\u001b[0m\u001b[0mdirs\u001b[0m\u001b[1;33m.\u001b[0m\u001b[0medits\u001b[0m\u001b[1;33m,\u001b[0m \u001b[0msample\u001b[0m\u001b[1;33m.\u001b[0m\u001b[0mname\u001b[0m\u001b[1;33m+\u001b[0m\u001b[1;34m\".R1.notmerge\"\u001b[0m\u001b[1;33m)\u001b[0m          \u001b[1;33m+\u001b[0m\u001b[1;34m\" --fastaout_notmerged_rev \"\u001b[0m\u001b[1;33m+\u001b[0m\u001b[0mos\u001b[0m\u001b[1;33m.\u001b[0m\u001b[0mpath\u001b[0m\u001b[1;33m.\u001b[0m\u001b[0mjoin\u001b[0m\u001b[1;33m(\u001b[0m\u001b[0mdata\u001b[0m\u001b[1;33m.\u001b[0m\u001b[0mdirs\u001b[0m\u001b[1;33m.\u001b[0m\u001b[0medits\u001b[0m\u001b[1;33m,\u001b[0m \u001b[0msample\u001b[0m\u001b[1;33m.\u001b[0m\u001b[0mname\u001b[0m\u001b[1;33m+\u001b[0m\u001b[1;34m\".R2.notmerge\"\u001b[0m\u001b[1;33m)\u001b[0m          \u001b[1;33m+\u001b[0m\u001b[1;34m\" --fastq_allowmergestagger\"\u001b[0m          \u001b[1;33m+\u001b[0m\u001b[1;34m\" --fastq_maxdiffs \"\u001b[0m\u001b[1;33m+\u001b[0m\u001b[0mstr\u001b[0m\u001b[1;33m(\u001b[0m\u001b[1;36m4\u001b[0m\u001b[1;33m)\u001b[0m          \u001b[1;33m+\u001b[0m\u001b[1;34m\" --fastq_maxns \"\u001b[0m\u001b[1;33m+\u001b[0m\u001b[0mstr\u001b[0m\u001b[1;33m(\u001b[0m\u001b[0mdata\u001b[0m\u001b[1;33m.\u001b[0m\u001b[0mparamsdict\u001b[0m\u001b[1;33m[\u001b[0m\u001b[1;34m\"max_low_qual_bases\"\u001b[0m\u001b[1;33m]\u001b[0m\u001b[1;33m)\u001b[0m          \u001b[1;33m+\u001b[0m\u001b[1;34m\" --fastq_minlen \"\u001b[0m\u001b[1;33m+\u001b[0m\u001b[0mstr\u001b[0m\u001b[1;33m(\u001b[0m\u001b[1;36m32\u001b[0m\u001b[1;33m)\u001b[0m\u001b[1;33m\u001b[0m\u001b[0m\n\u001b[0;32m      7\u001b[0m     \u001b[1;32mprint\u001b[0m \u001b[0mcmd\u001b[0m\u001b[1;33m\u001b[0m\u001b[0m\n\u001b[1;32m----> 8\u001b[1;33m     \u001b[0msubprocess\u001b[0m\u001b[1;33m.\u001b[0m\u001b[0mcheck_output\u001b[0m\u001b[1;33m(\u001b[0m\u001b[0mcmd\u001b[0m\u001b[1;33m,\u001b[0m \u001b[0mshell\u001b[0m\u001b[1;33m=\u001b[0m\u001b[0mTrue\u001b[0m\u001b[1;33m)\u001b[0m\u001b[1;33m\u001b[0m\u001b[0m\n\u001b[0m",
      "\u001b[1;32m/home/deren/anaconda/lib/python2.7/subprocess.pyc\u001b[0m in \u001b[0;36mcheck_output\u001b[1;34m(*popenargs, **kwargs)\u001b[0m\n\u001b[0;32m    571\u001b[0m         \u001b[1;32mif\u001b[0m \u001b[0mcmd\u001b[0m \u001b[1;32mis\u001b[0m \u001b[0mNone\u001b[0m\u001b[1;33m:\u001b[0m\u001b[1;33m\u001b[0m\u001b[0m\n\u001b[0;32m    572\u001b[0m             \u001b[0mcmd\u001b[0m \u001b[1;33m=\u001b[0m \u001b[0mpopenargs\u001b[0m\u001b[1;33m[\u001b[0m\u001b[1;36m0\u001b[0m\u001b[1;33m]\u001b[0m\u001b[1;33m\u001b[0m\u001b[0m\n\u001b[1;32m--> 573\u001b[1;33m         \u001b[1;32mraise\u001b[0m \u001b[0mCalledProcessError\u001b[0m\u001b[1;33m(\u001b[0m\u001b[0mretcode\u001b[0m\u001b[1;33m,\u001b[0m \u001b[0mcmd\u001b[0m\u001b[1;33m,\u001b[0m \u001b[0moutput\u001b[0m\u001b[1;33m=\u001b[0m\u001b[0moutput\u001b[0m\u001b[1;33m)\u001b[0m\u001b[1;33m\u001b[0m\u001b[0m\n\u001b[0m\u001b[0;32m    574\u001b[0m     \u001b[1;32mreturn\u001b[0m \u001b[0moutput\u001b[0m\u001b[1;33m\u001b[0m\u001b[0m\n\u001b[0;32m    575\u001b[0m \u001b[1;33m\u001b[0m\u001b[0m\n",
      "\u001b[1;31mCalledProcessError\u001b[0m: Command '/home/deren/Documents/ipyrad/bin/vsearch-linux-x86_64 --fastq_mergepairs merge_R1_.fastq --reverse merge_revcomp_R2_.fastq --fastaout mergetest/merge.merge --fastaout_notmerged_fwd mergetest/merge.R1.notmerge --fastaout_notmerged_rev mergetest/merge.R2.notmerge --fastq_allowmergestagger --fastq_maxdiffs 4 --fastq_maxns 5 --fastq_minlen 32' returned non-zero exit status 1"
     ]
    }
   ],
   "source": [
    "merge_fastq_pairs(data, sample)"
   ]
  },
  {
   "cell_type": "code",
   "execution_count": 1,
   "metadata": {
    "collapsed": true
   },
   "outputs": [],
   "source": [
    "import ipyrad as ip\n",
    "data = ip.load.load_assembly(\"test_rad/data1.assembly\")\n",
    "samples = data.samples\n",
    "chunk = \"test_rad/data1_c"
   ]
  },
  {
   "cell_type": "code",
   "execution_count": null,
   "metadata": {
    "collapsed": true
   },
   "outputs": [],
   "source": [
    "def muscle_align_across(args):\n",
    "    \"\"\" aligns reads, does split then aligning for paired reads \"\"\"\n",
    "    ## parse args\n",
    "    data, samples, chunk = args\n",
    "    snames = [sample.name for sample in samples]\n",
    "\n",
    "    ## data are already chunked, read in the whole thing\n",
    "    infile = open(chunk, 'rb')\n",
    "    clusts = infile.read().split(\"//\\n//\\n\")[:-1]\n",
    "    out = []\n",
    "\n",
    "    ## array to store indel information (not being used yet!)\n",
    "    maxlen = data._hackersonly[\"max_fragment_length\"]\n",
    "    if 'pair' in data.paramsdict[\"datatype\"]:\n",
    "        maxlen *= 2\n",
    "    indels = np.zeros((len(clusts), len(samples), maxlen), dtype=np.int8)\n",
    "\n",
    "    ## iterate over clusters and align\n",
    "    loc = 0\n",
    "    for loc, clust in enumerate(clusts):\n",
    "        stack = []\n",
    "        lines = clust.strip().split(\"\\n\")\n",
    "        names = [i.split()[0][1:] for i in lines]\n",
    "        seqs = [i.split()[1] for i in lines]\n",
    "\n",
    "        ## append counter to end of names b/c muscle doesn't retain order\n",
    "        names = [j+\";*\"+str(i) for i, j in enumerate(names)]\n",
    "\n",
    "        ## don't bother aligning singletons\n",
    "        if len(names) <= 1:\n",
    "            if names:\n",
    "                stack = [names[0]+\"\\n\"+seqs[0]]\n",
    "        else:\n",
    "            ## split seqs before align if PE. If 'ssss' not found (single end \n",
    "            ## or merged reads) then `except` will pass it to SE alignment. \n",
    "            try:\n",
    "                seqs1 = [i.split(\"nnnn\")[0] for i in seqs] \n",
    "                seqs2 = [i.split(\"nnnn\")[1] for i in seqs]\n",
    "\n",
    "                string1 = muscle_call(data, names[:200], seqs1[:200])\n",
    "                string2 = muscle_call(data, names[:200], seqs2[:200])\n",
    "                anames, aseqs1 = parsemuscle(string1)\n",
    "                anames, aseqs2 = parsemuscle(string2)\n",
    "\n",
    "                ## resort so they're in same order\n",
    "                aseqs = [i+\"nnnn\"+j for i, j in zip(aseqs1, aseqs2)]\n",
    "                somedic = OrderedDict()\n",
    "                for i in range(len(anames)):\n",
    "                    somedic[anames[i].rsplit(';', 1)[0]] = aseqs[i]\n",
    "                    locinds = np.array(aseqs[i] == \"-\", dtype=np.int32)\n",
    "                    ## store the indels\n",
    "                    indels[loc][snames.index(anames[i]\\\n",
    "                                .rsplit(\"_\", 1)[0])][:maxlen] = locinds\n",
    "            except IndexError:\n",
    "                string1 = muscle_call(data, names[:200], seqs[:200])\n",
    "                anames, aseqs = parsemuscle(string1)\n",
    "                somedic = OrderedDict()\n",
    "                for i in range(len(anames)):\n",
    "                    somedic[anames[i].rsplit(\";\", 1)[0]] = aseqs[i]\n",
    "                    locinds = np.array(aseqs[i] == \"-\", dtype=np.int32)\n",
    "                    ## store the indels\n",
    "                    indels[loc][snames.index(anames[i]\\\n",
    "                                .rsplit(\"_\", 1)[0])][:maxlen] = locinds\n",
    "\n",
    "            for key in somedic.iterkeys():\n",
    "                stack.append(key+\"\\n\"+somedic[key])\n",
    "\n",
    "        if stack:\n",
    "            out.append(\"\\n\".join(stack))\n",
    "\n",
    "    ## write to file after\n",
    "    infile.close()\n",
    "    outfile = open(chunk, 'wb')#+\"_tmpout_\"+str(num))\n",
    "    outfile.write(\"\\n//\\n//\\n\".join(out)+\"\\n\")#//\\n//\\n\")\n",
    "    outfile.close()\n",
    "\n",
    "    return chunk, indels, loc+1"
   ]
  },
  {
   "cell_type": "code",
   "execution_count": null,
   "metadata": {
    "collapsed": true
   },
   "outputs": [],
   "source": []
  },
  {
   "cell_type": "code",
   "execution_count": 2,
   "metadata": {
    "collapsed": false
   },
   "outputs": [
    {
     "name": "stderr",
     "output_type": "stream",
     "text": [
      "DEBUG:ipyrad:H4CKERZ-mode: __loglevel__ = DEBUG\n"
     ]
    }
   ],
   "source": [
    "import numpy as np\n",
    "import h5py\n",
    "import ipyrad as ip"
   ]
  },
  {
   "cell_type": "code",
   "execution_count": 7,
   "metadata": {
    "collapsed": false
   },
   "outputs": [
    {
     "name": "stdout",
     "output_type": "stream",
     "text": [
      "  loading Assembly: data1 [test_rad/data1.assembly]\n"
     ]
    }
   ],
   "source": [
    "data1 = ip.load.load_assembly(\"test_rad/data1.assembly\")\n",
    "sample = data1.samples[\"1A_0\"]"
   ]
  },
  {
   "cell_type": "code",
   "execution_count": 15,
   "metadata": {
    "collapsed": false
   },
   "outputs": [],
   "source": [
    "old_h5 = h5py.File(sample.files.database, 'r')\n",
    "old_h5.keys()\n",
    "catarr = old_h5[\"catg\"]"
   ]
  },
  {
   "cell_type": "code",
   "execution_count": 17,
   "metadata": {
    "collapsed": false
   },
   "outputs": [
    {
     "data": {
      "text/plain": [
       "array([[ 0,  0, 19,  0],\n",
       "       [ 0,  0,  0, 19],\n",
       "       [19,  0,  0,  0],\n",
       "       [ 0, 19,  0,  0],\n",
       "       [ 0,  0,  0, 19],\n",
       "       [ 0,  0,  0, 19],\n",
       "       [19,  0,  0,  0],\n",
       "       [ 0,  0,  0, 19],\n",
       "       [ 0, 19,  0,  0],\n",
       "       [ 0,  0,  0, 19],\n",
       "       [ 0,  0, 19,  0],\n",
       "       [19,  0,  0,  0],\n",
       "       [ 0,  0, 19,  0],\n",
       "       [ 0, 19,  0,  0],\n",
       "       [ 0,  0, 19,  0],\n",
       "       [19,  0,  0,  0],\n",
       "       [ 0,  0, 19,  0],\n",
       "       [ 0, 19,  0,  0],\n",
       "       [ 0,  0,  0, 19],\n",
       "       [ 0,  0, 19,  0],\n",
       "       [ 0,  0,  0, 19],\n",
       "       [ 0,  0,  0, 19],\n",
       "       [19,  0,  0,  0],\n",
       "       [19,  0,  0,  0],\n",
       "       [ 0, 19,  0,  0],\n",
       "       [ 0,  0, 19,  0],\n",
       "       [ 0,  0,  0, 19],\n",
       "       [ 0, 19,  0,  0],\n",
       "       [ 0,  0, 19,  0],\n",
       "       [ 0,  0, 19,  0],\n",
       "       [19,  0,  0,  0],\n",
       "       [ 0,  0, 19,  0],\n",
       "       [19,  0,  0,  0],\n",
       "       [ 0,  0,  0, 19],\n",
       "       [ 0,  0, 19,  0],\n",
       "       [ 0, 19,  0,  0],\n",
       "       [ 0,  0, 19,  0],\n",
       "       [ 0,  0, 19,  0],\n",
       "       [ 0,  0,  0, 19],\n",
       "       [ 0,  0,  0, 19],\n",
       "       [ 0, 19,  0,  0],\n",
       "       [ 0,  0,  0, 19],\n",
       "       [ 0, 19,  0,  0],\n",
       "       [ 0,  0,  0, 19],\n",
       "       [ 0, 19,  0,  0],\n",
       "       [ 0,  0, 19,  0],\n",
       "       [ 0, 19,  0,  0],\n",
       "       [ 0, 19,  0,  0],\n",
       "       [19,  0,  0,  0],\n",
       "       [ 0,  0, 19,  0],\n",
       "       [ 0, 19,  0,  0],\n",
       "       [ 0, 19,  0,  0],\n",
       "       [ 0,  0, 19,  0],\n",
       "       [ 0,  0, 19,  0],\n",
       "       [19,  0,  0,  0],\n",
       "       [ 0,  0,  0, 19],\n",
       "       [ 0,  0, 19,  0],\n",
       "       [ 0,  0, 19,  0],\n",
       "       [19,  0,  0,  0],\n",
       "       [19,  0,  0,  0],\n",
       "       [ 0, 19,  0,  0],\n",
       "       [19,  0,  0,  0],\n",
       "       [19,  0,  0,  0],\n",
       "       [19,  0,  0,  0],\n",
       "       [ 0, 19,  0,  0],\n",
       "       [ 0,  0,  0, 19],\n",
       "       [ 0, 19,  0,  0],\n",
       "       [ 0,  0, 19,  0],\n",
       "       [ 0,  0, 19,  0],\n",
       "       [19,  0,  0,  0],\n",
       "       [19,  0,  0,  0],\n",
       "       [ 0,  0,  0, 19],\n",
       "       [ 0, 19,  0,  0],\n",
       "       [ 0,  0,  0, 19],\n",
       "       [19,  0,  0,  0],\n",
       "       [ 0,  0,  0, 19],\n",
       "       [ 0,  0,  0, 19],\n",
       "       [ 0, 19,  0,  0],\n",
       "       [19,  0,  0,  0],\n",
       "       [19,  0,  0,  0],\n",
       "       [19,  0,  0,  0],\n",
       "       [ 0,  0,  0, 19],\n",
       "       [ 0,  0,  0, 19],\n",
       "       [ 0, 19,  0,  0],\n",
       "       [ 0,  0,  0, 19],\n",
       "       [ 0,  0, 19,  0],\n",
       "       [ 0,  0, 19,  0],\n",
       "       [ 0,  0,  0, 19],\n",
       "       [ 0, 19,  0,  0],\n",
       "       [ 0,  0,  0, 19],\n",
       "       [19,  0,  0,  0],\n",
       "       [19,  0,  0,  0],\n",
       "       [ 0,  0,  0, 19],\n",
       "       [ 0, 19,  0,  0],\n",
       "       [ 0,  0,  0,  0],\n",
       "       [ 0,  0,  0,  0],\n",
       "       [ 0,  0,  0,  0],\n",
       "       [ 0,  0,  0,  0],\n",
       "       [ 0,  0,  0,  0],\n",
       "       [ 0,  0,  0,  0],\n",
       "       [ 0,  0,  0,  0],\n",
       "       [ 0,  0,  0,  0],\n",
       "       [ 0,  0,  0,  0],\n",
       "       [ 0,  0,  0,  0],\n",
       "       [ 0,  0,  0,  0],\n",
       "       [ 0,  0,  0,  0],\n",
       "       [ 0,  0,  0,  0],\n",
       "       [ 0,  0,  0,  0],\n",
       "       [ 0,  0,  0,  0],\n",
       "       [ 0,  0,  0,  0],\n",
       "       [ 0,  0,  0,  0],\n",
       "       [ 0,  0,  0,  0],\n",
       "       [ 0,  0,  0,  0],\n",
       "       [ 0,  0,  0,  0],\n",
       "       [ 0,  0,  0,  0],\n",
       "       [ 0,  0,  0,  0],\n",
       "       [ 0,  0,  0,  0],\n",
       "       [ 0,  0,  0,  0],\n",
       "       [ 0,  0,  0,  0],\n",
       "       [ 0,  0,  0,  0],\n",
       "       [ 0,  0,  0,  0],\n",
       "       [ 0,  0,  0,  0],\n",
       "       [ 0,  0,  0,  0],\n",
       "       [ 0,  0,  0,  0],\n",
       "       [ 0,  0,  0,  0],\n",
       "       [ 0,  0,  0,  0],\n",
       "       [ 0,  0,  0,  0],\n",
       "       [ 0,  0,  0,  0],\n",
       "       [ 0,  0,  0,  0],\n",
       "       [ 0,  0,  0,  0],\n",
       "       [ 0,  0,  0,  0],\n",
       "       [ 0,  0,  0,  0],\n",
       "       [ 0,  0,  0,  0],\n",
       "       [ 0,  0,  0,  0],\n",
       "       [ 0,  0,  0,  0],\n",
       "       [ 0,  0,  0,  0],\n",
       "       [ 0,  0,  0,  0],\n",
       "       [ 0,  0,  0,  0],\n",
       "       [ 0,  0,  0,  0],\n",
       "       [ 0,  0,  0,  0],\n",
       "       [ 0,  0,  0,  0],\n",
       "       [ 0,  0,  0,  0],\n",
       "       [ 0,  0,  0,  0],\n",
       "       [ 0,  0,  0,  0],\n",
       "       [ 0,  0,  0,  0],\n",
       "       [ 0,  0,  0,  0],\n",
       "       [ 0,  0,  0,  0],\n",
       "       [ 0,  0,  0,  0],\n",
       "       [ 0,  0,  0,  0],\n",
       "       [ 0,  0,  0,  0]], dtype=uint32)"
      ]
     },
     "execution_count": 17,
     "metadata": {},
     "output_type": "execute_result"
    }
   ],
   "source": [
    "catarr[0]"
   ]
  },
  {
   "cell_type": "markdown",
   "metadata": {},
   "source": [
    "### individual catg array"
   ]
  },
  {
   "cell_type": "code",
   "execution_count": 28,
   "metadata": {
    "collapsed": false
   },
   "outputs": [
    {
     "name": "stdout",
     "output_type": "stream",
     "text": [
      "[u'1A0']\n"
     ]
    }
   ],
   "source": [
    "io_one = \"/home/deren/Documents/ipyrad/tests/test_pairgbs/test_pairgbs_consens/1A0.hdf5\"\n",
    "one = h5py.File(io_one, 'r')\n",
    "print one.keys()"
   ]
  },
  {
   "cell_type": "code",
   "execution_count": 9,
   "metadata": {
    "collapsed": false
   },
   "outputs": [
    {
     "name": "stdout",
     "output_type": "stream",
     "text": [
      "[u'1A_0']\n"
     ]
    }
   ],
   "source": [
    "io_one = \"/home/deren/Documents/ipyrad/tests/test_rad/data1_consens/1A_0.hdf5\"\n",
    "#io_one = \"/home/deren/Documents/ipyrad/tests/test_rad/data1_consens/1A_0.catg\"\n",
    "\n",
    "one = h5py.File(io_one, 'r')\n",
    "print one.keys()"
   ]
  },
  {
   "cell_type": "code",
   "execution_count": 5,
   "metadata": {
    "collapsed": false
   },
   "outputs": [
    {
     "name": "stdout",
     "output_type": "stream",
     "text": [
      "[[ 0  0 19  0]\n",
      " [ 0  0  0 19]\n",
      " [19  0  0  0]\n",
      " [ 0 19  0  0]\n",
      " [ 0  0  0 19]\n",
      " [ 0  0  0 19]\n",
      " [19  0  0  0]\n",
      " [ 0  0  0 19]\n",
      " [ 0 19  0  0]\n",
      " [ 0  0  0 19]]\n"
     ]
    }
   ],
   "source": [
    "dat = one[\"catg\"]\n",
    "print dat[0][:10]\n",
    "one.close()"
   ]
  },
  {
   "cell_type": "code",
   "execution_count": 10,
   "metadata": {
    "collapsed": false,
    "scrolled": true
   },
   "outputs": [
    {
     "name": "stdout",
     "output_type": "stream",
     "text": [
      "[[0 0 0 0]\n",
      " [0 0 0 0]\n",
      " [0 0 0 0]\n",
      " [0 0 0 0]\n",
      " [0 0 0 0]\n",
      " [0 0 0 0]\n",
      " [0 0 0 0]\n",
      " [0 0 0 0]\n",
      " [0 0 0 0]\n",
      " [0 0 0 0]]\n"
     ]
    }
   ],
   "source": [
    "dat = one[\"1A_0\"]\n",
    "print dat[0][:10]\n",
    "one.close()"
   ]
  },
  {
   "cell_type": "code",
   "execution_count": 31,
   "metadata": {
    "collapsed": false
   },
   "outputs": [
    {
     "name": "stdout",
     "output_type": "stream",
     "text": [
      "[u'catgs', u'edges', u'filters', u'seqs']\n",
      "<HDF5 file \"test_pairgbs.hdf5\" (mode r)>\n"
     ]
    }
   ],
   "source": [
    "## \n",
    "h5 = \"/home/deren/Documents/ipyrad/tests/test_pairgbs/test_pairgbs_consens/test_pairgbs.hdf5\"\n",
    "io5 = h5py.File(h5, 'r')\n",
    "print io5.keys()\n",
    "print io5"
   ]
  },
  {
   "cell_type": "code",
   "execution_count": 2,
   "metadata": {
    "collapsed": false
   },
   "outputs": [
    {
     "name": "stdout",
     "output_type": "stream",
     "text": [
      "[u'catgs', u'edges', u'filters', u'seqs']\n",
      "<HDF5 file \"data1.hdf5\" (mode r)>\n"
     ]
    }
   ],
   "source": [
    "## \n",
    "h5 = \"/home/deren/Documents/ipyrad/tests/test_rad/data1_consens/data1.hdf5\"\n",
    "io5 = h5py.File(h5, 'r')\n",
    "print io5.keys()\n",
    "print io5"
   ]
  },
  {
   "cell_type": "code",
   "execution_count": 3,
   "metadata": {
    "collapsed": false
   },
   "outputs": [
    {
     "data": {
      "text/plain": [
       "array([[[ 0,  0,  0,  0],\n",
       "        [ 0,  0,  0,  0],\n",
       "        [ 0,  0,  0,  0],\n",
       "        [ 0,  0,  0,  0],\n",
       "        [ 0,  0,  0,  0],\n",
       "        [ 0,  0,  0,  0],\n",
       "        [ 0,  0,  0,  0],\n",
       "        [ 0,  0,  0,  0],\n",
       "        [ 0,  0,  0,  0],\n",
       "        [ 0,  0,  0,  0]],\n",
       "\n",
       "       [[ 0,  0,  0,  0],\n",
       "        [ 0,  0,  0,  0],\n",
       "        [ 0,  0,  0,  0],\n",
       "        [ 0,  0,  0,  0],\n",
       "        [ 0,  0,  0,  0],\n",
       "        [ 0,  0,  0,  0],\n",
       "        [ 0,  0,  0,  0],\n",
       "        [ 0,  0,  0,  0],\n",
       "        [ 0,  0,  0,  0],\n",
       "        [ 0,  0,  0,  0]],\n",
       "\n",
       "       [[ 0,  0,  0,  0],\n",
       "        [ 0,  0,  0,  0],\n",
       "        [ 0,  0,  0,  0],\n",
       "        [ 0,  0,  0,  0],\n",
       "        [ 0,  0,  0,  0],\n",
       "        [ 0,  0,  0,  0],\n",
       "        [ 0,  0,  0,  0],\n",
       "        [ 0,  0,  0,  0],\n",
       "        [ 0,  0,  0,  0],\n",
       "        [ 0,  0,  0,  0]],\n",
       "\n",
       "       [[ 0,  0,  0,  0],\n",
       "        [ 0,  0,  0,  0],\n",
       "        [ 0,  0,  0,  0],\n",
       "        [ 0,  0,  0,  0],\n",
       "        [ 0,  0,  0,  0],\n",
       "        [ 0,  0,  0,  0],\n",
       "        [ 0,  0,  0,  0],\n",
       "        [ 0,  0,  0,  0],\n",
       "        [ 0,  0,  0,  0],\n",
       "        [ 0,  0,  0,  0]],\n",
       "\n",
       "       [[ 0,  0,  0,  0],\n",
       "        [ 0,  0,  0,  0],\n",
       "        [ 0,  0,  0,  0],\n",
       "        [ 0,  0,  0,  0],\n",
       "        [ 0,  0,  0,  0],\n",
       "        [ 0,  0,  0,  0],\n",
       "        [ 0,  0,  0,  0],\n",
       "        [ 0,  0,  0,  0],\n",
       "        [ 0,  0,  0,  0],\n",
       "        [ 0,  0,  0,  0]],\n",
       "\n",
       "       [[ 0,  0, 23,  0],\n",
       "        [ 0,  0,  0, 23],\n",
       "        [23,  0,  0,  0],\n",
       "        [ 0, 23,  0,  0],\n",
       "        [ 0,  0,  0, 23],\n",
       "        [23,  0,  0,  0],\n",
       "        [23,  0,  0,  0],\n",
       "        [ 0,  0, 23,  0],\n",
       "        [ 0,  0,  0, 23],\n",
       "        [ 0, 23,  0,  0]],\n",
       "\n",
       "       [[ 0,  0,  0,  0],\n",
       "        [ 0,  0,  0,  0],\n",
       "        [ 0,  0,  0,  0],\n",
       "        [ 0,  0,  0,  0],\n",
       "        [ 0,  0,  0,  0],\n",
       "        [ 0,  0,  0,  0],\n",
       "        [ 0,  0,  0,  0],\n",
       "        [ 0,  0,  0,  0],\n",
       "        [ 0,  0,  0,  0],\n",
       "        [ 0,  0,  0,  0]],\n",
       "\n",
       "       [[ 0,  0,  0,  0],\n",
       "        [ 0,  0,  0,  0],\n",
       "        [ 0,  0,  0,  0],\n",
       "        [ 0,  0,  0,  0],\n",
       "        [ 0,  0,  0,  0],\n",
       "        [ 0,  0,  0,  0],\n",
       "        [ 0,  0,  0,  0],\n",
       "        [ 0,  0,  0,  0],\n",
       "        [ 0,  0,  0,  0],\n",
       "        [ 0,  0,  0,  0]],\n",
       "\n",
       "       [[ 0,  0,  0,  0],\n",
       "        [ 0,  0,  0,  0],\n",
       "        [ 0,  0,  0,  0],\n",
       "        [ 0,  0,  0,  0],\n",
       "        [ 0,  0,  0,  0],\n",
       "        [ 0,  0,  0,  0],\n",
       "        [ 0,  0,  0,  0],\n",
       "        [ 0,  0,  0,  0],\n",
       "        [ 0,  0,  0,  0],\n",
       "        [ 0,  0,  0,  0]],\n",
       "\n",
       "       [[ 0,  0,  0,  0],\n",
       "        [ 0,  0,  0,  0],\n",
       "        [ 0,  0,  0,  0],\n",
       "        [ 0,  0,  0,  0],\n",
       "        [ 0,  0,  0,  0],\n",
       "        [ 0,  0,  0,  0],\n",
       "        [ 0,  0,  0,  0],\n",
       "        [ 0,  0,  0,  0],\n",
       "        [ 0,  0,  0,  0],\n",
       "        [ 0,  0,  0,  0]],\n",
       "\n",
       "       [[ 0,  0,  0,  0],\n",
       "        [ 0,  0,  0,  0],\n",
       "        [ 0,  0,  0,  0],\n",
       "        [ 0,  0,  0,  0],\n",
       "        [ 0,  0,  0,  0],\n",
       "        [ 0,  0,  0,  0],\n",
       "        [ 0,  0,  0,  0],\n",
       "        [ 0,  0,  0,  0],\n",
       "        [ 0,  0,  0,  0],\n",
       "        [ 0,  0,  0,  0]],\n",
       "\n",
       "       [[ 0,  0,  0,  0],\n",
       "        [ 0,  0,  0,  0],\n",
       "        [ 0,  0,  0,  0],\n",
       "        [ 0,  0,  0,  0],\n",
       "        [ 0,  0,  0,  0],\n",
       "        [ 0,  0,  0,  0],\n",
       "        [ 0,  0,  0,  0],\n",
       "        [ 0,  0,  0,  0],\n",
       "        [ 0,  0,  0,  0],\n",
       "        [ 0,  0,  0,  0]]], dtype=uint32)"
      ]
     },
     "execution_count": 3,
     "metadata": {},
     "output_type": "execute_result"
    }
   ],
   "source": [
    "io5['catgs'][0, :, :10]"
   ]
  },
  {
   "cell_type": "code",
   "execution_count": 40,
   "metadata": {
    "collapsed": true
   },
   "outputs": [],
   "source": [
    "singlecat = \"/home/deren/Documents/ipyrad/tests/test_pairgbs/test_pairgbs_consens/1A0.catg\"\n",
    "io5 = h5py.File(singlecat, 'r')\n"
   ]
  },
  {
   "cell_type": "code",
   "execution_count": 44,
   "metadata": {
    "collapsed": false
   },
   "outputs": [
    {
     "name": "stdout",
     "output_type": "stream",
     "text": [
      "(200, 300, 4)\n",
      "[[[ 0  0 20  0]\n",
      "  [ 0  0  0 20]\n",
      "  [20  0  0  0]\n",
      "  [ 0 20  0  0]\n",
      "  [ 0  0  0 20]\n",
      "  [19  0  0  1]\n",
      "  [20  0  0  0]\n",
      "  [ 0  0 20  0]\n",
      "  [ 0  0  0 20]\n",
      "  [ 0  0  0 20]]\n",
      "\n",
      " [[ 0  0 20  0]\n",
      "  [ 0  0  0 20]\n",
      "  [20  0  0  0]\n",
      "  [ 0 20  0  0]\n",
      "  [ 0  0  0 20]\n",
      "  [20  0  0  0]\n",
      "  [ 0  0 20  0]\n",
      "  [20  0  0  0]\n",
      "  [ 0  0  0 20]\n",
      "  [20  0  0  0]]\n",
      "\n",
      " [[ 0  0 20  0]\n",
      "  [ 0  0  0 20]\n",
      "  [20  0  0  0]\n",
      "  [ 0 20  0  0]\n",
      "  [ 0  0  0 20]\n",
      "  [ 0  0 20  0]\n",
      "  [ 0  0  0 20]\n",
      "  [ 0  0  0 20]\n",
      "  [ 0  0 20  0]\n",
      "  [ 0  0  0 20]]]\n"
     ]
    }
   ],
   "source": [
    "catgs = io5['catg']\n",
    "print catgs.shape\n",
    "print catgs[0:3, :10, :]"
   ]
  },
  {
   "cell_type": "code",
   "execution_count": 46,
   "metadata": {
    "collapsed": true
   },
   "outputs": [],
   "source": [
    "io5.close()"
   ]
  },
  {
   "cell_type": "code",
   "execution_count": 45,
   "metadata": {
    "collapsed": false
   },
   "outputs": [
    {
     "ename": "KeyError",
     "evalue": "\"Unable to open object (Object 'filters' doesn't exist)\"",
     "output_type": "error",
     "traceback": [
      "\u001b[1;31m---------------------------------------------------------------------------\u001b[0m",
      "\u001b[1;31mKeyError\u001b[0m                                  Traceback (most recent call last)",
      "\u001b[1;32m<ipython-input-45-2855b6399d94>\u001b[0m in \u001b[0;36m<module>\u001b[1;34m()\u001b[0m\n\u001b[1;32m----> 1\u001b[1;33m \u001b[0mfilt\u001b[0m \u001b[1;33m=\u001b[0m \u001b[0mio5\u001b[0m\u001b[1;33m[\u001b[0m\u001b[1;34m'filters'\u001b[0m\u001b[1;33m]\u001b[0m\u001b[1;33m\u001b[0m\u001b[0m\n\u001b[0m\u001b[0;32m      2\u001b[0m \u001b[0mfilt\u001b[0m\u001b[1;33m[\u001b[0m\u001b[1;33m:\u001b[0m\u001b[1;36m100\u001b[0m\u001b[1;33m]\u001b[0m\u001b[1;33m\u001b[0m\u001b[0m\n",
      "\u001b[1;32mh5py/_objects.pyx\u001b[0m in \u001b[0;36mh5py._objects.with_phil.wrapper (-------src-dir-------/h5py/_objects.c:2458)\u001b[1;34m()\u001b[0m\n",
      "\u001b[1;32mh5py/_objects.pyx\u001b[0m in \u001b[0;36mh5py._objects.with_phil.wrapper (-------src-dir-------/h5py/_objects.c:2415)\u001b[1;34m()\u001b[0m\n",
      "\u001b[1;32m/home/deren/anaconda/lib/python2.7/site-packages/h5py/_hl/group.pyc\u001b[0m in \u001b[0;36m__getitem__\u001b[1;34m(self, name)\u001b[0m\n\u001b[0;32m    162\u001b[0m                 \u001b[1;32mraise\u001b[0m \u001b[0mValueError\u001b[0m\u001b[1;33m(\u001b[0m\u001b[1;34m\"Invalid HDF5 object reference\"\u001b[0m\u001b[1;33m)\u001b[0m\u001b[1;33m\u001b[0m\u001b[0m\n\u001b[0;32m    163\u001b[0m         \u001b[1;32melse\u001b[0m\u001b[1;33m:\u001b[0m\u001b[1;33m\u001b[0m\u001b[0m\n\u001b[1;32m--> 164\u001b[1;33m             \u001b[0moid\u001b[0m \u001b[1;33m=\u001b[0m \u001b[0mh5o\u001b[0m\u001b[1;33m.\u001b[0m\u001b[0mopen\u001b[0m\u001b[1;33m(\u001b[0m\u001b[0mself\u001b[0m\u001b[1;33m.\u001b[0m\u001b[0mid\u001b[0m\u001b[1;33m,\u001b[0m \u001b[0mself\u001b[0m\u001b[1;33m.\u001b[0m\u001b[0m_e\u001b[0m\u001b[1;33m(\u001b[0m\u001b[0mname\u001b[0m\u001b[1;33m)\u001b[0m\u001b[1;33m,\u001b[0m \u001b[0mlapl\u001b[0m\u001b[1;33m=\u001b[0m\u001b[0mself\u001b[0m\u001b[1;33m.\u001b[0m\u001b[0m_lapl\u001b[0m\u001b[1;33m)\u001b[0m\u001b[1;33m\u001b[0m\u001b[0m\n\u001b[0m\u001b[0;32m    165\u001b[0m \u001b[1;33m\u001b[0m\u001b[0m\n\u001b[0;32m    166\u001b[0m         \u001b[0motype\u001b[0m \u001b[1;33m=\u001b[0m \u001b[0mh5i\u001b[0m\u001b[1;33m.\u001b[0m\u001b[0mget_type\u001b[0m\u001b[1;33m(\u001b[0m\u001b[0moid\u001b[0m\u001b[1;33m)\u001b[0m\u001b[1;33m\u001b[0m\u001b[0m\n",
      "\u001b[1;32mh5py/_objects.pyx\u001b[0m in \u001b[0;36mh5py._objects.with_phil.wrapper (-------src-dir-------/h5py/_objects.c:2458)\u001b[1;34m()\u001b[0m\n",
      "\u001b[1;32mh5py/_objects.pyx\u001b[0m in \u001b[0;36mh5py._objects.with_phil.wrapper (-------src-dir-------/h5py/_objects.c:2415)\u001b[1;34m()\u001b[0m\n",
      "\u001b[1;32mh5py/h5o.pyx\u001b[0m in \u001b[0;36mh5py.h5o.open (-------src-dir-------/h5py/h5o.c:3507)\u001b[1;34m()\u001b[0m\n",
      "\u001b[1;31mKeyError\u001b[0m: \"Unable to open object (Object 'filters' doesn't exist)\""
     ]
    }
   ],
   "source": [
    "filt = io5['filters']\n",
    "filt[:100]"
   ]
  },
  {
   "cell_type": "code",
   "execution_count": 5,
   "metadata": {
    "collapsed": false
   },
   "outputs": [
    {
     "data": {
      "text/plain": [
       "array(['', '', '', '', '', '', '', '', '', '', '', ''], \n",
       "      dtype='|S300')"
      ]
     },
     "execution_count": 5,
     "metadata": {},
     "output_type": "execute_result"
    }
   ],
   "source": [
    "seqs = io5[\"seqs\"]\n",
    "seqs[0]"
   ]
  },
  {
   "cell_type": "code",
   "execution_count": 6,
   "metadata": {
    "collapsed": false
   },
   "outputs": [
    {
     "data": {
      "text/plain": [
       "array(['1A0', '1B0', '1C0', '1D0', '2E0', '2F0', '2G0', '2H0', '3I0',\n",
       "       '3J0', '3K0', '3L0'], \n",
       "      dtype='|S50')"
      ]
     },
     "execution_count": 6,
     "metadata": {},
     "output_type": "execute_result"
    }
   ],
   "source": [
    "seqs.attrs['samples']"
   ]
  },
  {
   "cell_type": "code",
   "execution_count": 10,
   "metadata": {
    "collapsed": false
   },
   "outputs": [
    {
     "data": {
      "text/plain": [
       "array(['R1_L', 'R1_R', 'R2_L', 'R2_R'], \n",
       "      dtype='|S4')"
      ]
     },
     "execution_count": 10,
     "metadata": {},
     "output_type": "execute_result"
    }
   ],
   "source": [
    "np.array([\"R1_L\", \"R1_R\", \"R2_L\", \"R2_R\"])"
   ]
  },
  {
   "cell_type": "code",
   "execution_count": 12,
   "metadata": {
    "collapsed": false
   },
   "outputs": [
    {
     "data": {
      "text/plain": [
       "array([False,  True, False,  True], dtype=bool)"
      ]
     },
     "execution_count": 12,
     "metadata": {},
     "output_type": "execute_result"
    }
   ],
   "source": [
    "a = np.array([0, 1, 0, 1])\n",
    "np.array(a==1, dtype=np.bool)"
   ]
  },
  {
   "cell_type": "code",
   "execution_count": 21,
   "metadata": {
    "collapsed": false
   },
   "outputs": [
    {
     "data": {
      "text/plain": [
       "array([1, 1, 0, 0])"
      ]
     },
     "execution_count": 21,
     "metadata": {},
     "output_type": "execute_result"
    }
   ],
   "source": [
    "aa = np.where(a==1)\n",
    "bb = np.where(a==0)\n",
    "inds = np.concatenate([aa[0],bb[0]])\n",
    "a[inds]"
   ]
  },
  {
   "cell_type": "code",
   "execution_count": 27,
   "metadata": {
    "collapsed": true
   },
   "outputs": [],
   "source": [
    "aseqs = [\"AAAAAAAAAAAAAnnnnBBBBBBBBBBB\",\n",
    "         \"AAAAAAAAAAAAAnnnnCCCCCCCCCCC\"]"
   ]
  },
  {
   "cell_type": "code",
   "execution_count": 36,
   "metadata": {
    "collapsed": false
   },
   "outputs": [
    {
     "data": {
      "text/plain": [
       "(array([], dtype=int64),)"
      ]
     },
     "execution_count": 36,
     "metadata": {},
     "output_type": "execute_result"
    }
   ],
   "source": [
    "np.where(list(aseqs[0])=='n')"
   ]
  },
  {
   "cell_type": "code",
   "execution_count": 41,
   "metadata": {
    "collapsed": false
   },
   "outputs": [
    {
     "data": {
      "text/plain": [
       "array([False, False, False, False, False, False, False, False, False,\n",
       "       False, False, False, False,  True,  True,  True,  True, False,\n",
       "       False, False, False, False, False, False, False, False, False, False], dtype=bool)"
      ]
     },
     "execution_count": 41,
     "metadata": {},
     "output_type": "execute_result"
    }
   ],
   "source": [
    "np.array(list(aseqs[0]))=='n'"
   ]
  },
  {
   "cell_type": "code",
   "execution_count": null,
   "metadata": {
    "collapsed": true
   },
   "outputs": [],
   "source": []
  }
 ],
 "metadata": {
  "kernelspec": {
   "display_name": "Python 2",
   "language": "python",
   "name": "python2"
  },
  "language_info": {
   "codemirror_mode": {
    "name": "ipython",
    "version": 2
   },
   "file_extension": ".py",
   "mimetype": "text/x-python",
   "name": "python",
   "nbconvert_exporter": "python",
   "pygments_lexer": "ipython2",
   "version": "2.7.11"
  }
 },
 "nbformat": 4,
 "nbformat_minor": 0
}
