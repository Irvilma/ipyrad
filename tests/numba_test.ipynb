{
 "cells": [
  {
   "cell_type": "markdown",
   "metadata": {
    "collapsed": true
   },
   "source": [
    "Testing ipyrad functions for speed improvements with numba"
   ]
  },
  {
   "cell_type": "code",
   "execution_count": 4,
   "metadata": {
    "collapsed": true
   },
   "outputs": [],
   "source": [
    "import numpy as np\n",
    "from collections import Counter\n",
    "from numba import jit"
   ]
  },
  {
   "cell_type": "code",
   "execution_count": 136,
   "metadata": {
    "collapsed": false
   },
   "outputs": [],
   "source": [
    "data = [list(\"AAA-TTTT\"),\n",
    "        list(\"AAATTTTT\"),\n",
    "        list(\"AAA-TTTT\"),\n",
    "        list(\"AAA-TTTN\"),\n",
    "        list(\"AAA-TTTT\"),\n",
    "        list(\"AAT-TTCT\"),\n",
    "        list(\"AAT-TTCT\"),\n",
    "        list(\"A-T-TTNT\"),\n",
    "        list(\"AAA-TTCT\"),\n",
    "        list(\"AAT-TTCT\") \n",
    "       ]\n",
    "consens = \"AAWNTTYT\"\n",
    "stack = [Counter(i) for i in np.array(data).T]"
   ]
  },
  {
   "cell_type": "code",
   "execution_count": 130,
   "metadata": {
    "collapsed": false
   },
   "outputs": [
    {
     "name": "stdout",
     "output_type": "stream",
     "text": [
      "10\n",
      "[0 0 0 0 0 0 1 1]\n",
      "[0 1 0 9 0 0 0 0]\n"
     ]
    }
   ],
   "source": [
    "arr = np.array(data)[:,:]\n",
    "coldepths = arr.shape[0]\n",
    "print coldepths\n",
    "\n",
    "ndepths = np.sum(arr=='N', axis=0)\n",
    "print ndepths\n",
    "\n",
    "idepths = np.sum(arr=='-', axis=0)\n",
    "print idepths"
   ]
  },
  {
   "cell_type": "code",
   "execution_count": 146,
   "metadata": {
    "collapsed": false
   },
   "outputs": [
    {
     "data": {
      "text/plain": [
       "True"
      ]
     },
     "execution_count": 146,
     "metadata": {},
     "output_type": "execute_result"
    }
   ],
   "source": [
    "A = set([\"A\", \"C\"])\n",
    "B = set([\"C\", \"A\"])\n",
    "\n",
    "A == B"
   ]
  },
  {
   "cell_type": "code",
   "execution_count": 162,
   "metadata": {
    "collapsed": false
   },
   "outputs": [
    {
     "data": {
      "text/plain": [
       "array([[ 0, 10,  0,  0],\n",
       "       [ 0,  9,  0,  0],\n",
       "       [ 0,  6,  4,  0],\n",
       "       [ 0,  0,  1,  0],\n",
       "       [ 0,  0, 10,  0],\n",
       "       [ 0,  0, 10,  0],\n",
       "       [ 4,  0,  5,  0],\n",
       "       [ 0,  0,  9,  0]])"
      ]
     },
     "execution_count": 162,
     "metadata": {},
     "output_type": "execute_result"
    }
   ],
   "source": [
    "np.array([np.sum(arr==x, axis=0) for x in list(\"CATG\")]).T"
   ]
  },
  {
   "cell_type": "code",
   "execution_count": 142,
   "metadata": {
    "collapsed": false
   },
   "outputs": [
    {
     "name": "stdout",
     "output_type": "stream",
     "text": [
      "[['A' 'T']\n",
      " ['A' 'T']\n",
      " ['A' 'T']\n",
      " ['A' 'T']\n",
      " ['A' 'T']\n",
      " ['T' 'C']\n",
      " ['T' 'C']\n",
      " ['A' 'C']\n",
      " ['T' 'C']]\n"
     ]
    },
    {
     "data": {
      "text/plain": [
       "[('T', 'C'), ('A', 'T')]"
      ]
     },
     "execution_count": 142,
     "metadata": {},
     "output_type": "execute_result"
    }
   ],
   "source": [
    "hidx = [2,6]\n",
    "harray = arr[:, [2,6]]\n",
    "\n",
    "harr = harray[~np.any(harray==\"N\", axis=1)]\n",
    "print harr\n",
    "\n",
    "ccx = Counter([tuple(i) for i in harr])\n",
    "\n",
    "[i for i in ccx if ccx[i] > 2]"
   ]
  },
  {
   "cell_type": "code",
   "execution_count": 103,
   "metadata": {
    "collapsed": false
   },
   "outputs": [
    {
     "name": "stdout",
     "output_type": "stream",
     "text": [
      "['A' 'T']\n",
      "['A' 'T']\n",
      "['A' 'T']\n",
      "['A' 'T']\n",
      "['A' 'T']\n",
      "['T' 'C']\n",
      "['T' 'C']\n",
      "['T' '-']\n",
      "['A' 'C']\n",
      "['T' 'C']\n",
      "[['A' 'T']\n",
      " ['A' 'T']\n",
      " ['A' 'T']\n",
      " ['A' 'T']\n",
      " ['A' 'T']\n",
      " ['T' 'C']\n",
      " ['T' 'C']\n",
      " ['T' '-']\n",
      " ['A' 'C']\n",
      " ['T' 'C']]\n"
     ]
    }
   ],
   "source": [
    "\n",
    "for row in harray:\n",
    "    print row\n",
    "\n",
    "print harray"
   ]
  },
  {
   "cell_type": "code",
   "execution_count": 48,
   "metadata": {
    "collapsed": false
   },
   "outputs": [
    {
     "name": "stdout",
     "output_type": "stream",
     "text": [
      "[Counter({'A': 10}), Counter({'A': 9}), Counter({'A': 10}), Counter({'T': 1}), Counter({'T': 10}), Counter({'T': 10}), Counter({'C': 5, 'T': 5}), Counter({'T': 9})]\n"
     ]
    }
   ],
   "source": [
    "for c in stack:\n",
    "    try:\n",
    "        c.pop(\"-\")\n",
    "    except KeyError:\n",
    "        pass\n",
    "    try:\n",
    "        c.pop(\"N\")\n",
    "    except KeyError:\n",
    "        pass\n",
    "print stack"
   ]
  },
  {
   "cell_type": "code",
   "execution_count": 29,
   "metadata": {
    "collapsed": false
   },
   "outputs": [
    {
     "name": "stdout",
     "output_type": "stream",
     "text": [
      "[Counter({'A': 10}), Counter({'A': 9}), Counter({'A': 10}), Counter({'T': 1}), Counter({'T': 10}), Counter({'T': 10}), Counter({'C': 5, 'T': 5}), Counter({'T': 9})]\n",
      "[Counter({'A': 9}), Counter({'A': 10}), Counter({'T': 1}), Counter({'T': 10}), Counter({'T': 10}), Counter({'C': 5, 'T': 5}), Counter({'T': 9})]\n"
     ]
    }
   ],
   "source": []
  },
  {
   "cell_type": "code",
   "execution_count": 3,
   "metadata": {
    "collapsed": false
   },
   "outputs": [
    {
     "data": {
      "text/plain": [
       "[Counter({'T': 22}),\n",
       " Counter({'G': 22}),\n",
       " Counter({'C': 22}),\n",
       " Counter({'A': 22}),\n",
       " Counter({'G': 22}),\n",
       " Counter({'G': 22}),\n",
       " Counter({'G': 22}),\n",
       " Counter({'G': 22}),\n",
       " Counter({'C': 22}),\n",
       " Counter({'A': 22}),\n",
       " Counter({'C': 22}),\n",
       " Counter({'C': 22}),\n",
       " Counter({'C': 22}),\n",
       " Counter({'T': 22}),\n",
       " Counter({'A': 22}),\n",
       " Counter({'C': 1, 'T': 21}),\n",
       " Counter({'C': 22}),\n",
       " Counter({'A': 22}),\n",
       " Counter({'A': 22}),\n",
       " Counter({'C': 21, 'G': 1}),\n",
       " Counter({'A': 22}),\n",
       " Counter({'G': 22}),\n",
       " Counter({'G': 22}),\n",
       " Counter({'G': 22}),\n",
       " Counter({'T': 22}),\n",
       " Counter({'C': 22}),\n",
       " Counter({'T': 22}),\n",
       " Counter({'A': 22}),\n",
       " Counter({'G': 22}),\n",
       " Counter({'C': 22}),\n",
       " Counter({'T': 22}),\n",
       " Counter({'G': 22}),\n",
       " Counter({'C': 22}),\n",
       " Counter({'C': 22}),\n",
       " Counter({'A': 22}),\n",
       " Counter({'A': 22}),\n",
       " Counter({'T': 22}),\n",
       " Counter({'T': 22}),\n",
       " Counter({'C': 22}),\n",
       " Counter({'G': 22}),\n",
       " Counter({'T': 22}),\n",
       " Counter({'G': 22}),\n",
       " Counter({'A': 22}),\n",
       " Counter({'G': 22}),\n",
       " Counter({'G': 22}),\n",
       " Counter({'A': 22}),\n",
       " Counter({'C': 22}),\n",
       " Counter({'T': 22}),\n",
       " Counter({'G': 22}),\n",
       " Counter({'T': 22}),\n",
       " Counter({'T': 22}),\n",
       " Counter({'C': 22}),\n",
       " Counter({'G': 22}),\n",
       " Counter({'T': 22}),\n",
       " Counter({'A': 22}),\n",
       " Counter({'C': 22}),\n",
       " Counter({'C': 22}),\n",
       " Counter({'C': 22}),\n",
       " Counter({'A': 22}),\n",
       " Counter({'A': 22}),\n",
       " Counter({'G': 22}),\n",
       " Counter({'C': 22}),\n",
       " Counter({'T': 22}),\n",
       " Counter({'A': 22}),\n",
       " Counter({'G': 22}),\n",
       " Counter({'A': 22}),\n",
       " Counter({'A': 22}),\n",
       " Counter({'C': 22}),\n",
       " Counter({'A': 22}),\n",
       " Counter({'G': 22}),\n",
       " Counter({'A': 22}),\n",
       " Counter({'A': 22}),\n",
       " Counter({'T': 22}),\n",
       " Counter({'T': 22}),\n",
       " Counter({'C': 22}),\n",
       " Counter({'T': 22}),\n",
       " Counter({'T': 22}),\n",
       " Counter({'T': 22}),\n",
       " Counter({'A': 22}),\n",
       " Counter({'A': 22}),\n",
       " Counter({'T': 22}),\n",
       " Counter({'G': 22}),\n",
       " Counter({'C': 22}),\n",
       " Counter({'A': 22}),\n",
       " Counter({'A': 22}),\n",
       " Counter({'T': 22}),\n",
       " Counter({'A': 22}),\n",
       " Counter({'A': 22}),\n",
       " Counter({'A': 22}),\n",
       " Counter({'T': 22}),\n",
       " Counter({'C': 22}),\n",
       " Counter({'G': 22}),\n",
       " Counter({'T': 22}),\n",
       " Counter({'C': 22})]"
      ]
     },
     "execution_count": 3,
     "metadata": {},
     "output_type": "execute_result"
    }
   ],
   "source": [
    "from collections import Counter\n",
    "count = [Counter({'T': 22}), Counter({'G': 22}), Counter({'C': 22}), Counter({'A': 22}), Counter({'G': 22}), Counter({'G': 22}), Counter({'G': 22}), Counter({'G': 22}), Counter({'C': 22}), Counter({'A': 22}), Counter({'C': 22}), Counter({'C': 22}), Counter({'C': 22}), Counter({'T': 22}), Counter({'A': 22}), Counter({'T': 21, 'C': 1}), Counter({'C': 22}), Counter({'A': 22}), Counter({'A': 22}), Counter({'C': 21, 'G': 1}), Counter({'A': 22}), Counter({'G': 22}), Counter({'G': 22}), Counter({'G': 22}), Counter({'T': 22}), Counter({'C': 22}), Counter({'T': 22}), Counter({'A': 22}), Counter({'G': 22}), Counter({'C': 22}), Counter({'T': 22}), Counter({'G': 22}), Counter({'C': 22}), Counter({'C': 22}), Counter({'A': 22}), Counter({'A': 22}), Counter({'T': 22}), Counter({'T': 22}), Counter({'C': 22}), Counter({'G': 22}), Counter({'T': 22}), Counter({'G': 22}), Counter({'A': 22}), Counter({'G': 22}), Counter({'G': 22}), Counter({'A': 22}), Counter({'C': 22}), Counter({'T': 22}), Counter({'G': 22}), Counter({'T': 22}), Counter({'T': 22}), Counter({'C': 22}), Counter({'G': 22}), Counter({'T': 22}), Counter({'A': 22}), Counter({'C': 22}), Counter({'C': 22}), Counter({'C': 22}), Counter({'A': 22}), Counter({'A': 22}), Counter({'G': 22}), Counter({'C': 22}), Counter({'T': 22}), Counter({'A': 22}), Counter({'G': 22}), Counter({'A': 22}), Counter({'A': 22}), Counter({'C': 22}), Counter({'A': 22}), Counter({'G': 22}), Counter({'A': 22}), Counter({'A': 22}), Counter({'T': 22}), Counter({'T': 22}), Counter({'C': 22}), Counter({'T': 22}), Counter({'T': 22}), Counter({'T': 22}), Counter({'A': 22}), Counter({'A': 22}), Counter({'T': 22}), Counter({'G': 22}), Counter({'C': 22}), Counter({'A': 22}), Counter({'A': 22}), Counter({'T': 22}), Counter({'A': 22}), Counter({'A': 22}), Counter({'A': 22}), Counter({'T': 22}), Counter({'C': 22}), Counter({'G': 22}), Counter({'T': 22}), Counter({'C': 22})]\n",
    "\n",
    "count"
   ]
  },
  {
   "cell_type": "code",
   "execution_count": null,
   "metadata": {
    "collapsed": true
   },
   "outputs": [],
   "source": []
  },
  {
   "cell_type": "code",
   "execution_count": 3,
   "metadata": {
    "collapsed": true
   },
   "outputs": [],
   "source": [
    "def get_diploid_lik(starting_params, base_frequencies, stacks, stackcounts):\n",
    "    \"\"\" Log likelihood score given values [H,E] \"\"\"\n",
    "    hetero = starting_params[0]\n",
    "    errors = starting_params[1]\n",
    "    if (hetero <= 0.) or (errors <= 0.):\n",
    "        score = np.exp(100)\n",
    "    else:\n",
    "        ## get likelihood for all sites\n",
    "        lik1 = (1.-hetero)*likelihood1(errors, base_frequencies, stacks)\n",
    "        lik2 = (hetero)*likelihood2(errors, base_frequencies, stacks)\n",
    "        liks = lik1+lik2\n",
    "        logliks = np.log(liks[liks > 0])*stackcounts[liks > 0]\n",
    "        #logliks = np.log(liks)*stackcounts\n",
    "        score = -logliks.sum()\n",
    "    return score"
   ]
  },
  {
   "cell_type": "code",
   "execution_count": 5,
   "metadata": {
    "collapsed": false
   },
   "outputs": [],
   "source": [
    "@jit\n",
    "def jget_diploid_lik(starting_params, base_frequencies, stacks, stackcounts):\n",
    "    \"\"\" Log likelihood score given values [H,E] \"\"\"\n",
    "    hetero = starting_params[0]\n",
    "    errors = starting_params[1]\n",
    "    if (hetero <= 0.) or (errors <= 0.):\n",
    "        score = np.exp(100)\n",
    "    else:\n",
    "        ## get likelihood for all sites\n",
    "        lik1 = (1.-hetero)*likelihood1(errors, base_frequencies, stacks)\n",
    "        lik2 = (hetero)*likelihood2(errors, base_frequencies, stacks)\n",
    "        liks = lik1+lik2\n",
    "        logliks = np.log(liks[liks > 0])*stackcounts[liks > 0]\n",
    "        #logliks = np.log(liks)*stackcounts\n",
    "        score = -logliks.sum()\n",
    "    return score"
   ]
  },
  {
   "cell_type": "code",
   "execution_count": null,
   "metadata": {
    "collapsed": true
   },
   "outputs": [],
   "source": [
    "get_diploid_lik"
   ]
  },
  {
   "cell_type": "code",
   "execution_count": 2,
   "metadata": {
    "collapsed": true
   },
   "outputs": [],
   "source": [
    "def normtest(x):\n",
    "    k = 0\n",
    "    for i in xrange(x):\n",
    "        k = np.sqrt(2+x)\n",
    "    return k"
   ]
  },
  {
   "cell_type": "code",
   "execution_count": 3,
   "metadata": {
    "collapsed": false
   },
   "outputs": [
    {
     "name": "stdout",
     "output_type": "stream",
     "text": [
      "1 loops, best of 3: 1.18 s per loop\n"
     ]
    }
   ],
   "source": [
    "%%timeit \n",
    "normtest(int(1e6))"
   ]
  },
  {
   "cell_type": "code",
   "execution_count": 4,
   "metadata": {
    "collapsed": true
   },
   "outputs": [],
   "source": [
    "@jit\n",
    "def jnormtest(x):\n",
    "    k = 0\n",
    "    for i in xrange(x):\n",
    "        k = np.sqrt(2+x)\n",
    "    return k"
   ]
  },
  {
   "cell_type": "code",
   "execution_count": 5,
   "metadata": {
    "collapsed": false
   },
   "outputs": [
    {
     "name": "stdout",
     "output_type": "stream",
     "text": [
      "CPU times: user 54.3 ms, sys: 12.1 ms, total: 66.4 ms\n",
      "Wall time: 64.2 ms\n"
     ]
    },
    {
     "data": {
      "text/plain": [
       "1000.0009999995"
      ]
     },
     "execution_count": 5,
     "metadata": {},
     "output_type": "execute_result"
    }
   ],
   "source": [
    "%%time\n",
    "jnormtest(int(1e6))"
   ]
  },
  {
   "cell_type": "code",
   "execution_count": 43,
   "metadata": {
    "collapsed": true
   },
   "outputs": [],
   "source": [
    "arr = np.empty([1,20],dtype=\"S1\")"
   ]
  },
  {
   "cell_type": "code",
   "execution_count": 44,
   "metadata": {
    "collapsed": true
   },
   "outputs": [],
   "source": [
    "def fillarr(arr, let):\n",
    "    for i,j in enumerate(let):\n",
    "        arr[0,i] = j\n",
    "    return arr"
   ]
  },
  {
   "cell_type": "code",
   "execution_count": 45,
   "metadata": {
    "collapsed": true
   },
   "outputs": [],
   "source": [
    "@jit\n",
    "def jfillarr(arr, let):\n",
    "    for i,j in enumerate(let):\n",
    "        arr[0,i] = j\n",
    "    return arr"
   ]
  },
  {
   "cell_type": "markdown",
   "metadata": {},
   "source": [
    "### HOly Cow\n",
    "using jit is so much faster! Just need to rewrite code to fill empty arrays instead of appending to lists and we should be able to use jit just fine for steps 1,2,4,5,7."
   ]
  },
  {
   "cell_type": "code",
   "execution_count": 46,
   "metadata": {
    "collapsed": false
   },
   "outputs": [
    {
     "name": "stdout",
     "output_type": "stream",
     "text": [
      "The slowest run took 6.70 times longer than the fastest. This could mean that an intermediate result is being cached \n",
      "100000 loops, best of 3: 2.99 µs per loop\n"
     ]
    }
   ],
   "source": [
    "%%timeit\n",
    "fillarr(arr, list(\"abcdefgh\"))"
   ]
  },
  {
   "cell_type": "code",
   "execution_count": 47,
   "metadata": {
    "collapsed": false
   },
   "outputs": [
    {
     "name": "stdout",
     "output_type": "stream",
     "text": [
      "The slowest run took 778.38 times longer than the fastest. This could mean that an intermediate result is being cached \n",
      "1000 loops, best of 3: 209 µs per loop\n"
     ]
    }
   ],
   "source": [
    "%%timeit\n",
    "jfillarr(arr, list(\"abcdefgh\"))"
   ]
  },
  {
   "cell_type": "code",
   "execution_count": 1,
   "metadata": {
    "collapsed": false
   },
   "outputs": [
    {
     "ename": "NameError",
     "evalue": "name 'arr' is not defined",
     "output_type": "error",
     "traceback": [
      "\u001b[1;31m---------------------------------------------------------------------------\u001b[0m",
      "\u001b[1;31mNameError\u001b[0m                                 Traceback (most recent call last)",
      "\u001b[1;32m<ipython-input-1-e1483d9e89a2>\u001b[0m in \u001b[0;36m<module>\u001b[1;34m()\u001b[0m\n\u001b[1;32m----> 1\u001b[1;33m \u001b[0marr\u001b[0m\u001b[1;33m\u001b[0m\u001b[0m\n\u001b[0m",
      "\u001b[1;31mNameError\u001b[0m: name 'arr' is not defined"
     ]
    }
   ],
   "source": [
    "arr"
   ]
  },
  {
   "cell_type": "code",
   "execution_count": 2,
   "metadata": {
    "collapsed": true
   },
   "outputs": [],
   "source": [
    "## pure python\n",
    "def findbcode(cut, longbar, read1):\n",
    "    search = read1[1][:longbar+len(cut)]\n",
    "    countcuts = search.count(cut)\n",
    "    if countcuts == 1:\n",
    "        barcode = search.split(cut, 1)[0]\n",
    "    elif countcuts == 2:\n",
    "        barcode = search.rsplit(cut, 2)[0]\n",
    "    else:\n",
    "        barcode = \"\"\n",
    "    return barcode"
   ]
  },
  {
   "cell_type": "code",
   "execution_count": 42,
   "metadata": {
    "collapsed": true
   },
   "outputs": [],
   "source": [
    "## jit version\n",
    "@jit\n",
    "def jfindbarcode(cut, longbar, read1):\n",
    "    search = read1[1][:longbar+len(cut)]\n",
    "    countcuts = search.count(cut)\n",
    "    if countcuts == 1:\n",
    "        barcode = search.split(cut, 1)[0]\n",
    "    elif countcuts == 2:\n",
    "        barcode = search.rsplit(cut, 2)[0]\n",
    "    else:\n",
    "        barcode = \"\"\n",
    "    return barcode"
   ]
  },
  {
   "cell_type": "code",
   "execution_count": 47,
   "metadata": {
    "collapsed": true
   },
   "outputs": [],
   "source": [
    "cut = \"TGCAG\"\n",
    "longbar = 6\n",
    "read1 = ['fakeread','AAACCCTGCAGAAAAAAAAAAAAAAAAA']\n",
    "nread1 = np.array(['fakeread','AAACCCTGCAGAAAAAAAAAAAAAAAAA'])\n"
   ]
  },
  {
   "cell_type": "code",
   "execution_count": 48,
   "metadata": {
    "collapsed": false
   },
   "outputs": [
    {
     "name": "stdout",
     "output_type": "stream",
     "text": [
      "The slowest run took 5.48 times longer than the fastest. This could mean that an intermediate result is being cached \n",
      "1000000 loops, best of 3: 914 ns per loop\n"
     ]
    }
   ],
   "source": [
    "%%timeit \n",
    "findbcode(cut, longbar, read1)"
   ]
  },
  {
   "cell_type": "code",
   "execution_count": 59,
   "metadata": {
    "collapsed": false
   },
   "outputs": [
    {
     "name": "stdout",
     "output_type": "stream",
     "text": [
      "The slowest run took 11.24 times longer than the fastest. This could mean that an intermediate result is being cached \n",
      "1000000 loops, best of 3: 1.08 µs per loop\n"
     ]
    }
   ],
   "source": [
    "%%timeit\n",
    "findbcode(cut, longbar, nread1)"
   ]
  },
  {
   "cell_type": "code",
   "execution_count": 51,
   "metadata": {
    "collapsed": false
   },
   "outputs": [
    {
     "name": "stdout",
     "output_type": "stream",
     "text": [
      "10000 loops, best of 3: 53.5 µs per loop\n"
     ]
    }
   ],
   "source": [
    "%%timeit \n",
    "jfindbarcode(cut, longbar, nread1)"
   ]
  },
  {
   "cell_type": "code",
   "execution_count": null,
   "metadata": {
    "collapsed": true
   },
   "outputs": [],
   "source": []
  },
  {
   "cell_type": "code",
   "execution_count": 37,
   "metadata": {
    "collapsed": false
   },
   "outputs": [
    {
     "data": {
      "text/plain": [
       "1"
      ]
     },
     "execution_count": 37,
     "metadata": {},
     "output_type": "execute_result"
    }
   ],
   "source": [
    "read1[1][:longbar+6].count(\"TGCAG\")"
   ]
  },
  {
   "cell_type": "code",
   "execution_count": null,
   "metadata": {
    "collapsed": true
   },
   "outputs": [],
   "source": []
  }
 ],
 "metadata": {
  "kernelspec": {
   "display_name": "Python 2",
   "language": "python",
   "name": "python2"
  },
  "language_info": {
   "codemirror_mode": {
    "name": "ipython",
    "version": 2
   },
   "file_extension": ".py",
   "mimetype": "text/x-python",
   "name": "python",
   "nbconvert_exporter": "python",
   "pygments_lexer": "ipython2",
   "version": "2.7.11"
  }
 },
 "nbformat": 4,
 "nbformat_minor": 0
}
