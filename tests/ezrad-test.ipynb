{
 "cells": [
  {
   "cell_type": "markdown",
   "metadata": {},
   "source": [
    "## MiSeQ Ez-rad data exploration\n",
    "\n",
    "Download the compressed fastq files from Zac's github repo. "
   ]
  },
  {
   "cell_type": "code",
   "execution_count": 1,
   "metadata": {},
   "outputs": [
    {
     "name": "stdout",
     "output_type": "stream",
     "text": [
      "ipyrad_formatted_data/ASO1mtreads_R1_.fastq.gz\n",
      "ipyrad_formatted_data/\n",
      "ipyrad_formatted_data/ASO5mtreads_R1_.fastq.gz\n",
      "ipyrad_formatted_data/ASO2mtreads_R1_.fastq.gz\n",
      "ipyrad_formatted_data/ASO3mtreads_R1_.fastq.gz\n",
      "ipyrad_formatted_data/ASO4mtreads_R1_.fastq.gz\n",
      "ipyrad_formatted_data/ASO6mtreads_R1_.fastq.gz\n"
     ]
    },
    {
     "name": "stderr",
     "output_type": "stream",
     "text": [
      "  % Total    % Received % Xferd  Average Speed   Time    Time     Time  Current\n",
      "                                 Dload  Upload   Total   Spent    Left  Speed\n",
      "\r",
      "  0     0    0     0    0     0      0      0 --:--:-- --:--:-- --:--:--     0\r",
      "  0     0    0     0    0     0      0      0 --:--:-- --:--:-- --:--:--     0\r",
      "100   165  100   165    0     0    436      0 --:--:-- --:--:-- --:--:--   437\n",
      "\r",
      "100 3775k  100 3775k    0     0  6498k      0 --:--:-- --:--:-- --:--:-- 6498k\n",
      "  % Total    % Received % Xferd  Average Speed   Time    Time     Time  Current\n",
      "                                 Dload  Upload   Total   Spent    Left  Speed\n",
      "\r",
      "  0     0    0     0    0     0      0      0 --:--:-- --:--:-- --:--:--     0\r",
      "100   165  100   165    0     0    363      0 --:--:-- --:--:-- --:--:--   365\n",
      "\r",
      "  0     0    0     0    0     0      0      0 --:--:-- --:--:-- --:--:--     0\r",
      "100 15399  100 15399    0     0  12875      0  0:00:01  0:00:01 --:--:-- 28516\n"
     ]
    }
   ],
   "source": [
    "%%bash\n",
    "\n",
    "## download MiSeq data from Zac's github repo\n",
    "curl -LkO https://github.com/zacforsman/example_ezRAD_data/raw/master/ipyrad_formatted_data.tar.gz\n",
    "\n",
    "## de-compress it\n",
    "tar -xzvf ipyrad_formatted_data.tar.gz\n",
    "\n",
    "## download mt genome file\n",
    "curl -LkO https://github.com/zacforsman/example_ezRAD_data/raw/master/Achatinella_sowerbyana.fasta"
   ]
  },
  {
   "cell_type": "markdown",
   "metadata": {},
   "source": [
    "### The data\n",
    "The data appears to be Miseq data, paired 300bp. The paired reads are also interleaved, i.e., R1 is on a line, and then read2 on the next line, and then another read1; as opposed to the R1 and R2 reads being in separate files which is what I'm used to seeing. I found a short script on this page (http://seqanswers.com/forums/showthread.php?t=38892)[http://seqanswers.com/forums/showthread.php?t=38892] showing how to split this kind of data into two separate files. I wrote a Python function to do the same thing, below.  "
   ]
  },
  {
   "cell_type": "code",
   "execution_count": 2,
   "metadata": {},
   "outputs": [
    {
     "name": "stdout",
     "output_type": "stream",
     "text": [
      "@M02308:132:000000000-ANV18:1:1101:6317:3772 1:N:0:5\n",
      "GATCTCAATGTTGTTGTTATCTTATAACAGCTTAATAAACAACTTAATTTTCCATGATTAAGATTTACATAGAGAACTAT\n",
      "+\n",
      "CCCCCGGGGGGGGGGGGGGGGGGGGGGGGGGGGGGGGGGGGGGGGGGGGGGGGGGGGGGGGGGGGGGGGGGGGGGGGGGG\n",
      "@M02308:132:000000000-ANV18:1:1101:6317:3772 2:N:0:5\n",
      "GATCAAAGAGTCGAAGATTTAACATTAGAAAAGGATTATTATCAATTATTCCTAAAATAAGACTAATATGATTTATTTTA\n",
      "+\n",
      "CCCCCGGGGGGGGGGGGGGGGGGGGGGGGGGGGGGGGGGGGGGGGGGGGGGGGGGGGGGGGGGGGGGGGGGFGGGGGGGG\n",
      "@M02308:132:000000000-ANV18:1:1101:6319:3792 1:N:0:5\n",
      "GATCTCAATGTTGTTGTTATCTTATAACAGCTTAATAAACAACTTAATTTTCCATGATTAAGATTTACATAGAGAACTAT\n",
      "+\n",
      "@CCCCGGGGGGGFGGGGGGGGGGGGGGGGGGGGGGGGGGGGFFGGGGGGGGGGGGGGGGFFGGGGGGGGGGCGGGGGC9F\n",
      "@M02308:132:000000000-ANV18:1:1101:6319:3792 2:N:0:5\n",
      "GATCAAAGAGTCGAAGATTTAACATTAGAAAAGGATTATTATCAATTATTCCTAAAATAAGACTAATATGATTTATTTTA\n",
      "+\n",
      "CCCCCGGGGGGGGGGGGGGGGFGGGGFGGGGGGGGGGGGGGGGGGGGGGGGGGGGGGGGGGGGGGGFGGGDCFGGGFGGG\n"
     ]
    },
    {
     "name": "stderr",
     "output_type": "stream",
     "text": [
      "\n",
      "gzip: stdout: Broken pipe\n"
     ]
    }
   ],
   "source": [
    "%%bash\n",
    "\n",
    "gzip -d -c ipyrad_formatted_data/ASO1mtreads_R1_.fastq.gz | head -n 16 | cut -c 1-80"
   ]
  },
  {
   "cell_type": "markdown",
   "metadata": {},
   "source": [
    "### Splitting function "
   ]
  },
  {
   "cell_type": "code",
   "execution_count": 3,
   "metadata": {
    "collapsed": true
   },
   "outputs": [],
   "source": [
    "import itertools\n",
    "import gzip\n",
    "\n",
    "def split_miseq(input_file, out_r1, out_r2):\n",
    "    \n",
    "    ## open the input file \n",
    "    with gzip.open(input_file, 'r') as indat:\n",
    "        \n",
    "        ## line generator\n",
    "        liner = iter(indat)\n",
    "        qiter = itertools.izip(liner, liner, liner, liner)\n",
    "        \n",
    "        ## alternate between writing to out1 and out2\n",
    "        out1 = []\n",
    "        out2 = []\n",
    "        out = 1\n",
    "        \n",
    "        ## iterate until qiter is empty\n",
    "        while 1:\n",
    "            try:\n",
    "                quart = qiter.next()\n",
    "                if out == 1:\n",
    "                    out1.append(\"\".join(quart))\n",
    "                    out = 2\n",
    "                else:\n",
    "                    out2.append(\"\".join(quart))\n",
    "                    out = 1\n",
    "            except StopIteration:\n",
    "                break\n",
    "           \n",
    "        ## write lists to file\n",
    "        with gzip.open(out_r1, 'w') as write1:\n",
    "            write1.write(\"\".join(out1))\n",
    "        with gzip.open(out_r2, 'w') as write2:\n",
    "            write2.write(\"\".join(out2))        "
   ]
  },
  {
   "cell_type": "markdown",
   "metadata": {},
   "source": [
    "### Split all reads"
   ]
  },
  {
   "cell_type": "code",
   "execution_count": 4,
   "metadata": {
    "collapsed": true
   },
   "outputs": [],
   "source": [
    "import glob\n",
    "import os\n",
    "\n",
    "## make new dirctory for split files\n",
    "newdir = \"split-fastqs\"\n",
    "if not os.path.exists(newdir):\n",
    "    os.makedirs(newdir)\n",
    "\n",
    "## iterate over files\n",
    "for miseqfile in glob.glob(\"ipyrad_formatted_data/*.gz\"):\n",
    "    ## get name from file\n",
    "    name = os.path.basename(miseqfile).split(\"_\", 1)[0]\n",
    "    r1 = os.path.join(newdir, name + \"_R1_.fastq.gz\")\n",
    "    r2 = os.path.join(newdir, name + \"_R2_.fastq.gz\")\n",
    "    split_miseq(miseqfile, r1, r2)"
   ]
  },
  {
   "cell_type": "code",
   "execution_count": 5,
   "metadata": {},
   "outputs": [
    {
     "name": "stdout",
     "output_type": "stream",
     "text": [
      "total 3652\n",
      "-rw-rw-r-- 1 deren deren 282503 Aug 23 11:44 ASO1mtreads_R1_.fastq.gz\n",
      "-rw-rw-r-- 1 deren deren 353785 Aug 23 11:44 ASO1mtreads_R2_.fastq.gz\n",
      "-rw-rw-r-- 1 deren deren 256707 Aug 23 11:44 ASO2mtreads_R1_.fastq.gz\n",
      "-rw-rw-r-- 1 deren deren 319318 Aug 23 11:44 ASO2mtreads_R2_.fastq.gz\n",
      "-rw-rw-r-- 1 deren deren 230505 Aug 23 11:44 ASO3mtreads_R1_.fastq.gz\n",
      "-rw-rw-r-- 1 deren deren 284714 Aug 23 11:44 ASO3mtreads_R2_.fastq.gz\n",
      "-rw-rw-r-- 1 deren deren 147815 Aug 23 11:44 ASO4mtreads_R1_.fastq.gz\n",
      "-rw-rw-r-- 1 deren deren 187029 Aug 23 11:44 ASO4mtreads_R2_.fastq.gz\n",
      "-rw-rw-r-- 1 deren deren 334216 Aug 23 11:44 ASO5mtreads_R1_.fastq.gz\n",
      "-rw-rw-r-- 1 deren deren 426128 Aug 23 11:44 ASO5mtreads_R2_.fastq.gz\n",
      "-rw-rw-r-- 1 deren deren 395910 Aug 23 11:44 ASO6mtreads_R1_.fastq.gz\n",
      "-rw-rw-r-- 1 deren deren 497179 Aug 23 11:44 ASO6mtreads_R2_.fastq.gz\n"
     ]
    }
   ],
   "source": [
    "%%bash\n",
    "ls -l split-fastqs"
   ]
  },
  {
   "cell_type": "markdown",
   "metadata": {},
   "source": [
    "## Assemble the data set"
   ]
  },
  {
   "cell_type": "code",
   "execution_count": 6,
   "metadata": {},
   "outputs": [
    {
     "name": "stdout",
     "output_type": "stream",
     "text": [
      "ipyrad 0.7.11\n"
     ]
    }
   ],
   "source": [
    "import ipyrad as ip\n",
    "print 'ipyrad', ip.__version__\n"
   ]
  },
  {
   "cell_type": "code",
   "execution_count": 7,
   "metadata": {},
   "outputs": [
    {
     "name": "stdout",
     "output_type": "stream",
     "text": [
      "New Assembly: denovo\n"
     ]
    }
   ],
   "source": [
    "## create a denovo assembly object\n",
    "denovo = ip.Assembly(\"denovo\")\n",
    "denovo.set_params(\"project_dir\", \"analysis-ipyrad\")\n",
    "denovo.set_params(\"sorted_fastq_path\", \"split-fastqs/*.gz\")\n",
    "denovo.set_params(\"mindepth_majrule\", 2)\n",
    "denovo.set_params(\"datatype\", \"pairgbs\")\n",
    "denovo.set_params(\"filter_adapters\", 2)\n",
    "denovo.set_params(\"restriction_overhang\", (\"GATC\", \"GATC\"))"
   ]
  },
  {
   "cell_type": "code",
   "execution_count": 8,
   "metadata": {},
   "outputs": [
    {
     "name": "stdout",
     "output_type": "stream",
     "text": [
      "Assembly: denovo\n",
      "[####################] 100%  loading reads         | 0:00:00 | s1 | \n",
      "[####################] 100%  processing reads      | 0:00:00 | s2 | \n"
     ]
    }
   ],
   "source": [
    "## load the data, filter and cluster it.\n",
    "denovo.run(\"123\")"
   ]
  },
  {
   "cell_type": "code",
   "execution_count": 9,
   "metadata": {
    "collapsed": true
   },
   "outputs": [],
   "source": [
    "## create a reference assembly object\n",
    "ref = denovo.branch('reference')\n",
    "ref.set_params(\"reference_sequence\", \"Achatinella_sowerbyana.fasta\")\n",
    "ref.set_params(\"assembly_method\", \"reference\")\n",
    "\n",
    "## map to reference\n",
    "ref.run(\"3\", force=True)"
   ]
  },
  {
   "cell_type": "markdown",
   "metadata": {},
   "source": [
    "### Visual inspection of clusters looks pretty good."
   ]
  },
  {
   "cell_type": "code",
   "execution_count": 48,
   "metadata": {},
   "outputs": [
    {
     "name": "stdout",
     "output_type": "stream",
     "text": [
      "006c3b4bfd1d393a7bf041856df8344e;size=39;*\n",
      "----------------------------------------------GATCAAGTAAAATCAAATTTTAAAAATAAAAAAG\n",
      "ab4ec4807c2dca97c970118c1f234dd7;size=2;-\n",
      "----------------------------------------------GATCAAGTAAAATCAAATTTTAAAAATAAAAAAG\n",
      "549ea44a0ea3ab0b31deecbfeeb46513;size=1;-\n",
      "ATTATTGCAGATAAGAAGAGGAAAAAGTATATTTGTAGTAATATTAGAACAAGTAAAATCAAATTTTAAAAATAAAAAAG\n",
      "2d0de67dcdfe85f6ccb42e829eb8864e;size=1;-\n",
      "-------------------------------------------------------AAATCAAATTTTAAAAATAAAAAAG\n",
      "087c5fd2760f87460d551c3451088469;size=1;+\n",
      "------------AAGAAGAGGAAAAAGTATATTTGTAGTAATATTAGAACAAGTAAAATCAAATTTTAAAAATAAAAAAG\n",
      "7dbb429703111a49e245e199aa005e16;size=1;+\n",
      "--------------GAAGAGGAAAAAGTATATTTGTAGTAATATTAGAACAAGTAAAATCAAATTTTAAAAATAAAAAAG\n",
      "914d88a9d5ce8b53c690026d55190a56;size=1;-\n",
      "------------------------------------AGTAATATTAGAACAAGTAAAATCAAATTTTAAAAATAAAAAAG\n",
      "bfba95cfefb5d8a6ad90f3ca72417a89;size=1;-\n",
      "----------------------------------------------GATCAAGTAAAATCAAATTTTTAAAATAAAAAAG\n"
     ]
    },
    {
     "name": "stderr",
     "output_type": "stream",
     "text": [
      "\n",
      "gzip: stdout: Broken pipe\n"
     ]
    }
   ],
   "source": [
    "%%bash\n",
    "\n",
    "## first 16 lines trimmed at 80 characters per line\n",
    "zcat analysis-ipyrad/denovo_clust_0.85/ASO1mtreads.clustS.gz | head -n 16 | cut -c 1-80"
   ]
  },
  {
   "cell_type": "markdown",
   "metadata": {},
   "source": [
    "### Finish assembly"
   ]
  },
  {
   "cell_type": "code",
   "execution_count": 49,
   "metadata": {},
   "outputs": [
    {
     "name": "stdout",
     "output_type": "stream",
     "text": [
      "Assembly: ezrad\n",
      "[####################] 100%  inferring [H, E]      | 0:00:00 | s4 | \n",
      "[####################] 100%  calculating depths    | 0:00:00 | s5 | \n",
      "[####################] 100%  chunking clusters     | 0:00:00 | s5 | \n",
      "[####################] 100%  consens calling       | 0:00:02 | s5 | \n",
      "[####################] 100%  concat/shuffle input  | 0:00:00 | s6 | \n",
      "[####################] 100%  clustering across     | 0:00:02 | s6 | \n",
      "[####################] 100%  building clusters     | 0:00:00 | s6 | \n",
      "[####################] 100%  aligning clusters     | 0:00:00 | s6 | \n",
      "[####################] 100%  database indels       | 0:00:00 | s6 | \n",
      "[####################] 100%  indexing clusters     | 0:00:00 | s6 | \n",
      "[####################] 100%  building database     | 0:00:00 | s6 | \n",
      "[####################] 100%  filtering loci        | 0:00:00 | s7 | \n",
      "[####################] 100%  building loci/stats   | 0:00:00 | s7 | \n",
      "[####################] 100%  building vcf file     | 0:00:00 | s7 | \n",
      "[####################] 100%  writing vcf file      | 0:00:00 | s7 | \n",
      "[####################] 100%  building arrays       | 0:00:00 | s7 | \n",
      "[####################] 100%  writing outfiles      | 0:00:00 | s7 | \n",
      "Outfiles written to: ~/Downloads/ezrad-test/analysis-ipyrad/ezrad_outfiles\n",
      "\n"
     ]
    }
   ],
   "source": [
    "denovo.run(\"4567\")"
   ]
  },
  {
   "cell_type": "code",
   "execution_count": 50,
   "metadata": {},
   "outputs": [
    {
     "data": {
      "text/html": [
       "<div>\n",
       "<style>\n",
       "    .dataframe thead tr:only-child th {\n",
       "        text-align: right;\n",
       "    }\n",
       "\n",
       "    .dataframe thead th {\n",
       "        text-align: left;\n",
       "    }\n",
       "\n",
       "    .dataframe tbody tr th {\n",
       "        vertical-align: top;\n",
       "    }\n",
       "</style>\n",
       "<table border=\"1\" class=\"dataframe\">\n",
       "  <thead>\n",
       "    <tr style=\"text-align: right;\">\n",
       "      <th></th>\n",
       "      <th>state</th>\n",
       "      <th>reads_raw</th>\n",
       "      <th>reads_passed_filter</th>\n",
       "      <th>clusters_total</th>\n",
       "      <th>clusters_hidepth</th>\n",
       "      <th>hetero_est</th>\n",
       "      <th>error_est</th>\n",
       "      <th>reads_consens</th>\n",
       "    </tr>\n",
       "  </thead>\n",
       "  <tbody>\n",
       "    <tr>\n",
       "      <th>ASO1mtreads</th>\n",
       "      <td>6</td>\n",
       "      <td>2723</td>\n",
       "      <td>2721</td>\n",
       "      <td>273</td>\n",
       "      <td>59</td>\n",
       "      <td>0.006884</td>\n",
       "      <td>0.001928</td>\n",
       "      <td>55</td>\n",
       "    </tr>\n",
       "    <tr>\n",
       "      <th>ASO2mtreads</th>\n",
       "      <td>6</td>\n",
       "      <td>2362</td>\n",
       "      <td>2360</td>\n",
       "      <td>254</td>\n",
       "      <td>54</td>\n",
       "      <td>0.010536</td>\n",
       "      <td>0.002622</td>\n",
       "      <td>48</td>\n",
       "    </tr>\n",
       "    <tr>\n",
       "      <th>ASO3mtreads</th>\n",
       "      <td>6</td>\n",
       "      <td>1991</td>\n",
       "      <td>1990</td>\n",
       "      <td>302</td>\n",
       "      <td>39</td>\n",
       "      <td>0.016154</td>\n",
       "      <td>0.002737</td>\n",
       "      <td>32</td>\n",
       "    </tr>\n",
       "    <tr>\n",
       "      <th>ASO4mtreads</th>\n",
       "      <td>6</td>\n",
       "      <td>1449</td>\n",
       "      <td>1447</td>\n",
       "      <td>194</td>\n",
       "      <td>27</td>\n",
       "      <td>0.009593</td>\n",
       "      <td>0.001640</td>\n",
       "      <td>20</td>\n",
       "    </tr>\n",
       "    <tr>\n",
       "      <th>ASO5mtreads</th>\n",
       "      <td>6</td>\n",
       "      <td>3220</td>\n",
       "      <td>3215</td>\n",
       "      <td>297</td>\n",
       "      <td>58</td>\n",
       "      <td>0.016241</td>\n",
       "      <td>0.002657</td>\n",
       "      <td>51</td>\n",
       "    </tr>\n",
       "    <tr>\n",
       "      <th>ASO6mtreads</th>\n",
       "      <td>6</td>\n",
       "      <td>3760</td>\n",
       "      <td>3755</td>\n",
       "      <td>271</td>\n",
       "      <td>63</td>\n",
       "      <td>0.016831</td>\n",
       "      <td>0.002391</td>\n",
       "      <td>53</td>\n",
       "    </tr>\n",
       "  </tbody>\n",
       "</table>\n",
       "</div>"
      ],
      "text/plain": [
       "             state  reads_raw  reads_passed_filter  clusters_total  \\\n",
       "ASO1mtreads      6       2723                 2721             273   \n",
       "ASO2mtreads      6       2362                 2360             254   \n",
       "ASO3mtreads      6       1991                 1990             302   \n",
       "ASO4mtreads      6       1449                 1447             194   \n",
       "ASO5mtreads      6       3220                 3215             297   \n",
       "ASO6mtreads      6       3760                 3755             271   \n",
       "\n",
       "             clusters_hidepth  hetero_est  error_est  reads_consens  \n",
       "ASO1mtreads                59    0.006884   0.001928             55  \n",
       "ASO2mtreads                54    0.010536   0.002622             48  \n",
       "ASO3mtreads                39    0.016154   0.002737             32  \n",
       "ASO4mtreads                27    0.009593   0.001640             20  \n",
       "ASO5mtreads                58    0.016241   0.002657             51  \n",
       "ASO6mtreads                63    0.016831   0.002391             53  "
      ]
     },
     "execution_count": 50,
     "metadata": {},
     "output_type": "execute_result"
    }
   ],
   "source": [
    "denovo.stats"
   ]
  },
  {
   "cell_type": "markdown",
   "metadata": {},
   "source": [
    "### Only one locus shared across 4 samples in this data set"
   ]
  },
  {
   "cell_type": "code",
   "execution_count": 53,
   "metadata": {},
   "outputs": [
    {
     "data": {
      "text/html": [
       "<div>\n",
       "<style>\n",
       "    .dataframe thead tr:only-child th {\n",
       "        text-align: right;\n",
       "    }\n",
       "\n",
       "    .dataframe thead th {\n",
       "        text-align: left;\n",
       "    }\n",
       "\n",
       "    .dataframe tbody tr th {\n",
       "        vertical-align: top;\n",
       "    }\n",
       "</style>\n",
       "<table border=\"1\" class=\"dataframe\">\n",
       "  <thead>\n",
       "    <tr style=\"text-align: right;\">\n",
       "      <th></th>\n",
       "      <th>locus_coverage</th>\n",
       "      <th>sum_coverage</th>\n",
       "    </tr>\n",
       "  </thead>\n",
       "  <tbody>\n",
       "    <tr>\n",
       "      <th>1</th>\n",
       "      <td>0</td>\n",
       "      <td>0</td>\n",
       "    </tr>\n",
       "    <tr>\n",
       "      <th>2</th>\n",
       "      <td>0</td>\n",
       "      <td>0</td>\n",
       "    </tr>\n",
       "    <tr>\n",
       "      <th>3</th>\n",
       "      <td>0</td>\n",
       "      <td>0</td>\n",
       "    </tr>\n",
       "    <tr>\n",
       "      <th>4</th>\n",
       "      <td>1</td>\n",
       "      <td>1</td>\n",
       "    </tr>\n",
       "    <tr>\n",
       "      <th>5</th>\n",
       "      <td>0</td>\n",
       "      <td>1</td>\n",
       "    </tr>\n",
       "    <tr>\n",
       "      <th>6</th>\n",
       "      <td>0</td>\n",
       "      <td>1</td>\n",
       "    </tr>\n",
       "  </tbody>\n",
       "</table>\n",
       "</div>"
      ],
      "text/plain": [
       "   locus_coverage  sum_coverage\n",
       "1               0             0\n",
       "2               0             0\n",
       "3               0             0\n",
       "4               1             1\n",
       "5               0             1\n",
       "6               0             1"
      ]
     },
     "execution_count": 53,
     "metadata": {},
     "output_type": "execute_result"
    }
   ],
   "source": [
    "denovo.stats_dfs.s7_loci"
   ]
  },
  {
   "cell_type": "markdown",
   "metadata": {},
   "source": [
    "### Visual inspection of .loci file"
   ]
  },
  {
   "cell_type": "code",
   "execution_count": 13,
   "metadata": {},
   "outputs": [
    {
     "name": "stdout",
     "output_type": "stream",
     "text": [
      "ASO1mtreads     TACCTTGAGGGCAAATATCATATTGGGGAGCGACAGTAATTACTAATCTTGTTAGGGCAATTCCTTATTGAGGTCAAAACTTAGTTATTTGAATTTGAGGTGGATATTCTGTYGGTCCTGCAACTTTGGGCCGATTTTTTTCTTTACATTTTATTTTACCATTTTTAATTCTTGTATTAGTTTTAATACATTTAATTTTTTTACATTTAAAAGGATC\r\n",
      "ASO2mtreads     TACCTTGAGGKCAAATATCATATTGGGGAGCAACAGTAATTACTAATCTTGTTAGGGCAATTCCTTATTGAGGTCAAAACTTAGTTATTTGAATTTGAGGTGGATATTCTGTTGGCCCTGCAACTTTGGGCCGATTTTTTTCTTTACATTTTATTTTACCATTTTTAATTCTTGTATTAGTTTTAATACATTTAATTTTTTTACATTTAAAAGGATC\r\n",
      "ASO3mtreads     TACCTTGAGGACAAATATCATATTGGGGAGCAACAGTAATTACTAATCTTGTTAGGGCAATTCCTTATTGAGGTCAAAACTTAGTTATTTGAATTTGAGGTGGATATTCTGTAGGCCCTGCAACTTTGGGCCGATTTTTTTCTTTACATTTTATTTTACCATTTTTAATTCTTGTATTAGTTTTAATACATTTAATTTTTTTACATTTRAAAGGATC\r\n",
      "ASO4mtreads     TACCTTGAGGGCAAATATCATATTGGGGAGCGACAGTAATTACTAATCTTGTTAGGGCAATTCCTTATTGAGGTCAAAACTTAGTTATTTGAATTTGAGGTGGATATTCTGTTGGTCCTGCAACTTTGGGCCGATTTTTTTCTTTACATTTTATTTTACCATTTTTAATTCTTGTATTAGTTTTAATACATTTAATTTTTTTACATTTAAAAGGATC\r\n",
      "ASO5mtreads     -----------CAAATATCATATTGGGGAGCAACAGTAATTACTAATCTTGTTAGGGCAATTCCTTATTGAGGTCAAAACTTAGTTATTTGAATTTGAGGTGGATATTCTGTTGGNCCTGCAACTTTGGGNCGATTTTTTTCTTTACATTTNATTTTACCATTTTTAATTCTTGTATTAGTTTTAATACATTTAATTTTTTTACATTTAAAAGGATC\r\n",
      "ASO6mtreads     --CCTTGAGGACAAATATCATATTGGGGAGCAACAGTAATTACTAATCTTGTTAGGGCAATTCCTTATTGAGGTCAAAACTTAGTTATTTGAATTTGAGGTGGATATTCTGTTGGCCCTGCAACTTTGGGCCGATTTTTTTCTTTACATTTTATTTTACCATTTTTAATTCTTGTATTAGTTTTAATNCATTTAATTTTTTTACATTTAAAAGGATC\r\n",
      "//                        *                    *                                                                                -  *                                                                                            -        |17|\r\n",
      "ASO1mtreads     ATGGAGTATTACATTACAAAACAAATAA-TTTAAACTCTAAAAATTATGGCGGCTAAAATAAAAAAACAGGGGAACTTACCACATCATAGACAATCATCTAGAAATCTAATATTTTTTAAAAGTTTGTATGCCGTCGTCACAAAATAAAATTTATTATTTTATTAAAAAATTGAAATTTATATTGA-TTTAATTTAAATCAATTTCAATTATATGTCAGATC\r\n",
      "ASO2mtreads     --------------------------------------------------------------AAAAACAGGGGAACTTACCACATCATAGACAATCATCTAGAAATCTAATATTTTTTAAAAGTTTGTATGCCGTCGTCACAAAATAAAATTTATTATTTTATTAAAAAATTGAAA-TTATATTGA-TTTGATTTAAATCAATATCGATTATATGTCAGATC\r\n",
      "ASO3mtreads     ATGGAGTATTACATTACAAAATAAATAATTTTAAACTCTAAAAATTATGGCGGCTAAAATAAAAAAACAGGGGAACTTACCACATTATAGACAATCATCTAGAAATCTAATATTTTTTTAAAGTTTGTATGCCGTCGTCACAAAATAAAATTTATTATTTTATTAAAAAATTGAAA-TTATATTGATTTTGATTTAAATCAATATCGATTATATGTCAGATC\r\n",
      "ASO5mtreads     ATGGAGTATTACATTAYAAAATAAATAATTTTAAACTCTAAAAATTATGGCGGCTAAAATAAAAAAACAGGGGAACTTACCACATNATAGACAATCATCTAGAAATCTAATATTTTTTNAAAGTTTGTATGCCGTCGTCACAAAATAAAATTTATTATTTTATTAAAAAATTGAAA-TTATATTGATTTTGATTTAAATYAATATCAATTATATGTCAGATC\r\n",
      "ASO6mtreads     ATGGAGTATTATATTATAAAATAAATAATTTTAAACTCTAAAAATTATGGCGGCTAAAATAAAAAAACAGGGGAACTTACCACATCATAGACAATCATCTAGAAATCTAATATTTTTTAAAAGTTTGTATGCCGTCGTCACAAAATAAAATTTATTATTTTATTAAAAAATTGAAA-TTATATTGATTTTGATTTAAATCAATATCNATTATATGTCAGATC\r\n",
      "//                         -    *    -                                                               -                                -                                                                       -        -   -  *               |20|\r\n",
      "ASO1mtreads     AAAGAGTCGAAGATTTAACATTAGAAAAGGATTATTATCAATTATTCCTAAAATAAGACTAATATGATTTATTTTAATTATATTTAATATAGCTTTCCCTCCATCATTAAATTTTCTTGGTGAACTAATTATTATTCCTTGTTTATTTAATTATAGATTTATTTTATTAATTATTTATGGTATAGGTTTATTTTTATCTGTTTTATATAATATAGTTCTCTATGTAAATCTTAATCATGGAACATTAAGTTGTTTATTAAGCTGTTATAAGATAACAACAACAACATTGnnnnGATCAAAGAGTCGAAGATTTAACATTAGAAAAGGATTATTATCAATTATTCCTAAAATAAGACTAATATGATTTATTTTAATTATATTTAATATAGCTTTCCCTCCATCATTAAATTTTCTTGGTGAACTAATTATTATTCCTTGTTTATTTAATTATAGATRTATTTTATTAATTATTTATGGTATAGGTTTATTTTTATCTGTTTTATATAATATAGTTCTCTATGTAAATCTTAATCATGGAAAATTAAGTTGTTTATTAAGCTGTTATAAGATAACAACAACAACATTGAGATC\r\n",
      "ASO4mtreads     AAAGAGTCGAAGATTTAACATTAGAAAAGGATTATTATCAATTATTCCTAAAATAAGACTAATATGATTTATTTTAATTATATTTAATATAGCTTTCCCTCCATCATTAAATTTTCTTGGTGAACTAATTATTATTCCTTGTTTATTTAATTATAGATTTATTTTATTAATTATTTATGGTATAGGTTTATTTTTATCTGTTTTATATATTATAGTTCTCTATGTAAATCTTAATCATGGAAAATTAAGTTGTTTATTAAGCTGTTATAAGAT---AACAACAACATTGnnnnGATCAAAGAGTCGAAGATTTAACATTAGAAAAGGATTATTATCAATTATTCCTAAAATAAGACTAATATGATTTATTTTAATTATATTTAATATAGCTTTCCCTCCATCATTAAATTTTCTTGGTGAACTAATTATTATTCCTTGTTTATTTAATTATAGATTTATTTTATTAATTATTTATGGTATAGGTTTATTTTTATCTGTTTTATATAATATAGTTCTCTATGTAAATCTTAATCATGGAAAATTAAGTTGTTTATTAAGCTGTTATAAGAT---AACAACAACATTGAGATC\r\n",
      "ASO5mtreads     AAAAAGTCGAAGATTTAATATTAGAAAAGGATTATTATCAATTATTCCTAAAATAAGACTGATATGATTTATTTTAATTATATTTAATATAGCTTTCCCTCCATCATTAAATTTTCTTGGTGAATTAATTATTATTCCTTGTTTATTTAATTATAGATTTATTTTATTAATTATTTATGGTATAGGTTTATTTTTATCTGTTTTATATAATATAGTTCTCTATGTAAATCTTAATCATGGAAAATTAAGTTGTTTATTAAGCTGTTATAAGAT------AACAACATTGnnnnGATCAAAAAGTTGAAGATTTAATATTAGAAAAGGATTATTATCAATTATTCCTAAAATAAGACTGATATGATTTATTTTAATTATATTTAATATAGCTTTCCCTCCATCATTAAATTTTCTTGGTGAATTAATTATTATTCCTTGTTTATTTAATTATAGATTTATTTTATTAATTATTTATGGTATAGGTTTATTTTTATCTGTTTTATATAATATAGTTCTCTATGTAAATCTTAATCATGGAAAATTAAGTTGTTTATTAAGCTGTTATAAGAT------AACAACATTGAGATC\r\n",
      "ASO6mtreads     AAAAAGTCGAAGATTTAATATTAGAAAAGGATTATTATCAATTATTCCTAAAATAAGACTGATATGATTTATTTTAATTATATTWAATATAGCTTTNCCTCCATCATTAAATTTTCTTGGTGAATTAATTATTATTCCTTGTTTATTTANTTATAGATTTATTTTATTAATTATTTATGGTATAGGTTTATTTTTATCTGTTTTATATAATATAGTTCTCTATGTAAATNTTAATCATGGANAATTAAGTTGTTTATTANGNTGTTATAAGAT------AACAACNTTGnnnnGATCAAAAAGTCGAAGATTTAATATTAGAAAAGGATTATTATCAATTATTCCTAAAATAAGACTGATATGATTTATTTTAATTATATTWAATATAGCTTTCCCTCCATCATTAAATTTTCTTGGTGAATTAATTATTATTCCTTGTTTATTTAATTATAGATTTATTTTATTAATTATTTATGGTATAGGTTTATTTTTATCTGTTTTATATAATATAGTTCTCTATGTAAATCTTAATCATGGAAAATTAAGTTGTTTATTAAGCTGTTATAAGAT------AACAACATTGAGATC\r\n",
      "//                 *              *                                         *                       -                                       *                                                                                    -                                -                                                         *   -          *                                         *                       -                                       *                                 -                                                                                                                                       |23|\r\n",
      "ASO1mtreads     TGTTAATAATATAGTAATAGCACCAGCTAATACAGGTAATGATAATAATAATAAAAAAACTGTAATTAAAATTGATC\r\n",
      "ASO2mtreads     TGTTAATAATATAGTAATAGCNCCAGCTAATACAGGTAATGANAANANTAATAAAAAAACTGTAATTAAAATTGATC\r\n",
      "ASO3mtreads     TGTTAATAATATAGTAATAGCACCAGCTAATACAGGTAATGATAATAATAATAAAAAAACTGTAATTAAAATTGATC\r\n",
      "ASO4mtreads     TGTTAATAATATAGTAATAGCACCAGCTAATACAGGTAATGATAATAATAATAAAAAAACTGTAATTAAAATTGATC\r\n",
      "ASO5mtreads     TGTTAATAATATAGTAATAGCACCAGCTAATACAGGTAATGAYAATAATAATAAAAAAACTGTAATTAAAATTGATC\r\n",
      "ASO6mtreads     TGTTAATANTATAGTAATAGCACCAGCTAATACAGGTAATGAYAATAATAATAAAAAAACTGTAATTAAAATTGATC\r\n",
      "//                                                        *                                  |32|\r\n",
      "ASO1mtreads     AGCAATCGCGGTCATACTTTAATAAAAATTTTAAATATAATTAATATTTTAATTTACATAAATAAAAAGAATTTTTAAAAGTAAAATTCAAAATTCTTATAAAACTTTTTTTATC-AAAAATAAAATTAAATTTAATATT\r\n",
      "ASO2mtreads     AGCAATCGCGGTCATACTTTAATAAAAATTTTAAATATAATTAATATTTTAATTTACATAAATAAAAATAATTTTTAAAAGTAAAATTCAAAATTTTTATAAAACTTTTTTTATC-AAAAATAAAATTAAATTTAATATT\r\n",
      "ASO3mtreads     AGCAATCGCGGTCATACTTTAATAAAAATTTTAAATATAATTAATATTTTAATTTACATAAATAAAAATAATTTTTAAAAGTAAAATTCAAAATTTTTATAAAACTTTTTTTATCAAAAAATAAAATTAAATTTAATATT\r\n",
      "ASO5mtreads     AGCAATCGCGGTCATACTTTAATAAAAATTTTAAATATAATTAATATTTTAATTTACATAAATAAAAATAATTTTTAAAAGTAAAATTTAAAATTTTTATAAAACTTTTTTTATCAAAAAATAAAATTAAATTTAATATT\r\n",
      "//                                                                                  -                   -      -                                            |50|\r\n",
      "ASO1mtreads     -----------------------------GATTACGAGCTTCCGCTCAATCTATTTCTTATGAAATTTCAATAATAACATTAATTTTATTTCCTATATTTATTTTAATATCTATATCTTTTCAATATTTGGTGTTTAATTTTCCTGTATTTGTACTCTTTTTACCTATATTATTTTTATGGTTTGTAACTTTATTAGCAGAGACTAATCGGGCGCCTTTTGATTTTGCAGAAGGGGA-----------------------------------------------\r\n",
      "ASO3mtreads     CTCAAACAGTGCATATTCTTTTTTAGGAAGATTACGAGCTTCCGCTCAATCTATTTCTTATGAAATTTCAATAATAACATTAATTTTATTTCCTATATTTATTTTAATATCTATATCTTTTCAATATTTGGTKTTTAATTTTCCTGTATTTGTACTCTTTTTACCTATATTATTTTTATGGTTTGTAACTTTATTAGCAGARACTAATCGGGCACCTTTTGATTTTGCAGAAGGRGAATCAGAAATTGTATCTGGTTTTAATATTGAATATGCTGGTGGTTTAT\r\n",
      "ASO4mtreads     ATCAAACAGGGCATATTCTTTTTTAGGAAGATTACGAGCTTCCGCTCAATCTATTTCTTATGAAATTTCAATAATAACATTAATTTTATTTCCTATATTTATTTTAATATCTATATCTTTTCAATATTTGGTGTTTAATTTTCCTGTATTTGTACTCTTTTTACCTATATTATTTTTATGGTTTGTAACTTTATTAGCAGAGACTAATCGGGCGCCTTTTGATTTTGCAGAAGGGGAATCAGAAATTGTATCTGGCTTTAATATTGAATATGCTGGTGGTTTAT\r\n",
      "ASO5mtreads     CTCAAACAGTGCATATTCTTTTTTAGGAAGATTACGAGCTTCCGCTCAATCTATTTCTTATGAAATTTCAATAATAACATTAATTTTATTTCCTATATTTATTTTAATATCTATATCTTTTCAATATTTGGTTTTTAATTTTCCTGTATTTGTACTCTTTTTACCTATATTATTTTTATGGTTTGTAACTTTATTAGCAGAAACTAATCGGGCACCTTTTGATTTTGCAGAAGGAGAATCAGAAATTGTATCTGGTTTTAATATTGAATATGCTGGTGGTTTAT\r\n",
      "ASO6mtreads     CTCAAACAGTGCATATTCTTTTTTAGGAAGATTACGAGCTTCCGCTCAATCTATTTCTTATGAAATTTCAATAATAACATTAATTTTATTTCCTATATTTATTTTAATATCTATATCTTTTCAATATTTGGTTTTTAATTTTCCTGTATTTGTACTCTTTTTACCTATATTATTTTTATGGTTTGTAACTTTATTAGCAGAAACTAATCGGGCACCTTTTGATTTTGCAGAAGGAGAATCAGAAATTGTATCTGGTTTTAATATTGAATATGCTGGTGGTTTAT\r\n",
      "//              -        -                                                                                                                          *                                                                    *           *                    *                    -                            |85|\r\n",
      "\r\n"
     ]
    }
   ],
   "source": [
    "cat analysis-ipyrad/denovo_outfiles/denovo.loci"
   ]
  },
  {
   "cell_type": "markdown",
   "metadata": {},
   "source": [
    "### Analysis"
   ]
  },
  {
   "cell_type": "code",
   "execution_count": null,
   "metadata": {
    "collapsed": true
   },
   "outputs": [],
   "source": [
    "## conda install toytree -c eaton-lab\n",
    "## conda install raxml -c bioconda"
   ]
  },
  {
   "cell_type": "code",
   "execution_count": 14,
   "metadata": {},
   "outputs": [
    {
     "name": "stdout",
     "output_type": "stream",
     "text": [
      "job denovo finished successfully\n"
     ]
    }
   ],
   "source": [
    "### infer a quick tree\n",
    "import ipyrad.analysis as ipa\n",
    "import toytree \n",
    "\n",
    "rax = ipa.raxml(name=denovo.name, data=denovo.outfiles.phy)\n",
    "rax.run()"
   ]
  },
  {
   "cell_type": "code",
   "execution_count": 20,
   "metadata": {},
   "outputs": [
    {
     "data": {
      "text/html": [
       "<div align=\"center\" class=\"toyplot\" id=\"t69cf0579b5da4935b5a34001c4a35a33\"><svg class=\"toyplot-canvas-Canvas\" height=\"300.0px\" id=\"t0ddd3eaa55a74f8097193afa782ff38c\" preserveAspectRatio=\"xMidYMid meet\" style=\"background-color:transparent;fill:rgb(16.1%,15.3%,14.1%);fill-opacity:1.0;font-family:Helvetica;font-size:12px;opacity:1.0;stroke:rgb(16.1%,15.3%,14.1%);stroke-opacity:1.0;stroke-width:1.0\" viewBox=\"0 0 300.0 300.0\" width=\"300.0px\" xmlns=\"http://www.w3.org/2000/svg\" xmlns:toyplot=\"http://www.sandia.gov/toyplot\" xmlns:xlink=\"http://www.w3.org/1999/xlink\"><g class=\"toyplot-coordinates-Cartesian\" id=\"t7c0ab6af7e0f4491ba28583d89eca77a\"><clipPath id=\"t7eb19112080e4fdf8c23fdebedc4f1d8\"><rect height=\"300.0\" width=\"300.0\" x=\"0.0\" y=\"0.0\"></rect></clipPath><g clip-path=\"url(#t7eb19112080e4fdf8c23fdebedc4f1d8)\"><g class=\"toyplot-mark-Text\" id=\"t8a631788720548e5843c05c80386b7cb\" style=\"-toyplot-anchor-shift:15px;alignment-baseline:middle;font-size:12px;font-weight:normal;stroke:none;text-anchor:start\"><g class=\"toyplot-Series\"><text class=\"toyplot-Datum\" style=\"fill:rgb(16.1%,15.3%,14.1%);fill-opacity:1.0;font-weight:normal;opacity:1.0;stroke:none;text-anchor:start\" transform=\"translate(56.39270055281979,55.660377358490585)translate(15.0,3.375)\"><tspan style=\"font-size:12.0px\">ASO4mtreads</tspan></text><text class=\"toyplot-Datum\" style=\"fill:rgb(16.1%,15.3%,14.1%);fill-opacity:1.0;font-weight:normal;opacity:1.0;stroke:none;text-anchor:start\" transform=\"translate(62.162041002589156,93.396226415094347)translate(15.0,3.375)\"><tspan style=\"font-size:12.0px\">ASO1mtreads</tspan></text><text class=\"toyplot-Datum\" style=\"fill:rgb(16.1%,15.3%,14.1%);fill-opacity:1.0;font-weight:normal;opacity:1.0;stroke:none;text-anchor:start\" transform=\"translate(130.43480641046514,131.13207547169813)translate(15.0,3.375)\"><tspan style=\"font-size:12.0px\">ASO2mtreads</tspan></text><text class=\"toyplot-Datum\" style=\"fill:rgb(16.1%,15.3%,14.1%);fill-opacity:1.0;font-weight:normal;opacity:1.0;stroke:none;text-anchor:start\" transform=\"translate(162.96404299958405,168.8679245283019)translate(15.0,3.375)\"><tspan style=\"font-size:12.0px\">ASO3mtreads</tspan></text><text class=\"toyplot-Datum\" style=\"fill:rgb(16.1%,15.3%,14.1%);fill-opacity:1.0;font-weight:normal;opacity:1.0;stroke:none;text-anchor:start\" transform=\"translate(165.27377521613832,206.60377358490567)translate(15.0,3.375)\"><tspan style=\"font-size:12.0px\">ASO5mtreads</tspan></text><text class=\"toyplot-Datum\" style=\"fill:rgb(16.1%,15.3%,14.1%);fill-opacity:1.0;font-weight:normal;opacity:1.0;stroke:none;text-anchor:start\" transform=\"translate(164.45396474193683,244.33962264150944)translate(15.0,3.375)\"><tspan style=\"font-size:12.0px\">ASO6mtreads</tspan></text></g></g><g class=\"toyplot-mark-Graph\" id=\"t751a62a235694254a60c19a2c860aa09\"><g class=\"toyplot-Edges\"><path d=\"M 50.0 104.402515723 L 50.0 55.6603773585\" style=\"fill:none;stroke:rgb(16.1%,15.3%,14.1%);stroke-linecap:round;stroke-opacity:1.0;stroke-width:2\"></path><path d=\"M 50.0 55.6603773585 L 56.3927005528 55.6603773585\" style=\"fill:none;stroke:rgb(16.1%,15.3%,14.1%);stroke-linecap:round;stroke-opacity:1.0;stroke-width:2\"></path><path d=\"M 50.0 104.402515723 L 50.0 93.3962264151\" style=\"fill:none;stroke:rgb(16.1%,15.3%,14.1%);stroke-linecap:round;stroke-opacity:1.0;stroke-width:2\"></path><path d=\"M 50.0 93.3962264151 L 62.1620410026 93.3962264151\" style=\"fill:none;stroke:rgb(16.1%,15.3%,14.1%);stroke-linecap:round;stroke-opacity:1.0;stroke-width:2\"></path><path d=\"M 50.0 104.402515723 L 50.0 164.150943396\" style=\"fill:none;stroke:rgb(16.1%,15.3%,14.1%);stroke-linecap:round;stroke-opacity:1.0;stroke-width:2\"></path><path d=\"M 50.0 164.150943396 L 130.428580962 164.150943396\" style=\"fill:none;stroke:rgb(16.1%,15.3%,14.1%);stroke-linecap:round;stroke-opacity:1.0;stroke-width:2\"></path><path d=\"M 130.428580962 164.150943396 L 130.428580962 131.132075472\" style=\"fill:none;stroke:rgb(16.1%,15.3%,14.1%);stroke-linecap:round;stroke-opacity:1.0;stroke-width:2\"></path><path d=\"M 130.428580962 131.132075472 L 130.43480641 131.132075472\" style=\"fill:none;stroke:rgb(16.1%,15.3%,14.1%);stroke-linecap:round;stroke-opacity:1.0;stroke-width:2\"></path><path d=\"M 130.428580962 164.150943396 L 130.428580962 197.169811321\" style=\"fill:none;stroke:rgb(16.1%,15.3%,14.1%);stroke-linecap:round;stroke-opacity:1.0;stroke-width:2\"></path><path d=\"M 130.428580962 197.169811321 L 142.339820686 197.169811321\" style=\"fill:none;stroke:rgb(16.1%,15.3%,14.1%);stroke-linecap:round;stroke-opacity:1.0;stroke-width:2\"></path><path d=\"M 142.339820686 197.169811321 L 142.339820686 168.867924528\" style=\"fill:none;stroke:rgb(16.1%,15.3%,14.1%);stroke-linecap:round;stroke-opacity:1.0;stroke-width:2\"></path><path d=\"M 142.339820686 168.867924528 L 162.964043 168.867924528\" style=\"fill:none;stroke:rgb(16.1%,15.3%,14.1%);stroke-linecap:round;stroke-opacity:1.0;stroke-width:2\"></path><path d=\"M 142.339820686 197.169811321 L 142.339820686 225.471698113\" style=\"fill:none;stroke:rgb(16.1%,15.3%,14.1%);stroke-linecap:round;stroke-opacity:1.0;stroke-width:2\"></path><path d=\"M 142.339820686 225.471698113 L 158.446841665 225.471698113\" style=\"fill:none;stroke:rgb(16.1%,15.3%,14.1%);stroke-linecap:round;stroke-opacity:1.0;stroke-width:2\"></path><path d=\"M 158.446841665 225.471698113 L 158.446841665 206.603773585\" style=\"fill:none;stroke:rgb(16.1%,15.3%,14.1%);stroke-linecap:round;stroke-opacity:1.0;stroke-width:2\"></path><path d=\"M 158.446841665 206.603773585 L 165.273775216 206.603773585\" style=\"fill:none;stroke:rgb(16.1%,15.3%,14.1%);stroke-linecap:round;stroke-opacity:1.0;stroke-width:2\"></path><path d=\"M 158.446841665 225.471698113 L 158.446841665 244.339622642\" style=\"fill:none;stroke:rgb(16.1%,15.3%,14.1%);stroke-linecap:round;stroke-opacity:1.0;stroke-width:2\"></path><path d=\"M 158.446841665 244.339622642 L 164.453964742 244.339622642\" style=\"fill:none;stroke:rgb(16.1%,15.3%,14.1%);stroke-linecap:round;stroke-opacity:1.0;stroke-width:2\"></path></g><g class=\"toyplot-Vertices\"><g class=\"toyplot-Datum\" style=\"fill:rgb(40%,76.1%,64.7%);fill-opacity:1.0;opacity:1.0;stroke:rgb(40%,76.1%,64.7%);stroke-opacity:1.0\"><circle cx=\"50.0\" cy=\"104.40251572327045\" r=\"0.0\"></circle></g><g class=\"toyplot-Datum\" style=\"fill:rgb(40%,76.1%,64.7%);fill-opacity:1.0;opacity:1.0;stroke:rgb(40%,76.1%,64.7%);stroke-opacity:1.0\"><circle cx=\"50.0\" cy=\"55.660377358490585\" r=\"0.0\"></circle></g><g class=\"toyplot-Datum\" style=\"fill:rgb(40%,76.1%,64.7%);fill-opacity:1.0;opacity:1.0;stroke:rgb(40%,76.1%,64.7%);stroke-opacity:1.0\"><circle cx=\"56.39270055281979\" cy=\"55.660377358490585\" r=\"0.0\"></circle></g><g class=\"toyplot-Datum\" style=\"fill:rgb(40%,76.1%,64.7%);fill-opacity:1.0;opacity:1.0;stroke:rgb(40%,76.1%,64.7%);stroke-opacity:1.0\"><circle cx=\"50.0\" cy=\"93.396226415094347\" r=\"0.0\"></circle></g><g class=\"toyplot-Datum\" style=\"fill:rgb(40%,76.1%,64.7%);fill-opacity:1.0;opacity:1.0;stroke:rgb(40%,76.1%,64.7%);stroke-opacity:1.0\"><circle cx=\"62.162041002589156\" cy=\"93.396226415094347\" r=\"0.0\"></circle></g><g class=\"toyplot-Datum\" style=\"fill:rgb(40%,76.1%,64.7%);fill-opacity:1.0;opacity:1.0;stroke:rgb(40%,76.1%,64.7%);stroke-opacity:1.0\"><circle cx=\"50.0\" cy=\"164.15094339622644\" r=\"0.0\"></circle></g><g class=\"toyplot-Datum\" style=\"fill:rgb(40%,76.1%,64.7%);fill-opacity:1.0;opacity:1.0;stroke:rgb(40%,76.1%,64.7%);stroke-opacity:1.0\"><circle cx=\"130.42858096237126\" cy=\"164.15094339622644\" r=\"0.0\"></circle></g><g class=\"toyplot-Datum\" style=\"fill:rgb(40%,76.1%,64.7%);fill-opacity:1.0;opacity:1.0;stroke:rgb(40%,76.1%,64.7%);stroke-opacity:1.0\"><circle cx=\"130.42858096237126\" cy=\"164.15094339622644\" r=\"0.0\"></circle></g><g class=\"toyplot-Datum\" style=\"fill:rgb(40%,76.1%,64.7%);fill-opacity:1.0;opacity:1.0;stroke:rgb(40%,76.1%,64.7%);stroke-opacity:1.0\"><circle cx=\"130.42858096237126\" cy=\"131.13207547169813\" r=\"0.0\"></circle></g><g class=\"toyplot-Datum\" style=\"fill:rgb(40%,76.1%,64.7%);fill-opacity:1.0;opacity:1.0;stroke:rgb(40%,76.1%,64.7%);stroke-opacity:1.0\"><circle cx=\"130.43480641046514\" cy=\"131.13207547169813\" r=\"0.0\"></circle></g><g class=\"toyplot-Datum\" style=\"fill:rgb(40%,76.1%,64.7%);fill-opacity:1.0;opacity:1.0;stroke:rgb(40%,76.1%,64.7%);stroke-opacity:1.0\"><circle cx=\"130.42858096237126\" cy=\"197.16981132075472\" r=\"0.0\"></circle></g><g class=\"toyplot-Datum\" style=\"fill:rgb(40%,76.1%,64.7%);fill-opacity:1.0;opacity:1.0;stroke:rgb(40%,76.1%,64.7%);stroke-opacity:1.0\"><circle cx=\"142.33982068648714\" cy=\"197.16981132075472\" r=\"0.0\"></circle></g><g class=\"toyplot-Datum\" style=\"fill:rgb(40%,76.1%,64.7%);fill-opacity:1.0;opacity:1.0;stroke:rgb(40%,76.1%,64.7%);stroke-opacity:1.0\"><circle cx=\"142.33982068648714\" cy=\"197.16981132075472\" r=\"0.0\"></circle></g><g class=\"toyplot-Datum\" style=\"fill:rgb(40%,76.1%,64.7%);fill-opacity:1.0;opacity:1.0;stroke:rgb(40%,76.1%,64.7%);stroke-opacity:1.0\"><circle cx=\"142.33982068648714\" cy=\"168.8679245283019\" r=\"0.0\"></circle></g><g class=\"toyplot-Datum\" style=\"fill:rgb(40%,76.1%,64.7%);fill-opacity:1.0;opacity:1.0;stroke:rgb(40%,76.1%,64.7%);stroke-opacity:1.0\"><circle cx=\"162.96404299958405\" cy=\"168.8679245283019\" r=\"0.0\"></circle></g><g class=\"toyplot-Datum\" style=\"fill:rgb(40%,76.1%,64.7%);fill-opacity:1.0;opacity:1.0;stroke:rgb(40%,76.1%,64.7%);stroke-opacity:1.0\"><circle cx=\"142.33982068648714\" cy=\"225.47169811320754\" r=\"0.0\"></circle></g><g class=\"toyplot-Datum\" style=\"fill:rgb(40%,76.1%,64.7%);fill-opacity:1.0;opacity:1.0;stroke:rgb(40%,76.1%,64.7%);stroke-opacity:1.0\"><circle cx=\"158.44684166485317\" cy=\"225.47169811320754\" r=\"0.0\"></circle></g><g class=\"toyplot-Datum\" style=\"fill:rgb(40%,76.1%,64.7%);fill-opacity:1.0;opacity:1.0;stroke:rgb(40%,76.1%,64.7%);stroke-opacity:1.0\"><circle cx=\"158.44684166485317\" cy=\"225.47169811320754\" r=\"0.0\"></circle></g><g class=\"toyplot-Datum\" style=\"fill:rgb(40%,76.1%,64.7%);fill-opacity:1.0;opacity:1.0;stroke:rgb(40%,76.1%,64.7%);stroke-opacity:1.0\"><circle cx=\"158.44684166485317\" cy=\"206.60377358490567\" r=\"0.0\"></circle></g><g class=\"toyplot-Datum\" style=\"fill:rgb(40%,76.1%,64.7%);fill-opacity:1.0;opacity:1.0;stroke:rgb(40%,76.1%,64.7%);stroke-opacity:1.0\"><circle cx=\"165.27377521613832\" cy=\"206.60377358490567\" r=\"0.0\"></circle></g><g class=\"toyplot-Datum\" style=\"fill:rgb(40%,76.1%,64.7%);fill-opacity:1.0;opacity:1.0;stroke:rgb(40%,76.1%,64.7%);stroke-opacity:1.0\"><circle cx=\"158.44684166485317\" cy=\"244.33962264150944\" r=\"0.0\"></circle></g><g class=\"toyplot-Datum\" style=\"fill:rgb(40%,76.1%,64.7%);fill-opacity:1.0;opacity:1.0;stroke:rgb(40%,76.1%,64.7%);stroke-opacity:1.0\"><circle cx=\"164.45396474193683\" cy=\"244.33962264150944\" r=\"0.0\"></circle></g></g></g></g></g></svg><div class=\"toyplot-interactive\"></div></div>"
      ]
     },
     "metadata": {},
     "output_type": "display_data"
    }
   ],
   "source": [
    "tre = toytree.tree(rax.trees.bestTree)\n",
    "tre.draw(width=300, use_edge_lengths=True);"
   ]
  }
 ],
 "metadata": {
  "kernelspec": {
   "display_name": "Python 2",
   "language": "python",
   "name": "python2"
  },
  "language_info": {
   "codemirror_mode": {
    "name": "ipython",
    "version": 2
   },
   "file_extension": ".py",
   "mimetype": "text/x-python",
   "name": "python",
   "nbconvert_exporter": "python",
   "pygments_lexer": "ipython2",
   "version": "2.7.13"
  }
 },
 "nbformat": 4,
 "nbformat_minor": 2
}
