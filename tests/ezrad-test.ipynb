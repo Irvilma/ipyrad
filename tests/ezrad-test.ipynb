{
 "cells": [
  {
   "cell_type": "markdown",
   "metadata": {},
   "source": [
    "## MiSeQ Ez-rad data exploration\n",
    "\n",
    "Download the compressed fastq files from Zac's github repo. "
   ]
  },
  {
   "cell_type": "code",
   "execution_count": 1,
   "metadata": {},
   "outputs": [
    {
     "name": "stdout",
     "output_type": "stream",
     "text": [
      "ipyrad_formatted_data/ASO1mtreads_R1_.fastq.gz\n",
      "ipyrad_formatted_data/\n",
      "ipyrad_formatted_data/ASO5mtreads_R1_.fastq.gz\n",
      "ipyrad_formatted_data/ASO2mtreads_R1_.fastq.gz\n",
      "ipyrad_formatted_data/ASO3mtreads_R1_.fastq.gz\n",
      "ipyrad_formatted_data/ASO4mtreads_R1_.fastq.gz\n",
      "ipyrad_formatted_data/ASO6mtreads_R1_.fastq.gz\n"
     ]
    },
    {
     "name": "stderr",
     "output_type": "stream",
     "text": [
      "  % Total    % Received % Xferd  Average Speed   Time    Time     Time  Current\n",
      "                                 Dload  Upload   Total   Spent    Left  Speed\n",
      "\r",
      "  0     0    0     0    0     0      0      0 --:--:-- --:--:-- --:--:--     0\r",
      "  0     0    0     0    0     0      0      0 --:--:-- --:--:-- --:--:--     0\r",
      "100   165  100   165    0     0    498      0 --:--:-- --:--:-- --:--:--   500\n",
      "\r",
      "100 3775k  100 3775k    0     0  6421k      0 --:--:-- --:--:-- --:--:-- 6421k\n",
      "  % Total    % Received % Xferd  Average Speed   Time    Time     Time  Current\n",
      "                                 Dload  Upload   Total   Spent    Left  Speed\n",
      "\r",
      "  0     0    0     0    0     0      0      0 --:--:-- --:--:-- --:--:--     0\r",
      "100   165  100   165    0     0   1165      0 --:--:-- --:--:-- --:--:--  1178\n",
      "\r",
      "100 15399  100 15399    0     0  70933      0 --:--:-- --:--:-- --:--:-- 70933\n"
     ]
    }
   ],
   "source": [
    "%%bash\n",
    "\n",
    "## download MiSeq data from Zac's github repo\n",
    "curl -LkO https://github.com/zacforsman/example_ezRAD_data/raw/master/ipyrad_formatted_data.tar.gz\n",
    "\n",
    "## de-compress it\n",
    "tar -xzvf ipyrad_formatted_data.tar.gz\n",
    "\n",
    "## download mt genome file\n",
    "curl -LkO https://github.com/zacforsman/example_ezRAD_data/raw/master/Achatinella_sowerbyana.fasta"
   ]
  },
  {
   "cell_type": "markdown",
   "metadata": {},
   "source": [
    "### The data\n",
    "The data appears to be Miseq data, paired 300bp. The paired reads are also interleaved, i.e., R1 is on a line, and then read2 on the next line, and then another read1; as opposed to the R1 and R2 reads being in separate files which is what I'm used to seeing. I found a short script on this page (http://seqanswers.com/forums/showthread.php?t=38892)[http://seqanswers.com/forums/showthread.php?t=38892] showing how to split this kind of data into two separate files. I wrote a Python function to do the same thing, below.  "
   ]
  },
  {
   "cell_type": "code",
   "execution_count": 2,
   "metadata": {},
   "outputs": [
    {
     "name": "stdout",
     "output_type": "stream",
     "text": [
      "@M02308:132:000000000-ANV18:1:1101:6317:3772 1:N:0:5\n",
      "GATCTCAATGTTGTTGTTATCTTATAACAGCTTAATAAACAACTTAATTTTCCATGATTAAGATTTACATAGAGAACTAT\n",
      "+\n",
      "CCCCCGGGGGGGGGGGGGGGGGGGGGGGGGGGGGGGGGGGGGGGGGGGGGGGGGGGGGGGGGGGGGGGGGGGGGGGGGGG\n",
      "@M02308:132:000000000-ANV18:1:1101:6317:3772 2:N:0:5\n",
      "GATCAAAGAGTCGAAGATTTAACATTAGAAAAGGATTATTATCAATTATTCCTAAAATAAGACTAATATGATTTATTTTA\n",
      "+\n",
      "CCCCCGGGGGGGGGGGGGGGGGGGGGGGGGGGGGGGGGGGGGGGGGGGGGGGGGGGGGGGGGGGGGGGGGGFGGGGGGGG\n",
      "@M02308:132:000000000-ANV18:1:1101:6319:3792 1:N:0:5\n",
      "GATCTCAATGTTGTTGTTATCTTATAACAGCTTAATAAACAACTTAATTTTCCATGATTAAGATTTACATAGAGAACTAT\n",
      "+\n",
      "@CCCCGGGGGGGFGGGGGGGGGGGGGGGGGGGGGGGGGGGGFFGGGGGGGGGGGGGGGGFFGGGGGGGGGGCGGGGGC9F\n",
      "@M02308:132:000000000-ANV18:1:1101:6319:3792 2:N:0:5\n",
      "GATCAAAGAGTCGAAGATTTAACATTAGAAAAGGATTATTATCAATTATTCCTAAAATAAGACTAATATGATTTATTTTA\n",
      "+\n",
      "CCCCCGGGGGGGGGGGGGGGGFGGGGFGGGGGGGGGGGGGGGGGGGGGGGGGGGGGGGGGGGGGGGFGGGDCFGGGFGGG\n"
     ]
    },
    {
     "name": "stderr",
     "output_type": "stream",
     "text": [
      "\n",
      "gzip: stdout: Broken pipe\n"
     ]
    }
   ],
   "source": [
    "%%bash\n",
    "\n",
    "gzip -d -c ipyrad_formatted_data/ASO1mtreads_R1_.fastq.gz | head -n 16 | cut -c 1-80"
   ]
  },
  {
   "cell_type": "markdown",
   "metadata": {},
   "source": [
    "### Splitting function "
   ]
  },
  {
   "cell_type": "code",
   "execution_count": 3,
   "metadata": {
    "collapsed": true
   },
   "outputs": [],
   "source": [
    "import itertools\n",
    "import gzip\n",
    "\n",
    "def split_miseq(input_file, out_r1, out_r2):\n",
    "    \n",
    "    ## open the input file \n",
    "    with gzip.open(input_file, 'r') as indat:\n",
    "        \n",
    "        ## line generator\n",
    "        liner = iter(indat)\n",
    "        qiter = itertools.izip(liner, liner, liner, liner)\n",
    "        \n",
    "        ## alternate between writing to out1 and out2\n",
    "        out1 = []\n",
    "        out2 = []\n",
    "        out = 1\n",
    "        \n",
    "        ## iterate until qiter is empty\n",
    "        while 1:\n",
    "            try:\n",
    "                quart = qiter.next()\n",
    "                if out == 1:\n",
    "                    out1.append(\"\".join(quart))\n",
    "                    out = 2\n",
    "                else:\n",
    "                    out2.append(\"\".join(quart))\n",
    "                    out = 1\n",
    "            except StopIteration:\n",
    "                break\n",
    "           \n",
    "        ## write lists to file\n",
    "        with gzip.open(out_r1, 'w') as write1:\n",
    "            write1.write(\"\".join(out1))\n",
    "        with gzip.open(out_r2, 'w') as write2:\n",
    "            write2.write(\"\".join(out2))        "
   ]
  },
  {
   "cell_type": "markdown",
   "metadata": {},
   "source": [
    "### Split all reads"
   ]
  },
  {
   "cell_type": "code",
   "execution_count": 4,
   "metadata": {
    "collapsed": true
   },
   "outputs": [],
   "source": [
    "import glob\n",
    "import os\n",
    "\n",
    "## make new dirctory for split files\n",
    "newdir = \"split-fastqs\"\n",
    "if not os.path.exists(newdir):\n",
    "    os.makedirs(newdir)\n",
    "\n",
    "## iterate over files\n",
    "for miseqfile in glob.glob(\"ipyrad_formatted_data/*.gz\"):\n",
    "    ## get name from file\n",
    "    name = os.path.basename(miseqfile).split(\"_\", 1)[0]\n",
    "    r1 = os.path.join(newdir, name + \"_R1_.fastq.gz\")\n",
    "    r2 = os.path.join(newdir, name + \"_R2_.fastq.gz\")\n",
    "    split_miseq(miseqfile, r1, r2)"
   ]
  },
  {
   "cell_type": "code",
   "execution_count": 5,
   "metadata": {},
   "outputs": [
    {
     "name": "stdout",
     "output_type": "stream",
     "text": [
      "total 3652\n",
      "-rw-rw-r-- 1 deren deren 282503 Aug 23 12:42 ASO1mtreads_R1_.fastq.gz\n",
      "-rw-rw-r-- 1 deren deren 353785 Aug 23 12:42 ASO1mtreads_R2_.fastq.gz\n",
      "-rw-rw-r-- 1 deren deren 256707 Aug 23 12:42 ASO2mtreads_R1_.fastq.gz\n",
      "-rw-rw-r-- 1 deren deren 319318 Aug 23 12:42 ASO2mtreads_R2_.fastq.gz\n",
      "-rw-rw-r-- 1 deren deren 230505 Aug 23 12:42 ASO3mtreads_R1_.fastq.gz\n",
      "-rw-rw-r-- 1 deren deren 284714 Aug 23 12:42 ASO3mtreads_R2_.fastq.gz\n",
      "-rw-rw-r-- 1 deren deren 147815 Aug 23 12:42 ASO4mtreads_R1_.fastq.gz\n",
      "-rw-rw-r-- 1 deren deren 187029 Aug 23 12:42 ASO4mtreads_R2_.fastq.gz\n",
      "-rw-rw-r-- 1 deren deren 334216 Aug 23 12:42 ASO5mtreads_R1_.fastq.gz\n",
      "-rw-rw-r-- 1 deren deren 426128 Aug 23 12:42 ASO5mtreads_R2_.fastq.gz\n",
      "-rw-rw-r-- 1 deren deren 395910 Aug 23 12:42 ASO6mtreads_R1_.fastq.gz\n",
      "-rw-rw-r-- 1 deren deren 497179 Aug 23 12:42 ASO6mtreads_R2_.fastq.gz\n"
     ]
    }
   ],
   "source": [
    "%%bash\n",
    "ls -l split-fastqs"
   ]
  },
  {
   "cell_type": "markdown",
   "metadata": {},
   "source": [
    "## Assemble the data set"
   ]
  },
  {
   "cell_type": "code",
   "execution_count": 6,
   "metadata": {},
   "outputs": [
    {
     "name": "stdout",
     "output_type": "stream",
     "text": [
      "ipyrad 0.7.11\n"
     ]
    }
   ],
   "source": [
    "import ipyrad as ip\n",
    "print 'ipyrad', ip.__version__\n"
   ]
  },
  {
   "cell_type": "code",
   "execution_count": 7,
   "metadata": {},
   "outputs": [
    {
     "name": "stdout",
     "output_type": "stream",
     "text": [
      "New Assembly: denovo\n"
     ]
    }
   ],
   "source": [
    "## create a denovo assembly object\n",
    "denovo = ip.Assembly(\"denovo\")\n",
    "denovo.set_params(\"project_dir\", \"analysis-ipyrad\")\n",
    "denovo.set_params(\"sorted_fastq_path\", \"split-fastqs/*.gz\")\n",
    "denovo.set_params(\"mindepth_majrule\", 2)\n",
    "denovo.set_params(\"datatype\", \"pairgbs\")\n",
    "denovo.set_params(\"filter_adapters\", 2)\n",
    "denovo.set_params(\"restriction_overhang\", (\"GATC\", \"GATC\"))"
   ]
  },
  {
   "cell_type": "code",
   "execution_count": 8,
   "metadata": {},
   "outputs": [
    {
     "name": "stdout",
     "output_type": "stream",
     "text": [
      "Assembly: denovo\n",
      "[####################] 100%  loading reads         | 0:00:00 | s1 | \n",
      "[####################] 100%  processing reads      | 0:00:00 | s2 | \n",
      "[####################] 100%  dereplicating         | 0:00:00 | s3 |  \n",
      "[####################] 100%  clustering            | 0:00:06 | s3 | \n",
      "[####################] 100%  building clusters     | 0:00:00 | s3 | \n",
      "[####################] 100%  chunking              | 0:00:00 | s3 | \n",
      "[####################] 100%  aligning              | 0:00:07 | s3 | \n",
      "[####################] 100%  concatenating         | 0:00:00 | s3 | \n"
     ]
    },
    {
     "data": {
      "text/html": [
       "<div>\n",
       "<style>\n",
       "    .dataframe thead tr:only-child th {\n",
       "        text-align: right;\n",
       "    }\n",
       "\n",
       "    .dataframe thead th {\n",
       "        text-align: left;\n",
       "    }\n",
       "\n",
       "    .dataframe tbody tr th {\n",
       "        vertical-align: top;\n",
       "    }\n",
       "</style>\n",
       "<table border=\"1\" class=\"dataframe\">\n",
       "  <thead>\n",
       "    <tr style=\"text-align: right;\">\n",
       "      <th></th>\n",
       "      <th>state</th>\n",
       "      <th>reads_raw</th>\n",
       "      <th>reads_passed_filter</th>\n",
       "      <th>clusters_total</th>\n",
       "      <th>clusters_hidepth</th>\n",
       "    </tr>\n",
       "  </thead>\n",
       "  <tbody>\n",
       "    <tr>\n",
       "      <th>ASO1mtreads</th>\n",
       "      <td>3</td>\n",
       "      <td>2723</td>\n",
       "      <td>2721</td>\n",
       "      <td>273</td>\n",
       "      <td>126</td>\n",
       "    </tr>\n",
       "    <tr>\n",
       "      <th>ASO2mtreads</th>\n",
       "      <td>3</td>\n",
       "      <td>2362</td>\n",
       "      <td>2360</td>\n",
       "      <td>254</td>\n",
       "      <td>118</td>\n",
       "    </tr>\n",
       "    <tr>\n",
       "      <th>ASO3mtreads</th>\n",
       "      <td>3</td>\n",
       "      <td>1991</td>\n",
       "      <td>1990</td>\n",
       "      <td>302</td>\n",
       "      <td>146</td>\n",
       "    </tr>\n",
       "    <tr>\n",
       "      <th>ASO4mtreads</th>\n",
       "      <td>3</td>\n",
       "      <td>1449</td>\n",
       "      <td>1447</td>\n",
       "      <td>194</td>\n",
       "      <td>86</td>\n",
       "    </tr>\n",
       "    <tr>\n",
       "      <th>ASO5mtreads</th>\n",
       "      <td>3</td>\n",
       "      <td>3220</td>\n",
       "      <td>3215</td>\n",
       "      <td>297</td>\n",
       "      <td>141</td>\n",
       "    </tr>\n",
       "    <tr>\n",
       "      <th>ASO6mtreads</th>\n",
       "      <td>3</td>\n",
       "      <td>3760</td>\n",
       "      <td>3755</td>\n",
       "      <td>271</td>\n",
       "      <td>129</td>\n",
       "    </tr>\n",
       "  </tbody>\n",
       "</table>\n",
       "</div>"
      ],
      "text/plain": [
       "             state  reads_raw  reads_passed_filter  clusters_total  \\\n",
       "ASO1mtreads      3       2723                 2721             273   \n",
       "ASO2mtreads      3       2362                 2360             254   \n",
       "ASO3mtreads      3       1991                 1990             302   \n",
       "ASO4mtreads      3       1449                 1447             194   \n",
       "ASO5mtreads      3       3220                 3215             297   \n",
       "ASO6mtreads      3       3760                 3755             271   \n",
       "\n",
       "             clusters_hidepth  \n",
       "ASO1mtreads               126  \n",
       "ASO2mtreads               118  \n",
       "ASO3mtreads               146  \n",
       "ASO4mtreads                86  \n",
       "ASO5mtreads               141  \n",
       "ASO6mtreads               129  "
      ]
     },
     "execution_count": 8,
     "metadata": {},
     "output_type": "execute_result"
    }
   ],
   "source": [
    "## load the data, filter and cluster it.\n",
    "denovo.run(\"123\")\n",
    "denovo.stats"
   ]
  },
  {
   "cell_type": "code",
   "execution_count": 9,
   "metadata": {},
   "outputs": [
    {
     "name": "stdout",
     "output_type": "stream",
     "text": [
      "Assembly: reference\n",
      "[####################] 100%  dereplicating         | 0:00:00 | s3 |  \n",
      "[####################] 100%  mapping               | 0:00:01 | s3 | \n",
      "[####################] 100%  fetch mapped reads    | 0:00:00 | s3 | \n",
      "[####################] 100%  chunking              | 0:00:00 | s3 | \n",
      "[####################] 100%  aligning              | 0:00:11 | s3 | \n",
      "[####################] 100%  concatenating         | 0:00:00 | s3 | \n"
     ]
    },
    {
     "data": {
      "text/html": [
       "<div>\n",
       "<style>\n",
       "    .dataframe thead tr:only-child th {\n",
       "        text-align: right;\n",
       "    }\n",
       "\n",
       "    .dataframe thead th {\n",
       "        text-align: left;\n",
       "    }\n",
       "\n",
       "    .dataframe tbody tr th {\n",
       "        vertical-align: top;\n",
       "    }\n",
       "</style>\n",
       "<table border=\"1\" class=\"dataframe\">\n",
       "  <thead>\n",
       "    <tr style=\"text-align: right;\">\n",
       "      <th></th>\n",
       "      <th>state</th>\n",
       "      <th>reads_raw</th>\n",
       "      <th>reads_passed_filter</th>\n",
       "      <th>refseq_mapped_reads</th>\n",
       "      <th>refseq_unmapped_reads</th>\n",
       "      <th>clusters_total</th>\n",
       "      <th>clusters_hidepth</th>\n",
       "    </tr>\n",
       "  </thead>\n",
       "  <tbody>\n",
       "    <tr>\n",
       "      <th>ASO1mtreads</th>\n",
       "      <td>3</td>\n",
       "      <td>2723</td>\n",
       "      <td>2721</td>\n",
       "      <td>1603</td>\n",
       "      <td>16</td>\n",
       "      <td>1</td>\n",
       "      <td>1</td>\n",
       "    </tr>\n",
       "    <tr>\n",
       "      <th>ASO2mtreads</th>\n",
       "      <td>3</td>\n",
       "      <td>2362</td>\n",
       "      <td>2360</td>\n",
       "      <td>1522</td>\n",
       "      <td>23</td>\n",
       "      <td>1</td>\n",
       "      <td>1</td>\n",
       "    </tr>\n",
       "    <tr>\n",
       "      <th>ASO3mtreads</th>\n",
       "      <td>3</td>\n",
       "      <td>1991</td>\n",
       "      <td>1990</td>\n",
       "      <td>1490</td>\n",
       "      <td>25</td>\n",
       "      <td>1</td>\n",
       "      <td>1</td>\n",
       "    </tr>\n",
       "    <tr>\n",
       "      <th>ASO4mtreads</th>\n",
       "      <td>3</td>\n",
       "      <td>1449</td>\n",
       "      <td>1447</td>\n",
       "      <td>951</td>\n",
       "      <td>12</td>\n",
       "      <td>1</td>\n",
       "      <td>1</td>\n",
       "    </tr>\n",
       "    <tr>\n",
       "      <th>ASO5mtreads</th>\n",
       "      <td>3</td>\n",
       "      <td>3220</td>\n",
       "      <td>3215</td>\n",
       "      <td>2067</td>\n",
       "      <td>17</td>\n",
       "      <td>1</td>\n",
       "      <td>1</td>\n",
       "    </tr>\n",
       "    <tr>\n",
       "      <th>ASO6mtreads</th>\n",
       "      <td>3</td>\n",
       "      <td>3760</td>\n",
       "      <td>3755</td>\n",
       "      <td>2385</td>\n",
       "      <td>11</td>\n",
       "      <td>1</td>\n",
       "      <td>1</td>\n",
       "    </tr>\n",
       "  </tbody>\n",
       "</table>\n",
       "</div>"
      ],
      "text/plain": [
       "             state  reads_raw  reads_passed_filter  refseq_mapped_reads  \\\n",
       "ASO1mtreads      3       2723                 2721                 1603   \n",
       "ASO2mtreads      3       2362                 2360                 1522   \n",
       "ASO3mtreads      3       1991                 1990                 1490   \n",
       "ASO4mtreads      3       1449                 1447                  951   \n",
       "ASO5mtreads      3       3220                 3215                 2067   \n",
       "ASO6mtreads      3       3760                 3755                 2385   \n",
       "\n",
       "             refseq_unmapped_reads  clusters_total  clusters_hidepth  \n",
       "ASO1mtreads                     16               1                 1  \n",
       "ASO2mtreads                     23               1                 1  \n",
       "ASO3mtreads                     25               1                 1  \n",
       "ASO4mtreads                     12               1                 1  \n",
       "ASO5mtreads                     17               1                 1  \n",
       "ASO6mtreads                     11               1                 1  "
      ]
     },
     "execution_count": 9,
     "metadata": {},
     "output_type": "execute_result"
    }
   ],
   "source": [
    "## create a reference assembly object\n",
    "ref = denovo.branch('reference')\n",
    "ref.set_params(\"reference_sequence\", \"Achatinella_sowerbyana.fasta\")\n",
    "ref.set_params(\"assembly_method\", \"reference\")\n",
    "\n",
    "## map to reference (lots of hits to reference, but few clusters...)\n",
    "ref.run(\"3\", force=True)\n",
    "ref.stats"
   ]
  },
  {
   "cell_type": "markdown",
   "metadata": {},
   "source": [
    "### Visual inspection of clusters looks pretty good."
   ]
  },
  {
   "cell_type": "code",
   "execution_count": 10,
   "metadata": {},
   "outputs": [
    {
     "name": "stdout",
     "output_type": "stream",
     "text": [
      "006c3b4bfd1d393a7bf041856df8344e;size=39;*\n",
      "----------------------------------------------GATCAAGTAAAATCAAATTTTAAAAATAAAAAAG\n",
      "ab4ec4807c2dca97c970118c1f234dd7;size=2;-\n",
      "----------------------------------------------GATCAAGTAAAATCAAATTTTAAAAATAAAAAAG\n",
      "549ea44a0ea3ab0b31deecbfeeb46513;size=1;-\n",
      "ATTATTGCAGATAAGAAGAGGAAAAAGTATATTTGTAGTAATATTAGAACAAGTAAAATCAAATTTTAAAAATAAAAAAG\n",
      "2d0de67dcdfe85f6ccb42e829eb8864e;size=1;-\n",
      "-------------------------------------------------------AAATCAAATTTTAAAAATAAAAAAG\n",
      "087c5fd2760f87460d551c3451088469;size=1;+\n",
      "------------AAGAAGAGGAAAAAGTATATTTGTAGTAATATTAGAACAAGTAAAATCAAATTTTAAAAATAAAAAAG\n",
      "7dbb429703111a49e245e199aa005e16;size=1;+\n",
      "--------------GAAGAGGAAAAAGTATATTTGTAGTAATATTAGAACAAGTAAAATCAAATTTTAAAAATAAAAAAG\n",
      "914d88a9d5ce8b53c690026d55190a56;size=1;-\n",
      "------------------------------------AGTAATATTAGAACAAGTAAAATCAAATTTTAAAAATAAAAAAG\n",
      "bfba95cfefb5d8a6ad90f3ca72417a89;size=1;-\n",
      "----------------------------------------------GATCAAGTAAAATCAAATTTTTAAAATAAAAAAG\n"
     ]
    },
    {
     "name": "stderr",
     "output_type": "stream",
     "text": [
      "\n",
      "gzip: stdout: Broken pipe\n"
     ]
    }
   ],
   "source": [
    "%%bash\n",
    "\n",
    "## first 16 lines trimmed at 80 characters per line\n",
    "zcat analysis-ipyrad/denovo_clust_0.85/ASO1mtreads.clustS.gz | head -n 16 | cut -c 1-80"
   ]
  },
  {
   "cell_type": "markdown",
   "metadata": {},
   "source": [
    "### Finish assembly"
   ]
  },
  {
   "cell_type": "code",
   "execution_count": 11,
   "metadata": {},
   "outputs": [
    {
     "name": "stdout",
     "output_type": "stream",
     "text": [
      "Assembly: denovo\n",
      "[####################] 100%  inferring [H, E]      | 0:00:00 | s4 | \n",
      "[####################] 100%  calculating depths    | 0:00:00 | s5 | \n",
      "[####################] 100%  chunking clusters     | 0:00:00 | s5 | \n",
      "[####################] 100%  consens calling       | 0:00:01 | s5 | \n",
      "[####################] 100%  concat/shuffle input  | 0:00:00 | s6 | \n",
      "[####################] 100%  clustering across     | 0:00:03 | s6 | \n",
      "[####################] 100%  building clusters     | 0:00:00 | s6 | \n",
      "[####################] 100%  aligning clusters     | 0:00:01 | s6 | \n",
      "[####################] 100%  database indels       | 0:00:00 | s6 | \n",
      "[####################] 100%  indexing clusters     | 0:00:00 | s6 | \n",
      "[####################] 100%  building database     | 0:00:00 | s6 | \n",
      "[####################] 100%  filtering loci        | 0:00:00 | s7 | \n",
      "[####################] 100%  building loci/stats   | 0:00:00 | s7 | \n",
      "[####################] 100%  building vcf file     | 0:00:00 | s7 | \n",
      "[####################] 100%  writing vcf file      | 0:00:00 | s7 | \n",
      "[####################] 100%  building arrays       | 0:00:00 | s7 | \n",
      "[####################] 100%  writing outfiles      | 0:00:00 | s7 | \n",
      "Outfiles written to: ~/Downloads/ezrad-test/analysis-ipyrad/denovo_outfiles\n",
      "\n"
     ]
    }
   ],
   "source": [
    "denovo.run(\"4567\")"
   ]
  },
  {
   "cell_type": "code",
   "execution_count": 12,
   "metadata": {},
   "outputs": [
    {
     "data": {
      "text/html": [
       "<div>\n",
       "<style>\n",
       "    .dataframe thead tr:only-child th {\n",
       "        text-align: right;\n",
       "    }\n",
       "\n",
       "    .dataframe thead th {\n",
       "        text-align: left;\n",
       "    }\n",
       "\n",
       "    .dataframe tbody tr th {\n",
       "        vertical-align: top;\n",
       "    }\n",
       "</style>\n",
       "<table border=\"1\" class=\"dataframe\">\n",
       "  <thead>\n",
       "    <tr style=\"text-align: right;\">\n",
       "      <th></th>\n",
       "      <th>state</th>\n",
       "      <th>reads_raw</th>\n",
       "      <th>reads_passed_filter</th>\n",
       "      <th>clusters_total</th>\n",
       "      <th>clusters_hidepth</th>\n",
       "      <th>hetero_est</th>\n",
       "      <th>error_est</th>\n",
       "      <th>reads_consens</th>\n",
       "    </tr>\n",
       "  </thead>\n",
       "  <tbody>\n",
       "    <tr>\n",
       "      <th>ASO1mtreads</th>\n",
       "      <td>6</td>\n",
       "      <td>2723</td>\n",
       "      <td>2721</td>\n",
       "      <td>273</td>\n",
       "      <td>126</td>\n",
       "      <td>0.006884</td>\n",
       "      <td>0.001928</td>\n",
       "      <td>120</td>\n",
       "    </tr>\n",
       "    <tr>\n",
       "      <th>ASO2mtreads</th>\n",
       "      <td>6</td>\n",
       "      <td>2362</td>\n",
       "      <td>2360</td>\n",
       "      <td>254</td>\n",
       "      <td>118</td>\n",
       "      <td>0.010536</td>\n",
       "      <td>0.002622</td>\n",
       "      <td>108</td>\n",
       "    </tr>\n",
       "    <tr>\n",
       "      <th>ASO3mtreads</th>\n",
       "      <td>6</td>\n",
       "      <td>1991</td>\n",
       "      <td>1990</td>\n",
       "      <td>302</td>\n",
       "      <td>146</td>\n",
       "      <td>0.016154</td>\n",
       "      <td>0.002737</td>\n",
       "      <td>129</td>\n",
       "    </tr>\n",
       "    <tr>\n",
       "      <th>ASO4mtreads</th>\n",
       "      <td>6</td>\n",
       "      <td>1449</td>\n",
       "      <td>1447</td>\n",
       "      <td>194</td>\n",
       "      <td>86</td>\n",
       "      <td>0.009593</td>\n",
       "      <td>0.001640</td>\n",
       "      <td>75</td>\n",
       "    </tr>\n",
       "    <tr>\n",
       "      <th>ASO5mtreads</th>\n",
       "      <td>6</td>\n",
       "      <td>3220</td>\n",
       "      <td>3215</td>\n",
       "      <td>297</td>\n",
       "      <td>141</td>\n",
       "      <td>0.016241</td>\n",
       "      <td>0.002657</td>\n",
       "      <td>129</td>\n",
       "    </tr>\n",
       "    <tr>\n",
       "      <th>ASO6mtreads</th>\n",
       "      <td>6</td>\n",
       "      <td>3760</td>\n",
       "      <td>3755</td>\n",
       "      <td>271</td>\n",
       "      <td>129</td>\n",
       "      <td>0.016831</td>\n",
       "      <td>0.002391</td>\n",
       "      <td>118</td>\n",
       "    </tr>\n",
       "  </tbody>\n",
       "</table>\n",
       "</div>"
      ],
      "text/plain": [
       "             state  reads_raw  reads_passed_filter  clusters_total  \\\n",
       "ASO1mtreads      6       2723                 2721             273   \n",
       "ASO2mtreads      6       2362                 2360             254   \n",
       "ASO3mtreads      6       1991                 1990             302   \n",
       "ASO4mtreads      6       1449                 1447             194   \n",
       "ASO5mtreads      6       3220                 3215             297   \n",
       "ASO6mtreads      6       3760                 3755             271   \n",
       "\n",
       "             clusters_hidepth  hetero_est  error_est  reads_consens  \n",
       "ASO1mtreads               126    0.006884   0.001928            120  \n",
       "ASO2mtreads               118    0.010536   0.002622            108  \n",
       "ASO3mtreads               146    0.016154   0.002737            129  \n",
       "ASO4mtreads                86    0.009593   0.001640             75  \n",
       "ASO5mtreads               141    0.016241   0.002657            129  \n",
       "ASO6mtreads               129    0.016831   0.002391            118  "
      ]
     },
     "execution_count": 12,
     "metadata": {},
     "output_type": "execute_result"
    }
   ],
   "source": [
    "denovo.stats"
   ]
  },
  {
   "cell_type": "markdown",
   "metadata": {},
   "source": [
    "### Only one locus shared across 4 samples in this data set"
   ]
  },
  {
   "cell_type": "code",
   "execution_count": 13,
   "metadata": {},
   "outputs": [
    {
     "data": {
      "text/html": [
       "<div>\n",
       "<style>\n",
       "    .dataframe thead tr:only-child th {\n",
       "        text-align: right;\n",
       "    }\n",
       "\n",
       "    .dataframe thead th {\n",
       "        text-align: left;\n",
       "    }\n",
       "\n",
       "    .dataframe tbody tr th {\n",
       "        vertical-align: top;\n",
       "    }\n",
       "</style>\n",
       "<table border=\"1\" class=\"dataframe\">\n",
       "  <thead>\n",
       "    <tr style=\"text-align: right;\">\n",
       "      <th></th>\n",
       "      <th>locus_coverage</th>\n",
       "      <th>sum_coverage</th>\n",
       "    </tr>\n",
       "  </thead>\n",
       "  <tbody>\n",
       "    <tr>\n",
       "      <th>1</th>\n",
       "      <td>0</td>\n",
       "      <td>0</td>\n",
       "    </tr>\n",
       "    <tr>\n",
       "      <th>2</th>\n",
       "      <td>0</td>\n",
       "      <td>0</td>\n",
       "    </tr>\n",
       "    <tr>\n",
       "      <th>3</th>\n",
       "      <td>0</td>\n",
       "      <td>0</td>\n",
       "    </tr>\n",
       "    <tr>\n",
       "      <th>4</th>\n",
       "      <td>2</td>\n",
       "      <td>2</td>\n",
       "    </tr>\n",
       "    <tr>\n",
       "      <th>5</th>\n",
       "      <td>2</td>\n",
       "      <td>4</td>\n",
       "    </tr>\n",
       "    <tr>\n",
       "      <th>6</th>\n",
       "      <td>2</td>\n",
       "      <td>6</td>\n",
       "    </tr>\n",
       "  </tbody>\n",
       "</table>\n",
       "</div>"
      ],
      "text/plain": [
       "   locus_coverage  sum_coverage\n",
       "1               0             0\n",
       "2               0             0\n",
       "3               0             0\n",
       "4               2             2\n",
       "5               2             4\n",
       "6               2             6"
      ]
     },
     "execution_count": 13,
     "metadata": {},
     "output_type": "execute_result"
    }
   ],
   "source": [
    "denovo.stats_dfs.s7_loci"
   ]
  },
  {
   "cell_type": "markdown",
   "metadata": {},
   "source": [
    "### Visual inspection of .loci file"
   ]
  },
  {
   "cell_type": "code",
   "execution_count": 14,
   "metadata": {
    "scrolled": false
   },
   "outputs": [
    {
     "name": "stdout",
     "output_type": "stream",
     "text": [
      "ASO1mtreads     TACCTTGAGGGCAAATATCATATTGGGGAGCGACAGTAATTACTAATCTTGTTAGGGCAATTCC\r\n",
      "ASO2mtreads     TACCTTGAGGKCAAATATCATATTGGGGAGCAACAGTAATTACTAATCTTGTTAGGGCAATTCC\r\n",
      "ASO3mtreads     TACCTTGAGGACAAATATCATATTGGGGAGCAACAGTAATTACTAATCTTGTTAGGGCAATTCC\r\n",
      "ASO4mtreads     TACCTTGAGGGCAAATATCATATTGGGGAGCGACAGTAATTACTAATCTTGTTAGGGCAATTCC\r\n",
      "ASO5mtreads     -----------CAAATATCATATTGGGGAGCAACAGTAATTACTAATCTTGTTAGGGCAATTCC\r\n",
      "ASO6mtreads     --CCTTGAGGACAAATATCATATTGGGGAGCAACAGTAATTACTAATCTTGTTAGGGCAATTCC\r\n",
      "//                        *                    *                                \r\n",
      "ASO1mtreads     ATGGAGTATTACATTACAAAACAAATAA-TTTAAACTCTAAAAATTATGGCGGCTAAAATAAAA\r\n",
      "ASO2mtreads     --------------------------------------------------------------AA\r\n",
      "ASO3mtreads     ATGGAGTATTACATTACAAAATAAATAATTTTAAACTCTAAAAATTATGGCGGCTAAAATAAAA\r\n",
      "ASO5mtreads     ATGGAGTATTACATTAYAAAATAAATAATTTTAAACTCTAAAAATTATGGCGGCTAAAATAAAA\r\n",
      "ASO6mtreads     ATGGAGTATTATATTATAAAATAAATAATTTTAAACTCTAAAAATTATGGCGGCTAAAATAAAA\r\n",
      "//                         -    *    -                                          \r\n",
      "ASO1mtreads     AAAGAGTCGAAGATTTAACATTAGAAAAGGATTATTATCAATTATTCCTAAAATAAGACTAATA\r\n",
      "ASO4mtreads     AAAGAGTCGAAGATTTAACATTAGAAAAGGATTATTATCAATTATTCCTAAAATAAGACTAATA\r\n",
      "ASO5mtreads     AAAAAGTCGAAGATTTAATATTAGAAAAGGATTATTATCAATTATTCCTAAAATAAGACTGATA\r\n",
      "ASO6mtreads     AAAAAGTCGAAGATTTAATATTAGAAAAGGATTATTATCAATTATTCCTAAAATAAGACTGATA\r\n",
      "//                 *              *                                         *   \r\n",
      "ASO1mtreads     TGTTAATAATATAGTAATAGCACCAGCTAATACAGGTAATGATAATAATAATAAAAAAACTGTA\r\n",
      "ASO2mtreads     TGTTAATAATATAGTAATAGCNCCAGCTAATACAGGTAATGANAANANTAATAAAAAAACTGTA\r\n",
      "ASO3mtreads     TGTTAATAATATAGTAATAGCACCAGCTAATACAGGTAATGATAATAATAATAAAAAAACTGTA\r\n",
      "ASO4mtreads     TGTTAATAATATAGTAATAGCACCAGCTAATACAGGTAATGATAATAATAATAAAAAAACTGTA\r\n",
      "ASO5mtreads     TGTTAATAATATAGTAATAGCACCAGCTAATACAGGTAATGAYAATAATAATAAAAAAACTGTA\r\n",
      "ASO6mtreads     TGTTAATANTATAGTAATAGCACCAGCTAATACAGGTAATGAYAATAATAATAAAAAAACTGTA\r\n",
      "//                                                        *                     \r\n",
      "ASO1mtreads     AGCAATCGCGGTCATACTTTAATAAAAATTTTAAATATAATTAATATTTTAATTTACATAAATA\r\n",
      "ASO2mtreads     AGCAATCGCGGTCATACTTTAATAAAAATTTTAAATATAATTAATATTTTAATTTACATAAATA\r\n",
      "ASO3mtreads     AGCAATCGCGGTCATACTTTAATAAAAATTTTAAATATAATTAATATTTTAATTTACATAAATA\r\n",
      "ASO5mtreads     AGCAATCGCGGTCATACTTTAATAAAAATTTTAAATATAATTAATATTTTAATTTACATAAATA\r\n",
      "//                                                                              \r\n",
      "ASO1mtreads     -----------------------------GATTACGAGCTTCCGCTCAATCTATTTCTTATGAA\r\n",
      "ASO3mtreads     CTCAAACAGTGCATATTCTTTTTTAGGAAGATTACGAGCTTCCGCTCAATCTATTTCTTATGAA\r\n",
      "ASO4mtreads     ATCAAACAGGGCATATTCTTTTTTAGGAAGATTACGAGCTTCCGCTCAATCTATTTCTTATGAA\r\n",
      "ASO5mtreads     CTCAAACAGTGCATATTCTTTTTTAGGAAGATTACGAGCTTCCGCTCAATCTATTTCTTATGAA\r\n",
      "ASO6mtreads     CTCAAACAGTGCATATTCTTTTTTAGGAAGATTACGAGCTTCCGCTCAATCTATTTCTTATGAA\r\n",
      "//              -        -                                                      \r\n",
      "\r\n"
     ]
    }
   ],
   "source": [
    "## first 50 lines trimmed to 80 characters per line for easy visualization\n",
    "cat analysis-ipyrad/denovo_outfiles/denovo.loci | head -n 50 | cut -c 1-80"
   ]
  },
  {
   "cell_type": "markdown",
   "metadata": {},
   "source": [
    "### Fast analysis"
   ]
  },
  {
   "cell_type": "code",
   "execution_count": 1,
   "metadata": {
    "collapsed": true
   },
   "outputs": [],
   "source": [
    "## conda install toytree -c eaton-lab\n",
    "## conda install raxml -c bioconda\n",
    "## pip install -U toyplot"
   ]
  },
  {
   "cell_type": "code",
   "execution_count": 3,
   "metadata": {},
   "outputs": [
    {
     "name": "stdout",
     "output_type": "stream",
     "text": [
      "job denovo finished successfully\n"
     ]
    }
   ],
   "source": [
    "### infer a quick tree\n",
    "import ipyrad.analysis as ipa\n",
    "import toytree\n",
    "\n",
    "rax = ipa.raxml(name=denovo.name, data=denovo.outfiles.phy, N=100)\n",
    "rax.run(force=True)"
   ]
  },
  {
   "cell_type": "code",
   "execution_count": 9,
   "metadata": {},
   "outputs": [
    {
     "name": "stdout",
     "output_type": "stream",
     "text": [
      "(ASO6mtreads:0.00096493071506020670,(ASO3mtreads:0.00331289126737833268,(ASO2mtreads:0.00000100000050002909,(ASO1mtreads:0.00195360187740938919,ASO4mtreads:0.00102686644445994734)100:0.01291933045876193960)54:0.00191331539519988786)63:0.00258728830268780069,ASO5mtreads:0.00109661776340834178);\r\n"
     ]
    }
   ],
   "source": [
    "! cat $rax.trees.bipartitions\n"
   ]
  },
  {
   "cell_type": "code",
   "execution_count": 6,
   "metadata": {},
   "outputs": [
    {
     "data": {
      "text/html": [
       "<div class=\"toyplot\" id=\"t3b872a0eec0b49abb41b885983ad07ff\" style=\"text-align:center\"><svg class=\"toyplot-canvas-Canvas\" height=\"300.0px\" id=\"t869130b450d048778f65d2fb3f99b01a\" preserveAspectRatio=\"xMidYMid meet\" style=\"background-color:transparent;fill:rgb(16.1%,15.3%,14.1%);fill-opacity:1.0;font-family:Helvetica;font-size:12px;opacity:1.0;stroke:rgb(16.1%,15.3%,14.1%);stroke-opacity:1.0;stroke-width:1.0\" viewBox=\"0 0 300.0 300.0\" width=\"300.0px\" xmlns=\"http://www.w3.org/2000/svg\" xmlns:toyplot=\"http://www.sandia.gov/toyplot\" xmlns:xlink=\"http://www.w3.org/1999/xlink\"><g class=\"toyplot-coordinates-Cartesian\" id=\"t2df170fb68d949fcb8956d6097dc2fff\"><clipPath id=\"t61cddc088e614d02a566bb0ad5013f99\"><rect height=\"300.0\" width=\"300.0\" x=\"0.0\" y=\"0.0\"></rect></clipPath><g clip-path=\"url(#t61cddc088e614d02a566bb0ad5013f99)\"><g class=\"toyplot-mark-Text\" id=\"t4546eaaca7ee495abf630baa5c6a9f7b\"><g class=\"toyplot-Series\"><g class=\"toyplot-Datum\" transform=\"translate(57.235130590116874,56.716417910447745)\"><text style=\"fill:rgb(16.1%,15.3%,14.1%);fill-opacity:1.0;font-family:helvetica;font-size:12.0px;font-weight:normal;opacity:1.0;stroke:none;vertical-align:baseline;white-space:pre\" x=\"15.0\" y=\"3.066\">ASO6mtreads</text></g><g class=\"toyplot-Datum\" transform=\"translate(58.222531008566946,94.029850746268664)\"><text style=\"fill:rgb(16.1%,15.3%,14.1%);fill-opacity:1.0;font-family:helvetica;font-size:12.0px;font-weight:normal;opacity:1.0;stroke:none;vertical-align:baseline;white-space:pre\" x=\"15.0\" y=\"3.066\">ASO5mtreads</text></g><g class=\"toyplot-Datum\" transform=\"translate(94.240036127261703,131.34328358208955)\"><text style=\"fill:rgb(16.1%,15.3%,14.1%);fill-opacity:1.0;font-family:helvetica;font-size:12.0px;font-weight:normal;opacity:1.0;stroke:none;vertical-align:baseline;white-space:pre\" x=\"15.0\" y=\"3.066\">ASO3mtreads</text></g><g class=\"toyplot-Datum\" transform=\"translate(83.7533981605674,168.65671641791045)\"><text style=\"fill:rgb(16.1%,15.3%,14.1%);fill-opacity:1.0;font-family:helvetica;font-size:12.0px;font-weight:normal;opacity:1.0;stroke:none;vertical-align:baseline;white-space:pre\" x=\"15.0\" y=\"3.066\">ASO2mtreads</text></g><g class=\"toyplot-Datum\" transform=\"translate(195.26438117373618,205.97014925373136)\"><text style=\"fill:rgb(16.1%,15.3%,14.1%);fill-opacity:1.0;font-family:helvetica;font-size:12.0px;font-weight:normal;opacity:1.0;stroke:none;vertical-align:baseline;white-space:pre\" x=\"15.0\" y=\"3.066\">ASO1mtreads</text></g><g class=\"toyplot-Datum\" transform=\"translate(188.3156419790684,243.28358208955225)\"><text style=\"fill:rgb(16.1%,15.3%,14.1%);fill-opacity:1.0;font-family:helvetica;font-size:12.0px;font-weight:normal;opacity:1.0;stroke:none;vertical-align:baseline;white-space:pre\" x=\"15.0\" y=\"3.066\">ASO4mtreads</text></g></g></g><g class=\"toyplot-mark-Graph\" id=\"t5a02288f91c54b6d9d652510d6beb666\"><g class=\"toyplot-Edges\"><path d=\"M 50.0 104.912935323 L 50.0 56.7164179104\" style=\"fill:none;stroke:rgb(16.1%,15.3%,14.1%);stroke-linecap:round;stroke-opacity:1.0;stroke-width:2\"></path><path d=\"M 50.0 56.7164179104 L 57.2351305901 56.7164179104\" style=\"fill:none;stroke:rgb(16.1%,15.3%,14.1%);stroke-linecap:round;stroke-opacity:1.0;stroke-width:2\"></path><path d=\"M 50.0 104.912935323 L 50.0 94.0298507463\" style=\"fill:none;stroke:rgb(16.1%,15.3%,14.1%);stroke-linecap:round;stroke-opacity:1.0;stroke-width:2\"></path><path d=\"M 50.0 94.0298507463 L 58.2225310086 94.0298507463\" style=\"fill:none;stroke:rgb(16.1%,15.3%,14.1%);stroke-linecap:round;stroke-opacity:1.0;stroke-width:2\"></path><path d=\"M 50.0 104.912935323 L 50.0 163.992537313\" style=\"fill:none;stroke:rgb(16.1%,15.3%,14.1%);stroke-linecap:round;stroke-opacity:1.0;stroke-width:2\"></path><path d=\"M 50.0 163.992537313 L 69.3997024367 163.992537313\" style=\"fill:none;stroke:rgb(16.1%,15.3%,14.1%);stroke-linecap:round;stroke-opacity:1.0;stroke-width:2\"></path><path d=\"M 69.3997024367 163.992537313 L 69.3997024367 131.343283582\" style=\"fill:none;stroke:rgb(16.1%,15.3%,14.1%);stroke-linecap:round;stroke-opacity:1.0;stroke-width:2\"></path><path d=\"M 69.3997024367 131.343283582 L 94.2400361273 131.343283582\" style=\"fill:none;stroke:rgb(16.1%,15.3%,14.1%);stroke-linecap:round;stroke-opacity:1.0;stroke-width:2\"></path><path d=\"M 69.3997024367 163.992537313 L 69.3997024367 196.641791045\" style=\"fill:none;stroke:rgb(16.1%,15.3%,14.1%);stroke-linecap:round;stroke-opacity:1.0;stroke-width:2\"></path><path d=\"M 69.3997024367 196.641791045 L 83.7459000738 196.641791045\" style=\"fill:none;stroke:rgb(16.1%,15.3%,14.1%);stroke-linecap:round;stroke-opacity:1.0;stroke-width:2\"></path><path d=\"M 83.7459000738 196.641791045 L 83.7459000738 168.656716418\" style=\"fill:none;stroke:rgb(16.1%,15.3%,14.1%);stroke-linecap:round;stroke-opacity:1.0;stroke-width:2\"></path><path d=\"M 83.7459000738 168.656716418 L 83.7533981606 168.656716418\" style=\"fill:none;stroke:rgb(16.1%,15.3%,14.1%);stroke-linecap:round;stroke-opacity:1.0;stroke-width:2\"></path><path d=\"M 83.7459000738 196.641791045 L 83.7459000738 224.626865672\" style=\"fill:none;stroke:rgb(16.1%,15.3%,14.1%);stroke-linecap:round;stroke-opacity:1.0;stroke-width:2\"></path><path d=\"M 83.7459000738 224.626865672 L 180.616112149 224.626865672\" style=\"fill:none;stroke:rgb(16.1%,15.3%,14.1%);stroke-linecap:round;stroke-opacity:1.0;stroke-width:2\"></path><path d=\"M 180.616112149 224.626865672 L 180.616112149 205.970149254\" style=\"fill:none;stroke:rgb(16.1%,15.3%,14.1%);stroke-linecap:round;stroke-opacity:1.0;stroke-width:2\"></path><path d=\"M 180.616112149 205.970149254 L 195.264381174 205.970149254\" style=\"fill:none;stroke:rgb(16.1%,15.3%,14.1%);stroke-linecap:round;stroke-opacity:1.0;stroke-width:2\"></path><path d=\"M 180.616112149 224.626865672 L 180.616112149 243.28358209\" style=\"fill:none;stroke:rgb(16.1%,15.3%,14.1%);stroke-linecap:round;stroke-opacity:1.0;stroke-width:2\"></path><path d=\"M 180.616112149 243.28358209 L 188.315641979 243.28358209\" style=\"fill:none;stroke:rgb(16.1%,15.3%,14.1%);stroke-linecap:round;stroke-opacity:1.0;stroke-width:2\"></path><g class=\"toyplot-HeadMarkers\"></g><g class=\"toyplot-MiddleMarkers\"></g><g class=\"toyplot-TailMarkers\"></g></g><g class=\"toyplot-Vertices\"><g class=\"toyplot-Datum\" style=\"fill:rgb(40%,76.1%,64.7%);fill-opacity:1.0;opacity:1.0;stroke:rgb(40%,76.1%,64.7%);stroke-opacity:1.0\" transform=\"translate(50.0, 104.91293532338307)\"><circle r=\"0.0\"></circle></g><g class=\"toyplot-Datum\" style=\"fill:rgb(40%,76.1%,64.7%);fill-opacity:1.0;opacity:1.0;stroke:rgb(40%,76.1%,64.7%);stroke-opacity:1.0\" transform=\"translate(50.0, 56.716417910447745)\"><circle r=\"0.0\"></circle></g><g class=\"toyplot-Datum\" style=\"fill:rgb(40%,76.1%,64.7%);fill-opacity:1.0;opacity:1.0;stroke:rgb(40%,76.1%,64.7%);stroke-opacity:1.0\" transform=\"translate(57.235130590116874, 56.716417910447745)\"><circle r=\"0.0\"></circle></g><g class=\"toyplot-Datum\" style=\"fill:rgb(40%,76.1%,64.7%);fill-opacity:1.0;opacity:1.0;stroke:rgb(40%,76.1%,64.7%);stroke-opacity:1.0\" transform=\"translate(50.0, 94.029850746268664)\"><circle r=\"0.0\"></circle></g><g class=\"toyplot-Datum\" style=\"fill:rgb(40%,76.1%,64.7%);fill-opacity:1.0;opacity:1.0;stroke:rgb(40%,76.1%,64.7%);stroke-opacity:1.0\" transform=\"translate(58.222531008566946, 94.029850746268664)\"><circle r=\"0.0\"></circle></g><g class=\"toyplot-Datum\" style=\"fill:rgb(40%,76.1%,64.7%);fill-opacity:1.0;opacity:1.0;stroke:rgb(40%,76.1%,64.7%);stroke-opacity:1.0\" transform=\"translate(50.0, 163.99253731343282)\"><circle r=\"0.0\"></circle></g><g class=\"toyplot-Datum\" style=\"fill:rgb(40%,76.1%,64.7%);fill-opacity:1.0;opacity:1.0;stroke:rgb(40%,76.1%,64.7%);stroke-opacity:1.0\" transform=\"translate(69.399702436728887, 163.99253731343282)\"><circle r=\"0.0\"></circle></g><g class=\"toyplot-Datum\" style=\"fill:rgb(40%,76.1%,64.7%);fill-opacity:1.0;opacity:1.0;stroke:rgb(40%,76.1%,64.7%);stroke-opacity:1.0\" transform=\"translate(69.399702436728887, 163.99253731343282)\"><circle r=\"0.0\"></circle></g><g class=\"toyplot-Datum\" style=\"fill:rgb(40%,76.1%,64.7%);fill-opacity:1.0;opacity:1.0;stroke:rgb(40%,76.1%,64.7%);stroke-opacity:1.0\" transform=\"translate(69.399702436728887, 131.34328358208955)\"><circle r=\"0.0\"></circle></g><g class=\"toyplot-Datum\" style=\"fill:rgb(40%,76.1%,64.7%);fill-opacity:1.0;opacity:1.0;stroke:rgb(40%,76.1%,64.7%);stroke-opacity:1.0\" transform=\"translate(94.240036127261703, 131.34328358208955)\"><circle r=\"0.0\"></circle></g><g class=\"toyplot-Datum\" style=\"fill:rgb(40%,76.1%,64.7%);fill-opacity:1.0;opacity:1.0;stroke:rgb(40%,76.1%,64.7%);stroke-opacity:1.0\" transform=\"translate(69.399702436728887, 196.64179104477611)\"><circle r=\"0.0\"></circle></g><g class=\"toyplot-Datum\" style=\"fill:rgb(40%,76.1%,64.7%);fill-opacity:1.0;opacity:1.0;stroke:rgb(40%,76.1%,64.7%);stroke-opacity:1.0\" transform=\"translate(83.745900073818817, 196.64179104477611)\"><circle r=\"0.0\"></circle></g><g class=\"toyplot-Datum\" style=\"fill:rgb(40%,76.1%,64.7%);fill-opacity:1.0;opacity:1.0;stroke:rgb(40%,76.1%,64.7%);stroke-opacity:1.0\" transform=\"translate(83.745900073818817, 196.64179104477611)\"><circle r=\"0.0\"></circle></g><g class=\"toyplot-Datum\" style=\"fill:rgb(40%,76.1%,64.7%);fill-opacity:1.0;opacity:1.0;stroke:rgb(40%,76.1%,64.7%);stroke-opacity:1.0\" transform=\"translate(83.745900073818817, 168.65671641791045)\"><circle r=\"0.0\"></circle></g><g class=\"toyplot-Datum\" style=\"fill:rgb(40%,76.1%,64.7%);fill-opacity:1.0;opacity:1.0;stroke:rgb(40%,76.1%,64.7%);stroke-opacity:1.0\" transform=\"translate(83.7533981605674, 168.65671641791045)\"><circle r=\"0.0\"></circle></g><g class=\"toyplot-Datum\" style=\"fill:rgb(40%,76.1%,64.7%);fill-opacity:1.0;opacity:1.0;stroke:rgb(40%,76.1%,64.7%);stroke-opacity:1.0\" transform=\"translate(83.745900073818817, 224.62686567164181)\"><circle r=\"0.0\"></circle></g><g class=\"toyplot-Datum\" style=\"fill:rgb(40%,76.1%,64.7%);fill-opacity:1.0;opacity:1.0;stroke:rgb(40%,76.1%,64.7%);stroke-opacity:1.0\" transform=\"translate(180.61611214928868, 224.62686567164181)\"><circle r=\"0.0\"></circle></g><g class=\"toyplot-Datum\" style=\"fill:rgb(40%,76.1%,64.7%);fill-opacity:1.0;opacity:1.0;stroke:rgb(40%,76.1%,64.7%);stroke-opacity:1.0\" transform=\"translate(180.61611214928868, 224.62686567164181)\"><circle r=\"0.0\"></circle></g><g class=\"toyplot-Datum\" style=\"fill:rgb(40%,76.1%,64.7%);fill-opacity:1.0;opacity:1.0;stroke:rgb(40%,76.1%,64.7%);stroke-opacity:1.0\" transform=\"translate(180.61611214928868, 205.97014925373136)\"><circle r=\"0.0\"></circle></g><g class=\"toyplot-Datum\" style=\"fill:rgb(40%,76.1%,64.7%);fill-opacity:1.0;opacity:1.0;stroke:rgb(40%,76.1%,64.7%);stroke-opacity:1.0\" transform=\"translate(195.26438117373618, 205.97014925373136)\"><circle r=\"0.0\"></circle></g><g class=\"toyplot-Datum\" style=\"fill:rgb(40%,76.1%,64.7%);fill-opacity:1.0;opacity:1.0;stroke:rgb(40%,76.1%,64.7%);stroke-opacity:1.0\" transform=\"translate(180.61611214928868, 243.28358208955225)\"><circle r=\"0.0\"></circle></g><g class=\"toyplot-Datum\" style=\"fill:rgb(40%,76.1%,64.7%);fill-opacity:1.0;opacity:1.0;stroke:rgb(40%,76.1%,64.7%);stroke-opacity:1.0\" transform=\"translate(188.3156419790684, 243.28358208955225)\"><circle r=\"0.0\"></circle></g></g></g><g class=\"toyplot-mark-Scatterplot\" id=\"tfa3277b4fc5e4951add3928764f1c659\"><g class=\"toyplot-Series\"><g class=\"toyplot-Datum\" style=\"fill:rgb(40%,76.1%,64.7%);fill-opacity:1.0;opacity:1.0;stroke:none\" transform=\"translate(69.399702436728887, 163.99253731343282)\"><title>idx: 1\n",
       "name: 1\n",
       "dist: 0.00258728830269\n",
       "support: 63</title><circle r=\"11.0\"></circle><g><text style=\"fill:rgb(14.9%,14.9%,14.9%);fill-opacity:1.0;font-family:helvetica;font-size:9.0px;font-weight:normal;stroke:none;vertical-align:baseline;white-space:pre\" x=\"-5.004\" y=\"2.2995\">63</text></g></g><g class=\"toyplot-Datum\" style=\"fill:rgb(40%,76.1%,64.7%);fill-opacity:1.0;opacity:1.0;stroke:none\" transform=\"translate(83.745900073818817, 196.64179104477611)\"><title>idx: 2\n",
       "name: 2\n",
       "dist: 0.0019133153952\n",
       "support: 54</title><circle r=\"11.0\"></circle><g><text style=\"fill:rgb(14.9%,14.9%,14.9%);fill-opacity:1.0;font-family:helvetica;font-size:9.0px;font-weight:normal;stroke:none;vertical-align:baseline;white-space:pre\" x=\"-5.004\" y=\"2.2995\">54</text></g></g><g class=\"toyplot-Datum\" style=\"fill:rgb(40%,76.1%,64.7%);fill-opacity:1.0;opacity:1.0;stroke:none\" transform=\"translate(180.61611214928868, 224.62686567164181)\"><title>idx: 3\n",
       "name: 3\n",
       "dist: 0.0129193304588\n",
       "support: 100</title><circle r=\"11.0\"></circle><g><text style=\"fill:rgb(14.9%,14.9%,14.9%);fill-opacity:1.0;font-family:helvetica;font-size:9.0px;font-weight:normal;stroke:none;vertical-align:baseline;white-space:pre\" x=\"-7.506\" y=\"2.2995\">100</text></g></g></g></g></g></g></svg><div class=\"toyplot-behavior\"><script>(function()\n",
       "{\n",
       "var modules={};\n",
       "modules[\"toyplot/tables\"] = (function()\n",
       "    {\n",
       "        var tables = [];\n",
       "\n",
       "        var module = {};\n",
       "\n",
       "        module.set = function(owner, key, names, columns)\n",
       "        {\n",
       "            tables.push({owner: owner, key: key, names: names, columns: columns});\n",
       "        }\n",
       "\n",
       "        module.get = function(owner, key)\n",
       "        {\n",
       "            for(var i = 0; i != tables.length; ++i)\n",
       "            {\n",
       "                var table = tables[i];\n",
       "                if(table.owner != owner)\n",
       "                    continue;\n",
       "                if(table.key != key)\n",
       "                    continue;\n",
       "                return {names: table.names, columns: table.columns};\n",
       "            }\n",
       "        }\n",
       "\n",
       "        module.get_csv = function(owner, key)\n",
       "        {\n",
       "            var table = module.get(owner, key);\n",
       "            if(table != undefined)\n",
       "            {\n",
       "                var csv = \"\";\n",
       "                csv += table.names.join(\",\") + \"\\n\";\n",
       "                for(var i = 0; i != table.columns[0].length; ++i)\n",
       "                {\n",
       "                  for(var j = 0; j != table.columns.length; ++j)\n",
       "                  {\n",
       "                    if(j)\n",
       "                      csv += \",\";\n",
       "                    csv += table.columns[j][i];\n",
       "                  }\n",
       "                  csv += \"\\n\";\n",
       "                }\n",
       "                return csv;\n",
       "            }\n",
       "        }\n",
       "\n",
       "        return module;\n",
       "    })();\n",
       "modules[\"toyplot/root/id\"] = \"t3b872a0eec0b49abb41b885983ad07ff\";\n",
       "modules[\"toyplot/root\"] = (function(root_id)\n",
       "    {\n",
       "        return document.querySelector(\"#\" + root_id);\n",
       "    })(modules[\"toyplot/root/id\"]);\n",
       "modules[\"toyplot/canvas/id\"] = \"t869130b450d048778f65d2fb3f99b01a\";\n",
       "modules[\"toyplot/canvas\"] = (function(canvas_id)\n",
       "    {\n",
       "        return document.querySelector(\"#\" + canvas_id);\n",
       "    })(modules[\"toyplot/canvas/id\"]);\n",
       "modules[\"toyplot/menus/context\"] = (function(root, canvas)\n",
       "    {\n",
       "        var wrapper = document.createElement(\"div\");\n",
       "        wrapper.innerHTML = \"<ul class='toyplot-context-menu' style='background:#eee; border:1px solid #b8b8b8; border-radius:5px; box-shadow: 0px 0px 8px rgba(0%,0%,0%,0.25); margin:0; padding:3px 0; position:fixed; visibility:hidden;'></ul>\"\n",
       "        var menu = wrapper.firstChild;\n",
       "\n",
       "        root.appendChild(menu);\n",
       "\n",
       "        var items = [];\n",
       "\n",
       "        var ignore_mouseup = null;\n",
       "        function open_menu(e)\n",
       "        {\n",
       "            var show_menu = false;\n",
       "            for(var index=0; index != items.length; ++index)\n",
       "            {\n",
       "                var item = items[index];\n",
       "                if(item.show(e))\n",
       "                {\n",
       "                    item.item.style.display = \"block\";\n",
       "                    show_menu = true;\n",
       "                }\n",
       "                else\n",
       "                {\n",
       "                    item.item.style.display = \"none\";\n",
       "                }\n",
       "            }\n",
       "\n",
       "            if(show_menu)\n",
       "            {\n",
       "                ignore_mouseup = true;\n",
       "                menu.style.left = (e.clientX + 1) + \"px\";\n",
       "                menu.style.top = (e.clientY - 5) + \"px\";\n",
       "                menu.style.visibility = \"visible\";\n",
       "                e.stopPropagation();\n",
       "                e.preventDefault();\n",
       "            }\n",
       "        }\n",
       "\n",
       "        function close_menu()\n",
       "        {\n",
       "            menu.style.visibility = \"hidden\";\n",
       "        }\n",
       "\n",
       "        function contextmenu(e)\n",
       "        {\n",
       "            open_menu(e);\n",
       "        }\n",
       "\n",
       "        function mousemove(e)\n",
       "        {\n",
       "            ignore_mouseup = false;\n",
       "        }\n",
       "\n",
       "        function mouseup(e)\n",
       "        {\n",
       "            if(ignore_mouseup)\n",
       "            {\n",
       "                ignore_mouseup = false;\n",
       "                return;\n",
       "            }\n",
       "            close_menu();\n",
       "        }\n",
       "\n",
       "        function keydown(e)\n",
       "        {\n",
       "            if(e.key == \"Escape\" || e.key == \"Esc\" || e.keyCode == 27)\n",
       "            {\n",
       "                close_menu();\n",
       "            }\n",
       "        }\n",
       "\n",
       "        canvas.addEventListener(\"contextmenu\", contextmenu);\n",
       "        canvas.addEventListener(\"mousemove\", mousemove);\n",
       "        document.addEventListener(\"mouseup\", mouseup);\n",
       "        document.addEventListener(\"keydown\", keydown);\n",
       "\n",
       "        var module = {};\n",
       "        module.add_item = function(label, show, activate)\n",
       "        {\n",
       "            var wrapper = document.createElement(\"div\");\n",
       "            wrapper.innerHTML = \"<li class='toyplot-context-menu-item' style='background:#eee; color:#333; padding:2px 20px; list-style:none; margin:0; text-align:left;'>\" + label + \"</li>\"\n",
       "            var item = wrapper.firstChild;\n",
       "\n",
       "            items.push({item: item, show: show});\n",
       "\n",
       "            function mouseover()\n",
       "            {\n",
       "                this.style.background = \"steelblue\";\n",
       "                this.style.color = \"white\";\n",
       "            }\n",
       "\n",
       "            function mouseout()\n",
       "            {\n",
       "                this.style.background = \"#eee\";\n",
       "                this.style.color = \"#333\";\n",
       "            }\n",
       "\n",
       "            function choose_item(e)\n",
       "            {\n",
       "                close_menu();\n",
       "                activate();\n",
       "\n",
       "                e.stopPropagation();\n",
       "                e.preventDefault();\n",
       "            }\n",
       "\n",
       "            item.addEventListener(\"mouseover\", mouseover);\n",
       "            item.addEventListener(\"mouseout\", mouseout);\n",
       "            item.addEventListener(\"mouseup\", choose_item);\n",
       "            item.addEventListener(\"contextmenu\", choose_item);\n",
       "\n",
       "            menu.appendChild(item);\n",
       "        };\n",
       "        return module;\n",
       "    })(modules[\"toyplot/root\"],modules[\"toyplot/canvas\"]);\n",
       "modules[\"toyplot/io\"] = (function()\n",
       "    {\n",
       "        var module = {};\n",
       "        module.save_file = function(mime_type, charset, data, filename)\n",
       "        {\n",
       "            var uri = \"data:\" + mime_type + \";charset=\" + charset + \",\" + data;\n",
       "            uri = encodeURI(uri);\n",
       "\n",
       "            var link = document.createElement(\"a\");\n",
       "            if(typeof link.download != \"undefined\")\n",
       "            {\n",
       "              link.href = uri;\n",
       "              link.style = \"visibility:hidden\";\n",
       "              link.download = filename;\n",
       "\n",
       "              document.body.appendChild(link);\n",
       "              link.click();\n",
       "              document.body.removeChild(link);\n",
       "            }\n",
       "            else\n",
       "            {\n",
       "              window.open(uri);\n",
       "            }\n",
       "        };\n",
       "        return module;\n",
       "    })();\n",
       "(function(tables, context_menu, io, owner_id, key, label, names, columns, filename)\n",
       "        {\n",
       "            tables.set(owner_id, key, names, columns);\n",
       "\n",
       "            var owner = document.querySelector(\"#\" + owner_id);\n",
       "            function show_item(e)\n",
       "            {\n",
       "                return owner.contains(e.target);\n",
       "            }\n",
       "\n",
       "            function choose_item()\n",
       "            {\n",
       "                io.save_file(\"text/csv\", \"utf-8\", tables.get_csv(owner_id, key), filename + \".csv\");\n",
       "            }\n",
       "\n",
       "            context_menu.add_item(\"Save \" + label + \" as CSV\", show_item, choose_item);\n",
       "        })(modules[\"toyplot/tables\"],modules[\"toyplot/menus/context\"],modules[\"toyplot/io\"],\"t5a02288f91c54b6d9d652510d6beb666\",\"vertex_data\",\"graph vertex data\",[\"x\", \"y\"],[[-0.01937353603405902, -0.01937353603405902, -0.01840860531899881, -0.01937353603405902, -0.01827691827065068, -0.01937353603405902, -0.016786247731371218, -0.016786247731371218, -0.016786247731371218, -0.013473356463992886, -0.016786247731371218, -0.014872932336171332, -0.014872932336171332, -0.014872932336171332, -0.014871932335671302, -0.014872932336171332, -0.001953601877409391, -0.001953601877409391, -0.001953601877409391, 0.0, -0.001953601877409391, -0.0009267354329494416], [3.7083333333333335, 5.0, 5.0, 4.0, 4.0, 2.125, 2.125, 2.125, 3.0, 3.0, 1.25, 1.25, 1.25, 2.0, 2.0, 0.5, 0.5, 0.5, 1.0, 1.0, 0.0, 0.0]],\"toyplot\");\n",
       "(function(tables, context_menu, io, owner_id, key, label, names, columns, filename)\n",
       "        {\n",
       "            tables.set(owner_id, key, names, columns);\n",
       "\n",
       "            var owner = document.querySelector(\"#\" + owner_id);\n",
       "            function show_item(e)\n",
       "            {\n",
       "                return owner.contains(e.target);\n",
       "            }\n",
       "\n",
       "            function choose_item()\n",
       "            {\n",
       "                io.save_file(\"text/csv\", \"utf-8\", tables.get_csv(owner_id, key), filename + \".csv\");\n",
       "            }\n",
       "\n",
       "            context_menu.add_item(\"Save \" + label + \" as CSV\", show_item, choose_item);\n",
       "        })(modules[\"toyplot/tables\"],modules[\"toyplot/menus/context\"],modules[\"toyplot/io\"],\"t5a02288f91c54b6d9d652510d6beb666\",\"edge_data\",\"graph edge data\",[\"source\", \"target\"],[[0, 1, 0, 3, 0, 5, 7, 8, 7, 10, 12, 13, 12, 15, 17, 18, 17, 20], [1, 2, 3, 4, 5, 6, 8, 9, 10, 11, 13, 14, 15, 16, 18, 19, 20, 21]],\"toyplot\");\n",
       "(function(tables, context_menu, io, owner_id, key, label, names, columns, filename)\n",
       "        {\n",
       "            tables.set(owner_id, key, names, columns);\n",
       "\n",
       "            var owner = document.querySelector(\"#\" + owner_id);\n",
       "            function show_item(e)\n",
       "            {\n",
       "                return owner.contains(e.target);\n",
       "            }\n",
       "\n",
       "            function choose_item()\n",
       "            {\n",
       "                io.save_file(\"text/csv\", \"utf-8\", tables.get_csv(owner_id, key), filename + \".csv\");\n",
       "            }\n",
       "\n",
       "            context_menu.add_item(\"Save \" + label + \" as CSV\", show_item, choose_item);\n",
       "        })(modules[\"toyplot/tables\"],modules[\"toyplot/menus/context\"],modules[\"toyplot/io\"],\"tfa3277b4fc5e4951add3928764f1c659\",\"data\",\"scatterplot\",[\"x\", \"y0\"],[[-0.01937353603405902, -0.016786247731371218, -0.014872932336171332, -0.001953601877409391, -0.01840860531899881, -0.01827691827065068, -0.013473356463992886, -0.014871932335671302, 0.0, -0.0009267354329494416], [3.7083333333333335, 2.125, 1.25, 0.5, 5.0, 4.0, 3.0, 2.0, 1.0, 0.0]],\"toyplot\");\n",
       "})();</script></div></div>"
      ]
     },
     "metadata": {},
     "output_type": "display_data"
    }
   ],
   "source": [
    "tre = toytree.tree(rax.trees.bipartitions)\n",
    "tre.draw(\n",
    "    width=300, \n",
    "    use_edge_lengths=True, \n",
    "    node_labels=tre.get_node_values('support'));"
   ]
  }
 ],
 "metadata": {
  "kernelspec": {
   "display_name": "Python 2",
   "language": "python",
   "name": "python2"
  },
  "language_info": {
   "codemirror_mode": {
    "name": "ipython",
    "version": 2
   },
   "file_extension": ".py",
   "mimetype": "text/x-python",
   "name": "python",
   "nbconvert_exporter": "python",
   "pygments_lexer": "ipython2",
   "version": "2.7.13"
  }
 },
 "nbformat": 4,
 "nbformat_minor": 2
}
