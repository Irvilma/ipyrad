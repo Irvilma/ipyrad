{
 "cells": [
  {
   "cell_type": "markdown",
   "metadata": {},
   "source": [
    "### exception test"
   ]
  },
  {
   "cell_type": "code",
   "execution_count": 29,
   "metadata": {
    "collapsed": false
   },
   "outputs": [
    {
     "name": "stdout",
     "output_type": "stream",
     "text": [
      "[0, 1, 2, 3]\n"
     ]
    }
   ],
   "source": [
    "import os\n",
    "import ipyparallel as ipp\n",
    "\n",
    "ipyclient = ipp.Client()\n",
    "print ipyclient.ids\n",
    "lbview = ipyclient.load_balanced_view()"
   ]
  },
  {
   "cell_type": "code",
   "execution_count": 93,
   "metadata": {
    "collapsed": true
   },
   "outputs": [],
   "source": [
    "## make data \n",
    "data = range(20)\n",
    "\n",
    "## make function that will raise exception for one data point\n",
    "@lbview.parallel(block=False)\n",
    "def testfunc(x):\n",
    "    import os\n",
    "    if x[0] < 10: \n",
    "        raise Exception(\"fail\")\n",
    "    else:\n",
    "        return (x, os.getpid())\n",
    "    "
   ]
  },
  {
   "cell_type": "code",
   "execution_count": 95,
   "metadata": {
    "collapsed": false
   },
   "outputs": [],
   "source": [
    "res = testfunc([3, 30, 40, 3, 4])\n"
   ]
  },
  {
   "cell_type": "code",
   "execution_count": 96,
   "metadata": {
    "collapsed": false
   },
   "outputs": [
    {
     "ename": "CompositeError",
     "evalue": "one or more exceptions from call to method: testfunc\n[1:apply]: Exception: fail\n[0:apply]: Exception: fail\n[3:apply]: Exception: fail",
     "output_type": "error",
     "traceback": [
      "[1:apply]: ",
      "\u001b[1;31m---------------------------------------------------------------------------\u001b[0m\u001b[1;31mException\u001b[0m                                 Traceback (most recent call last)\u001b[1;32m<string>\u001b[0m in \u001b[0;36m<module>\u001b[1;34m()\u001b[0m",
      "\u001b[1;32m<ipython-input-93-bf0ec65a2cf6>\u001b[0m in \u001b[0;36mtestfunc\u001b[1;34m(x)\u001b[0m",
      "\u001b[1;31mException\u001b[0m: fail",
      "",
      "[0:apply]: ",
      "\u001b[1;31m---------------------------------------------------------------------------\u001b[0m\u001b[1;31mException\u001b[0m                                 Traceback (most recent call last)\u001b[1;32m<string>\u001b[0m in \u001b[0;36m<module>\u001b[1;34m()\u001b[0m",
      "\u001b[1;32m<ipython-input-93-bf0ec65a2cf6>\u001b[0m in \u001b[0;36mtestfunc\u001b[1;34m(x)\u001b[0m",
      "\u001b[1;31mException\u001b[0m: fail",
      "",
      "[3:apply]: ",
      "\u001b[1;31m---------------------------------------------------------------------------\u001b[0m\u001b[1;31mException\u001b[0m                                 Traceback (most recent call last)\u001b[1;32m<string>\u001b[0m in \u001b[0;36m<module>\u001b[1;34m()\u001b[0m",
      "\u001b[1;32m<ipython-input-93-bf0ec65a2cf6>\u001b[0m in \u001b[0;36mtestfunc\u001b[1;34m(x)\u001b[0m",
      "\u001b[1;31mException\u001b[0m: fail",
      ""
     ]
    }
   ],
   "source": [
    "[i.get() for i in res]"
   ]
  },
  {
   "cell_type": "code",
   "execution_count": 70,
   "metadata": {
    "collapsed": false
   },
   "outputs": [
    {
     "name": "stdout",
     "output_type": "stream",
     "text": [
      "hi\n",
      "done\n"
     ]
    }
   ],
   "source": [
    "## now run all the data across 4 processors\n",
    "results = []\n",
    "try:\n",
    "    res = lbview.map_async(testfunc, data)\n",
    "    results = res.get()\n",
    "    #    results.append(res)\n",
    "    #ipyclient.wait(results)\n",
    "    \n",
    "except Exception:\n",
    "    print 'hi'\n",
    "    \n",
    "finally:\n",
    "    print 'done'"
   ]
  },
  {
   "cell_type": "code",
   "execution_count": 71,
   "metadata": {
    "collapsed": false
   },
   "outputs": [
    {
     "name": "stdout",
     "output_type": "stream",
     "text": [
      "0 []\n"
     ]
    }
   ],
   "source": [
    "final = [res.get() for i in results]\n",
    "print len(final), final"
   ]
  }
 ],
 "metadata": {
  "kernelspec": {
   "display_name": "Python 2",
   "language": "python",
   "name": "python2"
  },
  "language_info": {
   "codemirror_mode": {
    "name": "ipython",
    "version": 2
   },
   "file_extension": ".py",
   "mimetype": "text/x-python",
   "name": "python",
   "nbconvert_exporter": "python",
   "pygments_lexer": "ipython2",
   "version": "2.7.11"
  }
 },
 "nbformat": 4,
 "nbformat_minor": 0
}
