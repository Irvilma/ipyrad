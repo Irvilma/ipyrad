{
 "cells": [
  {
   "cell_type": "markdown",
   "metadata": {},
   "source": [
    "## svd4test test"
   ]
  },
  {
   "cell_type": "code",
   "execution_count": 1,
   "metadata": {
    "collapsed": true
   },
   "outputs": [],
   "source": [
    "import ipyrad as ip\n",
    "import ipyrad.analysis as ipa"
   ]
  },
  {
   "cell_type": "markdown",
   "metadata": {},
   "source": [
    "### Load in an Assembly object with the necessary data"
   ]
  },
  {
   "cell_type": "code",
   "execution_count": 2,
   "metadata": {
    "collapsed": false
   },
   "outputs": [
    {
     "name": "stdout",
     "output_type": "stream",
     "text": [
      "  New Assembly: qtest\n"
     ]
    }
   ],
   "source": [
    "data = ip.Assembly(\"qtest\")"
   ]
  },
  {
   "cell_type": "code",
   "execution_count": 3,
   "metadata": {
    "collapsed": false
   },
   "outputs": [
    {
     "name": "stdout",
     "output_type": "stream",
     "text": [
      "    Linking to demultiplexed fastq files in '/home/deren/Dropbox/Public/PyRAD_TUTORIALS/tutorial_GBS/fastq/*'\n",
      "    12 new Samples created in `qtest`.\n",
      "    12 fastq files linked to 12 new Samples.\n"
     ]
    }
   ],
   "source": [
    "## local paths\n",
    "oldata = \"/home/deren/Dropbox/Public/PyRAD_TUTORIALS/tutorial_GBS/fastq/*\"\n",
    "oldphy = \"/home/deren/Dropbox/Public/PyRAD_TUTORIALS/tutorial_GBS/outfiles/c85m4p3.phy\"\n",
    "\n",
    "## link to my assembly\n",
    "data.link_fastqs(path=oldata)\n",
    "data.outfiles.phylip = oldphy"
   ]
  },
  {
   "cell_type": "markdown",
   "metadata": {},
   "source": [
    "### create ipyclient\n",
    "The launch will be incorporated into the function call eventually."
   ]
  },
  {
   "cell_type": "code",
   "execution_count": 4,
   "metadata": {
    "collapsed": false
   },
   "outputs": [],
   "source": [
    "import ipyparallel as ipp\n",
    "ipyclient = ipp.Client()"
   ]
  },
  {
   "cell_type": "markdown",
   "metadata": {},
   "source": [
    "## Run SVD4tet test"
   ]
  },
  {
   "cell_type": "code",
   "execution_count": 5,
   "metadata": {
    "collapsed": false
   },
   "outputs": [
    {
     "name": "stdout",
     "output_type": "stream",
     "text": [
      "loading array\n",
      "populating array with 495 quartets\n",
      "  done\n"
     ]
    }
   ],
   "source": [
    "data = ipa.svd4tet.main(data, ipyclient)"
   ]
  },
  {
   "cell_type": "code",
   "execution_count": 6,
   "metadata": {
    "collapsed": false
   },
   "outputs": [
    {
     "data": {
      "text/plain": [
       "'qtest_svd.h5'"
      ]
     },
     "execution_count": 6,
     "metadata": {},
     "output_type": "execute_result"
    }
   ],
   "source": [
    "data._svd.path"
   ]
  },
  {
   "cell_type": "code",
   "execution_count": 51,
   "metadata": {
    "collapsed": false
   },
   "outputs": [],
   "source": [
    "outfile = open(\"test.svd.leaves\", 'w')\n",
    "\n",
    "for i in range(0, 1000, 10):\n",
    "    chunk = [list(i) for i in io5[\"quartets\"][i:i+10]]\n",
    "    chunk = [\"{},{}|{},{}\".format(*i) for i in chunk]\n",
    "    outfile.write(\" \".join(chunk)+\" \")\n",
    "    \n",
    "outfile.close()"
   ]
  },
  {
   "cell_type": "code",
   "execution_count": 29,
   "metadata": {
    "collapsed": false
   },
   "outputs": [
    {
     "ename": "SyntaxError",
     "evalue": "invalid syntax (<ipython-input-29-e8195d7e2d79>, line 5)",
     "output_type": "error",
     "traceback": [
      "\u001b[1;36m  File \u001b[1;32m\"<ipython-input-29-e8195d7e2d79>\"\u001b[1;36m, line \u001b[1;32m5\u001b[0m\n\u001b[1;33m    print \"\\n\".join([\",\".join([list(i) for i in io5[\"quartets\"][:]])\u001b[0m\n\u001b[1;37m                                                                    ^\u001b[0m\n\u001b[1;31mSyntaxError\u001b[0m\u001b[1;31m:\u001b[0m invalid syntax\n"
     ]
    }
   ],
   "source": [
    "import h5py\n",
    "\n",
    "io5 = h5py.File(data._svd.path, 'r')\n",
    "\n",
    "print \\\n",
    "\"\\n\".join([\",\".join([list(i) for i in io5[\"quartets\"][:]])\n"
   ]
  },
  {
   "cell_type": "code",
   "execution_count": 6,
   "metadata": {
    "collapsed": false
   },
   "outputs": [
    {
     "data": {
      "text/plain": [
       "'/home/deren/Dropbox/Public/PyRAD_TUTORIALS/tutorial_GBS/outfiles/c85m4p3.phy'"
      ]
     },
     "execution_count": 6,
     "metadata": {},
     "output_type": "execute_result"
    }
   ],
   "source": [
    "data.outfiles.phylip"
   ]
  },
  {
   "cell_type": "code",
   "execution_count": 6,
   "metadata": {
    "collapsed": false
   },
   "outputs": [
    {
     "ename": "CompositeError",
     "evalue": "one or more exceptions from call to method: worker\n[3:apply]: TypeError: worker() takes exactly 2 arguments (1 given)",
     "output_type": "error",
     "traceback": [
      "[3:apply]: ",
      "\u001b[1;31m---------------------------------------------------------------------------\u001b[0m\u001b[1;31mTypeError\u001b[0m                                 Traceback (most recent call last)\u001b[1;32m<string>\u001b[0m in \u001b[0;36m<module>\u001b[1;34m()\u001b[0m",
      "\u001b[1;31mTypeError\u001b[0m: worker() takes exactly 2 arguments (1 given)",
      ""
     ]
    }
   ],
   "source": [
    "%tb"
   ]
  },
  {
   "cell_type": "code",
   "execution_count": 7,
   "metadata": {
    "collapsed": false
   },
   "outputs": [
    {
     "data": {
      "text/plain": [
       "'qtest_svd.h5'"
      ]
     },
     "execution_count": 7,
     "metadata": {},
     "output_type": "execute_result"
    }
   ],
   "source": [
    "data._svd.path"
   ]
  },
  {
   "cell_type": "code",
   "execution_count": null,
   "metadata": {
    "collapsed": true
   },
   "outputs": [],
   "source": [
    "phylip = open(data.outfiles.phylip, 'r')\n",
    "line = phylip.readline().strip().split()\n",
    "ntax = int(line[0])\n",
    "nbp = int(line[1])\n"
   ]
  },
  {
   "cell_type": "code",
   "execution_count": 19,
   "metadata": {
    "collapsed": false
   },
   "outputs": [],
   "source": [
    "import numpy as np\n",
    "seqarray = np.zeros((ntax, nbp), dtype=\"S1\")"
   ]
  },
  {
   "cell_type": "code",
   "execution_count": 23,
   "metadata": {
    "collapsed": false
   },
   "outputs": [],
   "source": [
    "import h5py\n",
    "with h5py.File(data._svd.path, 'w') as io5:\n",
    "    io5.create_dataset(\"seqarray\", (ntax, nbp), dtype=\"S1\")       \n",
    "    for line, seq in enumerate(phylip.readlines()):\n",
    "        seqarray[line] = np.array(list(seq.split()[-1]))"
   ]
  },
  {
   "cell_type": "code",
   "execution_count": null,
   "metadata": {
    "collapsed": true
   },
   "outputs": [],
   "source": []
  },
  {
   "cell_type": "code",
   "execution_count": 17,
   "metadata": {
    "collapsed": false
   },
   "outputs": [],
   "source": [
    "import itertools\n",
    "qiter = itertools.combinations(range(len(data.samples)), 4)"
   ]
  },
  {
   "cell_type": "code",
   "execution_count": 11,
   "metadata": {
    "collapsed": false
   },
   "outputs": [
    {
     "data": {
      "text/plain": [
       "495"
      ]
     },
     "execution_count": 11,
     "metadata": {},
     "output_type": "execute_result"
    }
   ],
   "source": [
    "nquarts = sum(1 for _ in qiter)\n",
    "nquarts"
   ]
  },
  {
   "cell_type": "code",
   "execution_count": 12,
   "metadata": {
    "collapsed": false
   },
   "outputs": [],
   "source": [
    "if nquarts < 1000:\n",
    "    chunk = nquarts"
   ]
  },
  {
   "cell_type": "code",
   "execution_count": 30,
   "metadata": {
    "collapsed": false
   },
   "outputs": [
    {
     "name": "stdout",
     "output_type": "stream",
     "text": [
      "<HDF5 dataset \"samples\": shape (495, 4), type \"<i2\">\n"
     ]
    }
   ],
   "source": [
    "import h5py\n",
    "import numpy as np\n",
    "\n",
    "i = 0\n",
    "with h5py.File(data._svd.path, 'w') as io5:\n",
    "    io5.create_dataset(\"samples\", (nquarts, 4), \n",
    "                       dtype=np.int16, chunks=(chunk, 4))\n",
    "    io5.create_dataset(\"quartets\", (nquarts, 4), \n",
    "                        dtype=np.int16, chunks=(chunk, 4))        \n",
    "    io5.create_dataset(\"weights\", (nquarts, 1), \n",
    "                        dtype=np.float16, chunks=(chunk, 1))\n",
    "    dat = np.array(list(itertools.islice(qiter, 1000)))\n",
    "    \n",
    "    io5[\"samples\"][i:i+dat.shape[0]] = dat\n",
    "    print io5[\"samples\"]"
   ]
  },
  {
   "cell_type": "code",
   "execution_count": 7,
   "metadata": {
    "collapsed": false
   },
   "outputs": [
    {
     "data": {
      "text/plain": [
       "array([[ 0,  1,  2,  3],\n",
       "       [ 0,  1,  2,  4],\n",
       "       [ 0,  1,  2,  5],\n",
       "       ..., \n",
       "       [ 7,  8, 10, 11],\n",
       "       [ 7,  9, 10, 11],\n",
       "       [ 8,  9, 10, 11]], dtype=int16)"
      ]
     },
     "execution_count": 7,
     "metadata": {},
     "output_type": "execute_result"
    }
   ],
   "source": [
    "import h5py\n",
    "\n",
    "io5 = h5py.File(data._svd.path, 'r')\n",
    "io5[\"samples\"][0:1000]"
   ]
  },
  {
   "cell_type": "code",
   "execution_count": null,
   "metadata": {
    "collapsed": true
   },
   "outputs": [],
   "source": []
  }
 ],
 "metadata": {
  "kernelspec": {
   "display_name": "Python 2",
   "language": "python",
   "name": "python2"
  },
  "language_info": {
   "codemirror_mode": {
    "name": "ipython",
    "version": 2
   },
   "file_extension": ".py",
   "mimetype": "text/x-python",
   "name": "python",
   "nbconvert_exporter": "python",
   "pygments_lexer": "ipython2",
   "version": "2.7.11"
  }
 },
 "nbformat": 4,
 "nbformat_minor": 0
}
