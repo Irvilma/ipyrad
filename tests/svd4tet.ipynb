{
 "cells": [
  {
   "cell_type": "markdown",
   "metadata": {},
   "source": [
    "## Inferring species trees with svd4tet\n",
    "ipyrad includes a number of analysis tools that are optimized for analysis of RAD-seq data. The program __svd4tet__ uses the algorithm described by Chifman and Kubatko (2015) to quickly infer quartet trees from large SNP alignments, and then finds the best quartet-joined supertree with the program wQMC. Thus, it is pretty similar to the program __SVDquartets__, but with several additional features...."
   ]
  },
  {
   "cell_type": "code",
   "execution_count": 1,
   "metadata": {
    "collapsed": false
   },
   "outputs": [
    {
     "name": "stdout",
     "output_type": "stream",
     "text": [
      "\n",
      " --------------------------------------------------\n",
      "  Analysis tools for ipyrad [v.0.2.5]\n",
      "  svd4tet -- fast quartet and tree inference \n",
      " --------------------------------------------------\n",
      "usage: svd4tet [-h] [-v] [-f] [-q] [-s seq] [-j json] [-m method]\n",
      "               [-n nquartets] [-b boots] [-t starting_tree] [-o output_prefix]\n",
      "               [-c cores] [--MPI]\n",
      "\n",
      "optional arguments:\n",
      "  -h, --help        show this help message and exit\n",
      "  -v, --version     show program's version number and exit\n",
      "  -f, --force       force overwrite of existing data\n",
      "  -q, --quiet       do not print to stderror or stdout.\n",
      "  -s seq            path to input phylip file (full seqs or SNPs)\n",
      "  -j json           load existing saved analysis from json file.\n",
      "  -m method         method for sampling quartets (all, random, or equal)\n",
      "  -n nquartets      number of quartets to sample (if not -m all)\n",
      "  -b boots          number of non-parametric bootstrap replicates\n",
      "  -t starting_tree  newick file starting tree for equal splits sampling\n",
      "  -o output_prefix  output name prefix\n",
      "  -c cores          number of CPU cores to use (default = 0 = Use all)\n",
      "  --MPI             connect to parallel CPUs across multiple nodes\n",
      "\n",
      "  * Example command-line usage: \n",
      "\n",
      "  * Read in sequence/snp data file (-s) and provide output name (-o).\n",
      "  * Files should be either phylip formated (whether they contain full\n",
      "  * data or SNPs) or they should be in qusnps format (from ipyrad).\n",
      "    svd4tet -s data.phy -o test1     ## use full sequence data \n",
      "    svd4tet -s data.snps -o test2    ## use all SNPs\n",
      "    svd4tet -s data.usnps -o test2   ## use one SNP from each locus\n",
      "\n",
      "  * Load existing checkpointed analysis from json file\n",
      "    svd4tet -j test.json             ## reads and writes with name 'test'\n",
      "    svd4tet -j test.json -f          ## reads in test, force (-f) overwrites\n",
      "\n",
      "  * Sampling modes (-m option) all, random, or equal. Equal requires guide tree.\n",
      "    svd4tet -s data.snps -m all -o test           ## sample all quartets\n",
      "    svd4tet -s data.snps -m random -n 1e6 -o test ## random sample 1M quartets\n",
      "    svd4tet -s data.snps -m equal -n 500000       ## sample 500K quartets evenly\n",
      "            -t guide.tre -o test_equal            ## across splits of guide tree\n",
      "\n",
      "  * HPC parallelization\n",
      "    svd4tet -s data.phy              ## uses all cores on one machine\n",
      "    svd4tet -s data.phy -c 20 --MPI  ## access 20 cores across multiple nodes\n",
      "\n",
      "  * Documentation: http://ipyrad.readthedocs.org/en/latest/\n",
      "    \n"
     ]
    }
   ],
   "source": [
    "%%bash\n",
    "svd4tet -h"
   ]
  },
  {
   "cell_type": "markdown",
   "metadata": {},
   "source": [
    "### What does it do differently...?"
   ]
  },
  {
   "cell_type": "markdown",
   "metadata": {},
   "source": [
    "... coming soon ..."
   ]
  },
  {
   "cell_type": "markdown",
   "metadata": {},
   "source": [
    "### Calling svd4tet"
   ]
  },
  {
   "cell_type": "code",
   "execution_count": 4,
   "metadata": {
    "collapsed": false
   },
   "outputs": [
    {
     "name": "stdout",
     "output_type": "stream",
     "text": [
      "\n",
      " --------------------------------------------------\n",
      "  Analysis tools for ipyrad [v.0.2.5]\n",
      "  svd4tet -- fast quartet and tree inference \n",
      " --------------------------------------------------\n",
      "  ipyparallel setup: Local connection to 4 Engines\n",
      "\n",
      "  loading array [12 taxa x 693 bp]\n",
      "  loading all 495 possible quartets\n",
      "  populating array with 495 quartets\n",
      "  inferring 495 x 3 quartet trees\n",
      "\r",
      "  [                    ]   0%  \r",
      "  [                    ]   0%  \r",
      "  [                    ]   0%  \r",
      "  [                    ]   0%  \r",
      "  [                    ]   0%  \r",
      "  [####################] 100%  \n",
      "  running 100 bootstrap replicates\n",
      "\r",
      "  [                    ]   0%  \r",
      "  [                    ]   1%  \r",
      "  [                    ]   2%  \r",
      "  [                    ]   3%  \r",
      "  [                    ]   4%  \r",
      "  [#                   ]   5%  \r",
      "  [#                   ]   6%  \r",
      "  [#                   ]   7%  \r",
      "  [#                   ]   8%  \r",
      "  [#                   ]   9%  \r",
      "  [##                  ]  10%  \r",
      "  [##                  ]  11%  \r",
      "  [##                  ]  12%  \r",
      "  [##                  ]  13%  \r",
      "  [##                  ]  14%  \r",
      "  [###                 ]  15%  \r",
      "  [###                 ]  16%  \r",
      "  [###                 ]  17%  \r",
      "  [###                 ]  18%  \r",
      "  [###                 ]  19%  \r",
      "  [####                ]  20%  \r",
      "  [####                ]  21%  \r",
      "  [####                ]  22%  \r",
      "  [####                ]  23%  \r",
      "  [####                ]  24%  \r",
      "  [#####               ]  25%  \r",
      "  [#####               ]  26%  \r",
      "  [#####               ]  27%  \r",
      "  [#####               ]  28%  \r",
      "  [#####               ]  28%  \r",
      "  [######              ]  30%  \r",
      "  [######              ]  31%  \r",
      "  [######              ]  32%  \r",
      "  [######              ]  33%  \r",
      "  [######              ]  34%  \r",
      "  [#######             ]  35%  \r",
      "  [#######             ]  36%  \r",
      "  [#######             ]  37%  \r",
      "  [#######             ]  38%  \r",
      "  [#######             ]  39%  \r",
      "  [########            ]  40%  \r",
      "  [########            ]  41%  \r",
      "  [########            ]  42%  \r",
      "  [########            ]  43%  \r",
      "  [########            ]  44%  \r",
      "  [#########           ]  45%  \r",
      "  [#########           ]  46%  \r",
      "  [#########           ]  47%  \r",
      "  [#########           ]  48%  \r",
      "  [#########           ]  49%  \r",
      "  [##########          ]  50%  \r",
      "  [##########          ]  51%  \r",
      "  [##########          ]  52%  \r",
      "  [##########          ]  53%  \r",
      "  [##########          ]  54%  \r",
      "  [###########         ]  55%  \r",
      "  [###########         ]  56%  \r",
      "  [###########         ]  56%  \r",
      "  [###########         ]  57%  \r",
      "  [###########         ]  59%  \r",
      "  [############        ]  60%  \r",
      "  [############        ]  61%  \r",
      "  [############        ]  62%  \r",
      "  [############        ]  63%  \r",
      "  [############        ]  64%  \r",
      "  [#############       ]  65%  \r",
      "  [#############       ]  66%  \r",
      "  [#############       ]  67%  \r",
      "  [#############       ]  68%  \r",
      "  [#############       ]  69%  \r",
      "  [##############      ]  70%  \r",
      "  [##############      ]  71%  \r",
      "  [##############      ]  72%  \r",
      "  [##############      ]  73%  \r",
      "  [##############      ]  74%  \r",
      "  [###############     ]  75%  \r",
      "  [###############     ]  76%  \r",
      "  [###############     ]  77%  \r",
      "  [###############     ]  78%  \r",
      "  [###############     ]  79%  \r",
      "  [################    ]  80%  \r",
      "  [################    ]  81%  \r",
      "  [################    ]  82%  \r",
      "  [################    ]  83%  \r",
      "  [################    ]  84%  \r",
      "  [#################   ]  85%  \r",
      "  [#################   ]  86%  \r",
      "  [#################   ]  87%  \r",
      "  [#################   ]  88%  \r",
      "  [#################   ]  89%  \r",
      "  [##################  ]  90%  \r",
      "  [##################  ]  91%  \r",
      "  [##################  ]  92%  \r",
      "  [##################  ]  93%  \r",
      "  [##################  ]  94%  \r",
      "  [################### ]  95%  \r",
      "  [################### ]  96%  \r",
      "  [################### ]  97%  \r",
      "  [################### ]  98%  \r",
      "  [################### ]  99%  \r",
      "  [####################] 100%  \n",
      "  Final quartet-joined and weighted quartet-joined tree files:          \n",
      "  /home/deren/Documents/ipyrad/tests/cli_svd_analysis_svd/cli_svd_svd4tet.tre\n",
      "  /home/deren/Documents/ipyrad/tests/cli_svd_analysis_svd/cli_svd_svd4tet.w.tre\n",
      "\n",
      "  Bootstrap tree files:              \n",
      "  /home/deren/Documents/ipyrad/tests/cli_svd_analysis_svd/cli_svd_svd4tet.boots\n",
      "  /home/deren/Documents/ipyrad/tests/cli_svd_analysis_svd/cli_svd_svd4tet.w.boots\n",
      "\n",
      "  Final trees with bootstraps as edge labels: \n",
      "  /home/deren/Documents/ipyrad/tests/cli_svd_analysis_svd/cli_svd_svd4tet.support.tre\n",
      "  /home/deren/Documents/ipyrad/tests/cli_svd_analysis_svd/cli_svd_svd4tet.w.support.tre\n",
      "\n",
      "  Final trees with edge info in NHX format: \n",
      "  /home/deren/Documents/ipyrad/tests/cli_svd_analysis_svd/cli_svd_svd4tet.nhx\n",
      "  /home/deren/Documents/ipyrad/tests/cli_svd_analysis_svd/cli_svd_svd4tet.w.nhx\n",
      "\n",
      "  Quick view of unrooted topology from unweighted analysis\n",
      "\n",
      "            /-3I_0\n",
      "         /-|\n",
      "      /-|   \\-3J_0\n",
      "     |  |\n",
      "   /-|   \\-3K_0\n",
      "  |  |\n",
      "  |   \\-3L_0\n",
      "  |\n",
      "  |         /-1A_0\n",
      "  |      /-|\n",
      "  |   /-|   \\-1B_0\n",
      "  |  |  |\n",
      "--|--|   \\-1C_0\n",
      "  |  |\n",
      "  |   \\-1D_0\n",
      "  |\n",
      "  |         /-2E_0\n",
      "  |      /-|\n",
      "  |   /-|   \\-2F_0\n",
      "  |  |  |\n",
      "   \\-|   \\-2G_0\n",
      "     |\n",
      "      \\-2H_0\n",
      "\n",
      "  Quartet sampling visualized on a tree: \n",
      "  /home/deren/Documents/ipyrad/tests/cli_svd_analysis_svd/cli_svd_svd4tet_quartet_sampling.pdf\n",
      "  \n",
      "  * For tips on plotting trees see: ipyrad.readthedocs.org/cookbook.html\n",
      "  * For tips on citing this software see: ipyrad.readthedocs.org/svd4tet.html\n",
      "\n"
     ]
    },
    {
     "name": "stderr",
     "output_type": "stream",
     "text": [
      "GLib-GIO-Message: Using the 'memory' GSettings backend.  Your settings will not be saved or shared with other applications.\n",
      "INFO:ipyrad.core.parallel:Shutting down [ipyrad-29539] remote Engines\n"
     ]
    }
   ],
   "source": [
    "%%bash\n",
    "\n",
    "## call svd4tet with a snps file and an output name\n",
    "svd4tet -s /home/deren/Documents/ipyrad/tests/cli/cli_outfiles/cli.u.snps.phy \\\n",
    "        -o cli_svd \\\n",
    "        -b 100 \\\n",
    "        -m all \\\n",
    "        -c 4 "
   ]
  },
  {
   "cell_type": "markdown",
   "metadata": {},
   "source": [
    "### Plot the resulting tree in R\n",
    "The command below allows us to run R code in this Jupyter notebook."
   ]
  },
  {
   "cell_type": "code",
   "execution_count": 5,
   "metadata": {
    "collapsed": true
   },
   "outputs": [],
   "source": [
    "%load_ext rpy2.ipython"
   ]
  },
  {
   "cell_type": "code",
   "execution_count": 21,
   "metadata": {
    "collapsed": false
   },
   "outputs": [
    {
     "data": {
      "text/plain": [
       "\n",
       "Phylogenetic tree with 12 tips and 10 internal nodes.\n",
       "\n",
       "Tip labels:\n",
       "\t3I_0, 3J_0, 3K_0, 3L_0, 1A_0, 1B_0, ...\n",
       "\n",
       "Unrooted; includes branch lengths.\n"
      ]
     },
     "metadata": {},
     "output_type": "display_data"
    }
   ],
   "source": [
    "%%R\n",
    "library(ape)\n",
    "#library(ggtree)\n",
    "\n",
    "tre <- read.tree(\"~/Documents/ipyrad/tests/cli_svd_analysis_svd/cli_svd_svd4tet.support.tre\")\n",
    "tre\n"
   ]
  },
  {
   "cell_type": "code",
   "execution_count": 19,
   "metadata": {
    "collapsed": false,
    "scrolled": true
   },
   "outputs": [
    {
     "data": {
      "image/png": "[encoded data removed]"
     },
     "metadata": {},
     "output_type": "display_data"
    }
   ],
   "source": [
    "%%R -w 400 -h 400\n",
    "\n",
    "tre <- read.tree(\"/home/deren/Documents/ipyrad/tests/cli_svd_analysis_svd/cli_svd_svd4tet.tre\")\n",
    "\n",
    "plot(tre)"
   ]
  },
  {
   "cell_type": "code",
   "execution_count": 34,
   "metadata": {
    "collapsed": true
   },
   "outputs": [],
   "source": [
    "a = \"TGCAGAAGGGGTGCGAGTCAGTTTACTTGCATCATTTTGGGGCCTTACGTGTCAAGTACGTCTTAGTAAAGCCATGTCAGCTCCTGGCGTGTCTnnnnAACGTATGTCGATATTACGGCCCGCGCCCACGCGCCCACAGGCCCATGGTGAGGCGAACCCTTAAAAGTGACCTTATATTCTGTGATTATCCATAC-ACCG\""
   ]
  },
  {
   "cell_type": "code",
   "execution_count": 35,
   "metadata": {
    "collapsed": false
   },
   "outputs": [
    {
     "name": "stdout",
     "output_type": "stream",
     "text": [
      "AAGGGGTGCGAGTCAGTTTACTTGCATCATTTTGGGGCCTTACGTGTCAAGTACGTCTTAGTAAAGCCATGTCAGCTCCTGGCGTGTCTnnnnAACGTATGTCGATATTACGGCCCGCGCCCACGCGCCCACAGGCCCATGGTGAGGCGAACCCTTAAAAGTGACCTTATATTCTGTGATTATCCATAC-ACCG\n"
     ]
    }
   ],
   "source": [
    "print a[5:]"
   ]
  },
  {
   "cell_type": "code",
   "execution_count": 38,
   "metadata": {
    "collapsed": false
   },
   "outputs": [
    {
     "name": "stdout",
     "output_type": "stream",
     "text": [
      "AAGGGGTGCGAGTCAGTTTACTTGCATCATTTTGGGGCCTTACGTGTCAAGTACGTCTTAGTAAAGCCATGTCAGCTCCTGGCGTGTCT\n"
     ]
    }
   ],
   "source": [
    "print a[5:94]"
   ]
  },
  {
   "cell_type": "code",
   "execution_count": 37,
   "metadata": {
    "collapsed": false,
    "scrolled": true
   },
   "outputs": [
    {
     "name": "stdout",
     "output_type": "stream",
     "text": [
      "AACGTATGTCGATATTACGGCCCGCGCCCACGCGCCCACAGGCCCATGGTGAGGCGAACCCTTAAAAGTGACCTTATATTCTGTGATTATCCATAC-A\n"
     ]
    }
   ],
   "source": [
    "print a[98:196]"
   ]
  },
  {
   "cell_type": "code",
   "execution_count": 39,
   "metadata": {
    "collapsed": true
   },
   "outputs": [],
   "source": [
    "a = \"AAGGGGTGCGAGTCAGTTTACTTGCATCATTTTGGGGCCTTACGTGTCAAGTACGTCTTAGTAAAGCCATGTCAGCTCCTGGGGTGTCTnnnnAACGTATGTCGATATTACGGCCCGCGCCCACGCGCCCACAGGCCCATGGTGAGGCGAACCCTTAAAAGTGACCTTATATTCTGTAATTATCCATAC\""
   ]
  },
  {
   "cell_type": "code",
   "execution_count": 55,
   "metadata": {
    "collapsed": false
   },
   "outputs": [
    {
     "data": {
      "text/plain": [
       "array([ True,  True,  True, False, False, False, False, False, False,\n",
       "       False,  True,  True,  True,  True,  True,  True,  True,  True,\n",
       "        True,  True,  True,  True, False, False, False, False, False,\n",
       "       False, False, False, False,  True,  True,  True,  True,  True], dtype=bool)"
      ]
     },
     "execution_count": 55,
     "metadata": {},
     "output_type": "execute_result"
    }
   ],
   "source": [
    "import numpy as np\n",
    "\n",
    "m1 = np.invert([i in range(3, 10) for i in range(20)])\n",
    "\n",
    "m2 = np.invert([i in range(26, 35) for i in range(24, 40)])\n",
    "\n",
    "np.concatenate([m1, m2])"
   ]
  }
 ],
 "metadata": {
  "kernelspec": {
   "display_name": "Python 2",
   "language": "python",
   "name": "python2"
  },
  "language_info": {
   "codemirror_mode": {
    "name": "ipython",
    "version": 2
   },
   "file_extension": ".py",
   "mimetype": "text/x-python",
   "name": "python",
   "nbconvert_exporter": "python",
   "pygments_lexer": "ipython2",
   "version": "2.7.11"
  }
 },
 "nbformat": 4,
 "nbformat_minor": 0
}
