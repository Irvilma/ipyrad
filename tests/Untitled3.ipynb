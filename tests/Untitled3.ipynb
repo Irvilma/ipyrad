{
 "cells": [
  {
   "cell_type": "markdown",
   "metadata": {},
   "source": [
    "## Cookbook: Access and plot ipyrad stats in R"
   ]
  },
  {
   "cell_type": "markdown",
   "metadata": {},
   "source": [
    "Jupyter notebooks provide a convenient interface for sharing data and functions between Python and R through use of the Python rpy2 module. In this notebook I show an example of importing data from an ipyrad JSON object and plotting stats from the assembly in R.  \n",
    "\n"
   ]
  },
  {
   "cell_type": "markdown",
   "metadata": {},
   "source": [
    "### Why do this?\n",
    "A large motivation of creating the JSON storage object for ipyrad Assemblies is that this object stores all of the information for an entire assembly, and thus provides a useful portable format. This way you can execute very large assemblies on a remote HPC cluster and simply import the small JSON file onto your laptop to analyze and compare its size and other stats. It is of course easiest to analyze the stats in Python since ipyrad has a built-in parser for these JSON objects. However, many users may prefer to use R for plotting, and so here we show how to easily transfer results from ipyrad to R. \n",
    "\n",
    "\n",
    "#### 2 ways to access data in the JSON file:\n",
    "1. Load the data in with ipyrad and save to CSV. \n",
    "2. Load the data in with ipyrad and export to R using IPython and rpy2."
   ]
  },
  {
   "cell_type": "markdown",
   "metadata": {},
   "source": [
    "### Get an ipyrad assembly\n",
    "Here we use the API to run the example RAD data set, which only takes about 1 minute on a 4-core laptop. "
   ]
  },
  {
   "cell_type": "code",
   "execution_count": 3,
   "metadata": {
    "collapsed": true
   },
   "outputs": [],
   "source": [
    "import ipyrad as ip\n"
   ]
  },
  {
   "cell_type": "code",
   "execution_count": 4,
   "metadata": {
    "collapsed": false
   },
   "outputs": [
    {
     "name": "stdout",
     "output_type": "stream",
     "text": [
      "  New Assembly: test\n"
     ]
    }
   ],
   "source": [
    "## create a test assembly\n",
    "data = ip.Assembly(\"test\")\n",
    "data.set_params(1, 'test')\n",
    "data.set_params(2, 'ipsimdata/rad_example_R1_.fastq.gz')\n",
    "data.set_params(3, 'ipsimdata/rad_example_barcodes.txt')"
   ]
  },
  {
   "cell_type": "code",
   "execution_count": 7,
   "metadata": {
    "collapsed": false
   },
   "outputs": [
    {
     "ename": "TypeError",
     "evalue": "run() got an unexpected keyword argument 'quiet'",
     "output_type": "error",
     "traceback": [
      "\u001b[1;31m---------------------------------------------------------------------------\u001b[0m",
      "\u001b[1;31mTypeError\u001b[0m                                 Traceback (most recent call last)",
      "\u001b[1;32m<ipython-input-7-3edf1fc256dc>\u001b[0m in \u001b[0;36m<module>\u001b[1;34m()\u001b[0m\n\u001b[1;32m----> 1\u001b[1;33m \u001b[0mget_ipython\u001b[0m\u001b[1;33m(\u001b[0m\u001b[1;33m)\u001b[0m\u001b[1;33m.\u001b[0m\u001b[0mrun_cell_magic\u001b[0m\u001b[1;33m(\u001b[0m\u001b[1;34mu'timeit'\u001b[0m\u001b[1;33m,\u001b[0m \u001b[1;34mu'-n1'\u001b[0m\u001b[1;33m,\u001b[0m \u001b[1;34mu'## the timeit cell magic records how long it takes to run this code once\\n\\n## Assemble data set; runs steps 1-7\\ndata.run(quiet=True, force=True)'\u001b[0m\u001b[1;33m)\u001b[0m\u001b[1;33m\u001b[0m\u001b[0m\n\u001b[0m",
      "\u001b[1;32m/home/deren/anaconda/lib/python2.7/site-packages/IPython/core/interactiveshell.pyc\u001b[0m in \u001b[0;36mrun_cell_magic\u001b[1;34m(self, magic_name, line, cell)\u001b[0m\n\u001b[0;32m   2118\u001b[0m             \u001b[0mmagic_arg_s\u001b[0m \u001b[1;33m=\u001b[0m \u001b[0mself\u001b[0m\u001b[1;33m.\u001b[0m\u001b[0mvar_expand\u001b[0m\u001b[1;33m(\u001b[0m\u001b[0mline\u001b[0m\u001b[1;33m,\u001b[0m \u001b[0mstack_depth\u001b[0m\u001b[1;33m)\u001b[0m\u001b[1;33m\u001b[0m\u001b[0m\n\u001b[0;32m   2119\u001b[0m             \u001b[1;32mwith\u001b[0m \u001b[0mself\u001b[0m\u001b[1;33m.\u001b[0m\u001b[0mbuiltin_trap\u001b[0m\u001b[1;33m:\u001b[0m\u001b[1;33m\u001b[0m\u001b[0m\n\u001b[1;32m-> 2120\u001b[1;33m                 \u001b[0mresult\u001b[0m \u001b[1;33m=\u001b[0m \u001b[0mfn\u001b[0m\u001b[1;33m(\u001b[0m\u001b[0mmagic_arg_s\u001b[0m\u001b[1;33m,\u001b[0m \u001b[0mcell\u001b[0m\u001b[1;33m)\u001b[0m\u001b[1;33m\u001b[0m\u001b[0m\n\u001b[0m\u001b[0;32m   2121\u001b[0m             \u001b[1;32mreturn\u001b[0m \u001b[0mresult\u001b[0m\u001b[1;33m\u001b[0m\u001b[0m\n\u001b[0;32m   2122\u001b[0m \u001b[1;33m\u001b[0m\u001b[0m\n",
      "\u001b[1;32m<decorator-gen-59>\u001b[0m in \u001b[0;36mtimeit\u001b[1;34m(self, line, cell)\u001b[0m\n",
      "\u001b[1;32m/home/deren/anaconda/lib/python2.7/site-packages/IPython/core/magic.pyc\u001b[0m in \u001b[0;36m<lambda>\u001b[1;34m(f, *a, **k)\u001b[0m\n\u001b[0;32m    191\u001b[0m     \u001b[1;31m# but it's overkill for just that one bit of state.\u001b[0m\u001b[1;33m\u001b[0m\u001b[1;33m\u001b[0m\u001b[0m\n\u001b[0;32m    192\u001b[0m     \u001b[1;32mdef\u001b[0m \u001b[0mmagic_deco\u001b[0m\u001b[1;33m(\u001b[0m\u001b[0marg\u001b[0m\u001b[1;33m)\u001b[0m\u001b[1;33m:\u001b[0m\u001b[1;33m\u001b[0m\u001b[0m\n\u001b[1;32m--> 193\u001b[1;33m         \u001b[0mcall\u001b[0m \u001b[1;33m=\u001b[0m \u001b[1;32mlambda\u001b[0m \u001b[0mf\u001b[0m\u001b[1;33m,\u001b[0m \u001b[1;33m*\u001b[0m\u001b[0ma\u001b[0m\u001b[1;33m,\u001b[0m \u001b[1;33m**\u001b[0m\u001b[0mk\u001b[0m\u001b[1;33m:\u001b[0m \u001b[0mf\u001b[0m\u001b[1;33m(\u001b[0m\u001b[1;33m*\u001b[0m\u001b[0ma\u001b[0m\u001b[1;33m,\u001b[0m \u001b[1;33m**\u001b[0m\u001b[0mk\u001b[0m\u001b[1;33m)\u001b[0m\u001b[1;33m\u001b[0m\u001b[0m\n\u001b[0m\u001b[0;32m    194\u001b[0m \u001b[1;33m\u001b[0m\u001b[0m\n\u001b[0;32m    195\u001b[0m         \u001b[1;32mif\u001b[0m \u001b[0mcallable\u001b[0m\u001b[1;33m(\u001b[0m\u001b[0marg\u001b[0m\u001b[1;33m)\u001b[0m\u001b[1;33m:\u001b[0m\u001b[1;33m\u001b[0m\u001b[0m\n",
      "\u001b[1;32m/home/deren/anaconda/lib/python2.7/site-packages/IPython/core/magics/execution.pyc\u001b[0m in \u001b[0;36mtimeit\u001b[1;34m(self, line, cell)\u001b[0m\n\u001b[0;32m   1044\u001b[0m                     \u001b[1;32mbreak\u001b[0m\u001b[1;33m\u001b[0m\u001b[0m\n\u001b[0;32m   1045\u001b[0m                 \u001b[0mnumber\u001b[0m \u001b[1;33m*=\u001b[0m \u001b[1;36m10\u001b[0m\u001b[1;33m\u001b[0m\u001b[0m\n\u001b[1;32m-> 1046\u001b[1;33m         \u001b[0mall_runs\u001b[0m \u001b[1;33m=\u001b[0m \u001b[0mtimer\u001b[0m\u001b[1;33m.\u001b[0m\u001b[0mrepeat\u001b[0m\u001b[1;33m(\u001b[0m\u001b[0mrepeat\u001b[0m\u001b[1;33m,\u001b[0m \u001b[0mnumber\u001b[0m\u001b[1;33m)\u001b[0m\u001b[1;33m\u001b[0m\u001b[0m\n\u001b[0m\u001b[0;32m   1047\u001b[0m         \u001b[0mbest\u001b[0m \u001b[1;33m=\u001b[0m \u001b[0mmin\u001b[0m\u001b[1;33m(\u001b[0m\u001b[0mall_runs\u001b[0m\u001b[1;33m)\u001b[0m \u001b[1;33m/\u001b[0m \u001b[0mnumber\u001b[0m\u001b[1;33m\u001b[0m\u001b[0m\n\u001b[0;32m   1048\u001b[0m \u001b[1;33m\u001b[0m\u001b[0m\n",
      "\u001b[1;32m/home/deren/anaconda/lib/python2.7/timeit.pyc\u001b[0m in \u001b[0;36mrepeat\u001b[1;34m(self, repeat, number)\u001b[0m\n\u001b[0;32m    228\u001b[0m         \u001b[0mr\u001b[0m \u001b[1;33m=\u001b[0m \u001b[1;33m[\u001b[0m\u001b[1;33m]\u001b[0m\u001b[1;33m\u001b[0m\u001b[0m\n\u001b[0;32m    229\u001b[0m         \u001b[1;32mfor\u001b[0m \u001b[0mi\u001b[0m \u001b[1;32min\u001b[0m \u001b[0mrange\u001b[0m\u001b[1;33m(\u001b[0m\u001b[0mrepeat\u001b[0m\u001b[1;33m)\u001b[0m\u001b[1;33m:\u001b[0m\u001b[1;33m\u001b[0m\u001b[0m\n\u001b[1;32m--> 230\u001b[1;33m             \u001b[0mt\u001b[0m \u001b[1;33m=\u001b[0m \u001b[0mself\u001b[0m\u001b[1;33m.\u001b[0m\u001b[0mtimeit\u001b[0m\u001b[1;33m(\u001b[0m\u001b[0mnumber\u001b[0m\u001b[1;33m)\u001b[0m\u001b[1;33m\u001b[0m\u001b[0m\n\u001b[0m\u001b[0;32m    231\u001b[0m             \u001b[0mr\u001b[0m\u001b[1;33m.\u001b[0m\u001b[0mappend\u001b[0m\u001b[1;33m(\u001b[0m\u001b[0mt\u001b[0m\u001b[1;33m)\u001b[0m\u001b[1;33m\u001b[0m\u001b[0m\n\u001b[0;32m    232\u001b[0m         \u001b[1;32mreturn\u001b[0m \u001b[0mr\u001b[0m\u001b[1;33m\u001b[0m\u001b[0m\n",
      "\u001b[1;32m/home/deren/anaconda/lib/python2.7/site-packages/IPython/core/magics/execution.pyc\u001b[0m in \u001b[0;36mtimeit\u001b[1;34m(self, number)\u001b[0m\n\u001b[0;32m    135\u001b[0m         \u001b[0mgc\u001b[0m\u001b[1;33m.\u001b[0m\u001b[0mdisable\u001b[0m\u001b[1;33m(\u001b[0m\u001b[1;33m)\u001b[0m\u001b[1;33m\u001b[0m\u001b[0m\n\u001b[0;32m    136\u001b[0m         \u001b[1;32mtry\u001b[0m\u001b[1;33m:\u001b[0m\u001b[1;33m\u001b[0m\u001b[0m\n\u001b[1;32m--> 137\u001b[1;33m             \u001b[0mtiming\u001b[0m \u001b[1;33m=\u001b[0m \u001b[0mself\u001b[0m\u001b[1;33m.\u001b[0m\u001b[0minner\u001b[0m\u001b[1;33m(\u001b[0m\u001b[0mit\u001b[0m\u001b[1;33m,\u001b[0m \u001b[0mself\u001b[0m\u001b[1;33m.\u001b[0m\u001b[0mtimer\u001b[0m\u001b[1;33m)\u001b[0m\u001b[1;33m\u001b[0m\u001b[0m\n\u001b[0m\u001b[0;32m    138\u001b[0m         \u001b[1;32mfinally\u001b[0m\u001b[1;33m:\u001b[0m\u001b[1;33m\u001b[0m\u001b[0m\n\u001b[0;32m    139\u001b[0m             \u001b[1;32mif\u001b[0m \u001b[0mgcold\u001b[0m\u001b[1;33m:\u001b[0m\u001b[1;33m\u001b[0m\u001b[0m\n",
      "\u001b[1;32m<magic-timeit>\u001b[0m in \u001b[0;36minner\u001b[1;34m(_it, _timer)\u001b[0m\n",
      "\u001b[1;31mTypeError\u001b[0m: run() got an unexpected keyword argument 'quiet'"
     ]
    }
   ],
   "source": [
    "%%timeit -n1\n",
    "## the timeit cell magic records how long it takes to run this code once\n",
    "\n",
    "## Assemble data set; runs steps 1-7\n",
    "data.run(quiet=True, force=True)"
   ]
  },
  {
   "cell_type": "code",
   "execution_count": 95,
   "metadata": {
    "collapsed": false
   },
   "outputs": [
    {
     "data": {
      "text/html": [
       "<div>\n",
       "<table border=\"1\" class=\"dataframe\">\n",
       "  <thead>\n",
       "    <tr style=\"text-align: right;\">\n",
       "      <th></th>\n",
       "      <th>state</th>\n",
       "      <th>reads_raw</th>\n",
       "      <th>reads_filtered</th>\n",
       "      <th>clusters_total</th>\n",
       "      <th>clusters_hidepth</th>\n",
       "      <th>hetero_est</th>\n",
       "      <th>error_est</th>\n",
       "      <th>reads_consens</th>\n",
       "    </tr>\n",
       "  </thead>\n",
       "  <tbody>\n",
       "    <tr>\n",
       "      <th>1A_0</th>\n",
       "      <td>6</td>\n",
       "      <td>20093</td>\n",
       "      <td>20093</td>\n",
       "      <td>1000</td>\n",
       "      <td>1000</td>\n",
       "      <td>0.001965</td>\n",
       "      <td>0.000755</td>\n",
       "      <td>1000</td>\n",
       "    </tr>\n",
       "    <tr>\n",
       "      <th>1B_0</th>\n",
       "      <td>6</td>\n",
       "      <td>19938</td>\n",
       "      <td>19938</td>\n",
       "      <td>1000</td>\n",
       "      <td>1000</td>\n",
       "      <td>0.001865</td>\n",
       "      <td>0.000751</td>\n",
       "      <td>1000</td>\n",
       "    </tr>\n",
       "    <tr>\n",
       "      <th>1C_0</th>\n",
       "      <td>6</td>\n",
       "      <td>20054</td>\n",
       "      <td>20054</td>\n",
       "      <td>1000</td>\n",
       "      <td>1000</td>\n",
       "      <td>0.001969</td>\n",
       "      <td>0.000744</td>\n",
       "      <td>1000</td>\n",
       "    </tr>\n",
       "    <tr>\n",
       "      <th>1D_0</th>\n",
       "      <td>6</td>\n",
       "      <td>20066</td>\n",
       "      <td>20066</td>\n",
       "      <td>1000</td>\n",
       "      <td>1000</td>\n",
       "      <td>0.001934</td>\n",
       "      <td>0.000766</td>\n",
       "      <td>1000</td>\n",
       "    </tr>\n",
       "    <tr>\n",
       "      <th>2E_0</th>\n",
       "      <td>6</td>\n",
       "      <td>19838</td>\n",
       "      <td>19838</td>\n",
       "      <td>1000</td>\n",
       "      <td>1000</td>\n",
       "      <td>0.002077</td>\n",
       "      <td>0.000751</td>\n",
       "      <td>1000</td>\n",
       "    </tr>\n",
       "    <tr>\n",
       "      <th>2F_0</th>\n",
       "      <td>6</td>\n",
       "      <td>20033</td>\n",
       "      <td>20033</td>\n",
       "      <td>1000</td>\n",
       "      <td>1000</td>\n",
       "      <td>0.001887</td>\n",
       "      <td>0.000739</td>\n",
       "      <td>1000</td>\n",
       "    </tr>\n",
       "    <tr>\n",
       "      <th>2G_0</th>\n",
       "      <td>6</td>\n",
       "      <td>20145</td>\n",
       "      <td>20145</td>\n",
       "      <td>1000</td>\n",
       "      <td>1000</td>\n",
       "      <td>0.001898</td>\n",
       "      <td>0.000765</td>\n",
       "      <td>1000</td>\n",
       "    </tr>\n",
       "    <tr>\n",
       "      <th>2H_0</th>\n",
       "      <td>6</td>\n",
       "      <td>20158</td>\n",
       "      <td>20158</td>\n",
       "      <td>1000</td>\n",
       "      <td>1000</td>\n",
       "      <td>0.001932</td>\n",
       "      <td>0.000736</td>\n",
       "      <td>1000</td>\n",
       "    </tr>\n",
       "    <tr>\n",
       "      <th>3I_0</th>\n",
       "      <td>6</td>\n",
       "      <td>20010</td>\n",
       "      <td>20010</td>\n",
       "      <td>1000</td>\n",
       "      <td>1000</td>\n",
       "      <td>0.001866</td>\n",
       "      <td>0.000764</td>\n",
       "      <td>1000</td>\n",
       "    </tr>\n",
       "    <tr>\n",
       "      <th>3J_0</th>\n",
       "      <td>6</td>\n",
       "      <td>19977</td>\n",
       "      <td>19977</td>\n",
       "      <td>1000</td>\n",
       "      <td>1000</td>\n",
       "      <td>0.002291</td>\n",
       "      <td>0.000778</td>\n",
       "      <td>1000</td>\n",
       "    </tr>\n",
       "    <tr>\n",
       "      <th>3K_0</th>\n",
       "      <td>6</td>\n",
       "      <td>20061</td>\n",
       "      <td>20061</td>\n",
       "      <td>1000</td>\n",
       "      <td>1000</td>\n",
       "      <td>0.001808</td>\n",
       "      <td>0.000741</td>\n",
       "      <td>1000</td>\n",
       "    </tr>\n",
       "    <tr>\n",
       "      <th>3L_0</th>\n",
       "      <td>6</td>\n",
       "      <td>19975</td>\n",
       "      <td>19975</td>\n",
       "      <td>1000</td>\n",
       "      <td>1000</td>\n",
       "      <td>0.001991</td>\n",
       "      <td>0.000727</td>\n",
       "      <td>1000</td>\n",
       "    </tr>\n",
       "  </tbody>\n",
       "</table>\n",
       "</div>"
      ],
      "text/plain": [
       "      state  reads_raw  reads_filtered  clusters_total  clusters_hidepth  \\\n",
       "1A_0      6      20093           20093            1000              1000   \n",
       "1B_0      6      19938           19938            1000              1000   \n",
       "1C_0      6      20054           20054            1000              1000   \n",
       "1D_0      6      20066           20066            1000              1000   \n",
       "2E_0      6      19838           19838            1000              1000   \n",
       "2F_0      6      20033           20033            1000              1000   \n",
       "2G_0      6      20145           20145            1000              1000   \n",
       "2H_0      6      20158           20158            1000              1000   \n",
       "3I_0      6      20010           20010            1000              1000   \n",
       "3J_0      6      19977           19977            1000              1000   \n",
       "3K_0      6      20061           20061            1000              1000   \n",
       "3L_0      6      19975           19975            1000              1000   \n",
       "\n",
       "      hetero_est  error_est  reads_consens  \n",
       "1A_0    0.001965   0.000755           1000  \n",
       "1B_0    0.001865   0.000751           1000  \n",
       "1C_0    0.001969   0.000744           1000  \n",
       "1D_0    0.001934   0.000766           1000  \n",
       "2E_0    0.002077   0.000751           1000  \n",
       "2F_0    0.001887   0.000739           1000  \n",
       "2G_0    0.001898   0.000765           1000  \n",
       "2H_0    0.001932   0.000736           1000  \n",
       "3I_0    0.001866   0.000764           1000  \n",
       "3J_0    0.002291   0.000778           1000  \n",
       "3K_0    0.001808   0.000741           1000  \n",
       "3L_0    0.001991   0.000727           1000  "
      ]
     },
     "execution_count": 95,
     "metadata": {},
     "output_type": "execute_result"
    }
   ],
   "source": [
    "## Data can be accessed from the object's stats and stats_df attributes\n",
    "data.stats"
   ]
  },
  {
   "cell_type": "code",
   "execution_count": 36,
   "metadata": {
    "collapsed": false
   },
   "outputs": [
    {
     "data": {
      "text/html": [
       "<div>\n",
       "<table border=\"1\" class=\"dataframe\">\n",
       "  <thead>\n",
       "    <tr style=\"text-align: right;\">\n",
       "      <th></th>\n",
       "      <th>locus_coverage</th>\n",
       "      <th>sum_coverage</th>\n",
       "    </tr>\n",
       "  </thead>\n",
       "  <tbody>\n",
       "    <tr>\n",
       "      <th>1</th>\n",
       "      <td>NaN</td>\n",
       "      <td>0</td>\n",
       "    </tr>\n",
       "    <tr>\n",
       "      <th>2</th>\n",
       "      <td>NaN</td>\n",
       "      <td>0</td>\n",
       "    </tr>\n",
       "    <tr>\n",
       "      <th>3</th>\n",
       "      <td>NaN</td>\n",
       "      <td>0</td>\n",
       "    </tr>\n",
       "    <tr>\n",
       "      <th>4</th>\n",
       "      <td>0</td>\n",
       "      <td>0</td>\n",
       "    </tr>\n",
       "    <tr>\n",
       "      <th>5</th>\n",
       "      <td>0</td>\n",
       "      <td>0</td>\n",
       "    </tr>\n",
       "    <tr>\n",
       "      <th>6</th>\n",
       "      <td>0</td>\n",
       "      <td>0</td>\n",
       "    </tr>\n",
       "    <tr>\n",
       "      <th>7</th>\n",
       "      <td>0</td>\n",
       "      <td>0</td>\n",
       "    </tr>\n",
       "    <tr>\n",
       "      <th>8</th>\n",
       "      <td>0</td>\n",
       "      <td>0</td>\n",
       "    </tr>\n",
       "    <tr>\n",
       "      <th>9</th>\n",
       "      <td>0</td>\n",
       "      <td>0</td>\n",
       "    </tr>\n",
       "    <tr>\n",
       "      <th>10</th>\n",
       "      <td>0</td>\n",
       "      <td>0</td>\n",
       "    </tr>\n",
       "    <tr>\n",
       "      <th>11</th>\n",
       "      <td>0</td>\n",
       "      <td>0</td>\n",
       "    </tr>\n",
       "    <tr>\n",
       "      <th>12</th>\n",
       "      <td>1000</td>\n",
       "      <td>1000</td>\n",
       "    </tr>\n",
       "  </tbody>\n",
       "</table>\n",
       "</div>"
      ],
      "text/plain": [
       "    locus_coverage  sum_coverage\n",
       "1              NaN             0\n",
       "2              NaN             0\n",
       "3              NaN             0\n",
       "4                0             0\n",
       "5                0             0\n",
       "6                0             0\n",
       "7                0             0\n",
       "8                0             0\n",
       "9                0             0\n",
       "10               0             0\n",
       "11               0             0\n",
       "12            1000          1000"
      ]
     },
     "execution_count": 36,
     "metadata": {},
     "output_type": "execute_result"
    }
   ],
   "source": [
    "data.stats_dfs.s7_loci"
   ]
  },
  {
   "cell_type": "markdown",
   "metadata": {},
   "source": [
    "### Load R-language extension\n",
    "This requires that you have the Python module `rpy2` installed. If you do not, it can be installed in anaconda with: `conda install rpy2`"
   ]
  },
  {
   "cell_type": "code",
   "execution_count": 10,
   "metadata": {
    "collapsed": true
   },
   "outputs": [],
   "source": [
    "## now we tell IPython to load the rpy2 extension\n",
    "load_ext rpy2.ipython"
   ]
  },
  {
   "cell_type": "markdown",
   "metadata": {},
   "source": [
    "### Transfer python object to R\n",
    "There are a few odd tricks to doing using this module. One being that you shouldn't try to pass it named objects with '.' in their names. R won't like that. So simply rename these objects before passing them. Below I rename the stats data frame and then use the '-i' flag in R to import it into R namespace. The \"%R\" at the beginning of the line tells IPyhton to execute just that line as R code. "
   ]
  },
  {
   "cell_type": "code",
   "execution_count": 25,
   "metadata": {
    "collapsed": false
   },
   "outputs": [],
   "source": [
    "## rename data.stats as statsDF\n",
    "statsDF = data.stats\n",
    "\n",
    "## import statsDF into R\n",
    "%R -i statsDF"
   ]
  },
  {
   "cell_type": "markdown",
   "metadata": {},
   "source": [
    "### Now R knows about statsDF\n",
    "we can access it just like a normal R DataFrame, and even create plots. Using the cell header %%R everything in the cell will execute as R code. "
   ]
  },
  {
   "cell_type": "code",
   "execution_count": 26,
   "metadata": {
    "collapsed": false
   },
   "outputs": [
    {
     "data": {
      "text/plain": [
       "     state reads_raw reads_filtered clusters_total clusters_hidepth  hetero_est\n",
       "1A_0     6     20093          20093           1000             1000 0.001965305\n",
       "1B_0     6     19938          19938           1000             1000 0.001865104\n",
       "1C_0     6     20054          20054           1000             1000 0.001968599\n",
       "1D_0     6     20066          20066           1000             1000 0.001934149\n",
       "2E_0     6     19838          19838           1000             1000 0.002077262\n",
       "2F_0     6     20033          20033           1000             1000 0.001886744\n",
       "2G_0     6     20145          20145           1000             1000 0.001898473\n",
       "2H_0     6     20158          20158           1000             1000 0.001931724\n",
       "3I_0     6     20010          20010           1000             1000 0.001865512\n",
       "3J_0     6     19977          19977           1000             1000 0.002291394\n",
       "3K_0     6     20061          20061           1000             1000 0.001808438\n",
       "3L_0     6     19975          19975           1000             1000 0.001990599\n",
       "        error_est reads_consens\n",
       "1A_0 0.0007549364          1000\n",
       "1B_0 0.0007512644          1000\n",
       "1C_0 0.0007436178          1000\n",
       "1D_0 0.0007661128          1000\n",
       "2E_0 0.0007511313          1000\n",
       "2F_0 0.0007386290          1000\n",
       "2G_0 0.0007652827          1000\n",
       "2H_0 0.0007361525          1000\n",
       "3I_0 0.0007643904          1000\n",
       "3J_0 0.0007778005          1000\n",
       "3K_0 0.0007410198          1000\n",
       "3L_0 0.0007273741          1000\n"
      ]
     },
     "metadata": {},
     "output_type": "display_data"
    }
   ],
   "source": [
    "%%R \n",
    "print(statsDF)\n"
   ]
  },
  {
   "cell_type": "code",
   "execution_count": 92,
   "metadata": {
    "collapsed": false
   },
   "outputs": [
    {
     "data": {
      "image/png": "[encoded data removed]"
     },
     "metadata": {},
     "output_type": "display_data"
    }
   ],
   "source": [
    "%%R -w 350 -h 350\n",
    "## the dimensions above tell IPython how big to make the embedded figure\n",
    "## alternatively you can adjust the size when you save the figure using\n",
    "## normal methods in R.\n",
    "\n",
    "plot(statsDF$reads_raw, \n",
    "     statsDF$reads_filtered, \n",
    "     pch=20, cex=3)\n"
   ]
  },
  {
   "cell_type": "code",
   "execution_count": 38,
   "metadata": {
    "collapsed": false
   },
   "outputs": [],
   "source": [
    "### Other stats are available too\n",
    "### store names and import into R\n",
    "s5 = data.stats_dfs.s5\n",
    "s7L = data.stats_dfs.s7_loci\n",
    "s7S = data.stats_dfs.s7_snps\n",
    "s7N = data.stats_dfs.s7_samples\n",
    "\n",
    "## no spaces allowed between names\n",
    "%R -i s5,s7L,s7S,s7N"
   ]
  },
  {
   "cell_type": "markdown",
   "metadata": {},
   "source": [
    "### Plot coverage among samples \n",
    "Kinda boring in this example..."
   ]
  },
  {
   "cell_type": "code",
   "execution_count": 93,
   "metadata": {
    "collapsed": false
   },
   "outputs": [
    {
     "data": {
      "image/png": "[encoded data removed]"
     },
     "metadata": {},
     "output_type": "display_data"
    }
   ],
   "source": [
    "%%R -w 900 -h 350\n",
    "## \n",
    "barplot(s7N$sample_coverage, \n",
    "        col='grey', names=rownames(s7N),\n",
    "        ylab=\"N loci\",\n",
    "        xlab=\"Sample\")"
   ]
  },
  {
   "cell_type": "markdown",
   "metadata": {},
   "source": [
    "### Plot the distribution of SNPs among loci"
   ]
  },
  {
   "cell_type": "code",
   "execution_count": 85,
   "metadata": {
    "collapsed": false
   },
   "outputs": [
    {
     "data": {
      "text/plain": [
       "   var sum_var pis sum_pis\n",
       "0    9       0 316       0\n",
       "1   44      44 368     368\n",
       "2  117     278 205     778\n",
       "3  173     797  84    1030\n",
       "4  183    1529  19    1106\n",
       "5  165    2354   5    1131\n",
       "6  143    3212   2    1143\n",
       "7   76    3744   1    1150\n",
       "8   45    4104   0    1150\n",
       "9   25    4329   0    1150\n",
       "10  14    4469   0    1150\n",
       "11   5    4524   0    1150\n",
       "12   0    4524   0    1150\n",
       "13   1    4537   0    1150\n"
      ]
     },
     "metadata": {},
     "output_type": "display_data"
    },
    {
     "data": {
      "image/png": "[encoded data removed]"
     },
     "metadata": {},
     "output_type": "display_data"
    }
   ],
   "source": [
    "%%R -w 450 -h 400\n",
    "print(s7S)\n",
    "\n",
    "barplot(s7S$var, \n",
    "        col=rgb(0,0,1,1/4), \n",
    "        names=rownames(s7S),\n",
    "        ylab=\"N loci\", ylim=c(0, 400),\n",
    "        xlab=\"N parsimony informative sites\")\n",
    "\n",
    "barplot(s7S$pis, \n",
    "        col=rgb(1,0,0,1/4), \n",
    "        names=rownames(s7S),\n",
    "        ylab=\"N loci\", ylim=c(0, 400),\n",
    "        xlab=\"N parsimony informative sites\", \n",
    "        add=TRUE)"
   ]
  },
  {
   "cell_type": "markdown",
   "metadata": {},
   "source": [
    "### Future \n",
    "You can of course make much more complex figures with the data for your Assembly. See also the R package RADami which has some functions for analysis and plotting using the .loci output file from ipyrad. "
   ]
  }
 ],
 "metadata": {
  "kernelspec": {
   "display_name": "Python 2",
   "language": "python",
   "name": "python2"
  },
  "language_info": {
   "codemirror_mode": {
    "name": "ipython",
    "version": 2
   },
   "file_extension": ".py",
   "mimetype": "text/x-python",
   "name": "python",
   "nbconvert_exporter": "python",
   "pygments_lexer": "ipython2",
   "version": "2.7.11"
  }
 },
 "nbformat": 4,
 "nbformat_minor": 0
}
