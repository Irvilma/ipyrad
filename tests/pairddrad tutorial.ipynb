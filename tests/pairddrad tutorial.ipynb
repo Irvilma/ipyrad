{
 "cells": [
  {
   "cell_type": "markdown",
   "metadata": {},
   "source": [
    "## Paired-end ddRAD tutorial - CLI\n",
    "\n",
    "This tutorial assumes that you have already finished the introductory tutorial and focuses on the primary differences between single-end and paired-end analyses. The following topics are covered here: \n",
    "\n",
    "+ Naming convention for paired-end files\n",
    "+ Setting up the params file for paired-end data\n",
    "+ Merging paired-end reads which overlap\n",
    "+ Filtering paired-end data"
   ]
  },
  {
   "cell_type": "markdown",
   "metadata": {},
   "source": [
    "### Get the data\n",
    "First download and extract a set of example data from the web using the command below. This will create a directory called ipsimdata/ in your current directory containing a number of test data sets. If you already downloaded these data for one of the other tutorials then you can skip this step. "
   ]
  },
  {
   "cell_type": "code",
   "execution_count": null,
   "metadata": {
    "collapsed": true
   },
   "outputs": [],
   "source": [
    "## The curl command needs a capital O, not a zero\n",
    "curl -LkO https://github.com/dereneaton/ipyrad/raw/master/tests/ipsimdata.tar.gz\n",
    "tar -xvzf ipsimdata.tar.gz"
   ]
  },
  {
   "cell_type": "markdown",
   "metadata": {},
   "source": [
    "The data set we will analyze for this tutorial is now located in the ``ipsimdata/`` directory. Use any text editor or the command-line (as shown below) to look at the following six files which we will use for this tutorial. The ``sim_pairddrad_*`` data files contain a very \"clean\" paired ddRAD data set, while the ``sim_pairddradmerge_*`` data files contain a data set in which many paired reads are overlapping. In the latter case we will merge the reads which overlap during the ipyrad assembly. \n",
    "\n",
    "+ ``sim_pairddrad_R1_.fastq.gz`` -- Illumina fastq formatted read 1 (R1) data\n",
    "+ ``sim_pairddrad_R2_.fastq.gz`` -- Illumina fastq formatted read 2 (R2) data\n",
    "+ ``sim_pairddrad_barcodes.txt`` -- barcode information file\n",
    "\n",
    "\n",
    "+ ``sim_pairddradmerge_R1_.fastq.gz`` -- Illumina fastq formatted read 1 (R1) data\n",
    "+ ``sim_pairddradmerge_R2_.fastq.gz`` -- Illumina fastq formatted read 1 (R1) data\n",
    "+ ``sim_pairddradmerge_barcodes.txt`` -- barcode information file"
   ]
  },
  {
   "cell_type": "markdown",
   "metadata": {},
   "source": [
    "### Setting the parameters\n",
    "As with any analysis, we start by creating an initial assembly. We will create one for each of the two data sets. "
   ]
  },
  {
   "cell_type": "code",
   "execution_count": 3,
   "metadata": {
    "collapsed": false
   },
   "outputs": [
    {
     "name": "stdout",
     "output_type": "stream",
     "text": [
      "\n",
      "    New file `params-nomerge.txt` created in /home/deren/Documents/ipyrad/tests\n",
      "\n",
      "\n",
      "    New file `params-merge.txt` created in /home/deren/Documents/ipyrad/tests\n",
      "\n"
     ]
    }
   ],
   "source": [
    "%%bash\n",
    "\n",
    "ipyrad -n nomerge\n",
    "ipyrad -n merge"
   ]
  },
  {
   "cell_type": "markdown",
   "metadata": {},
   "source": [
    "Next edit the params-base.txt file to tell it the location of the input data files and the barcodes file. We will use the wildcard \"*\" in the path names to the files to indicate that we are selecting multiple files. The data type is also set to 'pairddrad', which tells it that the data are paired-end and that each end was cut with a different cutter.  "
   ]
  },
  {
   "cell_type": "code",
   "execution_count": null,
   "metadata": {
    "collapsed": true
   },
   "outputs": [],
   "source": [
    "## enter these changes to params-nomerge.txt in your text-editor\n",
    "\n",
    "pairtest                              ## [1] [project_dir]\n",
    "ipsimdata/sim_pairddrad_*.fastq.gz    ## [2] [raw_fastq_path]\n",
    "ipsimdata/sim_pairddrad_barcodes.txt  ## [3] [barcodes_path]\n",
    "pairddrad                             ## [7] [datatype]\n",
    "TGCAG, AATT                           ## [8] [restriction_overhang]"
   ]
  },
  {
   "cell_type": "code",
   "execution_count": null,
   "metadata": {
    "collapsed": false
   },
   "outputs": [],
   "source": [
    "## enter these changes to params-merge.txt in your text-editor\n",
    "\n",
    "pairtest                                    ## [1] [project_dir]\n",
    "ipsimdata/sim_pairddradmerge*.fastq.gz      ## [2] [raw_fastq_path]\n",
    "ipsimdata/sim_pairddradmerge_barcodes.txt   ## [3] [barcodes_path]\n",
    "pairddrad                                   ## [7] [datatype]\n",
    "TGCAG, AATT                                 ## [8] [restriction_overhang]\n",
    "1                                           ## [16] [filter_adapters]"
   ]
  },
  {
   "cell_type": "code",
   "execution_count": 5,
   "metadata": {
    "collapsed": false
   },
   "outputs": [
    {
     "name": "stdout",
     "output_type": "stream",
     "text": [
      "\n",
      " --------------------------------------------------\n",
      "  ipyrad [v.0.1.74]\n",
      "  Interactive assembly and analysis of RADseq data\n",
      " --------------------------------------------------\n",
      "  New Assembly: merge\n",
      "  ipyparallel setup: Local connection to 4 Engines\n",
      "\n",
      "  Step1: Demultiplexing fastq data to Samples\n",
      "    Saving Assembly.\n",
      "  Step2: Filtering reads \n",
      "    Saving Assembly.\n"
     ]
    }
   ],
   "source": [
    "%%bash\n",
    "\n",
    "ipyrad -p params-merge.txt -s 12"
   ]
  },
  {
   "cell_type": "code",
   "execution_count": 6,
   "metadata": {
    "collapsed": false
   },
   "outputs": [
    {
     "name": "stdout",
     "output_type": "stream",
     "text": [
      "\n",
      "\n",
      "Summary stats of Assembly merge\n",
      "------------------------------------------------\n",
      "     state  reads_raw  reads_filtered\n",
      "1A0      2      20000           19901\n",
      "1B0      2      20000           19960\n",
      "1C0      2      20000           19939\n",
      "1D0      2      20000           19900\n",
      "2E0      2      20000           19960\n",
      "2F0      2      20000           19940\n",
      "2G0      2      20000           19960\n",
      "2H0      2      20000           19903\n",
      "3I0      2      20000           19940\n",
      "3J0      2      20000           19939\n",
      "3K0      2      20000           19899\n",
      "3L0      2      20000           19960\n",
      "\n",
      "\n",
      "Full stats files\n",
      "------------------------------------------------\n",
      "step 1: ./pairtest/merge_fastqs/s1_demultiplex_stats.txt\n",
      "step 2: ./pairtest/merge_edits/s2_rawedit_stats.txt\n",
      "step 3: None\n",
      "step 4: None\n",
      "step 5: None\n",
      "step 6: None\n",
      "step 7: None\n",
      "\n",
      "\n"
     ]
    }
   ],
   "source": [
    "%%bash\n",
    "\n",
    "ipyrad -p params-merge.txt -r"
   ]
  },
  {
   "cell_type": "markdown",
   "metadata": {},
   "source": [
    "You can see in more detail by looking at the step2 stats output file"
   ]
  },
  {
   "cell_type": "code",
   "execution_count": 7,
   "metadata": {
    "collapsed": false
   },
   "outputs": [
    {
     "name": "stdout",
     "output_type": "stream",
     "text": [
      "     reads_raw  filtered_by_qscore  filtered_by_adapter  reads_passed\r\n",
      "1A0      20000                   0                   99         19901\r\n",
      "1B0      20000                   0                   40         19960\r\n",
      "1C0      20000                   0                   61         19939\r\n",
      "1D0      20000                   0                  100         19900\r\n",
      "2E0      20000                   0                   40         19960\r\n",
      "2F0      20000                   0                   60         19940\r\n",
      "2G0      20000                   0                   40         19960\r\n",
      "2H0      20000                   0                   97         19903\r\n",
      "3I0      20000                   0                   60         19940\r\n",
      "3J0      20000                   0                   61         19939\r\n",
      "3K0      20000                   0                  101         19899\r\n",
      "3L0      20000                   0                   40         19960"
     ]
    }
   ],
   "source": [
    "cat ./pairtest/merge_edits/s2_rawedit_stats.txt"
   ]
  },
  {
   "cell_type": "markdown",
   "metadata": {},
   "source": [
    "### Read merging\n",
    "\n",
    "During step 3 paired reads are merged."
   ]
  },
  {
   "cell_type": "code",
   "execution_count": 9,
   "metadata": {
    "collapsed": false
   },
   "outputs": [
    {
     "name": "stdout",
     "output_type": "stream",
     "text": [
      "\n",
      " --------------------------------------------------\n",
      "  ipyrad [v.0.1.74]\n",
      "  Interactive assembly and analysis of RADseq data\n",
      " --------------------------------------------------\n",
      "  loading Assembly: merge [~/Documents/ipyrad/tests/pairtest/merge.json]\n",
      "  ipyparallel setup: Local connection to 4 Engines\n",
      "\n",
      "  Step3: Clustering/Mapping reads\n",
      "    Saving Assembly.\n"
     ]
    }
   ],
   "source": [
    "%%bash\n",
    "\n",
    "ipyrad -p params-merge.txt -s 3"
   ]
  },
  {
   "cell_type": "code",
   "execution_count": null,
   "metadata": {
    "collapsed": true
   },
   "outputs": [],
   "source": []
  }
 ],
 "metadata": {
  "kernelspec": {
   "display_name": "Python 2",
   "language": "python",
   "name": "python2"
  },
  "language_info": {
   "codemirror_mode": {
    "name": "ipython",
    "version": 2
   },
   "file_extension": ".py",
   "mimetype": "text/x-python",
   "name": "python",
   "nbconvert_exporter": "python",
   "pygments_lexer": "ipython2",
   "version": "2.7.11"
  }
 },
 "nbformat": 4,
 "nbformat_minor": 0
}
