{
 "cells": [
  {
   "cell_type": "markdown",
   "metadata": {
    "collapsed": true,
    "deletable": true,
    "editable": true
   },
   "source": [
    "## Cookbook: Parallelized *STRUCTURE* analyses on unlinked SNPs\n",
    "\n",
    "As part of the `ipyrad.analysis` toolkit we've created some convenience functions for easily distributing *STRUCTURE* analysis jobs on an HPC cluster, and doing so in a programmatic and reproducible way. Importantly, *our workflow allows you to easily sample different distributions of unlinked SNPs among replicate analyses*, with the final inferred population structure summarized from a distribution of replicates. We also provide some simple interactive plotting functions to make barplots. Hover over the plot below for an example."
   ]
  },
  {
   "cell_type": "markdown",
   "metadata": {
    "deletable": true,
    "editable": true
   },
   "source": [
    "![example-struct](https://rawgithub.com/potherca/StackOverflow/gh-pages/question.13808020.include-an-svg-hosted-on-github-in-markdown/controllers_brief.svg)"
   ]
  },
  {
   "cell_type": "markdown",
   "metadata": {
    "deletable": true,
    "editable": true
   },
   "source": [
    "### A note on Jupyter/IPython\n",
    "This is a Jupyter notebook, a reproducible and executable document. The code in this notebook is Python (2.7), and should be executed either in a jupyter-notebook, like this one, or in an IPython terminal. Execute each cell in order to reproduce our entire analysis. We make use of the `ipyparallel` Python library to distribute *STRUCTURE* jobs across processers in parallel. If that is confusing, see our [tutorial on using ipcluster with jupyter](). The example data set used in this analysis is from the [empirical example ipyrad tutorial](http://ipyrad.readthedocs.io/pedicularis_.html)."
   ]
  },
  {
   "cell_type": "markdown",
   "metadata": {
    "deletable": true,
    "editable": true
   },
   "source": [
    "### Required software\n",
    "You can easily install the required software locally using `conda` by running the commented code below in a terminal. If you are working on an HPC cluster you **do not need** administrator privileges to install the software in this way, since it is only installed locally."
   ]
  },
  {
   "cell_type": "code",
   "execution_count": 1,
   "metadata": {
    "collapsed": false,
    "deletable": true,
    "editable": true
   },
   "outputs": [],
   "source": [
    "## conda install ipyrad -c ipyrad\n",
    "## conda install structure -c ipyrad\n",
    "## conda install clumpp -c ipyrad\n",
    "## pip install toyplot"
   ]
  },
  {
   "cell_type": "markdown",
   "metadata": {
    "deletable": true,
    "editable": true
   },
   "source": [
    "### Import Python libraries"
   ]
  },
  {
   "cell_type": "code",
   "execution_count": 2,
   "metadata": {
    "collapsed": false,
    "deletable": true,
    "editable": true
   },
   "outputs": [],
   "source": [
    "import ipyparallel as ipp                ## parallel processing\n",
    "import toyplot                           ## plotting library\n",
    "from ipyrad.analysis import Structure    ## structure wrapper"
   ]
  },
  {
   "cell_type": "markdown",
   "metadata": {
    "deletable": true,
    "editable": true
   },
   "source": [
    "### Parallel cluster setup\n",
    "Start an `ipcluster` instance in a separate terminal, like below. An easy way to do this in a jupyter-notebook running on an HPC cluster is to go to your Jupyter dashboard, and click [new], and then [terminal], and run `ipcluster start` in that terminal. This will start a local cluster on the compute node you are connected to. See our [ipyparallel tutorial]() for further details. "
   ]
  },
  {
   "cell_type": "code",
   "execution_count": 3,
   "metadata": {
    "collapsed": true,
    "deletable": true,
    "editable": true
   },
   "outputs": [],
   "source": [
    "##\n",
    "## ipcluster start --n=40\n",
    "##"
   ]
  },
  {
   "cell_type": "code",
   "execution_count": 4,
   "metadata": {
    "collapsed": false,
    "deletable": true,
    "editable": true
   },
   "outputs": [
    {
     "name": "stdout",
     "output_type": "stream",
     "text": [
      "Connected to 40 cores\n"
     ]
    }
   ],
   "source": [
    "## get parallel client\n",
    "ipyclient = ipp.Client()\n",
    "print \"Connected to {} cores\".format(len(ipyclient))"
   ]
  },
  {
   "cell_type": "markdown",
   "metadata": {
    "deletable": true,
    "editable": true
   },
   "source": [
    "### Enter input and output file locations"
   ]
  },
  {
   "cell_type": "code",
   "execution_count": 5,
   "metadata": {
    "collapsed": true,
    "deletable": true,
    "editable": true
   },
   "outputs": [],
   "source": [
    "## the structure formatted file\n",
    "strfile = \"./analysis-ipyrad/pedicularis_outfiles/pedicularis.str\"\n",
    "\n",
    "## an optional mapfile, to sample unlinked SNPs\n",
    "mapfile = \"./analysis-ipyrad/pedicularis_outfiles/pedicularis.snps.map\"\n",
    "\n",
    "## the directory where outfiles should be written\n",
    "workdir = \"./analysis-structure/\""
   ]
  },
  {
   "cell_type": "markdown",
   "metadata": {
    "deletable": true,
    "editable": true
   },
   "source": [
    "### Create a *Structure* Class object\n",
    "Structure is kind of an old fashioned program that requires creating quite a few input files to run, which makes it not very convenient to use in a programmatic and reproducible way. To work around this we've created a convenience wrapper object to make it easy to submit Structure jobs and to summarize their results. "
   ]
  },
  {
   "cell_type": "code",
   "execution_count": 6,
   "metadata": {
    "collapsed": false,
    "deletable": true,
    "editable": true
   },
   "outputs": [],
   "source": [
    "## create a Structure object\n",
    "struct = Structure(name=\"test-1\",\n",
    "                   strfile=strfile, \n",
    "                   mapfile=mapfile,\n",
    "                   workdir=workdir)"
   ]
  },
  {
   "cell_type": "markdown",
   "metadata": {
    "deletable": true,
    "editable": true
   },
   "source": [
    "### Set parameter options for this object\n",
    "Our Structure object will be used to submit jobs to the cluster. It has associated with it a name, a set of input files, and a large number of parameter settings. You can modify the parameters by setting them like below. You can also use tab-completion to see all of the available options, or print them like below. See the [full structure docs here](http://computing.bio.cam.ac.uk/local/doc/structure.pdf) for further details on the function of each parameter. In support of reproducibility, it is good practice to print both the mainparams and extraparams so it is clear which options you used. "
   ]
  },
  {
   "cell_type": "code",
   "execution_count": 7,
   "metadata": {
    "collapsed": false,
    "deletable": true,
    "editable": true
   },
   "outputs": [
    {
     "name": "stdout",
     "output_type": "stream",
     "text": [
      "burnin                   1000\n",
      "extracols                   0\n",
      "label                       1\n",
      "locdata                     0\n",
      "mapdistances                0\n",
      "markernames                 0\n",
      "markovphase                 0\n",
      "missing                    -9\n",
      "notambiguous             -999\n",
      "numreps                 10000\n",
      "onerowperind                0\n",
      "phased                      0\n",
      "phaseinfo                   0\n",
      "phenotype                   0\n",
      "ploidy                      2\n",
      "popdata                     0\n",
      "popflag                     0\n",
      "recessivealleles            0\n",
      "\n",
      "admburnin                  500\n",
      "alpha                      1.0\n",
      "alphamax                  10.0\n",
      "alphapriora                1.0\n",
      "alphapriorb                2.0\n",
      "alphapropsd              0.025\n",
      "ancestdist                   0\n",
      "ancestpint                 0.9\n",
      "computeprob                  1\n",
      "echodata                     0\n",
      "fpriormean                0.01\n",
      "fpriorsd                  0.05\n",
      "freqscorr                    1\n",
      "gensback                     2\n",
      "inferalpha                   1\n",
      "inferlambda                  0\n",
      "intermedsave                 0\n",
      "lambda_                    1.0\n",
      "linkage                      0\n",
      "locispop                     0\n",
      "locprior                     0\n",
      "locpriorinit               1.0\n",
      "log10rmax                  1.0\n",
      "log10rmin                 -4.0\n",
      "log10rpropsd               0.1\n",
      "log10rstart               -2.0\n",
      "maxlocprior               20.0\n",
      "metrofreq                   10\n",
      "migrprior                 0.01\n",
      "noadmix                      0\n",
      "numboxes                  1000\n",
      "onefst                       0\n",
      "pfrompopflagonly             0\n",
      "popalphas                    0\n",
      "popspecificlambda            0\n",
      "printlambda                  1\n",
      "printlikes                   0\n",
      "printnet                     1\n",
      "printqhat                    0\n",
      "printqsum                    1\n",
      "randomize                    0\n",
      "reporthitrate                0\n",
      "seed                     12345\n",
      "sitebysite                   0\n",
      "startatpopinfo               0\n",
      "unifprioralpha               1\n",
      "updatefreq               10000\n",
      "usepopinfo                   0\n",
      "\n"
     ]
    }
   ],
   "source": [
    "## set mainparams for object (you should run longer!)\n",
    "struct.mainparams.burnin = 1000\n",
    "struct.mainparams.numreps = 10000\n",
    "\n",
    "## see all mainparams\n",
    "print struct.mainparams\n",
    "\n",
    "## see or set extraparams\n",
    "print struct.extraparams"
   ]
  },
  {
   "cell_type": "markdown",
   "metadata": {
    "deletable": true,
    "editable": true
   },
   "source": [
    "### Submit jobs to run on the cluster\n",
    "The function `submit_structure_jobs()` distributes jobs to run on the cluster and load-balances the parallel workload. It takes a number of arguments. The first, `kpop`, is the number of populations. The second, `nreps`, is the number of replicated runs to perform. Each rep has a different random seed, and if you entered a mapfile for your Structure object then it will subsample unlinked snps independently in each replicate. The `seed` argument can be used to make the replicate analyses reproducible. The `extraparams.seed` parameter will be generated from this for each replicate. And finally, the `ipyclient` argument is for the parallel client that we created above. Using a simple for-loop we submit 20 replicate jobs to run at two different values of K. "
   ]
  },
  {
   "cell_type": "code",
   "execution_count": 8,
   "metadata": {
    "collapsed": false,
    "deletable": true,
    "editable": true
   },
   "outputs": [
    {
     "name": "stderr",
     "output_type": "stream",
     "text": [
      "submitted 20 structure jobs [test-1-K-4]\n",
      "submitted 20 structure jobs [test-1-K-5]\n",
      "submitted 20 structure jobs [test-1-K-6]\n"
     ]
    }
   ],
   "source": [
    "## a range of K-values to test\n",
    "tests = [4, 5, 6]\n",
    "\n",
    "## submit batches of 20 replicate jobs for each value of K \n",
    "for kpop in tests:\n",
    "    struct.submit_structure_jobs(kpop=kpop, \n",
    "                                 nreps=20, \n",
    "                                 seed=12345,\n",
    "                                 ipyclient=ipyclient)"
   ]
  },
  {
   "cell_type": "markdown",
   "metadata": {
    "deletable": true,
    "editable": true
   },
   "source": [
    "### Track progress until finished\n",
    "You can check for finished results by using the `get_clumpp()` function, which tries to summarize the finished results files. If no results are ready it will simply print a warning message telling you to wait. If you want the notebook to block/wait until all jobs are finished then execute the `wait()` function of the ipyclient object, like below. "
   ]
  },
  {
   "cell_type": "code",
   "execution_count": 17,
   "metadata": {
    "collapsed": false,
    "deletable": true,
    "editable": true
   },
   "outputs": [
    {
     "name": "stderr",
     "output_type": "stream",
     "text": [
      "No _f files ready in /home/deren/Documents/ipyrad/tests/analysis-structure\n"
     ]
    }
   ],
   "source": [
    "## check for results for a given value K\n",
    "table = struct.get_clumpp_table(kpop=5)"
   ]
  },
  {
   "cell_type": "code",
   "execution_count": null,
   "metadata": {
    "collapsed": true,
    "deletable": true,
    "editable": true
   },
   "outputs": [],
   "source": [
    "## block/wait until all jobs finished\n",
    "ipyclient.wait() "
   ]
  },
  {
   "cell_type": "markdown",
   "metadata": {
    "deletable": true,
    "editable": true
   },
   "source": [
    "### Summarize replicates with CLUMPP\n",
    "We ran 20 replicates per K-value hypothesis. We now need to concatenate and purmute those results so they can be summarized. For this we use the software clumpp. The default arguments to clumpp are generally good, but you can modify them the same as structure params, by accessing the `.clumppparams` attribute of your structure object. See the [clumpp documentation](https://web.stanford.edu/group/rosenberglab/software/CLUMPP_Manual.pdf) for more details. If you have a large number of samples (>50) you may wish to use the `largeKgreedy` algorithm (m=3) for faster runtimes. Below we run clumpp for each value of K that we ran structure on. You only need to tell the `get_clumpp_table()` function the value of K and it will find all of the result files given the Structure object's `name` and `workdir`."
   ]
  },
  {
   "cell_type": "code",
   "execution_count": 18,
   "metadata": {
    "collapsed": false,
    "deletable": true,
    "editable": true
   },
   "outputs": [
    {
     "data": {
      "text/plain": [
       "c                                 13\n",
       "datatype                           0\n",
       "every_permfile                     0\n",
       "greedy_option                      1\n",
       "indfile                            0\n",
       "kpop                               5\n",
       "m                                  2\n",
       "miscfile                           0\n",
       "order_by_run                       1\n",
       "outfile                            0\n",
       "override_warnings                  0\n",
       "permfile                           0\n",
       "permutationsfile                   0\n",
       "permuted_datafile                  0\n",
       "popfile                            0\n",
       "print_every_perm                   0\n",
       "print_permuted_data                0\n",
       "print_random_inputorder            0\n",
       "r                                 20\n",
       "random_inputorderfile              0\n",
       "repeats                         1000\n",
       "s                                  2\n",
       "w                                  1"
      ]
     },
     "execution_count": 18,
     "metadata": {},
     "output_type": "execute_result"
    }
   ],
   "source": [
    "## set some clumpp params\n",
    "struct.clumppparams.m = 2               ## use greedy algorithm\n",
    "struct.clumppparams.greedy_option = 1   ## test all possible orders\n",
    "struct.clumppparams"
   ]
  },
  {
   "cell_type": "code",
   "execution_count": 13,
   "metadata": {
    "collapsed": false,
    "deletable": true,
    "editable": true
   },
   "outputs": [
    {
     "ename": "NameError",
     "evalue": "name 'tests' is not defined",
     "output_type": "error",
     "traceback": [
      "\u001b[0;31m---------------------------------------------------------------------------\u001b[0m",
      "\u001b[0;31mNameError\u001b[0m                                 Traceback (most recent call last)",
      "\u001b[0;32m<ipython-input-13-31d8b7082c62>\u001b[0m in \u001b[0;36m<module>\u001b[0;34m()\u001b[0m\n\u001b[1;32m      1\u001b[0m \u001b[0;31m## run clumpp for each value of K\u001b[0m\u001b[0;34m\u001b[0m\u001b[0;34m\u001b[0m\u001b[0m\n\u001b[1;32m      2\u001b[0m \u001b[0mtables\u001b[0m \u001b[0;34m=\u001b[0m \u001b[0;34m{\u001b[0m\u001b[0;34m}\u001b[0m\u001b[0;34m\u001b[0m\u001b[0m\n\u001b[0;32m----> 3\u001b[0;31m \u001b[0;32mfor\u001b[0m \u001b[0mkpop\u001b[0m \u001b[0;32min\u001b[0m \u001b[0mtests\u001b[0m\u001b[0;34m:\u001b[0m\u001b[0;34m\u001b[0m\u001b[0m\n\u001b[0m\u001b[1;32m      4\u001b[0m     \u001b[0mtables\u001b[0m\u001b[0;34m[\u001b[0m\u001b[0mkpop\u001b[0m\u001b[0;34m]\u001b[0m \u001b[0;34m=\u001b[0m \u001b[0mstruct\u001b[0m\u001b[0;34m.\u001b[0m\u001b[0mget_clumpp_table\u001b[0m\u001b[0;34m(\u001b[0m\u001b[0mkpop\u001b[0m\u001b[0;34m)\u001b[0m\u001b[0;34m\u001b[0m\u001b[0m\n",
      "\u001b[0;31mNameError\u001b[0m: name 'tests' is not defined"
     ]
    }
   ],
   "source": [
    "## run clumpp for each value of K\n",
    "tables = {}\n",
    "for kpop in tests:\n",
    "    tables[kpop] = struct.get_clumpp_table(kpop)"
   ]
  },
  {
   "cell_type": "markdown",
   "metadata": {
    "deletable": true,
    "editable": true
   },
   "source": [
    "### Sort the table order how you like it\n",
    "This can be useful if, for example, you want to order the names to be in the same order as tips on your phylogeny. "
   ]
  },
  {
   "cell_type": "code",
   "execution_count": 29,
   "metadata": {
    "collapsed": false,
    "deletable": true,
    "editable": true
   },
   "outputs": [
    {
     "name": "stdout",
     "output_type": "stream",
     "text": [
      "custom ordering\n",
      "                             0       1       2       3       4\n",
      "32082_przewalskii       0.0000  0.0000  0.0000  0.0000  1.0000\n",
      "33588_przewalskii       0.0000  0.0000  0.0000  0.0000  1.0000\n",
      "41478_cyathophylloides  0.0000  0.9749  0.0000  0.0000  0.0251\n",
      "41954_cyathophylloides  0.0001  0.9746  0.0000  0.0000  0.0254\n",
      "29154_superba           0.7468  0.2527  0.0000  0.0005  0.0000\n",
      "30686_cyathophylla      0.5126  0.2780  0.2051  0.0039  0.0005\n",
      "33413_thamno            0.0700  0.0000  0.3041  0.6237  0.0023\n",
      "30556_thamno            0.1590  0.0000  0.1544  0.6821  0.0044\n",
      "35236_rex               0.1137  0.0059  0.2057  0.6698  0.0050\n",
      "40578_rex               0.0729  0.0005  0.1365  0.7902  0.0000\n",
      "35855_rex               0.0895  0.0030  0.1052  0.8012  0.0011\n",
      "39618_rex               0.0000  0.0000  0.0000  1.0000  0.0000\n",
      "38362_rex               0.0000  0.0000  0.0000  1.0000  0.0000\n"
     ]
    }
   ],
   "source": [
    "## custom sorting order\n",
    "myorder = [\n",
    "    \"32082_przewalskii\", \"33588_przewalskii\",\n",
    "    \"41478_cyathophylloides\", \"41954_cyathophylloides\", \n",
    "    \"29154_superba\",\n",
    "    \"30686_cyathophylla\", \n",
    "    \"33413_thamno\", \"30556_thamno\", \n",
    "    \"35236_rex\", \n",
    "    \"40578_rex\", \"35855_rex\",\n",
    "    \"39618_rex\", \"38362_rex\",\n",
    "]\n",
    "\n",
    "print \"custom ordering\"\n",
    "print table.ix[myorder]"
   ]
  },
  {
   "cell_type": "markdown",
   "metadata": {
    "deletable": true,
    "editable": true
   },
   "source": [
    "### A function for plotting (with interactive hover)\n",
    "The function automatically parses the table above for you. It can reorder the individuals based on their membership in each group, or based on an input list of ordered names. It returns the table of data as well as a list with information for making interactive hover boxes, which you can see below by hovering over the plots.  "
   ]
  },
  {
   "cell_type": "code",
   "execution_count": 31,
   "metadata": {
    "collapsed": false,
    "deletable": true,
    "editable": true
   },
   "outputs": [],
   "source": [
    "def hover(table):\n",
    "    hover = []\n",
    "    for row in range(table.shape[0]):\n",
    "        stack = []\n",
    "        for col in range(table.shape[1]):\n",
    "            stack.append(\"Name: {}\\nGroup: {}\\nProp: {}\"\\\n",
    "                .format(table.index[row], \n",
    "                        table.columns[col],\n",
    "                        table.ix[row, col]))\n",
    "        hover.append(stack)\n",
    "    return list(hover)"
   ]
  },
  {
   "cell_type": "markdown",
   "metadata": {
    "deletable": true,
    "editable": true
   },
   "source": [
    "### Visualize population structure in barplots \n",
    "Hover over the plot to see sample names and info in the hover box. "
   ]
  },
  {
   "cell_type": "code",
   "execution_count": 33,
   "metadata": {
    "collapsed": false,
    "deletable": true,
    "editable": true
   },
   "outputs": [
    {
     "data": {
      "text/html": [
       "<div align=\"center\" class=\"toyplot\" id=\"tc259e47c098d42f890dfe5388b15465e\"><svg class=\"toyplot-canvas-Canvas\" height=\"200.0px\" id=\"t27c243625a4f4e1b9659a599ea0eaf10\" preserveAspectRatio=\"xMidYMid meet\" style=\"background-color:transparent;fill:rgb(16.1%,15.3%,14.1%);fill-opacity:1.0;font-family:Helvetica;font-size:12px;opacity:1.0;stroke:rgb(16.1%,15.3%,14.1%);stroke-opacity:1.0;stroke-width:1.0\" viewBox=\"0 0 400.0 200.0\" width=\"400.0px\" xmlns=\"http://www.w3.org/2000/svg\" xmlns:toyplot=\"http://www.sandia.gov/toyplot\" xmlns:xlink=\"http://www.w3.org/1999/xlink\"><g class=\"toyplot-coordinates-Cartesian\" id=\"t5674606fb2c74c03a2991850af65b94d\"><clipPath id=\"t4951b8679d15439697bdff8b0996928a\"><rect height=\"120.0\" width=\"320.0\" x=\"40.0\" y=\"40.0\"></rect></clipPath><g clip-path=\"url(#t4951b8679d15439697bdff8b0996928a)\"><g class=\"toyplot-mark-BarMagnitudes\" id=\"t53d18da72406419a81e75ca29d4a53f4\" style=\"stroke:rgb(16.1%,15.3%,14.1%);stroke-opacity:1.0;stroke-width:1.0\"><g class=\"toyplot-Series\"><rect class=\"toyplot-Datum\" height=\"0.0\" style=\"fill:rgb(40%,76.1%,64.7%);fill-opacity:1.0;opacity:1.0;stroke:rgb(16.1%,15.3%,14.1%);stroke-opacity:1.0;stroke-width:1.0\" width=\"23.07692307692308\" x=\"50.0\" y=\"150.0\"><title>Name: 32082_przewalskii\n",
       "Group: 0\n",
       "Prop: 0.0</title></rect><rect class=\"toyplot-Datum\" height=\"0.0\" style=\"fill:rgb(40%,76.1%,64.7%);fill-opacity:1.0;opacity:1.0;stroke:rgb(16.1%,15.3%,14.1%);stroke-opacity:1.0;stroke-width:1.0\" width=\"23.07692307692308\" x=\"73.07692307692308\" y=\"150.0\"><title>Name: 33588_przewalskii\n",
       "Group: 0\n",
       "Prop: 0.0</title></rect><rect class=\"toyplot-Datum\" height=\"0.0\" style=\"fill:rgb(40%,76.1%,64.7%);fill-opacity:1.0;opacity:1.0;stroke:rgb(16.1%,15.3%,14.1%);stroke-opacity:1.0;stroke-width:1.0\" width=\"23.076923076923066\" x=\"96.15384615384616\" y=\"150.0\"><title>Name: 41478_cyathophylloides\n",
       "Group: 0\n",
       "Prop: 0.0</title></rect><rect class=\"toyplot-Datum\" height=\"0.0099990001000094253\" style=\"fill:rgb(40%,76.1%,64.7%);fill-opacity:1.0;opacity:1.0;stroke:rgb(16.1%,15.3%,14.1%);stroke-opacity:1.0;stroke-width:1.0\" width=\"23.076923076923094\" x=\"119.23076923076923\" y=\"149.99000099989999\"><title>Name: 41954_cyathophylloides\n",
       "Group: 0\n",
       "Prop: 0.0001</title></rect><rect class=\"toyplot-Datum\" height=\"74.672532746725324\" style=\"fill:rgb(40%,76.1%,64.7%);fill-opacity:1.0;opacity:1.0;stroke:rgb(16.1%,15.3%,14.1%);stroke-opacity:1.0;stroke-width:1.0\" width=\"23.076923076923066\" x=\"142.30769230769232\" y=\"75.327467253274676\"><title>Name: 29154_superba\n",
       "Group: 0\n",
       "Prop: 0.7468</title></rect><rect class=\"toyplot-Datum\" height=\"51.254874512548739\" style=\"fill:rgb(40%,76.1%,64.7%);fill-opacity:1.0;opacity:1.0;stroke:rgb(16.1%,15.3%,14.1%);stroke-opacity:1.0;stroke-width:1.0\" width=\"23.076923076923094\" x=\"165.38461538461539\" y=\"98.745125487451261\"><title>Name: 30686_cyathophylla\n",
       "Group: 0\n",
       "Prop: 0.5126</title></rect><rect class=\"toyplot-Datum\" height=\"6.9993000699929837\" style=\"fill:rgb(40%,76.1%,64.7%);fill-opacity:1.0;opacity:1.0;stroke:rgb(16.1%,15.3%,14.1%);stroke-opacity:1.0;stroke-width:1.0\" width=\"23.076923076923038\" x=\"188.46153846153848\" y=\"143.00069993000702\"><title>Name: 33413_thamno\n",
       "Group: 0\n",
       "Prop: 0.07</title></rect><rect class=\"toyplot-Datum\" height=\"15.898410158984092\" style=\"fill:rgb(40%,76.1%,64.7%);fill-opacity:1.0;opacity:1.0;stroke:rgb(16.1%,15.3%,14.1%);stroke-opacity:1.0;stroke-width:1.0\" width=\"23.076923076923094\" x=\"211.53846153846152\" y=\"134.10158984101591\"><title>Name: 30556_thamno\n",
       "Group: 0\n",
       "Prop: 0.159</title></rect><rect class=\"toyplot-Datum\" height=\"11.368863113688633\" style=\"fill:rgb(40%,76.1%,64.7%);fill-opacity:1.0;opacity:1.0;stroke:rgb(16.1%,15.3%,14.1%);stroke-opacity:1.0;stroke-width:1.0\" width=\"23.076923076923066\" x=\"234.61538461538461\" y=\"138.63113688631137\"><title>Name: 35236_rex\n",
       "Group: 0\n",
       "Prop: 0.1137</title></rect><rect class=\"toyplot-Datum\" height=\"7.289271072892717\" style=\"fill:rgb(40%,76.1%,64.7%);fill-opacity:1.0;opacity:1.0;stroke:rgb(16.1%,15.3%,14.1%);stroke-opacity:1.0;stroke-width:1.0\" width=\"23.076923076923094\" x=\"257.69230769230768\" y=\"142.71072892710728\"><title>Name: 40578_rex\n",
       "Group: 0\n",
       "Prop: 0.0729</title></rect><rect class=\"toyplot-Datum\" height=\"8.9491050894910416\" style=\"fill:rgb(40%,76.1%,64.7%);fill-opacity:1.0;opacity:1.0;stroke:rgb(16.1%,15.3%,14.1%);stroke-opacity:1.0;stroke-width:1.0\" width=\"23.076923076923038\" x=\"280.76923076923077\" y=\"141.05089491050896\"><title>Name: 35855_rex\n",
       "Group: 0\n",
       "Prop: 0.0895</title></rect><rect class=\"toyplot-Datum\" height=\"0.0\" style=\"fill:rgb(40%,76.1%,64.7%);fill-opacity:1.0;opacity:1.0;stroke:rgb(16.1%,15.3%,14.1%);stroke-opacity:1.0;stroke-width:1.0\" width=\"23.076923076923151\" x=\"303.84615384615381\" y=\"150.0\"><title>Name: 39618_rex\n",
       "Group: 0\n",
       "Prop: 0.0</title></rect><rect class=\"toyplot-Datum\" height=\"0.0\" style=\"fill:rgb(40%,76.1%,64.7%);fill-opacity:1.0;opacity:1.0;stroke:rgb(16.1%,15.3%,14.1%);stroke-opacity:1.0;stroke-width:1.0\" width=\"23.076923076923038\" x=\"326.92307692307696\" y=\"150.0\"><title>Name: 38362_rex\n",
       "Group: 0\n",
       "Prop: 0.0</title></rect></g><g class=\"toyplot-Series\"><rect class=\"toyplot-Datum\" height=\"0.0\" style=\"fill:rgb(98.8%,55.3%,38.4%);fill-opacity:1.0;opacity:1.0;stroke:rgb(16.1%,15.3%,14.1%);stroke-opacity:1.0;stroke-width:1.0\" width=\"23.07692307692308\" x=\"50.0\" y=\"150.0\"><title>Name: 32082_przewalskii\n",
       "Group: 1\n",
       "Prop: 0.0</title></rect><rect class=\"toyplot-Datum\" height=\"0.0\" style=\"fill:rgb(98.8%,55.3%,38.4%);fill-opacity:1.0;opacity:1.0;stroke:rgb(16.1%,15.3%,14.1%);stroke-opacity:1.0;stroke-width:1.0\" width=\"23.07692307692308\" x=\"73.07692307692308\" y=\"150.0\"><title>Name: 33588_przewalskii\n",
       "Group: 1\n",
       "Prop: 0.0</title></rect><rect class=\"toyplot-Datum\" height=\"97.480251974802513\" style=\"fill:rgb(98.8%,55.3%,38.4%);fill-opacity:1.0;opacity:1.0;stroke:rgb(16.1%,15.3%,14.1%);stroke-opacity:1.0;stroke-width:1.0\" width=\"23.076923076923066\" x=\"96.15384615384616\" y=\"52.51974802519748\"><title>Name: 41478_cyathophylloides\n",
       "Group: 1\n",
       "Prop: 0.9749</title></rect><rect class=\"toyplot-Datum\" height=\"97.450254974502542\" style=\"fill:rgb(98.8%,55.3%,38.4%);fill-opacity:1.0;opacity:1.0;stroke:rgb(16.1%,15.3%,14.1%);stroke-opacity:1.0;stroke-width:1.0\" width=\"23.076923076923094\" x=\"119.23076923076923\" y=\"52.539746025397456\"><title>Name: 41954_cyathophylloides\n",
       "Group: 1\n",
       "Prop: 0.9746</title></rect><rect class=\"toyplot-Datum\" height=\"25.267473252674741\" style=\"fill:rgb(98.8%,55.3%,38.4%);fill-opacity:1.0;opacity:1.0;stroke:rgb(16.1%,15.3%,14.1%);stroke-opacity:1.0;stroke-width:1.0\" width=\"23.076923076923066\" x=\"142.30769230769232\" y=\"50.059994000599936\"><title>Name: 29154_superba\n",
       "Group: 1\n",
       "Prop: 0.2527</title></rect><rect class=\"toyplot-Datum\" height=\"27.797220277972215\" style=\"fill:rgb(98.8%,55.3%,38.4%);fill-opacity:1.0;opacity:1.0;stroke:rgb(16.1%,15.3%,14.1%);stroke-opacity:1.0;stroke-width:1.0\" width=\"23.076923076923094\" x=\"165.38461538461539\" y=\"70.947905209479046\"><title>Name: 30686_cyathophylla\n",
       "Group: 1\n",
       "Prop: 0.278</title></rect><rect class=\"toyplot-Datum\" height=\"0.0\" style=\"fill:rgb(98.8%,55.3%,38.4%);fill-opacity:1.0;opacity:1.0;stroke:rgb(16.1%,15.3%,14.1%);stroke-opacity:1.0;stroke-width:1.0\" width=\"23.076923076923038\" x=\"188.46153846153848\" y=\"143.00069993000702\"><title>Name: 33413_thamno\n",
       "Group: 1\n",
       "Prop: 0.0</title></rect><rect class=\"toyplot-Datum\" height=\"0.0\" style=\"fill:rgb(98.8%,55.3%,38.4%);fill-opacity:1.0;opacity:1.0;stroke:rgb(16.1%,15.3%,14.1%);stroke-opacity:1.0;stroke-width:1.0\" width=\"23.076923076923094\" x=\"211.53846153846152\" y=\"134.10158984101591\"><title>Name: 30556_thamno\n",
       "Group: 1\n",
       "Prop: 0.0</title></rect><rect class=\"toyplot-Datum\" height=\"0.58994100589941922\" style=\"fill:rgb(98.8%,55.3%,38.4%);fill-opacity:1.0;opacity:1.0;stroke:rgb(16.1%,15.3%,14.1%);stroke-opacity:1.0;stroke-width:1.0\" width=\"23.076923076923066\" x=\"234.61538461538461\" y=\"138.04119588041195\"><title>Name: 35236_rex\n",
       "Group: 1\n",
       "Prop: 0.0059</title></rect><rect class=\"toyplot-Datum\" height=\"0.04999500049993344\" style=\"fill:rgb(98.8%,55.3%,38.4%);fill-opacity:1.0;opacity:1.0;stroke:rgb(16.1%,15.3%,14.1%);stroke-opacity:1.0;stroke-width:1.0\" width=\"23.076923076923094\" x=\"257.69230769230768\" y=\"142.66073392660735\"><title>Name: 40578_rex\n",
       "Group: 1\n",
       "Prop: 0.0005</title></rect><rect class=\"toyplot-Datum\" height=\"0.29997000299971432\" style=\"fill:rgb(98.8%,55.3%,38.4%);fill-opacity:1.0;opacity:1.0;stroke:rgb(16.1%,15.3%,14.1%);stroke-opacity:1.0;stroke-width:1.0\" width=\"23.076923076923038\" x=\"280.76923076923077\" y=\"140.75092490750924\"><title>Name: 35855_rex\n",
       "Group: 1\n",
       "Prop: 0.003</title></rect><rect class=\"toyplot-Datum\" height=\"0.0\" style=\"fill:rgb(98.8%,55.3%,38.4%);fill-opacity:1.0;opacity:1.0;stroke:rgb(16.1%,15.3%,14.1%);stroke-opacity:1.0;stroke-width:1.0\" width=\"23.076923076923151\" x=\"303.84615384615381\" y=\"150.0\"><title>Name: 39618_rex\n",
       "Group: 1\n",
       "Prop: 0.0</title></rect><rect class=\"toyplot-Datum\" height=\"0.0\" style=\"fill:rgb(98.8%,55.3%,38.4%);fill-opacity:1.0;opacity:1.0;stroke:rgb(16.1%,15.3%,14.1%);stroke-opacity:1.0;stroke-width:1.0\" width=\"23.076923076923038\" x=\"326.92307692307696\" y=\"150.0\"><title>Name: 38362_rex\n",
       "Group: 1\n",
       "Prop: 0.0</title></rect></g><g class=\"toyplot-Series\"><rect class=\"toyplot-Datum\" height=\"0.0\" style=\"fill:rgb(55.3%,62.7%,79.6%);fill-opacity:1.0;opacity:1.0;stroke:rgb(16.1%,15.3%,14.1%);stroke-opacity:1.0;stroke-width:1.0\" width=\"23.07692307692308\" x=\"50.0\" y=\"150.0\"><title>Name: 32082_przewalskii\n",
       "Group: 2\n",
       "Prop: 0.0</title></rect><rect class=\"toyplot-Datum\" height=\"0.0\" style=\"fill:rgb(55.3%,62.7%,79.6%);fill-opacity:1.0;opacity:1.0;stroke:rgb(16.1%,15.3%,14.1%);stroke-opacity:1.0;stroke-width:1.0\" width=\"23.07692307692308\" x=\"73.07692307692308\" y=\"150.0\"><title>Name: 33588_przewalskii\n",
       "Group: 2\n",
       "Prop: 0.0</title></rect><rect class=\"toyplot-Datum\" height=\"0.0\" style=\"fill:rgb(55.3%,62.7%,79.6%);fill-opacity:1.0;opacity:1.0;stroke:rgb(16.1%,15.3%,14.1%);stroke-opacity:1.0;stroke-width:1.0\" width=\"23.076923076923066\" x=\"96.15384615384616\" y=\"52.51974802519748\"><title>Name: 41478_cyathophylloides\n",
       "Group: 2\n",
       "Prop: 0.0</title></rect><rect class=\"toyplot-Datum\" height=\"0.0\" style=\"fill:rgb(55.3%,62.7%,79.6%);fill-opacity:1.0;opacity:1.0;stroke:rgb(16.1%,15.3%,14.1%);stroke-opacity:1.0;stroke-width:1.0\" width=\"23.076923076923094\" x=\"119.23076923076923\" y=\"52.539746025397456\"><title>Name: 41954_cyathophylloides\n",
       "Group: 2\n",
       "Prop: 0.0</title></rect><rect class=\"toyplot-Datum\" height=\"0.0\" style=\"fill:rgb(55.3%,62.7%,79.6%);fill-opacity:1.0;opacity:1.0;stroke:rgb(16.1%,15.3%,14.1%);stroke-opacity:1.0;stroke-width:1.0\" width=\"23.076923076923066\" x=\"142.30769230769232\" y=\"50.059994000599936\"><title>Name: 29154_superba\n",
       "Group: 2\n",
       "Prop: 0.0</title></rect><rect class=\"toyplot-Datum\" height=\"20.507949205079491\" style=\"fill:rgb(55.3%,62.7%,79.6%);fill-opacity:1.0;opacity:1.0;stroke:rgb(16.1%,15.3%,14.1%);stroke-opacity:1.0;stroke-width:1.0\" width=\"23.076923076923094\" x=\"165.38461538461539\" y=\"50.439956004399555\"><title>Name: 30686_cyathophylla\n",
       "Group: 2\n",
       "Prop: 0.2051</title></rect><rect class=\"toyplot-Datum\" height=\"30.406959304069602\" style=\"fill:rgb(55.3%,62.7%,79.6%);fill-opacity:1.0;opacity:1.0;stroke:rgb(16.1%,15.3%,14.1%);stroke-opacity:1.0;stroke-width:1.0\" width=\"23.076923076923038\" x=\"188.46153846153848\" y=\"112.59374062593741\"><title>Name: 33413_thamno\n",
       "Group: 2\n",
       "Prop: 0.3041</title></rect><rect class=\"toyplot-Datum\" height=\"15.438456154384582\" style=\"fill:rgb(55.3%,62.7%,79.6%);fill-opacity:1.0;opacity:1.0;stroke:rgb(16.1%,15.3%,14.1%);stroke-opacity:1.0;stroke-width:1.0\" width=\"23.076923076923094\" x=\"211.53846153846152\" y=\"118.66313368663133\"><title>Name: 30556_thamno\n",
       "Group: 2\n",
       "Prop: 0.1544</title></rect><rect class=\"toyplot-Datum\" height=\"20.567943205679413\" style=\"fill:rgb(55.3%,62.7%,79.6%);fill-opacity:1.0;opacity:1.0;stroke:rgb(16.1%,15.3%,14.1%);stroke-opacity:1.0;stroke-width:1.0\" width=\"23.076923076923066\" x=\"234.61538461538461\" y=\"117.47325267473254\"><title>Name: 35236_rex\n",
       "Group: 2\n",
       "Prop: 0.2057</title></rect><rect class=\"toyplot-Datum\" height=\"13.648635136486348\" style=\"fill:rgb(55.3%,62.7%,79.6%);fill-opacity:1.0;opacity:1.0;stroke:rgb(16.1%,15.3%,14.1%);stroke-opacity:1.0;stroke-width:1.0\" width=\"23.076923076923094\" x=\"257.69230769230768\" y=\"129.012098790121\"><title>Name: 40578_rex\n",
       "Group: 2\n",
       "Prop: 0.1365</title></rect><rect class=\"toyplot-Datum\" height=\"10.51894810518948\" style=\"fill:rgb(55.3%,62.7%,79.6%);fill-opacity:1.0;opacity:1.0;stroke:rgb(16.1%,15.3%,14.1%);stroke-opacity:1.0;stroke-width:1.0\" width=\"23.076923076923038\" x=\"280.76923076923077\" y=\"130.23197680231976\"><title>Name: 35855_rex\n",
       "Group: 2\n",
       "Prop: 0.1052</title></rect><rect class=\"toyplot-Datum\" height=\"0.0\" style=\"fill:rgb(55.3%,62.7%,79.6%);fill-opacity:1.0;opacity:1.0;stroke:rgb(16.1%,15.3%,14.1%);stroke-opacity:1.0;stroke-width:1.0\" width=\"23.076923076923151\" x=\"303.84615384615381\" y=\"150.0\"><title>Name: 39618_rex\n",
       "Group: 2\n",
       "Prop: 0.0</title></rect><rect class=\"toyplot-Datum\" height=\"0.0\" style=\"fill:rgb(55.3%,62.7%,79.6%);fill-opacity:1.0;opacity:1.0;stroke:rgb(16.1%,15.3%,14.1%);stroke-opacity:1.0;stroke-width:1.0\" width=\"23.076923076923038\" x=\"326.92307692307696\" y=\"150.0\"><title>Name: 38362_rex\n",
       "Group: 2\n",
       "Prop: 0.0</title></rect></g><g class=\"toyplot-Series\"><rect class=\"toyplot-Datum\" height=\"0.0\" style=\"fill:rgb(90.6%,54.1%,76.5%);fill-opacity:1.0;opacity:1.0;stroke:rgb(16.1%,15.3%,14.1%);stroke-opacity:1.0;stroke-width:1.0\" width=\"23.07692307692308\" x=\"50.0\" y=\"150.0\"><title>Name: 32082_przewalskii\n",
       "Group: 3\n",
       "Prop: 0.0</title></rect><rect class=\"toyplot-Datum\" height=\"0.0\" style=\"fill:rgb(90.6%,54.1%,76.5%);fill-opacity:1.0;opacity:1.0;stroke:rgb(16.1%,15.3%,14.1%);stroke-opacity:1.0;stroke-width:1.0\" width=\"23.07692307692308\" x=\"73.07692307692308\" y=\"150.0\"><title>Name: 33588_przewalskii\n",
       "Group: 3\n",
       "Prop: 0.0</title></rect><rect class=\"toyplot-Datum\" height=\"0.0\" style=\"fill:rgb(90.6%,54.1%,76.5%);fill-opacity:1.0;opacity:1.0;stroke:rgb(16.1%,15.3%,14.1%);stroke-opacity:1.0;stroke-width:1.0\" width=\"23.076923076923066\" x=\"96.15384615384616\" y=\"52.51974802519748\"><title>Name: 41478_cyathophylloides\n",
       "Group: 3\n",
       "Prop: 0.0</title></rect><rect class=\"toyplot-Datum\" height=\"0.0\" style=\"fill:rgb(90.6%,54.1%,76.5%);fill-opacity:1.0;opacity:1.0;stroke:rgb(16.1%,15.3%,14.1%);stroke-opacity:1.0;stroke-width:1.0\" width=\"23.076923076923094\" x=\"119.23076923076923\" y=\"52.539746025397456\"><title>Name: 41954_cyathophylloides\n",
       "Group: 3\n",
       "Prop: 0.0</title></rect><rect class=\"toyplot-Datum\" height=\"0.04999500049994765\" style=\"fill:rgb(90.6%,54.1%,76.5%);fill-opacity:1.0;opacity:1.0;stroke:rgb(16.1%,15.3%,14.1%);stroke-opacity:1.0;stroke-width:1.0\" width=\"23.076923076923066\" x=\"142.30769230769232\" y=\"50.009999000099988\"><title>Name: 29154_superba\n",
       "Group: 3\n",
       "Prop: 0.0005</title></rect><rect class=\"toyplot-Datum\" height=\"0.38996100389960731\" style=\"fill:rgb(90.6%,54.1%,76.5%);fill-opacity:1.0;opacity:1.0;stroke:rgb(16.1%,15.3%,14.1%);stroke-opacity:1.0;stroke-width:1.0\" width=\"23.076923076923094\" x=\"165.38461538461539\" y=\"50.049995000499948\"><title>Name: 30686_cyathophylla\n",
       "Group: 3\n",
       "Prop: 0.0039</title></rect><rect class=\"toyplot-Datum\" height=\"62.363763623637652\" style=\"fill:rgb(90.6%,54.1%,76.5%);fill-opacity:1.0;opacity:1.0;stroke:rgb(16.1%,15.3%,14.1%);stroke-opacity:1.0;stroke-width:1.0\" width=\"23.076923076923038\" x=\"188.46153846153848\" y=\"50.229977002299762\"><title>Name: 33413_thamno\n",
       "Group: 3\n",
       "Prop: 0.6237</title></rect><rect class=\"toyplot-Datum\" height=\"68.203179682031788\" style=\"fill:rgb(90.6%,54.1%,76.5%);fill-opacity:1.0;opacity:1.0;stroke:rgb(16.1%,15.3%,14.1%);stroke-opacity:1.0;stroke-width:1.0\" width=\"23.076923076923094\" x=\"211.53846153846152\" y=\"50.459954004599538\"><title>Name: 30556_thamno\n",
       "Group: 3\n",
       "Prop: 0.6821</title></rect><rect class=\"toyplot-Datum\" height=\"66.973302669733016\" style=\"fill:rgb(90.6%,54.1%,76.5%);fill-opacity:1.0;opacity:1.0;stroke:rgb(16.1%,15.3%,14.1%);stroke-opacity:1.0;stroke-width:1.0\" width=\"23.076923076923066\" x=\"234.61538461538461\" y=\"50.499950004999512\"><title>Name: 35236_rex\n",
       "Group: 3\n",
       "Prop: 0.6698</title></rect><rect class=\"toyplot-Datum\" height=\"79.012098790121001\" style=\"fill:rgb(90.6%,54.1%,76.5%);fill-opacity:1.0;opacity:1.0;stroke:rgb(16.1%,15.3%,14.1%);stroke-opacity:1.0;stroke-width:1.0\" width=\"23.076923076923094\" x=\"257.69230769230768\" y=\"50.0\"><title>Name: 40578_rex\n",
       "Group: 3\n",
       "Prop: 0.7902</title></rect><rect class=\"toyplot-Datum\" height=\"80.111988801119878\" style=\"fill:rgb(90.6%,54.1%,76.5%);fill-opacity:1.0;opacity:1.0;stroke:rgb(16.1%,15.3%,14.1%);stroke-opacity:1.0;stroke-width:1.0\" width=\"23.076923076923038\" x=\"280.76923076923077\" y=\"50.119988001199879\"><title>Name: 35855_rex\n",
       "Group: 3\n",
       "Prop: 0.8012</title></rect><rect class=\"toyplot-Datum\" height=\"99.990000999900019\" style=\"fill:rgb(90.6%,54.1%,76.5%);fill-opacity:1.0;opacity:1.0;stroke:rgb(16.1%,15.3%,14.1%);stroke-opacity:1.0;stroke-width:1.0\" width=\"23.076923076923151\" x=\"303.84615384615381\" y=\"50.009999000099988\"><title>Name: 39618_rex\n",
       "Group: 3\n",
       "Prop: 1.0</title></rect><rect class=\"toyplot-Datum\" height=\"99.990000999900019\" style=\"fill:rgb(90.6%,54.1%,76.5%);fill-opacity:1.0;opacity:1.0;stroke:rgb(16.1%,15.3%,14.1%);stroke-opacity:1.0;stroke-width:1.0\" width=\"23.076923076923038\" x=\"326.92307692307696\" y=\"50.009999000099988\"><title>Name: 38362_rex\n",
       "Group: 3\n",
       "Prop: 1.0</title></rect></g><g class=\"toyplot-Series\"><rect class=\"toyplot-Datum\" height=\"99.990000999900019\" style=\"fill:rgb(65.1%,84.7%,32.9%);fill-opacity:1.0;opacity:1.0;stroke:rgb(16.1%,15.3%,14.1%);stroke-opacity:1.0;stroke-width:1.0\" width=\"23.07692307692308\" x=\"50.0\" y=\"50.009999000099988\"><title>Name: 32082_przewalskii\n",
       "Group: 4\n",
       "Prop: 1.0</title></rect><rect class=\"toyplot-Datum\" height=\"99.990000999900019\" style=\"fill:rgb(65.1%,84.7%,32.9%);fill-opacity:1.0;opacity:1.0;stroke:rgb(16.1%,15.3%,14.1%);stroke-opacity:1.0;stroke-width:1.0\" width=\"23.07692307692308\" x=\"73.07692307692308\" y=\"50.009999000099988\"><title>Name: 33588_przewalskii\n",
       "Group: 4\n",
       "Prop: 1.0</title></rect><rect class=\"toyplot-Datum\" height=\"2.5097490250974914\" style=\"fill:rgb(65.1%,84.7%,32.9%);fill-opacity:1.0;opacity:1.0;stroke:rgb(16.1%,15.3%,14.1%);stroke-opacity:1.0;stroke-width:1.0\" width=\"23.076923076923066\" x=\"96.15384615384616\" y=\"50.009999000099988\"><title>Name: 41478_cyathophylloides\n",
       "Group: 4\n",
       "Prop: 0.0251</title></rect><rect class=\"toyplot-Datum\" height=\"2.5397460253974558\" style=\"fill:rgb(65.1%,84.7%,32.9%);fill-opacity:1.0;opacity:1.0;stroke:rgb(16.1%,15.3%,14.1%);stroke-opacity:1.0;stroke-width:1.0\" width=\"23.076923076923094\" x=\"119.23076923076923\" y=\"50.0\"><title>Name: 41954_cyathophylloides\n",
       "Group: 4\n",
       "Prop: 0.0254</title></rect><rect class=\"toyplot-Datum\" height=\"0.0\" style=\"fill:rgb(65.1%,84.7%,32.9%);fill-opacity:1.0;opacity:1.0;stroke:rgb(16.1%,15.3%,14.1%);stroke-opacity:1.0;stroke-width:1.0\" width=\"23.076923076923066\" x=\"142.30769230769232\" y=\"50.009999000099988\"><title>Name: 29154_superba\n",
       "Group: 4\n",
       "Prop: 0.0</title></rect><rect class=\"toyplot-Datum\" height=\"0.04999500049994765\" style=\"fill:rgb(65.1%,84.7%,32.9%);fill-opacity:1.0;opacity:1.0;stroke:rgb(16.1%,15.3%,14.1%);stroke-opacity:1.0;stroke-width:1.0\" width=\"23.076923076923094\" x=\"165.38461538461539\" y=\"50.0\"><title>Name: 30686_cyathophylla\n",
       "Group: 4\n",
       "Prop: 0.0005</title></rect><rect class=\"toyplot-Datum\" height=\"0.22997700229976203\" style=\"fill:rgb(65.1%,84.7%,32.9%);fill-opacity:1.0;opacity:1.0;stroke:rgb(16.1%,15.3%,14.1%);stroke-opacity:1.0;stroke-width:1.0\" width=\"23.076923076923038\" x=\"188.46153846153848\" y=\"50.0\"><title>Name: 33413_thamno\n",
       "Group: 4\n",
       "Prop: 0.0023</title></rect><rect class=\"toyplot-Datum\" height=\"0.43995600439956206\" style=\"fill:rgb(65.1%,84.7%,32.9%);fill-opacity:1.0;opacity:1.0;stroke:rgb(16.1%,15.3%,14.1%);stroke-opacity:1.0;stroke-width:1.0\" width=\"23.076923076923094\" x=\"211.53846153846152\" y=\"50.019998000199976\"><title>Name: 30556_thamno\n",
       "Group: 4\n",
       "Prop: 0.0044</title></rect><rect class=\"toyplot-Datum\" height=\"0.49995000499949072\" style=\"fill:rgb(65.1%,84.7%,32.9%);fill-opacity:1.0;opacity:1.0;stroke:rgb(16.1%,15.3%,14.1%);stroke-opacity:1.0;stroke-width:1.0\" width=\"23.076923076923066\" x=\"234.61538461538461\" y=\"50.000000000000021\"><title>Name: 35236_rex\n",
       "Group: 4\n",
       "Prop: 0.005</title></rect><rect class=\"toyplot-Datum\" height=\"0.0\" style=\"fill:rgb(65.1%,84.7%,32.9%);fill-opacity:1.0;opacity:1.0;stroke:rgb(16.1%,15.3%,14.1%);stroke-opacity:1.0;stroke-width:1.0\" width=\"23.076923076923094\" x=\"257.69230769230768\" y=\"50.0\"><title>Name: 40578_rex\n",
       "Group: 4\n",
       "Prop: 0.0</title></rect><rect class=\"toyplot-Datum\" height=\"0.10998900109989052\" style=\"fill:rgb(65.1%,84.7%,32.9%);fill-opacity:1.0;opacity:1.0;stroke:rgb(16.1%,15.3%,14.1%);stroke-opacity:1.0;stroke-width:1.0\" width=\"23.076923076923038\" x=\"280.76923076923077\" y=\"50.009999000099988\"><title>Name: 35855_rex\n",
       "Group: 4\n",
       "Prop: 0.0011</title></rect><rect class=\"toyplot-Datum\" height=\"0.0\" style=\"fill:rgb(65.1%,84.7%,32.9%);fill-opacity:1.0;opacity:1.0;stroke:rgb(16.1%,15.3%,14.1%);stroke-opacity:1.0;stroke-width:1.0\" width=\"23.076923076923151\" x=\"303.84615384615381\" y=\"50.009999000099988\"><title>Name: 39618_rex\n",
       "Group: 4\n",
       "Prop: 0.0</title></rect><rect class=\"toyplot-Datum\" height=\"0.0\" style=\"fill:rgb(65.1%,84.7%,32.9%);fill-opacity:1.0;opacity:1.0;stroke:rgb(16.1%,15.3%,14.1%);stroke-opacity:1.0;stroke-width:1.0\" width=\"23.076923076923038\" x=\"326.92307692307696\" y=\"50.009999000099988\"><title>Name: 38362_rex\n",
       "Group: 4\n",
       "Prop: 0.0</title></rect></g></g></g><g class=\"toyplot-coordinates-Axis\" id=\"tb48b9d27302b41eeb8ca43f99c0fcc35\" transform=\"translate(50.0,150.0)translate(0,10.0)\"><line style=\"\" x1=\"0\" x2=\"300.0\" y1=\"0\" y2=\"0\"></line><g><text style=\"dominant-baseline:hanging;font-size:10px;font-weight:normal;stroke:none;text-anchor:middle\" transform=\"translate(11.538461538461538,6)\"><tspan style=\"dominant-baseline:inherit\">0</tspan></text><text style=\"dominant-baseline:hanging;font-size:10px;font-weight:normal;stroke:none;text-anchor:middle\" transform=\"translate(103.84615384615384,6)\"><tspan style=\"dominant-baseline:inherit\">4</tspan></text><text style=\"dominant-baseline:hanging;font-size:10px;font-weight:normal;stroke:none;text-anchor:middle\" transform=\"translate(196.15384615384616,6)\"><tspan style=\"dominant-baseline:inherit\">8</tspan></text><text style=\"dominant-baseline:hanging;font-size:10px;font-weight:normal;stroke:none;text-anchor:middle\" transform=\"translate(288.46153846153845,6)\"><tspan style=\"dominant-baseline:inherit\">12</tspan></text></g><text style=\"dominant-baseline:hanging;font-size:12px;font-weight:bold;stroke:none;text-anchor:middle\" transform=\"translate(150.0,22)\"><tspan style=\"dominant-baseline:inherit\">K=5</tspan></text><g class=\"toyplot-coordinates-Axis-coordinates\" style=\"visibility:hidden\" transform=\"\"><line style=\"stroke:rgb(43.9%,50.2%,56.5%);stroke-opacity:1.0;stroke-width:1.0\" x1=\"0\" x2=\"0\" y1=\"-3.0\" y2=\"4.5\"></line><text style=\"alignment-baseline:alphabetic;fill:rgb(43.9%,50.2%,56.5%);fill-opacity:1.0;font-size:10px;font-weight:normal;stroke:none;text-anchor:middle\" x=\"0\" y=\"-6\"></text></g></g></g></svg><div class=\"toyplot-interactive\"><ul class=\"toyplot-mark-popup\" onmouseleave=\"this.style.visibility='hidden'\" style=\"background:rgba(0%,0%,0%,0.75);border:0;border-radius:6px;color:white;cursor:default;list-style:none;margin:0;padding:5px;position:fixed;visibility:hidden\">\n",
       "            <li class=\"toyplot-mark-popup-title\" style=\"color:lightgray;cursor:default;padding:5px;list-style:none;margin:0\"></li>\n",
       "            <li class=\"toyplot-mark-popup-save-csv\" onmouseout=\"this.style.color='white';this.style.background='steelblue'\" onmouseover=\"this.style.color='steelblue';this.style.background='white'\" style=\"border-radius:3px;padding:5px;list-style:none;margin:0\">\n",
       "                Save as .csv\n",
       "            </li>\n",
       "        </ul><script>\n",
       "        (function()\n",
       "        {\n",
       "          var data_tables = [{\"title\": \"Bar Data\", \"names\": [\"left\", \"right\", \"baseline\", \"magnitude0\", \"magnitude1\", \"magnitude2\", \"magnitude3\", \"magnitude4\"], \"id\": \"t53d18da72406419a81e75ca29d4a53f4\", \"columns\": [[-0.5, 0.5, 1.5, 2.5, 3.5, 4.5, 5.5, 6.5, 7.5, 8.5, 9.5, 10.5, 11.5], [0.5, 1.5, 2.5, 3.5, 4.5, 5.5, 6.5, 7.5, 8.5, 9.5, 10.5, 11.5, 12.5], [0.0, 0.0, 0.0, 0.0, 0.0, 0.0, 0.0, 0.0, 0.0, 0.0, 0.0, 0.0, 0.0], [0.0, 0.0, 0.0, 0.0001, 0.7468, 0.5126, 0.07, 0.159, 0.1137, 0.0729, 0.0895, 0.0, 0.0], [0.0, 0.0, 0.9749, 0.9746, 0.2527, 0.278, 0.0, 0.0, 0.0059, 0.0005, 0.003, 0.0, 0.0], [0.0, 0.0, 0.0, 0.0, 0.0, 0.2051, 0.3041, 0.1544, 0.2057, 0.1365, 0.1052, 0.0, 0.0], [0.0, 0.0, 0.0, 0.0, 0.0005, 0.0039, 0.6237, 0.6821, 0.6698, 0.7902, 0.8012, 1.0, 1.0], [1.0, 1.0, 0.0251, 0.0254, 0.0, 0.0005, 0.0023, 0.0044, 0.005, 0.0, 0.0011, 0.0, 0.0]], \"filename\": \"toyplot\"}];\n",
       "\n",
       "          function save_csv(data_table)\n",
       "          {\n",
       "            var uri = \"data:text/csv;charset=utf-8,\";\n",
       "            uri += data_table.names.join(\",\") + \"\\n\";\n",
       "            for(var i = 0; i != data_table.columns[0].length; ++i)\n",
       "            {\n",
       "              for(var j = 0; j != data_table.columns.length; ++j)\n",
       "              {\n",
       "                if(j)\n",
       "                  uri += \",\";\n",
       "                uri += data_table.columns[j][i];\n",
       "              }\n",
       "              uri += \"\\n\";\n",
       "            }\n",
       "            uri = encodeURI(uri);\n",
       "\n",
       "            var link = document.createElement(\"a\");\n",
       "            if(typeof link.download != \"undefined\")\n",
       "            {\n",
       "              link.href = uri;\n",
       "              link.style = \"visibility:hidden\";\n",
       "              link.download = data_table.filename + \".csv\";\n",
       "\n",
       "              document.body.appendChild(link);\n",
       "              link.click();\n",
       "              document.body.removeChild(link);\n",
       "            }\n",
       "            else\n",
       "            {\n",
       "              window.open(uri);\n",
       "            }\n",
       "          }\n",
       "\n",
       "          function open_popup(data_table)\n",
       "          {\n",
       "            return function(e)\n",
       "            {\n",
       "              var popup = document.querySelector(\"#tc259e47c098d42f890dfe5388b15465e .toyplot-mark-popup\");\n",
       "              popup.querySelector(\".toyplot-mark-popup-title\").innerHTML = data_table.title;\n",
       "              popup.querySelector(\".toyplot-mark-popup-save-csv\").onclick = function() { popup.style.visibility = \"hidden\"; save_csv(data_table); }\n",
       "              popup.style.left = (e.clientX - 50) + \"px\";\n",
       "              popup.style.top = (e.clientY - 20) + \"px\";\n",
       "              popup.style.visibility = \"visible\";\n",
       "              e.stopPropagation();\n",
       "              e.preventDefault();\n",
       "            }\n",
       "\n",
       "          }\n",
       "\n",
       "          for(var i = 0; i != data_tables.length; ++i)\n",
       "          {\n",
       "            var data_table = data_tables[i];\n",
       "            var event_target = document.querySelector(\"#\" + data_table.id);\n",
       "            event_target.oncontextmenu = open_popup(data_table);\n",
       "          }\n",
       "        })();\n",
       "        </script><script>\n",
       "        (function()\n",
       "        {\n",
       "            function _sign(x)\n",
       "            {\n",
       "                return x < 0 ? -1 : x > 0 ? 1 : 0;\n",
       "            }\n",
       "\n",
       "            function _mix(a, b, amount)\n",
       "            {\n",
       "                return ((1.0 - amount) * a) + (amount * b);\n",
       "            }\n",
       "\n",
       "            function _log(x, base)\n",
       "            {\n",
       "                return Math.log(Math.abs(x)) / Math.log(base);\n",
       "            }\n",
       "\n",
       "            function _in_range(a, x, b)\n",
       "            {\n",
       "                var left = Math.min(a, b);\n",
       "                var right = Math.max(a, b);\n",
       "                return left <= x && x <= right;\n",
       "            }\n",
       "\n",
       "            function inside(range, projection)\n",
       "            {\n",
       "                for(var i = 0; i != projection.length; ++i)\n",
       "                {\n",
       "                    var segment = projection[i];\n",
       "                    if(_in_range(segment.range.min, range, segment.range.max))\n",
       "                        return true;\n",
       "                }\n",
       "                return false;\n",
       "            }\n",
       "\n",
       "            function to_domain(range, projection)\n",
       "            {\n",
       "                for(var i = 0; i != projection.length; ++i)\n",
       "                {\n",
       "                    var segment = projection[i];\n",
       "                    if(_in_range(segment.range.bounds.min, range, segment.range.bounds.max))\n",
       "                    {\n",
       "                        if(segment.scale == \"linear\")\n",
       "                        {\n",
       "                            var amount = (range - segment.range.min) / (segment.range.max - segment.range.min);\n",
       "                            return _mix(segment.domain.min, segment.domain.max, amount)\n",
       "                        }\n",
       "                        else if(segment.scale[0] == \"log\")\n",
       "                        {\n",
       "                            var amount = (range - segment.range.min) / (segment.range.max - segment.range.min);\n",
       "                            var base = segment.scale[1];\n",
       "                            return _sign(segment.domain.min) * Math.pow(base, _mix(_log(segment.domain.min, base), _log(segment.domain.max, base), amount));\n",
       "                        }\n",
       "                    }\n",
       "                }\n",
       "            }\n",
       "\n",
       "            function display_coordinates(e)\n",
       "            {\n",
       "                var current = svg.createSVGPoint();\n",
       "                current.x = e.clientX;\n",
       "                current.y = e.clientY;\n",
       "\n",
       "                for(var axis_id in axes)\n",
       "                {\n",
       "                    var axis = document.querySelector(\"#\" + axis_id);\n",
       "                    var coordinates = axis.querySelector(\".toyplot-coordinates-Axis-coordinates\");\n",
       "                    if(coordinates)\n",
       "                    {\n",
       "                        var projection = axes[axis_id];\n",
       "                        var local = current.matrixTransform(axis.getScreenCTM().inverse());\n",
       "                        if(inside(local.x, projection))\n",
       "                        {\n",
       "                            var domain = to_domain(local.x, projection);\n",
       "                            coordinates.style.visibility = \"visible\";\n",
       "                            coordinates.setAttribute(\"transform\", \"translate(\" + local.x + \")\");\n",
       "                            var text = coordinates.querySelector(\"text\");\n",
       "                            text.textContent = domain.toFixed(2);\n",
       "                        }\n",
       "                        else\n",
       "                        {\n",
       "                            coordinates.style.visibility= \"hidden\";\n",
       "                        }\n",
       "                    }\n",
       "                }\n",
       "            }\n",
       "\n",
       "            var root_id = \"tc259e47c098d42f890dfe5388b15465e\";\n",
       "            var axes = {\"tb48b9d27302b41eeb8ca43f99c0fcc35\": [{\"domain\": {\"bounds\": {\"max\": Infinity, \"min\": -Infinity}, \"max\": 12.5, \"min\": -0.5}, \"range\": {\"bounds\": {\"max\": Infinity, \"min\": -Infinity}, \"max\": 300.0, \"min\": 0.0}, \"scale\": \"linear\"}]};\n",
       "\n",
       "            var svg = document.querySelector(\"#\" + root_id + \" svg\");\n",
       "            svg.addEventListener(\"click\", display_coordinates);\n",
       "        })();\n",
       "        </script></div></div>"
      ]
     },
     "metadata": {},
     "output_type": "display_data"
    }
   ],
   "source": [
    "for kpop in [5]:#tests:\n",
    "    ## parse outfile\n",
    "    table = tables[kpop]\n",
    "    table = table.ix[myorder]\n",
    "    \n",
    "    ## plot bars\n",
    "    toyplot.bars(table, \n",
    "                 title=hover(table),\n",
    "                 width=400, \n",
    "                 height=200, \n",
    "                 yshow=False,\n",
    "                 xlabel=\"K={}\".format(kpop),\n",
    "                 style={\"stroke\": toyplot.color.near_black}\n",
    "                );"
   ]
  },
  {
   "cell_type": "markdown",
   "metadata": {
    "deletable": true,
    "editable": true
   },
   "source": [
    "### Save a plot to file"
   ]
  },
  {
   "cell_type": "code",
   "execution_count": 35,
   "metadata": {
    "collapsed": false,
    "deletable": true,
    "editable": true
   },
   "outputs": [
    {
     "name": "stderr",
     "output_type": "stream",
     "text": [
      "mean scores across 20 replicates.\n"
     ]
    },
    {
     "data": {
      "image/png": "[encoded data removed]",
      "text/html": [
       "<div align=\"center\" class=\"toyplot\" id=\"t7fa36d94685e419fbe22d2a205eb627d\"><svg class=\"toyplot-canvas-Canvas\" height=\"250.0px\" id=\"t8456ad32ad0246f0a6fb230e6489fed3\" preserveAspectRatio=\"xMidYMid meet\" style=\"background-color:transparent;fill:rgb(16.1%,15.3%,14.1%);fill-opacity:1.0;font-family:Helvetica;font-size:12px;opacity:1.0;stroke:rgb(16.1%,15.3%,14.1%);stroke-opacity:1.0;stroke-width:1.0\" viewBox=\"0 0 600.0 250.0\" width=\"600.0px\" xmlns=\"http://www.w3.org/2000/svg\" xmlns:toyplot=\"http://www.sandia.gov/toyplot\" xmlns:xlink=\"http://www.w3.org/1999/xlink\"><g class=\"toyplot-coordinates-Cartesian\" id=\"t283d2a745c0c413ba630686796b3ddba\"><clipPath id=\"tbd3d75e76871435987232aa3e39d589e\"><rect height=\"170.0\" width=\"520.0\" x=\"40.0\" y=\"40.0\"></rect></clipPath><g clip-path=\"url(#tbd3d75e76871435987232aa3e39d589e)\"><g class=\"toyplot-mark-BarMagnitudes\" id=\"tadbca6ff26954761800973c98271403f\" style=\"stroke:rgb(16.1%,15.3%,14.1%);stroke-opacity:1.0;stroke-width:2\"><g class=\"toyplot-Series\"><rect class=\"toyplot-Datum\" height=\"0.0\" style=\"fill:rgb(40%,76.1%,64.7%);fill-opacity:1.0;opacity:1.0;stroke:rgb(16.1%,15.3%,14.1%);stroke-opacity:1.0;stroke-width:2\" width=\"38.461538461538453\" x=\"50.0\" y=\"200.0\"><title>Name: 32082_przewalskii\n",
       "Group: 0\n",
       "Prop: 0.0</title></rect><rect class=\"toyplot-Datum\" height=\"0.0\" style=\"fill:rgb(40%,76.1%,64.7%);fill-opacity:1.0;opacity:1.0;stroke:rgb(16.1%,15.3%,14.1%);stroke-opacity:1.0;stroke-width:2\" width=\"38.461538461538467\" x=\"88.461538461538453\" y=\"200.0\"><title>Name: 33588_przewalskii\n",
       "Group: 0\n",
       "Prop: 0.0</title></rect><rect class=\"toyplot-Datum\" height=\"0.0\" style=\"fill:rgb(40%,76.1%,64.7%);fill-opacity:1.0;opacity:1.0;stroke:rgb(16.1%,15.3%,14.1%);stroke-opacity:1.0;stroke-width:2\" width=\"38.461538461538467\" x=\"126.92307692307692\" y=\"200.0\"><title>Name: 41478_cyathophylloides\n",
       "Group: 0\n",
       "Prop: 0.0</title></rect><rect class=\"toyplot-Datum\" height=\"0.014998500149999927\" style=\"fill:rgb(40%,76.1%,64.7%);fill-opacity:1.0;opacity:1.0;stroke:rgb(16.1%,15.3%,14.1%);stroke-opacity:1.0;stroke-width:2\" width=\"38.461538461538453\" x=\"165.38461538461539\" y=\"199.98500149985\"><title>Name: 41954_cyathophylloides\n",
       "Group: 0\n",
       "Prop: 0.0001</title></rect><rect class=\"toyplot-Datum\" height=\"112.00879912008799\" style=\"fill:rgb(40%,76.1%,64.7%);fill-opacity:1.0;opacity:1.0;stroke:rgb(16.1%,15.3%,14.1%);stroke-opacity:1.0;stroke-width:2\" width=\"38.461538461538481\" x=\"203.84615384615384\" y=\"87.991200879912014\"><title>Name: 29154_superba\n",
       "Group: 0\n",
       "Prop: 0.7468</title></rect><rect class=\"toyplot-Datum\" height=\"76.882311768823115\" style=\"fill:rgb(40%,76.1%,64.7%);fill-opacity:1.0;opacity:1.0;stroke:rgb(16.1%,15.3%,14.1%);stroke-opacity:1.0;stroke-width:2\" width=\"38.461538461538453\" x=\"242.30769230769232\" y=\"123.11768823117688\"><title>Name: 30686_cyathophylla\n",
       "Group: 0\n",
       "Prop: 0.5126</title></rect><rect class=\"toyplot-Datum\" height=\"10.49895010498949\" style=\"fill:rgb(40%,76.1%,64.7%);fill-opacity:1.0;opacity:1.0;stroke:rgb(16.1%,15.3%,14.1%);stroke-opacity:1.0;stroke-width:2\" width=\"38.461538461538453\" x=\"280.76923076923077\" y=\"189.50104989501051\"><title>Name: 33413_thamno\n",
       "Group: 0\n",
       "Prop: 0.07</title></rect><rect class=\"toyplot-Datum\" height=\"23.847615238476152\" style=\"fill:rgb(40%,76.1%,64.7%);fill-opacity:1.0;opacity:1.0;stroke:rgb(16.1%,15.3%,14.1%);stroke-opacity:1.0;stroke-width:2\" width=\"38.461538461538453\" x=\"319.23076923076923\" y=\"176.15238476152385\"><title>Name: 30556_thamno\n",
       "Group: 0\n",
       "Prop: 0.159</title></rect><rect class=\"toyplot-Datum\" height=\"17.053294670532949\" style=\"fill:rgb(40%,76.1%,64.7%);fill-opacity:1.0;opacity:1.0;stroke:rgb(16.1%,15.3%,14.1%);stroke-opacity:1.0;stroke-width:2\" width=\"38.461538461538453\" x=\"357.69230769230768\" y=\"182.94670532946705\"><title>Name: 35236_rex\n",
       "Group: 0\n",
       "Prop: 0.1137</title></rect><rect class=\"toyplot-Datum\" height=\"10.93390660933909\" style=\"fill:rgb(40%,76.1%,64.7%);fill-opacity:1.0;opacity:1.0;stroke:rgb(16.1%,15.3%,14.1%);stroke-opacity:1.0;stroke-width:2\" width=\"38.46153846153851\" x=\"396.15384615384613\" y=\"189.06609339066091\"><title>Name: 40578_rex\n",
       "Group: 0\n",
       "Prop: 0.0729</title></rect><rect class=\"toyplot-Datum\" height=\"13.423657634236577\" style=\"fill:rgb(40%,76.1%,64.7%);fill-opacity:1.0;opacity:1.0;stroke:rgb(16.1%,15.3%,14.1%);stroke-opacity:1.0;stroke-width:2\" width=\"38.461538461538396\" x=\"434.61538461538464\" y=\"186.57634236576342\"><title>Name: 35855_rex\n",
       "Group: 0\n",
       "Prop: 0.0895</title></rect><rect class=\"toyplot-Datum\" height=\"0.0\" style=\"fill:rgb(40%,76.1%,64.7%);fill-opacity:1.0;opacity:1.0;stroke:rgb(16.1%,15.3%,14.1%);stroke-opacity:1.0;stroke-width:2\" width=\"38.461538461538566\" x=\"473.07692307692304\" y=\"200.0\"><title>Name: 39618_rex\n",
       "Group: 0\n",
       "Prop: 0.0</title></rect><rect class=\"toyplot-Datum\" height=\"0.0\" style=\"fill:rgb(40%,76.1%,64.7%);fill-opacity:1.0;opacity:1.0;stroke:rgb(16.1%,15.3%,14.1%);stroke-opacity:1.0;stroke-width:2\" width=\"38.461538461538396\" x=\"511.5384615384616\" y=\"200.0\"><title>Name: 38362_rex\n",
       "Group: 0\n",
       "Prop: 0.0</title></rect></g><g class=\"toyplot-Series\"><rect class=\"toyplot-Datum\" height=\"0.0\" style=\"fill:rgb(98.8%,55.3%,38.4%);fill-opacity:1.0;opacity:1.0;stroke:rgb(16.1%,15.3%,14.1%);stroke-opacity:1.0;stroke-width:2\" width=\"38.461538461538453\" x=\"50.0\" y=\"200.0\"><title>Name: 32082_przewalskii\n",
       "Group: 1\n",
       "Prop: 0.0</title></rect><rect class=\"toyplot-Datum\" height=\"0.0\" style=\"fill:rgb(98.8%,55.3%,38.4%);fill-opacity:1.0;opacity:1.0;stroke:rgb(16.1%,15.3%,14.1%);stroke-opacity:1.0;stroke-width:2\" width=\"38.461538461538467\" x=\"88.461538461538453\" y=\"200.0\"><title>Name: 33588_przewalskii\n",
       "Group: 1\n",
       "Prop: 0.0</title></rect><rect class=\"toyplot-Datum\" height=\"146.22037796220377\" style=\"fill:rgb(98.8%,55.3%,38.4%);fill-opacity:1.0;opacity:1.0;stroke:rgb(16.1%,15.3%,14.1%);stroke-opacity:1.0;stroke-width:2\" width=\"38.461538461538467\" x=\"126.92307692307692\" y=\"53.779622037796216\"><title>Name: 41478_cyathophylloides\n",
       "Group: 1\n",
       "Prop: 0.9749</title></rect><rect class=\"toyplot-Datum\" height=\"146.17538246175383\" style=\"fill:rgb(98.8%,55.3%,38.4%);fill-opacity:1.0;opacity:1.0;stroke:rgb(16.1%,15.3%,14.1%);stroke-opacity:1.0;stroke-width:2\" width=\"38.461538461538453\" x=\"165.38461538461539\" y=\"53.809619038096187\"><title>Name: 41954_cyathophylloides\n",
       "Group: 1\n",
       "Prop: 0.9746</title></rect><rect class=\"toyplot-Datum\" height=\"37.901209879012107\" style=\"fill:rgb(98.8%,55.3%,38.4%);fill-opacity:1.0;opacity:1.0;stroke:rgb(16.1%,15.3%,14.1%);stroke-opacity:1.0;stroke-width:2\" width=\"38.461538461538481\" x=\"203.84615384615384\" y=\"50.089991000899907\"><title>Name: 29154_superba\n",
       "Group: 1\n",
       "Prop: 0.2527</title></rect><rect class=\"toyplot-Datum\" height=\"41.695830416958302\" style=\"fill:rgb(98.8%,55.3%,38.4%);fill-opacity:1.0;opacity:1.0;stroke:rgb(16.1%,15.3%,14.1%);stroke-opacity:1.0;stroke-width:2\" width=\"38.461538461538453\" x=\"242.30769230769232\" y=\"81.421857814218583\"><title>Name: 30686_cyathophylla\n",
       "Group: 1\n",
       "Prop: 0.278</title></rect><rect class=\"toyplot-Datum\" height=\"0.0\" style=\"fill:rgb(98.8%,55.3%,38.4%);fill-opacity:1.0;opacity:1.0;stroke:rgb(16.1%,15.3%,14.1%);stroke-opacity:1.0;stroke-width:2\" width=\"38.461538461538453\" x=\"280.76923076923077\" y=\"189.50104989501051\"><title>Name: 33413_thamno\n",
       "Group: 1\n",
       "Prop: 0.0</title></rect><rect class=\"toyplot-Datum\" height=\"0.0\" style=\"fill:rgb(98.8%,55.3%,38.4%);fill-opacity:1.0;opacity:1.0;stroke:rgb(16.1%,15.3%,14.1%);stroke-opacity:1.0;stroke-width:2\" width=\"38.461538461538453\" x=\"319.23076923076923\" y=\"176.15238476152385\"><title>Name: 30556_thamno\n",
       "Group: 1\n",
       "Prop: 0.0</title></rect><rect class=\"toyplot-Datum\" height=\"0.88491150884911463\" style=\"fill:rgb(98.8%,55.3%,38.4%);fill-opacity:1.0;opacity:1.0;stroke:rgb(16.1%,15.3%,14.1%);stroke-opacity:1.0;stroke-width:2\" width=\"38.461538461538453\" x=\"357.69230769230768\" y=\"182.06179382061794\"><title>Name: 35236_rex\n",
       "Group: 1\n",
       "Prop: 0.0059</title></rect><rect class=\"toyplot-Datum\" height=\"0.07499250074991437\" style=\"fill:rgb(98.8%,55.3%,38.4%);fill-opacity:1.0;opacity:1.0;stroke:rgb(16.1%,15.3%,14.1%);stroke-opacity:1.0;stroke-width:2\" width=\"38.46153846153851\" x=\"396.15384615384613\" y=\"188.991100889911\"><title>Name: 40578_rex\n",
       "Group: 1\n",
       "Prop: 0.0005</title></rect><rect class=\"toyplot-Datum\" height=\"0.44995500449957149\" style=\"fill:rgb(98.8%,55.3%,38.4%);fill-opacity:1.0;opacity:1.0;stroke:rgb(16.1%,15.3%,14.1%);stroke-opacity:1.0;stroke-width:2\" width=\"38.461538461538396\" x=\"434.61538461538464\" y=\"186.12638736126385\"><title>Name: 35855_rex\n",
       "Group: 1\n",
       "Prop: 0.003</title></rect><rect class=\"toyplot-Datum\" height=\"0.0\" style=\"fill:rgb(98.8%,55.3%,38.4%);fill-opacity:1.0;opacity:1.0;stroke:rgb(16.1%,15.3%,14.1%);stroke-opacity:1.0;stroke-width:2\" width=\"38.461538461538566\" x=\"473.07692307692304\" y=\"200.0\"><title>Name: 39618_rex\n",
       "Group: 1\n",
       "Prop: 0.0</title></rect><rect class=\"toyplot-Datum\" height=\"0.0\" style=\"fill:rgb(98.8%,55.3%,38.4%);fill-opacity:1.0;opacity:1.0;stroke:rgb(16.1%,15.3%,14.1%);stroke-opacity:1.0;stroke-width:2\" width=\"38.461538461538396\" x=\"511.5384615384616\" y=\"200.0\"><title>Name: 38362_rex\n",
       "Group: 1\n",
       "Prop: 0.0</title></rect></g><g class=\"toyplot-Series\"><rect class=\"toyplot-Datum\" height=\"0.0\" style=\"fill:rgb(55.3%,62.7%,79.6%);fill-opacity:1.0;opacity:1.0;stroke:rgb(16.1%,15.3%,14.1%);stroke-opacity:1.0;stroke-width:2\" width=\"38.461538461538453\" x=\"50.0\" y=\"200.0\"><title>Name: 32082_przewalskii\n",
       "Group: 2\n",
       "Prop: 0.0</title></rect><rect class=\"toyplot-Datum\" height=\"0.0\" style=\"fill:rgb(55.3%,62.7%,79.6%);fill-opacity:1.0;opacity:1.0;stroke:rgb(16.1%,15.3%,14.1%);stroke-opacity:1.0;stroke-width:2\" width=\"38.461538461538467\" x=\"88.461538461538453\" y=\"200.0\"><title>Name: 33588_przewalskii\n",
       "Group: 2\n",
       "Prop: 0.0</title></rect><rect class=\"toyplot-Datum\" height=\"0.0\" style=\"fill:rgb(55.3%,62.7%,79.6%);fill-opacity:1.0;opacity:1.0;stroke:rgb(16.1%,15.3%,14.1%);stroke-opacity:1.0;stroke-width:2\" width=\"38.461538461538467\" x=\"126.92307692307692\" y=\"53.779622037796216\"><title>Name: 41478_cyathophylloides\n",
       "Group: 2\n",
       "Prop: 0.0</title></rect><rect class=\"toyplot-Datum\" height=\"0.0\" style=\"fill:rgb(55.3%,62.7%,79.6%);fill-opacity:1.0;opacity:1.0;stroke:rgb(16.1%,15.3%,14.1%);stroke-opacity:1.0;stroke-width:2\" width=\"38.461538461538453\" x=\"165.38461538461539\" y=\"53.809619038096187\"><title>Name: 41954_cyathophylloides\n",
       "Group: 2\n",
       "Prop: 0.0</title></rect><rect class=\"toyplot-Datum\" height=\"0.0\" style=\"fill:rgb(55.3%,62.7%,79.6%);fill-opacity:1.0;opacity:1.0;stroke:rgb(16.1%,15.3%,14.1%);stroke-opacity:1.0;stroke-width:2\" width=\"38.461538461538481\" x=\"203.84615384615384\" y=\"50.089991000899907\"><title>Name: 29154_superba\n",
       "Group: 2\n",
       "Prop: 0.0</title></rect><rect class=\"toyplot-Datum\" height=\"30.761923807619254\" style=\"fill:rgb(55.3%,62.7%,79.6%);fill-opacity:1.0;opacity:1.0;stroke:rgb(16.1%,15.3%,14.1%);stroke-opacity:1.0;stroke-width:2\" width=\"38.461538461538453\" x=\"242.30769230769232\" y=\"50.659934006599329\"><title>Name: 30686_cyathophylla\n",
       "Group: 2\n",
       "Prop: 0.2051</title></rect><rect class=\"toyplot-Datum\" height=\"45.610438956104389\" style=\"fill:rgb(55.3%,62.7%,79.6%);fill-opacity:1.0;opacity:1.0;stroke:rgb(16.1%,15.3%,14.1%);stroke-opacity:1.0;stroke-width:2\" width=\"38.461538461538453\" x=\"280.76923076923077\" y=\"143.89061093890612\"><title>Name: 33413_thamno\n",
       "Group: 2\n",
       "Prop: 0.3041</title></rect><rect class=\"toyplot-Datum\" height=\"23.157684231576866\" style=\"fill:rgb(55.3%,62.7%,79.6%);fill-opacity:1.0;opacity:1.0;stroke:rgb(16.1%,15.3%,14.1%);stroke-opacity:1.0;stroke-width:2\" width=\"38.461538461538453\" x=\"319.23076923076923\" y=\"152.99470052994698\"><title>Name: 30556_thamno\n",
       "Group: 2\n",
       "Prop: 0.1544</title></rect><rect class=\"toyplot-Datum\" height=\"30.851914808519126\" style=\"fill:rgb(55.3%,62.7%,79.6%);fill-opacity:1.0;opacity:1.0;stroke:rgb(16.1%,15.3%,14.1%);stroke-opacity:1.0;stroke-width:2\" width=\"38.461538461538453\" x=\"357.69230769230768\" y=\"151.20987901209881\"><title>Name: 35236_rex\n",
       "Group: 2\n",
       "Prop: 0.2057</title></rect><rect class=\"toyplot-Datum\" height=\"20.472952704729522\" style=\"fill:rgb(55.3%,62.7%,79.6%);fill-opacity:1.0;opacity:1.0;stroke:rgb(16.1%,15.3%,14.1%);stroke-opacity:1.0;stroke-width:2\" width=\"38.46153846153851\" x=\"396.15384615384613\" y=\"168.51814818518147\"><title>Name: 40578_rex\n",
       "Group: 2\n",
       "Prop: 0.1365</title></rect><rect class=\"toyplot-Datum\" height=\"15.778422157784206\" style=\"fill:rgb(55.3%,62.7%,79.6%);fill-opacity:1.0;opacity:1.0;stroke:rgb(16.1%,15.3%,14.1%);stroke-opacity:1.0;stroke-width:2\" width=\"38.461538461538396\" x=\"434.61538461538464\" y=\"170.34796520347965\"><title>Name: 35855_rex\n",
       "Group: 2\n",
       "Prop: 0.1052</title></rect><rect class=\"toyplot-Datum\" height=\"0.0\" style=\"fill:rgb(55.3%,62.7%,79.6%);fill-opacity:1.0;opacity:1.0;stroke:rgb(16.1%,15.3%,14.1%);stroke-opacity:1.0;stroke-width:2\" width=\"38.461538461538566\" x=\"473.07692307692304\" y=\"200.0\"><title>Name: 39618_rex\n",
       "Group: 2\n",
       "Prop: 0.0</title></rect><rect class=\"toyplot-Datum\" height=\"0.0\" style=\"fill:rgb(55.3%,62.7%,79.6%);fill-opacity:1.0;opacity:1.0;stroke:rgb(16.1%,15.3%,14.1%);stroke-opacity:1.0;stroke-width:2\" width=\"38.461538461538396\" x=\"511.5384615384616\" y=\"200.0\"><title>Name: 38362_rex\n",
       "Group: 2\n",
       "Prop: 0.0</title></rect></g><g class=\"toyplot-Series\"><rect class=\"toyplot-Datum\" height=\"0.0\" style=\"fill:rgb(90.6%,54.1%,76.5%);fill-opacity:1.0;opacity:1.0;stroke:rgb(16.1%,15.3%,14.1%);stroke-opacity:1.0;stroke-width:2\" width=\"38.461538461538453\" x=\"50.0\" y=\"200.0\"><title>Name: 32082_przewalskii\n",
       "Group: 3\n",
       "Prop: 0.0</title></rect><rect class=\"toyplot-Datum\" height=\"0.0\" style=\"fill:rgb(90.6%,54.1%,76.5%);fill-opacity:1.0;opacity:1.0;stroke:rgb(16.1%,15.3%,14.1%);stroke-opacity:1.0;stroke-width:2\" width=\"38.461538461538467\" x=\"88.461538461538453\" y=\"200.0\"><title>Name: 33588_przewalskii\n",
       "Group: 3\n",
       "Prop: 0.0</title></rect><rect class=\"toyplot-Datum\" height=\"0.0\" style=\"fill:rgb(90.6%,54.1%,76.5%);fill-opacity:1.0;opacity:1.0;stroke:rgb(16.1%,15.3%,14.1%);stroke-opacity:1.0;stroke-width:2\" width=\"38.461538461538467\" x=\"126.92307692307692\" y=\"53.779622037796216\"><title>Name: 41478_cyathophylloides\n",
       "Group: 3\n",
       "Prop: 0.0</title></rect><rect class=\"toyplot-Datum\" height=\"0.0\" style=\"fill:rgb(90.6%,54.1%,76.5%);fill-opacity:1.0;opacity:1.0;stroke:rgb(16.1%,15.3%,14.1%);stroke-opacity:1.0;stroke-width:2\" width=\"38.461538461538453\" x=\"165.38461538461539\" y=\"53.809619038096187\"><title>Name: 41954_cyathophylloides\n",
       "Group: 3\n",
       "Prop: 0.0</title></rect><rect class=\"toyplot-Datum\" height=\"0.074992500749921476\" style=\"fill:rgb(90.6%,54.1%,76.5%);fill-opacity:1.0;opacity:1.0;stroke:rgb(16.1%,15.3%,14.1%);stroke-opacity:1.0;stroke-width:2\" width=\"38.461538461538481\" x=\"203.84615384615384\" y=\"50.014998500149986\"><title>Name: 29154_superba\n",
       "Group: 3\n",
       "Prop: 0.0005</title></rect><rect class=\"toyplot-Datum\" height=\"0.58494150584940741\" style=\"fill:rgb(90.6%,54.1%,76.5%);fill-opacity:1.0;opacity:1.0;stroke:rgb(16.1%,15.3%,14.1%);stroke-opacity:1.0;stroke-width:2\" width=\"38.461538461538453\" x=\"242.30769230769232\" y=\"50.074992500749921\"><title>Name: 30686_cyathophylla\n",
       "Group: 3\n",
       "Prop: 0.0039</title></rect><rect class=\"toyplot-Datum\" height=\"93.545645435456478\" style=\"fill:rgb(90.6%,54.1%,76.5%);fill-opacity:1.0;opacity:1.0;stroke:rgb(16.1%,15.3%,14.1%);stroke-opacity:1.0;stroke-width:2\" width=\"38.461538461538453\" x=\"280.76923076923077\" y=\"50.344965503449643\"><title>Name: 33413_thamno\n",
       "Group: 3\n",
       "Prop: 0.6237</title></rect><rect class=\"toyplot-Datum\" height=\"102.30476952304767\" style=\"fill:rgb(90.6%,54.1%,76.5%);fill-opacity:1.0;opacity:1.0;stroke:rgb(16.1%,15.3%,14.1%);stroke-opacity:1.0;stroke-width:2\" width=\"38.461538461538453\" x=\"319.23076923076923\" y=\"50.689931006899307\"><title>Name: 30556_thamno\n",
       "Group: 3\n",
       "Prop: 0.6821</title></rect><rect class=\"toyplot-Datum\" height=\"100.45995400459954\" style=\"fill:rgb(90.6%,54.1%,76.5%);fill-opacity:1.0;opacity:1.0;stroke:rgb(16.1%,15.3%,14.1%);stroke-opacity:1.0;stroke-width:2\" width=\"38.461538461538453\" x=\"357.69230769230768\" y=\"50.749925007499272\"><title>Name: 35236_rex\n",
       "Group: 3\n",
       "Prop: 0.6698</title></rect><rect class=\"toyplot-Datum\" height=\"118.51814818518147\" style=\"fill:rgb(90.6%,54.1%,76.5%);fill-opacity:1.0;opacity:1.0;stroke:rgb(16.1%,15.3%,14.1%);stroke-opacity:1.0;stroke-width:2\" width=\"38.46153846153851\" x=\"396.15384615384613\" y=\"50.0\"><title>Name: 40578_rex\n",
       "Group: 3\n",
       "Prop: 0.7902</title></rect><rect class=\"toyplot-Datum\" height=\"120.16798320167982\" style=\"fill:rgb(90.6%,54.1%,76.5%);fill-opacity:1.0;opacity:1.0;stroke:rgb(16.1%,15.3%,14.1%);stroke-opacity:1.0;stroke-width:2\" width=\"38.461538461538396\" x=\"434.61538461538464\" y=\"50.179982001799821\"><title>Name: 35855_rex\n",
       "Group: 3\n",
       "Prop: 0.8012</title></rect><rect class=\"toyplot-Datum\" height=\"149.98500149985\" style=\"fill:rgb(90.6%,54.1%,76.5%);fill-opacity:1.0;opacity:1.0;stroke:rgb(16.1%,15.3%,14.1%);stroke-opacity:1.0;stroke-width:2\" width=\"38.461538461538566\" x=\"473.07692307692304\" y=\"50.014998500149986\"><title>Name: 39618_rex\n",
       "Group: 3\n",
       "Prop: 1.0</title></rect><rect class=\"toyplot-Datum\" height=\"149.98500149985\" style=\"fill:rgb(90.6%,54.1%,76.5%);fill-opacity:1.0;opacity:1.0;stroke:rgb(16.1%,15.3%,14.1%);stroke-opacity:1.0;stroke-width:2\" width=\"38.461538461538396\" x=\"511.5384615384616\" y=\"50.014998500149986\"><title>Name: 38362_rex\n",
       "Group: 3\n",
       "Prop: 1.0</title></rect></g><g class=\"toyplot-Series\"><rect class=\"toyplot-Datum\" height=\"149.98500149985\" style=\"fill:rgb(65.1%,84.7%,32.9%);fill-opacity:1.0;opacity:1.0;stroke:rgb(16.1%,15.3%,14.1%);stroke-opacity:1.0;stroke-width:2\" width=\"38.461538461538453\" x=\"50.0\" y=\"50.014998500149986\"><title>Name: 32082_przewalskii\n",
       "Group: 4\n",
       "Prop: 1.0</title></rect><rect class=\"toyplot-Datum\" height=\"149.98500149985\" style=\"fill:rgb(65.1%,84.7%,32.9%);fill-opacity:1.0;opacity:1.0;stroke:rgb(16.1%,15.3%,14.1%);stroke-opacity:1.0;stroke-width:2\" width=\"38.461538461538467\" x=\"88.461538461538453\" y=\"50.014998500149986\"><title>Name: 33588_przewalskii\n",
       "Group: 4\n",
       "Prop: 1.0</title></rect><rect class=\"toyplot-Datum\" height=\"3.76462353764623\" style=\"fill:rgb(65.1%,84.7%,32.9%);fill-opacity:1.0;opacity:1.0;stroke:rgb(16.1%,15.3%,14.1%);stroke-opacity:1.0;stroke-width:2\" width=\"38.461538461538467\" x=\"126.92307692307692\" y=\"50.014998500149986\"><title>Name: 41478_cyathophylloides\n",
       "Group: 4\n",
       "Prop: 0.0251</title></rect><rect class=\"toyplot-Datum\" height=\"3.8096190380961872\" style=\"fill:rgb(65.1%,84.7%,32.9%);fill-opacity:1.0;opacity:1.0;stroke:rgb(16.1%,15.3%,14.1%);stroke-opacity:1.0;stroke-width:2\" width=\"38.461538461538453\" x=\"165.38461538461539\" y=\"50.0\"><title>Name: 41954_cyathophylloides\n",
       "Group: 4\n",
       "Prop: 0.0254</title></rect><rect class=\"toyplot-Datum\" height=\"0.0\" style=\"fill:rgb(65.1%,84.7%,32.9%);fill-opacity:1.0;opacity:1.0;stroke:rgb(16.1%,15.3%,14.1%);stroke-opacity:1.0;stroke-width:2\" width=\"38.461538461538481\" x=\"203.84615384615384\" y=\"50.014998500149986\"><title>Name: 29154_superba\n",
       "Group: 4\n",
       "Prop: 0.0</title></rect><rect class=\"toyplot-Datum\" height=\"0.074992500749921476\" style=\"fill:rgb(65.1%,84.7%,32.9%);fill-opacity:1.0;opacity:1.0;stroke:rgb(16.1%,15.3%,14.1%);stroke-opacity:1.0;stroke-width:2\" width=\"38.461538461538453\" x=\"242.30769230769232\" y=\"50.0\"><title>Name: 30686_cyathophylla\n",
       "Group: 4\n",
       "Prop: 0.0005</title></rect><rect class=\"toyplot-Datum\" height=\"0.34496550344964305\" style=\"fill:rgb(65.1%,84.7%,32.9%);fill-opacity:1.0;opacity:1.0;stroke:rgb(16.1%,15.3%,14.1%);stroke-opacity:1.0;stroke-width:2\" width=\"38.461538461538453\" x=\"280.76923076923077\" y=\"50.0\"><title>Name: 33413_thamno\n",
       "Group: 4\n",
       "Prop: 0.0023</title></rect><rect class=\"toyplot-Datum\" height=\"0.65993400659933599\" style=\"fill:rgb(65.1%,84.7%,32.9%);fill-opacity:1.0;opacity:1.0;stroke:rgb(16.1%,15.3%,14.1%);stroke-opacity:1.0;stroke-width:2\" width=\"38.461538461538453\" x=\"319.23076923076923\" y=\"50.029997000299971\"><title>Name: 30556_thamno\n",
       "Group: 4\n",
       "Prop: 0.0044</title></rect><rect class=\"toyplot-Datum\" height=\"0.74992500749924318\" style=\"fill:rgb(65.1%,84.7%,32.9%);fill-opacity:1.0;opacity:1.0;stroke:rgb(16.1%,15.3%,14.1%);stroke-opacity:1.0;stroke-width:2\" width=\"38.461538461538453\" x=\"357.69230769230768\" y=\"50.000000000000028\"><title>Name: 35236_rex\n",
       "Group: 4\n",
       "Prop: 0.005</title></rect><rect class=\"toyplot-Datum\" height=\"0.0\" style=\"fill:rgb(65.1%,84.7%,32.9%);fill-opacity:1.0;opacity:1.0;stroke:rgb(16.1%,15.3%,14.1%);stroke-opacity:1.0;stroke-width:2\" width=\"38.46153846153851\" x=\"396.15384615384613\" y=\"50.0\"><title>Name: 40578_rex\n",
       "Group: 4\n",
       "Prop: 0.0</title></rect><rect class=\"toyplot-Datum\" height=\"0.16498350164983577\" style=\"fill:rgb(65.1%,84.7%,32.9%);fill-opacity:1.0;opacity:1.0;stroke:rgb(16.1%,15.3%,14.1%);stroke-opacity:1.0;stroke-width:2\" width=\"38.461538461538396\" x=\"434.61538461538464\" y=\"50.014998500149986\"><title>Name: 35855_rex\n",
       "Group: 4\n",
       "Prop: 0.0011</title></rect><rect class=\"toyplot-Datum\" height=\"0.0\" style=\"fill:rgb(65.1%,84.7%,32.9%);fill-opacity:1.0;opacity:1.0;stroke:rgb(16.1%,15.3%,14.1%);stroke-opacity:1.0;stroke-width:2\" width=\"38.461538461538566\" x=\"473.07692307692304\" y=\"50.014998500149986\"><title>Name: 39618_rex\n",
       "Group: 4\n",
       "Prop: 0.0</title></rect><rect class=\"toyplot-Datum\" height=\"0.0\" style=\"fill:rgb(65.1%,84.7%,32.9%);fill-opacity:1.0;opacity:1.0;stroke:rgb(16.1%,15.3%,14.1%);stroke-opacity:1.0;stroke-width:2\" width=\"38.461538461538396\" x=\"511.5384615384616\" y=\"50.014998500149986\"><title>Name: 38362_rex\n",
       "Group: 4\n",
       "Prop: 0.0</title></rect></g></g></g></g></svg><div class=\"toyplot-interactive\"><ul class=\"toyplot-mark-popup\" onmouseleave=\"this.style.visibility='hidden'\" style=\"background:rgba(0%,0%,0%,0.75);border:0;border-radius:6px;color:white;cursor:default;list-style:none;margin:0;padding:5px;position:fixed;visibility:hidden\">\n",
       "            <li class=\"toyplot-mark-popup-title\" style=\"color:lightgray;cursor:default;padding:5px;list-style:none;margin:0\"></li>\n",
       "            <li class=\"toyplot-mark-popup-save-csv\" onmouseout=\"this.style.color='white';this.style.background='steelblue'\" onmouseover=\"this.style.color='steelblue';this.style.background='white'\" style=\"border-radius:3px;padding:5px;list-style:none;margin:0\">\n",
       "                Save as .csv\n",
       "            </li>\n",
       "        </ul><script>\n",
       "        (function()\n",
       "        {\n",
       "          var data_tables = [{\"title\": \"Bar Data\", \"names\": [\"left\", \"right\", \"baseline\", \"magnitude0\", \"magnitude1\", \"magnitude2\", \"magnitude3\", \"magnitude4\"], \"id\": \"tadbca6ff26954761800973c98271403f\", \"columns\": [[-0.5, 0.5, 1.5, 2.5, 3.5, 4.5, 5.5, 6.5, 7.5, 8.5, 9.5, 10.5, 11.5], [0.5, 1.5, 2.5, 3.5, 4.5, 5.5, 6.5, 7.5, 8.5, 9.5, 10.5, 11.5, 12.5], [0.0, 0.0, 0.0, 0.0, 0.0, 0.0, 0.0, 0.0, 0.0, 0.0, 0.0, 0.0, 0.0], [0.0, 0.0, 0.0, 0.0001, 0.7468, 0.5126, 0.07, 0.159, 0.1137, 0.0729, 0.0895, 0.0, 0.0], [0.0, 0.0, 0.9749, 0.9746, 0.2527, 0.278, 0.0, 0.0, 0.0059, 0.0005, 0.003, 0.0, 0.0], [0.0, 0.0, 0.0, 0.0, 0.0, 0.2051, 0.3041, 0.1544, 0.2057, 0.1365, 0.1052, 0.0, 0.0], [0.0, 0.0, 0.0, 0.0, 0.0005, 0.0039, 0.6237, 0.6821, 0.6698, 0.7902, 0.8012, 1.0, 1.0], [1.0, 1.0, 0.0251, 0.0254, 0.0, 0.0005, 0.0023, 0.0044, 0.005, 0.0, 0.0011, 0.0, 0.0]], \"filename\": \"toyplot\"}];\n",
       "\n",
       "          function save_csv(data_table)\n",
       "          {\n",
       "            var uri = \"data:text/csv;charset=utf-8,\";\n",
       "            uri += data_table.names.join(\",\") + \"\\n\";\n",
       "            for(var i = 0; i != data_table.columns[0].length; ++i)\n",
       "            {\n",
       "              for(var j = 0; j != data_table.columns.length; ++j)\n",
       "              {\n",
       "                if(j)\n",
       "                  uri += \",\";\n",
       "                uri += data_table.columns[j][i];\n",
       "              }\n",
       "              uri += \"\\n\";\n",
       "            }\n",
       "            uri = encodeURI(uri);\n",
       "\n",
       "            var link = document.createElement(\"a\");\n",
       "            if(typeof link.download != \"undefined\")\n",
       "            {\n",
       "              link.href = uri;\n",
       "              link.style = \"visibility:hidden\";\n",
       "              link.download = data_table.filename + \".csv\";\n",
       "\n",
       "              document.body.appendChild(link);\n",
       "              link.click();\n",
       "              document.body.removeChild(link);\n",
       "            }\n",
       "            else\n",
       "            {\n",
       "              window.open(uri);\n",
       "            }\n",
       "          }\n",
       "\n",
       "          function open_popup(data_table)\n",
       "          {\n",
       "            return function(e)\n",
       "            {\n",
       "              var popup = document.querySelector(\"#t7fa36d94685e419fbe22d2a205eb627d .toyplot-mark-popup\");\n",
       "              popup.querySelector(\".toyplot-mark-popup-title\").innerHTML = data_table.title;\n",
       "              popup.querySelector(\".toyplot-mark-popup-save-csv\").onclick = function() { popup.style.visibility = \"hidden\"; save_csv(data_table); }\n",
       "              popup.style.left = (e.clientX - 50) + \"px\";\n",
       "              popup.style.top = (e.clientY - 20) + \"px\";\n",
       "              popup.style.visibility = \"visible\";\n",
       "              e.stopPropagation();\n",
       "              e.preventDefault();\n",
       "            }\n",
       "\n",
       "          }\n",
       "\n",
       "          for(var i = 0; i != data_tables.length; ++i)\n",
       "          {\n",
       "            var data_table = data_tables[i];\n",
       "            var event_target = document.querySelector(\"#\" + data_table.id);\n",
       "            event_target.oncontextmenu = open_popup(data_table);\n",
       "          }\n",
       "        })();\n",
       "        </script></div></div>"
      ],
      "text/plain": [
       "<toyplot.canvas.Canvas at 0x7f42c9c61ed0>"
      ]
     },
     "execution_count": 35,
     "metadata": {},
     "output_type": "execute_result"
    }
   ],
   "source": [
    "## save plots for your favorite value of K\n",
    "table = struct.get_clumpp_table(kpop=5)\n",
    "table = table.ix[myorder]\n",
    "\n",
    "## further styling of plot with css \n",
    "style = {\"stroke\":toyplot.color.near_black, \n",
    "         \"stroke-width\": 2}\n",
    "\n",
    "## build plot\n",
    "canvas = toyplot.Canvas(width=600, height=250)\n",
    "axes = canvas.cartesian()\n",
    "axes.bars(table, title=hover(table), style=style)\n",
    "axes.show = False\n",
    "\n",
    "## options: uncomment to save plots. Only html retains hover.\n",
    "import toyplot.svg\n",
    "import toyplot.pdf\n",
    "import toyplot.html\n",
    "toyplot.svg.render(canvas, \"struct.svg\")\n",
    "toyplot.pdf.render(canvas, \"struct.pdf\")\n",
    "toyplot.html.render(canvas, \"struct.html\")\n",
    "\n",
    "## show in notebook\n",
    "canvas"
   ]
  },
  {
   "cell_type": "markdown",
   "metadata": {
    "deletable": true,
    "editable": true
   },
   "source": [
    "### Calculating the best K \n",
    "I like using the site http://taylor0.biology.ucla.edu/structureHarvester/. It's great. Super easy. Zip up all the files in our structure directory, submit them to the site, and you're done. In case you're wondering, for this data set, StructureHarvester likes K=4 best. "
   ]
  },
  {
   "cell_type": "code",
   "execution_count": 165,
   "metadata": {
    "collapsed": false,
    "deletable": true,
    "editable": true
   },
   "outputs": [
    {
     "name": "stdout",
     "output_type": "stream",
     "text": [
      "updating: home/deren/Documents/ipyrad/tests/analysis_structure/K-3-rep-0_f (deflated 82%)\n",
      "updating: home/deren/Documents/ipyrad/tests/analysis_structure/K-3-rep-1_f (deflated 82%)\n",
      "updating: home/deren/Documents/ipyrad/tests/analysis_structure/K-3-rep-2_f (deflated 81%)\n",
      "updating: home/deren/Documents/ipyrad/tests/analysis_structure/K-3-rep-3_f (deflated 82%)\n",
      "updating: home/deren/Documents/ipyrad/tests/analysis_structure/K-3-rep-4_f (deflated 82%)\n",
      "updating: home/deren/Documents/ipyrad/tests/analysis_structure/K-4-rep-0_f (deflated 80%)\n",
      "updating: home/deren/Documents/ipyrad/tests/analysis_structure/K-4-rep-1_f (deflated 80%)\n",
      "updating: home/deren/Documents/ipyrad/tests/analysis_structure/K-4-rep-2_f (deflated 80%)\n",
      "updating: home/deren/Documents/ipyrad/tests/analysis_structure/K-4-rep-3_f (deflated 81%)\n",
      "updating: home/deren/Documents/ipyrad/tests/analysis_structure/K-4-rep-4_f (deflated 80%)\n",
      "  adding: home/deren/Documents/ipyrad/tests/analysis_structure/K-5-rep-0_f (deflated 80%)\n",
      "  adding: home/deren/Documents/ipyrad/tests/analysis_structure/K-5-rep-1_f (deflated 80%)\n",
      "  adding: home/deren/Documents/ipyrad/tests/analysis_structure/K-5-rep-2_f (deflated 79%)\n",
      "  adding: home/deren/Documents/ipyrad/tests/analysis_structure/K-5-rep-3_f (deflated 80%)\n",
      "  adding: home/deren/Documents/ipyrad/tests/analysis_structure/K-5-rep-4_f (deflated 80%)\n",
      "  adding: home/deren/Documents/ipyrad/tests/analysis_structure/K-6-rep-0_f (deflated 79%)\n",
      "  adding: home/deren/Documents/ipyrad/tests/analysis_structure/K-6-rep-1_f (deflated 79%)\n",
      "  adding: home/deren/Documents/ipyrad/tests/analysis_structure/K-6-rep-2_f (deflated 79%)\n",
      "  adding: home/deren/Documents/ipyrad/tests/analysis_structure/K-6-rep-3_f (deflated 79%)\n",
      "  adding: home/deren/Documents/ipyrad/tests/analysis_structure/K-6-rep-4_f (deflated 79%)\n"
     ]
    }
   ],
   "source": [
    "%%bash -s \"$STRUCTDIR\"\n",
    "\n",
    "## creates zip dir of all files ending with _f\n",
    "zip $1/structure-files.zip $1/*_f"
   ]
  },
  {
   "cell_type": "markdown",
   "metadata": {
    "deletable": true,
    "editable": true
   },
   "source": [
    "### Copying this notebook to your computer/cluster\n",
    "You can easily copy this notebook and then just replace my file names with your filenames to run your analysis. Just click on the [Download Notebook] link at the top of this page. Then run `jupyter-notebook` from a terminal and open this notebook from the dashboard."
   ]
  }
 ],
 "metadata": {
  "kernelspec": {
   "display_name": "Python 2",
   "language": "python",
   "name": "python2"
  },
  "language_info": {
   "codemirror_mode": {
    "name": "ipython",
    "version": 2
   },
   "file_extension": ".py",
   "mimetype": "text/x-python",
   "name": "python",
   "nbconvert_exporter": "python",
   "pygments_lexer": "ipython2",
   "version": "2.7.13"
  }
 },
 "nbformat": 4,
 "nbformat_minor": 0
}
