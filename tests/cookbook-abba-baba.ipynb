{
 "cells": [
  {
   "cell_type": "markdown",
   "metadata": {
    "collapsed": true
   },
   "source": [
    "### Cookbook: abba-baba introgression stats\n",
    "\n",
    "The *ipyrad.analysis* Python module includes functions to calculate abba-baba admixture statistics, as well as several variants of these measures, and to perform signifance tests. The code in this notebook is all Python, which you can copy/paste into an IPython terminal to execute, or, preferably, run in a Jupyter notebook like this one. See the other analysis cookbooks for [instructions](http://ipyrad.readthedocs.io/analysis.html) on using Jupyter notebooks."
   ]
  },
  {
   "cell_type": "code",
   "execution_count": 734,
   "metadata": {
    "collapsed": false
   },
   "outputs": [],
   "source": [
    "## start by loading several Python librarires\n",
    "import ipyrad as ip\n",
    "from ipyrad.assemble.write_outfiles import reftrick, GETCONS\n",
    "import ipyrad.analysis as ipa\n",
    "import numpy as np\n",
    "import pandas as pd\n",
    "import numba"
   ]
  },
  {
   "cell_type": "code",
   "execution_count": 735,
   "metadata": {
    "collapsed": false
   },
   "outputs": [],
   "source": [
    "import ipyparallel as ipp\n",
    "ipyclient = ipp.Client()\n",
    "lbview = ipyclient.load_balanced_view()"
   ]
  },
  {
   "cell_type": "markdown",
   "metadata": {
    "collapsed": true
   },
   "source": [
    "### Load finished sim assembly"
   ]
  },
  {
   "cell_type": "code",
   "execution_count": 736,
   "metadata": {
    "collapsed": false
   },
   "outputs": [
    {
     "name": "stdout",
     "output_type": "stream",
     "text": [
      "  loading Assembly: cli\n",
      "  from saved path: ~/Documents/ipyrad/tests/cli/cli.json\n"
     ]
    }
   ],
   "source": [
    "data = ip.load_json(\"cli/cli.json\")"
   ]
  },
  {
   "cell_type": "code",
   "execution_count": 737,
   "metadata": {
    "collapsed": false
   },
   "outputs": [
    {
     "data": {
      "text/plain": [
       "geno : /home/deren/Documents/ipyrad/tests/cli/cli_outfiles/cli.geno\n",
       "loci : /home/deren/Documents/ipyrad/tests/cli/cli_outfiles/cli.loci\n",
       "nexus : /home/deren/Documents/ipyrad/tests/cli/cli_outfiles/cli.nex\n",
       "phy : /home/deren/Documents/ipyrad/tests/cli/cli_outfiles/cli.phy\n",
       "snpsmap : /home/deren/Documents/ipyrad/tests/cli/cli_outfiles/cli.snps.map\n",
       "snpsphy : /home/deren/Documents/ipyrad/tests/cli/cli_outfiles/cli.snps.phy\n",
       "str : /home/deren/Documents/ipyrad/tests/cli/cli_outfiles/cli.str\n",
       "ugeno : /home/deren/Documents/ipyrad/tests/cli/cli_outfiles/cli.u.geno\n",
       "usnpsphy : /home/deren/Documents/ipyrad/tests/cli/cli_outfiles/cli.u.snps.phy\n",
       "ustr : /home/deren/Documents/ipyrad/tests/cli/cli_outfiles/cli.ustr\n",
       "vcf : /home/deren/Documents/ipyrad/tests/cli/cli_outfiles/cli.vcf\n"
      ]
     },
     "execution_count": 737,
     "metadata": {},
     "output_type": "execute_result"
    }
   ],
   "source": [
    "data.outfiles"
   ]
  },
  {
   "cell_type": "markdown",
   "metadata": {},
   "source": [
    "### input arguments to test"
   ]
  },
  {
   "cell_type": "code",
   "execution_count": 738,
   "metadata": {
    "collapsed": true
   },
   "outputs": [],
   "source": [
    "## a dictionary with [required] key names \n",
    "## optional: additional 'p4' key for 5-taxon tests.\n",
    "test = {\n",
    "    'p1': [\"1A_0\", \"1B_0\", \"1C_0\"],\n",
    "    'p2': [\"1D_0\"],\n",
    "    'p3': [\"2E_0\", \"2F_0\"],\n",
    "    'out': [\"3L_0\", \"3J_0\", \"3K_0\"], \n",
    "}\n",
    "\n",
    "## optional: dict for min samples per taxon (default=1 per tax)\n",
    "## used to filter loci for inclusion in data set\n",
    "mindict = {\n",
    "    'p1': 1,\n",
    "    'p2': 1,\n",
    "    'p3': 1, \n",
    "    'out': 1,\n",
    "}\n",
    "\n",
    "## loci input file\n",
    "handle = data.outfiles.loci"
   ]
  },
  {
   "cell_type": "markdown",
   "metadata": {},
   "source": [
    "### loci parsing function\n",
    "This takes a .loci file and converts it to an array of the format: (4 or 5, n-variable-loci, maxsnps)\n"
   ]
  },
  {
   "cell_type": "code",
   "execution_count": 6,
   "metadata": {
    "collapsed": true
   },
   "outputs": [],
   "source": [
    "## not sure why, but I can't get this to JIT\n",
    "\n",
    "def reffreq(refseq, iseq, consdict):\n",
    "    ## empty arrays\n",
    "    freq = np.zeros((1, iseq.shape[1]), dtype=np.float64)\n",
    "    amseq = np.zeros((iseq.shape[0]*2, iseq.shape[1]), dtype=np.uint8)\n",
    "    \n",
    "    ## fill in both copies\n",
    "    for seq in xrange(iseq.shape[0]):\n",
    "        for col in xrange(iseq.shape[1]):\n",
    "            ## expand colums with ambigs and remove N-\n",
    "            base = iseq[seq][col]\n",
    "            who = np.where(consdict[:, 0] == base)[0]\n",
    "            \n",
    "            ## resolve heteros or enter into both copies\n",
    "            if np.any(who):\n",
    "                who = who[0]\n",
    "                amseq[(seq*2)][col] = consdict[who][0]\n",
    "                amseq[(seq*2)+1][col] = consdict[who][1]\n",
    "            else:\n",
    "                amseq[(seq*2)][col] = base\n",
    "                amseq[(seq*2)+1][col] = base\n",
    "    \n",
    "    ## get as frequencies\n",
    "    amseq = (refseq == amseq).astype(np.float64)\n",
    "    for i in xrange(amseq.shape[0]):\n",
    "        freq += amseq[i]\n",
    "    return freq / np.float64(amseq.shape[0])\n"
   ]
  },
  {
   "cell_type": "code",
   "execution_count": 7,
   "metadata": {
    "collapsed": false
   },
   "outputs": [],
   "source": [
    "def loci_to_arr(locifile, test, mindict=None):\n",
    "\n",
    "    ## read in the input file\n",
    "    with open(locifile, 'r') as infile:\n",
    "        loci = infile.read().strip().split(\"|\\n\")\n",
    "        nloci = len(loci)\n",
    "\n",
    "    ## get max loc length\n",
    "    maxlen = 0\n",
    "    for iloc in xrange(nloci):\n",
    "        lines = loci[iloc].split(\"\\n\")[:-1]\n",
    "        _maxl = len(lines[0]) \n",
    "        maxlen = max(maxlen, _maxl)\n",
    "\n",
    "    ## make the array (4 or 5)\n",
    "    arr = np.zeros((nloci, len(test), maxlen), dtype=np.float64)\n",
    "    \n",
    "    ## if not mindict, make one that requires 1 in each taxon\n",
    "    if not mindict:\n",
    "        mindict = {i:1 for i in test}\n",
    "\n",
    "    ## grab seqs just for the good guys\n",
    "    for loc in xrange(nloci):    \n",
    "\n",
    "        ## parse the locus\n",
    "        lines = loci[loc].split(\"\\n\")[:-1]\n",
    "        names = [i.split()[0] for i in lines]\n",
    "        seqs = np.array([list(i.split()[1]) for i in lines])\n",
    "\n",
    "        ## check that names cover the test\n",
    "        covs = [sum([j in names for j in test[tax]]) >= mindict[tax] for tax in test]\n",
    "        if all(covs):\n",
    "        \n",
    "            ## get that refseq \n",
    "            ref = np.where([i in test['out'] for i in names])[0]\n",
    "            refseq = seqs[ref].view(np.uint8)\n",
    "            ancestral = np.array([reftrick(refseq, GETCONS)[:, 0]])\n",
    "\n",
    "            ## and fill it in\n",
    "            iseq = reffreq(ancestral, refseq, GETCONS)\n",
    "            arr[loc, -1, :iseq.shape[1]] = iseq \n",
    "\n",
    "            ## fill each other tax freq in test\n",
    "            keys = sorted([i for i in test.keys() if i[0] == 'p'])\n",
    "            for tidx, key in enumerate(keys):\n",
    "\n",
    "                ## get idx of names in test tax\n",
    "                nidx = np.where([i in test[key] for i in names])[0]\n",
    "                sidx = seqs[nidx].view(np.uint8)\n",
    "                ## get freq of sidx\n",
    "                iseq = reffreq(ancestral, sidx, GETCONS)\n",
    "                ## fill it in \n",
    "                arr[loc, tidx, :iseq.shape[1]] = iseq\n",
    "\n",
    "    ## size-down array to the number of loci that have taxa for the test\n",
    "    return arr\n",
    "\n"
   ]
  },
  {
   "cell_type": "code",
   "execution_count": 8,
   "metadata": {
    "collapsed": false
   },
   "outputs": [],
   "source": [
    "## get locus array\n",
    "arr = loci_to_arr(handle, test)"
   ]
  },
  {
   "cell_type": "markdown",
   "metadata": {},
   "source": [
    "### Function to convert ms to arr\n",
    "This is useful for testing results"
   ]
  },
  {
   "cell_type": "code",
   "execution_count": 1039,
   "metadata": {
    "collapsed": false
   },
   "outputs": [
    {
     "name": "stdout",
     "output_type": "stream",
     "text": [
      "{0: 8, 1: 7, 2: 5, 3: 6, 4: 5, 5: 6, 6: 7, 7: 8, 8: -1}\n"
     ]
    }
   ],
   "source": [
    "import msprime as ms\n",
    "\n",
    "tree_sequence = ms.simulate(sample_size=5, Ne=1000)\n",
    "tree = next(tree_sequence.trees())\n",
    "print(tree)"
   ]
  },
  {
   "cell_type": "code",
   "execution_count": 1040,
   "metadata": {
    "collapsed": true
   },
   "outputs": [],
   "source": [
    "def migration_example():\n",
    "    \n",
    "    # M is overall symmetric migration rate, d is number of demes\n",
    "    M = 0.2\n",
    "    d = 3\n",
    "\n",
    "    # Rescale m into per-generation values for msprime.\n",
    "    m = M / (4 * (d - 1))\n",
    "    \n",
    "    # Allocate the initial sample. Because we are interested in the\n",
    "    # between deme coalescence times, we choose one sample each\n",
    "    # from the first two demes.\n",
    "    population_configurations = [\n",
    "        ms.PopulationConfiguration(sample_size=1),\n",
    "        ms.PopulationConfiguration(sample_size=1),\n",
    "        ms.PopulationConfiguration(sample_size=0)]\n",
    "    \n",
    "    # Now we set up the migration matrix. Since this is a symmetric\n",
    "    # island model, we have the same rate of migration between all\n",
    "    # pairs of demes. Diagonal elements must be zero.\n",
    "    migration_matrix = [\n",
    "        [0, m, m],\n",
    "        [m, 0, m],\n",
    "        [m, m, 0]]\n",
    "    \n",
    "    # We pass these values to the simulate function, and ask it\n",
    "    # to run the required number of replicates.\n",
    "    num_replicates = int(1e6)\n",
    "    replicates = ms.simulate(\n",
    "        population_configurations=population_configurations,\n",
    "        migration_matrix=migration_matrix,\n",
    "        num_replicates=num_replicates)\n",
    "    \n",
    "    # And then iterate over these replicates\n",
    "    T = np.zeros(num_replicates)\n",
    "    for i, trees in enumerate(replicates):\n",
    "        tree = next(trees.trees())\n",
    "        \n",
    "        # Convert the TMRCA to coalecent units.\n",
    "        T[i] = tree.get_time(tree.get_root()) / 4\n",
    "        \n",
    "    # Calculate analytical expectation\n",
    "    analytical = d / 2. + (d - 1) / (2. * M)\n",
    "    print(\"Observed  =\", np.mean(T))\n",
    "    print(\"Predicted =\", analytical)\n"
   ]
  },
  {
   "cell_type": "code",
   "execution_count": 1041,
   "metadata": {
    "collapsed": false
   },
   "outputs": [
    {
     "name": "stdout",
     "output_type": "stream",
     "text": [
      "('Observed  =', 6.5076328730062123)\n",
      "('Predicted =', 6.5)\n"
     ]
    }
   ],
   "source": [
    "migration_example()"
   ]
  },
  {
   "cell_type": "code",
   "execution_count": 1208,
   "metadata": {
    "collapsed": false
   },
   "outputs": [
    {
     "data": {
      "text/plain": [
       "array([        0.,   2000000.,   4000000.,   6000000.,   8000000.,\n",
       "        10000000.])"
      ]
     },
     "execution_count": 1208,
     "metadata": {},
     "output_type": "execute_result"
    }
   ],
   "source": [
    "gen = 20\n",
    "Taus = np.array([0, 1, 2, 3, 4, 5]) * 1e5 * gen\n",
    "Taus"
   ]
  },
  {
   "cell_type": "code",
   "execution_count": 1274,
   "metadata": {
    "collapsed": false
   },
   "outputs": [],
   "source": [
    "\n",
    "def demography(nreps):\n",
    "    \n",
    "    # Set the ML values of various parameters\n",
    "    Ns = 500000\n",
    "    gen = 20\n",
    "    Taus = np.array([0, 1, 2, 3, 4, 5]) * 1e4 * gen\n",
    "      \n",
    "    # Migration rates C -> B and from IJ -> EF\n",
    "    m_C_B = 2e-6\n",
    "    m_IJ_H = 2e-6\n",
    "    \n",
    "    # Population IDs correspond to their indexes in pop_config.\n",
    "    pop_config = [\n",
    "        ms.PopulationConfiguration(sample_size=2, initial_size=Ns)\n",
    "        for i in range(12)]\n",
    "    \n",
    "    ## migration matrix all zeros time=0\n",
    "    migmat = np.zeros((12, 12)).tolist()\n",
    "    \n",
    "    ## set up demography\n",
    "    demog = [\n",
    "        ## initial migration from C -> B\n",
    "        ms.MigrationRateChange(time=0, rate=m_C_B, matrix_index=(2, 1)),\n",
    "        ms.MigrationRateChange(time=Taus[1]/2., rate=0),#, matrix_index=(2, 1)),\n",
    "\n",
    "        # merge events at time 1\n",
    "        ms.MassMigration(time=Taus[1], source=1, destination=0, proportion=1.0), \n",
    "        ms.MassMigration(time=Taus[1], source=5, destination=4, proportion=1.0), \n",
    "        ms.MassMigration(time=Taus[1], source=9, destination=8, proportion=1.0), \n",
    "        \n",
    "        ## migration from IJ -> H\n",
    "        ms.MigrationRateChange(time=Taus[1], rate=m_IJ_H, matrix_index=(8, 7)), \n",
    "\n",
    "        ## merge events at time 2\n",
    "        ms.MassMigration(time=Taus[2], source=2, destination=0, proportion=1.0), \n",
    "        ms.MassMigration(time=Taus[2], source=6, destination=4, proportion=1.0), \n",
    "        ms.MassMigration(time=Taus[2], source=10, destination=8, proportion=1.0), \n",
    "\n",
    "        ## end migration at ABC and merge\n",
    "        ms.MigrationRateChange(time=Taus[2], rate=0),\n",
    "        ms.MassMigration(time=Taus[3], source=3, destination=0, proportion=1.0), \n",
    "        ms.MassMigration(time=Taus[3], source=7, destination=4, proportion=1.0), \n",
    "        ms.MassMigration(time=Taus[3], source=11, destination=8, proportion=1.0),   \n",
    "        \n",
    "        ## merge EFJH -> IJKL\n",
    "        ms.MassMigration(time=Taus[4], source=8, destination=4, proportion=1.0),   \n",
    "        \n",
    "        ## merge ABCD -> EFJHIJKL\n",
    "        ms.MassMigration(time=Taus[5], source=4, destination=0, proportion=1.0),   \n",
    "    ]\n",
    "\n",
    "    ## sim the data\n",
    "    replicates = ms.simulate(\n",
    "        population_configurations=pop_config,\n",
    "        migration_matrix=migmat,\n",
    "        demographic_events=demog,\n",
    "        num_replicates=nreps,\n",
    "        length=100, \n",
    "        mutation_rate=1e-9)\n",
    "    \n",
    "    return replicates"
   ]
  },
  {
   "cell_type": "code",
   "execution_count": 1275,
   "metadata": {
    "collapsed": false
   },
   "outputs": [],
   "source": [
    "\n",
    "## function to convert trees to arr\n",
    "def msp_to_arr(nreps, simreps, inds):\n",
    "    \n",
    "    ## inds e.g., [[0,1],[2,3],[4,5],[6,7]]\n",
    "    ntips = len(inds)\n",
    "    \n",
    "    ## array to fill, limit to 100 len\n",
    "    arr = np.zeros((nreps, ntips, 100))\n",
    "    \n",
    "    ## iterate over reps filling arr\n",
    "    for idx in xrange(nreps):\n",
    "        trees = next(simreps)\n",
    "        \n",
    "        ## build genotype array\n",
    "        shape = trees.get_num_mutations(), trees.get_sample_size()\n",
    "        garr = np.empty(shape, dtype=\"u1\")\n",
    "    \n",
    "        ## fill the garr\n",
    "        for variant in trees.variants():\n",
    "            garr[variant.index] = variant.genotypes\n",
    "        ## invert\n",
    "        garr = garr.T\n",
    "        \n",
    "        ## fill my arr with freqs\n",
    "        for sidx in xrange(ntips):\n",
    "            samp = inds[sidx]\n",
    "            freq = garr[samp]\n",
    "            freq = freq.sum(axis=0) / float(freq.shape[0])\n",
    "            maxsz = min(freq.shape[0], 100)\n",
    "            arr[idx, sidx, :maxsz] = freq[:maxsz]\n",
    "            \n",
    "    ## reduce the size of arr to min  \n",
    "    minl = np.where(np.all(np.all(arr==0, axis=1) == True, axis=0))[0].min()\n",
    "    arr = arr[:, :, :minl]\n",
    "    \n",
    "    return arr"
   ]
  },
  {
   "cell_type": "code",
   "execution_count": 1279,
   "metadata": {
    "collapsed": false
   },
   "outputs": [
    {
     "data": {
      "text/plain": [
       "(10000, 4, 9)"
      ]
     },
     "execution_count": 1279,
     "metadata": {},
     "output_type": "execute_result"
    }
   ],
   "source": [
    "## simulate data\n",
    "nreps = 10000\n",
    "simreps = demography(nreps)\n",
    "\n",
    "## A, B, C, D\n",
    "inds = np.array([[0,1],[2,3],[4,5],[6,7]])\n",
    "## E, F, G, H\n",
    "#inds = np.array(inds) + 8\n",
    "\n",
    "## convert to freq arr\n",
    "arr = msp_to_arr(nreps, simreps, inds)\n",
    "arr.shape"
   ]
  },
  {
   "cell_type": "code",
   "execution_count": 1280,
   "metadata": {
    "collapsed": false
   },
   "outputs": [
    {
     "name": "stdout",
     "output_type": "stream",
     "text": [
      "176.4375 157.0625 0.058095952024\n"
     ]
    }
   ],
   "source": [
    "abba, baba, dstat = prop_dstat(arr)\n",
    "print abba, baba, dstat"
   ]
  },
  {
   "cell_type": "code",
   "execution_count": 1281,
   "metadata": {
    "collapsed": false
   },
   "outputs": [
    {
     "name": "stdout",
     "output_type": "stream",
     "text": [
      "0.058095952024 0.056770424894 0.0357828185272 1.62357115552\n"
     ]
    }
   ],
   "source": [
    "o, e, s, z = get_signif(arr, 10000)\n",
    "print o, e, s, z"
   ]
  },
  {
   "cell_type": "markdown",
   "metadata": {},
   "source": [
    "### Calculate 4-taxon statistics\n",
    "<br>\n",
    "\n",
    "$\n",
    "    D = \\frac{\\Sigma(ABBA - BABA)}{\\Sigma(ABBA+BABA)}\n",
    "$\n",
    "\n",
    "<br>\n",
    "\n",
    "$\n",
    "    D_p = \\frac{\\Sigma ~ [ p_1 ~ (1-p_2) ~ p_3 ~ (1-p_4) ] - [(1-p_1) ~ p_2 ~ p_3 ~ (1-p_4)]}      {\\Sigma ~ [ p_1 ~ (1-p_2) ~ p_3 ~ (1-p_4) ] + [(1-p_1) ~ p_2 ~ p_3 ~ (1-p_4)]}\n",
    "$\n",
    "\n",
    "<br>"
   ]
  },
  {
   "cell_type": "code",
   "execution_count": 1215,
   "metadata": {
    "collapsed": false
   },
   "outputs": [],
   "source": [
    "@numba.jit(nopython=True)\n",
    "def prop_dstat(arr):\n",
    "    \n",
    "    ## numerator\n",
    "    abba = ((1.-arr[:, 0]) * (arr[:, 1]) * (arr[:, 2]) * (1.-arr[:, 3]))  \n",
    "    baba = ((arr[:, 0]) * (1.-arr[:, 1]) * (arr[:, 2]) * (1.-arr[:, 3]))\n",
    "    top = abba - baba\n",
    "    bot = abba + baba\n",
    "\n",
    "    ## get statistic and avoid zero div   \n",
    "    if bot.sum() != 0:\n",
    "        dstat = top.sum() / float(bot.sum())\n",
    "    else:\n",
    "        dstat = 0\n",
    "    \n",
    "    return abba.sum(), baba.sum(), dstat"
   ]
  },
  {
   "cell_type": "code",
   "execution_count": 1216,
   "metadata": {
    "collapsed": false
   },
   "outputs": [],
   "source": [
    "prop_dstat(arr)\n",
    "\n",
    "nboots = 100\n",
    "boots = np.zeros((nboots, 1))\n",
    "\n",
    "## iterate to fill boots\n",
    "for bidx in xrange(nboots):\n",
    "    ## sample with replacement\n",
    "    lidx = np.random.randint(0, arr.shape[0], arr.shape[0])\n",
    "    tarr = arr[lidx]\n",
    "    abba, baba, dstat = prop_dstat(tarr)\n",
    "    boots[bidx] = dstat"
   ]
  },
  {
   "cell_type": "code",
   "execution_count": 1217,
   "metadata": {
    "collapsed": false
   },
   "outputs": [],
   "source": [
    "@numba.jit(nopython=True)\n",
    "def get_boots(arr, nboots=1000):\n",
    "    ## hold results (nboots, [dstat, ])\n",
    "    boots = np.zeros((nboots, 1))\n",
    "    \n",
    "    ## iterate to fill boots\n",
    "    for bidx in xrange(nboots):\n",
    "        ## sample with replacement\n",
    "        lidx = np.random.randint(0, arr.shape[0], arr.shape[0])\n",
    "        tarr = arr[lidx]\n",
    "        _, _, dstat = prop_dstat(tarr)\n",
    "        boots[bidx] = dstat\n",
    "    \n",
    "    ## return bootarr\n",
    "    return boots"
   ]
  },
  {
   "cell_type": "code",
   "execution_count": 1218,
   "metadata": {
    "collapsed": true
   },
   "outputs": [],
   "source": [
    "@numba.jit(nopython=True)\n",
    "def get_signif(arr, nboots):\n",
    "    abba, baba, dstat = prop_dstat(arr)\n",
    "    b = get_boots(arr)\n",
    "    e, s = (b.mean(), b.std())\n",
    "    z = np.abs(dstat) / s\n",
    "    return dstat, e, s, z\n",
    "    "
   ]
  },
  {
   "cell_type": "code",
   "execution_count": 1219,
   "metadata": {
    "collapsed": false
   },
   "outputs": [
    {
     "ename": "ZeroDivisionError",
     "evalue": "division by zero",
     "output_type": "error",
     "traceback": [
      "\u001b[0;31m---------------------------------------------------------------------------\u001b[0m",
      "\u001b[0;31mZeroDivisionError\u001b[0m                         Traceback (most recent call last)",
      "\u001b[0;32m<ipython-input-1219-a8ea6269f25e>\u001b[0m in \u001b[0;36m<module>\u001b[0;34m()\u001b[0m\n\u001b[0;32m----> 1\u001b[0;31m \u001b[0mget_signif\u001b[0m\u001b[0;34m(\u001b[0m\u001b[0marr\u001b[0m\u001b[0;34m,\u001b[0m \u001b[0;36m1000\u001b[0m\u001b[0;34m)\u001b[0m\u001b[0;34m\u001b[0m\u001b[0m\n\u001b[0m",
      "\u001b[0;31mZeroDivisionError\u001b[0m: division by zero"
     ]
    }
   ],
   "source": [
    "get_signif(arr, 1000)"
   ]
  },
  {
   "cell_type": "markdown",
   "metadata": {},
   "source": [
    "### Setup a 5-taxon test"
   ]
  },
  {
   "cell_type": "code",
   "execution_count": 1179,
   "metadata": {
    "collapsed": false
   },
   "outputs": [],
   "source": [
    "## a dictionary with [required] key names \n",
    "## optional: additional 'p4' key for 5-taxon tests.\n",
    "test = {\n",
    "    'p1': [\"1A_0\", \"1B_0\", \"1C_0\"],\n",
    "    'p2': [\"1D_0\"],\n",
    "    'p3': [\"2E_0\", \"2F_0\"],\n",
    "    'p4': [\"2G_0\", \"2H_0\"],\n",
    "    'out': [\"3L_0\", \"3J_0\", \"3K_0\"], \n",
    "}\n",
    "\n",
    "## optional: dict for min samples per taxon (default=1 per tax)\n",
    "## used to filter loci for inclusion in data set\n",
    "mindict = {\n",
    "    'p1': 1,\n",
    "    'p2': 1,\n",
    "    'p3': 1, \n",
    "    'p4': 1,\n",
    "    'out': 1,\n",
    "}\n",
    "\n",
    "## loci input file\n",
    "handle = data.outfiles.loci"
   ]
  },
  {
   "cell_type": "code",
   "execution_count": 1180,
   "metadata": {
    "collapsed": false
   },
   "outputs": [
    {
     "data": {
      "text/plain": [
       "(10000, 5, 20)"
      ]
     },
     "execution_count": 1180,
     "metadata": {},
     "output_type": "execute_result"
    }
   ],
   "source": [
    "## get locus array\n",
    "arr = loci_to_arr(handle, test)\n",
    "\n",
    "## simulate data\n",
    "nreps = 10000\n",
    "simreps = demography(nreps)\n",
    "\n",
    "## A, B, C, D\n",
    "inds = np.array([[0,1],[2,3],[4,5],[6,7]])\n",
    "\n",
    "## [E], [H], [I], [L], [A,B,C,D]\n",
    "inds = np.array([[8,9], [14,15], [16,17], [22,23], [0,1,2,3,4,5,6,7]])\n",
    "\n",
    "## convert to freq arr\n",
    "arr = msp_to_arr(nreps, simreps, inds)\n",
    "arr.shape"
   ]
  },
  {
   "cell_type": "markdown",
   "metadata": {},
   "source": [
    "## Calculate 5-taxon statistics\n",
    "\n",
    "<br>\n",
    "\n",
    "$\n",
    "    D_{12} = \\frac{\\Sigma(ABBBA - BABBA)}{\\Sigma(ABBBA+BABBA)}\n",
    "$\n",
    "\n",
    "$\n",
    "    D_{1} = \\frac{\\Sigma(ABBAA - BABAA)}{\\Sigma(ABBAA+BABAA)}\n",
    "$\n",
    "\n",
    "$\n",
    "    D_{2} = \\frac{\\Sigma(ABABA - BAABA)}{\\Sigma(ABABA+BAABA)}\n",
    "$\n",
    "\n",
    "<br>\n",
    "\n",
    "$\n",
    "    D_{p12} = \\frac \n",
    "        {\\Sigma ~ [ p_1 ~ (1-p_2) ~ p_3 ~ p_4 ~ (1-p_5) ] - [(1-p_1) ~ p_2 ~ p_3 ~ p_4 ~ (1-p_5)]} \n",
    "        {\\Sigma ~ [ p_1 ~ (1-p_2) ~ p_3 ~ p_4 ~ (1-p_4) ] + [(1-p_1) ~ p_2 ~ p_3 ~ p_4 ~ (1-p_5)]}\n",
    "$\n",
    "\n",
    "\n",
    "$\n",
    "    D_{p1} = \\frac \n",
    "        {\\Sigma ~ [ p_1 ~ (1-p_2) ~ p_3 ~ (1-p_4) ~ (1-p_5) ] - [(1-p_1) ~ p_2 ~ p_3 ~ (1-p_4) ~ (1-p_5)]} \n",
    "        {\\Sigma ~ [ p_1 ~ (1-p_2) ~ p_3 ~ (1-p_4) ~ (1-p_5) ] + [(1-p_1) ~ p_2 ~ p_3 ~ (1-p_4) ~ (1-p_5)]}\n",
    "$\n",
    "\n",
    "\n",
    "$\n",
    "    D_{p2} = \\frac \n",
    "        {\\Sigma ~ [ p_1 ~ (1-p_2) ~ (1-p_3) ~ p_4 ~ (1-p_5) ] - [(1-p_1) ~ p_2 ~ (1-p_3) ~ p_4 ~ (1-p_5)]} \n",
    "        {\\Sigma ~ [ p_1 ~ (1-p_2) ~ (1-p_3) ~ p_4 ~ (1-p_5) ] + [(1-p_1) ~ p_2 ~ (1-p_3) ~ p_4 ~ (1-p_5)]}\n",
    "$\n",
    "\n",
    "<br>"
   ]
  },
  {
   "cell_type": "code",
   "execution_count": 1181,
   "metadata": {
    "collapsed": true
   },
   "outputs": [],
   "source": [
    "@numba.jit(nopython=True)\n",
    "def prop_dstat_12(arr):\n",
    "    \n",
    "    ## calc\n",
    "    sub = ((arr[:, 2] + arr[:, 3]) / 2.)\n",
    "    abbba = ((1.-arr[:, 0]) * (arr[:, 1]) * sub * (1.-arr[:, 4]))\n",
    "    babba = ((arr[:, 0]) * (1.-arr[:, 1]) * sub * (1.-arr[:, 4]))\n",
    "    top = abbba - babba\n",
    "    bot = abbba + babba\n",
    "\n",
    "    ## get statistic and avoid zero div   \n",
    "    if bot.sum() != 0:\n",
    "        dstat = top.sum() / float(bot.sum())\n",
    "    else:\n",
    "        dstat = 0\n",
    "    \n",
    "    return abbba.sum(), babba.sum(), dstat"
   ]
  },
  {
   "cell_type": "code",
   "execution_count": 1182,
   "metadata": {
    "collapsed": true
   },
   "outputs": [],
   "source": [
    "@numba.jit(nopython=True)\n",
    "def prop_dstat_1(arr):\n",
    "    \n",
    "    ## numerator\n",
    "    sub = (arr[:, 2]) * (1.-arr[:, 3])\n",
    "    abbaa = ((1.-arr[:, 0]) * (arr[:, 1]) * sub * (1.-arr[:, 4]))\n",
    "    babaa = ((arr[:, 0]) * (1.-arr[:, 1]) * sub * (1.-arr[:, 4]))\n",
    "    top = abbaa - babaa\n",
    "    bot = abbaa + babaa\n",
    "\n",
    "    ## get statistic and avoid zero div   \n",
    "    if bot.sum() != 0:\n",
    "        dstat = top.sum() / float(bot.sum())\n",
    "    else:\n",
    "        dstat = 0\n",
    "    \n",
    "    return abbaa.sum(), babaa.sum(), dstat"
   ]
  },
  {
   "cell_type": "code",
   "execution_count": 1183,
   "metadata": {
    "collapsed": false
   },
   "outputs": [],
   "source": [
    "@numba.jit(nopython=True)\n",
    "def prop_dstat_2(arr):\n",
    "    \n",
    "    ## calc sub\n",
    "    sub = (1.-arr[:, 2]) * arr[:, 3] \n",
    "    \n",
    "    ## calc stats\n",
    "    ababa = ((1.-arr[:, 0]) * (arr[:, 1]) * sub * (1.-arr[:, 4]))\n",
    "    baaba = ((arr[:, 0]) * (1.-arr[:, 1]) * sub * (1.-arr[:, 4]))\n",
    "    top = ababa - baaba\n",
    "    bot = ababa + baaba\n",
    "\n",
    "    ## get statistic and avoid zero div   \n",
    "    if bot.sum() != 0:\n",
    "        dstat = top.sum() / float(bot.sum())\n",
    "    else:\n",
    "        dstat = 0\n",
    "    \n",
    "    return ababa.sum(), baaba.sum(), dstat"
   ]
  },
  {
   "cell_type": "code",
   "execution_count": 1184,
   "metadata": {
    "collapsed": false
   },
   "outputs": [
    {
     "name": "stdout",
     "output_type": "stream",
     "text": [
      "[[ 0.   0.   0.   1.   0.   0.   0.   0.   0.   0. ]\n",
      " [ 1.   0.   0.   0.   0.   0.   0.   0.   0.   0. ]\n",
      " [ 0.   0.   0.   0.   0.   0.   0.   0.   0.   0. ]\n",
      " [ 0.   0.   0.   0.   0.   0.   0.   0.   0.   0. ]\n",
      " [ 1.   0.   0.5  0.   0.   0.   1.   0.   0.   0. ]]\n",
      "[[ 0.   0.   0.   0.   0.   0.   1.   0.   1.   0. ]\n",
      " [ 0.   1.   0.5  0.   0.   0.   0.   0.   0.   0. ]\n",
      " [ 0.   0.   0.   0.   0.   0.   1.   0.   1.   0. ]\n",
      " [ 1.   0.   1.   0.   0.   0.   0.   0.   0.   0. ]\n",
      " [ 0.   0.   0.   0.5  1.   0.   0.   0.   0.   0. ]]\n",
      "[[ 0.   0.   0.   1.   0.   0.   0.   0.   0.   0. ]\n",
      " [ 1.   0.   0.   0.   0.   0.   0.   0.   0.   0. ]\n",
      " [ 0.   0.   0.   0.   0.   0.   0.   0.   0.   0. ]\n",
      " [ 0.   0.   0.   0.   0.   0.   0.   0.   0.   0. ]\n",
      " [ 1.   0.   0.5  0.   0.   0.   1.   0.   0.   0. ]]\n"
     ]
    }
   ],
   "source": [
    "sub = (1.-arr[:, 2]) * arr[:, 3]\n",
    "\n",
    "print arr[:5, 3, :10]\n",
    "print arr[:5, 2, :10]\n",
    "print sub[:5, :10]"
   ]
  },
  {
   "cell_type": "code",
   "execution_count": 1185,
   "metadata": {
    "collapsed": false
   },
   "outputs": [
    {
     "data": {
      "text/plain": [
       "((2036.0, 24.25, 0.9764591675767504), 'abbba babba')"
      ]
     },
     "execution_count": 1185,
     "metadata": {},
     "output_type": "execute_result"
    }
   ],
   "source": [
    "prop_dstat_12(arr), 'abbba babba'"
   ]
  },
  {
   "cell_type": "code",
   "execution_count": 1186,
   "metadata": {
    "collapsed": false
   },
   "outputs": [
    {
     "name": "stdout",
     "output_type": "stream",
     "text": [
      "(3998.5, 6.0, 0.9970033712073917) abbaa, babaa\n",
      "(0.5, 42.5, -0.9767441860465116) ababa, baaba\n"
     ]
    }
   ],
   "source": [
    "print prop_dstat_1(arr), 'abbaa, babaa'\n",
    "print prop_dstat_2(arr), 'ababa, baaba'"
   ]
  },
  {
   "cell_type": "code",
   "execution_count": null,
   "metadata": {
    "collapsed": true
   },
   "outputs": [],
   "source": []
  },
  {
   "cell_type": "code",
   "execution_count": 1026,
   "metadata": {
    "collapsed": false
   },
   "outputs": [
    {
     "data": {
      "text/plain": [
       "array([[ 0. ,  0. ,  0. ,  0. ,  0. ,  0. ,  0. ,  0. ,  0.5,  0. ],\n",
       "       [ 0. ,  0. ,  0. ,  0. ,  0. ,  0. ,  0. ,  0. ,  0. ,  0. ],\n",
       "       [ 0. ,  1. ,  0. ,  0. ,  0. ,  0. ,  0. ,  1. ,  0.5,  0. ],\n",
       "       [ 0. ,  0. ,  1. ,  0. ,  0. ,  0. ,  0. ,  0. ,  0. ,  0. ],\n",
       "       [ 1. ,  1. ,  0. ,  0. ,  0. ,  0. ,  0. ,  0. ,  0. ,  0. ],\n",
       "       [ 0. ,  0. ,  0. ,  0. ,  0. ,  0. ,  0.5,  0. ,  0. ,  0. ],\n",
       "       [ 0. ,  0. ,  0. ,  0. ,  0. ,  0. ,  0. ,  0. ,  0. ,  0. ],\n",
       "       [ 1. ,  0. ,  0. ,  0. ,  0. ,  0. ,  0. ,  0. ,  1. ,  0. ],\n",
       "       [ 0.5,  0. ,  0. ,  0. ,  0. ,  0. ,  0. ,  0. ,  0. ,  0. ],\n",
       "       [ 1. ,  0. ,  0. ,  0. ,  0. ,  0. ,  0. ,  0. ,  0. ,  0. ],\n",
       "       [ 0. ,  0. ,  0. ,  0. ,  0. ,  1. ,  0. ,  0. ,  0. ,  0. ],\n",
       "       [ 0. ,  0. ,  0. ,  0. ,  0. ,  0. ,  0. ,  0. ,  0. ,  0. ],\n",
       "       [ 0.5,  0. ,  0. ,  0. ,  0. ,  0. ,  0. ,  0. ,  0. ,  0. ],\n",
       "       [ 1. ,  0. ,  0. ,  0. ,  0. ,  0. ,  0. ,  0. ,  0. ,  0. ],\n",
       "       [ 1. ,  0.5,  0. ,  0. ,  0. ,  0. ,  0. ,  0. ,  0. ,  0. ],\n",
       "       [ 0. ,  0. ,  0. ,  0. ,  0. ,  0. ,  0.5,  0. ,  0. ,  0. ],\n",
       "       [ 0. ,  0. ,  0. ,  0. ,  0. ,  0. ,  0. ,  0. ,  0. ,  0. ],\n",
       "       [ 0. ,  0. ,  0. ,  0. ,  0. ,  0. ,  1. ,  1. ,  0. ,  0. ],\n",
       "       [ 0. ,  0. ,  0. ,  0. ,  0. ,  0. ,  0. ,  1. ,  0. ,  0. ],\n",
       "       [ 0. ,  0. ,  0. ,  0. ,  0. ,  0. ,  0. ,  0.5,  0. ,  0. ]])"
      ]
     },
     "execution_count": 1026,
     "metadata": {},
     "output_type": "execute_result"
    }
   ],
   "source": [
    "sub = (1.-arr[:, 2]) * arr[:, 3] \n",
    "sub[:20, :10]"
   ]
  },
  {
   "cell_type": "code",
   "execution_count": 1021,
   "metadata": {
    "collapsed": false
   },
   "outputs": [
    {
     "data": {
      "text/plain": [
       "(195.125, 17.0, 0.8397171479080731)"
      ]
     },
     "execution_count": 1021,
     "metadata": {},
     "output_type": "execute_result"
    }
   ],
   "source": [
    "prop_dstat_2(arr)"
   ]
  },
  {
   "cell_type": "code",
   "execution_count": 1006,
   "metadata": {
    "collapsed": false
   },
   "outputs": [
    {
     "name": "stdout",
     "output_type": "stream",
     "text": [
      "[[ 0.     0.     0.     0.     0.     0.     0.     0.   ]\n",
      " [ 0.125  0.125  0.125  0.     0.     0.     0.     0.   ]\n",
      " [ 0.625  0.25   0.375  0.     0.     0.     0.     0.   ]\n",
      " [ 0.     0.     0.     0.125  0.     0.25   0.125  0.125]\n",
      " [ 0.125  0.     0.     0.125  0.25   0.375  0.     0.125]\n",
      " [ 0.5    0.     0.     0.     0.25   0.     0.     0.   ]\n",
      " [ 1.     0.     0.75   0.     0.     0.     0.75   0.   ]\n",
      " [ 0.125  0.25   0.     0.25   0.125  0.     0.     0.   ]\n",
      " [ 0.     0.     0.25   0.     0.125  0.625  0.     0.   ]\n",
      " [ 0.     0.     0.     0.     0.75   0.25   0.     1.   ]]\n",
      "[[ 0.25  0.    0.    1.    0.    0.5   0.    0.5 ]\n",
      " [ 0.    0.    0.    0.    0.5   0.    0.    0.  ]\n",
      " [ 0.    0.    0.    1.    0.75  0.    0.    1.  ]\n",
      " [ 0.    0.    0.    0.    0.    0.    0.    0.  ]\n",
      " [ 0.    0.5   0.    0.    0.    0.    0.    0.  ]\n",
      " [ 0.    0.    1.    0.    0.    0.    0.    0.  ]\n",
      " [ 0.    0.    0.    0.    1.    0.    0.    0.5 ]\n",
      " [ 0.    0.    0.    0.    0.    0.    0.    0.  ]\n",
      " [ 0.    0.    0.    0.    0.    0.    0.    0.  ]\n",
      " [ 0.5   0.    0.    0.    0.    0.    0.    0.  ]]\n",
      "[[-0.25   0.     0.    -1.     0.    -0.5    0.    -0.5  ]\n",
      " [ 0.125  0.125  0.125  0.    -0.5    0.     0.     0.   ]\n",
      " [ 0.625  0.25   0.375 -1.    -0.75   0.     0.    -1.   ]\n",
      " [ 0.     0.     0.     0.125  0.     0.25   0.125  0.125]\n",
      " [ 0.125 -0.5    0.     0.125  0.25   0.375  0.     0.125]\n",
      " [ 0.5    0.    -1.     0.     0.25   0.     0.     0.   ]\n",
      " [ 1.     0.     0.75   0.    -1.     0.     0.75  -0.5  ]\n",
      " [ 0.125  0.25   0.     0.25   0.125  0.     0.     0.   ]\n",
      " [ 0.     0.     0.25   0.     0.125  0.625  0.     0.   ]\n",
      " [-0.5    0.     0.     0.     0.75   0.25   0.     1.   ]]\n"
     ]
    }
   ],
   "source": [
    "x = arr[:, 3]\n",
    "y = arr[:, 2]\n",
    "\n",
    "print x[:10, :8]\n",
    "print y[:10, :8]\n",
    "z = x-y\n",
    "print z[:10, :8]"
   ]
  },
  {
   "cell_type": "code",
   "execution_count": 1000,
   "metadata": {
    "collapsed": false
   },
   "outputs": [
    {
     "data": {
      "text/plain": [
       "array([[ 0.   ,  0.   ,  0.   ,  0.   ,  0.   ,  0.   ,  0.   ,  0.   ],\n",
       "       [ 0.125,  0.125,  0.125,  0.   ,  0.   ,  0.   ,  0.   ,  0.   ],\n",
       "       [ 0.625,  0.25 ,  0.375,  0.   ,  0.   ,  0.   ,  0.   ,  0.   ],\n",
       "       [ 0.   ,  0.   ,  0.   ,  0.125,  0.   ,  0.25 ,  0.125,  0.125],\n",
       "       [ 0.125,  0.   ,  0.   ,  0.125,  0.25 ,  0.375,  0.   ,  0.125],\n",
       "       [ 0.5  ,  0.   ,  0.   ,  0.   ,  0.25 ,  0.   ,  0.   ,  0.   ],\n",
       "       [ 1.   ,  0.   ,  0.75 ,  0.   ,  0.   ,  0.   ,  0.75 ,  0.   ],\n",
       "       [ 0.125,  0.25 ,  0.   ,  0.25 ,  0.125,  0.   ,  0.   ,  0.   ],\n",
       "       [ 0.   ,  0.   ,  0.25 ,  0.   ,  0.125,  0.625,  0.   ,  0.   ],\n",
       "       [ 0.   ,  0.   ,  0.   ,  0.   ,  0.75 ,  0.25 ,  0.   ,  1.   ]])"
      ]
     },
     "execution_count": 1000,
     "metadata": {},
     "output_type": "execute_result"
    }
   ],
   "source": [
    "sub = (arr[:, 3] + (arr[:, 2]))\n",
    "sub - arr[:, 2]#* (1.-arr[:, 2])\n",
    "\n",
    "x = arr[:, 3] * (1.-arr[:, 2])\n",
    "x[:10, :8]"
   ]
  },
  {
   "cell_type": "code",
   "execution_count": 907,
   "metadata": {
    "collapsed": false
   },
   "outputs": [
    {
     "data": {
      "text/plain": [
       "(79.21875, 4.9375, 0.8826587448941701)"
      ]
     },
     "execution_count": 907,
     "metadata": {},
     "output_type": "execute_result"
    }
   ],
   "source": [
    "prop_dstat_2(arr)"
   ]
  },
  {
   "cell_type": "code",
   "execution_count": 892,
   "metadata": {
    "collapsed": false
   },
   "outputs": [
    {
     "data": {
      "text/plain": [
       "array([[ 0.   ,  0.   ,  0.   , ...,  0.   ,  0.   ,  0.   ],\n",
       "       [ 0.125,  0.125,  0.125, ...,  0.   ,  0.   ,  0.   ],\n",
       "       [ 0.625,  0.25 ,  0.375, ...,  0.   ,  0.   ,  0.   ],\n",
       "       ..., \n",
       "       [ 0.   ,  0.5  ,  0.625, ...,  0.   ,  0.   ,  0.   ],\n",
       "       [ 0.   ,  0.25 ,  0.   , ...,  0.   ,  0.   ,  0.   ],\n",
       "       [ 0.25 ,  0.25 ,  0.   , ...,  0.   ,  0.   ,  0.   ]])"
      ]
     },
     "execution_count": 892,
     "metadata": {},
     "output_type": "execute_result"
    }
   ],
   "source": [
    "x = arr[:, 3] - arr[:, 2]\n",
    "x[x < 0] = 0\n",
    "x\n"
   ]
  }
 ],
 "metadata": {
  "anaconda-cloud": {},
  "kernelspec": {
   "display_name": "Python [conda root]",
   "language": "python",
   "name": "conda-root-py"
  },
  "language_info": {
   "codemirror_mode": {
    "name": "ipython",
    "version": 2
   },
   "file_extension": ".py",
   "mimetype": "text/x-python",
   "name": "python",
   "nbconvert_exporter": "python",
   "pygments_lexer": "ipython2",
   "version": "2.7.12"
  }
 },
 "nbformat": 4,
 "nbformat_minor": 1
}
