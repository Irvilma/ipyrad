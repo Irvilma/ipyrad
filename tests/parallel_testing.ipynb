{
 "cells": [
  {
   "cell_type": "markdown",
   "metadata": {},
   "source": [
    "### exception test"
   ]
  },
  {
   "cell_type": "code",
   "execution_count": 3,
   "metadata": {
    "collapsed": false
   },
   "outputs": [
    {
     "name": "stdout",
     "output_type": "stream",
     "text": [
      "[0, 1, 2, 3]\n"
     ]
    }
   ],
   "source": [
    "import os\n",
    "import ipyparallel as ipp\n",
    "\n",
    "ipyclient = ipp.Client()\n",
    "print ipyclient.ids"
   ]
  },
  {
   "cell_type": "markdown",
   "metadata": {},
   "source": [
    "### create different view of Engines\n"
   ]
  },
  {
   "cell_type": "code",
   "execution_count": 53,
   "metadata": {
    "collapsed": true
   },
   "outputs": [],
   "source": [
    "#### all 4 engines\n",
    "dview = ipyclient[:]\n",
    "\n",
    "#### auto-assign across 4 Engines\n",
    "lview = ipyclient.load_balanced_view()"
   ]
  },
  {
   "cell_type": "code",
   "execution_count": null,
   "metadata": {
    "collapsed": true
   },
   "outputs": [],
   "source": [
    "\n",
    "### Boss class to balance work among Node classes\n",
    "class Boss():\n",
    "    \n"
   ]
  },
  {
   "cell_type": "code",
   "execution_count": 119,
   "metadata": {
    "collapsed": true
   },
   "outputs": [],
   "source": [
    "import time\n",
    "import ipyparallel as ipp\n",
    "\n",
    "#### client class holding threaded views\n",
    "class Worker():\n",
    "    \"\"\" independent threaded CPUs\"\"\"\n",
    "    def __init__(self, name, ipyclient, targets, func, data):\n",
    "        ## Engine views\n",
    "        self.client = ipyclient\n",
    "        self.lview = self.client.load_balanced_view(targets=targets)\n",
    "        self.dview = self.client.direct_view(targets=targets)\n",
    "        self.ids = targets\n",
    "        self.name = name\n",
    "        \n",
    "        ## how long to wait between checking for available proc\n",
    "        self.delay = 0.5\n",
    "        \n",
    "        ## store the data and func\n",
    "        self.data = data\n",
    "        self.func = func\n",
    "        \n",
    "        ## is job finished\n",
    "        self.result = {}\n",
    "        \n",
    "        ## finished results\n",
    "        self.running = 0\n",
    "        self.finished = 0\n",
    "        \n",
    "    \n",
    "    def synchronize(self):\n",
    "        \"\"\" checks whether it's finished \"\"\"\n",
    "        try:\n",
    "            self.result[self.name] = self.running.get(0)\n",
    "        except ipp.error.TimeoutError:\n",
    "            pass\n",
    "        except Exception as e:\n",
    "            self.finished = 1\n",
    "            #print(data, ': fail', e.traceback)\n",
    "            self.result[self.name] = e\n",
    "        else:\n",
    "            self.finished = 1\n",
    "            self.running = None\n",
    "            \n",
    "\n",
    "    def job(self, data, func):\n",
    "        \"\"\" while job is running store async result in running.\"\"\"\n",
    "        self.running = self.lview.apply_async(func, data)\n",
    "        \n",
    "                \n",
    "    def run(self):\n",
    "        ## starts self.running\n",
    "        self.job(self.data, self.func)\n",
    "        while self.running:\n",
    "            print(self.name, 'pending...')\n",
    "            ## check for jobs finished, stops self.running\n",
    "            self.synchronize()\n",
    "            time.sleep(self.delay)"
   ]
  },
  {
   "cell_type": "code",
   "execution_count": null,
   "metadata": {
    "collapsed": true
   },
   "outputs": [],
   "source": [
    "class Boss():\n",
    "    \"\"\" a scheduler for threaded Workers tasks \"\"\"\n",
    "    def __init__(self, workers):\n",
    "        \n",
    "        "
   ]
  },
  {
   "cell_type": "code",
   "execution_count": null,
   "metadata": {
    "collapsed": true
   },
   "outputs": [],
   "source": [
    "rc = ipp.Client(#'/home/user/.starcluster/ipcluster/mycluster-us-east-1.json'\n",
    "                sshkey='/home/user/.ssh/mykey.rsa',\n",
    "                sshserver=\"deren@omega.hpc.yale.edu\",\n",
    "                password=\"\")"
   ]
  },
  {
   "cell_type": "code",
   "execution_count": 124,
   "metadata": {
    "collapsed": false
   },
   "outputs": [],
   "source": [
    "## controller file is located on your LOCAL machine\n",
    "contro_file = \"/home/deren/.ipython/profile_default/security/ipcontroller-client.json\"\n",
    "sshkey_file = \"/home/deren/.ssh/id_rsa\"\n",
    "\n",
    "## open a connection so that all files will be found and made \n",
    "## on the REMOTE machine\n",
    "ipyclient = ipp.Client(contro_file, sshkey_file)\n",
    "\n",
    "## Now tell our data object that it's executing remotely\n",
    "## data1.ipcluster = ipyclient"
   ]
  },
  {
   "cell_type": "code",
   "execution_count": 127,
   "metadata": {
    "collapsed": false
   },
   "outputs": [
    {
     "name": "stdout",
     "output_type": "stream",
     "text": [
      "['oud', 'oud', 'oud', 'oud', 'oud', 'oud', 'oud', 'oud', 'oud', 'oud']\n"
     ]
    }
   ],
   "source": [
    "ipyclient.ids\n",
    "dview = ipyclient[:]\n",
    "import socket\n",
    "hosts = dview.apply_sync(socket.gethostname)\n",
    "print hosts"
   ]
  },
  {
   "cell_type": "code",
   "execution_count": 120,
   "metadata": {
    "collapsed": false,
    "scrolled": true
   },
   "outputs": [
    {
     "ename": "NameError",
     "evalue": "name 'Boss' is not defined",
     "output_type": "error",
     "traceback": [
      "\u001b[1;31m---------------------------------------------------------------------------\u001b[0m",
      "\u001b[1;31mNameError\u001b[0m                                 Traceback (most recent call last)",
      "\u001b[1;32m<ipython-input-120-f4472dd5d9b0>\u001b[0m in \u001b[0;36m<module>\u001b[1;34m()\u001b[0m\n\u001b[0;32m      4\u001b[0m \u001b[1;33m\u001b[0m\u001b[0m\n\u001b[0;32m      5\u001b[0m \u001b[1;31m## schedule Workers jobs w/ Boss\u001b[0m\u001b[1;33m\u001b[0m\u001b[1;33m\u001b[0m\u001b[0m\n\u001b[1;32m----> 6\u001b[1;33m \u001b[0mscheduler\u001b[0m \u001b[1;33m=\u001b[0m \u001b[0mBoss\u001b[0m\u001b[1;33m(\u001b[0m\u001b[0mnodes\u001b[0m\u001b[1;33m=\u001b[0m\u001b[1;33m[\u001b[0m\u001b[0mnode\u001b[0m\u001b[1;33m,\u001b[0m\u001b[0mnode2\u001b[0m\u001b[1;33m]\u001b[0m\u001b[1;33m)\u001b[0m\u001b[1;33m\u001b[0m\u001b[0m\n\u001b[0m\u001b[0;32m      7\u001b[0m \u001b[1;32mfor\u001b[0m \u001b[0mjob\u001b[0m \u001b[1;32min\u001b[0m \u001b[0mjobs\u001b[0m\u001b[1;33m:\u001b[0m\u001b[1;33m\u001b[0m\u001b[0m\n\u001b[0;32m      8\u001b[0m     \u001b[0mscheduler\u001b[0m\u001b[1;33m.\u001b[0m\u001b[0madd\u001b[0m\u001b[1;33m(\u001b[0m\u001b[0mjob\u001b[0m\u001b[1;33m)\u001b[0m\u001b[1;33m\u001b[0m\u001b[0m\n",
      "\u001b[1;31mNameError\u001b[0m: name 'Boss' is not defined"
     ]
    }
   ],
   "source": [
    "## create two Workers \n",
    "node1 = Worker(\"oud_1\", ipyclient, [0,1], func=sum, data=range(3))\n",
    "node2 = Worker(\"oud_2\", ipyclient, [2,3], func=sum, data=range(3))\n",
    "\n",
    "## schedule Workers jobs w/ Boss\n",
    "scheduler = Boss(nodes=[node,node2])\n",
    "for job in jobs:\n",
    "    scheduler.add(job)\n",
    "\n",
    "node1.run()\n",
    "print node1.result"
   ]
  },
  {
   "cell_type": "code",
   "execution_count": 38,
   "metadata": {
    "collapsed": false
   },
   "outputs": [],
   "source": [
    "        \n",
    "threaded1 = ipyclient.direct_view(targets=[0,1])\n",
    "threaded2 = ipyclient.direct_view(targets=[2,3])\n",
    "threads = [threaded1, threaded2]"
   ]
  },
  {
   "cell_type": "code",
   "execution_count": 21,
   "metadata": {
    "collapsed": false
   },
   "outputs": [],
   "source": [
    "import time\n",
    "## sleep for 1 second\n",
    "time.sleep(1)\n",
    "## data to sleep for x seconds (0-7)\n",
    "data = range(8)"
   ]
  },
  {
   "cell_type": "markdown",
   "metadata": {},
   "source": [
    "### Time how long each client takes to go through sleep data"
   ]
  },
  {
   "cell_type": "code",
   "execution_count": 25,
   "metadata": {
    "collapsed": false
   },
   "outputs": [
    {
     "name": "stdout",
     "output_type": "stream",
     "text": [
      "1 loops, best of 3: 13.1 s per loop\n"
     ]
    }
   ],
   "source": [
    "%%timeit\n",
    "## dview map\n",
    "job = dview.map(time.sleep, data)\n",
    "job.get()"
   ]
  },
  {
   "cell_type": "code",
   "execution_count": 30,
   "metadata": {
    "collapsed": false
   },
   "outputs": [
    {
     "name": "stdout",
     "output_type": "stream",
     "text": [
      "1 loops, best of 3: 13.1 s per loop\n"
     ]
    }
   ],
   "source": [
    "%%timeit\n",
    "## dview map_async\n",
    "job = dview.map_sync(time.sleep, data)\n",
    "#job.get()\n",
    "\n",
    "## dview\n",
    "#[i.get() for i in job]"
   ]
  },
  {
   "cell_type": "code",
   "execution_count": 32,
   "metadata": {
    "collapsed": false
   },
   "outputs": [
    {
     "name": "stdout",
     "output_type": "stream",
     "text": [
      "   4/4 tasks finished after   13 s\n",
      "done\n"
     ]
    }
   ],
   "source": [
    "job = dview.map_async(time.sleep, data)\n",
    "job.wait_interactive()"
   ]
  },
  {
   "cell_type": "markdown",
   "metadata": {},
   "source": [
    "### Load balanced does it faster than direct\n",
    "Since direct divvies up the jobs across processors before running them, whereas load_balanced assigns them as you go depending on who finished first. "
   ]
  },
  {
   "cell_type": "code",
   "execution_count": 33,
   "metadata": {
    "collapsed": false
   },
   "outputs": [
    {
     "name": "stdout",
     "output_type": "stream",
     "text": [
      "   8/8 tasks finished after   10 s\n",
      "done\n"
     ]
    }
   ],
   "source": [
    "job = lview.map_async(time.sleep, data)\n",
    "job.wait_interactive()"
   ]
  },
  {
   "cell_type": "code",
   "execution_count": 36,
   "metadata": {
    "collapsed": false
   },
   "outputs": [
    {
     "name": "stdout",
     "output_type": "stream",
     "text": [
      "1 loops, best of 3: 10.1 s per loop\n"
     ]
    }
   ],
   "source": [
    "%%timeit \n",
    "job = lview.map_sync(time.sleep, data)\n",
    "job"
   ]
  },
  {
   "cell_type": "markdown",
   "metadata": {},
   "source": [
    "### Set up a custom threaded job"
   ]
  },
  {
   "cell_type": "code",
   "execution_count": 52,
   "metadata": {
    "collapsed": false
   },
   "outputs": [
    {
     "data": {
      "text/plain": [
       "defaultdict(dict,\n",
       "            {u'03db1f18-0e7f-4c47-9aba-16b42eca03fe': [None],\n",
       "             u'0411f754-2976-462d-96f1-8810eb4d902b': [None, None],\n",
       "             u'045b2470-f4e1-44f4-9c99-27db5360bcde': [None],\n",
       "             u'0486fd50-2c67-44e2-995a-c14812f5e3b8': [None, None],\n",
       "             u'069deea9-952c-4dda-b7cf-b605f2fe9ae8': [None, None],\n",
       "             u'074951d1-7ada-451b-a53a-36d61a6e8100': [None],\n",
       "             u'09d47326-ed81-4fb7-84d5-5ce6dcf86f0d': [None],\n",
       "             u'0dc9c888-70f5-44a0-a35a-e37f37b784c5': [None],\n",
       "             u'0e0a94fe-1c8a-4cef-b1ce-6f01ef6bb5ec': [None, None],\n",
       "             u'0f20778b-6835-4815-97a1-cea9b9f15c76': [None, None],\n",
       "             u'0f7498a1-57dc-4814-90c7-c17de40fcef2': [None, None],\n",
       "             u'0fb9179b-c505-482a-ae73-ddefdd392c79': [None],\n",
       "             u'10518f72-2a7f-4f65-986b-171f38c28e0d': ipyparallel.error.RemoteError(u'TypeError',\n",
       "                                           u'a float is required'),\n",
       "             u'10606a2e-5513-4331-847c-090fe9c7357e': [None, None],\n",
       "             u'10bcbeb0-efeb-4c2a-8a54-5d4d1260ce41': [None],\n",
       "             u'10c9296e-9a48-455a-bc14-4ab22c843261': [None, None],\n",
       "             u'1167e314-d494-41a2-8f34-873c53636247': [None, None],\n",
       "             u'12792b9e-d544-4af7-86d5-9319807c6789': [None],\n",
       "             u'12e966ee-1a32-4ba4-8e7b-f3c0d1eb6082': [None],\n",
       "             u'178fbac8-c450-4c52-9221-95a009276aa5': [None],\n",
       "             u'1e7a150c-da1d-4bd6-89f4-6e2726821fc3': [None],\n",
       "             u'23076ed2-bb7c-4a4d-8bfd-2ed85ae60bd5': [None],\n",
       "             u'234c8629-a732-4641-af58-4d5da010b18c': [None],\n",
       "             u'25b4fdff-d1e9-47da-a8e3-9f38548545b3': [None, None],\n",
       "             u'25de680d-70cf-4278-ad69-902ff70e2677': [None],\n",
       "             u'2c3f448f-6603-406e-aad4-f2bee8267dad': [None],\n",
       "             u'2db5a343-5ef3-41ac-9ce3-7a2b114222f6': [None, None],\n",
       "             u'35bf0757-6d24-4702-8ecb-65d8a9437c38': [None],\n",
       "             u'385d806d-3f24-4bec-a436-b5f7b9224951': [None],\n",
       "             u'3ed5dc96-7171-426d-bfe6-7a84e17788a9': [None],\n",
       "             u'3fb4460d-5f67-4778-9c75-5461add852d5': [None, None],\n",
       "             u'3fdfbaeb-db60-4ccc-bff2-e10598ec7b33': [None, None],\n",
       "             u'4235b6c8-4f9e-4ee5-82b1-d96c7c07f8ff': [None],\n",
       "             u'4478f921-2b4d-4f69-aa4e-47923adde435': [None, None],\n",
       "             u'4500f052-b269-417a-8b79-cee1d057babe': [None, None],\n",
       "             u'49f010e7-7a16-4ae7-8793-97e8979d45c2': [None, None],\n",
       "             u'4acef8ef-f0ea-4aaf-8b98-232dcc48f312': [None],\n",
       "             u'4c993c85-32fe-40e0-a3f1-d9d8bbffc1dc': [None],\n",
       "             u'4e426330-e0f8-4c76-aeed-827fffdabf26': [None],\n",
       "             u'4ea04edf-8aa9-48f1-b1c7-10e03f364b5e': [None, None],\n",
       "             u'52fc7296-8e76-49b8-9fd7-47d9074dad04': [None, None],\n",
       "             u'54c01f57-05d4-455d-9ff7-e77bbce182ab': [None],\n",
       "             u'5c7cb5b0-fd57-4604-8641-f57eed5c8e2f': [None, None],\n",
       "             u'6840183a-4aa5-4de8-92b2-3d959520dbbb': [None],\n",
       "             u'6a2fbffd-d572-44cd-91f0-1a29b3aca0fd': [None],\n",
       "             u'6a40d2f3-312c-4159-b058-96870d8887ec': [None, None],\n",
       "             u'6f013893-4d2b-45d0-9ac5-166897210516': [None, None],\n",
       "             u'6f7c56cb-e66c-4027-9ead-b25804afaefc': [None],\n",
       "             u'70b2a8e4-adb3-4cef-98cf-9a20d8e137a4': [None],\n",
       "             u'717237bb-33a0-42ac-86a3-086b30b1a566': [None],\n",
       "             u'719605a8-a1fc-44e4-abd4-bc68f618b1a1': [None, None],\n",
       "             u'73d1a12d-3ab4-42f3-bef1-5f873f18d7ad': [None, None],\n",
       "             u'73f43811-ec8b-495f-8f02-96cf1e871f9c': [None, None],\n",
       "             u'74a16993-36c5-41ae-8cf6-8c7f863b4a50': [None, None],\n",
       "             u'7559b6da-2051-4c2c-8bf1-5e0d23fd252f': [None, None],\n",
       "             u'78febb6c-7858-45de-a1f8-093e90e83235': [None, None],\n",
       "             u'7ea16a80-5e90-4d78-818e-d8f7ed9ef63c': [None, None],\n",
       "             u'7fb4b86b-a8c0-4e16-a2b1-07edc6b8fb8b': [None],\n",
       "             u'7fec2944-18ca-4766-b07b-65820114f00d': [None, None],\n",
       "             u'805cd441-5f4b-4fbc-873c-5989fe91db5a': [None, None],\n",
       "             u'806fcc71-8eb2-44a6-a077-38e4119604f9': [None],\n",
       "             u'83246fd3-0a1d-4010-adc7-16e15206c057': [None],\n",
       "             u'874e3eb5-2c37-404f-a254-fd859fd23b81': [None],\n",
       "             u'88abb887-b6ab-4c34-8083-d9b38385c76f': ipyparallel.error.RemoteError(u'TypeError',\n",
       "                                           u'a float is required'),\n",
       "             u'891a1b2b-b5a1-4fa7-b3c7-2fd1e2861443': [None, None],\n",
       "             u'89c03112-c113-42b6-aee5-6090c62ccb73': [None, None],\n",
       "             u'8fe0aad2-c2f5-4a9f-a769-3d8a3a8234d6': [None],\n",
       "             u'90b2ea47-82d7-4407-8adf-987f8db33a06': [None],\n",
       "             u'9306be2e-067f-404e-a1db-4536dd4f1ed7': [None],\n",
       "             u'9390a476-a4f5-46ee-8e62-5d17c0bcf6b0': ipyparallel.error.RemoteError(u'TypeError',\n",
       "                                           u'a float is required'),\n",
       "             u'9c329648-dfae-4099-b66d-e00c48229bcd': [None, None],\n",
       "             u'9effcf91-ed72-4219-80d3-a88325c127eb': [None],\n",
       "             u'a8aff0c8-82d1-424b-b461-42e4958afe9d': [None, None, None],\n",
       "             u'a9a7f363-5d57-416f-b639-e8ccf70a9107': [None],\n",
       "             u'ab5fc6dd-0511-4cf5-862d-e3993b16b6f6': [None],\n",
       "             u'ac94a0cc-70b1-46e7-bba0-86ff6493c729': [None, None],\n",
       "             u'acf66702-f4c4-467b-a330-ce0a8ab19366': [None],\n",
       "             u'aecae133-9c08-4bc7-a53e-d994c37ab2a0': [None, None],\n",
       "             u'b0aecb83-9101-4cf8-b4c8-46b0ea020243': [None, None],\n",
       "             u'b13caa38-29a8-49d3-852a-7d9d1d8d9ba0': [None],\n",
       "             u'ba9c6331-d468-4a0f-8ba9-abe4793be830': [None],\n",
       "             u'bc223a6e-9e42-4051-8029-637930319ee6': [None, None],\n",
       "             u'bc9f6f49-c07e-4183-a0dd-27725fcd6f65': [None, None],\n",
       "             u'be2879fd-02b3-4006-be50-63a16f8c62c4': [None],\n",
       "             u'beea26ba-87a8-4a95-8ee0-37359df3d825': [None],\n",
       "             u'c3dade93-8bf0-448f-8994-6b5af85aa85b': [None],\n",
       "             u'c63d4be9-4449-425f-a548-50f6af615f62': [None],\n",
       "             u'cbc560d6-7f3a-420a-99c8-724ce0201a84': [None, None],\n",
       "             u'cd60211e-4ca6-41f2-820c-4d8ebbb06a07': [None, None],\n",
       "             u'cdda060d-4d76-475f-9611-68aabd31f732': [None, None],\n",
       "             u'ce9c01a4-5128-4498-8e91-13af7e0b265d': ipyparallel.error.RemoteError(u'TypeError',\n",
       "                                           u'a float is required'),\n",
       "             u'cec2524a-e280-4610-b36c-45066f882c01': [None],\n",
       "             u'cfca4343-a9da-4375-bd85-420b20225807': [None, None],\n",
       "             u'd572b8b9-b8f5-4f8b-a4da-2cff0424b54a': [None, None],\n",
       "             u'd5e9dcf9-a359-49bf-ab8f-fdd9cee36f03': [None, None, None],\n",
       "             u'd8b26708-a34c-486d-96db-b49539b2319d': [None, None],\n",
       "             u'df237d4c-7bfb-4e07-8ed4-d5ce3459d986': [None],\n",
       "             u'e191871d-36f3-4233-a71a-84933610e2c1': [None, None],\n",
       "             u'e22f6f85-151c-432e-95c7-bcf62c9a3373': [None],\n",
       "             u'e2b7f4dd-9ff3-47c8-beda-1da267467541': [None],\n",
       "             u'e30ae440-cd2c-4535-84c2-4fc065d70290': [None, None],\n",
       "             u'e342f191-9b56-474b-98ec-d8d1f9c3decd': [None, None],\n",
       "             u'ea43ac54-4f7f-48b1-9216-c23f21cafb3d': [None],\n",
       "             u'ed215e93-b63f-4098-9501-022124874f93': [None, None],\n",
       "             u'ed4b92c2-ec9b-4105-a355-bf15152f2c96': [None],\n",
       "             u'ee932145-16bd-4dd8-9eb1-349ad061c97a': [None],\n",
       "             u'f228900d-6977-4d1c-939d-33b73ad60bd6': [None],\n",
       "             u'f2f25136-f985-4575-a5af-fe22fba913ed': [None, None],\n",
       "             u'f712c45a-a102-40bd-ae08-3b47b53b722b': [None, None],\n",
       "             u'f83836f5-ed47-4708-8aaa-2faea606aa07': [None],\n",
       "             u'f8bf9cc6-8edb-45f2-af10-75064579ffcc': [None, None],\n",
       "             u'f938a303-6873-4db5-b592-a84d3cdfebc0': [None, None],\n",
       "             u'fb48b56d-4734-4fb9-89e8-64e93facbf98': [None],\n",
       "             u'fc363197-d562-4d5a-bfaf-61da61ac005a': [None, None],\n",
       "             u'fe2901a2-ac66-4c9b-884e-547c3c422704': [None, None],\n",
       "             u'fefe21f9-94b6-4b70-b0f8-58594a98ebbf': [None]})"
      ]
     },
     "execution_count": 52,
     "metadata": {},
     "output_type": "execute_result"
    }
   ],
   "source": [
    "dview.scatter"
   ]
  },
  {
   "cell_type": "code",
   "execution_count": 47,
   "metadata": {
    "collapsed": false
   },
   "outputs": [
    {
     "data": {
      "text/plain": [
       "1"
      ]
     },
     "execution_count": 47,
     "metadata": {},
     "output_type": "execute_result"
    }
   ],
   "source": [
    "data.pop(0)"
   ]
  },
  {
   "cell_type": "code",
   "execution_count": 50,
   "metadata": {
    "collapsed": false
   },
   "outputs": [
    {
     "name": "stdout",
     "output_type": "stream",
     "text": [
      "0\n",
      "1\n",
      "2\n",
      "3\n",
      "4\n",
      "5\n",
      "6\n",
      "7\n"
     ]
    }
   ],
   "source": [
    "data = range(8)\n",
    "\n",
    "while data:\n",
    "    dat = data.pop(0)\n",
    "    print dat\n",
    "    for node in threads:\n",
    "        try:\n",
    "            ## find an available engine\n",
    "        \n",
    "    "
   ]
  },
  {
   "cell_type": "code",
   "execution_count": 93,
   "metadata": {
    "collapsed": true
   },
   "outputs": [],
   "source": [
    "## make data \n",
    "data = range(20)\n",
    "\n",
    "## make function that will raise exception for one data point\n",
    "@lbview.parallel(block=False)\n",
    "def testfunc(x):\n",
    "    import os\n",
    "    if x[0] < 10: \n",
    "        raise Exception(\"fail\")\n",
    "    else:\n",
    "        return (x, os.getpid())\n",
    "    "
   ]
  },
  {
   "cell_type": "code",
   "execution_count": 95,
   "metadata": {
    "collapsed": false
   },
   "outputs": [],
   "source": [
    "res = testfunc([3, 30, 40, 3, 4])\n"
   ]
  },
  {
   "cell_type": "code",
   "execution_count": 96,
   "metadata": {
    "collapsed": false
   },
   "outputs": [
    {
     "ename": "CompositeError",
     "evalue": "one or more exceptions from call to method: testfunc\n[1:apply]: Exception: fail\n[0:apply]: Exception: fail\n[3:apply]: Exception: fail",
     "output_type": "error",
     "traceback": [
      "[1:apply]: ",
      "\u001b[1;31m---------------------------------------------------------------------------\u001b[0m\u001b[1;31mException\u001b[0m                                 Traceback (most recent call last)\u001b[1;32m<string>\u001b[0m in \u001b[0;36m<module>\u001b[1;34m()\u001b[0m",
      "\u001b[1;32m<ipython-input-93-bf0ec65a2cf6>\u001b[0m in \u001b[0;36mtestfunc\u001b[1;34m(x)\u001b[0m",
      "\u001b[1;31mException\u001b[0m: fail",
      "",
      "[0:apply]: ",
      "\u001b[1;31m---------------------------------------------------------------------------\u001b[0m\u001b[1;31mException\u001b[0m                                 Traceback (most recent call last)\u001b[1;32m<string>\u001b[0m in \u001b[0;36m<module>\u001b[1;34m()\u001b[0m",
      "\u001b[1;32m<ipython-input-93-bf0ec65a2cf6>\u001b[0m in \u001b[0;36mtestfunc\u001b[1;34m(x)\u001b[0m",
      "\u001b[1;31mException\u001b[0m: fail",
      "",
      "[3:apply]: ",
      "\u001b[1;31m---------------------------------------------------------------------------\u001b[0m\u001b[1;31mException\u001b[0m                                 Traceback (most recent call last)\u001b[1;32m<string>\u001b[0m in \u001b[0;36m<module>\u001b[1;34m()\u001b[0m",
      "\u001b[1;32m<ipython-input-93-bf0ec65a2cf6>\u001b[0m in \u001b[0;36mtestfunc\u001b[1;34m(x)\u001b[0m",
      "\u001b[1;31mException\u001b[0m: fail",
      ""
     ]
    }
   ],
   "source": [
    "[i.get() for i in res]"
   ]
  },
  {
   "cell_type": "code",
   "execution_count": 70,
   "metadata": {
    "collapsed": false
   },
   "outputs": [
    {
     "name": "stdout",
     "output_type": "stream",
     "text": [
      "hi\n",
      "done\n"
     ]
    }
   ],
   "source": [
    "## now run all the data across 4 processors\n",
    "results = []\n",
    "try:\n",
    "    res = lbview.map_async(testfunc, data)\n",
    "    results = res.get()\n",
    "    #    results.append(res)\n",
    "    #ipyclient.wait(results)\n",
    "    \n",
    "except Exception:\n",
    "    print 'hi'\n",
    "    \n",
    "finally:\n",
    "    print 'done'"
   ]
  },
  {
   "cell_type": "code",
   "execution_count": 71,
   "metadata": {
    "collapsed": false
   },
   "outputs": [
    {
     "name": "stdout",
     "output_type": "stream",
     "text": [
      "0 []\n"
     ]
    }
   ],
   "source": [
    "final = [res.get() for i in results]\n",
    "print len(final), final"
   ]
  }
 ],
 "metadata": {
  "kernelspec": {
   "display_name": "Python 2",
   "language": "python",
   "name": "python2"
  },
  "language_info": {
   "codemirror_mode": {
    "name": "ipython",
    "version": 2
   },
   "file_extension": ".py",
   "mimetype": "text/x-python",
   "name": "python",
   "nbconvert_exporter": "python",
   "pygments_lexer": "ipython2",
   "version": "2.7.11"
  }
 },
 "nbformat": 4,
 "nbformat_minor": 0
}
