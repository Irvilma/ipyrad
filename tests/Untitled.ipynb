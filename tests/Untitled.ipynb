{
 "cells": [
  {
   "cell_type": "markdown",
   "metadata": {},
   "source": [
    "### Example notebook"
   ]
  },
  {
   "cell_type": "markdown",
   "metadata": {},
   "source": [
    "this is an example notebook"
   ]
  },
  {
   "cell_type": "code",
   "execution_count": 61,
   "metadata": {
    "collapsed": false
   },
   "outputs": [
    {
     "name": "stdout",
     "output_type": "stream",
     "text": [
      "0.3.6\n"
     ]
    }
   ],
   "source": [
    "import ipyrad as ip\n",
    "print ip.__version__\n",
    "\n",
    "import os\n",
    "import subprocess\n",
    "import glob"
   ]
  },
  {
   "cell_type": "code",
   "execution_count": 62,
   "metadata": {
    "collapsed": false
   },
   "outputs": [
    {
     "name": "stdout",
     "output_type": "stream",
     "text": [
      "  loading Assembly: cli2\n",
      "  from saved path: ~/Documents/ipyrad/tests/cli/cli2.json\n"
     ]
    }
   ],
   "source": [
    "data = ip.load_json(\"cli/cli2.json\")"
   ]
  },
  {
   "cell_type": "code",
   "execution_count": 81,
   "metadata": {
    "collapsed": false
   },
   "outputs": [
    {
     "name": "stdout",
     "output_type": "stream",
     "text": [
      "['cat', '/home/deren/Documents/ipyrad/tests/cli/cli2_consens/3K_0.consens.gz', '/home/deren/Documents/ipyrad/tests/cli/cli2_consens/2H_0.consens.gz', '/home/deren/Documents/ipyrad/tests/cli/cli2_consens/3I_0.consens.gz', '/home/deren/Documents/ipyrad/tests/cli/cli2_consens/3J_0.consens.gz', '/home/deren/Documents/ipyrad/tests/cli/cli2_consens/1B_0.consens.gz', '/home/deren/Documents/ipyrad/tests/cli/cli2_consens/1A_0.consens.gz', '/home/deren/Documents/ipyrad/tests/cli/cli2_consens/1D_0.consens.gz', '/home/deren/Documents/ipyrad/tests/cli/cli2_consens/1C_0.consens.gz', '/home/deren/Documents/ipyrad/tests/cli/cli2_consens/2E_0.consens.gz', '/home/deren/Documents/ipyrad/tests/cli/cli2_consens/2F_0.consens.gz', '/home/deren/Documents/ipyrad/tests/cli/cli2_consens/3L_0.consens.gz', '/home/deren/Documents/ipyrad/tests/cli/cli2_consens/2G_0.consens.gz']\n",
      "['cat', '/home/deren/Documents/ipyrad/tests/cli/cli2_consens/3K_0.consens.gz', '/home/deren/Documents/ipyrad/tests/cli/cli2_consens/2H_0.consens.gz', '/home/deren/Documents/ipyrad/tests/cli/cli2_consens/3I_0.consens.gz', '/home/deren/Documents/ipyrad/tests/cli/cli2_consens/3J_0.consens.gz', '/home/deren/Documents/ipyrad/tests/cli/cli2_consens/1B_0.consens.gz', '/home/deren/Documents/ipyrad/tests/cli/cli2_consens/1A_0.consens.gz', '/home/deren/Documents/ipyrad/tests/cli/cli2_consens/1D_0.consens.gz', '/home/deren/Documents/ipyrad/tests/cli/cli2_consens/1C_0.consens.gz', '/home/deren/Documents/ipyrad/tests/cli/cli2_consens/2E_0.consens.gz', '/home/deren/Documents/ipyrad/tests/cli/cli2_consens/2F_0.consens.gz', '/home/deren/Documents/ipyrad/tests/cli/cli2_consens/3L_0.consens.gz', '/home/deren/Documents/ipyrad/tests/cli/cli2_consens/2G_0.consens.gz']\n",
      "['cat', '/home/deren/Documents/ipyrad/tests/cli/cli2_consens/3K_0.consens.gz', '/home/deren/Documents/ipyrad/tests/cli/cli2_consens/2H_0.consens.gz', '/home/deren/Documents/ipyrad/tests/cli/cli2_consens/3I_0.consens.gz', '/home/deren/Documents/ipyrad/tests/cli/cli2_consens/3J_0.consens.gz', '/home/deren/Documents/ipyrad/tests/cli/cli2_consens/1B_0.consens.gz', '/home/deren/Documents/ipyrad/tests/cli/cli2_consens/1A_0.consens.gz', '/home/deren/Documents/ipyrad/tests/cli/cli2_consens/1D_0.consens.gz', '/home/deren/Documents/ipyrad/tests/cli/cli2_consens/1C_0.consens.gz', '/home/deren/Documents/ipyrad/tests/cli/cli2_consens/2E_0.consens.gz', '/home/deren/Documents/ipyrad/tests/cli/cli2_consens/2F_0.consens.gz', '/home/deren/Documents/ipyrad/tests/cli/cli2_consens/3L_0.consens.gz', '/home/deren/Documents/ipyrad/tests/cli/cli2_consens/2G_0.consens.gz']\n",
      "1 loop, best of 3: 6.72 ms per loop\n"
     ]
    }
   ],
   "source": [
    "%%timeit -n 1\n",
    "## 1. subprocess with redirect (>)\n",
    "\n",
    "cmd = ['cat'] + glob.glob(os.path.join(data.dirs.consens, \"*consens.gz\"))\n",
    "print cmd\n",
    "\n",
    "\n",
    "with open(\"test_catcons.tmp\", 'w') as output:\n",
    "    call = subprocess.Popen(cmd,  stdout=output)\n",
    "    call.communicate()\n"
   ]
  },
  {
   "cell_type": "code",
   "execution_count": 67,
   "metadata": {
    "collapsed": true
   },
   "outputs": [],
   "source": [
    "%%bash\n",
    "\n",
    "subs=\"s/W/A/g;s/w/A/g;s/R/A/g;s/r/A/g;s/M/A/g;s/m/A/g;s/K/T/g;s/k/T/g;s/S/C/g;s/s/C/g;s/Y/C/g;s/y/C/g\"\n",
    "\n",
    "gunzip -c test_concat.gz | \\\n",
    "       grep -v \"^>\" - | \\\n",
    "       sed $subs \\\n",
    "       > test_haps.fq"
   ]
  },
  {
   "cell_type": "code",
   "execution_count": 87,
   "metadata": {
    "collapsed": false
   },
   "outputs": [
    {
     "data": {
      "text/plain": [
       "'/>/!s/W/A/g;/>/!s/w/A/g;/>/!s/R/A/g;/>/!s/r/A/g;/>/!s/M/A/g;/>/!s/m/A/g;/>/!s/K/T/g;/>/!s/k/T/g;/>/!s/S/C/g;/>/!s/s/C/g;/>/!s/Y/C/g;/>/!s/y/C/g'"
      ]
     },
     "execution_count": 87,
     "metadata": {},
     "output_type": "execute_result"
    }
   ],
   "source": [
    "## a string of sed substitutions for temporarily replacing hetero sites    \n",
    "subs = [\"/>/!s/W/A/g\", \"/>/!s/w/A/g\", \"/>/!s/R/A/g\", \"/>/!s/r/A/g\", \n",
    "        \"/>/!s/M/A/g\", \"/>/!s/m/A/g\", \"/>/!s/K/T/g\", \"/>/!s/k/T/g\", \n",
    "        \"/>/!s/S/C/g\", \"/>/!s/s/C/g\", \"/>/!s/Y/C/g\", \"/>/!s/y/C/g\"]\n",
    "subs = \";\".join(subs)\n",
    "subs"
   ]
  },
  {
   "cell_type": "code",
   "execution_count": 90,
   "metadata": {
    "collapsed": false
   },
   "outputs": [],
   "source": [
    "## impute pseudo-haplo information to avoid mismatch at hetero sites\n",
    "## the read data with hetero sites is put back into clustered data later\n",
    "\n",
    "allcons = \"test_catcons.tmp\"       ## this is a gzipped file\n",
    "cmd1 = [\"gunzip\", \"-c\", allcons]\n",
    "cmd2 = [\"sed\", subs]"
   ]
  },
  {
   "cell_type": "code",
   "execution_count": 92,
   "metadata": {
    "collapsed": false
   },
   "outputs": [],
   "source": [
    "proc1 = subprocess.Popen(cmd1, stdout=subprocess.PIPE)\n",
    "allhaps = allcons.replace(\"_catcons.tmp\", \"_cathaps.tmp\")\n",
    "with open(allhaps, 'w') as output:\n",
    "    proc2 = proc2 = subprocess.Popen(cmd2, stdin=proc1.stdout, stdout=output) \n",
    "    proc2.communicate()\n",
    "proc1.stdout.close()"
   ]
  },
  {
   "cell_type": "code",
   "execution_count": 93,
   "metadata": {
    "collapsed": false
   },
   "outputs": [
    {
     "name": "stdout",
     "output_type": "stream",
     "text": [
      "total 19M\r\n",
      "-rw-rw-r--  1 deren 1.3M Jun 12 15:59 test_cathaps.tmp\r\n",
      "-rw-rw-r--  1 deren  20K Jun 12 15:58 Untitled.ipynb\r\n",
      "-rw-rw-r--  1 deren 1.3M Jun 12 15:57 output.txt\r\n",
      "-rw-rw-r--  1 deren 1.3M Jun 12 15:41 input.txt\r\n",
      "-rw-rw-r--  1 deren 372K Jun 12 15:35 test_catcons.tmp\r\n",
      "-rw-rw-r--  1 deren 1.1M Jun 12 15:24 test_haps.fq\r\n",
      "-rw-rw-r--  1 deren 372K Jun 12 15:10 \u001b[0m\u001b[01;31mtest_concat.gz\u001b[0m\r\n",
      "drwxrwxr-x 15 deren 4.0K Jun 12 13:02 \u001b[01;34mcli\u001b[0m/\r\n",
      "-rw-rw-r--  1 deren 3.0K Jun 12 13:01 params-cli.txt\r\n",
      "-rw-rw-r--  1 deren 1.4M Jun 11 16:41 ipyrad_log.txt\r\n",
      "-rw-rw-r--  1 deren 3.1K Jun 11 16:26 params-data5.txt\r\n",
      "drwxrwxr-x  2 deren 4.0K Jun 11 16:04 \u001b[01;34mipsimdata\u001b[0m/\r\n",
      "drwxrwxr-x  7 deren 4.0K Jun  6 14:11 \u001b[01;34mpdtest\u001b[0m/\r\n",
      "-rw-rw-r--  1 deren 3.0K Jun  6 14:00 params-pdtest2.txt\r\n",
      "-rw-rw-r--  1 deren  30K Jun  2 10:46 test.json\r\n",
      "drwxrwxr-x  2 deren 4.0K Jun  2 10:46 \u001b[01;34mtest_analysis_svd\u001b[0m/\r\n",
      "-rw-rw-r--  1 deren 1.7K May 27 18:53 Untitled2.ipynb\r\n",
      "-rw-rw-r--  1 deren  33K May 23 12:36 pdtest2.json\r\n",
      "-rw-rw-r--  1 deren  32K May 16 02:40 ipsimdata.ipynb\r\n",
      "-rw-rw-r--  1 deren 3.2K May 16 00:52 params-pdtest.txt\r\n",
      "-rw-rw-r--  1 deren 4.3M May 16 00:19 \u001b[01;31mipsimdata.tar.gz\u001b[0m\r\n",
      "-rw-rw-r--  1 deren 821K May 15 21:52 \u001b[01;31mclitest_R1_.fastq.gz\u001b[0m\r\n",
      "-rw-rw-r--  1 deren  144 May 15 21:52 clitest_barcodes.txt\r\n",
      "drwxrwxr-x  2 deren 4.0K May 15 18:49 \u001b[01;34mipsimdata2\u001b[0m/\r\n",
      "drwxrwxr-x  2 deren 4.0K May 15 17:58 \u001b[01;34miptutorial\u001b[0m/\r\n",
      "drwxrwxr-x  7 deren 4.0K May 14 15:30 \u001b[01;34mcli_backup\u001b[0m/\r\n",
      "-rw-rw-r--  1 deren 3.2K May 14 13:33 params-ron4.txt\r\n",
      "-rw-rw-r--  1 deren  22K May 13 17:42 svd4tet.ipynb\r\n",
      "-rw-rw-r--  1 deren  37K May 13 15:09 recipe-plotting-in-R.ipynb\r\n",
      "-rw-rw-r--  1 deren  30K May 13 14:26 cli_svd.json\r\n",
      "drwxrwxr-x  2 deren 4.0K May 13 14:26 \u001b[01;34mcli_svd_analysis_svd\u001b[0m/\r\n",
      "-rw-rw-r--  1 deren 3.3K May 10 19:58 params-sub.txt\r\n",
      "-rw-rw-r--  1 deren 3.3K May 10 19:48 params-new.txt\r\n",
      "-rw-rw-r--  1 deren 191K May  9 15:41 cli_downstream.ipynb\r\n",
      "-rw-rw-r--  1 deren  28K May  7 18:51 snp_positions.html\r\n",
      "-rw-rw-r--  1 deren  28K May  7 18:45 out.html\r\n",
      "-rw-rw-r--  1 deren  18K May  7 18:41 \u001b[01;35mout.svg\u001b[0m\r\n",
      "-rw-rw-r--  1 deren 4.3K May  7 18:38 out.pdf\r\n",
      "-rw-rw-r--  1 deren  37K May  5 13:19 cluster_progress_bar_testing.ipynb\r\n",
      "-rw-rw-r--  1 deren  27K May  5 13:19 structure-cookbook.ipynb\r\n",
      "-rw-rw-r--  1 deren  42K May  4 18:07 iptest.json\r\n",
      "drwxrwxr-x  2 deren 4.0K May  4 03:05 \u001b[01;34miptest_outfiles\u001b[0m/\r\n",
      "drwxrwxr-x  2 deren 4.0K May  4 03:05 \u001b[01;34miptest_consens\u001b[0m/\r\n",
      "drwxrwxr-x  7 deren 4.0K May  4 01:59 \u001b[01;34mron4\u001b[0m/\r\n",
      "drwxrwxr-x  2 deren 4.0K May  4 01:29 \u001b[01;34miptest_clust_0.85\u001b[0m/\r\n",
      "drwxrwxr-x  2 deren 4.0K May  3 23:03 \u001b[01;34miptest_edits\u001b[0m/\r\n",
      "drwxrwxr-x  2 deren 4.0K May  3 22:47 \u001b[01;34miptest_fastqs\u001b[0m/\r\n",
      "-rw-rw-r--  1 deren 3.2K May  3 20:34 params-iptest.txt\r\n",
      "drwxrwxr-x  8 deren 4.0K May  3 00:12 \u001b[01;34mipsimdata_backup\u001b[0m/\r\n",
      "-rw-rw-r--  1 deren 3.2K May  3 00:02 params-qron.txt\r\n",
      "drwxrwxr-x  3 deren 4.0K May  2 12:49 \u001b[01;34mdata\u001b[0m/\r\n",
      "-rw-rw-r--  1 deren  20K May  1 20:48 faster_step5.ipynb\r\n",
      "-rw-rw-r--  1 deren  156 Apr 29 15:50 mydata.csv\r\n",
      "-rw-rw-r--  1 deren 3.3K Apr 29 15:41 params-ARK90.txt\r\n",
      "-rw-rw-r--  1 deren 3.2K Apr 29 15:19 params-ARK.txt\r\n",
      "-rw-rw-r--  1 deren 9.9K Apr 26 16:20 pairddrad tutorial.ipynb\r\n",
      "-rw-rw-r--  1 deren 3.4M Apr 26 12:24 \u001b[01;31mipyradsims.tar.gz\u001b[0m\r\n",
      "drwxrwxr-x  2 deren 4.0K Apr 26 12:16 \u001b[01;34moldipsimdata\u001b[0m/\r\n",
      "-rw-rw-r--  1 deren 558K Apr 25 17:22 Ron update.ipynb\r\n",
      "-rw-rw-r--  1 deren 3.2K Apr 25 12:56 params-Rontest.txt\r\n",
      "-rw-rw-r--  1 deren  22K Apr 25 12:47 Rontest.ipynb\r\n",
      "-rw-rw-r--  1 deren  21K Apr 15 19:17 check6.txt\r\n",
      "-rw-rw-r--  1 deren  25K Apr  6 02:08 Untitled1.ipynb\r\n",
      "-rw-rw-r--  1 deren 3.3K Mar 30 12:09 params-data2.txt\r\n",
      "-rw-rw-r--  1 deren 3.2K Mar 30 12:07 params-data1.txt\r\n",
      "-rw-rw-r--  1 deren  41K Mar  9 01:43 apitest.ipynb\r\n",
      "drwxrwxr-x  5 deren 4.0K Mar  8 16:59 \u001b[01;34mpairtest\u001b[0m/\r\n",
      "-rw-rw-r--  1 deren 3.2K Mar  8 16:51 params-merge.txt\r\n",
      "-rw-rw-r--  1 deren 3.2K Mar  8 16:49 params-nomerge.txt\r\n",
      "-rw-rw-r--  1 deren 3.2K Mar  8 16:24 params-base.txt\r\n",
      "-rw-rw-r--  1 deren  609 Mar  5 19:13 RAxML_bipartitionsBranchLabels.test\r\n",
      "-rw-rw-r--  1 deren  591 Mar  5 19:13 RAxML_bipartitions.test\r\n",
      "-rw-rw-r--  1 deren  14K Mar  5 19:13 RAxML_info.test\r\n",
      "-rw-rw-r--  1 deren  568 Mar  5 19:13 RAxML_bestTree.test\r\n",
      "-rw-rw-r--  1 deren 8.0K Mar  5 19:13 RAxML_bootstrap.test\r\n",
      "drwxrwxr-x  8 deren 4.0K Mar  5 18:26 \u001b[01;34mapi\u001b[0m/\r\n",
      "drwxrwxr-x  7 deren 4.0K Mar  4 13:35 \u001b[01;34mpairddtest\u001b[0m/\r\n",
      "-rw-rw-r--  1 deren 3.2K Mar  4 13:24 params-pairddtest.txt\r\n",
      "-rw-rw-r--  1 deren  34K Feb 19 23:38 numba_test.ipynb\r\n",
      "-rw-rw-r--  1 deren 557K Feb 18 11:22 test_rad.ipynb\r\n",
      "-rw-rw-r--  1 deren 2.6K Feb 11 23:54 Ron-params.txt\r\n",
      "-rw-rw-r--  1 deren 547K Feb 11 10:48 quickguide_API.ipynb\r\n",
      "-rw-rw-r--  1 deren 391K Feb  8 19:17 test_refseq.ipynb\r\n",
      "-rw-rw-r--  1 deren  26K Feb  8 19:17 vsearch_merge_tests.ipynb\r\n",
      "-rw-rw-r--  1 deren  13K Feb  8 19:17 recipe X - renaming Samples.ipynb\r\n",
      "-rw-rw-r--  1 deren  33K Feb  8 19:17 test_pairddrad.ipynb\r\n",
      "-rw-rw-r--  1 deren  58K Feb  8 19:17 test_pairgbs.ipynb\r\n",
      "-rw-rw-r--  1 deren  61K Feb  8 19:17 dstats.ipynb\r\n",
      "-rw-rw-r--  1 deren  27K Feb  8 19:17 h5py_testing.ipynb\r\n",
      "-rw-rw-r--  1 deren 4.8K Feb  8 19:17 ipytesting.ipynb\r\n",
      "-rw-rw-r--  1 deren 6.1K Feb  8 19:17 mergepairs.ipynb\r\n",
      "-rw-rw-r--  1 deren 2.6K Jan 23 17:10 test_pairgbs-params.txt\r\n",
      "drwxrwxr-x  3 deren 4.0K Nov 26  2015 \u001b[01;34mmergetest\u001b[0m/\r\n"
     ]
    }
   ],
   "source": [
    "ll -th"
   ]
  },
  {
   "cell_type": "code",
   "execution_count": 46,
   "metadata": {
    "collapsed": false
   },
   "outputs": [
    {
     "name": "stdout",
     "output_type": "stream",
     "text": [
      "-rw-rw-r-- 1 deren  31688 Jun 12 13:03 \u001b[0m\u001b[01;31m/home/deren/Documents/ipyrad/tests/cli/cli2_consens/1A_0.consens.gz\u001b[0m\u001b[K\r\n",
      "-rw-rw-r-- 1 deren  31655 Jun 12 13:03 \u001b[01;31m/home/deren/Documents/ipyrad/tests/cli/cli2_consens/1B_0.consens.gz\u001b[0m\u001b[K\r\n",
      "-rw-rw-r-- 1 deren  31765 Jun 12 13:03 \u001b[01;31m/home/deren/Documents/ipyrad/tests/cli/cli2_consens/1C_0.consens.gz\u001b[0m\u001b[K\r\n",
      "-rw-rw-r-- 1 deren  31668 Jun 12 13:03 \u001b[01;31m/home/deren/Documents/ipyrad/tests/cli/cli2_consens/1D_0.consens.gz\u001b[0m\u001b[K\r\n",
      "-rw-rw-r-- 1 deren  31715 Jun 12 13:03 \u001b[01;31m/home/deren/Documents/ipyrad/tests/cli/cli2_consens/2E_0.consens.gz\u001b[0m\u001b[K\r\n",
      "-rw-rw-r-- 1 deren  31727 Jun 12 13:03 \u001b[01;31m/home/deren/Documents/ipyrad/tests/cli/cli2_consens/2F_0.consens.gz\u001b[0m\u001b[K\r\n",
      "-rw-rw-r-- 1 deren  31743 Jun 12 13:03 \u001b[01;31m/home/deren/Documents/ipyrad/tests/cli/cli2_consens/2G_0.consens.gz\u001b[0m\u001b[K\r\n",
      "-rw-rw-r-- 1 deren  31724 Jun 12 13:03 \u001b[01;31m/home/deren/Documents/ipyrad/tests/cli/cli2_consens/2H_0.consens.gz\u001b[0m\u001b[K\r\n",
      "-rw-rw-r-- 1 deren  31716 Jun 12 13:03 \u001b[01;31m/home/deren/Documents/ipyrad/tests/cli/cli2_consens/3I_0.consens.gz\u001b[0m\u001b[K\r\n",
      "-rw-rw-r-- 1 deren  31678 Jun 12 13:03 \u001b[01;31m/home/deren/Documents/ipyrad/tests/cli/cli2_consens/3J_0.consens.gz\u001b[0m\u001b[K\r\n",
      "-rw-rw-r-- 1 deren  31680 Jun 12 13:03 \u001b[01;31m/home/deren/Documents/ipyrad/tests/cli/cli2_consens/3K_0.consens.gz\u001b[0m\u001b[K\r\n",
      "-rw-rw-r-- 1 deren  31716 Jun 12 13:03 \u001b[01;31m/home/deren/Documents/ipyrad/tests/cli/cli2_consens/3L_0.consens.gz\u001b[0m\u001b[K\r\n",
      "-rw-rw-r-- 1 deren 122980 Jun 12 13:07 \u001b[01;31m/home/deren/Documents/ipyrad/tests/cli/cli2_consens/cli2_catclust.gz\u001b[0m\u001b[K\r\n"
     ]
    }
   ],
   "source": [
    "ll /home/deren/Documents/ipyrad/tests/cli/cli2_consens/*.gz"
   ]
  },
  {
   "cell_type": "code",
   "execution_count": null,
   "metadata": {
    "collapsed": true
   },
   "outputs": [],
   "source": [
    "%%timeit -n 10\n",
    "## 1. subprocess with redirect (>)\n",
    "\n",
    "\n",
    "cmd = ['cat', os.path.join(data.dirs.consens, \"*.gz\")]\n",
    "\n",
    "with gzip.open(\"test_concat.gz\")\n",
    "call = subprocess.Popen(cmd, stdout=)\n",
    "call.wait()"
   ]
  },
  {
   "cell_type": "code",
   "execution_count": null,
   "metadata": {
    "collapsed": true
   },
   "outputs": [],
   "source": []
  },
  {
   "cell_type": "code",
   "execution_count": 3,
   "metadata": {
    "collapsed": false
   },
   "outputs": [
    {
     "name": "stdout",
     "output_type": "stream",
     "text": [
      "  0   assembly_name               test                                         \n",
      "  1   project_dir                 ./                                           \n",
      "  2   raw_fastq_path                                                           \n",
      "  3   barcodes_path                                                            \n",
      "  4   sorted_fastq_path                                                        \n",
      "  5   assembly_method             denovo                                       \n",
      "  6   reference_sequence                                                       \n",
      "  7   datatype                    rad                                          \n",
      "  8   restriction_overhang        ('TGCAG', '')                                \n",
      "  9   max_low_qual_bases          5                                            \n",
      "  10  phred_Qscore_offset         33                                           \n",
      "  11  mindepth_statistical        6                                            \n",
      "  12  mindepth_majrule            6                                            \n",
      "  13  maxdepth                    10000                                        \n",
      "  14  clust_threshold             0.85                                         \n",
      "  15  max_barcode_mismatch        1                                            \n",
      "  16  filter_adapters             0                                            \n",
      "  17  filter_min_trim_len         35                                           \n",
      "  18  max_alleles_consens         2                                            \n",
      "  19  max_Ns_consens              (5, 5)                                       \n",
      "  20  max_Hs_consens              (8, 8)                                       \n",
      "  21  min_samples_locus           4                                            \n",
      "  22  max_SNPs_locus              (100, 100)                                   \n",
      "  23  max_Indels_locus            (5, 99)                                      \n",
      "  24  max_shared_Hs_locus         0.25                                         \n",
      "  25  edit_cutsites               (0, 0)                                       \n",
      "  26  trim_overhang               (1, 2, 2, 1)                                 \n",
      "  27  output_formats              *                                            \n",
      "  28  pop_assign_file                                                          \n",
      "  29  excludes                                                                 \n",
      "  30  outgroups                                                                \n"
     ]
    }
   ],
   "source": [
    "data.get_params()"
   ]
  },
  {
   "cell_type": "code",
   "execution_count": null,
   "metadata": {
    "collapsed": true
   },
   "outputs": [],
   "source": []
  }
 ],
 "metadata": {
  "kernelspec": {
   "display_name": "Python 2",
   "language": "python",
   "name": "python2"
  },
  "language_info": {
   "codemirror_mode": {
    "name": "ipython",
    "version": 2
   },
   "file_extension": ".py",
   "mimetype": "text/x-python",
   "name": "python",
   "nbconvert_exporter": "python",
   "pygments_lexer": "ipython2",
   "version": "2.7.11"
  }
 },
 "nbformat": 4,
 "nbformat_minor": 0
}
