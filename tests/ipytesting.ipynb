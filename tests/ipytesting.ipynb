{
 "cells": [
  {
   "cell_type": "code",
   "execution_count": 1,
   "metadata": {
    "collapsed": true
   },
   "outputs": [],
   "source": [
    "import os\n",
    "import ipyparallel\n"
   ]
  },
  {
   "cell_type": "code",
   "execution_count": 2,
   "metadata": {
    "collapsed": false
   },
   "outputs": [
    {
     "name": "stderr",
     "output_type": "stream",
     "text": [
      "/home/deren/anaconda/lib/python2.7/site-packages/ipyparallel/client/client.py:417: RuntimeWarning: \n",
      "            Controller appears to be listening on localhost, but not on this machine.\n",
      "            If this is true, you should specify Client(...,sshserver='you@192.168.1.114')\n",
      "            or instruct your controller to listen on an external IP.\n",
      "  RuntimeWarning)\n"
     ]
    }
   ],
   "source": [
    "## create client with views\n",
    "ipyclient = ipyparallel.Client()\n",
    "dview = ipyclient[:]\n",
    "lbview = ipyclient.load_balanced_view()\n"
   ]
  },
  {
   "cell_type": "code",
   "execution_count": 39,
   "metadata": {
    "collapsed": false
   },
   "outputs": [],
   "source": [
    "## a test function that raises an exception\n",
    "def test(x):\n",
    "    try:\n",
    "        if x<10:\n",
    "            raise Exception\n",
    "        else:\n",
    "            return (os.getpid(), x)\n",
    "    except Exception:\n",
    "        raise OSError"
   ]
  },
  {
   "cell_type": "code",
   "execution_count": 45,
   "metadata": {
    "collapsed": false
   },
   "outputs": [
    {
     "ename": "CompositeError",
     "evalue": "one or more exceptions from call to method: test\n[0:apply]: OSError: \n[1:apply]: OSError: \n[3:apply]: OSError: \n[2:apply]: OSError: \n.... 1 more exceptions ...",
     "output_type": "error",
     "traceback": [
      "[0:apply]: ",
      "\u001b[1;31m---------------------------------------------------------------------------\u001b[0m\u001b[1;31mOSError\u001b[0m                                   Traceback (most recent call last)\u001b[1;32m<string>\u001b[0m in \u001b[0;36m<module>\u001b[1;34m()\u001b[0m",
      "\u001b[1;32m<ipython-input-39-2b428062d17a>\u001b[0m in \u001b[0;36mtest\u001b[1;34m(x)\u001b[0m",
      "\u001b[1;31mOSError\u001b[0m: ",
      "",
      "[1:apply]: ",
      "\u001b[1;31m---------------------------------------------------------------------------\u001b[0m\u001b[1;31mOSError\u001b[0m                                   Traceback (most recent call last)\u001b[1;32m<string>\u001b[0m in \u001b[0;36m<module>\u001b[1;34m()\u001b[0m",
      "\u001b[1;32m<ipython-input-39-2b428062d17a>\u001b[0m in \u001b[0;36mtest\u001b[1;34m(x)\u001b[0m",
      "\u001b[1;31mOSError\u001b[0m: ",
      "",
      "[3:apply]: ",
      "\u001b[1;31m---------------------------------------------------------------------------\u001b[0m\u001b[1;31mOSError\u001b[0m                                   Traceback (most recent call last)\u001b[1;32m<string>\u001b[0m in \u001b[0;36m<module>\u001b[1;34m()\u001b[0m",
      "\u001b[1;32m<ipython-input-39-2b428062d17a>\u001b[0m in \u001b[0;36mtest\u001b[1;34m(x)\u001b[0m",
      "\u001b[1;31mOSError\u001b[0m: ",
      "",
      "[2:apply]: ",
      "\u001b[1;31m---------------------------------------------------------------------------\u001b[0m\u001b[1;31mOSError\u001b[0m                                   Traceback (most recent call last)\u001b[1;32m<string>\u001b[0m in \u001b[0;36m<module>\u001b[1;34m()\u001b[0m",
      "\u001b[1;32m<ipython-input-39-2b428062d17a>\u001b[0m in \u001b[0;36mtest\u001b[1;34m(x)\u001b[0m",
      "\u001b[1;31mOSError\u001b[0m: ",
      "",
      "... 1 more exceptions ..."
     ]
    }
   ],
   "source": [
    "data = range(15,20)\n",
    "\n",
    "## wrap the parallel job in a try statement\n",
    "try:\n",
    "    jobs = lbview.map_async(test, data)\n",
    "    results = jobs.get()\n",
    "except OSError:\n",
    "    print 'hit'"
   ]
  },
  {
   "cell_type": "code",
   "execution_count": 38,
   "metadata": {
    "collapsed": false
   },
   "outputs": [
    {
     "data": {
      "text/plain": [
       "[15, 16, 17, 18, 19]"
      ]
     },
     "execution_count": 38,
     "metadata": {},
     "output_type": "execute_result"
    }
   ],
   "source": [
    "data"
   ]
  },
  {
   "cell_type": "code",
   "execution_count": null,
   "metadata": {
    "collapsed": true
   },
   "outputs": [],
   "source": []
  }
 ],
 "metadata": {
  "kernelspec": {
   "display_name": "Python 2",
   "language": "python",
   "name": "python2"
  },
  "language_info": {
   "codemirror_mode": {
    "name": "ipython",
    "version": 2
   },
   "file_extension": ".py",
   "mimetype": "text/x-python",
   "name": "python",
   "nbconvert_exporter": "python",
   "pygments_lexer": "ipython2",
   "version": "2.7.11"
  }
 },
 "nbformat": 4,
 "nbformat_minor": 0
}
