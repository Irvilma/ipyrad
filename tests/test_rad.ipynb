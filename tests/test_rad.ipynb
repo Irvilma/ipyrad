{
 "cells": [
  {
   "cell_type": "markdown",
   "metadata": {
    "collapsed": true
   },
   "source": [
    "# _ipyrad_ testing tutorial"
   ]
  },
  {
   "cell_type": "markdown",
   "metadata": {},
   "source": [
    "### Getting started\n",
    "Import _ipyrad_ and remove previous test files if they are already present"
   ]
  },
  {
   "cell_type": "code",
   "execution_count": null,
   "metadata": {
    "collapsed": false
   },
   "outputs": [],
   "source": [
    "## import modules\n",
    "import ipyrad as ip                ## \n",
    "print \"version\", ip.__version__    ## print version"
   ]
  },
  {
   "cell_type": "code",
   "execution_count": null,
   "metadata": {
    "collapsed": false,
    "scrolled": false
   },
   "outputs": [],
   "source": [
    "## clear data from test directory if it already exists\n",
    "import shutil\n",
    "import os\n",
    "if os.path.exists(\"./test_rad/\"):\n",
    "    shutil.rmtree(\"./test_rad/\")"
   ]
  },
  {
   "cell_type": "markdown",
   "metadata": {},
   "source": [
    "### Assembly and Sample objects\n",
    "\n",
    "Assembly and Sample objects are used by _ipyrad_ to access data stored on disk and to manipulate it. Each biological sample in a data set is represented in a Sample object, and a set of Samples is stored inside an Assembly object. The Assembly object has functions to assemble the data, and stores a log of all steps performed and the resulting statistics of those steps. Assembly objects can be copied or merged to allow branching events where different parameters can subsequently be applied to different Assemblies going forward. Examples of this are shown below.\n",
    "\n",
    "Below is the command to create an Assembly object named \"data1\". It is created with default assembly parameters and without any Samples linked to it."
   ]
  },
  {
   "cell_type": "code",
   "execution_count": null,
   "metadata": {
    "collapsed": false
   },
   "outputs": [],
   "source": [
    "## create an Assembly object named data1. \n",
    "data1 = ip.Assembly(\"data1\")"
   ]
  },
  {
   "cell_type": "markdown",
   "metadata": {},
   "source": [
    "### Modifying assembly parameters\n",
    "An Assembly object's parameter settings can be viewed using the `get_params()` function. To get more detailed information about all parameters use `ip.get_params_info()` or to select a single parameter use `ip.get_params_info(N)`, where N is the number of a parameter. Assembly objects have a function `set_params()` that can be used to modify parameters, like below."
   ]
  },
  {
   "cell_type": "code",
   "execution_count": null,
   "metadata": {
    "collapsed": false
   },
   "outputs": [],
   "source": [
    "## modify parameters for this Assembly object\n",
    "data1.set_params('working_directory', \"./test_rad\")\n",
    "data1.set_params('raw_fastq_path', \"./data/sim_rad_test_R1_.fastq.gz\")\n",
    "data1.set_params('barcodes_path', \"./data/sim_rad_test_barcodes.txt\")\n",
    "data1.set_params('filter_adapters', 0)\n",
    "data1.set_params('datatype', 'rad')\n",
    "\n",
    "#data1.set_params(2, \"~/Dropbox/UO_C353_1.fastq.part-aa.gz\")\n",
    "#data1.set_params(3, \"/home/deren/Dropbox/Viburnum_revised.barcodes\")\n",
    "\n",
    "## print the new parameters to screen\n",
    "data1.get_params()"
   ]
  },
  {
   "cell_type": "markdown",
   "metadata": {},
   "source": [
    "### Starting data\n",
    "If the data are already demultiplexed then fastq files can be linked directly to the Assembly object, which in turn will create new Sample objects from them, or link them to existing Sample objects based on the file names (or pair of fastq files for paired data files). The files may be gzip compressed. If the data are not demultiplexed then you will have to run the step1 function below to demultiplex the raw data."
   ]
  },
  {
   "cell_type": "code",
   "execution_count": null,
   "metadata": {
    "collapsed": false
   },
   "outputs": [],
   "source": [
    "## This would link fastq files from the 'sorted_fastq_path' if present\n",
    "## Here it does nothing b/c there are no files in the sorted_fastq_path\n",
    "data1.link_fastqs()"
   ]
  },
  {
   "cell_type": "markdown",
   "metadata": {},
   "source": [
    "### Step 1: Demultiplexing raw data files\n",
    "Step1 uses barcode information to demultiplex data files found in param 2 ['raw_fastq_path']. It will create a Sample object for each barcoded sample. Below we use the step1() function to demultiplex. The `stats` attribute of an Assembly object is returned as a `pandas` data frame."
   ]
  },
  {
   "cell_type": "code",
   "execution_count": null,
   "metadata": {
    "collapsed": false,
    "scrolled": true
   },
   "outputs": [],
   "source": [
    "## run step 1 to demultiplex the data\n",
    "data1.step1()\n",
    "\n",
    "## print the results for each Sample in data1\n",
    "print data1.stats"
   ]
  },
  {
   "cell_type": "code",
   "execution_count": null,
   "metadata": {
    "collapsed": false
   },
   "outputs": [],
   "source": [
    "## remove the lane control sequence\n",
    "#data1.samples.pop(\"FGXCONTROL\")"
   ]
  },
  {
   "cell_type": "markdown",
   "metadata": {},
   "source": [
    "### Step 2: Filter reads \n",
    "If for some reason we wanted to execute on just a subsample of our data, we could do this by selecting only certain samples to call the `step2` function on. Because `step2` is a function of `data`, it will always execute with the parameters that are linked to `data`. "
   ]
  },
  {
   "cell_type": "code",
   "execution_count": null,
   "metadata": {
    "collapsed": false
   },
   "outputs": [],
   "source": [
    "## example of ways to run step 2 to filter and trim reads\n",
    "\n",
    "#data1.step2([\"1A_0\"])              ## run on a single sample\n",
    "#data1.step2([\"1B_0\", \"1C_0\"])      ## run on one or more samples\n",
    "data1.step2(force=True)             ## run on all samples, overwrite finished\n",
    "\n",
    "## print the results\n",
    "print data1.stats"
   ]
  },
  {
   "cell_type": "code",
   "execution_count": null,
   "metadata": {
    "collapsed": false
   },
   "outputs": [],
   "source": [
    "#data1.samples[\"veitchii\"].files"
   ]
  },
  {
   "cell_type": "markdown",
   "metadata": {},
   "source": [
    "### Branching Assembly objects\n",
    "Let's imagine at this point that we are interested in clustering our data at two different clustering thresholds. We will try 0.90 and 0.85. First we need to make a copy/branch of the Assembly object. This will inherit the locations of the data linked in the first object, but diverge in any future applications to the object. Thus, the two Assembly objects can share the same working directory, and inherit shared files, but will diverge in creating new files linked to only one or the other. You can view the directories linked to an Assembly object with the `.dirs` argument, shown below. The prefix_outname (param 14) of the new object is automatically set to the Assembly object name. \n"
   ]
  },
  {
   "cell_type": "code",
   "execution_count": null,
   "metadata": {
    "collapsed": false
   },
   "outputs": [],
   "source": [
    "## create a copy of our Assembly object\n",
    "data2 = data1.copy(newname=\"data2\")\n",
    "\n",
    "## set clustering threshold to 0.90\n",
    "data2.set_params(11, 0.90)\n",
    "\n",
    "## look at inherited parameters\n",
    "data2.get_params()"
   ]
  },
  {
   "cell_type": "markdown",
   "metadata": {},
   "source": [
    "### Step 3: clustering within-samples\n"
   ]
  },
  {
   "cell_type": "code",
   "execution_count": null,
   "metadata": {
    "collapsed": false
   },
   "outputs": [],
   "source": [
    "import ipyrad as ip\n",
    "data1 = ip.load_assembly(\"test_rad/data1\")"
   ]
  },
  {
   "cell_type": "code",
   "execution_count": null,
   "metadata": {
    "collapsed": false,
    "scrolled": false
   },
   "outputs": [],
   "source": [
    "## run step 3 to cluster reads within samples using vsearch\n",
    "data1.step3(force=True)\n",
    "\n",
    "## print the results\n",
    "print data1.stats"
   ]
  },
  {
   "cell_type": "code",
   "execution_count": null,
   "metadata": {
    "collapsed": false,
    "scrolled": false
   },
   "outputs": [],
   "source": [
    "## run step 3 to cluster reads in data2 at 0.90 sequence similarity\n",
    "data2.step3(force=True) \n",
    "\n",
    "## print the results\n",
    "print data2.stats"
   ]
  },
  {
   "cell_type": "markdown",
   "metadata": {},
   "source": [
    "### Branched Assembly objects\n",
    "And you can see below that the two Assembly objects are now working with several shared directories (working, fastq, edits) but with different clust directories (clust_0.85 and clust_0.9). "
   ]
  },
  {
   "cell_type": "code",
   "execution_count": null,
   "metadata": {
    "collapsed": false
   },
   "outputs": [],
   "source": [
    "print \"data1 directories:\"\n",
    "for (i,j) in data1.dirs.items():\n",
    "    print \"{}\\t{}\".format(i, j)\n",
    "    \n",
    "print \"\\ndata2 directories:\"\n",
    "for (i,j) in data2.dirs.items():\n",
    "    print \"{}\\t{}\".format(i, j)"
   ]
  },
  {
   "cell_type": "code",
   "execution_count": null,
   "metadata": {
    "collapsed": false
   },
   "outputs": [],
   "source": [
    "## TODO, just make a [name]_stats directory in [work] for each data obj\n",
    "data1.statsfiles\n"
   ]
  },
  {
   "cell_type": "markdown",
   "metadata": {},
   "source": [
    "### Saving stats outputs\n",
    "Example: two simple ways to save the stats data frame to a file."
   ]
  },
  {
   "cell_type": "code",
   "execution_count": null,
   "metadata": {
    "collapsed": false
   },
   "outputs": [],
   "source": [
    "data1.stats.to_csv(\"data1_results.csv\", sep=\"\\t\")\n",
    "data1.stats.to_latex(\"data1_results.tex\")"
   ]
  },
  {
   "cell_type": "markdown",
   "metadata": {},
   "source": [
    "### Example of plotting with _ipyrad_\n",
    "There are a a few simple plotting functions in _ipyrad_ useful for visualizing results. These are in the module `ipyrad.plotting`. Below is an interactive plot for visualizing the distributions of coverages across the 12 samples in the test data set.  "
   ]
  },
  {
   "cell_type": "code",
   "execution_count": null,
   "metadata": {
    "collapsed": false,
    "scrolled": true
   },
   "outputs": [],
   "source": [
    "import ipyrad.plotting as iplot\n",
    "\n",
    "## plot for one or more selected samples\n",
    "#iplot.depthplot(data1, [\"1A_0\", \"1B_0\"])\n",
    "\n",
    "## plot for all samples in data1\n",
    "iplot.depthplot(data1)\n",
    "\n",
    "## save plot as pdf and html\n",
    "#iplot.depthplot(data1, outprefix=\"testfig\")"
   ]
  },
  {
   "cell_type": "markdown",
   "metadata": {
    "collapsed": false
   },
   "source": [
    "### Step 4: Joint estimation of heterozygosity and error rate\n"
   ]
  },
  {
   "cell_type": "code",
   "execution_count": null,
   "metadata": {
    "collapsed": false,
    "scrolled": false
   },
   "outputs": [],
   "source": [
    "## run step 4\n",
    "data1.step4() \n",
    "\n",
    "## print the results\n",
    "print data1.stats"
   ]
  },
  {
   "cell_type": "markdown",
   "metadata": {},
   "source": [
    "### Step 5: Consensus base calls\n"
   ]
  },
  {
   "cell_type": "code",
   "execution_count": 1,
   "metadata": {
    "collapsed": false
   },
   "outputs": [
    {
     "name": "stderr",
     "output_type": "stream",
     "text": [
      "DEBUG:ipyrad:H4CKERZ-mode: __loglevel__ = DEBUG\n",
      "INFO:ipyrad.core.parallel:Local connection to 40 engines [ipyrad-37913]\n"
     ]
    },
    {
     "name": "stdout",
     "output_type": "stream",
     "text": [
      "Loading Assembly: data1  [test_rad/data1.assembly]\n",
      "ipyparallel setup: Local connection to 40 engines\n",
      "\n"
     ]
    }
   ],
   "source": [
    "import ipyrad as ip\n",
    "\n",
    "## reload autosaved data. In case you quit and came back \n",
    "data1 = ip.load_assembly(\"test_rad/data1.assembly\")"
   ]
  },
  {
   "cell_type": "code",
   "execution_count": 2,
   "metadata": {
    "collapsed": false,
    "scrolled": false
   },
   "outputs": [
    {
     "name": "stderr",
     "output_type": "stream",
     "text": [
      "INFO:ipyrad.core.assembly:try 29: starting controller\n",
      "INFO:ipyrad.core.assembly:connected to 0 engines\n",
      "INFO:ipyrad.core.assembly:connected to 0 engines\n",
      "INFO:ipyrad.core.assembly:connected to 0 engines\n",
      "INFO:ipyrad.core.assembly:connected to 0 engines\n",
      "INFO:ipyrad.core.assembly:connected to 0 engines\n",
      "INFO:ipyrad.core.assembly:connected to 0 engines\n",
      "INFO:ipyrad.core.assembly:connected to 23 engines\n",
      "INFO:ipyrad.core.assembly:connected to 23 engines\n",
      "INFO:ipyrad.core.assembly:connected to 23 engines\n",
      "INFO:ipyrad.core.assembly:OK! Connected to 40/40 engines\n",
      "DEBUG:ipyrad.assemble.consens_se:chunking len:97, done:0, num:1\n",
      "DEBUG:ipyrad.assemble.consens_se:chunking len:97, done:0, num:2\n",
      "DEBUG:ipyrad.assemble.consens_se:chunking len:97, done:0, num:3\n",
      "DEBUG:ipyrad.assemble.consens_se:chunking len:97, done:0, num:4\n",
      "DEBUG:ipyrad.assemble.consens_se:chunking len:97, done:0, num:5\n",
      "DEBUG:ipyrad.assemble.consens_se:chunking len:97, done:0, num:6\n",
      "DEBUG:ipyrad.assemble.consens_se:chunking len:97, done:0, num:7\n",
      "DEBUG:ipyrad.assemble.consens_se:chunking len:97, done:0, num:8\n",
      "DEBUG:ipyrad.assemble.consens_se:chunking len:97, done:0, num:9\n",
      "DEBUG:ipyrad.assemble.consens_se:chunking len:97, done:0, num:10\n",
      "DEBUG:ipyrad.assemble.consens_se:['>2G_0_41232_r1;size=17;*\\nTGCAGGTGGGATTGCTTCAAAGTCTGTTCCGGGAGCTGCCAGGCCAGTGCTAGTCATTGGACCCCTTGGGTAACCCCACGTGCGGCATGGTTAT\\n', '>2G_0_72050_r1;size=20;*\\nTGCAGAACGCTTAGAGATACAAAGTCTTACGGATATCAAATAATAATCTCTACCGCGTATGTTTAACATCAGTTTTGACGGGACGATGGTAACG\\n', '>2G_0_20820_r1;size=22;*\\nTGCAGTGTCATGCTCCGTCGTACATAAACTCCGAACGTCGGCGATCTGAAACCGAGTATCGTACCGTCGCCCCTACCGAAGCGCATATCTGTTT\\n', '>2G_0_51281_r1;size=23;*\\nTGCAGGCGATACCGGAAGAACGGGTAACTTCGGTTCGCGTACATTGTTTCTCAGGCCATTATAGTGCTGACATTGCAGCCCATCGTGAGAGGGG\\n', '>2G_0_71226_r1;size=18;*\\nTGCAGCTAAATGCCTTTTTAGACTGCTTGGACAACTTCAGTTGGTTCGCTTCTACCTTCAATCTTTCCCTAGCTGACATGCACCCTGGAGGCAA\\n', '>2G_0_22323_r1;size=18;*\\nTGCAGGCTTCGATGTGTGTTGCTTGCGGATTTCTAGGATTTCAAGCAGGAGGCCTGGCAAAAGCCTGTGACTAGGCCACGTTGTTGTGGAGCCT\\n', '>2G_0_20201_r1;size=23;*\\nTGCAGACGGGAAACTTTAAAAAATAAAGCAATTGCTGCCATCTATGGGCGATTTGAATGGGTTTTTTAGTGCCTCTACTATTAATTATGTGATT\\n', '>2G_0_2463_r1;size=20;*\\nTGCAGTCCGGTTGCGAGTAGATGGGATTTAGATCGCTGAGCGCATCGATTCGATGGTTCGGGTGAAAGCAGCGTTCCTAGTTGGTGCCTCCCTT\\n', '>2G_0_20702_r1;size=22;*\\nTGCAGGTAGCTCTTCGATGAGATATCCGTATGGTACTCTCGTCAGTAGTGTCAAGTGATCCATGTCTGGATCATAACTGGTAAGCCCTCTAATA\\n', '>2G_0_42349_r1;size=17;*\\nTGCAGCGCTTCAGAACGCTGTGCAAGTCGCTGCACCTTAGTCAGTTTTTCGCAGGAATTATCTCTAACTCCGCCCTACCCGAAAGCCGGTTGTC\\n', '>2G_0_30047_r1;size=18;*\\nTGCAGAAGCGGAGGATAAGTAGATTTCGGTGCGGGAGAAAGAGTTATGGGTAGATCGCGGAGCCAGCTATGAGTGAGTCTTGCTTATGGATGAG\\n', '>2G_0_50535_r1;size=17;*\\nTGCAGGTACGAGAGAGGAATCTTACCCAGTCTATACAGGTCCCTCGCACCGTCGCGGCCACCATGGCTGAAGGAAGGGTTGCACTGGGCGCCGC\\n', '>2G_0_52197_r1;size=19;*\\nTGCAGACGCTACGTCCCACTGAGTAAGCACGAAATCCGATAGTGTTCTAAATTAGGGAGCCGATGATGCGGCTGAATCTCTCTACATTACCGGG\\n', '>2G_0_60909_r1;size=21;*\\nTGCAGCTAACCAGGTCAGCTTGACCACTTTCCAAAGCGCCAAAATTATGGACGTGCCCTCGATCAACGCATTGTTGCCCGGTTTTCAACTCAAG\\n', '>2G_0_42384_r1;size=23;*\\nTGCAGGTGTCGCACACGTCAGTCTGTTGTACAACTACCGAAACTTAACTGTTTAGTAGTCCAGAGCCTGTAGAGAGGTGGCCATTGGTATGGTT\\n', '>2G_0_30065_r1;size=19;*\\nTGCAGCAAGCCTAGGTTTTCTCTATTATAGTTATCGGAATATCCGATCATGGTCTTAAGAGCAGTTTGACGATTGGATGTTCGCAAAGATTGGG\\n', '>2G_0_30152_r1;size=26;*\\nTGCAGATTAGATAGGGTAGATGTCGGGAGGAATCAAGGTTTTCGATTTGCTACCATGCCGATGGAGGTAGGCATTTGCTCTTGAGGCAAAGGGG\\n', '>2G_0_42366_r1;size=18;*\\nTGCAGGCTTATTATCAGTCCAATTGCAGCTTTGTAGTACGTATCCGGGGAGTAATGATTGGATTATGAATGCGGATGCACATGTTGCCTGGACT\\n', '>2G_0_72337_r1;size=19;*\\nTGCAGGACTCTGCGTAGGCGTAGACACAGCGCGGGGTTATCAACAAAGGGATGAGCCTAGTGTATTGGACCATCTGTCAGCTCATTCGGCGCAG\\n', '>2G_0_11389_r1;size=21;*\\nTGCAGCCGAAATGCGAAAACACTGTCCTCGAGGTTCAATGACGCTTGGTAGCTTTTAAGTATCTAGACGTCCCATCTACATTAGACCCTTAAAA\\n', '>2G_0_51424_r1;size=16;*\\nTGCAGTACGGGATTTAGTGTGAGGGTTCCAGCATTTGACCGGTCCCAAAGGCTAGTCAGAGGACTAGATGGAGAGGGATATGTTTAATTTGGAG\\n', '>2G_0_1636_r1;size=19;*\\nTGCAGTTAACCCGTGAGGCTATGGGGCTGATACGCTAAGCAAAACCATCGCGCTATAAAGTCACCGTGTTAAAAAATAGCCACCAAACTGCCTG\\n', '>2G_0_50590_r1;size=16;*\\nTGCAGGTCCGATACTTGGTGCTGCATGGGGATGAATACTGTTATACCCGCAGATCTCAGTGCTCTAATAAAGGTCAAGAGCGATTGGGTAAATC\\n', '>2G_0_10046_r1;size=24;*\\nTGCAGTTAGACTAGCGGTTTGTTTTGCACGCCTCGATAGACGGCGACTTCCTAGGGTTACACAGAGCCGAACGCACACCACTCTAGCTTACCTT\\n', '>2G_0_22358_r1;size=20;*\\nTGCAGCCCTTCTACCCCTTAGTAGGCTCTGCACCGATCTCTTGACGCCGATCGTAACTGGGCCACTTATACCTGGAGGCCTGTGCAGTTCAATA\\n', '>2G_0_31578_r1;size=22;*\\nTGCAGACTGGGAAGCAGGAGCAATACGAGCTCCACACTTCCTATTCCGCACCACCGTCGAATTTACAAGACGTCTGGTATGGGGCGAATTGACA\\n', '>2G_0_41647_r1;size=22;*\\nTGCAGAGTAGAGCTCCGATAGACGTACTTGGCGTAGAGGGATGTGAGCATACGAATCGATTCACCACTGTTCCAGCGTTAGATGACAGCCCGAC\\n', '>2G_0_1585_r1;size=16;*\\nTGCAGCGCCTTTTCCAGTGTGTGATAAATATCGCGGGAACATACACCCGCTCGTGGTCCCTGCCGATGATGTCGACGGACCCAGGTGAGTCTTA\\n', '>2G_0_30204_r1;size=16;*\\nTGCAGCGTAACCGTGCCCCCGGCCATATATGTGTAGTCTTGTTAGATTGGGGTAATGATTCGACTGAAAGCTAATACGCGTGAAACGCAGAGTT\\n', '>2G_0_61816_r1;size=17;*\\nTGCAGGGTATCAATAGGGCTACATATATTACGTTAAATCCCGACTTCTTACACAACAGACAGAACATTAAGCCACGCCTTTGGGCCTTTCGTAC\\n']\n",
      "DEBUG:ipyrad.assemble.consens_se:chunking len:30, done:1, num:11\n",
      "DEBUG:ipyrad.assemble.consens_se:1\n",
      "DEBUG:ipyrad.assemble.consens_se:chunking len:97, done:0, num:1\n",
      "DEBUG:ipyrad.assemble.consens_se:chunking len:97, done:0, num:2\n",
      "DEBUG:ipyrad.assemble.consens_se:chunking len:97, done:0, num:3\n",
      "DEBUG:ipyrad.assemble.consens_se:chunking len:97, done:0, num:4\n",
      "DEBUG:ipyrad.assemble.consens_se:chunking len:97, done:0, num:5\n",
      "DEBUG:ipyrad.assemble.consens_se:chunking len:97, done:0, num:6\n",
      "DEBUG:ipyrad.assemble.consens_se:chunking len:97, done:0, num:7\n",
      "DEBUG:ipyrad.assemble.consens_se:chunking len:97, done:0, num:8\n",
      "DEBUG:ipyrad.assemble.consens_se:chunking len:97, done:0, num:9\n",
      "DEBUG:ipyrad.assemble.consens_se:chunking len:97, done:0, num:10\n",
      "DEBUG:ipyrad.assemble.consens_se:['>3K_0_51195_r1;size=22;*\\nTGCAGTATCGGAAGTCTGCCAAATGGGCTTTGCCTCTGGATAAAGACGTGAGTTCCGCTTGGACCCAAACGGTTCGCGCTGTGAGCGAGCCGGT\\n', '>3K_0_42346_r1;size=26;*\\nTGCAGCGCTTCAGAACGCTGTGCAAGTCGCTGCACCTTAGTCAGTTTTTCGCAGGAATTATCTCTAACTCCGCCCTACCCGAAAGCCGGTTGTC\\n', '>3K_0_60678_r1;size=21;*\\nTGCAGCAAAACAGAGGTAATTGATGTCAAATTCAAACGCATGTATTGGTCTGCTTGTGCGTCTTTCTCCCCCTTAAGCAGCTACAGAACTGGCG\\n', '>3K_0_51760_r1;size=22;*\\nTGCAGAATCCTATCAACAGGTAGCTCCACGATAGACATATTAATATAAAAAAAGATGCCCGATTATGAGGGTGAAAATGTCAACGAATAACTGG\\n', '>3K_0_31052_r1;size=22;*\\nTGCAGTTCTACATAAGGCCTAACTTGATCTGAACAGTCACCCAGCCCGTTCGGGGCCGGCTGCCGCGAGATAACAGACCCCCCATCCATACGAA\\n', '>3K_0_21826_r1;size=19;*\\nTGCAGGGCCATTATAGCAGTGCGAATTGTCTGGTACCGTACCAGTGAGTCAAAAGACAAGATAAAATAGTTATACATGTTTGGCCTGTCTAGAG\\n', '>3K_0_10397_r1;size=20;*\\nTGCAGCCCATCCGCGCCACCTAGTTAAGGGAAAGAAAGACTCTAGTGGACGAACACACAACTGGTCCACGTCCACGCGAGCCGCTGCTACCGAG\\n', '>3K_0_31819_r1;size=18;*\\nTGCAGAAGACCACGGCCCCCTCGGCCGGCCTGTAGTAGCCTTGCTCGGATTCGATGGTCAACGGGTGACAATGTTTTGTGCTGCAGCGGTACAG\\n', '>3K_0_42073_r1;size=20;*\\nTGCAGTTACAGAAGTCACAAGGCCATACGCGACAAGGTCTGAAGAATATGCAACTGGCCCTGCTTGCAGCTATTGGCTGTACGATTCCAACAGC\\n', '>3K_0_21882_r1;size=17;*\\nTGCAGGCGATACCACGATCCATGGTAGATGTCCAAGAGCACTGTCGCTTACGGTACATATTCTAACCTGCAGATAGTTCAATTCAAAGTTATCT\\n', '>3K_0_12152_r1;size=18;*\\nTGCAGTCGGGACGTGGCAGTCGAACGTCACTCTAATCAGCCACCCATAATAGCGCAGGAGATTCGAGGACGCAAGCAACCTTTCAAGTGGGGTT\\n', '>3K_0_50762_r1;size=18;*\\nTGCAGTTTGACTAAAGCAGACCGTCCTCAGGACTCCTCTCCCACAGTATTCTTCTCAGTGCGTAGGCCCCTTCGGCGTTCAGGAAGGACGAACT\\n', '>3K_0_60487_r1;size=20;*\\nTGCAGCCGGTTGTGTGTCTCTAACTCCCTCGGGAGCGGTTTCCCTCAATTACCAGTTAATTACTTGTCTTGCCACCGTTCACGCTTTGGATGTT\\n', '>3K_0_30483_r1;size=24;*\\nTGCAGACTGGGAACGACGGGCTTAGTCTATAGCCGTACGCACATCACCCTAGGAACTCGTACCCCTCTAGCAACGTACGCGGTCATGTTACTCA\\n', '>3K_0_40482_r1;size=23;*\\nTGCAGCAGCCGTGCGCTCACACCCTATGACCGACACTGGGTTTGAGCGAACAGATGTACCCATCCAAGCTTGAGATCTAAATAGTGTACTGAAT\\n', '>3K_0_40664_r1;size=17;*\\nTGCAGCGTTACGCTCCTAGGGAACGTCCACGTCTCGGCAGTCGTCAGGTACTTTTAGCCTCTTGCCGCGCATCTCATGGGAGCAACGTGAGCCT\\n', '>3K_0_21130_r1;size=17;*\\nTGCAGATGTAGGGTTATCCGAGTGGCGACCAACCTGACGTCTGCGCTAACGACGAGGCCTCCCCGGTGACCTGCATAGCAAATCGACGTCGTTA\\n', '>3K_0_80002_r1;size=22;*\\nTGCAGGGCACTAGGTTCGAGCTGGGAGGCAAACAGACAGAATCGAGACGGGCGAGCTATAAATCCTGTGTTCAGTGCGTACGACGGGGTGTGCA\\n', '>3K_0_30507_r1;size=17;*\\nTGCAGGTGTCCATGCGGGAATCTATTTTCAGGGGCAACTTACGATGTCCGTCTATGTCGTGCTAAATACCAACGACCTACTACCCTAGGCGGGA\\n', '>3K_0_60823_r1;size=14;*\\nTGCAGTGATACAAAGGGCGACACACGCGTATTGCCAGGCTGGATAGCGGGAGGGAGAGCCCAGGCTACGCACTAACATCGTGATTCGCGATATG\\n', '>3K_0_51240_r1;size=17;*\\nTGCAGGAGAGACTTCATTCAGAGGACCAACACTGAGTTGGAAACTCCGTTCTACCATCCGGGCTCGGTTGGTCCTTCGGTCTATTAACTTGGGA\\n', '>3K_0_61297_r1;size=20;*\\nTGCAGGGGTTGTCAATCCTTCGGAGTACGCCGGTAAGATAGTCTCTACTGTTGTAAAACAATTTTTCTTTAAATGAGCTCGACGAGAGGGCGTT\\n', '>3K_0_31636_r1;size=20;*\\nTGCAGACTGGGAAGCAGGAGCAATACGGGCTCCACACTTCCTATTCCGCACCACCGTCGAATTTACAAGACGTCTGGTATGGGGCGAATTGACA\\n', '>3K_0_31153_r1;size=21;*\\nTGCAGCCCTAAGGCGCGTCATACCCCTATTCATGGATCAAAAAGAAACTTTGTCTCAGAGGAATATAGGGGTCGGTGGGCAATATAAGTCCGGG\\n', '>3K_0_60129_r1;size=18;*\\nTGCAGACGAGCCAATCGCCCAGCAACTAGACTGCATAATGCTTATCATGTTTTCGGATAGATGACACATAGAGGTCCGTTTTTGACAACCATCA\\n', '>3K_0_71594_r1;size=16;*\\nTGCAGACTCAGAACACTACCCCGCCCGATTAGCGTAGCTGCCTTGTCCGCCTCTTTATCTAGTCTCACTACTCCACTTGCCTATATAAAAACCC\\n', '>3K_0_32490_r1;size=19;*\\nTGCAGTATATGGTTGGAAACGACCGTCATGGAGGAAGTCGTGGCACTATATCGCACAATCTCAGTACGGGCAAGATTGTGCGCTCTGCTCCCGT\\n', '>3K_0_30643_r1;size=18;*\\nTGCAGATTTGTGTTCCTGCATCGATTTCGATCTATCCGCGCGTAGACGCAAATCCCACGTTGAGTGCAGTCAACCCTAACCGCAGCGGCGTTTA\\n', '>3K_0_50801_r1;size=24;*\\nTGCAGTGGGGTCAGGCAACGGATAGTTGATTCGACTTGTGCTTGCCTAGCGATTCCTGTGGGGTGGTGCCAATATGGCAAAACCATCAAGCATA\\n', '>3K_0_20225_r1;size=18;*\\nTGCAGCTTCAGTCCGCGATTAGACCAGCTCTATTTAATTCCGGCCCCTATAAGTTCATATCGCCATTATATTCCACCTTACCGGTAAAAAGATC\\n']\n",
      "DEBUG:ipyrad.assemble.consens_se:chunking len:30, done:1, num:11\n",
      "DEBUG:ipyrad.assemble.consens_se:1\n",
      "DEBUG:ipyrad.assemble.consens_se:chunking len:97, done:0, num:1\n",
      "DEBUG:ipyrad.assemble.consens_se:chunking len:97, done:0, num:2\n",
      "DEBUG:ipyrad.assemble.consens_se:chunking len:97, done:0, num:3\n",
      "DEBUG:ipyrad.assemble.consens_se:chunking len:97, done:0, num:4\n",
      "DEBUG:ipyrad.assemble.consens_se:chunking len:97, done:0, num:5\n",
      "DEBUG:ipyrad.assemble.consens_se:chunking len:97, done:0, num:6\n",
      "DEBUG:ipyrad.assemble.consens_se:chunking len:97, done:0, num:7\n",
      "DEBUG:ipyrad.assemble.consens_se:chunking len:97, done:0, num:8\n",
      "DEBUG:ipyrad.assemble.consens_se:chunking len:97, done:0, num:9\n",
      "DEBUG:ipyrad.assemble.consens_se:chunking len:97, done:0, num:10\n",
      "DEBUG:ipyrad.assemble.consens_se:['>3J_0_71369_r1;size=18;*\\nTGCAGCGGCATCCTCTCACCATACTACTATGCCCATACTCTCGGGTGTAGCGGTGCGCCACCTTATAGCTAACCACGCAAGAACGCTACGGAGC\\n', '>3J_0_41127_r1;size=20;*\\nTGCAGGGGACTTGTTCTGGAGGGTGGGTACATTCGGCTGCTCCGAGGCCCCTATTCCGCGTCGTGCGGGTGTACGTTAGCGACCTATAACGATA\\n', '>3J_0_41985_r1;size=23;*\\nTGCAGAAAGCCTTGGAGCTGCTTAACGTGCTCGGGTCGAAGCGTGGTTCATCACAAATCGATGCCCGGTCGGTCGCCCTTGTCCAATGGAGCGC\\n', '>3J_0_533_r1;size=17;*\\nTGCAGACAAGCTCTCTAACGTCTACCCGGGAATAGTGAAGCTACAGGCGGGTCAGCCGCTCGTAGAAAATCAGCTGCGATTTGACCTGACACGC\\n', '>3J_0_20731_r1;size=20;*\\nTGCAGGTCCCATGTATCCATAAAAGAAAGTCGTAGCTAAGCCTCACCATGTCAACACGTGGCTATGCAGGTCTCCGCCGGGCGCAAATTGTGTT\\n', '>3J_0_41910_r1;size=17;*\\nTGCAGTGTGGCACTCTAACCGATACATTATTATGGCCAGGTCGGTGCACTGATCTGGTACTTAGGCGCTTTCCGCGAAAGTTCCTGGTCAGGGA\\n', '>3J_0_31514_r1;size=16;*\\nTGCAGGGCCGGTGTATTCATGAATTCCGTATCCCACAGGGTAAACAGTAGCACCCGTTAAAATTGGGCTCCACCTTCAAATAAATAGTCTACGC\\n', '>3J_0_40_r1;size=21;*\\nTGCAGTCATTGACTCCATTCCTCGATCGCTAACGTTCTATCTGGGCGAAAACTGATCCCATGGTCAAGATAACCCCCGGCATTCATACCGCAGA\\n', '>3J_0_981_r1;size=20;*\\nTGCAGCAAAATGCTGACGACAATAAAGAGCTCTTCCGAAGAGTATCACCGCATAGTGAACGCGTGGTTGGCAAAAAACGTCGTATCTGGTAGTC\\n', '>3J_0_31471_r1;size=18;*\\nTGCAGAGCGCCTCTGTTATTTATCTGCGAGGTCTGTCGGAAAGGTCGGAGACAAGATTGCCATCTAAATAGTCTGGTGTGGTGTAGTACGTCGG\\n', '>3J_0_21557_r1;size=21;*\\nTGCAGCATACCATACTTACAGAACTCGCCGAACCAGACATACCTTTTATCTCGGATACTTCGCCACTACCACGCATACTACCCATTGGACGCGA\\n', '>3J_0_10267_r1;size=20;*\\nTGCAGGCCTAAAGTCCGTTGTCTACCGCTATCACTTAAAATTCGTTCTAATCAATGGCGGCACTTACAAATCAACTCTTATTCCCAAGGCTCGC\\n', '>3J_0_60348_r1;size=18;*\\nTGCAGCTTGAGGTATGCTGGGGGGGAACATACTCTCACCGTATGCAGCGAGAGTCCTAGCCACAGAGACTGCAAAGTGGGGTTTGTCGGACGTC\\n', '>3J_0_22276_r1;size=25;*\\nTGCAGTCATCTTAAAAAGATCCAGTTCTATTGGTTATGCTTCCCCTAGCGGATCGCTGGTCCCTCTCGGAGCGACAGCCCGATTACACAAGGCC\\n', '>3J_0_61740_r1;size=22;*\\nTGCAGCATCTAAACCTATGCTCCATACGCGCATCCGTAGACGACGCTGGGAAGAACACGCGGATCAATCACGTCTAGGTGGGGGGTGATTTCAG\\n', '>3J_0_32195_r1;size=24;*\\nTGCAGACGGATTCAGGATCGTGCCATATAGTGGTGGGCGACCATCAATTTCGACAACAAGCGAGCGTGGCTTCGATTTACATGACCGGAGTACT\\n', '>3J_0_81_r1;size=20;*\\nTGCAGGAGACCTCGAACGTGTCGGACGGCTAATCTGCACTCAAGCATGCAGATGGGCATGTAACCTAGGTTGAAGGAGGCAACGCGTAAACTGT\\n', '>3J_0_30718_r1;size=22;*\\nTGCAGACTAAACGCAAGACTGTATGAGACCGCTCGCGCGCTACTTGAGGATACCTACCGCCTAGGATTTGTGATATTCGTTGTGCGAATGACAC\\n', '>3J_0_51773_r1;size=21;*\\nTGCAGAAGTCAAAAAGCAGGCAACTACGCTAGCGTAGCAGCGCCCGAAATTGTACACCATTTGTTGGGTTGGCGAGGGAAGAGGTGGAGATGAC\\n', '>3J_0_41799_r1;size=18;*\\nTGCAGACACTCGTTAGCGCGAAGATAGCGCGTACATAGGGCGCATCACCTCAGTAGTTAATACTGGTTTCTTCCAGGATTTTGCGCCCCCCTGG\\n', '>3J_0_41023_r1;size=18;*\\nTGCAGCCTCGTGTTAAGTATCAGGGATAGATCGCGAGCGAACTCATGTACCGTACAATCCAAGAATGGAAAATTGGTATTTGTCGTAACAATGG\\n', '>3J_0_11937_r1;size=17;*\\nTGCAGTGGGAGTGAATCACCGCCCTGAAATCACGTTTGGTGGCGGACAGTATGGTGACCTGCGTCAGTCTAGCCGGCGATATTTTCTTAAGCGT\\n', '>3J_0_60448_r1;size=17;*\\nTGCAGGGGTGGCTGTGAATTTTGTAATAGTATGTTAGCAGAAACGCCATTCACGGGAAATGCGCGCTTGGAGGTCCGAATAATGCCCGGACCCA\\n', '>3J_0_10443_r1;size=21;*\\nTGCAGATATCCTAATAGACCAGTTTTTAGTATCTGTAGGTCACTTGGATGATCCAATGTTTTGTGGCGCATAAATCCTAGTACGACCAGGACTC\\n', '>3J_0_30779_r1;size=19;*\\nTGCAGGAGGTATCTTTCAAGCTAACGGAGCACTGAGTTCCATGTATAATGTAACATTTACACCCACTTGGGCGGGACATACTGCTCATTGGTTT\\n', '>3J_0_41325_r1;size=22;*\\nTGCAGTTATCCTACCACCGGCGTATACAAGCCGTATGCCCAGGCCCATAGGTATCGGTCTGAGAACACCAACGGCTAAGATTCTACTATACCTC\\n', '>3J_0_11566_r1;size=23;*\\nTGCAGATCAGTACTAATGACTCATTGCCTGTTCTGGTGGTCCTGGTGGCGGAAACCGCCTCTCCCCCCTTCCTCGAACGCACACGATAGATTTA\\n', '>3J_0_31815_r1;size=20;*\\nTGCAGTCCCAGACGCTCGTGCCCAGTCTGGCTGTCGCTAATAGACGTAATCTGTCCGCATTAAGCGTGGCTCCCACTGAGCAGCTTCAATGCCT\\n', '>3J_0_11769_r1;size=20;*\\nTGCAGCCCCATCGCCAAACGCTGGTGAGGAGGAGTGGGGCGAGCTTCCGCGGTTAAAAGTAATGTCCAAACAAGAATCCGTAGCTACTGTGTTC\\n', '>3J_0_10155_r1;size=19;*\\nTGCAGGTGCGTAATAATTGCGAATGATCGGCGAAAACGGAATAATCTGTACGTCCGTGGACTTTCTAACGGTCTTAATCCAGCCGTCTCGCCAC\\n']\n",
      "DEBUG:ipyrad.assemble.consens_se:chunking len:30, done:1, num:11\n",
      "DEBUG:ipyrad.assemble.consens_se:1\n",
      "DEBUG:ipyrad.assemble.consens_se:chunking len:97, done:0, num:1\n",
      "DEBUG:ipyrad.assemble.consens_se:chunking len:97, done:0, num:2\n",
      "DEBUG:ipyrad.assemble.consens_se:chunking len:97, done:0, num:3\n",
      "DEBUG:ipyrad.assemble.consens_se:chunking len:97, done:0, num:4\n",
      "DEBUG:ipyrad.assemble.consens_se:chunking len:97, done:0, num:5\n",
      "DEBUG:ipyrad.assemble.consens_se:chunking len:97, done:0, num:6\n",
      "DEBUG:ipyrad.assemble.consens_se:chunking len:97, done:0, num:7\n",
      "DEBUG:ipyrad.assemble.consens_se:chunking len:97, done:0, num:8\n",
      "DEBUG:ipyrad.assemble.consens_se:chunking len:97, done:0, num:9\n",
      "DEBUG:ipyrad.assemble.consens_se:chunking len:97, done:0, num:10\n",
      "DEBUG:ipyrad.assemble.consens_se:['>2E_0_97_r1;size=26;*\\nTGCAGCATGAAGAAGCGTAGAACTTGTGGGCGGTCATTCGACCATTCCTCGAAACATTGAATACTTGTGGGAAGTAATCCCTGTTATACGCGGT\\n', '>2E_0_40985_r1;size=26;*\\nTGCAGAGGCGCCGTGGTCCCTGCGGATATTCGCGCCATTTACATCCGTTAGTAGAACGACTGTCGTCACTGAGGAGCCCCCTCTCGATGACAGA\\n', '>2E_0_11407_r1;size=20;*\\nTGCAGTTAGACACTGAGTACCCGTCAATTGTCATAAGCACCCACGTGCATTCCAATAGAGACTGCCGGAACCGAATGCCTGCTCCACTTAGTAC\\n', '>2E_0_181_r1;size=19;*\\nTGCAGCTTAGGGTGTATTTACACAGCTATATCTTCCATTCCCATTGCATCAACCTGTAAACACTCGTGGAGGCTAGATGTGCGCCTGTGGTAAA\\n', '>2E_0_31732_r1;size=25;*\\nTGCAGAAGACCACGGCCCCCTCGGCCGCCCTGTAGTAGCCTTGCTCGGATTCGATGGTCAACGGGTGACAATGTTTTGTGCTGCAGCGGTACAG\\n', '>2E_0_785_r1;size=20;*\\nTGCAGTGATGTTTACAAACCATACTCACTGCGTCACATCTGTCTGACACGGCTTGTCACCACAGGGACAACAGTACTGATTATACGCCTTTGCA\\n', '>2E_0_20820_r1;size=23;*\\nTGCAGCACGTGATATCTCCTCTACCGGCCGACCGTACAGTTTTTGGTTAACACAAGGTTATAATGGACTGATCCACCGATCCGTTCTAGCAGAG\\n', '>2E_0_12487_r1;size=17;*\\nTGCAGCTCAATTTCCGATGCGCGCTCCATCGCGAAAATCAGGGTTCCCCAGGGATAGTAAGTCTATCTTATCGCATGTCGTACCGATTAGCTTG\\n', '>2E_0_40479_r1;size=22;*\\nTGCAGTGTTGCGGTCACTCGGTGTGTCGACGAGGCTCTCATCGCAATGGCCGAGCGTAGACAAGTATGCAACGCTTTCGTTCTGAGCCTACACG\\n', '>2E_0_20087_r1;size=16;*\\nTGCAGATCATCATCTTTCGTTCGCTATCTTTTGACCTATCTCTGTTAAAGTCACATTTGCTTCGCAAGGTAGTACAGCGATGTGTGCGCGCGCA\\n', '>2E_0_41705_r1;size=24;*\\nTGCAGTTCAAGGCCGGTGGCGTGCTAGGGGCGCTTCTAGCCCCTTAATCTAGTCCGCGACGCGTGAGGGTCCCGGTTAGTGAGGTTGGGTACAC\\n', '>2E_0_31202_r1;size=20;*\\nTGCAGCCTTCTCTGTTGACGGGCCACTGAGAGATTCCGCCGTTGTCCCATACTAGAGAAAATAAATGCGATCCTATCAGTTCCAAGCGTTATGT\\n', '>2E_0_21164_r1;size=17;*\\nTGCAGGTTTGAGCCAGCGCCGTAGAGTCGACACCTCGTCGCGATGCTCCCGTTTTCTAAGAGTCGTCAAGTACCAGGGACTAGCTCTACCCGTC\\n', '>2E_0_62019_r1;size=18;*\\nTGCAGAACATGCCGGTTCCAGAAACTCTCTGTAGTGGCACTATTCATGGACCGGAGCCTCTATCCTGCCCAACTTGTCCACGCGATGGAAAATT\\n', '>2E_0_12273_r1;size=19;*\\nTGCAGACATTCCCGGCCAGCAGTGCTATCTGGGTAAGAATATCATCCACTGTCGGCCATATAGCCCTACTTCTCCCTCCGAAGGTTCACGATTT\\n', '>2E_0_10711_r1;size=19;*\\nTGCAGTAACGTTAGCATTGATTTATCCTAGGCAACGTAGCCCTAGGGATCACCGCGCGATGCAGATCTGAAGCGGGTGGATCCATTAATCTCAC\\n', '>2E_0_21772_r1;size=24;*\\nTGCAGTACAAGACGAGGTATCAGTCGGTTACGCTACTTTCTCAGGAAACTGCTCCTGCACTGTATTTCGCTGTGCACTACATAAAGGATCGCAC\\n', '>2E_0_31976_r1;size=19;*\\nTGCAGGGACGTCAAGTATTAATGTACAAGCGGTTATCATATTCAAAAATCCCGATTTCGACGCCGCTTCTAAGAACGAGCTCGTTCCGGGATAA\\n', '>2E_0_51085_r1;size=17;*\\nTGCAGTCGATCGGATCCGTCGAGGCAAAGTGCACGTCCGTCACCACTTCTGGTGTAGCCCCCATGGAGTTCCTGTATAAACGACACGCGTCGTC\\n', '>2E_0_21696_r1;size=19;*\\nTGCAGTTTTAAGCTCCTAAGAGTAACGTTACGAACCCCCTATCGCGGTTACAAGGTGCGAACGCCACAAGACAAGTGTACGGTGTTACAGCAAA\\n', '>2E_0_30307_r1;size=19;*\\nTGCAGCCGACACTGTGCCTGTCACGTCCGACACGCGAGAATAACAGTCTGCATATACATTGGGCTCCCCATGGCTAGGAGGACTTAACCCATGC\\n', '>2E_0_22431_r1;size=15;*\\nTGCAGCCCAGGTCATCAAATACCTCTCCGGATTGACAGATTGGTTTTGAAGCCGCGCACCCCAAGCCACTTTTTTGGCACGACGGGCGTCCTAG\\n', '>2E_0_71745_r1;size=21;*\\nTGCAGGCGGCGTCTTTCCAATGTCGGACATGGGGCGCGCGGGTCGTAGAGTTTTCCTACCAACGCCCTCGTCATCACCCCTGCCCTTCTCAATG\\n', '>2E_0_41834_r1;size=19;*\\nTGCAGAGTGCGAGAAGCTGTTGTAGAGATTAGTGAGTTTTGCAAGACGTCCAGGTAGACGCTCTATAAATTGAGATATGTCGGGAGCCGTGTGT\\n', '>2E_0_72370_r1;size=20;*\\nTGCAGCTAACTGATCAGCGTCGGGCTATTGCGAGGCTGTTGCGTAAATTTTATCGGTTACGCCCATATATAGCGATAGACTCGCATAAAGATAG\\n', '>2E_0_12147_r1;size=19;*\\nTGCAGAAAGTGCTCGGAAAGACCAAAGTCCCTCCCCAGGTTCACAATAGCCACGCAGTGATACTCCCTTGGTACCCGGCAACTACCCCTCATGG\\n', '>2E_0_1635_r1;size=22;*\\nTGCAGCGCCTTTTCCAGTGTGTGATAAATATCGCGGGAACATACACCCGCTCGTGGTCCCTGCCGATGATGTCGACGGACCCAGGTGAGTCTTA\\n', '>2E_0_70493_r1;size=20;*\\nTGCAGGCCCGTAACAGTGTACTCGCAAAGTTCACAATGGTACCTGTGATGCCTGGATCGCGAGCTCTCCCCCAGTCCGTTCTCAGTGTTATCCG\\n', '>2E_0_70826_r1;size=18;*\\nTGCAGGGTATGGTTACGCTGGCGAACAGGGCATGACCTCATGGCACGTTCAGATGCAACTGGTTTTGTGAGGCCTCAACGAGCATGCGACGCCG\\n', '>2E_0_61809_r1;size=17;*\\nTGCAGGAACCACGTCCTATGCAGTGAGAGTAAGCGCGAGATTCACCTCGCCCTTCGATTCCTGCCGGGGGCTGTAAGGGAGCGGATTCCGCTTA\\n']\n",
      "DEBUG:ipyrad.assemble.consens_se:chunking len:30, done:1, num:11\n",
      "DEBUG:ipyrad.assemble.consens_se:1\n",
      "DEBUG:ipyrad.assemble.consens_se:chunking len:97, done:0, num:1\n",
      "DEBUG:ipyrad.assemble.consens_se:chunking len:97, done:0, num:2\n",
      "DEBUG:ipyrad.assemble.consens_se:chunking len:97, done:0, num:3\n",
      "DEBUG:ipyrad.assemble.consens_se:chunking len:97, done:0, num:4\n",
      "DEBUG:ipyrad.assemble.consens_se:chunking len:97, done:0, num:5\n",
      "DEBUG:ipyrad.assemble.consens_se:chunking len:97, done:0, num:6\n",
      "DEBUG:ipyrad.assemble.consens_se:chunking len:97, done:0, num:7\n",
      "DEBUG:ipyrad.assemble.consens_se:chunking len:97, done:0, num:8\n",
      "DEBUG:ipyrad.assemble.consens_se:chunking len:97, done:0, num:9\n",
      "DEBUG:ipyrad.assemble.consens_se:chunking len:97, done:0, num:10\n",
      "DEBUG:ipyrad.assemble.consens_se:['>1A_0_72324_r1;size=17;*\\nTGCAGCACCGGCATATAAACTAATGGACTAACAAGATAGAGGCAAAATTACTCTTGCATCTTTGGCTCAATCGATTAATGTTCGAAGGCGTGTC\\n', '>1A_0_71072_r1;size=20;*\\nTGCAGGTTGGACCTATCCCTATGCACATACTAAGTGGCCAGCTCAGCTCTGTAGCGTTTTACGTGCAATCCCCCAAGATGAAACACATAAGGAC\\n', '>1A_0_40983_r1;size=21;*\\nTGCAGACTAGTTTGAAATTCTCTTCGTGGGAGCTCTTACTAGTAGCAGAATCCTTTTATGAGGCCGGTCGGATTTTCGACCAATAATCGAGGAA\\n', '>1A_0_30003_r1;size=19;*\\nTGCAGCCCAGGTCATCAAATACCTCTCCGGATTGACAGATTGGTTTTGAAGCCGCGCACCCCAAGCCACTTTTTTGGCACGACGGGCGTCCTAG\\n', '>1A_0_21940_r1;size=18;*\\nTGCAGAGGAACCGGTCCTACCATTACGCTTTATCTATTGGGCCGGAGATTCTCAGCGGCCTAACTGTTCCGAAGGTTCAGTTTCGTTAAGAACC\\n', '>1A_0_40372_r1;size=17;*\\nTGCAGACTCTAAGGCTACAGACATGCCCCTCCACCGAGGATATCAAAGGTGACGATTCTGAATATTGATTTTGAGCTTTTTATACCACCCTTTG\\n', '>1A_0_50619_r1;size=20;*\\nTGCAGGTCCGATACTTGGTGCTGCATGGGGATGAATACTGTGATACCCGCAGATCTCAGTGCTCTAATAAAGGTCAAGAGCGATTGGGTAAATC\\n', '>1A_0_2406_r1;size=29;*\\nTGCAGAAAGCGGGCTGCTGCAGTGCCCACACTGTACGGAAACATGAAATGCCCAATTGTAGTTGCCCAGGCGTGCATATCGTCCGCGATGGGCA\\n', '>1A_0_51265_r1;size=20;*\\nTGCAGTAGGAGGTAACTATTCCATCCGTATATCAACGCATAGGAAGTTTCATTCCAACCAATGCGGGGTGAATTAAAGAACGGTTGGTAAGCGT\\n', '>1A_0_41183_r1;size=21;*\\nTGCAGTGGCTTCTAGACTCACCTTCTTCATGTTCGCGATGTCATTTAATGGGCGCACTCAACCTACCACGTGCCCTGCGCATACCACATTCCAT\\n', '>1A_0_2332_r1;size=17;*\\nTGCAGAAGGAGAGTGCGTGCGTATCTCCAATGGGAGTCAGCCCGTCGTTTACCAAAACCCTAGATTCAGGTCACCAGATTAACGGCCTTCTCCG\\n', '>1A_0_11929_r1;size=24;*\\nTGCAGCGCCGAGGATGTGGCCCTATTAGGAGATGCGCGGGTTTTGTGGTCCTGCTGCATCCTAGGAGTGCGAAGCGTTGTTATTCACGATGCGA\\n', '>1A_0_31872_r1;size=23;*\\nTGCAGGGACCATTTGCATAAACATCGCACGTTTCCGTGCCAGAGAGCGTTCCCAGATCAGAGTCGATCACCTAGTATAGGCCTCGAAACAAGTT\\n', '>1A_0_20373_r1;size=23;*\\nTGCAGTTCCCGTACCCTTCGTGTGACCGAATCAATCACCTCTGTCTAAGTAGATTAGATTTAATCTACGGCCAGAGTTAGTTCGGGCTGAAAAT\\n', '>1A_0_41423_r1;size=16;*\\nTGCAGTTAGACTAATCACCGCACGGGTACACTTTTTACACATTGATTACGATAGCTTGGTTTAGTGGAAGATAGCTCCAGATTCGTTACAATGT\\n', '>1A_0_11994_r1;size=19;*\\nTGCAGAGTGGGTCTGAAAGGTTTAGAAGGCTGTCCACTGTTACAGGTAACAAACTCGTTATACGATCGCTGTCTAATTACGAGACCGTCACTTT\\n', '>1A_0_31955_r1;size=18;*\\nTGCAGAAAAGACGTGACCGACACCGTAATAGCGTTGGAAGGATCTAACCGATATCCCACCCGAACCATGTCGGTTCTATATTTGCGAAGCATGC\\n', '>1A_0_72091_r1;size=17;*\\nTGCAGATGTGTCTACTAACCTTGAATGTTAGGTCAACTGGAAGACTTCGCCAATAACCGGCGGGATTTGGAAAATGGGTGAACGGCATACTATT\\n', '>1A_0_71577_r1;size=15;*\\nTGCAGCGCAACTGACACCGAACTTACGCGAAGATAAAGCCGCGGGCCGCATATACTTACGGCAGGGTACGACCTCCTAGCGATTCTCTATGGCG\\n', '>1A_0_41577_r1;size=16;*\\nTGCAGACCATGGGTGCATCCGGAGCAACATTGTGACGGTTTTCTCGACTGACCACGCAGGCACAATTTGCGTGCGTTGGTGTGTGGTGGCGACC\\n', '>1A_0_30064_r1;size=23;*\\nTGCAGTGTGGGGTTGGGGGTCCCTGCGGATCAGGTACAAGCCCTAAAGCGTCCTCTTTGCACTCTCGCAAACTTTGCCGGCATCTCTGATATTG\\n', '>1A_0_31198_r1;size=24;*\\nTGCAGCCCTAAGGCGCGTCATACCCCTATTCATGGATTAAAAAGAAACTTTGTCTCAGAGGAATATAGGGGTCGGTGGGCAATATAAGTCCGGG\\n', '>1A_0_11140_r1;size=22;*\\nTGCAGTCGCTCCATGTGGTTAATGCGACAAGATGAGACCCCGGATCGACGACATATGAGAATAGGGCGGGAGTCGGGTACATGCAGACATCCCT\\n', '>1A_0_51610_r1;size=18;*\\nTGCAGGGAGTACTAACTCTTGCTAACATAGGAAGAAGTGGACCCTGATTGCTCATATCAACCCCGATGGGGTATTTCGGTCTCCATCAGAACAA\\n', '>1A_0_361_r1;size=16;*\\nTGCAGGCGGATATGTCTTCAGCGCGCTAACGACTACTGAAAGGGCTATAGGATCTAGAGGGCCTCCGGTGTCCTCTGTCGCGGGCGATCCACCG\\n', '>1A_0_11285_r1;size=25;*\\nTGCAGAGATGCATCCCTTATACTTTACTCTGCAGTTGGTGTACGTCAATCCGGGAAATATTCCTTACCCATCAATGACAAATCGGTCGATATTG\\n', '>1A_0_286_r1;size=21;*\\nTGCAGAGCCAGCACACTCAATTGACTAGGACATAAATTTCGGAGTGGTCCTCGAGGGGAATTTATTTCAAGTTTCAAAACGTTCCTTACGATCG\\n', '>1A_0_50801_r1;size=19;*\\nTGCAGAAAGATGATGTGTCTACCTTCACCAATTCTATGCCTTCAGGCGTTTCCGTCCTTATGACCAATGGCGCCATCAGAATGATCACCTAAAC\\n', '>1A_0_72049_r1;size=21;*\\nTGCAGGGAGTGTCCTTAAGCGGGTTCTTATGTACGAGGTATTCGCATTGAGGCCATTCAATCCCCACACCTGTAGAGCATTCAGTCAGACAACA\\n', '>1A_0_50058_r1;size=21;*\\nTGCAGATGCCCACGGACGCGTCGAGCGTGAATATCGGTTATCATACCTGAGCGCATTTGTACGCCGTGTCTGGATTTACACTTTCGGTACTTTC\\n']\n",
      "DEBUG:ipyrad.assemble.consens_se:chunking len:30, done:1, num:11\n",
      "DEBUG:ipyrad.assemble.consens_se:1\n",
      "DEBUG:ipyrad.assemble.consens_se:chunking len:97, done:0, num:1\n",
      "DEBUG:ipyrad.assemble.consens_se:chunking len:97, done:0, num:2\n",
      "DEBUG:ipyrad.assemble.consens_se:chunking len:97, done:0, num:3\n",
      "DEBUG:ipyrad.assemble.consens_se:chunking len:97, done:0, num:4\n",
      "DEBUG:ipyrad.assemble.consens_se:chunking len:97, done:0, num:5\n",
      "DEBUG:ipyrad.assemble.consens_se:chunking len:97, done:0, num:6\n",
      "DEBUG:ipyrad.assemble.consens_se:chunking len:97, done:0, num:7\n",
      "DEBUG:ipyrad.assemble.consens_se:chunking len:97, done:0, num:8\n",
      "DEBUG:ipyrad.assemble.consens_se:chunking len:97, done:0, num:9\n",
      "DEBUG:ipyrad.assemble.consens_se:chunking len:97, done:0, num:10\n",
      "DEBUG:ipyrad.assemble.consens_se:['>1B_0_30183_r1;size=16;*\\nTGCAGCGTAACCGTGCCCCCGGCCATATATGTGTAGTCTTGTTAGATTGCGGTAATGATTCGACTGAAAGCTAATACGCGTGAAACGCAGAGTT\\n', '>1B_0_30625_r1;size=19;*\\nTGCAGGGCTTAGATACGACGGGAACATTACGTGCGCCTCCCACACGAGGCACGCCTATTCGCCACCAGTATGCAGGCACCCGTACTAAGCGGTT\\n', '>1B_0_11923_r1;size=18;*\\nTGCAGACGCTTGTCTATGTCACAATTTCCATAGACAAGCTGGCTAGGGAATATGATTAAAATTAATGTCTCATCGTCTATTAGATAATATCTAC\\n', '>1B_0_1153_r1;size=24;*\\nTGCAGCTATTGCGACAAAAACACGACGGCTTCCGTGGGCACTAACGTAATTCGCTGAGCCGGCGTAACAGAAGGAGTGCACTGCCACGTGCCCG\\n', '>1B_0_1318_r1;size=21;*\\nTGCAGACCGCCTATTGGTTACCAAGGATAGGAGTACGGGTCCAGCGACGCTCGCAAAAATTAGAGTAGTGAACGTGCGTCTTCTACGCCTAAGA\\n', '>1B_0_2273_r1;size=18;*\\nTGCAGCCTAAATATTTGGGGACGCCTTGGAGCTTCTATACGAACCACGTTTCCACTCGCGCCCCTACGTCCCAGGCAAGTCACACGTTCAGAAA\\n', '>1B_0_51100_r1;size=14;*\\nTGCAGGAGAGACTTCATTCAGAGGACCAACACTGAGTTGGAAACTCCGTTCTACCATCCGGGCTCGGTTGGTCCTTCGGTCTATTAACTTGGGA\\n', '>1B_0_50070_r1;size=17;*\\nTGCAGTGGGGTACATCGTCTCTGCGCTGCCTAATTTGAATAGGCACTACTACCGATTTCGGCATGGTAGTAACTTGGCGGTCATGCGTAAGAAT\\n', '>1B_0_10003_r1;size=22;*\\nTGCAGAAAGCAGCGTAGGTAAAATCCAGTAACGGACGTTCACTTCTGCCGTGATTGGCCCTTGTTATTAGCGTCGGTCCTCTTGCTACGGGGTC\\n', '>1B_0_10147_r1;size=20;*\\nTGCAGGATGCCAATATAGATAGGGATAGCTCGGTTACGGGAGTTGACTCCCTGTTCCGATTCCGCATAACACGACGAACCCCAGTTGCCTTTGT\\n', '>1B_0_10987_r1;size=17;*\\nTGCAGTTACGCGTTCTCAGAGGCTATAGGTGCATTCGCCGGTACGCTGAACAAGATGGTCTTCCGCGTGTCTACAGAGGAAGCATTTGTGGGCC\\n', '>1B_0_60047_r1;size=20;*\\nTGCAGAGCTGAACCGTATCCCGAACCTACAGGGTGAACGTTCAGCGGGTATGGGCCCCGAGCCCCGTTTATGATATATGCACTGGCTAAACCTC\\n', '>1B_0_21519_r1;size=12;*\\nTGCAGTAAAACCTCGCGATTTGTAAAGTAGTCGCATAATGAGAATTTGGTAATAGGTATTTCAAACATGTCTTCATCGCTATACGGTCCCATTT\\n', '>1B_0_41891_r1;size=15;*\\nTGCAGAGAGTGAACATCAGAAGACAGGTGGGTAGAAGACGCAACTTAGGACCTAAGGTTCTGGAGCTATTTTAAGTTCGACAGACAGGTCCAGC\\n', '>1B_0_50188_r1;size=13;*\\nTGCAGCCTGGGGTGAGGGGTCGCCCGCACAATTCCCCTTGAACAGCCGGCGTAACGCTGAAGTGGACAAAAATACCCTCGAGCCGCTTGTAGAT\\n', '>1B_0_499_r1;size=21;*\\nTGCAGACAAGCTCTCTAACGTCTACCCGGGAATAGTGAAGCTACAGGCGGGTCAGCCGCTCGTAGAAAATCAGCTGCGATTTTACCTGACACGC\\n', '>1B_0_71993_r1;size=22;*\\nTGCAGAACGCTTAGAGATACAAAGTCTTACGGATATCAAATAATAATCTCTACCGCGTATGTTTAACATCAGTTTTGACGGGACGATGGTAACG\\n', '>1B_0_12142_r1;size=26;*\\nTGCAGCGTATGTCGAGATTACGGCCCGCGCCCCGCGCCCACAGGCCATGGTGAGGCCGAACCCTTAAAGTGACCTTATATTCGTGTGATTATCA\\n', '>1B_0_72129_r1;size=19;*\\nTGCAGCTGCGAGTGAAATCTTCCGGATATGAATAGGCAGTTTCGCAAGTGTGATCCACTGTTCCTTATGCAACATTTGGCGGTCACGATTTTTA\\n', '>1B_0_60535_r1;size=19;*\\nTGCAGGCACCCCAGCCAGGAAGGTGACAGAATTTGCTGTTTCACCCCCCGTTGCCATTACGATCATCTTAGCGCGACGTGCTTCCGTACGGCAA\\n', '>1B_0_21329_r1;size=20;*\\nTGCAGCTGTCGATAGGTGTAAGAGAGGCTCGGAGGAGTAACGCTACACACATTAATCATGGCGGTCGCTGTTATACGCTCTAGACAGCGGCGTC\\n', '>1B_0_31964_r1;size=15;*\\nTGCAGTGTTTCCTAGACGGGAGTTCATCTGAAATTCGGTTTTATCCTTGACCTGGTGCCACCGCCTCAATCTCTTGATTTCAGACCAAAAGAAT\\n', '>1B_0_2406_r1;size=20;*\\nTGCAGAAAGCGGGCTGCTGCAGTGCCCACACTGTACGGAAACATGAAATGCCCAATTGTAGTTGCCCAGGCGTGCATATCGTCCGCGATGGGCA\\n', '>1B_0_882_r1;size=14;*\\nTGCAGTTGGAGAAAGTATCGCTTAGAGTGGACAACATGTAAATAACCAGATCGAAGCATTCAAGCGATACCGCTCCAGAGGGATACCGATAAAT\\n', '>1B_0_1277_r1;size=20;*\\nTGCAGAGAGCCAAAGCTTGTAGGTGTACTGGTCGGGTGGCCTGTAAAATTAGCTAGCCAAAGAGGGAAAAGGAAGCTCACAGATCTGAGATCCG\\n', '>1B_0_1359_r1;size=19;*\\nTGCAGCCAATATCTGACTGCAACCCCATAACAGCAGTGCACTGTATCCAGATAGATGCTCGCCACGTAGGCCCCCATGCCGCACCGTTAATCAA\\n', '>1B_0_20796_r1;size=19;*\\nTGCAGAGATTATAATCTAGTGGTAGCGCAACTTCGAATGCCACCCCAAGACGCGACAAATGTGACCATTGTATAGTATTTACGCTGTGGTAGGG\\n', '>1B_0_22150_r1;size=20;*\\nTGCAGAATTCGCTCTCGGCTTCTCTTGCAATGATTGCGGCAGATATTGATCGAACACAGCGCAACAGACAACCCAGTGTCTCTTACGCATTCAT\\n', '>1B_0_71580_r1;size=21;*\\nTGCAGCACCCGTACTTTAGCACGCCTTGAGACTATATAAAGGCTCCCAGTAAGATTCTGCTAGTAGGTTAGATCGGTCAGGGCGCAATCTGCTA\\n', '>1B_0_21713_r1;size=22;*\\nTGCAGTCGGGATCCATTAGCGAGGGATAGACGTCCATACGCTTTAAGAAAGCGAGCTCTCCGTCCTCTCGGTAAAGATTACAGCCACCCTGTTC\\n']\n",
      "DEBUG:ipyrad.assemble.consens_se:chunking len:30, done:1, num:11\n",
      "DEBUG:ipyrad.assemble.consens_se:1\n",
      "DEBUG:ipyrad.assemble.consens_se:chunking len:97, done:0, num:1\n",
      "DEBUG:ipyrad.assemble.consens_se:chunking len:97, done:0, num:2\n",
      "DEBUG:ipyrad.assemble.consens_se:chunking len:97, done:0, num:3\n",
      "DEBUG:ipyrad.assemble.consens_se:chunking len:97, done:0, num:4\n",
      "DEBUG:ipyrad.assemble.consens_se:chunking len:97, done:0, num:5\n",
      "DEBUG:ipyrad.assemble.consens_se:chunking len:97, done:0, num:6\n",
      "DEBUG:ipyrad.assemble.consens_se:chunking len:97, done:0, num:7\n",
      "DEBUG:ipyrad.assemble.consens_se:chunking len:97, done:0, num:8\n",
      "DEBUG:ipyrad.assemble.consens_se:chunking len:97, done:0, num:9\n",
      "DEBUG:ipyrad.assemble.consens_se:chunking len:97, done:0, num:10\n",
      "DEBUG:ipyrad.assemble.consens_se:['>3I_0_11406_r1;size=19;*\\nTGCAGTCATTGAGGCTCAGGGGACACCGAGCGTCGTACTAGGGCCGCGAAACCCGTGGTGAAGTTTGATACCATCACGGACTACCGTAGTCTCG\\n', '>3I_0_30949_r1;size=19;*\\nTGCAGCCAGTCGTCGGTACAGTGTGTTACTACCTACAGCAGAAGTGCCGGCCTAGGTAGGGTTATTGTCTATTTTAGCAGCAGATCATTGCTCC\\n', '>3I_0_52415_r1;size=21;*\\nTGCAGGCCCGCGTCATCCTCGTTGGTCGCTGTAGTTCCGGCTTAGCTAGGTAGAATGGTATTTTTTTTTCGCTAACGTTTCGCATCATGTGTCG\\n', '>3I_0_20086_r1;size=20;*\\nTGCAGATAGTTAGTGGTATGCGCTTGGCGACCAGGTTGATATCAGCAGGCAAGTTATAGAGGCATTAACTATTTATAGTTAGACAGGAATCATC\\n', '>3I_0_42367_r1;size=16;*\\nTGCAGAACAAAAGACTTGCGTGCTCGCCCAGTCTCGGAGACATGGGCACCAGAACCAGATAACGGCCAGGACACTCGAGCCACTACAATAATGT\\n', '>3I_0_826_r1;size=22;*\\nTGCAGGTCACAGTGGCTGATTTTGCCCTACGGGCCGGGGAGCATGCCTGAATAAGTTCATCAAGTTGTTTCGAGGAGCTCGGTTTCGATACAAG\\n', '>3I_0_72216_r1;size=19;*\\nTGCAGGGACATGTTGAGTTACATTGGGTCTCGATCGGGCGCAAGGACCGTGTCAACTCTGAGATTTAATGTGAATGCAAATGTCCGCGATCTCA\\n', '>3I_0_20029_r1;size=17;*\\nTGCAGTGCTAACCTAAGCTGTATCTTTATCACAATAATTTTCGCTTTATGCTAGGTACTGGTAGGTCGGTGCGTTTGAATGAGGTATGACGATG\\n', '>3I_0_70033_r1;size=20;*\\nTGCAGTCGTAAGAGAGCCCACATAACGGATAGGACAGGTCGGTATATTTTTACAAGGTCCATCTCAGCAAAACGTTAAGTGTTAGGAAGTAGAG\\n', '>3I_0_30176_r1;size=17;*\\nTGCAGGCGGAACGTTTTGTAATGAAAACACTATCCCCGCTGTTATAAGTTTAGAGTTCAGTTGCGTCGTTTGCTCTGCCCGGCAGAGCTTCGTC\\n', '>3I_0_11479_r1;size=21;*\\nTGCAGAAGGCGTCGGTCTCCACCCAGATTAAGGCGACTTCGCCCAAAATTGTCCCGGCTCGAGCTGGTGTTGGTGTTCCTTCACTCCATAGCGA\\n', '>3I_0_66_r1;size=18;*\\nTGCAGCCGTATCTGGCTTGCACCGGTGATAGCCCTTTAATTGAGTCTTCTCTCCTAACGGTCGCTCTCTCGAGATGTCTTCGGAATTACATCCT\\n', '>3I_0_540_r1;size=19;*\\nTGCAGACAAGCTCTCTAACGTCTACCCGGGAATAGTGAAGCTACAGGCGGGTCAGCCGCTCGTAGAAAATCAGCTGCGATTTGACCTGACACGC\\n', '>3I_0_31148_r1;size=20;*\\nTGCAGGAGTGTTGTGGACTATTGTCGGTATTCAGGCGATGAAAGTTACAATCGCTTCTTTGTGACTCCCACGCGTTACGATCATGCACCGCACG\\n', '>3I_0_2213_r1;size=20;*\\nTGCAGTCTGTGCCGGGGATGGATAACTTCCCTCAGTGCCGTAGACCAATAAAATGTTCACCGTCTGTGCGACAAATGATCGCCAGGCTCACAGC\\n', '>3I_0_1413_r1;size=19;*\\nTGCAGATAACCGGTTGGGCTCCTTTGTATCGAGAATGGCTGCAACCGGGTCTCTCTGCTTGATCGTACTGCTTACCCCGCTTTTCCGCCTCATA\\n', '>3I_0_10327_r1;size=24;*\\nTGCAGCCTGCGTCGGGGTATCCGTCTTATCTAAGCGGACAATAGCGACAAACGCTCATAGTACAACCACGTGACGCCGAACACCACCTCTAACC\\n', '>3I_0_413_r1;size=21;*\\nTGCAGTCCGGGGAAGTGTATATACGGGACCTTCGCGATTCACTCGCTTCAGACATCTGCGTCTCATATTTGAACGTGCGTGGCTTCCCCCGGCT\\n', '>3I_0_10825_r1;size=21;*\\nTGCAGGTATGTCCGACTGAGTCGTGAGGCCATTCTGTTGCACACCAACACTTATGAAGGCTGATAATGATTATGCTACCAAACCAAGATACCGC\\n', '>3I_0_1883_r1;size=23;*\\nTGCAGGATTGACCATACAGCCGGAGCTGGGTGTTGAGGCATTCAAGTCTGTCGGGTCATGTAAATCAGCATCATACGTTTCCTGACTTACGGAG\\n', '>3I_0_42272_r1;size=20;*\\nTGCAGATCGCAGTGCGTGAATGTCATTTTCCTTAGTGCCGGCCAAGCATTCTAAGCAGCGTAGTAAGCTTGCCATGGGGAGCGACATCCGAACG\\n', '>3I_0_21648_r1;size=18;*\\nTGCAGCAGTGGCTAAAACTGGGTCCACTCTTCTGGCATCGGCCACGGGACCCTCGCTCTATCGTAATATCGTTACCCAAGCGTGATTGTCTGAA\\n', '>3I_0_11922_r1;size=20;*\\nTGCAGTGCTTAGAAACCCACCGGATGGTATGATATATCTCTGGCCGGACCTACCACCCGTCTGAATATCCACTAAATAGTCCCGTGCATGAGCC\\n', '>3I_0_51521_r1;size=21;*\\nTGCAGCTTTTTAGATACTAGTTAGATAAACGACCTTCCAGAGACTCACCACTCTATTCAGTTATGATGTACTCGCCGCGTCTCTTATTTTAGAT\\n', '>3I_0_21198_r1;size=17;*\\nTGCAGGTTTGAGCCAGCGCCGTAGAGTCGACACCTCGTCGCGATGCTCCCGTTTTCTAAGAGTCGTCAAGTACCAGGGACAAGCTCTACCCGTC\\n', '>3I_0_21460_r1;size=17;*\\nTGCAGTGCATGGAGAAGATTGGGGACTTAAGGGCCTTTGGCACGGTGAGTCGGCGCGTGGCACGCCACAGGACATTGACAGCCTCAAGGTGACG\\n', '>3I_0_61984_r1;size=14;*\\nTGCAGTCACGCTATTTTACTTACTCAGAGCTATGTCAAGCGCACGCCAAAGGATACCGATGCTAGGTAGTGTCCGGAGTAGTTGTCTTTTTACA\\n', '>3I_0_80053_r1;size=18;*\\nTGCAGATTGATGATACATAGCGGGATGAACATAAAGGGGGAGATCTCGAGTCACTGCCCAACTGTTATGGAATGGTGATTGATACAAATATTCC\\n', '>3I_0_11161_r1;size=18;*\\nTGCAGTCGCTCCATGTGGTTAATGCGACAAGATGAGACCCCGGATCGACGACATATGAGAATAGGGCGGGAGTCGGGTACATGCAGACATCCCT\\n', '>3I_0_70785_r1;size=20;*\\nTGCAGCCTGCATCATCTGAGAATATCCTACATACTAGACAAGACTGGGGAGCACCCATAAAGTCGATTGCCCATGTACAATGGAAGAATAAATT\\n']\n",
      "DEBUG:ipyrad.assemble.consens_se:chunking len:30, done:1, num:11\n",
      "DEBUG:ipyrad.assemble.consens_se:1\n",
      "DEBUG:ipyrad.assemble.consens_se:chunking len:97, done:0, num:1\n",
      "DEBUG:ipyrad.assemble.consens_se:chunking len:97, done:0, num:2\n",
      "DEBUG:ipyrad.assemble.consens_se:chunking len:97, done:0, num:3\n",
      "DEBUG:ipyrad.assemble.consens_se:chunking len:97, done:0, num:4\n",
      "DEBUG:ipyrad.assemble.consens_se:chunking len:97, done:0, num:5\n",
      "DEBUG:ipyrad.assemble.consens_se:chunking len:97, done:0, num:6\n",
      "DEBUG:ipyrad.assemble.consens_se:chunking len:97, done:0, num:7\n",
      "DEBUG:ipyrad.assemble.consens_se:chunking len:97, done:0, num:8\n",
      "DEBUG:ipyrad.assemble.consens_se:chunking len:97, done:0, num:9\n",
      "DEBUG:ipyrad.assemble.consens_se:chunking len:97, done:0, num:10\n",
      "DEBUG:ipyrad.assemble.consens_se:['>3L_0_60064_r1;size=15;*\\nTGCAGAGCTGAACCGTATCCCGAACCTACAGGGTGAACGTTCAGCGGGTATGGGCCCCGAGCCCCGTTTATGATATATGCACTGGCTAAACCTC\\n', '>3L_0_42459_r1;size=16;*\\nTGCAGCGCACTTTCCCGCCGCCCCTACTGCCAGTTCAGGTTGCTCTGGACAAAAATCTCTGCTACACGGACAGCCCCGGAGCGTATTTTTGGGA\\n', '>3L_0_52221_r1;size=19;*\\nTGCAGTGGAGCAACTCCTGTCCATGTTATAGCGTTAATCTCGGCTCCTTCATGGGACTATCTATTTGAAATCAAATTATCGGTACCACCGGGTT\\n', '>3L_0_50179_r1;size=21;*\\nTGCAGTTACTGGAGGTGTACCCCACTGTGTCTGTCGATTTCTGAGCACGTACAGTTCCCCCGGTAAATGGACAGTATTTGTCAATGGCGTCACC\\n', '>3L_0_50200_r1;size=21;*\\nTGCAGCCTGGGGTGAGGGGTCGCCCGCACAATTCCCCTTGAACAGCCGGCGTAACGCTGAAGTGGACAAAAATACCCTCGAGCCGCTTGTAGAT\\n', '>3L_0_62395_r1;size=19;*\\nTGCAGGATATCGAGCTGCTCTAGCAACCTGTCATTTGTTCTATATGTGGCGTCGACCATGCCAAAATACGTCTGCCAAAGAGCGCGCGGGCAAG\\n', '>3L_0_71729_r1;size=23;*\\nTGCAGGCGGCGTCTTTCCAATGTCGGACATGGGGCGCGCGGATCGTAGAGTTTTCCTACCAACGCCCTCGTCATCACACCTGCCCTTCTCAATG\\n', '>3L_0_70095_r1;size=18;*\\nTGCAGAATTAACCACGGGTCGCTGGTGGATCCTCACGTCTACGCGGCTTGAGTACGTTCTGGATGTTACGCCTACGATCTTGTCAAGTTCTATG\\n', '>3L_0_70529_r1;size=23;*\\nTGCAGTAATCAGGGTATGCTAGTATGCGCGCTGCACTAAGCCGACGTGTGCGGTGTGTCGCGCATACGGAGGTATCACCCGGGTTTACTCTACG\\n', '>3L_0_42292_r1;size=22;*\\nTGCAGAACAAAAGACTTGCGTGCTCGCCCAGTCTCGGAGACATGGGCACCAGAACCAGATAACGGCCAGGACACTCGAGCCACTACAATAATGT\\n', '>3L_0_70571_r1;size=19;*\\nTGCAGGCAACCCGACGCAGTCGTCGCGACTTTAGCTGCCTTCGCGGCGTATGACTGAAAGCGCCCCCAAAAAGCGCTCGACCTGACGTCACTTA\\n', '>3L_0_20706_r1;size=15;*\\nTGCAGATCCAAGGGCGGAGCGGCTCTTACTGTACGGAGTTTAACCGCGAGCAGCCGTTTTCGTTAAGAGATCGGTGCACGTTACAGTGACCAAG\\n', '>3L_0_71974_r1;size=18;*\\nTGCAGAGTTTTTCGAGCGACCATACGGTACTTGCTATACTACATAGATCGATATATGTCCGAGCTAGGATAAAGTTAAAAGCGATCAGGGTGTC\\n', '>3L_0_42191_r1;size=21;*\\nTGCAGATCGCAGTGCGTGAATGTCATTTTCCTTAGTGCCGGCCAAGCATTCTAAGCAGCGTAGTAAGCTTGCCATGGGGAGCGACATCCGAACG\\n', '>3L_0_41343_r1;size=19;*\\nTGCAGCGGGCGGGGCCCCCTTATTACCTCCATCTACTCCAGTACTCGCCTCATATCGGCATTCGGCCGGCGTAAGAGCATGTTATTTCATTAAA\\n', '>3L_0_11408_r1;size=24;*\\nTGCAGAACAAACCTAGCCGATCTCTGTGCTAGCGAAAGCGCACTAAAAACAGAGTTGACCTCAACTCAACGTTGGACTAACCAAACGTCCGATA\\n', '>3L_0_40355_r1;size=17;*\\nTGCAGAGATTAGACCTTATAATGCTATTGCGGAATAGCTACCGATTGTGGGAAGGACTAACCGAATGCTTAATGCTAGATCTGGCAGCGACGCC\\n', '>3L_0_21689_r1;size=18;*\\nTGCAGCCACGGGAATAGGGTGGAGCGCCTTTGTCATACGAGGGTTCTAGGTCCTCTAGTCGGAGCTGATTGGTTGCGGCCGATATGTCCTGACC\\n', '>3L_0_2162_r1;size=23;*\\nTGCAGTCTGTGCCGGGGATGGATAATTTCCCTCAGTGCCGTAGACCAATAAAATGTTCACCGTCTGTGCGACAAATGATCGCCAGGCTCACAGC\\n', '>3L_0_62375_r1;size=20;*\\nTGCAGCGCTCTCCCGCCCCGGTACTGAGCTTACGATTACCTGAATAGTTGGTTTGTCTGCTATCGACCTGCGCAGAAAAATTAGGCACTATTAT\\n', '>3L_0_72136_r1;size=18;*\\nTGCAGCACCGGCATATAAACTAATGGACTAACAAGATAGAGGCAAAATTACTCTTGCATCTTTGGCTCAATCGATTAATGTTCGAAGGCGTGTC\\n', '>3L_0_41687_r1;size=21;*\\nTGCAGTTCAAGGCCGGTGGCGTGCTAGGGGCGCTTCTAGCCCCTTAATCTAGTCCGCGACGCGTGAGGCTCCCGGTTAGTGAGGTTGGGTACAC\\n', '>3L_0_60023_r1;size=21;*\\nTGCAGGTTGACGTTGCTTGGCAGACAGCATTCCAACATCCATTAGTGCGATTACTGCTATAAATATCACTGAGCCGGGTAATTGGTTGAACTGG\\n', '>3L_0_52167_r1;size=16;*\\nTGCAGAGCCTAAAAAGGGACCCTGTAGACGTAGTTGCCTGTTTGACAGGTCAAAATAATTCGACGGGGACTAACGACAAGTTACTCTTACATAG\\n', '>3L_0_40795_r1;size=18;*\\nTGCAGCTACCGGAAAAGCGTTAGATTGATTCTAGCCTGCGACGACCTGACAGTCAGTAAGTGTCCATGCCGGAGCATTGCTTGATGTAATTGCC\\n', '>3L_0_61896_r1;size=18;*\\nTGCAGCTCCAACAGTGTGCTGCACCACTTTTCTTAGCCGGTGTGTCCTTCTCTACTGATAATGGTTTGGCTTAAGCGATTTGCGAAAAACGCAC\\n', '>3L_0_50808_r1;size=15;*\\nTGCAGGACTCCTTAGATGCCCCGTTTGAAGGCCACCCACTCTTCCATGGTCTTCCAATGGGCGATACACTATGCCTGGTCTTTATGTGTCGGTG\\n', '>3L_0_22123_r1;size=18;*\\nTGCAGGATGGGAACGGCCTAGCGACAACGCCGCGCTGGATTGGTGCTTTATCAAGGACTAGCGCAGAGCCCCCACAGCGCCCGGTACCAGGAGT\\n', '>3L_0_51005_r1;size=21;*\\nTGCAGATGTGCTAAGCACAACATCCCAGGAAGGTAACGTAAGATCTCTATTAGAGACTTCATACCGCTCTCGCATAAAGTCTTCAGTGCGGGTT\\n', '>3L_0_31584_r1;size=18;*\\nTGCAGGGCTACAAACGACAAGCCCCATCCTTTGGTCGATGGCCCAGATCAAATAACGGTACCCGGGGTAACTGCATCAGGGGCATGTGCACCAT\\n']\n",
      "DEBUG:ipyrad.assemble.consens_se:chunking len:30, done:1, num:11\n",
      "DEBUG:ipyrad.assemble.consens_se:1\n",
      "DEBUG:ipyrad.assemble.consens_se:chunking len:97, done:0, num:1\n",
      "DEBUG:ipyrad.assemble.consens_se:chunking len:97, done:0, num:2\n",
      "DEBUG:ipyrad.assemble.consens_se:chunking len:97, done:0, num:3\n",
      "DEBUG:ipyrad.assemble.consens_se:chunking len:97, done:0, num:4\n",
      "DEBUG:ipyrad.assemble.consens_se:chunking len:97, done:0, num:5\n",
      "DEBUG:ipyrad.assemble.consens_se:chunking len:97, done:0, num:6\n",
      "DEBUG:ipyrad.assemble.consens_se:chunking len:97, done:0, num:7\n",
      "DEBUG:ipyrad.assemble.consens_se:chunking len:97, done:0, num:8\n",
      "DEBUG:ipyrad.assemble.consens_se:chunking len:97, done:0, num:9\n",
      "DEBUG:ipyrad.assemble.consens_se:chunking len:97, done:0, num:10\n",
      "DEBUG:ipyrad.assemble.consens_se:['>2F_0_41632_r1;size=23;*\\nTGCAGCAGCCGCTACAGCAGTCATGGAAGAATGAACCTACCCCGACTGAATGATCAGTACAAATCCTTCAGGTTAGGTTGTGTACAGATGACGA\\n', '>2F_0_60270_r1;size=21;*\\nTGCAGCCGGAAGATAGCAGGAACCGGGCAGCGGATCTGGAAATTGAGGACGCGTGGTCTACGCCTGTACGGGAGGTCGACATATGTCGGCTGGA\\n', '>2F_0_51144_r1;size=16;*\\nTGCAGTAGGAGGTAACTATTCCATCCGTATATCAACGCATAGGAAGTTTCATTCCAACCAATGCGGGGTGAATTAAAGAACGGTTGGTAAGCGT\\n', '>2F_0_40620_r1;size=21;*\\nTGCAGGCTACCGCTATCTACCAACCCATGTCTCGCTTATCCTAAAGCGAATGACCGTATGGCGGAAGCCCCAAGAAAAGTGTCGGGAAGCTAAA\\n', '>2F_0_1614_r1;size=21;*\\nTGCAGACCCTATCCGATAATATTAGGATGTTTTTGATTAAGGATGAGCCGGGCGTGTCCGGCGAGATTAAGTCCATGAAGTGCCGTAGTTAGAG\\n', '>2F_0_60980_r1;size=21;*\\nTGCAGACGCCGATGACGCAACAACTGCATCTTAAGTGGAAACCATGCACATGCGTTGTTATGTCGGTCCCGGCGCCGTCAAGATGCGAACCTTT\\n', '>2F_0_30425_r1;size=21;*\\nTGCAGGTGTCCATGAGGGAATCTACTTTCAGGGGCAACTTACGATGTGCGTCTATGTCGTACTAAATACCAACGACCTACTACCCTAGGCGGGA\\n', '>2F_0_32055_r1;size=17;*\\nTGCAGCGATTACTGGGGTAGAGACTGTTAGCAATGACGCGTTTCTGCTAAAGATGGACACTAGGCGCCCTTGGTCCTGTAAGCTCCGCTAACTG\\n', '>2F_0_61428_r1;size=24;*\\nTGCAGCAGTCCGCCATCGATTACGTCTGCGGTGGTATACAGTTACCGGGGGCCCGTAGAGATGCGGGGCAGTTAAGGATAGCTACAGTGTGTAC\\n', '>2F_0_70127_r1;size=20;*\\nTGCAGAGTCTCAAATTTGACAACGCCCCCTCAAAAGCTAAGTAAAAAAAAGTTACAAAATTTAGTGTAGATACAATTGGGTTCCAATAGATTAC\\n', '>2F_0_50485_r1;size=19;*\\nTGCAGGTCCGATACTTGTTGCTGCATGGGGATGAATACTGTTATACCCGCAGATCTCAGTGCTCTAATAAAGGTCAAGAGCGATTGGGTAAATC\\n', '>2F_0_70834_r1;size=23;*\\nTGCAGCAATAACAGCAGATGCCAGCCCTATATCGTTCCAGATAGTAGATAAGGCTTGAAGCATGGAGCGCTTGGTAGATGTTACTCACACGGGT\\n', '>2F_0_62041_r1;size=18;*\\nTGCAGCGCAGACAGGGCAACCACCCTGATTGGCTAAAGTGATGTGCAACCAGAGGGTTGTCGCATCGCTTTCGACCCAATTACAATGTTTCGTC\\n', '>2F_0_41878_r1;size=19;*\\nTGCAGCGGAGTCTCTTGACACCCCACAACACTTCGATGACTGGGTGCTATTCACCAGTCGCGCGTGGATATGAAAGGGAAAAGCCCACGGGGTA\\n', '>2F_0_40679_r1;size=16;*\\nTGCAGCCACGAAATAGTTGAAGGAACGGTTCAGTCTTTACTAGAGTCTGTGTCTGCCTAGACATTACTTTTCGTCTGTATTCATCGCGTGCGGG\\n', '>2F_0_70089_r1;size=18;*\\nTGCAGTCATAAAGAGCTTCCCAAATCCGTTTTAGTTGAAATAATCACTAAGTCCAAGGGCTAGCATTAACAGCGGTGATCCTATATTGAAGGTT\\n', '>2F_0_60386_r1;size=26;*\\nTGCAGCTAATTTCCCTAACTGACGACTTCCGTGAGCAACGTTATTATTTAAGGGACGCGTCAAGTACAAAAGCGTCTATACACGATGCCATCCT\\n', '>2F_0_60412_r1;size=17;*\\nTGCAGACCGGGTTTCACCTAAGTGCCTACCACGAACTATCCGGATAGGTGCACCTGACACCTTCCGGGTTGGGGGGCACCGGTCTTATGCAAAG\\n', '>2F_0_30027_r1;size=22;*\\nTGCAGCGATACAGGGACGGACGTTCAAACTTTGGGCTACCCAGACTGCTGCTGCAGCCACACTATCGATCGTTCAATATACGTTGCAACACCGA\\n', '>2F_0_61283_r1;size=23;*\\nTGCAGCCTGTAGAAACTGTTGTCTCCCAATTTAAACGGCCTGTTTTGGCCTCCTTAACAGCCATCACTACCGTGCGGAGCCCACGGACTGCAAG\\n', '>2F_0_71572_r1;size=18;*\\nTGCAGTGCCGATGAACGGCTGACAGATTAATCTGCCTGGCTCTCGACAATAGACAGGGGATATACGACGAGGCGAGTCCATCGGAAACAAATAG\\n', '>2F_0_61114_r1;size=15;*\\nTGCAGGGCACCGATCGTACCTAGACTTGTTAGATTTATCCTTCACTGAGAGCACAGGACCTAGAAGATCCTTCGGCTATAATCACATAATGGGT\\n', '>2F_0_62456_r1;size=16;*\\nTGCAGACGCCTACTCTCCATGTAGATTACTTCTCTGAGACCTCTACAATGACTTTTGAAAGCCTCGCGCGCCCATGCCATATGGCTTAATATAC\\n', '>2F_0_62340_r1;size=19;*\\nTGCAGGCTGTTTCCCGACTATTGACACAAATAAGCAAAGTGGTGTCAGCGGTCTGCTCTGGTCCTGGTCCTTTCGCTCCTGCCCATCACGGGTC\\n', '>2F_0_60748_r1;size=18;*\\nTGCAGGCTCGCGCTTAGGTATCATTCGGTATTTAAAGTAAGAATACGTGCCATCTACCAGCTCTCGGCCGATTTACGCAAGCGGCTGGGTTGTT\\n', '>2F_0_51801_r1;size=22;*\\nTGCAGCAGTCTTAATAACTTAAGTGTCCACACCATTGCTACAAAATCCCATTGAGATGTTCTAAATGTCGTTCTGATTCGTGTGGTTCCTTAGG\\n', '>2F_0_41205_r1;size=20;*\\nTGCAGGTGGGATTGCTTCAAAGTCTGTTCCGGGAGCTGCCAGGCCAGTGCTAGTCATTGGACCCCTTGGGTAACCCCACGTGCGGCATGGTTAT\\n', '>2F_0_849_r1;size=19;*\\nTGCAGACTTTCCCGATTAGCGCGCCCTACCGAAACGGACGGATGGACGACAGCATAGGTAAAAGCTCTTACCCTACTCATAGGCCGATCTGCTC\\n', '>2F_0_11996_r1;size=19;*\\nTGCAGATCCCACTTGTGACTTCGATACGAGCCGCGACATGTGAATCGCGTCAGTTGCTCGGTCTCGACGGCACTGTAACATGGAAATCGGGGGC\\n', '>2F_0_71359_r1;size=19;*\\nTGCAGGCTGGTCGAACCTGTCCACCAATATACACCTGCCTCACGCCTAAGTAATCTTACGATGTTCTTTCCGAGTGCCTCAGGCCAGGACTAGG\\n']\n",
      "DEBUG:ipyrad.assemble.consens_se:chunking len:30, done:1, num:11\n",
      "DEBUG:ipyrad.assemble.consens_se:1\n",
      "DEBUG:ipyrad.assemble.consens_se:chunking len:97, done:0, num:1\n",
      "DEBUG:ipyrad.assemble.consens_se:chunking len:97, done:0, num:2\n",
      "DEBUG:ipyrad.assemble.consens_se:chunking len:97, done:0, num:3\n",
      "DEBUG:ipyrad.assemble.consens_se:chunking len:97, done:0, num:4\n",
      "DEBUG:ipyrad.assemble.consens_se:chunking len:97, done:0, num:5\n",
      "DEBUG:ipyrad.assemble.consens_se:chunking len:97, done:0, num:6\n",
      "DEBUG:ipyrad.assemble.consens_se:chunking len:97, done:0, num:7\n",
      "DEBUG:ipyrad.assemble.consens_se:chunking len:97, done:0, num:8\n",
      "DEBUG:ipyrad.assemble.consens_se:chunking len:97, done:0, num:9\n",
      "DEBUG:ipyrad.assemble.consens_se:chunking len:97, done:0, num:10\n",
      "DEBUG:ipyrad.assemble.consens_se:['>1C_0_10198_r1;size=16;*\\nTGCAGACTACGATAGAGAAATCACTCTTTTCTTCAGGGGTAGACTCACACGGCGGCGCAATTGTCACGAAAGTAAACCAATAGTCACGTGCGGA\\n', '>1C_0_70202_r1;size=21;*\\nTGCAGGCTTGTAGCAGACCTGATCATGGAACACTAGGAACAAATCTTGCACCATGCTGCTGCTGCTAGAAAGAGGAGATAGCAGTGCAAAGTTG\\n', '>1C_0_70333_r1;size=20;*\\nTGCAGAGTCTCAAATTTGACAACGCCCCCTCAAAAGCTAAGTAAAAAAAAGTTACAAAATTTAGTGTAGATCCAATTGGGTTCCAATAGATTAC\\n', '>1C_0_10809_r1;size=17;*\\nTGCAGAGATTAGTCTGTCAATACCGGCGTTCGAATAGTCCCGTGAGAGACTAGTAAATGGCTGTGTGGTCCCTTTGCATTTTCATCGTATTGAC\\n', '>1C_0_51722_r1;size=25;*\\nTGCAGGCCCTTCCGTTTCTCTCTCGTTTCGTGGGGCTGCCGAATTGCCAATGGTACTCTAAAGTCACATCAGTAGTAAAATATGTTAGGCACCT\\n', '>1C_0_11481_r1;size=20;*\\nTGCAGATCAGTACTAATGACTCATTGCCTGTTCTGGTGGTCCTGGTGGCGGAAACCGCCTCTCCCCCCTTCCTCGAACGCACACGATAGATTTA\\n', '>1C_0_70572_r1;size=18;*\\nTGCAGTACCACATCCAATCCTCCTCGGTACGAAATATTATCTTTGCTGATGTGCTTAGTGCTCGTGCAGAGGTATGAGGCGAACGCGATATGTG\\n', '>1C_0_31342_r1;size=20;*\\nTGCAGTCATCGCAGCGGTGCGATAGAAGAGACTGACTTAGCGGGTTACTACCACCTCTGCACGGTATAATTCATGTCTTACGTCGCCCGGCTTC\\n', '>1C_0_22267_r1;size=22;*\\nTGCAGGTAACTTCATCATAACGCTTGCCTAGCGATATCAGTAATAGCGAAGCGACGTATGGGGGACGTCGCAGAAGGTGACAGGTTCTGAGCTC\\n', '>1C_0_50250_r1;size=24;*\\nTGCAGATATCCGTCAACCCTCGCTTGATATACCTTTCCGGCCCGGATATGCTGGACTCCAGAGGGAAAGGAGGGTAGGCATAGTTGCTCTAAGA\\n', '>1C_0_10572_r1;size=13;*\\nTGCAGCTAGGGCCCTCCGTAACGCAATAAAAGCTAAAGCACCTTTCGATCTTAGCCGTAAAAAGTTGTCTTGCAGAGCCGGAGCACTGCGGGGC\\n', '>1C_0_30479_r1;size=14;*\\nTGCAGCTGCCAAAGATTGCCAACCTCCATCTAGACTTTCTGGAACGGCTAAGCGGAATTAGGCTGCCCAGAGTGGTGCCTTGCAAAGCGGACTT\\n', '>1C_0_20311_r1;size=20;*\\nTGCAGTTCCCGTACCCTTCGTGTGACCGAATCAATCACCTCTGTCTAAGTAGATTAGATTTAATCTACGGCCAGAGTTAGTTCGGGCTGAAAAT\\n', '>1C_0_60338_r1;size=16;*\\nTGCAGATCGATATCACGCCTTACAGTGTGAAAATAACGATGATAAACGGTCGTTCCCCACGGTCAGTTAAGATCGGAACTTCCTTACTACTTAA\\n', '>1C_0_50410_r1;size=22;*\\nTGCAGCTTAGTTGATCTTCCCAAACTTCGCTGAGCATCTCCGGGATGAACCATACACGGGCGGTAGACGCGGTGCTCAGATTTCAGGCTGTCGT\\n', '>1C_0_21766_r1;size=21;*\\nTGCAGGGCCATTATAGCAGTGCGAATTGTCTGGTACCGTACCAGTGAGTCAAAAGACAAGATAAAATAGTTATACATGTTTGGACTGTCTAGAG\\n', '>1C_0_2259_r1;size=19;*\\nTGCAGCCTAAATATTTGGGGACGCCTTGGAGCTTCTATACGAACCACGTTTCCACTCGCGCCCCTACGTCCCAGGCAAGTCACACGTTCAGAAA\\n', '>1C_0_52300_r1;size=18;*\\nTGCAGAGCTCTTAGGTGGACAATATGTTGCCCATGGGTACATTGTACTGGAATCGTGTACGCGGTTAAACACTAGGTTACCGGTCAGACGCAGA\\n', '>1C_0_41940_r1;size=22;*\\nTGCAGCGGAGTCTCTTGACACCCCACAACACTTTGATGACTGGGTGCTATTCACCAGTCGCGCGTGGATATGAAAGGGAAAAGCCCACGGGGTA\\n', '>1C_0_70465_r1;size=25;*\\nTGCAGGTAGCTTTAGTGACCATGCAGTCTTTACCGTGGGAGAGGCTCCCCTTTTTGTTGCTCTATCCCTCCGCCAGAACGGAAAGAGTTATCCG\\n', '>1C_0_1036_r1;size=20;*\\nTGCAGGCCCCCTGAGGTTCGAAGTACGACCGTAGCCGGACCTATGCTTGTCGGTGCGTGTGCAATCAGACACAGGTGTCTAGCGCCGTTACAGC\\n', '>1C_0_10049_r1;size=21;*\\nTGCAGGATCCGTTTGTATGTTAGCGAATTAGATACTGGGCGGAACTGAATTTCGGTGGTGTGGGGCGCAAGACGTGGCCTGTTTTGCCTAAACA\\n', '>1C_0_10518_r1;size=15;*\\nTGCAGGGAGATATGATCAATGCCTGTCGATGCAATCACTTGACCCGATCCAGATACTAGATTTACGGTAAGCTGATATTGTCATGGCGATGCTT\\n', '>1C_0_30359_r1;size=21;*\\nTGCAGGAAACCGTAACACAACTGTTAAGCGACGCCACGGAACCAGTCTATATCAGGGATCACGGTGCAAAGTTCGTAGCACAGTTGAGCGCGCC\\n', '>1C_0_287_r1;size=21;*\\nTGCAGAGCCAGCACACTCAATTGACTAGGACATAAATTTCGGAGTGGTCCTCGAGGGGAATTTATTTCAAGTTTCAAAACGTTCCTTACGATCG\\n', '>1C_0_70490_r1;size=22;*\\nTGCAGAGACCCAAGAACATAAGTGTAAACGCGTTAAACCTATGGCATGAGCTAATACTGCTATCGCTAATAGCGTAAGCCTTAGCGGTACGTGG\\n', '>1C_0_30108_r1;size=22;*\\nTGCAGATTTGCGGGAGCACACCCCAAAAGCGGAGTTGGCAGTGACACGTGAAGGTTGTACCAAGCGCGGGTCAATTAGTGCCCTATGATCACAG\\n', '>1C_0_62315_r1;size=22;*\\nTGCAGGATCTATGTAGCTAAGTTTCTTGGAAAGCTAAACGACGTATGCTCGCATTATGTCCATATACAGGATTTCGGAGGTCTCTGTCCTTGTT\\n', '>1C_0_40600_r1;size=25;*\\nTGCAGAAGCCTGCTTCCAGTTAATAATCTTGCATTGCTGAGCTATGCAACGATGGCTAGTGCTCAGCGCCTTTCGAGTTAGCCGACTATTGGGC\\n', '>1C_0_62138_r1;size=16;*\\nTGCAGTCATATCCGTAGCGTACTCAGTATGATTATTAGCCGCTGTGTACCTATACACACAGATCTCGTCACTTCACGAGCTATTGATTAACTTA\\n']\n",
      "DEBUG:ipyrad.assemble.consens_se:chunking len:30, done:1, num:11\n",
      "DEBUG:ipyrad.assemble.consens_se:1\n",
      "DEBUG:ipyrad.assemble.consens_se:chunking len:97, done:0, num:1\n",
      "DEBUG:ipyrad.assemble.consens_se:chunking len:97, done:0, num:2\n",
      "DEBUG:ipyrad.assemble.consens_se:chunking len:97, done:0, num:3\n",
      "DEBUG:ipyrad.assemble.consens_se:chunking len:97, done:0, num:4\n",
      "DEBUG:ipyrad.assemble.consens_se:chunking len:97, done:0, num:5\n",
      "DEBUG:ipyrad.assemble.consens_se:chunking len:97, done:0, num:6\n",
      "DEBUG:ipyrad.assemble.consens_se:chunking len:97, done:0, num:7\n",
      "DEBUG:ipyrad.assemble.consens_se:chunking len:97, done:0, num:8\n",
      "DEBUG:ipyrad.assemble.consens_se:chunking len:97, done:0, num:9\n",
      "DEBUG:ipyrad.assemble.consens_se:chunking len:97, done:0, num:10\n",
      "DEBUG:ipyrad.assemble.consens_se:['>1D_0_10701_r1;size=18;*\\nTGCAGGCAATGCGTCTATATTAGGCTGTCTACTGTCCTAAGTGATCGTAATAAACTCGGTCACAAAGAGTGAGCGAGAGTTCACTTGACCAGTA\\n', '>1D_0_22221_r1;size=18;*\\nTGCAGGTAACTTCATCATAACGCTTGCCTAGCGATATCAGTAATAGCGAAGCGACGTATGGGGGACGTCGCAGAAGGTGACAGGTTCTGAGCTC\\n', '>1D_0_61352_r1;size=23;*\\nTGCAGCAAAGCTGTAGGTTCCCCAGGGAGCTGACATAGCCGCTTGCGCTGGATAGATCCAGAAGGAGCCACGGGCCTCTTTTTAGATCTGTCCA\\n', '>1D_0_40201_r1;size=18;*\\nTGCAGTAAGCGTGTCGGGGATATAAGATTGGAATTTGAGTTTACATTTCACTTCCTCAGGCATCCGTTTGCTTTCGACATATTTCTCTTTAGCT\\n', '>1D_0_31058_r1;size=22;*\\nTGCAGAACCCCTCTTCGTCATCTCATATATTCCTCGGCGAATGTGTCTTGTTCACGTCTTAGGCACTATTCGCCCGGCACTACGTAAAGCCTGG\\n', '>1D_0_60725_r1;size=22;*\\nTGCAGGCTCGCGCTTAGGTATCATTCGGTATTTAAAGTAAGAATACGTGCCATCTACCAGCTCTCGGCCGATTTACGCAAGCGGCTGGGTTGTT\\n', '>1D_0_40407_r1;size=19;*\\nTGCAGCAGCCGTGCGCTCACACCCTATGACCGACACTGGGTTTGAGCGAACAGATGTACCCATCCAAGCTTGAGATCTAAATAGTGTACTGAAT\\n', '>1D_0_42139_r1;size=20;*\\nTGCAGATTTTCATGTGCAGGAGCATCAGTACTGGGGATCGTTTAGTCAGCCACGAGTGCTGTGGTCCTTCACGCGATGGGAGCGATTTGATAAT\\n', '>1D_0_61595_r1;size=17;*\\nTGCAGTTAGGTAGGTTGCTTATGCCGTTGAGTTTTCTGGCTGTAACATAAATACATTAAATTAAGTAGACAGCCTCATGTATCTCCGGTGGACT\\n', '>1D_0_50932_r1;size=19;*\\nTGCAGTTATATCATACAGCTACGCTCTTGTGGTCTAGCAACACCCTTTTCACCGAACAACGAAAGGCGCCCGTTACACGTGTTGGTGCTCCGCG\\n', '>1D_0_51491_r1;size=19;*\\nTGCAGCGGTTGGATAACCATGAAAGTTAGTTTAGGTACCAATTGATAAGGAACCAGCGCAGCAGTCGGCGGAGCCTGATATGCAGTCAACCGTA\\n', '>1D_0_62113_r1;size=17;*\\nTGCAGTGCCTGTATTCGTCCGCATGACTCGTACGAGCGTGCCCGCTGCTCGCCACACTATTTAGCGAAAGTAAGCTTGCAAAGCGTACTTACCG\\n', '>1D_0_952_r1;size=22;*\\nTGCAGGAAAGGGCTTATTTAGGGTCCGACACGCCCTGATTTACGGAGATTAGCTGTAGCAACATGTTCTACAGCCAAAGCCCGAAGCGTACGAT\\n', '>1D_0_41538_r1;size=20;*\\nTGCAGAGTTTAGTCGCGGAGGGCGCCAGGTACCATTGAACCACAAAGATCTCTGTGGCGGGTGTTCGCGGTCATATCTTTGCGGAAGTTTCATA\\n', '>1D_0_61842_r1;size=21;*\\nTGCAGCTCCATCAGTGTGCTGCACCACTTTTCTTAGCCGGTGTGTCCTTCTGTACTGATAATGGTTTGGCTTAAGCGATTTGCGAAAAACGCAC\\n', '>1D_0_12441_r1;size=18;*\\nTGCAGCTCAATTTCCGATGCGCGCTCCATCGCGAAAATCAGGGTTCCCCAGGGATAGTAAGTCTATCTTATCGCATGTCGTACCGATTAGCTTG\\n', '>1D_0_11238_r1;size=20;*\\nTGCAGTATCCGTTAAAGTGTTATTTATGCAACTTGGCTATTGTTGCCACCGCTCCTAAGAGATGTGGTGAATCAACAGCAGAACCGGAAACTTA\\n', '>1D_0_42298_r1;size=15;*\\nTGCAGAACAAAAGACTTGCGTGCTCGCCCAGTCTCGGAGACATGGGCACCAGAACCAGATAACGGCCAGGACACTCGAGCCACTACAATAATGT\\n', '>1D_0_61463_r1;size=19;*\\nTGCAGAGGAAGCTGTCGCTCACACATTCGCTGACGAGGCTCAGCGTTATGTGGGAGTTCCCCCCCCGCCTCGTCCATTCCCCCGCTGTTCCCCC\\n', '>1D_0_30790_r1;size=20;*\\nTGCAGACTTAGGTGGATCCGCTCCTTCGCGATCACACATTTGTACTCGACGTCGGTTAAAAGAGCTGGCGCTGATCGAGCATTTGCTCGTTAGC\\n', '>1D_0_41892_r1;size=16;*\\nTGCAGAGAGTGAACATCAGAAGACAGGTGGGTAGAAGACGCAACTTAGGACCTAAGGTTCTGGAGCTATTTTAAGTTCGACAGACAGGTCCAGC\\n', '>1D_0_20024_r1;size=17;*\\nTGCAGAGCCGACCCTACCTAGCATAAAATGTGCGGATATTGCTTCTGGACAGCAACTGGACTCCCCATTGACACAAGCTGGGCGCGGATCTCGA\\n', '>1D_0_40600_r1;size=20;*\\nTGCAGGCTACCGCCATCTACCAACCCATGTCTCGCTTCTCCTAAAGCGAATGACCGTATGGCGGAAGCCCCAAGAAAAGTGTCGGGCAGCTAAA\\n', '>1D_0_61988_r1;size=28;*\\nTGCAGGTGGATTGACGTTCATTCGCACGTCGCAGTACTTGATAGTTCATACGAGTCTTCACGTGCATACGCAGACGTTAGCATCAACGGCACGG\\n', '>1D_0_22277_r1;size=17;*\\nTGCAGGCTTCGATGTGTGTTGCTTGCGGATTTCTAGGATTTCAAGCAGGAGGCCTGGCAAAAGCCTGTGACTAGGCCACGTTGTTGTGGAGCCT\\n', '>1D_0_50093_r1;size=19;*\\nTGCAGAACGATCGTTGCAACTGGGAAAAGCCCATATAGAGATATCGGATTTCGAACAGTACTCACTGAGTTAGACAGGTCGTCACTTGATCGCA\\n', '>1D_0_40787_r1;size=19;*\\nTGCAGCTACCGGAAAAGCGTTAGATTGATTCTAGCCTGCGACGACCTGACAGTCAGTCAGTGTCCATGCCGGAGCATTGCTTGATGTATTTGCC\\n', '>1D_0_61695_r1;size=19;*\\nTGCAGGTTTGGGCCGTTCCATGGGATCTCCGGGTTAACATCTAAGCATGCATTCCATTTAGCACGCGCAAACGCGTCGCGCTATCATTTGGAAA\\n', '>1D_0_252_r1;size=18;*\\nTGCAGCCGCTTTTGCAGCCAATGCTCTCACGTCAGGGTCTTAGCGATAACCTAGGTTCGCCGGCTCACTCGAGCAGACGCGTCTCGTAAATGAA\\n', '>1D_0_51155_r1;size=23;*\\nTGCAGCTCCTGTCGTAGTGATAGTCACTGAGCCTACTGCTGGTCTGCGGTCATATGGTAGAACTCCATGTCTAACTCTTCGGCTAGCTGAGAAC\\n']\n",
      "DEBUG:ipyrad.assemble.consens_se:chunking len:30, done:1, num:11\n",
      "DEBUG:ipyrad.assemble.consens_se:1\n",
      "DEBUG:ipyrad.assemble.consens_se:chunking len:97, done:0, num:1\n",
      "DEBUG:ipyrad.assemble.consens_se:chunking len:97, done:0, num:2\n",
      "DEBUG:ipyrad.assemble.consens_se:chunking len:97, done:0, num:3\n",
      "DEBUG:ipyrad.assemble.consens_se:chunking len:97, done:0, num:4\n",
      "DEBUG:ipyrad.assemble.consens_se:chunking len:97, done:0, num:5\n",
      "DEBUG:ipyrad.assemble.consens_se:chunking len:97, done:0, num:6\n",
      "DEBUG:ipyrad.assemble.consens_se:chunking len:97, done:0, num:7\n",
      "DEBUG:ipyrad.assemble.consens_se:chunking len:97, done:0, num:8\n",
      "DEBUG:ipyrad.assemble.consens_se:chunking len:97, done:0, num:9\n",
      "DEBUG:ipyrad.assemble.consens_se:chunking len:97, done:0, num:10\n",
      "DEBUG:ipyrad.assemble.consens_se:['>2H_0_1331_r1;size=22;*\\nTGCAGACCGCCTAATGGTTACCAAGGATAGGAGTACGGGTCCAGCGACGCTCGCAAAAATTAGAGTAGTGAACGTGCGTCTTCTACGCCTAAGA\\n', '>2H_0_21902_r1;size=23;*\\nTGCAGCATTAGGCTGTTAGTCGGTTCTACCAGTGCTGGCACACAACCTCAGGTTCAGTCAGTGTATTTGCCTTGGGCATCGTGGCACCCCTGCC\\n', '>2H_0_70063_r1;size=18;*\\nTGCAGCGAGGACTAACGCTAGCCAAATCTCGCTCCATAGCGCGATACTAGCCTGAAAACCTGTGATCGCCCATCGGTGATGGGACGGTGCGTTA\\n', '>2H_0_21027_r1;size=21;*\\nTGCAGAGCAGAGCGGGTCGCATAGGATCCCGTCTTTGAAAGTAGATGGGACGATCGAGTTATCCGAAGTCGAATCGGTCTACGGCAGGGGGGAC\\n', '>2H_0_12453_r1;size=19;*\\nTGCAGTGCTAACCTAAGCTGTATCTTTATCACAATCATTTTCGCTTTATGCTAGGTACTGGTAGGTCGGTGCGTTTGAATGAGGTATGACGATG\\n', '>2H_0_21008_r1;size=19;*\\nTGCAGATGTAGGGTTATCCGAGTGGCGACCAACCTGACGTCTGCGCTAACGCCGAGGCCTCCCCGGTGACCTGCATAGCAAATCGACGTCGTTA\\n', '>2H_0_70446_r1;size=21;*\\nTGCAGGCGGCCACTGGATGATCTTATTTTGTGTTCTGGGCGGTGTAATAGGCAGTAACCTCACGAAATTTGCAATACTAAGGGTGAGGAATGAG\\n', '>2H_0_61029_r1;size=16;*\\nTGCAGACGCCGATGACGCAACAACTGCATCTTAAGTGGAAACCATGCACATGCGTTGTTATGTCGGTCCCGGCGCCGTCAAGATGCGAACCTTT\\n', '>2H_0_50080_r1;size=18;*\\nTGCAGTGGGGTACATCGTCTCTGCGCTGCCTAATTTGAATAGGCACTACTACCGATTTCGGCATGGTAGTAACTTGGCGGTCATGCGTAAGAAT\\n', '>2H_0_10060_r1;size=14;*\\nTGCAGGATCCGTTTGTATGTTAGCTAATTAGATACTGGGCGGAACTGAATTTCGGTGGTGTGGGGCGCAAGACGTGGCCTGTTTTGCCTAAACA\\n', '>2H_0_62003_r1;size=15;*\\nTGCAGTCATATCCGTAGCGTACTCAGTATGATTATTAGCCGCTGTGTACCTATACACACAGATCTCGTCACTTCACGAGCTATTGATTAACTTA\\n', '>2H_0_30359_r1;size=21;*\\nTGCAGGAGCACCCTATCAACAGGGTCTAGCTGCCAATTCGTGAGGACTGTTCGTACCCAAGCTAGAACAGAATTCTTTAATGCAATAAATCGTC\\n', '>2H_0_22409_r1;size=18;*\\nTGCAGCCCAGGTCATCAAATACCTCTCCGGATTGACAGATTGGTTTTGAAGCCGCGCACCCCAAGCCACTTTTTTGGCACGACGGGCGTCCTAG\\n', '>2H_0_72220_r1;size=17;*\\nTGCAGTTTCATGTCGCAACACGTAATCATGAAAAAAGCACTTCGACTCTCGCAGGGTCATCTTTATGCCAGGGCAAGGCCGGTGGGCGGTTGGT\\n', '>2H_0_50199_r1;size=14;*\\nTGCAGCCTGGGGTGAGGGGTCGCCCGCACAATTCCCCTTGAACAGCCGGCGTAACGCTGAAGTGGACAAAAATACCCTCGAGCCGCTTGTAGAT\\n', '>2H_0_62160_r1;size=18;*\\nTGCAGGATCTATGTAGCTAAGTTTCTTGGAAAGCTAAACGACGTATGCTCGCATTATGTCCATATACAGAATTTGGGAGGTCTCTGTCCTTGTT\\n', '>2H_0_20201_r1;size=17;*\\nTGCAGGTCGTATACGTAACATCCATAGCGTAATACCCAAGAACTCTCTCCCGCCTCATATGGATACGTAACAGTTCTCTAGCAAGTCTCCCTTT\\n', '>2H_0_71715_r1;size=24;*\\nTGCAGTTCCGGAGCATGACTGTTTTCACTGCCAAGGTCCCTGGCAAGACCTGAAATATCACCCGCGGTTGCGAGCCGCGAACGGATTCTAGAAG\\n', '>2H_0_1570_r1;size=19;*\\nTGCAGCTCCCTCTAAGGCGTGCCACAACTATGAACGACCGCCAAACCATAGCAGGGGTGGCCAGTTCACGATAGGTCTACATCTTAAATATGTA\\n', '>2H_0_31439_r1;size=24;*\\nTGCAGGGCCGGTGTATTCATGAATTCCGTATCCCACAGGGTAAACAGTAGCACCCGTTAAAATTGGGCTCCACCTTCAAATAAATAGTCCACGC\\n', '>2H_0_20991_r1;size=17;*\\nTGCAGGCAATTAAGGAAGTCCTGTCTTGCGCACCCTTGCAGCTGCCAGCTAACGATCCGCGGGAGAGACTTTTAGGCCACACACCGGCGACAGG\\n', '>2H_0_411_r1;size=19;*\\nTGCAGAAAACGTCATAAGGTTGTAAGAGACGGCCTGTTGAAGTGCAAGCTGTCTGGGTAACCTCACTAGCTGCATGACGGACCCAACAGAAAAC\\n', '>2H_0_50020_r1;size=18;*\\nTGCAGTATCTCGCCTGGTGGATCCGTAGCCGGCCTGGCTTACCTACAAAGGAGGGGCAAACGCTTAGTGAATAGGATTGTAAGCTCATTTGGTA\\n', '>2H_0_12251_r1;size=20;*\\nTGCAGGTATTCTCGTTCGCTAACCTGCAAGGGTAATAGTGCGCGGTGTCGATGCCTGCTACTTTCTGTCGCAAGAGGGGTCAAAATACCGAACA\\n', '>2H_0_20036_r1;size=20;*\\nTGCAGAGCCGACCCTCCCTATCATAAAATGTGCGGATATTGCTTCTGGACAGCAACTGGACTCCCCATTGAAACAAGCTGGGCGCGGATCTCGA\\n', '>2H_0_20663_r1;size=17;*\\nTGCAGATCCAAGGGCGGAGCGGCTCTTACTGTACGGAGTTTAACCGCGAGCAGCCGTTTTCGTTAAGAGATCGGTGCACGTTACAGTGACCAAG\\n', '>2H_0_690_r1;size=17;*\\nTGCAGCGTTAATTTACGTGTCCCGAACTATACTTACAGTCCGGATGTCCTTTGGGTCCAGTCGTATGACCGAGATTTGTGTTGAACATTCCGGT\\n', '>2H_0_51513_r1;size=16;*\\nTGCAGAATAATATCATGCGTATCCTCTCAGTAGCCCTCTACCGGCCTGTCCTTACGCAAGTTATGTTTTAACAGACTTCATATTAAAATACACG\\n', '>2H_0_40756_r1;size=17;*\\nTGCAGGGTAGTAAGGTTCTAGTGTTGCGAAGCGCTGAACTGCGGACGTAAATATGTCTTCTCCTCTCAGAGGTGGACTGAATTCAAGACGACTG\\n', '>2H_0_71139_r1;size=19;*\\nTGCAGGACCCATGTATGCCCTGCTTTGATGAAAACCTGACAAAGTGTCTGCTATCGCCCCTGTGTGAGCTCTCGATTTTGAGGTTGCAATGCGA\\n']\n",
      "DEBUG:ipyrad.assemble.consens_se:chunking len:30, done:1, num:11\n",
      "DEBUG:ipyrad.assemble.consens_se:1\n"
     ]
    },
    {
     "name": "stdout",
     "output_type": "stream",
     "text": [
      "  Diploid base calls and paralog filter (max haplos = 2)\n",
      "  error rate (mean, std):  0.00075, 0.00002\n",
      "  heterozyg. (mean, std):  0.00198, 0.00018\n",
      "\n",
      "      state  reads_raw  reads_filtered  clusters_total  clusters_kept  \\\n",
      "1A_0      5      20099           20099            1000           1000   \n",
      "1B_0      5      19977           19977            1000           1000   \n",
      "1C_0      5      20114           20114            1000           1000   \n",
      "1D_0      5      19895           19895            1000           1000   \n",
      "2E_0      5      19928           19928            1000           1000   \n",
      "2F_0      5      19934           19934            1000           1000   \n",
      "2G_0      5      20026           20026            1000           1000   \n",
      "2H_0      5      19936           19936            1000           1000   \n",
      "3I_0      5      20084           20084            1000           1000   \n",
      "3J_0      5      20011           20011            1000           1000   \n",
      "3K_0      5      20117           20117            1000           1000   \n",
      "3L_0      5      19901           19901            1000           1000   \n",
      "\n",
      "      hetero_est  error_est  reads_consens  \n",
      "1A_0    0.002223   0.000756           1000  \n",
      "1B_0    0.001910   0.000775           1000  \n",
      "1C_0    0.002260   0.000751           1000  \n",
      "1D_0    0.001876   0.000731           1000  \n",
      "2E_0    0.001809   0.000770           1000  \n",
      "2F_0    0.002103   0.000725           1000  \n",
      "2G_0    0.001910   0.000707           1000  \n",
      "2H_0    0.002215   0.000755           1000  \n",
      "3I_0    0.001877   0.000784           1000  \n",
      "3J_0    0.001698   0.000741           1000  \n",
      "3K_0    0.001821   0.000767           1000  \n",
      "3L_0    0.002003   0.000755           1000  \n"
     ]
    }
   ],
   "source": [
    "## run step 5\n",
    "data1.step5()\n",
    "\n",
    "## print the results\n",
    "print data1.stats"
   ]
  },
  {
   "cell_type": "markdown",
   "metadata": {},
   "source": [
    "### Quick parameter explanations are always on-hand"
   ]
  },
  {
   "cell_type": "code",
   "execution_count": null,
   "metadata": {
    "collapsed": false
   },
   "outputs": [],
   "source": [
    "ip.get_params_info(10)"
   ]
  },
  {
   "cell_type": "markdown",
   "metadata": {},
   "source": [
    "### Log history \n",
    "A common problem at the end of an analysis, or while troubleshooting it, is that you find you've completely forgotten which parameters you used at what point, and when you changed them. Documenting or executing code inside Jupyter notebooks (like the one you're reading right now) is a great way to keep track of all of this. In addition, _ipyrad_ also stores a log history which time stamps all modifications to Assembly objects. "
   ]
  },
  {
   "cell_type": "code",
   "execution_count": null,
   "metadata": {
    "collapsed": false
   },
   "outputs": [],
   "source": [
    "for i in data1.log:\n",
    "    print i\n",
    "    \n",
    "print \"\\ndata 2 log includes its pre-branching history with data1\"\n",
    "for i in data2.log:\n",
    "    print i"
   ]
  },
  {
   "cell_type": "markdown",
   "metadata": {},
   "source": [
    "### Saving Assembly objects\n",
    "Assembly objects can be saved and loaded so that interactive analyses can be started, stopped, and returned to quite easily. The format of these saved files is a serialized 'dill' object used by Python. Individual Sample objects are saved within Assembly objects. These objects to not contain the actual sequence data, but only link to it, and so are not very large. The information contained includes parameters and the log of Assembly objects, and the statistics and state of Sample objects. Assembly objects are autosaved each time an assembly `step` function is called, but you can also create your own checkpoints with the `save` command. "
   ]
  },
  {
   "cell_type": "code",
   "execution_count": null,
   "metadata": {
    "collapsed": true
   },
   "outputs": [],
   "source": [
    "## save assembly object\n",
    "#ip.save_assembly(\"data1.p\")\n",
    "\n",
    "## load assembly object\n",
    "#data = ip.load_assembly(\"data1.p\")\n",
    "#print data.name"
   ]
  }
 ],
 "metadata": {
  "kernelspec": {
   "display_name": "Python 2",
   "language": "python",
   "name": "python2"
  },
  "language_info": {
   "codemirror_mode": {
    "name": "ipython",
    "version": 2
   },
   "file_extension": ".py",
   "mimetype": "text/x-python",
   "name": "python",
   "nbconvert_exporter": "python",
   "pygments_lexer": "ipython2",
   "version": "2.7.10"
  }
 },
 "nbformat": 4,
 "nbformat_minor": 0
}
