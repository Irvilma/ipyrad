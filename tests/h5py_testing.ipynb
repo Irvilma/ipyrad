{
 "cells": [
  {
   "cell_type": "code",
   "execution_count": 1,
   "metadata": {
    "collapsed": true
   },
   "outputs": [],
   "source": [
    "import os\n",
    "import pandas as pd\n",
    "import numpy as np\n",
    "import ipyrad\n",
    "import ipyparallel as ipp\n",
    "import h5py\n",
    "import subprocess"
   ]
  },
  {
   "cell_type": "code",
   "execution_count": 2,
   "metadata": {
    "collapsed": true
   },
   "outputs": [],
   "source": [
    "from ipyrad.assemble.util import *\n",
    "from ipyrad.assemble.refmap import *"
   ]
  },
  {
   "cell_type": "code",
   "execution_count": 3,
   "metadata": {
    "collapsed": false
   },
   "outputs": [
    {
     "name": "stdout",
     "output_type": "stream",
     "text": [
      "  loading Assembly: pairddreftest\n",
      "  from saved path: ~/Documents/ipyrad/tests/pairddreftest/pairddreftest.json\n"
     ]
    }
   ],
   "source": [
    "data = ipyrad.load_json(\"pairddreftest/pairddreftest.json\")\n",
    "sample = data.samples[\"1A_0\"]\n",
    "nthreads=2\n",
    "#sample.files.dereps = [\"pairddreftest/pairddreftest_edits/1A_0_derep.fastq\"]\n",
    "\n",
    "ipyrad.assemble.cluster_within.setup_dirs(data)"
   ]
  },
  {
   "cell_type": "code",
   "execution_count": 4,
   "metadata": {
    "collapsed": false
   },
   "outputs": [],
   "source": [
    "ipyrad.assemble.cluster_within.setup_dirs(data)"
   ]
  },
  {
   "cell_type": "markdown",
   "metadata": {},
   "source": [
    "### derep_concat_split for pairs"
   ]
  },
  {
   "cell_type": "code",
   "execution_count": 5,
   "metadata": {
    "collapsed": false
   },
   "outputs": [
    {
     "name": "stdout",
     "output_type": "stream",
     "text": [
      "[('/home/deren/Documents/ipyrad/tests/pairddreftest/pairddreftest_edits/1A_0_R1_.fastq', '/home/deren/Documents/ipyrad/tests/pairddreftest/pairddreftest_edits/1A_0_R2_.fastq')]\n",
      "[('/home/deren/Documents/ipyrad/tests/pairddreftest/pairddreftest_edits/1A_0_R1_.fastq', '/home/deren/Documents/ipyrad/tests/pairddreftest/pairddreftest_edits/1A_0_R2_.fastq')]\n"
     ]
    }
   ],
   "source": [
    "print sample.files.edits\n",
    "sample = ipyrad.assemble.cluster_within.concat_edits(data, sample)\n",
    "print sample.files.edits"
   ]
  },
  {
   "cell_type": "code",
   "execution_count": 6,
   "metadata": {
    "collapsed": false
   },
   "outputs": [
    {
     "name": "stdout",
     "output_type": "stream",
     "text": [
      "/home/deren/Documents/ipyrad/tests/pairddreftest/pairddreftest_edits/1A_0_R1_.fastq\n",
      "/home/deren/Documents/ipyrad/tests/pairddreftest/pairddreftest_edits/1A_0_R2_.fastq\n"
     ]
    }
   ],
   "source": [
    "for fhandle in sample.files.edits[0]:\n",
    "    print fhandle"
   ]
  },
  {
   "cell_type": "code",
   "execution_count": 7,
   "metadata": {
    "collapsed": false
   },
   "outputs": [
    {
     "name": "stdout",
     "output_type": "stream",
     "text": [
      "/home/deren/Documents/ipyrad/tests/pairddreftest/pairddreftest_edits/1A_0_R1_.fastq\n",
      "/home/deren/Documents/ipyrad/tests/pairddreftest/pairddreftest_edits/1A_0_R2_.fastq\n"
     ]
    }
   ],
   "source": [
    "merge = rcomp = 1\n",
    "if \"reference\" in data.paramsdict[\"assembly_method\"]:\n",
    "    merge = rcomp = 0\n",
    "    \n",
    "## in pair section\n",
    "mergefile = os.path.join(data.dirs.edits, sample.name+\"_merged_.fastq\")\n",
    "nmerged = merge_pairs(data, sample.files.edits, mergefile, rcomp, merge)\n",
    "sample.files.edits = [(mergefile,)]\n",
    "sample.stats.reads_merged = nmerged\n",
    "\n"
   ]
  },
  {
   "cell_type": "code",
   "execution_count": 8,
   "metadata": {
    "collapsed": false
   },
   "outputs": [],
   "source": [
    "ipyrad.assemble.cluster_within.derep_and_sort(data, \n",
    "        sample.files.edits[0][0], \n",
    "        os.path.join(data.dirs.edits, sample.name+\"_derep.fastq\"),\n",
    "        nthreads)"
   ]
  },
  {
   "cell_type": "markdown",
   "metadata": {},
   "source": [
    "### mapreads"
   ]
  },
  {
   "cell_type": "code",
   "execution_count": 9,
   "metadata": {
    "collapsed": false
   },
   "outputs": [],
   "source": [
    "derepfile = os.path.join(data.dirs.edits, sample.name+\"_derep.fastq\")\n",
    "sample.files.dereps = [derepfile]\n",
    "\n",
    "## This is the final output files containing merged/concat derep'd refmap'd \n",
    "## reads that did not match to the reference. They will be back in \n",
    "## merge/concat (--nnnnn--) format ready to be input to vsearch, if needed. \n",
    "mumapfile = sample.files.unmapped_reads\n",
    "umap1file = os.path.join(data.dirs.edits, sample.name+\"-tmp-umap1.fastq\")\n",
    "umap2file = os.path.join(data.dirs.edits, sample.name+\"-tmp-umap2.fastq\")        \n",
    "\n",
    "## split the derepfile into the two handles we designate\n",
    "if \"pair\" in data.paramsdict[\"datatype\"]:\n",
    "    sample.files.split1 = os.path.join(data.dirs.edits, sample.name+\"-split1.fastq\")\n",
    "    sample.files.split2 = os.path.join(data.dirs.edits, sample.name+\"-split2.fastq\")\n",
    "    sample.files.dereps = [sample.files.split1, sample.files.split2]\n",
    "    split_merged_reads(sample.files.dereps, derepfile)"
   ]
  },
  {
   "cell_type": "code",
   "execution_count": 10,
   "metadata": {
    "collapsed": false
   },
   "outputs": [],
   "source": [
    "cmd1 = [ipyrad.bins.smalt, \"map\", \n",
    "        \"-f\", \"sam\", \n",
    "        \"-n\", str(max(1, nthreads)),\n",
    "        \"-y\", str(data.paramsdict['clust_threshold']), \n",
    "        \"-o\", os.path.join(data.dirs.refmapping, sample.name+\".sam\"),\n",
    "        \"-x\",\n",
    "        data.paramsdict['reference_sequence']\n",
    "        ] + sample.files.dereps"
   ]
  },
  {
   "cell_type": "code",
   "execution_count": 11,
   "metadata": {
    "collapsed": false
   },
   "outputs": [],
   "source": [
    "cmd2 = [ipyrad.bins.samtools, \"view\", \n",
    "       \"-b\", \n",
    "       \"-F\", \"0x4\", \n",
    "       \"-U\", os.path.join(data.dirs.refmapping, sample.name+\"-unmapped.bam\"), \n",
    "       os.path.join(data.dirs.refmapping, sample.name+\".sam\")]"
   ]
  },
  {
   "cell_type": "code",
   "execution_count": 12,
   "metadata": {
    "collapsed": false
   },
   "outputs": [],
   "source": [
    "## this is gonna catch mapped bam output from cmd2 and write to file\n",
    "cmd3 = [ipyrad.bins.samtools, \"sort\", \n",
    "        \"-T\", os.path.join(data.dirs.refmapping, sample.name+\".sam.tmp\"),\n",
    "        \"-O\", \"BAM\", \n",
    "        \"-o\", sample.files.mapped_reads]\n",
    "\n",
    "## this is gonna read the sorted BAM file and index it. only for pileup?\n",
    "cmd4 = [ipyrad.bins.samtools, \"index\", sample.files.mapped_reads]"
   ]
  },
  {
   "cell_type": "code",
   "execution_count": 13,
   "metadata": {
    "collapsed": true
   },
   "outputs": [],
   "source": [
    "## this is gonna read in the unmapped files, args are added below, \n",
    "## and it will output fastq formatted unmapped reads for merging.\n",
    "cmd5 = [ipyrad.bins.samtools, \"bam2fq\", \n",
    "        os.path.join(data.dirs.refmapping, sample.name+\"-unmapped.bam\")]"
   ]
  },
  {
   "cell_type": "code",
   "execution_count": 14,
   "metadata": {
    "collapsed": true
   },
   "outputs": [],
   "source": [
    "if 'pair' in data.paramsdict[\"datatype\"]:\n",
    "    ## add paired flag (-l pe) to cmd1 right after (smalt map ...) \n",
    "    cmd1.insert(2, \"pe\")\n",
    "    cmd1.insert(2, \"-l\")\n",
    "    ## add samtools filter for only keep if both pairs hit\n",
    "    cmd2.insert(2, \"0x2\")\n",
    "    cmd2.insert(2, \"-f\")\n",
    "    ## tell bam2fq that there are output files for each read pair\n",
    "    cmd5.insert(2, umap1file)\n",
    "    cmd5.insert(2, \"-1\")\n",
    "    cmd5.insert(2, umap2file)\n",
    "    cmd5.insert(2, \"-2\")\n",
    "else:\n",
    "    cmd5.insert(2, mumapfile)\n",
    "    cmd5.insert(2, \"-0\")"
   ]
  },
  {
   "cell_type": "code",
   "execution_count": 15,
   "metadata": {
    "collapsed": false
   },
   "outputs": [
    {
     "data": {
      "text/plain": [
       "('', None)"
      ]
     },
     "execution_count": 15,
     "metadata": {},
     "output_type": "execute_result"
    }
   ],
   "source": [
    "proc1 = subprocess.Popen(cmd1, stdout=subprocess.PIPE)\n",
    "proc1.communicate()"
   ]
  },
  {
   "cell_type": "code",
   "execution_count": 16,
   "metadata": {
    "collapsed": true
   },
   "outputs": [],
   "source": [
    "proc2 = subprocess.Popen(cmd2, stdout=subprocess.PIPE)\n",
    "proc3 = subprocess.Popen(cmd3, stdin=proc2.stdout, stdout=subprocess.PIPE)"
   ]
  },
  {
   "cell_type": "code",
   "execution_count": 17,
   "metadata": {
    "collapsed": false
   },
   "outputs": [
    {
     "data": {
      "text/plain": [
       "('', None)"
      ]
     },
     "execution_count": 17,
     "metadata": {},
     "output_type": "execute_result"
    }
   ],
   "source": [
    "proc3.communicate()"
   ]
  },
  {
   "cell_type": "code",
   "execution_count": 18,
   "metadata": {
    "collapsed": false
   },
   "outputs": [
    {
     "data": {
      "text/plain": [
       "('', None)"
      ]
     },
     "execution_count": 18,
     "metadata": {},
     "output_type": "execute_result"
    }
   ],
   "source": [
    "proc4 = sps.Popen(cmd4, stdout=sps.PIPE)\n",
    "proc4.communicate()"
   ]
  },
  {
   "cell_type": "code",
   "execution_count": 19,
   "metadata": {
    "collapsed": true
   },
   "outputs": [],
   "source": [
    "proc5 = subprocess.Popen(cmd5, stderr=subprocess.STDOUT, \n",
    "                               stdout=subprocess.PIPE)"
   ]
  },
  {
   "cell_type": "code",
   "execution_count": 20,
   "metadata": {
    "collapsed": false
   },
   "outputs": [
    {
     "data": {
      "text/plain": [
       "'[M::bam2fq_mainloop] processed 6770 reads\\n'"
      ]
     },
     "execution_count": 20,
     "metadata": {},
     "output_type": "execute_result"
    }
   ],
   "source": [
    "proc5.communicate()[0]"
   ]
  },
  {
   "cell_type": "code",
   "execution_count": 21,
   "metadata": {
    "collapsed": false
   },
   "outputs": [
    {
     "name": "stdout",
     "output_type": "stream",
     "text": [
      "/home/deren/Documents/ipyrad/tests/pairddreftest/pairddreftest_edits/1A_0-tmp-umap1.fastq\n",
      "/home/deren/Documents/ipyrad/tests/pairddreftest/pairddreftest_edits/1A_0-tmp-umap2.fastq\n"
     ]
    },
    {
     "data": {
      "text/plain": [
       "0"
      ]
     },
     "execution_count": 21,
     "metadata": {},
     "output_type": "execute_result"
    }
   ],
   "source": [
    "umap1file\n",
    "umap2file\n",
    "#mumapfile = os.path.join(data.dirs.edits, sample.name+\"-refmap_derep.fastq\")\n",
    "#mumapfile\n",
    "merge_pairs(data, [(umap1file, umap2file)], mumapfile, 1, 1)"
   ]
  },
  {
   "cell_type": "markdown",
   "metadata": {},
   "source": [
    "### bedtools_merge"
   ]
  },
  {
   "cell_type": "markdown",
   "metadata": {},
   "source": [
    "#### check_insert_size"
   ]
  },
  {
   "cell_type": "code",
   "execution_count": 29,
   "metadata": {
    "collapsed": false
   },
   "outputs": [],
   "source": [
    "cmd1 = [ipyrad.bins.samtools, \"stats\", sample.files.mapped_reads]\n",
    "cmd2 = [\"grep\", \"SN\", \"-\"]\n",
    "proc1 = sps.Popen(cmd1, stderr=sps.STDOUT, stdout=sps.PIPE)\n",
    "proc2 = sps.Popen(cmd2, stderr=sps.STDOUT, stdout=sps.PIPE, stdin=sps.PIPE)"
   ]
  },
  {
   "cell_type": "code",
   "execution_count": 30,
   "metadata": {
    "collapsed": false
   },
   "outputs": [
    {
     "data": {
      "text/plain": [
       "('# Summary Numbers. Use `grep ^SN | cut -f 2-` to extract this part.\\nSN\\traw total sequences:\\t730\\nSN\\tfiltered sequences:\\t0\\nSN\\tsequences:\\t730\\nSN\\tis sorted:\\t1\\nSN\\t1st fragments:\\t365\\nSN\\tlast fragments:\\t365\\nSN\\treads mapped:\\t730\\nSN\\treads mapped and paired:\\t730\\t# paired-end technology bit set + both mates mapped\\nSN\\treads unmapped:\\t0\\nSN\\treads properly paired:\\t730\\t# proper-pair bit set\\nSN\\treads paired:\\t730\\t# paired-end technology bit set\\nSN\\treads duplicated:\\t0\\t# PCR or optical duplicate bit set\\nSN\\treads MQ0:\\t0\\t# mapped and MQ=0\\nSN\\treads QC failed:\\t0\\nSN\\tnon-primary alignments:\\t0\\nSN\\ttotal length:\\t69715\\t# ignores clipping\\nSN\\tbases mapped:\\t69715\\t# ignores clipping\\nSN\\tbases mapped (cigar):\\t69633\\t# more accurate\\nSN\\tbases trimmed:\\t0\\nSN\\tbases duplicated:\\t0\\nSN\\tmismatches:\\t881\\t# from NM fields\\nSN\\terror rate:\\t1.265205e-02\\t# mismatches / bases mapped (cigar)\\nSN\\taverage length:\\t95\\nSN\\tmaximum length:\\t100\\nSN\\taverage quality:\\t255.0\\nSN\\tinsert size average:\\t291.0\\nSN\\tinsert size standard deviation:\\t0.0\\nSN\\tinward oriented pairs:\\t365\\nSN\\toutward oriented pairs:\\t0\\nSN\\tpairs with other orientation:\\t0\\nSN\\tpairs on different chromosomes:\\t0\\n',\n",
       " None)"
      ]
     },
     "execution_count": 30,
     "metadata": {},
     "output_type": "execute_result"
    }
   ],
   "source": [
    "res1, res2 = proc2.communicate(proc1.stdout.read())\n",
    "res1, res2"
   ]
  },
  {
   "cell_type": "code",
   "execution_count": 31,
   "metadata": {
    "collapsed": true
   },
   "outputs": [],
   "source": [
    "## starting vals\n",
    "avg_insert = 0\n",
    "stdv_insert = 0\n",
    "avg_len = 0\n",
    "\n",
    "## iterate over results\n",
    "for line in res.split(\"\\n\"):\n",
    "    if \"insert size average\" in line:\n",
    "        avg_insert = float(line.split(\":\")[-1].strip())\n",
    "\n",
    "    elif \"insert size standard deviation\" in line:\n",
    "        ## hack to fix sim data when stdv is 0.0. Shouldn't\n",
    "        ## impact real data bcz stdv gets rounded up below\n",
    "        stdv_insert = float(line.split(\":\")[-1].strip()) + 0.1\n",
    "\n",
    "    elif \"average length\" in line:\n",
    "        avg_len = float(line.split(\":\")[-1].strip())"
   ]
  },
  {
   "cell_type": "code",
   "execution_count": 34,
   "metadata": {
    "collapsed": false
   },
   "outputs": [
    {
     "data": {
      "text/plain": [
       "60"
      ]
     },
     "execution_count": 34,
     "metadata": {},
     "output_type": "execute_result"
    }
   ],
   "source": [
    "data._hackersonly[\"max_inner_mate_distance\"]\n"
   ]
  },
  {
   "cell_type": "code",
   "execution_count": 35,
   "metadata": {
    "collapsed": false
   },
   "outputs": [
    {
     "data": {
      "text/plain": [
       "(291.0, 0.1, 95.0)"
      ]
     },
     "execution_count": 35,
     "metadata": {},
     "output_type": "execute_result"
    }
   ],
   "source": [
    "avg_insert, stdv_insert, avg_len"
   ]
  },
  {
   "cell_type": "code",
   "execution_count": 37,
   "metadata": {
    "collapsed": false
   },
   "outputs": [
    {
     "data": {
      "text/plain": [
       "104"
      ]
     },
     "execution_count": 37,
     "metadata": {},
     "output_type": "execute_result"
    }
   ],
   "source": [
    "import math\n",
    "if all([avg_insert, stdv_insert, avg_len]):\n",
    "    ## If 2 * the average length of a read is less than the average\n",
    "    ## insert size then most reads DO NOT overlap\n",
    "    if (2 * avg_len) < avg_insert:\n",
    "        hack = avg_insert + (3 * math.ceil(stdv_insert)) - (2 * avg_len)\n",
    "\n",
    "    ## If it is > than the average insert size then most reads DO\n",
    "    ## overlap, so we have to calculate inner mate distance a little \n",
    "    ## differently.\n",
    "    else:\n",
    "        hack = (avg_insert - avg_len) * (3 * math.ceil(stdv_insert))\n",
    "\n",
    "    ## set the hackerdict value\n",
    "    data._hackersonly[\"max_inner_mate_distance\"] = int(math.ceil(hack))\n",
    "    \n",
    "data._hackersonly[\"max_inner_mate_distance\"]"
   ]
  },
  {
   "cell_type": "code",
   "execution_count": 64,
   "metadata": {
    "collapsed": true
   },
   "outputs": [],
   "source": [
    "mappedreads = os.path.join(data.dirs.refmapping, \n",
    "                   sample.name+\"-mapped-sorted.bam\")\n",
    "\n",
    "cmd1 = [ipyrad.bins.bedtools, \"bamtobed\", \"-i\", mappedreads]\n",
    "cmd2 = [ipyrad.bins.bedtools, \"merge\", \"-i\", \"-\"]"
   ]
  },
  {
   "cell_type": "code",
   "execution_count": 65,
   "metadata": {
    "collapsed": false
   },
   "outputs": [],
   "source": [
    "if 'pair' in data.paramsdict[\"datatype\"]:\n",
    "    hackinsert = check_insert_size(data, sample)\n",
    "    cmd2.insert(2, '80')#str(data._hackersonly[\"max_inner_mate_distance\"]))\n",
    "    cmd2.insert(2, \"-d\")\n"
   ]
  },
  {
   "cell_type": "code",
   "execution_count": 66,
   "metadata": {
    "collapsed": false
   },
   "outputs": [],
   "source": [
    "sps = subprocess\n",
    "proc1 = sps.Popen(cmd1, stderr=sps.STDOUT, stdout=sps.PIPE)\n",
    "proc2 = sps.Popen(cmd2, stderr=sps.STDOUT, stdout=sps.PIPE, stdin=sps.PIPE)"
   ]
  },
  {
   "cell_type": "code",
   "execution_count": 67,
   "metadata": {
    "collapsed": false
   },
   "outputs": [
    {
     "data": {
      "text/plain": [
       "['MT\\t109\\t199',\n",
       " 'MT\\t300\\t500',\n",
       " 'MT\\t600\\t800',\n",
       " 'MT\\t900\\t1100',\n",
       " 'MT\\t1200\\t1400',\n",
       " 'MT\\t1500\\t1700',\n",
       " 'MT\\t1800\\t2000',\n",
       " 'MT\\t2100\\t2300',\n",
       " 'MT\\t2400\\t2600',\n",
       " 'MT\\t2700\\t2900',\n",
       " 'MT\\t3000\\t3200',\n",
       " 'MT\\t3300\\t3500',\n",
       " 'MT\\t3600\\t3800',\n",
       " 'MT\\t3900\\t4100',\n",
       " 'MT\\t4200\\t4400',\n",
       " 'MT\\t4500\\t4700',\n",
       " 'MT\\t4800\\t5000',\n",
       " 'MT\\t5100\\t5300',\n",
       " 'MT\\t5400\\t5600',\n",
       " 'MT\\t5700\\t5900',\n",
       " 'MT\\t6000\\t6200',\n",
       " 'MT\\t6300\\t6500',\n",
       " 'MT\\t6600\\t6800',\n",
       " 'MT\\t6900\\t7100',\n",
       " 'MT\\t7200\\t7400',\n",
       " 'MT\\t7500\\t7700',\n",
       " 'MT\\t7800\\t8000',\n",
       " 'MT\\t8100\\t8300',\n",
       " 'MT\\t8400\\t8600',\n",
       " 'MT\\t8700\\t8900',\n",
       " 'MT\\t9000\\t9200',\n",
       " 'MT\\t9300\\t9500',\n",
       " 'MT\\t9600\\t9800',\n",
       " 'MT\\t9900\\t10100',\n",
       " 'MT\\t10200\\t10400',\n",
       " 'MT\\t10500\\t10699',\n",
       " 'MT\\t10800\\t11000',\n",
       " 'MT\\t11100\\t11300',\n",
       " 'MT\\t11400\\t11600',\n",
       " 'MT\\t11700\\t11900',\n",
       " 'MT\\t12000\\t12200',\n",
       " 'MT\\t12300\\t12500',\n",
       " 'MT\\t12600\\t12800',\n",
       " 'MT\\t12900\\t13100',\n",
       " 'MT\\t13200\\t13400',\n",
       " 'MT\\t13500\\t13700',\n",
       " 'MT\\t13800\\t14000',\n",
       " 'MT\\t14100\\t14300',\n",
       " 'MT\\t14400\\t14600',\n",
       " 'MT\\t14700\\t14900',\n",
       " 'MT\\t15000\\t15200',\n",
       " 'MT\\t15300\\t15500',\n",
       " 'MT\\t15600\\t15800',\n",
       " 'MT\\t15900\\t16100',\n",
       " 'MT\\t16200\\t16400',\n",
       " 'MT\\t16500\\t16700',\n",
       " 'MT\\t16800\\t17000',\n",
       " 'MT\\t17100\\t17300',\n",
       " 'MT\\t17400\\t17600',\n",
       " 'MT\\t17702\\t17900',\n",
       " 'MT\\t18000\\t18200',\n",
       " 'MT\\t18300\\t18499',\n",
       " 'MT\\t18600\\t18800',\n",
       " 'MT\\t18900\\t19100',\n",
       " 'MT\\t19200\\t19400',\n",
       " 'MT\\t19501\\t19700',\n",
       " 'MT\\t19800\\t20000',\n",
       " 'MT\\t20100\\t20300',\n",
       " 'MT\\t20403\\t20600',\n",
       " 'MT\\t20700\\t20900',\n",
       " 'MT\\t21000\\t21200',\n",
       " 'MT\\t21300\\t21500',\n",
       " 'MT\\t21600\\t21800',\n",
       " 'MT\\t21900\\t22100',\n",
       " 'MT\\t22200\\t22400',\n",
       " 'MT\\t22500\\t22700',\n",
       " 'MT\\t22800\\t23000',\n",
       " 'MT\\t23100\\t23300',\n",
       " 'MT\\t23400\\t23600',\n",
       " 'MT\\t23700\\t23900',\n",
       " 'MT\\t24000\\t24200',\n",
       " 'MT\\t24300\\t24500',\n",
       " 'MT\\t24600\\t24800',\n",
       " 'MT\\t24900\\t25100',\n",
       " 'MT\\t25200\\t25400',\n",
       " 'MT\\t25500\\t25700',\n",
       " 'MT\\t25800\\t26000',\n",
       " 'MT\\t26100\\t26300',\n",
       " 'MT\\t26400\\t26600',\n",
       " 'MT\\t26700\\t26900',\n",
       " 'MT\\t27000\\t27200',\n",
       " 'MT\\t27303\\t27500',\n",
       " 'MT\\t27600\\t27800',\n",
       " 'MT\\t27900\\t28100',\n",
       " 'MT\\t28200\\t28400',\n",
       " 'MT\\t28500\\t28700',\n",
       " 'MT\\t28800\\t29000',\n",
       " 'MT\\t29100\\t29300',\n",
       " 'MT\\t29400\\t29600',\n",
       " 'MT\\t29700\\t29900',\n",
       " 'MT\\t30000\\t30100',\n",
       " '']"
      ]
     },
     "execution_count": 67,
     "metadata": {},
     "output_type": "execute_result"
    }
   ],
   "source": [
    "regions = proc2.communicate(proc1.stdout.read())[0]\n",
    "regions.split(\"\\n\")"
   ]
  },
  {
   "cell_type": "code",
   "execution_count": 31,
   "metadata": {
    "collapsed": false
   },
   "outputs": [
    {
     "name": "stdout",
     "output_type": "stream",
     "text": [
      "/home/deren/Documents/ipyrad/tests/pairddreftest/pairddreftest_refmapping/1A_0-MT:106-350-R1\n",
      "/home/deren/Documents/ipyrad/tests/pairddreftest/pairddreftest_refmapping/1A_0-MT:106-350-R2\n",
      "/home/deren/Documents/ipyrad/tests/pairddreftest/pairddreftest_refmapping/1A_0-MT:406-650-R1\n",
      "/home/deren/Documents/ipyrad/tests/pairddreftest/pairddreftest_refmapping/1A_0-MT:406-650-R2\n",
      "/home/deren/Documents/ipyrad/tests/pairddreftest/pairddreftest_refmapping/1A_0-MT:706-950-R1\n",
      "/home/deren/Documents/ipyrad/tests/pairddreftest/pairddreftest_refmapping/1A_0-MT:706-950-R2\n",
      "/home/deren/Documents/ipyrad/tests/pairddreftest/pairddreftest_refmapping/1A_0-MT:1006-1250-R1\n",
      "/home/deren/Documents/ipyrad/tests/pairddreftest/pairddreftest_refmapping/1A_0-MT:1006-1250-R2\n",
      "/home/deren/Documents/ipyrad/tests/pairddreftest/pairddreftest_refmapping/1A_0-MT:1306-1550-R1\n",
      "/home/deren/Documents/ipyrad/tests/pairddreftest/pairddreftest_refmapping/1A_0-MT:1306-1550-R2\n",
      "/home/deren/Documents/ipyrad/tests/pairddreftest/pairddreftest_refmapping/1A_0-MT:1606-1850-R1\n",
      "/home/deren/Documents/ipyrad/tests/pairddreftest/pairddreftest_refmapping/1A_0-MT:1606-1850-R2\n",
      "/home/deren/Documents/ipyrad/tests/pairddreftest/pairddreftest_refmapping/1A_0-MT:1906-2150-R1\n",
      "/home/deren/Documents/ipyrad/tests/pairddreftest/pairddreftest_refmapping/1A_0-MT:1906-2150-R2\n",
      "/home/deren/Documents/ipyrad/tests/pairddreftest/pairddreftest_refmapping/1A_0-MT:2206-2450-R1\n",
      "/home/deren/Documents/ipyrad/tests/pairddreftest/pairddreftest_refmapping/1A_0-MT:2206-2450-R2\n",
      "/home/deren/Documents/ipyrad/tests/pairddreftest/pairddreftest_refmapping/1A_0-MT:2506-2750-R1\n",
      "/home/deren/Documents/ipyrad/tests/pairddreftest/pairddreftest_refmapping/1A_0-MT:2506-2750-R2\n",
      "/home/deren/Documents/ipyrad/tests/pairddreftest/pairddreftest_refmapping/1A_0-MT:2806-3050-R1\n",
      "/home/deren/Documents/ipyrad/tests/pairddreftest/pairddreftest_refmapping/1A_0-MT:2806-3050-R2\n",
      "/home/deren/Documents/ipyrad/tests/pairddreftest/pairddreftest_refmapping/1A_0-MT:3106-3350-R1\n",
      "/home/deren/Documents/ipyrad/tests/pairddreftest/pairddreftest_refmapping/1A_0-MT:3106-3350-R2\n",
      "/home/deren/Documents/ipyrad/tests/pairddreftest/pairddreftest_refmapping/1A_0-MT:3406-3650-R1\n",
      "/home/deren/Documents/ipyrad/tests/pairddreftest/pairddreftest_refmapping/1A_0-MT:3406-3650-R2\n",
      "/home/deren/Documents/ipyrad/tests/pairddreftest/pairddreftest_refmapping/1A_0-MT:3706-3950-R1\n",
      "/home/deren/Documents/ipyrad/tests/pairddreftest/pairddreftest_refmapping/1A_0-MT:3706-3950-R2\n",
      "/home/deren/Documents/ipyrad/tests/pairddreftest/pairddreftest_refmapping/1A_0-MT:4006-4250-R1\n",
      "/home/deren/Documents/ipyrad/tests/pairddreftest/pairddreftest_refmapping/1A_0-MT:4006-4250-R2\n",
      "/home/deren/Documents/ipyrad/tests/pairddreftest/pairddreftest_refmapping/1A_0-MT:4306-4550-R1\n",
      "/home/deren/Documents/ipyrad/tests/pairddreftest/pairddreftest_refmapping/1A_0-MT:4306-4550-R2\n",
      "/home/deren/Documents/ipyrad/tests/pairddreftest/pairddreftest_refmapping/1A_0-MT:4606-4850-R1\n",
      "/home/deren/Documents/ipyrad/tests/pairddreftest/pairddreftest_refmapping/1A_0-MT:4606-4850-R2\n",
      "/home/deren/Documents/ipyrad/tests/pairddreftest/pairddreftest_refmapping/1A_0-MT:4906-5150-R1\n",
      "/home/deren/Documents/ipyrad/tests/pairddreftest/pairddreftest_refmapping/1A_0-MT:4906-5150-R2\n",
      "/home/deren/Documents/ipyrad/tests/pairddreftest/pairddreftest_refmapping/1A_0-MT:5206-5450-R1\n",
      "/home/deren/Documents/ipyrad/tests/pairddreftest/pairddreftest_refmapping/1A_0-MT:5206-5450-R2\n",
      "/home/deren/Documents/ipyrad/tests/pairddreftest/pairddreftest_refmapping/1A_0-MT:5506-5750-R1\n",
      "/home/deren/Documents/ipyrad/tests/pairddreftest/pairddreftest_refmapping/1A_0-MT:5506-5750-R2\n",
      "/home/deren/Documents/ipyrad/tests/pairddreftest/pairddreftest_refmapping/1A_0-MT:5806-6050-R1\n",
      "/home/deren/Documents/ipyrad/tests/pairddreftest/pairddreftest_refmapping/1A_0-MT:5806-6050-R2\n",
      "/home/deren/Documents/ipyrad/tests/pairddreftest/pairddreftest_refmapping/1A_0-MT:6106-6350-R1\n",
      "/home/deren/Documents/ipyrad/tests/pairddreftest/pairddreftest_refmapping/1A_0-MT:6106-6350-R2\n",
      "/home/deren/Documents/ipyrad/tests/pairddreftest/pairddreftest_refmapping/1A_0-MT:6406-6650-R1\n",
      "/home/deren/Documents/ipyrad/tests/pairddreftest/pairddreftest_refmapping/1A_0-MT:6406-6650-R2\n",
      "/home/deren/Documents/ipyrad/tests/pairddreftest/pairddreftest_refmapping/1A_0-MT:6706-6950-R1\n",
      "/home/deren/Documents/ipyrad/tests/pairddreftest/pairddreftest_refmapping/1A_0-MT:6706-6950-R2\n",
      "/home/deren/Documents/ipyrad/tests/pairddreftest/pairddreftest_refmapping/1A_0-MT:7006-7250-R1\n",
      "/home/deren/Documents/ipyrad/tests/pairddreftest/pairddreftest_refmapping/1A_0-MT:7006-7250-R2\n",
      "/home/deren/Documents/ipyrad/tests/pairddreftest/pairddreftest_refmapping/1A_0-MT:7306-7550-R1\n",
      "/home/deren/Documents/ipyrad/tests/pairddreftest/pairddreftest_refmapping/1A_0-MT:7306-7550-R2\n",
      "/home/deren/Documents/ipyrad/tests/pairddreftest/pairddreftest_refmapping/1A_0-MT:7606-7850-R1\n",
      "/home/deren/Documents/ipyrad/tests/pairddreftest/pairddreftest_refmapping/1A_0-MT:7606-7850-R2\n",
      "/home/deren/Documents/ipyrad/tests/pairddreftest/pairddreftest_refmapping/1A_0-MT:7906-8150-R1\n",
      "/home/deren/Documents/ipyrad/tests/pairddreftest/pairddreftest_refmapping/1A_0-MT:7906-8150-R2\n",
      "/home/deren/Documents/ipyrad/tests/pairddreftest/pairddreftest_refmapping/1A_0-MT:8206-8450-R1\n",
      "/home/deren/Documents/ipyrad/tests/pairddreftest/pairddreftest_refmapping/1A_0-MT:8206-8450-R2\n",
      "/home/deren/Documents/ipyrad/tests/pairddreftest/pairddreftest_refmapping/1A_0-MT:8506-8750-R1\n",
      "/home/deren/Documents/ipyrad/tests/pairddreftest/pairddreftest_refmapping/1A_0-MT:8506-8750-R2\n",
      "/home/deren/Documents/ipyrad/tests/pairddreftest/pairddreftest_refmapping/1A_0-MT:8806-9050-R1\n",
      "/home/deren/Documents/ipyrad/tests/pairddreftest/pairddreftest_refmapping/1A_0-MT:8806-9050-R2\n",
      "/home/deren/Documents/ipyrad/tests/pairddreftest/pairddreftest_refmapping/1A_0-MT:9106-9350-R1\n",
      "/home/deren/Documents/ipyrad/tests/pairddreftest/pairddreftest_refmapping/1A_0-MT:9106-9350-R2\n",
      "/home/deren/Documents/ipyrad/tests/pairddreftest/pairddreftest_refmapping/1A_0-MT:9406-9650-R1\n",
      "/home/deren/Documents/ipyrad/tests/pairddreftest/pairddreftest_refmapping/1A_0-MT:9406-9650-R2\n",
      "/home/deren/Documents/ipyrad/tests/pairddreftest/pairddreftest_refmapping/1A_0-MT:9706-9950-R1\n",
      "/home/deren/Documents/ipyrad/tests/pairddreftest/pairddreftest_refmapping/1A_0-MT:9706-9950-R2\n",
      "/home/deren/Documents/ipyrad/tests/pairddreftest/pairddreftest_refmapping/1A_0-MT:10006-10250-R1\n",
      "/home/deren/Documents/ipyrad/tests/pairddreftest/pairddreftest_refmapping/1A_0-MT:10006-10250-R2\n",
      "/home/deren/Documents/ipyrad/tests/pairddreftest/pairddreftest_refmapping/1A_0-MT:10306-10550-R1\n",
      "/home/deren/Documents/ipyrad/tests/pairddreftest/pairddreftest_refmapping/1A_0-MT:10306-10550-R2\n",
      "/home/deren/Documents/ipyrad/tests/pairddreftest/pairddreftest_refmapping/1A_0-MT:10606-10850-R1\n",
      "/home/deren/Documents/ipyrad/tests/pairddreftest/pairddreftest_refmapping/1A_0-MT:10606-10850-R2\n",
      "/home/deren/Documents/ipyrad/tests/pairddreftest/pairddreftest_refmapping/1A_0-MT:10906-11150-R1\n",
      "/home/deren/Documents/ipyrad/tests/pairddreftest/pairddreftest_refmapping/1A_0-MT:10906-11150-R2\n",
      "/home/deren/Documents/ipyrad/tests/pairddreftest/pairddreftest_refmapping/1A_0-MT:11206-11450-R1\n",
      "/home/deren/Documents/ipyrad/tests/pairddreftest/pairddreftest_refmapping/1A_0-MT:11206-11450-R2\n",
      "/home/deren/Documents/ipyrad/tests/pairddreftest/pairddreftest_refmapping/1A_0-MT:11506-11750-R1\n",
      "/home/deren/Documents/ipyrad/tests/pairddreftest/pairddreftest_refmapping/1A_0-MT:11506-11750-R2\n",
      "/home/deren/Documents/ipyrad/tests/pairddreftest/pairddreftest_refmapping/1A_0-MT:11806-12050-R1\n",
      "/home/deren/Documents/ipyrad/tests/pairddreftest/pairddreftest_refmapping/1A_0-MT:11806-12050-R2\n",
      "/home/deren/Documents/ipyrad/tests/pairddreftest/pairddreftest_refmapping/1A_0-MT:12106-12350-R1\n",
      "/home/deren/Documents/ipyrad/tests/pairddreftest/pairddreftest_refmapping/1A_0-MT:12106-12350-R2\n",
      "/home/deren/Documents/ipyrad/tests/pairddreftest/pairddreftest_refmapping/1A_0-MT:12406-12650-R1\n",
      "/home/deren/Documents/ipyrad/tests/pairddreftest/pairddreftest_refmapping/1A_0-MT:12406-12650-R2\n",
      "/home/deren/Documents/ipyrad/tests/pairddreftest/pairddreftest_refmapping/1A_0-MT:12706-12950-R1\n",
      "/home/deren/Documents/ipyrad/tests/pairddreftest/pairddreftest_refmapping/1A_0-MT:12706-12950-R2\n",
      "/home/deren/Documents/ipyrad/tests/pairddreftest/pairddreftest_refmapping/1A_0-MT:13006-13250-R1\n",
      "/home/deren/Documents/ipyrad/tests/pairddreftest/pairddreftest_refmapping/1A_0-MT:13006-13250-R2\n",
      "/home/deren/Documents/ipyrad/tests/pairddreftest/pairddreftest_refmapping/1A_0-MT:13306-13550-R1\n",
      "/home/deren/Documents/ipyrad/tests/pairddreftest/pairddreftest_refmapping/1A_0-MT:13306-13550-R2\n",
      "/home/deren/Documents/ipyrad/tests/pairddreftest/pairddreftest_refmapping/1A_0-MT:13606-13850-R1\n",
      "/home/deren/Documents/ipyrad/tests/pairddreftest/pairddreftest_refmapping/1A_0-MT:13606-13850-R2\n",
      "/home/deren/Documents/ipyrad/tests/pairddreftest/pairddreftest_refmapping/1A_0-MT:13906-14150-R1\n",
      "/home/deren/Documents/ipyrad/tests/pairddreftest/pairddreftest_refmapping/1A_0-MT:13906-14150-R2\n",
      "/home/deren/Documents/ipyrad/tests/pairddreftest/pairddreftest_refmapping/1A_0-MT:14206-14450-R1\n",
      "/home/deren/Documents/ipyrad/tests/pairddreftest/pairddreftest_refmapping/1A_0-MT:14206-14450-R2\n",
      "/home/deren/Documents/ipyrad/tests/pairddreftest/pairddreftest_refmapping/1A_0-MT:14506-14750-R1\n",
      "/home/deren/Documents/ipyrad/tests/pairddreftest/pairddreftest_refmapping/1A_0-MT:14506-14750-R2\n",
      "/home/deren/Documents/ipyrad/tests/pairddreftest/pairddreftest_refmapping/1A_0-MT:14806-15050-R1\n",
      "/home/deren/Documents/ipyrad/tests/pairddreftest/pairddreftest_refmapping/1A_0-MT:14806-15050-R2\n",
      "/home/deren/Documents/ipyrad/tests/pairddreftest/pairddreftest_refmapping/1A_0-MT:15106-15350-R1\n",
      "/home/deren/Documents/ipyrad/tests/pairddreftest/pairddreftest_refmapping/1A_0-MT:15106-15350-R2\n",
      "/home/deren/Documents/ipyrad/tests/pairddreftest/pairddreftest_refmapping/1A_0-MT:15406-15650-R1\n",
      "/home/deren/Documents/ipyrad/tests/pairddreftest/pairddreftest_refmapping/1A_0-MT:15406-15650-R2\n",
      "/home/deren/Documents/ipyrad/tests/pairddreftest/pairddreftest_refmapping/1A_0-MT:15706-15950-R1\n",
      "/home/deren/Documents/ipyrad/tests/pairddreftest/pairddreftest_refmapping/1A_0-MT:15706-15950-R2\n",
      "/home/deren/Documents/ipyrad/tests/pairddreftest/pairddreftest_refmapping/1A_0-MT:16006-16250-R1\n",
      "/home/deren/Documents/ipyrad/tests/pairddreftest/pairddreftest_refmapping/1A_0-MT:16006-16250-R2\n",
      "/home/deren/Documents/ipyrad/tests/pairddreftest/pairddreftest_refmapping/1A_0-MT:16306-16550-R1\n",
      "/home/deren/Documents/ipyrad/tests/pairddreftest/pairddreftest_refmapping/1A_0-MT:16306-16550-R2\n",
      "/home/deren/Documents/ipyrad/tests/pairddreftest/pairddreftest_refmapping/1A_0-MT:16606-16850-R1\n",
      "/home/deren/Documents/ipyrad/tests/pairddreftest/pairddreftest_refmapping/1A_0-MT:16606-16850-R2\n",
      "/home/deren/Documents/ipyrad/tests/pairddreftest/pairddreftest_refmapping/1A_0-MT:16906-17150-R1\n",
      "/home/deren/Documents/ipyrad/tests/pairddreftest/pairddreftest_refmapping/1A_0-MT:16906-17150-R2\n",
      "/home/deren/Documents/ipyrad/tests/pairddreftest/pairddreftest_refmapping/1A_0-MT:17206-17450-R1\n",
      "/home/deren/Documents/ipyrad/tests/pairddreftest/pairddreftest_refmapping/1A_0-MT:17206-17450-R2\n",
      "/home/deren/Documents/ipyrad/tests/pairddreftest/pairddreftest_refmapping/1A_0-MT:17506-17750-R1\n",
      "/home/deren/Documents/ipyrad/tests/pairddreftest/pairddreftest_refmapping/1A_0-MT:17506-17750-R2\n",
      "/home/deren/Documents/ipyrad/tests/pairddreftest/pairddreftest_refmapping/1A_0-MT:17806-18050-R1\n",
      "/home/deren/Documents/ipyrad/tests/pairddreftest/pairddreftest_refmapping/1A_0-MT:17806-18050-R2\n",
      "/home/deren/Documents/ipyrad/tests/pairddreftest/pairddreftest_refmapping/1A_0-MT:18106-18350-R1\n",
      "/home/deren/Documents/ipyrad/tests/pairddreftest/pairddreftest_refmapping/1A_0-MT:18106-18350-R2\n",
      "/home/deren/Documents/ipyrad/tests/pairddreftest/pairddreftest_refmapping/1A_0-MT:18406-18650-R1\n",
      "/home/deren/Documents/ipyrad/tests/pairddreftest/pairddreftest_refmapping/1A_0-MT:18406-18650-R2\n",
      "/home/deren/Documents/ipyrad/tests/pairddreftest/pairddreftest_refmapping/1A_0-MT:18706-18950-R1\n",
      "/home/deren/Documents/ipyrad/tests/pairddreftest/pairddreftest_refmapping/1A_0-MT:18706-18950-R2\n",
      "/home/deren/Documents/ipyrad/tests/pairddreftest/pairddreftest_refmapping/1A_0-MT:19006-19250-R1\n",
      "/home/deren/Documents/ipyrad/tests/pairddreftest/pairddreftest_refmapping/1A_0-MT:19006-19250-R2\n",
      "/home/deren/Documents/ipyrad/tests/pairddreftest/pairddreftest_refmapping/1A_0-MT:19306-19550-R1\n",
      "/home/deren/Documents/ipyrad/tests/pairddreftest/pairddreftest_refmapping/1A_0-MT:19306-19550-R2\n",
      "/home/deren/Documents/ipyrad/tests/pairddreftest/pairddreftest_refmapping/1A_0-MT:19606-19850-R1\n",
      "/home/deren/Documents/ipyrad/tests/pairddreftest/pairddreftest_refmapping/1A_0-MT:19606-19850-R2\n",
      "/home/deren/Documents/ipyrad/tests/pairddreftest/pairddreftest_refmapping/1A_0-MT:19906-20150-R1\n",
      "/home/deren/Documents/ipyrad/tests/pairddreftest/pairddreftest_refmapping/1A_0-MT:19906-20150-R2\n",
      "/home/deren/Documents/ipyrad/tests/pairddreftest/pairddreftest_refmapping/1A_0-MT:20206-20450-R1\n",
      "/home/deren/Documents/ipyrad/tests/pairddreftest/pairddreftest_refmapping/1A_0-MT:20206-20450-R2\n",
      "/home/deren/Documents/ipyrad/tests/pairddreftest/pairddreftest_refmapping/1A_0-MT:20506-20750-R1\n",
      "/home/deren/Documents/ipyrad/tests/pairddreftest/pairddreftest_refmapping/1A_0-MT:20506-20750-R2\n",
      "/home/deren/Documents/ipyrad/tests/pairddreftest/pairddreftest_refmapping/1A_0-MT:20806-21050-R1\n",
      "/home/deren/Documents/ipyrad/tests/pairddreftest/pairddreftest_refmapping/1A_0-MT:20806-21050-R2\n",
      "/home/deren/Documents/ipyrad/tests/pairddreftest/pairddreftest_refmapping/1A_0-MT:21106-21350-R1\n",
      "/home/deren/Documents/ipyrad/tests/pairddreftest/pairddreftest_refmapping/1A_0-MT:21106-21350-R2\n",
      "/home/deren/Documents/ipyrad/tests/pairddreftest/pairddreftest_refmapping/1A_0-MT:21406-21650-R1\n",
      "/home/deren/Documents/ipyrad/tests/pairddreftest/pairddreftest_refmapping/1A_0-MT:21406-21650-R2\n",
      "/home/deren/Documents/ipyrad/tests/pairddreftest/pairddreftest_refmapping/1A_0-MT:21706-21950-R1\n",
      "/home/deren/Documents/ipyrad/tests/pairddreftest/pairddreftest_refmapping/1A_0-MT:21706-21950-R2\n",
      "/home/deren/Documents/ipyrad/tests/pairddreftest/pairddreftest_refmapping/1A_0-MT:22006-22250-R1\n",
      "/home/deren/Documents/ipyrad/tests/pairddreftest/pairddreftest_refmapping/1A_0-MT:22006-22250-R2\n",
      "/home/deren/Documents/ipyrad/tests/pairddreftest/pairddreftest_refmapping/1A_0-MT:22306-22550-R1\n",
      "/home/deren/Documents/ipyrad/tests/pairddreftest/pairddreftest_refmapping/1A_0-MT:22306-22550-R2\n",
      "/home/deren/Documents/ipyrad/tests/pairddreftest/pairddreftest_refmapping/1A_0-MT:22606-22850-R1\n",
      "/home/deren/Documents/ipyrad/tests/pairddreftest/pairddreftest_refmapping/1A_0-MT:22606-22850-R2\n",
      "/home/deren/Documents/ipyrad/tests/pairddreftest/pairddreftest_refmapping/1A_0-MT:22906-23150-R1\n",
      "/home/deren/Documents/ipyrad/tests/pairddreftest/pairddreftest_refmapping/1A_0-MT:22906-23150-R2\n",
      "/home/deren/Documents/ipyrad/tests/pairddreftest/pairddreftest_refmapping/1A_0-MT:23206-23450-R1\n",
      "/home/deren/Documents/ipyrad/tests/pairddreftest/pairddreftest_refmapping/1A_0-MT:23206-23450-R2\n",
      "/home/deren/Documents/ipyrad/tests/pairddreftest/pairddreftest_refmapping/1A_0-MT:23506-23750-R1\n",
      "/home/deren/Documents/ipyrad/tests/pairddreftest/pairddreftest_refmapping/1A_0-MT:23506-23750-R2\n",
      "/home/deren/Documents/ipyrad/tests/pairddreftest/pairddreftest_refmapping/1A_0-MT:23806-24050-R1\n",
      "/home/deren/Documents/ipyrad/tests/pairddreftest/pairddreftest_refmapping/1A_0-MT:23806-24050-R2\n",
      "/home/deren/Documents/ipyrad/tests/pairddreftest/pairddreftest_refmapping/1A_0-MT:24106-24350-R1\n",
      "/home/deren/Documents/ipyrad/tests/pairddreftest/pairddreftest_refmapping/1A_0-MT:24106-24350-R2\n",
      "/home/deren/Documents/ipyrad/tests/pairddreftest/pairddreftest_refmapping/1A_0-MT:24406-24650-R1\n",
      "/home/deren/Documents/ipyrad/tests/pairddreftest/pairddreftest_refmapping/1A_0-MT:24406-24650-R2\n",
      "/home/deren/Documents/ipyrad/tests/pairddreftest/pairddreftest_refmapping/1A_0-MT:24706-24950-R1\n",
      "/home/deren/Documents/ipyrad/tests/pairddreftest/pairddreftest_refmapping/1A_0-MT:24706-24950-R2\n",
      "/home/deren/Documents/ipyrad/tests/pairddreftest/pairddreftest_refmapping/1A_0-MT:25006-25250-R1\n",
      "/home/deren/Documents/ipyrad/tests/pairddreftest/pairddreftest_refmapping/1A_0-MT:25006-25250-R2\n",
      "/home/deren/Documents/ipyrad/tests/pairddreftest/pairddreftest_refmapping/1A_0-MT:25306-25550-R1\n",
      "/home/deren/Documents/ipyrad/tests/pairddreftest/pairddreftest_refmapping/1A_0-MT:25306-25550-R2\n",
      "/home/deren/Documents/ipyrad/tests/pairddreftest/pairddreftest_refmapping/1A_0-MT:25606-25850-R1\n",
      "/home/deren/Documents/ipyrad/tests/pairddreftest/pairddreftest_refmapping/1A_0-MT:25606-25850-R2\n",
      "/home/deren/Documents/ipyrad/tests/pairddreftest/pairddreftest_refmapping/1A_0-MT:25906-26150-R1\n",
      "/home/deren/Documents/ipyrad/tests/pairddreftest/pairddreftest_refmapping/1A_0-MT:25906-26150-R2\n",
      "/home/deren/Documents/ipyrad/tests/pairddreftest/pairddreftest_refmapping/1A_0-MT:26206-26450-R1\n",
      "/home/deren/Documents/ipyrad/tests/pairddreftest/pairddreftest_refmapping/1A_0-MT:26206-26450-R2\n",
      "/home/deren/Documents/ipyrad/tests/pairddreftest/pairddreftest_refmapping/1A_0-MT:26506-26750-R1\n",
      "/home/deren/Documents/ipyrad/tests/pairddreftest/pairddreftest_refmapping/1A_0-MT:26506-26750-R2\n",
      "/home/deren/Documents/ipyrad/tests/pairddreftest/pairddreftest_refmapping/1A_0-MT:26806-27050-R1\n",
      "/home/deren/Documents/ipyrad/tests/pairddreftest/pairddreftest_refmapping/1A_0-MT:26806-27050-R2\n",
      "/home/deren/Documents/ipyrad/tests/pairddreftest/pairddreftest_refmapping/1A_0-MT:27106-27350-R1\n",
      "/home/deren/Documents/ipyrad/tests/pairddreftest/pairddreftest_refmapping/1A_0-MT:27106-27350-R2\n",
      "/home/deren/Documents/ipyrad/tests/pairddreftest/pairddreftest_refmapping/1A_0-MT:27406-27650-R1\n",
      "/home/deren/Documents/ipyrad/tests/pairddreftest/pairddreftest_refmapping/1A_0-MT:27406-27650-R2\n",
      "/home/deren/Documents/ipyrad/tests/pairddreftest/pairddreftest_refmapping/1A_0-MT:27706-27950-R1\n",
      "/home/deren/Documents/ipyrad/tests/pairddreftest/pairddreftest_refmapping/1A_0-MT:27706-27950-R2\n",
      "/home/deren/Documents/ipyrad/tests/pairddreftest/pairddreftest_refmapping/1A_0-MT:28006-28250-R1\n",
      "/home/deren/Documents/ipyrad/tests/pairddreftest/pairddreftest_refmapping/1A_0-MT:28006-28250-R2\n",
      "/home/deren/Documents/ipyrad/tests/pairddreftest/pairddreftest_refmapping/1A_0-MT:28306-28550-R1\n",
      "/home/deren/Documents/ipyrad/tests/pairddreftest/pairddreftest_refmapping/1A_0-MT:28306-28550-R2\n",
      "/home/deren/Documents/ipyrad/tests/pairddreftest/pairddreftest_refmapping/1A_0-MT:28606-28850-R1\n",
      "/home/deren/Documents/ipyrad/tests/pairddreftest/pairddreftest_refmapping/1A_0-MT:28606-28850-R2\n",
      "/home/deren/Documents/ipyrad/tests/pairddreftest/pairddreftest_refmapping/1A_0-MT:28906-29150-R1\n",
      "/home/deren/Documents/ipyrad/tests/pairddreftest/pairddreftest_refmapping/1A_0-MT:28906-29150-R2\n",
      "/home/deren/Documents/ipyrad/tests/pairddreftest/pairddreftest_refmapping/1A_0-MT:29206-29450-R1\n",
      "/home/deren/Documents/ipyrad/tests/pairddreftest/pairddreftest_refmapping/1A_0-MT:29206-29450-R2\n",
      "/home/deren/Documents/ipyrad/tests/pairddreftest/pairddreftest_refmapping/1A_0-MT:29506-29750-R1\n",
      "/home/deren/Documents/ipyrad/tests/pairddreftest/pairddreftest_refmapping/1A_0-MT:29506-29750-R2\n",
      "/home/deren/Documents/ipyrad/tests/pairddreftest/pairddreftest_refmapping/1A_0-MT:29806-30050-R1\n",
      "/home/deren/Documents/ipyrad/tests/pairddreftest/pairddreftest_refmapping/1A_0-MT:29806-30050-R2\n"
     ]
    }
   ],
   "source": [
    "## file handle for writing clusters\n",
    "sample.files.clusters = os.path.join(data.dirs.clusts, sample.name+\".clust.gz\")\n",
    "#outfile = gzip.open(sample.files.clusters, write_flag)\n",
    "\n",
    "\n",
    "for line in regions.strip().split(\"\\n\"):\n",
    "    chrom, region_start, region_end = line.strip().split()[0:3]\n",
    "    #print chrom, region_start, region_end\n",
    "    args = [data, sample, chrom, region_start, region_end]\n",
    "    clust = bam_region_to_fasta(*args)\n",
    "    #locus_list.append(clust)\n",
    "\n",
    "    ## write chunk of 1000 loci and clear list to minimize memory\n",
    "    #if not len(locus_list) % 1000:\n",
    "    #    outfile.write(\"\\n//\\n//\\n\".join(locus_list)+\"\\n//\\n//\\n\")\n",
    "    #    locus_list = []\n",
    "\n",
    "## write remaining\n",
    "#outfile.write(\"\\n//\\n//\\n\".join(locus_list))\n",
    "#outfile.write(\"\\n//\\n//\\n\")\n",
    "\n",
    "## close handle\n",
    "#outfile.close()"
   ]
  },
  {
   "cell_type": "markdown",
   "metadata": {},
   "source": [
    "## bam region to fasta"
   ]
  },
  {
   "cell_type": "code",
   "execution_count": 33,
   "metadata": {
    "collapsed": true
   },
   "outputs": [],
   "source": [
    "## output bam file handle for storing genome regions\n",
    "bamf = sample.files.mapped_reads\n",
    "\n",
    "## a string argument as input to commands, indexed at either 0 or 1, \n",
    "## and with pipe characters removed from chromo names\n",
    "rstring_id1 = \"{}:{}-{}\"\\\n",
    "        .format(chrom.replace(\"|\", \"_\"), \n",
    "                str(int(region_start)+1), \n",
    "                region_end)\n",
    "rstring_id0 = \"{}:{}-{}\"\\\n",
    "        .format(chrom.replace(\"|\", \"_\"), \n",
    "                str(region_start), \n",
    "                region_end)\n",
    "\n",
    "## The \"samtools faidx\" command will grab this region from reference \n",
    "## which we'll paste in at the top of each stack to aid alignment.\n",
    "cmd1 = [ipyrad.bins.samtools, \"faidx\", \n",
    "        data.paramsdict[\"reference_sequence\"], \n",
    "        rstring_id1]\n",
    "\n",
    "## Call the command, I found that it doesn't work with shell=False if \n",
    "## the refstring is 'MT':100-200', but it works if it is MT:100-200. \n",
    "proc1 = sps.Popen(cmd1, stderr=sps.STDOUT, stdout=sps.PIPE)\n",
    "ref = proc1.communicate()[0]\n",
    "\n",
    "\n"
   ]
  },
  {
   "cell_type": "code",
   "execution_count": 34,
   "metadata": {
    "collapsed": false
   },
   "outputs": [
    {
     "data": {
      "text/plain": [
       "'>MT:29807-30050\\nTGCAGGCGTAGCTTATTGTCCAAAAATTGATAGTTGGTGATGGATTCTAAGGGTCTTAGT\\nGCAGTCCTGTGCGTATGGATGGCGTTTGGGTTGATTATAACTTCAGTAACTTCCCTAAAC\\nTCCAACTCCATAAGCTCCATACCAATGGAAACATGCGTTTTCATCTAGAGTTCCGATACT\\nTGGGGCTCTCTTACCACACGAAGCTGATTGGATTAAATTATTGCGGCGACTCTAACACCT\\nCCCG\\n'"
      ]
     },
     "execution_count": 34,
     "metadata": {},
     "output_type": "execute_result"
    }
   ],
   "source": [
    "ref"
   ]
  },
  {
   "cell_type": "code",
   "execution_count": 135,
   "metadata": {
    "collapsed": false
   },
   "outputs": [],
   "source": [
    "#chrom, region_start, region_end, ref\n",
    "name, seq = ref.strip().split(\"\\n\", 1)\n",
    "seq = \"\".join(seq.split(\"\\n\"))\n",
    "fasta = [\"{}_REF;+\\n{}\".format(name, seq)]\n",
    "\n",
    "## if paired, forget about ref\n",
    "fasta = []\n",
    "\n",
    "##\n",
    "prefix = os.path.join(data.dirs.refmapping, \n",
    "                \"{}-{}\".format(sample.name, rstring_id0))\n",
    "read1 = \"{}-R1\".format(prefix)\n",
    "read2 = \"{}-R2\".format(prefix)\n",
    "merged = \"{}-merged\".format(prefix)\n",
    "\n",
    "cmd1 = [ipyrad.bins.samtools, \"view\", \"-b\", bamf, rstring_id0]\n",
    "cmd2 = [ipyrad.bins.samtools, \"fastq\",\"-1\", read1, \"-2\", read2, \"-\"]\n",
    "\n",
    "proc1 = sps.Popen(cmd1, stderr=sps.STDOUT, stdout=sps.PIPE)\n",
    "proc2 = sps.Popen(cmd2, stderr=sps.STDOUT, stdout=sps.PIPE, stdin=sps.PIPE)\n",
    "res = proc2.communicate(proc1.stdout.read())[0]\n",
    "if proc2.returncode:\n",
    "    raise IPyradWarningExit(\"error {}: {}\".format(cmd2, res))\n",
    "proc1.stdout.close()"
   ]
  },
  {
   "cell_type": "code",
   "execution_count": 136,
   "metadata": {
    "collapsed": false
   },
   "outputs": [
    {
     "data": {
      "text/plain": [
       "'[M::bam2fq_mainloop] processed 8 reads\\n'"
      ]
     },
     "execution_count": 136,
     "metadata": {},
     "output_type": "execute_result"
    }
   ],
   "source": [
    "res"
   ]
  },
  {
   "cell_type": "code",
   "execution_count": 127,
   "metadata": {
    "collapsed": false
   },
   "outputs": [
    {
     "name": "stdout",
     "output_type": "stream",
     "text": [
      "/home/deren/Documents/ipyrad/tests/pairddreftest/pairddreftest_refmapping/1A_0-MT:29806-30050-R1\n",
      "/home/deren/Documents/ipyrad/tests/pairddreftest/pairddreftest_refmapping/1A_0-MT:29806-30050-R2\n"
     ]
    },
    {
     "data": {
      "text/plain": [
       "0"
      ]
     },
     "execution_count": 127,
     "metadata": {},
     "output_type": "execute_result"
    }
   ],
   "source": [
    "nmerged = merge_pairs(data, [(read1, read2)], merged, 0, 1)\n",
    "nmerged"
   ]
  },
  {
   "cell_type": "code",
   "execution_count": 123,
   "metadata": {
    "collapsed": false
   },
   "outputs": [
    {
     "data": {
      "text/plain": [
       "0"
      ]
     },
     "execution_count": 123,
     "metadata": {},
     "output_type": "execute_result"
    }
   ],
   "source": [
    "proc1.stdout.close()\n",
    "proc2.returncode\n",
    "#proc2.returncode\n",
    "#res"
   ]
  },
  {
   "cell_type": "code",
   "execution_count": 87,
   "metadata": {
    "collapsed": false
   },
   "outputs": [
    {
     "data": {
      "text/plain": [
       "'\\x1f\\x8b\\x08\\x04\\x00\\x00\\x00\\x00\\x00\\xff\\x06\\x00BC\\x02\\x00#\\x01\\xad\\x91AN\\xc30\\x10E]\\xb1rN\\xe1\\x0b8NR\\x08mV)D\\x02\\xa46\\x14\\xa5b\\x1b\\x99z\\x12,\\xc5\\x8e\\x89]\\x91\\x1e\\x82\\x93q \\xb6\\xb8\\x05\\x16l\\x10\\x12,F3_\\x9ay\\xffKs\\xb1XM\\xde&\\x08\\xe5\\xd7\\x05\\xbe/\\xb38\\x9c\\xe2\\xea6\\xdb\\xf6\\xfd \\xa4\\xe6\\x0e\\x82\\xbc\\xba\\xc3U\\x99\\xad6xYf\\xd34\\x99\\xcf\\x83|}\\x85o\\x8a\\xcc*\\xde9\\xbc.?\\x07\\x7f\\x1d\\x85\\xe7a\\x8a/\\x97\\x19{\\xec\\x150\\x01\\x03hV\\xf4\\xdb\\x9d\\x02\\xed,\\x93f?p\\xc1\\x1e\\xa4f\\xc7\\x13\\xdaI\\xbd\\x1b\\xe98K\\xeb\\xf4\\x94(n\\x08\\xed\\x88\\x01B\\x1bb\\xb9\"T\\x93\\x84\\xd0=\\x89\\xc2\\xd9\\x19\\xa1=\\xf9\\x11\\xea\\xc0za\\xb8\\x1c\\x84\\x18\\xa09\\xc8\\xef\\xaa\\xf6\\xdd[\\x18\\xa9[\\x16/\\xea(<Z\\x8c\\xbf\\xa1Jc\\xa5\\x12\\xdc\\xf1/\"\\x17\\xf5\\xb3\\x82\\xa1\\x85\\x1aF\\xaeL\\x07u\\x0b\\xdac\\xc2\\x86\\xff5%\\x08\\xe97\\x0e\\x01\\xa95\\x9dt\\xb1gZ\\xf7\\xf4\\xdf\\xd8\\xe4\\x03\\x1b\\xf8\\xcf\\xa3\\x13_\\xab\\rz}A\\xe8\\x1d\\x82DV\\xdd\\x0e\\x02\\x00\\x00\\x1f\\x8b\\x08\\x04\\x00\\x00\\x00\\x00\\x00\\xff\\x06\\x00BC\\x02\\x00.\\x01\\xd5\\xd31K\\x031\\x14\\x07\\xf0WA\\'\\x97\\x84\\xabd\\xbd\\x92!\\xe3E\\x90R\\xaa`\\xd2\\x0cAh\\x17\\x97B\\xa1\\x87X\\x07\\x17\\x87\\xd6\\xc9-!\\xc3\\xdb\\xfd^:\\xea\\xe8\\x87pVS[\\xf4\\x94+g\\x87\\xd2\\xf3-\\x81G\\x86\\xfc\\xf8\\xe7\\xff\\x08\\x8b\\xb9\\xb9\\x0588>\\xa3\\r\\xb8\\x84\\xf1r\\xf7\\x16w\\xaf\\xf1\\x94*\\xcfr\\xd9\\xe9\\xc8|*\\xbb\\xb3\\xeb\\xbb\\xab\\x13\\x99u\\xe1e\\x17 \\xa4\\x86;\\x8d,\\xf8\\x94\\x10T\\xce\\x06\\xab\\x82BA\\x8c\\x15\\xce\\xea\\xc4\\x0b\\xab-3\\xccp\\x0c\\x06\\xd5\\xfbFg\\xd0\\xef\\x81:\\xef\\x8d\\x1f\\n\\xa4f\\x05\\xe9\\xe8\\x9bT\"\\xf2\\xdb\\x175\\xa2h\\xb4\\x8e\\xa8\\xbdZD\\x96\\x19\\x89\\xad\\x8av\\xa2h\\xf8g\\xd1a\\x96\\xc9\\xd5\"Q\\x8b_\\xf7\\x99\\xd1s\\xe1\\xf5\\x8b\"\\xdd\\xc3\\xa4\\xa0\\xdc\\x8fw\\xcb\\x8bt\\xba\\x07\\xc0\\x0c\\xa1L[\\xf4L$\\t\\xb6\\x94\\x13\\xc1h\\xef\\x91\\xa6)\\':\\xb0\\xc8#\\xcc\\xa16\\x9czG\\xa9h\\xf1\\xcd\\xaa\\xbel\\xf3FM\\x9e\\n\\xb6f\\x85\\xedG\\xa3\\xcahX\\x17\\xda<\\xb6\\x8buh\\xed*\\xda?M\\xedw\\xc7\\xeaO\\xfb\\x00@\\t\\x1b\\x06\\xb6\\x06\\x00\\x00\\x1f\\x8b\\x08\\x04\\x00\\x00\\x00\\x00\\x00\\xff\\x06\\x00BC\\x02\\x00\\x1b\\x00\\x03\\x00\\x00\\x00\\x00\\x00\\x00\\x00\\x00\\x00'"
      ]
     },
     "execution_count": 87,
     "metadata": {},
     "output_type": "execute_result"
    }
   ],
   "source": [
    "proc1 = sps.Popen(cmd1, stdout=sps.PIPE)\n",
    "bbb = proc1.communicate()[0]\n",
    "bbb\n"
   ]
  },
  {
   "cell_type": "code",
   "execution_count": 88,
   "metadata": {
    "collapsed": false
   },
   "outputs": [
    {
     "data": {
      "text/plain": [
       "('', '[M::bam2fq_mainloop] processed 8 reads\\n')"
      ]
     },
     "execution_count": 88,
     "metadata": {},
     "output_type": "execute_result"
    }
   ],
   "source": [
    "import cStringIO as StringIO\n",
    "myfile = StringIO.StringIO(bbb)\n",
    "proc2 = sps.Popen(cmd2, stdin=sps.PIPE, stderr=sps.PIPE, stdout=sps.PIPE)\n",
    "proc2.communicate(myfile.read())"
   ]
  },
  {
   "cell_type": "code",
   "execution_count": 82,
   "metadata": {
    "collapsed": false
   },
   "outputs": [
    {
     "data": {
      "text/plain": [
       "0"
      ]
     },
     "execution_count": 82,
     "metadata": {},
     "output_type": "execute_result"
    }
   ],
   "source": [
    "proc2.returncode"
   ]
  },
  {
   "cell_type": "code",
   "execution_count": 314,
   "metadata": {
    "collapsed": false
   },
   "outputs": [
    {
     "data": {
      "text/plain": [
       "OrderedDict([('random_seed', 42),\n",
       "             ('max_fragment_length', 86),\n",
       "             ('max_inner_mate_distance', 60),\n",
       "             ('preview_step1', 4000000),\n",
       "             ('preview_step2', 100000),\n",
       "             ('output_loci_name_buffer', 5),\n",
       "             ('query_cov', None),\n",
       "             ('smalt_index_wordlen', 8)])"
      ]
     },
     "execution_count": 314,
     "metadata": {},
     "output_type": "execute_result"
    }
   ],
   "source": [
    "data._hackersonly"
   ]
  },
  {
   "cell_type": "code",
   "execution_count": 2,
   "metadata": {
    "collapsed": false
   },
   "outputs": [
    {
     "name": "stdout",
     "output_type": "stream",
     "text": [
      "  loading Assembly: cli\n",
      "  from saved path: ~/Documents/ipyrad/tests/cli/cli.json\n"
     ]
    }
   ],
   "source": [
    "data = ip.load_json(\"cli/cli.json\")\n",
    "sample1 = data.samples[\"1A_0\"]\n",
    "sample2 = data.samples[\"1B_0\"]\n",
    "sample3 = data.samples[\"1C_0\"]"
   ]
  },
  {
   "cell_type": "code",
   "execution_count": 133,
   "metadata": {
    "collapsed": true
   },
   "outputs": [],
   "source": [
    "chunk = \"cli-ref/cli-ref-tmpalign/1A_0_chunk_0.ali\"\n",
    "with open(chunk, 'rb') as infile:\n",
    "    clusts = infile.read().split(\"//\\n//\\n\")"
   ]
  },
  {
   "cell_type": "code",
   "execution_count": 141,
   "metadata": {
    "collapsed": false
   },
   "outputs": [
    {
     "data": {
      "text/plain": [
       "['MT:107-200_REF;+',\n",
       " '1A_0_0_r1;MT:107-200;size=16;+',\n",
       " '1A_0_6_r1;MT:107-200;size=1;+']"
      ]
     },
     "execution_count": 141,
     "metadata": {},
     "output_type": "execute_result"
    }
   ],
   "source": [
    "clust = clusts[0]\n",
    "stack = []\n",
    "lines = clust.strip().split(\"\\n\")\n",
    "names = lines[::2]\n",
    "seqs = lines[1::2]\n",
    "\n",
    "names"
   ]
  },
  {
   "cell_type": "code",
   "execution_count": 204,
   "metadata": {
    "collapsed": false
   },
   "outputs": [],
   "source": [
    "import networkx as nx\n",
    "import matplotlib.pyplot as plt\n",
    "import time\n",
    "%matplotlib inline\n"
   ]
  },
  {
   "cell_type": "code",
   "execution_count": 206,
   "metadata": {
    "collapsed": false
   },
   "outputs": [
    {
     "data": {
      "text/plain": [
       "[None, None, None, None, None, None]"
      ]
     },
     "execution_count": 206,
     "metadata": {},
     "output_type": "execute_result"
    }
   ],
   "source": [
    "## create a directed graph for the four methods\n",
    "denovo = nx.DiGraph()\n",
    "reference = nx.DiGraph()\n",
    "reference_plus = nx.DiGraph()\n",
    "reference_minus = nx.DiGraph()\n",
    "\n",
    "# add jobs to the four methods as network nodes\n",
    "map(denovo.add_node, [\"derep\", \"cluster\", \"chunk_denovo\", \"align\", \"concat\"])\n",
    "map(reference.add_node, [\"derep\", \"map\", \"chunk_ref\", \"align\", \"concat\"])\n",
    "map(reference_plus.add_node, [\"derep\", \"map\", \"cluster\", \"chunk_ref\", \"chunk_denovo\", \"align\", \"concat\"])\n",
    "map(reference_minus.add_node, [\"derep\", \"map\", \"cluster\", \"chunk_denovo\", \"align\", \"concat\"])\n",
    "          "
   ]
  },
  {
   "cell_type": "code",
   "execution_count": 207,
   "metadata": {
    "collapsed": false
   },
   "outputs": [],
   "source": [
    "## give the order of operations (firstthis, thenthat)\n",
    "denovo.add_edge(\"derep\", \"cluster\")\n",
    "denovo.add_edge(\"cluster\", \"chunk_denovo\")\n",
    "denovo.add_edge(\"chunk_denovo\", \"align\")\n",
    "denovo.add_edge(\"align\", \"concat\")"
   ]
  },
  {
   "cell_type": "code",
   "execution_count": 208,
   "metadata": {
    "collapsed": false
   },
   "outputs": [
    {
     "data": {
      "image/png": "[encoded data removed]",
      "text/plain": [
       "<matplotlib.figure.Figure at 0x7f4830268d90>"
      ]
     },
     "metadata": {},
     "output_type": "display_data"
    }
   ],
   "source": [
    "nx.draw(denovo, edge_color='#262626', node_color='#999999', with_labels=True)"
   ]
  },
  {
   "cell_type": "code",
   "execution_count": 229,
   "metadata": {
    "collapsed": false
   },
   "outputs": [
    {
     "name": "stdout",
     "output_type": "stream",
     "text": [
      "cluster\n",
      "align\n",
      "chunk_denovo\n",
      "concat\n",
      "derep\n"
     ]
    }
   ],
   "source": [
    "jobs = {}\n",
    "args = {}\n",
    "results = {}\n",
    "\n",
    "for node in denovo:\n",
    "    print node\n",
    "    jobs[node] = time.sleep\n",
    "    \n",
    "for node in denovo:\n",
    "    args[node] = [np.random.randint(2, 8)]\n",
    "    "
   ]
  },
  {
   "cell_type": "code",
   "execution_count": 230,
   "metadata": {
    "collapsed": false
   },
   "outputs": [],
   "source": [
    "ipyclient = ipp.Client()\n",
    "lbview = ipyclient.load_balanced_view()"
   ]
  },
  {
   "cell_type": "code",
   "execution_count": 231,
   "metadata": {
    "collapsed": false
   },
   "outputs": [],
   "source": [
    "for node in nx.topological_sort(denovo):\n",
    "    ## get list of async results leading to this job\n",
    "    deps = [results[n] for n in denovo.predecessors(node)]\n",
    "    # submit and store AsyncResult object\n",
    "    with lbview.temp_flags(after=deps, block=False):\n",
    "        results[node] = lbview.apply(jobs[node], *args[node])\n"
   ]
  },
  {
   "cell_type": "code",
   "execution_count": 233,
   "metadata": {
    "collapsed": false
   },
   "outputs": [
    {
     "data": {
      "text/plain": [
       "{'align': <AsyncResult: sleep:finished>,\n",
       " 'chunk_denovo': <AsyncResult: sleep:finished>,\n",
       " 'cluster': <AsyncResult: sleep:finished>,\n",
       " 'concat': <AsyncResult: sleep:finished>,\n",
       " 'derep': <AsyncResult: sleep:finished>}"
      ]
     },
     "execution_count": 233,
     "metadata": {},
     "output_type": "execute_result"
    }
   ],
   "source": [
    "results"
   ]
  },
  {
   "cell_type": "code",
   "execution_count": 234,
   "metadata": {
    "collapsed": false
   },
   "outputs": [
    {
     "data": {
      "text/plain": [
       "<LoadBalancedView [0, 2]>"
      ]
     },
     "execution_count": 234,
     "metadata": {},
     "output_type": "execute_result"
    }
   ],
   "source": [
    "## let's try with a threaded view\n",
    "n_threads = 2\n",
    "client = ipp.Client()\n",
    "all_view = client.load_balanced_view() # uses all engines\n",
    "threaded_view = client.load_balanced_view(targets=client.ids[::n_threads])\n",
    "threaded_view\n"
   ]
  },
  {
   "cell_type": "code",
   "execution_count": 253,
   "metadata": {
    "collapsed": true
   },
   "outputs": [],
   "source": [
    "for node in nx.topological_sort(denovo):\n",
    "    ## get list of async results leading to this job\n",
    "    deps = [results[n] for n in denovo.predecessors(node)]\n",
    "    # submit and store AsyncResult object\n",
    "    with threaded_view.temp_flags(after=deps, block=False):\n",
    "        results[node] = threaded_view.apply(jobs[node], *args[node])\n"
   ]
  },
  {
   "cell_type": "code",
   "execution_count": 270,
   "metadata": {
    "collapsed": false
   },
   "outputs": [
    {
     "data": {
      "text/plain": [
       "{'align': <AsyncResult: sleep:finished>,\n",
       " 'chunk_denovo': <AsyncResult: sleep:finished>,\n",
       " 'cluster': <AsyncResult: sleep:finished>,\n",
       " 'concat': <AsyncResult: sleep:finished>,\n",
       " 'derep': <AsyncResult: sleep:finished>}"
      ]
     },
     "execution_count": 270,
     "metadata": {},
     "output_type": "execute_result"
    }
   ],
   "source": [
    "results"
   ]
  },
  {
   "cell_type": "code",
   "execution_count": 142,
   "metadata": {
    "collapsed": false
   },
   "outputs": [
    {
     "data": {
      "text/plain": [
       "['TGCAGCACCTATGTGTCCGGCACCCCAACGCCTTGGAACTCAGTTAACTGTTCAAGTTGGGCAAGATCAAGTCGTCCCCTTAGCCCCCGCTCCG',\n",
       " 'TGCAGCACCTATGTGTCCGGCACCCCAACGCCTTGGAACTCAGTTAACTGTTCAAGTTGGGCAAGATCAAGTCGTCCCCTTAGCCCCCGCTCCG',\n",
       " 'TGCAGCACCTATGTGTCCGGCACCCCAACGCCTTGGAACTCAGTTAACTGTTCAAGTTGGGCAAGATCAAGTCGTCCCCTTAGCCCCCACTCCG']"
      ]
     },
     "execution_count": 142,
     "metadata": {},
     "output_type": "execute_result"
    }
   ],
   "source": [
    "seqs"
   ]
  },
  {
   "cell_type": "code",
   "execution_count": 147,
   "metadata": {
    "collapsed": false
   },
   "outputs": [
    {
     "data": {
      "text/plain": [
       "['>MT:107-200_REF;+000',\n",
       " '>1A_0_0_r1;MT:107-200;size=16;+111',\n",
       " '>1A_0_6_r1;MT:107-200;size=1;+222']"
      ]
     },
     "execution_count": 147,
     "metadata": {},
     "output_type": "execute_result"
    }
   ],
   "source": [
    "names = [\">\"+j+str(i) for i, j in enumerate(names)]\n",
    "names"
   ]
  },
  {
   "cell_type": "code",
   "execution_count": 148,
   "metadata": {
    "collapsed": false
   },
   "outputs": [],
   "source": [
    "string1 = ip.assemble.cluster_within.muscle_call(data, names[:200], seqs[:200])\n",
    "anames, aseqs = ip.assemble.cluster_within.parsemuscle(data, string1)"
   ]
  },
  {
   "cell_type": "code",
   "execution_count": 145,
   "metadata": {
    "collapsed": false
   },
   "outputs": [
    {
     "ename": "NameError",
     "evalue": "name 'anames' is not defined",
     "output_type": "error",
     "traceback": [
      "\u001b[0;31m---------------------------------------------------------------------------\u001b[0m",
      "\u001b[0;31mNameError\u001b[0m                                 Traceback (most recent call last)",
      "\u001b[0;32m<ipython-input-145-6a271138e85c>\u001b[0m in \u001b[0;36m<module>\u001b[0;34m()\u001b[0m\n\u001b[0;32m----> 1\u001b[0;31m \u001b[0;32mfor\u001b[0m \u001b[0mi\u001b[0m \u001b[0;32min\u001b[0m \u001b[0mrange\u001b[0m\u001b[0;34m(\u001b[0m\u001b[0mlen\u001b[0m\u001b[0;34m(\u001b[0m\u001b[0manames\u001b[0m\u001b[0;34m)\u001b[0m\u001b[0;34m)\u001b[0m\u001b[0;34m:\u001b[0m\u001b[0;34m\u001b[0m\u001b[0m\n\u001b[0m\u001b[1;32m      2\u001b[0m     \u001b[0;31m## filter for max internal indels\u001b[0m\u001b[0;34m\u001b[0m\u001b[0;34m\u001b[0m\u001b[0m\n\u001b[1;32m      3\u001b[0m     \u001b[0mintind\u001b[0m \u001b[0;34m=\u001b[0m \u001b[0maseqs\u001b[0m\u001b[0;34m[\u001b[0m\u001b[0mi\u001b[0m\u001b[0;34m]\u001b[0m\u001b[0;34m.\u001b[0m\u001b[0mrstrip\u001b[0m\u001b[0;34m(\u001b[0m\u001b[0;34m'-'\u001b[0m\u001b[0;34m)\u001b[0m\u001b[0;34m.\u001b[0m\u001b[0mlstrip\u001b[0m\u001b[0;34m(\u001b[0m\u001b[0;34m'-'\u001b[0m\u001b[0;34m)\u001b[0m\u001b[0;34m.\u001b[0m\u001b[0mcount\u001b[0m\u001b[0;34m(\u001b[0m\u001b[0;34m'-'\u001b[0m\u001b[0;34m)\u001b[0m\u001b[0;34m\u001b[0m\u001b[0m\n\u001b[1;32m      4\u001b[0m     \u001b[0;32mif\u001b[0m \u001b[0mintind\u001b[0m \u001b[0;34m<=\u001b[0m \u001b[0mmaxindels\u001b[0m\u001b[0;34m:\u001b[0m\u001b[0;34m\u001b[0m\u001b[0m\n\u001b[1;32m      5\u001b[0m         \u001b[0mstack\u001b[0m\u001b[0;34m.\u001b[0m\u001b[0mappend\u001b[0m\u001b[0;34m(\u001b[0m\u001b[0;34m\"{}\\n{}\"\u001b[0m\u001b[0;34m.\u001b[0m\u001b[0mformat\u001b[0m\u001b[0;34m(\u001b[0m\u001b[0manames\u001b[0m\u001b[0;34m[\u001b[0m\u001b[0mi\u001b[0m\u001b[0;34m]\u001b[0m\u001b[0;34m,\u001b[0m \u001b[0maseqs\u001b[0m\u001b[0;34m[\u001b[0m\u001b[0mi\u001b[0m\u001b[0;34m]\u001b[0m\u001b[0;34m)\u001b[0m\u001b[0;34m)\u001b[0m\u001b[0;34m\u001b[0m\u001b[0m\n",
      "\u001b[0;31mNameError\u001b[0m: name 'anames' is not defined"
     ]
    }
   ],
   "source": [
    "for i in range(len(anames)):\n",
    "    ## filter for max internal indels \n",
    "    intind = aseqs[i].rstrip('-').lstrip('-').count('-')\n",
    "    if intind <= maxindels:\n",
    "        stack.append(\"{}\\n{}\".format(anames[i], aseqs[i]))"
   ]
  },
  {
   "cell_type": "code",
   "execution_count": null,
   "metadata": {
    "collapsed": true
   },
   "outputs": [],
   "source": []
  },
  {
   "cell_type": "code",
   "execution_count": 119,
   "metadata": {
    "collapsed": false
   },
   "outputs": [],
   "source": [
    "io = h5py.File(data.clust_database, 'r')\n",
    "superseqs = io['seqs']\n",
    "superints = superseqs[:].view(np.int8)\n",
    "#np.sum(superints == 45)"
   ]
  },
  {
   "cell_type": "code",
   "execution_count": 129,
   "metadata": {
    "collapsed": true
   },
   "outputs": [],
   "source": [
    "import copy\n",
    "nodashs = superints.copy()\n",
    "nodashs[nodashs==45] = 78\n",
    "\n",
    "superints[superints==45] = 78"
   ]
  },
  {
   "cell_type": "code",
   "execution_count": 130,
   "metadata": {
    "collapsed": false
   },
   "outputs": [
    {
     "data": {
      "text/plain": [
       "array([[67, 65, 84, ..., 78, 78, 78],\n",
       "       [78, 78, 78, ..., 78, 78, 78],\n",
       "       [78, 78, 78, ..., 78, 78, 78],\n",
       "       ..., \n",
       "       [78, 78, 78, ..., 78, 78, 78],\n",
       "       [78, 78, 78, ..., 78, 78, 78],\n",
       "       [78, 78, 78, ..., 78, 78, 78]], dtype=int8)"
      ]
     },
     "execution_count": 130,
     "metadata": {},
     "output_type": "execute_result"
    }
   ],
   "source": [
    "block = superints[84, :, 5:93]\n",
    "block"
   ]
  },
  {
   "cell_type": "code",
   "execution_count": 131,
   "metadata": {
    "collapsed": false
   },
   "outputs": [],
   "source": [
    "import numba\n",
    "\n",
    "#@numba.jit(nopython=True)\n",
    "def maxind_numba(block):\n",
    "    ## remove terminal edges\n",
    "    inds = 0\n",
    "    for row in xrange(block.shape[0]):\n",
    "        where = np.where(block[row] != 45)[0]\n",
    "        left = np.min(where)\n",
    "        right = np.max(where)       \n",
    "        obs = np.sum(block[row, left:right] == 45)\n",
    "        if obs > inds:\n",
    "            inds = obs\n",
    "    return inds"
   ]
  },
  {
   "cell_type": "code",
   "execution_count": 132,
   "metadata": {
    "collapsed": false
   },
   "outputs": [
    {
     "data": {
      "text/plain": [
       "0"
      ]
     },
     "execution_count": 132,
     "metadata": {},
     "output_type": "execute_result"
    }
   ],
   "source": [
    "#%%timeit\n",
    "maxind_numba(block)"
   ]
  },
  {
   "cell_type": "code",
   "execution_count": 63,
   "metadata": {
    "collapsed": false
   },
   "outputs": [
    {
     "ename": "NameError",
     "evalue": "name 'edgearr' is not defined",
     "output_type": "error",
     "traceback": [
      "\u001b[0;31m---------------------------------------------------------------------------\u001b[0m",
      "\u001b[0;31mNameError\u001b[0m                                 Traceback (most recent call last)",
      "\u001b[0;32m<ipython-input-63-2b8cf87dc4bc>\u001b[0m in \u001b[0;36m<module>\u001b[0;34m()\u001b[0m\n\u001b[1;32m      5\u001b[0m \u001b[0;34m\u001b[0m\u001b[0m\n\u001b[1;32m      6\u001b[0m \u001b[0;32mfor\u001b[0m \u001b[0midx\u001b[0m \u001b[0;32min\u001b[0m \u001b[0mxrange\u001b[0m\u001b[0;34m(\u001b[0m\u001b[0msuperseqs\u001b[0m\u001b[0;34m.\u001b[0m\u001b[0mshape\u001b[0m\u001b[0;34m[\u001b[0m\u001b[0;36m0\u001b[0m\u001b[0;34m]\u001b[0m\u001b[0;34m)\u001b[0m\u001b[0;34m:\u001b[0m\u001b[0;34m\u001b[0m\u001b[0m\n\u001b[0;32m----> 7\u001b[0;31m     \u001b[0mblock\u001b[0m \u001b[0;34m=\u001b[0m \u001b[0msuperints\u001b[0m\u001b[0;34m[\u001b[0m\u001b[0midx\u001b[0m\u001b[0;34m,\u001b[0m \u001b[0;34m:\u001b[0m\u001b[0;34m,\u001b[0m \u001b[0medgearr\u001b[0m\u001b[0;34m[\u001b[0m\u001b[0midx\u001b[0m\u001b[0;34m,\u001b[0m \u001b[0;36m0\u001b[0m\u001b[0;34m]\u001b[0m\u001b[0;34m:\u001b[0m\u001b[0medgearr\u001b[0m\u001b[0;34m[\u001b[0m\u001b[0midx\u001b[0m\u001b[0;34m,\u001b[0m \u001b[0;36m1\u001b[0m\u001b[0;34m]\u001b[0m\u001b[0;34m]\u001b[0m\u001b[0;34m\u001b[0m\u001b[0m\n\u001b[0m\u001b[1;32m      8\u001b[0m     \u001b[0msums\u001b[0m \u001b[0;34m=\u001b[0m \u001b[0mnp\u001b[0m\u001b[0;34m.\u001b[0m\u001b[0msum\u001b[0m\u001b[0;34m(\u001b[0m\u001b[0mblock\u001b[0m \u001b[0;34m==\u001b[0m \u001b[0;36m45\u001b[0m\u001b[0;34m,\u001b[0m \u001b[0maxis\u001b[0m\u001b[0;34m=\u001b[0m\u001b[0;36m1\u001b[0m\u001b[0;34m)\u001b[0m\u001b[0;34m\u001b[0m\u001b[0m\n\u001b[1;32m      9\u001b[0m     \u001b[0;32mprint\u001b[0m\u001b[0;34m(\u001b[0m\u001b[0msums\u001b[0m\u001b[0;34m)\u001b[0m\u001b[0;34m\u001b[0m\u001b[0m\n",
      "\u001b[0;31mNameError\u001b[0m: name 'edgearr' is not defined"
     ]
    }
   ],
   "source": [
    "superseqs.shape\n",
    "#np.sum(superseqs[:] == \"-\", axis=2)\n",
    "\n",
    "ifilter = np.zeros(superints.shape[0], dtype=np.bool_)\n",
    "\n",
    "for idx in xrange(superseqs.shape[0]):\n",
    "    block = superints[idx, :, edgearr[idx, 0]:edgearr[idx, 1]]\n",
    "    sums = np.sum(block == 45, axis=1)\n",
    "    print(sums)\n",
    "    if np.max(sums) > 8:\n",
    "        ifilter[idx] = True\n",
    "        "
   ]
  },
  {
   "cell_type": "code",
   "execution_count": null,
   "metadata": {
    "collapsed": true
   },
   "outputs": [],
   "source": []
  },
  {
   "cell_type": "code",
   "execution_count": 20,
   "metadata": {
    "collapsed": false
   },
   "outputs": [
    {
     "data": {
      "text/plain": [
       "(8, 8)"
      ]
     },
     "execution_count": 20,
     "metadata": {},
     "output_type": "execute_result"
    }
   ],
   "source": [
    "data.paramsdict[\"max_Indels_locus\"]"
   ]
  },
  {
   "cell_type": "markdown",
   "metadata": {},
   "source": [
    "### testing step6"
   ]
  },
  {
   "cell_type": "code",
   "execution_count": 59,
   "metadata": {
    "collapsed": false
   },
   "outputs": [
    {
     "name": "stdout",
     "output_type": "stream",
     "text": [
      "0.28.1+0.gfe99fbc.dirty\n"
     ]
    }
   ],
   "source": [
    "import subprocess\n",
    "import itertools\n",
    "import random\n",
    "import os\n",
    "import numba\n",
    "import gzip\n",
    "import glob\n",
    "import time\n",
    "import pty\n",
    "import datetime\n",
    "from ipyrad.assemble.util import *\n",
    "import fcntl\n",
    "\n",
    "print numba.__version__\n"
   ]
  },
  {
   "cell_type": "code",
   "execution_count": 4,
   "metadata": {
    "collapsed": false
   },
   "outputs": [],
   "source": [
    "samples = data.samples.values()\n",
    "sample = samples[0]"
   ]
  },
  {
   "cell_type": "code",
   "execution_count": 55,
   "metadata": {
    "collapsed": false
   },
   "outputs": [
    {
     "name": "stdout",
     "output_type": "stream",
     "text": [
      "  loading Assembly: newtest2\n",
      "  from saved path: ~/Downloads/pedicularis/newtest2.json\n"
     ]
    }
   ],
   "source": [
    "data = ip.load_json(\"/home/deren/Downloads/pedicularis/newtest2.json\")\n",
    "uhandle = os.path.join(data.dirs.consens, data.name+\".utemp.sort\")\n",
    "samples = data.samples.values()"
   ]
  },
  {
   "cell_type": "code",
   "execution_count": null,
   "metadata": {
    "collapsed": true
   },
   "outputs": [],
   "source": []
  },
  {
   "cell_type": "code",
   "execution_count": 6,
   "metadata": {
    "collapsed": false
   },
   "outputs": [
    {
     "data": {
      "text/plain": [
       "array([[    0,     0,   100],\n",
       "       [    1,     0, 10004],\n",
       "       [    2,     0, 10011],\n",
       "       ..., \n",
       "       [84340,    12,  9984],\n",
       "       [84341,    12,   999],\n",
       "       [84342,    12,  9991]])"
      ]
     },
     "execution_count": 6,
     "metadata": {},
     "output_type": "execute_result"
    }
   ],
   "source": [
    "updf = np.loadtxt(uhandle, dtype=\"S\")\n",
    "\n",
    "## get samples and names, sorted\n",
    "samples.sort(key=lambda x: x.name)  \n",
    "snames = [i.name for i in samples]\n",
    "\n",
    "## get it\n",
    "seeds = np.unique(updf[:, 1])\n",
    "seedsarr = np.column_stack([\n",
    "                np.arange(len(seeds)),\n",
    "               [i.rsplit(\"_\", 1)[0] for i in seeds],\n",
    "               [i.rsplit(\"_\", 1)[1] for i in seeds]])\n",
    "\n",
    "seedsarr[:, 1] = [snames.index(i) for i in seedsarr[:, 1]]\n",
    "seedsarr = seedsarr.astype(np.int64)\n",
    "\n",
    "seedsarr"
   ]
  },
  {
   "cell_type": "code",
   "execution_count": 39,
   "metadata": {
    "collapsed": false
   },
   "outputs": [
    {
     "data": {
      "text/plain": [
       "<DirectView [0, 1, 2, 3]>"
      ]
     },
     "execution_count": 39,
     "metadata": {},
     "output_type": "execute_result"
    }
   ],
   "source": [
    "ipyclient = ipp.Client()\n",
    "dview = ipyclient[:]\n",
    "lbview = ipyclient.load_balanced_view()\n",
    "dview"
   ]
  },
  {
   "cell_type": "code",
   "execution_count": 8,
   "metadata": {
    "collapsed": false
   },
   "outputs": [],
   "source": [
    "#%%timeit -n 1\n",
    "\n",
    "uarr = np.zeros((updf.shape[0], 3), dtype=np.int64)\n",
    "idx = -1\n",
    "lastloc = None\n",
    "for ldx in xrange(updf.shape[0]):\n",
    "    tloc = updf[ldx, 1]\n",
    "    if tloc != lastloc:\n",
    "        idx += 1\n",
    "    uarr[ldx, 0] = idx\n",
    "    lastloc = tloc"
   ]
  },
  {
   "cell_type": "code",
   "execution_count": 9,
   "metadata": {
    "collapsed": false
   },
   "outputs": [
    {
     "data": {
      "text/plain": [
       "array([[    0,     0,     0],\n",
       "       [    1,     0,     0],\n",
       "       [    1,     0,     0],\n",
       "       ..., \n",
       "       [84341,     0,     0],\n",
       "       [84341,     0,     0],\n",
       "       [84342,     0,     0]])"
      ]
     },
     "execution_count": 9,
     "metadata": {},
     "output_type": "execute_result"
    }
   ],
   "source": [
    "uarr"
   ]
  },
  {
   "cell_type": "code",
   "execution_count": 10,
   "metadata": {
    "collapsed": false
   },
   "outputs": [],
   "source": [
    "## create a column with sample index\n",
    "uarr[:, 1] = [int(snames.index(i.rsplit(\"_\", 1)[0])) for i in updf[:, 0]]\n",
    "## create a column with only consens index for sample\n",
    "uarr[:, 2] = [int(i.rsplit(\"_\", 1)[1]) for i in updf[:, 0]]\n",
    "uarr = uarr.astype(np.int64)"
   ]
  },
  {
   "cell_type": "code",
   "execution_count": 11,
   "metadata": {
    "collapsed": false
   },
   "outputs": [
    {
     "data": {
      "text/plain": [
       "array([[     0,     11,  54121],\n",
       "       [     1,      1,  54767],\n",
       "       [     1,      2,   7218],\n",
       "       ..., \n",
       "       [ 84341,     10, 162257],\n",
       "       [ 84341,     11,  12785],\n",
       "       [ 84342,     11,  58827]])"
      ]
     },
     "execution_count": 11,
     "metadata": {},
     "output_type": "execute_result"
    }
   ],
   "source": [
    "uarr"
   ]
  },
  {
   "cell_type": "code",
   "execution_count": 35,
   "metadata": {
    "collapsed": true
   },
   "outputs": [],
   "source": [
    "@numba.jit(nopython=True)\n",
    "def fill_dups(seedsarr, uarr):\n",
    "    ## filter for duplicates\n",
    "    dfilter = np.zeros(seedsarr.shape[0], dtype=np.bool_)\n",
    "    \n",
    "    ## fill dfilter\n",
    "    for idx in xrange(seedsarr.shape[0]):\n",
    "        ## get idx of seed and matches\n",
    "        sidxs = uarr[uarr[:, 0] == idx, 1]\n",
    "        seedx = seedsarr[seedsarr[:, 0] == idx, 1]\n",
    "        counts = np.concatenate((sidxs, seedx))\n",
    "        if np.bincount(counts).max() > 1:\n",
    "            dfilter[idx] = True\n",
    "    return dfilter"
   ]
  },
  {
   "cell_type": "code",
   "execution_count": 16,
   "metadata": {
    "collapsed": false
   },
   "outputs": [
    {
     "name": "stdout",
     "output_type": "stream",
     "text": [
      "1 loop, best of 3: 2min 17s per loop\n"
     ]
    }
   ],
   "source": [
    "%%timeit -n 1\n",
    "\n",
    "fill_dups(seedsarr, uarr)"
   ]
  },
  {
   "cell_type": "code",
   "execution_count": 31,
   "metadata": {
    "collapsed": false
   },
   "outputs": [
    {
     "data": {
      "text/plain": [
       "3.08"
      ]
     },
     "execution_count": 31,
     "metadata": {},
     "output_type": "execute_result"
    }
   ],
   "source": [
    "(0.0022*84000) / 60."
   ]
  },
  {
   "cell_type": "code",
   "execution_count": 25,
   "metadata": {
    "collapsed": false
   },
   "outputs": [
    {
     "name": "stdout",
     "output_type": "stream",
     "text": [
      "1 loop, best of 3: 2.21 ms per loop\n"
     ]
    }
   ],
   "source": [
    "%%timeit -n 1 \n",
    "\n",
    "idx = 83000\n",
    "sidxs = uarr[uarr[:, 0] == idx, 1]\n",
    "seedx = seedsarr[seedsarr[:, 0] == idx, 1]\n",
    "a = np.concatenate([sidxs, seedx])\n",
    "np.bincount(a).max()\n"
   ]
  },
  {
   "cell_type": "code",
   "execution_count": 12,
   "metadata": {
    "collapsed": true
   },
   "outputs": [],
   "source": [
    "@numba.jit(nopython=True)\n",
    "def fill_duplicates_serial(seedsarr, uarr, ntax):\n",
    "    ## filter for duplicates\n",
    "    dfilter = np.zeros(seedsarr.shape[0], dtype=np.bool_)\n",
    "    \n",
    "    ## fill dfilter\n",
    "    for idx in xrange(seedsarr.shape[0]):\n",
    "        ## get idx of seed and matches\n",
    "        sidxs = uarr[uarr[:, 0] == idx, 1]\n",
    "        seedx = seedsarr[seedsarr[:, 0] == idx, 1]\n",
    "        \n",
    "        ## do this b/c joining arrs is hard in numba\n",
    "        counts = np.zeros(ntax, dtype=np.int64)\n",
    "        for sidx in sidxs:\n",
    "            counts[sidx] += 1\n",
    "        for sidx in seedx:\n",
    "            counts[sidx] += 1\n",
    "        if counts.max() > 1:\n",
    "            dfilter[idx] = True\n",
    "    return dfilter"
   ]
  },
  {
   "cell_type": "code",
   "execution_count": 18,
   "metadata": {
    "collapsed": false
   },
   "outputs": [],
   "source": [
    "@numba.jit(nopython=True)\n",
    "def fill_duplicates_parallel(base, block, seedsarr, uarr, ntax):\n",
    "    \"\"\" applies filter to block of loci \"\"\"\n",
    "    ## filter for duplicates\n",
    "    size = min(block, seedsarr.shape[0] - (base))\n",
    "    dfilter = np.zeros(size, dtype=np.bool_)\n",
    "\n",
    "    ## fill dfilter\n",
    "    for bidx in xrange(size):\n",
    "        idx = bidx + base\n",
    "        ## get idx of seed and matches\n",
    "        sidxs = uarr[uarr[:, 0] == idx, 1]\n",
    "        seedx = seedsarr[seedsarr[:, 0] == idx, 1]\n",
    "        \n",
    "        ## do this b/c joining arrs is hard in numba\n",
    "        counts = np.zeros(ntax, dtype=np.int64)\n",
    "        for sidx in sidxs:\n",
    "            counts[sidx] += 1\n",
    "        for sidx in seedx:\n",
    "            counts[sidx] += 1\n",
    "        if counts.max() > 1:\n",
    "            dfilter[bidx] = True\n",
    "    return dfilter"
   ]
  },
  {
   "cell_type": "code",
   "execution_count": 40,
   "metadata": {
    "collapsed": true
   },
   "outputs": [],
   "source": [
    "@numba.jit(nopython=True)\n",
    "def fill_duplicates_parallel(base, block, seedsarr, uarr, ntax):\n",
    "    \"\"\" applies filter to block of loci \"\"\"\n",
    "    ## filter for duplicates\n",
    "    size = min(block, seedsarr.shape[0] - (base))\n",
    "    dfilter = np.zeros(size, dtype=np.bool_)\n",
    "\n",
    "    ## fill dfilter\n",
    "    for bidx in xrange(size):\n",
    "        idx = bidx + base\n",
    "        ## get idx of seed and matches\n",
    "        sidxs = uarr[uarr[:, 0] == idx, 1]\n",
    "        seedx = seedsarr[seedsarr[:, 0] == idx, 1]\n",
    "        bins = np.concatenate((sidxs, seedx))\n",
    "        counts = np.bincount(bins)\n",
    "        if counts.max() > 1:\n",
    "            dfilter[bidx] = True\n",
    "    return dfilter"
   ]
  },
  {
   "cell_type": "code",
   "execution_count": 41,
   "metadata": {
    "collapsed": false
   },
   "outputs": [
    {
     "data": {
      "text/plain": [
       "10544"
      ]
     },
     "execution_count": 41,
     "metadata": {},
     "output_type": "execute_result"
    }
   ],
   "source": [
    "seedsarr.shape\n",
    "\n",
    "blocks = (seedsarr.shape[0] / 4) + (seedsarr.shape[0] % 4)\n",
    "blocks /= 2\n",
    "blocks"
   ]
  },
  {
   "cell_type": "code",
   "execution_count": 42,
   "metadata": {
    "collapsed": false
   },
   "outputs": [
    {
     "name": "stdout",
     "output_type": "stream",
     "text": [
      "   8/8 tasks finished after  107 s\n",
      "done\n"
     ]
    }
   ],
   "source": [
    "\n",
    "dupres = {}\n",
    "for test in xrange(0, seedsarr.shape[0], blocks):\n",
    "    async = lbview.apply(fill_duplicates_parallel, *(test, blocks, seedsarr, uarr, len(samples)))\n",
    "    dupres[test] = async\n",
    "    \n",
    "ipyclient.wait_interactive()       \n",
    "keys = sorted(dupres.keys())\n",
    "dfilter_par = np.concatenate([dupres[key].result() for key in keys])"
   ]
  },
  {
   "cell_type": "code",
   "execution_count": 63,
   "metadata": {
    "collapsed": false
   },
   "outputs": [
    {
     "data": {
      "text/plain": [
       "array([False, False, False, ..., False, False, False], dtype=bool)"
      ]
     },
     "execution_count": 63,
     "metadata": {},
     "output_type": "execute_result"
    }
   ],
   "source": [
    "dfilter_par"
   ]
  },
  {
   "cell_type": "code",
   "execution_count": 20,
   "metadata": {
    "collapsed": false
   },
   "outputs": [
    {
     "name": "stdout",
     "output_type": "stream",
     "text": [
      "   4/4 tasks finished after  132 s\n",
      "done\n"
     ]
    }
   ],
   "source": [
    "dupres = {}\n",
    "for test in xrange(0, seedsarr.shape[0], 22000):\n",
    "    async = lbview.apply(fill_duplicates_parallel, *(test, 22000, seedsarr, uarr, len(samples)))\n",
    "    dupres[test] = async\n",
    "    \n",
    "ipyclient.wait_interactive()       \n",
    "keys = sorted(dupres.keys())\n",
    "dfilter_par = np.concatenate([dupres[key].result() for key in keys])"
   ]
  },
  {
   "cell_type": "code",
   "execution_count": 64,
   "metadata": {
    "collapsed": false
   },
   "outputs": [
    {
     "data": {
      "text/plain": [
       "{'cluster_id': '',\n",
       " 'cores': 4,\n",
       " 'engines': 'Local',\n",
       " 'profile': 'default',\n",
       " 'quiet': 0,\n",
       " 'timeout': 120}"
      ]
     },
     "execution_count": 64,
     "metadata": {},
     "output_type": "execute_result"
    }
   ],
   "source": [
    "data._ipcluster"
   ]
  },
  {
   "cell_type": "code",
   "execution_count": 50,
   "metadata": {
    "collapsed": false
   },
   "outputs": [
    {
     "data": {
      "text/plain": [
       "array([False, False, False, ..., False, False, False], dtype=bool)"
      ]
     },
     "execution_count": 50,
     "metadata": {},
     "output_type": "execute_result"
    }
   ],
   "source": [
    "keys = sorted(dupres.keys())\n",
    "dfilter_par = np.concatenate([dupres[key].result() for key in keys])\n",
    "dfilter_par"
   ]
  },
  {
   "cell_type": "code",
   "execution_count": null,
   "metadata": {
    "collapsed": false
   },
   "outputs": [],
   "source": [
    "ipyclient.wait_interactive()"
   ]
  },
  {
   "cell_type": "code",
   "execution_count": 14,
   "metadata": {
    "collapsed": false
   },
   "outputs": [
    {
     "ename": "KeyboardInterrupt",
     "evalue": "",
     "output_type": "error",
     "traceback": [
      "\u001b[0;31m---------------------------------------------------------------------------\u001b[0m",
      "\u001b[0;31mKeyboardInterrupt\u001b[0m                         Traceback (most recent call last)",
      "\u001b[0;32m<ipython-input-14-8622292fd1e6>\u001b[0m in \u001b[0;36m<module>\u001b[0;34m()\u001b[0m\n\u001b[1;32m      5\u001b[0m \u001b[0;34m\u001b[0m\u001b[0m\n\u001b[1;32m      6\u001b[0m \u001b[0mkeys\u001b[0m \u001b[0;34m=\u001b[0m \u001b[0msorted\u001b[0m\u001b[0;34m(\u001b[0m\u001b[0mdupres\u001b[0m\u001b[0;34m.\u001b[0m\u001b[0mkeys\u001b[0m\u001b[0;34m(\u001b[0m\u001b[0;34m)\u001b[0m\u001b[0;34m)\u001b[0m\u001b[0;34m\u001b[0m\u001b[0m\n\u001b[0;32m----> 7\u001b[0;31m \u001b[0mdfilter_par\u001b[0m \u001b[0;34m=\u001b[0m \u001b[0mnp\u001b[0m\u001b[0;34m.\u001b[0m\u001b[0mconcatenate\u001b[0m\u001b[0;34m(\u001b[0m\u001b[0;34m[\u001b[0m\u001b[0mdupres\u001b[0m\u001b[0;34m[\u001b[0m\u001b[0mkey\u001b[0m\u001b[0;34m]\u001b[0m\u001b[0;34m.\u001b[0m\u001b[0mget\u001b[0m\u001b[0;34m(\u001b[0m\u001b[0;34m)\u001b[0m \u001b[0;32mfor\u001b[0m \u001b[0mkey\u001b[0m \u001b[0;32min\u001b[0m \u001b[0mkeys\u001b[0m\u001b[0;34m]\u001b[0m\u001b[0;34m)\u001b[0m\u001b[0;34m\u001b[0m\u001b[0m\n\u001b[0m",
      "\u001b[0;32m/home/deren/anaconda/lib/python2.7/site-packages/ipyparallel/client/asyncresult.pyc\u001b[0m in \u001b[0;36mget\u001b[0;34m(self, timeout)\u001b[0m\n\u001b[1;32m    158\u001b[0m         \"\"\"\n\u001b[1;32m    159\u001b[0m         \u001b[0;32mif\u001b[0m \u001b[0;32mnot\u001b[0m \u001b[0mself\u001b[0m\u001b[0;34m.\u001b[0m\u001b[0mready\u001b[0m\u001b[0;34m(\u001b[0m\u001b[0;34m)\u001b[0m\u001b[0;34m:\u001b[0m\u001b[0;34m\u001b[0m\u001b[0m\n\u001b[0;32m--> 160\u001b[0;31m             \u001b[0mself\u001b[0m\u001b[0;34m.\u001b[0m\u001b[0mwait\u001b[0m\u001b[0;34m(\u001b[0m\u001b[0mtimeout\u001b[0m\u001b[0;34m)\u001b[0m\u001b[0;34m\u001b[0m\u001b[0m\n\u001b[0m\u001b[1;32m    161\u001b[0m \u001b[0;34m\u001b[0m\u001b[0m\n\u001b[1;32m    162\u001b[0m         \u001b[0;32mif\u001b[0m \u001b[0mself\u001b[0m\u001b[0;34m.\u001b[0m\u001b[0m_ready\u001b[0m\u001b[0;34m:\u001b[0m\u001b[0;34m\u001b[0m\u001b[0m\n",
      "\u001b[0;32m/home/deren/anaconda/lib/python2.7/site-packages/ipyparallel/client/asyncresult.pyc\u001b[0m in \u001b[0;36mwait\u001b[0;34m(self, timeout)\u001b[0m\n\u001b[1;32m    208\u001b[0m             \u001b[0mtimeout\u001b[0m \u001b[0;34m=\u001b[0m \u001b[0mNone\u001b[0m\u001b[0;34m\u001b[0m\u001b[0m\n\u001b[1;32m    209\u001b[0m \u001b[0;34m\u001b[0m\u001b[0m\n\u001b[0;32m--> 210\u001b[0;31m         \u001b[0mself\u001b[0m\u001b[0;34m.\u001b[0m\u001b[0m_ready_event\u001b[0m\u001b[0;34m.\u001b[0m\u001b[0mwait\u001b[0m\u001b[0;34m(\u001b[0m\u001b[0mtimeout\u001b[0m\u001b[0;34m)\u001b[0m\u001b[0;34m\u001b[0m\u001b[0m\n\u001b[0m\u001b[1;32m    211\u001b[0m         \u001b[0mself\u001b[0m\u001b[0;34m.\u001b[0m\u001b[0mwait_for_output\u001b[0m\u001b[0;34m(\u001b[0m\u001b[0;36m0\u001b[0m\u001b[0;34m)\u001b[0m\u001b[0;34m\u001b[0m\u001b[0m\n\u001b[1;32m    212\u001b[0m         \u001b[0;32mreturn\u001b[0m \u001b[0mself\u001b[0m\u001b[0;34m.\u001b[0m\u001b[0m_ready\u001b[0m\u001b[0;34m\u001b[0m\u001b[0m\n",
      "\u001b[0;32m/home/deren/anaconda/lib/python2.7/threading.pyc\u001b[0m in \u001b[0;36mwait\u001b[0;34m(self, timeout)\u001b[0m\n\u001b[1;32m    612\u001b[0m         \u001b[0;32mwith\u001b[0m \u001b[0mself\u001b[0m\u001b[0;34m.\u001b[0m\u001b[0m__cond\u001b[0m\u001b[0;34m:\u001b[0m\u001b[0;34m\u001b[0m\u001b[0m\n\u001b[1;32m    613\u001b[0m             \u001b[0;32mif\u001b[0m \u001b[0;32mnot\u001b[0m \u001b[0mself\u001b[0m\u001b[0;34m.\u001b[0m\u001b[0m__flag\u001b[0m\u001b[0;34m:\u001b[0m\u001b[0;34m\u001b[0m\u001b[0m\n\u001b[0;32m--> 614\u001b[0;31m                 \u001b[0mself\u001b[0m\u001b[0;34m.\u001b[0m\u001b[0m__cond\u001b[0m\u001b[0;34m.\u001b[0m\u001b[0mwait\u001b[0m\u001b[0;34m(\u001b[0m\u001b[0mtimeout\u001b[0m\u001b[0;34m)\u001b[0m\u001b[0;34m\u001b[0m\u001b[0m\n\u001b[0m\u001b[1;32m    615\u001b[0m             \u001b[0;32mreturn\u001b[0m \u001b[0mself\u001b[0m\u001b[0;34m.\u001b[0m\u001b[0m__flag\u001b[0m\u001b[0;34m\u001b[0m\u001b[0m\n\u001b[1;32m    616\u001b[0m \u001b[0;34m\u001b[0m\u001b[0m\n",
      "\u001b[0;32m/home/deren/anaconda/lib/python2.7/threading.pyc\u001b[0m in \u001b[0;36mwait\u001b[0;34m(self, timeout)\u001b[0m\n\u001b[1;32m    338\u001b[0m         \u001b[0;32mtry\u001b[0m\u001b[0;34m:\u001b[0m    \u001b[0;31m# restore state no matter what (e.g., KeyboardInterrupt)\u001b[0m\u001b[0;34m\u001b[0m\u001b[0m\n\u001b[1;32m    339\u001b[0m             \u001b[0;32mif\u001b[0m \u001b[0mtimeout\u001b[0m \u001b[0;32mis\u001b[0m \u001b[0mNone\u001b[0m\u001b[0;34m:\u001b[0m\u001b[0;34m\u001b[0m\u001b[0m\n\u001b[0;32m--> 340\u001b[0;31m                 \u001b[0mwaiter\u001b[0m\u001b[0;34m.\u001b[0m\u001b[0macquire\u001b[0m\u001b[0;34m(\u001b[0m\u001b[0;34m)\u001b[0m\u001b[0;34m\u001b[0m\u001b[0m\n\u001b[0m\u001b[1;32m    341\u001b[0m                 \u001b[0;32mif\u001b[0m \u001b[0m__debug__\u001b[0m\u001b[0;34m:\u001b[0m\u001b[0;34m\u001b[0m\u001b[0m\n\u001b[1;32m    342\u001b[0m                     \u001b[0mself\u001b[0m\u001b[0;34m.\u001b[0m\u001b[0m_note\u001b[0m\u001b[0;34m(\u001b[0m\u001b[0;34m\"%s.wait(): got it\"\u001b[0m\u001b[0;34m,\u001b[0m \u001b[0mself\u001b[0m\u001b[0;34m)\u001b[0m\u001b[0;34m\u001b[0m\u001b[0m\n",
      "\u001b[0;31mKeyboardInterrupt\u001b[0m: "
     ]
    }
   ],
   "source": [
    "dupres = {}\n",
    "for chunk in xrange(0, seedsarr.shape[0], 1000):\n",
    "    seedchunk = seedsarr[chunk:chunk+1000]\n",
    "    dupres[chunk] = lbview.apply(fill_duplicates, *(chunk, seedchunk, uarr, len(samples)))\n",
    "\n",
    "keys = sorted(dupres.keys())\n",
    "dfilter_par = np.concatenate([dupres[key].get() for key in keys])"
   ]
  },
  {
   "cell_type": "code",
   "execution_count": 52,
   "metadata": {
    "collapsed": false
   },
   "outputs": [],
   "source": [
    "%%timeit -n 1 \n",
    "\n",
    "dfilter_ser = fill_duplicates_serial(0, seedsarr, uarr, len(samples))"
   ]
  },
  {
   "cell_type": "code",
   "execution_count": 55,
   "metadata": {
    "collapsed": false
   },
   "outputs": [
    {
     "data": {
      "text/plain": [
       "array([False, False, False, ..., False, False, False], dtype=bool)"
      ]
     },
     "execution_count": 55,
     "metadata": {},
     "output_type": "execute_result"
    }
   ],
   "source": [
    "dfilter_ser"
   ]
  },
  {
   "cell_type": "markdown",
   "metadata": {},
   "source": [
    "### Insert indels"
   ]
  },
  {
   "cell_type": "code",
   "execution_count": 453,
   "metadata": {
    "collapsed": false
   },
   "outputs": [
    {
     "name": "stdout",
     "output_type": "stream",
     "text": [
      "7 [94]\n",
      "9 [94]\n",
      "35 [94]\n",
      "45 [94]\n",
      "48 [94]\n",
      "112 [94]\n",
      "127 [94]\n",
      "144 [94]\n",
      "166 [94]\n",
      "167 [94]\n",
      "199 [94]\n",
      "202 [27]\n",
      "294 [17]\n",
      "304 [94]\n",
      "309 [94 95]\n",
      "328 [94]\n",
      "335 [94]\n",
      "379 [37]\n",
      "397 [94]\n",
      "417 [94]\n",
      "421 [46]\n",
      "435 [94]\n",
      "457 [94]\n",
      "464 [94]\n",
      "475 [94]\n",
      "483 [94]\n",
      "490 [94]\n",
      "492 [94]\n",
      "612 [94]\n",
      "654 [94]\n",
      "659 [48]\n",
      "674 [94 95]\n",
      "679 [94]\n",
      "706 [94]\n",
      "719 [94]\n",
      "726 [94]\n",
      "730 [94]\n",
      "815 [48]\n",
      "820 [94 95]\n",
      "829 [94]\n",
      "873 [94]\n",
      "887 [22 72]\n",
      "899 [94]\n",
      "919 [94]\n",
      "955 [94]\n",
      "973 [94]\n",
      "974 [94]\n",
      "984 [94]\n"
     ]
    }
   ],
   "source": [
    "ocatg[50, :10]\n",
    "for iloc in xrange(ocatg.shape[0]):\n",
    "    indidx = np.where(indels[iloc, :])[0]\n",
    "    if np.any(indidx):\n",
    "        print iloc, indidx"
   ]
  },
  {
   "cell_type": "code",
   "execution_count": 557,
   "metadata": {
    "collapsed": false
   },
   "outputs": [
    {
     "data": {
      "text/plain": [
       "(1000, 180, 4)"
      ]
     },
     "execution_count": 557,
     "metadata": {},
     "output_type": "execute_result"
    }
   ],
   "source": [
    "ocatg.shape"
   ]
  },
  {
   "cell_type": "code",
   "execution_count": 593,
   "metadata": {
    "collapsed": true
   },
   "outputs": [],
   "source": [
    "@numba.jit(nopython=True)\n",
    "def inserted_indels(indels, ocatg):\n",
    "    ## return copy with indels inserted\n",
    "    newcatg = np.zeros(ocatg.shape, dtype=np.uint32)\n",
    "    \n",
    "    ## iterate over loci and make extensions for indels   \n",
    "    for iloc in xrange(ocatg.shape[0]):\n",
    "        ## get indels indices\n",
    "        indidx = np.where(indels[iloc, :])[0]\n",
    "        if np.any(indidx):\n",
    "            ## which new (empty) rows will be added\n",
    "            allrows = np.arange(ocatg.shape[1])\n",
    "            mask = np.ones(allrows.shape[0], dtype=np.bool_)\n",
    "            for idx in indidx:\n",
    "                mask[idx] = False\n",
    "            not_idx = allrows[mask==1]\n",
    "            \n",
    "            ## fill in new data into all other spots\n",
    "            newcatg[iloc][not_idx] = ocatg[iloc, :not_idx.shape[0]]\n",
    "        else:\n",
    "            newcatg[iloc] = ocatg[iloc]\n",
    "    return newcatg\n"
   ]
  },
  {
   "cell_type": "code",
   "execution_count": 583,
   "metadata": {
    "collapsed": true
   },
   "outputs": [],
   "source": [
    "@numba.jit(nopython=True)\n",
    "def newarr(ocatg):\n",
    "    return np.arange(ocatg.shape[1])#, dtype=np.int32)"
   ]
  },
  {
   "cell_type": "code",
   "execution_count": 613,
   "metadata": {
    "collapsed": false
   },
   "outputs": [
    {
     "data": {
      "text/plain": [
       "dtype('uint8')"
      ]
     },
     "execution_count": 613,
     "metadata": {},
     "output_type": "execute_result"
    }
   ],
   "source": [
    "onall.dtype"
   ]
  },
  {
   "cell_type": "code",
   "execution_count": 619,
   "metadata": {
    "collapsed": false
   },
   "outputs": [
    {
     "name": "stdout",
     "output_type": "stream",
     "text": [
      "[u'icatg', u'inall']\n",
      "[[[ 0  0 16  0]\n",
      "  [ 0  0  0 16]\n",
      "  [16  0  0  0]\n",
      "  ..., \n",
      "  [ 0  0  0  0]\n",
      "  [ 0  0  0  0]\n",
      "  [ 0  0  0  0]]\n",
      "\n",
      " [[ 0  0 18  0]\n",
      "  [ 0  0  0 18]\n",
      "  [18  0  0  0]\n",
      "  ..., \n",
      "  [ 0  0  0  0]\n",
      "  [ 0  0  0  0]\n",
      "  [ 0  0  0  0]]\n",
      "\n",
      " [[ 0  0 18  0]\n",
      "  [ 0  0  0 18]\n",
      "  [18  0  0  0]\n",
      "  ..., \n",
      "  [ 0  0  0  0]\n",
      "  [ 0  0  0  0]\n",
      "  [ 0  0  0  0]]\n",
      "\n",
      " [[ 0  0 20  0]\n",
      "  [ 0  0  0 20]\n",
      "  [20  0  0  0]\n",
      "  ..., \n",
      "  [ 0  0  0  0]\n",
      "  [ 0  0  0  0]\n",
      "  [ 0  0  0  0]]\n",
      "\n",
      " [[ 0  0 20  0]\n",
      "  [ 0  0  0 20]\n",
      "  [20  0  0  0]\n",
      "  ..., \n",
      "  [ 0  0  0  0]\n",
      "  [ 0  0  0  0]\n",
      "  [ 0  0  0  0]]]\n",
      "[1 1 1 1 1]\n"
     ]
    }
   ],
   "source": [
    "smpio = os.path.join(data.dirs.consens, sample.name+\".tmp.h5\")\n",
    "with h5py.File(smpio, 'r') as smp5:\n",
    "    print smp5.keys()#.create_dataset('icatg', data=newcatg, dtype=np.uint32)\n",
    "    print smp5['icatg'][:5]\n",
    "    print smp5['inall'][:5]"
   ]
  },
  {
   "cell_type": "code",
   "execution_count": 597,
   "metadata": {
    "collapsed": false
   },
   "outputs": [
    {
     "data": {
      "text/plain": [
       "array([[ 0,  0, 19,  0],\n",
       "       [ 0,  0,  0, 19],\n",
       "       [19,  0,  0,  0],\n",
       "       [ 0, 19,  0,  0],\n",
       "       [ 0,  0,  0, 19],\n",
       "       [ 0, 19,  0,  0],\n",
       "       [ 0,  0,  0, 19],\n",
       "       [ 0,  0, 19,  0],\n",
       "       [19,  0,  0,  0],\n",
       "       [ 0,  0,  0, 19],\n",
       "       [19,  0,  0,  0],\n",
       "       [ 0,  0,  0, 19],\n",
       "       [ 0,  0, 19,  0],\n",
       "       [19,  0,  0,  0],\n",
       "       [19,  0,  0,  0],\n",
       "       [ 0,  0,  0, 19],\n",
       "       [ 0,  0,  0, 19],\n",
       "       [ 0,  0,  0, 19],\n",
       "       [ 0,  0,  0, 19],\n",
       "       [ 0,  0,  0, 19],\n",
       "       [ 0,  0,  0, 19],\n",
       "       [ 0, 19,  0,  0],\n",
       "       [ 0, 19,  0,  0],\n",
       "       [ 0, 19,  0,  0],\n",
       "       [ 0,  0, 19,  0],\n",
       "       [ 0, 19,  0,  0],\n",
       "       [ 0,  0,  0, 19],\n",
       "       [ 0,  0, 19,  0],\n",
       "       [ 0,  0,  0, 19],\n",
       "       [ 0, 19,  0,  0],\n",
       "       [19,  0,  0,  0],\n",
       "       [19,  0,  0,  0],\n",
       "       [19,  0,  0,  0],\n",
       "       [ 0, 19,  0,  0],\n",
       "       [19,  0,  0,  0],\n",
       "       [19,  0,  0,  0],\n",
       "       [ 0, 19,  0,  0],\n",
       "       [ 0,  0,  0, 19],\n",
       "       [ 0,  0,  0, 19],\n",
       "       [ 0,  0, 19,  0],\n",
       "       [ 0, 19,  0,  0],\n",
       "       [ 0,  0, 19,  0],\n",
       "       [19,  0,  0,  0],\n",
       "       [ 0, 19,  0,  0],\n",
       "       [ 0,  0,  0, 19],\n",
       "       [ 0,  0,  0, 19],\n",
       "       [19,  0,  0,  0],\n",
       "       [ 0,  0, 19,  0],\n",
       "       [ 0, 19,  0,  0],\n",
       "       [ 0, 19,  0,  0],\n",
       "       [19,  0,  0,  0],\n",
       "       [ 0, 19,  0,  0],\n",
       "       [ 0,  0, 19,  0],\n",
       "       [ 0,  0,  0, 19],\n",
       "       [ 0,  0, 19,  0],\n",
       "       [19,  0,  0,  0],\n",
       "       [ 0, 19,  0,  0],\n",
       "       [ 0,  0,  0, 19],\n",
       "       [ 0,  0, 19,  0],\n",
       "       [ 0,  0, 19,  0],\n",
       "       [ 0,  0, 19,  0],\n",
       "       [ 0,  0,  0, 19],\n",
       "       [ 0,  0, 19,  0],\n",
       "       [ 0,  0, 19,  0],\n",
       "       [ 0,  0, 19,  0],\n",
       "       [ 0,  0,  0, 19],\n",
       "       [ 0,  0, 19,  0],\n",
       "       [ 0, 19,  0,  0],\n",
       "       [19,  0,  0,  0],\n",
       "       [ 0,  0,  0, 19],\n",
       "       [ 0,  0, 19,  0],\n",
       "       [ 0,  0,  0, 19],\n",
       "       [ 0,  0,  0, 19],\n",
       "       [ 0,  0, 19,  0],\n",
       "       [ 0, 19,  0,  0],\n",
       "       [ 0, 19,  0,  0],\n",
       "       [19,  0,  0,  0],\n",
       "       [ 0,  0,  0, 19],\n",
       "       [19,  0,  0,  0],\n",
       "       [ 0,  0, 19,  0],\n",
       "       [ 0, 19,  0,  0],\n",
       "       [ 0,  0, 19,  0],\n",
       "       [ 0, 19,  0,  0],\n",
       "       [ 0,  0,  0, 19],\n",
       "       [19,  0,  0,  0],\n",
       "       [19,  0,  0,  0],\n",
       "       [ 0,  0,  0, 19],\n",
       "       [ 0,  0, 19,  0],\n",
       "       [ 0,  0, 19,  0],\n",
       "       [ 0,  0, 19,  0],\n",
       "       [19,  0,  0,  0],\n",
       "       [ 0,  0, 19,  0],\n",
       "       [ 0, 19,  0,  0],\n",
       "       [19,  0,  0,  0],\n",
       "       [ 0,  0,  0,  0],\n",
       "       [ 0,  0,  0,  0],\n",
       "       [ 0,  0,  0,  0],\n",
       "       [ 0,  0,  0,  0],\n",
       "       [ 0,  0,  0,  0],\n",
       "       [ 0,  0,  0,  0],\n",
       "       [ 0,  0,  0,  0],\n",
       "       [ 0,  0,  0,  0],\n",
       "       [ 0,  0,  0,  0],\n",
       "       [ 0,  0,  0,  0],\n",
       "       [ 0,  0,  0,  0],\n",
       "       [ 0,  0,  0,  0],\n",
       "       [ 0,  0,  0,  0],\n",
       "       [ 0,  0,  0,  0],\n",
       "       [ 0,  0,  0,  0],\n",
       "       [ 0,  0,  0,  0],\n",
       "       [ 0,  0,  0,  0],\n",
       "       [ 0,  0,  0,  0],\n",
       "       [ 0,  0,  0,  0],\n",
       "       [ 0,  0,  0,  0],\n",
       "       [ 0,  0,  0,  0],\n",
       "       [ 0,  0,  0,  0],\n",
       "       [ 0,  0,  0,  0],\n",
       "       [ 0,  0,  0,  0],\n",
       "       [ 0,  0,  0,  0],\n",
       "       [ 0,  0,  0,  0],\n",
       "       [ 0,  0,  0,  0],\n",
       "       [ 0,  0,  0,  0],\n",
       "       [ 0,  0,  0,  0],\n",
       "       [ 0,  0,  0,  0],\n",
       "       [ 0,  0,  0,  0],\n",
       "       [ 0,  0,  0,  0],\n",
       "       [ 0,  0,  0,  0],\n",
       "       [ 0,  0,  0,  0],\n",
       "       [ 0,  0,  0,  0],\n",
       "       [ 0,  0,  0,  0],\n",
       "       [ 0,  0,  0,  0],\n",
       "       [ 0,  0,  0,  0],\n",
       "       [ 0,  0,  0,  0],\n",
       "       [ 0,  0,  0,  0],\n",
       "       [ 0,  0,  0,  0],\n",
       "       [ 0,  0,  0,  0],\n",
       "       [ 0,  0,  0,  0],\n",
       "       [ 0,  0,  0,  0],\n",
       "       [ 0,  0,  0,  0],\n",
       "       [ 0,  0,  0,  0],\n",
       "       [ 0,  0,  0,  0],\n",
       "       [ 0,  0,  0,  0],\n",
       "       [ 0,  0,  0,  0],\n",
       "       [ 0,  0,  0,  0],\n",
       "       [ 0,  0,  0,  0],\n",
       "       [ 0,  0,  0,  0],\n",
       "       [ 0,  0,  0,  0],\n",
       "       [ 0,  0,  0,  0],\n",
       "       [ 0,  0,  0,  0],\n",
       "       [ 0,  0,  0,  0],\n",
       "       [ 0,  0,  0,  0],\n",
       "       [ 0,  0,  0,  0],\n",
       "       [ 0,  0,  0,  0],\n",
       "       [ 0,  0,  0,  0],\n",
       "       [ 0,  0,  0,  0],\n",
       "       [ 0,  0,  0,  0],\n",
       "       [ 0,  0,  0,  0],\n",
       "       [ 0,  0,  0,  0],\n",
       "       [ 0,  0,  0,  0],\n",
       "       [ 0,  0,  0,  0],\n",
       "       [ 0,  0,  0,  0],\n",
       "       [ 0,  0,  0,  0],\n",
       "       [ 0,  0,  0,  0],\n",
       "       [ 0,  0,  0,  0],\n",
       "       [ 0,  0,  0,  0],\n",
       "       [ 0,  0,  0,  0],\n",
       "       [ 0,  0,  0,  0],\n",
       "       [ 0,  0,  0,  0],\n",
       "       [ 0,  0,  0,  0],\n",
       "       [ 0,  0,  0,  0],\n",
       "       [ 0,  0,  0,  0],\n",
       "       [ 0,  0,  0,  0],\n",
       "       [ 0,  0,  0,  0],\n",
       "       [ 0,  0,  0,  0],\n",
       "       [ 0,  0,  0,  0],\n",
       "       [ 0,  0,  0,  0],\n",
       "       [ 0,  0,  0,  0],\n",
       "       [ 0,  0,  0,  0],\n",
       "       [ 0,  0,  0,  0],\n",
       "       [ 0,  0,  0,  0]], dtype=uint32)"
      ]
     },
     "execution_count": 597,
     "metadata": {},
     "output_type": "execute_result"
    }
   ],
   "source": [
    "#%%timeit\n",
    "newcatg = inserted_indels(indels, ocatg)\n",
    "#newcatg[887, :]\n",
    "newcatg[888, :]"
   ]
  },
  {
   "cell_type": "code",
   "execution_count": 434,
   "metadata": {
    "collapsed": false
   },
   "outputs": [
    {
     "data": {
      "text/plain": [
       "(1000, 180, 4)"
      ]
     },
     "execution_count": 434,
     "metadata": {},
     "output_type": "execute_result"
    }
   ],
   "source": [
    "# TODO: simplify these funcs / subfuncs\n",
    "def getfill_numba(indidx, tmpcatg):\n",
    "    \"\"\" \n",
    "    Fast array filling function for singlecat. \n",
    "    Cannot be fully numba compiled, but has a compiled subfunction\n",
    "    \"\"\"\n",
    "    newrows = np.uint32(tmpcatg.shape[0] + indidx.shape[0])\n",
    "    newfill = np.zeros(shape=(newrows, 4), dtype=np.uint32)\n",
    "    res = getfill_numba_sub(tmpcatg, indidx, newfill, newrows)\n",
    "    return res\n",
    "\n",
    "\n",
    "\n",
    "@numba.jit(\"u4[:,:](u4[:,:],u4[:],u4[:,:],u4)\", nopython=True)\n",
    "def getfill_numba_sub(tmpcatg, indidx, newfill, newrows):\n",
    "    \"\"\" compiled subfunction of getfill_numba \"\"\"\n",
    "    allrows = np.arange(newrows)\n",
    "    mask = np.ones(shape=newrows, dtype=np.uint32)\n",
    "    for idx in indidx:\n",
    "        mask[idx] = 0\n",
    "    not_idx = allrows[mask == 1]\n",
    "    newfill[not_idx, :] = tmpcatg\n",
    "    return tmpcatg\n"
   ]
  },
  {
   "cell_type": "code",
   "execution_count": 438,
   "metadata": {
    "collapsed": false
   },
   "outputs": [
    {
     "data": {
      "text/plain": [
       "52"
      ]
     },
     "execution_count": 438,
     "metadata": {},
     "output_type": "execute_result"
    }
   ],
   "source": [
    "ipath = os.path.join(data.dirs.consens, data.name+\".indels\")\n",
    "with h5py.File(ipath, 'r') as ih5:\n",
    "    indels = ih5[\"indels\"][sidx, :, :]\n",
    "\n"
   ]
  },
  {
   "cell_type": "code",
   "execution_count": 378,
   "metadata": {
    "collapsed": false
   },
   "outputs": [
    {
     "data": {
      "text/plain": [
       "array([[  0,   6,  94],\n",
       "       [  1,   6, 108],\n",
       "       [  2,   6, 915],\n",
       "       ..., \n",
       "       [997,   6, 963],\n",
       "       [998,   6, 158],\n",
       "       [999,   6, 979]])"
      ]
     },
     "execution_count": 378,
     "metadata": {},
     "output_type": "execute_result"
    }
   ],
   "source": [
    "data.nloci = 1000\n",
    "sample\n",
    "sidx = snames.index(sample.name)\n",
    "sidx\n",
    "snames\n",
    "hits = uarr[uarr[:, 1] == sidx, :]\n",
    "hits"
   ]
  },
  {
   "cell_type": "markdown",
   "metadata": {},
   "source": [
    "### singlecat"
   ]
  },
  {
   "cell_type": "code",
   "execution_count": 379,
   "metadata": {
    "collapsed": true
   },
   "outputs": [],
   "source": [
    "data.chunks = 100\n",
    "data.nloci = 1000\n",
    "nloci = data.nloci\n"
   ]
  },
  {
   "cell_type": "code",
   "execution_count": 380,
   "metadata": {
    "collapsed": false
   },
   "outputs": [],
   "source": [
    "data, sample, hits, sidx \n",
    "\n",
    "maxlen = data._hackersonly[\"max_fragment_length\"] + 30\n",
    "\n",
    "## init tmp save array\n",
    "smpio = os.path.join(data.dirs.consens, sample.name+\".tmp.h5\")\n",
    "if os.path.exists(smpio):\n",
    "    os.remove(smpio)\n",
    "smp5 = h5py.File(smpio, 'w')\n",
    "icatg = smp5.create_dataset('icatg', (nloci, maxlen, 4), dtype=np.uint32)\n",
    "inall = smp5.create_dataset('inall', (nloci,), dtype=np.uint8)\n"
   ]
  },
  {
   "cell_type": "code",
   "execution_count": 381,
   "metadata": {
    "collapsed": false
   },
   "outputs": [],
   "source": [
    "## get catg and nalleles from step5. the shape of catg: (nconsens, maxlen)\n",
    "old_h5 = h5py.File(sample.files.database, 'r')\n",
    "catarr = old_h5[\"catg\"][:]\n",
    "nall = old_h5[\"nalleles\"][:]\n",
    "chunksize = data.chunks"
   ]
  },
  {
   "cell_type": "code",
   "execution_count": 382,
   "metadata": {
    "collapsed": false
   },
   "outputs": [],
   "source": [
    "## local filters to fill while filling catg array\n",
    "dfilter = np.zeros(nloci, dtype=np.bool)\n",
    "ifilter = np.zeros(nloci, dtype=np.uint16)\n"
   ]
  },
  {
   "cell_type": "markdown",
   "metadata": {},
   "source": [
    "#### fillcat"
   ]
  },
  {
   "cell_type": "code",
   "execution_count": 385,
   "metadata": {
    "collapsed": false
   },
   "outputs": [],
   "source": [
    "#hits, chunksize, catarr, nall, icatg, inall, dfilter, maxlen"
   ]
  },
  {
   "cell_type": "code",
   "execution_count": 417,
   "metadata": {
    "collapsed": false
   },
   "outputs": [
    {
     "data": {
      "text/plain": [
       "dtype('int64')"
      ]
     },
     "execution_count": 417,
     "metadata": {},
     "output_type": "execute_result"
    }
   ],
   "source": [
    "#hits[:, 0]\n",
    "seeds.dtype"
   ]
  },
  {
   "cell_type": "code",
   "execution_count": 546,
   "metadata": {
    "collapsed": false
   },
   "outputs": [],
   "source": [
    "@numba.jit(nopython=True)\n",
    "def fill_cats_and_alleles(nloci, maxlen, seeds, hits, catarr, nall):\n",
    "    \"\"\" fill catg and nalleles data in locus sorted order \"\"\"\n",
    "    ## arrays to fill\n",
    "    ocatg = np.zeros((nloci, maxlen, 4), dtype=np.uint32)\n",
    "    onall = np.zeros(nloci, dtype=np.uint8)\n",
    "\n",
    "    ## fill the locus data where sample was a seed\n",
    "    for idx in xrange(seeds.shape[0]):\n",
    "        loc = seeds[idx, 0]\n",
    "        cidx = seeds[idx, 2]\n",
    "        \n",
    "        ## set locus with sample data\n",
    "        ocatg[loc, :catarr.shape[1]] = catarr[cidx]\n",
    "        onall[loc] = nall[cidx]\n",
    "        \n",
    "    ## fill the locus data where sample is a hit\n",
    "    for idx in xrange(hits.shape[0]):\n",
    "        ## get the locus number\n",
    "        loc = hits[idx, 0]\n",
    "        cidx = hits[idx, 2]\n",
    "        \n",
    "        ## set locus with sample data\n",
    "        ocatg[loc, :catarr.shape[1]] = catarr[cidx]\n",
    "        onall[loc] = nall[cidx]\n",
    "        \n",
    "    return ocatg, onall"
   ]
  },
  {
   "cell_type": "code",
   "execution_count": 547,
   "metadata": {
    "collapsed": false
   },
   "outputs": [],
   "source": [
    "#%%timeit -n 4\n",
    "ocatg, onall = fill_cats_and_alleles(nloci, maxlen, seeds, hits, catarr[:], nall[:])"
   ]
  },
  {
   "cell_type": "code",
   "execution_count": 253,
   "metadata": {
    "collapsed": false
   },
   "outputs": [
    {
     "data": {
      "text/plain": [
       "array([[  0,   1,  84],\n",
       "       [  0,   2,  96],\n",
       "       [  0,   3,  82],\n",
       "       [  0,   4,  85],\n",
       "       [  0,   5,  91],\n",
       "       [  0,   6,  94],\n",
       "       [  0,   7,  95],\n",
       "       [  0,   8,  95],\n",
       "       [  0,   9, 100],\n",
       "       [  0,  10,  95],\n",
       "       [  0,  11, 833]])"
      ]
     },
     "execution_count": 253,
     "metadata": {},
     "output_type": "execute_result"
    }
   ],
   "source": [
    "uarr[uarr[:, 0] == 0]"
   ]
  },
  {
   "cell_type": "code",
   "execution_count": 76,
   "metadata": {
    "collapsed": false
   },
   "outputs": [],
   "source": [
    "icatg[0, :catarr.shape[1]] = catarr[94]"
   ]
  },
  {
   "cell_type": "code",
   "execution_count": 48,
   "metadata": {
    "collapsed": false
   },
   "outputs": [
    {
     "ename": "NameError",
     "evalue": "name 'udic' is not defined",
     "output_type": "error",
     "traceback": [
      "\u001b[0;31m---------------------------------------------------------------------------\u001b[0m",
      "\u001b[0;31mNameError\u001b[0m                                 Traceback (most recent call last)",
      "\u001b[0;32m<ipython-input-48-bf8dc16a715d>\u001b[0m in \u001b[0;36m<module>\u001b[0;34m()\u001b[0m\n\u001b[1;32m      1\u001b[0m \u001b[0mstep\u001b[0m \u001b[0;34m=\u001b[0m \u001b[0miloc\u001b[0m \u001b[0;34m=\u001b[0m \u001b[0;36m0\u001b[0m\u001b[0;34m\u001b[0m\u001b[0m\n\u001b[0;32m----> 2\u001b[0;31m \u001b[0mikeys\u001b[0m \u001b[0;34m=\u001b[0m \u001b[0mudic\u001b[0m\u001b[0;34m.\u001b[0m\u001b[0mgroups\u001b[0m\u001b[0;34m.\u001b[0m\u001b[0mkeys\u001b[0m\u001b[0;34m(\u001b[0m\u001b[0;34m)\u001b[0m\u001b[0;34m\u001b[0m\u001b[0m\n\u001b[0m\u001b[1;32m      3\u001b[0m \u001b[0;32mfor\u001b[0m \u001b[0miloc\u001b[0m\u001b[0;34m,\u001b[0m \u001b[0mseed\u001b[0m \u001b[0;32min\u001b[0m \u001b[0menumerate\u001b[0m\u001b[0;34m(\u001b[0m\u001b[0mikeys\u001b[0m\u001b[0;34m)\u001b[0m\u001b[0;34m:\u001b[0m\u001b[0;34m\u001b[0m\u001b[0m\n\u001b[1;32m      4\u001b[0m     \u001b[0mipdf\u001b[0m \u001b[0;34m=\u001b[0m \u001b[0mudic\u001b[0m\u001b[0;34m.\u001b[0m\u001b[0mget_group\u001b[0m\u001b[0;34m(\u001b[0m\u001b[0mseed\u001b[0m\u001b[0;34m)\u001b[0m\u001b[0;34m\u001b[0m\u001b[0m\n\u001b[1;32m      5\u001b[0m     \u001b[0mask\u001b[0m \u001b[0;34m=\u001b[0m \u001b[0mipdf\u001b[0m\u001b[0;34m.\u001b[0m\u001b[0mwhere\u001b[0m\u001b[0;34m(\u001b[0m\u001b[0mipdf\u001b[0m\u001b[0;34m[\u001b[0m\u001b[0;36m3\u001b[0m\u001b[0;34m]\u001b[0m \u001b[0;34m==\u001b[0m \u001b[0mname\u001b[0m\u001b[0;34m)\u001b[0m\u001b[0;34m.\u001b[0m\u001b[0mdropna\u001b[0m\u001b[0;34m(\u001b[0m\u001b[0;34m)\u001b[0m\u001b[0;34m\u001b[0m\u001b[0m\n",
      "\u001b[0;31mNameError\u001b[0m: name 'udic' is not defined"
     ]
    }
   ],
   "source": [
    "step = iloc = 0\n",
    "ikeys = udic.groups.keys()\n",
    "for iloc, seed in enumerate(ikeys):\n",
    "    ipdf = udic.get_group(seed)\n",
    "    ask = ipdf.where(ipdf[3] == name).dropna()"
   ]
  },
  {
   "cell_type": "code",
   "execution_count": null,
   "metadata": {
    "collapsed": true
   },
   "outputs": [],
   "source": []
  },
  {
   "cell_type": "markdown",
   "metadata": {},
   "source": [
    "### MUlti-muscle-align"
   ]
  },
  {
   "cell_type": "code",
   "execution_count": 108,
   "metadata": {
    "collapsed": false
   },
   "outputs": [
    {
     "name": "stdout",
     "output_type": "stream",
     "text": [
      "100\n"
     ]
    }
   ],
   "source": [
    "data.nloci = 1000\n",
    "## choose chunk optim size\n",
    "chunks = 100\n",
    "if data.nloci < 100:\n",
    "    chunks = data.nloci\n",
    "if data.nloci > 10000:\n",
    "    chunks = 500\n",
    "if data.nloci > 50000:\n",
    "    chunks = 1000\n",
    "if data.nloci > 200000:\n",
    "    chunks = 2000\n",
    "## Number of elements in hdf5 chunk may not exceed 4GB\n",
    "## This is probably not actually optimal, to have such\n",
    "## enormous chunk sizes, could probably explore efficiency\n",
    "## of smaller chunk sizes on very very large datasets\n",
    "chunklen = chunks * len(samples) * maxlen * 4\n",
    "if chunklen > 4000000000:\n",
    "    chunks = int(round(4000000000/(len(samples) * maxlen * 4)))\n",
    "\n",
    "data.chunks = chunks\n",
    "\n",
    "print data.chunks"
   ]
  },
  {
   "cell_type": "code",
   "execution_count": 135,
   "metadata": {
    "collapsed": false
   },
   "outputs": [
    {
     "name": "stdout",
     "output_type": "stream",
     "text": [
      "1 loop, best of 3: 6.12 s per loop\n"
     ]
    }
   ],
   "source": [
    "%%timeit -n 1\n",
    "updf.loc[:, 3] = np.zeros(updf.shape[0], dtype=np.int64)\n",
    "idx = -1\n",
    "lastloc = None\n",
    "for ldx in xrange(updf.shape[0]):\n",
    "    tloc = updf.loc[ldx, 1]\n",
    "    if tloc != lastloc:\n",
    "        idx += 1\n",
    "    updf.loc[ldx, 3] = idx\n",
    "    lastloc = tloc"
   ]
  },
  {
   "cell_type": "code",
   "execution_count": 139,
   "metadata": {
    "collapsed": false
   },
   "outputs": [
    {
     "name": "stdout",
     "output_type": "stream",
     "text": [
      "1 loop, best of 3: 2.18 s per loop\n"
     ]
    }
   ],
   "source": [
    "%%timeit -n 1\n",
    "\n",
    "tmp = np.zeros(updf.shape[0], dtype=np.int64)\n",
    "idx = -1\n",
    "lastloc = None\n",
    "for ldx in xrange(tmp.shape[0]):\n",
    "    tloc = updf.loc[ldx, 1]\n",
    "    if tloc != lastloc:\n",
    "        idx += 1\n",
    "    tmp[ldx] = idx\n",
    "    lastloc = tloc\n",
    "    \n",
    "updf.loc[:, 3] = tmp"
   ]
  },
  {
   "cell_type": "code",
   "execution_count": 148,
   "metadata": {
    "collapsed": false
   },
   "outputs": [],
   "source": [
    "uarr = np.zeros((updf.shape[0], 3), dtype=np.int64)\n",
    "idx = -1\n",
    "lastloc = None\n",
    "for ldx in xrange(updf.shape[0]):\n",
    "    tloc = updf.loc[ldx, 1]\n",
    "    if tloc != lastloc:\n",
    "        idx += 1\n",
    "    uarr[ldx, 0] = idx\n",
    "    lastloc = tloc\n",
    "\n",
    "uarr[:, 1] = [names.index(i.rsplit(\"_\", 1)[0]) for i in updf[0]]\n",
    "## create a column with only consens index\n",
    "uarr[:, 2] = [int(i.rsplit(\"_\", 1)[1]) for i in updf[0]]\n"
   ]
  },
  {
   "cell_type": "code",
   "execution_count": 153,
   "metadata": {
    "collapsed": false
   },
   "outputs": [
    {
     "data": {
      "text/plain": [
       "array([[  0,   1,  84],\n",
       "       [  1,   1,  97],\n",
       "       [  2,   1, 125],\n",
       "       ..., \n",
       "       [997,   1,  57],\n",
       "       [998,   1, 146],\n",
       "       [999,   1,  94]])"
      ]
     },
     "execution_count": 153,
     "metadata": {},
     "output_type": "execute_result"
    }
   ],
   "source": [
    "uarr[uarr[:, 1] == 1]\n"
   ]
  },
  {
   "cell_type": "code",
   "execution_count": 129,
   "metadata": {
    "collapsed": false,
    "scrolled": true
   },
   "outputs": [
    {
     "data": {
      "text/html": [
       "<div>\n",
       "<table border=\"1\" class=\"dataframe\">\n",
       "  <thead>\n",
       "    <tr style=\"text-align: right;\">\n",
       "      <th></th>\n",
       "      <th>0</th>\n",
       "      <th>1</th>\n",
       "      <th>2</th>\n",
       "      <th>3</th>\n",
       "      <th>4</th>\n",
       "      <th>5</th>\n",
       "    </tr>\n",
       "  </thead>\n",
       "  <tbody>\n",
       "    <tr>\n",
       "      <th>0</th>\n",
       "      <td>1B_0_84</td>\n",
       "      <td>1A_0_100</td>\n",
       "      <td>+</td>\n",
       "      <td>1</td>\n",
       "      <td>84</td>\n",
       "      <td>0</td>\n",
       "    </tr>\n",
       "    <tr>\n",
       "      <th>1</th>\n",
       "      <td>1C_0_96</td>\n",
       "      <td>1A_0_100</td>\n",
       "      <td>+</td>\n",
       "      <td>2</td>\n",
       "      <td>96</td>\n",
       "      <td>0</td>\n",
       "    </tr>\n",
       "    <tr>\n",
       "      <th>2</th>\n",
       "      <td>1D_0_82</td>\n",
       "      <td>1A_0_100</td>\n",
       "      <td>+</td>\n",
       "      <td>3</td>\n",
       "      <td>82</td>\n",
       "      <td>0</td>\n",
       "    </tr>\n",
       "    <tr>\n",
       "      <th>3</th>\n",
       "      <td>2E_0_85</td>\n",
       "      <td>1A_0_100</td>\n",
       "      <td>+</td>\n",
       "      <td>4</td>\n",
       "      <td>85</td>\n",
       "      <td>0</td>\n",
       "    </tr>\n",
       "    <tr>\n",
       "      <th>4</th>\n",
       "      <td>2F_0_91</td>\n",
       "      <td>1A_0_100</td>\n",
       "      <td>+</td>\n",
       "      <td>5</td>\n",
       "      <td>91</td>\n",
       "      <td>0</td>\n",
       "    </tr>\n",
       "    <tr>\n",
       "      <th>5</th>\n",
       "      <td>2G_0_94</td>\n",
       "      <td>1A_0_100</td>\n",
       "      <td>+</td>\n",
       "      <td>6</td>\n",
       "      <td>94</td>\n",
       "      <td>0</td>\n",
       "    </tr>\n",
       "    <tr>\n",
       "      <th>6</th>\n",
       "      <td>2H_0_95</td>\n",
       "      <td>1A_0_100</td>\n",
       "      <td>+</td>\n",
       "      <td>7</td>\n",
       "      <td>95</td>\n",
       "      <td>0</td>\n",
       "    </tr>\n",
       "    <tr>\n",
       "      <th>7</th>\n",
       "      <td>3I_0_95</td>\n",
       "      <td>1A_0_100</td>\n",
       "      <td>+</td>\n",
       "      <td>8</td>\n",
       "      <td>95</td>\n",
       "      <td>0</td>\n",
       "    </tr>\n",
       "    <tr>\n",
       "      <th>8</th>\n",
       "      <td>3J_0_100</td>\n",
       "      <td>1A_0_100</td>\n",
       "      <td>+</td>\n",
       "      <td>9</td>\n",
       "      <td>100</td>\n",
       "      <td>0</td>\n",
       "    </tr>\n",
       "    <tr>\n",
       "      <th>9</th>\n",
       "      <td>3K_0_95</td>\n",
       "      <td>1A_0_100</td>\n",
       "      <td>+</td>\n",
       "      <td>10</td>\n",
       "      <td>95</td>\n",
       "      <td>0</td>\n",
       "    </tr>\n",
       "    <tr>\n",
       "      <th>10</th>\n",
       "      <td>3L_0_833</td>\n",
       "      <td>1A_0_100</td>\n",
       "      <td>+</td>\n",
       "      <td>11</td>\n",
       "      <td>833</td>\n",
       "      <td>0</td>\n",
       "    </tr>\n",
       "    <tr>\n",
       "      <th>11</th>\n",
       "      <td>1B_0_97</td>\n",
       "      <td>1A_0_103</td>\n",
       "      <td>+</td>\n",
       "      <td>1</td>\n",
       "      <td>97</td>\n",
       "      <td>1</td>\n",
       "    </tr>\n",
       "    <tr>\n",
       "      <th>12</th>\n",
       "      <td>1C_0_97</td>\n",
       "      <td>1A_0_103</td>\n",
       "      <td>+</td>\n",
       "      <td>2</td>\n",
       "      <td>97</td>\n",
       "      <td>1</td>\n",
       "    </tr>\n",
       "    <tr>\n",
       "      <th>13</th>\n",
       "      <td>1D_0_104</td>\n",
       "      <td>1A_0_103</td>\n",
       "      <td>+</td>\n",
       "      <td>3</td>\n",
       "      <td>104</td>\n",
       "      <td>1</td>\n",
       "    </tr>\n",
       "    <tr>\n",
       "      <th>14</th>\n",
       "      <td>2E_0_101</td>\n",
       "      <td>1A_0_103</td>\n",
       "      <td>+</td>\n",
       "      <td>4</td>\n",
       "      <td>101</td>\n",
       "      <td>1</td>\n",
       "    </tr>\n",
       "    <tr>\n",
       "      <th>15</th>\n",
       "      <td>2F_0_937</td>\n",
       "      <td>1A_0_103</td>\n",
       "      <td>+</td>\n",
       "      <td>5</td>\n",
       "      <td>937</td>\n",
       "      <td>1</td>\n",
       "    </tr>\n",
       "    <tr>\n",
       "      <th>16</th>\n",
       "      <td>2G_0_108</td>\n",
       "      <td>1A_0_103</td>\n",
       "      <td>+</td>\n",
       "      <td>6</td>\n",
       "      <td>108</td>\n",
       "      <td>1</td>\n",
       "    </tr>\n",
       "    <tr>\n",
       "      <th>17</th>\n",
       "      <td>2H_0_107</td>\n",
       "      <td>1A_0_103</td>\n",
       "      <td>+</td>\n",
       "      <td>7</td>\n",
       "      <td>107</td>\n",
       "      <td>1</td>\n",
       "    </tr>\n",
       "    <tr>\n",
       "      <th>18</th>\n",
       "      <td>3I_0_97</td>\n",
       "      <td>1A_0_103</td>\n",
       "      <td>+</td>\n",
       "      <td>8</td>\n",
       "      <td>97</td>\n",
       "      <td>1</td>\n",
       "    </tr>\n",
       "    <tr>\n",
       "      <th>19</th>\n",
       "      <td>3J_0_821</td>\n",
       "      <td>1A_0_103</td>\n",
       "      <td>+</td>\n",
       "      <td>9</td>\n",
       "      <td>821</td>\n",
       "      <td>1</td>\n",
       "    </tr>\n",
       "    <tr>\n",
       "      <th>20</th>\n",
       "      <td>3K_0_103</td>\n",
       "      <td>1A_0_103</td>\n",
       "      <td>+</td>\n",
       "      <td>10</td>\n",
       "      <td>103</td>\n",
       "      <td>1</td>\n",
       "    </tr>\n",
       "    <tr>\n",
       "      <th>21</th>\n",
       "      <td>3L_0_93</td>\n",
       "      <td>1A_0_103</td>\n",
       "      <td>+</td>\n",
       "      <td>11</td>\n",
       "      <td>93</td>\n",
       "      <td>1</td>\n",
       "    </tr>\n",
       "    <tr>\n",
       "      <th>22</th>\n",
       "      <td>1B_0_125</td>\n",
       "      <td>1A_0_138</td>\n",
       "      <td>+</td>\n",
       "      <td>1</td>\n",
       "      <td>125</td>\n",
       "      <td>2</td>\n",
       "    </tr>\n",
       "    <tr>\n",
       "      <th>23</th>\n",
       "      <td>1C_0_787</td>\n",
       "      <td>1A_0_138</td>\n",
       "      <td>+</td>\n",
       "      <td>2</td>\n",
       "      <td>787</td>\n",
       "      <td>2</td>\n",
       "    </tr>\n",
       "    <tr>\n",
       "      <th>24</th>\n",
       "      <td>1D_0_117</td>\n",
       "      <td>1A_0_138</td>\n",
       "      <td>+</td>\n",
       "      <td>3</td>\n",
       "      <td>117</td>\n",
       "      <td>2</td>\n",
       "    </tr>\n",
       "    <tr>\n",
       "      <th>25</th>\n",
       "      <td>2E_0_126</td>\n",
       "      <td>1A_0_138</td>\n",
       "      <td>+</td>\n",
       "      <td>4</td>\n",
       "      <td>126</td>\n",
       "      <td>2</td>\n",
       "    </tr>\n",
       "    <tr>\n",
       "      <th>26</th>\n",
       "      <td>2F_0_131</td>\n",
       "      <td>1A_0_138</td>\n",
       "      <td>+</td>\n",
       "      <td>5</td>\n",
       "      <td>131</td>\n",
       "      <td>2</td>\n",
       "    </tr>\n",
       "    <tr>\n",
       "      <th>27</th>\n",
       "      <td>2G_0_915</td>\n",
       "      <td>1A_0_138</td>\n",
       "      <td>+</td>\n",
       "      <td>6</td>\n",
       "      <td>915</td>\n",
       "      <td>2</td>\n",
       "    </tr>\n",
       "    <tr>\n",
       "      <th>28</th>\n",
       "      <td>2H_0_887</td>\n",
       "      <td>1A_0_138</td>\n",
       "      <td>+</td>\n",
       "      <td>7</td>\n",
       "      <td>887</td>\n",
       "      <td>2</td>\n",
       "    </tr>\n",
       "    <tr>\n",
       "      <th>29</th>\n",
       "      <td>3I_0_135</td>\n",
       "      <td>1A_0_138</td>\n",
       "      <td>+</td>\n",
       "      <td>8</td>\n",
       "      <td>135</td>\n",
       "      <td>2</td>\n",
       "    </tr>\n",
       "    <tr>\n",
       "      <th>...</th>\n",
       "      <td>...</td>\n",
       "      <td>...</td>\n",
       "      <td>...</td>\n",
       "      <td>...</td>\n",
       "      <td>...</td>\n",
       "      <td>...</td>\n",
       "    </tr>\n",
       "    <tr>\n",
       "      <th>10970</th>\n",
       "      <td>1D_0_53</td>\n",
       "      <td>3L_0_966</td>\n",
       "      <td>+</td>\n",
       "      <td>3</td>\n",
       "      <td>53</td>\n",
       "      <td>997</td>\n",
       "    </tr>\n",
       "    <tr>\n",
       "      <th>10971</th>\n",
       "      <td>2E_0_54</td>\n",
       "      <td>3L_0_966</td>\n",
       "      <td>+</td>\n",
       "      <td>4</td>\n",
       "      <td>54</td>\n",
       "      <td>997</td>\n",
       "    </tr>\n",
       "    <tr>\n",
       "      <th>10972</th>\n",
       "      <td>2F_0_64</td>\n",
       "      <td>3L_0_966</td>\n",
       "      <td>+</td>\n",
       "      <td>5</td>\n",
       "      <td>64</td>\n",
       "      <td>997</td>\n",
       "    </tr>\n",
       "    <tr>\n",
       "      <th>10973</th>\n",
       "      <td>2G_0_963</td>\n",
       "      <td>3L_0_966</td>\n",
       "      <td>+</td>\n",
       "      <td>6</td>\n",
       "      <td>963</td>\n",
       "      <td>997</td>\n",
       "    </tr>\n",
       "    <tr>\n",
       "      <th>10974</th>\n",
       "      <td>2H_0_804</td>\n",
       "      <td>3L_0_966</td>\n",
       "      <td>+</td>\n",
       "      <td>7</td>\n",
       "      <td>804</td>\n",
       "      <td>997</td>\n",
       "    </tr>\n",
       "    <tr>\n",
       "      <th>10975</th>\n",
       "      <td>3I_0_63</td>\n",
       "      <td>3L_0_966</td>\n",
       "      <td>+</td>\n",
       "      <td>8</td>\n",
       "      <td>63</td>\n",
       "      <td>997</td>\n",
       "    </tr>\n",
       "    <tr>\n",
       "      <th>10976</th>\n",
       "      <td>3J_0_66</td>\n",
       "      <td>3L_0_966</td>\n",
       "      <td>+</td>\n",
       "      <td>9</td>\n",
       "      <td>66</td>\n",
       "      <td>997</td>\n",
       "    </tr>\n",
       "    <tr>\n",
       "      <th>10977</th>\n",
       "      <td>3K_0_899</td>\n",
       "      <td>3L_0_966</td>\n",
       "      <td>+</td>\n",
       "      <td>10</td>\n",
       "      <td>899</td>\n",
       "      <td>997</td>\n",
       "    </tr>\n",
       "    <tr>\n",
       "      <th>10978</th>\n",
       "      <td>1A_0_163</td>\n",
       "      <td>3L_0_968</td>\n",
       "      <td>+</td>\n",
       "      <td>0</td>\n",
       "      <td>163</td>\n",
       "      <td>998</td>\n",
       "    </tr>\n",
       "    <tr>\n",
       "      <th>10979</th>\n",
       "      <td>1B_0_146</td>\n",
       "      <td>3L_0_968</td>\n",
       "      <td>+</td>\n",
       "      <td>1</td>\n",
       "      <td>146</td>\n",
       "      <td>998</td>\n",
       "    </tr>\n",
       "    <tr>\n",
       "      <th>10980</th>\n",
       "      <td>1C_0_158</td>\n",
       "      <td>3L_0_968</td>\n",
       "      <td>+</td>\n",
       "      <td>2</td>\n",
       "      <td>158</td>\n",
       "      <td>998</td>\n",
       "    </tr>\n",
       "    <tr>\n",
       "      <th>10981</th>\n",
       "      <td>1D_0_141</td>\n",
       "      <td>3L_0_968</td>\n",
       "      <td>+</td>\n",
       "      <td>3</td>\n",
       "      <td>141</td>\n",
       "      <td>998</td>\n",
       "    </tr>\n",
       "    <tr>\n",
       "      <th>10982</th>\n",
       "      <td>2E_0_150</td>\n",
       "      <td>3L_0_968</td>\n",
       "      <td>+</td>\n",
       "      <td>4</td>\n",
       "      <td>150</td>\n",
       "      <td>998</td>\n",
       "    </tr>\n",
       "    <tr>\n",
       "      <th>10983</th>\n",
       "      <td>2F_0_939</td>\n",
       "      <td>3L_0_968</td>\n",
       "      <td>+</td>\n",
       "      <td>5</td>\n",
       "      <td>939</td>\n",
       "      <td>998</td>\n",
       "    </tr>\n",
       "    <tr>\n",
       "      <th>10984</th>\n",
       "      <td>2G_0_158</td>\n",
       "      <td>3L_0_968</td>\n",
       "      <td>+</td>\n",
       "      <td>6</td>\n",
       "      <td>158</td>\n",
       "      <td>998</td>\n",
       "    </tr>\n",
       "    <tr>\n",
       "      <th>10985</th>\n",
       "      <td>2H_0_153</td>\n",
       "      <td>3L_0_968</td>\n",
       "      <td>+</td>\n",
       "      <td>7</td>\n",
       "      <td>153</td>\n",
       "      <td>998</td>\n",
       "    </tr>\n",
       "    <tr>\n",
       "      <th>10986</th>\n",
       "      <td>3I_0_162</td>\n",
       "      <td>3L_0_968</td>\n",
       "      <td>+</td>\n",
       "      <td>8</td>\n",
       "      <td>162</td>\n",
       "      <td>998</td>\n",
       "    </tr>\n",
       "    <tr>\n",
       "      <th>10987</th>\n",
       "      <td>3J_0_165</td>\n",
       "      <td>3L_0_968</td>\n",
       "      <td>+</td>\n",
       "      <td>9</td>\n",
       "      <td>165</td>\n",
       "      <td>998</td>\n",
       "    </tr>\n",
       "    <tr>\n",
       "      <th>10988</th>\n",
       "      <td>3K_0_161</td>\n",
       "      <td>3L_0_968</td>\n",
       "      <td>+</td>\n",
       "      <td>10</td>\n",
       "      <td>161</td>\n",
       "      <td>998</td>\n",
       "    </tr>\n",
       "    <tr>\n",
       "      <th>10989</th>\n",
       "      <td>1A_0_108</td>\n",
       "      <td>3L_0_97</td>\n",
       "      <td>+</td>\n",
       "      <td>0</td>\n",
       "      <td>108</td>\n",
       "      <td>999</td>\n",
       "    </tr>\n",
       "    <tr>\n",
       "      <th>10990</th>\n",
       "      <td>1B_0_94</td>\n",
       "      <td>3L_0_97</td>\n",
       "      <td>+</td>\n",
       "      <td>1</td>\n",
       "      <td>94</td>\n",
       "      <td>999</td>\n",
       "    </tr>\n",
       "    <tr>\n",
       "      <th>10991</th>\n",
       "      <td>1C_0_859</td>\n",
       "      <td>3L_0_97</td>\n",
       "      <td>+</td>\n",
       "      <td>2</td>\n",
       "      <td>859</td>\n",
       "      <td>999</td>\n",
       "    </tr>\n",
       "    <tr>\n",
       "      <th>10992</th>\n",
       "      <td>1D_0_92</td>\n",
       "      <td>3L_0_97</td>\n",
       "      <td>+</td>\n",
       "      <td>3</td>\n",
       "      <td>92</td>\n",
       "      <td>999</td>\n",
       "    </tr>\n",
       "    <tr>\n",
       "      <th>10993</th>\n",
       "      <td>2E_0_93</td>\n",
       "      <td>3L_0_97</td>\n",
       "      <td>+</td>\n",
       "      <td>4</td>\n",
       "      <td>93</td>\n",
       "      <td>999</td>\n",
       "    </tr>\n",
       "    <tr>\n",
       "      <th>10994</th>\n",
       "      <td>2F_0_100</td>\n",
       "      <td>3L_0_97</td>\n",
       "      <td>+</td>\n",
       "      <td>5</td>\n",
       "      <td>100</td>\n",
       "      <td>999</td>\n",
       "    </tr>\n",
       "    <tr>\n",
       "      <th>10995</th>\n",
       "      <td>2G_0_979</td>\n",
       "      <td>3L_0_97</td>\n",
       "      <td>+</td>\n",
       "      <td>6</td>\n",
       "      <td>979</td>\n",
       "      <td>999</td>\n",
       "    </tr>\n",
       "    <tr>\n",
       "      <th>10996</th>\n",
       "      <td>2H_0_866</td>\n",
       "      <td>3L_0_97</td>\n",
       "      <td>+</td>\n",
       "      <td>7</td>\n",
       "      <td>866</td>\n",
       "      <td>999</td>\n",
       "    </tr>\n",
       "    <tr>\n",
       "      <th>10997</th>\n",
       "      <td>3I_0_966</td>\n",
       "      <td>3L_0_97</td>\n",
       "      <td>+</td>\n",
       "      <td>8</td>\n",
       "      <td>966</td>\n",
       "      <td>999</td>\n",
       "    </tr>\n",
       "    <tr>\n",
       "      <th>10998</th>\n",
       "      <td>3J_0_109</td>\n",
       "      <td>3L_0_97</td>\n",
       "      <td>+</td>\n",
       "      <td>9</td>\n",
       "      <td>109</td>\n",
       "      <td>999</td>\n",
       "    </tr>\n",
       "    <tr>\n",
       "      <th>10999</th>\n",
       "      <td>3K_0_104</td>\n",
       "      <td>3L_0_97</td>\n",
       "      <td>+</td>\n",
       "      <td>10</td>\n",
       "      <td>104</td>\n",
       "      <td>999</td>\n",
       "    </tr>\n",
       "  </tbody>\n",
       "</table>\n",
       "<p>11000 rows × 6 columns</p>\n",
       "</div>"
      ],
      "text/plain": [
       "              0         1  2   3    4    5\n",
       "0       1B_0_84  1A_0_100  +   1   84    0\n",
       "1       1C_0_96  1A_0_100  +   2   96    0\n",
       "2       1D_0_82  1A_0_100  +   3   82    0\n",
       "3       2E_0_85  1A_0_100  +   4   85    0\n",
       "4       2F_0_91  1A_0_100  +   5   91    0\n",
       "5       2G_0_94  1A_0_100  +   6   94    0\n",
       "6       2H_0_95  1A_0_100  +   7   95    0\n",
       "7       3I_0_95  1A_0_100  +   8   95    0\n",
       "8      3J_0_100  1A_0_100  +   9  100    0\n",
       "9       3K_0_95  1A_0_100  +  10   95    0\n",
       "10     3L_0_833  1A_0_100  +  11  833    0\n",
       "11      1B_0_97  1A_0_103  +   1   97    1\n",
       "12      1C_0_97  1A_0_103  +   2   97    1\n",
       "13     1D_0_104  1A_0_103  +   3  104    1\n",
       "14     2E_0_101  1A_0_103  +   4  101    1\n",
       "15     2F_0_937  1A_0_103  +   5  937    1\n",
       "16     2G_0_108  1A_0_103  +   6  108    1\n",
       "17     2H_0_107  1A_0_103  +   7  107    1\n",
       "18      3I_0_97  1A_0_103  +   8   97    1\n",
       "19     3J_0_821  1A_0_103  +   9  821    1\n",
       "20     3K_0_103  1A_0_103  +  10  103    1\n",
       "21      3L_0_93  1A_0_103  +  11   93    1\n",
       "22     1B_0_125  1A_0_138  +   1  125    2\n",
       "23     1C_0_787  1A_0_138  +   2  787    2\n",
       "24     1D_0_117  1A_0_138  +   3  117    2\n",
       "25     2E_0_126  1A_0_138  +   4  126    2\n",
       "26     2F_0_131  1A_0_138  +   5  131    2\n",
       "27     2G_0_915  1A_0_138  +   6  915    2\n",
       "28     2H_0_887  1A_0_138  +   7  887    2\n",
       "29     3I_0_135  1A_0_138  +   8  135    2\n",
       "...         ...       ... ..  ..  ...  ...\n",
       "10970   1D_0_53  3L_0_966  +   3   53  997\n",
       "10971   2E_0_54  3L_0_966  +   4   54  997\n",
       "10972   2F_0_64  3L_0_966  +   5   64  997\n",
       "10973  2G_0_963  3L_0_966  +   6  963  997\n",
       "10974  2H_0_804  3L_0_966  +   7  804  997\n",
       "10975   3I_0_63  3L_0_966  +   8   63  997\n",
       "10976   3J_0_66  3L_0_966  +   9   66  997\n",
       "10977  3K_0_899  3L_0_966  +  10  899  997\n",
       "10978  1A_0_163  3L_0_968  +   0  163  998\n",
       "10979  1B_0_146  3L_0_968  +   1  146  998\n",
       "10980  1C_0_158  3L_0_968  +   2  158  998\n",
       "10981  1D_0_141  3L_0_968  +   3  141  998\n",
       "10982  2E_0_150  3L_0_968  +   4  150  998\n",
       "10983  2F_0_939  3L_0_968  +   5  939  998\n",
       "10984  2G_0_158  3L_0_968  +   6  158  998\n",
       "10985  2H_0_153  3L_0_968  +   7  153  998\n",
       "10986  3I_0_162  3L_0_968  +   8  162  998\n",
       "10987  3J_0_165  3L_0_968  +   9  165  998\n",
       "10988  3K_0_161  3L_0_968  +  10  161  998\n",
       "10989  1A_0_108   3L_0_97  +   0  108  999\n",
       "10990   1B_0_94   3L_0_97  +   1   94  999\n",
       "10991  1C_0_859   3L_0_97  +   2  859  999\n",
       "10992   1D_0_92   3L_0_97  +   3   92  999\n",
       "10993   2E_0_93   3L_0_97  +   4   93  999\n",
       "10994  2F_0_100   3L_0_97  +   5  100  999\n",
       "10995  2G_0_979   3L_0_97  +   6  979  999\n",
       "10996  2H_0_866   3L_0_97  +   7  866  999\n",
       "10997  3I_0_966   3L_0_97  +   8  966  999\n",
       "10998  3J_0_109   3L_0_97  +   9  109  999\n",
       "10999  3K_0_104   3L_0_97  +  10  104  999\n",
       "\n",
       "[11000 rows x 6 columns]"
      ]
     },
     "execution_count": 129,
     "metadata": {},
     "output_type": "execute_result"
    }
   ],
   "source": [
    "uhandle = os.path.join(data.dirs.consens, data.name+\".utemp.sort\")    \n",
    "updf = pd.read_table(uhandle, header=None)\n",
    "names = sorted(data.samples.keys())\n",
    "## add data.samples index \n",
    "updf.loc[:, 3] = [names.index(i.rsplit(\"_\", 1)[0]) for i in updf[0]]\n",
    "## create a column with only consens index\n",
    "updf.loc[:, 4] = [i.rsplit(\"_\", 1)[1] for i in updf[0]]\n",
    "locidx = []\n",
    "ldx = -1\n",
    "lastloc = None\n",
    "for loc in updf.loc[:, 1]:\n",
    "    if loc != lastloc:\n",
    "        ldx += 1\n",
    "    locidx.append(ldx)\n",
    "    lastloc = loc\n",
    "    \n",
    "updf.loc[:, 5] = locidx\n",
    "\n",
    "udic = updf.groupby(by=1, sort=True)\n",
    "## get number of clusters\n",
    "nloci = sum(1 for _ in udic.groups.iterkeys())\n",
    "updf"
   ]
  },
  {
   "cell_type": "code",
   "execution_count": 110,
   "metadata": {
    "collapsed": false
   },
   "outputs": [],
   "source": [
    "maxlen = data._hackersonly[\"max_fragment_length\"] + 30\n",
    "smpio = os.path.join(data.dirs.consens, sample.name+\".tmp.h5\")\n",
    "if os.path.exists(smpio):\n",
    "    os.remove(smpio)\n",
    "smp5 = h5py.File(smpio, 'w')\n",
    "icatg = smp5.create_dataset('icatg', (nloci, maxlen, 4), dtype=np.uint32)\n",
    "inall = smp5.create_dataset('inall', (nloci,), dtype=np.uint8)\n"
   ]
  },
  {
   "cell_type": "code",
   "execution_count": 111,
   "metadata": {
    "collapsed": false
   },
   "outputs": [],
   "source": [
    "## get catg and nalleles from step5. the shape of catg: (nconsens, maxlen)\n",
    "old_h5 = h5py.File(sample.files.database, 'r')\n",
    "catarr = old_h5[\"catg\"][:]\n",
    "nall = old_h5[\"nalleles\"][:]\n",
    "chunksize = data.chunks"
   ]
  },
  {
   "cell_type": "code",
   "execution_count": 112,
   "metadata": {
    "collapsed": true
   },
   "outputs": [],
   "source": [
    "## local filters to fill while filling catg array\n",
    "dfilter = np.zeros(nloci, dtype=np.bool)\n",
    "ifilter = np.zeros(nloci, dtype=np.uint16)\n",
    "ikeys = udic.groups.keys()"
   ]
  },
  {
   "cell_type": "code",
   "execution_count": 114,
   "metadata": {
    "collapsed": false
   },
   "outputs": [],
   "source": [
    "#%%timeit -n 1\n",
    "\n",
    "dfilter = ip.assemble.cluster_across.fillcats(sample.name, udic, chunksize, \n",
    "                   catarr, nall, icatg, inall, dfilter, maxlen)\n"
   ]
  },
  {
   "cell_type": "code",
   "execution_count": null,
   "metadata": {
    "collapsed": true
   },
   "outputs": [],
   "source": [
    "io5 = h5py.File(\"/home/deren/Documents/ipyrad/tests/cli/cli_consens/cli.indels\")\n",
    "io5['indels'].shape\n",
    "c = da.from_array(io5['indels'], chunks=(1, 100, 180))"
   ]
  },
  {
   "cell_type": "code",
   "execution_count": 84,
   "metadata": {
    "collapsed": false
   },
   "outputs": [
    {
     "name": "stdout",
     "output_type": "stream",
     "text": [
      "100 loops, best of 3: 4.56 ms per loop\n"
     ]
    }
   ],
   "source": [
    "%timeit np.sum(io5[\"indels\"][:] + io5[\"indels\"][:])"
   ]
  },
  {
   "cell_type": "code",
   "execution_count": 83,
   "metadata": {
    "collapsed": false
   },
   "outputs": [
    {
     "name": "stdout",
     "output_type": "stream",
     "text": [
      "10 loops, best of 3: 264 ms per loop\n"
     ]
    }
   ],
   "source": [
    "%timeit (c + c).sum().compute()"
   ]
  },
  {
   "cell_type": "code",
   "execution_count": 8,
   "metadata": {
    "collapsed": false
   },
   "outputs": [
    {
     "data": {
      "text/plain": [
       "'/home/deren/Documents/ipyrad/tests/cli/cli_consens/cli-tmpaligns/cli.chunk_1000'"
      ]
     },
     "execution_count": 8,
     "metadata": {},
     "output_type": "execute_result"
    }
   ],
   "source": [
    "clustbits = glob.glob(\"/home/deren/Documents/ipyrad/tests/cli/cli_consens/cli-tmpaligns/*\")\n",
    "chunk = clustbits[0]\n",
    "chunk"
   ]
  },
  {
   "cell_type": "code",
   "execution_count": 9,
   "metadata": {
    "collapsed": false
   },
   "outputs": [
    {
     "data": {
      "text/plain": [
       "['1A_0',\n",
       " '1B_0',\n",
       " '1C_0',\n",
       " '1D_0',\n",
       " '2E_0',\n",
       " '2F_0',\n",
       " '2G_0',\n",
       " '2H_0',\n",
       " '3I_0',\n",
       " '3J_0',\n",
       " '3K_0',\n",
       " '3L_0']"
      ]
     },
     "execution_count": 9,
     "metadata": {},
     "output_type": "execute_result"
    }
   ],
   "source": [
    "samples.sort(key=lambda x: x.name)\n",
    "snames = [sample.name for sample in samples]\n",
    "snames"
   ]
  },
  {
   "cell_type": "code",
   "execution_count": 10,
   "metadata": {
    "collapsed": false
   },
   "outputs": [],
   "source": [
    "infile = open(chunk, 'rb')\n",
    "clusts = infile.read().split(\"//\\n//\\n\")[:-1]\n",
    "out = []\n"
   ]
  },
  {
   "cell_type": "code",
   "execution_count": 30,
   "metadata": {
    "collapsed": false
   },
   "outputs": [],
   "source": [
    "maxlen = data._hackersonly[\"max_fragment_length\"] + 30\n",
    "indels = np.zeros((len(samples), len(clusts), maxlen), dtype=np.bool)\n"
   ]
  },
  {
   "cell_type": "code",
   "execution_count": 32,
   "metadata": {
    "collapsed": false
   },
   "outputs": [],
   "source": [
    "loc = 0\n",
    "clust = clusts[0]\n",
    "stack = []\n",
    "lines = clust.strip().split(\"\\n\")\n",
    "names = lines[::2]  \n",
    "seqs = lines[1::2]  \n",
    "\n",
    "names = [\">{};*{}\".format(j[1:], i) for i, j in enumerate(names)]\n",
    "string1 = ip.assemble.cluster_within.muscle_call(data, names, seqs)\n",
    "anames, aseqs = ip.assemble.cluster_within.parsemuscle(data, string1)\n",
    "aseqs = np.array([list(i) for i in aseqs])\n",
    "thislen = min(maxlen, aseqs.shape[1])\n",
    "\n",
    "for idx in xrange(aseqs.shape[0]):\n",
    "    newn = anames[idx].rsplit(';', 1)[0]\n",
    "    stack.append(\"{}\\n{}\".format(newn, aseqs[idx].tostring()))\n",
    "    sidx = snames.index(anames[idx].rsplit(\"_\", 1)[0])\n",
    "    indels[sidx, loc, :thislen] = aseqs[idx] == \"-\"\n"
   ]
  },
  {
   "cell_type": "code",
   "execution_count": 36,
   "metadata": {
    "collapsed": false
   },
   "outputs": [
    {
     "name": "stdout",
     "output_type": "stream",
     "text": [
      "3K_0_776\n",
      "TGCAGCGCACAGGAGGCTCGGTCTTAAGCAGACCCAAGCCTGCAAGAAATTATAGCTCCGACGGGTCACGTGCCTAGGTACTACCAAAATCGGC\n",
      "1A_0_780\n",
      "TGCAGCGCACAGGAGGCTCGGTCTTAAGCAGACCCAAGCCTGCAAGAAATTATAGCTCCGACGGGTCACGCGCCTAGGTACTACCAAAATCGGC\n",
      "1B_0_757\n",
      "TGCAGCGCACAGGAGGCTCGGTCTTAAGCAGACCCAAGCCTGCAAGAAATTATAGCTCCGACGGGTCACGCGCCTAGGTACTACCAAAATCGGC\n",
      "1C_0_762\n",
      "TGCAGCGCACAGGAGGCTCGGTCTTAAGCAGACCCAAGCCTGCAAGAAATTATAGCTCCGACGGGTCACGCGCCTAGGTACTACCAAAATCGGC\n",
      "1D_0_743\n",
      "TGCAGCGCACAGGAGGCTCGGTCTTAAGCAGACCCAAGCCTGCAACAAATTATAGCTCCGACGGGTCACGCGCCTAGGTACTACCAAAATCGGC\n",
      "2E_0_753\n",
      "TGCAGCGCACAGGAGGCTCGGTCTTAAGCAGACCCAAGCCTGCAAGAAATTATAGCTCCGACGGGTCACGCGCCTAGGTACTACCAAAATCGGC\n",
      "2F_0_906\n",
      "TGCAGCGCACAGGAGGCTCGGTCTTAAGCAGACCCAAGCCTGCAAGAAATTATAGCTCCGACGGGTCACGCGCCTAGGTACTACCAAAATCGGC\n",
      "2G_0_761\n",
      "TGCAGCGCACAGGAGGCTCGGTCTTAAGCAGACCCAAGCCTGCAAGAAATTATAGCTCCGACGGGTCACGCGCCTAGGTACTACCAAAATCGGC\n",
      "2H_0_881\n",
      "TGCAGCGCACAGGAGGCTCGGTCTTAAGCAGACCCAAGCCTGCAAGAAATTATAGCTCCGACGGGTCACGCGCCTAGGTACTACCAAAATCGGC\n",
      "3I_0_756\n",
      "TGCAGCGCACAGGAGGCTCGGTCTTAAGCAGACCCAAGCCTGCAAGAAATTATAGCTCCGACGGGTCACGCGCCTAGGTACTACCAAAATCGGC\n",
      "3J_0_776\n",
      "TGCAGCGCACAGGAGGCTCGGTCTTAAGCAGACCCAAGCCTGCAAGAAATTATAGCTCCGACGGGTCACGCGCCTAGGTACTACCAAAATCGGC\n",
      "3L_0_764\n",
      "TGCAGCGCACAGGAGGCTCGGTCTTAAGCAGACCCAAGCCTGCAAGAAATTATAGCTCCGACGRGTCACGCGCCTAGGTACTACCAAAATCGGC\n"
     ]
    }
   ],
   "source": [
    "print \"\\n\".join(stack)"
   ]
  },
  {
   "cell_type": "code",
   "execution_count": 41,
   "metadata": {
    "collapsed": false
   },
   "outputs": [],
   "source": [
    "ipyclient = ipp.Client()\n",
    "async = ipyclient[0].apply(time.sleep, 1)\n"
   ]
  },
  {
   "cell_type": "code",
   "execution_count": 45,
   "metadata": {
    "collapsed": false
   },
   "outputs": [],
   "source": [
    "async.error"
   ]
  },
  {
   "cell_type": "code",
   "execution_count": 70,
   "metadata": {
    "collapsed": false
   },
   "outputs": [
    {
     "data": {
      "text/plain": [
       "['/home/deren/Documents/ipyrad/tests/cli/cli_consens/cli-tmpaligns/cli.chunk_0.h5',\n",
       " '/home/deren/Documents/ipyrad/tests/cli/cli_consens/cli-tmpaligns/cli.chunk_100.h5',\n",
       " '/home/deren/Documents/ipyrad/tests/cli/cli_consens/cli-tmpaligns/cli.chunk_200.h5',\n",
       " '/home/deren/Documents/ipyrad/tests/cli/cli_consens/cli-tmpaligns/cli.chunk_300.h5',\n",
       " '/home/deren/Documents/ipyrad/tests/cli/cli_consens/cli-tmpaligns/cli.chunk_400.h5',\n",
       " '/home/deren/Documents/ipyrad/tests/cli/cli_consens/cli-tmpaligns/cli.chunk_500.h5',\n",
       " '/home/deren/Documents/ipyrad/tests/cli/cli_consens/cli-tmpaligns/cli.chunk_600.h5',\n",
       " '/home/deren/Documents/ipyrad/tests/cli/cli_consens/cli-tmpaligns/cli.chunk_700.h5',\n",
       " '/home/deren/Documents/ipyrad/tests/cli/cli_consens/cli-tmpaligns/cli.chunk_800.h5',\n",
       " '/home/deren/Documents/ipyrad/tests/cli/cli_consens/cli-tmpaligns/cli.chunk_1000.h5']"
      ]
     },
     "execution_count": 70,
     "metadata": {},
     "output_type": "execute_result"
    }
   ],
   "source": [
    "indeltups = glob.glob(\"/home/deren/Documents/ipyrad/tests/cli/cli_consens/cli-tmpaligns/*.h5\")\n",
    "indeltups.sort(key=lambda x: int(x.rsplit(\"_\", 1)[-1][:-3]))\n",
    "indeltups    \n"
   ]
  },
  {
   "cell_type": "code",
   "execution_count": 72,
   "metadata": {
    "collapsed": false
   },
   "outputs": [],
   "source": [
    "\n",
    "## get dims for full indel array\n",
    "maxlen = data._hackersonly[\"max_fragment_length\"] + 30\n",
    "#LOGGER.info(\"maxlen inside build is %s\", maxlen)\n",
    "data.nloci = 1000\n",
    "\n",
    "## INIT INDEL ARRAY\n",
    "## build an indel array for ALL loci in cat.clust.gz, \n",
    "## chunked so that individual samples can be pulled out\n",
    "chunksize = 1000\n",
    "if data.nloci < 1000:\n",
    "    chunksize = data.nloci\n",
    "ipath = os.path.join(data.dirs.consens, data.name+\".indels\")\n",
    "io5 = h5py.File(ipath, 'w')"
   ]
  },
  {
   "cell_type": "code",
   "execution_count": 73,
   "metadata": {
    "collapsed": false
   },
   "outputs": [],
   "source": [
    "iset = io5.create_dataset(\"indels\", \n",
    "                         (len(samples), data.nloci, maxlen),\n",
    "                          dtype=np.bool,\n",
    "                          chunks=(len(samples), chunksize, maxlen),\n",
    "                          compression=\"gzip\")"
   ]
  },
  {
   "cell_type": "code",
   "execution_count": 86,
   "metadata": {
    "collapsed": false
   },
   "outputs": [
    {
     "ename": "TypeError",
     "evalue": "unsupported operand type(s) for +: 'int' and 'str'",
     "output_type": "error",
     "traceback": [
      "\u001b[0;31m---------------------------------------------------------------------------\u001b[0m",
      "\u001b[0;31mTypeError\u001b[0m                                 Traceback (most recent call last)",
      "\u001b[0;32m<ipython-input-86-a92e534d567b>\u001b[0m in \u001b[0;36m<module>\u001b[0;34m()\u001b[0m\n\u001b[1;32m      6\u001b[0m     \u001b[0;32mwith\u001b[0m \u001b[0mh5py\u001b[0m\u001b[0;34m.\u001b[0m\u001b[0mFile\u001b[0m\u001b[0;34m(\u001b[0m\u001b[0mtup\u001b[0m\u001b[0;34m,\u001b[0m \u001b[0;34m'r'\u001b[0m\u001b[0;34m)\u001b[0m \u001b[0;32mas\u001b[0m \u001b[0mioinds\u001b[0m\u001b[0;34m:\u001b[0m\u001b[0;34m\u001b[0m\u001b[0m\n\u001b[1;32m      7\u001b[0m         \u001b[0;31m#print(ioinds['indels'][:])\u001b[0m\u001b[0;34m\u001b[0m\u001b[0;34m\u001b[0m\u001b[0m\n\u001b[0;32m----> 8\u001b[0;31m         \u001b[0miset\u001b[0m\u001b[0;34m[\u001b[0m\u001b[0;34m:\u001b[0m\u001b[0;34m,\u001b[0m \u001b[0mstart\u001b[0m\u001b[0;34m:\u001b[0m\u001b[0mstart\u001b[0m\u001b[0;34m+\u001b[0m\u001b[0mtup\u001b[0m\u001b[0;34m[\u001b[0m\u001b[0;36m1\u001b[0m\u001b[0;34m]\u001b[0m\u001b[0;34m,\u001b[0m \u001b[0;34m:\u001b[0m\u001b[0;34m]\u001b[0m \u001b[0;34m+=\u001b[0m \u001b[0mioinds\u001b[0m\u001b[0;34m[\u001b[0m\u001b[0;34m'indels'\u001b[0m\u001b[0;34m]\u001b[0m\u001b[0;34m[\u001b[0m\u001b[0;34m:\u001b[0m\u001b[0;34m]\u001b[0m\u001b[0;34m\u001b[0m\u001b[0m\n\u001b[0m",
      "\u001b[0;31mTypeError\u001b[0m: unsupported operand type(s) for +: 'int' and 'str'"
     ]
    }
   ],
   "source": [
    "samples.sort()\n",
    "\n",
    "for tup in indeltups:\n",
    "    #LOGGER.info('indeltups: %s, %s', tup[0], tup[1])\n",
    "    start = int(tup.rsplit(\"_\", 1)[-1][:-3])\n",
    "    with h5py.File(tup, 'r') as ioinds:\n",
    "        #print(ioinds['indels'][:])\n",
    "        iset[:, start:start+tup[1], :] += ioinds['indels'][:]"
   ]
  },
  {
   "cell_type": "code",
   "execution_count": null,
   "metadata": {
    "collapsed": true
   },
   "outputs": [],
   "source": []
  },
  {
   "cell_type": "code",
   "execution_count": 55,
   "metadata": {
    "collapsed": true
   },
   "outputs": [],
   "source": [
    "chunk = \"/home/deren/Documents/ipyrad/tests/cli/cli_consens/cli-tmpaligns/cli.chunk_100\"\n",
    "with open(chunk, 'rb') as infile:\n",
    "    clusts = infile.read().split(\"//\\n//\\n\")[:-1]"
   ]
  },
  {
   "cell_type": "code",
   "execution_count": 56,
   "metadata": {
    "collapsed": false
   },
   "outputs": [],
   "source": [
    "samples.sort(key=lambda x: x.name)\n",
    "snames = [sample.name for sample in samples]\n",
    "\n",
    "try:\n",
    "    ## data are already chunked, read in the whole thing\n",
    "    infile = open(chunk, 'rb')\n",
    "    clusts = infile.read().split(\"//\\n//\\n\")[:-1]\n",
    "    out = []\n",
    "\n",
    "    ## tmparray to store indel information \n",
    "    maxlen = data._hackersonly[\"max_fragment_length\"] + 30\n",
    "    indels = np.zeros((len(samples), len(clusts), maxlen), dtype=np.bool)\n",
    "\n",
    "    ## iterate over clusters and align\n",
    "    loc = 0\n",
    "    for loc, clust in enumerate(clusts):\n",
    "        stack = []\n",
    "        lines = clust.strip().split(\"\\n\")\n",
    "        names = lines[::2]#[i.split()[0][1:] for i in lines]\n",
    "        seqs = lines[1::2]#[i.split()[1] for i in lines]\n",
    "\n",
    "        LOGGER.info(\"seqs first %s %s\", len(seqs), seqs)\n",
    "\n",
    "        ## append counter to end of names b/c muscle doesn't retain order\n",
    "        names = [\">{};*{}\".format(j[1:], str(i)) for i, j in enumerate(names)]\n",
    "\n",
    "        ## don't bother aligning singletons\n",
    "        if len(names) <= 1:\n",
    "            if names:\n",
    "                stack = [names[0]+\"\\n\"+seqs[0]]\n",
    "        else:\n",
    "            ## split seqs before align if PE. If 'nnnn' not found (single end \n",
    "            ## or merged reads) then `except` will pass it to SE alignment. \n",
    "            paired = 1\n",
    "            try:\n",
    "                seqs1 = [i.split(\"nnnn\")[0] for i in seqs] \n",
    "                seqs2 = [i.split(\"nnnn\")[1] for i in seqs]\n",
    "            except IndexError:\n",
    "                paired = 0\n",
    "\n",
    "            if paired:\n",
    "                string1 = ip.assemble.cluster_within.muscle_call(data, names, seqs1)\n",
    "                string2 = ip.assemble.cluster_within.muscle_call(data, names, seqs2)\n",
    "                anames, aseqs1 = ip.assemble.cluster_within.parsemuscle(data, string1)\n",
    "                anames, aseqs2 = ip.assemble.cluster_within.parsemuscle(data, string2)\n",
    "\n",
    "                ## resort so they're in same order\n",
    "                aseqs = [i+\"nnnn\"+j for i, j in zip(aseqs1, aseqs2)]\n",
    "                for i in xrange(len(anames)):\n",
    "                    stack.append(anames[i].rsplit(';', 1)[0]+\"\\n\"+aseqs[i])\n",
    "                    sidx = [snames.index(anames[i].rsplit(\"_\", 1)[0])]\n",
    "                    ## store the indels and separator regions as indels\n",
    "                    locinds = np.zeros(maxlen, dtype=np.bool)\n",
    "                    for idx in range(min(maxlen, len(aseqs[i]))):\n",
    "                        if aseqs[i][idx] == \"-\":\n",
    "                            locinds[idx] = True\n",
    "                    indels[sidx, loc, :] = locinds\n",
    "\n",
    "            else:\n",
    "                string1 = ip.assemble.cluster_within.muscle_call(data, names, seqs)\n",
    "                #print names, seqs, string1\n",
    "                anames, aseqs = ip.assemble.cluster_within.parsemuscle(data, string1)\n",
    "                aseqs = np.array([list(i) for i in aseqs])\n",
    "                thislen = min(maxlen, aseqs.shape[1])\n",
    "                for i in xrange(aseqs.shape[0]):\n",
    "                    newn = anames[i].rsplit(';', 1)[0]\n",
    "                    ## save to aligned cluster\n",
    "                    stack.append(\"{}\\n{}\".format(newn, aseqs[i].tostring()))\n",
    "                    ## name index from sorted list (indels order)\n",
    "                    sidx = snames.index(anames[i].rsplit(\"_\", 1)[0])\n",
    "                    ## store the indels\n",
    "                    #locinds = np.zeros(maxlen, dtype=np.bool)\n",
    "                    indels[sidx, loc, :thislen] = aseqs[i] == \"-\"\n",
    "                    # for idx in range(thislen):\n",
    "                    #     if aseqs[i][idx] == \"-\":\n",
    "                    #         locinds[idx] = True\n",
    "                    # indels[sidx, loc, :] = locinds\n",
    "                    \n",
    "except Exception:\n",
    "    raise"
   ]
  },
  {
   "cell_type": "code",
   "execution_count": 58,
   "metadata": {
    "collapsed": false
   },
   "outputs": [
    {
     "data": {
      "text/plain": [
       "68"
      ]
     },
     "execution_count": 58,
     "metadata": {},
     "output_type": "execute_result"
    }
   ],
   "source": [
    "indels.sum()"
   ]
  },
  {
   "cell_type": "code",
   "execution_count": 7,
   "metadata": {
    "collapsed": true
   },
   "outputs": [],
   "source": [
    "## ensure sorted order\n",
    "samples.sort(key=lambda x: x.name)\n",
    "snames = [sample.name for sample in samples]\n",
    "\n",
    "out = []\n",
    "\n",
    "## tmparray to store indel information \n",
    "maxlen = data._hackersonly[\"max_fragment_length\"] + 30\n",
    "indels = np.zeros((len(samples), len(clusts), maxlen), dtype=np.bool)\n"
   ]
  },
  {
   "cell_type": "code",
   "execution_count": 8,
   "metadata": {
    "collapsed": false
   },
   "outputs": [],
   "source": [
    "## iterate over clusters and align\n",
    "loc = 0\n",
    "for loc, clust in enumerate(clusts):\n",
    "    stack = []\n",
    "    lines = clust.strip().split(\"\\n\")\n",
    "    names = lines[::2]\n",
    "    seqs = lines[1::2]\n"
   ]
  },
  {
   "cell_type": "code",
   "execution_count": 9,
   "metadata": {
    "collapsed": false
   },
   "outputs": [
    {
     "data": {
      "text/plain": [
       "['>1C_0_476;*0',\n",
       " '>1A_0_490;*1',\n",
       " '>1B_0_466;*2',\n",
       " '>1D_0_468;*3',\n",
       " '>2E_0_470;*4',\n",
       " '>2F_0_498;*5',\n",
       " '>2G_0_480;*6',\n",
       " '>2H_0_477;*7',\n",
       " '>3I_0_472;*8',\n",
       " '>3J_0_497;*9',\n",
       " '>3K_0_495;*10',\n",
       " '>3L_0_478;*11']"
      ]
     },
     "execution_count": 9,
     "metadata": {},
     "output_type": "execute_result"
    }
   ],
   "source": [
    "names = [j+\";*\"+str(i) for i, j in enumerate(names)]\n",
    "names"
   ]
  },
  {
   "cell_type": "code",
   "execution_count": 10,
   "metadata": {
    "collapsed": false
   },
   "outputs": [
    {
     "data": {
      "text/plain": [
       "('1C_0_476;*0',\n",
       " '1A_0_490;*1',\n",
       " '1B_0_466;*2',\n",
       " '1D_0_468;*3',\n",
       " '2E_0_470;*4',\n",
       " '2F_0_498;*5',\n",
       " '2G_0_480;*6',\n",
       " '2H_0_477;*7',\n",
       " '3I_0_472;*8',\n",
       " '3J_0_497;*9',\n",
       " '3K_0_495;*10',\n",
       " '3L_0_478;*11')"
      ]
     },
     "execution_count": 10,
     "metadata": {},
     "output_type": "execute_result"
    }
   ],
   "source": [
    "string1 = ip.assemble.cluster_within.muscle_call(data, names, seqs)\n",
    "anames, aseqs = ip.assemble.cluster_within.parsemuscle(data, string1)\n",
    "anames"
   ]
  },
  {
   "cell_type": "code",
   "execution_count": 11,
   "metadata": {
    "collapsed": false
   },
   "outputs": [],
   "source": [
    "for i in xrange(len(anames)):\n",
    "    stack.append(\"{}\\n{}\".format(anames[i].rsplit(';', 1)[0], aseqs[i]))\n",
    "    sidx = snames.index(anames[i].rsplit(\"_\", 1)[0])\n",
    "    ## store the indels\n",
    "    locinds = np.zeros(maxlen, dtype=np.bool)\n",
    "    for idx in range(min(maxlen, len(aseqs[i]))):\n",
    "        if aseqs[i][idx] == \"-\":\n",
    "            locinds[idx] = True\n",
    "    indels[sidx, loc, :] = locinds"
   ]
  },
  {
   "cell_type": "code",
   "execution_count": 39,
   "metadata": {
    "collapsed": false
   },
   "outputs": [
    {
     "data": {
      "text/plain": [
       "('1C_0_476;*0',\n",
       " '1A_0_490;*1',\n",
       " '1B_0_466;*2',\n",
       " '1D_0_468;*3',\n",
       " '2E_0_470;*4',\n",
       " '2F_0_498;*5',\n",
       " '2G_0_480;*6',\n",
       " '2H_0_477;*7',\n",
       " '3I_0_472;*8',\n",
       " '3J_0_497;*9',\n",
       " '3K_0_495;*10',\n",
       " '3L_0_478;*11')"
      ]
     },
     "execution_count": 39,
     "metadata": {},
     "output_type": "execute_result"
    }
   ],
   "source": [
    "anames"
   ]
  },
  {
   "cell_type": "code",
   "execution_count": 85,
   "metadata": {
    "collapsed": false
   },
   "outputs": [
    {
     "ename": "KeyboardInterrupt",
     "evalue": "",
     "output_type": "error",
     "traceback": [
      "\u001b[0;31m---------------------------------------------------------------------------\u001b[0m",
      "\u001b[0;31mKeyboardInterrupt\u001b[0m                         Traceback (most recent call last)",
      "\u001b[0;32m<ipython-input-85-620e1b925e38>\u001b[0m in \u001b[0;36m<module>\u001b[0;34m()\u001b[0m\n\u001b[0;32m----> 1\u001b[0;31m \u001b[0mget_ipython\u001b[0m\u001b[0;34m(\u001b[0m\u001b[0;34m)\u001b[0m\u001b[0;34m.\u001b[0m\u001b[0mrun_cell_magic\u001b[0m\u001b[0;34m(\u001b[0m\u001b[0;34mu'timeit'\u001b[0m\u001b[0;34m,\u001b[0m \u001b[0;34mu'-n 3'\u001b[0m\u001b[0;34m,\u001b[0m \u001b[0;34mu'for clust in clusts:\\n    proc1 = subprocess.Popen([ip.bins.muscle, \"-quiet\"],\\n                          stdin=subprocess.PIPE,\\n                          stderr=subprocess.PIPE,\\n                          stdout=subprocess.PIPE)\\n    proc1.communicate(clust)'\u001b[0m\u001b[0;34m)\u001b[0m\u001b[0;34m\u001b[0m\u001b[0m\n\u001b[0m",
      "\u001b[0;32m/home/deren/anaconda/lib/python2.7/site-packages/IPython/core/interactiveshell.pyc\u001b[0m in \u001b[0;36mrun_cell_magic\u001b[0;34m(self, magic_name, line, cell)\u001b[0m\n\u001b[1;32m   2113\u001b[0m             \u001b[0mmagic_arg_s\u001b[0m \u001b[0;34m=\u001b[0m \u001b[0mself\u001b[0m\u001b[0;34m.\u001b[0m\u001b[0mvar_expand\u001b[0m\u001b[0;34m(\u001b[0m\u001b[0mline\u001b[0m\u001b[0;34m,\u001b[0m \u001b[0mstack_depth\u001b[0m\u001b[0;34m)\u001b[0m\u001b[0;34m\u001b[0m\u001b[0m\n\u001b[1;32m   2114\u001b[0m             \u001b[0;32mwith\u001b[0m \u001b[0mself\u001b[0m\u001b[0;34m.\u001b[0m\u001b[0mbuiltin_trap\u001b[0m\u001b[0;34m:\u001b[0m\u001b[0;34m\u001b[0m\u001b[0m\n\u001b[0;32m-> 2115\u001b[0;31m                 \u001b[0mresult\u001b[0m \u001b[0;34m=\u001b[0m \u001b[0mfn\u001b[0m\u001b[0;34m(\u001b[0m\u001b[0mmagic_arg_s\u001b[0m\u001b[0;34m,\u001b[0m \u001b[0mcell\u001b[0m\u001b[0;34m)\u001b[0m\u001b[0;34m\u001b[0m\u001b[0m\n\u001b[0m\u001b[1;32m   2116\u001b[0m             \u001b[0;32mreturn\u001b[0m \u001b[0mresult\u001b[0m\u001b[0;34m\u001b[0m\u001b[0m\n\u001b[1;32m   2117\u001b[0m \u001b[0;34m\u001b[0m\u001b[0m\n",
      "\u001b[0;32m<decorator-gen-58>\u001b[0m in \u001b[0;36mtimeit\u001b[0;34m(self, line, cell)\u001b[0m\n",
      "\u001b[0;32m/home/deren/anaconda/lib/python2.7/site-packages/IPython/core/magic.pyc\u001b[0m in \u001b[0;36m<lambda>\u001b[0;34m(f, *a, **k)\u001b[0m\n\u001b[1;32m    186\u001b[0m     \u001b[0;31m# but it's overkill for just that one bit of state.\u001b[0m\u001b[0;34m\u001b[0m\u001b[0;34m\u001b[0m\u001b[0m\n\u001b[1;32m    187\u001b[0m     \u001b[0;32mdef\u001b[0m \u001b[0mmagic_deco\u001b[0m\u001b[0;34m(\u001b[0m\u001b[0marg\u001b[0m\u001b[0;34m)\u001b[0m\u001b[0;34m:\u001b[0m\u001b[0;34m\u001b[0m\u001b[0m\n\u001b[0;32m--> 188\u001b[0;31m         \u001b[0mcall\u001b[0m \u001b[0;34m=\u001b[0m \u001b[0;32mlambda\u001b[0m \u001b[0mf\u001b[0m\u001b[0;34m,\u001b[0m \u001b[0;34m*\u001b[0m\u001b[0ma\u001b[0m\u001b[0;34m,\u001b[0m \u001b[0;34m**\u001b[0m\u001b[0mk\u001b[0m\u001b[0;34m:\u001b[0m \u001b[0mf\u001b[0m\u001b[0;34m(\u001b[0m\u001b[0;34m*\u001b[0m\u001b[0ma\u001b[0m\u001b[0;34m,\u001b[0m \u001b[0;34m**\u001b[0m\u001b[0mk\u001b[0m\u001b[0;34m)\u001b[0m\u001b[0;34m\u001b[0m\u001b[0m\n\u001b[0m\u001b[1;32m    189\u001b[0m \u001b[0;34m\u001b[0m\u001b[0m\n\u001b[1;32m    190\u001b[0m         \u001b[0;32mif\u001b[0m \u001b[0mcallable\u001b[0m\u001b[0;34m(\u001b[0m\u001b[0marg\u001b[0m\u001b[0;34m)\u001b[0m\u001b[0;34m:\u001b[0m\u001b[0;34m\u001b[0m\u001b[0m\n",
      "\u001b[0;32m/home/deren/anaconda/lib/python2.7/site-packages/IPython/core/magics/execution.pyc\u001b[0m in \u001b[0;36mtimeit\u001b[0;34m(self, line, cell)\u001b[0m\n\u001b[1;32m   1047\u001b[0m                     \u001b[0;32mbreak\u001b[0m\u001b[0;34m\u001b[0m\u001b[0m\n\u001b[1;32m   1048\u001b[0m                 \u001b[0mnumber\u001b[0m \u001b[0;34m*=\u001b[0m \u001b[0;36m10\u001b[0m\u001b[0;34m\u001b[0m\u001b[0m\n\u001b[0;32m-> 1049\u001b[0;31m         \u001b[0mall_runs\u001b[0m \u001b[0;34m=\u001b[0m \u001b[0mtimer\u001b[0m\u001b[0;34m.\u001b[0m\u001b[0mrepeat\u001b[0m\u001b[0;34m(\u001b[0m\u001b[0mrepeat\u001b[0m\u001b[0;34m,\u001b[0m \u001b[0mnumber\u001b[0m\u001b[0;34m)\u001b[0m\u001b[0;34m\u001b[0m\u001b[0m\n\u001b[0m\u001b[1;32m   1050\u001b[0m         \u001b[0mbest\u001b[0m \u001b[0;34m=\u001b[0m \u001b[0mmin\u001b[0m\u001b[0;34m(\u001b[0m\u001b[0mall_runs\u001b[0m\u001b[0;34m)\u001b[0m \u001b[0;34m/\u001b[0m \u001b[0mnumber\u001b[0m\u001b[0;34m\u001b[0m\u001b[0m\n\u001b[1;32m   1051\u001b[0m \u001b[0;34m\u001b[0m\u001b[0m\n",
      "\u001b[0;32m/home/deren/anaconda/lib/python2.7/timeit.pyc\u001b[0m in \u001b[0;36mrepeat\u001b[0;34m(self, repeat, number)\u001b[0m\n\u001b[1;32m    228\u001b[0m         \u001b[0mr\u001b[0m \u001b[0;34m=\u001b[0m \u001b[0;34m[\u001b[0m\u001b[0;34m]\u001b[0m\u001b[0;34m\u001b[0m\u001b[0m\n\u001b[1;32m    229\u001b[0m         \u001b[0;32mfor\u001b[0m \u001b[0mi\u001b[0m \u001b[0;32min\u001b[0m \u001b[0mrange\u001b[0m\u001b[0;34m(\u001b[0m\u001b[0mrepeat\u001b[0m\u001b[0;34m)\u001b[0m\u001b[0;34m:\u001b[0m\u001b[0;34m\u001b[0m\u001b[0m\n\u001b[0;32m--> 230\u001b[0;31m             \u001b[0mt\u001b[0m \u001b[0;34m=\u001b[0m \u001b[0mself\u001b[0m\u001b[0;34m.\u001b[0m\u001b[0mtimeit\u001b[0m\u001b[0;34m(\u001b[0m\u001b[0mnumber\u001b[0m\u001b[0;34m)\u001b[0m\u001b[0;34m\u001b[0m\u001b[0m\n\u001b[0m\u001b[1;32m    231\u001b[0m             \u001b[0mr\u001b[0m\u001b[0;34m.\u001b[0m\u001b[0mappend\u001b[0m\u001b[0;34m(\u001b[0m\u001b[0mt\u001b[0m\u001b[0;34m)\u001b[0m\u001b[0;34m\u001b[0m\u001b[0m\n\u001b[1;32m    232\u001b[0m         \u001b[0;32mreturn\u001b[0m \u001b[0mr\u001b[0m\u001b[0;34m\u001b[0m\u001b[0m\n",
      "\u001b[0;32m/home/deren/anaconda/lib/python2.7/site-packages/IPython/core/magics/execution.pyc\u001b[0m in \u001b[0;36mtimeit\u001b[0;34m(self, number)\u001b[0m\n\u001b[1;32m    137\u001b[0m         \u001b[0mgc\u001b[0m\u001b[0;34m.\u001b[0m\u001b[0mdisable\u001b[0m\u001b[0;34m(\u001b[0m\u001b[0;34m)\u001b[0m\u001b[0;34m\u001b[0m\u001b[0m\n\u001b[1;32m    138\u001b[0m         \u001b[0;32mtry\u001b[0m\u001b[0;34m:\u001b[0m\u001b[0;34m\u001b[0m\u001b[0m\n\u001b[0;32m--> 139\u001b[0;31m             \u001b[0mtiming\u001b[0m \u001b[0;34m=\u001b[0m \u001b[0mself\u001b[0m\u001b[0;34m.\u001b[0m\u001b[0minner\u001b[0m\u001b[0;34m(\u001b[0m\u001b[0mit\u001b[0m\u001b[0;34m,\u001b[0m \u001b[0mself\u001b[0m\u001b[0;34m.\u001b[0m\u001b[0mtimer\u001b[0m\u001b[0;34m)\u001b[0m\u001b[0;34m\u001b[0m\u001b[0m\n\u001b[0m\u001b[1;32m    140\u001b[0m         \u001b[0;32mfinally\u001b[0m\u001b[0;34m:\u001b[0m\u001b[0;34m\u001b[0m\u001b[0m\n\u001b[1;32m    141\u001b[0m             \u001b[0;32mif\u001b[0m \u001b[0mgcold\u001b[0m\u001b[0;34m:\u001b[0m\u001b[0;34m\u001b[0m\u001b[0m\n",
      "\u001b[0;32m<magic-timeit>\u001b[0m in \u001b[0;36minner\u001b[0;34m(_it, _timer)\u001b[0m\n",
      "\u001b[0;32m/home/deren/anaconda/lib/python2.7/subprocess.pyc\u001b[0m in \u001b[0;36mcommunicate\u001b[0;34m(self, input)\u001b[0m\n\u001b[1;32m    797\u001b[0m             \u001b[0;32mreturn\u001b[0m \u001b[0;34m(\u001b[0m\u001b[0mstdout\u001b[0m\u001b[0;34m,\u001b[0m \u001b[0mstderr\u001b[0m\u001b[0;34m)\u001b[0m\u001b[0;34m\u001b[0m\u001b[0m\n\u001b[1;32m    798\u001b[0m \u001b[0;34m\u001b[0m\u001b[0m\n\u001b[0;32m--> 799\u001b[0;31m         \u001b[0;32mreturn\u001b[0m \u001b[0mself\u001b[0m\u001b[0;34m.\u001b[0m\u001b[0m_communicate\u001b[0m\u001b[0;34m(\u001b[0m\u001b[0minput\u001b[0m\u001b[0;34m)\u001b[0m\u001b[0;34m\u001b[0m\u001b[0m\n\u001b[0m\u001b[1;32m    800\u001b[0m \u001b[0;34m\u001b[0m\u001b[0m\n\u001b[1;32m    801\u001b[0m \u001b[0;34m\u001b[0m\u001b[0m\n",
      "\u001b[0;32m/home/deren/anaconda/lib/python2.7/subprocess.pyc\u001b[0m in \u001b[0;36m_communicate\u001b[0;34m(self, input)\u001b[0m\n\u001b[1;32m   1407\u001b[0m \u001b[0;34m\u001b[0m\u001b[0m\n\u001b[1;32m   1408\u001b[0m             \u001b[0;32mif\u001b[0m \u001b[0m_has_poll\u001b[0m\u001b[0;34m:\u001b[0m\u001b[0;34m\u001b[0m\u001b[0m\n\u001b[0;32m-> 1409\u001b[0;31m                 \u001b[0mstdout\u001b[0m\u001b[0;34m,\u001b[0m \u001b[0mstderr\u001b[0m \u001b[0;34m=\u001b[0m \u001b[0mself\u001b[0m\u001b[0;34m.\u001b[0m\u001b[0m_communicate_with_poll\u001b[0m\u001b[0;34m(\u001b[0m\u001b[0minput\u001b[0m\u001b[0;34m)\u001b[0m\u001b[0;34m\u001b[0m\u001b[0m\n\u001b[0m\u001b[1;32m   1410\u001b[0m             \u001b[0;32melse\u001b[0m\u001b[0;34m:\u001b[0m\u001b[0;34m\u001b[0m\u001b[0m\n\u001b[1;32m   1411\u001b[0m                 \u001b[0mstdout\u001b[0m\u001b[0;34m,\u001b[0m \u001b[0mstderr\u001b[0m \u001b[0;34m=\u001b[0m \u001b[0mself\u001b[0m\u001b[0;34m.\u001b[0m\u001b[0m_communicate_with_select\u001b[0m\u001b[0;34m(\u001b[0m\u001b[0minput\u001b[0m\u001b[0;34m)\u001b[0m\u001b[0;34m\u001b[0m\u001b[0m\n",
      "\u001b[0;32m/home/deren/anaconda/lib/python2.7/subprocess.pyc\u001b[0m in \u001b[0;36m_communicate_with_poll\u001b[0;34m(self, input)\u001b[0m\n\u001b[1;32m   1461\u001b[0m             \u001b[0;32mwhile\u001b[0m \u001b[0mfd2file\u001b[0m\u001b[0;34m:\u001b[0m\u001b[0;34m\u001b[0m\u001b[0m\n\u001b[1;32m   1462\u001b[0m                 \u001b[0;32mtry\u001b[0m\u001b[0;34m:\u001b[0m\u001b[0;34m\u001b[0m\u001b[0m\n\u001b[0;32m-> 1463\u001b[0;31m                     \u001b[0mready\u001b[0m \u001b[0;34m=\u001b[0m \u001b[0mpoller\u001b[0m\u001b[0;34m.\u001b[0m\u001b[0mpoll\u001b[0m\u001b[0;34m(\u001b[0m\u001b[0;34m)\u001b[0m\u001b[0;34m\u001b[0m\u001b[0m\n\u001b[0m\u001b[1;32m   1464\u001b[0m                 \u001b[0;32mexcept\u001b[0m \u001b[0mselect\u001b[0m\u001b[0;34m.\u001b[0m\u001b[0merror\u001b[0m\u001b[0;34m,\u001b[0m \u001b[0me\u001b[0m\u001b[0;34m:\u001b[0m\u001b[0;34m\u001b[0m\u001b[0m\n\u001b[1;32m   1465\u001b[0m                     \u001b[0;32mif\u001b[0m \u001b[0me\u001b[0m\u001b[0;34m.\u001b[0m\u001b[0margs\u001b[0m\u001b[0;34m[\u001b[0m\u001b[0;36m0\u001b[0m\u001b[0;34m]\u001b[0m \u001b[0;34m==\u001b[0m \u001b[0merrno\u001b[0m\u001b[0;34m.\u001b[0m\u001b[0mEINTR\u001b[0m\u001b[0;34m:\u001b[0m\u001b[0;34m\u001b[0m\u001b[0m\n",
      "\u001b[0;31mKeyboardInterrupt\u001b[0m: "
     ]
    }
   ],
   "source": [
    "%%timeit -n 3\n",
    "for clust in clusts:\n",
    "    proc1 = subprocess.Popen([ip.bins.muscle, \"-quiet\"],\n",
    "                          stdin=subprocess.PIPE,\n",
    "                          stderr=subprocess.PIPE,\n",
    "                          stdout=subprocess.PIPE)\n",
    "    proc1.communicate(clust)"
   ]
  },
  {
   "cell_type": "code",
   "execution_count": 49,
   "metadata": {
    "collapsed": false
   },
   "outputs": [
    {
     "name": "stdout",
     "output_type": "stream",
     "text": [
      "3 loops, best of 3: 1.74 s per loop\n"
     ]
    }
   ],
   "source": [
    "%%timeit -n 3\n",
    "\n",
    "procs = []\n",
    "for clust in clusts:\n",
    "    proc = subprocess.Popen([ip.bins.muscle, \"-quiet\"],\n",
    "                              stdin=subprocess.PIPE,\n",
    "                              stderr=subprocess.PIPE,\n",
    "                              stdout=subprocess.PIPE)\n",
    "    proc.stdin.write(clust)\n",
    "    procs.append(proc)\n",
    "    \n",
    "res = [i.communicate()[0] for i in procs]"
   ]
  },
  {
   "cell_type": "code",
   "execution_count": 35,
   "metadata": {
    "collapsed": false
   },
   "outputs": [
    {
     "data": {
      "text/plain": [
       "0"
      ]
     },
     "execution_count": 35,
     "metadata": {},
     "output_type": "execute_result"
    }
   ],
   "source": [
    "#%%timeit -n 1\n",
    "\n",
    "proc1 = subprocess.Popen([ip.bins.muscle],\n",
    "                          stdin=subprocess.PIPE,\n",
    "                          stderr=subprocess.PIPE,\n",
    "                          stdout=subprocess.PIPE, \n",
    "                          universal_newlines=True)\n",
    "\n",
    "\n",
    "fcntl.fcntl(proc1.stdout.fileno(), fcntl.F_SETFL, os.O_NONBLOCK)\n",
    "fcntl.fcntl(proc1.stderr.fileno(), fcntl.F_SETFL, os.O_NONBLOCK)\n",
    "fcntl.fcntl(proc1.stdin.fileno(), fcntl.F_SETFL, os.O_NONBLOCK)"
   ]
  },
  {
   "cell_type": "code",
   "execution_count": 42,
   "metadata": {
    "collapsed": false
   },
   "outputs": [],
   "source": [
    "proc1.stdin.write(clusts[0]+\"\\n\")"
   ]
  },
  {
   "cell_type": "code",
   "execution_count": 43,
   "metadata": {
    "collapsed": false
   },
   "outputs": [],
   "source": [
    "#proc1.stdin.write(aaa+\"\\n\")\n",
    "#proc1.stdout.flush()\n",
    "#proc1.stdin.close()\"\n",
    "proc1.stdin.flush()#read()"
   ]
  },
  {
   "cell_type": "code",
   "execution_count": 44,
   "metadata": {
    "collapsed": false
   },
   "outputs": [
    {
     "ename": "IOError",
     "evalue": "[Errno 11] Resource temporarily unavailable",
     "output_type": "error",
     "traceback": [
      "\u001b[0;31m---------------------------------------------------------------------------\u001b[0m",
      "\u001b[0;31mIOError\u001b[0m                                   Traceback (most recent call last)",
      "\u001b[0;32m<ipython-input-44-c5508381a008>\u001b[0m in \u001b[0;36m<module>\u001b[0;34m()\u001b[0m\n\u001b[0;32m----> 1\u001b[0;31m \u001b[0mproc1\u001b[0m\u001b[0;34m.\u001b[0m\u001b[0mstdout\u001b[0m\u001b[0;34m.\u001b[0m\u001b[0mread\u001b[0m\u001b[0;34m(\u001b[0m\u001b[0;34m)\u001b[0m\u001b[0;34m\u001b[0m\u001b[0m\n\u001b[0m",
      "\u001b[0;31mIOError\u001b[0m: [Errno 11] Resource temporarily unavailable"
     ]
    }
   ],
   "source": [
    "proc1.stdout.read()"
   ]
  },
  {
   "cell_type": "code",
   "execution_count": 646,
   "metadata": {
    "collapsed": false
   },
   "outputs": [
    {
     "ename": "IOError",
     "evalue": "[Errno 11] Resource temporarily unavailable",
     "output_type": "error",
     "traceback": [
      "\u001b[0;31m---------------------------------------------------------------------------\u001b[0m",
      "\u001b[0;31mIOError\u001b[0m                                   Traceback (most recent call last)",
      "\u001b[0;32m<ipython-input-646-5b5e1b5b621d>\u001b[0m in \u001b[0;36m<module>\u001b[0;34m()\u001b[0m\n\u001b[1;32m      1\u001b[0m \u001b[0mrr\u001b[0m \u001b[0;34m=\u001b[0m \u001b[0;34m\"\"\u001b[0m\u001b[0;34m\u001b[0m\u001b[0m\n\u001b[1;32m      2\u001b[0m \u001b[0;31m#try:\u001b[0m\u001b[0;34m\u001b[0m\u001b[0;34m\u001b[0m\u001b[0m\n\u001b[0;32m----> 3\u001b[0;31m \u001b[0mproc1\u001b[0m\u001b[0;34m.\u001b[0m\u001b[0mstdout\u001b[0m\u001b[0;34m.\u001b[0m\u001b[0mreadline\u001b[0m\u001b[0;34m(\u001b[0m\u001b[0;34m)\u001b[0m\u001b[0;34m\u001b[0m\u001b[0m\n\u001b[0m\u001b[1;32m      4\u001b[0m \u001b[0;31m#except IOError:\u001b[0m\u001b[0;34m\u001b[0m\u001b[0;34m\u001b[0m\u001b[0m\n\u001b[1;32m      5\u001b[0m \u001b[0;31m#    pass\u001b[0m\u001b[0;34m\u001b[0m\u001b[0;34m\u001b[0m\u001b[0m\n",
      "\u001b[0;31mIOError\u001b[0m: [Errno 11] Resource temporarily unavailable"
     ]
    }
   ],
   "source": [
    "rr = \"\"\n",
    "#try:\n",
    "proc1.stdout.readline()\n",
    "#except IOError:\n",
    "#    pass\n",
    "#    print(rr)\n",
    "    "
   ]
  },
  {
   "cell_type": "code",
   "execution_count": 631,
   "metadata": {
    "collapsed": true
   },
   "outputs": [],
   "source": [
    "proc1 = subprocess.Popen([ip.bins.muscle, \"-quiet\"],\n",
    "                      bufsize=0,\n",
    "                      stdin=subprocess.PIPE,\n",
    "                      stderr=subprocess.STDOUT,\n",
    "                      stdout=subprocess.PIPE)"
   ]
  },
  {
   "cell_type": "code",
   "execution_count": 596,
   "metadata": {
    "collapsed": false
   },
   "outputs": [
    {
     "ename": "TypeError",
     "evalue": "argument must be an int, or have a fileno() method.",
     "output_type": "error",
     "traceback": [
      "\u001b[0;31m---------------------------------------------------------------------------\u001b[0m",
      "\u001b[0;31mTypeError\u001b[0m                                 Traceback (most recent call last)",
      "\u001b[0;32m<ipython-input-596-fdaf0eafa23a>\u001b[0m in \u001b[0;36m<module>\u001b[0;34m()\u001b[0m\n\u001b[1;32m      3\u001b[0m               \u001b[0;34m[\u001b[0m\u001b[0;34m]\u001b[0m\u001b[0;34m,\u001b[0m\u001b[0;34m\u001b[0m\u001b[0m\n\u001b[1;32m      4\u001b[0m               \u001b[0;34m[\u001b[0m\u001b[0mproc1\u001b[0m\u001b[0;34m.\u001b[0m\u001b[0mstdout\u001b[0m\u001b[0;34m,\u001b[0m \u001b[0mproc1\u001b[0m\u001b[0;34m.\u001b[0m\u001b[0mstderr\u001b[0m\u001b[0;34m]\u001b[0m\u001b[0;34m,\u001b[0m\u001b[0;34m\u001b[0m\u001b[0m\n\u001b[0;32m----> 5\u001b[0;31m               SECONDS_TO_WAIT)\n\u001b[0m",
      "\u001b[0;31mTypeError\u001b[0m: argument must be an int, or have a fileno() method."
     ]
    }
   ],
   "source": [
    "SECONDS_TO_WAIT = 2\n",
    "select.select([proc1.stdout], \n",
    "              [], \n",
    "              [proc1.stdout, proc1.stderr],\n",
    "              SECONDS_TO_WAIT)"
   ]
  },
  {
   "cell_type": "code",
   "execution_count": 575,
   "metadata": {
    "collapsed": false
   },
   "outputs": [
    {
     "data": {
      "text/plain": [
       "'>1C_0_392_2\\nTGCAGTTCGRATGGAATGTTGTCTCAAGAAGCTGGTTGTCTCGTTCACCCACGAGCACTC\\nGAACCATTCCYGGATATTGCATATATGAGTGCCA\\n>2E_0_410_4\\nTGCAGTTCGAAAGGAATGTTGTCTCAAGAAGCTGGTTGTCTCGTTCACCCACCAGCACTC\\nGAACCATTCCTGGATATTGCATATATGAGTGCCA\\n>2F_0_916_5\\nTGCAGTTCGAAAGGAATGTTGTCTCAAGAAGCTGGTTGTCTCGTTCACCCACCAGCACTC\\nGAACCATTCCTGGATATTGCATATATGAGTGCCA\\n>2G_0_414_6\\nTGCAGTTCGAAAGGAATGTTGTCTCAAGAAGCTGGTTGTCTCGTTCACCCACCAGCACTC\\nGAACCATTCCTGGATATTGCATATATGAGTGCCA\\n>2H_0_391_7\\nTGCAGTTCGAATGGTATGTTGTCTCAAGAAGCTGGTTGTCTCGTTCACCCACGAGCACTC\\nGAACCATTCCTGGATATTGCATATATGAGTGCCA\\n>1B_0_388_0\\nTGCAGTTCGGATGGAATGTTGTCTCAAGAAGCTGGTTGTCTCGTTCACCCACGAGCACTC\\nGAACCATTCCTGGATATTGCATATATGAGTGCCA\\n>1A_0_416_1\\nTGCAGTTCGGATGGAATGTTGTCTCAAGAAGCTGGTTGTCTCGTTCACCCACGAGCACTC\\nGAACCATTCCTGGATATTGCATATATGAGTGCCA\\n>1D_0_397_3\\nTGCAGTTCGAATGGAATGTTGTCTCAAGAAGCTGGTTGTCTCGTTCACCCACGAGCACTC\\nGAACCATTCCTGGATATTGCATATATGAGTGCCA\\n>3I_0_771_8\\nTGCAGTTCGAATGGAATGTTGTCTCAAGAAGCTGGTTGTCTCGTTGACCCACGAGCACTC\\nGAACCATTCCTGGATATTGCATATATGAGGGCCA\\n>3J_0_423_9\\nTGCAGTTCGAATGGAATGTTGTCTCAAGAAGCTGGTTGTCTCGTTGACCCACGAGCACTC\\nGAACCATTCCTGGATATTGCATATATGAGGGCCA\\n>3K_0_409_10\\nTGCAGTTCGAATGGAATGTTGTCTCAAGAAGCTGGTTGTCTCGTTGACCCACGAGCACTC\\nGAACCATTCCTGGATATTGCATATATGAGGGCCA\\n>3L_0_405_11\\nTGCAGTTCGAATGGAATGTTGTCTCAAGAAGCTGGTTGTCTCGTTCGCCCACGAGCACTC\\nGAACCATTCCTGGATATTGCATATATGAGGGCCA\\n'"
      ]
     },
     "execution_count": 575,
     "metadata": {},
     "output_type": "execute_result"
    }
   ],
   "source": [
    "proc1.stdout.read()\n"
   ]
  },
  {
   "cell_type": "code",
   "execution_count": 302,
   "metadata": {
    "collapsed": false
   },
   "outputs": [
    {
     "data": {
      "text/plain": [
       "([], [], [])"
      ]
     },
     "execution_count": 302,
     "metadata": {},
     "output_type": "execute_result"
    }
   ],
   "source": [
    "select.select([proc1.stdout], [], [], 0)"
   ]
  },
  {
   "cell_type": "code",
   "execution_count": 324,
   "metadata": {
    "collapsed": false
   },
   "outputs": [
    {
     "ename": "KeyboardInterrupt",
     "evalue": "",
     "output_type": "error",
     "traceback": [
      "\u001b[0;31m---------------------------------------------------------------------------\u001b[0m",
      "\u001b[0;31mKeyboardInterrupt\u001b[0m                         Traceback (most recent call last)",
      "\u001b[0;32m<ipython-input-324-e3c212e17ad3>\u001b[0m in \u001b[0;36m<module>\u001b[0;34m()\u001b[0m\n\u001b[0;32m----> 1\u001b[0;31m \u001b[0mproc1\u001b[0m\u001b[0;34m.\u001b[0m\u001b[0mstdout\u001b[0m\u001b[0;34m.\u001b[0m\u001b[0mreadline\u001b[0m\u001b[0;34m(\u001b[0m\u001b[0;34m)\u001b[0m\u001b[0;34m\u001b[0m\u001b[0m\n\u001b[0m",
      "\u001b[0;31mKeyboardInterrupt\u001b[0m: "
     ]
    }
   ],
   "source": [
    "proc1.stdout.readline()"
   ]
  },
  {
   "cell_type": "code",
   "execution_count": 506,
   "metadata": {
    "collapsed": true
   },
   "outputs": [],
   "source": [
    "#%%prun\n",
    "\n",
    "chunk = \"/home/deren/Documents/ipyrad/tests/cli/cli_consens/cli-tmpaligns/cli.chunk_100\"\n",
    "\n",
    "with open(chunk, 'rb') as infile:\n",
    "    clusts = infile.read().split(\"//\\n//\\n\")[:-1]"
   ]
  },
  {
   "cell_type": "code",
   "execution_count": 246,
   "metadata": {
    "collapsed": false
   },
   "outputs": [
    {
     "name": "stdout",
     "output_type": "stream",
     "text": [
      " "
     ]
    }
   ],
   "source": [
    "## storage and a counter for discarded clusters due to poor alignment\n",
    "out = []\n",
    "highindels = 0\n",
    "\n",
    "## iterate over clusters and align\n",
    "for clust in clusts:\n",
    "    stack = []\n",
    "    lines = clust.split(\"\\n\")\n",
    "    names = lines[::2]\n",
    "    seqs = lines[1::2]\n",
    "    badalign = 0\n",
    "    \n",
    "    names = [\"{}_{}\".format(j, i) for i, j in enumerate(names)]\n",
    "    if not seqs:\n",
    "        print(string1[-2])\n",
    "    \n",
    "    inputstr = \"\\n\".join([\"{}\\n{}\".format(i, j) for i, j in zip(names, seqs)])\n",
    "    #string1 = proc1.communicate(inputstr)[0]\n",
    "    #print inputstr\n",
    "    #print clust\n",
    "    string1 = muscle_call(data, names[:200], seqs[:200])\n",
    "    #out.append(string1)\n",
    "\n",
    "#print len(stack)"
   ]
  },
  {
   "cell_type": "code",
   "execution_count": 245,
   "metadata": {
    "collapsed": false
   },
   "outputs": [
    {
     "name": "stdout",
     "output_type": "stream",
     "text": [
      " "
     ]
    }
   ],
   "source": [
    "string1 = muscle_call(data, names[:200], seqs[:200])"
   ]
  },
  {
   "cell_type": "code",
   "execution_count": 242,
   "metadata": {
    "collapsed": true
   },
   "outputs": [],
   "source": [
    "def muscle_call(data, names, seqs):\n",
    "    \"\"\" \n",
    "    Makes subprocess call to muscle. A little faster than before. \n",
    "    TODO: Need to make sure this works on super large strings and does not \n",
    "    overload the PIPE buffer.\n",
    "    \"\"\"\n",
    "\n",
    "    ## make input string\n",
    "    inputstr = \"\\n\".join([\">{}\\n{}\".format(i, j) for i, j in zip(names, seqs)])\n",
    "    args = [ip.bins.muscle, \"-quiet\"]\n",
    "\n",
    "    ## increase gap penalty if reference region is included \n",
    "    ## This could use more testing/refining!\n",
    "    if \"_REF;+0\" in names:\n",
    "        args += [\"-gapopen\", \"-1200\"]\n",
    "\n",
    "    ## make a call arg\n",
    "    proc1 = subprocess.Popen(args,\n",
    "                             stdin=subprocess.PIPE,\n",
    "                             stdout=subprocess.PIPE)\n",
    "    ## return result\n",
    "    return proc1.communicate(inputstr)[0]"
   ]
  },
  {
   "cell_type": "markdown",
   "metadata": {},
   "source": [
    "### derep"
   ]
  },
  {
   "cell_type": "code",
   "execution_count": 64,
   "metadata": {
    "collapsed": false
   },
   "outputs": [
    {
     "data": {
      "text/plain": [
       "100"
      ]
     },
     "execution_count": 64,
     "metadata": {},
     "output_type": "execute_result"
    }
   ],
   "source": [
    "usort = open(\"./pairgbstest/pairgbstest_consens/pairgbstest.utemp.sort\")\n",
    "cmd1 = [\"cut\", \"-f\", \"2\"]\n",
    "cmd2 = [\"uniq\"]\n",
    "cmd3 = [\"wc\"]\n",
    "proc1 = subprocess.Popen(cmd1, stdin=usort, stdout=subprocess.PIPE)\n",
    "proc2 = subprocess.Popen(cmd2, stdin=proc1.stdout, stdout=subprocess.PIPE)\n",
    "proc3 = subprocess.Popen(cmd3, stdin=proc2.stdout, stdout=subprocess.PIPE)\n",
    "nseeds = int(proc3.communicate()[0].split()[0])\n",
    "proc1.stdout.close()\n",
    "proc2.stdout.close()\n",
    "proc3.stdout.close()\n",
    "\n",
    "nseeds\n",
    "2000000 / 20000"
   ]
  },
  {
   "cell_type": "code",
   "execution_count": 65,
   "metadata": {
    "collapsed": false
   },
   "outputs": [
    {
     "data": {
      "text/plain": [
       "'010'"
      ]
     },
     "execution_count": 65,
     "metadata": {},
     "output_type": "execute_result"
    }
   ],
   "source": [
    "\"{}{}\".format(0, 10)"
   ]
  },
  {
   "cell_type": "code",
   "execution_count": 13,
   "metadata": {
    "collapsed": false,
    "scrolled": true
   },
   "outputs": [
    {
     "name": "stdout",
     "output_type": "stream",
     "text": [
      "('/home/deren/Documents/ipyrad/tests/pairgbstest/pairgbstest_fastqs/2G_0_R1_.fastq.gz', '/home/deren/Documents/ipyrad/tests/pairgbstest/pairgbstest_fastqs/2G_0_R2_.fastq.gz')\n"
     ]
    },
    {
     "ename": "TypeError",
     "evalue": "execv() arg 2 must contain only strings",
     "output_type": "error",
     "traceback": [
      "\u001b[0;31m---------------------------------------------------------------------------\u001b[0m",
      "\u001b[0;31mTypeError\u001b[0m                                 Traceback (most recent call last)",
      "\u001b[0;32m<ipython-input-13-8fe666582488>\u001b[0m in \u001b[0;36m<module>\u001b[0;34m()\u001b[0m\n\u001b[1;32m     19\u001b[0m \u001b[0;34m\u001b[0m\u001b[0m\n\u001b[1;32m     20\u001b[0m \u001b[0;31m## run vsearch\u001b[0m\u001b[0;34m\u001b[0m\u001b[0;34m\u001b[0m\u001b[0m\n\u001b[0;32m---> 21\u001b[0;31m \u001b[0mproc\u001b[0m \u001b[0;34m=\u001b[0m \u001b[0msubprocess\u001b[0m\u001b[0;34m.\u001b[0m\u001b[0mPopen\u001b[0m\u001b[0;34m(\u001b[0m\u001b[0mcmd\u001b[0m\u001b[0;34m)\u001b[0m\u001b[0;31m#, stderr=subprocess.STDOUT, stdout=subprocess.PIPE)\u001b[0m\u001b[0;34m\u001b[0m\u001b[0m\n\u001b[0m\u001b[1;32m     22\u001b[0m \u001b[0mmsg\u001b[0m \u001b[0;34m=\u001b[0m \u001b[0mproc\u001b[0m\u001b[0;34m.\u001b[0m\u001b[0mcommunicate\u001b[0m\u001b[0;34m(\u001b[0m\u001b[0;34m)\u001b[0m\u001b[0;34m[\u001b[0m\u001b[0;36m0\u001b[0m\u001b[0;34m]\u001b[0m\u001b[0;34m\u001b[0m\u001b[0m\n\u001b[1;32m     23\u001b[0m \u001b[0;32mprint\u001b[0m \u001b[0mmsg\u001b[0m\u001b[0;34m,\u001b[0m \u001b[0mproc\u001b[0m\u001b[0;34m.\u001b[0m\u001b[0mreturncode\u001b[0m\u001b[0;34m\u001b[0m\u001b[0m\n",
      "\u001b[0;32m/home/deren/anaconda/lib/python2.7/subprocess.pyc\u001b[0m in \u001b[0;36m__init__\u001b[0;34m(self, args, bufsize, executable, stdin, stdout, stderr, preexec_fn, close_fds, shell, cwd, env, universal_newlines, startupinfo, creationflags)\u001b[0m\n\u001b[1;32m    708\u001b[0m                                 \u001b[0mp2cread\u001b[0m\u001b[0;34m,\u001b[0m \u001b[0mp2cwrite\u001b[0m\u001b[0;34m,\u001b[0m\u001b[0;34m\u001b[0m\u001b[0m\n\u001b[1;32m    709\u001b[0m                                 \u001b[0mc2pread\u001b[0m\u001b[0;34m,\u001b[0m \u001b[0mc2pwrite\u001b[0m\u001b[0;34m,\u001b[0m\u001b[0;34m\u001b[0m\u001b[0m\n\u001b[0;32m--> 710\u001b[0;31m                                 errread, errwrite)\n\u001b[0m\u001b[1;32m    711\u001b[0m         \u001b[0;32mexcept\u001b[0m \u001b[0mException\u001b[0m\u001b[0;34m:\u001b[0m\u001b[0;34m\u001b[0m\u001b[0m\n\u001b[1;32m    712\u001b[0m             \u001b[0;31m# Preserve original exception in case os.close raises.\u001b[0m\u001b[0;34m\u001b[0m\u001b[0;34m\u001b[0m\u001b[0m\n",
      "\u001b[0;32m/home/deren/anaconda/lib/python2.7/subprocess.pyc\u001b[0m in \u001b[0;36m_execute_child\u001b[0;34m(self, args, executable, preexec_fn, close_fds, cwd, env, universal_newlines, startupinfo, creationflags, shell, to_close, p2cread, p2cwrite, c2pread, c2pwrite, errread, errwrite)\u001b[0m\n\u001b[1;32m   1333\u001b[0m                         \u001b[0;32mraise\u001b[0m\u001b[0;34m\u001b[0m\u001b[0m\n\u001b[1;32m   1334\u001b[0m                 \u001b[0mchild_exception\u001b[0m \u001b[0;34m=\u001b[0m \u001b[0mpickle\u001b[0m\u001b[0;34m.\u001b[0m\u001b[0mloads\u001b[0m\u001b[0;34m(\u001b[0m\u001b[0mdata\u001b[0m\u001b[0;34m)\u001b[0m\u001b[0;34m\u001b[0m\u001b[0m\n\u001b[0;32m-> 1335\u001b[0;31m                 \u001b[0;32mraise\u001b[0m \u001b[0mchild_exception\u001b[0m\u001b[0;34m\u001b[0m\u001b[0m\n\u001b[0m\u001b[1;32m   1336\u001b[0m \u001b[0;34m\u001b[0m\u001b[0m\n\u001b[1;32m   1337\u001b[0m \u001b[0;34m\u001b[0m\u001b[0m\n",
      "\u001b[0;31mTypeError\u001b[0m: execv() arg 2 must contain only strings"
     ]
    }
   ],
   "source": [
    "infile = sample.files.\n",
    "print infile\n",
    "outfile = os.path.join(data.dirs.edits, sample.name+\"_derep.fastq\")\n",
    "\n",
    "strand = \"plus\"\n",
    "if \"gbs\" in data.paramsdict[\"datatype\"]:\n",
    "    strand = \"both\"    \n",
    "\n",
    "## do dereplication with vsearch\n",
    "cmd = [ipyrad.bins.vsearch,\n",
    "       \"-derep_fulllength\", infile, \n",
    "       \"-strand\", strand,\n",
    "       \"-output\", outfile,\n",
    "       \"-threads\", str(1),\n",
    "       \"-fasta_width\", str(0),\n",
    "       \"-sizeout\"]\n",
    "\n",
    "#LOGGER.info(cmd)\n",
    "\n",
    "## run vsearch\n",
    "proc = subprocess.Popen(cmd)#, stderr=subprocess.STDOUT, stdout=subprocess.PIPE)\n",
    "msg = proc.communicate()[0]\n",
    "print msg, proc.returncode\n",
    "if proc.returncode:\n",
    "    raise IPyradWarningExit(msg)\n",
    "\n",
    "    #except subprocess.CalledProcessError as inst:\n",
    "#    print inst\n",
    "    #LOGGER.error(inst)\n",
    "#    raise IPyradError(inst)"
   ]
  },
  {
   "cell_type": "markdown",
   "metadata": {},
   "source": [
    "### clustern"
   ]
  },
  {
   "cell_type": "code",
   "execution_count": 6,
   "metadata": {
    "collapsed": true
   },
   "outputs": [],
   "source": [
    "data.dirs.clusts = os.path.join(\n",
    "            os.path.realpath(data.paramsdict[\"project_dir\"]),\n",
    "            data.name+\"_\"+\"clust_\"+str(data.paramsdict[\"clust_threshold\"]))\n",
    "if not os.path.exists(data.dirs.clusts):\n",
    "    os.makedirs(data.dirs.clusts)"
   ]
  },
  {
   "cell_type": "code",
   "execution_count": 7,
   "metadata": {
    "collapsed": false
   },
   "outputs": [],
   "source": [
    "## get the dereplicated reads \n",
    "if \"reference\" in data.paramsdict[\"assembly_method\"]:\n",
    "    derephandle = os.path.join(data.dirs.edits, sample.name+\"-refmap_derep.fastq\")\n",
    "else:\n",
    "    derephandle = os.path.join(data.dirs.edits, sample.name+\"_derep.fastq\")\n",
    "\n",
    "## create handles for the outfiles\n",
    "uhandle = os.path.join(data.dirs.clusts, sample.name+\".utemp\")\n",
    "temphandle = os.path.join(data.dirs.clusts, sample.name+\".htemp\")"
   ]
  },
  {
   "cell_type": "code",
   "execution_count": 8,
   "metadata": {
    "collapsed": true
   },
   "outputs": [],
   "source": [
    "if data.paramsdict[\"datatype\"] == \"gbs\":\n",
    "    reverse = \" -strand both \"\n",
    "    cov = \" -query_cov .33 \" \n",
    "    minsl = \" 0.33\"\n",
    "elif data.paramsdict[\"datatype\"] == 'pairgbs':\n",
    "    reverse = \"  -strand both \"\n",
    "    cov = \" -query_cov .75 \" \n",
    "    minsl = \" 0.75\"  \n",
    "else:  ## rad, ddrad\n",
    "    reverse = \" -leftjust \"\n",
    "    cov = \" -query_cov .90 \"\n",
    "    minsl = \" 0.5\""
   ]
  },
  {
   "cell_type": "code",
   "execution_count": 9,
   "metadata": {
    "collapsed": true
   },
   "outputs": [],
   "source": [
    "## If this value is not null (which is the default) then optionally\n",
    "## override query cov\n",
    "if data._hackersonly[\"query_cov\"]:\n",
    "    cov = \" -query_cov \"+str(data._hackersonly[\"query_cov\"])\n",
    "    assert data._hackersonly[\"query_cov\"] <= 1, \"query_cov must be <= 1.0\"\n"
   ]
  },
  {
   "cell_type": "code",
   "execution_count": 10,
   "metadata": {
    "collapsed": false
   },
   "outputs": [],
   "source": [
    "nthreads = 4\n",
    "\n",
    "## get call string\n",
    "cmd = ipyrad.bins.vsearch+\\\n",
    "    \" -cluster_smallmem \"+derephandle+\\\n",
    "    reverse+\\\n",
    "    cov+\\\n",
    "    \" -id \"+str(data.paramsdict[\"clust_threshold\"])+\\\n",
    "    \" -userout \"+uhandle+\\\n",
    "    \" -userfields query+target+id+gaps+qstrand+qcov\"+\\\n",
    "    \" -maxaccepts 1\"+\\\n",
    "    \" -maxrejects 0\"+\\\n",
    "    \" -minsl \"+str(minsl)+\\\n",
    "    \" -fulldp\"+\\\n",
    "    \" -threads \"+str(nthreads)+\\\n",
    "    \" -usersort \"+\\\n",
    "    \" -notmatched \"+temphandle+\\\n",
    "    \" -fasta_width 0\""
   ]
  },
  {
   "cell_type": "code",
   "execution_count": 11,
   "metadata": {
    "collapsed": false
   },
   "outputs": [
    {
     "data": {
      "text/plain": [
       "0"
      ]
     },
     "execution_count": 11,
     "metadata": {},
     "output_type": "execute_result"
    }
   ],
   "source": [
    "subprocess.call(cmd, shell=True,\n",
    "                     stderr=subprocess.STDOUT,\n",
    "                     stdout=subprocess.PIPE)"
   ]
  },
  {
   "cell_type": "markdown",
   "metadata": {},
   "source": [
    "### build clusters"
   ]
  },
  {
   "cell_type": "code",
   "execution_count": 12,
   "metadata": {
    "collapsed": true
   },
   "outputs": [],
   "source": [
    "derepfile = os.path.join(data.dirs.edits, sample.name+\"_derep.fastq\")\n",
    "\n",
    "## vsearch results files\n",
    "uhandle = os.path.join(data.dirs.clusts, sample.name+\".utemp\")\n",
    "hhandle = os.path.join(data.dirs.clusts, sample.name+\".htemp\")\n"
   ]
  },
  {
   "cell_type": "code",
   "execution_count": 13,
   "metadata": {
    "collapsed": true
   },
   "outputs": [],
   "source": [
    "import gzip\n",
    "import pandas as pd\n",
    "\n",
    "sample.files.clusters = os.path.join(data.dirs.clusts,\n",
    "                                     sample.name+\".clust.gz\")\n"
   ]
  },
  {
   "cell_type": "code",
   "execution_count": 14,
   "metadata": {
    "collapsed": true
   },
   "outputs": [],
   "source": [
    "usort = os.path.join(data.dirs.clusts, sample.name+\".utemp.sort\")\n",
    "\n",
    "cmd = [\"sort\", \"-k\", \"2\", uhandle, \"-o\", usort]\n",
    "proc = subprocess.Popen(cmd)\n",
    "_ = proc.communicate()[0]"
   ]
  },
  {
   "cell_type": "code",
   "execution_count": 15,
   "metadata": {
    "collapsed": false
   },
   "outputs": [
    {
     "data": {
      "text/plain": [
       "'/home/deren/Documents/ipyrad/tests/cli/cli_clust_0.85'"
      ]
     },
     "execution_count": 15,
     "metadata": {},
     "output_type": "execute_result"
    }
   ],
   "source": [
    "data.dirs.clusts"
   ]
  },
  {
   "cell_type": "code",
   "execution_count": 17,
   "metadata": {
    "collapsed": false
   },
   "outputs": [],
   "source": [
    "sample.files.clusters = os.path.join(data.dirs.clusts, sample.name+\".clust.gz\")\n",
    "clustsout = gzip.open(sample.files.clusters, 'wb')\n",
    "maxindels = 6\n",
    "\n",
    "alldereps = {}\n",
    "with open(derepfile, 'rb') as ioderep:\n",
    "    dereps = itertools.izip(*[iter(ioderep)]*2)\n",
    "    for namestr, seq in dereps:\n",
    "        nnn, sss = [i.strip() for i in namestr, seq]\n",
    "        alldereps[nnn[1:]] = sss\n",
    "\n",
    "## store observed seeds (this could count up to >million in bad data sets)\n",
    "seedsseen = set()\n",
    "\n",
    "## Iterate through the usort file grabbing matches to build clusters\n",
    "with open(usort, 'rb') as insort:\n",
    "    ## iterator, seed null, seqlist null\n",
    "    isort = iter(insort)\n",
    "    lastseed = 0\n",
    "    fseqs = []\n",
    "    seqlist = []\n",
    "    seqsize = 0\n",
    "    while 1:\n",
    "        ## grab the next line\n",
    "        try:\n",
    "            hit, seed, _, ind, ori, _ = isort.next().strip().split()\n",
    "        except StopIteration:\n",
    "            break\n",
    "\n",
    "        ## same seed, append match\n",
    "        if seed != lastseed:\n",
    "            seedsseen.add(seed)\n",
    "            ## store the last fseq, count it, and clear fseq\n",
    "            if fseqs:\n",
    "                seqlist.append(\"\\n\".join(fseqs))\n",
    "                seqsize += 1\n",
    "                fseqs = []\n",
    "\n",
    "            ## occasionally write to file\n",
    "            if not seqsize % 10000:\n",
    "                if seqlist:\n",
    "                    clustsout.write(\"\\n//\\n//\\n\".join(seqlist)+\"\\n//\\n//\\n\")\n",
    "                    ## reset list and counter\n",
    "                    seqlist = []\n",
    "\n",
    "            ## store the new seed on top of fseq\n",
    "            fseqs.append(\">{}*\\n{}\".format(seed, alldereps[seed]))\n",
    "            lastseed = seed\n",
    "\n",
    "        ## add match to the seed\n",
    "        seq = alldereps[hit]\n",
    "        ## revcomp if orientation is reversed\n",
    "        if ori == \"-\":\n",
    "            seq = revcomp(seq)\n",
    "        ## only save if not too many indels\n",
    "        if int(ind) <= maxindels:                \n",
    "            fseqs.append(\">{}{}\\n{}\".format(hit, ori, seq))\n",
    "        else:\n",
    "            LOGGER.info(\"filtered by maxindels: %s %s\", ind, seq)\n",
    "\n",
    "## write whatever is left over to the clusts file\n",
    "if fseqs:\n",
    "    seqlist.append(\"\\n\".join(fseqs))\n",
    "if seqlist:\n",
    "    clustsout.write(\"\\n//\\n//\\n\".join(seqlist)+\"\\n//\\n//\\n\")\n",
    "\n",
    "## now write the seeds that had no hits. Make dict from htemp\n",
    "with open(hhandle, 'rb') as iotemp:\n",
    "    nohits = itertools.izip(*[iter(iotemp)]*2)\n",
    "    seqlist = []\n",
    "    seqsize = 0\n",
    "    while 1:\n",
    "        try:\n",
    "            nnn, sss = [i.strip() for i in nohits.next()]\n",
    "        except StopIteration:\n",
    "            break\n",
    "\n",
    "        ## occasionally write to file\n",
    "        if not seqsize % 10000:\n",
    "            if seqlist:\n",
    "                clustsout.write(\"\\n//\\n//\\n\".join(seqlist)+\"\\n//\\n//\\n\")\n",
    "                ## reset list and counter\n",
    "                seqlist = []\n",
    "\n",
    "        ## append to list if new seed\n",
    "        if nnn[1:] not in seedsseen:\n",
    "            seqlist.append(\"{}*\\n{}\".format(nnn, sss))\n",
    "            seqsize += 1            \n",
    "\n",
    "## write whatever is left over to the clusts file\n",
    "if seqlist:\n",
    "    clustsout.write(\"\\n//\\n//\\n\".join(seqlist)+\"\\n//\\n//\\n\")\n",
    "\n",
    "## close the file handle\n",
    "clustsout.close()\n",
    "del alldereps"
   ]
  },
  {
   "cell_type": "code",
   "execution_count": 33,
   "metadata": {
    "collapsed": false
   },
   "outputs": [],
   "source": [
    "tmpdir = os.path.join(os.path.realpath(data.dirs.project), \n",
    "                      data.name+'-tmpalign')\n",
    "if not os.path.exists(tmpdir):\n",
    "    os.mkdir(tmpdir)"
   ]
  },
  {
   "cell_type": "code",
   "execution_count": 34,
   "metadata": {
    "collapsed": false
   },
   "outputs": [
    {
     "data": {
      "text/plain": [
       "100"
      ]
     },
     "execution_count": 34,
     "metadata": {},
     "output_type": "execute_result"
    }
   ],
   "source": [
    "## get the number of clusters\n",
    "clustfile = os.path.join(data.dirs.clusts, sample.name+\".clust.gz\")\n",
    "with gzip.open(clustfile, 'rb') as clustio:\n",
    "    tclust = clustio.read().count(\"//\")//2\n",
    "    optim = (tclust//10) + (tclust%10)\n",
    "optim"
   ]
  },
  {
   "cell_type": "code",
   "execution_count": 35,
   "metadata": {
    "collapsed": false
   },
   "outputs": [],
   "source": [
    "## write optim clusters to each tmp file\n",
    "clustio = gzip.open(clustfile, 'rb')\n",
    "inclusts = iter(clustio.read().strip().split(\"//\\n//\\n\"))\n",
    "grabchunk = list(itertools.islice(inclusts, optim))\n",
    "\n",
    "idx = 0\n",
    "while grabchunk:\n",
    "    tmpfile = os.path.join(tmpdir, sample.name+\"_chunk_{}.ali\".format(idx)) \n",
    "    with open(tmpfile, 'wb') as out:\n",
    "        out.write(\"//\\n//\\n\".join(grabchunk))\n",
    "    idx += 1\n",
    "    grabchunk = list(itertools.islice(inclusts, optim))\n",
    "clustio.close()"
   ]
  },
  {
   "cell_type": "code",
   "execution_count": 66,
   "metadata": {
    "collapsed": false
   },
   "outputs": [],
   "source": [
    "chunk = \"cli/cli-tmpalign/1B_0_chunk_0.ali\"\n",
    "\n",
    "infile = open(chunk, 'rb')\n",
    "    \n",
    "clusts = infile.read().split(\"//\\n//\\n\")\n",
    "out = []\n",
    "\n",
    "if not clusts[0]:\n",
    "    print 'hi'"
   ]
  },
  {
   "cell_type": "code",
   "execution_count": 132,
   "metadata": {
    "collapsed": false
   },
   "outputs": [
    {
     "data": {
      "text/plain": [
       "['T',\n",
       " 'G',\n",
       " 'C',\n",
       " 'A',\n",
       " 'G',\n",
       " 'G',\n",
       " 'C',\n",
       " 'T',\n",
       " 'T',\n",
       " 'C',\n",
       " 'T',\n",
       " 'T',\n",
       " 'A',\n",
       " 'G',\n",
       " 'G',\n",
       " 'T',\n",
       " 'T',\n",
       " 'A',\n",
       " 'A',\n",
       " 'T',\n",
       " 'C',\n",
       " 'C',\n",
       " 'A',\n",
       " 'C',\n",
       " 'T',\n",
       " 'G',\n",
       " 'C',\n",
       " 'C',\n",
       " 'T',\n",
       " 'T',\n",
       " 'A',\n",
       " 'C',\n",
       " 'A',\n",
       " 'T',\n",
       " 'A',\n",
       " 'G',\n",
       " 'A',\n",
       " 'T',\n",
       " 'A',\n",
       " 'C',\n",
       " 'A',\n",
       " 'A',\n",
       " 'A',\n",
       " 'T',\n",
       " 'C',\n",
       " 'G',\n",
       " 'C',\n",
       " 'A',\n",
       " 'C',\n",
       " 'G',\n",
       " 'A',\n",
       " 'G',\n",
       " 'G',\n",
       " 'T',\n",
       " 'A',\n",
       " 'T',\n",
       " 'G',\n",
       " 'A',\n",
       " 'G',\n",
       " 'A',\n",
       " 'C',\n",
       " 'T',\n",
       " 'G',\n",
       " 'T',\n",
       " 'T',\n",
       " 'A',\n",
       " 'T',\n",
       " 'C',\n",
       " 'C',\n",
       " 'A',\n",
       " 'T',\n",
       " 'C',\n",
       " 'A',\n",
       " 'A',\n",
       " 'G',\n",
       " 'C',\n",
       " 'A',\n",
       " 'A',\n",
       " 'T',\n",
       " 'C',\n",
       " 'G',\n",
       " 'T',\n",
       " 'A',\n",
       " 'A',\n",
       " 'G',\n",
       " 'A',\n",
       " 'G',\n",
       " 'G',\n",
       " 'T',\n",
       " 'T',\n",
       " 'C',\n",
       " 'C',\n",
       " 'A',\n",
       " 'G']"
      ]
     },
     "execution_count": 132,
     "metadata": {},
     "output_type": "execute_result"
    }
   ],
   "source": [
    "np.array(anames)\n",
    "#np.all(ass == \"-\", axis=1)\n",
    "list(ass[0])"
   ]
  },
  {
   "cell_type": "code",
   "execution_count": 122,
   "metadata": {
    "collapsed": false
   },
   "outputs": [
    {
     "ename": "AttributeError",
     "evalue": "'list' object has no attribute 'min'",
     "output_type": "error",
     "traceback": [
      "\u001b[0;31m---------------------------------------------------------------------------\u001b[0m",
      "\u001b[0;31mAttributeError\u001b[0m                            Traceback (most recent call last)",
      "\u001b[0;32m<ipython-input-122-513356923514>\u001b[0m in \u001b[0;36m<module>\u001b[0;34m()\u001b[0m\n\u001b[1;32m      1\u001b[0m \u001b[0mrevs\u001b[0m \u001b[0;34m=\u001b[0m \u001b[0mnp\u001b[0m\u001b[0;34m.\u001b[0m\u001b[0marray\u001b[0m\u001b[0;34m(\u001b[0m\u001b[0;34m[\u001b[0m\u001b[0mi\u001b[0m\u001b[0;34m.\u001b[0m\u001b[0msplit\u001b[0m\u001b[0;34m(\u001b[0m\u001b[0;34m\";\"\u001b[0m\u001b[0;34m)\u001b[0m\u001b[0;34m[\u001b[0m\u001b[0;34m-\u001b[0m\u001b[0;36m1\u001b[0m\u001b[0;34m]\u001b[0m\u001b[0;34m[\u001b[0m\u001b[0;36m0\u001b[0m\u001b[0;34m]\u001b[0m \u001b[0;34m==\u001b[0m \u001b[0;34m\"+\"\u001b[0m \u001b[0;32mfor\u001b[0m \u001b[0mi\u001b[0m \u001b[0;32min\u001b[0m \u001b[0manames\u001b[0m\u001b[0;34m]\u001b[0m\u001b[0;34m)\u001b[0m\u001b[0;34m\u001b[0m\u001b[0m\n\u001b[0;32m----> 2\u001b[0;31m \u001b[0;34m[\u001b[0m\u001b[0mnp\u001b[0m\u001b[0;34m.\u001b[0m\u001b[0mwhere\u001b[0m\u001b[0;34m(\u001b[0m\u001b[0mi\u001b[0m \u001b[0;34m!=\u001b[0m \u001b[0;34m\"-\"\u001b[0m\u001b[0;34m)\u001b[0m\u001b[0;34m[\u001b[0m\u001b[0;36m0\u001b[0m\u001b[0;34m]\u001b[0m\u001b[0;34m.\u001b[0m\u001b[0mmax\u001b[0m\u001b[0;34m(\u001b[0m\u001b[0;34m)\u001b[0m \u001b[0;32mfor\u001b[0m \u001b[0mi\u001b[0m \u001b[0;32min\u001b[0m \u001b[0mass\u001b[0m\u001b[0;34m[\u001b[0m\u001b[0mrevs\u001b[0m\u001b[0;34m,\u001b[0m \u001b[0;34m:\u001b[0m\u001b[0;34m]\u001b[0m\u001b[0;34m]\u001b[0m\u001b[0;34m.\u001b[0m\u001b[0mmin\u001b[0m\u001b[0;34m(\u001b[0m\u001b[0;34m)\u001b[0m\u001b[0;34m\u001b[0m\u001b[0m\n\u001b[0m\u001b[1;32m      3\u001b[0m \u001b[0;31m#np.array([list(aseqs[i]) for i in range(aseqs.shape[0]) if anames[i].])\u001b[0m\u001b[0;34m\u001b[0m\u001b[0;34m\u001b[0m\u001b[0m\n",
      "\u001b[0;31mAttributeError\u001b[0m: 'list' object has no attribute 'min'"
     ]
    }
   ],
   "source": [
    "revs = np.array([i.split(\";\")[-1][0] == \"+\" for i in anames])\n",
    "[np.where(i != \"-\")[0].max() for i in ass[revs, :]]\n",
    "#np.array([list(aseqs[i]) for i in range(aseqs.shape[0]) if anames[i].])"
   ]
  },
  {
   "cell_type": "code",
   "execution_count": 133,
   "metadata": {
    "collapsed": true
   },
   "outputs": [],
   "source": [
    "def parsemuscle(data, out):\n",
    "    \"\"\" \n",
    "    parse muscle string output into two sorted lists. Sorts them first.\n",
    "    \"\"\"\n",
    "    ## remove '>' and split lines\n",
    "    lines = out[1:].split(\"\\n>\")\n",
    "    ## grab the names\n",
    "    names = [line.split(\"\\n\", 1)[0] for line in lines]\n",
    "    ## grab the seqs\n",
    "    seqs = [line.split(\"\\n\", 1)[1].replace(\"\\n\", \"\") for line in lines]\n",
    "    tups = zip(names, seqs)\n",
    "    ## who knew, zip(*) is the inverse of zip\n",
    "    anames, aseqs = zip(*sorted(tups, \n",
    "                        key=lambda x: int(x[0].split(\";\")[-1][1:])))\n",
    "    ## remove reference if present\n",
    "    if \"_REF;+0\" in anames[0]:\n",
    "        return anames[1:], aseqs[1:]\n",
    "    else:\n",
    "        return anames, aseqs\n"
   ]
  },
  {
   "cell_type": "code",
   "execution_count": 142,
   "metadata": {
    "collapsed": false
   },
   "outputs": [
    {
     "data": {
      "text/plain": [
       "['TGCAGGCTTCTTAGGTTAATCCACTGCCTTACATAGATACAAATCGCACGAGGTATGAGACTGTTATCCATCAAGCAATCGTAAGAGGTTCCAG',\n",
       " 'TGCAGGCTTCTTAGGTTAATCCACTGCGTTACATAGATACAAATCGCACGAGGTATGAGACTGTTATCCATCAAGCAATCGTAAGATGTTCCAG',\n",
       " 'TGCAGGCTTCTTAGGTTAATCCACTGCGTTACATAGATACAAATCGCACGAGGTATGAGACTGTTATCCATCAAGCAATCGTAAGAGGTTCCAG']"
      ]
     },
     "execution_count": 142,
     "metadata": {},
     "output_type": "execute_result"
    }
   ],
   "source": [
    "[i.tostring() for i in ass]"
   ]
  },
  {
   "cell_type": "code",
   "execution_count": 78,
   "metadata": {
    "collapsed": false
   },
   "outputs": [
    {
     "name": "stdout",
     "output_type": "stream",
     "text": [
      ">>1B_0_10028_r1;size=23;*0\n",
      "TGCAGAAAGGCCAGGGTTAGCCCGGATTAGAAGCTTCAAGTGGTGATATCCTCCGGTCCT\n",
      "AATTAAGTTAAGCTTTTCGTAGAATAGACGTTTT\n",
      ">>1B_0_10036_r1;size=1;+1\n",
      "TGCAGAAAGGCCAGGGTTAGCCCGGATTAGAAGCTTCAAGTGGTGATATCCTCCGGTCCT\n",
      "AATTAAGTTAAGCTTTTCGTAGCATAGACGTTTT\n",
      "\n",
      ">>1B_0_10073_r1;size=16;*0\n",
      "TGCAGTGTTGTTAGTTGCGTCTGAGCCGGTCCATATAAGAGGAGTTCATAGTTCTACACC\n",
      "GCCATGGTAATTGGCCGTAGCAGTATAAAGGTGT\n",
      ">>1B_0_10072_r1;size=1;+1\n",
      "TGCAGTGTTGTTAGTTGCGTCTGAGCCGGTCCATATAAGAGGAGTTCATACTTCTACACC\n",
      "GCCATGGTAATTGGCCGTAGCAGTATAAAGGTGT\n",
      "\n",
      ">>1B_0_1007_r1;size=15;*0\n",
      "TGCAGTGGTCTGTGCTTGGGTGAGACAGGTCGGATGGGTATTTATTCAGAGTGGCCGATC\n",
      "TGCTTGCAATGCTAGCCCGACAACGTATTCAGAC\n",
      ">>1B_0_1006_r1;size=1;+1\n",
      "TGCAGTGGTCTGTGCTTGGGTGAGACAGGTCGGATGGGTATTTATTCAGAGTGGTCGATC\n",
      "TGCTTGCAATGCTAGCCCGACAACGTATTCAGAC\n",
      "\n",
      ">>1B_0_10089_r1;size=19;*0\n",
      "TGCAGCTATAGATTCATAACCGCAATATGAGCGAAGTGCCGCTAGGACAGAGCCACTAAC\n",
      "CGCACAGACTTGTACAGTACGATGCCATGTAATG\n",
      ">>1B_0_10104_r1;size=1;+1\n",
      "TGCAGCTATAGATTCATCACCGCAATATGAGCGAAGTGCCGCTAGGACAGAGCCACTAAC\n",
      "CGCACAGACTTGTACAGTACGATGCCATGTAATG\n",
      "\n",
      ">>1B_0_10109_r1;size=1;+1\n",
      "TGCAGGGTCAGAGCCTTATTATTCGTGGTCCACGGTTCTTGCCGTTGGGGGAGCGCTAGT\n",
      "AAGACGGTTGTCCCGGTATATAACCATCCGGCTT\n",
      ">>1B_0_10112_r1;size=1;+2\n",
      "TGCAGGGTCAGAGCCTTATTATTCGTGGTCCACGGTTTTTGCCGTAGGGGGAGCGCTAGT\n",
      "AAGACGGTTGTCCCGGTATATAACCATCCGGCTT\n",
      ">>1B_0_10114_r1;size=1;+3\n",
      "TGCAGGGTCAGAGCCTTATTATTCGTGGTCCACGGTTCTTGCCGTAGGGGCAGCGCTAGT\n",
      "AAGACGGTTGTCCCGGTATATAACCATCCGGCTT\n",
      ">>1B_0_10115_r1;size=1;+4\n",
      "TGCAGGGTCAGAGCCTTATTATTCGTGGTCCACGGTTCTTGCCGTAGGGGGAGCGCTAGT\n",
      "AACACGGTTGTCCCGGTATATAACCATCCGGCTT\n",
      ">>1B_0_10117_r1;size=1;+5\n",
      "TGCAGGGTCAGAGCCTTATTATTCGTGGTCCACGGTTCTTGCCGTAGGGGGATCGCTAGT\n",
      "AAGACGGTTGTCCCGGTATATAACCATCCGGCTT\n",
      ">>1B_0_10131_r1;size=1;+6\n",
      "TGCAGCGTCAGAGCCTTATTATTCGTGGTCCACGGTTCTTGCCGTAGGGGGAGCGCTAGT\n",
      "AAGACGGTTGTCCCGGTATATAACCATCCGGCTT\n",
      ">>1B_0_10110_r1;size=17;*0\n",
      "TGCAGGGTCAGAGCCTTATTATTCGTGGTCCACGGTTCTTGCCGTAGGGGGAGCGCTAGT\n",
      "AAGACGGTTGTCCCGGTATATAACCATCCGGCTT\n",
      "\n",
      ">>1B_0_10132_r1;size=20;*0\n",
      "TGCAGCGTCAATTTAGAACGATCAGTAATACCTCTGGAGTAGAGGGAAACTTTTGCGTTA\n",
      "CTGAGATAGCTTGCCTAGGCCAAACATCTGTGCG\n",
      ">>1B_0_10148_r1;size=1;+1\n",
      "TGCAGCGTCAATTTAGAACGATCAGTAATACCACTGGAGTAGAGGGAAACTTTTGCGTTA\n",
      "CTGAGATAGCTTGCCTAGGCCAAACATCTGTGCG\n",
      "\n",
      ">>1B_0_10153_r1;size=23;*0\n",
      "TGCAGATCCCAGGAGTGCCAACTCTAGCTATTAGATGAACCCATTGGAGTTGGTCCTCGG\n",
      "CAGGTCATGCGTGATCCTGTCTCGTTCGATCTAA\n",
      ">>1B_0_10170_r1;size=1;+1\n",
      "TGCAGATCCCAGGAATGCCAACTCTAGCTATTAGATGAACCCATTGGAGTTGGTCCTCGG\n",
      "CAGGTCATGCGTGATCCTGTCTCGTTCGATCTAA\n",
      "\n",
      ">>1B_0_10177_r1;size=18;*0\n",
      "TGCAGTAAGCGTGTCGGGGATATAAGATTGGATTTTGAGTTTACATTTCACTTCCTCAGG\n",
      "CATCCGTTTGCTTTCGACATATTTCTCTTTAGCT\n",
      ">>1B_0_10185_r1;size=1;+1\n",
      "TGCAGTAAGCGTGTCGGGGATATAAGATTGGAATTTGAGTTTACATTTCACTTCCTCAGG\n",
      "CATCCGTTTGCTTTCGACATATTTCGCTTTAGCT\n",
      "\n",
      ">>1B_0_10218_r1;size=22;*0\n",
      "TGCAGTCAATTGTAACTAGATGGTGGGAAGCAAGGGTATAGGATGCTAGAGTCAGATTGA\n",
      "CCCTTTACAACTAAGCATAGACCTCAGTGGTAAG\n",
      ">>1B_0_10233_r1;size=1;+1\n",
      "TGCAGTCAATTGTAACTAGATGGTGGGAAGCAAGGGTATAGGATGCTAGAGTCAGATTGA\n",
      "CCCTTTACAACTAAGCATAGACCTCAGTGGTAGG\n",
      "\n",
      ">>1B_0_1022_r1;size=15;*0\n",
      "TGCAGCTATGAGTGTCTAATGCGCTTCTAGAGAAAGAAACGGCACGTGCTAGGTAATCCC\n",
      "TTGTCCATGGTACTAGATGAAGCTTAAAGTACAA\n",
      ">>1B_0_1029_r1;size=1;+1\n",
      "TGCAGCTATGAGTGTCTAATGAGCTTCTAGAGAAAGAAACGGCACGTGCTAGGTAATCCC\n",
      "TTGTCCATGGTACTAGATGAAGCTTAAAGTACAA\n",
      "\n",
      ">>1B_0_10243_r1;size=1;+1\n",
      "TGCAGACTCTAAGGCTACAGACATGCCCCTCCACCGAGGATATCAAAGGTGACGAATCTG\n",
      "AATATTGATTTTGAGCTTTTTATACCACCCTTTG\n",
      ">>1B_0_10244_r1;size=1;+2\n",
      "TGCAGACTCTTAGGCTACAGACATGCCCCTCCACCGAGGATATCAAAGGTGACGATTCTG\n",
      "AATATTGATTTTGAGCTTTTTATACCACCCTTTG\n",
      ">>1B_0_10241_r1;size=14;*0\n",
      "TGCAGACTCTAAGGCTACAGACATGCCCCTCCACCGAGGATATCAAAGGTGACGATTCTG\n",
      "AATATTGATTTTGAGCTTTTTATACCACCCTTTG\n",
      "\n",
      ">>1B_0_10267_r1;size=1;+3\n",
      "TGCAGGATGTACAGCGCTGAGAATAACAACATCCTTTGAGTGTAGAGGTTAACATGTTTA\n",
      "GACCTGGAGACCGGTGTACCCATGAACCAGTACG\n",
      ">>1B_0_10258_r1;size=1;+1\n",
      "TGCAGGATGTTCAGCGCTGAGAATAACAACATCCTTTGAGTGTAGAGGTTAACATGTTTA\n",
      "GACCTGGAGACCGGTGTACCCATGAACCAGTACT\n",
      ">>1B_0_10259_r1;size=1;+2\n",
      "TGCAGGATGTACAGCGCTGAGAATAACAACATCCTTTGAGTGTAGAGGTTAACATGTTTA\n",
      "GACCTGGAGACAGGTGTACCCATGAACCAGTACT\n",
      ">>1B_0_10257_r1;size=15;*0\n",
      "TGCAGGATGTACAGCGCTGAGAATAACAACATCCTTTGAGTGTAGAGGTTAACATGTTTA\n",
      "GACCTGGAGACCGGTGTACCCATGAACCAGTACT\n",
      "\n",
      ">>1B_0_10284_r1;size=1;+1\n",
      "TGCAGCCCGATGGTGGAATTATGGGCAATTACGTGACAGATCCCTCGCCAGTTCAATGAA\n",
      "GCGATTGTCTTTTGGGTATCGGACTAAGGCCATC\n",
      ">>1B_0_10290_r1;size=1;+2\n",
      "TGCAGCCCGATGGTGGAATTATGGGCAATTACGTGACAGATCCCTCGCCAGTTCAATGAA\n",
      "TCGATTGTCCTTTGGGTATCGGACTAAGGCCATC\n",
      ">>1B_0_10275_r1;size=20;*0\n",
      "TGCAGCCCGATGGTGGAATTATGGGCAATTACGTGACAGATCCCTCGCCAGTTCAATGAA\n",
      "TCGATTGTCTTTTGGGTATCGGACTAAGGCCATC\n",
      "\n",
      ">>1B_0_10325_r1;size=1;+2\n",
      "TGCAGGTAGGACTTCCACCGGCAAACGTGTCCGAGGCGGCCTGAGTAGGAGTGTGTAGCT\n",
      "TCGTAGATCCTCCAACCGTGGAACTCAACCTGTC\n",
      ">>1B_0_10318_r1;size=1;+1\n",
      "TGCAGGTAGGACTTCCACCGGCAAACGTGTCCGAGGCGGCCTGAGTAGGAGAGTGTAGCT\n",
      "TCGTAGATCCTCCAACCATGGAACTCAACCTGTC\n",
      ">>1B_0_10314_r1;size=18;*0\n",
      "TGCAGGTAGGACTTCCACCGGCAAACGTGTCCGAGGCGGCCTGAGTAGGAGAGTGTAGCT\n",
      "TCGTAGATCCTCCAACCGTGGAACTCAACCTGTC\n",
      "\n",
      ">>1B_0_10345_r1;size=7;+1\n",
      "TGCAGAGATTAGACCTTATAAGGGTACTGCGGAATAGCTACCGATTGTGGGAAGGACTAA\n",
      "CCGAATGCTTAATGCTAGATCTGGCAGCGACGCC\n",
      ">>1B_0_10334_r1;size=10;*0\n",
      "TGCAGAGATTAGACCTTTTAAGGGTACTGCGGAATAGCTACCGATTGTGGGAACGACTAA\n",
      "CCGAATGCTTAATGCTAGATCTGGCAGCGACGCC\n",
      ">>1B_0_10339_r1;size=1;+2\n",
      "TGCAGAGATTAGACCTTTTAAGGGTACTGCGCAATAGCTACCGATTGTGGGAACGACTAA\n",
      "CCGAATGCTTAATGCTAGATCTGGCAGCGACGCC\n",
      "\n",
      ">>1B_0_10360_r1;size=8;*0\n",
      "TGCAGTCTATAATCGGATATTCGTGAGCTAAGCCGCGGTGCCTGCATAGGAGCCTCCTGG\n",
      "TTTATTCTTGCAGCTTTTTATGAGAGCACCCTCC\n",
      ">>1B_0_10356_r1;size=1;+1\n",
      "TGCAGTCTATAATCGGATATTCGTGAGCTAAGCCGCGGTGCCTGCATGGGAGCCTCCTGG\n",
      "TTTATTCTTACAGCTTTTTATGAGAGCACCCTCC\n",
      ">>1B_0_10352_r1;size=7;+2\n",
      "TGCAGTCTATAATCGGATATTCGTGAGCTAAGCCGCGGTGCCTGCATGGGAGCCTCCTGG\n",
      "TTTATTCTTGCAGCTTTTTATGAGAGCACCCTCC\n",
      "\n",
      ">>1B_0_10370_r1;size=1;+1\n",
      "TGCAGAAGACATTACACTGATGATGTTCGTTCACGATTTCAGTTAGTGTCAGTCGCTTGC\n",
      "ATGTAGGTCCGCTTCACACTCCGTTTTCAGTGTA\n",
      ">>1B_0_10383_r1;size=1;+2\n",
      "TGCAGAAGACATTATACTGATGATGTTCGTTCACGATTTCAGTTAGTGTCAGACGCTTGC\n",
      "ATGTAGGTCCGCTTCACACTCCGTTTTCAGTGTA\n",
      ">>1B_0_10368_r1;size=22;*0\n",
      "TGCAGAAGACATTATACTGATGATGTTCGTTCACGATTTCAGTTAGTGTCAGTCGCTTGC\n",
      "ATGTAGGTCCGCTTCACACTCCGTTTTCAGTGTA\n",
      "\n",
      ">>1B_0_1038_r1;size=17;*0\n",
      "TGCAGCTCCCAACGCGCTCCAAACCCCAGTCGCTTAGCTTTCGCGAATGTCCTCATCGGT\n",
      "GTCAGCGTTTCTCCTCGTCGTCCAGGTGGCGCGA\n",
      ">>1B_0_1044_r1;size=1;+1\n",
      "TGCAGCTCCCAACGCGCTCCAAACCCCAGTCGCTTCGCTTTCGCGAATGTCCTCATCGGT\n",
      "GTCAGCGTTTCTCCTCGTCGTCCAGGTGGGGCGA\n",
      "\n",
      ">>1B_0_10392_r1;size=1;+1\n",
      "TGCAGCAGCCGTGCGCTCACACCCTATGACTGACACTGGGTTTGAGCGAACAGATGTACA\n",
      "CATCCAAGCTTGAGATCTAAATAGTGTACTGAAT\n",
      ">>1B_0_10395_r1;size=1;+2\n",
      "TGCAGCAGCCGTGCGCTCACACCCTATGACCGACACTGGGTTTGAGCGAACAGATGTACA\n",
      "CATCCAAGCTTGAGATCTAAATAGTGTAATGAAT\n",
      ">>1B_0_10401_r1;size=1;+3\n",
      "TGCAGCAGCCGTGCGCTCACAGCCTATGACCGACACTGGGTTTGAGCGAACAGATGTACA\n",
      "CATCCAAGCTTGAGATCTAAATAGTGTACTGAAT\n",
      ">>1B_0_10393_r1;size=15;*0\n",
      "TGCAGCAGCCGTGCGCTCACACCCTATGACCGACACTGGGTTTGAGCGAACAGATGTACA\n",
      "CATCCAAGCTTGAGATCTAAATAGTGTACTGAAT\n",
      "\n",
      ">>1B_0_10423_r1;size=1;+1\n",
      "TGCAGACCGCTGCCGTGTCCAGTAGAGTTAGTTTACAACGACTGACCACTAACTGATGTA\n",
      "TGGTAACAATCAGATGCACCAGACTCTTTGCTAA\n",
      ">>1B_0_10427_r1;size=1;+2\n",
      "TGCAGACCGCTGCCGTGTCCAGTAGAGTTAGTCTACAACGACTGACCACTAACTAATGTA\n",
      "TGGTAACAATCAGATGCACCAGACTCTTTGCTAA\n",
      ">>1B_0_10410_r1;size=23;*0\n",
      "TGCAGACCGCTGCCGTGTCCAGTAGAGTTAGTCTACAACGACTGACCACTAACTGATGTA\n",
      "TGGTAACAATCAGATGCACCAGACTCTTTGCTAA\n",
      "\n",
      ">>1B_0_10438_r1;size=1;+1\n",
      "TGCAGAAAGTAAGGATCACCGTGTCAGCATCTCACAACAGGAATGACTCGCGGCAATTCG\n",
      "GATCCAAACTCGAGTAGAGGCTGGGAAAGTCGAT\n",
      ">>1B_0_10440_r1;size=1;+2\n",
      "TGCAGAAAGTAAGGATCACCGTGTCAGCATCTCACAACAGGAATGACTCGCGGCAATTCG\n",
      "GATCCAAACTCGAGTAGAGGCTCGGGAAGTCGAT\n",
      ">>1B_0_10447_r1;size=10;+3\n",
      "TGCAGAAAGTAAGGATCACCGTGTCAGCATCTCACAACAGGAATGACTCGCGGCAATTCG\n",
      "GATCCAAACTCGAGTAGAGGCACGGAAAGTCGAT\n",
      ">>1B_0_10435_r1;size=10;*0\n",
      "TGCAGAAAGTAAGGATCACCGTGTCAGCATCTCACAACAGGAATGACTCGCGGCAATTCG\n",
      "GATCCAAACTCGAGTAGAGGCTCGGAAAGTCGAT\n",
      "\n",
      ">>1B_0_10498_r1;size=19;*0\n",
      "TGCAGTTGGAGCCGAACAACGGGTTGACAGCAGACCGAATGTAACCACACTAGCTTGGTT\n",
      "ACGTCTGTCCATTTCACCCAATGGCCGGGTGCTT\n",
      ">>1B_0_10514_r1;size=1;+1\n",
      "TGCAGTTGGAGCCGAACAACGGGTTGAAAGCAGACCGAATGTAACCACACTAGCTTGGTT\n",
      "ACGTCTGTCCATTTCACCCAATGGCCGGGTGCTT\n",
      "\n",
      ">>1B_0_10563_r1;size=20;*0\n",
      "TGCAGTGGTCTACTGGATAGTAATTATGTTGTTCCCTTTCAAATTCAACGTAAACTGCAG\n",
      "ACGCCTTTTGTCCGCGTATTCGCAAACAGCAGTA\n",
      ">>1B_0_10562_r1;size=1;+1\n",
      "TGCAGTGGTCTACTGGATAGTAATTATGTTGTTCCCTTTCAAATTCAACGTAAACTGCAG\n",
      "ACGCCTTTTGTCCGCGTATTCGCAAACAGCATTA\n",
      "\n",
      ">>1B_0_1065_r1;size=1;+1\n",
      "TGCAGGCCCCCTGAGGTTCGAAGTTCGACCGTAGCCGGACCTATGCTTGTCGGTGCGTGT\n",
      "GCAATCAGACACAGGTGTCTAGCGCAGTTACAGC\n",
      ">>1B_0_1057_r1;size=16;*0\n",
      "TGCAGGCCCCCTGAGGTTCGAAGTACGACCGTAGCCGGACCTATGCTTGTCGGTGCGTGT\n",
      "GCAATCAGACACAGGTGTCTAGCGCCGTTACAGC\n",
      ">>1B_0_1056_r1;size=1;+2\n",
      "TGCAGGCCCCCTGAGGTTCGAAGTACGACCGTAGCCGGACCTATGCTTGTCGGTGCGTGT\n",
      "GAAATCAGACACAGGTGTCTAGCGCCGTTACAGC\n",
      "\n",
      ">>1B_0_10606_r1;size=1;+1\n",
      "TGCAGGCTACCGCCATCTACCAACCTATGTCTCGCTTATCCTAAAGCGAATGTCCGTATG\n",
      "GCGGAAGCCCCAAGAAAAGTGTCGGGCAGCTAAA\n",
      ">>1B_0_10622_r1;size=1;+2\n",
      "TGCAGGCTACCGCCATCTACCAACCCATGTCTCGCTTATCCTAAAGCGAATGTCCGGATG\n",
      "GCGGAAGCCCCAAGAAAAGTGTCGGGCAGCTAAA\n",
      ">>1B_0_10607_r1;size=15;*0\n",
      "TGCAGGCTACCGCCATCTACCAACCCATGTCTCGCTTATCCTAAAGCGAATGTCCGTATG\n",
      "GCGGAAGCCCCAAGAAAAGTGTCGGGCAGCTAAA\n",
      "\n",
      ">>1B_0_10623_r1;size=13;*0\n",
      "TGCAGCTAATGGGCGAACTCTGCGTTACCTGACGGTGCATGCGATGAGGGCTCTCTGTCG\n",
      "TCATTGAGCCCTTACCCCGTTCACCTATAACCAA\n",
      ">>1B_0_10636_r1;size=1;+1\n",
      "TGCAGCTAATGGCCGAACTCTGCGTTACCTGACGGTGCATGCGATGAGGGCTCTCTGTCG\n",
      "TCATTGAGCCCTTACCCCGTTCACCTATAACCAA\n",
      "\n",
      ">>1B_0_10670_r1;size=9;+1\n",
      "TGCAGCCACGATATAGTTGAAGGAACGGTTCAGTCTTTACTAGAGTCTGTGTCTGCCTAG\n",
      "ACATTACTTTTCGTCTGTATTCATCGCGTGCGGG\n",
      ">>1B_0_10657_r1;size=12;*0\n",
      "TGCAGCCACGAAATAGTTGAAGGAACGGTTCAGTCTTTACTAGAGTCTGTGTCTGCCTAG\n",
      "ACATTACTTTTCCTCTGTATTCATCGCGTGCGGG\n",
      ">>1B_0_10668_r1;size=1;+2\n",
      "TGCAGCCACGAAATAGTTGAAGGAACGGTTCAGTATTTACTAGAGTCTGTGTCTGCCTAG\n",
      "ACATTACTTTTCCTCTGTATTCATCGCGTGCGGG\n",
      "\n",
      ">>1B_0_10679_r1;size=18;*0\n",
      "TGCAGATTACAATTAGGCATTCATGTGGAGAGTGCCGGAGCAAGTGTAGAACTATCAAAG\n",
      "GAGCACTTACGTCGGAATTTGATCAATCAATTCG\n",
      ">>1B_0_10685_r1;size=1;+1\n",
      "TGCAGATTACAATTAGGCATTCATGTGTAGAGTGCCGGAGCAAGTGTAGAACTATCAAAG\n",
      "GAGCACTTACGTCGGAATTTGATCAATCAATTCG\n",
      "\n",
      ">>1B_0_10698_r1;size=16;*0\n",
      "TGCAGAGAGGATTGTACCACTAATGTGTTCGGCACAGTAGGTGTATTCTTGGATCGACAA\n",
      "CTCGGGCGCGTGGGAGCTATGTAAGACACCCTGT\n",
      ">>1B_0_10699_r1;size=1;+1\n",
      "TGCAGAGAGGATTGTACCACTAATGTGTTCGGCACAGTTGGTGTATTCTTGGATCGACAA\n",
      "CTCGGGCGCGTGGGAGCTATGTAAGACACCCTGT\n",
      "\n",
      ">>1B_0_10715_r1;size=18;*0\n",
      "TGCAGCATGTCATCGATTTCGGGCTGGTTGTTTAGGTTACGCATCGTAGGTAGAAGACAC\n",
      "ACGTTACGTAGCTGTTGCATTGAGGAAGATAAGA\n",
      ">>1B_0_10720_r1;size=1;+1\n",
      "TGCAGCATGTCATCGAGTTCGGGCTGGTTGTTTAGGTTACGCATCGTAGGTAGAAGACAC\n",
      "ACGTTACGTAGCTGTTGCATTGAGGAAGATAAGA\n",
      "\n",
      ">>1B_0_10749_r1;size=1;+1\n",
      "TGCAGCATCTCAGACTCGGAGCACTTGATCTGTTTAAATGGTGGCATGCTAGGTCGGATC\n",
      "ATCCACCTGTGACACCCCCTATTCCCCTAGGAAA\n",
      ">>1B_0_10754_r1;size=1;+2\n",
      "TGCAGCATCTCAGACTCGGAGCACTTGATCTGTGTAAATGGTGGCATGCTAGGTCGGATC\n",
      "ATCCACCTGTGCCACCCCCTATTCCCCTAGGAAA\n",
      ">>1B_0_10734_r1;size=21;*0\n",
      "TGCAGCATCTCAGACTCGGAGCACTTGATCTGTTTAAATGGTGGCATGCTAGGTCGGATC\n",
      "ATCCACCTGTGCCACCCCCTATTCCCCTAGGAAA\n",
      "\n",
      ">>1B_0_10779_r1;size=16;*0\n",
      "TGCAGCTACCGGAAAAGCGTTAGATTGATTCTAGCCTGCGACGACCTGACAGTCAGTAAG\n",
      "TGTCCATGCCGGAGCATTGCTTGATGTAATTGCC\n",
      ">>1B_0_10783_r1;size=1;+1\n",
      "TGCAGCTACCGGAAAAGCGTTAGATTGATTCTAGCCTGCGACGACCTGACAGTCAGTAAG\n",
      "TGTCCATGCCGGACCATTGCTTGATGTAATTGCC\n",
      "\n",
      ">>1B_0_10818_r1;size=1;+1\n",
      "TGCAGGATCTACGCGACGTCGGCACATCCGAAGGTGTACGTTGGCTACTCCGAACATCGA\n",
      "CGGCGACCGCTTTCTATGATATATAATAAATACA\n",
      ">>1B_0_10824_r1;size=1;+2\n",
      "TGCAGGATCTACGCGACGTCGTCACATCCGAAGGTGTACGTTGGCTACTCCGAACATCGA\n",
      "CGGCGACCGCTCTCTATGATATATAATAAATACA\n",
      ">>1B_0_10808_r1;size=15;*0\n",
      "TGCAGGATCTACGCGACGTCGGCACATCCGAAGGTGTACGTTGGCTACTCCGAACATCGA\n",
      "CGGCGACCGCTCTCTATGATATATAATAAATACA\n",
      "\n",
      ">>1B_0_10839_r1;size=11;*0\n",
      "TGCAGACTAGTTTGAAATTCTCTTCGTGGGAGCTCTTACTAGTAGCAGAATCCTTTTATG\n",
      "AGGCCGGTCGGATTTTCGACCAATAATCGAGGAA\n",
      ">>1B_0_10827_r1;size=1;+1\n",
      "TGCAGACTAGTTTGAAATGCTCTTCGTGGGAGCTCTTACTAGTAGCAGAATCCTTTTATG\n",
      "ACGCCGGTCGGATTTTCGACCAATAATCGAGGAA\n",
      ">>1B_0_10831_r1;size=1;+2\n",
      "TGCAGACTAGTTTGAAAAGCTCTTCGTGGGAGCTCTTACTAGTAGCAGAATCCTTTTATG\n",
      "AGGCCGGTCGGATTTTCGACCAATAATCGAGGAA\n",
      ">>1B_0_10834_r1;size=1;+3\n",
      "TGCAGACTAGTTTGAGATGCTCTTCGTGGGAGCTCTTACTAGTAGCAGAATCCTTTTATG\n",
      "AGGCCGGTCGGATTTTCGACCAATAATCGAGGAA\n",
      ">>1B_0_10838_r1;size=1;+4\n",
      "TGCAGACTAGTTTTAAATGCTCTTCGTGGGAGCTCTTACTAGTAGCAGAATCCTTTTATG\n",
      "AGGCCGGTCGGATTTTCGACCAATAATCGAGGAA\n",
      ">>1B_0_10825_r1;size=10;+5\n",
      "TGCAGACTAGTTTGAAATGCTCTTCGTGGGAGCTCTTACTAGTAGCAGAATCCTTTTATG\n",
      "AGGCCGGTCGGATTTTCGACCAATAATCGAGGAA\n",
      "\n",
      ">>1B_0_10854_r1;size=1;+2\n",
      "TGCAGGGGTAATGCATTCTAATACCGCTGGGATTGCAAACCGAAGCTATTGCAAAACGCA\n",
      "TTAGGGCCTAAAAGTGTTACCTTGCGCGCTAGTG\n",
      ">>1B_0_10850_r1;size=1;+1\n",
      "TGCAGGGGTAATGCATTCTAATACCGCTGGGATTGCAGACCGAAGCTATTGCAAAACGCA\n",
      "TTAGGGCCTAAAAGTGTTACCTTGCGCGCTGGTG\n",
      ">>1B_0_10860_r1;size=1;+3\n",
      "TGCAGGGGTAATGCATTCTAATACCGCTAGGATTGCAAACCGAAGCTATTGCAAAACGCA\n",
      "TTAGGGCCTAAAAGTGTTACCTTGCGCGCTGGTG\n",
      ">>1B_0_10851_r1;size=16;*0\n",
      "TGCAGGGGTAATGCATTCTAATACCGCTGGGATTGCAAACCGAAGCTATTGCAAAACGCA\n",
      "TTAGGGCCTAAAAGTGTTACCTTGCGCGCTGGTG\n",
      "\n",
      ">>1B_0_10898_r1;size=1;+1\n",
      "TGCAGGGGCCCGACATCCAGCCAAACAACGAAGGACGTCGGGAAGTTCTGAAGCAAGGCT\n",
      "CTGTCGAGCATCGTCCTGCATCCTGCGCCTACTT\n",
      ">>1B_0_10903_r1;size=1;+2\n",
      "TGCAGGGGCCCGACATCCAGCCAAACAACGAAGGACGTCGGGAAGCTGTGAAGCAAGGCT\n",
      "CTGTCGAGCATCGTCCTGCATCCTGCGCCTACTT\n",
      ">>1B_0_10906_r1;size=1;+3\n",
      "TGCAGGGGCCCGACATCCAGCCAAACAATGAAGGACGTCGGGAAGTTGTGAAGCAAGGCT\n",
      "CTGTCGAGCATCGTCCTGCATCCTGCGCCTACTT\n",
      ">>1B_0_10888_r1;size=19;*0\n",
      "TGCAGGGGCCCGACATCCAGCCAAACAACGAAGGACGTCGGGAAGTTGTGAAGCAAGGCT\n",
      "CTGTCGAGCATCGTCCTGCATCCTGCGCCTACTT\n",
      "\n",
      ">>1B_0_10914_r1;size=1;+1\n",
      "TGCAGTTGCGGTAATTCATTGAGCACTCTGACCATGTTTCGTTAGGGCAACACCTATAGT\n",
      "TGTGGAGCGAATTGCGAGCTAGCTTAGGAACAAG\n",
      ">>1B_0_10918_r1;size=1;+2\n",
      "TGCAGTTGCGGTAATTCATTGAGCACTCTGACCATGTTTCGTTAGGGCAACACCTGTAGT\n",
      "TGTGGAGCGAATTGCGAGCTAGCTTTGGAACAAG\n",
      ">>1B_0_10910_r1;size=15;*0\n",
      "TGCAGTTGCGGTAATTCATTGAGCACTCTGACCATGTTTCGTTAGGGCAACACCTATAGT\n",
      "TGTGGAGCGAATTGCGAGCTAGCTTTGGAACAAG\n",
      "\n",
      ">>1B_0_10948_r1;size=1;+4\n",
      "TGCAGCCTCGTGTTAAGTATCAGGGATAGATCGCGCGCGAACTCATGTACCGTACAATCC\n",
      "AAGAATGGAAAATTGGTATTTGTCGTATCAATGG\n",
      ">>1B_0_10938_r1;size=14;*0\n",
      "TGCAGCCTCGTGTTAAGTATCAGGGATAGATCGCGCGCGAACTCATGTACCGTACAATCC\n",
      "AAGAATGGAAAATTGGTATTTGTCGTAACAATGG\n",
      ">>1B_0_10931_r1;size=1;+1\n",
      "TGCAGCCTCGTGTTAAGTATCAGGGATAGAGCGCGAGCGAACTCATGTACCGTACAATCC\n",
      "AAGAATGGAAAATTGGTATTTGTCGTAACAATGG\n",
      ">>1B_0_10935_r1;size=1;+2\n",
      "TGCAGCCTCGTCTTAAGTATCAGGGATAGATCGCGAGCGAACTCATGTACCGTACAATCC\n",
      "AAGAATGGAAAATTGGTATTTGTCGTAACAATGG\n",
      ">>1B_0_10927_r1;size=9;+3\n",
      "TGCAGCCTCGTGTTAAGTATCAGGGATAGATCGCGAGCGAACTCATGTACCGTACAATCC\n",
      "AAGAATGGAAAATTGGTATTTGTCGTAACAATGG\n",
      "\n",
      ">>1B_0_1094_r1;size=17;*0\n",
      "TGCAGGATACTCTATTCATCCGACCCCCTGGTTAGGACGTCTCGCATTACATTCTGCTCG\n",
      "AGAGCCAGGGACTTAAGCACACCGTTCGAACACA\n",
      ">>1B_0_1095_r1;size=1;+1\n",
      "TGCAGGATACGCTATTCATCCGACCCCCTGGTTAGGACGTCTCGCATTACATTCTGCTCG\n",
      "AGAGCCAGGGACTTAAGCACACCGTTCGAACACA\n",
      "\n",
      ">>1B_0_10953_r1;size=19;*0\n",
      "TGCAGCGGTTTGAGAAAACGGCACCAGCATGGGCAGCCCGTTGCAGTGCGCGAATGCAGG\n",
      "GCGTGTCAATGCGGCAGAACATCTCTGGCGAGGG\n",
      ">>1B_0_10956_r1;size=1;+1\n",
      "TGCAGCGGTTTGAGAAAACGGCACCAGCATGGGCAGCCCGTTGCAGTGCGCGAAGGCAGG\n",
      "GCGTGTCAATGCGGCAGAACATCTCTGGCGAGGG\n",
      "\n",
      ">>1B_0_10974_r1;size=1;+1\n",
      "TGCAGAGGCGCCGCGGTCCCTGCGGATATTCGCGCCATTTACATCCGTTAGTAGAACGAC\n",
      "TGTCGTCACTGAGGAGCCCCCTCTCGAAGACAGA\n",
      ">>1B_0_10989_r1;size=1;+2\n",
      "TGCAGAGGCGCCGCGGTCCCTGCGGATATTCGCGCCATTTACATCCGTTAGTAGAACGAC\n",
      "TGTCGTCACTGAGGAGCCACCTCTCGATGACAGA\n",
      ">>1B_0_10973_r1;size=15;*0\n",
      "TGCAGAGGCGCCGCGGTCCCTGCGGATATTCGCGCCATTTACATCCGTTAGTAGAACGAC\n",
      "TGTCGTCACTGAGGAGCCCCCTCTCGATGACAGA\n",
      "\n",
      ">>1B_0_11009_r1;size=14;*0\n",
      "TGCAGCCGCGGCCTACCGTTTTCTATGTATTATATTCACCGCCTTCGTGACGACCCCGGT\n",
      "GGCCTAAGATTCGTATGCAGTCCATTTCGACGTT\n",
      ">>1B_0_11017_r1;size=1;+1\n",
      "TGCAGCCGCGGCTTACCGTTTTCTATGTATTATATTCACCGCCTTCGTGACGACCCCGGT\n",
      "GGCCTAAGATTCGTATGCAGTCCATTTCGACGTT\n",
      "\n",
      ">>1B_0_11029_r1;size=1;+1\n",
      "TGCAGTGGCTTCTAGACTCACCTTCTTCATGTTCGCGATGTCATTTAATGGGCGCACTCA\n",
      "ACCAACCACGTGCCTTGCGCATACCACATTCCAT\n",
      ">>1B_0_11039_r1;size=1;+2\n",
      "TGCAGTGGCTTCTAGACTCACCTTCTTCATGTTCGCGATGTCATTTAATGGGCGCACTCA\n",
      "ACCAACCACGTGCCCTGCGCATTCCACATTCCAT\n",
      ">>1B_0_11024_r1;size=18;*0\n",
      "TGCAGTGGCTTCTAGACTCACCTTCTTCATGTTCGCGATGTCATTTAATGGGCGCACTCA\n",
      "ACCAACCACGTGCCCTGCGCATACCACATTCCAT\n",
      "\n",
      ">>1B_0_11086_r1;size=1;+1\n",
      "TGCAGATAGGGTACTTTTCTCAGAAAACCACTTGAACACATCCAAGCGGGGCCGTCGGGA\n",
      "AGCGGGTATTGTCACAGTACAAGCAGTGAGTTCG\n",
      ">>1B_0_11088_r1;size=1;+2\n",
      "TGCAGATAGGGTACTTTTCCCAGAAAACCACTTGAACACATCCAAGCGGGGCCGTCGGGA\n",
      "AGCGGGTATTGTCACAGCACAAGCAGTGAGTTCG\n",
      ">>1B_0_11090_r1;size=7;+3\n",
      "TGCAGATAGGGTACTTTTCCCACAAAACCACTTGAACACATCCAAGCGGGGCCGTCGGGA\n",
      "AGCGGGTATTGTCACAGTACAAGCAGTGAGTTCG\n",
      ">>1B_0_11079_r1;size=9;*0\n",
      "TGCAGATAGGGTACTTTTCCCAGAAAACCACTTGAACACATCCAAGCGGGGCCGTCGGGA\n",
      "AGCGGGTATTGTCACAGTACAAGCAGTGAGTTCG\n",
      "\n",
      ">>1B_0_11098_r1;size=25;*0\n",
      "TGCAGTGCGTTTGGATCGCGGTATATGGGTGGGAGCTGTTAACATGTGCGGCCGGAAACG\n",
      "GATATTGAGTGCGAGGGACGACCGGAACACCGCG\n",
      ">>1B_0_11097_r1;size=1;+1\n",
      "TGCAGTGCGTTTGGATCGCGGTATATGGGTGGGAGCTGTTAACATGTGCGGCCGGAAAAG\n",
      "GATATTGAGTGCGAGGGACGACCGGAACACCGCG\n",
      "\n",
      ">>1B_0_11128_r1;size=1;+1\n",
      "TGCAGCAGTCGTTTACAACCGGTGAACTCTTAACTAGGATAGTCGTTTGAGACAAGCTTA\n",
      "ACTAGGTTATATTTGGCCATGGAACTCGCCGGGC\n",
      ">>1B_0_11131_r1;size=1;+2\n",
      "TGCAGCAGTCGTTTACAACCGGTGAACTCTTAACTGGGATAGTCGTTTGAGACAAGCTCA\n",
      "ACTAGGTTATATTTGGCCATGGAACTCGCCGGGC\n",
      ">>1B_0_11132_r1;size=1;+3\n",
      "TGCAGCAGTCGTTTACAACCGGTGAACGCTTAACTGGGATAGTCGTTTGAGACAAGCTTA\n",
      "ACTAGGTTATATTTGGCCATGGAACTCGCCGGGC\n",
      ">>1B_0_11134_r1;size=1;+4\n",
      "TGCAGCAGTCGTTTACAACCGGTCAACTCTTAACTGGGATAGTCGTTTGAGACAAGCTTA\n",
      "ACTAGGTTATATTTGGCCATGGAACTCGCCGGGC\n",
      ">>1B_0_11135_r1;size=1;+5\n",
      "TGCAGCAGTCGTTTACAACCGGTGAACTCTTAACTGGGATAGTCGTTTGAGAGAAGCTTA\n",
      "ACTAGGTTATATTTGGCCATGGAACTCGCCGGGC\n",
      ">>1B_0_11123_r1;size=17;*0\n",
      "TGCAGCAGTCGTTTACAACCGGTGAACTCTTAACTGGGATAGTCGTTTGAGACAAGCTTA\n",
      "ACTAGGTTATATTTGGCCATGGAACTCGCCGGGC\n",
      "\n",
      ">>1B_0_1112_r1;size=9;*0\n",
      "TGCAGCACATAAGCTCGATCACGGGGAAGCCATTGCGTAACTGGGTAACCCAATAGCGTA\n",
      "AGTGAGTGGCATAACGAAACCTTGGCTATGCCTG\n",
      ">>1B_0_1125_r1;size=1;+1\n",
      "TGCAGCACATAAGCTCGATCACGGGGAAGTCTTTGCGTAACTGGGTAACCCAATAGCGTA\n",
      "AGTGAGTGGCATAACGAAACCTTGGCTATGCCTG\n",
      ">>1B_0_1127_r1;size=1;+2\n",
      "TGCAGCACATAAGCTCGATCACGGGGAAGTAATTGCGTAACTGGGTAACCCAATAGCGTA\n",
      "AGTGAGTGGCATAACGAAACCTTGGCTATGCCTG\n",
      ">>1B_0_1121_r1;size=7;+3\n",
      "TGCAGCACATAAGCTCGATCACGGGGAAGTCATTGCGTAACTGGGTAACCCAATAGCGTA\n",
      "AGTGAGTGGCATAACGAAACCTTGGCTATGCCTG\n",
      "\n",
      ">>1B_0_11145_r1;size=14;*0\n",
      "TGCAGGTGGGATTGCTTCAAAGTCTGTTCCGGGAGCTGCCAGGCCAGTGCTAGTCATTGG\n",
      "ATCGCTTGGGTAACCCCACGTGCGGCATGGTTAT\n",
      ">>1B_0_11149_r1;size=1;+1\n",
      "TGCAGGTGGGATTGCTTCAAAGTCTGGTCCGGGAGCTGCCAGGCCAGTGCTAGTCATTGG\n",
      "ATCGCTTGGGTAACCCCACGTGCGGCATGGTTAT\n",
      "\n",
      ">>1B_0_11179_r1;size=16;*0\n",
      "TGCAGGCCCCGTAGTACGTAAATAAGTGCCGTCTGCAAGAGACGGGTTGCCAGATCTCTG\n",
      "TTTGCCTGAGAGACGGGAGTGTTAGGGGCCTTCC\n",
      ">>1B_0_11183_r1;size=1;+1\n",
      "TGCAGGCCCCGTAGTACGTAAATAAGTGCCGTCTGCAAGAGACGGGTTGCTAGATCTCTG\n",
      "TTTGCCTGAGAGACGGGAGTGTTAGGGGCCTTCC\n",
      "\n",
      ">>1B_0_11197_r1;size=1;+1\n",
      "TGCAGTGGGCTACTCTGGCTGGCGGACCACTTCTACCGCGTACTTAATCGTGGAGGAAGA\n",
      "GACAGGGCTGCAAGTACCAGTCATAGACATGACC\n",
      ">>1B_0_11200_r1;size=1;+2\n",
      "TGCAGTGGGCTACTCTGGCTGGCGGACCACTTCTACCGCGTACTTAATCGTGGAGGAAGT\n",
      "GACAGGGCTGCAAGTACCAGTCATAGACGTGACC\n",
      ">>1B_0_11196_r1;size=17;*0\n",
      "TGCAGTGGGCTACTCTGGCTGGCGGACCACTTCTACCGCGTACTTAATCGTGGAGGAAGT\n",
      "GACAGGGCTGCAAGTACCAGTCATAGACATGACC\n",
      "\n",
      ">>1B_0_11219_r1;size=1;+2\n",
      "TGCAGGAGGCACAATCGCGCAAAGACAATAACGTGGTCCTACGACTTAATAGCCCCAAGT\n",
      "GCTAGCGTTTTGGCCTACACTGGCGCACTTGATT\n",
      ">>1B_0_11218_r1;size=1;+1\n",
      "TGCAGGAGGCACAATCGCGCAAAGACAATAACGTGGTCCTACGACTTAATAGCCCCGAGT\n",
      "GCTAGCGTTTTGGCCTACACTGGCGCACTTGACT\n",
      ">>1B_0_11215_r1;size=17;*0\n",
      "TGCAGGAGGCACAATCGCGCAAAGACAATAACGTGGTCCTACGACTTAATAGCCCCAAGT\n",
      "GCTAGCGTTTTGGCCTACACTGGCGCACTTGACT\n",
      "\n",
      ">>1B_0_11259_r1;size=1;+1\n",
      "TGCAGTTCGACTAATCACCGCACGGGTACACTTTTTACACATTGATTACGATAGCTTGGT\n",
      "TTAGTGGAAGATAGCTCCAGATTCGTTACAATGT\n",
      ">>1B_0_11265_r1;size=1;+2\n",
      "TGCAGTTAGACTAATCACCGCACGGGTACACTTTTTACACATTGATTACGATAGCTTGGT\n",
      "TTAGTGGAAGAGAGCTCCAGATTCGTTACAATGT\n",
      ">>1B_0_11256_r1;size=17;*0\n",
      "TGCAGTTAGACTAATCACCGCACGGGTACACTTTTTACACATTGATTACGATAGCTTGGT\n",
      "TTAGTGGAAGATAGCTCCAGATTCGTTACAATGT\n",
      "\n",
      ">>1B_0_11284_r1;size=1;+1\n",
      "TGCAGGCGGTTTATGGCATGTCCCCGGAAAACCGGAAGCTTTATATTCGGCTTCTTAAAG\n",
      "GCTGGTGCCAACCTGCCCCTACACTCGTGCTGAT\n",
      ">>1B_0_11280_r1;size=11;*0\n",
      "TGCAGGCGGTTTATGGCATGGCCCCGGAAAACCGGAAGCTTTATATCCGGCTTCTTAAAG\n",
      "GCTGGTGCCAACCTGCCCCTACACTCGTGCTGAT\n",
      ">>1B_0_11275_r1;size=5;+2\n",
      "TGCAGGCGGTTTATGGCATGGCCCCGGAAAACCGGAAGCTTTATATCCGGCTTGTTAAAG\n",
      "GCTGGTGCCAACCTGCCCCTACACTCGTGCTGAT\n",
      "\n",
      ">>1B_0_11292_r1;size=22;*0\n",
      "TGCAGTAGGGCGCCCGACTCATGTGTCTTGGCAGCCCGGTGCTCGCATGCGCCCGCGAAT\n",
      "CAATAGGGACGGACAGTTCCAGACATCTGAGATT\n",
      ">>1B_0_11294_r1;size=1;+1\n",
      "TGCAGTAGGGCGCCCGACTCATGTGTCTTGGCACCCCGGTGCTCGCATGCGCCCGCGAAT\n",
      "CAATAGGGACGGACAGTTCCAGACATCTGAGATT\n",
      "\n",
      ">>1B_0_1130_r1;size=11;*0\n",
      "TGCAGCCCAGTAACCATGAGGTTCCGAGCAGTCTGACCGCGTGCTGGGAGTATGGTACAG\n",
      "TCGGGTTCCGGAAGATACGTATAGTATCTTGCCC\n",
      ">>1B_0_1134_r1;size=1;+3\n",
      "TGCAGCCCAGTAACCATGAGGTTCCGAGCAGTCTGACCGCGTGCTGGGAGTATGGTAGAG\n",
      "TCGGGTTCCGGAAGATACGTATAGTATCTTGCCC\n",
      ">>1B_0_1149_r1;size=1;+1\n",
      "TGCAGCCCAGTACCCATGAGGTTCCGAGCAGTCTGACCGCGCGCTGGGAGTATGGTACAG\n",
      "TCGGGTTCCGGAAGATACGTATAGTATCTTGCCC\n",
      ">>1B_0_1150_r1;size=1;+2\n",
      "TGCAGCCCAGTAGCCATGAGGTTCCGAGCAGTCTGACCGCGCGCTGGGAGTATGGTACAG\n",
      "TCGGGTTCCGGAAGATACGTATAGTATCTTGCCC\n",
      ">>1B_0_1142_r1;size=8;+4\n",
      "TGCAGCCCAGTAACCATGAGGTTCCGAGCAGTCTGACCGCGCGCTGGGAGTATGGTACAG\n",
      "TCGGGTTCCGGAAGATACGTATAGTATCTTGCCC\n",
      "\n",
      ">>1B_0_11315_r1;size=18;*0\n",
      "TGCAGCGGGCGGGGCCCCCTTATTACCTCCATCTACTCCAGTACTCGCCTCATATCGGCA\n",
      "TTCGGCCGGCGTAAGAGCATGTTATTTCATTAAA\n",
      ">>1B_0_11322_r1;size=1;+1\n",
      "TGCAGCGGGCGGGGCCCCCTTATTACCTCCATCTACCCCAGTACTCGCCTCATATCGGCA\n",
      "TTCGGCCGGCGTAAGAGCATGTTATTTCATTAAA\n",
      "\n",
      ">>1B_0_11334_r1;size=23;*0\n",
      "TGCAGGACGTGGTTAGGTCGGTAACCAGGGCGTCAAGATCCTCGGCAATCTTGAGCCCTA\n",
      "AGCCTCGAACCCTATCAATCTTAGTGCTGCAAAC\n",
      ">>1B_0_11341_r1;size=1;+1\n",
      "TGCAGGACGTGGTTAGGTCGGTAACCAGGGCGTCAAGATCCTCGGCAATCTTGAGCCCTA\n",
      "AGCCTAGAACCCTATCAATCTTAGTGCTGCAAAC\n",
      "\n",
      ">>1B_0_11362_r1;size=1;+1\n",
      "TGCAGCCTTGCACGCCACTGCAGGTGAGTAACGCAACCCTGCCGATGATTTCGACTTAGG\n",
      "GGGGCAATACAAGTAACTGGCAAGCAGAGTCTAT\n",
      ">>1B_0_11363_r1;size=1;+2\n",
      "TGCAGCCTTGCACGCCACTGCAGGTGAGTAACGCAACCCTGCCGATGATTTCGACTTAGG\n",
      "GGGGCAATACAGGTGACTGGCAAGCAGAGTCTAT\n",
      ">>1B_0_11364_r1;size=1;+3\n",
      "TGCAGCCTTGCACGCCACTGCAGGTGAGTAACGCAACCCTGCCGATGATTTCGACTTAGG\n",
      "GGGGCAATACAAGTGACTGGCAAGCAGCGTCTAT\n",
      ">>1B_0_11358_r1;size=16;*0\n",
      "TGCAGCCTTGCACGCCACTGCAGGTGAGTAACGCAACCCTGCCGATGATTTCGACTTAGG\n",
      "GGGGCAATACAAGTGACTGGCAAGCAGAGTCTAT\n",
      "\n",
      ">>1B_0_11377_r1;size=24;*0\n",
      "TGCAGAGTCGCGTCCGGGGGGAAATAGTGACCCACCAGGTATCAGGCTAACAGGTCAGTT\n",
      "TGTTTGTACGTGGTAACGCTATAGCCGTTTCTGC\n",
      ">>1B_0_11380_r1;size=1;+1\n",
      "TGCAGAGTCGCGTCCGGGGGGAAATAGTGACCCACCAGGTACCAGGCTAACAGGTCAGTT\n",
      "TGTTTGTACGTGGTAACGCTATAGCCGTTTCTGC\n",
      "\n",
      ">>1B_0_11421_r1;size=1;+1\n",
      "TGCAGACCATGGGTACATCCGGAGCAACATTGTGACGGTTTTCTCGACTGACCACGCAGG\n",
      "CACAATTTGCGTGCGTTGGTGTGTGGTGGCGACC\n",
      ">>1B_0_11423_r1;size=1;+2\n",
      "TGCAGACCATGGGTGCATCCGGAGCAACATTGTGACGGTTTTCTCGACTGACCACGCAGG\n",
      "CACAATTTGCGTGGGTTGGTGTGTGGTGGCGACC\n",
      ">>1B_0_11424_r1;size=1;+3\n",
      "TGCAGACCATGGGTGCATCCGGAGCAACATTGTGACGGTTTACTCGACTGACCACGCAGG\n",
      "CACAATTTGCGTGCGTTGGTGTGTGGTGGCGACC\n",
      ">>1B_0_11426_r1;size=1;+4\n",
      "TGCAGACCATGGGTGCATCGGGAGCAACATTGTGACGGTTTTCTCGACTGACCACGCAGG\n",
      "CACAATTTGCGTGCGTTGGTGTGTGGTGGCGACC\n",
      ">>1B_0_11432_r1;size=1;+5\n",
      "TGCAGACCATGGGTGCATCCGGAGCAACATTGTGACGGTTTTCTCGACTGACCACGCAGG\n",
      "CACATTTTGCGTGCGTTGGTGTGTGGTGGCGACC\n",
      ">>1B_0_11422_r1;size=14;*0\n",
      "TGCAGACCATGGGTGCATCCGGAGCAACATTGTGACGGTTTTCTCGACTGACCACGCAGG\n",
      "CACAATTTGCGTGCGTTGGTGTGTGGTGGCGACC\n",
      "\n",
      ">>1B_0_11465_r1;size=1;+1\n",
      "TGCAGCTCTATTGATCCCAATGCCACCGCCATCCGTGTGGCAAGTTAAAGGGAAGTTTGG\n",
      "ATTATACAACTACCAGTCGATCGCAACGTAACAA\n",
      ">>1B_0_11462_r1;size=16;*0\n",
      "TGCAGCTCTATTGATCCCAATGCCACCGCCATCCGTGTGGCAAGTTAAAGGGAAGTTGGG\n",
      "ATTATACAACTACCAGTCGATCGCAAAGTAACAA\n",
      ">>1B_0_11477_r1;size=1;+2\n",
      "TGCAGCCCTATTGATCCCAATGCCACCGCCATCCGTGTGGCAAGTTAAAGGGAAGTTGGG\n",
      "ATTATACAACTACCAGTCGATCGCAAAGTAACAA\n",
      "\n",
      ">>1B_0_11512_r1;size=1;+1\n",
      "TGCAGCACCGTGAAACAAATTGAGGTGAACTTCACGGCTCCGGTGAGCCGACATTGCTAA\n",
      "CGACAGAAATACTCTGCAACACGAGGGGGGCTCT\n",
      ">>1B_0_11514_r1;size=1;+2\n",
      "TGCAGCACCTTGAAACAAATTGAGGTGAACTTCACGGCTCCGGTGAGCCGACATTGCTAA\n",
      "CGACAGAAATACTCTGCAACTCGAGGGGGGCTCT\n",
      ">>1B_0_11501_r1;size=20;*0\n",
      "TGCAGCACCGTGAAACAAATTGAGGTGAACTTCACGGCTCCGGTGAGCCGACATTGCTAA\n",
      "CGACAGAAATACTCTGCAACTCGAGGGGGGCTCT\n",
      "\n",
      ">>1B_0_11523_r1;size=1;+1\n",
      "TGCAGAGTTTAGTCGCAGAGGGTACCAGGTACCATTGAACCACAAAGATCTCTGTGGCGG\n",
      "GTGTTCGCGGTCATATCTTTGCGGAAGTTTCATA\n",
      ">>1B_0_11541_r1;size=1;+2\n",
      "TGCAGAGTTTAGTCGCGGAGGGTACCAGGGACCATTGAACCACAAAGATCTCTGTGGCGG\n",
      "GTGTTCGCGGTCATATCTTTGCGGAAGTTTCATA\n",
      ">>1B_0_11524_r1;size=21;*0\n",
      "TGCAGAGTTTAGTCGCGGAGGGTACCAGGTACCATTGAACCACAAAGATCTCTGTGGCGG\n",
      "GTGTTCGCGGTCATATCTTTGCGGAAGTTTCATA\n",
      "\n",
      ">>1B_0_1152_r1;size=19;*0\n",
      "TGCAGCATCCCATCCATTCTTTGACGGGTCATCTTCTGAGCGTAACTCCCGCCTAAGGGA\n",
      "TAGCCCGTACCCGAAGATTACTCAGGTTGACATC\n",
      ">>1B_0_1165_r1;size=1;+1\n",
      "TGCAGCATCCCATCCATTTTTTGACGGGTCATCTTCTGAGCGTAACTCCCGCCTAAGGGA\n",
      "TAGCCCGTACCCGAAGATTACTCAGGTTGACATC\n",
      "\n",
      ">>1B_0_11546_r1;size=19;*0\n",
      "TGCAGAGTAGAGCTCCGATAGACGTACTTGGCGTAGAGGGATGTGAGCATACGAATCGAT\n",
      "TCACCACTGTTCCAGCGTTAGATGACAGCCCGAC\n",
      ">>1B_0_11562_r1;size=1;+1\n",
      "TGCAGAGTAGAGCTCCGATAGACGTACTTGGCGTAGAGGGATGTGAGCATACGAATCGAT\n",
      "TCACCACTGTTCCAGCGTTTGATGACAGCCCGAC\n",
      "\n",
      ">>1B_0_11566_r1;size=15;*0\n",
      "TGCAGGTACTTCTTGTGCGTGGGTGAGCGCGCGAGCCTTGGGAAACCCATCCCTTATGAT\n",
      "GCCCGTGATGAATGGATCATCCATCTATTCAGGA\n",
      ">>1B_0_11580_r1;size=1;+1\n",
      "TGCAGGTACTTCTTGTGCGTGGGTGAGCGCGCGAGCCTTGGGAAACCCATCCCTTATGAT\n",
      "GCCCGTGATGAATGGATCAGCCATCTATTCAGGA\n",
      "\n",
      ">>1B_0_11599_r1;size=21;*0\n",
      "TGCAGTCGGACTTCTGGGAAATGCGGTCTGCGCCCATCGGACGCGAGCAAGTCAGCGTAG\n",
      "CGTCATTCCGCCGGATCACAGGCACACAGTCAGT\n",
      ">>1B_0_11604_r1;size=1;+1\n",
      "TGCAGTCTGACTTCTGGGAAATGCGGTCTGCGCCCATCGGACGCGAGCAAGTCAGCGTAG\n",
      "CGTCATTCCGCCGGATCACAGGCACACAGTCAGT\n",
      "\n",
      ">>1B_0_11649_r1;size=1;+1\n",
      "TGCAGGTTCGTTGGCTGCTCCTTGATCTTGCCGTCGGTGCCAATCGTCTTATGAAAACCT\n",
      "TAAAAGGCCCCGGGCCTTATAAAGTCCGCTTGAA\n",
      ">>1B_0_11659_r1;size=1;+2\n",
      "TGCAGGTTCGTTGGCTGCTCCTTGATCTTGCCGTCCGTGCCAATCGTCTTATGTAAACCT\n",
      "TAAAAGGCCCCGGGCCTTATAAAGTCCGCTTGAA\n",
      ">>1B_0_11641_r1;size=22;*0\n",
      "TGCAGGTTCGTTGGCTGCTCCTTGATCTTGCCGTCGGTGCCAATCGTCTTATGTAAACCT\n",
      "TAAAAGGCCCCGGGCCTTATAAAGTCCGCTTGAA\n",
      "\n",
      ">>1B_0_11671_r1;size=1;+1\n",
      "TGCAGGATCGATGCCCCTCACCTACTACTCGTAAGGGGGAGATTTGTGAGAAAATGGAGC\n",
      "TTCTATGGCTATGAGATGGCGGAGCCAGTTGTCC\n",
      ">>1B_0_11678_r1;size=1;+2\n",
      "TGCAGGATCGATGCCCCTCACCTACTACTCGTAAGGGGGAGATTTGTGAGAAAATGGAGC\n",
      "TTCTATGGCTATGAGGTCGCGGAGCCAGTTGTCC\n",
      ">>1B_0_11665_r1;size=18;*0\n",
      "TGCAGGATCGATGCCCCTCACCTACTACTCGTAAGGGGGAGATTTGTGAGAAAATGGAGC\n",
      "TTCTATGGCTATGAGATCGCGGAGCCAGTTGTCC\n",
      "\n",
      ">>1B_0_11691_r1;size=1;+1\n",
      "TGCAGTTCAAGGCCGGTGGCGTGCTAGGGGCGCTTCTAGCCCCTTAATCTAATCCGCGAC\n",
      "GCGTGAGGGTCCCGGTTAGTGAGGTTGGGTACAC\n",
      ">>1B_0_11693_r1;size=1;+2\n",
      "TGCAGTTCAAGGCCGGTGGCGTGCTAGGGGCGCTTCTAGCCCCTTAATCTAGTCCGCGAC\n",
      "GCGTAAGGGTCCCGGTTAGTGAGGTTGGGTACAC\n",
      ">>1B_0_11685_r1;size=14;*0\n",
      "TGCAGTTCAAGGCCGGTGGCGTGCTAGGGGCGCTTCTAGCCCCTTAATCTAGTCCGCGAC\n",
      "GCGTGAGGGTCCCGGTTAGTGAGGTTGGGTACAC\n",
      "\n",
      ">>1B_0_11704_r1;size=1;+1\n",
      "TGCAGTATATACCTCGGGCGAGCACATACCGTGCCGTAGCGACGAATCAGTTGATGCTAA\n",
      "AGTGTGAGATATCCGAACGGAGGTACTCAATCGT\n",
      ">>1B_0_11712_r1;size=1;+2\n",
      "TGCAGTATATACCTCGGGCGAGCACATACCGTGCCGTAGCGACGAATCAGTTGATGCTAA\n",
      "AGTGTGAGATATCGGAACGTAGGTACTCAATCGT\n",
      ">>1B_0_11701_r1;size=15;*0\n",
      "TGCAGTATATACCTCGGGCGAGCACATACCGTGCCGTAGCGACGAATCAGTTGATGCTAA\n",
      "AGTGTGAGATATCGGAACGGAGGTACTCAATCGT\n",
      "\n",
      ">>1B_0_11740_r1;size=1;+1\n",
      "TGCAGGGAGGGGCAATGTAGCTATCGAGCGTTATTTCCGGAAGTCCTCGAACGAGCTCAA\n",
      "TCGCTGAGGACTTAGTTGAGAAAGCATGCACCGC\n",
      ">>1B_0_11746_r1;size=1;+2\n",
      "TGCAGGGAGGGGCAATGTCGCTAGCGAGCGTTATTTCCGGAAGTCCTCGAACGAGCTCAA\n",
      "TCGCTGAGGACTTAGTTGAGAAAGCATGCACCGC\n",
      ">>1B_0_11755_r1;size=1;+3\n",
      "TGCAGGGAGGGGCAATGTAGCTAGCGAGCGTTATTTCCGGAAGTCCTCGAACGAGCTCAA\n",
      "TCGCTGAGGACTTAGTTAAGAAAGCATGCACCGC\n",
      ">>1B_0_11736_r1;size=19;*0\n",
      "TGCAGGGAGGGGCAATGTAGCTAGCGAGCGTTATTTCCGGAAGTCCTCGAACGAGCTCAA\n",
      "TCGCTGAGGACTTAGTTGAGAAAGCATGCACCGC\n",
      "\n",
      ">>1B_0_11758_r1;size=23;*0\n",
      "TGCAGAGTGAGGCCTATCGGTTCTTGTCTTCATGCCCAGTGCAACAGCAGCCAATACCTC\n",
      "GGAACAGGGCACAATACGGATGTTGCTGGTTTCA\n",
      ">>1B_0_11769_r1;size=1;+1\n",
      "TGCAGAGTGAGGCCGATCGGTTCTTGTCTTCATGCCCAGTGCGACAGCAGCCAATACCTC\n",
      "GGAACAGGGCACAATACGGATGTTGCTGGTTTCA\n",
      "\n",
      ">>1B_0_11810_r1;size=1;+1\n",
      "TGCAGAGTGCGAGAAGCTGTTGTAGAGGTTAGTGAGTTTTGCAAGACGTCCAGGTAGACG\n",
      "CTCTAGAAATTGCGATATGTCGGGAGCCGTGTGT\n",
      ">>1B_0_11804_r1;size=15;*0\n",
      "TGCAGAGTGCGAGAAGCTGTTGTAGAGATTAGTGAGTTTTGCAAGACGTCCAGGTAGACG\n",
      "CTCTAGAAATTGAGATATGTCGGGAGCCGTGTGT\n",
      ">>1B_0_11806_r1;size=1;+2\n",
      "TGCAGAGTGCGAGAAGCTGTTCTAGAGATTAGTGAGTTTTGCAAGACGTCCAGGTAGACG\n",
      "CTCTAGAAATTGAGATATGTCGGGAGCCGTGTGT\n",
      "\n",
      ">>1B_0_11833_r1;size=1;+1\n",
      "TGCAGTGTGGCACTCTAACCGATACATTATTATGGCCAGGTCGGTGCACTTGTCTGGTAC\n",
      "TTAGGCGCTTTCCGCGAAAGTTCCTGGTCAGGGA\n",
      ">>1B_0_11835_r1;size=9;+2\n",
      "TGCAGTGTGGCACTCTAACCGATACATTATTATGGCCAGGTCGGCGCACTGGTCTGGTAC\n",
      "TTAGGCGCTTTCCGCGAAAGTTCCTGGTCAGGGA\n",
      ">>1B_0_11821_r1;size=13;*0\n",
      "TGCAGTGTGGCACTCTAACCGATACATTATTATGGCCAGGTCGGTGCACTGGTCTGGTAC\n",
      "TTAGGCGCTTTCCGCGAAAGTTCCTGGTCAGGGA\n",
      "\n",
      ">>1B_0_11845_r1;size=1;+1\n",
      "TGCAGCGGAGTCTCTTGACACCCCACAACAATTTGATGACTGGGTGCTATTCACCAGTCG\n",
      "CGCGTGGATATGAAAGGGAAAAGCCCACGGGGTA\n",
      ">>1B_0_11851_r1;size=1;+2\n",
      "TGCAGCGGAGTCTCTTGACACCCCACAACACTTTGATGACTGGGTGCTATTCACCAGTCG\n",
      "CGCGTAGATATGAAAGGGAAAAGCCCACGGGGTA\n",
      ">>1B_0_11844_r1;size=21;*0\n",
      "TGCAGCGGAGTCTCTTGACACCCCACAACACTTTGATGACTGGGTGCTATTCACCAGTCG\n",
      "CGCGTGGATATGAAAGGGAAAAGCCCACGGGGTA\n",
      "\n",
      ">>1B_0_11876_r1;size=12;*0\n",
      "TGCAGCCAAAGGATCCACCCGTGGCAAAACTAATTGGAAAGTGACTTAGACTCCTTGTGT\n",
      "CTTGAAATCGCAGGGTGTATGCGCTAGGGACCTG\n",
      ">>1B_0_11867_r1;size=9;+1\n",
      "TGCAGCCAAAGGATCCACCCGTGGCAAAACTAATTGGAAAGTGACTTAGACTCCTTGTGT\n",
      "CTTGAAATCGCAGGGTGTATGCGCTAAGGACCTG\n",
      "\n",
      ">>1B_0_11907_r1;size=1;+1\n",
      "TGCAGAAAGCCTTGGAGCTGCTTAACGTGCTCGGGTCGACGCGTGGTTCATCACAAATCG\n",
      "TTGCCCGGTCGGTCGCCCTTGTGCAATGGAGCGC\n",
      ">>1B_0_11920_r1;size=1;+2\n",
      "TGCAGAAAGCCTTAGAGCTGCTTAACGTGCTCGGGTCGACGCGTGGTTCATCACAAATCG\n",
      "ATGCCCGGTCGGTCGCCCTTGTGCAATGGAGCGC\n",
      ">>1B_0_11908_r1;size=23;*0\n",
      "TGCAGAAAGCCTTGGAGCTGCTTAACGTGCTCGGGTCGACGCGTGGTTCATCACAAATCG\n",
      "ATGCCCGGTCGGTCGCCCTTGTGCAATGGAGCGC\n",
      "\n",
      ">>1B_0_11932_r1;size=16;*0\n",
      "TGCAGCGTATGGGCTCCCTAGTGAGTAACCATCATTATTACTATCTGTGTGGCCTCTGCG\n",
      "TACAAGCCATAAATGATGCGGCCGAGTCCAGATC\n",
      ">>1B_0_11946_r1;size=1;+1\n",
      "TGCAGCGTATGGGCTCCCTAGTGACTAACCATCATTATTACTATCTGTGTGGCCTCTGCG\n",
      "TACAAGCCATAAATGATGCGGCCGAGTCCAGATC\n",
      "\n",
      ">>1B_0_11969_r1;size=1;+1\n",
      "TGCAGTTCTCTGGACAGGTGAACGTCTTTATTATCGTCAAGCCGGGACTAGGGTGTCGGG\n",
      "ATCACGCGCGTCCGTGGCTGCAGCTCGGAGTTAT\n",
      ">>1B_0_11981_r1;size=1;+2\n",
      "TGCAGTTCTCTGGACAGGTGAACGTCTTTATTATCGTCAAGCCGGGACTAGGGTGTCGGG\n",
      "TTCACGCGCGTCCGTGGCTGCAGCTCGCAGTTAT\n",
      ">>1B_0_11970_r1;size=14;*0\n",
      "TGCAGTTCTCTGGACAGGTGAACGTCTTTATTATCGTCAAGCCGGGACTAGGGTGTCGGG\n",
      "ATCACGCGCGTCCGTGGCTGCAGCTCGCAGTTAT\n",
      "\n",
      ">>1B_0_11985_r1;size=22;*0\n",
      "TGCAGTTACAGAAGTCGCAAGGCCATACGCGACAAGGTCGGAAGAATATGCAACTGGCCC\n",
      "TGCTTGCAGCTATTGGCTGTACGATTCCAACAGC\n",
      ">>1B_0_11987_r1;size=1;+1\n",
      "TGCAGTTACAGAAGTCGCAAGGCCATACGCGACAAGGTCGGAAGAATATGCAACTGGCCC\n",
      "TGCTTGCAGCTATTGGCTGTAAGATTCCAACAGC\n",
      "\n",
      ">>1B_0_12018_r1;size=1;+1\n",
      "TGCAGTCGGAATTTAGGCGCGAAGGCATAGGACTGACCAAATTTGCCGTTCCACAGGATC\n",
      "AACTGAAGGCGTATATCCCCATAAGTCCTACGTC\n",
      ">>1B_0_12026_r1;size=1;+2\n",
      "TGCAGTCGGAATTTAGGCGCGAAGGCATAGGACTGACCAAATTTGCCGTTACACAGGATC\n",
      "AACTGAAGGAGTATATCCCCATAAGTCCTACGTC\n",
      ">>1B_0_12008_r1;size=20;*0\n",
      "TGCAGTCGGAATTTAGGCGCGAAGGCATAGGACTGACCAAATTTGCCGTTACACAGGATC\n",
      "AACTGAAGGCGTATATCCCCATAAGTCCTACGTC\n",
      "\n",
      ">>1B_0_12041_r1;size=1;+1\n",
      "TGCAGAAGGACGGTTTACGATTAATGTGGTTAGGCAGCTGACATCTAGAACACCGATAGC\n",
      "CAGTAAAATCTCAGGGGCTGATTGTCAAGGGAAC\n",
      ">>1B_0_12030_r1;size=16;*0\n",
      "TGCAGAAGGACGGTCTACGATTAATGTGGTTAGGCAGCTGACATCTAGAACACCGATAGC\n",
      "CAGAAAAATCTCAGGGGCTGATTGTCAAGGGAAC\n",
      ">>1B_0_12035_r1;size=1;+2\n",
      "TGCAGAAGGACGGTCTACGATTAATGTGGTTAGGGAGCTGACATCTAGAACACCGATAGC\n",
      "CAGAAAAATCTCAGGGGCTGATTGTCAAGGGAAC\n",
      "\n",
      ">>1B_0_12048_r1;size=18;*0\n",
      "TGCAGGATATTAGTCTAACGTGGCCACGTTGCTAATTTTTCCCAGATGTTCGTCCATCAC\n",
      "TTAAATAGAGCGTTTCAGAATTCTATGTTACGAA\n",
      ">>1B_0_12050_r1;size=1;+1\n",
      "TGCAGGATATTAGTCTAATGTGGCCACGTTGCTAATTTTTCCCAGATGTTCGTCCATCAC\n",
      "TTAAATAGAGCGTTTCAGAATTCTATGTTACGAA\n",
      "\n",
      ">>1B_0_12071_r1;size=1;+1\n",
      "TGCAGATCGTAATGTGCCCGCCTGGCGAGGCTTTTCCCCTGGGGAACTTCGATGGACATC\n",
      "GAACTGCTCCCCTCCACCCATGGGCGCGACGGGT\n",
      ">>1B_0_12076_r1;size=1;+2\n",
      "TGCAGATCTTAATGTGCCCGCCAGGCGAGGCTTTTCCCCTGGGGAACTTCGATGGACATC\n",
      "GAACTGCTCCCCTCCACCCATGGGCGCGACGGGT\n",
      ">>1B_0_12067_r1;size=15;*0\n",
      "TGCAGATCTTAATGTGCCCGCCTGGCGAGGCTTTTCCCCTGGGGAACTTCGATGGACATC\n",
      "GAACTGCTCCCCTCCACCCATGGGCGCGACGGGT\n",
      "\n",
      ">>1B_0_12094_r1;size=1;+3\n",
      "TGCAGAGGGTGAGACATTATGCTGCCTGTATAGCATTTGAGGCCGTTTAAGTGGGTCTCC\n",
      "CGTCCCGAGCCCCCCTAGCGATTCCACGGGTGGG\n",
      ">>1B_0_12091_r1;size=13;*0\n",
      "TGCAGAGGGTGAGTCATTATGCTGCCTGTATAGCATTTGAGGCCGTTTAAGTGGGTCTCC\n",
      "CGTCCCGAGCCCCCCTAGCGATTCCACGGGTGGG\n",
      ">>1B_0_12085_r1;size=1;+1\n",
      "TGCAGAGGGCGAGTCATTATGCTGCCTGTATAGCATTTGAGGCCTTTTAAGTGGGTCTCC\n",
      "CGTCCCGAGCCCCCCTAGCGATTCCACGGGTGGG\n",
      ">>1B_0_12084_r1;size=6;+2\n",
      "TGCAGAGGGTGAGTCATTATGCTGCCTGTATAGCATTTGAGGCCTTTTAAGTGGGTCTCC\n",
      "CGTCCCGAGCCCCCCTAGCGATTCCACGGGTGGG\n",
      "\n",
      ">>1B_0_12105_r1;size=19;*0\n",
      "TGCAGTTCAAGCAACTCAAAGTAACGCCATAGTCATTCATCAAGAAACCTCTACCGTTGG\n",
      "ATATGTAGTGAGGCTCCGGAAAAATTGGCGATCT\n",
      ">>1B_0_12106_r1;size=1;+1\n",
      "TGCAGTTCAAGCAACTCAAAGTAACGCCATAGTCATTCATCAAGAAACCTCTACCGTGGG\n",
      "ATATGTAGTGAGGCTCCGGAAAAATTGGCGATCT\n",
      "\n",
      ">>1B_0_12145_r1;size=21;*0\n",
      "TGCAGCAGTAAGGAAAAACAGAGTAAGTCGATAGTATTGACGACGTCTGCCTTGGTGGTT\n",
      "TACATCCAAGGGTCCGACTCACGCACTAAGCCGG\n",
      ">>1B_0_12163_r1;size=1;+1\n",
      "TGCAGCAGTAAGGAAAAACAGAGTAAGTCGATAGTATTGACGACGTCTGCCTTGGTGGTT\n",
      "TACATCCAAGGGTCCGACTCACGCACTATGCCGG\n",
      "\n",
      ">>1B_0_12169_r1;size=1;+1\n",
      "TGCAGAACGGAGCCTAAGGCTTAGCTTCGTTTATGCCATTAGCGTCGTAGAATATTTTAC\n",
      "TCAAGTTCATACCTGTGGAGAGAATGCCCTATTA\n",
      ">>1B_0_12171_r1;size=1;+2\n",
      "TGCAGAACGGAGCCTAAGGCTTAGCTTCGTTTATGCCATTAGCGTCCTAGAATATTTTCC\n",
      "CCAAGTTCATACCTGTGGAGAGAATGCCCTATTA\n",
      ">>1B_0_12182_r1;size=1;+3\n",
      "TGCAGAACGGAGCCTAAGGCTTAGCTTCGTCTATGCCATTAGCGTCCTAGAATATTTTCC\n",
      "TCAAGTTCATACCTGTGGAGAGAATGCCCTATTA\n",
      ">>1B_0_12187_r1;size=1;+4\n",
      "TGCAGAACGGAGCCTAAGGCTTAGCTTCGTTTATGCCATTAGCGTCTTAGAATATTTTCC\n",
      "TCAAGTTCATACCTGTGGAGAGAATGCCCTATTA\n",
      ">>1B_0_12167_r1;size=19;*0\n",
      "TGCAGAACGGAGCCTAAGGCTTAGCTTCGTTTATGCCATTAGCGTCCTAGAATATTTTCC\n",
      "TCAAGTTCATACCTGTGGAGAGAATGCCCTATTA\n",
      "\n",
      ">>1B_0_1226_r1;size=8;+2\n",
      "TGCAGATAGTCCACCTTGTCTTCATCGCTTTGCCCGAAGGTCTGGTACCGAACCCTAGTG\n",
      "GGGAGCTGTCACATATGCCAGTGCATAGTACTTT\n",
      ">>1B_0_1217_r1;size=1;+1\n",
      "TGCAGATAGTCCACCTTGTCTTCATCGCTTTGCCCGAAGGTCTGGTACCGAACCCTAGTG\n",
      "GGGAGCTGGCACATATGCCAGTGCATAGTAGTTT\n",
      ">>1B_0_1218_r1;size=8;*0\n",
      "TGCAGATAGTCCACCTTGTCTTCATCGCTTTGCCCGAAGGTCTGGTACCGAACCCTAGTG\n",
      "GGGAGCTGTCACATATGCCAGTGCATAGTAGTTT\n",
      "\n",
      ">>1B_0_12190_r1;size=16;*0\n",
      "TGCAGCCTCGGTATTAACTCTGCGTATGAATCTTGCGTCTATGTTTAAGCGTCGTAGACA\n",
      "GTTTACGTGAACCTAATGTACGTGTCCAGGGTAA\n",
      ">>1B_0_12206_r1;size=1;+1\n",
      "TGCAGCCTCGGTATTAACTCTGCGTATGAATCTTGCGTATATGTTTAAGCGTCGTAGACA\n",
      "GTTTACGTGAACCTAATGTACGTGTCCAGGGTAA\n",
      "\n",
      ">>1B_0_12207_r1;size=10;*0\n",
      "TGCAGATCGCAGTGCGTGAATGTCATTTTCCTTAGTGCCGGCCAAGCATTCTAAGCAGCG\n",
      "TAGTAAGCTTGCCATGGGGAGCGACATCCGAACG\n",
      ">>1B_0_12218_r1;size=1;+1\n",
      "TGCAGATCGCAGAGCGTGAATGTCATTTTCCTTAGTGCCGGCCAAGCATTCTAAGCAGCG\n",
      "TAGTAAGCTTGCCATGGGGAGCGGCATCCGAACG\n",
      ">>1B_0_12217_r1;size=9;+2\n",
      "TGCAGATCGCAGTGCGTGAATGTCATTTTCCTTAGTGCCGGCCAAGCATTCTAAGCAGCG\n",
      "TAGTAAGCTTGCCATGGGGAGCGGCATCCGAACG\n",
      "\n",
      ">>1B_0_12246_r1;size=19;*0\n",
      "TGCAGCGCTTCAGAACGCTGTGCAAGTCGCTGCACCTTAGTCAGTTTTTCGCAGGAATTA\n",
      "TCTCTAACTCCGCCCTACCCGTAAGCCGGTTGTC\n",
      ">>1B_0_12265_r1;size=1;+2\n",
      "TGCAGCGCTTCAGAACGCTGTGCAAGTCGCTGCACCTTAGTCAGTTTTTCGCAGGAATTA\n",
      "TCTCTAACTCCGCCCTACCCGTAAGCCGGTCGTC\n",
      ">>1B_0_12258_r1;size=1;+1\n",
      "TGCAGCGCTTCAGAACGCTGTGCAAGTCGCTGCACCTTAGTCAGTTTTTCGCAGGAATTA\n",
      "TCTCTAACTCCGCCCTACCCGTAAGCCGTTTGTC\n",
      "\n",
      ">>1B_0_12267_r1;size=24;*0\n",
      "TGCAGGCTTATTATCAGTCCAATTGCAGCTTTGTAGTACGTATCCGGGGAGTAATGATTG\n",
      "GATTATGAATGCGGATGCACATGTTGCCTGGACT\n",
      ">>1B_0_12290_r1;size=1;+1\n",
      "TGCAGGCTTATTATCAGTCCAATTGCAGCTTTGTAGTACGTATCCGGGGAGTAATGATTG\n",
      "GATTATTAATGCGGATGCACATGTTGCCTGGACT\n",
      "\n",
      ">>1B_0_12292_r1;size=18;*0\n",
      "TGCAGGTGTCGCACACGTCAGTCTGTTGTAAAACTACCGAAACTTAACTGTTTAGTAGTC\n",
      "CATAGCCTGTAGAGAGGTGGCCATTGGTATGGTT\n",
      ">>1B_0_12299_r1;size=1;+1\n",
      "TGCAGGTGTCGCACACGTCAGTCTGTTGTAAAACTACCGAAACTTAACTGTTTAGTAGTC\n",
      "CATAGCCTGTAGAGAGGTGGCCATTGGTATGATT\n",
      "\n",
      ">>1B_0_12332_r1;size=1;+4\n",
      "TGCAGAACAAAAGACTTGCGTGCTCGCCCAGTCTCGGAGACATGGGCACCAGAACCAGAT\n",
      "AACGGCCAGGACACTCGAGCCACTACAATTATGT\n",
      ">>1B_0_12317_r1;size=1;+1\n",
      "TGCAGAACAAAAGACTTGCGTGCTCGCCCAGTCTCGGAGACATGGGCACGAGAACCAGAT\n",
      "AACGGCCAGGACACTCGAGCCACTACAATAATGT\n",
      ">>1B_0_12318_r1;size=1;+2\n",
      "TGCAGAACAAAAGACATGCGTGCTCGCCCAGTCTCGGAGACATGGGCACCAGAACCAGAT\n",
      "AACGGCCAGGACACTCGAGCCACTACAATAATGT\n",
      ">>1B_0_12322_r1;size=1;+3\n",
      "TGCAGAACAAAAGACTTGCGTGCTCGCCCAGTCTCGGAGACATGGGCACCGGAACCAGAT\n",
      "AACGGCCAGGACACTCGAGCCACTACAATAATGT\n",
      ">>1B_0_12311_r1;size=18;*0\n",
      "TGCAGAACAAAAGACTTGCGTGCTCGCCCAGTCTCGGAGACATGGGCACCAGAACCAGAT\n",
      "AACGGCCAGGACACTCGAGCCACTACAATAATGT\n",
      "\n",
      ">>1B_0_12333_r1;size=21;*0\n",
      "TGCAGGGTTGTGGTTTGAGGTATAACGCTGTGATGCGATCATGGGCTCTCTTAATAGTAA\n",
      "CAACGACTTAGCCCCGATCGAACATCACAGATCC\n",
      ">>1B_0_12335_r1;size=1;+1\n",
      "TGCAGGGTTGTGGTTTGAGGTATATCGCTGTGATGCGATCATGGGCTCTCTTAATAGTAA\n",
      "CAACGACTTAGCCCCGATCGAACATCACAGATCC\n",
      "\n",
      ">>1B_0_1240_r1;size=1;+1\n",
      "TGCAGGTCTGTCGATCAGGCCAATAATATGTAACCCGTCGAAGCATCAGACACCCAAACA\n",
      "CGCTGGGAACTGAAACTCGATACTCAAAGCCTCG\n",
      ">>1B_0_1242_r1;size=1;+2\n",
      "TGCAGGTCTGTCGAACAGGCCAATAATATGGAACCCGTCGAAGCATCAGACACCCAAACA\n",
      "CGCTGGGAACTGAAACTCGATACTCAAAGCCTCG\n",
      ">>1B_0_1234_r1;size=18;*0\n",
      "TGCAGGTCTGTCGAACAGGCCAATAATATGTAACCCGTCGAAGCATCAGACACCCAAACA\n",
      "CGCTGGGAACTGAAACTCGATACTCAAAGCCTCG\n",
      "\n",
      ">>1B_0_12355_r1;size=19;*0\n",
      "TGCAGACAGGTACTGCGAGTATGCTTCAGTGATCGCAAGGTTATGGGAACAGTCCTGCTT\n",
      "TACTGCAGAGGAGAGGAGTAAAACAAGCCCTTTT\n",
      ">>1B_0_12374_r1;size=1;+1\n",
      "TGCAGACAGGTACTGCGAGTATGCTTCAGTGCTCGCAAGGTTATGGGAACAGTCCTGCTT\n",
      "TACTGCAGAGGAGAGGAGTAAAACAAGCCCTTTT\n",
      "\n",
      ">>1B_0_12384_r1;size=13;*0\n",
      "TGCAGGCTTCTTAGGTTAATCCACTGCCTTACATAGATACAAATCGCACGAGGTATGAGA\n",
      "CTGTTATCCATCAAGCAATCGTAAGAGGTTCCAG\n",
      ">>1B_0_12382_r1;size=1;+1\n",
      "TGCAGGCTTCTTAGGTTAATCCACTGCGTTACATAGATACAAATCGCACGAGGTATGAGA\n",
      "CTGTTATCCATCAAGCAATCGTAAGATGTTCCAG\n",
      ">>1B_0_12375_r1;size=8;+2\n",
      "TGCAGGCTTCTTAGGTTAATCCACTGCGTTACATAGATACAAATCGCACGAGGTATGAGA\n",
      "CTGTTATCCATCAAGCAATCGTAAGAGGTTCCAG\n",
      "\n"
     ]
    }
   ],
   "source": [
    "## a counter for discarded clusters due to poor alignment\n",
    "highindels = 0\n",
    "\n",
    "## iterate over clusters and align\n",
    "for clust in clusts:\n",
    "    stack = []\n",
    "    lines = clust.split(\"\\n\")\n",
    "    names = lines[::2]\n",
    "    seqs = lines[1::2]\n",
    "    badalign = 0\n",
    "\n",
    "    ## append counter to end of names b/c muscle doesn't retain order\n",
    "    names = [nam+str(idx) for idx, nam in enumerate(names)]\n",
    "    if len(seqs) == 1:\n",
    "        print names, seqs\n",
    "        stack = [\"{}\\n{}\".format(names[0], seqs[0])]\n",
    "    else:\n",
    "        string1 = ip.assemble.cluster_within.muscle_call(data, names[:200], seqs[:200])\n",
    "        anames, aseqs = ip.assemble.cluster_within.parsemuscle(data, string1)\n",
    "        print string1\n",
    "        \n",
    "        "
   ]
  },
  {
   "cell_type": "code",
   "execution_count": null,
   "metadata": {
    "collapsed": true
   },
   "outputs": [],
   "source": []
  },
  {
   "cell_type": "markdown",
   "metadata": {},
   "source": [
    "### Cluster across "
   ]
  },
  {
   "cell_type": "code",
   "execution_count": 4,
   "metadata": {
    "collapsed": false
   },
   "outputs": [
    {
     "ename": "StopIteration",
     "evalue": "",
     "output_type": "error",
     "traceback": [
      "\u001b[0;31m---------------------------------------------------------------------------\u001b[0m",
      "\u001b[0;31mStopIteration\u001b[0m                             Traceback (most recent call last)",
      "\u001b[0;32m<ipython-input-4-c2e550aff21e>\u001b[0m in \u001b[0;36m<module>\u001b[0;34m()\u001b[0m\n\u001b[1;32m     51\u001b[0m \u001b[0;34m\u001b[0m\u001b[0m\n\u001b[1;32m     52\u001b[0m \u001b[0;34m\u001b[0m\u001b[0m\n\u001b[0;32m---> 53\u001b[0;31m \u001b[0mchunk\u001b[0m \u001b[0;34m=\u001b[0m \u001b[0;34m[\u001b[0m\u001b[0midat\u001b[0m\u001b[0;34m.\u001b[0m\u001b[0mnext\u001b[0m\u001b[0;34m(\u001b[0m\u001b[0;34m)\u001b[0m\u001b[0;34m]\u001b[0m\u001b[0;34m\u001b[0m\u001b[0m\n\u001b[0m\u001b[1;32m     54\u001b[0m \u001b[0;32mwhile\u001b[0m \u001b[0;32mnot\u001b[0m \u001b[0mdone\u001b[0m\u001b[0;34m:\u001b[0m\u001b[0;34m\u001b[0m\u001b[0m\n\u001b[1;32m     55\u001b[0m     \u001b[0;31m## grab 2-lines until they become shorter (unless there's only one)\u001b[0m\u001b[0;34m\u001b[0m\u001b[0;34m\u001b[0m\u001b[0m\n",
      "\u001b[0;31mStopIteration\u001b[0m: "
     ]
    }
   ],
   "source": [
    "samples = [sample1, sample2, sample3]\n",
    "randomseed = 43245\n",
    "\n",
    "conshandles = [os.path.join(data.dirs.consens, sample.name+\".consens.gz\") \\\n",
    "               for sample in samples if \\\n",
    "               sample.stats.reads_consens]\n",
    "\n",
    "## concatenat gzip files\n",
    "cmd = ['cat'] + conshandles\n",
    "allcons = os.path.join(data.dirs.consens, data.name+\"_catcons.tmp\")\n",
    "#LOGGER.debug(\" \".join(cmd))\n",
    "with open(allcons, 'w') as output:\n",
    "    call = subprocess.Popen(cmd, stdout=output)\n",
    "    call.communicate()\n",
    "\n",
    "subs = [\"/>/!s/W/A/g\", \"/>/!s/w/A/g\", \"/>/!s/R/A/g\", \"/>/!s/r/A/g\", \n",
    "        \"/>/!s/M/A/g\", \"/>/!s/m/A/g\", \"/>/!s/K/T/g\", \"/>/!s/k/T/g\", \n",
    "        \"/>/!s/S/C/g\", \"/>/!s/s/C/g\", \"/>/!s/Y/C/g\", \"/>/!s/y/C/g\"]\n",
    "subs = \";\".join(subs)\n",
    "\n",
    "\n",
    "cmd1 = [\"gunzip\", \"-c\", allcons]\n",
    "cmd2 = [\"sed\", subs]\n",
    "#LOGGER.debug(\" \".join(cmd1))\n",
    "#proc1 = subprocess.Popen(cmd1, stdout=subprocess.PIPE)\n",
    "#proc2 = subprocess.Popen(cmd2, stdin=proc1.stdout, stdout=subprocess.PIPE)\n",
    "proc1 = subprocess.Popen(cmd1, stdout=subprocess.PIPE)\n",
    "allhaps = allcons.replace(\"_catcons.tmp\", \"_cathaps.tmp\")\n",
    "with open(allhaps, 'w') as output:\n",
    "    #LOGGER.debug(\" \".join(cmd2))\n",
    "    proc2 = subprocess.Popen(cmd2, stdin=proc1.stdout, stdout=output) \n",
    "    proc2.communicate()\n",
    "proc1.stdout.close()\n",
    "\n",
    "\n",
    "## now sort the file using vsearch\n",
    "allsort = allcons.replace(\"_catcons.tmp\", \"_catsort.tmp\")  \n",
    "cmd1 = [ip.bins.vsearch, \n",
    "        \"--sortbylength\", allhaps, \n",
    "        \"--fasta_width\", \"0\", \n",
    "        \"--output\", allsort]\n",
    "#LOGGER.debug(\" \".join(cmd1))\n",
    "proc1 = subprocess.Popen(cmd1)\n",
    "proc1.communicate()\n",
    "\n",
    "random.seed(randomseed)\n",
    "\n",
    "allshuf = allcons.replace(\"_catcons.tmp\", \"_catshuf.tmp\")      \n",
    "outdat = open(allshuf, 'w')\n",
    "indat = open(allsort, 'r')\n",
    "idat = itertools.izip(iter(indat), iter(indat))\n",
    "done = 0\n",
    "\n",
    "\n",
    "chunk = [idat.next()]\n",
    "while not done:\n",
    "    ## grab 2-lines until they become shorter (unless there's only one)\n",
    "    oldlen = len(chunk[-1][-1])\n",
    "\n",
    "    while 1:\n",
    "        try:\n",
    "            dat = idat.next()\n",
    "        except StopIteration:\n",
    "            done = 1\n",
    "            break\n",
    "        if len(dat[-1]) == oldlen:\n",
    "            chunk.append(dat)\n",
    "        else:\n",
    "            ## send the last chunk off to be processed\n",
    "            random.shuffle(chunk)\n",
    "            outdat.write(\"\".join(itertools.chain(*chunk)))\n",
    "            ## start new chunk\n",
    "            chunk = [dat]\n",
    "            break\n",
    "            \n",
    "random.shuffle(chunk)    \n",
    "outdat.write(\"\".join(itertools.chain(*chunk)))\n",
    "\n",
    "indat.close()\n",
    "outdat.close()\n",
    "\n",
    "#! head -n 20 $allshuf\n",
    "\n"
   ]
  },
  {
   "cell_type": "code",
   "execution_count": 95,
   "metadata": {
    "collapsed": false
   },
   "outputs": [
    {
     "name": "stdout",
     "output_type": "stream",
     "text": [
      "  [####################] 100%  clustering across     | 0:00:00 \n"
     ]
    }
   ],
   "source": [
    "cathaplos = os.path.join(data.dirs.consens, data.name+\"_catshuf.tmp\")\n",
    "uhaplos = os.path.join(data.dirs.consens, data.name+\".utemp\")\n",
    "hhaplos = os.path.join(data.dirs.consens, data.name+\".htemp\")\n",
    "logfile = os.path.join(data.dirs.consens, \"s6_cluster_stats.txt\")\n",
    "\n",
    "\n",
    "noreverse = 0\n",
    "\n",
    "strand = \"plus\"\n",
    "cov = \".90\"\n",
    "if data.paramsdict[\"datatype\"] == \"gbs\":\n",
    "    strand = \"both\"\n",
    "    cov = \".60\"\n",
    "elif data.paramsdict[\"datatype\"] == \"pairgbs\":\n",
    "    strand = \"both\"\n",
    "    cov = \".90\"\n",
    "    \n",
    "cmd = [ip.bins.vsearch, \n",
    "       \"-cluster_smallmem\", cathaplos, \n",
    "       \"-strand\", strand, \n",
    "       \"-query_cov\", cov, \n",
    "       \"-id\", str(data.paramsdict[\"clust_threshold\"]), \n",
    "       \"-userout\", uhaplos, \n",
    "       \"-notmatched\", hhaplos, \n",
    "       \"-userfields\", \"query+target+qstrand\", \n",
    "       \"-maxaccepts\", \"1\", \n",
    "       \"-maxrejects\", \"0\", \n",
    "       \"-minsl\", \"0.5\", \n",
    "       \"-fasta_width\", \"0\", \n",
    "       \"-threads\", \"0\", \n",
    "       \"-fulldp\", \n",
    "       \"-usersort\", \n",
    "       \"-log\", logfile]\n",
    "\n",
    "\n",
    "## override reverse clustering option\n",
    "if noreverse:\n",
    "    strand = \"plus\"  # -leftjust \"\n",
    "    print(noreverse, \"not performing reverse complement clustering\")\n",
    "\n",
    "try:\n",
    "    #LOGGER.info(cmd)\n",
    "    start = time.time()\n",
    "\n",
    "    (dog, owner) = pty.openpty()\n",
    "    proc = subprocess.Popen(cmd, stdout=owner, stderr=owner, \n",
    "                                 close_fds=True)\n",
    "    done = 0\n",
    "    while 1:\n",
    "        dat = os.read(dog, 80192)\n",
    "        if \"Clustering\" in dat:\n",
    "            try:\n",
    "                done = int(dat.split()[-1][:-1])\n",
    "            ## may raise value error when it gets to the end\n",
    "            except ValueError:\n",
    "                pass\n",
    "        ## break if done\n",
    "        ## catches end chunk of printing if clustering went really fast\n",
    "        elif \"Clusters:\" in dat:\n",
    "            #LOGGER.info(\"ended vsearch tracking loop\")\n",
    "            break\n",
    "        else:\n",
    "            time.sleep(0.1)\n",
    "        ## print progress\n",
    "        elapsed = datetime.timedelta(seconds=int(time.time()-start))\n",
    "        progressbar(100, done, \n",
    "            \" clustering across     | {}\".format(elapsed))\n",
    "\n",
    "    ## another catcher to let vsearch cleanup after clustering is done\n",
    "    proc.wait()\n",
    "    elapsed = datetime.timedelta(seconds=int(time.time()-start))\n",
    "    progressbar(100, 100, \n",
    "                \" clustering across     | {}\".format(elapsed))\n",
    "\n",
    "except subprocess.CalledProcessError as inst:\n",
    "    raise IPyradWarningExit(\"\"\"\n",
    "    Error in vsearch: \\n{}\\n{}\"\"\".format(inst, subprocess.STDOUT))\n",
    "\n",
    "finally:\n",
    "    ## progress bar\n",
    "    elapsed = datetime.timedelta(seconds=int(time.time()-start))\n",
    "    progressbar(100, 100, \" clustering across     | {}\".format(elapsed))\n",
    "    #if data._headers:\n",
    "    print(\"\")\n",
    "    data.stats_files.s6 = logfile\n",
    "    ## cleanup processes\n",
    "    del proc, dog, owner\n",
    "    \n"
   ]
  },
  {
   "cell_type": "code",
   "execution_count": 100,
   "metadata": {
    "collapsed": false
   },
   "outputs": [
    {
     "data": {
      "text/plain": [
       "'/home/deren/Documents/ipyrad/bin/vsearch-linux-x86_64 -cluster_smallmem /home/deren/Documents/ipyrad/tests/cli/cli_consens/cli_catshuf.tmp -strand plus -query_cov .90 -id 0.85 -userout /home/deren/Documents/ipyrad/tests/cli/cli_consens/cli.utemp -notmatched /home/deren/Documents/ipyrad/tests/cli/cli_consens/cli.htemp -userfields query+target+qstrand -maxaccepts 1 -maxrejects 0 -minsl 0.5 -fasta_width 0 -threads 0 -fulldp -usersort -log /home/deren/Documents/ipyrad/tests/cli/cli_consens/s6_cluster_stats.txt'"
      ]
     },
     "execution_count": 100,
     "metadata": {},
     "output_type": "execute_result"
    }
   ],
   "source": [
    "\" \".join(cmd)"
   ]
  },
  {
   "cell_type": "code",
   "execution_count": 92,
   "metadata": {
    "collapsed": true
   },
   "outputs": [],
   "source": [
    "import ipyparallel as ipp\n",
    "ipyclient = ipp.Client()\n",
    "lbview = ipyclient.load_balanced_view()\n"
   ]
  },
  {
   "cell_type": "code",
   "execution_count": 93,
   "metadata": {
    "collapsed": false
   },
   "outputs": [
    {
     "name": "stdout",
     "output_type": "stream",
     "text": [
      "  [#                   ]   5%  building clusters     | 0:00:05 1B_0_177\t1A_0_1\t+\n",
      "1B_0_90\t1A_0_106\t+\n",
      "1C_0_189\t1A_0_121\t+\n",
      "1B_0_105\t1A_0_133\t+\n",
      "1B_0_103\t1A_0_144\t+\n",
      "1B_0_70\t1A_0_15\t+\n",
      "1C_0_127\t1A_0_15\t+\n",
      "1B_0_202\t1A_0_152\t+\n",
      "1C_0_74\t1A_0_173\t+\n",
      "1B_0_2\t1A_0_179\t+\n"
     ]
    }
   ],
   "source": [
    "uhandle = os.path.join(data.dirs.consens, data.name+\".utemp\")\n",
    "usort = os.path.join(data.dirs.consens, data.name+\".utemp.sort\")\n",
    "cmd = [\"sort\", \"-k\", \"2\", uhandle, \"-o\", usort]\n",
    "async = lbview.apply(subprocess.Popen, cmd)\n",
    "while not async.ready():    \n",
    "    elapsed = datetime.timedelta(seconds=int(time.time()-start))\n",
    "    progressbar(20, 1, \" building clusters     | {}\".format(elapsed)) \n",
    "    \n",
    "! head $usort"
   ]
  },
  {
   "cell_type": "code",
   "execution_count": 86,
   "metadata": {
    "collapsed": false
   },
   "outputs": [
    {
     "data": {
      "text/plain": [
       "(None, None)"
      ]
     },
     "execution_count": 86,
     "metadata": {},
     "output_type": "execute_result"
    }
   ],
   "source": [
    "p1 = subprocess.Popen(cmd)\n",
    "p1.communicate()"
   ]
  },
  {
   "cell_type": "code",
   "execution_count": 20,
   "metadata": {
    "collapsed": false
   },
   "outputs": [
    {
     "name": "stdout",
     "output_type": "stream",
     "text": [
      "[u'catgs', u'duplicates', u'indels', u'nalleles', u'seqs', u'splits']\n",
      "[False False False False False False False False False False]\n"
     ]
    },
    {
     "data": {
      "text/plain": [
       "2"
      ]
     },
     "execution_count": 20,
     "metadata": {},
     "output_type": "execute_result"
    }
   ],
   "source": [
    "io5 = h5py.File(data.clust_database)\n",
    "print io5.keys()\n",
    "\n",
    "## why is there a duplicate in the CLI data set?\n",
    "print io5[\"duplicates\"][:10]\n",
    "io5[\"duplicates\"][:].sum()\n",
    "\n",
    "\n",
    "#io5[\"nalleles\"][:]\n",
    "#io5[\"indels\"][:]\n"
   ]
  },
  {
   "cell_type": "code",
   "execution_count": 2,
   "metadata": {
    "collapsed": false
   },
   "outputs": [],
   "source": [
    "new_h5 = h5py.File(\"test.hdf5\", 'w')\n",
    "nloci = 1000\n",
    "maxlen = 150\n",
    "\n",
    "icatg = new_h5.create_dataset('test', (nloci, maxlen, 4), \n",
    "                              dtype=np.uint32)"
   ]
  },
  {
   "cell_type": "code",
   "execution_count": 23,
   "metadata": {
    "collapsed": false
   },
   "outputs": [
    {
     "data": {
      "text/plain": [
       "array([[ 0,  0, 17,  0],\n",
       "       [ 0,  0,  0, 17],\n",
       "       [17,  0,  0,  0],\n",
       "       [ 0, 17,  0,  0],\n",
       "       [ 0,  0,  0, 17],\n",
       "       [ 0,  0,  0, 17],\n",
       "       [10,  0,  0,  7],\n",
       "       [ 0,  0, 17,  0],\n",
       "       [ 0, 17,  0,  0],\n",
       "       [ 0,  0, 17,  0],\n",
       "       [ 0,  0,  0,  0],\n",
       "       [ 0,  0,  0,  0],\n",
       "       [ 0,  0,  0,  0],\n",
       "       [ 0,  0,  0,  0],\n",
       "       [ 0,  0,  0,  0],\n",
       "       [ 0,  0,  0,  0],\n",
       "       [ 0,  0,  0,  0],\n",
       "       [ 0,  0,  0,  0],\n",
       "       [ 0,  0,  0,  0],\n",
       "       [ 0,  0,  0,  0]], dtype=uint32)"
      ]
     },
     "execution_count": 23,
     "metadata": {},
     "output_type": "execute_result"
    }
   ],
   "source": [
    "icatg[2, :20]"
   ]
  },
  {
   "cell_type": "markdown",
   "metadata": {},
   "source": [
    "#### LOad the old one"
   ]
  },
  {
   "cell_type": "code",
   "execution_count": 4,
   "metadata": {
    "collapsed": false
   },
   "outputs": [],
   "source": [
    "old_h5 = h5py.File(sample1.files.database, 'r')\n",
    "catarr1 = old_h5[\"catg\"][:]\n",
    "\n",
    "old_h5 = h5py.File(sample2.files.database, 'r')\n",
    "catarr2 = old_h5[\"catg\"]"
   ]
  },
  {
   "cell_type": "code",
   "execution_count": 42,
   "metadata": {
    "collapsed": false
   },
   "outputs": [
    {
     "data": {
      "text/plain": [
       "array([[ 0,  0, 20,  0],\n",
       "       [ 0,  0,  0, 20],\n",
       "       [20,  0,  0,  0],\n",
       "       [ 0, 20,  0,  0],\n",
       "       [ 0,  0,  0, 20],\n",
       "       [ 0,  0,  0, 20],\n",
       "       [20,  0,  0,  0],\n",
       "       [ 0, 20,  0,  0],\n",
       "       [ 0, 20,  0,  0],\n",
       "       [ 0,  0,  0, 20]], dtype=uint32)"
      ]
     },
     "execution_count": 42,
     "metadata": {},
     "output_type": "execute_result"
    }
   ],
   "source": [
    "icatg[1, :10] = catarr1[7, :10]\n",
    "icatg[1, :10]"
   ]
  },
  {
   "cell_type": "code",
   "execution_count": 10,
   "metadata": {
    "collapsed": false
   },
   "outputs": [
    {
     "data": {
      "text/plain": [
       "array([[[ 0,  0, 28,  0],\n",
       "        [ 0,  0,  0, 28],\n",
       "        [28,  0,  0,  0],\n",
       "        [ 0, 28,  0,  0],\n",
       "        [ 0,  0,  0, 28],\n",
       "        [ 0,  0, 28,  0],\n",
       "        [ 0, 28,  0,  0],\n",
       "        [ 0,  0, 28,  0],\n",
       "        [ 0,  0, 28,  0],\n",
       "        [ 0,  0,  0, 28]],\n",
       "\n",
       "       [[ 0,  0, 14,  0],\n",
       "        [ 0,  0,  0, 14],\n",
       "        [14,  0,  0,  0],\n",
       "        [ 0, 14,  0,  0],\n",
       "        [ 0,  0,  0, 14],\n",
       "        [ 0,  0, 14,  0],\n",
       "        [ 0,  0,  0, 14],\n",
       "        [14,  0,  0,  0],\n",
       "        [14,  0,  0,  0],\n",
       "        [ 0,  0, 14,  0]],\n",
       "\n",
       "       [[ 0,  0, 20,  0],\n",
       "        [ 0,  0,  0, 20],\n",
       "        [20,  0,  0,  0],\n",
       "        [ 0, 20,  0,  0],\n",
       "        [ 0,  0,  0, 20],\n",
       "        [ 0,  0,  0, 20],\n",
       "        [ 0, 20,  0,  0],\n",
       "        [ 0,  0,  0, 20],\n",
       "        [ 0,  0, 20,  0],\n",
       "        [ 0, 20,  0,  0]]], dtype=uint32)"
      ]
     },
     "execution_count": 10,
     "metadata": {},
     "output_type": "execute_result"
    }
   ],
   "source": [
    "catarr1[[0, 100, 200], :10]"
   ]
  },
  {
   "cell_type": "code",
   "execution_count": 11,
   "metadata": {
    "collapsed": false
   },
   "outputs": [
    {
     "name": "stdout",
     "output_type": "stream",
     "text": [
      "              0         1  2     3    4\n",
      "0      2G_0_274  1D_0_479  +  2G_0  274\n",
      "1      2G_0_977  1C_0_225  +  2G_0  977\n",
      "2      2E_0_651  1C_0_225  +  2E_0  651\n",
      "3      1D_0_182  2E_0_879  +  1D_0  182\n",
      "4      2G_0_304  3L_0_688  +  2G_0  304\n",
      "5      3J_0_165  2G_0_368  +  3J_0  165\n",
      "6      1A_0_755  2G_0_378  +  1A_0  755\n",
      "7      1D_0_712  2H_0_805  +  1D_0  712\n",
      "8      1D_0_510  2F_0_863  +  1D_0  510\n",
      "9      3K_0_641  2F_0_659  +  3K_0  641\n",
      "10     1D_0_782  3J_0_439  +  1D_0  782\n",
      "11     1C_0_834  3K_0_556  +  1C_0  834\n",
      "12     1A_0_203   3K_0_21  +  1A_0  203\n",
      "13     1D_0_261  1C_0_577  +  1D_0  261\n",
      "14     2F_0_543  3K_0_612  +  2F_0  543\n",
      "15     2E_0_266   3K_0_51  +  2E_0  266\n",
      "16     1B_0_868  3I_0_162  +  1B_0  868\n",
      "17     3K_0_910  2H_0_782  +  3K_0  910\n",
      "18     2E_0_656  2G_0_523  +  2E_0  656\n",
      "19     1D_0_413  3J_0_397  +  1D_0  413\n",
      "20     1A_0_318  3I_0_253  +  1A_0  318\n",
      "21     2F_0_503  3L_0_592  +  2F_0  503\n",
      "22     2E_0_846  1B_0_631  +  2E_0  846\n",
      "23     1D_0_794  1C_0_225  +  1D_0  794\n",
      "24     3I_0_644  1C_0_678  +  3I_0  644\n",
      "25     2E_0_898  3K_0_354  +  2E_0  898\n",
      "26     3K_0_851  1C_0_166  +  3K_0  851\n",
      "27     2G_0_707  3L_0_914  +  2G_0  707\n",
      "28     2E_0_460  3I_0_773  +  2E_0  460\n",
      "29     3I_0_857  3J_0_635  +  3I_0  857\n",
      "...         ...       ... ..   ...  ...\n",
      "10925  1A_0_696  3J_0_758  +  1A_0  696\n",
      "10926  2F_0_257  1D_0_862  +  2F_0  257\n",
      "10927  2H_0_832  1B_0_600  +  2H_0  832\n",
      "10928  1B_0_697  2F_0_732  +  1B_0  697\n",
      "10929  1B_0_353   3K_0_36  +  1B_0  353\n",
      "10930  3J_0_989  2F_0_971  +  3J_0  989\n",
      "10931  2F_0_244  2H_0_624  +  2F_0  244\n",
      "10932  1A_0_274  3J_0_934  +  1A_0  274\n",
      "10933  3L_0_409  2G_0_894  +  3L_0  409\n",
      "10934  2H_0_972  1D_0_633  +  2H_0  972\n",
      "10935  1C_0_447  1D_0_577  +  1C_0  447\n",
      "10936  2H_0_898  3J_0_397  +  2H_0  898\n",
      "10937  2E_0_546  3K_0_195  +  2E_0  546\n",
      "10938  3I_0_901  3L_0_892  +  3I_0  901\n",
      "10939  1B_0_156  2H_0_410  +  1B_0  156\n",
      "10940  2H_0_281  3K_0_631  +  2H_0  281\n",
      "10941  3L_0_391  3J_0_934  +  3L_0  391\n",
      "10942  1D_0_123  1A_0_721  +  1D_0  123\n",
      "10943   1D_0_79  3L_0_869  +  1D_0   79\n",
      "10944  3L_0_476  2H_0_784  +  3L_0  476\n",
      "10945  3I_0_152  2H_0_108  +  3I_0  152\n",
      "10946  2H_0_201  1C_0_713  +  2H_0  201\n",
      "10947  2E_0_190  3L_0_692  +  2E_0  190\n",
      "10948  1A_0_717  1B_0_123  +  1A_0  717\n",
      "10949  2H_0_413  1B_0_211  +  2H_0  413\n",
      "10950  2E_0_917  1C_0_463  +  2E_0  917\n",
      "10951  3K_0_588  3L_0_666  +  3K_0  588\n",
      "10952  2G_0_310  2H_0_460  +  2G_0  310\n",
      "10953  3L_0_487   1C_0_27  +  3L_0  487\n",
      "10954  2F_0_147  2E_0_376  +  2F_0  147\n",
      "\n",
      "[10955 rows x 5 columns]\n"
     ]
    }
   ],
   "source": [
    "uhandle = os.path.join(data.dirs.consens, data.name+\".utemp\")\n",
    "updf = pd.read_table(uhandle, header=None)\n",
    "updf.loc[:, 3] = [i.rsplit(\"_\", 1)[0] for i in updf[0]]\n",
    "## create a column with only consens index\n",
    "updf.loc[:, 4] = [i.rsplit(\"_\", 1)[1] for i in updf[0]]\n",
    "print updf"
   ]
  },
  {
   "cell_type": "code",
   "execution_count": 39,
   "metadata": {
    "collapsed": false,
    "scrolled": true
   },
   "outputs": [
    {
     "name": "stdout",
     "output_type": "stream",
     "text": [
      "0 82 820 98\n"
     ]
    }
   ],
   "source": [
    "f = 0\n",
    "n = 0\n",
    "h = 0\n",
    "s = 0\n",
    "\n",
    "udic = updf.groupby(by=1, sort=False)\n",
    "for iloc, seed in enumerate(udic.groups.keys()):\n",
    "    ipdf = udic.get_group(seed)\n",
    "    #print iloc, seed, ipdf\n",
    "    ask = ipdf.where(ipdf[3] == sample1.name).dropna()\n",
    "    if ask.shape[0] == 1:\n",
    "        #print iloc, int(ask[4])\n",
    "        y = catarr1[int(ask[4]), :10]\n",
    "        if np.any(y):\n",
    "            h += 1\n",
    "            icatg[iloc, :10] = y\n",
    "        else:\n",
    "            s += 1\n",
    "        \n",
    "    elif ask.shape[0] > 1:\n",
    "        f += 1\n",
    "        #print(\"FILTER-------------\")\n",
    "    else:\n",
    "        n += 1\n",
    "        #print(\"no hit-----------------------------------\")\n",
    "        \n",
    "print f, n, h, s"
   ]
  },
  {
   "cell_type": "code",
   "execution_count": 40,
   "metadata": {
    "collapsed": false
   },
   "outputs": [
    {
     "data": {
      "text/plain": [
       "1000"
      ]
     },
     "execution_count": 40,
     "metadata": {},
     "output_type": "execute_result"
    }
   ],
   "source": [
    "822 + 80 + 98"
   ]
  },
  {
   "cell_type": "code",
   "execution_count": 48,
   "metadata": {
    "collapsed": false
   },
   "outputs": [
    {
     "data": {
      "text/plain": [
       "array([[ 0,  0, 18,  0],\n",
       "       [ 0,  0,  0, 18],\n",
       "       [18,  0,  0,  0],\n",
       "       [ 0, 18,  0,  0],\n",
       "       [ 0,  0,  0, 18],\n",
       "       [ 0, 18,  0,  0],\n",
       "       [ 0,  0,  0, 18],\n",
       "       [ 0,  0,  0, 18],\n",
       "       [ 0, 18,  0,  0],\n",
       "       [ 0, 18,  0,  0]], dtype=uint32)"
      ]
     },
     "execution_count": 48,
     "metadata": {},
     "output_type": "execute_result"
    }
   ],
   "source": [
    "icatg[600, :10]"
   ]
  },
  {
   "cell_type": "markdown",
   "metadata": {},
   "source": [
    "### data hdf5"
   ]
  },
  {
   "cell_type": "code",
   "execution_count": 57,
   "metadata": {
    "collapsed": false
   },
   "outputs": [
    {
     "name": "stdout",
     "output_type": "stream",
     "text": [
      "  loading Assembly: data1 [test_rad/data1.assembly]\n"
     ]
    },
    {
     "data": {
      "text/plain": [
       "[u'catgs', u'edges', u'filters', u'seqs']"
      ]
     },
     "execution_count": 57,
     "metadata": {},
     "output_type": "execute_result"
    }
   ],
   "source": [
    "data = ip.load.load_assembly(\"test_rad/data1.assembly\")\n",
    "io5 = h5py.File(data.database, 'r')\n",
    "io5.keys()"
   ]
  },
  {
   "cell_type": "code",
   "execution_count": 59,
   "metadata": {
    "collapsed": false
   },
   "outputs": [
    {
     "data": {
      "text/plain": [
       "array([[0, 0, 0, 0],\n",
       "       [0, 0, 0, 0],\n",
       "       [0, 0, 0, 0],\n",
       "       [0, 0, 0, 0],\n",
       "       [0, 0, 0, 0],\n",
       "       [0, 0, 0, 0],\n",
       "       [0, 0, 0, 0],\n",
       "       [0, 0, 0, 0],\n",
       "       [0, 0, 0, 0],\n",
       "       [0, 0, 0, 0]], dtype=uint32)"
      ]
     },
     "execution_count": 59,
     "metadata": {},
     "output_type": "execute_result"
    }
   ],
   "source": [
    "io5['catgs'][1, 0, :10]"
   ]
  },
  {
   "cell_type": "markdown",
   "metadata": {},
   "source": [
    "### Check it out"
   ]
  },
  {
   "cell_type": "code",
   "execution_count": 1,
   "metadata": {
    "collapsed": false
   },
   "outputs": [
    {
     "name": "stdout",
     "output_type": "stream",
     "text": [
      "  loading Assembly: data1 [test_rad/data1.assembly]\n",
      "  loading Assembly: test_pairgbs [test_pairgbs/test_pairgbs.assembly]\n"
     ]
    }
   ],
   "source": [
    "import ipyrad as ip\n",
    "import h5py\n",
    "import numpy as np\n",
    "\n",
    "data1 = ip.load.load_assembly(\"test_rad/data1.assembly\")\n",
    "data2 = ip.load.load_assembly(\"test_pairgbs/test_pairgbs.assembly\")\n"
   ]
  },
  {
   "cell_type": "code",
   "execution_count": 20,
   "metadata": {
    "collapsed": false
   },
   "outputs": [
    {
     "name": "stdout",
     "output_type": "stream",
     "text": [
      "[u'catgs', u'edges', u'filters', u'seqs']\n",
      "set([])\n",
      "catg\n",
      "[[[[ 0  0 20  0]\n",
      "   [ 0  0  0 20]\n",
      "   [20  0  0  0]\n",
      "   [ 0 20  0  0]\n",
      "   [ 0  0  0 20]\n",
      "   [20  0  0  0]\n",
      "   [ 0  0  0 20]\n",
      "   [20  0  0  0]\n",
      "   [ 0  0 20  0]\n",
      "   [ 0 20  0  0]]\n",
      "\n",
      "  [[ 0  0 20  0]\n",
      "   [ 0  0  0 20]\n",
      "   [20  0  0  0]\n",
      "   [ 0 20  0  0]\n",
      "   [ 0  0  0 20]\n",
      "   [19  0  0  1]\n",
      "   [ 0  0  0 20]\n",
      "   [20  0  0  0]\n",
      "   [ 0  0 20  0]\n",
      "   [ 0 20  0  0]]\n",
      "\n",
      "  [[ 0  0 20  0]\n",
      "   [ 0  0  0 20]\n",
      "   [20  0  0  0]\n",
      "   [ 0 20  0  0]\n",
      "   [ 0  0  0 20]\n",
      "   [ 0  0  0 20]\n",
      "   [ 0  0 20  0]\n",
      "   [ 0  0  0 20]\n",
      "   [ 0  0 20  0]\n",
      "   [ 0  0  0 20]]]\n",
      "\n",
      "\n",
      " [[[ 0  0 20  0]\n",
      "   [ 0  0  0 20]\n",
      "   [20  0  0  0]\n",
      "   [ 0 20  0  0]\n",
      "   [ 0  0  0 20]\n",
      "   [ 0  0  0 20]\n",
      "   [ 0  0 20  0]\n",
      "   [ 0 20  0  0]\n",
      "   [ 0  0 20  0]\n",
      "   [ 0  0 20  0]]\n",
      "\n",
      "  [[ 0  0 20  0]\n",
      "   [ 0  0  0 20]\n",
      "   [20  0  0  0]\n",
      "   [ 0 20  0  0]\n",
      "   [ 0  0  0 20]\n",
      "   [ 0  0  0 20]\n",
      "   [ 0  0 20  0]\n",
      "   [ 0 20  0  0]\n",
      "   [ 0  0 20  0]\n",
      "   [ 0  0 20  0]]\n",
      "\n",
      "  [[ 0  0 20  0]\n",
      "   [ 0  0  0 20]\n",
      "   [20  0  0  0]\n",
      "   [ 0 20  0  0]\n",
      "   [ 0  0  0 20]\n",
      "   [ 0  0  0 20]\n",
      "   [ 0  0 20  0]\n",
      "   [ 0 20  0  0]\n",
      "   [ 0  0 20  0]\n",
      "   [ 0  0 20  0]]]]\n",
      "edge\n",
      "[[0 0 0 0]\n",
      " [0 0 0 0]]\n",
      "filt\n",
      "[[False False False False]\n",
      " [False False False False]]\n",
      "seqs\n",
      "[[['T' 'G' 'C' ..., '' '' '']\n",
      "  ['T' 'G' 'C' ..., '' '' '']\n",
      "  ['T' 'G' 'C' ..., '' '' '']\n",
      "  ..., \n",
      "  ['T' 'G' 'C' ..., '' '' '']\n",
      "  ['T' 'G' 'C' ..., '' '' '']\n",
      "  ['T' 'G' 'C' ..., '' '' '']]\n",
      "\n",
      " [['T' 'G' 'C' ..., '' '' '']\n",
      "  ['T' 'G' 'C' ..., '' '' '']\n",
      "  ['T' 'G' 'C' ..., '' '' '']\n",
      "  ..., \n",
      "  ['T' 'G' 'C' ..., '' '' '']\n",
      "  ['T' 'G' 'C' ..., '' '' '']\n",
      "  ['T' 'G' 'C' ..., '' '' '']]]\n"
     ]
    }
   ],
   "source": [
    "with h5py.File(data2.database, 'r') as inh5:\n",
    "    print inh5.keys()\n",
    "    newset = set(inh5['seqs'].attrs['samples'])\n",
    "    print newset.difference(newset)\n",
    "    \n",
    "    catg = inh5['catgs'][:]\n",
    "    edges = inh5['edges'][:]\n",
    "    filters = inh5['filters'][:]\n",
    "    seqs = inh5['seqs'][:]\n",
    "    \n",
    "    print 'catg\\n', catg[[0, 100], 0:3, :10, :]\n",
    "    print 'edge\\n', edges[[0, 100],]\n",
    "    print 'filt\\n', filters[[0, 100], ]\n",
    "    print 'seqs\\n', seqs[[0, 100],]\n",
    "    \n",
    "    "
   ]
  },
  {
   "cell_type": "code",
   "execution_count": 6,
   "metadata": {
    "collapsed": false
   },
   "outputs": [
    {
     "name": "stdout",
     "output_type": "stream",
     "text": [
      "(200, 12, 300)\n",
      "[[['T' 'G' 'C' ..., '' '' '']\n",
      "  ['T' 'G' 'C' ..., '' '' '']\n",
      "  ['T' 'G' 'C' ..., '' '' '']\n",
      "  ..., \n",
      "  ['T' 'G' 'C' ..., '' '' '']\n",
      "  ['T' 'G' 'C' ..., '' '' '']\n",
      "  ['T' 'G' 'C' ..., '' '' '']]\n",
      "\n",
      " [['T' 'G' 'C' ..., '' '' '']\n",
      "  ['T' 'G' 'C' ..., '' '' '']\n",
      "  ['T' 'G' 'C' ..., '' '' '']\n",
      "  ..., \n",
      "  ['T' 'G' 'C' ..., '' '' '']\n",
      "  ['T' 'G' 'C' ..., '' '' '']\n",
      "  ['T' 'G' 'C' ..., '' '' '']]\n",
      "\n",
      " [['T' 'G' 'C' ..., '' '' '']\n",
      "  ['T' 'G' 'C' ..., '' '' '']\n",
      "  ['T' 'G' 'C' ..., '' '' '']\n",
      "  ..., \n",
      "  ['T' 'G' 'C' ..., '' '' '']\n",
      "  ['T' 'G' 'C' ..., '' '' '']\n",
      "  ['T' 'G' 'C' ..., '' '' '']]\n",
      "\n",
      " ..., \n",
      " [['T' 'G' 'C' ..., '' '' '']\n",
      "  ['T' 'G' 'C' ..., '' '' '']\n",
      "  ['T' 'G' 'C' ..., '' '' '']\n",
      "  ..., \n",
      "  ['T' 'G' 'C' ..., '' '' '']\n",
      "  ['T' 'G' 'C' ..., '' '' '']\n",
      "  ['T' 'G' 'C' ..., '' '' '']]\n",
      "\n",
      " [['T' 'G' 'C' ..., '' '' '']\n",
      "  ['T' 'G' 'C' ..., '' '' '']\n",
      "  ['T' 'G' 'C' ..., '' '' '']\n",
      "  ..., \n",
      "  ['T' 'G' 'C' ..., '' '' '']\n",
      "  ['T' 'G' 'C' ..., '' '' '']\n",
      "  ['T' 'G' 'C' ..., '' '' '']]\n",
      "\n",
      " [['T' 'G' 'C' ..., '' '' '']\n",
      "  ['T' 'G' 'C' ..., '' '' '']\n",
      "  ['T' 'G' 'C' ..., '' '' '']\n",
      "  ..., \n",
      "  ['T' 'G' 'C' ..., '' '' '']\n",
      "  ['T' 'G' 'C' ..., '' '' '']\n",
      "  ['T' 'G' 'C' ..., '' '' '']]]\n"
     ]
    }
   ],
   "source": [
    "print seqs.shape\n",
    "print seqs"
   ]
  },
  {
   "cell_type": "markdown",
   "metadata": {},
   "source": [
    "### superseq testing"
   ]
  },
  {
   "cell_type": "code",
   "execution_count": 11,
   "metadata": {
    "collapsed": false
   },
   "outputs": [],
   "source": [
    "import ipyrad as ip\n",
    "import numpy as np\n",
    "import h5py"
   ]
  },
  {
   "cell_type": "code",
   "execution_count": 5,
   "metadata": {
    "collapsed": false
   },
   "outputs": [
    {
     "name": "stdout",
     "output_type": "stream",
     "text": [
      "  loading Assembly: test_pairgbs [test_pairgbs/test_pairgbs.assembly]\n"
     ]
    }
   ],
   "source": [
    "#data1 = ip.load.load_assembly(\"cli/cli.assembly\")\n",
    "data1 = ip.load.load_assembly(\"test_pairgbs/test_pairgbs.assembly\")\n"
   ]
  },
  {
   "cell_type": "code",
   "execution_count": 6,
   "metadata": {
    "collapsed": false
   },
   "outputs": [
    {
     "data": {
      "text/plain": [
       "[u'catgs', u'edges', u'filters', u'seqs']"
      ]
     },
     "execution_count": 6,
     "metadata": {},
     "output_type": "execute_result"
    }
   ],
   "source": [
    "io5 = h5py.File(data1.database, 'r')\n",
    "io5.keys()"
   ]
  },
  {
   "cell_type": "code",
   "execution_count": 27,
   "metadata": {
    "collapsed": false
   },
   "outputs": [
    {
     "data": {
      "text/plain": [
       "array([0, 0, 0, 0, 0, 0, 0, 0, 0, 0, 0, 0, 0, 0, 0, 0, 0, 0, 0, 0, 0, 0, 0,\n",
       "       0, 0, 0, 0, 0, 0, 0, 0, 0, 0, 0, 0, 0, 0, 0, 0, 0, 0, 0, 0, 0, 0, 0,\n",
       "       0, 0, 0, 0, 0, 0, 0, 0, 0, 0, 0, 0, 0, 0, 0, 0, 0, 0, 0, 0, 0, 0, 0,\n",
       "       0, 0, 0, 0, 0, 0, 0, 0, 0, 0, 0, 0, 0, 0, 0, 0, 0, 0, 0, 0, 0, 0, 0,\n",
       "       0, 0, 0, 0, 0, 0, 0, 0, 0, 0, 0, 0, 0, 0, 0, 0, 0, 0, 0, 0, 0, 0, 0,\n",
       "       0, 0, 0, 0, 0, 0, 0, 0, 0, 0, 0, 0, 0, 0, 0, 0, 0, 0, 0, 0, 0, 0, 0,\n",
       "       0, 0, 0, 0, 0, 0, 0, 0, 0, 0, 0, 0, 0, 0, 0, 0, 0, 0, 0, 0, 0, 0, 0,\n",
       "       0, 0, 0, 0, 0, 0, 0, 0, 0, 0, 0, 0, 0, 0, 0, 0, 0, 0, 0, 0, 0, 0, 0,\n",
       "       0, 0, 0, 0, 0, 0, 0, 0, 0, 0, 0, 0, 0, 0, 0, 0])"
      ]
     },
     "execution_count": 27,
     "metadata": {},
     "output_type": "execute_result"
    }
   ],
   "source": [
    "io5['filters'][:].sum(axis=1)"
   ]
  },
  {
   "cell_type": "code",
   "execution_count": 32,
   "metadata": {
    "collapsed": false
   },
   "outputs": [],
   "source": [
    "seqs = io5[\"seqs\"][:100,]\n",
    "\n",
    "np.save(\"size1\", np.array([list(i) for i in seqs[0]]))\n",
    "np.save(\"size2\", seqs[0])"
   ]
  },
  {
   "cell_type": "code",
   "execution_count": 38,
   "metadata": {
    "collapsed": false
   },
   "outputs": [],
   "source": [
    "np.save('size1', np.array(100*[np.array([list(i) for i in seqs[0]])]))\n",
    "np.save('size2', np.array(100*[seqs[0]]))"
   ]
  },
  {
   "cell_type": "code",
   "execution_count": 67,
   "metadata": {
    "collapsed": false
   },
   "outputs": [
    {
     "name": "stdout",
     "output_type": "stream",
     "text": [
      "(5,)\n",
      "(5,)\n"
     ]
    }
   ],
   "source": [
    "fill = np.zeros((12, 100), dtype=\"|S1\")\n",
    "seqs = np.array([list(\"apple\"), list(\"banan\")])\n",
    "fill[0, :seqs[0].shape[0]] = seqs[0]\n",
    "\n",
    "for seq in seqs:\n",
    "    print seq.shape"
   ]
  },
  {
   "cell_type": "code",
   "execution_count": 15,
   "metadata": {
    "collapsed": false
   },
   "outputs": [
    {
     "name": "stdout",
     "output_type": "stream",
     "text": [
      "[ 'TGCAGGGTCGATCTTGGGACCCACTCTCGGGGATCCCTAGGCTAGACCATAGGGTTATCCGCACTCTGTCCAGTACAAGTGCATCCACGCACGCnnnnTGCAGGGCGATTACACTCCCTTATTTTCTTTAGGKACGAATCTACCCGGGCCCGGTTGATCGAGGATCGAACAAGCAGCCACAACTACGGCCAC'\n",
      " 'TGCAGGGTCGATCTTGGGACCCACTCTCGGGGATCCCTAGGCTAGACCATAGGGTTATCCGCACTCTGTCCAGTACAAGTGCATCCACGCACGCnnnnTGCAGGGCGATTACACTCCCTTATTTTCTTTAGGGACGAATCTACCCGGGCCCGGTTGATCGAGGATCGAACAAGCAGCCACAACTACGGCCAC'\n",
      " 'TGCAGGGTCGATCTTGGGACCCACTCTCGGGGATCCCTAGGCTAGACCATAGGGTTATCCGCACTCTGTCCAGTACAAGTGCATCCACGCACGCnnnnTGCAGGGCGATTACACTCCCTTATTTTCTTTAGGGACGAATCTACCCGGGCCCGGTTGATCGAGGATCGAACAAGCAGCCACAACTACGGCCAC'\n",
      " 'TGCAGGGTCGATCTTGGGACCCACTCTCGGGGATCCCTAGGCTAGACCATAGGGTTATCCGCACTCTGTCCAGTACAAGTGCATCCACGCACGCnnnnTGCAGGGCGATTACACTCCCTTATTTTCTTTAGGGACGAATCTACCCGGGCCCGGTTGATCGAGGATCGAACAAGCAGCCACAACTACGGCCAC'\n",
      " 'TGCAGGGTCGATCTTGGGACCCACTCTCGGGGATCCCTAGGCTAGACCATAGGGTTATCCGCACTCTGTCCAGTACAAGTGCATCCACGCACGCnnnnTGCAGGGCGATTACACTCCCTTATTTTCTTTAGGGACGAATCTACCCGGGCCCGGTTGATCGAGGATCGAACAAGCAGCCACAACTACGGCCAC'\n",
      " 'TGCAGGGTCGATCTTGGGACCCACTCTCGGGGATCCCTAGGCTAGACCATAGGGTTATCCGCACTCTGTCCAGTACAAGTGCATCCACGCACGCnnnnTGCAGGGCGATTACACTCCCTTATTTTCTTTAGGGACGAATCTACCCGGGCCCGGTTGATCGAGGATCGAACAAGCAGCCACAACTACGGCCAC'\n",
      " 'TGCAGGGTCGATCTTGGGACCCACTCTCGGGGATCCCTAGGCTAGACCATAGGGTTATCCGCACTCTGTCCAGTACAAGTGCATCCACGCACGCnnnnTGCAGGGCGATTACACTCCCTTATTTTCTTTAGGGACGAATCTACCCGGGCCCGGTTGATCGAGGATCGAACAAGCAGCCACAACTACGGCCAC'\n",
      " 'TGCAGGGTCGATCTTGGGACCCACTCTCGGGGATCCCTAGGCTAGACCATAGGGTTATCCGCACTCTGTCCAGTACAAGTGCATCCACGCACGCnnnnTGCAGGGCGATTACACTCCCTTATTTTCTTTAGGGACGAATCTACCCGGGCCCGGTTGATCGAGGATCGAACAAGCAGCCACAACTACGGCCAC'\n",
      " 'TGCAGGGTCGATCTTGGGACCCACTCTCGGGGAYCCCTAGGCTAGACCATAGGGTTATCCGCACTCTGTCCAGTACAAGTGCATCCACGCACGCnnnnTGCAGGGCGATTACACTCCCTTATTTTCTTTAGGGACGAATCTACCCGCGCCCGGTTGATCGAGGATCGAACAAGCAGCCACAACTACGGCCAC'\n",
      " 'TGCAGGGTCGATCTTGGGACCCACTCTCGGGGATCCCTAGGCTAGACCATAGGGTTATCCGCACTCTGTCCAGTACAAGTGCATCCACGCACGCnnnnTGCAGGGCGATTACACTCCCTTATTTTCTTTAGGGACGAATCTACCCGCGCCCGGTTGATCGAGGATCGAACAAGCAGCCACAACTACGGCCAC'\n",
      " 'TGCAGGGTCGATCTTGGGACCCACTCYCGGGGATCCCTAGGCTAGACCATAGGGTTATCCGCACTCTGTCCAGTACAAGTGCATCCACGCACGCnnnnTGCAGGGCGATTACACTCCCTTAKTTTCTTTAGGGACGAATCTACCCGCGCCCGGTTGATCGAGGATCGAACAAGCAGCCACAACTACGGCCRC'\n",
      " 'TGCAGGGTCGATCTTGGTACCCACTCTCGGGGATCCCTAGGCTAGACCATAGGGTTATCCGCACTCTGTCCAGTACAAGTGCATCCACGCACGCnnnnTGCAGGGCGATTACACTCCCTTATTTTCTTTAGGGACGAATCTACCCGCGCCCGGTTGATCGAGSATCGAACAAGCAGCCACAACTACGGCCAC']\n"
     ]
    }
   ],
   "source": [
    "seqs = io5['seqs'][:]\n",
    "print np.array(seqs[0])"
   ]
  },
  {
   "cell_type": "code",
   "execution_count": 12,
   "metadata": {
    "collapsed": false
   },
   "outputs": [
    {
     "name": "stdout",
     "output_type": "stream",
     "text": [
      "[0, 1, 2]\n"
     ]
    }
   ],
   "source": [
    "x = range(5)\n",
    "x.remove(3)\n",
    "x.remove(4)\n",
    "print x"
   ]
  },
  {
   "cell_type": "code",
   "execution_count": 6,
   "metadata": {
    "collapsed": false
   },
   "outputs": [
    {
     "data": {
      "text/plain": [
       "{'1B_0',\n",
       " '1C_0',\n",
       " '1D_0',\n",
       " '2E_0',\n",
       " '2F_0',\n",
       " '2G_0',\n",
       " '2H_0',\n",
       " '3I_0',\n",
       " '3J_0',\n",
       " '3K_0',\n",
       " '3L_0'}"
      ]
     },
     "execution_count": 6,
     "metadata": {},
     "output_type": "execute_result"
    }
   ],
   "source": [
    "set(data1.samples.keys()).difference(set([\"1A_0\"]))"
   ]
  },
  {
   "cell_type": "code",
   "execution_count": 20,
   "metadata": {
    "collapsed": false
   },
   "outputs": [
    {
     "ename": "ValueError",
     "evalue": "'2H_1' is not in list",
     "output_type": "error",
     "traceback": [
      "\u001b[1;31m---------------------------------------------------------------------------\u001b[0m",
      "\u001b[1;31mValueError\u001b[0m                                Traceback (most recent call last)",
      "\u001b[1;32m<ipython-input-20-73998aa9e10e>\u001b[0m in \u001b[0;36m<module>\u001b[1;34m()\u001b[0m\n\u001b[1;32m----> 1\u001b[1;33m \u001b[0mdata1\u001b[0m\u001b[1;33m.\u001b[0m\u001b[0msamples\u001b[0m\u001b[1;33m.\u001b[0m\u001b[0mkeys\u001b[0m\u001b[1;33m(\u001b[0m\u001b[1;33m)\u001b[0m\u001b[1;33m.\u001b[0m\u001b[0mindex\u001b[0m\u001b[1;33m(\u001b[0m\u001b[1;34m\"2H_1\"\u001b[0m\u001b[1;33m)\u001b[0m\u001b[1;33m\u001b[0m\u001b[0m\n\u001b[0m",
      "\u001b[1;31mValueError\u001b[0m: '2H_1' is not in list"
     ]
    }
   ],
   "source": [
    "data1.samples.keys().index(\"2H_1\")"
   ]
  }
 ],
 "metadata": {
  "kernelspec": {
   "display_name": "Python 2",
   "language": "python",
   "name": "python2"
  },
  "language_info": {
   "codemirror_mode": {
    "name": "ipython",
    "version": 2
   },
   "file_extension": ".py",
   "mimetype": "text/x-python",
   "name": "python",
   "nbconvert_exporter": "python",
   "pygments_lexer": "ipython2",
   "version": "2.7.11"
  }
 },
 "nbformat": 4,
 "nbformat_minor": 0
}
