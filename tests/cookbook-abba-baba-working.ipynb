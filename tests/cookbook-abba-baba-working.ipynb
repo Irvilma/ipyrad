{
 "cells": [
  {
   "cell_type": "markdown",
   "metadata": {
    "collapsed": true,
    "deletable": true,
    "editable": true
   },
   "source": [
    "## (&#x1F4D7;) Cookbook: abba-baba introgression stats\n",
    "\n",
    "The `ipyrad.analysis` Python module includes functions to calculate abba-baba admixture statistics, as well as several variants of these measures, and to perform signifance tests. The code in this notebook is all Python, which you can copy/paste into an IPython terminal to execute, or, preferably, run in a Jupyter notebook like this one. See the other analysis cookbooks for [instructions](http://ipyrad.readthedocs.io/analysis.html) on using Jupyter notebooks. All of the software required for this tutorial is installed with `ipyrad`. "
   ]
  },
  {
   "cell_type": "code",
   "execution_count": 1,
   "metadata": {
    "collapsed": false,
    "deletable": true,
    "editable": true
   },
   "outputs": [],
   "source": [
    "## start by loading several Python libraries\n",
    "import ipyrad.analysis.baba as baba\n",
    "import ipyrad as ip\n",
    "import ipyparallel as ipp\n",
    "\n",
    "## optional\n",
    "import numpy as np\n",
    "import pandas as pd"
   ]
  },
  {
   "cell_type": "markdown",
   "metadata": {
    "deletable": true,
    "editable": true
   },
   "source": [
    "### Connect to `ipyparallel` cluster\n",
    "This requres that you start an `ipcluster` instance running in a separate terminal. See the ipyparallel docs, or [our tutorial on using ipyparallel]() for more details on how to properly set this up. If you do not have an `ipcluster` instance running this will raise a TimeoutError after a few seconds. \n"
   ]
  },
  {
   "cell_type": "code",
   "execution_count": 2,
   "metadata": {
    "collapsed": false,
    "deletable": true,
    "editable": true
   },
   "outputs": [
    {
     "name": "stdout",
     "output_type": "stream",
     "text": [
      "  host compute node: [4 cores] on oud\n"
     ]
    }
   ],
   "source": [
    "## connect to ipcluster instance \n",
    "ipyclient = ipp.Client()\n",
    "\n",
    "## print info about your connection\n",
    "print ip.cluster_info(ipyclient)"
   ]
  },
  {
   "cell_type": "markdown",
   "metadata": {
    "collapsed": true,
    "deletable": true,
    "editable": true
   },
   "source": [
    "### Load a finished assembly\n",
    "Here we don't do much with the Assembly object other than access the location of the .loci file from it. It could be useful, however, in other ways such as providing access to Sample names (in the .samples attribute) or to the mapping of Sample names to Populations (in the .populations attribute). "
   ]
  },
  {
   "cell_type": "code",
   "execution_count": 4,
   "metadata": {
    "collapsed": false,
    "deletable": true,
    "editable": true
   },
   "outputs": [
    {
     "name": "stdout",
     "output_type": "stream",
     "text": [
      "  loading Assembly: cli\n",
      "  from saved path: ~/Documents/ipyrad/tests/cli/cli.json\n"
     ]
    }
   ],
   "source": [
    "## use the load command to get all stats and file paths\n",
    "data = ip.load_json(\"cli/cli.json\")\n",
    "\n",
    "## loci input file\n",
    "locifile = data.outfiles.loci"
   ]
  },
  {
   "cell_type": "markdown",
   "metadata": {
    "deletable": true,
    "editable": true
   },
   "source": [
    "### Create input arguments for abba-baba test"
   ]
  },
  {
   "cell_type": "code",
   "execution_count": 5,
   "metadata": {
    "collapsed": true,
    "deletable": true,
    "editable": true
   },
   "outputs": [],
   "source": [
    "## a dictionary with [required] key names \n",
    "## optional: additional 'p5' key for 5-taxon tests.\n",
    "test = {\n",
    "    'p4': [\"3L_0\", \"3J_0\", \"3K_0\"], \n",
    "    'p3': [\"2E_0\", \"2F_0\"],\n",
    "    'p2': [\"1D_0\"],\n",
    "    'p1': [\"1A_0\", \"1B_0\", \"1C_0\"],\n",
    "}\n",
    "\n",
    "## optional: dict for min samples per taxon (default=1 per tax)\n",
    "## used to filter loci for inclusion in data set\n",
    "mindict = {\n",
    "    'p4': 2,\n",
    "    'p3': 2,\n",
    "    'p2': 1, \n",
    "    'p1': 2,\n",
    "}"
   ]
  },
  {
   "cell_type": "markdown",
   "metadata": {
    "deletable": true,
    "editable": true
   },
   "source": [
    "### Run a single test\n",
    "This calculates the D-statistic across 1000 bootstrap replicates in which `nloci` are resampled with replacement. The number of loci (`nloci`) is often a subset of the total number of loci, since only loci with data for at least one Sample in all four lineages can be used in the test. If multiple Samples are listed for a taxon (e.g., \"P1\"), then only one needs to contain data, by default, to have sufficient sampling. However, the argument `mindict` can be used to set a higher minimum coverage. If a integer is entered then that value will be the minimum coverage for all lineages, or a dictionary can be entered with different values for each lineage. "
   ]
  },
  {
   "cell_type": "markdown",
   "metadata": {
    "deletable": true,
    "editable": true
   },
   "source": [
    "TODO: return nloci"
   ]
  },
  {
   "cell_type": "code",
   "execution_count": 6,
   "metadata": {
    "collapsed": false,
    "deletable": true,
    "editable": true
   },
   "outputs": [
    {
     "name": "stdout",
     "output_type": "stream",
     "text": [
      "mindict=1\n",
      "                  0\n",
      "dstat     -0.017878\n",
      "bootmean  -0.022677\n",
      "bootstd    0.220283\n",
      "abba      11.444444\n",
      "baba      11.861111\n",
      "Z          0.102944\n",
      "\n",
      "mindict={'p4':2, 'p3':2, 'p2':1, 'p1':2}\n",
      "                  0\n",
      "dstat     -0.017878\n",
      "bootmean  -0.022741\n",
      "bootstd    0.224333\n",
      "abba      11.444444\n",
      "baba      11.861111\n",
      "Z          0.101373\n"
     ]
    }
   ],
   "source": [
    "## run with default mindict=1\n",
    "stats, boots = baba.baba(handle, test, mindict=1, nboots=1000)\n",
    "print \"mindict=1\\n\", stats\n",
    "\n",
    "## run with default mindict=1\n",
    "stats, boots = baba.baba(handle, test, mindict=mindict, nboots=1000)\n",
    "print \"\\nmindict={'p4':2, 'p3':2, 'p2':1, 'p1':2}\\n\", stats"
   ]
  },
  {
   "cell_type": "markdown",
   "metadata": {
    "deletable": true,
    "editable": true
   },
   "source": [
    "### Run many tests in batch-mode"
   ]
  },
  {
   "cell_type": "code",
   "execution_count": 7,
   "metadata": {
    "collapsed": false,
    "deletable": true,
    "editable": true
   },
   "outputs": [
    {
     "name": "stdout",
     "output_type": "stream",
     "text": [
      "  [####################] 100%  calculating D-stats  | 0:00:01 |  \n",
      "\n",
      "      dstat  bootmean   bootstd       ABBA       BABA         Z\n",
      "0 -0.017878 -0.016872  0.214390  11.444444  11.861111  0.078697\n",
      "1 -0.017878 -0.024173  0.223176  11.444444  11.861111  0.108314\n",
      "2 -0.017878 -0.026983  0.223939  11.444444  11.861111  0.120494\n",
      "3 -0.017878 -0.009503  0.204265  11.444444  11.861111  0.046525\n"
     ]
    }
   ],
   "source": [
    "## multiple tests are entered as a list of dictionaries\n",
    "tests = [test, test, test, test]\n",
    "\n",
    "## the last argument is the ipcluster client\n",
    "stats, boots = baba.batch(handle, tests, mindict, 1000, ipyclient)\n",
    "print stats"
   ]
  },
  {
   "cell_type": "markdown",
   "metadata": {
    "deletable": true,
    "editable": true
   },
   "source": [
    "## Simulation scenario of 12 taxon tree\n",
    "\n",
    "Simulated data on a 12 taxon tree. Big split: (A,B,C,D) ((E,F,G,H),(I,J,K,L)). Gene flow occurs from IJ -> H, and from C->B. \n",
    "\n"
   ]
  },
  {
   "cell_type": "code",
   "execution_count": 12,
   "metadata": {
    "collapsed": true,
    "deletable": true,
    "editable": true
   },
   "outputs": [],
   "source": [
    "import msprime as ms\n",
    "import ete3 as ete\n",
    "tree = baba.Tree()"
   ]
  },
  {
   "cell_type": "code",
   "execution_count": 13,
   "metadata": {
    "collapsed": false,
    "deletable": true,
    "editable": true
   },
   "outputs": [],
   "source": [
    "nreps = 10\n",
    "admix = None\n",
    "Ns = 5e5\n",
    "gen = 20"
   ]
  },
  {
   "cell_type": "code",
   "execution_count": 51,
   "metadata": {
    "collapsed": false,
    "deletable": true,
    "editable": true
   },
   "outputs": [
    {
     "name": "stdout",
     "output_type": "stream",
     "text": [
      "(<toyplot.canvas.Canvas object at 0x7fbde56ef150>, <toyplot.coordinates.Cartesian object at 0x7fbde4aee190>)\n"
     ]
    },
    {
     "data": {
      "text/html": [
       "<div align=\"center\" class=\"toyplot\" id=\"taa1e0b5808da42879d331fc177ed7f8a\"><svg class=\"toyplot-canvas-Canvas\" height=\"300.0px\" id=\"tba4de474dbf84556ac2757704467051c\" preserveAspectRatio=\"xMidYMid meet\" style=\"background-color:transparent;fill:rgb(16.1%,15.3%,14.1%);fill-opacity:1.0;font-family:Helvetica;font-size:12px;opacity:1.0;stroke:rgb(16.1%,15.3%,14.1%);stroke-opacity:1.0;stroke-width:1.0\" viewBox=\"0 0 600.0 300.0\" width=\"600.0px\" xmlns=\"http://www.w3.org/2000/svg\" xmlns:toyplot=\"http://www.sandia.gov/toyplot\" xmlns:xlink=\"http://www.w3.org/1999/xlink\"><g class=\"toyplot-coordinates-Cartesian\" id=\"t6ec59e4061464ee992091638d90c237f\"><clipPath id=\"t039a82d067b147e18543b447affeae6d\"><rect height=\"290.0\" width=\"560.0\" x=\"20.0\" y=\"5.0\"></rect></clipPath><g clip-path=\"url(#t039a82d067b147e18543b447affeae6d)\"><g class=\"toyplot-mark-Graph\" id=\"t9be196199ad54e34be74b7baa701040b\"><g class=\"toyplot-Edges\"><path d=\"M 484.090909091 177.0 L 520.909090909 285.0\" style=\"fill:none;stroke:rgb(16.1%,15.3%,14.1%);stroke-opacity:1.0;stroke-width:3.0\"></path><path d=\"M 447.272727273 231.0 L 471.818181818 285.0\" style=\"fill:none;stroke:rgb(16.1%,15.3%,14.1%);stroke-opacity:1.0;stroke-width:3.0\"></path><path d=\"M 447.272727273 231.0 L 422.727272727 285.0\" style=\"fill:none;stroke:rgb(16.1%,15.3%,14.1%);stroke-opacity:1.0;stroke-width:3.0\"></path><path d=\"M 484.090909091 177.0 L 447.272727273 231.0\" style=\"fill:none;stroke:rgb(16.1%,15.3%,14.1%);stroke-opacity:1.0;stroke-width:3.0\"></path><path d=\"M 527.045454545 123.0 L 484.090909091 177.0\" style=\"fill:none;stroke:rgb(16.1%,15.3%,14.1%);stroke-opacity:1.0;stroke-width:3.0\"></path><path d=\"M 379.772727273 15.0 L 527.045454545 123.0\" style=\"fill:none;stroke:rgb(16.1%,15.3%,14.1%);stroke-opacity:1.0;stroke-width:3.0\"></path><path d=\"M 330.681818182 123.0 L 373.636363636 285.0\" style=\"fill:none;stroke:rgb(16.1%,15.3%,14.1%);stroke-opacity:1.0;stroke-width:3.0\"></path><path d=\"M 287.727272727 177.0 L 324.545454545 285.0\" style=\"fill:none;stroke:rgb(16.1%,15.3%,14.1%);stroke-opacity:1.0;stroke-width:3.0\"></path><path d=\"M 250.909090909 231.0 L 275.454545455 285.0\" style=\"fill:none;stroke:rgb(16.1%,15.3%,14.1%);stroke-opacity:1.0;stroke-width:3.0\"></path><path d=\"M 250.909090909 231.0 L 226.363636364 285.0\" style=\"fill:none;stroke:rgb(16.1%,15.3%,14.1%);stroke-opacity:1.0;stroke-width:3.0\"></path><path d=\"M 287.727272727 177.0 L 250.909090909 231.0\" style=\"fill:none;stroke:rgb(16.1%,15.3%,14.1%);stroke-opacity:1.0;stroke-width:3.0\"></path><path d=\"M 330.681818182 123.0 L 287.727272727 177.0\" style=\"fill:none;stroke:rgb(16.1%,15.3%,14.1%);stroke-opacity:1.0;stroke-width:3.0\"></path><path d=\"M 232.5 69.0 L 330.681818182 123.0\" style=\"fill:none;stroke:rgb(16.1%,15.3%,14.1%);stroke-opacity:1.0;stroke-width:3.0\"></path><path d=\"M 134.318181818 123.0 L 177.272727273 285.0\" style=\"fill:none;stroke:rgb(16.1%,15.3%,14.1%);stroke-opacity:1.0;stroke-width:3.0\"></path><path d=\"M 91.3636363636 177.0 L 128.181818182 285.0\" style=\"fill:none;stroke:rgb(16.1%,15.3%,14.1%);stroke-opacity:1.0;stroke-width:3.0\"></path><path d=\"M 54.5454545455 231.0 L 79.0909090909 285.0\" style=\"fill:none;stroke:rgb(16.1%,15.3%,14.1%);stroke-opacity:1.0;stroke-width:3.0\"></path><path d=\"M 54.5454545455 231.0 L 30.0 285.0\" style=\"fill:none;stroke:rgb(16.1%,15.3%,14.1%);stroke-opacity:1.0;stroke-width:3.0\"></path><path d=\"M 91.3636363636 177.0 L 54.5454545455 231.0\" style=\"fill:none;stroke:rgb(16.1%,15.3%,14.1%);stroke-opacity:1.0;stroke-width:3.0\"></path><path d=\"M 134.318181818 123.0 L 91.3636363636 177.0\" style=\"fill:none;stroke:rgb(16.1%,15.3%,14.1%);stroke-opacity:1.0;stroke-width:3.0\"></path><path d=\"M 232.5 69.0 L 134.318181818 123.0\" style=\"fill:none;stroke:rgb(16.1%,15.3%,14.1%);stroke-opacity:1.0;stroke-width:3.0\"></path><path d=\"M 379.772727273 15.0 L 232.5 69.0\" style=\"fill:none;stroke:rgb(16.1%,15.3%,14.1%);stroke-opacity:1.0;stroke-width:3.0\"></path><path d=\"M 527.045454545 123.0 L 570.0 285.0\" style=\"fill:none;stroke:rgb(16.1%,15.3%,14.1%);stroke-opacity:1.0;stroke-width:3.0\"></path></g><g class=\"toyplot-Vertices\"><g class=\"toyplot-Datum\" style=\"fill:rgb(40%,76.1%,64.7%);fill-opacity:1.0;opacity:1.0;stroke:rgb(40%,76.1%,64.7%);stroke-opacity:1.0\"><circle cx=\"379.77272727272725\" cy=\"15.0\" r=\"10.0\"></circle></g><g class=\"toyplot-Datum\" style=\"fill:rgb(40%,76.1%,64.7%);fill-opacity:1.0;opacity:1.0;stroke:rgb(40%,76.1%,64.7%);stroke-opacity:1.0\"><circle cx=\"527.0454545454545\" cy=\"123.0\" r=\"10.0\"></circle></g><g class=\"toyplot-Datum\" style=\"fill:rgb(40%,76.1%,64.7%);fill-opacity:1.0;opacity:1.0;stroke:rgb(40%,76.1%,64.7%);stroke-opacity:1.0\"><circle cx=\"484.09090909090907\" cy=\"177.0\" r=\"10.0\"></circle></g><g class=\"toyplot-Datum\" style=\"fill:rgb(40%,76.1%,64.7%);fill-opacity:1.0;opacity:1.0;stroke:rgb(40%,76.1%,64.7%);stroke-opacity:1.0\"><circle cx=\"447.27272727272725\" cy=\"231.0\" r=\"10.0\"></circle></g><g class=\"toyplot-Datum\" style=\"fill:rgb(40%,76.1%,64.7%);fill-opacity:1.0;opacity:1.0;stroke:rgb(40%,76.1%,64.7%);stroke-opacity:1.0\"><circle cx=\"232.5\" cy=\"68.999999999999986\" r=\"10.0\"></circle></g><g class=\"toyplot-Datum\" style=\"fill:rgb(40%,76.1%,64.7%);fill-opacity:1.0;opacity:1.0;stroke:rgb(40%,76.1%,64.7%);stroke-opacity:1.0\"><circle cx=\"330.68181818181819\" cy=\"123.0\" r=\"10.0\"></circle></g><g class=\"toyplot-Datum\" style=\"fill:rgb(40%,76.1%,64.7%);fill-opacity:1.0;opacity:1.0;stroke:rgb(40%,76.1%,64.7%);stroke-opacity:1.0\"><circle cx=\"287.72727272727275\" cy=\"177.0\" r=\"10.0\"></circle></g><g class=\"toyplot-Datum\" style=\"fill:rgb(40%,76.1%,64.7%);fill-opacity:1.0;opacity:1.0;stroke:rgb(40%,76.1%,64.7%);stroke-opacity:1.0\"><circle cx=\"250.90909090909091\" cy=\"231.0\" r=\"10.0\"></circle></g><g class=\"toyplot-Datum\" style=\"fill:rgb(40%,76.1%,64.7%);fill-opacity:1.0;opacity:1.0;stroke:rgb(40%,76.1%,64.7%);stroke-opacity:1.0\"><circle cx=\"134.31818181818181\" cy=\"123.0\" r=\"10.0\"></circle></g><g class=\"toyplot-Datum\" style=\"fill:rgb(40%,76.1%,64.7%);fill-opacity:1.0;opacity:1.0;stroke:rgb(40%,76.1%,64.7%);stroke-opacity:1.0\"><circle cx=\"91.36363636363636\" cy=\"177.0\" r=\"10.0\"></circle></g><g class=\"toyplot-Datum\" style=\"fill:rgb(40%,76.1%,64.7%);fill-opacity:1.0;opacity:1.0;stroke:rgb(40%,76.1%,64.7%);stroke-opacity:1.0\"><circle cx=\"54.545454545454547\" cy=\"231.0\" r=\"10.0\"></circle></g><g class=\"toyplot-Datum\" style=\"fill:rgb(40%,76.1%,64.7%);fill-opacity:1.0;opacity:1.0;stroke:rgb(40%,76.1%,64.7%);stroke-opacity:1.0\"><circle cx=\"471.81818181818181\" cy=\"285.0\" r=\"10.0\"></circle></g><g class=\"toyplot-Datum\" style=\"fill:rgb(40%,76.1%,64.7%);fill-opacity:1.0;opacity:1.0;stroke:rgb(40%,76.1%,64.7%);stroke-opacity:1.0\"><circle cx=\"422.72727272727275\" cy=\"285.0\" r=\"10.0\"></circle></g><g class=\"toyplot-Datum\" style=\"fill:rgb(40%,76.1%,64.7%);fill-opacity:1.0;opacity:1.0;stroke:rgb(40%,76.1%,64.7%);stroke-opacity:1.0\"><circle cx=\"520.90909090909088\" cy=\"285.0\" r=\"10.0\"></circle></g><g class=\"toyplot-Datum\" style=\"fill:rgb(40%,76.1%,64.7%);fill-opacity:1.0;opacity:1.0;stroke:rgb(40%,76.1%,64.7%);stroke-opacity:1.0\"><circle cx=\"570.0\" cy=\"285.0\" r=\"10.0\"></circle></g><g class=\"toyplot-Datum\" style=\"fill:rgb(40%,76.1%,64.7%);fill-opacity:1.0;opacity:1.0;stroke:rgb(40%,76.1%,64.7%);stroke-opacity:1.0\"><circle cx=\"275.45454545454544\" cy=\"285.0\" r=\"10.0\"></circle></g><g class=\"toyplot-Datum\" style=\"fill:rgb(40%,76.1%,64.7%);fill-opacity:1.0;opacity:1.0;stroke:rgb(40%,76.1%,64.7%);stroke-opacity:1.0\"><circle cx=\"226.36363636363637\" cy=\"285.0\" r=\"10.0\"></circle></g><g class=\"toyplot-Datum\" style=\"fill:rgb(40%,76.1%,64.7%);fill-opacity:1.0;opacity:1.0;stroke:rgb(40%,76.1%,64.7%);stroke-opacity:1.0\"><circle cx=\"324.5454545454545\" cy=\"285.0\" r=\"10.0\"></circle></g><g class=\"toyplot-Datum\" style=\"fill:rgb(40%,76.1%,64.7%);fill-opacity:1.0;opacity:1.0;stroke:rgb(40%,76.1%,64.7%);stroke-opacity:1.0\"><circle cx=\"373.63636363636368\" cy=\"285.0\" r=\"10.0\"></circle></g><g class=\"toyplot-Datum\" style=\"fill:rgb(40%,76.1%,64.7%);fill-opacity:1.0;opacity:1.0;stroke:rgb(40%,76.1%,64.7%);stroke-opacity:1.0\"><circle cx=\"79.090909090909093\" cy=\"285.0\" r=\"10.0\"></circle></g><g class=\"toyplot-Datum\" style=\"fill:rgb(40%,76.1%,64.7%);fill-opacity:1.0;opacity:1.0;stroke:rgb(40%,76.1%,64.7%);stroke-opacity:1.0\"><circle cx=\"30.0\" cy=\"285.0\" r=\"10.0\"></circle></g><g class=\"toyplot-Datum\" style=\"fill:rgb(40%,76.1%,64.7%);fill-opacity:1.0;opacity:1.0;stroke:rgb(40%,76.1%,64.7%);stroke-opacity:1.0\"><circle cx=\"128.18181818181819\" cy=\"285.0\" r=\"10.0\"></circle></g><g class=\"toyplot-Datum\" style=\"fill:rgb(40%,76.1%,64.7%);fill-opacity:1.0;opacity:1.0;stroke:rgb(40%,76.1%,64.7%);stroke-opacity:1.0\"><circle cx=\"177.27272727272725\" cy=\"285.0\" r=\"10.0\"></circle></g></g><g class=\"toyplot-Labels\"><text class=\"toyplot-Datum\" style=\"dominant-baseline:middle;font-size:18px;font-weight:normal;stroke:none;text-anchor:middle\" transform=\"translate(379.77272727272725,15.0)\"><tspan style=\"dominant-baseline:inherit\">0</tspan></text><text class=\"toyplot-Datum\" style=\"dominant-baseline:middle;font-size:18px;font-weight:normal;stroke:none;text-anchor:middle\" transform=\"translate(527.0454545454545,123.0)\"><tspan style=\"dominant-baseline:inherit\">1</tspan></text><text class=\"toyplot-Datum\" style=\"dominant-baseline:middle;font-size:18px;font-weight:normal;stroke:none;text-anchor:middle\" transform=\"translate(484.09090909090907,177.0)\"><tspan style=\"dominant-baseline:inherit\">2</tspan></text><text class=\"toyplot-Datum\" style=\"dominant-baseline:middle;font-size:18px;font-weight:normal;stroke:none;text-anchor:middle\" transform=\"translate(447.27272727272725,231.0)\"><tspan style=\"dominant-baseline:inherit\">3</tspan></text><text class=\"toyplot-Datum\" style=\"dominant-baseline:middle;font-size:18px;font-weight:normal;stroke:none;text-anchor:middle\" transform=\"translate(232.5,68.999999999999986)\"><tspan style=\"dominant-baseline:inherit\">4</tspan></text><text class=\"toyplot-Datum\" style=\"dominant-baseline:middle;font-size:18px;font-weight:normal;stroke:none;text-anchor:middle\" transform=\"translate(330.68181818181819,123.0)\"><tspan style=\"dominant-baseline:inherit\">5</tspan></text><text class=\"toyplot-Datum\" style=\"dominant-baseline:middle;font-size:18px;font-weight:normal;stroke:none;text-anchor:middle\" transform=\"translate(287.72727272727275,177.0)\"><tspan style=\"dominant-baseline:inherit\">6</tspan></text><text class=\"toyplot-Datum\" style=\"dominant-baseline:middle;font-size:18px;font-weight:normal;stroke:none;text-anchor:middle\" transform=\"translate(250.90909090909091,231.0)\"><tspan style=\"dominant-baseline:inherit\">7</tspan></text><text class=\"toyplot-Datum\" style=\"dominant-baseline:middle;font-size:18px;font-weight:normal;stroke:none;text-anchor:middle\" transform=\"translate(134.31818181818181,123.0)\"><tspan style=\"dominant-baseline:inherit\">8</tspan></text><text class=\"toyplot-Datum\" style=\"dominant-baseline:middle;font-size:18px;font-weight:normal;stroke:none;text-anchor:middle\" transform=\"translate(91.36363636363636,177.0)\"><tspan style=\"dominant-baseline:inherit\">9</tspan></text><text class=\"toyplot-Datum\" style=\"dominant-baseline:middle;font-size:18px;font-weight:normal;stroke:none;text-anchor:middle\" transform=\"translate(54.545454545454547,231.0)\"><tspan style=\"dominant-baseline:inherit\">10</tspan></text><text class=\"toyplot-Datum\" style=\"dominant-baseline:middle;font-size:18px;font-weight:normal;stroke:none;text-anchor:middle\" transform=\"translate(471.81818181818181,285.0)\"><tspan style=\"dominant-baseline:inherit\">a</tspan></text><text class=\"toyplot-Datum\" style=\"dominant-baseline:middle;font-size:18px;font-weight:normal;stroke:none;text-anchor:middle\" transform=\"translate(422.72727272727275,285.0)\"><tspan style=\"dominant-baseline:inherit\">b</tspan></text><text class=\"toyplot-Datum\" style=\"dominant-baseline:middle;font-size:18px;font-weight:normal;stroke:none;text-anchor:middle\" transform=\"translate(520.90909090909088,285.0)\"><tspan style=\"dominant-baseline:inherit\">c</tspan></text><text class=\"toyplot-Datum\" style=\"dominant-baseline:middle;font-size:18px;font-weight:normal;stroke:none;text-anchor:middle\" transform=\"translate(570.0,285.0)\"><tspan style=\"dominant-baseline:inherit\">d</tspan></text><text class=\"toyplot-Datum\" style=\"dominant-baseline:middle;font-size:18px;font-weight:normal;stroke:none;text-anchor:middle\" transform=\"translate(275.45454545454544,285.0)\"><tspan style=\"dominant-baseline:inherit\">e</tspan></text><text class=\"toyplot-Datum\" style=\"dominant-baseline:middle;font-size:18px;font-weight:normal;stroke:none;text-anchor:middle\" transform=\"translate(226.36363636363637,285.0)\"><tspan style=\"dominant-baseline:inherit\">f</tspan></text><text class=\"toyplot-Datum\" style=\"dominant-baseline:middle;font-size:18px;font-weight:normal;stroke:none;text-anchor:middle\" transform=\"translate(324.5454545454545,285.0)\"><tspan style=\"dominant-baseline:inherit\">g</tspan></text><text class=\"toyplot-Datum\" style=\"dominant-baseline:middle;font-size:18px;font-weight:normal;stroke:none;text-anchor:middle\" transform=\"translate(373.63636363636368,285.0)\"><tspan style=\"dominant-baseline:inherit\">h</tspan></text><text class=\"toyplot-Datum\" style=\"dominant-baseline:middle;font-size:18px;font-weight:normal;stroke:none;text-anchor:middle\" transform=\"translate(79.090909090909093,285.0)\"><tspan style=\"dominant-baseline:inherit\">i</tspan></text><text class=\"toyplot-Datum\" style=\"dominant-baseline:middle;font-size:18px;font-weight:normal;stroke:none;text-anchor:middle\" transform=\"translate(30.0,285.0)\"><tspan style=\"dominant-baseline:inherit\">j</tspan></text><text class=\"toyplot-Datum\" style=\"dominant-baseline:middle;font-size:18px;font-weight:normal;stroke:none;text-anchor:middle\" transform=\"translate(128.18181818181819,285.0)\"><tspan style=\"dominant-baseline:inherit\">k</tspan></text><text class=\"toyplot-Datum\" style=\"dominant-baseline:middle;font-size:18px;font-weight:normal;stroke:none;text-anchor:middle\" transform=\"translate(177.27272727272725,285.0)\"><tspan style=\"dominant-baseline:inherit\">l</tspan></text></g></g></g></g></svg><div class=\"toyplot-interactive\"></div></div>"
      ]
     },
     "metadata": {},
     "output_type": "display_data"
    }
   ],
   "source": [
    "## todo: rotate tip names 90 deg. & offset & show idx for all\n",
    "## also add hover stats for [edge.length, edge.Ns, node.idx, node.name]\n",
    "print tree.draw(width=600, height=300)"
   ]
  },
  {
   "cell_type": "code",
   "execution_count": 20,
   "metadata": {
    "collapsed": true,
    "deletable": true,
    "editable": true
   },
   "outputs": [],
   "source": [
    "## \n",
    "Taus = np.array(list(set(tree.verts[:, 1]))) * 1e4 * gen\n",
    "\n",
    "## Population IDs correspond to their indexes in pop config\n",
    "ntips = len(tree.tree)\n",
    "pop_config = [\n",
    "    ms.PopulationConfiguration(sample_size=2, initial_size=Ns)\n",
    "    for i in range(ntips):\n",
    "        pass\n",
    "]\n",
    "\n",
    "## migration matrix all zeros init\n",
    "migmat = np.zeros((ntips, ntips)).tolist()\n",
    "\n",
    "## a list for storing demographic events\n",
    "demog = []\n"
   ]
  },
  {
   "cell_type": "code",
   "execution_count": 34,
   "metadata": {
    "collapsed": false,
    "deletable": true,
    "editable": true
   },
   "outputs": [
    {
     "data": {
      "text/plain": [
       "[1.0, 2.0, 3.0, 4.0, 5.0]"
      ]
     },
     "execution_count": 34,
     "metadata": {},
     "output_type": "execute_result"
    }
   ],
   "source": [
    "## coalescent times\n",
    "coals = sorted(list(set(tree.verts[:, 1])))[1:]\n",
    "coals"
   ]
  },
  {
   "cell_type": "code",
   "execution_count": 38,
   "metadata": {
    "collapsed": false,
    "deletable": true,
    "editable": true
   },
   "outputs": [
    {
     "data": {
      "text/plain": [
       "array([ 3,  7, 10])"
      ]
     },
     "execution_count": 38,
     "metadata": {},
     "output_type": "execute_result"
    }
   ],
   "source": [
    "np.where(tree.verts[:, 1] == coals[0])[0]"
   ]
  },
  {
   "cell_type": "code",
   "execution_count": 47,
   "metadata": {
    "collapsed": false,
    "deletable": true,
    "editable": true
   },
   "outputs": [
    {
     "data": {
      "text/plain": [
       "[14, 13, 18, 22, 11, 12, 17, 21, 15, 16, 19, 20]"
      ]
     },
     "execution_count": 47,
     "metadata": {},
     "output_type": "execute_result"
    }
   ],
   "source": [
    "[i.idx for i in tree.tree.get_descendants() if i.is_leaf()]"
   ]
  },
  {
   "cell_type": "code",
   "execution_count": 42,
   "metadata": {
    "collapsed": false,
    "deletable": true,
    "editable": true
   },
   "outputs": [
    {
     "name": "stdout",
     "output_type": "stream",
     "text": [
      "[[  7.125   5.   ]\n",
      " [ 10.125   3.   ]\n",
      " [  9.25    2.   ]\n",
      " [  8.5     1.   ]\n",
      " [  4.125   4.   ]\n",
      " [  6.125   3.   ]\n",
      " [  5.25    2.   ]\n",
      " [  4.5     1.   ]\n",
      " [  2.125   3.   ]\n",
      " [  1.25    2.   ]\n",
      " [  0.5     1.   ]\n",
      " [  9.      0.   ]\n",
      " [  8.      0.   ]\n",
      " [ 10.      0.   ]\n",
      " [ 11.      0.   ]\n",
      " [  5.      0.   ]\n",
      " [  4.      0.   ]\n",
      " [  6.      0.   ]\n",
      " [  7.      0.   ]\n",
      " [  1.      0.   ]\n",
      " [  0.      0.   ]\n",
      " [  2.      0.   ]\n",
      " [  3.      0.   ]]\n",
      "[[ 2 13]\n",
      " [ 3 11]\n",
      " [ 3 12]\n",
      " [ 2  3]\n",
      " [ 1  2]\n",
      " [ 0  1]\n",
      " [ 5 18]\n",
      " [ 6 17]\n",
      " [ 7 15]\n",
      " [ 7 16]\n",
      " [ 6  7]\n",
      " [ 5  6]\n",
      " [ 4  5]\n",
      " [ 8 22]\n",
      " [ 9 21]\n",
      " [10 19]\n",
      " [10 20]\n",
      " [ 9 10]\n",
      " [ 8  9]\n",
      " [ 4  8]\n",
      " [ 0  4]\n",
      " [ 1 14]]\n"
     ]
    }
   ],
   "source": [
    "print tree.verts\n",
    "print tree.edges"
   ]
  },
  {
   "cell_type": "code",
   "execution_count": 23,
   "metadata": {
    "collapsed": false,
    "deletable": true,
    "editable": true
   },
   "outputs": [
    {
     "name": "stdout",
     "output_type": "stream",
     "text": [
      "d\n",
      "c\n",
      "a\n",
      "b\n",
      "3\n",
      "2\n",
      "1\n",
      "h\n",
      "g\n",
      "e\n",
      "f\n",
      "7\n",
      "6\n",
      "5\n",
      "l\n",
      "k\n",
      "i\n",
      "j\n",
      "10\n",
      "9\n",
      "8\n",
      "4\n",
      "0\n"
     ]
    }
   ],
   "source": [
    "for node in tree.tree.traverse(\"postorder\"):\n",
    "    print node.name"
   ]
  },
  {
   "cell_type": "code",
   "execution_count": null,
   "metadata": {
    "collapsed": true,
    "deletable": true,
    "editable": true
   },
   "outputs": [],
   "source": []
  },
  {
   "cell_type": "code",
   "execution_count": 7,
   "metadata": {
    "collapsed": false,
    "deletable": true,
    "editable": true
   },
   "outputs": [],
   "source": [
    "\n",
    "def demography(nreps, Ns=500000, gen=10, mut=1e-9, mig=1e-9, scen=0):\n",
    "    \n",
    "    # years are in units of 1e6 years, divide to get units in generations\n",
    "    Taus = (np.array([0, 1, 2, 3, 4, 5]) * 1e6) / gen\n",
    "\n",
    "    # Migration rates C -> B and from IJ -> EF\n",
    "    m_C_B = mig\n",
    "    m_IJ_EF = mig\n",
    "    \n",
    "    # Population IDs correspond to their indexes in pop_config.\n",
    "    pop_config = [\n",
    "        ms.PopulationConfiguration(sample_size=2, initial_size=Ns)\n",
    "        for i in range(12)]\n",
    "    \n",
    "    ## migration matrix all zeros time=0\n",
    "    migmat = np.zeros((12, 12)).tolist()\n",
    "    \n",
    "    ## set up demography\n",
    "    if scen:\n",
    "        ## this one is INTO IJ (forward in time), and INTO C\n",
    "        x = ms.MigrationRateChange(time=0., rate=m_C_B, matrix_index=(2, 1))\n",
    "        y = ms.MigrationRateChange(time=Taus[1], rate=m_IJ_EF, matrix_index=(8, 4)) \n",
    "\n",
    "    else:\n",
    "        ## this one in INTO EF (forward) and INTO B\n",
    "        x = ms.MigrationRateChange(time=0, rate=m_C_B, matrix_index=(1, 2))\n",
    "        y = ms.MigrationRateChange(time=Taus[1], rate=m_IJ_EF, matrix_index=(4, 8)) \n",
    "        \n",
    "    #ms.MigrationRateChange(time=0., rate=m_IJ_EF, matrix_index=(9, 4)) \n",
    "    #ms.MigrationRateChange(time=0., rate=m_IJ_EF, matrix_index=(8, 4)) \n",
    "\n",
    "    demog = [\n",
    "        ## initial migration from C -> B\n",
    "        x,\n",
    "        ms.MigrationRateChange(time=Taus[1], rate=0),\n",
    "\n",
    "        # merge events at time 1 (b,a), (f,e), (j,i)\n",
    "        ms.MassMigration(time=Taus[1], source=1, destination=0, proportion=1.0), \n",
    "        ms.MassMigration(time=Taus[1], source=5, destination=4, proportion=1.0), \n",
    "        ms.MassMigration(time=Taus[1], source=9, destination=8, proportion=1.0), \n",
    "        \n",
    "        ## migration from IJ -> EF (backward in time)\n",
    "        y,\n",
    "        \n",
    "        ## merge events at time 2 (c,a), (g,e), (k,i)\n",
    "        ms.MassMigration(time=Taus[2], source=2, destination=0, proportion=1.0), \n",
    "        ms.MassMigration(time=Taus[2], source=6, destination=4, proportion=1.0), \n",
    "        ms.MassMigration(time=Taus[2], source=10, destination=8, proportion=1.0), \n",
    "\n",
    "        ## end migration at ABC and merge\n",
    "        ms.MigrationRateChange(time=Taus[2], rate=0),\n",
    "        ms.MassMigration(time=Taus[3], source=3, destination=0, proportion=1.0), \n",
    "        ms.MassMigration(time=Taus[3], source=7, destination=4, proportion=1.0), \n",
    "        ms.MassMigration(time=Taus[3], source=11, destination=8, proportion=1.0),   \n",
    "        \n",
    "        ## merge EFJH -> IJKL\n",
    "        ms.MassMigration(time=Taus[4], source=8, destination=4, proportion=1.0),   \n",
    "        \n",
    "        ## merge ABCD -> EFJHIJKL\n",
    "        ms.MassMigration(time=Taus[5], source=4, destination=0, proportion=1.0),   \n",
    "    ]\n",
    "\n",
    "    ## sim the data\n",
    "    replicates = ms.simulate(\n",
    "        population_configurations=pop_config,\n",
    "        migration_matrix=migmat,\n",
    "        demographic_events=demog,\n",
    "        num_replicates=nreps,\n",
    "        length=100, \n",
    "        mutation_rate=mut)\n",
    "    \n",
    "    return replicates"
   ]
  },
  {
   "cell_type": "markdown",
   "metadata": {
    "deletable": true,
    "editable": true
   },
   "source": [
    "### TESTING THE SIMS"
   ]
  },
  {
   "cell_type": "code",
   "execution_count": 20,
   "metadata": {
    "collapsed": false,
    "deletable": true,
    "editable": true
   },
   "outputs": [
    {
     "name": "stdout",
     "output_type": "stream",
     "text": [
      "           dstat  bootmean   bootstd        abxxa        baxxa          Z\n",
      "p3      0.105043  0.105103  0.008031  4347.031250  3520.593750  13.079410\n",
      "p4      0.020286  0.020316  0.009568  3316.695312  3184.804688   2.120156\n",
      "shared  0.507796  0.508296  0.008812  9140.445313  2983.799479  57.627364\n"
     ]
    }
   ],
   "source": [
    "## introgression ij -> ef\n",
    "test = {\n",
    "    'p5': ['a', 'b', 'c', 'd'],\n",
    "    'p4': ['k'],\n",
    "    'p3': ['i', 'j'],\n",
    "    'p2': ['e', 'f'],\n",
    "    'p1': ['g'],\n",
    "}\n",
    "\n",
    "sims = demography(10000, Ns=1e6, mut=1e-8, mig=5e-5, gen=1, scen=1)\n",
    "r, b = baba.baba(sims, test, nboots=1000)\n",
    "print r"
   ]
  },
  {
   "cell_type": "code",
   "execution_count": 19,
   "metadata": {
    "collapsed": false,
    "deletable": true,
    "editable": true
   },
   "outputs": [
    {
     "name": "stdout",
     "output_type": "stream",
     "text": [
      "           dstat  bootmean   bootstd       abxxa       baxxa          Z\n",
      "p3      0.090130  0.090191  0.009824  4224.21875  3525.71875   9.174368\n",
      "p4      0.015188  0.015300  0.009858  3294.12500  3195.56250   1.540635\n",
      "shared  0.432020  0.431656  0.011232  6834.56250  2710.78125  38.463642\n"
     ]
    }
   ],
   "source": [
    "sims = demography(10000, Ns=1e6, mut=1e-8, mig=5e-5, gen=1, scen=0)\n",
    "r, b = baba.baba(sims, test, nboots=1000)\n",
    "print r"
   ]
  },
  {
   "cell_type": "code",
   "execution_count": 15,
   "metadata": {
    "collapsed": false,
    "deletable": true,
    "editable": true
   },
   "outputs": [
    {
     "name": "stdout",
     "output_type": "stream",
     "text": [
      "           dstat  bootmean   bootstd       abxxa       baxxa          Z\n",
      "p3      0.090130  0.090636  0.009607  4224.21875  3525.71875   9.381222\n",
      "p4      0.015188  0.015511  0.009963  3294.12500  3195.56250   1.524395\n",
      "shared  0.432020  0.431724  0.011572  6834.56250  2710.78125  37.333960\n"
     ]
    }
   ],
   "source": []
  },
  {
   "cell_type": "markdown",
   "metadata": {
    "deletable": true,
    "editable": true
   },
   "source": [
    "### Run on sim data"
   ]
  },
  {
   "cell_type": "code",
   "execution_count": 10,
   "metadata": {
    "collapsed": false,
    "deletable": true,
    "editable": true
   },
   "outputs": [],
   "source": [
    "## there should be no imbalance in this test\n",
    "test = {\n",
    "    'p4': ['a', 'b', 'c', 'd'],\n",
    "    'p3': ['l'],\n",
    "    'p2': ['k'],\n",
    "    'p1': ['i', 'j'],\n",
    "}\n",
    "## mindict\n",
    "mindict = {key: 1 for key in test}"
   ]
  },
  {
   "cell_type": "markdown",
   "metadata": {
    "deletable": true,
    "editable": true
   },
   "source": [
    "### Run a single simulated data set"
   ]
  },
  {
   "cell_type": "code",
   "execution_count": 11,
   "metadata": {
    "collapsed": false,
    "deletable": true,
    "editable": true
   },
   "outputs": [
    {
     "name": "stdout",
     "output_type": "stream",
     "text": [
      "                   0\n",
      "dstat       0.003868\n",
      "bootmean    0.001674\n",
      "bootstd     0.037506\n",
      "abba      330.539062\n",
      "baba      327.992188\n",
      "Z           0.044628\n"
     ]
    }
   ],
   "source": [
    "sims = demography(10000, Ns=1e6, mut=1e-9, mig=1e-7, gen=1)\n",
    "res, boots = baba.baba(sims, test, mindict, 1000)\n",
    "print res"
   ]
  },
  {
   "cell_type": "markdown",
   "metadata": {
    "deletable": true,
    "editable": true
   },
   "source": [
    "### 4-taxon tests"
   ]
  },
  {
   "cell_type": "code",
   "execution_count": 12,
   "metadata": {
    "collapsed": false,
    "deletable": true,
    "editable": true
   },
   "outputs": [
    {
     "data": {
      "text/plain": [
       "[{'p1': ['k'], 'p2': ['j'], 'p3': ['l'], 'p4': ['a', 'b', 'c', 'd']},\n",
       " {'p1': ['a'], 'p2': ['c'], 'p3': ['d'], 'p4': ['e', 'f', 'g', 'h']},\n",
       " {'p1': ['e'], 'p2': ['f'], 'p3': ['g'], 'p4': ['h']},\n",
       " {'p1': ['e'], 'p2': ['f'], 'p3': ['g'], 'p4': ['a', 'b', 'c', 'd']},\n",
       " {'p1': ['i'], 'p2': ['j'], 'p3': ['k'], 'p4': ['a', 'b', 'c', 'd']},\n",
       " {'p1': ['f'], 'p2': ['g'], 'p3': ['i', 'j'], 'p4': ['a', 'b', 'c', 'd']},\n",
       " {'p1': ['e'], 'p2': ['g'], 'p3': ['i', 'j'], 'p4': ['a', 'b', 'c', 'd']},\n",
       " {'p1': ['e', 'f'], 'p2': ['g'], 'p3': ['i', 'j'], 'p4': ['a', 'b', 'c', 'd']},\n",
       " {'p1': ['a'], 'p2': ['b'], 'p3': ['c'], 'p4': ['e', 'f', 'g', 'h']},\n",
       " {'p1': ['a'], 'p2': ['b'], 'p3': ['c'], 'p4': ['i', 'j', 'k', 'l']}]"
      ]
     },
     "execution_count": 12,
     "metadata": {},
     "output_type": "execute_result"
    }
   ],
   "source": [
    "tests = [\n",
    "    ## no introgression\n",
    "    {\n",
    "    'p4': ['a', 'b', 'c', 'd'],\n",
    "    'p3': ['l'],\n",
    "    'p2': ['j'],\n",
    "    'p1': ['k'],\n",
    "    }, \n",
    "    ## no introgression\n",
    "    {\n",
    "    'p4': ['e','f','g','h'],\n",
    "    'p3': ['d'],\n",
    "    'p2': ['c'],\n",
    "    'p1': ['a'],\n",
    "    }, \n",
    "    ## no introgression\n",
    "    {\n",
    "    'p4': ['h'],\n",
    "    'p3': ['g'],\n",
    "    'p2': ['f'],\n",
    "    'p1': ['e'],\n",
    "    }, \n",
    "    ## no introgression\n",
    "    {\n",
    "    'p4': ['a', 'b', 'c', 'd'],\n",
    "    'p3': ['g'],\n",
    "    'p2': ['f'],\n",
    "    'p1': ['e'],\n",
    "    }, \n",
    "    ## no introgression\n",
    "    {\n",
    "    'p4': ['a', 'b', 'c', 'd'],\n",
    "    'p3': ['k'],\n",
    "    'p2': ['j'],\n",
    "    'p1': ['i'],\n",
    "    }, \n",
    "    ## introgression \n",
    "    {\n",
    "    'p4': ['a', 'b', 'c', 'd'],\n",
    "    'p3': ['i', 'j'],\n",
    "    'p2': ['g'],\n",
    "    'p1': ['f'],\n",
    "    },\n",
    "    ## introgression \n",
    "    {\n",
    "    'p4': ['a', 'b', 'c', 'd'],\n",
    "    'p3': ['i', 'j'],\n",
    "    'p2': ['g'],\n",
    "    'p1': ['e'],\n",
    "    },\n",
    "    ## introgression \n",
    "    {\n",
    "    'p4': ['a', 'b', 'c', 'd'],\n",
    "    'p3': ['i', 'j'],\n",
    "    'p2': ['g'],\n",
    "    'p1': ['e', 'f'],\n",
    "    },   \n",
    "    ## introgression C->B\n",
    "    {\n",
    "    'p4': ['e','f','g','h'],\n",
    "    'p3': ['c'],\n",
    "    'p2': ['b'],\n",
    "    'p1': ['a'],\n",
    "    },     \n",
    "    ## introgression C->B\n",
    "    {\n",
    "    'p4': ['i', 'j', 'k', 'l'],\n",
    "    'p3': ['c'],\n",
    "    'p2': ['b'],\n",
    "    'p1': ['a'],\n",
    "    },         \n",
    "]\n",
    "\n",
    "tests    "
   ]
  },
  {
   "cell_type": "markdown",
   "metadata": {
    "deletable": true,
    "editable": true
   },
   "source": [
    "### Run a batch of simulated data sets"
   ]
  },
  {
   "cell_type": "code",
   "execution_count": 13,
   "metadata": {
    "collapsed": false,
    "deletable": true,
    "editable": true
   },
   "outputs": [
    {
     "name": "stdout",
     "output_type": "stream",
     "text": [
      "  [####################] 100%  calculating D-stats  | 0:00:17 |  \n"
     ]
    }
   ],
   "source": [
    "## a simulation generator\n",
    "sims = demography(10000, Ns=1e6, mut=1e-9, mig=1e-8, gen=250)\n",
    "\n",
    "## pass it as first arg to batch func\n",
    "r, b = baba.batch(sims, tests, nboots=1000, ipyclient=ipyclient)"
   ]
  },
  {
   "cell_type": "code",
   "execution_count": 14,
   "metadata": {
    "collapsed": false,
    "deletable": true,
    "editable": true
   },
   "outputs": [
    {
     "name": "stdout",
     "output_type": "stream",
     "text": [
      "      dstat  bootmean   bootstd        ABBA        BABA         Z\n",
      "0  0.014837  0.014548  0.021877  335.593750  325.781250  0.665011\n",
      "1 -0.060238 -0.060335  0.019935  318.109375  358.890625  3.026649\n",
      "2  0.024448  0.024100  0.023544  350.937500  334.187500  1.023625\n",
      "3  0.027309  0.027138  0.019682  349.734375  331.140625  1.378858\n",
      "4  0.000609  0.000689  0.021841  333.687500  333.281250  0.031551\n",
      "5  0.013190  0.012590  0.017985  333.671875  324.984375  0.700003\n",
      "6  0.043367  0.043750  0.017947  344.906250  316.234375  2.437708\n",
      "7  0.028307  0.028736  0.015103  339.289062  320.609375  1.902687\n",
      "8  0.006305  0.006473  0.020380  326.687500  322.593750  0.317607\n",
      "9 -0.006399 -0.005332  0.021035  322.671875  326.828125  0.253476\n"
     ]
    },
    {
     "data": {
      "image/png": "[encoded data removed]",
      "text/html": [
       "<div align=\"center\" class=\"toyplot\" id=\"ta548907c99074981868874b0439bfb05\"><svg class=\"toyplot-canvas-Canvas\" height=\"400.0px\" id=\"tfcdb77d8b6794c8aa5053d6a028ae77f\" preserveAspectRatio=\"xMidYMid meet\" style=\"background-color:transparent;fill:rgb(16.1%,15.3%,14.1%);fill-opacity:1.0;font-family:Helvetica;font-size:12px;opacity:1.0;stroke:rgb(16.1%,15.3%,14.1%);stroke-opacity:1.0;stroke-width:1.0\" viewBox=\"0 0 300.0 400.0\" width=\"300.0px\" xmlns=\"http://www.w3.org/2000/svg\" xmlns:toyplot=\"http://www.sandia.gov/toyplot\" xmlns:xlink=\"http://www.w3.org/1999/xlink\"><g class=\"toyplot-coordinates-Cartesian\" id=\"t344afdfac1014b3bb0289ee3fd17f51c\"><clipPath id=\"t5a3efb57ba764828bcc95e56d6e783ba\"><rect height=\"201.0\" width=\"17.875\" x=\"44.5\" y=\"179.5\"></rect></clipPath><g clip-path=\"url(#t5a3efb57ba764828bcc95e56d6e783ba)\"><g class=\"toyplot-mark-BarMagnitudes\" id=\"tc82732e2c34841ad86d529c97b23554b\" style=\"stroke:rgb(100%,100%,100%);stroke-opacity:1.0;stroke-width:1.0\"><g class=\"toyplot-Series\"><rect class=\"toyplot-Datum\" height=\"4.0\" style=\"fill:rgb(50.2%,50.2%,50.2%);fill-opacity:1.0;opacity:1.0;stroke:rgb(100%,100%,100%);stroke-opacity:1.0;stroke-width:1.0\" width=\"0.0\" x=\"45.0\" y=\"376.0\"></rect><rect class=\"toyplot-Datum\" height=\"4.0\" style=\"fill:rgb(50.2%,50.2%,50.2%);fill-opacity:1.0;opacity:1.0;stroke:rgb(100%,100%,100%);stroke-opacity:1.0;stroke-width:1.0\" width=\"0.0\" x=\"45.0\" y=\"372.0\"></rect><rect class=\"toyplot-Datum\" height=\"3.9999999999999432\" style=\"fill:rgb(50.2%,50.2%,50.2%);fill-opacity:1.0;opacity:1.0;stroke:rgb(100%,100%,100%);stroke-opacity:1.0;stroke-width:1.0\" width=\"0.0\" x=\"45.0\" y=\"368.00000000000006\"></rect><rect class=\"toyplot-Datum\" height=\"4.0000000000000568\" style=\"fill:rgb(50.2%,50.2%,50.2%);fill-opacity:1.0;opacity:1.0;stroke:rgb(100%,100%,100%);stroke-opacity:1.0;stroke-width:1.0\" width=\"0.0\" x=\"45.0\" y=\"364.0\"></rect><rect class=\"toyplot-Datum\" height=\"4.0\" style=\"fill:rgb(50.2%,50.2%,50.2%);fill-opacity:1.0;opacity:1.0;stroke:rgb(100%,100%,100%);stroke-opacity:1.0;stroke-width:1.0\" width=\"0.0\" x=\"45.0\" y=\"360.0\"></rect><rect class=\"toyplot-Datum\" height=\"4.0\" style=\"fill:rgb(50.2%,50.2%,50.2%);fill-opacity:1.0;opacity:1.0;stroke:rgb(100%,100%,100%);stroke-opacity:1.0;stroke-width:1.0\" width=\"0.0\" x=\"45.0\" y=\"356.0\"></rect><rect class=\"toyplot-Datum\" height=\"4.0\" style=\"fill:rgb(50.2%,50.2%,50.2%);fill-opacity:1.0;opacity:1.0;stroke:rgb(100%,100%,100%);stroke-opacity:1.0;stroke-width:1.0\" width=\"0.0\" x=\"45.0\" y=\"352.0\"></rect><rect class=\"toyplot-Datum\" height=\"4.0\" style=\"fill:rgb(50.2%,50.2%,50.2%);fill-opacity:1.0;opacity:1.0;stroke:rgb(100%,100%,100%);stroke-opacity:1.0;stroke-width:1.0\" width=\"0.0\" x=\"45.0\" y=\"348.0\"></rect><rect class=\"toyplot-Datum\" height=\"4.0\" style=\"fill:rgb(50.2%,50.2%,50.2%);fill-opacity:1.0;opacity:1.0;stroke:rgb(100%,100%,100%);stroke-opacity:1.0;stroke-width:1.0\" width=\"0.0\" x=\"45.0\" y=\"344.0\"></rect><rect class=\"toyplot-Datum\" height=\"4.0\" style=\"fill:rgb(50.2%,50.2%,50.2%);fill-opacity:1.0;opacity:1.0;stroke:rgb(100%,100%,100%);stroke-opacity:1.0;stroke-width:1.0\" width=\"0.0\" x=\"45.0\" y=\"340.0\"></rect><rect class=\"toyplot-Datum\" height=\"4.0\" style=\"fill:rgb(50.2%,50.2%,50.2%);fill-opacity:1.0;opacity:1.0;stroke:rgb(100%,100%,100%);stroke-opacity:1.0;stroke-width:1.0\" width=\"0.0\" x=\"45.0\" y=\"336.0\"></rect><rect class=\"toyplot-Datum\" height=\"4.0\" style=\"fill:rgb(50.2%,50.2%,50.2%);fill-opacity:1.0;opacity:1.0;stroke:rgb(100%,100%,100%);stroke-opacity:1.0;stroke-width:1.0\" width=\"0.0\" x=\"45.0\" y=\"332.0\"></rect><rect class=\"toyplot-Datum\" height=\"4.0\" style=\"fill:rgb(50.2%,50.2%,50.2%);fill-opacity:1.0;opacity:1.0;stroke:rgb(100%,100%,100%);stroke-opacity:1.0;stroke-width:1.0\" width=\"0.0\" x=\"45.0\" y=\"328.0\"></rect><rect class=\"toyplot-Datum\" height=\"4.0000000000000568\" style=\"fill:rgb(50.2%,50.2%,50.2%);fill-opacity:1.0;opacity:1.0;stroke:rgb(100%,100%,100%);stroke-opacity:1.0;stroke-width:1.0\" width=\"0.0\" x=\"45.0\" y=\"323.99999999999994\"></rect><rect class=\"toyplot-Datum\" height=\"3.9999999999999432\" style=\"fill:rgb(50.2%,50.2%,50.2%);fill-opacity:1.0;opacity:1.0;stroke:rgb(100%,100%,100%);stroke-opacity:1.0;stroke-width:1.0\" width=\"0.0\" x=\"45.0\" y=\"320.0\"></rect><rect class=\"toyplot-Datum\" height=\"4.0\" style=\"fill:rgb(50.2%,50.2%,50.2%);fill-opacity:1.0;opacity:1.0;stroke:rgb(100%,100%,100%);stroke-opacity:1.0;stroke-width:1.0\" width=\"0.0\" x=\"45.0\" y=\"316.0\"></rect><rect class=\"toyplot-Datum\" height=\"4.0\" style=\"fill:rgb(50.2%,50.2%,50.2%);fill-opacity:1.0;opacity:1.0;stroke:rgb(100%,100%,100%);stroke-opacity:1.0;stroke-width:1.0\" width=\"0.0\" x=\"45.0\" y=\"312.0\"></rect><rect class=\"toyplot-Datum\" height=\"4.0\" style=\"fill:rgb(50.2%,50.2%,50.2%);fill-opacity:1.0;opacity:1.0;stroke:rgb(100%,100%,100%);stroke-opacity:1.0;stroke-width:1.0\" width=\"0.21496815286624127\" x=\"45.0\" y=\"308.0\"></rect><rect class=\"toyplot-Datum\" height=\"3.9999999999999432\" style=\"fill:rgb(50.2%,50.2%,50.2%);fill-opacity:1.0;opacity:1.0;stroke:rgb(100%,100%,100%);stroke-opacity:1.0;stroke-width:1.0\" width=\"0.0\" x=\"45.0\" y=\"304.00000000000006\"></rect><rect class=\"toyplot-Datum\" height=\"4.0000000000000568\" style=\"fill:rgb(50.2%,50.2%,50.2%);fill-opacity:1.0;opacity:1.0;stroke:rgb(100%,100%,100%);stroke-opacity:1.0;stroke-width:1.0\" width=\"0.32245222929936546\" x=\"45.0\" y=\"300.0\"></rect><rect class=\"toyplot-Datum\" height=\"4.0\" style=\"fill:rgb(50.2%,50.2%,50.2%);fill-opacity:1.0;opacity:1.0;stroke:rgb(100%,100%,100%);stroke-opacity:1.0;stroke-width:1.0\" width=\"1.1823248407643376\" x=\"45.0\" y=\"296.0\"></rect><rect class=\"toyplot-Datum\" height=\"4.0\" style=\"fill:rgb(50.2%,50.2%,50.2%);fill-opacity:1.0;opacity:1.0;stroke:rgb(100%,100%,100%);stroke-opacity:1.0;stroke-width:1.0\" width=\"1.9347133757961856\" x=\"45.0\" y=\"292.0\"></rect><rect class=\"toyplot-Datum\" height=\"4.0\" style=\"fill:rgb(50.2%,50.2%,50.2%);fill-opacity:1.0;opacity:1.0;stroke:rgb(100%,100%,100%);stroke-opacity:1.0;stroke-width:1.0\" width=\"4.6218152866242121\" x=\"45.0\" y=\"288.0\"></rect><rect class=\"toyplot-Datum\" height=\"4.0\" style=\"fill:rgb(50.2%,50.2%,50.2%);fill-opacity:1.0;opacity:1.0;stroke:rgb(100%,100%,100%);stroke-opacity:1.0;stroke-width:1.0\" width=\"8.1687898089171966\" x=\"45.0\" y=\"284.0\"></rect><rect class=\"toyplot-Datum\" height=\"4.0\" style=\"fill:rgb(50.2%,50.2%,50.2%);fill-opacity:1.0;opacity:1.0;stroke:rgb(100%,100%,100%);stroke-opacity:1.0;stroke-width:1.0\" width=\"11.070859872611464\" x=\"45.0\" y=\"280.0\"></rect><rect class=\"toyplot-Datum\" height=\"4.0\" style=\"fill:rgb(50.2%,50.2%,50.2%);fill-opacity:1.0;opacity:1.0;stroke:rgb(100%,100%,100%);stroke-opacity:1.0;stroke-width:1.0\" width=\"13.757961783439484\" x=\"45.0\" y=\"276.0\"></rect><rect class=\"toyplot-Datum\" height=\"4.0\" style=\"fill:rgb(50.2%,50.2%,50.2%);fill-opacity:1.0;opacity:1.0;stroke:rgb(100%,100%,100%);stroke-opacity:1.0;stroke-width:1.0\" width=\"15.262738853503237\" x=\"45.0\" y=\"272.0\"></rect><rect class=\"toyplot-Datum\" height=\"4.0\" style=\"fill:rgb(50.2%,50.2%,50.2%);fill-opacity:1.0;opacity:1.0;stroke:rgb(100%,100%,100%);stroke-opacity:1.0;stroke-width:1.0\" width=\"16.875\" x=\"45.0\" y=\"268.0\"></rect><rect class=\"toyplot-Datum\" height=\"4.0\" style=\"fill:rgb(50.2%,50.2%,50.2%);fill-opacity:1.0;opacity:1.0;stroke:rgb(100%,100%,100%);stroke-opacity:1.0;stroke-width:1.0\" width=\"10.963375796178347\" x=\"45.0\" y=\"264.0\"></rect><rect class=\"toyplot-Datum\" height=\"4.0\" style=\"fill:rgb(50.2%,50.2%,50.2%);fill-opacity:1.0;opacity:1.0;stroke:rgb(100%,100%,100%);stroke-opacity:1.0;stroke-width:1.0\" width=\"9.4585987261146869\" x=\"45.0\" y=\"260.0\"></rect><rect class=\"toyplot-Datum\" height=\"4.0\" style=\"fill:rgb(50.2%,50.2%,50.2%);fill-opacity:1.0;opacity:1.0;stroke:rgb(100%,100%,100%);stroke-opacity:1.0;stroke-width:1.0\" width=\"6.2340764331210181\" x=\"45.0\" y=\"256.0\"></rect><rect class=\"toyplot-Datum\" height=\"4.0\" style=\"fill:rgb(50.2%,50.2%,50.2%);fill-opacity:1.0;opacity:1.0;stroke:rgb(100%,100%,100%);stroke-opacity:1.0;stroke-width:1.0\" width=\"4.514331210191088\" x=\"45.0\" y=\"252.0\"></rect><rect class=\"toyplot-Datum\" height=\"4.0\" style=\"fill:rgb(50.2%,50.2%,50.2%);fill-opacity:1.0;opacity:1.0;stroke:rgb(100%,100%,100%);stroke-opacity:1.0;stroke-width:1.0\" width=\"1.504777070063696\" x=\"45.0\" y=\"248.0\"></rect><rect class=\"toyplot-Datum\" height=\"4.0\" style=\"fill:rgb(50.2%,50.2%,50.2%);fill-opacity:1.0;opacity:1.0;stroke:rgb(100%,100%,100%);stroke-opacity:1.0;stroke-width:1.0\" width=\"0.85987261146496508\" x=\"45.0\" y=\"244.0\"></rect><rect class=\"toyplot-Datum\" height=\"4.0\" style=\"fill:rgb(50.2%,50.2%,50.2%);fill-opacity:1.0;opacity:1.0;stroke:rgb(100%,100%,100%);stroke-opacity:1.0;stroke-width:1.0\" width=\"0.32245222929936546\" x=\"45.0\" y=\"240.0\"></rect><rect class=\"toyplot-Datum\" height=\"4.0\" style=\"fill:rgb(50.2%,50.2%,50.2%);fill-opacity:1.0;opacity:1.0;stroke:rgb(100%,100%,100%);stroke-opacity:1.0;stroke-width:1.0\" width=\"0.21496815286624127\" x=\"45.0\" y=\"236.0\"></rect><rect class=\"toyplot-Datum\" height=\"3.9999999999999716\" style=\"fill:rgb(50.2%,50.2%,50.2%);fill-opacity:1.0;opacity:1.0;stroke:rgb(100%,100%,100%);stroke-opacity:1.0;stroke-width:1.0\" width=\"0.0\" x=\"45.0\" y=\"232.00000000000003\"></rect><rect class=\"toyplot-Datum\" height=\"4.0\" style=\"fill:rgb(50.2%,50.2%,50.2%);fill-opacity:1.0;opacity:1.0;stroke:rgb(100%,100%,100%);stroke-opacity:1.0;stroke-width:1.0\" width=\"0.0\" x=\"45.0\" y=\"228.00000000000003\"></rect><rect class=\"toyplot-Datum\" height=\"4.0000000000000284\" style=\"fill:rgb(50.2%,50.2%,50.2%);fill-opacity:1.0;opacity:1.0;stroke:rgb(100%,100%,100%);stroke-opacity:1.0;stroke-width:1.0\" width=\"0.0\" x=\"45.0\" y=\"224.0\"></rect><rect class=\"toyplot-Datum\" height=\"3.9999999999999716\" style=\"fill:rgb(50.2%,50.2%,50.2%);fill-opacity:1.0;opacity:1.0;stroke:rgb(100%,100%,100%);stroke-opacity:1.0;stroke-width:1.0\" width=\"0.0\" x=\"45.0\" y=\"220.00000000000003\"></rect><rect class=\"toyplot-Datum\" height=\"4.0000000000000284\" style=\"fill:rgb(50.2%,50.2%,50.2%);fill-opacity:1.0;opacity:1.0;stroke:rgb(100%,100%,100%);stroke-opacity:1.0;stroke-width:1.0\" width=\"0.0\" x=\"45.0\" y=\"216.0\"></rect><rect class=\"toyplot-Datum\" height=\"4.0\" style=\"fill:rgb(50.2%,50.2%,50.2%);fill-opacity:1.0;opacity:1.0;stroke:rgb(100%,100%,100%);stroke-opacity:1.0;stroke-width:1.0\" width=\"0.0\" x=\"45.0\" y=\"212.0\"></rect><rect class=\"toyplot-Datum\" height=\"4.0\" style=\"fill:rgb(50.2%,50.2%,50.2%);fill-opacity:1.0;opacity:1.0;stroke:rgb(100%,100%,100%);stroke-opacity:1.0;stroke-width:1.0\" width=\"0.0\" x=\"45.0\" y=\"208.0\"></rect><rect class=\"toyplot-Datum\" height=\"4.0\" style=\"fill:rgb(50.2%,50.2%,50.2%);fill-opacity:1.0;opacity:1.0;stroke:rgb(100%,100%,100%);stroke-opacity:1.0;stroke-width:1.0\" width=\"0.0\" x=\"45.0\" y=\"204.0\"></rect><rect class=\"toyplot-Datum\" height=\"4.0\" style=\"fill:rgb(50.2%,50.2%,50.2%);fill-opacity:1.0;opacity:1.0;stroke:rgb(100%,100%,100%);stroke-opacity:1.0;stroke-width:1.0\" width=\"0.0\" x=\"45.0\" y=\"200.0\"></rect><rect class=\"toyplot-Datum\" height=\"3.9999999999999716\" style=\"fill:rgb(50.2%,50.2%,50.2%);fill-opacity:1.0;opacity:1.0;stroke:rgb(100%,100%,100%);stroke-opacity:1.0;stroke-width:1.0\" width=\"0.0\" x=\"45.0\" y=\"196.00000000000003\"></rect><rect class=\"toyplot-Datum\" height=\"4.0000000000000284\" style=\"fill:rgb(50.2%,50.2%,50.2%);fill-opacity:1.0;opacity:1.0;stroke:rgb(100%,100%,100%);stroke-opacity:1.0;stroke-width:1.0\" width=\"0.0\" x=\"45.0\" y=\"192.0\"></rect><rect class=\"toyplot-Datum\" height=\"4.0\" style=\"fill:rgb(50.2%,50.2%,50.2%);fill-opacity:1.0;opacity:1.0;stroke:rgb(100%,100%,100%);stroke-opacity:1.0;stroke-width:1.0\" width=\"0.0\" x=\"45.0\" y=\"188.0\"></rect><rect class=\"toyplot-Datum\" height=\"4.0\" style=\"fill:rgb(50.2%,50.2%,50.2%);fill-opacity:1.0;opacity:1.0;stroke:rgb(100%,100%,100%);stroke-opacity:1.0;stroke-width:1.0\" width=\"0.0\" x=\"45.0\" y=\"184.0\"></rect><rect class=\"toyplot-Datum\" height=\"4.0\" style=\"fill:rgb(50.2%,50.2%,50.2%);fill-opacity:1.0;opacity:1.0;stroke:rgb(100%,100%,100%);stroke-opacity:1.0;stroke-width:1.0\" width=\"0.0\" x=\"45.0\" y=\"180.0\"></rect></g></g></g><g class=\"toyplot-coordinates-Axis\" id=\"t9c4abc7d3a51450197d4aee7702c7573\" transform=\"translate(45.0,380.0)rotate(-90.0)translate(0,-0.5)\"><line style=\"\" x1=\"0\" x2=\"200.0\" y1=\"0\" y2=\"0\"></line><g><line style=\"\" x1=\"0.0\" x2=\"0.0\" y1=\"0\" y2=\"5\"></line><line style=\"\" x1=\"50.0\" x2=\"50.0\" y1=\"0\" y2=\"5\"></line><line style=\"\" x1=\"100.0\" x2=\"100.0\" y1=\"0\" y2=\"5\"></line><line style=\"\" x1=\"150.00000000000003\" x2=\"150.00000000000003\" y1=\"0\" y2=\"5\"></line><line style=\"\" x1=\"200.0\" x2=\"200.0\" y1=\"0\" y2=\"5\"></line></g><g><text style=\"dominant-baseline:alphabetic;font-size:12px;font-weight:normal;stroke:none;text-anchor:middle\" transform=\"translate(0.0,-10.0)\"><tspan style=\"dominant-baseline:inherit\">-0.2</tspan></text><text style=\"dominant-baseline:alphabetic;font-size:12px;font-weight:normal;stroke:none;text-anchor:middle\" transform=\"translate(50.0,-10.0)\"><tspan style=\"dominant-baseline:inherit\">-0.1</tspan></text><text style=\"dominant-baseline:alphabetic;font-size:12px;font-weight:normal;stroke:none;text-anchor:middle\" transform=\"translate(100.0,-10.0)\"><tspan style=\"dominant-baseline:inherit\">0.0</tspan></text><text style=\"dominant-baseline:alphabetic;font-size:12px;font-weight:normal;stroke:none;text-anchor:middle\" transform=\"translate(150.00000000000003,-10.0)\"><tspan style=\"dominant-baseline:inherit\">0.1</tspan></text><text style=\"dominant-baseline:alphabetic;font-size:12px;font-weight:normal;stroke:none;text-anchor:middle\" transform=\"translate(200.0,-10.0)\"><tspan style=\"dominant-baseline:inherit\">0.2</tspan></text></g><text style=\"dominant-baseline:alphabetic;fill:rgb(16.1%,15.3%,14.1%);fill-opacity:1.0;font-size:16px;font-weight:bold;stroke:none;text-anchor:middle\" transform=\"translate(100.0,-30.0)\"><tspan style=\"dominant-baseline:inherit\">D-stat bootstraps</tspan></text><g class=\"toyplot-coordinates-Axis-coordinates\" style=\"visibility:hidden\" transform=\"\"><line style=\"stroke:rgb(43.9%,50.2%,56.5%);stroke-opacity:1.0;stroke-width:1.0\" x1=\"0\" x2=\"0\" y1=\"5.0\" y2=\"-7.5\"></line><text style=\"alignment-baseline:hanging;fill:rgb(43.9%,50.2%,56.5%);fill-opacity:1.0;font-size:10px;font-weight:normal;stroke:none;text-anchor:middle\" x=\"0\" y=\"10.0\"></text></g></g></g><g class=\"toyplot-coordinates-Cartesian\" id=\"tea666caf856341e395288877c1a649ff\"><clipPath id=\"tb1d69be2df6944ca8d05168c4e31c3d2\"><rect height=\"201.0\" width=\"17.875\" x=\"67.0\" y=\"179.5\"></rect></clipPath><g clip-path=\"url(#tb1d69be2df6944ca8d05168c4e31c3d2)\"><g class=\"toyplot-mark-BarMagnitudes\" id=\"t0459cce77df44534b7bb537f3870866f\" style=\"stroke:rgb(100%,100%,100%);stroke-opacity:1.0;stroke-width:1.0\"><g class=\"toyplot-Series\"><rect class=\"toyplot-Datum\" height=\"4.0\" style=\"fill:rgb(98.8%,55.3%,38.4%);fill-opacity:1.0;opacity:1.0;stroke:rgb(100%,100%,100%);stroke-opacity:1.0;stroke-width:1.0\" width=\"0.0\" x=\"67.5\" y=\"376.0\"></rect><rect class=\"toyplot-Datum\" height=\"4.0\" style=\"fill:rgb(98.8%,55.3%,38.4%);fill-opacity:1.0;opacity:1.0;stroke:rgb(100%,100%,100%);stroke-opacity:1.0;stroke-width:1.0\" width=\"0.0\" x=\"67.5\" y=\"372.0\"></rect><rect class=\"toyplot-Datum\" height=\"3.9999999999999432\" style=\"fill:rgb(98.8%,55.3%,38.4%);fill-opacity:1.0;opacity:1.0;stroke:rgb(100%,100%,100%);stroke-opacity:1.0;stroke-width:1.0\" width=\"0.0\" x=\"67.5\" y=\"368.00000000000006\"></rect><rect class=\"toyplot-Datum\" height=\"4.0000000000000568\" style=\"fill:rgb(98.8%,55.3%,38.4%);fill-opacity:1.0;opacity:1.0;stroke:rgb(100%,100%,100%);stroke-opacity:1.0;stroke-width:1.0\" width=\"0.0\" x=\"67.5\" y=\"364.0\"></rect><rect class=\"toyplot-Datum\" height=\"4.0\" style=\"fill:rgb(98.8%,55.3%,38.4%);fill-opacity:1.0;opacity:1.0;stroke:rgb(100%,100%,100%);stroke-opacity:1.0;stroke-width:1.0\" width=\"0.0\" x=\"67.5\" y=\"360.0\"></rect><rect class=\"toyplot-Datum\" height=\"4.0\" style=\"fill:rgb(98.8%,55.3%,38.4%);fill-opacity:1.0;opacity:1.0;stroke:rgb(100%,100%,100%);stroke-opacity:1.0;stroke-width:1.0\" width=\"0.0\" x=\"67.5\" y=\"356.0\"></rect><rect class=\"toyplot-Datum\" height=\"4.0\" style=\"fill:rgb(98.8%,55.3%,38.4%);fill-opacity:1.0;opacity:1.0;stroke:rgb(100%,100%,100%);stroke-opacity:1.0;stroke-width:1.0\" width=\"0.0\" x=\"67.5\" y=\"352.0\"></rect><rect class=\"toyplot-Datum\" height=\"4.0\" style=\"fill:rgb(98.8%,55.3%,38.4%);fill-opacity:1.0;opacity:1.0;stroke:rgb(100%,100%,100%);stroke-opacity:1.0;stroke-width:1.0\" width=\"0.0\" x=\"67.5\" y=\"348.0\"></rect><rect class=\"toyplot-Datum\" height=\"4.0\" style=\"fill:rgb(98.8%,55.3%,38.4%);fill-opacity:1.0;opacity:1.0;stroke:rgb(100%,100%,100%);stroke-opacity:1.0;stroke-width:1.0\" width=\"0.0\" x=\"67.5\" y=\"344.0\"></rect><rect class=\"toyplot-Datum\" height=\"4.0\" style=\"fill:rgb(98.8%,55.3%,38.4%);fill-opacity:1.0;opacity:1.0;stroke:rgb(100%,100%,100%);stroke-opacity:1.0;stroke-width:1.0\" width=\"0.0\" x=\"67.5\" y=\"340.0\"></rect><rect class=\"toyplot-Datum\" height=\"4.0\" style=\"fill:rgb(98.8%,55.3%,38.4%);fill-opacity:1.0;opacity:1.0;stroke:rgb(100%,100%,100%);stroke-opacity:1.0;stroke-width:1.0\" width=\"0.39940828402367856\" x=\"67.5\" y=\"336.0\"></rect><rect class=\"toyplot-Datum\" height=\"4.0\" style=\"fill:rgb(98.8%,55.3%,38.4%);fill-opacity:1.0;opacity:1.0;stroke:rgb(100%,100%,100%);stroke-opacity:1.0;stroke-width:1.0\" width=\"1.0983727810650805\" x=\"67.5\" y=\"332.0\"></rect><rect class=\"toyplot-Datum\" height=\"4.0\" style=\"fill:rgb(98.8%,55.3%,38.4%);fill-opacity:1.0;opacity:1.0;stroke:rgb(100%,100%,100%);stroke-opacity:1.0;stroke-width:1.0\" width=\"1.6974852071005984\" x=\"67.5\" y=\"328.0\"></rect><rect class=\"toyplot-Datum\" height=\"4.0000000000000568\" style=\"fill:rgb(98.8%,55.3%,38.4%);fill-opacity:1.0;opacity:1.0;stroke:rgb(100%,100%,100%);stroke-opacity:1.0;stroke-width:1.0\" width=\"4.8927514792899558\" x=\"67.5\" y=\"323.99999999999994\"></rect><rect class=\"toyplot-Datum\" height=\"3.9999999999999432\" style=\"fill:rgb(98.8%,55.3%,38.4%);fill-opacity:1.0;opacity:1.0;stroke:rgb(100%,100%,100%);stroke-opacity:1.0;stroke-width:1.0\" width=\"8.4874260355029776\" x=\"67.5\" y=\"320.0\"></rect><rect class=\"toyplot-Datum\" height=\"4.0\" style=\"fill:rgb(98.8%,55.3%,38.4%);fill-opacity:1.0;opacity:1.0;stroke:rgb(100%,100%,100%);stroke-opacity:1.0;stroke-width:1.0\" width=\"11.882396449704146\" x=\"67.5\" y=\"316.0\"></rect><rect class=\"toyplot-Datum\" height=\"4.0\" style=\"fill:rgb(98.8%,55.3%,38.4%);fill-opacity:1.0;opacity:1.0;stroke:rgb(100%,100%,100%);stroke-opacity:1.0;stroke-width:1.0\" width=\"13.380177514792905\" x=\"67.5\" y=\"312.0\"></rect><rect class=\"toyplot-Datum\" height=\"4.0\" style=\"fill:rgb(98.8%,55.3%,38.4%);fill-opacity:1.0;opacity:1.0;stroke:rgb(100%,100%,100%);stroke-opacity:1.0;stroke-width:1.0\" width=\"16.875\" x=\"67.5\" y=\"308.0\"></rect><rect class=\"toyplot-Datum\" height=\"3.9999999999999432\" style=\"fill:rgb(98.8%,55.3%,38.4%);fill-opacity:1.0;opacity:1.0;stroke:rgb(100%,100%,100%);stroke-opacity:1.0;stroke-width:1.0\" width=\"15.377218934911298\" x=\"67.5\" y=\"304.00000000000006\"></rect><rect class=\"toyplot-Datum\" height=\"4.0000000000000568\" style=\"fill:rgb(98.8%,55.3%,38.4%);fill-opacity:1.0;opacity:1.0;stroke:rgb(100%,100%,100%);stroke-opacity:1.0;stroke-width:1.0\" width=\"11.582840236686394\" x=\"67.5\" y=\"300.0\"></rect><rect class=\"toyplot-Datum\" height=\"4.0\" style=\"fill:rgb(98.8%,55.3%,38.4%);fill-opacity:1.0;opacity:1.0;stroke:rgb(100%,100%,100%);stroke-opacity:1.0;stroke-width:1.0\" width=\"6.1908284023668614\" x=\"67.5\" y=\"296.0\"></rect><rect class=\"toyplot-Datum\" height=\"4.0\" style=\"fill:rgb(98.8%,55.3%,38.4%);fill-opacity:1.0;opacity:1.0;stroke:rgb(100%,100%,100%);stroke-opacity:1.0;stroke-width:1.0\" width=\"3.9940828402367003\" x=\"67.5\" y=\"292.0\"></rect><rect class=\"toyplot-Datum\" height=\"4.0\" style=\"fill:rgb(98.8%,55.3%,38.4%);fill-opacity:1.0;opacity:1.0;stroke:rgb(100%,100%,100%);stroke-opacity:1.0;stroke-width:1.0\" width=\"2.2965976331360878\" x=\"67.5\" y=\"288.0\"></rect><rect class=\"toyplot-Datum\" height=\"4.0\" style=\"fill:rgb(98.8%,55.3%,38.4%);fill-opacity:1.0;opacity:1.0;stroke:rgb(100%,100%,100%);stroke-opacity:1.0;stroke-width:1.0\" width=\"1.1982248520710073\" x=\"67.5\" y=\"284.0\"></rect><rect class=\"toyplot-Datum\" height=\"4.0\" style=\"fill:rgb(98.8%,55.3%,38.4%);fill-opacity:1.0;opacity:1.0;stroke:rgb(100%,100%,100%);stroke-opacity:1.0;stroke-width:1.0\" width=\"0.29955621301775182\" x=\"67.5\" y=\"280.0\"></rect><rect class=\"toyplot-Datum\" height=\"4.0\" style=\"fill:rgb(98.8%,55.3%,38.4%);fill-opacity:1.0;opacity:1.0;stroke:rgb(100%,100%,100%);stroke-opacity:1.0;stroke-width:1.0\" width=\"0.099852071005926746\" x=\"67.5\" y=\"276.0\"></rect><rect class=\"toyplot-Datum\" height=\"4.0\" style=\"fill:rgb(98.8%,55.3%,38.4%);fill-opacity:1.0;opacity:1.0;stroke:rgb(100%,100%,100%);stroke-opacity:1.0;stroke-width:1.0\" width=\"0.099852071005926746\" x=\"67.5\" y=\"272.0\"></rect><rect class=\"toyplot-Datum\" height=\"4.0\" style=\"fill:rgb(98.8%,55.3%,38.4%);fill-opacity:1.0;opacity:1.0;stroke:rgb(100%,100%,100%);stroke-opacity:1.0;stroke-width:1.0\" width=\"0.0\" x=\"67.5\" y=\"268.0\"></rect><rect class=\"toyplot-Datum\" height=\"4.0\" style=\"fill:rgb(98.8%,55.3%,38.4%);fill-opacity:1.0;opacity:1.0;stroke:rgb(100%,100%,100%);stroke-opacity:1.0;stroke-width:1.0\" width=\"0.0\" x=\"67.5\" y=\"264.0\"></rect><rect class=\"toyplot-Datum\" height=\"4.0\" style=\"fill:rgb(98.8%,55.3%,38.4%);fill-opacity:1.0;opacity:1.0;stroke:rgb(100%,100%,100%);stroke-opacity:1.0;stroke-width:1.0\" width=\"0.0\" x=\"67.5\" y=\"260.0\"></rect><rect class=\"toyplot-Datum\" height=\"4.0\" style=\"fill:rgb(98.8%,55.3%,38.4%);fill-opacity:1.0;opacity:1.0;stroke:rgb(100%,100%,100%);stroke-opacity:1.0;stroke-width:1.0\" width=\"0.0\" x=\"67.5\" y=\"256.0\"></rect><rect class=\"toyplot-Datum\" height=\"4.0\" style=\"fill:rgb(98.8%,55.3%,38.4%);fill-opacity:1.0;opacity:1.0;stroke:rgb(100%,100%,100%);stroke-opacity:1.0;stroke-width:1.0\" width=\"0.0\" x=\"67.5\" y=\"252.0\"></rect><rect class=\"toyplot-Datum\" height=\"4.0\" style=\"fill:rgb(98.8%,55.3%,38.4%);fill-opacity:1.0;opacity:1.0;stroke:rgb(100%,100%,100%);stroke-opacity:1.0;stroke-width:1.0\" width=\"0.0\" x=\"67.5\" y=\"248.0\"></rect><rect class=\"toyplot-Datum\" height=\"4.0\" style=\"fill:rgb(98.8%,55.3%,38.4%);fill-opacity:1.0;opacity:1.0;stroke:rgb(100%,100%,100%);stroke-opacity:1.0;stroke-width:1.0\" width=\"0.0\" x=\"67.5\" y=\"244.0\"></rect><rect class=\"toyplot-Datum\" height=\"4.0\" style=\"fill:rgb(98.8%,55.3%,38.4%);fill-opacity:1.0;opacity:1.0;stroke:rgb(100%,100%,100%);stroke-opacity:1.0;stroke-width:1.0\" width=\"0.0\" x=\"67.5\" y=\"240.0\"></rect><rect class=\"toyplot-Datum\" height=\"4.0\" style=\"fill:rgb(98.8%,55.3%,38.4%);fill-opacity:1.0;opacity:1.0;stroke:rgb(100%,100%,100%);stroke-opacity:1.0;stroke-width:1.0\" width=\"0.0\" x=\"67.5\" y=\"236.0\"></rect><rect class=\"toyplot-Datum\" height=\"3.9999999999999716\" style=\"fill:rgb(98.8%,55.3%,38.4%);fill-opacity:1.0;opacity:1.0;stroke:rgb(100%,100%,100%);stroke-opacity:1.0;stroke-width:1.0\" width=\"0.0\" x=\"67.5\" y=\"232.00000000000003\"></rect><rect class=\"toyplot-Datum\" height=\"4.0\" style=\"fill:rgb(98.8%,55.3%,38.4%);fill-opacity:1.0;opacity:1.0;stroke:rgb(100%,100%,100%);stroke-opacity:1.0;stroke-width:1.0\" width=\"0.0\" x=\"67.5\" y=\"228.00000000000003\"></rect><rect class=\"toyplot-Datum\" height=\"4.0000000000000284\" style=\"fill:rgb(98.8%,55.3%,38.4%);fill-opacity:1.0;opacity:1.0;stroke:rgb(100%,100%,100%);stroke-opacity:1.0;stroke-width:1.0\" width=\"0.0\" x=\"67.5\" y=\"224.0\"></rect><rect class=\"toyplot-Datum\" height=\"3.9999999999999716\" style=\"fill:rgb(98.8%,55.3%,38.4%);fill-opacity:1.0;opacity:1.0;stroke:rgb(100%,100%,100%);stroke-opacity:1.0;stroke-width:1.0\" width=\"0.0\" x=\"67.5\" y=\"220.00000000000003\"></rect><rect class=\"toyplot-Datum\" height=\"4.0000000000000284\" style=\"fill:rgb(98.8%,55.3%,38.4%);fill-opacity:1.0;opacity:1.0;stroke:rgb(100%,100%,100%);stroke-opacity:1.0;stroke-width:1.0\" width=\"0.0\" x=\"67.5\" y=\"216.0\"></rect><rect class=\"toyplot-Datum\" height=\"4.0\" style=\"fill:rgb(98.8%,55.3%,38.4%);fill-opacity:1.0;opacity:1.0;stroke:rgb(100%,100%,100%);stroke-opacity:1.0;stroke-width:1.0\" width=\"0.0\" x=\"67.5\" y=\"212.0\"></rect><rect class=\"toyplot-Datum\" height=\"4.0\" style=\"fill:rgb(98.8%,55.3%,38.4%);fill-opacity:1.0;opacity:1.0;stroke:rgb(100%,100%,100%);stroke-opacity:1.0;stroke-width:1.0\" width=\"0.0\" x=\"67.5\" y=\"208.0\"></rect><rect class=\"toyplot-Datum\" height=\"4.0\" style=\"fill:rgb(98.8%,55.3%,38.4%);fill-opacity:1.0;opacity:1.0;stroke:rgb(100%,100%,100%);stroke-opacity:1.0;stroke-width:1.0\" width=\"0.0\" x=\"67.5\" y=\"204.0\"></rect><rect class=\"toyplot-Datum\" height=\"4.0\" style=\"fill:rgb(98.8%,55.3%,38.4%);fill-opacity:1.0;opacity:1.0;stroke:rgb(100%,100%,100%);stroke-opacity:1.0;stroke-width:1.0\" width=\"0.0\" x=\"67.5\" y=\"200.0\"></rect><rect class=\"toyplot-Datum\" height=\"3.9999999999999716\" style=\"fill:rgb(98.8%,55.3%,38.4%);fill-opacity:1.0;opacity:1.0;stroke:rgb(100%,100%,100%);stroke-opacity:1.0;stroke-width:1.0\" width=\"0.0\" x=\"67.5\" y=\"196.00000000000003\"></rect><rect class=\"toyplot-Datum\" height=\"4.0000000000000284\" style=\"fill:rgb(98.8%,55.3%,38.4%);fill-opacity:1.0;opacity:1.0;stroke:rgb(100%,100%,100%);stroke-opacity:1.0;stroke-width:1.0\" width=\"0.0\" x=\"67.5\" y=\"192.0\"></rect><rect class=\"toyplot-Datum\" height=\"4.0\" style=\"fill:rgb(98.8%,55.3%,38.4%);fill-opacity:1.0;opacity:1.0;stroke:rgb(100%,100%,100%);stroke-opacity:1.0;stroke-width:1.0\" width=\"0.0\" x=\"67.5\" y=\"188.0\"></rect><rect class=\"toyplot-Datum\" height=\"4.0\" style=\"fill:rgb(98.8%,55.3%,38.4%);fill-opacity:1.0;opacity:1.0;stroke:rgb(100%,100%,100%);stroke-opacity:1.0;stroke-width:1.0\" width=\"0.0\" x=\"67.5\" y=\"184.0\"></rect><rect class=\"toyplot-Datum\" height=\"4.0\" style=\"fill:rgb(98.8%,55.3%,38.4%);fill-opacity:1.0;opacity:1.0;stroke:rgb(100%,100%,100%);stroke-opacity:1.0;stroke-width:1.0\" width=\"0.0\" x=\"67.5\" y=\"180.0\"></rect></g></g></g><g class=\"toyplot-coordinates-Axis\" id=\"t0632a7b574e54bd98dd4f88f3b17020a\" transform=\"translate(67.5,380.0)rotate(-90.0)translate(0,-0.5)\"><line style=\"\" x1=\"0\" x2=\"200.0\" y1=\"0\" y2=\"0\"></line><g class=\"toyplot-coordinates-Axis-coordinates\" style=\"visibility:hidden\" transform=\"\"><line style=\"stroke:rgb(43.9%,50.2%,56.5%);stroke-opacity:1.0;stroke-width:1.0\" x1=\"0\" x2=\"0\" y1=\"3.0\" y2=\"-4.5\"></line><text style=\"alignment-baseline:hanging;fill:rgb(43.9%,50.2%,56.5%);fill-opacity:1.0;font-size:10px;font-weight:normal;stroke:none;text-anchor:middle\" x=\"0\" y=\"6\"></text></g></g></g><g class=\"toyplot-coordinates-Cartesian\" id=\"t07e70e75f9534420b7ca869623a45b57\"><clipPath id=\"t3f198065b5a64e5c9774017749e4743e\"><rect height=\"201.0\" width=\"17.875\" x=\"89.5\" y=\"179.5\"></rect></clipPath><g clip-path=\"url(#t3f198065b5a64e5c9774017749e4743e)\"><g class=\"toyplot-mark-BarMagnitudes\" id=\"t55eec83f1507436ba5f3141cc344dec4\" style=\"stroke:rgb(100%,100%,100%);stroke-opacity:1.0;stroke-width:1.0\"><g class=\"toyplot-Series\"><rect class=\"toyplot-Datum\" height=\"4.0\" style=\"fill:rgb(50.2%,50.2%,50.2%);fill-opacity:1.0;opacity:1.0;stroke:rgb(100%,100%,100%);stroke-opacity:1.0;stroke-width:1.0\" width=\"0.0\" x=\"90.0\" y=\"376.0\"></rect><rect class=\"toyplot-Datum\" height=\"4.0\" style=\"fill:rgb(50.2%,50.2%,50.2%);fill-opacity:1.0;opacity:1.0;stroke:rgb(100%,100%,100%);stroke-opacity:1.0;stroke-width:1.0\" width=\"0.0\" x=\"90.0\" y=\"372.0\"></rect><rect class=\"toyplot-Datum\" height=\"3.9999999999999432\" style=\"fill:rgb(50.2%,50.2%,50.2%);fill-opacity:1.0;opacity:1.0;stroke:rgb(100%,100%,100%);stroke-opacity:1.0;stroke-width:1.0\" width=\"0.0\" x=\"90.0\" y=\"368.00000000000006\"></rect><rect class=\"toyplot-Datum\" height=\"4.0000000000000568\" style=\"fill:rgb(50.2%,50.2%,50.2%);fill-opacity:1.0;opacity:1.0;stroke:rgb(100%,100%,100%);stroke-opacity:1.0;stroke-width:1.0\" width=\"0.0\" x=\"90.0\" y=\"364.0\"></rect><rect class=\"toyplot-Datum\" height=\"4.0\" style=\"fill:rgb(50.2%,50.2%,50.2%);fill-opacity:1.0;opacity:1.0;stroke:rgb(100%,100%,100%);stroke-opacity:1.0;stroke-width:1.0\" width=\"0.0\" x=\"90.0\" y=\"360.0\"></rect><rect class=\"toyplot-Datum\" height=\"4.0\" style=\"fill:rgb(50.2%,50.2%,50.2%);fill-opacity:1.0;opacity:1.0;stroke:rgb(100%,100%,100%);stroke-opacity:1.0;stroke-width:1.0\" width=\"0.0\" x=\"90.0\" y=\"356.0\"></rect><rect class=\"toyplot-Datum\" height=\"4.0\" style=\"fill:rgb(50.2%,50.2%,50.2%);fill-opacity:1.0;opacity:1.0;stroke:rgb(100%,100%,100%);stroke-opacity:1.0;stroke-width:1.0\" width=\"0.0\" x=\"90.0\" y=\"352.0\"></rect><rect class=\"toyplot-Datum\" height=\"4.0\" style=\"fill:rgb(50.2%,50.2%,50.2%);fill-opacity:1.0;opacity:1.0;stroke:rgb(100%,100%,100%);stroke-opacity:1.0;stroke-width:1.0\" width=\"0.0\" x=\"90.0\" y=\"348.0\"></rect><rect class=\"toyplot-Datum\" height=\"4.0\" style=\"fill:rgb(50.2%,50.2%,50.2%);fill-opacity:1.0;opacity:1.0;stroke:rgb(100%,100%,100%);stroke-opacity:1.0;stroke-width:1.0\" width=\"0.0\" x=\"90.0\" y=\"344.0\"></rect><rect class=\"toyplot-Datum\" height=\"4.0\" style=\"fill:rgb(50.2%,50.2%,50.2%);fill-opacity:1.0;opacity:1.0;stroke:rgb(100%,100%,100%);stroke-opacity:1.0;stroke-width:1.0\" width=\"0.0\" x=\"90.0\" y=\"340.0\"></rect><rect class=\"toyplot-Datum\" height=\"4.0\" style=\"fill:rgb(50.2%,50.2%,50.2%);fill-opacity:1.0;opacity:1.0;stroke:rgb(100%,100%,100%);stroke-opacity:1.0;stroke-width:1.0\" width=\"0.0\" x=\"90.0\" y=\"336.0\"></rect><rect class=\"toyplot-Datum\" height=\"4.0\" style=\"fill:rgb(50.2%,50.2%,50.2%);fill-opacity:1.0;opacity:1.0;stroke:rgb(100%,100%,100%);stroke-opacity:1.0;stroke-width:1.0\" width=\"0.0\" x=\"90.0\" y=\"332.0\"></rect><rect class=\"toyplot-Datum\" height=\"4.0\" style=\"fill:rgb(50.2%,50.2%,50.2%);fill-opacity:1.0;opacity:1.0;stroke:rgb(100%,100%,100%);stroke-opacity:1.0;stroke-width:1.0\" width=\"0.0\" x=\"90.0\" y=\"328.0\"></rect><rect class=\"toyplot-Datum\" height=\"4.0000000000000568\" style=\"fill:rgb(50.2%,50.2%,50.2%);fill-opacity:1.0;opacity:1.0;stroke:rgb(100%,100%,100%);stroke-opacity:1.0;stroke-width:1.0\" width=\"0.0\" x=\"90.0\" y=\"323.99999999999994\"></rect><rect class=\"toyplot-Datum\" height=\"3.9999999999999432\" style=\"fill:rgb(50.2%,50.2%,50.2%);fill-opacity:1.0;opacity:1.0;stroke:rgb(100%,100%,100%);stroke-opacity:1.0;stroke-width:1.0\" width=\"0.0\" x=\"90.0\" y=\"320.0\"></rect><rect class=\"toyplot-Datum\" height=\"4.0\" style=\"fill:rgb(50.2%,50.2%,50.2%);fill-opacity:1.0;opacity:1.0;stroke:rgb(100%,100%,100%);stroke-opacity:1.0;stroke-width:1.0\" width=\"0.0\" x=\"90.0\" y=\"316.0\"></rect><rect class=\"toyplot-Datum\" height=\"4.0\" style=\"fill:rgb(50.2%,50.2%,50.2%);fill-opacity:1.0;opacity:1.0;stroke:rgb(100%,100%,100%);stroke-opacity:1.0;stroke-width:1.0\" width=\"0.0\" x=\"90.0\" y=\"312.0\"></rect><rect class=\"toyplot-Datum\" height=\"4.0\" style=\"fill:rgb(50.2%,50.2%,50.2%);fill-opacity:1.0;opacity:1.0;stroke:rgb(100%,100%,100%);stroke-opacity:1.0;stroke-width:1.0\" width=\"0.12228260869564167\" x=\"90.0\" y=\"308.0\"></rect><rect class=\"toyplot-Datum\" height=\"3.9999999999999432\" style=\"fill:rgb(50.2%,50.2%,50.2%);fill-opacity:1.0;opacity:1.0;stroke:rgb(100%,100%,100%);stroke-opacity:1.0;stroke-width:1.0\" width=\"0.12228260869565588\" x=\"90.0\" y=\"304.00000000000006\"></rect><rect class=\"toyplot-Datum\" height=\"4.0000000000000568\" style=\"fill:rgb(50.2%,50.2%,50.2%);fill-opacity:1.0;opacity:1.0;stroke:rgb(100%,100%,100%);stroke-opacity:1.0;stroke-width:1.0\" width=\"0.0\" x=\"90.0\" y=\"300.0\"></rect><rect class=\"toyplot-Datum\" height=\"4.0\" style=\"fill:rgb(50.2%,50.2%,50.2%);fill-opacity:1.0;opacity:1.0;stroke:rgb(100%,100%,100%);stroke-opacity:1.0;stroke-width:1.0\" width=\"0.73369565217392108\" x=\"90.0\" y=\"296.0\"></rect><rect class=\"toyplot-Datum\" height=\"4.0\" style=\"fill:rgb(50.2%,50.2%,50.2%);fill-opacity:1.0;opacity:1.0;stroke:rgb(100%,100%,100%);stroke-opacity:1.0;stroke-width:1.0\" width=\"1.7119565217391255\" x=\"90.0\" y=\"292.0\"></rect><rect class=\"toyplot-Datum\" height=\"4.0\" style=\"fill:rgb(50.2%,50.2%,50.2%);fill-opacity:1.0;opacity:1.0;stroke:rgb(100%,100%,100%);stroke-opacity:1.0;stroke-width:1.0\" width=\"3.1793478260869534\" x=\"90.0\" y=\"288.0\"></rect><rect class=\"toyplot-Datum\" height=\"4.0\" style=\"fill:rgb(50.2%,50.2%,50.2%);fill-opacity:1.0;opacity:1.0;stroke:rgb(100%,100%,100%);stroke-opacity:1.0;stroke-width:1.0\" width=\"5.5027173913043441\" x=\"90.0\" y=\"284.0\"></rect><rect class=\"toyplot-Datum\" height=\"4.0\" style=\"fill:rgb(50.2%,50.2%,50.2%);fill-opacity:1.0;opacity:1.0;stroke:rgb(100%,100%,100%);stroke-opacity:1.0;stroke-width:1.0\" width=\"6.4809782608695627\" x=\"90.0\" y=\"280.0\"></rect><rect class=\"toyplot-Datum\" height=\"4.0\" style=\"fill:rgb(50.2%,50.2%,50.2%);fill-opacity:1.0;opacity:1.0;stroke:rgb(100%,100%,100%);stroke-opacity:1.0;stroke-width:1.0\" width=\"11.372282608695642\" x=\"90.0\" y=\"276.0\"></rect><rect class=\"toyplot-Datum\" height=\"4.0\" style=\"fill:rgb(50.2%,50.2%,50.2%);fill-opacity:1.0;opacity:1.0;stroke:rgb(100%,100%,100%);stroke-opacity:1.0;stroke-width:1.0\" width=\"14.91847826086962\" x=\"90.0\" y=\"272.0\"></rect><rect class=\"toyplot-Datum\" height=\"4.0\" style=\"fill:rgb(50.2%,50.2%,50.2%);fill-opacity:1.0;opacity:1.0;stroke:rgb(100%,100%,100%);stroke-opacity:1.0;stroke-width:1.0\" width=\"16.630434782608702\" x=\"90.0\" y=\"268.0\"></rect><rect class=\"toyplot-Datum\" height=\"4.0\" style=\"fill:rgb(50.2%,50.2%,50.2%);fill-opacity:1.0;opacity:1.0;stroke:rgb(100%,100%,100%);stroke-opacity:1.0;stroke-width:1.0\" width=\"16.875\" x=\"90.0\" y=\"264.0\"></rect><rect class=\"toyplot-Datum\" height=\"4.0\" style=\"fill:rgb(50.2%,50.2%,50.2%);fill-opacity:1.0;opacity:1.0;stroke:rgb(100%,100%,100%);stroke-opacity:1.0;stroke-width:1.0\" width=\"14.673913043478308\" x=\"90.0\" y=\"260.0\"></rect><rect class=\"toyplot-Datum\" height=\"4.0\" style=\"fill:rgb(50.2%,50.2%,50.2%);fill-opacity:1.0;opacity:1.0;stroke:rgb(100%,100%,100%);stroke-opacity:1.0;stroke-width:1.0\" width=\"10.271739130434781\" x=\"90.0\" y=\"256.0\"></rect><rect class=\"toyplot-Datum\" height=\"4.0\" style=\"fill:rgb(50.2%,50.2%,50.2%);fill-opacity:1.0;opacity:1.0;stroke:rgb(100%,100%,100%);stroke-opacity:1.0;stroke-width:1.0\" width=\"8.8043478260869676\" x=\"90.0\" y=\"252.0\"></rect><rect class=\"toyplot-Datum\" height=\"4.0\" style=\"fill:rgb(50.2%,50.2%,50.2%);fill-opacity:1.0;opacity:1.0;stroke:rgb(100%,100%,100%);stroke-opacity:1.0;stroke-width:1.0\" width=\"5.2581521739130324\" x=\"90.0\" y=\"248.0\"></rect><rect class=\"toyplot-Datum\" height=\"4.0\" style=\"fill:rgb(50.2%,50.2%,50.2%);fill-opacity:1.0;opacity:1.0;stroke:rgb(100%,100%,100%);stroke-opacity:1.0;stroke-width:1.0\" width=\"3.3016304347826093\" x=\"90.0\" y=\"244.0\"></rect><rect class=\"toyplot-Datum\" height=\"4.0\" style=\"fill:rgb(50.2%,50.2%,50.2%);fill-opacity:1.0;opacity:1.0;stroke:rgb(100%,100%,100%);stroke-opacity:1.0;stroke-width:1.0\" width=\"1.1005434782608745\" x=\"90.0\" y=\"240.0\"></rect><rect class=\"toyplot-Datum\" height=\"4.0\" style=\"fill:rgb(50.2%,50.2%,50.2%);fill-opacity:1.0;opacity:1.0;stroke:rgb(100%,100%,100%);stroke-opacity:1.0;stroke-width:1.0\" width=\"0.73369565217392108\" x=\"90.0\" y=\"236.0\"></rect><rect class=\"toyplot-Datum\" height=\"3.9999999999999716\" style=\"fill:rgb(50.2%,50.2%,50.2%);fill-opacity:1.0;opacity:1.0;stroke:rgb(100%,100%,100%);stroke-opacity:1.0;stroke-width:1.0\" width=\"0.36684782608696764\" x=\"90.0\" y=\"232.00000000000003\"></rect><rect class=\"toyplot-Datum\" height=\"4.0\" style=\"fill:rgb(50.2%,50.2%,50.2%);fill-opacity:1.0;opacity:1.0;stroke:rgb(100%,100%,100%);stroke-opacity:1.0;stroke-width:1.0\" width=\"0.12228260869564167\" x=\"90.0\" y=\"228.00000000000003\"></rect><rect class=\"toyplot-Datum\" height=\"4.0000000000000284\" style=\"fill:rgb(50.2%,50.2%,50.2%);fill-opacity:1.0;opacity:1.0;stroke:rgb(100%,100%,100%);stroke-opacity:1.0;stroke-width:1.0\" width=\"0.0\" x=\"90.0\" y=\"224.0\"></rect><rect class=\"toyplot-Datum\" height=\"3.9999999999999716\" style=\"fill:rgb(50.2%,50.2%,50.2%);fill-opacity:1.0;opacity:1.0;stroke:rgb(100%,100%,100%);stroke-opacity:1.0;stroke-width:1.0\" width=\"0.0\" x=\"90.0\" y=\"220.00000000000003\"></rect><rect class=\"toyplot-Datum\" height=\"4.0000000000000284\" style=\"fill:rgb(50.2%,50.2%,50.2%);fill-opacity:1.0;opacity:1.0;stroke:rgb(100%,100%,100%);stroke-opacity:1.0;stroke-width:1.0\" width=\"0.0\" x=\"90.0\" y=\"216.0\"></rect><rect class=\"toyplot-Datum\" height=\"4.0\" style=\"fill:rgb(50.2%,50.2%,50.2%);fill-opacity:1.0;opacity:1.0;stroke:rgb(100%,100%,100%);stroke-opacity:1.0;stroke-width:1.0\" width=\"0.0\" x=\"90.0\" y=\"212.0\"></rect><rect class=\"toyplot-Datum\" height=\"4.0\" style=\"fill:rgb(50.2%,50.2%,50.2%);fill-opacity:1.0;opacity:1.0;stroke:rgb(100%,100%,100%);stroke-opacity:1.0;stroke-width:1.0\" width=\"0.0\" x=\"90.0\" y=\"208.0\"></rect><rect class=\"toyplot-Datum\" height=\"4.0\" style=\"fill:rgb(50.2%,50.2%,50.2%);fill-opacity:1.0;opacity:1.0;stroke:rgb(100%,100%,100%);stroke-opacity:1.0;stroke-width:1.0\" width=\"0.0\" x=\"90.0\" y=\"204.0\"></rect><rect class=\"toyplot-Datum\" height=\"4.0\" style=\"fill:rgb(50.2%,50.2%,50.2%);fill-opacity:1.0;opacity:1.0;stroke:rgb(100%,100%,100%);stroke-opacity:1.0;stroke-width:1.0\" width=\"0.0\" x=\"90.0\" y=\"200.0\"></rect><rect class=\"toyplot-Datum\" height=\"3.9999999999999716\" style=\"fill:rgb(50.2%,50.2%,50.2%);fill-opacity:1.0;opacity:1.0;stroke:rgb(100%,100%,100%);stroke-opacity:1.0;stroke-width:1.0\" width=\"0.0\" x=\"90.0\" y=\"196.00000000000003\"></rect><rect class=\"toyplot-Datum\" height=\"4.0000000000000284\" style=\"fill:rgb(50.2%,50.2%,50.2%);fill-opacity:1.0;opacity:1.0;stroke:rgb(100%,100%,100%);stroke-opacity:1.0;stroke-width:1.0\" width=\"0.0\" x=\"90.0\" y=\"192.0\"></rect><rect class=\"toyplot-Datum\" height=\"4.0\" style=\"fill:rgb(50.2%,50.2%,50.2%);fill-opacity:1.0;opacity:1.0;stroke:rgb(100%,100%,100%);stroke-opacity:1.0;stroke-width:1.0\" width=\"0.0\" x=\"90.0\" y=\"188.0\"></rect><rect class=\"toyplot-Datum\" height=\"4.0\" style=\"fill:rgb(50.2%,50.2%,50.2%);fill-opacity:1.0;opacity:1.0;stroke:rgb(100%,100%,100%);stroke-opacity:1.0;stroke-width:1.0\" width=\"0.0\" x=\"90.0\" y=\"184.0\"></rect><rect class=\"toyplot-Datum\" height=\"4.0\" style=\"fill:rgb(50.2%,50.2%,50.2%);fill-opacity:1.0;opacity:1.0;stroke:rgb(100%,100%,100%);stroke-opacity:1.0;stroke-width:1.0\" width=\"0.0\" x=\"90.0\" y=\"180.0\"></rect></g></g></g><g class=\"toyplot-coordinates-Axis\" id=\"tc2a973dc7bff4b8bbb366c6db51029a1\" transform=\"translate(90.0,380.0)rotate(-90.0)translate(0,-0.5)\"><line style=\"\" x1=\"0\" x2=\"200.0\" y1=\"0\" y2=\"0\"></line><g class=\"toyplot-coordinates-Axis-coordinates\" style=\"visibility:hidden\" transform=\"\"><line style=\"stroke:rgb(43.9%,50.2%,56.5%);stroke-opacity:1.0;stroke-width:1.0\" x1=\"0\" x2=\"0\" y1=\"3.0\" y2=\"-4.5\"></line><text style=\"alignment-baseline:hanging;fill:rgb(43.9%,50.2%,56.5%);fill-opacity:1.0;font-size:10px;font-weight:normal;stroke:none;text-anchor:middle\" x=\"0\" y=\"6\"></text></g></g></g><g class=\"toyplot-coordinates-Cartesian\" id=\"tce50525eaf8b47f5b1e6756787cd9909\"><clipPath id=\"te4b918a70de14627985a305b899dc1e6\"><rect height=\"201.0\" width=\"17.875\" x=\"112.0\" y=\"179.5\"></rect></clipPath><g clip-path=\"url(#te4b918a70de14627985a305b899dc1e6)\"><g class=\"toyplot-mark-BarMagnitudes\" id=\"tcd3ee545d90542d38c0e197062841034\" style=\"stroke:rgb(100%,100%,100%);stroke-opacity:1.0;stroke-width:1.0\"><g class=\"toyplot-Series\"><rect class=\"toyplot-Datum\" height=\"4.0\" style=\"fill:rgb(50.2%,50.2%,50.2%);fill-opacity:1.0;opacity:1.0;stroke:rgb(100%,100%,100%);stroke-opacity:1.0;stroke-width:1.0\" width=\"0.0\" x=\"112.5\" y=\"376.0\"></rect><rect class=\"toyplot-Datum\" height=\"4.0\" style=\"fill:rgb(50.2%,50.2%,50.2%);fill-opacity:1.0;opacity:1.0;stroke:rgb(100%,100%,100%);stroke-opacity:1.0;stroke-width:1.0\" width=\"0.0\" x=\"112.5\" y=\"372.0\"></rect><rect class=\"toyplot-Datum\" height=\"3.9999999999999432\" style=\"fill:rgb(50.2%,50.2%,50.2%);fill-opacity:1.0;opacity:1.0;stroke:rgb(100%,100%,100%);stroke-opacity:1.0;stroke-width:1.0\" width=\"0.0\" x=\"112.5\" y=\"368.00000000000006\"></rect><rect class=\"toyplot-Datum\" height=\"4.0000000000000568\" style=\"fill:rgb(50.2%,50.2%,50.2%);fill-opacity:1.0;opacity:1.0;stroke:rgb(100%,100%,100%);stroke-opacity:1.0;stroke-width:1.0\" width=\"0.0\" x=\"112.5\" y=\"364.0\"></rect><rect class=\"toyplot-Datum\" height=\"4.0\" style=\"fill:rgb(50.2%,50.2%,50.2%);fill-opacity:1.0;opacity:1.0;stroke:rgb(100%,100%,100%);stroke-opacity:1.0;stroke-width:1.0\" width=\"0.0\" x=\"112.5\" y=\"360.0\"></rect><rect class=\"toyplot-Datum\" height=\"4.0\" style=\"fill:rgb(50.2%,50.2%,50.2%);fill-opacity:1.0;opacity:1.0;stroke:rgb(100%,100%,100%);stroke-opacity:1.0;stroke-width:1.0\" width=\"0.0\" x=\"112.5\" y=\"356.0\"></rect><rect class=\"toyplot-Datum\" height=\"4.0\" style=\"fill:rgb(50.2%,50.2%,50.2%);fill-opacity:1.0;opacity:1.0;stroke:rgb(100%,100%,100%);stroke-opacity:1.0;stroke-width:1.0\" width=\"0.0\" x=\"112.5\" y=\"352.0\"></rect><rect class=\"toyplot-Datum\" height=\"4.0\" style=\"fill:rgb(50.2%,50.2%,50.2%);fill-opacity:1.0;opacity:1.0;stroke:rgb(100%,100%,100%);stroke-opacity:1.0;stroke-width:1.0\" width=\"0.0\" x=\"112.5\" y=\"348.0\"></rect><rect class=\"toyplot-Datum\" height=\"4.0\" style=\"fill:rgb(50.2%,50.2%,50.2%);fill-opacity:1.0;opacity:1.0;stroke:rgb(100%,100%,100%);stroke-opacity:1.0;stroke-width:1.0\" width=\"0.0\" x=\"112.5\" y=\"344.0\"></rect><rect class=\"toyplot-Datum\" height=\"4.0\" style=\"fill:rgb(50.2%,50.2%,50.2%);fill-opacity:1.0;opacity:1.0;stroke:rgb(100%,100%,100%);stroke-opacity:1.0;stroke-width:1.0\" width=\"0.0\" x=\"112.5\" y=\"340.0\"></rect><rect class=\"toyplot-Datum\" height=\"4.0\" style=\"fill:rgb(50.2%,50.2%,50.2%);fill-opacity:1.0;opacity:1.0;stroke:rgb(100%,100%,100%);stroke-opacity:1.0;stroke-width:1.0\" width=\"0.0\" x=\"112.5\" y=\"336.0\"></rect><rect class=\"toyplot-Datum\" height=\"4.0\" style=\"fill:rgb(50.2%,50.2%,50.2%);fill-opacity:1.0;opacity:1.0;stroke:rgb(100%,100%,100%);stroke-opacity:1.0;stroke-width:1.0\" width=\"0.0\" x=\"112.5\" y=\"332.0\"></rect><rect class=\"toyplot-Datum\" height=\"4.0\" style=\"fill:rgb(50.2%,50.2%,50.2%);fill-opacity:1.0;opacity:1.0;stroke:rgb(100%,100%,100%);stroke-opacity:1.0;stroke-width:1.0\" width=\"0.0\" x=\"112.5\" y=\"328.0\"></rect><rect class=\"toyplot-Datum\" height=\"4.0000000000000568\" style=\"fill:rgb(50.2%,50.2%,50.2%);fill-opacity:1.0;opacity:1.0;stroke:rgb(100%,100%,100%);stroke-opacity:1.0;stroke-width:1.0\" width=\"0.0\" x=\"112.5\" y=\"323.99999999999994\"></rect><rect class=\"toyplot-Datum\" height=\"3.9999999999999432\" style=\"fill:rgb(50.2%,50.2%,50.2%);fill-opacity:1.0;opacity:1.0;stroke:rgb(100%,100%,100%);stroke-opacity:1.0;stroke-width:1.0\" width=\"0.0\" x=\"112.5\" y=\"320.0\"></rect><rect class=\"toyplot-Datum\" height=\"4.0\" style=\"fill:rgb(50.2%,50.2%,50.2%);fill-opacity:1.0;opacity:1.0;stroke:rgb(100%,100%,100%);stroke-opacity:1.0;stroke-width:1.0\" width=\"0.0\" x=\"112.5\" y=\"316.0\"></rect><rect class=\"toyplot-Datum\" height=\"4.0\" style=\"fill:rgb(50.2%,50.2%,50.2%);fill-opacity:1.0;opacity:1.0;stroke:rgb(100%,100%,100%);stroke-opacity:1.0;stroke-width:1.0\" width=\"0.0\" x=\"112.5\" y=\"312.0\"></rect><rect class=\"toyplot-Datum\" height=\"4.0\" style=\"fill:rgb(50.2%,50.2%,50.2%);fill-opacity:1.0;opacity:1.0;stroke:rgb(100%,100%,100%);stroke-opacity:1.0;stroke-width:1.0\" width=\"0.0\" x=\"112.5\" y=\"308.0\"></rect><rect class=\"toyplot-Datum\" height=\"3.9999999999999432\" style=\"fill:rgb(50.2%,50.2%,50.2%);fill-opacity:1.0;opacity:1.0;stroke:rgb(100%,100%,100%);stroke-opacity:1.0;stroke-width:1.0\" width=\"0.0\" x=\"112.5\" y=\"304.00000000000006\"></rect><rect class=\"toyplot-Datum\" height=\"4.0000000000000568\" style=\"fill:rgb(50.2%,50.2%,50.2%);fill-opacity:1.0;opacity:1.0;stroke:rgb(100%,100%,100%);stroke-opacity:1.0;stroke-width:1.0\" width=\"0.0\" x=\"112.5\" y=\"300.0\"></rect><rect class=\"toyplot-Datum\" height=\"4.0\" style=\"fill:rgb(50.2%,50.2%,50.2%);fill-opacity:1.0;opacity:1.0;stroke:rgb(100%,100%,100%);stroke-opacity:1.0;stroke-width:1.0\" width=\"0.10680379746835911\" x=\"112.5\" y=\"296.0\"></rect><rect class=\"toyplot-Datum\" height=\"4.0\" style=\"fill:rgb(50.2%,50.2%,50.2%);fill-opacity:1.0;opacity:1.0;stroke:rgb(100%,100%,100%);stroke-opacity:1.0;stroke-width:1.0\" width=\"0.10680379746835911\" x=\"112.5\" y=\"292.0\"></rect><rect class=\"toyplot-Datum\" height=\"4.0\" style=\"fill:rgb(50.2%,50.2%,50.2%);fill-opacity:1.0;opacity:1.0;stroke:rgb(100%,100%,100%);stroke-opacity:1.0;stroke-width:1.0\" width=\"0.85443037974684444\" x=\"112.5\" y=\"288.0\"></rect><rect class=\"toyplot-Datum\" height=\"4.0\" style=\"fill:rgb(50.2%,50.2%,50.2%);fill-opacity:1.0;opacity:1.0;stroke:rgb(100%,100%,100%);stroke-opacity:1.0;stroke-width:1.0\" width=\"2.3496835443037867\" x=\"112.5\" y=\"284.0\"></rect><rect class=\"toyplot-Datum\" height=\"4.0\" style=\"fill:rgb(50.2%,50.2%,50.2%);fill-opacity:1.0;opacity:1.0;stroke:rgb(100%,100%,100%);stroke-opacity:1.0;stroke-width:1.0\" width=\"6.5150316455696213\" x=\"112.5\" y=\"280.0\"></rect><rect class=\"toyplot-Datum\" height=\"4.0\" style=\"fill:rgb(50.2%,50.2%,50.2%);fill-opacity:1.0;opacity:1.0;stroke:rgb(100%,100%,100%);stroke-opacity:1.0;stroke-width:1.0\" width=\"9.3987341772151893\" x=\"112.5\" y=\"276.0\"></rect><rect class=\"toyplot-Datum\" height=\"4.0\" style=\"fill:rgb(50.2%,50.2%,50.2%);fill-opacity:1.0;opacity:1.0;stroke:rgb(100%,100%,100%);stroke-opacity:1.0;stroke-width:1.0\" width=\"11.321202531645611\" x=\"112.5\" y=\"272.0\"></rect><rect class=\"toyplot-Datum\" height=\"4.0\" style=\"fill:rgb(50.2%,50.2%,50.2%);fill-opacity:1.0;opacity:1.0;stroke:rgb(100%,100%,100%);stroke-opacity:1.0;stroke-width:1.0\" width=\"15.913765822784796\" x=\"112.5\" y=\"268.0\"></rect><rect class=\"toyplot-Datum\" height=\"4.0\" style=\"fill:rgb(50.2%,50.2%,50.2%);fill-opacity:1.0;opacity:1.0;stroke:rgb(100%,100%,100%);stroke-opacity:1.0;stroke-width:1.0\" width=\"16.875\" x=\"112.5\" y=\"264.0\"></rect><rect class=\"toyplot-Datum\" height=\"4.0\" style=\"fill:rgb(50.2%,50.2%,50.2%);fill-opacity:1.0;opacity:1.0;stroke:rgb(100%,100%,100%);stroke-opacity:1.0;stroke-width:1.0\" width=\"15.806962025316494\" x=\"112.5\" y=\"260.0\"></rect><rect class=\"toyplot-Datum\" height=\"4.0\" style=\"fill:rgb(50.2%,50.2%,50.2%);fill-opacity:1.0;opacity:1.0;stroke:rgb(100%,100%,100%);stroke-opacity:1.0;stroke-width:1.0\" width=\"10.359968354430379\" x=\"112.5\" y=\"256.0\"></rect><rect class=\"toyplot-Datum\" height=\"4.0\" style=\"fill:rgb(50.2%,50.2%,50.2%);fill-opacity:1.0;opacity:1.0;stroke:rgb(100%,100%,100%);stroke-opacity:1.0;stroke-width:1.0\" width=\"9.1851265822784853\" x=\"112.5\" y=\"252.0\"></rect><rect class=\"toyplot-Datum\" height=\"4.0\" style=\"fill:rgb(50.2%,50.2%,50.2%);fill-opacity:1.0;opacity:1.0;stroke:rgb(100%,100%,100%);stroke-opacity:1.0;stroke-width:1.0\" width=\"4.8061708860759609\" x=\"112.5\" y=\"248.0\"></rect><rect class=\"toyplot-Datum\" height=\"4.0\" style=\"fill:rgb(50.2%,50.2%,50.2%);fill-opacity:1.0;opacity:1.0;stroke:rgb(100%,100%,100%);stroke-opacity:1.0;stroke-width:1.0\" width=\"2.5632911392405049\" x=\"112.5\" y=\"244.0\"></rect><rect class=\"toyplot-Datum\" height=\"4.0\" style=\"fill:rgb(50.2%,50.2%,50.2%);fill-opacity:1.0;opacity:1.0;stroke:rgb(100%,100%,100%);stroke-opacity:1.0;stroke-width:1.0\" width=\"0.42721518987340801\" x=\"112.5\" y=\"240.0\"></rect><rect class=\"toyplot-Datum\" height=\"4.0\" style=\"fill:rgb(50.2%,50.2%,50.2%);fill-opacity:1.0;opacity:1.0;stroke:rgb(100%,100%,100%);stroke-opacity:1.0;stroke-width:1.0\" width=\"0.10680379746835911\" x=\"112.5\" y=\"236.0\"></rect><rect class=\"toyplot-Datum\" height=\"3.9999999999999716\" style=\"fill:rgb(50.2%,50.2%,50.2%);fill-opacity:1.0;opacity:1.0;stroke:rgb(100%,100%,100%);stroke-opacity:1.0;stroke-width:1.0\" width=\"0.10680379746835911\" x=\"112.5\" y=\"232.00000000000003\"></rect><rect class=\"toyplot-Datum\" height=\"4.0\" style=\"fill:rgb(50.2%,50.2%,50.2%);fill-opacity:1.0;opacity:1.0;stroke:rgb(100%,100%,100%);stroke-opacity:1.0;stroke-width:1.0\" width=\"0.0\" x=\"112.5\" y=\"228.00000000000003\"></rect><rect class=\"toyplot-Datum\" height=\"4.0000000000000284\" style=\"fill:rgb(50.2%,50.2%,50.2%);fill-opacity:1.0;opacity:1.0;stroke:rgb(100%,100%,100%);stroke-opacity:1.0;stroke-width:1.0\" width=\"0.0\" x=\"112.5\" y=\"224.0\"></rect><rect class=\"toyplot-Datum\" height=\"3.9999999999999716\" style=\"fill:rgb(50.2%,50.2%,50.2%);fill-opacity:1.0;opacity:1.0;stroke:rgb(100%,100%,100%);stroke-opacity:1.0;stroke-width:1.0\" width=\"0.0\" x=\"112.5\" y=\"220.00000000000003\"></rect><rect class=\"toyplot-Datum\" height=\"4.0000000000000284\" style=\"fill:rgb(50.2%,50.2%,50.2%);fill-opacity:1.0;opacity:1.0;stroke:rgb(100%,100%,100%);stroke-opacity:1.0;stroke-width:1.0\" width=\"0.0\" x=\"112.5\" y=\"216.0\"></rect><rect class=\"toyplot-Datum\" height=\"4.0\" style=\"fill:rgb(50.2%,50.2%,50.2%);fill-opacity:1.0;opacity:1.0;stroke:rgb(100%,100%,100%);stroke-opacity:1.0;stroke-width:1.0\" width=\"0.0\" x=\"112.5\" y=\"212.0\"></rect><rect class=\"toyplot-Datum\" height=\"4.0\" style=\"fill:rgb(50.2%,50.2%,50.2%);fill-opacity:1.0;opacity:1.0;stroke:rgb(100%,100%,100%);stroke-opacity:1.0;stroke-width:1.0\" width=\"0.0\" x=\"112.5\" y=\"208.0\"></rect><rect class=\"toyplot-Datum\" height=\"4.0\" style=\"fill:rgb(50.2%,50.2%,50.2%);fill-opacity:1.0;opacity:1.0;stroke:rgb(100%,100%,100%);stroke-opacity:1.0;stroke-width:1.0\" width=\"0.0\" x=\"112.5\" y=\"204.0\"></rect><rect class=\"toyplot-Datum\" height=\"4.0\" style=\"fill:rgb(50.2%,50.2%,50.2%);fill-opacity:1.0;opacity:1.0;stroke:rgb(100%,100%,100%);stroke-opacity:1.0;stroke-width:1.0\" width=\"0.0\" x=\"112.5\" y=\"200.0\"></rect><rect class=\"toyplot-Datum\" height=\"3.9999999999999716\" style=\"fill:rgb(50.2%,50.2%,50.2%);fill-opacity:1.0;opacity:1.0;stroke:rgb(100%,100%,100%);stroke-opacity:1.0;stroke-width:1.0\" width=\"0.0\" x=\"112.5\" y=\"196.00000000000003\"></rect><rect class=\"toyplot-Datum\" height=\"4.0000000000000284\" style=\"fill:rgb(50.2%,50.2%,50.2%);fill-opacity:1.0;opacity:1.0;stroke:rgb(100%,100%,100%);stroke-opacity:1.0;stroke-width:1.0\" width=\"0.0\" x=\"112.5\" y=\"192.0\"></rect><rect class=\"toyplot-Datum\" height=\"4.0\" style=\"fill:rgb(50.2%,50.2%,50.2%);fill-opacity:1.0;opacity:1.0;stroke:rgb(100%,100%,100%);stroke-opacity:1.0;stroke-width:1.0\" width=\"0.0\" x=\"112.5\" y=\"188.0\"></rect><rect class=\"toyplot-Datum\" height=\"4.0\" style=\"fill:rgb(50.2%,50.2%,50.2%);fill-opacity:1.0;opacity:1.0;stroke:rgb(100%,100%,100%);stroke-opacity:1.0;stroke-width:1.0\" width=\"0.0\" x=\"112.5\" y=\"184.0\"></rect><rect class=\"toyplot-Datum\" height=\"4.0\" style=\"fill:rgb(50.2%,50.2%,50.2%);fill-opacity:1.0;opacity:1.0;stroke:rgb(100%,100%,100%);stroke-opacity:1.0;stroke-width:1.0\" width=\"0.0\" x=\"112.5\" y=\"180.0\"></rect></g></g></g><g class=\"toyplot-coordinates-Axis\" id=\"tcaac60788ee54fdd93b31a11b968ca34\" transform=\"translate(112.5,380.0)rotate(-90.0)translate(0,-0.5)\"><line style=\"\" x1=\"0\" x2=\"200.0\" y1=\"0\" y2=\"0\"></line><g class=\"toyplot-coordinates-Axis-coordinates\" style=\"visibility:hidden\" transform=\"\"><line style=\"stroke:rgb(43.9%,50.2%,56.5%);stroke-opacity:1.0;stroke-width:1.0\" x1=\"0\" x2=\"0\" y1=\"3.0\" y2=\"-4.5\"></line><text style=\"alignment-baseline:hanging;fill:rgb(43.9%,50.2%,56.5%);fill-opacity:1.0;font-size:10px;font-weight:normal;stroke:none;text-anchor:middle\" x=\"0\" y=\"6\"></text></g></g></g><g class=\"toyplot-coordinates-Cartesian\" id=\"t8918bb14f856457d8823133ddce9d596\"><clipPath id=\"t14a8912517e14557905dee71eca2d203\"><rect height=\"201.0\" width=\"17.875\" x=\"134.5\" y=\"179.5\"></rect></clipPath><g clip-path=\"url(#t14a8912517e14557905dee71eca2d203)\"><g class=\"toyplot-mark-BarMagnitudes\" id=\"t3d6a816337a344acaa658a6f387dd87b\" style=\"stroke:rgb(100%,100%,100%);stroke-opacity:1.0;stroke-width:1.0\"><g class=\"toyplot-Series\"><rect class=\"toyplot-Datum\" height=\"4.0\" style=\"fill:rgb(50.2%,50.2%,50.2%);fill-opacity:1.0;opacity:1.0;stroke:rgb(100%,100%,100%);stroke-opacity:1.0;stroke-width:1.0\" width=\"0.0\" x=\"135.0\" y=\"376.0\"></rect><rect class=\"toyplot-Datum\" height=\"4.0\" style=\"fill:rgb(50.2%,50.2%,50.2%);fill-opacity:1.0;opacity:1.0;stroke:rgb(100%,100%,100%);stroke-opacity:1.0;stroke-width:1.0\" width=\"0.0\" x=\"135.0\" y=\"372.0\"></rect><rect class=\"toyplot-Datum\" height=\"3.9999999999999432\" style=\"fill:rgb(50.2%,50.2%,50.2%);fill-opacity:1.0;opacity:1.0;stroke:rgb(100%,100%,100%);stroke-opacity:1.0;stroke-width:1.0\" width=\"0.0\" x=\"135.0\" y=\"368.00000000000006\"></rect><rect class=\"toyplot-Datum\" height=\"4.0000000000000568\" style=\"fill:rgb(50.2%,50.2%,50.2%);fill-opacity:1.0;opacity:1.0;stroke:rgb(100%,100%,100%);stroke-opacity:1.0;stroke-width:1.0\" width=\"0.0\" x=\"135.0\" y=\"364.0\"></rect><rect class=\"toyplot-Datum\" height=\"4.0\" style=\"fill:rgb(50.2%,50.2%,50.2%);fill-opacity:1.0;opacity:1.0;stroke:rgb(100%,100%,100%);stroke-opacity:1.0;stroke-width:1.0\" width=\"0.0\" x=\"135.0\" y=\"360.0\"></rect><rect class=\"toyplot-Datum\" height=\"4.0\" style=\"fill:rgb(50.2%,50.2%,50.2%);fill-opacity:1.0;opacity:1.0;stroke:rgb(100%,100%,100%);stroke-opacity:1.0;stroke-width:1.0\" width=\"0.0\" x=\"135.0\" y=\"356.0\"></rect><rect class=\"toyplot-Datum\" height=\"4.0\" style=\"fill:rgb(50.2%,50.2%,50.2%);fill-opacity:1.0;opacity:1.0;stroke:rgb(100%,100%,100%);stroke-opacity:1.0;stroke-width:1.0\" width=\"0.0\" x=\"135.0\" y=\"352.0\"></rect><rect class=\"toyplot-Datum\" height=\"4.0\" style=\"fill:rgb(50.2%,50.2%,50.2%);fill-opacity:1.0;opacity:1.0;stroke:rgb(100%,100%,100%);stroke-opacity:1.0;stroke-width:1.0\" width=\"0.0\" x=\"135.0\" y=\"348.0\"></rect><rect class=\"toyplot-Datum\" height=\"4.0\" style=\"fill:rgb(50.2%,50.2%,50.2%);fill-opacity:1.0;opacity:1.0;stroke:rgb(100%,100%,100%);stroke-opacity:1.0;stroke-width:1.0\" width=\"0.0\" x=\"135.0\" y=\"344.0\"></rect><rect class=\"toyplot-Datum\" height=\"4.0\" style=\"fill:rgb(50.2%,50.2%,50.2%);fill-opacity:1.0;opacity:1.0;stroke:rgb(100%,100%,100%);stroke-opacity:1.0;stroke-width:1.0\" width=\"0.0\" x=\"135.0\" y=\"340.0\"></rect><rect class=\"toyplot-Datum\" height=\"4.0\" style=\"fill:rgb(50.2%,50.2%,50.2%);fill-opacity:1.0;opacity:1.0;stroke:rgb(100%,100%,100%);stroke-opacity:1.0;stroke-width:1.0\" width=\"0.0\" x=\"135.0\" y=\"336.0\"></rect><rect class=\"toyplot-Datum\" height=\"4.0\" style=\"fill:rgb(50.2%,50.2%,50.2%);fill-opacity:1.0;opacity:1.0;stroke:rgb(100%,100%,100%);stroke-opacity:1.0;stroke-width:1.0\" width=\"0.0\" x=\"135.0\" y=\"332.0\"></rect><rect class=\"toyplot-Datum\" height=\"4.0\" style=\"fill:rgb(50.2%,50.2%,50.2%);fill-opacity:1.0;opacity:1.0;stroke:rgb(100%,100%,100%);stroke-opacity:1.0;stroke-width:1.0\" width=\"0.0\" x=\"135.0\" y=\"328.0\"></rect><rect class=\"toyplot-Datum\" height=\"4.0000000000000568\" style=\"fill:rgb(50.2%,50.2%,50.2%);fill-opacity:1.0;opacity:1.0;stroke:rgb(100%,100%,100%);stroke-opacity:1.0;stroke-width:1.0\" width=\"0.0\" x=\"135.0\" y=\"323.99999999999994\"></rect><rect class=\"toyplot-Datum\" height=\"3.9999999999999432\" style=\"fill:rgb(50.2%,50.2%,50.2%);fill-opacity:1.0;opacity:1.0;stroke:rgb(100%,100%,100%);stroke-opacity:1.0;stroke-width:1.0\" width=\"0.0\" x=\"135.0\" y=\"320.0\"></rect><rect class=\"toyplot-Datum\" height=\"4.0\" style=\"fill:rgb(50.2%,50.2%,50.2%);fill-opacity:1.0;opacity:1.0;stroke:rgb(100%,100%,100%);stroke-opacity:1.0;stroke-width:1.0\" width=\"0.0\" x=\"135.0\" y=\"316.0\"></rect><rect class=\"toyplot-Datum\" height=\"4.0\" style=\"fill:rgb(50.2%,50.2%,50.2%);fill-opacity:1.0;opacity:1.0;stroke:rgb(100%,100%,100%);stroke-opacity:1.0;stroke-width:1.0\" width=\"0.0\" x=\"135.0\" y=\"312.0\"></rect><rect class=\"toyplot-Datum\" height=\"4.0\" style=\"fill:rgb(50.2%,50.2%,50.2%);fill-opacity:1.0;opacity:1.0;stroke:rgb(100%,100%,100%);stroke-opacity:1.0;stroke-width:1.0\" width=\"0.5779109589041127\" x=\"135.0\" y=\"308.0\"></rect><rect class=\"toyplot-Datum\" height=\"3.9999999999999432\" style=\"fill:rgb(50.2%,50.2%,50.2%);fill-opacity:1.0;opacity:1.0;stroke:rgb(100%,100%,100%);stroke-opacity:1.0;stroke-width:1.0\" width=\"0.5779109589041127\" x=\"135.0\" y=\"304.00000000000006\"></rect><rect class=\"toyplot-Datum\" height=\"4.0000000000000568\" style=\"fill:rgb(50.2%,50.2%,50.2%);fill-opacity:1.0;opacity:1.0;stroke:rgb(100%,100%,100%);stroke-opacity:1.0;stroke-width:1.0\" width=\"1.6181506849315213\" x=\"135.0\" y=\"300.0\"></rect><rect class=\"toyplot-Datum\" height=\"4.0\" style=\"fill:rgb(50.2%,50.2%,50.2%);fill-opacity:1.0;opacity:1.0;stroke:rgb(100%,100%,100%);stroke-opacity:1.0;stroke-width:1.0\" width=\"4.5077054794520564\" x=\"135.0\" y=\"296.0\"></rect><rect class=\"toyplot-Datum\" height=\"4.0\" style=\"fill:rgb(50.2%,50.2%,50.2%);fill-opacity:1.0;opacity:1.0;stroke:rgb(100%,100%,100%);stroke-opacity:1.0;stroke-width:1.0\" width=\"8.2063356164383663\" x=\"135.0\" y=\"292.0\"></rect><rect class=\"toyplot-Datum\" height=\"4.0\" style=\"fill:rgb(50.2%,50.2%,50.2%);fill-opacity:1.0;opacity:1.0;stroke:rgb(100%,100%,100%);stroke-opacity:1.0;stroke-width:1.0\" width=\"11.211472602739718\" x=\"135.0\" y=\"288.0\"></rect><rect class=\"toyplot-Datum\" height=\"4.0\" style=\"fill:rgb(50.2%,50.2%,50.2%);fill-opacity:1.0;opacity:1.0;stroke:rgb(100%,100%,100%);stroke-opacity:1.0;stroke-width:1.0\" width=\"14.332191780821915\" x=\"135.0\" y=\"284.0\"></rect><rect class=\"toyplot-Datum\" height=\"4.0\" style=\"fill:rgb(50.2%,50.2%,50.2%);fill-opacity:1.0;opacity:1.0;stroke:rgb(100%,100%,100%);stroke-opacity:1.0;stroke-width:1.0\" width=\"15.719178082191775\" x=\"135.0\" y=\"280.0\"></rect><rect class=\"toyplot-Datum\" height=\"4.0\" style=\"fill:rgb(50.2%,50.2%,50.2%);fill-opacity:1.0;opacity:1.0;stroke:rgb(100%,100%,100%);stroke-opacity:1.0;stroke-width:1.0\" width=\"16.875\" x=\"135.0\" y=\"276.0\"></rect><rect class=\"toyplot-Datum\" height=\"4.0\" style=\"fill:rgb(50.2%,50.2%,50.2%);fill-opacity:1.0;opacity:1.0;stroke:rgb(100%,100%,100%);stroke-opacity:1.0;stroke-width:1.0\" width=\"13.869863013698676\" x=\"135.0\" y=\"272.0\"></rect><rect class=\"toyplot-Datum\" height=\"4.0\" style=\"fill:rgb(50.2%,50.2%,50.2%);fill-opacity:1.0;opacity:1.0;stroke:rgb(100%,100%,100%);stroke-opacity:1.0;stroke-width:1.0\" width=\"11.789383561643831\" x=\"135.0\" y=\"268.0\"></rect><rect class=\"toyplot-Datum\" height=\"4.0\" style=\"fill:rgb(50.2%,50.2%,50.2%);fill-opacity:1.0;opacity:1.0;stroke:rgb(100%,100%,100%);stroke-opacity:1.0;stroke-width:1.0\" width=\"7.7440068493150704\" x=\"135.0\" y=\"264.0\"></rect><rect class=\"toyplot-Datum\" height=\"4.0\" style=\"fill:rgb(50.2%,50.2%,50.2%);fill-opacity:1.0;opacity:1.0;stroke:rgb(100%,100%,100%);stroke-opacity:1.0;stroke-width:1.0\" width=\"4.2765410958904226\" x=\"135.0\" y=\"260.0\"></rect><rect class=\"toyplot-Datum\" height=\"4.0\" style=\"fill:rgb(50.2%,50.2%,50.2%);fill-opacity:1.0;opacity:1.0;stroke:rgb(100%,100%,100%);stroke-opacity:1.0;stroke-width:1.0\" width=\"2.0804794520547887\" x=\"135.0\" y=\"256.0\"></rect><rect class=\"toyplot-Datum\" height=\"4.0\" style=\"fill:rgb(50.2%,50.2%,50.2%);fill-opacity:1.0;opacity:1.0;stroke:rgb(100%,100%,100%);stroke-opacity:1.0;stroke-width:1.0\" width=\"1.1558219178082254\" x=\"135.0\" y=\"252.0\"></rect><rect class=\"toyplot-Datum\" height=\"4.0\" style=\"fill:rgb(50.2%,50.2%,50.2%);fill-opacity:1.0;opacity:1.0;stroke:rgb(100%,100%,100%);stroke-opacity:1.0;stroke-width:1.0\" width=\"0.69349315068495798\" x=\"135.0\" y=\"248.0\"></rect><rect class=\"toyplot-Datum\" height=\"4.0\" style=\"fill:rgb(50.2%,50.2%,50.2%);fill-opacity:1.0;opacity:1.0;stroke:rgb(100%,100%,100%);stroke-opacity:1.0;stroke-width:1.0\" width=\"0.34674657534247899\" x=\"135.0\" y=\"244.0\"></rect><rect class=\"toyplot-Datum\" height=\"4.0\" style=\"fill:rgb(50.2%,50.2%,50.2%);fill-opacity:1.0;opacity:1.0;stroke:rgb(100%,100%,100%);stroke-opacity:1.0;stroke-width:1.0\" width=\"0.0\" x=\"135.0\" y=\"240.0\"></rect><rect class=\"toyplot-Datum\" height=\"4.0\" style=\"fill:rgb(50.2%,50.2%,50.2%);fill-opacity:1.0;opacity:1.0;stroke:rgb(100%,100%,100%);stroke-opacity:1.0;stroke-width:1.0\" width=\"0.0\" x=\"135.0\" y=\"236.0\"></rect><rect class=\"toyplot-Datum\" height=\"3.9999999999999716\" style=\"fill:rgb(50.2%,50.2%,50.2%);fill-opacity:1.0;opacity:1.0;stroke:rgb(100%,100%,100%);stroke-opacity:1.0;stroke-width:1.0\" width=\"0.0\" x=\"135.0\" y=\"232.00000000000003\"></rect><rect class=\"toyplot-Datum\" height=\"4.0\" style=\"fill:rgb(50.2%,50.2%,50.2%);fill-opacity:1.0;opacity:1.0;stroke:rgb(100%,100%,100%);stroke-opacity:1.0;stroke-width:1.0\" width=\"0.0\" x=\"135.0\" y=\"228.00000000000003\"></rect><rect class=\"toyplot-Datum\" height=\"4.0000000000000284\" style=\"fill:rgb(50.2%,50.2%,50.2%);fill-opacity:1.0;opacity:1.0;stroke:rgb(100%,100%,100%);stroke-opacity:1.0;stroke-width:1.0\" width=\"0.0\" x=\"135.0\" y=\"224.0\"></rect><rect class=\"toyplot-Datum\" height=\"3.9999999999999716\" style=\"fill:rgb(50.2%,50.2%,50.2%);fill-opacity:1.0;opacity:1.0;stroke:rgb(100%,100%,100%);stroke-opacity:1.0;stroke-width:1.0\" width=\"0.0\" x=\"135.0\" y=\"220.00000000000003\"></rect><rect class=\"toyplot-Datum\" height=\"4.0000000000000284\" style=\"fill:rgb(50.2%,50.2%,50.2%);fill-opacity:1.0;opacity:1.0;stroke:rgb(100%,100%,100%);stroke-opacity:1.0;stroke-width:1.0\" width=\"0.0\" x=\"135.0\" y=\"216.0\"></rect><rect class=\"toyplot-Datum\" height=\"4.0\" style=\"fill:rgb(50.2%,50.2%,50.2%);fill-opacity:1.0;opacity:1.0;stroke:rgb(100%,100%,100%);stroke-opacity:1.0;stroke-width:1.0\" width=\"0.0\" x=\"135.0\" y=\"212.0\"></rect><rect class=\"toyplot-Datum\" height=\"4.0\" style=\"fill:rgb(50.2%,50.2%,50.2%);fill-opacity:1.0;opacity:1.0;stroke:rgb(100%,100%,100%);stroke-opacity:1.0;stroke-width:1.0\" width=\"0.0\" x=\"135.0\" y=\"208.0\"></rect><rect class=\"toyplot-Datum\" height=\"4.0\" style=\"fill:rgb(50.2%,50.2%,50.2%);fill-opacity:1.0;opacity:1.0;stroke:rgb(100%,100%,100%);stroke-opacity:1.0;stroke-width:1.0\" width=\"0.0\" x=\"135.0\" y=\"204.0\"></rect><rect class=\"toyplot-Datum\" height=\"4.0\" style=\"fill:rgb(50.2%,50.2%,50.2%);fill-opacity:1.0;opacity:1.0;stroke:rgb(100%,100%,100%);stroke-opacity:1.0;stroke-width:1.0\" width=\"0.0\" x=\"135.0\" y=\"200.0\"></rect><rect class=\"toyplot-Datum\" height=\"3.9999999999999716\" style=\"fill:rgb(50.2%,50.2%,50.2%);fill-opacity:1.0;opacity:1.0;stroke:rgb(100%,100%,100%);stroke-opacity:1.0;stroke-width:1.0\" width=\"0.0\" x=\"135.0\" y=\"196.00000000000003\"></rect><rect class=\"toyplot-Datum\" height=\"4.0000000000000284\" style=\"fill:rgb(50.2%,50.2%,50.2%);fill-opacity:1.0;opacity:1.0;stroke:rgb(100%,100%,100%);stroke-opacity:1.0;stroke-width:1.0\" width=\"0.0\" x=\"135.0\" y=\"192.0\"></rect><rect class=\"toyplot-Datum\" height=\"4.0\" style=\"fill:rgb(50.2%,50.2%,50.2%);fill-opacity:1.0;opacity:1.0;stroke:rgb(100%,100%,100%);stroke-opacity:1.0;stroke-width:1.0\" width=\"0.0\" x=\"135.0\" y=\"188.0\"></rect><rect class=\"toyplot-Datum\" height=\"4.0\" style=\"fill:rgb(50.2%,50.2%,50.2%);fill-opacity:1.0;opacity:1.0;stroke:rgb(100%,100%,100%);stroke-opacity:1.0;stroke-width:1.0\" width=\"0.0\" x=\"135.0\" y=\"184.0\"></rect><rect class=\"toyplot-Datum\" height=\"4.0\" style=\"fill:rgb(50.2%,50.2%,50.2%);fill-opacity:1.0;opacity:1.0;stroke:rgb(100%,100%,100%);stroke-opacity:1.0;stroke-width:1.0\" width=\"0.0\" x=\"135.0\" y=\"180.0\"></rect></g></g></g><g class=\"toyplot-coordinates-Axis\" id=\"t279cade7c7e043bea79e4ed6d2c181b5\" transform=\"translate(135.0,380.0)rotate(-90.0)translate(0,-0.5)\"><line style=\"\" x1=\"0\" x2=\"200.0\" y1=\"0\" y2=\"0\"></line><g class=\"toyplot-coordinates-Axis-coordinates\" style=\"visibility:hidden\" transform=\"\"><line style=\"stroke:rgb(43.9%,50.2%,56.5%);stroke-opacity:1.0;stroke-width:1.0\" x1=\"0\" x2=\"0\" y1=\"3.0\" y2=\"-4.5\"></line><text style=\"alignment-baseline:hanging;fill:rgb(43.9%,50.2%,56.5%);fill-opacity:1.0;font-size:10px;font-weight:normal;stroke:none;text-anchor:middle\" x=\"0\" y=\"6\"></text></g></g></g><g class=\"toyplot-coordinates-Cartesian\" id=\"tfad5ab973fdd4d5ba2f1d203a8027aaf\"><clipPath id=\"t3c28e5e22869435794f87a4ae61e9138\"><rect height=\"201.0\" width=\"17.875\" x=\"157.0\" y=\"179.5\"></rect></clipPath><g clip-path=\"url(#t3c28e5e22869435794f87a4ae61e9138)\"><g class=\"toyplot-mark-BarMagnitudes\" id=\"t67026c6798ff418ca59bbf0372dd1657\" style=\"stroke:rgb(100%,100%,100%);stroke-opacity:1.0;stroke-width:1.0\"><g class=\"toyplot-Series\"><rect class=\"toyplot-Datum\" height=\"4.0\" style=\"fill:rgb(50.2%,50.2%,50.2%);fill-opacity:1.0;opacity:1.0;stroke:rgb(100%,100%,100%);stroke-opacity:1.0;stroke-width:1.0\" width=\"0.0\" x=\"157.5\" y=\"376.0\"></rect><rect class=\"toyplot-Datum\" height=\"4.0\" style=\"fill:rgb(50.2%,50.2%,50.2%);fill-opacity:1.0;opacity:1.0;stroke:rgb(100%,100%,100%);stroke-opacity:1.0;stroke-width:1.0\" width=\"0.0\" x=\"157.5\" y=\"372.0\"></rect><rect class=\"toyplot-Datum\" height=\"3.9999999999999432\" style=\"fill:rgb(50.2%,50.2%,50.2%);fill-opacity:1.0;opacity:1.0;stroke:rgb(100%,100%,100%);stroke-opacity:1.0;stroke-width:1.0\" width=\"0.0\" x=\"157.5\" y=\"368.00000000000006\"></rect><rect class=\"toyplot-Datum\" height=\"4.0000000000000568\" style=\"fill:rgb(50.2%,50.2%,50.2%);fill-opacity:1.0;opacity:1.0;stroke:rgb(100%,100%,100%);stroke-opacity:1.0;stroke-width:1.0\" width=\"0.0\" x=\"157.5\" y=\"364.0\"></rect><rect class=\"toyplot-Datum\" height=\"4.0\" style=\"fill:rgb(50.2%,50.2%,50.2%);fill-opacity:1.0;opacity:1.0;stroke:rgb(100%,100%,100%);stroke-opacity:1.0;stroke-width:1.0\" width=\"0.0\" x=\"157.5\" y=\"360.0\"></rect><rect class=\"toyplot-Datum\" height=\"4.0\" style=\"fill:rgb(50.2%,50.2%,50.2%);fill-opacity:1.0;opacity:1.0;stroke:rgb(100%,100%,100%);stroke-opacity:1.0;stroke-width:1.0\" width=\"0.0\" x=\"157.5\" y=\"356.0\"></rect><rect class=\"toyplot-Datum\" height=\"4.0\" style=\"fill:rgb(50.2%,50.2%,50.2%);fill-opacity:1.0;opacity:1.0;stroke:rgb(100%,100%,100%);stroke-opacity:1.0;stroke-width:1.0\" width=\"0.0\" x=\"157.5\" y=\"352.0\"></rect><rect class=\"toyplot-Datum\" height=\"4.0\" style=\"fill:rgb(50.2%,50.2%,50.2%);fill-opacity:1.0;opacity:1.0;stroke:rgb(100%,100%,100%);stroke-opacity:1.0;stroke-width:1.0\" width=\"0.0\" x=\"157.5\" y=\"348.0\"></rect><rect class=\"toyplot-Datum\" height=\"4.0\" style=\"fill:rgb(50.2%,50.2%,50.2%);fill-opacity:1.0;opacity:1.0;stroke:rgb(100%,100%,100%);stroke-opacity:1.0;stroke-width:1.0\" width=\"0.0\" x=\"157.5\" y=\"344.0\"></rect><rect class=\"toyplot-Datum\" height=\"4.0\" style=\"fill:rgb(50.2%,50.2%,50.2%);fill-opacity:1.0;opacity:1.0;stroke:rgb(100%,100%,100%);stroke-opacity:1.0;stroke-width:1.0\" width=\"0.0\" x=\"157.5\" y=\"340.0\"></rect><rect class=\"toyplot-Datum\" height=\"4.0\" style=\"fill:rgb(50.2%,50.2%,50.2%);fill-opacity:1.0;opacity:1.0;stroke:rgb(100%,100%,100%);stroke-opacity:1.0;stroke-width:1.0\" width=\"0.0\" x=\"157.5\" y=\"336.0\"></rect><rect class=\"toyplot-Datum\" height=\"4.0\" style=\"fill:rgb(50.2%,50.2%,50.2%);fill-opacity:1.0;opacity:1.0;stroke:rgb(100%,100%,100%);stroke-opacity:1.0;stroke-width:1.0\" width=\"0.0\" x=\"157.5\" y=\"332.0\"></rect><rect class=\"toyplot-Datum\" height=\"4.0\" style=\"fill:rgb(50.2%,50.2%,50.2%);fill-opacity:1.0;opacity:1.0;stroke:rgb(100%,100%,100%);stroke-opacity:1.0;stroke-width:1.0\" width=\"0.0\" x=\"157.5\" y=\"328.0\"></rect><rect class=\"toyplot-Datum\" height=\"4.0000000000000568\" style=\"fill:rgb(50.2%,50.2%,50.2%);fill-opacity:1.0;opacity:1.0;stroke:rgb(100%,100%,100%);stroke-opacity:1.0;stroke-width:1.0\" width=\"0.0\" x=\"157.5\" y=\"323.99999999999994\"></rect><rect class=\"toyplot-Datum\" height=\"3.9999999999999432\" style=\"fill:rgb(50.2%,50.2%,50.2%);fill-opacity:1.0;opacity:1.0;stroke:rgb(100%,100%,100%);stroke-opacity:1.0;stroke-width:1.0\" width=\"0.0\" x=\"157.5\" y=\"320.0\"></rect><rect class=\"toyplot-Datum\" height=\"4.0\" style=\"fill:rgb(50.2%,50.2%,50.2%);fill-opacity:1.0;opacity:1.0;stroke:rgb(100%,100%,100%);stroke-opacity:1.0;stroke-width:1.0\" width=\"0.0\" x=\"157.5\" y=\"316.0\"></rect><rect class=\"toyplot-Datum\" height=\"4.0\" style=\"fill:rgb(50.2%,50.2%,50.2%);fill-opacity:1.0;opacity:1.0;stroke:rgb(100%,100%,100%);stroke-opacity:1.0;stroke-width:1.0\" width=\"0.0\" x=\"157.5\" y=\"312.0\"></rect><rect class=\"toyplot-Datum\" height=\"4.0\" style=\"fill:rgb(50.2%,50.2%,50.2%);fill-opacity:1.0;opacity:1.0;stroke:rgb(100%,100%,100%);stroke-opacity:1.0;stroke-width:1.0\" width=\"0.0\" x=\"157.5\" y=\"308.0\"></rect><rect class=\"toyplot-Datum\" height=\"3.9999999999999432\" style=\"fill:rgb(50.2%,50.2%,50.2%);fill-opacity:1.0;opacity:1.0;stroke:rgb(100%,100%,100%);stroke-opacity:1.0;stroke-width:1.0\" width=\"0.092719780219795211\" x=\"157.5\" y=\"304.00000000000006\"></rect><rect class=\"toyplot-Datum\" height=\"4.0000000000000568\" style=\"fill:rgb(50.2%,50.2%,50.2%);fill-opacity:1.0;opacity:1.0;stroke:rgb(100%,100%,100%);stroke-opacity:1.0;stroke-width:1.0\" width=\"0.0\" x=\"157.5\" y=\"300.0\"></rect><rect class=\"toyplot-Datum\" height=\"4.0\" style=\"fill:rgb(50.2%,50.2%,50.2%);fill-opacity:1.0;opacity:1.0;stroke:rgb(100%,100%,100%);stroke-opacity:1.0;stroke-width:1.0\" width=\"0.27815934065932879\" x=\"157.5\" y=\"296.0\"></rect><rect class=\"toyplot-Datum\" height=\"4.0\" style=\"fill:rgb(50.2%,50.2%,50.2%);fill-opacity:1.0;opacity:1.0;stroke:rgb(100%,100%,100%);stroke-opacity:1.0;stroke-width:1.0\" width=\"1.7616758241758248\" x=\"157.5\" y=\"292.0\"></rect><rect class=\"toyplot-Datum\" height=\"4.0\" style=\"fill:rgb(50.2%,50.2%,50.2%);fill-opacity:1.0;opacity:1.0;stroke:rgb(100%,100%,100%);stroke-opacity:1.0;stroke-width:1.0\" width=\"4.0796703296703356\" x=\"157.5\" y=\"288.0\"></rect><rect class=\"toyplot-Datum\" height=\"4.0\" style=\"fill:rgb(50.2%,50.2%,50.2%);fill-opacity:1.0;opacity:1.0;stroke:rgb(100%,100%,100%);stroke-opacity:1.0;stroke-width:1.0\" width=\"5.7486263736263652\" x=\"157.5\" y=\"284.0\"></rect><rect class=\"toyplot-Datum\" height=\"4.0\" style=\"fill:rgb(50.2%,50.2%,50.2%);fill-opacity:1.0;opacity:1.0;stroke:rgb(100%,100%,100%);stroke-opacity:1.0;stroke-width:1.0\" width=\"9.9210164835164392\" x=\"157.5\" y=\"280.0\"></rect><rect class=\"toyplot-Datum\" height=\"4.0\" style=\"fill:rgb(50.2%,50.2%,50.2%);fill-opacity:1.0;opacity:1.0;stroke:rgb(100%,100%,100%);stroke-opacity:1.0;stroke-width:1.0\" width=\"14.000686813186775\" x=\"157.5\" y=\"276.0\"></rect><rect class=\"toyplot-Datum\" height=\"4.0\" style=\"fill:rgb(50.2%,50.2%,50.2%);fill-opacity:1.0;opacity:1.0;stroke:rgb(100%,100%,100%);stroke-opacity:1.0;stroke-width:1.0\" width=\"16.875\" x=\"157.5\" y=\"272.0\"></rect><rect class=\"toyplot-Datum\" height=\"4.0\" style=\"fill:rgb(50.2%,50.2%,50.2%);fill-opacity:1.0;opacity:1.0;stroke:rgb(100%,100%,100%);stroke-opacity:1.0;stroke-width:1.0\" width=\"15.762362637362571\" x=\"157.5\" y=\"268.0\"></rect><rect class=\"toyplot-Datum\" height=\"4.0\" style=\"fill:rgb(50.2%,50.2%,50.2%);fill-opacity:1.0;opacity:1.0;stroke:rgb(100%,100%,100%);stroke-opacity:1.0;stroke-width:1.0\" width=\"11.589972527472497\" x=\"157.5\" y=\"264.0\"></rect><rect class=\"toyplot-Datum\" height=\"4.0\" style=\"fill:rgb(50.2%,50.2%,50.2%);fill-opacity:1.0;opacity:1.0;stroke:rgb(100%,100%,100%);stroke-opacity:1.0;stroke-width:1.0\" width=\"6.6758241758241752\" x=\"157.5\" y=\"260.0\"></rect><rect class=\"toyplot-Datum\" height=\"4.0\" style=\"fill:rgb(50.2%,50.2%,50.2%);fill-opacity:1.0;opacity:1.0;stroke:rgb(100%,100%,100%);stroke-opacity:1.0;stroke-width:1.0\" width=\"3.7087912087911832\" x=\"157.5\" y=\"256.0\"></rect><rect class=\"toyplot-Datum\" height=\"4.0\" style=\"fill:rgb(50.2%,50.2%,50.2%);fill-opacity:1.0;opacity:1.0;stroke:rgb(100%,100%,100%);stroke-opacity:1.0;stroke-width:1.0\" width=\"1.2980769230769056\" x=\"157.5\" y=\"252.0\"></rect><rect class=\"toyplot-Datum\" height=\"4.0\" style=\"fill:rgb(50.2%,50.2%,50.2%);fill-opacity:1.0;opacity:1.0;stroke:rgb(100%,100%,100%);stroke-opacity:1.0;stroke-width:1.0\" width=\"0.74175824175821958\" x=\"157.5\" y=\"248.0\"></rect><rect class=\"toyplot-Datum\" height=\"4.0\" style=\"fill:rgb(50.2%,50.2%,50.2%);fill-opacity:1.0;opacity:1.0;stroke:rgb(100%,100%,100%);stroke-opacity:1.0;stroke-width:1.0\" width=\"0.185439560439562\" x=\"157.5\" y=\"244.0\"></rect><rect class=\"toyplot-Datum\" height=\"4.0\" style=\"fill:rgb(50.2%,50.2%,50.2%);fill-opacity:1.0;opacity:1.0;stroke:rgb(100%,100%,100%);stroke-opacity:1.0;stroke-width:1.0\" width=\"0.0\" x=\"157.5\" y=\"240.0\"></rect><rect class=\"toyplot-Datum\" height=\"4.0\" style=\"fill:rgb(50.2%,50.2%,50.2%);fill-opacity:1.0;opacity:1.0;stroke:rgb(100%,100%,100%);stroke-opacity:1.0;stroke-width:1.0\" width=\"0.0\" x=\"157.5\" y=\"236.0\"></rect><rect class=\"toyplot-Datum\" height=\"3.9999999999999716\" style=\"fill:rgb(50.2%,50.2%,50.2%);fill-opacity:1.0;opacity:1.0;stroke:rgb(100%,100%,100%);stroke-opacity:1.0;stroke-width:1.0\" width=\"0.0\" x=\"157.5\" y=\"232.00000000000003\"></rect><rect class=\"toyplot-Datum\" height=\"4.0\" style=\"fill:rgb(50.2%,50.2%,50.2%);fill-opacity:1.0;opacity:1.0;stroke:rgb(100%,100%,100%);stroke-opacity:1.0;stroke-width:1.0\" width=\"0.0\" x=\"157.5\" y=\"228.00000000000003\"></rect><rect class=\"toyplot-Datum\" height=\"4.0000000000000284\" style=\"fill:rgb(50.2%,50.2%,50.2%);fill-opacity:1.0;opacity:1.0;stroke:rgb(100%,100%,100%);stroke-opacity:1.0;stroke-width:1.0\" width=\"0.0\" x=\"157.5\" y=\"224.0\"></rect><rect class=\"toyplot-Datum\" height=\"3.9999999999999716\" style=\"fill:rgb(50.2%,50.2%,50.2%);fill-opacity:1.0;opacity:1.0;stroke:rgb(100%,100%,100%);stroke-opacity:1.0;stroke-width:1.0\" width=\"0.0\" x=\"157.5\" y=\"220.00000000000003\"></rect><rect class=\"toyplot-Datum\" height=\"4.0000000000000284\" style=\"fill:rgb(50.2%,50.2%,50.2%);fill-opacity:1.0;opacity:1.0;stroke:rgb(100%,100%,100%);stroke-opacity:1.0;stroke-width:1.0\" width=\"0.0\" x=\"157.5\" y=\"216.0\"></rect><rect class=\"toyplot-Datum\" height=\"4.0\" style=\"fill:rgb(50.2%,50.2%,50.2%);fill-opacity:1.0;opacity:1.0;stroke:rgb(100%,100%,100%);stroke-opacity:1.0;stroke-width:1.0\" width=\"0.0\" x=\"157.5\" y=\"212.0\"></rect><rect class=\"toyplot-Datum\" height=\"4.0\" style=\"fill:rgb(50.2%,50.2%,50.2%);fill-opacity:1.0;opacity:1.0;stroke:rgb(100%,100%,100%);stroke-opacity:1.0;stroke-width:1.0\" width=\"0.0\" x=\"157.5\" y=\"208.0\"></rect><rect class=\"toyplot-Datum\" height=\"4.0\" style=\"fill:rgb(50.2%,50.2%,50.2%);fill-opacity:1.0;opacity:1.0;stroke:rgb(100%,100%,100%);stroke-opacity:1.0;stroke-width:1.0\" width=\"0.0\" x=\"157.5\" y=\"204.0\"></rect><rect class=\"toyplot-Datum\" height=\"4.0\" style=\"fill:rgb(50.2%,50.2%,50.2%);fill-opacity:1.0;opacity:1.0;stroke:rgb(100%,100%,100%);stroke-opacity:1.0;stroke-width:1.0\" width=\"0.0\" x=\"157.5\" y=\"200.0\"></rect><rect class=\"toyplot-Datum\" height=\"3.9999999999999716\" style=\"fill:rgb(50.2%,50.2%,50.2%);fill-opacity:1.0;opacity:1.0;stroke:rgb(100%,100%,100%);stroke-opacity:1.0;stroke-width:1.0\" width=\"0.0\" x=\"157.5\" y=\"196.00000000000003\"></rect><rect class=\"toyplot-Datum\" height=\"4.0000000000000284\" style=\"fill:rgb(50.2%,50.2%,50.2%);fill-opacity:1.0;opacity:1.0;stroke:rgb(100%,100%,100%);stroke-opacity:1.0;stroke-width:1.0\" width=\"0.0\" x=\"157.5\" y=\"192.0\"></rect><rect class=\"toyplot-Datum\" height=\"4.0\" style=\"fill:rgb(50.2%,50.2%,50.2%);fill-opacity:1.0;opacity:1.0;stroke:rgb(100%,100%,100%);stroke-opacity:1.0;stroke-width:1.0\" width=\"0.0\" x=\"157.5\" y=\"188.0\"></rect><rect class=\"toyplot-Datum\" height=\"4.0\" style=\"fill:rgb(50.2%,50.2%,50.2%);fill-opacity:1.0;opacity:1.0;stroke:rgb(100%,100%,100%);stroke-opacity:1.0;stroke-width:1.0\" width=\"0.0\" x=\"157.5\" y=\"184.0\"></rect><rect class=\"toyplot-Datum\" height=\"4.0\" style=\"fill:rgb(50.2%,50.2%,50.2%);fill-opacity:1.0;opacity:1.0;stroke:rgb(100%,100%,100%);stroke-opacity:1.0;stroke-width:1.0\" width=\"0.0\" x=\"157.5\" y=\"180.0\"></rect></g></g></g><g class=\"toyplot-coordinates-Axis\" id=\"td2a5f3db68b94aef9fe73a59083c479b\" transform=\"translate(157.5,380.0)rotate(-90.0)translate(0,-0.5)\"><line style=\"\" x1=\"0\" x2=\"200.0\" y1=\"0\" y2=\"0\"></line><g class=\"toyplot-coordinates-Axis-coordinates\" style=\"visibility:hidden\" transform=\"\"><line style=\"stroke:rgb(43.9%,50.2%,56.5%);stroke-opacity:1.0;stroke-width:1.0\" x1=\"0\" x2=\"0\" y1=\"3.0\" y2=\"-4.5\"></line><text style=\"alignment-baseline:hanging;fill:rgb(43.9%,50.2%,56.5%);fill-opacity:1.0;font-size:10px;font-weight:normal;stroke:none;text-anchor:middle\" x=\"0\" y=\"6\"></text></g></g></g><g class=\"toyplot-coordinates-Cartesian\" id=\"t9cef1e7349ba4641bc80823ef0c98108\"><clipPath id=\"t455a3de5b0b3475890ab9c4f253061db\"><rect height=\"201.0\" width=\"17.875\" x=\"179.5\" y=\"179.5\"></rect></clipPath><g clip-path=\"url(#t455a3de5b0b3475890ab9c4f253061db)\"><g class=\"toyplot-mark-BarMagnitudes\" id=\"t8aaad0a1cd7b4b8c9ede946068fd24b2\" style=\"stroke:rgb(100%,100%,100%);stroke-opacity:1.0;stroke-width:1.0\"><g class=\"toyplot-Series\"><rect class=\"toyplot-Datum\" height=\"4.0\" style=\"fill:rgb(50.2%,50.2%,50.2%);fill-opacity:1.0;opacity:1.0;stroke:rgb(100%,100%,100%);stroke-opacity:1.0;stroke-width:1.0\" width=\"0.0\" x=\"180.0\" y=\"376.0\"></rect><rect class=\"toyplot-Datum\" height=\"4.0\" style=\"fill:rgb(50.2%,50.2%,50.2%);fill-opacity:1.0;opacity:1.0;stroke:rgb(100%,100%,100%);stroke-opacity:1.0;stroke-width:1.0\" width=\"0.0\" x=\"180.0\" y=\"372.0\"></rect><rect class=\"toyplot-Datum\" height=\"3.9999999999999432\" style=\"fill:rgb(50.2%,50.2%,50.2%);fill-opacity:1.0;opacity:1.0;stroke:rgb(100%,100%,100%);stroke-opacity:1.0;stroke-width:1.0\" width=\"0.0\" x=\"180.0\" y=\"368.00000000000006\"></rect><rect class=\"toyplot-Datum\" height=\"4.0000000000000568\" style=\"fill:rgb(50.2%,50.2%,50.2%);fill-opacity:1.0;opacity:1.0;stroke:rgb(100%,100%,100%);stroke-opacity:1.0;stroke-width:1.0\" width=\"0.0\" x=\"180.0\" y=\"364.0\"></rect><rect class=\"toyplot-Datum\" height=\"4.0\" style=\"fill:rgb(50.2%,50.2%,50.2%);fill-opacity:1.0;opacity:1.0;stroke:rgb(100%,100%,100%);stroke-opacity:1.0;stroke-width:1.0\" width=\"0.0\" x=\"180.0\" y=\"360.0\"></rect><rect class=\"toyplot-Datum\" height=\"4.0\" style=\"fill:rgb(50.2%,50.2%,50.2%);fill-opacity:1.0;opacity:1.0;stroke:rgb(100%,100%,100%);stroke-opacity:1.0;stroke-width:1.0\" width=\"0.0\" x=\"180.0\" y=\"356.0\"></rect><rect class=\"toyplot-Datum\" height=\"4.0\" style=\"fill:rgb(50.2%,50.2%,50.2%);fill-opacity:1.0;opacity:1.0;stroke:rgb(100%,100%,100%);stroke-opacity:1.0;stroke-width:1.0\" width=\"0.0\" x=\"180.0\" y=\"352.0\"></rect><rect class=\"toyplot-Datum\" height=\"4.0\" style=\"fill:rgb(50.2%,50.2%,50.2%);fill-opacity:1.0;opacity:1.0;stroke:rgb(100%,100%,100%);stroke-opacity:1.0;stroke-width:1.0\" width=\"0.0\" x=\"180.0\" y=\"348.0\"></rect><rect class=\"toyplot-Datum\" height=\"4.0\" style=\"fill:rgb(50.2%,50.2%,50.2%);fill-opacity:1.0;opacity:1.0;stroke:rgb(100%,100%,100%);stroke-opacity:1.0;stroke-width:1.0\" width=\"0.0\" x=\"180.0\" y=\"344.0\"></rect><rect class=\"toyplot-Datum\" height=\"4.0\" style=\"fill:rgb(50.2%,50.2%,50.2%);fill-opacity:1.0;opacity:1.0;stroke:rgb(100%,100%,100%);stroke-opacity:1.0;stroke-width:1.0\" width=\"0.0\" x=\"180.0\" y=\"340.0\"></rect><rect class=\"toyplot-Datum\" height=\"4.0\" style=\"fill:rgb(50.2%,50.2%,50.2%);fill-opacity:1.0;opacity:1.0;stroke:rgb(100%,100%,100%);stroke-opacity:1.0;stroke-width:1.0\" width=\"0.0\" x=\"180.0\" y=\"336.0\"></rect><rect class=\"toyplot-Datum\" height=\"4.0\" style=\"fill:rgb(50.2%,50.2%,50.2%);fill-opacity:1.0;opacity:1.0;stroke:rgb(100%,100%,100%);stroke-opacity:1.0;stroke-width:1.0\" width=\"0.0\" x=\"180.0\" y=\"332.0\"></rect><rect class=\"toyplot-Datum\" height=\"4.0\" style=\"fill:rgb(50.2%,50.2%,50.2%);fill-opacity:1.0;opacity:1.0;stroke:rgb(100%,100%,100%);stroke-opacity:1.0;stroke-width:1.0\" width=\"0.0\" x=\"180.0\" y=\"328.0\"></rect><rect class=\"toyplot-Datum\" height=\"4.0000000000000568\" style=\"fill:rgb(50.2%,50.2%,50.2%);fill-opacity:1.0;opacity:1.0;stroke:rgb(100%,100%,100%);stroke-opacity:1.0;stroke-width:1.0\" width=\"0.0\" x=\"180.0\" y=\"323.99999999999994\"></rect><rect class=\"toyplot-Datum\" height=\"3.9999999999999432\" style=\"fill:rgb(50.2%,50.2%,50.2%);fill-opacity:1.0;opacity:1.0;stroke:rgb(100%,100%,100%);stroke-opacity:1.0;stroke-width:1.0\" width=\"0.0\" x=\"180.0\" y=\"320.0\"></rect><rect class=\"toyplot-Datum\" height=\"4.0\" style=\"fill:rgb(50.2%,50.2%,50.2%);fill-opacity:1.0;opacity:1.0;stroke:rgb(100%,100%,100%);stroke-opacity:1.0;stroke-width:1.0\" width=\"0.0\" x=\"180.0\" y=\"316.0\"></rect><rect class=\"toyplot-Datum\" height=\"4.0\" style=\"fill:rgb(50.2%,50.2%,50.2%);fill-opacity:1.0;opacity:1.0;stroke:rgb(100%,100%,100%);stroke-opacity:1.0;stroke-width:1.0\" width=\"0.0\" x=\"180.0\" y=\"312.0\"></rect><rect class=\"toyplot-Datum\" height=\"4.0\" style=\"fill:rgb(50.2%,50.2%,50.2%);fill-opacity:1.0;opacity:1.0;stroke:rgb(100%,100%,100%);stroke-opacity:1.0;stroke-width:1.0\" width=\"0.0\" x=\"180.0\" y=\"308.0\"></rect><rect class=\"toyplot-Datum\" height=\"3.9999999999999432\" style=\"fill:rgb(50.2%,50.2%,50.2%);fill-opacity:1.0;opacity:1.0;stroke:rgb(100%,100%,100%);stroke-opacity:1.0;stroke-width:1.0\" width=\"0.0\" x=\"180.0\" y=\"304.00000000000006\"></rect><rect class=\"toyplot-Datum\" height=\"4.0000000000000568\" style=\"fill:rgb(50.2%,50.2%,50.2%);fill-opacity:1.0;opacity:1.0;stroke:rgb(100%,100%,100%);stroke-opacity:1.0;stroke-width:1.0\" width=\"0.0\" x=\"180.0\" y=\"300.0\"></rect><rect class=\"toyplot-Datum\" height=\"4.0\" style=\"fill:rgb(50.2%,50.2%,50.2%);fill-opacity:1.0;opacity:1.0;stroke:rgb(100%,100%,100%);stroke-opacity:1.0;stroke-width:1.0\" width=\"0.0\" x=\"180.0\" y=\"296.0\"></rect><rect class=\"toyplot-Datum\" height=\"4.0\" style=\"fill:rgb(50.2%,50.2%,50.2%);fill-opacity:1.0;opacity:1.0;stroke:rgb(100%,100%,100%);stroke-opacity:1.0;stroke-width:1.0\" width=\"0.0\" x=\"180.0\" y=\"292.0\"></rect><rect class=\"toyplot-Datum\" height=\"4.0\" style=\"fill:rgb(50.2%,50.2%,50.2%);fill-opacity:1.0;opacity:1.0;stroke:rgb(100%,100%,100%);stroke-opacity:1.0;stroke-width:1.0\" width=\"0.0\" x=\"180.0\" y=\"288.0\"></rect><rect class=\"toyplot-Datum\" height=\"4.0\" style=\"fill:rgb(50.2%,50.2%,50.2%);fill-opacity:1.0;opacity:1.0;stroke:rgb(100%,100%,100%);stroke-opacity:1.0;stroke-width:1.0\" width=\"0.1875\" x=\"180.0\" y=\"284.0\"></rect><rect class=\"toyplot-Datum\" height=\"4.0\" style=\"fill:rgb(50.2%,50.2%,50.2%);fill-opacity:1.0;opacity:1.0;stroke:rgb(100%,100%,100%);stroke-opacity:1.0;stroke-width:1.0\" width=\"0.37499999999997158\" x=\"180.0\" y=\"280.0\"></rect><rect class=\"toyplot-Datum\" height=\"4.0\" style=\"fill:rgb(50.2%,50.2%,50.2%);fill-opacity:1.0;opacity:1.0;stroke:rgb(100%,100%,100%);stroke-opacity:1.0;stroke-width:1.0\" width=\"0.84375\" x=\"180.0\" y=\"276.0\"></rect><rect class=\"toyplot-Datum\" height=\"4.0\" style=\"fill:rgb(50.2%,50.2%,50.2%);fill-opacity:1.0;opacity:1.0;stroke:rgb(100%,100%,100%);stroke-opacity:1.0;stroke-width:1.0\" width=\"3.65625\" x=\"180.0\" y=\"272.0\"></rect><rect class=\"toyplot-Datum\" height=\"4.0\" style=\"fill:rgb(50.2%,50.2%,50.2%);fill-opacity:1.0;opacity:1.0;stroke:rgb(100%,100%,100%);stroke-opacity:1.0;stroke-width:1.0\" width=\"7.3125\" x=\"180.0\" y=\"268.0\"></rect><rect class=\"toyplot-Datum\" height=\"4.0\" style=\"fill:rgb(50.2%,50.2%,50.2%);fill-opacity:1.0;opacity:1.0;stroke:rgb(100%,100%,100%);stroke-opacity:1.0;stroke-width:1.0\" width=\"12.187499999999943\" x=\"180.0\" y=\"264.0\"></rect><rect class=\"toyplot-Datum\" height=\"4.0\" style=\"fill:rgb(50.2%,50.2%,50.2%);fill-opacity:1.0;opacity:1.0;stroke:rgb(100%,100%,100%);stroke-opacity:1.0;stroke-width:1.0\" width=\"16.875\" x=\"180.0\" y=\"260.0\"></rect><rect class=\"toyplot-Datum\" height=\"4.0\" style=\"fill:rgb(50.2%,50.2%,50.2%);fill-opacity:1.0;opacity:1.0;stroke:rgb(100%,100%,100%);stroke-opacity:1.0;stroke-width:1.0\" width=\"14.999999999999943\" x=\"180.0\" y=\"256.0\"></rect><rect class=\"toyplot-Datum\" height=\"4.0\" style=\"fill:rgb(50.2%,50.2%,50.2%);fill-opacity:1.0;opacity:1.0;stroke:rgb(100%,100%,100%);stroke-opacity:1.0;stroke-width:1.0\" width=\"13.781249999999943\" x=\"180.0\" y=\"252.0\"></rect><rect class=\"toyplot-Datum\" height=\"4.0\" style=\"fill:rgb(50.2%,50.2%,50.2%);fill-opacity:1.0;opacity:1.0;stroke:rgb(100%,100%,100%);stroke-opacity:1.0;stroke-width:1.0\" width=\"10.781249999999943\" x=\"180.0\" y=\"248.0\"></rect><rect class=\"toyplot-Datum\" height=\"4.0\" style=\"fill:rgb(50.2%,50.2%,50.2%);fill-opacity:1.0;opacity:1.0;stroke:rgb(100%,100%,100%);stroke-opacity:1.0;stroke-width:1.0\" width=\"6.5624999999999716\" x=\"180.0\" y=\"244.0\"></rect><rect class=\"toyplot-Datum\" height=\"4.0\" style=\"fill:rgb(50.2%,50.2%,50.2%);fill-opacity:1.0;opacity:1.0;stroke:rgb(100%,100%,100%);stroke-opacity:1.0;stroke-width:1.0\" width=\"4.125\" x=\"180.0\" y=\"240.0\"></rect><rect class=\"toyplot-Datum\" height=\"4.0\" style=\"fill:rgb(50.2%,50.2%,50.2%);fill-opacity:1.0;opacity:1.0;stroke:rgb(100%,100%,100%);stroke-opacity:1.0;stroke-width:1.0\" width=\"1.125\" x=\"180.0\" y=\"236.0\"></rect><rect class=\"toyplot-Datum\" height=\"3.9999999999999716\" style=\"fill:rgb(50.2%,50.2%,50.2%);fill-opacity:1.0;opacity:1.0;stroke:rgb(100%,100%,100%);stroke-opacity:1.0;stroke-width:1.0\" width=\"0.84375\" x=\"180.0\" y=\"232.00000000000003\"></rect><rect class=\"toyplot-Datum\" height=\"4.0\" style=\"fill:rgb(50.2%,50.2%,50.2%);fill-opacity:1.0;opacity:1.0;stroke:rgb(100%,100%,100%);stroke-opacity:1.0;stroke-width:1.0\" width=\"0.09375\" x=\"180.0\" y=\"228.00000000000003\"></rect><rect class=\"toyplot-Datum\" height=\"4.0000000000000284\" style=\"fill:rgb(50.2%,50.2%,50.2%);fill-opacity:1.0;opacity:1.0;stroke:rgb(100%,100%,100%);stroke-opacity:1.0;stroke-width:1.0\" width=\"0.0\" x=\"180.0\" y=\"224.0\"></rect><rect class=\"toyplot-Datum\" height=\"3.9999999999999716\" style=\"fill:rgb(50.2%,50.2%,50.2%);fill-opacity:1.0;opacity:1.0;stroke:rgb(100%,100%,100%);stroke-opacity:1.0;stroke-width:1.0\" width=\"0.0\" x=\"180.0\" y=\"220.00000000000003\"></rect><rect class=\"toyplot-Datum\" height=\"4.0000000000000284\" style=\"fill:rgb(50.2%,50.2%,50.2%);fill-opacity:1.0;opacity:1.0;stroke:rgb(100%,100%,100%);stroke-opacity:1.0;stroke-width:1.0\" width=\"0.0\" x=\"180.0\" y=\"216.0\"></rect><rect class=\"toyplot-Datum\" height=\"4.0\" style=\"fill:rgb(50.2%,50.2%,50.2%);fill-opacity:1.0;opacity:1.0;stroke:rgb(100%,100%,100%);stroke-opacity:1.0;stroke-width:1.0\" width=\"0.0\" x=\"180.0\" y=\"212.0\"></rect><rect class=\"toyplot-Datum\" height=\"4.0\" style=\"fill:rgb(50.2%,50.2%,50.2%);fill-opacity:1.0;opacity:1.0;stroke:rgb(100%,100%,100%);stroke-opacity:1.0;stroke-width:1.0\" width=\"0.0\" x=\"180.0\" y=\"208.0\"></rect><rect class=\"toyplot-Datum\" height=\"4.0\" style=\"fill:rgb(50.2%,50.2%,50.2%);fill-opacity:1.0;opacity:1.0;stroke:rgb(100%,100%,100%);stroke-opacity:1.0;stroke-width:1.0\" width=\"0.0\" x=\"180.0\" y=\"204.0\"></rect><rect class=\"toyplot-Datum\" height=\"4.0\" style=\"fill:rgb(50.2%,50.2%,50.2%);fill-opacity:1.0;opacity:1.0;stroke:rgb(100%,100%,100%);stroke-opacity:1.0;stroke-width:1.0\" width=\"0.0\" x=\"180.0\" y=\"200.0\"></rect><rect class=\"toyplot-Datum\" height=\"3.9999999999999716\" style=\"fill:rgb(50.2%,50.2%,50.2%);fill-opacity:1.0;opacity:1.0;stroke:rgb(100%,100%,100%);stroke-opacity:1.0;stroke-width:1.0\" width=\"0.0\" x=\"180.0\" y=\"196.00000000000003\"></rect><rect class=\"toyplot-Datum\" height=\"4.0000000000000284\" style=\"fill:rgb(50.2%,50.2%,50.2%);fill-opacity:1.0;opacity:1.0;stroke:rgb(100%,100%,100%);stroke-opacity:1.0;stroke-width:1.0\" width=\"0.0\" x=\"180.0\" y=\"192.0\"></rect><rect class=\"toyplot-Datum\" height=\"4.0\" style=\"fill:rgb(50.2%,50.2%,50.2%);fill-opacity:1.0;opacity:1.0;stroke:rgb(100%,100%,100%);stroke-opacity:1.0;stroke-width:1.0\" width=\"0.0\" x=\"180.0\" y=\"188.0\"></rect><rect class=\"toyplot-Datum\" height=\"4.0\" style=\"fill:rgb(50.2%,50.2%,50.2%);fill-opacity:1.0;opacity:1.0;stroke:rgb(100%,100%,100%);stroke-opacity:1.0;stroke-width:1.0\" width=\"0.0\" x=\"180.0\" y=\"184.0\"></rect><rect class=\"toyplot-Datum\" height=\"4.0\" style=\"fill:rgb(50.2%,50.2%,50.2%);fill-opacity:1.0;opacity:1.0;stroke:rgb(100%,100%,100%);stroke-opacity:1.0;stroke-width:1.0\" width=\"0.0\" x=\"180.0\" y=\"180.0\"></rect></g></g></g><g class=\"toyplot-coordinates-Axis\" id=\"t4d09b1ea7cb0420c91ea87066e473170\" transform=\"translate(180.0,380.0)rotate(-90.0)translate(0,-0.5)\"><line style=\"\" x1=\"0\" x2=\"200.0\" y1=\"0\" y2=\"0\"></line><g class=\"toyplot-coordinates-Axis-coordinates\" style=\"visibility:hidden\" transform=\"\"><line style=\"stroke:rgb(43.9%,50.2%,56.5%);stroke-opacity:1.0;stroke-width:1.0\" x1=\"0\" x2=\"0\" y1=\"3.0\" y2=\"-4.5\"></line><text style=\"alignment-baseline:hanging;fill:rgb(43.9%,50.2%,56.5%);fill-opacity:1.0;font-size:10px;font-weight:normal;stroke:none;text-anchor:middle\" x=\"0\" y=\"6\"></text></g></g></g><g class=\"toyplot-coordinates-Cartesian\" id=\"t4392284f98634e359fa88994d477ce9d\"><clipPath id=\"t9086fa1366f04bbcbdedb8098e39d3d8\"><rect height=\"201.0\" width=\"17.875\" x=\"202.0\" y=\"179.5\"></rect></clipPath><g clip-path=\"url(#t9086fa1366f04bbcbdedb8098e39d3d8)\"><g class=\"toyplot-mark-BarMagnitudes\" id=\"t2c8d971ac9304a9a99b5308262c93fae\" style=\"stroke:rgb(100%,100%,100%);stroke-opacity:1.0;stroke-width:1.0\"><g class=\"toyplot-Series\"><rect class=\"toyplot-Datum\" height=\"4.0\" style=\"fill:rgb(50.2%,50.2%,50.2%);fill-opacity:1.0;opacity:1.0;stroke:rgb(100%,100%,100%);stroke-opacity:1.0;stroke-width:1.0\" width=\"0.0\" x=\"202.5\" y=\"376.0\"></rect><rect class=\"toyplot-Datum\" height=\"4.0\" style=\"fill:rgb(50.2%,50.2%,50.2%);fill-opacity:1.0;opacity:1.0;stroke:rgb(100%,100%,100%);stroke-opacity:1.0;stroke-width:1.0\" width=\"0.0\" x=\"202.5\" y=\"372.0\"></rect><rect class=\"toyplot-Datum\" height=\"3.9999999999999432\" style=\"fill:rgb(50.2%,50.2%,50.2%);fill-opacity:1.0;opacity:1.0;stroke:rgb(100%,100%,100%);stroke-opacity:1.0;stroke-width:1.0\" width=\"0.0\" x=\"202.5\" y=\"368.00000000000006\"></rect><rect class=\"toyplot-Datum\" height=\"4.0000000000000568\" style=\"fill:rgb(50.2%,50.2%,50.2%);fill-opacity:1.0;opacity:1.0;stroke:rgb(100%,100%,100%);stroke-opacity:1.0;stroke-width:1.0\" width=\"0.0\" x=\"202.5\" y=\"364.0\"></rect><rect class=\"toyplot-Datum\" height=\"4.0\" style=\"fill:rgb(50.2%,50.2%,50.2%);fill-opacity:1.0;opacity:1.0;stroke:rgb(100%,100%,100%);stroke-opacity:1.0;stroke-width:1.0\" width=\"0.0\" x=\"202.5\" y=\"360.0\"></rect><rect class=\"toyplot-Datum\" height=\"4.0\" style=\"fill:rgb(50.2%,50.2%,50.2%);fill-opacity:1.0;opacity:1.0;stroke:rgb(100%,100%,100%);stroke-opacity:1.0;stroke-width:1.0\" width=\"0.0\" x=\"202.5\" y=\"356.0\"></rect><rect class=\"toyplot-Datum\" height=\"4.0\" style=\"fill:rgb(50.2%,50.2%,50.2%);fill-opacity:1.0;opacity:1.0;stroke:rgb(100%,100%,100%);stroke-opacity:1.0;stroke-width:1.0\" width=\"0.0\" x=\"202.5\" y=\"352.0\"></rect><rect class=\"toyplot-Datum\" height=\"4.0\" style=\"fill:rgb(50.2%,50.2%,50.2%);fill-opacity:1.0;opacity:1.0;stroke:rgb(100%,100%,100%);stroke-opacity:1.0;stroke-width:1.0\" width=\"0.0\" x=\"202.5\" y=\"348.0\"></rect><rect class=\"toyplot-Datum\" height=\"4.0\" style=\"fill:rgb(50.2%,50.2%,50.2%);fill-opacity:1.0;opacity:1.0;stroke:rgb(100%,100%,100%);stroke-opacity:1.0;stroke-width:1.0\" width=\"0.0\" x=\"202.5\" y=\"344.0\"></rect><rect class=\"toyplot-Datum\" height=\"4.0\" style=\"fill:rgb(50.2%,50.2%,50.2%);fill-opacity:1.0;opacity:1.0;stroke:rgb(100%,100%,100%);stroke-opacity:1.0;stroke-width:1.0\" width=\"0.0\" x=\"202.5\" y=\"340.0\"></rect><rect class=\"toyplot-Datum\" height=\"4.0\" style=\"fill:rgb(50.2%,50.2%,50.2%);fill-opacity:1.0;opacity:1.0;stroke:rgb(100%,100%,100%);stroke-opacity:1.0;stroke-width:1.0\" width=\"0.0\" x=\"202.5\" y=\"336.0\"></rect><rect class=\"toyplot-Datum\" height=\"4.0\" style=\"fill:rgb(50.2%,50.2%,50.2%);fill-opacity:1.0;opacity:1.0;stroke:rgb(100%,100%,100%);stroke-opacity:1.0;stroke-width:1.0\" width=\"0.0\" x=\"202.5\" y=\"332.0\"></rect><rect class=\"toyplot-Datum\" height=\"4.0\" style=\"fill:rgb(50.2%,50.2%,50.2%);fill-opacity:1.0;opacity:1.0;stroke:rgb(100%,100%,100%);stroke-opacity:1.0;stroke-width:1.0\" width=\"0.0\" x=\"202.5\" y=\"328.0\"></rect><rect class=\"toyplot-Datum\" height=\"4.0000000000000568\" style=\"fill:rgb(50.2%,50.2%,50.2%);fill-opacity:1.0;opacity:1.0;stroke:rgb(100%,100%,100%);stroke-opacity:1.0;stroke-width:1.0\" width=\"0.0\" x=\"202.5\" y=\"323.99999999999994\"></rect><rect class=\"toyplot-Datum\" height=\"3.9999999999999432\" style=\"fill:rgb(50.2%,50.2%,50.2%);fill-opacity:1.0;opacity:1.0;stroke:rgb(100%,100%,100%);stroke-opacity:1.0;stroke-width:1.0\" width=\"0.0\" x=\"202.5\" y=\"320.0\"></rect><rect class=\"toyplot-Datum\" height=\"4.0\" style=\"fill:rgb(50.2%,50.2%,50.2%);fill-opacity:1.0;opacity:1.0;stroke:rgb(100%,100%,100%);stroke-opacity:1.0;stroke-width:1.0\" width=\"0.0\" x=\"202.5\" y=\"316.0\"></rect><rect class=\"toyplot-Datum\" height=\"4.0\" style=\"fill:rgb(50.2%,50.2%,50.2%);fill-opacity:1.0;opacity:1.0;stroke:rgb(100%,100%,100%);stroke-opacity:1.0;stroke-width:1.0\" width=\"0.0\" x=\"202.5\" y=\"312.0\"></rect><rect class=\"toyplot-Datum\" height=\"4.0\" style=\"fill:rgb(50.2%,50.2%,50.2%);fill-opacity:1.0;opacity:1.0;stroke:rgb(100%,100%,100%);stroke-opacity:1.0;stroke-width:1.0\" width=\"0.0\" x=\"202.5\" y=\"308.0\"></rect><rect class=\"toyplot-Datum\" height=\"3.9999999999999432\" style=\"fill:rgb(50.2%,50.2%,50.2%);fill-opacity:1.0;opacity:1.0;stroke:rgb(100%,100%,100%);stroke-opacity:1.0;stroke-width:1.0\" width=\"0.0\" x=\"202.5\" y=\"304.00000000000006\"></rect><rect class=\"toyplot-Datum\" height=\"4.0000000000000568\" style=\"fill:rgb(50.2%,50.2%,50.2%);fill-opacity:1.0;opacity:1.0;stroke:rgb(100%,100%,100%);stroke-opacity:1.0;stroke-width:1.0\" width=\"0.0\" x=\"202.5\" y=\"300.0\"></rect><rect class=\"toyplot-Datum\" height=\"4.0\" style=\"fill:rgb(50.2%,50.2%,50.2%);fill-opacity:1.0;opacity:1.0;stroke:rgb(100%,100%,100%);stroke-opacity:1.0;stroke-width:1.0\" width=\"0.0\" x=\"202.5\" y=\"296.0\"></rect><rect class=\"toyplot-Datum\" height=\"4.0\" style=\"fill:rgb(50.2%,50.2%,50.2%);fill-opacity:1.0;opacity:1.0;stroke:rgb(100%,100%,100%);stroke-opacity:1.0;stroke-width:1.0\" width=\"0.0\" x=\"202.5\" y=\"292.0\"></rect><rect class=\"toyplot-Datum\" height=\"4.0\" style=\"fill:rgb(50.2%,50.2%,50.2%);fill-opacity:1.0;opacity:1.0;stroke:rgb(100%,100%,100%);stroke-opacity:1.0;stroke-width:1.0\" width=\"0.14610389610388097\" x=\"202.5\" y=\"288.0\"></rect><rect class=\"toyplot-Datum\" height=\"4.0\" style=\"fill:rgb(50.2%,50.2%,50.2%);fill-opacity:1.0;opacity:1.0;stroke:rgb(100%,100%,100%);stroke-opacity:1.0;stroke-width:1.0\" width=\"0.65746753246753542\" x=\"202.5\" y=\"284.0\"></rect><rect class=\"toyplot-Datum\" height=\"4.0\" style=\"fill:rgb(50.2%,50.2%,50.2%);fill-opacity:1.0;opacity:1.0;stroke:rgb(100%,100%,100%);stroke-opacity:1.0;stroke-width:1.0\" width=\"1.3149350649350424\" x=\"202.5\" y=\"280.0\"></rect><rect class=\"toyplot-Datum\" height=\"4.0\" style=\"fill:rgb(50.2%,50.2%,50.2%);fill-opacity:1.0;opacity:1.0;stroke:rgb(100%,100%,100%);stroke-opacity:1.0;stroke-width:1.0\" width=\"4.0909090909090935\" x=\"202.5\" y=\"276.0\"></rect><rect class=\"toyplot-Datum\" height=\"4.0\" style=\"fill:rgb(50.2%,50.2%,50.2%);fill-opacity:1.0;opacity:1.0;stroke:rgb(100%,100%,100%);stroke-opacity:1.0;stroke-width:1.0\" width=\"8.1087662337662891\" x=\"202.5\" y=\"272.0\"></rect><rect class=\"toyplot-Datum\" height=\"4.0\" style=\"fill:rgb(50.2%,50.2%,50.2%);fill-opacity:1.0;opacity:1.0;stroke:rgb(100%,100%,100%);stroke-opacity:1.0;stroke-width:1.0\" width=\"12.345779220779207\" x=\"202.5\" y=\"268.0\"></rect><rect class=\"toyplot-Datum\" height=\"4.0\" style=\"fill:rgb(50.2%,50.2%,50.2%);fill-opacity:1.0;opacity:1.0;stroke:rgb(100%,100%,100%);stroke-opacity:1.0;stroke-width:1.0\" width=\"16.875\" x=\"202.5\" y=\"264.0\"></rect><rect class=\"toyplot-Datum\" height=\"4.0\" style=\"fill:rgb(50.2%,50.2%,50.2%);fill-opacity:1.0;opacity:1.0;stroke:rgb(100%,100%,100%);stroke-opacity:1.0;stroke-width:1.0\" width=\"12.345779220779264\" x=\"202.5\" y=\"260.0\"></rect><rect class=\"toyplot-Datum\" height=\"4.0\" style=\"fill:rgb(50.2%,50.2%,50.2%);fill-opacity:1.0;opacity:1.0;stroke:rgb(100%,100%,100%);stroke-opacity:1.0;stroke-width:1.0\" width=\"9.3506493506493484\" x=\"202.5\" y=\"256.0\"></rect><rect class=\"toyplot-Datum\" height=\"4.0\" style=\"fill:rgb(50.2%,50.2%,50.2%);fill-opacity:1.0;opacity:1.0;stroke:rgb(100%,100%,100%);stroke-opacity:1.0;stroke-width:1.0\" width=\"5.4058441558441359\" x=\"202.5\" y=\"252.0\"></rect><rect class=\"toyplot-Datum\" height=\"4.0\" style=\"fill:rgb(50.2%,50.2%,50.2%);fill-opacity:1.0;opacity:1.0;stroke:rgb(100%,100%,100%);stroke-opacity:1.0;stroke-width:1.0\" width=\"1.8262987012986969\" x=\"202.5\" y=\"248.0\"></rect><rect class=\"toyplot-Datum\" height=\"4.0\" style=\"fill:rgb(50.2%,50.2%,50.2%);fill-opacity:1.0;opacity:1.0;stroke:rgb(100%,100%,100%);stroke-opacity:1.0;stroke-width:1.0\" width=\"0.36525974025974506\" x=\"202.5\" y=\"244.0\"></rect><rect class=\"toyplot-Datum\" height=\"4.0\" style=\"fill:rgb(50.2%,50.2%,50.2%);fill-opacity:1.0;opacity:1.0;stroke:rgb(100%,100%,100%);stroke-opacity:1.0;stroke-width:1.0\" width=\"0.21915584415583567\" x=\"202.5\" y=\"240.0\"></rect><rect class=\"toyplot-Datum\" height=\"4.0\" style=\"fill:rgb(50.2%,50.2%,50.2%);fill-opacity:1.0;opacity:1.0;stroke:rgb(100%,100%,100%);stroke-opacity:1.0;stroke-width:1.0\" width=\"0.0\" x=\"202.5\" y=\"236.0\"></rect><rect class=\"toyplot-Datum\" height=\"3.9999999999999716\" style=\"fill:rgb(50.2%,50.2%,50.2%);fill-opacity:1.0;opacity:1.0;stroke:rgb(100%,100%,100%);stroke-opacity:1.0;stroke-width:1.0\" width=\"0.0\" x=\"202.5\" y=\"232.00000000000003\"></rect><rect class=\"toyplot-Datum\" height=\"4.0\" style=\"fill:rgb(50.2%,50.2%,50.2%);fill-opacity:1.0;opacity:1.0;stroke:rgb(100%,100%,100%);stroke-opacity:1.0;stroke-width:1.0\" width=\"0.0\" x=\"202.5\" y=\"228.00000000000003\"></rect><rect class=\"toyplot-Datum\" height=\"4.0000000000000284\" style=\"fill:rgb(50.2%,50.2%,50.2%);fill-opacity:1.0;opacity:1.0;stroke:rgb(100%,100%,100%);stroke-opacity:1.0;stroke-width:1.0\" width=\"0.0\" x=\"202.5\" y=\"224.0\"></rect><rect class=\"toyplot-Datum\" height=\"3.9999999999999716\" style=\"fill:rgb(50.2%,50.2%,50.2%);fill-opacity:1.0;opacity:1.0;stroke:rgb(100%,100%,100%);stroke-opacity:1.0;stroke-width:1.0\" width=\"0.0\" x=\"202.5\" y=\"220.00000000000003\"></rect><rect class=\"toyplot-Datum\" height=\"4.0000000000000284\" style=\"fill:rgb(50.2%,50.2%,50.2%);fill-opacity:1.0;opacity:1.0;stroke:rgb(100%,100%,100%);stroke-opacity:1.0;stroke-width:1.0\" width=\"0.0\" x=\"202.5\" y=\"216.0\"></rect><rect class=\"toyplot-Datum\" height=\"4.0\" style=\"fill:rgb(50.2%,50.2%,50.2%);fill-opacity:1.0;opacity:1.0;stroke:rgb(100%,100%,100%);stroke-opacity:1.0;stroke-width:1.0\" width=\"0.0\" x=\"202.5\" y=\"212.0\"></rect><rect class=\"toyplot-Datum\" height=\"4.0\" style=\"fill:rgb(50.2%,50.2%,50.2%);fill-opacity:1.0;opacity:1.0;stroke:rgb(100%,100%,100%);stroke-opacity:1.0;stroke-width:1.0\" width=\"0.0\" x=\"202.5\" y=\"208.0\"></rect><rect class=\"toyplot-Datum\" height=\"4.0\" style=\"fill:rgb(50.2%,50.2%,50.2%);fill-opacity:1.0;opacity:1.0;stroke:rgb(100%,100%,100%);stroke-opacity:1.0;stroke-width:1.0\" width=\"0.0\" x=\"202.5\" y=\"204.0\"></rect><rect class=\"toyplot-Datum\" height=\"4.0\" style=\"fill:rgb(50.2%,50.2%,50.2%);fill-opacity:1.0;opacity:1.0;stroke:rgb(100%,100%,100%);stroke-opacity:1.0;stroke-width:1.0\" width=\"0.0\" x=\"202.5\" y=\"200.0\"></rect><rect class=\"toyplot-Datum\" height=\"3.9999999999999716\" style=\"fill:rgb(50.2%,50.2%,50.2%);fill-opacity:1.0;opacity:1.0;stroke:rgb(100%,100%,100%);stroke-opacity:1.0;stroke-width:1.0\" width=\"0.0\" x=\"202.5\" y=\"196.00000000000003\"></rect><rect class=\"toyplot-Datum\" height=\"4.0000000000000284\" style=\"fill:rgb(50.2%,50.2%,50.2%);fill-opacity:1.0;opacity:1.0;stroke:rgb(100%,100%,100%);stroke-opacity:1.0;stroke-width:1.0\" width=\"0.0\" x=\"202.5\" y=\"192.0\"></rect><rect class=\"toyplot-Datum\" height=\"4.0\" style=\"fill:rgb(50.2%,50.2%,50.2%);fill-opacity:1.0;opacity:1.0;stroke:rgb(100%,100%,100%);stroke-opacity:1.0;stroke-width:1.0\" width=\"0.0\" x=\"202.5\" y=\"188.0\"></rect><rect class=\"toyplot-Datum\" height=\"4.0\" style=\"fill:rgb(50.2%,50.2%,50.2%);fill-opacity:1.0;opacity:1.0;stroke:rgb(100%,100%,100%);stroke-opacity:1.0;stroke-width:1.0\" width=\"0.0\" x=\"202.5\" y=\"184.0\"></rect><rect class=\"toyplot-Datum\" height=\"4.0\" style=\"fill:rgb(50.2%,50.2%,50.2%);fill-opacity:1.0;opacity:1.0;stroke:rgb(100%,100%,100%);stroke-opacity:1.0;stroke-width:1.0\" width=\"0.0\" x=\"202.5\" y=\"180.0\"></rect></g></g></g><g class=\"toyplot-coordinates-Axis\" id=\"t7b152380e93d4e0c9fbf1b6ed9cbb84e\" transform=\"translate(202.5,380.0)rotate(-90.0)translate(0,-0.5)\"><line style=\"\" x1=\"0\" x2=\"200.0\" y1=\"0\" y2=\"0\"></line><g class=\"toyplot-coordinates-Axis-coordinates\" style=\"visibility:hidden\" transform=\"\"><line style=\"stroke:rgb(43.9%,50.2%,56.5%);stroke-opacity:1.0;stroke-width:1.0\" x1=\"0\" x2=\"0\" y1=\"3.0\" y2=\"-4.5\"></line><text style=\"alignment-baseline:hanging;fill:rgb(43.9%,50.2%,56.5%);fill-opacity:1.0;font-size:10px;font-weight:normal;stroke:none;text-anchor:middle\" x=\"0\" y=\"6\"></text></g></g></g><g class=\"toyplot-coordinates-Cartesian\" id=\"t793022615ee7499b9a3edc99203512b6\"><clipPath id=\"t428b7b5fa6344ec5b633d11b21ec0472\"><rect height=\"201.0\" width=\"17.875\" x=\"224.5\" y=\"179.5\"></rect></clipPath><g clip-path=\"url(#t428b7b5fa6344ec5b633d11b21ec0472)\"><g class=\"toyplot-mark-BarMagnitudes\" id=\"t40bc3ee3dd804190b7a52172f8d247af\" style=\"stroke:rgb(100%,100%,100%);stroke-opacity:1.0;stroke-width:1.0\"><g class=\"toyplot-Series\"><rect class=\"toyplot-Datum\" height=\"4.0\" style=\"fill:rgb(50.2%,50.2%,50.2%);fill-opacity:1.0;opacity:1.0;stroke:rgb(100%,100%,100%);stroke-opacity:1.0;stroke-width:1.0\" width=\"0.0\" x=\"225.0\" y=\"376.0\"></rect><rect class=\"toyplot-Datum\" height=\"4.0\" style=\"fill:rgb(50.2%,50.2%,50.2%);fill-opacity:1.0;opacity:1.0;stroke:rgb(100%,100%,100%);stroke-opacity:1.0;stroke-width:1.0\" width=\"0.0\" x=\"225.0\" y=\"372.0\"></rect><rect class=\"toyplot-Datum\" height=\"3.9999999999999432\" style=\"fill:rgb(50.2%,50.2%,50.2%);fill-opacity:1.0;opacity:1.0;stroke:rgb(100%,100%,100%);stroke-opacity:1.0;stroke-width:1.0\" width=\"0.0\" x=\"225.0\" y=\"368.00000000000006\"></rect><rect class=\"toyplot-Datum\" height=\"4.0000000000000568\" style=\"fill:rgb(50.2%,50.2%,50.2%);fill-opacity:1.0;opacity:1.0;stroke:rgb(100%,100%,100%);stroke-opacity:1.0;stroke-width:1.0\" width=\"0.0\" x=\"225.0\" y=\"364.0\"></rect><rect class=\"toyplot-Datum\" height=\"4.0\" style=\"fill:rgb(50.2%,50.2%,50.2%);fill-opacity:1.0;opacity:1.0;stroke:rgb(100%,100%,100%);stroke-opacity:1.0;stroke-width:1.0\" width=\"0.0\" x=\"225.0\" y=\"360.0\"></rect><rect class=\"toyplot-Datum\" height=\"4.0\" style=\"fill:rgb(50.2%,50.2%,50.2%);fill-opacity:1.0;opacity:1.0;stroke:rgb(100%,100%,100%);stroke-opacity:1.0;stroke-width:1.0\" width=\"0.0\" x=\"225.0\" y=\"356.0\"></rect><rect class=\"toyplot-Datum\" height=\"4.0\" style=\"fill:rgb(50.2%,50.2%,50.2%);fill-opacity:1.0;opacity:1.0;stroke:rgb(100%,100%,100%);stroke-opacity:1.0;stroke-width:1.0\" width=\"0.0\" x=\"225.0\" y=\"352.0\"></rect><rect class=\"toyplot-Datum\" height=\"4.0\" style=\"fill:rgb(50.2%,50.2%,50.2%);fill-opacity:1.0;opacity:1.0;stroke:rgb(100%,100%,100%);stroke-opacity:1.0;stroke-width:1.0\" width=\"0.0\" x=\"225.0\" y=\"348.0\"></rect><rect class=\"toyplot-Datum\" height=\"4.0\" style=\"fill:rgb(50.2%,50.2%,50.2%);fill-opacity:1.0;opacity:1.0;stroke:rgb(100%,100%,100%);stroke-opacity:1.0;stroke-width:1.0\" width=\"0.0\" x=\"225.0\" y=\"344.0\"></rect><rect class=\"toyplot-Datum\" height=\"4.0\" style=\"fill:rgb(50.2%,50.2%,50.2%);fill-opacity:1.0;opacity:1.0;stroke:rgb(100%,100%,100%);stroke-opacity:1.0;stroke-width:1.0\" width=\"0.0\" x=\"225.0\" y=\"340.0\"></rect><rect class=\"toyplot-Datum\" height=\"4.0\" style=\"fill:rgb(50.2%,50.2%,50.2%);fill-opacity:1.0;opacity:1.0;stroke:rgb(100%,100%,100%);stroke-opacity:1.0;stroke-width:1.0\" width=\"0.0\" x=\"225.0\" y=\"336.0\"></rect><rect class=\"toyplot-Datum\" height=\"4.0\" style=\"fill:rgb(50.2%,50.2%,50.2%);fill-opacity:1.0;opacity:1.0;stroke:rgb(100%,100%,100%);stroke-opacity:1.0;stroke-width:1.0\" width=\"0.0\" x=\"225.0\" y=\"332.0\"></rect><rect class=\"toyplot-Datum\" height=\"4.0\" style=\"fill:rgb(50.2%,50.2%,50.2%);fill-opacity:1.0;opacity:1.0;stroke:rgb(100%,100%,100%);stroke-opacity:1.0;stroke-width:1.0\" width=\"0.0\" x=\"225.0\" y=\"328.0\"></rect><rect class=\"toyplot-Datum\" height=\"4.0000000000000568\" style=\"fill:rgb(50.2%,50.2%,50.2%);fill-opacity:1.0;opacity:1.0;stroke:rgb(100%,100%,100%);stroke-opacity:1.0;stroke-width:1.0\" width=\"0.0\" x=\"225.0\" y=\"323.99999999999994\"></rect><rect class=\"toyplot-Datum\" height=\"3.9999999999999432\" style=\"fill:rgb(50.2%,50.2%,50.2%);fill-opacity:1.0;opacity:1.0;stroke:rgb(100%,100%,100%);stroke-opacity:1.0;stroke-width:1.0\" width=\"0.0\" x=\"225.0\" y=\"320.0\"></rect><rect class=\"toyplot-Datum\" height=\"4.0\" style=\"fill:rgb(50.2%,50.2%,50.2%);fill-opacity:1.0;opacity:1.0;stroke:rgb(100%,100%,100%);stroke-opacity:1.0;stroke-width:1.0\" width=\"0.0\" x=\"225.0\" y=\"316.0\"></rect><rect class=\"toyplot-Datum\" height=\"4.0\" style=\"fill:rgb(50.2%,50.2%,50.2%);fill-opacity:1.0;opacity:1.0;stroke:rgb(100%,100%,100%);stroke-opacity:1.0;stroke-width:1.0\" width=\"0.0\" x=\"225.0\" y=\"312.0\"></rect><rect class=\"toyplot-Datum\" height=\"4.0\" style=\"fill:rgb(50.2%,50.2%,50.2%);fill-opacity:1.0;opacity:1.0;stroke:rgb(100%,100%,100%);stroke-opacity:1.0;stroke-width:1.0\" width=\"0.10289634146340632\" x=\"225.0\" y=\"308.0\"></rect><rect class=\"toyplot-Datum\" height=\"3.9999999999999432\" style=\"fill:rgb(50.2%,50.2%,50.2%);fill-opacity:1.0;opacity:1.0;stroke:rgb(100%,100%,100%);stroke-opacity:1.0;stroke-width:1.0\" width=\"0.30868902439024737\" x=\"225.0\" y=\"304.00000000000006\"></rect><rect class=\"toyplot-Datum\" height=\"4.0000000000000568\" style=\"fill:rgb(50.2%,50.2%,50.2%);fill-opacity:1.0;opacity:1.0;stroke:rgb(100%,100%,100%);stroke-opacity:1.0;stroke-width:1.0\" width=\"1.2347560975609895\" x=\"225.0\" y=\"300.0\"></rect><rect class=\"toyplot-Datum\" height=\"4.0\" style=\"fill:rgb(50.2%,50.2%,50.2%);fill-opacity:1.0;opacity:1.0;stroke:rgb(100%,100%,100%);stroke-opacity:1.0;stroke-width:1.0\" width=\"2.4695121951219221\" x=\"225.0\" y=\"296.0\"></rect><rect class=\"toyplot-Datum\" height=\"4.0\" style=\"fill:rgb(50.2%,50.2%,50.2%);fill-opacity:1.0;opacity:1.0;stroke:rgb(100%,100%,100%);stroke-opacity:1.0;stroke-width:1.0\" width=\"2.5724085365853568\" x=\"225.0\" y=\"292.0\"></rect><rect class=\"toyplot-Datum\" height=\"4.0\" style=\"fill:rgb(50.2%,50.2%,50.2%);fill-opacity:1.0;opacity:1.0;stroke:rgb(100%,100%,100%);stroke-opacity:1.0;stroke-width:1.0\" width=\"6.6882621951219505\" x=\"225.0\" y=\"288.0\"></rect><rect class=\"toyplot-Datum\" height=\"4.0\" style=\"fill:rgb(50.2%,50.2%,50.2%);fill-opacity:1.0;opacity:1.0;stroke:rgb(100%,100%,100%);stroke-opacity:1.0;stroke-width:1.0\" width=\"10.701219512195109\" x=\"225.0\" y=\"284.0\"></rect><rect class=\"toyplot-Datum\" height=\"4.0\" style=\"fill:rgb(50.2%,50.2%,50.2%);fill-opacity:1.0;opacity:1.0;stroke:rgb(100%,100%,100%);stroke-opacity:1.0;stroke-width:1.0\" width=\"13.17073170731706\" x=\"225.0\" y=\"280.0\"></rect><rect class=\"toyplot-Datum\" height=\"4.0\" style=\"fill:rgb(50.2%,50.2%,50.2%);fill-opacity:1.0;opacity:1.0;stroke:rgb(100%,100%,100%);stroke-opacity:1.0;stroke-width:1.0\" width=\"16.875\" x=\"225.0\" y=\"276.0\"></rect><rect class=\"toyplot-Datum\" height=\"4.0\" style=\"fill:rgb(50.2%,50.2%,50.2%);fill-opacity:1.0;opacity:1.0;stroke:rgb(100%,100%,100%);stroke-opacity:1.0;stroke-width:1.0\" width=\"15.948932926829315\" x=\"225.0\" y=\"272.0\"></rect><rect class=\"toyplot-Datum\" height=\"4.0\" style=\"fill:rgb(50.2%,50.2%,50.2%);fill-opacity:1.0;opacity:1.0;stroke:rgb(100%,100%,100%);stroke-opacity:1.0;stroke-width:1.0\" width=\"13.17073170731706\" x=\"225.0\" y=\"268.0\"></rect><rect class=\"toyplot-Datum\" height=\"4.0\" style=\"fill:rgb(50.2%,50.2%,50.2%);fill-opacity:1.0;opacity:1.0;stroke:rgb(100%,100%,100%);stroke-opacity:1.0;stroke-width:1.0\" width=\"9.2606707317073074\" x=\"225.0\" y=\"264.0\"></rect><rect class=\"toyplot-Datum\" height=\"4.0\" style=\"fill:rgb(50.2%,50.2%,50.2%);fill-opacity:1.0;opacity:1.0;stroke:rgb(100%,100%,100%);stroke-opacity:1.0;stroke-width:1.0\" width=\"6.0708841463414842\" x=\"225.0\" y=\"260.0\"></rect><rect class=\"toyplot-Datum\" height=\"4.0\" style=\"fill:rgb(50.2%,50.2%,50.2%);fill-opacity:1.0;opacity:1.0;stroke:rgb(100%,100%,100%);stroke-opacity:1.0;stroke-width:1.0\" width=\"2.5724085365853568\" x=\"225.0\" y=\"256.0\"></rect><rect class=\"toyplot-Datum\" height=\"4.0\" style=\"fill:rgb(50.2%,50.2%,50.2%);fill-opacity:1.0;opacity:1.0;stroke:rgb(100%,100%,100%);stroke-opacity:1.0;stroke-width:1.0\" width=\"1.0289634146341484\" x=\"225.0\" y=\"252.0\"></rect><rect class=\"toyplot-Datum\" height=\"4.0\" style=\"fill:rgb(50.2%,50.2%,50.2%);fill-opacity:1.0;opacity:1.0;stroke:rgb(100%,100%,100%);stroke-opacity:1.0;stroke-width:1.0\" width=\"0.51448170731706\" x=\"225.0\" y=\"248.0\"></rect><rect class=\"toyplot-Datum\" height=\"4.0\" style=\"fill:rgb(50.2%,50.2%,50.2%);fill-opacity:1.0;opacity:1.0;stroke:rgb(100%,100%,100%);stroke-opacity:1.0;stroke-width:1.0\" width=\"0.10289634146340632\" x=\"225.0\" y=\"244.0\"></rect><rect class=\"toyplot-Datum\" height=\"4.0\" style=\"fill:rgb(50.2%,50.2%,50.2%);fill-opacity:1.0;opacity:1.0;stroke:rgb(100%,100%,100%);stroke-opacity:1.0;stroke-width:1.0\" width=\"0.10289634146340632\" x=\"225.0\" y=\"240.0\"></rect><rect class=\"toyplot-Datum\" height=\"4.0\" style=\"fill:rgb(50.2%,50.2%,50.2%);fill-opacity:1.0;opacity:1.0;stroke:rgb(100%,100%,100%);stroke-opacity:1.0;stroke-width:1.0\" width=\"0.0\" x=\"225.0\" y=\"236.0\"></rect><rect class=\"toyplot-Datum\" height=\"3.9999999999999716\" style=\"fill:rgb(50.2%,50.2%,50.2%);fill-opacity:1.0;opacity:1.0;stroke:rgb(100%,100%,100%);stroke-opacity:1.0;stroke-width:1.0\" width=\"0.0\" x=\"225.0\" y=\"232.00000000000003\"></rect><rect class=\"toyplot-Datum\" height=\"4.0\" style=\"fill:rgb(50.2%,50.2%,50.2%);fill-opacity:1.0;opacity:1.0;stroke:rgb(100%,100%,100%);stroke-opacity:1.0;stroke-width:1.0\" width=\"0.0\" x=\"225.0\" y=\"228.00000000000003\"></rect><rect class=\"toyplot-Datum\" height=\"4.0000000000000284\" style=\"fill:rgb(50.2%,50.2%,50.2%);fill-opacity:1.0;opacity:1.0;stroke:rgb(100%,100%,100%);stroke-opacity:1.0;stroke-width:1.0\" width=\"0.0\" x=\"225.0\" y=\"224.0\"></rect><rect class=\"toyplot-Datum\" height=\"3.9999999999999716\" style=\"fill:rgb(50.2%,50.2%,50.2%);fill-opacity:1.0;opacity:1.0;stroke:rgb(100%,100%,100%);stroke-opacity:1.0;stroke-width:1.0\" width=\"0.0\" x=\"225.0\" y=\"220.00000000000003\"></rect><rect class=\"toyplot-Datum\" height=\"4.0000000000000284\" style=\"fill:rgb(50.2%,50.2%,50.2%);fill-opacity:1.0;opacity:1.0;stroke:rgb(100%,100%,100%);stroke-opacity:1.0;stroke-width:1.0\" width=\"0.0\" x=\"225.0\" y=\"216.0\"></rect><rect class=\"toyplot-Datum\" height=\"4.0\" style=\"fill:rgb(50.2%,50.2%,50.2%);fill-opacity:1.0;opacity:1.0;stroke:rgb(100%,100%,100%);stroke-opacity:1.0;stroke-width:1.0\" width=\"0.0\" x=\"225.0\" y=\"212.0\"></rect><rect class=\"toyplot-Datum\" height=\"4.0\" style=\"fill:rgb(50.2%,50.2%,50.2%);fill-opacity:1.0;opacity:1.0;stroke:rgb(100%,100%,100%);stroke-opacity:1.0;stroke-width:1.0\" width=\"0.0\" x=\"225.0\" y=\"208.0\"></rect><rect class=\"toyplot-Datum\" height=\"4.0\" style=\"fill:rgb(50.2%,50.2%,50.2%);fill-opacity:1.0;opacity:1.0;stroke:rgb(100%,100%,100%);stroke-opacity:1.0;stroke-width:1.0\" width=\"0.0\" x=\"225.0\" y=\"204.0\"></rect><rect class=\"toyplot-Datum\" height=\"4.0\" style=\"fill:rgb(50.2%,50.2%,50.2%);fill-opacity:1.0;opacity:1.0;stroke:rgb(100%,100%,100%);stroke-opacity:1.0;stroke-width:1.0\" width=\"0.0\" x=\"225.0\" y=\"200.0\"></rect><rect class=\"toyplot-Datum\" height=\"3.9999999999999716\" style=\"fill:rgb(50.2%,50.2%,50.2%);fill-opacity:1.0;opacity:1.0;stroke:rgb(100%,100%,100%);stroke-opacity:1.0;stroke-width:1.0\" width=\"0.0\" x=\"225.0\" y=\"196.00000000000003\"></rect><rect class=\"toyplot-Datum\" height=\"4.0000000000000284\" style=\"fill:rgb(50.2%,50.2%,50.2%);fill-opacity:1.0;opacity:1.0;stroke:rgb(100%,100%,100%);stroke-opacity:1.0;stroke-width:1.0\" width=\"0.0\" x=\"225.0\" y=\"192.0\"></rect><rect class=\"toyplot-Datum\" height=\"4.0\" style=\"fill:rgb(50.2%,50.2%,50.2%);fill-opacity:1.0;opacity:1.0;stroke:rgb(100%,100%,100%);stroke-opacity:1.0;stroke-width:1.0\" width=\"0.0\" x=\"225.0\" y=\"188.0\"></rect><rect class=\"toyplot-Datum\" height=\"4.0\" style=\"fill:rgb(50.2%,50.2%,50.2%);fill-opacity:1.0;opacity:1.0;stroke:rgb(100%,100%,100%);stroke-opacity:1.0;stroke-width:1.0\" width=\"0.0\" x=\"225.0\" y=\"184.0\"></rect><rect class=\"toyplot-Datum\" height=\"4.0\" style=\"fill:rgb(50.2%,50.2%,50.2%);fill-opacity:1.0;opacity:1.0;stroke:rgb(100%,100%,100%);stroke-opacity:1.0;stroke-width:1.0\" width=\"0.0\" x=\"225.0\" y=\"180.0\"></rect></g></g></g><g class=\"toyplot-coordinates-Axis\" id=\"tfd96e4c8cab54316b69f7341a4b08f3f\" transform=\"translate(225.0,380.0)rotate(-90.0)translate(0,-0.5)\"><line style=\"\" x1=\"0\" x2=\"200.0\" y1=\"0\" y2=\"0\"></line><g class=\"toyplot-coordinates-Axis-coordinates\" style=\"visibility:hidden\" transform=\"\"><line style=\"stroke:rgb(43.9%,50.2%,56.5%);stroke-opacity:1.0;stroke-width:1.0\" x1=\"0\" x2=\"0\" y1=\"3.0\" y2=\"-4.5\"></line><text style=\"alignment-baseline:hanging;fill:rgb(43.9%,50.2%,56.5%);fill-opacity:1.0;font-size:10px;font-weight:normal;stroke:none;text-anchor:middle\" x=\"0\" y=\"6\"></text></g></g></g><g class=\"toyplot-coordinates-Cartesian\" id=\"tf6d812b7cd8049abb65966fc23e5d4ae\"><clipPath id=\"te10f8fde1ef849a496c859c3071cf9e8\"><rect height=\"201.0\" width=\"17.875\" x=\"247.0\" y=\"179.5\"></rect></clipPath><g clip-path=\"url(#te10f8fde1ef849a496c859c3071cf9e8)\"><g class=\"toyplot-mark-BarMagnitudes\" id=\"t72f1757e868c4b54a4c16185bd674a72\" style=\"stroke:rgb(100%,100%,100%);stroke-opacity:1.0;stroke-width:1.0\"><g class=\"toyplot-Series\"><rect class=\"toyplot-Datum\" height=\"4.0\" style=\"fill:rgb(50.2%,50.2%,50.2%);fill-opacity:1.0;opacity:1.0;stroke:rgb(100%,100%,100%);stroke-opacity:1.0;stroke-width:1.0\" width=\"0.0\" x=\"247.5\" y=\"376.0\"></rect><rect class=\"toyplot-Datum\" height=\"4.0\" style=\"fill:rgb(50.2%,50.2%,50.2%);fill-opacity:1.0;opacity:1.0;stroke:rgb(100%,100%,100%);stroke-opacity:1.0;stroke-width:1.0\" width=\"0.0\" x=\"247.5\" y=\"372.0\"></rect><rect class=\"toyplot-Datum\" height=\"3.9999999999999432\" style=\"fill:rgb(50.2%,50.2%,50.2%);fill-opacity:1.0;opacity:1.0;stroke:rgb(100%,100%,100%);stroke-opacity:1.0;stroke-width:1.0\" width=\"0.0\" x=\"247.5\" y=\"368.00000000000006\"></rect><rect class=\"toyplot-Datum\" height=\"4.0000000000000568\" style=\"fill:rgb(50.2%,50.2%,50.2%);fill-opacity:1.0;opacity:1.0;stroke:rgb(100%,100%,100%);stroke-opacity:1.0;stroke-width:1.0\" width=\"0.0\" x=\"247.5\" y=\"364.0\"></rect><rect class=\"toyplot-Datum\" height=\"4.0\" style=\"fill:rgb(50.2%,50.2%,50.2%);fill-opacity:1.0;opacity:1.0;stroke:rgb(100%,100%,100%);stroke-opacity:1.0;stroke-width:1.0\" width=\"0.0\" x=\"247.5\" y=\"360.0\"></rect><rect class=\"toyplot-Datum\" height=\"4.0\" style=\"fill:rgb(50.2%,50.2%,50.2%);fill-opacity:1.0;opacity:1.0;stroke:rgb(100%,100%,100%);stroke-opacity:1.0;stroke-width:1.0\" width=\"0.0\" x=\"247.5\" y=\"356.0\"></rect><rect class=\"toyplot-Datum\" height=\"4.0\" style=\"fill:rgb(50.2%,50.2%,50.2%);fill-opacity:1.0;opacity:1.0;stroke:rgb(100%,100%,100%);stroke-opacity:1.0;stroke-width:1.0\" width=\"0.0\" x=\"247.5\" y=\"352.0\"></rect><rect class=\"toyplot-Datum\" height=\"4.0\" style=\"fill:rgb(50.2%,50.2%,50.2%);fill-opacity:1.0;opacity:1.0;stroke:rgb(100%,100%,100%);stroke-opacity:1.0;stroke-width:1.0\" width=\"0.0\" x=\"247.5\" y=\"348.0\"></rect><rect class=\"toyplot-Datum\" height=\"4.0\" style=\"fill:rgb(50.2%,50.2%,50.2%);fill-opacity:1.0;opacity:1.0;stroke:rgb(100%,100%,100%);stroke-opacity:1.0;stroke-width:1.0\" width=\"0.0\" x=\"247.5\" y=\"344.0\"></rect><rect class=\"toyplot-Datum\" height=\"4.0\" style=\"fill:rgb(50.2%,50.2%,50.2%);fill-opacity:1.0;opacity:1.0;stroke:rgb(100%,100%,100%);stroke-opacity:1.0;stroke-width:1.0\" width=\"0.0\" x=\"247.5\" y=\"340.0\"></rect><rect class=\"toyplot-Datum\" height=\"4.0\" style=\"fill:rgb(50.2%,50.2%,50.2%);fill-opacity:1.0;opacity:1.0;stroke:rgb(100%,100%,100%);stroke-opacity:1.0;stroke-width:1.0\" width=\"0.0\" x=\"247.5\" y=\"336.0\"></rect><rect class=\"toyplot-Datum\" height=\"4.0\" style=\"fill:rgb(50.2%,50.2%,50.2%);fill-opacity:1.0;opacity:1.0;stroke:rgb(100%,100%,100%);stroke-opacity:1.0;stroke-width:1.0\" width=\"0.0\" x=\"247.5\" y=\"332.0\"></rect><rect class=\"toyplot-Datum\" height=\"4.0\" style=\"fill:rgb(50.2%,50.2%,50.2%);fill-opacity:1.0;opacity:1.0;stroke:rgb(100%,100%,100%);stroke-opacity:1.0;stroke-width:1.0\" width=\"0.10289634146343474\" x=\"247.5\" y=\"328.0\"></rect><rect class=\"toyplot-Datum\" height=\"4.0000000000000568\" style=\"fill:rgb(50.2%,50.2%,50.2%);fill-opacity:1.0;opacity:1.0;stroke:rgb(100%,100%,100%);stroke-opacity:1.0;stroke-width:1.0\" width=\"0.0\" x=\"247.5\" y=\"323.99999999999994\"></rect><rect class=\"toyplot-Datum\" height=\"3.9999999999999432\" style=\"fill:rgb(50.2%,50.2%,50.2%);fill-opacity:1.0;opacity:1.0;stroke:rgb(100%,100%,100%);stroke-opacity:1.0;stroke-width:1.0\" width=\"0.0\" x=\"247.5\" y=\"320.0\"></rect><rect class=\"toyplot-Datum\" height=\"4.0\" style=\"fill:rgb(50.2%,50.2%,50.2%);fill-opacity:1.0;opacity:1.0;stroke:rgb(100%,100%,100%);stroke-opacity:1.0;stroke-width:1.0\" width=\"0.0\" x=\"247.5\" y=\"316.0\"></rect><rect class=\"toyplot-Datum\" height=\"4.0\" style=\"fill:rgb(50.2%,50.2%,50.2%);fill-opacity:1.0;opacity:1.0;stroke:rgb(100%,100%,100%);stroke-opacity:1.0;stroke-width:1.0\" width=\"0.10289634146343474\" x=\"247.5\" y=\"312.0\"></rect><rect class=\"toyplot-Datum\" height=\"4.0\" style=\"fill:rgb(50.2%,50.2%,50.2%);fill-opacity:1.0;opacity:1.0;stroke:rgb(100%,100%,100%);stroke-opacity:1.0;stroke-width:1.0\" width=\"0.72027439024390105\" x=\"247.5\" y=\"308.0\"></rect><rect class=\"toyplot-Datum\" height=\"3.9999999999999432\" style=\"fill:rgb(50.2%,50.2%,50.2%);fill-opacity:1.0;opacity:1.0;stroke:rgb(100%,100%,100%);stroke-opacity:1.0;stroke-width:1.0\" width=\"1.4405487804878021\" x=\"247.5\" y=\"304.00000000000006\"></rect><rect class=\"toyplot-Datum\" height=\"4.0000000000000568\" style=\"fill:rgb(50.2%,50.2%,50.2%);fill-opacity:1.0;opacity:1.0;stroke:rgb(100%,100%,100%);stroke-opacity:1.0;stroke-width:1.0\" width=\"3.2926829268292863\" x=\"247.5\" y=\"300.0\"></rect><rect class=\"toyplot-Datum\" height=\"4.0\" style=\"fill:rgb(50.2%,50.2%,50.2%);fill-opacity:1.0;opacity:1.0;stroke:rgb(100%,100%,100%);stroke-opacity:1.0;stroke-width:1.0\" width=\"4.21875\" x=\"247.5\" y=\"296.0\"></rect><rect class=\"toyplot-Datum\" height=\"4.0\" style=\"fill:rgb(50.2%,50.2%,50.2%);fill-opacity:1.0;opacity:1.0;stroke:rgb(100%,100%,100%);stroke-opacity:1.0;stroke-width:1.0\" width=\"9.5693597560975832\" x=\"247.5\" y=\"292.0\"></rect><rect class=\"toyplot-Datum\" height=\"4.0\" style=\"fill:rgb(50.2%,50.2%,50.2%);fill-opacity:1.0;opacity:1.0;stroke:rgb(100%,100%,100%);stroke-opacity:1.0;stroke-width:1.0\" width=\"11.935975609756099\" x=\"247.5\" y=\"288.0\"></rect><rect class=\"toyplot-Datum\" height=\"4.0\" style=\"fill:rgb(50.2%,50.2%,50.2%);fill-opacity:1.0;opacity:1.0;stroke:rgb(100%,100%,100%);stroke-opacity:1.0;stroke-width:1.0\" width=\"13.273628048780495\" x=\"247.5\" y=\"284.0\"></rect><rect class=\"toyplot-Datum\" height=\"4.0\" style=\"fill:rgb(50.2%,50.2%,50.2%);fill-opacity:1.0;opacity:1.0;stroke:rgb(100%,100%,100%);stroke-opacity:1.0;stroke-width:1.0\" width=\"16.875\" x=\"247.5\" y=\"280.0\"></rect><rect class=\"toyplot-Datum\" height=\"4.0\" style=\"fill:rgb(50.2%,50.2%,50.2%);fill-opacity:1.0;opacity:1.0;stroke:rgb(100%,100%,100%);stroke-opacity:1.0;stroke-width:1.0\" width=\"14.199695121951208\" x=\"247.5\" y=\"276.0\"></rect><rect class=\"toyplot-Datum\" height=\"4.0\" style=\"fill:rgb(50.2%,50.2%,50.2%);fill-opacity:1.0;opacity:1.0;stroke:rgb(100%,100%,100%);stroke-opacity:1.0;stroke-width:1.0\" width=\"9.9809451219512653\" x=\"247.5\" y=\"272.0\"></rect><rect class=\"toyplot-Datum\" height=\"4.0\" style=\"fill:rgb(50.2%,50.2%,50.2%);fill-opacity:1.0;opacity:1.0;stroke:rgb(100%,100%,100%);stroke-opacity:1.0;stroke-width:1.0\" width=\"9.3635670731707705\" x=\"247.5\" y=\"268.0\"></rect><rect class=\"toyplot-Datum\" height=\"4.0\" style=\"fill:rgb(50.2%,50.2%,50.2%);fill-opacity:1.0;opacity:1.0;stroke:rgb(100%,100%,100%);stroke-opacity:1.0;stroke-width:1.0\" width=\"4.7332317073170316\" x=\"247.5\" y=\"264.0\"></rect><rect class=\"toyplot-Datum\" height=\"4.0\" style=\"fill:rgb(50.2%,50.2%,50.2%);fill-opacity:1.0;opacity:1.0;stroke:rgb(100%,100%,100%);stroke-opacity:1.0;stroke-width:1.0\" width=\"2.0579268292682968\" x=\"247.5\" y=\"260.0\"></rect><rect class=\"toyplot-Datum\" height=\"4.0\" style=\"fill:rgb(50.2%,50.2%,50.2%);fill-opacity:1.0;opacity:1.0;stroke:rgb(100%,100%,100%);stroke-opacity:1.0;stroke-width:1.0\" width=\"0.41158536585365368\" x=\"247.5\" y=\"256.0\"></rect><rect class=\"toyplot-Datum\" height=\"4.0\" style=\"fill:rgb(50.2%,50.2%,50.2%);fill-opacity:1.0;opacity:1.0;stroke:rgb(100%,100%,100%);stroke-opacity:1.0;stroke-width:1.0\" width=\"0.20579268292681263\" x=\"247.5\" y=\"252.0\"></rect><rect class=\"toyplot-Datum\" height=\"4.0\" style=\"fill:rgb(50.2%,50.2%,50.2%);fill-opacity:1.0;opacity:1.0;stroke:rgb(100%,100%,100%);stroke-opacity:1.0;stroke-width:1.0\" width=\"0.41158536585365368\" x=\"247.5\" y=\"248.0\"></rect><rect class=\"toyplot-Datum\" height=\"4.0\" style=\"fill:rgb(50.2%,50.2%,50.2%);fill-opacity:1.0;opacity:1.0;stroke:rgb(100%,100%,100%);stroke-opacity:1.0;stroke-width:1.0\" width=\"0.0\" x=\"247.5\" y=\"244.0\"></rect><rect class=\"toyplot-Datum\" height=\"4.0\" style=\"fill:rgb(50.2%,50.2%,50.2%);fill-opacity:1.0;opacity:1.0;stroke:rgb(100%,100%,100%);stroke-opacity:1.0;stroke-width:1.0\" width=\"0.0\" x=\"247.5\" y=\"240.0\"></rect><rect class=\"toyplot-Datum\" height=\"4.0\" style=\"fill:rgb(50.2%,50.2%,50.2%);fill-opacity:1.0;opacity:1.0;stroke:rgb(100%,100%,100%);stroke-opacity:1.0;stroke-width:1.0\" width=\"0.0\" x=\"247.5\" y=\"236.0\"></rect><rect class=\"toyplot-Datum\" height=\"3.9999999999999716\" style=\"fill:rgb(50.2%,50.2%,50.2%);fill-opacity:1.0;opacity:1.0;stroke:rgb(100%,100%,100%);stroke-opacity:1.0;stroke-width:1.0\" width=\"0.0\" x=\"247.5\" y=\"232.00000000000003\"></rect><rect class=\"toyplot-Datum\" height=\"4.0\" style=\"fill:rgb(50.2%,50.2%,50.2%);fill-opacity:1.0;opacity:1.0;stroke:rgb(100%,100%,100%);stroke-opacity:1.0;stroke-width:1.0\" width=\"0.0\" x=\"247.5\" y=\"228.00000000000003\"></rect><rect class=\"toyplot-Datum\" height=\"4.0000000000000284\" style=\"fill:rgb(50.2%,50.2%,50.2%);fill-opacity:1.0;opacity:1.0;stroke:rgb(100%,100%,100%);stroke-opacity:1.0;stroke-width:1.0\" width=\"0.0\" x=\"247.5\" y=\"224.0\"></rect><rect class=\"toyplot-Datum\" height=\"3.9999999999999716\" style=\"fill:rgb(50.2%,50.2%,50.2%);fill-opacity:1.0;opacity:1.0;stroke:rgb(100%,100%,100%);stroke-opacity:1.0;stroke-width:1.0\" width=\"0.0\" x=\"247.5\" y=\"220.00000000000003\"></rect><rect class=\"toyplot-Datum\" height=\"4.0000000000000284\" style=\"fill:rgb(50.2%,50.2%,50.2%);fill-opacity:1.0;opacity:1.0;stroke:rgb(100%,100%,100%);stroke-opacity:1.0;stroke-width:1.0\" width=\"0.0\" x=\"247.5\" y=\"216.0\"></rect><rect class=\"toyplot-Datum\" height=\"4.0\" style=\"fill:rgb(50.2%,50.2%,50.2%);fill-opacity:1.0;opacity:1.0;stroke:rgb(100%,100%,100%);stroke-opacity:1.0;stroke-width:1.0\" width=\"0.0\" x=\"247.5\" y=\"212.0\"></rect><rect class=\"toyplot-Datum\" height=\"4.0\" style=\"fill:rgb(50.2%,50.2%,50.2%);fill-opacity:1.0;opacity:1.0;stroke:rgb(100%,100%,100%);stroke-opacity:1.0;stroke-width:1.0\" width=\"0.0\" x=\"247.5\" y=\"208.0\"></rect><rect class=\"toyplot-Datum\" height=\"4.0\" style=\"fill:rgb(50.2%,50.2%,50.2%);fill-opacity:1.0;opacity:1.0;stroke:rgb(100%,100%,100%);stroke-opacity:1.0;stroke-width:1.0\" width=\"0.0\" x=\"247.5\" y=\"204.0\"></rect><rect class=\"toyplot-Datum\" height=\"4.0\" style=\"fill:rgb(50.2%,50.2%,50.2%);fill-opacity:1.0;opacity:1.0;stroke:rgb(100%,100%,100%);stroke-opacity:1.0;stroke-width:1.0\" width=\"0.0\" x=\"247.5\" y=\"200.0\"></rect><rect class=\"toyplot-Datum\" height=\"3.9999999999999716\" style=\"fill:rgb(50.2%,50.2%,50.2%);fill-opacity:1.0;opacity:1.0;stroke:rgb(100%,100%,100%);stroke-opacity:1.0;stroke-width:1.0\" width=\"0.0\" x=\"247.5\" y=\"196.00000000000003\"></rect><rect class=\"toyplot-Datum\" height=\"4.0000000000000284\" style=\"fill:rgb(50.2%,50.2%,50.2%);fill-opacity:1.0;opacity:1.0;stroke:rgb(100%,100%,100%);stroke-opacity:1.0;stroke-width:1.0\" width=\"0.0\" x=\"247.5\" y=\"192.0\"></rect><rect class=\"toyplot-Datum\" height=\"4.0\" style=\"fill:rgb(50.2%,50.2%,50.2%);fill-opacity:1.0;opacity:1.0;stroke:rgb(100%,100%,100%);stroke-opacity:1.0;stroke-width:1.0\" width=\"0.0\" x=\"247.5\" y=\"188.0\"></rect><rect class=\"toyplot-Datum\" height=\"4.0\" style=\"fill:rgb(50.2%,50.2%,50.2%);fill-opacity:1.0;opacity:1.0;stroke:rgb(100%,100%,100%);stroke-opacity:1.0;stroke-width:1.0\" width=\"0.0\" x=\"247.5\" y=\"184.0\"></rect><rect class=\"toyplot-Datum\" height=\"4.0\" style=\"fill:rgb(50.2%,50.2%,50.2%);fill-opacity:1.0;opacity:1.0;stroke:rgb(100%,100%,100%);stroke-opacity:1.0;stroke-width:1.0\" width=\"0.0\" x=\"247.5\" y=\"180.0\"></rect></g></g></g><g class=\"toyplot-coordinates-Axis\" id=\"ta403a0674c894ba08ab85bc47abfbff2\" transform=\"translate(247.5,380.0)rotate(-90.0)translate(0,-0.5)\"><line style=\"\" x1=\"0\" x2=\"200.0\" y1=\"0\" y2=\"0\"></line><g class=\"toyplot-coordinates-Axis-coordinates\" style=\"visibility:hidden\" transform=\"\"><line style=\"stroke:rgb(43.9%,50.2%,56.5%);stroke-opacity:1.0;stroke-width:1.0\" x1=\"0\" x2=\"0\" y1=\"3.0\" y2=\"-4.5\"></line><text style=\"alignment-baseline:hanging;fill:rgb(43.9%,50.2%,56.5%);fill-opacity:1.0;font-size:10px;font-weight:normal;stroke:none;text-anchor:middle\" x=\"0\" y=\"6\"></text></g></g></g><g class=\"toyplot-coordinates-Cartesian\" id=\"t2070b24268a44753acc62bb350cc0694\"><clipPath id=\"t3e8d3152445649c78ac147513c1bb2cc\"><rect height=\"220.0\" width=\"245.0\" x=\"35.0\" y=\"170.0\"></rect></clipPath><g clip-path=\"url(#t3e8d3152445649c78ac147513c1bb2cc)\"><g class=\"toyplot-mark-AxisLines\" id=\"t4c13fa9b0a9b4c469ffd42cef977a8c0\" style=\"stroke-dasharray:5, 10\"><g class=\"toyplot-Series\"><line class=\"toyplot-Datum\" style=\"opacity:1.0;stroke:rgb(16.1%,15.3%,14.1%);stroke-dasharray:5, 10;stroke-opacity:1.0\" x1=\"45.0\" x2=\"270.0\" y1=\"280.0\" y2=\"280.0\"></line></g></g></g></g><g class=\"toyplot-coordinates-Cartesian\" id=\"tf311af6d527843c998510ecdaf9db8e5\"><clipPath id=\"tf3f492fea13a4b2198e494d1c259c9c0\"><rect height=\"121.0\" width=\"226.0\" x=\"44.5\" y=\"19.5\"></rect></clipPath><g clip-path=\"url(#tf3f492fea13a4b2198e494d1c259c9c0)\"><g class=\"toyplot-mark-BarMagnitudes\" id=\"t9d21a762c8a34f34938e25166c26c162\" style=\"stroke:rgb(100%,100%,100%);stroke-opacity:1.0;stroke-width:1.0\"><g class=\"toyplot-Series\"><rect class=\"toyplot-Datum\" height=\"26.36623729887657\" style=\"fill:rgb(55.3%,62.7%,79.6%);fill-opacity:1.0;opacity:0.75;stroke:rgb(100%,100%,100%);stroke-opacity:1.0;stroke-width:1.0\" width=\"22.5\" x=\"45.0\" y=\"113.63376270112343\"></rect><rect class=\"toyplot-Datum\" height=\"120.0\" style=\"fill:rgb(55.3%,62.7%,79.6%);fill-opacity:1.0;opacity:0.75;stroke:rgb(100%,100%,100%);stroke-opacity:1.0;stroke-width:1.0\" width=\"22.5\" x=\"67.5\" y=\"20.0\"></rect><rect class=\"toyplot-Datum\" height=\"40.584476709098823\" style=\"fill:rgb(55.3%,62.7%,79.6%);fill-opacity:1.0;opacity:0.75;stroke:rgb(100%,100%,100%);stroke-opacity:1.0;stroke-width:1.0\" width=\"22.5\" x=\"90.0\" y=\"99.415523290901177\"></rect><rect class=\"toyplot-Datum\" height=\"54.668696960024548\" style=\"fill:rgb(55.3%,62.7%,79.6%);fill-opacity:1.0;opacity:0.75;stroke:rgb(100%,100%,100%);stroke-opacity:1.0;stroke-width:1.0\" width=\"22.5\" x=\"112.5\" y=\"85.331303039975452\"></rect><rect class=\"toyplot-Datum\" height=\"1.2509102595221009\" style=\"fill:rgb(55.3%,62.7%,79.6%);fill-opacity:1.0;opacity:0.75;stroke:rgb(100%,100%,100%);stroke-opacity:1.0;stroke-width:1.0\" width=\"22.5\" x=\"135.0\" y=\"138.7490897404779\"></rect><rect class=\"toyplot-Datum\" height=\"27.75359893138527\" style=\"fill:rgb(55.3%,62.7%,79.6%);fill-opacity:1.0;opacity:0.75;stroke:rgb(100%,100%,100%);stroke-opacity:1.0;stroke-width:1.0\" width=\"22.5\" x=\"157.5\" y=\"112.24640106861473\"></rect><rect class=\"toyplot-Datum\" height=\"96.649803287553098\" style=\"fill:rgb(55.3%,62.7%,79.6%);fill-opacity:1.0;opacity:0.75;stroke:rgb(100%,100%,100%);stroke-opacity:1.0;stroke-width:1.0\" width=\"22.5\" x=\"180.0\" y=\"43.350196712446902\"></rect><rect class=\"toyplot-Datum\" height=\"75.437374543303704\" style=\"fill:rgb(55.3%,62.7%,79.6%);fill-opacity:1.0;opacity:0.75;stroke:rgb(100%,100%,100%);stroke-opacity:1.0;stroke-width:1.0\" width=\"22.5\" x=\"202.5\" y=\"64.562625456696296\"></rect><rect class=\"toyplot-Datum\" height=\"12.592419332526063\" style=\"fill:rgb(55.3%,62.7%,79.6%);fill-opacity:1.0;opacity:0.75;stroke:rgb(100%,100%,100%);stroke-opacity:1.0;stroke-width:1.0\" width=\"22.5\" x=\"225.0\" y=\"127.40758066747394\"></rect><rect class=\"toyplot-Datum\" height=\"10.049751434199578\" style=\"fill:rgb(55.3%,62.7%,79.6%);fill-opacity:1.0;opacity:0.75;stroke:rgb(100%,100%,100%);stroke-opacity:1.0;stroke-width:1.0\" width=\"22.5\" x=\"247.5\" y=\"129.95024856580042\"></rect></g></g><g class=\"toyplot-mark-AxisLines\" id=\"ta998e51e58734b41a8624c9f5e8cb2e9\" style=\"stroke-dasharray:5, 10\"><g class=\"toyplot-Series\"><line class=\"toyplot-Datum\" style=\"opacity:1.0;stroke:rgb(16.1%,15.3%,14.1%);stroke-dasharray:5, 10;stroke-opacity:1.0\" x1=\"45.0\" x2=\"270.0\" y1=\"37.874002904195336\" y2=\"37.874002904195336\"></line></g></g></g><g class=\"toyplot-coordinates-Axis\" id=\"t33770db9beba489da7e8173caa6d517a\" transform=\"translate(45.0,140.0)rotate(-90.0)translate(0,-0.5)\"><line style=\"\" x1=\"0\" x2=\"120.0\" y1=\"0\" y2=\"0\"></line><g><text style=\"dominant-baseline:alphabetic;font-size:12px;font-weight:normal;stroke:none;text-anchor:middle\" transform=\"translate(0.0,-10.0)\"><tspan style=\"dominant-baseline:inherit\">0</tspan></text><text style=\"dominant-baseline:alphabetic;font-size:12px;font-weight:normal;stroke:none;text-anchor:middle\" transform=\"translate(39.64781243659994,-10.0)\"><tspan style=\"dominant-baseline:inherit\">1</tspan></text><text style=\"dominant-baseline:alphabetic;font-size:12px;font-weight:normal;stroke:none;text-anchor:middle\" transform=\"translate(79.29562487319988,-10.0)\"><tspan style=\"dominant-baseline:inherit\">2</tspan></text><text style=\"dominant-baseline:alphabetic;font-size:12px;font-weight:normal;stroke:none;text-anchor:middle\" transform=\"translate(118.94343730979983,-10.0)\"><tspan style=\"dominant-baseline:inherit\">3</tspan></text></g><text style=\"dominant-baseline:alphabetic;fill:rgb(16.1%,15.3%,14.1%);fill-opacity:1.0;font-size:16px;font-weight:bold;stroke:none;text-anchor:middle\" transform=\"translate(60.0,-30.0)\"><tspan style=\"dominant-baseline:inherit\">Z-score</tspan></text><g class=\"toyplot-coordinates-Axis-coordinates\" style=\"visibility:hidden\" transform=\"\"><line style=\"stroke:rgb(43.9%,50.2%,56.5%);stroke-opacity:1.0;stroke-width:1.0\" x1=\"0\" x2=\"0\" y1=\"5.0\" y2=\"-7.5\"></line><text style=\"alignment-baseline:hanging;fill:rgb(43.9%,50.2%,56.5%);fill-opacity:1.0;font-size:10px;font-weight:normal;stroke:none;text-anchor:middle\" x=\"0\" y=\"10.0\"></text></g></g></g></svg><div class=\"toyplot-interactive\"><ul class=\"toyplot-mark-popup\" onmouseleave=\"this.style.visibility='hidden'\" style=\"background:rgba(0%,0%,0%,0.75);border:0;border-radius:6px;color:white;cursor:default;list-style:none;margin:0;padding:5px;position:fixed;visibility:hidden\">\n",
       "            <li class=\"toyplot-mark-popup-title\" style=\"color:lightgray;cursor:default;padding:5px;list-style:none;margin:0\"></li>\n",
       "            <li class=\"toyplot-mark-popup-save-csv\" onmouseout=\"this.style.color='white';this.style.background='steelblue'\" onmouseover=\"this.style.color='steelblue';this.style.background='white'\" style=\"border-radius:3px;padding:5px;list-style:none;margin:0\">\n",
       "                Save as .csv\n",
       "            </li>\n",
       "        </ul><script>\n",
       "        (function()\n",
       "        {\n",
       "          var data_tables = [{\"title\": \"Bar Data\", \"names\": [\"left\", \"right\", \"baseline\", \"magnitude0\"], \"id\": \"tc82732e2c34841ad86d529c97b23554b\", \"columns\": [[-0.2, -0.192, -0.184, -0.17600000000000002, -0.168, -0.16, -0.15200000000000002, -0.14400000000000002, -0.136, -0.128, -0.12000000000000001, -0.11200000000000002, -0.10400000000000001, -0.096, -0.08800000000000001, -0.08000000000000002, -0.07200000000000001, -0.064, -0.055999999999999994, -0.048000000000000015, -0.04000000000000001, -0.032, -0.02400000000000002, -0.016000000000000014, -0.008000000000000007, 0.0, 0.008000000000000007, 0.015999999999999986, 0.023999999999999994, 0.032, 0.03999999999999998, 0.04799999999999999, 0.055999999999999994, 0.064, 0.07200000000000001, 0.08000000000000002, 0.08800000000000002, 0.09599999999999997, 0.10399999999999998, 0.11199999999999999, 0.12, 0.128, 0.136, 0.14400000000000002, 0.15199999999999997, 0.15999999999999998, 0.16799999999999998, 0.176, 0.184, 0.192], [-0.192, -0.184, -0.17600000000000002, -0.168, -0.16, -0.15200000000000002, -0.14400000000000002, -0.136, -0.128, -0.12000000000000001, -0.11200000000000002, -0.10400000000000001, -0.096, -0.08800000000000001, -0.08000000000000002, -0.07200000000000001, -0.064, -0.055999999999999994, -0.048000000000000015, -0.04000000000000001, -0.032, -0.02400000000000002, -0.016000000000000014, -0.008000000000000007, 0.0, 0.008000000000000007, 0.015999999999999986, 0.023999999999999994, 0.032, 0.03999999999999998, 0.04799999999999999, 0.055999999999999994, 0.064, 0.07200000000000001, 0.08000000000000002, 0.08800000000000002, 0.09599999999999997, 0.10399999999999998, 0.11199999999999999, 0.12, 0.128, 0.136, 0.14400000000000002, 0.15199999999999997, 0.15999999999999998, 0.16799999999999998, 0.176, 0.184, 0.192, 0.2], [0.0, 0.0, 0.0, 0.0, 0.0, 0.0, 0.0, 0.0, 0.0, 0.0, 0.0, 0.0, 0.0, 0.0, 0.0, 0.0, 0.0, 0.0, 0.0, 0.0, 0.0, 0.0, 0.0, 0.0, 0.0, 0.0, 0.0, 0.0, 0.0, 0.0, 0.0, 0.0, 0.0, 0.0, 0.0, 0.0, 0.0, 0.0, 0.0, 0.0, 0.0, 0.0, 0.0, 0.0, 0.0, 0.0, 0.0, 0.0, 0.0, 0.0], [0.0, 0.0, 0.0, 0.0, 0.0, 0.0, 0.0, 0.0, 0.0, 0.0, 0.0, 0.0, 0.0, 0.0, 0.0, 0.0, 0.0, 0.24999999999999978, 0.0, 0.37499999999999967, 1.374999999999999, 2.2500000000000058, 5.374999999999996, 9.499999999999991, 12.87499999999999, 15.999999999999986, 17.750000000000046, 19.624999999999982, 12.74999999999999, 11.000000000000028, 7.249999999999994, 5.249999999999996, 1.7499999999999984, 0.9999999999999991, 0.37499999999999967, 0.24999999999999978, 0.0, 0.0, 0.0, 0.0, 0.0, 0.0, 0.0, 0.0, 0.0, 0.0, 0.0, 0.0, 0.0, 0.0]], \"filename\": \"toyplot\"}, {\"title\": \"Bar Data\", \"names\": [\"left\", \"right\", \"baseline\", \"magnitude0\"], \"id\": \"t0459cce77df44534b7bb537f3870866f\", \"columns\": [[-0.2, -0.192, -0.184, -0.17600000000000002, -0.168, -0.16, -0.15200000000000002, -0.14400000000000002, -0.136, -0.128, -0.12000000000000001, -0.11200000000000002, -0.10400000000000001, -0.096, -0.08800000000000001, -0.08000000000000002, -0.07200000000000001, -0.064, -0.055999999999999994, -0.048000000000000015, -0.04000000000000001, -0.032, -0.02400000000000002, -0.016000000000000014, -0.008000000000000007, 0.0, 0.008000000000000007, 0.015999999999999986, 0.023999999999999994, 0.032, 0.03999999999999998, 0.04799999999999999, 0.055999999999999994, 0.064, 0.07200000000000001, 0.08000000000000002, 0.08800000000000002, 0.09599999999999997, 0.10399999999999998, 0.11199999999999999, 0.12, 0.128, 0.136, 0.14400000000000002, 0.15199999999999997, 0.15999999999999998, 0.16799999999999998, 0.176, 0.184, 0.192], [-0.192, -0.184, -0.17600000000000002, -0.168, -0.16, -0.15200000000000002, -0.14400000000000002, -0.136, -0.128, -0.12000000000000001, -0.11200000000000002, -0.10400000000000001, -0.096, -0.08800000000000001, -0.08000000000000002, -0.07200000000000001, -0.064, -0.055999999999999994, -0.048000000000000015, -0.04000000000000001, -0.032, -0.02400000000000002, -0.016000000000000014, -0.008000000000000007, 0.0, 0.008000000000000007, 0.015999999999999986, 0.023999999999999994, 0.032, 0.03999999999999998, 0.04799999999999999, 0.055999999999999994, 0.064, 0.07200000000000001, 0.08000000000000002, 0.08800000000000002, 0.09599999999999997, 0.10399999999999998, 0.11199999999999999, 0.12, 0.128, 0.136, 0.14400000000000002, 0.15199999999999997, 0.15999999999999998, 0.16799999999999998, 0.176, 0.184, 0.192, 0.2], [0.0, 0.0, 0.0, 0.0, 0.0, 0.0, 0.0, 0.0, 0.0, 0.0, 0.0, 0.0, 0.0, 0.0, 0.0, 0.0, 0.0, 0.0, 0.0, 0.0, 0.0, 0.0, 0.0, 0.0, 0.0, 0.0, 0.0, 0.0, 0.0, 0.0, 0.0, 0.0, 0.0, 0.0, 0.0, 0.0, 0.0, 0.0, 0.0, 0.0, 0.0, 0.0, 0.0, 0.0, 0.0, 0.0, 0.0, 0.0, 0.0, 0.0], [0.0, 0.0, 0.0, 0.0, 0.0, 0.0, 0.0, 0.0, 0.0, 0.0, 0.5000000000000004, 1.374999999999999, 2.1249999999999982, 6.125000000000005, 10.625000000000009, 14.874999999999988, 16.749999999999986, 21.124999999999982, 19.25000000000005, 14.499999999999988, 7.749999999999993, 5.000000000000012, 2.8749999999999973, 1.4999999999999987, 0.37499999999999967, 0.12499999999999989, 0.12500000000000033, 0.0, 0.0, 0.0, 0.0, 0.0, 0.0, 0.0, 0.0, 0.0, 0.0, 0.0, 0.0, 0.0, 0.0, 0.0, 0.0, 0.0, 0.0, 0.0, 0.0, 0.0, 0.0, 0.0]], \"filename\": \"toyplot\"}, {\"title\": \"Bar Data\", \"names\": [\"left\", \"right\", \"baseline\", \"magnitude0\"], \"id\": \"t55eec83f1507436ba5f3141cc344dec4\", \"columns\": [[-0.2, -0.192, -0.184, -0.17600000000000002, -0.168, -0.16, -0.15200000000000002, -0.14400000000000002, -0.136, -0.128, -0.12000000000000001, -0.11200000000000002, -0.10400000000000001, -0.096, -0.08800000000000001, -0.08000000000000002, -0.07200000000000001, -0.064, -0.055999999999999994, -0.048000000000000015, -0.04000000000000001, -0.032, -0.02400000000000002, -0.016000000000000014, -0.008000000000000007, 0.0, 0.008000000000000007, 0.015999999999999986, 0.023999999999999994, 0.032, 0.03999999999999998, 0.04799999999999999, 0.055999999999999994, 0.064, 0.07200000000000001, 0.08000000000000002, 0.08800000000000002, 0.09599999999999997, 0.10399999999999998, 0.11199999999999999, 0.12, 0.128, 0.136, 0.14400000000000002, 0.15199999999999997, 0.15999999999999998, 0.16799999999999998, 0.176, 0.184, 0.192], [-0.192, -0.184, -0.17600000000000002, -0.168, -0.16, -0.15200000000000002, -0.14400000000000002, -0.136, -0.128, -0.12000000000000001, -0.11200000000000002, -0.10400000000000001, -0.096, -0.08800000000000001, -0.08000000000000002, -0.07200000000000001, -0.064, -0.055999999999999994, -0.048000000000000015, -0.04000000000000001, -0.032, -0.02400000000000002, -0.016000000000000014, -0.008000000000000007, 0.0, 0.008000000000000007, 0.015999999999999986, 0.023999999999999994, 0.032, 0.03999999999999998, 0.04799999999999999, 0.055999999999999994, 0.064, 0.07200000000000001, 0.08000000000000002, 0.08800000000000002, 0.09599999999999997, 0.10399999999999998, 0.11199999999999999, 0.12, 0.128, 0.136, 0.14400000000000002, 0.15199999999999997, 0.15999999999999998, 0.16799999999999998, 0.176, 0.184, 0.192, 0.2], [0.0, 0.0, 0.0, 0.0, 0.0, 0.0, 0.0, 0.0, 0.0, 0.0, 0.0, 0.0, 0.0, 0.0, 0.0, 0.0, 0.0, 0.0, 0.0, 0.0, 0.0, 0.0, 0.0, 0.0, 0.0, 0.0, 0.0, 0.0, 0.0, 0.0, 0.0, 0.0, 0.0, 0.0, 0.0, 0.0, 0.0, 0.0, 0.0, 0.0, 0.0, 0.0, 0.0, 0.0, 0.0, 0.0, 0.0, 0.0, 0.0, 0.0], [0.0, 0.0, 0.0, 0.0, 0.0, 0.0, 0.0, 0.0, 0.0, 0.0, 0.0, 0.0, 0.0, 0.0, 0.0, 0.0, 0.0, 0.12499999999999989, 0.12500000000000033, 0.0, 0.7499999999999993, 1.7500000000000044, 3.2499999999999973, 5.624999999999996, 6.624999999999995, 11.62499999999999, 15.25000000000004, 16.999999999999986, 17.249999999999986, 15.000000000000039, 10.499999999999991, 8.999999999999993, 5.374999999999996, 3.374999999999997, 1.1249999999999991, 0.7499999999999993, 0.3750000000000023, 0.12499999999999989, 0.0, 0.0, 0.0, 0.0, 0.0, 0.0, 0.0, 0.0, 0.0, 0.0, 0.0, 0.0]], \"filename\": \"toyplot\"}, {\"title\": \"Bar Data\", \"names\": [\"left\", \"right\", \"baseline\", \"magnitude0\"], \"id\": \"tcd3ee545d90542d38c0e197062841034\", \"columns\": [[-0.2, -0.192, -0.184, -0.17600000000000002, -0.168, -0.16, -0.15200000000000002, -0.14400000000000002, -0.136, -0.128, -0.12000000000000001, -0.11200000000000002, -0.10400000000000001, -0.096, -0.08800000000000001, -0.08000000000000002, -0.07200000000000001, -0.064, -0.055999999999999994, -0.048000000000000015, -0.04000000000000001, -0.032, -0.02400000000000002, -0.016000000000000014, -0.008000000000000007, 0.0, 0.008000000000000007, 0.015999999999999986, 0.023999999999999994, 0.032, 0.03999999999999998, 0.04799999999999999, 0.055999999999999994, 0.064, 0.07200000000000001, 0.08000000000000002, 0.08800000000000002, 0.09599999999999997, 0.10399999999999998, 0.11199999999999999, 0.12, 0.128, 0.136, 0.14400000000000002, 0.15199999999999997, 0.15999999999999998, 0.16799999999999998, 0.176, 0.184, 0.192], [-0.192, -0.184, -0.17600000000000002, -0.168, -0.16, -0.15200000000000002, -0.14400000000000002, -0.136, -0.128, -0.12000000000000001, -0.11200000000000002, -0.10400000000000001, -0.096, -0.08800000000000001, -0.08000000000000002, -0.07200000000000001, -0.064, -0.055999999999999994, -0.048000000000000015, -0.04000000000000001, -0.032, -0.02400000000000002, -0.016000000000000014, -0.008000000000000007, 0.0, 0.008000000000000007, 0.015999999999999986, 0.023999999999999994, 0.032, 0.03999999999999998, 0.04799999999999999, 0.055999999999999994, 0.064, 0.07200000000000001, 0.08000000000000002, 0.08800000000000002, 0.09599999999999997, 0.10399999999999998, 0.11199999999999999, 0.12, 0.128, 0.136, 0.14400000000000002, 0.15199999999999997, 0.15999999999999998, 0.16799999999999998, 0.176, 0.184, 0.192, 0.2], [0.0, 0.0, 0.0, 0.0, 0.0, 0.0, 0.0, 0.0, 0.0, 0.0, 0.0, 0.0, 0.0, 0.0, 0.0, 0.0, 0.0, 0.0, 0.0, 0.0, 0.0, 0.0, 0.0, 0.0, 0.0, 0.0, 0.0, 0.0, 0.0, 0.0, 0.0, 0.0, 0.0, 0.0, 0.0, 0.0, 0.0, 0.0, 0.0, 0.0, 0.0, 0.0, 0.0, 0.0, 0.0, 0.0, 0.0, 0.0, 0.0, 0.0], [0.0, 0.0, 0.0, 0.0, 0.0, 0.0, 0.0, 0.0, 0.0, 0.0, 0.0, 0.0, 0.0, 0.0, 0.0, 0.0, 0.0, 0.0, 0.0, 0.0, 0.12499999999999989, 0.12500000000000033, 0.9999999999999991, 2.749999999999998, 7.624999999999994, 10.999999999999991, 13.250000000000034, 18.624999999999982, 19.749999999999982, 18.500000000000046, 12.12499999999999, 10.749999999999991, 5.624999999999996, 2.9999999999999973, 0.49999999999999956, 0.12499999999999989, 0.12500000000000075, 0.0, 0.0, 0.0, 0.0, 0.0, 0.0, 0.0, 0.0, 0.0, 0.0, 0.0, 0.0, 0.0]], \"filename\": \"toyplot\"}, {\"title\": \"Bar Data\", \"names\": [\"left\", \"right\", \"baseline\", \"magnitude0\"], \"id\": \"t3d6a816337a344acaa658a6f387dd87b\", \"columns\": [[-0.2, -0.192, -0.184, -0.17600000000000002, -0.168, -0.16, -0.15200000000000002, -0.14400000000000002, -0.136, -0.128, -0.12000000000000001, -0.11200000000000002, -0.10400000000000001, -0.096, -0.08800000000000001, -0.08000000000000002, -0.07200000000000001, -0.064, -0.055999999999999994, -0.048000000000000015, -0.04000000000000001, -0.032, -0.02400000000000002, -0.016000000000000014, -0.008000000000000007, 0.0, 0.008000000000000007, 0.015999999999999986, 0.023999999999999994, 0.032, 0.03999999999999998, 0.04799999999999999, 0.055999999999999994, 0.064, 0.07200000000000001, 0.08000000000000002, 0.08800000000000002, 0.09599999999999997, 0.10399999999999998, 0.11199999999999999, 0.12, 0.128, 0.136, 0.14400000000000002, 0.15199999999999997, 0.15999999999999998, 0.16799999999999998, 0.176, 0.184, 0.192], [-0.192, -0.184, -0.17600000000000002, -0.168, -0.16, -0.15200000000000002, -0.14400000000000002, -0.136, -0.128, -0.12000000000000001, -0.11200000000000002, -0.10400000000000001, -0.096, -0.08800000000000001, -0.08000000000000002, -0.07200000000000001, -0.064, -0.055999999999999994, -0.048000000000000015, -0.04000000000000001, -0.032, -0.02400000000000002, -0.016000000000000014, -0.008000000000000007, 0.0, 0.008000000000000007, 0.015999999999999986, 0.023999999999999994, 0.032, 0.03999999999999998, 0.04799999999999999, 0.055999999999999994, 0.064, 0.07200000000000001, 0.08000000000000002, 0.08800000000000002, 0.09599999999999997, 0.10399999999999998, 0.11199999999999999, 0.12, 0.128, 0.136, 0.14400000000000002, 0.15199999999999997, 0.15999999999999998, 0.16799999999999998, 0.176, 0.184, 0.192, 0.2], [0.0, 0.0, 0.0, 0.0, 0.0, 0.0, 0.0, 0.0, 0.0, 0.0, 0.0, 0.0, 0.0, 0.0, 0.0, 0.0, 0.0, 0.0, 0.0, 0.0, 0.0, 0.0, 0.0, 0.0, 0.0, 0.0, 0.0, 0.0, 0.0, 0.0, 0.0, 0.0, 0.0, 0.0, 0.0, 0.0, 0.0, 0.0, 0.0, 0.0, 0.0, 0.0, 0.0, 0.0, 0.0, 0.0, 0.0, 0.0, 0.0, 0.0], [0.0, 0.0, 0.0, 0.0, 0.0, 0.0, 0.0, 0.0, 0.0, 0.0, 0.0, 0.0, 0.0, 0.0, 0.0, 0.0, 0.0, 0.6249999999999994, 0.6250000000000016, 1.7499999999999984, 4.874999999999996, 8.875000000000023, 12.12499999999999, 15.499999999999986, 16.999999999999986, 18.249999999999986, 15.000000000000039, 12.74999999999999, 8.374999999999993, 4.6250000000000115, 2.2499999999999982, 1.249999999999999, 0.7499999999999993, 0.37499999999999967, 0.0, 0.0, 0.0, 0.0, 0.0, 0.0, 0.0, 0.0, 0.0, 0.0, 0.0, 0.0, 0.0, 0.0, 0.0, 0.0]], \"filename\": \"toyplot\"}, {\"title\": \"Bar Data\", \"names\": [\"left\", \"right\", \"baseline\", \"magnitude0\"], \"id\": \"t67026c6798ff418ca59bbf0372dd1657\", \"columns\": [[-0.2, -0.192, -0.184, -0.17600000000000002, -0.168, -0.16, -0.15200000000000002, -0.14400000000000002, -0.136, -0.128, -0.12000000000000001, -0.11200000000000002, -0.10400000000000001, -0.096, -0.08800000000000001, -0.08000000000000002, -0.07200000000000001, -0.064, -0.055999999999999994, -0.048000000000000015, -0.04000000000000001, -0.032, -0.02400000000000002, -0.016000000000000014, -0.008000000000000007, 0.0, 0.008000000000000007, 0.015999999999999986, 0.023999999999999994, 0.032, 0.03999999999999998, 0.04799999999999999, 0.055999999999999994, 0.064, 0.07200000000000001, 0.08000000000000002, 0.08800000000000002, 0.09599999999999997, 0.10399999999999998, 0.11199999999999999, 0.12, 0.128, 0.136, 0.14400000000000002, 0.15199999999999997, 0.15999999999999998, 0.16799999999999998, 0.176, 0.184, 0.192], [-0.192, -0.184, -0.17600000000000002, -0.168, -0.16, -0.15200000000000002, -0.14400000000000002, -0.136, -0.128, -0.12000000000000001, -0.11200000000000002, -0.10400000000000001, -0.096, -0.08800000000000001, -0.08000000000000002, -0.07200000000000001, -0.064, -0.055999999999999994, -0.048000000000000015, -0.04000000000000001, -0.032, -0.02400000000000002, -0.016000000000000014, -0.008000000000000007, 0.0, 0.008000000000000007, 0.015999999999999986, 0.023999999999999994, 0.032, 0.03999999999999998, 0.04799999999999999, 0.055999999999999994, 0.064, 0.07200000000000001, 0.08000000000000002, 0.08800000000000002, 0.09599999999999997, 0.10399999999999998, 0.11199999999999999, 0.12, 0.128, 0.136, 0.14400000000000002, 0.15199999999999997, 0.15999999999999998, 0.16799999999999998, 0.176, 0.184, 0.192, 0.2], [0.0, 0.0, 0.0, 0.0, 0.0, 0.0, 0.0, 0.0, 0.0, 0.0, 0.0, 0.0, 0.0, 0.0, 0.0, 0.0, 0.0, 0.0, 0.0, 0.0, 0.0, 0.0, 0.0, 0.0, 0.0, 0.0, 0.0, 0.0, 0.0, 0.0, 0.0, 0.0, 0.0, 0.0, 0.0, 0.0, 0.0, 0.0, 0.0, 0.0, 0.0, 0.0, 0.0, 0.0, 0.0, 0.0, 0.0, 0.0, 0.0, 0.0], [0.0, 0.0, 0.0, 0.0, 0.0, 0.0, 0.0, 0.0, 0.0, 0.0, 0.0, 0.0, 0.0, 0.0, 0.0, 0.0, 0.0, 0.0, 0.12500000000000033, 0.0, 0.37499999999999967, 2.3750000000000058, 5.499999999999996, 7.749999999999993, 13.374999999999988, 18.874999999999982, 22.750000000000057, 21.249999999999982, 15.624999999999986, 9.000000000000023, 4.999999999999996, 1.7499999999999984, 0.9999999999999991, 0.24999999999999978, 0.0, 0.0, 0.0, 0.0, 0.0, 0.0, 0.0, 0.0, 0.0, 0.0, 0.0, 0.0, 0.0, 0.0, 0.0, 0.0]], \"filename\": \"toyplot\"}, {\"title\": \"Bar Data\", \"names\": [\"left\", \"right\", \"baseline\", \"magnitude0\"], \"id\": \"t8aaad0a1cd7b4b8c9ede946068fd24b2\", \"columns\": [[-0.2, -0.192, -0.184, -0.17600000000000002, -0.168, -0.16, -0.15200000000000002, -0.14400000000000002, -0.136, -0.128, -0.12000000000000001, -0.11200000000000002, -0.10400000000000001, -0.096, -0.08800000000000001, -0.08000000000000002, -0.07200000000000001, -0.064, -0.055999999999999994, -0.048000000000000015, -0.04000000000000001, -0.032, -0.02400000000000002, -0.016000000000000014, -0.008000000000000007, 0.0, 0.008000000000000007, 0.015999999999999986, 0.023999999999999994, 0.032, 0.03999999999999998, 0.04799999999999999, 0.055999999999999994, 0.064, 0.07200000000000001, 0.08000000000000002, 0.08800000000000002, 0.09599999999999997, 0.10399999999999998, 0.11199999999999999, 0.12, 0.128, 0.136, 0.14400000000000002, 0.15199999999999997, 0.15999999999999998, 0.16799999999999998, 0.176, 0.184, 0.192], [-0.192, -0.184, -0.17600000000000002, -0.168, -0.16, -0.15200000000000002, -0.14400000000000002, -0.136, -0.128, -0.12000000000000001, -0.11200000000000002, -0.10400000000000001, -0.096, -0.08800000000000001, -0.08000000000000002, -0.07200000000000001, -0.064, -0.055999999999999994, -0.048000000000000015, -0.04000000000000001, -0.032, -0.02400000000000002, -0.016000000000000014, -0.008000000000000007, 0.0, 0.008000000000000007, 0.015999999999999986, 0.023999999999999994, 0.032, 0.03999999999999998, 0.04799999999999999, 0.055999999999999994, 0.064, 0.07200000000000001, 0.08000000000000002, 0.08800000000000002, 0.09599999999999997, 0.10399999999999998, 0.11199999999999999, 0.12, 0.128, 0.136, 0.14400000000000002, 0.15199999999999997, 0.15999999999999998, 0.16799999999999998, 0.176, 0.184, 0.192, 0.2], [0.0, 0.0, 0.0, 0.0, 0.0, 0.0, 0.0, 0.0, 0.0, 0.0, 0.0, 0.0, 0.0, 0.0, 0.0, 0.0, 0.0, 0.0, 0.0, 0.0, 0.0, 0.0, 0.0, 0.0, 0.0, 0.0, 0.0, 0.0, 0.0, 0.0, 0.0, 0.0, 0.0, 0.0, 0.0, 0.0, 0.0, 0.0, 0.0, 0.0, 0.0, 0.0, 0.0, 0.0, 0.0, 0.0, 0.0, 0.0, 0.0, 0.0], [0.0, 0.0, 0.0, 0.0, 0.0, 0.0, 0.0, 0.0, 0.0, 0.0, 0.0, 0.0, 0.0, 0.0, 0.0, 0.0, 0.0, 0.0, 0.0, 0.0, 0.0, 0.0, 0.0, 0.24999999999999978, 0.49999999999999956, 1.1249999999999991, 4.875000000000012, 9.749999999999991, 16.249999999999986, 22.500000000000057, 19.999999999999982, 18.374999999999986, 14.374999999999988, 8.749999999999993, 5.499999999999996, 1.4999999999999987, 1.1250000000000069, 0.12499999999999989, 0.0, 0.0, 0.0, 0.0, 0.0, 0.0, 0.0, 0.0, 0.0, 0.0, 0.0, 0.0]], \"filename\": \"toyplot\"}, {\"title\": \"Bar Data\", \"names\": [\"left\", \"right\", \"baseline\", \"magnitude0\"], \"id\": \"t2c8d971ac9304a9a99b5308262c93fae\", \"columns\": [[-0.2, -0.192, -0.184, -0.17600000000000002, -0.168, -0.16, -0.15200000000000002, -0.14400000000000002, -0.136, -0.128, -0.12000000000000001, -0.11200000000000002, -0.10400000000000001, -0.096, -0.08800000000000001, -0.08000000000000002, -0.07200000000000001, -0.064, -0.055999999999999994, -0.048000000000000015, -0.04000000000000001, -0.032, -0.02400000000000002, -0.016000000000000014, -0.008000000000000007, 0.0, 0.008000000000000007, 0.015999999999999986, 0.023999999999999994, 0.032, 0.03999999999999998, 0.04799999999999999, 0.055999999999999994, 0.064, 0.07200000000000001, 0.08000000000000002, 0.08800000000000002, 0.09599999999999997, 0.10399999999999998, 0.11199999999999999, 0.12, 0.128, 0.136, 0.14400000000000002, 0.15199999999999997, 0.15999999999999998, 0.16799999999999998, 0.176, 0.184, 0.192], [-0.192, -0.184, -0.17600000000000002, -0.168, -0.16, -0.15200000000000002, -0.14400000000000002, -0.136, -0.128, -0.12000000000000001, -0.11200000000000002, -0.10400000000000001, -0.096, -0.08800000000000001, -0.08000000000000002, -0.07200000000000001, -0.064, -0.055999999999999994, -0.048000000000000015, -0.04000000000000001, -0.032, -0.02400000000000002, -0.016000000000000014, -0.008000000000000007, 0.0, 0.008000000000000007, 0.015999999999999986, 0.023999999999999994, 0.032, 0.03999999999999998, 0.04799999999999999, 0.055999999999999994, 0.064, 0.07200000000000001, 0.08000000000000002, 0.08800000000000002, 0.09599999999999997, 0.10399999999999998, 0.11199999999999999, 0.12, 0.128, 0.136, 0.14400000000000002, 0.15199999999999997, 0.15999999999999998, 0.16799999999999998, 0.176, 0.184, 0.192, 0.2], [0.0, 0.0, 0.0, 0.0, 0.0, 0.0, 0.0, 0.0, 0.0, 0.0, 0.0, 0.0, 0.0, 0.0, 0.0, 0.0, 0.0, 0.0, 0.0, 0.0, 0.0, 0.0, 0.0, 0.0, 0.0, 0.0, 0.0, 0.0, 0.0, 0.0, 0.0, 0.0, 0.0, 0.0, 0.0, 0.0, 0.0, 0.0, 0.0, 0.0, 0.0, 0.0, 0.0, 0.0, 0.0, 0.0, 0.0, 0.0, 0.0, 0.0], [0.0, 0.0, 0.0, 0.0, 0.0, 0.0, 0.0, 0.0, 0.0, 0.0, 0.0, 0.0, 0.0, 0.0, 0.0, 0.0, 0.0, 0.0, 0.0, 0.0, 0.0, 0.0, 0.24999999999999978, 1.1249999999999991, 2.2499999999999982, 6.999999999999994, 13.875000000000036, 21.124999999999982, 28.874999999999975, 21.125000000000053, 15.999999999999986, 9.249999999999991, 3.1249999999999973, 0.6249999999999994, 0.37499999999999967, 0.0, 0.0, 0.0, 0.0, 0.0, 0.0, 0.0, 0.0, 0.0, 0.0, 0.0, 0.0, 0.0, 0.0, 0.0]], \"filename\": \"toyplot\"}, {\"title\": \"Bar Data\", \"names\": [\"left\", \"right\", \"baseline\", \"magnitude0\"], \"id\": \"t40bc3ee3dd804190b7a52172f8d247af\", \"columns\": [[-0.2, -0.192, -0.184, -0.17600000000000002, -0.168, -0.16, -0.15200000000000002, -0.14400000000000002, -0.136, -0.128, -0.12000000000000001, -0.11200000000000002, -0.10400000000000001, -0.096, -0.08800000000000001, -0.08000000000000002, -0.07200000000000001, -0.064, -0.055999999999999994, -0.048000000000000015, -0.04000000000000001, -0.032, -0.02400000000000002, -0.016000000000000014, -0.008000000000000007, 0.0, 0.008000000000000007, 0.015999999999999986, 0.023999999999999994, 0.032, 0.03999999999999998, 0.04799999999999999, 0.055999999999999994, 0.064, 0.07200000000000001, 0.08000000000000002, 0.08800000000000002, 0.09599999999999997, 0.10399999999999998, 0.11199999999999999, 0.12, 0.128, 0.136, 0.14400000000000002, 0.15199999999999997, 0.15999999999999998, 0.16799999999999998, 0.176, 0.184, 0.192], [-0.192, -0.184, -0.17600000000000002, -0.168, -0.16, -0.15200000000000002, -0.14400000000000002, -0.136, -0.128, -0.12000000000000001, -0.11200000000000002, -0.10400000000000001, -0.096, -0.08800000000000001, -0.08000000000000002, -0.07200000000000001, -0.064, -0.055999999999999994, -0.048000000000000015, -0.04000000000000001, -0.032, -0.02400000000000002, -0.016000000000000014, -0.008000000000000007, 0.0, 0.008000000000000007, 0.015999999999999986, 0.023999999999999994, 0.032, 0.03999999999999998, 0.04799999999999999, 0.055999999999999994, 0.064, 0.07200000000000001, 0.08000000000000002, 0.08800000000000002, 0.09599999999999997, 0.10399999999999998, 0.11199999999999999, 0.12, 0.128, 0.136, 0.14400000000000002, 0.15199999999999997, 0.15999999999999998, 0.16799999999999998, 0.176, 0.184, 0.192, 0.2], [0.0, 0.0, 0.0, 0.0, 0.0, 0.0, 0.0, 0.0, 0.0, 0.0, 0.0, 0.0, 0.0, 0.0, 0.0, 0.0, 0.0, 0.0, 0.0, 0.0, 0.0, 0.0, 0.0, 0.0, 0.0, 0.0, 0.0, 0.0, 0.0, 0.0, 0.0, 0.0, 0.0, 0.0, 0.0, 0.0, 0.0, 0.0, 0.0, 0.0, 0.0, 0.0, 0.0, 0.0, 0.0, 0.0, 0.0, 0.0, 0.0, 0.0], [0.0, 0.0, 0.0, 0.0, 0.0, 0.0, 0.0, 0.0, 0.0, 0.0, 0.0, 0.0, 0.0, 0.0, 0.0, 0.0, 0.0, 0.12499999999999989, 0.37500000000000094, 1.4999999999999987, 2.9999999999999973, 3.125000000000008, 8.124999999999993, 12.99999999999999, 15.999999999999986, 20.499999999999982, 19.37500000000005, 15.999999999999986, 11.249999999999991, 7.3750000000000195, 3.1249999999999973, 1.249999999999999, 0.6249999999999994, 0.12499999999999989, 0.12499999999999989, 0.0, 0.0, 0.0, 0.0, 0.0, 0.0, 0.0, 0.0, 0.0, 0.0, 0.0, 0.0, 0.0, 0.0, 0.0]], \"filename\": \"toyplot\"}, {\"title\": \"Bar Data\", \"names\": [\"left\", \"right\", \"baseline\", \"magnitude0\"], \"id\": \"t72f1757e868c4b54a4c16185bd674a72\", \"columns\": [[-0.2, -0.192, -0.184, -0.17600000000000002, -0.168, -0.16, -0.15200000000000002, -0.14400000000000002, -0.136, -0.128, -0.12000000000000001, -0.11200000000000002, -0.10400000000000001, -0.096, -0.08800000000000001, -0.08000000000000002, -0.07200000000000001, -0.064, -0.055999999999999994, -0.048000000000000015, -0.04000000000000001, -0.032, -0.02400000000000002, -0.016000000000000014, -0.008000000000000007, 0.0, 0.008000000000000007, 0.015999999999999986, 0.023999999999999994, 0.032, 0.03999999999999998, 0.04799999999999999, 0.055999999999999994, 0.064, 0.07200000000000001, 0.08000000000000002, 0.08800000000000002, 0.09599999999999997, 0.10399999999999998, 0.11199999999999999, 0.12, 0.128, 0.136, 0.14400000000000002, 0.15199999999999997, 0.15999999999999998, 0.16799999999999998, 0.176, 0.184, 0.192], [-0.192, -0.184, -0.17600000000000002, -0.168, -0.16, -0.15200000000000002, -0.14400000000000002, -0.136, -0.128, -0.12000000000000001, -0.11200000000000002, -0.10400000000000001, -0.096, -0.08800000000000001, -0.08000000000000002, -0.07200000000000001, -0.064, -0.055999999999999994, -0.048000000000000015, -0.04000000000000001, -0.032, -0.02400000000000002, -0.016000000000000014, -0.008000000000000007, 0.0, 0.008000000000000007, 0.015999999999999986, 0.023999999999999994, 0.032, 0.03999999999999998, 0.04799999999999999, 0.055999999999999994, 0.064, 0.07200000000000001, 0.08000000000000002, 0.08800000000000002, 0.09599999999999997, 0.10399999999999998, 0.11199999999999999, 0.12, 0.128, 0.136, 0.14400000000000002, 0.15199999999999997, 0.15999999999999998, 0.16799999999999998, 0.176, 0.184, 0.192, 0.2], [0.0, 0.0, 0.0, 0.0, 0.0, 0.0, 0.0, 0.0, 0.0, 0.0, 0.0, 0.0, 0.0, 0.0, 0.0, 0.0, 0.0, 0.0, 0.0, 0.0, 0.0, 0.0, 0.0, 0.0, 0.0, 0.0, 0.0, 0.0, 0.0, 0.0, 0.0, 0.0, 0.0, 0.0, 0.0, 0.0, 0.0, 0.0, 0.0, 0.0, 0.0, 0.0, 0.0, 0.0, 0.0, 0.0, 0.0, 0.0, 0.0, 0.0], [0.0, 0.0, 0.0, 0.0, 0.0, 0.0, 0.0, 0.0, 0.0, 0.0, 0.0, 0.0, 0.12499999999999989, 0.0, 0.0, 0.0, 0.12499999999999989, 0.8749999999999992, 1.7500000000000044, 3.9999999999999964, 5.124999999999996, 11.625000000000028, 14.499999999999988, 16.124999999999986, 20.499999999999982, 17.249999999999986, 12.12500000000003, 11.37499999999999, 5.749999999999995, 2.500000000000006, 0.49999999999999956, 0.24999999999999978, 0.49999999999999956, 0.0, 0.0, 0.0, 0.0, 0.0, 0.0, 0.0, 0.0, 0.0, 0.0, 0.0, 0.0, 0.0, 0.0, 0.0, 0.0, 0.0]], \"filename\": \"toyplot\"}, {\"title\": \"Bar Data\", \"names\": [\"left\", \"right\", \"baseline\", \"magnitude0\"], \"id\": \"t9d21a762c8a34f34938e25166c26c162\", \"columns\": [[56.25, 78.75, 101.25, 123.75, 146.25, 168.75, 191.25, 213.75, 236.25, 258.75], [78.75, 101.25, 123.75, 146.25, 168.75, 191.25, 213.75, 236.25, 258.75, 281.25], [0.0, 0.0, 0.0, 0.0, 0.0, 0.0, 0.0, 0.0, 0.0, 0.0], [0.6650111488758252, 3.0266487007798903, 1.0236246141952139, 1.378857838561565, 0.03155054926478989, 0.7000032845636946, 2.437708346257538, 1.9026869304311345, 0.31760691343721303, 0.25347555934567484]], \"filename\": \"toyplot\"}];\n",
       "\n",
       "          function save_csv(data_table)\n",
       "          {\n",
       "            var uri = \"data:text/csv;charset=utf-8,\";\n",
       "            uri += data_table.names.join(\",\") + \"\\n\";\n",
       "            for(var i = 0; i != data_table.columns[0].length; ++i)\n",
       "            {\n",
       "              for(var j = 0; j != data_table.columns.length; ++j)\n",
       "              {\n",
       "                if(j)\n",
       "                  uri += \",\";\n",
       "                uri += data_table.columns[j][i];\n",
       "              }\n",
       "              uri += \"\\n\";\n",
       "            }\n",
       "            uri = encodeURI(uri);\n",
       "\n",
       "            var link = document.createElement(\"a\");\n",
       "            if(typeof link.download != \"undefined\")\n",
       "            {\n",
       "              link.href = uri;\n",
       "              link.style = \"visibility:hidden\";\n",
       "              link.download = data_table.filename + \".csv\";\n",
       "\n",
       "              document.body.appendChild(link);\n",
       "              link.click();\n",
       "              document.body.removeChild(link);\n",
       "            }\n",
       "            else\n",
       "            {\n",
       "              window.open(uri);\n",
       "            }\n",
       "          }\n",
       "\n",
       "          function open_popup(data_table)\n",
       "          {\n",
       "            return function(e)\n",
       "            {\n",
       "              var popup = document.querySelector(\"#ta548907c99074981868874b0439bfb05 .toyplot-mark-popup\");\n",
       "              popup.querySelector(\".toyplot-mark-popup-title\").innerHTML = data_table.title;\n",
       "              popup.querySelector(\".toyplot-mark-popup-save-csv\").onclick = function() { popup.style.visibility = \"hidden\"; save_csv(data_table); }\n",
       "              popup.style.left = (e.clientX - 50) + \"px\";\n",
       "              popup.style.top = (e.clientY - 20) + \"px\";\n",
       "              popup.style.visibility = \"visible\";\n",
       "              e.stopPropagation();\n",
       "              e.preventDefault();\n",
       "            }\n",
       "\n",
       "          }\n",
       "\n",
       "          for(var i = 0; i != data_tables.length; ++i)\n",
       "          {\n",
       "            var data_table = data_tables[i];\n",
       "            var event_target = document.querySelector(\"#\" + data_table.id);\n",
       "            event_target.oncontextmenu = open_popup(data_table);\n",
       "          }\n",
       "        })();\n",
       "        </script><script>\n",
       "        (function()\n",
       "        {\n",
       "            function _sign(x)\n",
       "            {\n",
       "                return x < 0 ? -1 : x > 0 ? 1 : 0;\n",
       "            }\n",
       "\n",
       "            function _mix(a, b, amount)\n",
       "            {\n",
       "                return ((1.0 - amount) * a) + (amount * b);\n",
       "            }\n",
       "\n",
       "            function _log(x, base)\n",
       "            {\n",
       "                return Math.log(Math.abs(x)) / Math.log(base);\n",
       "            }\n",
       "\n",
       "            function _in_range(a, x, b)\n",
       "            {\n",
       "                var left = Math.min(a, b);\n",
       "                var right = Math.max(a, b);\n",
       "                return left <= x && x <= right;\n",
       "            }\n",
       "\n",
       "            function inside(range, projection)\n",
       "            {\n",
       "                for(var i = 0; i != projection.length; ++i)\n",
       "                {\n",
       "                    var segment = projection[i];\n",
       "                    if(_in_range(segment.range.min, range, segment.range.max))\n",
       "                        return true;\n",
       "                }\n",
       "                return false;\n",
       "            }\n",
       "\n",
       "            function to_domain(range, projection)\n",
       "            {\n",
       "                for(var i = 0; i != projection.length; ++i)\n",
       "                {\n",
       "                    var segment = projection[i];\n",
       "                    if(_in_range(segment.range.bounds.min, range, segment.range.bounds.max))\n",
       "                    {\n",
       "                        if(segment.scale == \"linear\")\n",
       "                        {\n",
       "                            var amount = (range - segment.range.min) / (segment.range.max - segment.range.min);\n",
       "                            return _mix(segment.domain.min, segment.domain.max, amount)\n",
       "                        }\n",
       "                        else if(segment.scale[0] == \"log\")\n",
       "                        {\n",
       "                            var amount = (range - segment.range.min) / (segment.range.max - segment.range.min);\n",
       "                            var base = segment.scale[1];\n",
       "                            return _sign(segment.domain.min) * Math.pow(base, _mix(_log(segment.domain.min, base), _log(segment.domain.max, base), amount));\n",
       "                        }\n",
       "                    }\n",
       "                }\n",
       "            }\n",
       "\n",
       "            function display_coordinates(e)\n",
       "            {\n",
       "                var current = svg.createSVGPoint();\n",
       "                current.x = e.clientX;\n",
       "                current.y = e.clientY;\n",
       "\n",
       "                for(var axis_id in axes)\n",
       "                {\n",
       "                    var axis = document.querySelector(\"#\" + axis_id);\n",
       "                    var coordinates = axis.querySelector(\".toyplot-coordinates-Axis-coordinates\");\n",
       "                    if(coordinates)\n",
       "                    {\n",
       "                        var projection = axes[axis_id];\n",
       "                        var local = current.matrixTransform(axis.getScreenCTM().inverse());\n",
       "                        if(inside(local.x, projection))\n",
       "                        {\n",
       "                            var domain = to_domain(local.x, projection);\n",
       "                            coordinates.style.visibility = \"visible\";\n",
       "                            coordinates.setAttribute(\"transform\", \"translate(\" + local.x + \")\");\n",
       "                            var text = coordinates.querySelector(\"text\");\n",
       "                            text.textContent = domain.toFixed(2);\n",
       "                        }\n",
       "                        else\n",
       "                        {\n",
       "                            coordinates.style.visibility= \"hidden\";\n",
       "                        }\n",
       "                    }\n",
       "                }\n",
       "            }\n",
       "\n",
       "            var root_id = \"ta548907c99074981868874b0439bfb05\";\n",
       "            var axes = {\"t0632a7b574e54bd98dd4f88f3b17020a\": [{\"domain\": {\"bounds\": {\"max\": Infinity, \"min\": -Infinity}, \"max\": 0.20000000000000001, \"min\": -0.20000000000000001}, \"range\": {\"bounds\": {\"max\": Infinity, \"min\": -Infinity}, \"max\": 200.0, \"min\": 0.0}, \"scale\": \"linear\"}], \"t279cade7c7e043bea79e4ed6d2c181b5\": [{\"domain\": {\"bounds\": {\"max\": Infinity, \"min\": -Infinity}, \"max\": 0.20000000000000001, \"min\": -0.20000000000000001}, \"range\": {\"bounds\": {\"max\": Infinity, \"min\": -Infinity}, \"max\": 200.0, \"min\": 0.0}, \"scale\": \"linear\"}], \"t33770db9beba489da7e8173caa6d517a\": [{\"domain\": {\"bounds\": {\"max\": Infinity, \"min\": -Infinity}, \"max\": 3.0266487007798903, \"min\": 0.0}, \"range\": {\"bounds\": {\"max\": Infinity, \"min\": -Infinity}, \"max\": 120.0, \"min\": 0.0}, \"scale\": \"linear\"}], \"t4d09b1ea7cb0420c91ea87066e473170\": [{\"domain\": {\"bounds\": {\"max\": Infinity, \"min\": -Infinity}, \"max\": 0.20000000000000001, \"min\": -0.20000000000000001}, \"range\": {\"bounds\": {\"max\": Infinity, \"min\": -Infinity}, \"max\": 200.0, \"min\": 0.0}, \"scale\": \"linear\"}], \"t7b152380e93d4e0c9fbf1b6ed9cbb84e\": [{\"domain\": {\"bounds\": {\"max\": Infinity, \"min\": -Infinity}, \"max\": 0.20000000000000001, \"min\": -0.20000000000000001}, \"range\": {\"bounds\": {\"max\": Infinity, \"min\": -Infinity}, \"max\": 200.0, \"min\": 0.0}, \"scale\": \"linear\"}], \"t9c4abc7d3a51450197d4aee7702c7573\": [{\"domain\": {\"bounds\": {\"max\": Infinity, \"min\": -Infinity}, \"max\": 0.20000000000000001, \"min\": -0.20000000000000001}, \"range\": {\"bounds\": {\"max\": Infinity, \"min\": -Infinity}, \"max\": 200.0, \"min\": 0.0}, \"scale\": \"linear\"}], \"ta403a0674c894ba08ab85bc47abfbff2\": [{\"domain\": {\"bounds\": {\"max\": Infinity, \"min\": -Infinity}, \"max\": 0.20000000000000001, \"min\": -0.20000000000000001}, \"range\": {\"bounds\": {\"max\": Infinity, \"min\": -Infinity}, \"max\": 200.0, \"min\": 0.0}, \"scale\": \"linear\"}], \"tc2a973dc7bff4b8bbb366c6db51029a1\": [{\"domain\": {\"bounds\": {\"max\": Infinity, \"min\": -Infinity}, \"max\": 0.20000000000000001, \"min\": -0.20000000000000001}, \"range\": {\"bounds\": {\"max\": Infinity, \"min\": -Infinity}, \"max\": 200.0, \"min\": 0.0}, \"scale\": \"linear\"}], \"tcaac60788ee54fdd93b31a11b968ca34\": [{\"domain\": {\"bounds\": {\"max\": Infinity, \"min\": -Infinity}, \"max\": 0.20000000000000001, \"min\": -0.20000000000000001}, \"range\": {\"bounds\": {\"max\": Infinity, \"min\": -Infinity}, \"max\": 200.0, \"min\": 0.0}, \"scale\": \"linear\"}], \"td2a5f3db68b94aef9fe73a59083c479b\": [{\"domain\": {\"bounds\": {\"max\": Infinity, \"min\": -Infinity}, \"max\": 0.20000000000000001, \"min\": -0.20000000000000001}, \"range\": {\"bounds\": {\"max\": Infinity, \"min\": -Infinity}, \"max\": 200.0, \"min\": 0.0}, \"scale\": \"linear\"}], \"tfd96e4c8cab54316b69f7341a4b08f3f\": [{\"domain\": {\"bounds\": {\"max\": Infinity, \"min\": -Infinity}, \"max\": 0.20000000000000001, \"min\": -0.20000000000000001}, \"range\": {\"bounds\": {\"max\": Infinity, \"min\": -Infinity}, \"max\": 200.0, \"min\": 0.0}, \"scale\": \"linear\"}]};\n",
       "\n",
       "            var svg = document.querySelector(\"#\" + root_id + \" svg\");\n",
       "            svg.addEventListener(\"click\", display_coordinates);\n",
       "        })();\n",
       "        </script></div></div>"
      ],
      "text/plain": [
       "<toyplot.canvas.Canvas at 0x7f830b18ec90>"
      ]
     },
     "execution_count": 14,
     "metadata": {},
     "output_type": "execute_result"
    }
   ],
   "source": [
    "print r\n",
    "baba.bootplot(r, b, width=300, alpha=0.01)"
   ]
  },
  {
   "cell_type": "markdown",
   "metadata": {
    "deletable": true,
    "editable": true
   },
   "source": [
    "## Calculate 4-taxon statistics\n",
    "<br>\n",
    "\n",
    "$\n",
    "    D = \\frac{\\Sigma(ABBA - BABA)}{\\Sigma(ABBA+BABA)}\n",
    "$\n",
    "\n",
    "<br>\n",
    "\n",
    "$\n",
    "    D_p = \\frac{\\Sigma ~ [ p_1 ~ (1-p_2) ~ p_3 ~ (1-p_4) ] - [(1-p_1) ~ p_2 ~ p_3 ~ (1-p_4)]}      {\\Sigma ~ [ p_1 ~ (1-p_2) ~ p_3 ~ (1-p_4) ] + [(1-p_1) ~ p_2 ~ p_3 ~ (1-p_4)]}\n",
    "$\n",
    "\n",
    "<br>"
   ]
  },
  {
   "cell_type": "markdown",
   "metadata": {
    "deletable": true,
    "editable": true
   },
   "source": [
    "## Calculate 5-taxon statistics\n",
    "\n",
    "<br>\n",
    "\n",
    "$\n",
    "    D_{12} = \\frac{\\Sigma(ABBBA - BABBA)}{\\Sigma(ABBBA+BABBA)}\n",
    "$\n",
    "\n",
    "$\n",
    "    D_{1} = \\frac{\\Sigma(ABBAA - BABAA)}{\\Sigma(ABBAA+BABAA)}\n",
    "$\n",
    "\n",
    "$\n",
    "    D_{2} = \\frac{\\Sigma(ABABA - BAABA)}{\\Sigma(ABABA+BAABA)}\n",
    "$\n",
    "\n",
    "<br>\n",
    "\n",
    "$\n",
    "    D_{p12} = \\frac \n",
    "        {\\Sigma ~ [ p_1 ~ (1-p_2) ~ p_3 ~ p_4 ~ (1-p_5) ] - [(1-p_1) ~ p_2 ~ p_3 ~ p_4 ~ (1-p_5)]} \n",
    "        {\\Sigma ~ [ p_1 ~ (1-p_2) ~ p_3 ~ p_4 ~ (1-p_4) ] + [(1-p_1) ~ p_2 ~ p_3 ~ p_4 ~ (1-p_5)]}\n",
    "$\n",
    "\n",
    "\n",
    "$\n",
    "    D_{p1} = \\frac \n",
    "        {\\Sigma ~ [ p_1 ~ (1-p_2) ~ p_3 ~ (1-p_4) ~ (1-p_5) ] - [(1-p_1) ~ p_2 ~ p_3 ~ (1-p_4) ~ (1-p_5)]} \n",
    "        {\\Sigma ~ [ p_1 ~ (1-p_2) ~ p_3 ~ (1-p_4) ~ (1-p_5) ] + [(1-p_1) ~ p_2 ~ p_3 ~ (1-p_4) ~ (1-p_5)]}\n",
    "$\n",
    "\n",
    "\n",
    "$\n",
    "    D_{p2} = \\frac \n",
    "        {\\Sigma ~ [ p_1 ~ (1-p_2) ~ (1-p_3) ~ p_4 ~ (1-p_5) ] - [(1-p_1) ~ p_2 ~ (1-p_3) ~ p_4 ~ (1-p_5)]} \n",
    "        {\\Sigma ~ [ p_1 ~ (1-p_2) ~ (1-p_3) ~ p_4 ~ (1-p_5) ] + [(1-p_1) ~ p_2 ~ (1-p_3) ~ p_4 ~ (1-p_5)]}\n",
    "$\n",
    "\n",
    "<br>"
   ]
  },
  {
   "cell_type": "markdown",
   "metadata": {
    "deletable": true,
    "editable": true
   },
   "source": [
    "### Setup CLI data test"
   ]
  },
  {
   "cell_type": "code",
   "execution_count": 17,
   "metadata": {
    "collapsed": false,
    "deletable": true,
    "editable": true
   },
   "outputs": [],
   "source": [
    "## a dictionary with [required] key names \n",
    "## optional: additional 'p4' key for 5-taxon tests.\n",
    "test = {\n",
    "    'p5': [\"3L_0\", \"3J_0\", \"3K_0\"], \n",
    "    'p4': [\"2G_0\", \"2H_0\"],\n",
    "    'p3': [\"2E_0\", \"2F_0\"],\n",
    "    'p2': [\"1D_0\"],\n",
    "    'p1': [\"1A_0\", \"1B_0\", \"1C_0\"],\n",
    "}\n",
    "\n",
    "## optional: dict for min samples per taxon (default=1 per tax)\n",
    "## used to filter loci for inclusion in data set\n",
    "mindict = {\n",
    "    'p1': 1,\n",
    "    'p2': 1,\n",
    "    'p3': 1, \n",
    "    'p4': 1,\n",
    "    'p5': 1,\n",
    "}\n",
    "\n",
    "## loci input file\n",
    "handle = data.outfiles.loci"
   ]
  },
  {
   "cell_type": "code",
   "execution_count": 18,
   "metadata": {
    "collapsed": false,
    "deletable": true,
    "editable": true
   },
   "outputs": [
    {
     "name": "stdout",
     "output_type": "stream",
     "text": [
      "           dstat  bootmean   bootstd      abxxa      baxxa         Z\n",
      "p3     -0.333333 -0.426138  0.505859   0.250000   0.500000  0.658945\n",
      "p4      0.080460  0.072276  0.319822   1.958333   1.666667  0.251576\n",
      "shared  0.005321 -0.001116  0.204465  12.465278  12.333333  0.026022\n"
     ]
    }
   ],
   "source": [
    "## run baba.batch() for five taxa\n",
    "r, b = baba.baba(handle, test, None, 1000)\n",
    "print r"
   ]
  },
  {
   "cell_type": "markdown",
   "metadata": {
    "deletable": true,
    "editable": true
   },
   "source": [
    "### Setup msprime data test"
   ]
  },
  {
   "cell_type": "code",
   "execution_count": 38,
   "metadata": {
    "collapsed": false,
    "deletable": true,
    "editable": true
   },
   "outputs": [],
   "source": [
    "## introgression ij -> ef\n",
    "test = {\n",
    "    'p5': ['a', 'b', 'c', 'd'],\n",
    "    'p4': ['k'],\n",
    "    'p3': ['i', 'j'],\n",
    "    'p2': ['e', 'f'],\n",
    "    'p1': ['g'],\n",
    "}\n",
    "\n",
    "## sim and calc\n",
    "sims = demography(20000, Ns=1e5, mut=1e-8, mig=1e-6, gen=1)\n",
    "r, b = baba.baba(sims, test, None, 1000)"
   ]
  },
  {
   "cell_type": "code",
   "execution_count": 39,
   "metadata": {
    "collapsed": false,
    "deletable": true,
    "editable": true
   },
   "outputs": [
    {
     "name": "stdout",
     "output_type": "stream",
     "text": [
      "           dstat  bootmean   bootstd         abxxa    baxxa          Z\n",
      "p3      0.212910  0.212728  0.008965   5061.437500  3284.50  23.748952\n",
      "p4      0.043302  0.043464  0.010466   3838.375000  3519.75   4.137329\n",
      "shared  1.000000  1.000000  0.000000  30292.041667     0.00   0.000000\n"
     ]
    }
   ],
   "source": [
    "print r"
   ]
  },
  {
   "cell_type": "code",
   "execution_count": 36,
   "metadata": {
    "collapsed": false,
    "deletable": true,
    "editable": true
   },
   "outputs": [
    {
     "data": {
      "image/png": "[encoded data removed]",
      "text/html": [
       "<div align=\"center\" class=\"toyplot\" id=\"t495bc2ddc5304cc1b04dfa42820b39c2\"><svg class=\"toyplot-canvas-Canvas\" height=\"400.0px\" id=\"t9b76afbd6bf345168aa7e0b7e0961b86\" preserveAspectRatio=\"xMidYMid meet\" style=\"background-color:transparent;fill:rgb(16.1%,15.3%,14.1%);fill-opacity:1.0;font-family:Helvetica;font-size:12px;opacity:1.0;stroke:rgb(16.1%,15.3%,14.1%);stroke-opacity:1.0;stroke-width:1.0\" viewBox=\"0 0 300.0 400.0\" width=\"300.0px\" xmlns=\"http://www.w3.org/2000/svg\" xmlns:toyplot=\"http://www.sandia.gov/toyplot\" xmlns:xlink=\"http://www.w3.org/1999/xlink\"><g class=\"toyplot-coordinates-Cartesian\" id=\"t65b46ed08c184eb1ad132388634f5405\"><clipPath id=\"t4db5029f91ac4001aa25458007637ae7\"><rect height=\"201.0\" width=\"57.25\" x=\"44.5\" y=\"179.5\"></rect></clipPath><g clip-path=\"url(#t4db5029f91ac4001aa25458007637ae7)\"><g class=\"toyplot-mark-BarMagnitudes\" id=\"tbbdab0a8576546a99826449350b7ddbe\" style=\"stroke:rgb(100%,100%,100%);stroke-opacity:1.0;stroke-width:1.0\"><g class=\"toyplot-Series\"><rect class=\"toyplot-Datum\" height=\"4.0\" style=\"fill:rgb(50.2%,50.2%,50.2%);fill-opacity:1.0;opacity:1.0;stroke:rgb(100%,100%,100%);stroke-opacity:1.0;stroke-width:1.0\" width=\"0.0\" x=\"45.0\" y=\"376.0\"></rect><rect class=\"toyplot-Datum\" height=\"4.0\" style=\"fill:rgb(50.2%,50.2%,50.2%);fill-opacity:1.0;opacity:1.0;stroke:rgb(100%,100%,100%);stroke-opacity:1.0;stroke-width:1.0\" width=\"0.0\" x=\"45.0\" y=\"372.0\"></rect><rect class=\"toyplot-Datum\" height=\"4.0\" style=\"fill:rgb(50.2%,50.2%,50.2%);fill-opacity:1.0;opacity:1.0;stroke:rgb(100%,100%,100%);stroke-opacity:1.0;stroke-width:1.0\" width=\"0.0\" x=\"45.0\" y=\"368.0\"></rect><rect class=\"toyplot-Datum\" height=\"4.0000000000000568\" style=\"fill:rgb(50.2%,50.2%,50.2%);fill-opacity:1.0;opacity:1.0;stroke:rgb(100%,100%,100%);stroke-opacity:1.0;stroke-width:1.0\" width=\"0.0\" x=\"45.0\" y=\"363.99999999999994\"></rect><rect class=\"toyplot-Datum\" height=\"3.9999999999999432\" style=\"fill:rgb(50.2%,50.2%,50.2%);fill-opacity:1.0;opacity:1.0;stroke:rgb(100%,100%,100%);stroke-opacity:1.0;stroke-width:1.0\" width=\"0.0\" x=\"45.0\" y=\"360.0\"></rect><rect class=\"toyplot-Datum\" height=\"4.0\" style=\"fill:rgb(50.2%,50.2%,50.2%);fill-opacity:1.0;opacity:1.0;stroke:rgb(100%,100%,100%);stroke-opacity:1.0;stroke-width:1.0\" width=\"0.0\" x=\"45.0\" y=\"356.0\"></rect><rect class=\"toyplot-Datum\" height=\"4.0\" style=\"fill:rgb(50.2%,50.2%,50.2%);fill-opacity:1.0;opacity:1.0;stroke:rgb(100%,100%,100%);stroke-opacity:1.0;stroke-width:1.0\" width=\"0.0\" x=\"45.0\" y=\"352.0\"></rect><rect class=\"toyplot-Datum\" height=\"4.0\" style=\"fill:rgb(50.2%,50.2%,50.2%);fill-opacity:1.0;opacity:1.0;stroke:rgb(100%,100%,100%);stroke-opacity:1.0;stroke-width:1.0\" width=\"0.0\" x=\"45.0\" y=\"348.0\"></rect><rect class=\"toyplot-Datum\" height=\"4.0\" style=\"fill:rgb(50.2%,50.2%,50.2%);fill-opacity:1.0;opacity:1.0;stroke:rgb(100%,100%,100%);stroke-opacity:1.0;stroke-width:1.0\" width=\"0.0\" x=\"45.0\" y=\"344.0\"></rect><rect class=\"toyplot-Datum\" height=\"4.0\" style=\"fill:rgb(50.2%,50.2%,50.2%);fill-opacity:1.0;opacity:1.0;stroke:rgb(100%,100%,100%);stroke-opacity:1.0;stroke-width:1.0\" width=\"0.0\" x=\"45.0\" y=\"340.0\"></rect><rect class=\"toyplot-Datum\" height=\"4.0\" style=\"fill:rgb(50.2%,50.2%,50.2%);fill-opacity:1.0;opacity:1.0;stroke:rgb(100%,100%,100%);stroke-opacity:1.0;stroke-width:1.0\" width=\"0.0\" x=\"45.0\" y=\"336.0\"></rect><rect class=\"toyplot-Datum\" height=\"4.0\" style=\"fill:rgb(50.2%,50.2%,50.2%);fill-opacity:1.0;opacity:1.0;stroke:rgb(100%,100%,100%);stroke-opacity:1.0;stroke-width:1.0\" width=\"0.0\" x=\"45.0\" y=\"332.0\"></rect><rect class=\"toyplot-Datum\" height=\"4.0\" style=\"fill:rgb(50.2%,50.2%,50.2%);fill-opacity:1.0;opacity:1.0;stroke:rgb(100%,100%,100%);stroke-opacity:1.0;stroke-width:1.0\" width=\"0.0\" x=\"45.0\" y=\"328.0\"></rect><rect class=\"toyplot-Datum\" height=\"4.0\" style=\"fill:rgb(50.2%,50.2%,50.2%);fill-opacity:1.0;opacity:1.0;stroke:rgb(100%,100%,100%);stroke-opacity:1.0;stroke-width:1.0\" width=\"0.0\" x=\"45.0\" y=\"324.0\"></rect><rect class=\"toyplot-Datum\" height=\"4.0\" style=\"fill:rgb(50.2%,50.2%,50.2%);fill-opacity:1.0;opacity:1.0;stroke:rgb(100%,100%,100%);stroke-opacity:1.0;stroke-width:1.0\" width=\"0.0\" x=\"45.0\" y=\"320.0\"></rect><rect class=\"toyplot-Datum\" height=\"4.0\" style=\"fill:rgb(50.2%,50.2%,50.2%);fill-opacity:1.0;opacity:1.0;stroke:rgb(100%,100%,100%);stroke-opacity:1.0;stroke-width:1.0\" width=\"0.0\" x=\"45.0\" y=\"316.0\"></rect><rect class=\"toyplot-Datum\" height=\"4.0\" style=\"fill:rgb(50.2%,50.2%,50.2%);fill-opacity:1.0;opacity:1.0;stroke:rgb(100%,100%,100%);stroke-opacity:1.0;stroke-width:1.0\" width=\"0.0\" x=\"45.0\" y=\"312.0\"></rect><rect class=\"toyplot-Datum\" height=\"4.0\" style=\"fill:rgb(50.2%,50.2%,50.2%);fill-opacity:1.0;opacity:1.0;stroke:rgb(100%,100%,100%);stroke-opacity:1.0;stroke-width:1.0\" width=\"0.0\" x=\"45.0\" y=\"308.0\"></rect><rect class=\"toyplot-Datum\" height=\"4.0\" style=\"fill:rgb(50.2%,50.2%,50.2%);fill-opacity:1.0;opacity:1.0;stroke:rgb(100%,100%,100%);stroke-opacity:1.0;stroke-width:1.0\" width=\"0.0\" x=\"45.0\" y=\"304.0\"></rect><rect class=\"toyplot-Datum\" height=\"4.0\" style=\"fill:rgb(50.2%,50.2%,50.2%);fill-opacity:1.0;opacity:1.0;stroke:rgb(100%,100%,100%);stroke-opacity:1.0;stroke-width:1.0\" width=\"0.0\" x=\"45.0\" y=\"300.0\"></rect><rect class=\"toyplot-Datum\" height=\"4.0\" style=\"fill:rgb(50.2%,50.2%,50.2%);fill-opacity:1.0;opacity:1.0;stroke:rgb(100%,100%,100%);stroke-opacity:1.0;stroke-width:1.0\" width=\"0.0\" x=\"45.0\" y=\"296.0\"></rect><rect class=\"toyplot-Datum\" height=\"4.0\" style=\"fill:rgb(50.2%,50.2%,50.2%);fill-opacity:1.0;opacity:1.0;stroke:rgb(100%,100%,100%);stroke-opacity:1.0;stroke-width:1.0\" width=\"0.0\" x=\"45.0\" y=\"292.0\"></rect><rect class=\"toyplot-Datum\" height=\"4.0\" style=\"fill:rgb(50.2%,50.2%,50.2%);fill-opacity:1.0;opacity:1.0;stroke:rgb(100%,100%,100%);stroke-opacity:1.0;stroke-width:1.0\" width=\"0.0\" x=\"45.0\" y=\"288.0\"></rect><rect class=\"toyplot-Datum\" height=\"4.0\" style=\"fill:rgb(50.2%,50.2%,50.2%);fill-opacity:1.0;opacity:1.0;stroke:rgb(100%,100%,100%);stroke-opacity:1.0;stroke-width:1.0\" width=\"0.0\" x=\"45.0\" y=\"284.0\"></rect><rect class=\"toyplot-Datum\" height=\"4.0\" style=\"fill:rgb(50.2%,50.2%,50.2%);fill-opacity:1.0;opacity:1.0;stroke:rgb(100%,100%,100%);stroke-opacity:1.0;stroke-width:1.0\" width=\"34.622374798061401\" x=\"45.0\" y=\"280.0\"></rect><rect class=\"toyplot-Datum\" height=\"4.0\" style=\"fill:rgb(50.2%,50.2%,50.2%);fill-opacity:1.0;opacity:1.0;stroke:rgb(100%,100%,100%);stroke-opacity:1.0;stroke-width:1.0\" width=\"56.25\" x=\"45.0\" y=\"276.0\"></rect><rect class=\"toyplot-Datum\" height=\"4.0\" style=\"fill:rgb(50.2%,50.2%,50.2%);fill-opacity:1.0;opacity:1.0;stroke:rgb(100%,100%,100%);stroke-opacity:1.0;stroke-width:1.0\" width=\"0.0\" x=\"45.0\" y=\"272.0\"></rect><rect class=\"toyplot-Datum\" height=\"4.0\" style=\"fill:rgb(50.2%,50.2%,50.2%);fill-opacity:1.0;opacity:1.0;stroke:rgb(100%,100%,100%);stroke-opacity:1.0;stroke-width:1.0\" width=\"0.0\" x=\"45.0\" y=\"268.0\"></rect><rect class=\"toyplot-Datum\" height=\"4.0\" style=\"fill:rgb(50.2%,50.2%,50.2%);fill-opacity:1.0;opacity:1.0;stroke:rgb(100%,100%,100%);stroke-opacity:1.0;stroke-width:1.0\" width=\"0.0\" x=\"45.0\" y=\"264.0\"></rect><rect class=\"toyplot-Datum\" height=\"4.0\" style=\"fill:rgb(50.2%,50.2%,50.2%);fill-opacity:1.0;opacity:1.0;stroke:rgb(100%,100%,100%);stroke-opacity:1.0;stroke-width:1.0\" width=\"0.0\" x=\"45.0\" y=\"260.0\"></rect><rect class=\"toyplot-Datum\" height=\"4.0\" style=\"fill:rgb(50.2%,50.2%,50.2%);fill-opacity:1.0;opacity:1.0;stroke:rgb(100%,100%,100%);stroke-opacity:1.0;stroke-width:1.0\" width=\"0.0\" x=\"45.0\" y=\"256.0\"></rect><rect class=\"toyplot-Datum\" height=\"4.0\" style=\"fill:rgb(50.2%,50.2%,50.2%);fill-opacity:1.0;opacity:1.0;stroke:rgb(100%,100%,100%);stroke-opacity:1.0;stroke-width:1.0\" width=\"0.0\" x=\"45.0\" y=\"252.0\"></rect><rect class=\"toyplot-Datum\" height=\"4.0\" style=\"fill:rgb(50.2%,50.2%,50.2%);fill-opacity:1.0;opacity:1.0;stroke:rgb(100%,100%,100%);stroke-opacity:1.0;stroke-width:1.0\" width=\"0.0\" x=\"45.0\" y=\"248.0\"></rect><rect class=\"toyplot-Datum\" height=\"4.0\" style=\"fill:rgb(50.2%,50.2%,50.2%);fill-opacity:1.0;opacity:1.0;stroke:rgb(100%,100%,100%);stroke-opacity:1.0;stroke-width:1.0\" width=\"0.0\" x=\"45.0\" y=\"244.0\"></rect><rect class=\"toyplot-Datum\" height=\"4.0\" style=\"fill:rgb(50.2%,50.2%,50.2%);fill-opacity:1.0;opacity:1.0;stroke:rgb(100%,100%,100%);stroke-opacity:1.0;stroke-width:1.0\" width=\"0.0\" x=\"45.0\" y=\"240.0\"></rect><rect class=\"toyplot-Datum\" height=\"4.0\" style=\"fill:rgb(50.2%,50.2%,50.2%);fill-opacity:1.0;opacity:1.0;stroke:rgb(100%,100%,100%);stroke-opacity:1.0;stroke-width:1.0\" width=\"0.0\" x=\"45.0\" y=\"236.0\"></rect><rect class=\"toyplot-Datum\" height=\"4.0\" style=\"fill:rgb(50.2%,50.2%,50.2%);fill-opacity:1.0;opacity:1.0;stroke:rgb(100%,100%,100%);stroke-opacity:1.0;stroke-width:1.0\" width=\"0.0\" x=\"45.0\" y=\"232.0\"></rect><rect class=\"toyplot-Datum\" height=\"4.0\" style=\"fill:rgb(50.2%,50.2%,50.2%);fill-opacity:1.0;opacity:1.0;stroke:rgb(100%,100%,100%);stroke-opacity:1.0;stroke-width:1.0\" width=\"0.0\" x=\"45.0\" y=\"228.0\"></rect><rect class=\"toyplot-Datum\" height=\"4.0\" style=\"fill:rgb(50.2%,50.2%,50.2%);fill-opacity:1.0;opacity:1.0;stroke:rgb(100%,100%,100%);stroke-opacity:1.0;stroke-width:1.0\" width=\"0.0\" x=\"45.0\" y=\"224.0\"></rect><rect class=\"toyplot-Datum\" height=\"4.0\" style=\"fill:rgb(50.2%,50.2%,50.2%);fill-opacity:1.0;opacity:1.0;stroke:rgb(100%,100%,100%);stroke-opacity:1.0;stroke-width:1.0\" width=\"0.0\" x=\"45.0\" y=\"220.0\"></rect><rect class=\"toyplot-Datum\" height=\"4.0\" style=\"fill:rgb(50.2%,50.2%,50.2%);fill-opacity:1.0;opacity:1.0;stroke:rgb(100%,100%,100%);stroke-opacity:1.0;stroke-width:1.0\" width=\"0.0\" x=\"45.0\" y=\"216.0\"></rect><rect class=\"toyplot-Datum\" height=\"4.0\" style=\"fill:rgb(50.2%,50.2%,50.2%);fill-opacity:1.0;opacity:1.0;stroke:rgb(100%,100%,100%);stroke-opacity:1.0;stroke-width:1.0\" width=\"0.0\" x=\"45.0\" y=\"212.0\"></rect><rect class=\"toyplot-Datum\" height=\"4.0\" style=\"fill:rgb(50.2%,50.2%,50.2%);fill-opacity:1.0;opacity:1.0;stroke:rgb(100%,100%,100%);stroke-opacity:1.0;stroke-width:1.0\" width=\"0.0\" x=\"45.0\" y=\"208.0\"></rect><rect class=\"toyplot-Datum\" height=\"4.0\" style=\"fill:rgb(50.2%,50.2%,50.2%);fill-opacity:1.0;opacity:1.0;stroke:rgb(100%,100%,100%);stroke-opacity:1.0;stroke-width:1.0\" width=\"0.0\" x=\"45.0\" y=\"204.0\"></rect><rect class=\"toyplot-Datum\" height=\"4.0\" style=\"fill:rgb(50.2%,50.2%,50.2%);fill-opacity:1.0;opacity:1.0;stroke:rgb(100%,100%,100%);stroke-opacity:1.0;stroke-width:1.0\" width=\"0.0\" x=\"45.0\" y=\"200.0\"></rect><rect class=\"toyplot-Datum\" height=\"4.0000000000000284\" style=\"fill:rgb(50.2%,50.2%,50.2%);fill-opacity:1.0;opacity:1.0;stroke:rgb(100%,100%,100%);stroke-opacity:1.0;stroke-width:1.0\" width=\"0.0\" x=\"45.0\" y=\"195.99999999999997\"></rect><rect class=\"toyplot-Datum\" height=\"3.9999999999999716\" style=\"fill:rgb(50.2%,50.2%,50.2%);fill-opacity:1.0;opacity:1.0;stroke:rgb(100%,100%,100%);stroke-opacity:1.0;stroke-width:1.0\" width=\"0.0\" x=\"45.0\" y=\"192.0\"></rect><rect class=\"toyplot-Datum\" height=\"4.0\" style=\"fill:rgb(50.2%,50.2%,50.2%);fill-opacity:1.0;opacity:1.0;stroke:rgb(100%,100%,100%);stroke-opacity:1.0;stroke-width:1.0\" width=\"0.0\" x=\"45.0\" y=\"188.0\"></rect><rect class=\"toyplot-Datum\" height=\"4.0\" style=\"fill:rgb(50.2%,50.2%,50.2%);fill-opacity:1.0;opacity:1.0;stroke:rgb(100%,100%,100%);stroke-opacity:1.0;stroke-width:1.0\" width=\"0.0\" x=\"45.0\" y=\"184.0\"></rect><rect class=\"toyplot-Datum\" height=\"4.0\" style=\"fill:rgb(50.2%,50.2%,50.2%);fill-opacity:1.0;opacity:1.0;stroke:rgb(100%,100%,100%);stroke-opacity:1.0;stroke-width:1.0\" width=\"0.0\" x=\"45.0\" y=\"180.0\"></rect></g></g></g><g class=\"toyplot-coordinates-Axis\" id=\"tafd3a875e3d6468da061b22c959319c3\" transform=\"translate(45.0,380.0)rotate(-90.0)translate(0,-0.5)\"><line style=\"\" x1=\"0\" x2=\"200.0\" y1=\"0\" y2=\"0\"></line><g><line style=\"\" x1=\"0.0\" x2=\"0.0\" y1=\"0\" y2=\"5\"></line><line style=\"\" x1=\"50.0\" x2=\"50.0\" y1=\"0\" y2=\"5\"></line><line style=\"\" x1=\"100.0\" x2=\"100.0\" y1=\"0\" y2=\"5\"></line><line style=\"\" x1=\"150.0\" x2=\"150.0\" y1=\"0\" y2=\"5\"></line><line style=\"\" x1=\"200.0\" x2=\"200.0\" y1=\"0\" y2=\"5\"></line></g><g><text style=\"dominant-baseline:alphabetic;font-size:12px;font-weight:normal;stroke:none;text-anchor:middle\" transform=\"translate(0.0,-10.0)\"><tspan style=\"dominant-baseline:inherit\">-1.0</tspan></text><text style=\"dominant-baseline:alphabetic;font-size:12px;font-weight:normal;stroke:none;text-anchor:middle\" transform=\"translate(50.0,-10.0)\"><tspan style=\"dominant-baseline:inherit\">-0.5</tspan></text><text style=\"dominant-baseline:alphabetic;font-size:12px;font-weight:normal;stroke:none;text-anchor:middle\" transform=\"translate(100.0,-10.0)\"><tspan style=\"dominant-baseline:inherit\">0.0</tspan></text><text style=\"dominant-baseline:alphabetic;font-size:12px;font-weight:normal;stroke:none;text-anchor:middle\" transform=\"translate(150.0,-10.0)\"><tspan style=\"dominant-baseline:inherit\">0.5</tspan></text><text style=\"dominant-baseline:alphabetic;font-size:12px;font-weight:normal;stroke:none;text-anchor:middle\" transform=\"translate(200.0,-10.0)\"><tspan style=\"dominant-baseline:inherit\">1.0</tspan></text></g><text style=\"dominant-baseline:alphabetic;fill:rgb(16.1%,15.3%,14.1%);fill-opacity:1.0;font-size:16px;font-weight:bold;stroke:none;text-anchor:middle\" transform=\"translate(100.0,-30.0)\"><tspan style=\"dominant-baseline:inherit\">D-stat bootstraps</tspan></text><g class=\"toyplot-coordinates-Axis-coordinates\" style=\"visibility:hidden\" transform=\"\"><line style=\"stroke:rgb(43.9%,50.2%,56.5%);stroke-opacity:1.0;stroke-width:1.0\" x1=\"0\" x2=\"0\" y1=\"5.0\" y2=\"-7.5\"></line><text style=\"alignment-baseline:hanging;fill:rgb(43.9%,50.2%,56.5%);fill-opacity:1.0;font-size:10px;font-weight:normal;stroke:none;text-anchor:middle\" x=\"0\" y=\"10.0\"></text></g></g></g><g class=\"toyplot-coordinates-Cartesian\" id=\"tce2db83beea34547950bddd225e8d247\"><clipPath id=\"t8d50393d92e34ed49decfacd2922ab08\"><rect height=\"201.0\" width=\"57.25\" x=\"119.5\" y=\"179.5\"></rect></clipPath><g clip-path=\"url(#t8d50393d92e34ed49decfacd2922ab08)\"><g class=\"toyplot-mark-BarMagnitudes\" id=\"t772a4ca248da409a837ba8c385b7da83\" style=\"stroke:rgb(100%,100%,100%);stroke-opacity:1.0;stroke-width:1.0\"><g class=\"toyplot-Series\"><rect class=\"toyplot-Datum\" height=\"4.0\" style=\"fill:rgb(50.2%,50.2%,50.2%);fill-opacity:1.0;opacity:1.0;stroke:rgb(100%,100%,100%);stroke-opacity:1.0;stroke-width:1.0\" width=\"0.0\" x=\"120.0\" y=\"376.0\"></rect><rect class=\"toyplot-Datum\" height=\"4.0\" style=\"fill:rgb(50.2%,50.2%,50.2%);fill-opacity:1.0;opacity:1.0;stroke:rgb(100%,100%,100%);stroke-opacity:1.0;stroke-width:1.0\" width=\"0.0\" x=\"120.0\" y=\"372.0\"></rect><rect class=\"toyplot-Datum\" height=\"4.0\" style=\"fill:rgb(50.2%,50.2%,50.2%);fill-opacity:1.0;opacity:1.0;stroke:rgb(100%,100%,100%);stroke-opacity:1.0;stroke-width:1.0\" width=\"0.0\" x=\"120.0\" y=\"368.0\"></rect><rect class=\"toyplot-Datum\" height=\"4.0000000000000568\" style=\"fill:rgb(50.2%,50.2%,50.2%);fill-opacity:1.0;opacity:1.0;stroke:rgb(100%,100%,100%);stroke-opacity:1.0;stroke-width:1.0\" width=\"0.0\" x=\"120.0\" y=\"363.99999999999994\"></rect><rect class=\"toyplot-Datum\" height=\"3.9999999999999432\" style=\"fill:rgb(50.2%,50.2%,50.2%);fill-opacity:1.0;opacity:1.0;stroke:rgb(100%,100%,100%);stroke-opacity:1.0;stroke-width:1.0\" width=\"0.0\" x=\"120.0\" y=\"360.0\"></rect><rect class=\"toyplot-Datum\" height=\"4.0\" style=\"fill:rgb(50.2%,50.2%,50.2%);fill-opacity:1.0;opacity:1.0;stroke:rgb(100%,100%,100%);stroke-opacity:1.0;stroke-width:1.0\" width=\"0.0\" x=\"120.0\" y=\"356.0\"></rect><rect class=\"toyplot-Datum\" height=\"4.0\" style=\"fill:rgb(50.2%,50.2%,50.2%);fill-opacity:1.0;opacity:1.0;stroke:rgb(100%,100%,100%);stroke-opacity:1.0;stroke-width:1.0\" width=\"0.0\" x=\"120.0\" y=\"352.0\"></rect><rect class=\"toyplot-Datum\" height=\"4.0\" style=\"fill:rgb(50.2%,50.2%,50.2%);fill-opacity:1.0;opacity:1.0;stroke:rgb(100%,100%,100%);stroke-opacity:1.0;stroke-width:1.0\" width=\"0.0\" x=\"120.0\" y=\"348.0\"></rect><rect class=\"toyplot-Datum\" height=\"4.0\" style=\"fill:rgb(50.2%,50.2%,50.2%);fill-opacity:1.0;opacity:1.0;stroke:rgb(100%,100%,100%);stroke-opacity:1.0;stroke-width:1.0\" width=\"0.0\" x=\"120.0\" y=\"344.0\"></rect><rect class=\"toyplot-Datum\" height=\"4.0\" style=\"fill:rgb(50.2%,50.2%,50.2%);fill-opacity:1.0;opacity:1.0;stroke:rgb(100%,100%,100%);stroke-opacity:1.0;stroke-width:1.0\" width=\"0.0\" x=\"120.0\" y=\"340.0\"></rect><rect class=\"toyplot-Datum\" height=\"4.0\" style=\"fill:rgb(50.2%,50.2%,50.2%);fill-opacity:1.0;opacity:1.0;stroke:rgb(100%,100%,100%);stroke-opacity:1.0;stroke-width:1.0\" width=\"0.0\" x=\"120.0\" y=\"336.0\"></rect><rect class=\"toyplot-Datum\" height=\"4.0\" style=\"fill:rgb(50.2%,50.2%,50.2%);fill-opacity:1.0;opacity:1.0;stroke:rgb(100%,100%,100%);stroke-opacity:1.0;stroke-width:1.0\" width=\"0.0\" x=\"120.0\" y=\"332.0\"></rect><rect class=\"toyplot-Datum\" height=\"4.0\" style=\"fill:rgb(50.2%,50.2%,50.2%);fill-opacity:1.0;opacity:1.0;stroke:rgb(100%,100%,100%);stroke-opacity:1.0;stroke-width:1.0\" width=\"0.0\" x=\"120.0\" y=\"328.0\"></rect><rect class=\"toyplot-Datum\" height=\"4.0\" style=\"fill:rgb(50.2%,50.2%,50.2%);fill-opacity:1.0;opacity:1.0;stroke:rgb(100%,100%,100%);stroke-opacity:1.0;stroke-width:1.0\" width=\"0.0\" x=\"120.0\" y=\"324.0\"></rect><rect class=\"toyplot-Datum\" height=\"4.0\" style=\"fill:rgb(50.2%,50.2%,50.2%);fill-opacity:1.0;opacity:1.0;stroke:rgb(100%,100%,100%);stroke-opacity:1.0;stroke-width:1.0\" width=\"0.0\" x=\"120.0\" y=\"320.0\"></rect><rect class=\"toyplot-Datum\" height=\"4.0\" style=\"fill:rgb(50.2%,50.2%,50.2%);fill-opacity:1.0;opacity:1.0;stroke:rgb(100%,100%,100%);stroke-opacity:1.0;stroke-width:1.0\" width=\"0.0\" x=\"120.0\" y=\"316.0\"></rect><rect class=\"toyplot-Datum\" height=\"4.0\" style=\"fill:rgb(50.2%,50.2%,50.2%);fill-opacity:1.0;opacity:1.0;stroke:rgb(100%,100%,100%);stroke-opacity:1.0;stroke-width:1.0\" width=\"0.0\" x=\"120.0\" y=\"312.0\"></rect><rect class=\"toyplot-Datum\" height=\"4.0\" style=\"fill:rgb(50.2%,50.2%,50.2%);fill-opacity:1.0;opacity:1.0;stroke:rgb(100%,100%,100%);stroke-opacity:1.0;stroke-width:1.0\" width=\"0.0\" x=\"120.0\" y=\"308.0\"></rect><rect class=\"toyplot-Datum\" height=\"4.0\" style=\"fill:rgb(50.2%,50.2%,50.2%);fill-opacity:1.0;opacity:1.0;stroke:rgb(100%,100%,100%);stroke-opacity:1.0;stroke-width:1.0\" width=\"0.0\" x=\"120.0\" y=\"304.0\"></rect><rect class=\"toyplot-Datum\" height=\"4.0\" style=\"fill:rgb(50.2%,50.2%,50.2%);fill-opacity:1.0;opacity:1.0;stroke:rgb(100%,100%,100%);stroke-opacity:1.0;stroke-width:1.0\" width=\"0.0\" x=\"120.0\" y=\"300.0\"></rect><rect class=\"toyplot-Datum\" height=\"4.0\" style=\"fill:rgb(50.2%,50.2%,50.2%);fill-opacity:1.0;opacity:1.0;stroke:rgb(100%,100%,100%);stroke-opacity:1.0;stroke-width:1.0\" width=\"0.0\" x=\"120.0\" y=\"296.0\"></rect><rect class=\"toyplot-Datum\" height=\"4.0\" style=\"fill:rgb(50.2%,50.2%,50.2%);fill-opacity:1.0;opacity:1.0;stroke:rgb(100%,100%,100%);stroke-opacity:1.0;stroke-width:1.0\" width=\"0.0\" x=\"120.0\" y=\"292.0\"></rect><rect class=\"toyplot-Datum\" height=\"4.0\" style=\"fill:rgb(50.2%,50.2%,50.2%);fill-opacity:1.0;opacity:1.0;stroke:rgb(100%,100%,100%);stroke-opacity:1.0;stroke-width:1.0\" width=\"0.0\" x=\"120.0\" y=\"288.0\"></rect><rect class=\"toyplot-Datum\" height=\"4.0\" style=\"fill:rgb(50.2%,50.2%,50.2%);fill-opacity:1.0;opacity:1.0;stroke:rgb(100%,100%,100%);stroke-opacity:1.0;stroke-width:1.0\" width=\"0.20053475935829113\" x=\"120.0\" y=\"284.0\"></rect><rect class=\"toyplot-Datum\" height=\"4.0\" style=\"fill:rgb(50.2%,50.2%,50.2%);fill-opacity:1.0;opacity:1.0;stroke:rgb(100%,100%,100%);stroke-opacity:1.0;stroke-width:1.0\" width=\"56.25\" x=\"120.0\" y=\"280.0\"></rect><rect class=\"toyplot-Datum\" height=\"4.0\" style=\"fill:rgb(50.2%,50.2%,50.2%);fill-opacity:1.0;opacity:1.0;stroke:rgb(100%,100%,100%);stroke-opacity:1.0;stroke-width:1.0\" width=\"43.816844919786092\" x=\"120.0\" y=\"276.0\"></rect><rect class=\"toyplot-Datum\" height=\"4.0\" style=\"fill:rgb(50.2%,50.2%,50.2%);fill-opacity:1.0;opacity:1.0;stroke:rgb(100%,100%,100%);stroke-opacity:1.0;stroke-width:1.0\" width=\"0.0\" x=\"120.0\" y=\"272.0\"></rect><rect class=\"toyplot-Datum\" height=\"4.0\" style=\"fill:rgb(50.2%,50.2%,50.2%);fill-opacity:1.0;opacity:1.0;stroke:rgb(100%,100%,100%);stroke-opacity:1.0;stroke-width:1.0\" width=\"0.0\" x=\"120.0\" y=\"268.0\"></rect><rect class=\"toyplot-Datum\" height=\"4.0\" style=\"fill:rgb(50.2%,50.2%,50.2%);fill-opacity:1.0;opacity:1.0;stroke:rgb(100%,100%,100%);stroke-opacity:1.0;stroke-width:1.0\" width=\"0.0\" x=\"120.0\" y=\"264.0\"></rect><rect class=\"toyplot-Datum\" height=\"4.0\" style=\"fill:rgb(50.2%,50.2%,50.2%);fill-opacity:1.0;opacity:1.0;stroke:rgb(100%,100%,100%);stroke-opacity:1.0;stroke-width:1.0\" width=\"0.0\" x=\"120.0\" y=\"260.0\"></rect><rect class=\"toyplot-Datum\" height=\"4.0\" style=\"fill:rgb(50.2%,50.2%,50.2%);fill-opacity:1.0;opacity:1.0;stroke:rgb(100%,100%,100%);stroke-opacity:1.0;stroke-width:1.0\" width=\"0.0\" x=\"120.0\" y=\"256.0\"></rect><rect class=\"toyplot-Datum\" height=\"4.0\" style=\"fill:rgb(50.2%,50.2%,50.2%);fill-opacity:1.0;opacity:1.0;stroke:rgb(100%,100%,100%);stroke-opacity:1.0;stroke-width:1.0\" width=\"0.0\" x=\"120.0\" y=\"252.0\"></rect><rect class=\"toyplot-Datum\" height=\"4.0\" style=\"fill:rgb(50.2%,50.2%,50.2%);fill-opacity:1.0;opacity:1.0;stroke:rgb(100%,100%,100%);stroke-opacity:1.0;stroke-width:1.0\" width=\"0.0\" x=\"120.0\" y=\"248.0\"></rect><rect class=\"toyplot-Datum\" height=\"4.0\" style=\"fill:rgb(50.2%,50.2%,50.2%);fill-opacity:1.0;opacity:1.0;stroke:rgb(100%,100%,100%);stroke-opacity:1.0;stroke-width:1.0\" width=\"0.0\" x=\"120.0\" y=\"244.0\"></rect><rect class=\"toyplot-Datum\" height=\"4.0\" style=\"fill:rgb(50.2%,50.2%,50.2%);fill-opacity:1.0;opacity:1.0;stroke:rgb(100%,100%,100%);stroke-opacity:1.0;stroke-width:1.0\" width=\"0.0\" x=\"120.0\" y=\"240.0\"></rect><rect class=\"toyplot-Datum\" height=\"4.0\" style=\"fill:rgb(50.2%,50.2%,50.2%);fill-opacity:1.0;opacity:1.0;stroke:rgb(100%,100%,100%);stroke-opacity:1.0;stroke-width:1.0\" width=\"0.0\" x=\"120.0\" y=\"236.0\"></rect><rect class=\"toyplot-Datum\" height=\"4.0\" style=\"fill:rgb(50.2%,50.2%,50.2%);fill-opacity:1.0;opacity:1.0;stroke:rgb(100%,100%,100%);stroke-opacity:1.0;stroke-width:1.0\" width=\"0.0\" x=\"120.0\" y=\"232.0\"></rect><rect class=\"toyplot-Datum\" height=\"4.0\" style=\"fill:rgb(50.2%,50.2%,50.2%);fill-opacity:1.0;opacity:1.0;stroke:rgb(100%,100%,100%);stroke-opacity:1.0;stroke-width:1.0\" width=\"0.0\" x=\"120.0\" y=\"228.0\"></rect><rect class=\"toyplot-Datum\" height=\"4.0\" style=\"fill:rgb(50.2%,50.2%,50.2%);fill-opacity:1.0;opacity:1.0;stroke:rgb(100%,100%,100%);stroke-opacity:1.0;stroke-width:1.0\" width=\"0.0\" x=\"120.0\" y=\"224.0\"></rect><rect class=\"toyplot-Datum\" height=\"4.0\" style=\"fill:rgb(50.2%,50.2%,50.2%);fill-opacity:1.0;opacity:1.0;stroke:rgb(100%,100%,100%);stroke-opacity:1.0;stroke-width:1.0\" width=\"0.0\" x=\"120.0\" y=\"220.0\"></rect><rect class=\"toyplot-Datum\" height=\"4.0\" style=\"fill:rgb(50.2%,50.2%,50.2%);fill-opacity:1.0;opacity:1.0;stroke:rgb(100%,100%,100%);stroke-opacity:1.0;stroke-width:1.0\" width=\"0.0\" x=\"120.0\" y=\"216.0\"></rect><rect class=\"toyplot-Datum\" height=\"4.0\" style=\"fill:rgb(50.2%,50.2%,50.2%);fill-opacity:1.0;opacity:1.0;stroke:rgb(100%,100%,100%);stroke-opacity:1.0;stroke-width:1.0\" width=\"0.0\" x=\"120.0\" y=\"212.0\"></rect><rect class=\"toyplot-Datum\" height=\"4.0\" style=\"fill:rgb(50.2%,50.2%,50.2%);fill-opacity:1.0;opacity:1.0;stroke:rgb(100%,100%,100%);stroke-opacity:1.0;stroke-width:1.0\" width=\"0.0\" x=\"120.0\" y=\"208.0\"></rect><rect class=\"toyplot-Datum\" height=\"4.0\" style=\"fill:rgb(50.2%,50.2%,50.2%);fill-opacity:1.0;opacity:1.0;stroke:rgb(100%,100%,100%);stroke-opacity:1.0;stroke-width:1.0\" width=\"0.0\" x=\"120.0\" y=\"204.0\"></rect><rect class=\"toyplot-Datum\" height=\"4.0\" style=\"fill:rgb(50.2%,50.2%,50.2%);fill-opacity:1.0;opacity:1.0;stroke:rgb(100%,100%,100%);stroke-opacity:1.0;stroke-width:1.0\" width=\"0.0\" x=\"120.0\" y=\"200.0\"></rect><rect class=\"toyplot-Datum\" height=\"4.0000000000000284\" style=\"fill:rgb(50.2%,50.2%,50.2%);fill-opacity:1.0;opacity:1.0;stroke:rgb(100%,100%,100%);stroke-opacity:1.0;stroke-width:1.0\" width=\"0.0\" x=\"120.0\" y=\"195.99999999999997\"></rect><rect class=\"toyplot-Datum\" height=\"3.9999999999999716\" style=\"fill:rgb(50.2%,50.2%,50.2%);fill-opacity:1.0;opacity:1.0;stroke:rgb(100%,100%,100%);stroke-opacity:1.0;stroke-width:1.0\" width=\"0.0\" x=\"120.0\" y=\"192.0\"></rect><rect class=\"toyplot-Datum\" height=\"4.0\" style=\"fill:rgb(50.2%,50.2%,50.2%);fill-opacity:1.0;opacity:1.0;stroke:rgb(100%,100%,100%);stroke-opacity:1.0;stroke-width:1.0\" width=\"0.0\" x=\"120.0\" y=\"188.0\"></rect><rect class=\"toyplot-Datum\" height=\"4.0\" style=\"fill:rgb(50.2%,50.2%,50.2%);fill-opacity:1.0;opacity:1.0;stroke:rgb(100%,100%,100%);stroke-opacity:1.0;stroke-width:1.0\" width=\"0.0\" x=\"120.0\" y=\"184.0\"></rect><rect class=\"toyplot-Datum\" height=\"4.0\" style=\"fill:rgb(50.2%,50.2%,50.2%);fill-opacity:1.0;opacity:1.0;stroke:rgb(100%,100%,100%);stroke-opacity:1.0;stroke-width:1.0\" width=\"0.0\" x=\"120.0\" y=\"180.0\"></rect></g></g></g><g class=\"toyplot-coordinates-Axis\" id=\"tba94e68d4b5447d6a5473552f3eb9aed\" transform=\"translate(120.0,380.0)rotate(-90.0)translate(0,-0.5)\"><line style=\"\" x1=\"0\" x2=\"200.0\" y1=\"0\" y2=\"0\"></line><g class=\"toyplot-coordinates-Axis-coordinates\" style=\"visibility:hidden\" transform=\"\"><line style=\"stroke:rgb(43.9%,50.2%,56.5%);stroke-opacity:1.0;stroke-width:1.0\" x1=\"0\" x2=\"0\" y1=\"3.0\" y2=\"-4.5\"></line><text style=\"alignment-baseline:hanging;fill:rgb(43.9%,50.2%,56.5%);fill-opacity:1.0;font-size:10px;font-weight:normal;stroke:none;text-anchor:middle\" x=\"0\" y=\"6\"></text></g></g></g><g class=\"toyplot-coordinates-Cartesian\" id=\"t934aac46e23049ebaedcb8d00a923025\"><clipPath id=\"t03d14556e2604ab297c19c894cba3aae\"><rect height=\"201.0\" width=\"57.25\" x=\"194.5\" y=\"179.5\"></rect></clipPath><g clip-path=\"url(#t03d14556e2604ab297c19c894cba3aae)\"><g class=\"toyplot-mark-BarMagnitudes\" id=\"t1c848af4209d403aba367a4281ea8aad\" style=\"stroke:rgb(100%,100%,100%);stroke-opacity:1.0;stroke-width:1.0\"><g class=\"toyplot-Series\"><rect class=\"toyplot-Datum\" height=\"4.0\" style=\"fill:rgb(50.2%,50.2%,50.2%);fill-opacity:1.0;opacity:1.0;stroke:rgb(100%,100%,100%);stroke-opacity:1.0;stroke-width:1.0\" width=\"0.0\" x=\"195.0\" y=\"376.0\"></rect><rect class=\"toyplot-Datum\" height=\"4.0\" style=\"fill:rgb(50.2%,50.2%,50.2%);fill-opacity:1.0;opacity:1.0;stroke:rgb(100%,100%,100%);stroke-opacity:1.0;stroke-width:1.0\" width=\"0.0\" x=\"195.0\" y=\"372.0\"></rect><rect class=\"toyplot-Datum\" height=\"4.0\" style=\"fill:rgb(50.2%,50.2%,50.2%);fill-opacity:1.0;opacity:1.0;stroke:rgb(100%,100%,100%);stroke-opacity:1.0;stroke-width:1.0\" width=\"0.0\" x=\"195.0\" y=\"368.0\"></rect><rect class=\"toyplot-Datum\" height=\"4.0000000000000568\" style=\"fill:rgb(50.2%,50.2%,50.2%);fill-opacity:1.0;opacity:1.0;stroke:rgb(100%,100%,100%);stroke-opacity:1.0;stroke-width:1.0\" width=\"0.0\" x=\"195.0\" y=\"363.99999999999994\"></rect><rect class=\"toyplot-Datum\" height=\"3.9999999999999432\" style=\"fill:rgb(50.2%,50.2%,50.2%);fill-opacity:1.0;opacity:1.0;stroke:rgb(100%,100%,100%);stroke-opacity:1.0;stroke-width:1.0\" width=\"0.0\" x=\"195.0\" y=\"360.0\"></rect><rect class=\"toyplot-Datum\" height=\"4.0\" style=\"fill:rgb(50.2%,50.2%,50.2%);fill-opacity:1.0;opacity:1.0;stroke:rgb(100%,100%,100%);stroke-opacity:1.0;stroke-width:1.0\" width=\"0.0\" x=\"195.0\" y=\"356.0\"></rect><rect class=\"toyplot-Datum\" height=\"4.0\" style=\"fill:rgb(50.2%,50.2%,50.2%);fill-opacity:1.0;opacity:1.0;stroke:rgb(100%,100%,100%);stroke-opacity:1.0;stroke-width:1.0\" width=\"0.0\" x=\"195.0\" y=\"352.0\"></rect><rect class=\"toyplot-Datum\" height=\"4.0\" style=\"fill:rgb(50.2%,50.2%,50.2%);fill-opacity:1.0;opacity:1.0;stroke:rgb(100%,100%,100%);stroke-opacity:1.0;stroke-width:1.0\" width=\"0.0\" x=\"195.0\" y=\"348.0\"></rect><rect class=\"toyplot-Datum\" height=\"4.0\" style=\"fill:rgb(50.2%,50.2%,50.2%);fill-opacity:1.0;opacity:1.0;stroke:rgb(100%,100%,100%);stroke-opacity:1.0;stroke-width:1.0\" width=\"0.0\" x=\"195.0\" y=\"344.0\"></rect><rect class=\"toyplot-Datum\" height=\"4.0\" style=\"fill:rgb(50.2%,50.2%,50.2%);fill-opacity:1.0;opacity:1.0;stroke:rgb(100%,100%,100%);stroke-opacity:1.0;stroke-width:1.0\" width=\"0.0\" x=\"195.0\" y=\"340.0\"></rect><rect class=\"toyplot-Datum\" height=\"4.0\" style=\"fill:rgb(50.2%,50.2%,50.2%);fill-opacity:1.0;opacity:1.0;stroke:rgb(100%,100%,100%);stroke-opacity:1.0;stroke-width:1.0\" width=\"0.0\" x=\"195.0\" y=\"336.0\"></rect><rect class=\"toyplot-Datum\" height=\"4.0\" style=\"fill:rgb(50.2%,50.2%,50.2%);fill-opacity:1.0;opacity:1.0;stroke:rgb(100%,100%,100%);stroke-opacity:1.0;stroke-width:1.0\" width=\"0.0\" x=\"195.0\" y=\"332.0\"></rect><rect class=\"toyplot-Datum\" height=\"4.0\" style=\"fill:rgb(50.2%,50.2%,50.2%);fill-opacity:1.0;opacity:1.0;stroke:rgb(100%,100%,100%);stroke-opacity:1.0;stroke-width:1.0\" width=\"0.0\" x=\"195.0\" y=\"328.0\"></rect><rect class=\"toyplot-Datum\" height=\"4.0\" style=\"fill:rgb(50.2%,50.2%,50.2%);fill-opacity:1.0;opacity:1.0;stroke:rgb(100%,100%,100%);stroke-opacity:1.0;stroke-width:1.0\" width=\"0.0\" x=\"195.0\" y=\"324.0\"></rect><rect class=\"toyplot-Datum\" height=\"4.0\" style=\"fill:rgb(50.2%,50.2%,50.2%);fill-opacity:1.0;opacity:1.0;stroke:rgb(100%,100%,100%);stroke-opacity:1.0;stroke-width:1.0\" width=\"0.0\" x=\"195.0\" y=\"320.0\"></rect><rect class=\"toyplot-Datum\" height=\"4.0\" style=\"fill:rgb(50.2%,50.2%,50.2%);fill-opacity:1.0;opacity:1.0;stroke:rgb(100%,100%,100%);stroke-opacity:1.0;stroke-width:1.0\" width=\"0.0\" x=\"195.0\" y=\"316.0\"></rect><rect class=\"toyplot-Datum\" height=\"4.0\" style=\"fill:rgb(50.2%,50.2%,50.2%);fill-opacity:1.0;opacity:1.0;stroke:rgb(100%,100%,100%);stroke-opacity:1.0;stroke-width:1.0\" width=\"0.0\" x=\"195.0\" y=\"312.0\"></rect><rect class=\"toyplot-Datum\" height=\"4.0\" style=\"fill:rgb(50.2%,50.2%,50.2%);fill-opacity:1.0;opacity:1.0;stroke:rgb(100%,100%,100%);stroke-opacity:1.0;stroke-width:1.0\" width=\"0.0\" x=\"195.0\" y=\"308.0\"></rect><rect class=\"toyplot-Datum\" height=\"4.0\" style=\"fill:rgb(50.2%,50.2%,50.2%);fill-opacity:1.0;opacity:1.0;stroke:rgb(100%,100%,100%);stroke-opacity:1.0;stroke-width:1.0\" width=\"0.0\" x=\"195.0\" y=\"304.0\"></rect><rect class=\"toyplot-Datum\" height=\"4.0\" style=\"fill:rgb(50.2%,50.2%,50.2%);fill-opacity:1.0;opacity:1.0;stroke:rgb(100%,100%,100%);stroke-opacity:1.0;stroke-width:1.0\" width=\"0.0\" x=\"195.0\" y=\"300.0\"></rect><rect class=\"toyplot-Datum\" height=\"4.0\" style=\"fill:rgb(50.2%,50.2%,50.2%);fill-opacity:1.0;opacity:1.0;stroke:rgb(100%,100%,100%);stroke-opacity:1.0;stroke-width:1.0\" width=\"0.0\" x=\"195.0\" y=\"296.0\"></rect><rect class=\"toyplot-Datum\" height=\"4.0\" style=\"fill:rgb(50.2%,50.2%,50.2%);fill-opacity:1.0;opacity:1.0;stroke:rgb(100%,100%,100%);stroke-opacity:1.0;stroke-width:1.0\" width=\"0.0\" x=\"195.0\" y=\"292.0\"></rect><rect class=\"toyplot-Datum\" height=\"4.0\" style=\"fill:rgb(50.2%,50.2%,50.2%);fill-opacity:1.0;opacity:1.0;stroke:rgb(100%,100%,100%);stroke-opacity:1.0;stroke-width:1.0\" width=\"0.0\" x=\"195.0\" y=\"288.0\"></rect><rect class=\"toyplot-Datum\" height=\"4.0\" style=\"fill:rgb(50.2%,50.2%,50.2%);fill-opacity:1.0;opacity:1.0;stroke:rgb(100%,100%,100%);stroke-opacity:1.0;stroke-width:1.0\" width=\"0.0\" x=\"195.0\" y=\"284.0\"></rect><rect class=\"toyplot-Datum\" height=\"4.0\" style=\"fill:rgb(50.2%,50.2%,50.2%);fill-opacity:1.0;opacity:1.0;stroke:rgb(100%,100%,100%);stroke-opacity:1.0;stroke-width:1.0\" width=\"0.0\" x=\"195.0\" y=\"280.0\"></rect><rect class=\"toyplot-Datum\" height=\"4.0\" style=\"fill:rgb(50.2%,50.2%,50.2%);fill-opacity:1.0;opacity:1.0;stroke:rgb(100%,100%,100%);stroke-opacity:1.0;stroke-width:1.0\" width=\"0.0\" x=\"195.0\" y=\"276.0\"></rect><rect class=\"toyplot-Datum\" height=\"4.0\" style=\"fill:rgb(50.2%,50.2%,50.2%);fill-opacity:1.0;opacity:1.0;stroke:rgb(100%,100%,100%);stroke-opacity:1.0;stroke-width:1.0\" width=\"0.0\" x=\"195.0\" y=\"272.0\"></rect><rect class=\"toyplot-Datum\" height=\"4.0\" style=\"fill:rgb(50.2%,50.2%,50.2%);fill-opacity:1.0;opacity:1.0;stroke:rgb(100%,100%,100%);stroke-opacity:1.0;stroke-width:1.0\" width=\"0.0\" x=\"195.0\" y=\"268.0\"></rect><rect class=\"toyplot-Datum\" height=\"4.0\" style=\"fill:rgb(50.2%,50.2%,50.2%);fill-opacity:1.0;opacity:1.0;stroke:rgb(100%,100%,100%);stroke-opacity:1.0;stroke-width:1.0\" width=\"0.0\" x=\"195.0\" y=\"264.0\"></rect><rect class=\"toyplot-Datum\" height=\"4.0\" style=\"fill:rgb(50.2%,50.2%,50.2%);fill-opacity:1.0;opacity:1.0;stroke:rgb(100%,100%,100%);stroke-opacity:1.0;stroke-width:1.0\" width=\"0.0\" x=\"195.0\" y=\"260.0\"></rect><rect class=\"toyplot-Datum\" height=\"4.0\" style=\"fill:rgb(50.2%,50.2%,50.2%);fill-opacity:1.0;opacity:1.0;stroke:rgb(100%,100%,100%);stroke-opacity:1.0;stroke-width:1.0\" width=\"0.0\" x=\"195.0\" y=\"256.0\"></rect><rect class=\"toyplot-Datum\" height=\"4.0\" style=\"fill:rgb(50.2%,50.2%,50.2%);fill-opacity:1.0;opacity:1.0;stroke:rgb(100%,100%,100%);stroke-opacity:1.0;stroke-width:1.0\" width=\"0.0\" x=\"195.0\" y=\"252.0\"></rect><rect class=\"toyplot-Datum\" height=\"4.0\" style=\"fill:rgb(50.2%,50.2%,50.2%);fill-opacity:1.0;opacity:1.0;stroke:rgb(100%,100%,100%);stroke-opacity:1.0;stroke-width:1.0\" width=\"0.0\" x=\"195.0\" y=\"248.0\"></rect><rect class=\"toyplot-Datum\" height=\"4.0\" style=\"fill:rgb(50.2%,50.2%,50.2%);fill-opacity:1.0;opacity:1.0;stroke:rgb(100%,100%,100%);stroke-opacity:1.0;stroke-width:1.0\" width=\"0.0\" x=\"195.0\" y=\"244.0\"></rect><rect class=\"toyplot-Datum\" height=\"4.0\" style=\"fill:rgb(50.2%,50.2%,50.2%);fill-opacity:1.0;opacity:1.0;stroke:rgb(100%,100%,100%);stroke-opacity:1.0;stroke-width:1.0\" width=\"0.0\" x=\"195.0\" y=\"240.0\"></rect><rect class=\"toyplot-Datum\" height=\"4.0\" style=\"fill:rgb(50.2%,50.2%,50.2%);fill-opacity:1.0;opacity:1.0;stroke:rgb(100%,100%,100%);stroke-opacity:1.0;stroke-width:1.0\" width=\"0.0\" x=\"195.0\" y=\"236.0\"></rect><rect class=\"toyplot-Datum\" height=\"4.0\" style=\"fill:rgb(50.2%,50.2%,50.2%);fill-opacity:1.0;opacity:1.0;stroke:rgb(100%,100%,100%);stroke-opacity:1.0;stroke-width:1.0\" width=\"0.0\" x=\"195.0\" y=\"232.0\"></rect><rect class=\"toyplot-Datum\" height=\"4.0\" style=\"fill:rgb(50.2%,50.2%,50.2%);fill-opacity:1.0;opacity:1.0;stroke:rgb(100%,100%,100%);stroke-opacity:1.0;stroke-width:1.0\" width=\"0.0\" x=\"195.0\" y=\"228.0\"></rect><rect class=\"toyplot-Datum\" height=\"4.0\" style=\"fill:rgb(50.2%,50.2%,50.2%);fill-opacity:1.0;opacity:1.0;stroke:rgb(100%,100%,100%);stroke-opacity:1.0;stroke-width:1.0\" width=\"0.0\" x=\"195.0\" y=\"224.0\"></rect><rect class=\"toyplot-Datum\" height=\"4.0\" style=\"fill:rgb(50.2%,50.2%,50.2%);fill-opacity:1.0;opacity:1.0;stroke:rgb(100%,100%,100%);stroke-opacity:1.0;stroke-width:1.0\" width=\"0.0\" x=\"195.0\" y=\"220.0\"></rect><rect class=\"toyplot-Datum\" height=\"4.0\" style=\"fill:rgb(50.2%,50.2%,50.2%);fill-opacity:1.0;opacity:1.0;stroke:rgb(100%,100%,100%);stroke-opacity:1.0;stroke-width:1.0\" width=\"0.0\" x=\"195.0\" y=\"216.0\"></rect><rect class=\"toyplot-Datum\" height=\"4.0\" style=\"fill:rgb(50.2%,50.2%,50.2%);fill-opacity:1.0;opacity:1.0;stroke:rgb(100%,100%,100%);stroke-opacity:1.0;stroke-width:1.0\" width=\"0.0\" x=\"195.0\" y=\"212.0\"></rect><rect class=\"toyplot-Datum\" height=\"4.0\" style=\"fill:rgb(50.2%,50.2%,50.2%);fill-opacity:1.0;opacity:1.0;stroke:rgb(100%,100%,100%);stroke-opacity:1.0;stroke-width:1.0\" width=\"0.0\" x=\"195.0\" y=\"208.0\"></rect><rect class=\"toyplot-Datum\" height=\"4.0\" style=\"fill:rgb(50.2%,50.2%,50.2%);fill-opacity:1.0;opacity:1.0;stroke:rgb(100%,100%,100%);stroke-opacity:1.0;stroke-width:1.0\" width=\"0.0\" x=\"195.0\" y=\"204.0\"></rect><rect class=\"toyplot-Datum\" height=\"4.0\" style=\"fill:rgb(50.2%,50.2%,50.2%);fill-opacity:1.0;opacity:1.0;stroke:rgb(100%,100%,100%);stroke-opacity:1.0;stroke-width:1.0\" width=\"0.0\" x=\"195.0\" y=\"200.0\"></rect><rect class=\"toyplot-Datum\" height=\"4.0000000000000284\" style=\"fill:rgb(50.2%,50.2%,50.2%);fill-opacity:1.0;opacity:1.0;stroke:rgb(100%,100%,100%);stroke-opacity:1.0;stroke-width:1.0\" width=\"0.0\" x=\"195.0\" y=\"195.99999999999997\"></rect><rect class=\"toyplot-Datum\" height=\"3.9999999999999716\" style=\"fill:rgb(50.2%,50.2%,50.2%);fill-opacity:1.0;opacity:1.0;stroke:rgb(100%,100%,100%);stroke-opacity:1.0;stroke-width:1.0\" width=\"0.0\" x=\"195.0\" y=\"192.0\"></rect><rect class=\"toyplot-Datum\" height=\"4.0\" style=\"fill:rgb(50.2%,50.2%,50.2%);fill-opacity:1.0;opacity:1.0;stroke:rgb(100%,100%,100%);stroke-opacity:1.0;stroke-width:1.0\" width=\"0.0\" x=\"195.0\" y=\"188.0\"></rect><rect class=\"toyplot-Datum\" height=\"4.0\" style=\"fill:rgb(50.2%,50.2%,50.2%);fill-opacity:1.0;opacity:1.0;stroke:rgb(100%,100%,100%);stroke-opacity:1.0;stroke-width:1.0\" width=\"0.0\" x=\"195.0\" y=\"184.0\"></rect><rect class=\"toyplot-Datum\" height=\"4.0\" style=\"fill:rgb(50.2%,50.2%,50.2%);fill-opacity:1.0;opacity:1.0;stroke:rgb(100%,100%,100%);stroke-opacity:1.0;stroke-width:1.0\" width=\"56.25\" x=\"195.0\" y=\"180.0\"></rect></g></g></g><g class=\"toyplot-coordinates-Axis\" id=\"ta297ae3445e446fa91feeadf2184265e\" transform=\"translate(195.0,380.0)rotate(-90.0)translate(0,-0.5)\"><line style=\"\" x1=\"0\" x2=\"200.0\" y1=\"0\" y2=\"0\"></line><g class=\"toyplot-coordinates-Axis-coordinates\" style=\"visibility:hidden\" transform=\"\"><line style=\"stroke:rgb(43.9%,50.2%,56.5%);stroke-opacity:1.0;stroke-width:1.0\" x1=\"0\" x2=\"0\" y1=\"3.0\" y2=\"-4.5\"></line><text style=\"alignment-baseline:hanging;fill:rgb(43.9%,50.2%,56.5%);fill-opacity:1.0;font-size:10px;font-weight:normal;stroke:none;text-anchor:middle\" x=\"0\" y=\"6\"></text></g></g></g><g class=\"toyplot-coordinates-Cartesian\" id=\"t7388c178d093418daec9d0cce1b7625b\"><clipPath id=\"t29d040f58d5a4de1a08fce15870bf337\"><rect height=\"220.0\" width=\"245.0\" x=\"35.0\" y=\"170.0\"></rect></clipPath><g clip-path=\"url(#t29d040f58d5a4de1a08fce15870bf337)\"><g class=\"toyplot-mark-AxisLines\" id=\"te390413c99504b139a8050fb0d718194\" style=\"stroke-dasharray:5, 10\"><g class=\"toyplot-Series\"><line class=\"toyplot-Datum\" style=\"opacity:1.0;stroke:rgb(16.1%,15.3%,14.1%);stroke-dasharray:5, 10;stroke-opacity:1.0\" x1=\"45.0\" x2=\"270.0\" y1=\"280.0\" y2=\"280.0\"></line></g></g></g></g><g class=\"toyplot-coordinates-Cartesian\" id=\"t14981847a4c1447f9a18cfe3d15ef543\"><clipPath id=\"te8c6c5bcd136465180b87b5fde487c14\"><rect height=\"121.0\" width=\"226.0\" x=\"44.5\" y=\"19.5\"></rect></clipPath><g clip-path=\"url(#te8c6c5bcd136465180b87b5fde487c14)\"><g class=\"toyplot-mark-BarMagnitudes\" id=\"t71ea7262846247368ad2f19a8770236f\" style=\"stroke:rgb(100%,100%,100%);stroke-opacity:1.0;stroke-width:1.0\"><g class=\"toyplot-Series\"><rect class=\"toyplot-Datum\" height=\"17.185110139018661\" style=\"fill:rgb(55.3%,62.7%,79.6%);fill-opacity:1.0;opacity:0.75;stroke:rgb(100%,100%,100%);stroke-opacity:1.0;stroke-width:1.0\" width=\"75.0\" x=\"45.0\" y=\"122.81488986098134\"></rect><rect class=\"toyplot-Datum\" height=\"7.1783987581546\" style=\"fill:rgb(55.3%,62.7%,79.6%);fill-opacity:1.0;opacity:0.75;stroke:rgb(100%,100%,100%);stroke-opacity:1.0;stroke-width:1.0\" width=\"75.0\" x=\"120.0\" y=\"132.8216012418454\"></rect><rect class=\"toyplot-Datum\" height=\"0.0\" style=\"fill:rgb(55.3%,62.7%,79.6%);fill-opacity:1.0;opacity:0.75;stroke:rgb(100%,100%,100%);stroke-opacity:1.0;stroke-width:1.0\" width=\"75.0\" x=\"195.0\" y=\"140.0\"></rect></g></g><g class=\"toyplot-mark-AxisLines\" id=\"t6697850e990d46bd8f5809925ecbd2e5\" style=\"stroke-dasharray:5, 10\"><g class=\"toyplot-Series\"><line class=\"toyplot-Datum\" style=\"opacity:1.0;stroke:rgb(16.1%,15.3%,14.1%);stroke-dasharray:5, 10;stroke-opacity:1.0\" x1=\"45.0\" x2=\"270.0\" y1=\"22.402160927596753\" y2=\"22.402160927596753\"></line></g></g></g><g class=\"toyplot-coordinates-Axis\" id=\"t6cd4d8e6f6af487ca8ca95014aab31e2\" transform=\"translate(45.0,140.0)rotate(-90.0)translate(0,-0.5)\"><line style=\"\" x1=\"0\" x2=\"17.185110139018676\" y1=\"0\" y2=\"0\"></line><g><text style=\"dominant-baseline:alphabetic;font-size:12px;font-weight:normal;stroke:none;text-anchor:middle\" transform=\"translate(0.0,-10.0)\"><tspan style=\"dominant-baseline:inherit\">0.0</tspan></text><text style=\"dominant-baseline:alphabetic;font-size:12px;font-weight:normal;stroke:none;text-anchor:middle\" transform=\"translate(30.0,-10.0)\"><tspan style=\"dominant-baseline:inherit\">0.5</tspan></text><text style=\"dominant-baseline:alphabetic;font-size:12px;font-weight:normal;stroke:none;text-anchor:middle\" transform=\"translate(60.0,-10.0)\"><tspan style=\"dominant-baseline:inherit\">1.0</tspan></text><text style=\"dominant-baseline:alphabetic;font-size:12px;font-weight:normal;stroke:none;text-anchor:middle\" transform=\"translate(90.0,-10.0)\"><tspan style=\"dominant-baseline:inherit\">1.5</tspan></text><text style=\"dominant-baseline:alphabetic;font-size:12px;font-weight:normal;stroke:none;text-anchor:middle\" transform=\"translate(120.0,-10.0)\"><tspan style=\"dominant-baseline:inherit\">2.0</tspan></text></g><text style=\"dominant-baseline:alphabetic;fill:rgb(16.1%,15.3%,14.1%);fill-opacity:1.0;font-size:16px;font-weight:bold;stroke:none;text-anchor:middle\" transform=\"translate(60.0,-30.0)\"><tspan style=\"dominant-baseline:inherit\">Z-score</tspan></text><g class=\"toyplot-coordinates-Axis-coordinates\" style=\"visibility:hidden\" transform=\"\"><line style=\"stroke:rgb(43.9%,50.2%,56.5%);stroke-opacity:1.0;stroke-width:1.0\" x1=\"0\" x2=\"0\" y1=\"5.0\" y2=\"-7.5\"></line><text style=\"alignment-baseline:hanging;fill:rgb(43.9%,50.2%,56.5%);fill-opacity:1.0;font-size:10px;font-weight:normal;stroke:none;text-anchor:middle\" x=\"0\" y=\"10.0\"></text></g></g></g></svg><div class=\"toyplot-interactive\"><ul class=\"toyplot-mark-popup\" onmouseleave=\"this.style.visibility='hidden'\" style=\"background:rgba(0%,0%,0%,0.75);border:0;border-radius:6px;color:white;cursor:default;list-style:none;margin:0;padding:5px;position:fixed;visibility:hidden\">\n",
       "            <li class=\"toyplot-mark-popup-title\" style=\"color:lightgray;cursor:default;padding:5px;list-style:none;margin:0\"></li>\n",
       "            <li class=\"toyplot-mark-popup-save-csv\" onmouseout=\"this.style.color='white';this.style.background='steelblue'\" onmouseover=\"this.style.color='steelblue';this.style.background='white'\" style=\"border-radius:3px;padding:5px;list-style:none;margin:0\">\n",
       "                Save as .csv\n",
       "            </li>\n",
       "        </ul><script>\n",
       "        (function()\n",
       "        {\n",
       "          var data_tables = [{\"title\": \"Bar Data\", \"names\": [\"left\", \"right\", \"baseline\", \"magnitude0\"], \"id\": \"tbbdab0a8576546a99826449350b7ddbe\", \"columns\": [[-1.0, -0.96, -0.92, -0.88, -0.84, -0.8, -0.76, -0.72, -0.6799999999999999, -0.64, -0.6, -0.56, -0.52, -0.48, -0.43999999999999995, -0.4, -0.36, -0.31999999999999995, -0.28, -0.24, -0.19999999999999996, -0.16000000000000003, -0.12, -0.07999999999999996, -0.040000000000000036, 0.0, 0.040000000000000036, 0.08000000000000007, 0.1200000000000001, 0.15999999999999992, 0.19999999999999996, 0.24, 0.28, 0.32000000000000006, 0.3600000000000001, 0.40000000000000013, 0.43999999999999995, 0.48, 0.52, 0.56, 0.6000000000000001, 0.6400000000000001, 0.6799999999999999, 0.72, 0.76, 0.8, 0.8400000000000001, 0.8800000000000001, 0.9199999999999999, 0.96], [-0.96, -0.92, -0.88, -0.84, -0.8, -0.76, -0.72, -0.6799999999999999, -0.64, -0.6, -0.56, -0.52, -0.48, -0.43999999999999995, -0.4, -0.36, -0.31999999999999995, -0.28, -0.24, -0.19999999999999996, -0.16000000000000003, -0.12, -0.07999999999999996, -0.040000000000000036, 0.0, 0.040000000000000036, 0.08000000000000007, 0.1200000000000001, 0.15999999999999992, 0.19999999999999996, 0.24, 0.28, 0.32000000000000006, 0.3600000000000001, 0.40000000000000013, 0.43999999999999995, 0.48, 0.52, 0.56, 0.6000000000000001, 0.6400000000000001, 0.6799999999999999, 0.72, 0.76, 0.8, 0.8400000000000001, 0.8800000000000001, 0.9199999999999999, 0.96, 1.0], [0.0, 0.0, 0.0, 0.0, 0.0, 0.0, 0.0, 0.0, 0.0, 0.0, 0.0, 0.0, 0.0, 0.0, 0.0, 0.0, 0.0, 0.0, 0.0, 0.0, 0.0, 0.0, 0.0, 0.0, 0.0, 0.0, 0.0, 0.0, 0.0, 0.0, 0.0, 0.0, 0.0, 0.0, 0.0, 0.0, 0.0, 0.0, 0.0, 0.0, 0.0, 0.0, 0.0, 0.0, 0.0, 0.0, 0.0, 0.0, 0.0, 0.0], [0.0, 0.0, 0.0, 0.0, 0.0, 0.0, 0.0, 0.0, 0.0, 0.0, 0.0, 0.0, 0.0, 0.0, 0.0, 0.0, 0.0, 0.0, 0.0, 0.0, 0.0, 0.0, 0.0, 0.0, 9.524999999999991, 15.474999999999985, 0.0, 0.0, 0.0, 0.0, 0.0, 0.0, 0.0, 0.0, 0.0, 0.0, 0.0, 0.0, 0.0, 0.0, 0.0, 0.0, 0.0, 0.0, 0.0, 0.0, 0.0, 0.0, 0.0, 0.0]], \"filename\": \"toyplot\"}, {\"title\": \"Bar Data\", \"names\": [\"left\", \"right\", \"baseline\", \"magnitude0\"], \"id\": \"t772a4ca248da409a837ba8c385b7da83\", \"columns\": [[-1.0, -0.96, -0.92, -0.88, -0.84, -0.8, -0.76, -0.72, -0.6799999999999999, -0.64, -0.6, -0.56, -0.52, -0.48, -0.43999999999999995, -0.4, -0.36, -0.31999999999999995, -0.28, -0.24, -0.19999999999999996, -0.16000000000000003, -0.12, -0.07999999999999996, -0.040000000000000036, 0.0, 0.040000000000000036, 0.08000000000000007, 0.1200000000000001, 0.15999999999999992, 0.19999999999999996, 0.24, 0.28, 0.32000000000000006, 0.3600000000000001, 0.40000000000000013, 0.43999999999999995, 0.48, 0.52, 0.56, 0.6000000000000001, 0.6400000000000001, 0.6799999999999999, 0.72, 0.76, 0.8, 0.8400000000000001, 0.8800000000000001, 0.9199999999999999, 0.96], [-0.96, -0.92, -0.88, -0.84, -0.8, -0.76, -0.72, -0.6799999999999999, -0.64, -0.6, -0.56, -0.52, -0.48, -0.43999999999999995, -0.4, -0.36, -0.31999999999999995, -0.28, -0.24, -0.19999999999999996, -0.16000000000000003, -0.12, -0.07999999999999996, -0.040000000000000036, 0.0, 0.040000000000000036, 0.08000000000000007, 0.1200000000000001, 0.15999999999999992, 0.19999999999999996, 0.24, 0.28, 0.32000000000000006, 0.3600000000000001, 0.40000000000000013, 0.43999999999999995, 0.48, 0.52, 0.56, 0.6000000000000001, 0.6400000000000001, 0.6799999999999999, 0.72, 0.76, 0.8, 0.8400000000000001, 0.8800000000000001, 0.9199999999999999, 0.96, 1.0], [0.0, 0.0, 0.0, 0.0, 0.0, 0.0, 0.0, 0.0, 0.0, 0.0, 0.0, 0.0, 0.0, 0.0, 0.0, 0.0, 0.0, 0.0, 0.0, 0.0, 0.0, 0.0, 0.0, 0.0, 0.0, 0.0, 0.0, 0.0, 0.0, 0.0, 0.0, 0.0, 0.0, 0.0, 0.0, 0.0, 0.0, 0.0, 0.0, 0.0, 0.0, 0.0, 0.0, 0.0, 0.0, 0.0, 0.0, 0.0, 0.0, 0.0], [0.0, 0.0, 0.0, 0.0, 0.0, 0.0, 0.0, 0.0, 0.0, 0.0, 0.0, 0.0, 0.0, 0.0, 0.0, 0.0, 0.0, 0.0, 0.0, 0.0, 0.0, 0.0, 0.0, 0.05000000000000009, 14.024999999999988, 10.92499999999999, 0.0, 0.0, 0.0, 0.0, 0.0, 0.0, 0.0, 0.0, 0.0, 0.0, 0.0, 0.0, 0.0, 0.0, 0.0, 0.0, 0.0, 0.0, 0.0, 0.0, 0.0, 0.0, 0.0, 0.0]], \"filename\": \"toyplot\"}, {\"title\": \"Bar Data\", \"names\": [\"left\", \"right\", \"baseline\", \"magnitude0\"], \"id\": \"t1c848af4209d403aba367a4281ea8aad\", \"columns\": [[-1.0, -0.96, -0.92, -0.88, -0.84, -0.8, -0.76, -0.72, -0.6799999999999999, -0.64, -0.6, -0.56, -0.52, -0.48, -0.43999999999999995, -0.4, -0.36, -0.31999999999999995, -0.28, -0.24, -0.19999999999999996, -0.16000000000000003, -0.12, -0.07999999999999996, -0.040000000000000036, 0.0, 0.040000000000000036, 0.08000000000000007, 0.1200000000000001, 0.15999999999999992, 0.19999999999999996, 0.24, 0.28, 0.32000000000000006, 0.3600000000000001, 0.40000000000000013, 0.43999999999999995, 0.48, 0.52, 0.56, 0.6000000000000001, 0.6400000000000001, 0.6799999999999999, 0.72, 0.76, 0.8, 0.8400000000000001, 0.8800000000000001, 0.9199999999999999, 0.96], [-0.96, -0.92, -0.88, -0.84, -0.8, -0.76, -0.72, -0.6799999999999999, -0.64, -0.6, -0.56, -0.52, -0.48, -0.43999999999999995, -0.4, -0.36, -0.31999999999999995, -0.28, -0.24, -0.19999999999999996, -0.16000000000000003, -0.12, -0.07999999999999996, -0.040000000000000036, 0.0, 0.040000000000000036, 0.08000000000000007, 0.1200000000000001, 0.15999999999999992, 0.19999999999999996, 0.24, 0.28, 0.32000000000000006, 0.3600000000000001, 0.40000000000000013, 0.43999999999999995, 0.48, 0.52, 0.56, 0.6000000000000001, 0.6400000000000001, 0.6799999999999999, 0.72, 0.76, 0.8, 0.8400000000000001, 0.8800000000000001, 0.9199999999999999, 0.96, 1.0], [0.0, 0.0, 0.0, 0.0, 0.0, 0.0, 0.0, 0.0, 0.0, 0.0, 0.0, 0.0, 0.0, 0.0, 0.0, 0.0, 0.0, 0.0, 0.0, 0.0, 0.0, 0.0, 0.0, 0.0, 0.0, 0.0, 0.0, 0.0, 0.0, 0.0, 0.0, 0.0, 0.0, 0.0, 0.0, 0.0, 0.0, 0.0, 0.0, 0.0, 0.0, 0.0, 0.0, 0.0, 0.0, 0.0, 0.0, 0.0, 0.0, 0.0], [0.0, 0.0, 0.0, 0.0, 0.0, 0.0, 0.0, 0.0, 0.0, 0.0, 0.0, 0.0, 0.0, 0.0, 0.0, 0.0, 0.0, 0.0, 0.0, 0.0, 0.0, 0.0, 0.0, 0.0, 0.0, 0.0, 0.0, 0.0, 0.0, 0.0, 0.0, 0.0, 0.0, 0.0, 0.0, 0.0, 0.0, 0.0, 0.0, 0.0, 0.0, 0.0, 0.0, 0.0, 0.0, 0.0, 0.0, 0.0, 0.0, 24.99999999999998]], \"filename\": \"toyplot\"}, {\"title\": \"Bar Data\", \"names\": [\"left\", \"right\", \"baseline\", \"magnitude0\"], \"id\": \"t71ea7262846247368ad2f19a8770236f\", \"columns\": [[82.5, 157.5, 232.5], [157.5, 232.5, 307.5], [0.0, 0.0, 0.0], [0.2864185023169779, 0.11963997930257643, 0.0]], \"filename\": \"toyplot\"}];\n",
       "\n",
       "          function save_csv(data_table)\n",
       "          {\n",
       "            var uri = \"data:text/csv;charset=utf-8,\";\n",
       "            uri += data_table.names.join(\",\") + \"\\n\";\n",
       "            for(var i = 0; i != data_table.columns[0].length; ++i)\n",
       "            {\n",
       "              for(var j = 0; j != data_table.columns.length; ++j)\n",
       "              {\n",
       "                if(j)\n",
       "                  uri += \",\";\n",
       "                uri += data_table.columns[j][i];\n",
       "              }\n",
       "              uri += \"\\n\";\n",
       "            }\n",
       "            uri = encodeURI(uri);\n",
       "\n",
       "            var link = document.createElement(\"a\");\n",
       "            if(typeof link.download != \"undefined\")\n",
       "            {\n",
       "              link.href = uri;\n",
       "              link.style = \"visibility:hidden\";\n",
       "              link.download = data_table.filename + \".csv\";\n",
       "\n",
       "              document.body.appendChild(link);\n",
       "              link.click();\n",
       "              document.body.removeChild(link);\n",
       "            }\n",
       "            else\n",
       "            {\n",
       "              window.open(uri);\n",
       "            }\n",
       "          }\n",
       "\n",
       "          function open_popup(data_table)\n",
       "          {\n",
       "            return function(e)\n",
       "            {\n",
       "              var popup = document.querySelector(\"#t495bc2ddc5304cc1b04dfa42820b39c2 .toyplot-mark-popup\");\n",
       "              popup.querySelector(\".toyplot-mark-popup-title\").innerHTML = data_table.title;\n",
       "              popup.querySelector(\".toyplot-mark-popup-save-csv\").onclick = function() { popup.style.visibility = \"hidden\"; save_csv(data_table); }\n",
       "              popup.style.left = (e.clientX - 50) + \"px\";\n",
       "              popup.style.top = (e.clientY - 20) + \"px\";\n",
       "              popup.style.visibility = \"visible\";\n",
       "              e.stopPropagation();\n",
       "              e.preventDefault();\n",
       "            }\n",
       "\n",
       "          }\n",
       "\n",
       "          for(var i = 0; i != data_tables.length; ++i)\n",
       "          {\n",
       "            var data_table = data_tables[i];\n",
       "            var event_target = document.querySelector(\"#\" + data_table.id);\n",
       "            event_target.oncontextmenu = open_popup(data_table);\n",
       "          }\n",
       "        })();\n",
       "        </script><script>\n",
       "        (function()\n",
       "        {\n",
       "            function _sign(x)\n",
       "            {\n",
       "                return x < 0 ? -1 : x > 0 ? 1 : 0;\n",
       "            }\n",
       "\n",
       "            function _mix(a, b, amount)\n",
       "            {\n",
       "                return ((1.0 - amount) * a) + (amount * b);\n",
       "            }\n",
       "\n",
       "            function _log(x, base)\n",
       "            {\n",
       "                return Math.log(Math.abs(x)) / Math.log(base);\n",
       "            }\n",
       "\n",
       "            function _in_range(a, x, b)\n",
       "            {\n",
       "                var left = Math.min(a, b);\n",
       "                var right = Math.max(a, b);\n",
       "                return left <= x && x <= right;\n",
       "            }\n",
       "\n",
       "            function inside(range, projection)\n",
       "            {\n",
       "                for(var i = 0; i != projection.length; ++i)\n",
       "                {\n",
       "                    var segment = projection[i];\n",
       "                    if(_in_range(segment.range.min, range, segment.range.max))\n",
       "                        return true;\n",
       "                }\n",
       "                return false;\n",
       "            }\n",
       "\n",
       "            function to_domain(range, projection)\n",
       "            {\n",
       "                for(var i = 0; i != projection.length; ++i)\n",
       "                {\n",
       "                    var segment = projection[i];\n",
       "                    if(_in_range(segment.range.bounds.min, range, segment.range.bounds.max))\n",
       "                    {\n",
       "                        if(segment.scale == \"linear\")\n",
       "                        {\n",
       "                            var amount = (range - segment.range.min) / (segment.range.max - segment.range.min);\n",
       "                            return _mix(segment.domain.min, segment.domain.max, amount)\n",
       "                        }\n",
       "                        else if(segment.scale[0] == \"log\")\n",
       "                        {\n",
       "                            var amount = (range - segment.range.min) / (segment.range.max - segment.range.min);\n",
       "                            var base = segment.scale[1];\n",
       "                            return _sign(segment.domain.min) * Math.pow(base, _mix(_log(segment.domain.min, base), _log(segment.domain.max, base), amount));\n",
       "                        }\n",
       "                    }\n",
       "                }\n",
       "            }\n",
       "\n",
       "            function display_coordinates(e)\n",
       "            {\n",
       "                var current = svg.createSVGPoint();\n",
       "                current.x = e.clientX;\n",
       "                current.y = e.clientY;\n",
       "\n",
       "                for(var axis_id in axes)\n",
       "                {\n",
       "                    var axis = document.querySelector(\"#\" + axis_id);\n",
       "                    var coordinates = axis.querySelector(\".toyplot-coordinates-Axis-coordinates\");\n",
       "                    if(coordinates)\n",
       "                    {\n",
       "                        var projection = axes[axis_id];\n",
       "                        var local = current.matrixTransform(axis.getScreenCTM().inverse());\n",
       "                        if(inside(local.x, projection))\n",
       "                        {\n",
       "                            var domain = to_domain(local.x, projection);\n",
       "                            coordinates.style.visibility = \"visible\";\n",
       "                            coordinates.setAttribute(\"transform\", \"translate(\" + local.x + \")\");\n",
       "                            var text = coordinates.querySelector(\"text\");\n",
       "                            text.textContent = domain.toFixed(2);\n",
       "                        }\n",
       "                        else\n",
       "                        {\n",
       "                            coordinates.style.visibility= \"hidden\";\n",
       "                        }\n",
       "                    }\n",
       "                }\n",
       "            }\n",
       "\n",
       "            var root_id = \"t495bc2ddc5304cc1b04dfa42820b39c2\";\n",
       "            var axes = {\"t6cd4d8e6f6af487ca8ca95014aab31e2\": [{\"domain\": {\"bounds\": {\"max\": Infinity, \"min\": -Infinity}, \"max\": 2.0, \"min\": 0.0}, \"range\": {\"bounds\": {\"max\": Infinity, \"min\": -Infinity}, \"max\": 120.0, \"min\": 0.0}, \"scale\": \"linear\"}], \"ta297ae3445e446fa91feeadf2184265e\": [{\"domain\": {\"bounds\": {\"max\": Infinity, \"min\": -Infinity}, \"max\": 1.0, \"min\": -1.0}, \"range\": {\"bounds\": {\"max\": Infinity, \"min\": -Infinity}, \"max\": 200.0, \"min\": 0.0}, \"scale\": \"linear\"}], \"tafd3a875e3d6468da061b22c959319c3\": [{\"domain\": {\"bounds\": {\"max\": Infinity, \"min\": -Infinity}, \"max\": 1.0, \"min\": -1.0}, \"range\": {\"bounds\": {\"max\": Infinity, \"min\": -Infinity}, \"max\": 200.0, \"min\": 0.0}, \"scale\": \"linear\"}], \"tba94e68d4b5447d6a5473552f3eb9aed\": [{\"domain\": {\"bounds\": {\"max\": Infinity, \"min\": -Infinity}, \"max\": 1.0, \"min\": -1.0}, \"range\": {\"bounds\": {\"max\": Infinity, \"min\": -Infinity}, \"max\": 200.0, \"min\": 0.0}, \"scale\": \"linear\"}]};\n",
       "\n",
       "            var svg = document.querySelector(\"#\" + root_id + \" svg\");\n",
       "            svg.addEventListener(\"click\", display_coordinates);\n",
       "        })();\n",
       "        </script></div></div>"
      ],
      "text/plain": [
       "<toyplot.canvas.Canvas at 0x7f830af9b850>"
      ]
     },
     "execution_count": 36,
     "metadata": {},
     "output_type": "execute_result"
    }
   ],
   "source": [
    "baba.bootplot(r, b, width=300)"
   ]
  },
  {
   "cell_type": "code",
   "execution_count": 40,
   "metadata": {
    "collapsed": false,
    "deletable": true,
    "editable": true
   },
   "outputs": [
    {
     "name": "stdout",
     "output_type": "stream",
     "text": [
      "           dstat  bootmean   bootstd     abxxa     baxxa         Z\n",
      "p3      0.006717  0.005618  0.028301  384.0625  378.9375  0.237336\n",
      "p4      0.082609  0.081418  0.140152   31.1250   26.3750  0.589423\n",
      "shared  0.006858  0.006667  0.021331  683.6250  674.3125  0.321494\n"
     ]
    }
   ],
   "source": [
    "sims = demography(20000, Ns=1e6, mut=1e-9, mig=0, gen=250, scen=1)\n",
    "r, b = baba.baba(sims, test, None, 1000)\n",
    "print r"
   ]
  },
  {
   "cell_type": "code",
   "execution_count": 52,
   "metadata": {
    "collapsed": false,
    "deletable": true,
    "editable": true,
    "scrolled": false
   },
   "outputs": [],
   "source": [
    "#arr[:3, :, :5]\n",
    "r,b = runit(20000, Ns=500000, mut=1e-8, mig=1e-7, gen=200, nboots=1000, test=tt, scen=0)"
   ]
  },
  {
   "cell_type": "code",
   "execution_count": null,
   "metadata": {
    "collapsed": true,
    "deletable": true,
    "editable": true
   },
   "outputs": [],
   "source": [
    "print r"
   ]
  },
  {
   "cell_type": "code",
   "execution_count": 51,
   "metadata": {
    "collapsed": false,
    "deletable": true,
    "editable": true
   },
   "outputs": [
    {
     "name": "stdout",
     "output_type": "stream",
     "text": [
      "        dstat  bootmean   bootstd       abba      baba         Z\n",
      "P3   0.030719  0.030396  0.006319  6305.8750  5930.000  4.861042\n",
      "P4  -0.020440 -0.014946  0.087674   155.7500   162.250  0.233139\n",
      "P34 -0.002844 -0.002724  0.006765  7089.6875  7130.125  0.420368\n"
     ]
    }
   ],
   "source": [
    "print r"
   ]
  },
  {
   "cell_type": "code",
   "execution_count": 115,
   "metadata": {
    "collapsed": false,
    "deletable": true,
    "editable": true
   },
   "outputs": [
    {
     "name": "stdout",
     "output_type": "stream",
     "text": [
      "        dstat  bootmean   bootstd         abba      baba           Z\n",
      "P3   0.970319  0.970239  0.003995  2103.523438   31.6875  242.854941\n",
      "P4  -0.009879 -0.010505  0.045515   239.593750  244.3750    0.217053\n",
      "P34 -0.011613 -0.012013  0.028077   468.125000  479.1250    0.413592\n"
     ]
    }
   ],
   "source": [
    "r, b = runit(20000, 100000, 1e6, 20, 1000, tt, scen=0)\n",
    "print r"
   ]
  },
  {
   "cell_type": "code",
   "execution_count": 116,
   "metadata": {
    "collapsed": false,
    "deletable": true,
    "editable": true
   },
   "outputs": [
    {
     "name": "stdout",
     "output_type": "stream",
     "text": [
      "        dstat  bootmean   bootstd       abba        baba          Z\n",
      "P3   0.792902  0.793191  0.009480  1982.3125  228.976562  83.639490\n",
      "P4  -0.165720 -0.161074  0.117543    25.2500   35.281250   1.409871\n",
      "P34 -0.014695 -0.013744  0.042925   159.2500  164.000000   0.342328\n"
     ]
    }
   ],
   "source": [
    "r, b = runit(100000, 100000, 1e6, 20, 1000, tt, scen=1)\n",
    "print r"
   ]
  },
  {
   "cell_type": "code",
   "execution_count": null,
   "metadata": {
    "collapsed": false,
    "deletable": true,
    "editable": true
   },
   "outputs": [],
   "source": []
  },
  {
   "cell_type": "code",
   "execution_count": 82,
   "metadata": {
    "collapsed": false,
    "deletable": true,
    "editable": true
   },
   "outputs": [
    {
     "name": "stdout",
     "output_type": "stream",
     "text": [
      "        dstat  bootmean   bootstd      abba      baba           Z\n",
      "P3   0.954375  0.954436  0.003824  3665.125   85.5625  249.562064\n",
      "P4  -0.256637 -0.257502  0.130312    21.000   35.5000    1.969408\n",
      "P34 -0.009901 -0.010298  0.045488   162.500  165.7500    0.217659\n"
     ]
    }
   ],
   "source": [
    "r, b = runit(100000, 100000, 1e5, 20, 1000, tt, scen=1)\n",
    "print r"
   ]
  },
  {
   "cell_type": "code",
   "execution_count": null,
   "metadata": {
    "collapsed": true,
    "deletable": true,
    "editable": true
   },
   "outputs": [],
   "source": [
    "r, b = runit(100000, 100000, 1e5, 20, 1000, tt, scen=0)\n",
    "print r"
   ]
  },
  {
   "cell_type": "code",
   "execution_count": 31,
   "metadata": {
    "collapsed": false,
    "deletable": true,
    "editable": true
   },
   "outputs": [
    {
     "name": "stdout",
     "output_type": "stream",
     "text": [
      "        dstat  bootmean   bootstd        abba      baba          Z\n",
      "P34  0.547419  0.547287  0.012821  1582.18750  462.7500  42.697929\n",
      "P3  -0.002497 -0.003485  0.018138   805.28125  809.3125   0.137657\n",
      "P4   0.002693  0.003250  0.026019   302.50000  300.8750   0.103508\n"
     ]
    }
   ],
   "source": [
    "r, b = runit(10000, 50000, 1e6, 1000)\n",
    "print r"
   ]
  },
  {
   "cell_type": "code",
   "execution_count": 32,
   "metadata": {
    "collapsed": false,
    "deletable": true,
    "editable": true
   },
   "outputs": [
    {
     "name": "stdout",
     "output_type": "stream",
     "text": [
      "        dstat  bootmean   bootstd         abba        baba          Z\n",
      "P34  0.538530  0.538596  0.012667  1547.015625  464.015625  42.515025\n",
      "P3  -0.000055  0.000106  0.019260   856.812500  856.906250   0.002840\n",
      "P4  -0.025000 -0.026325  0.027314   277.875000  292.125000   0.915297\n"
     ]
    }
   ],
   "source": [
    "r, b = runit(10000, 100000, 1e6, 1000)\n",
    "print r"
   ]
  },
  {
   "cell_type": "code",
   "execution_count": 33,
   "metadata": {
    "collapsed": false,
    "deletable": true,
    "editable": true
   },
   "outputs": [
    {
     "name": "stdout",
     "output_type": "stream",
     "text": [
      "        dstat  bootmean   bootstd         abba        baba          Z\n",
      "P34  0.556828  0.556740  0.012769  1590.859375  452.859375  43.607025\n",
      "P3   0.018989  0.019082  0.018656   846.843750  815.281250   1.017842\n",
      "P4  -0.008844 -0.008144  0.027438   280.187500  285.187500   0.322313\n"
     ]
    }
   ],
   "source": [
    "r, b = runit(10000, 10000, 2e6, 1000)\n",
    "print r"
   ]
  },
  {
   "cell_type": "code",
   "execution_count": 34,
   "metadata": {
    "collapsed": false,
    "deletable": true,
    "editable": true
   },
   "outputs": [
    {
     "name": "stdout",
     "output_type": "stream",
     "text": [
      "        dstat  bootmean   bootstd         abba        baba          Z\n",
      "P34  0.553465  0.553561  0.012521  1581.937500  454.718750  44.203435\n",
      "P3   0.009872  0.010489  0.018644   867.890625  850.921875   0.529515\n",
      "P4  -0.019096 -0.020704  0.026444   288.937500  300.187500   0.722143\n"
     ]
    }
   ],
   "source": [
    "r, b = runit(10000, 10000, 5e6, 1000)\n",
    "print r"
   ]
  },
  {
   "cell_type": "code",
   "execution_count": 27,
   "metadata": {
    "collapsed": false,
    "deletable": true,
    "editable": true
   },
   "outputs": [
    {
     "name": "stdout",
     "output_type": "stream",
     "text": [
      "        dstat  bootmean   bootstd        abba        baba         Z\n",
      "P34  0.189144  0.189578  0.019721  759.250000  517.718750  9.591172\n",
      "P3  -0.007068 -0.007904  0.019309  726.515625  736.859375  0.366070\n",
      "P4  -0.070981 -0.069757  0.026522  222.500000  256.500000  2.676355\n"
     ]
    }
   ],
   "source": [
    "## make res into a nice DataFrame\n",
    "res = pd.DataFrame(r, \n",
    "        index=[\"P34\", \"P3\", \"P4\"],\n",
    "        columns=[\"dstat\", \"bootmean\", \"bootstd\", \"abba\", \"baba\", \"Z\"])\n",
    "\n",
    "## good results\n",
    "print res"
   ]
  },
  {
   "cell_type": "code",
   "execution_count": 100,
   "metadata": {
    "collapsed": false,
    "deletable": true,
    "editable": true
   },
   "outputs": [
    {
     "name": "stdout",
     "output_type": "stream",
     "text": [
      "[[  6.79235814e-01   6.79642962e-01   1.02018268e-02   1.52926562e+03\n",
      "    2.92117188e+02   6.65798224e+01]\n",
      " [ -6.00049774e-03  -6.35237164e-03   1.51571498e-02   1.26375000e+03\n",
      "    1.27900781e+03   3.95885625e-01]\n",
      " [ -1.50168940e-03  -1.33816625e-03   2.06945410e-02   4.98687500e+02\n",
      "    5.00187500e+02   7.25645184e-02]]\n"
     ]
    }
   ],
   "source": [
    "## introgression C->B\n",
    "tt =    {\n",
    "    'p5': ['a', 'b', 'c', 'd'],\n",
    "    'p4': ['l'],\n",
    "    'p3': ['i', 'j'],\n",
    "    'p2': ['e', 'f'],\n",
    "    'p1': ['g'],\n",
    "}\n",
    "\n",
    "## run tests\n",
    "sims = demography(50000)\n",
    "arr = baba._msp_to_arr(sims, tt)\n",
    "r, b = baba._get_signif_5(arr, 1000)\n",
    "print r"
   ]
  },
  {
   "cell_type": "code",
   "execution_count": 149,
   "metadata": {
    "collapsed": false,
    "deletable": true,
    "editable": true
   },
   "outputs": [
    {
     "data": {
      "text/plain": [
       "{'p1': ['g'],\n",
       " 'p2': ['e', 'f'],\n",
       " 'p3': ['i', 'j'],\n",
       " 'p4': ['k'],\n",
       " 'p5': ['a', 'b', 'c', 'd']}"
      ]
     },
     "execution_count": 149,
     "metadata": {},
     "output_type": "execute_result"
    }
   ],
   "source": [
    "tt"
   ]
  },
  {
   "cell_type": "code",
   "execution_count": 152,
   "metadata": {
    "collapsed": false,
    "deletable": true,
    "editable": true
   },
   "outputs": [
    {
     "name": "stdout",
     "output_type": "stream",
     "text": [
      "[[  7.39171823e-01   7.37038940e-01   4.87416399e-02   1.14187500e+02\n",
      "    1.71250000e+01   1.51650996e+01]\n",
      " [  9.28571429e-01   9.13038719e-01   1.30647937e-01   6.75000000e+00\n",
      "    2.50000000e-01   7.10743279e+00]\n",
      " [  3.10756972e-02   2.76365236e-02   7.36165020e-02   8.08750000e+01\n",
      "    7.60000000e+01   4.22129501e-01]]\n"
     ]
    }
   ],
   "source": [
    "sims = demography(1000)\n",
    "arr = _msp_to_arr(sims, tt)\n",
    "r, b = baba.baba(arr, tt, nboots=1000)#_get_signif_5(arr, 1000)\n",
    "print r"
   ]
  },
  {
   "cell_type": "code",
   "execution_count": 156,
   "metadata": {
    "collapsed": false,
    "deletable": true,
    "editable": true
   },
   "outputs": [
    {
     "name": "stdout",
     "output_type": "stream",
     "text": [
      "        dstat  bootmean   bootstd    abba    baba           Z\n",
      "P3   0.996344  0.996174  0.002720  204.75   0.375  366.330923\n",
      "P4  -0.244094 -0.246417  0.137884   18.00  29.625    1.770295\n",
      "P34 -0.022727 -0.020885  0.088375   43.00  45.000    0.257167\n"
     ]
    }
   ],
   "source": [
    "r,b = runit(10000, 100000, 1e6, 2, 1000, tt, scen=0)\n",
    "print r"
   ]
  },
  {
   "cell_type": "code",
   "execution_count": 157,
   "metadata": {
    "collapsed": false,
    "deletable": true,
    "editable": true
   },
   "outputs": [
    {
     "ename": "ZeroDivisionError",
     "evalue": "division by zero",
     "output_type": "error",
     "traceback": [
      "\u001b[0;31m---------------------------------------------------------------------------\u001b[0m",
      "\u001b[0;31mZeroDivisionError\u001b[0m                         Traceback (most recent call last)",
      "\u001b[0;32m<ipython-input-157-3dc5458422ed>\u001b[0m in \u001b[0;36m<module>\u001b[0;34m()\u001b[0m\n\u001b[0;32m----> 1\u001b[0;31m \u001b[0mr\u001b[0m\u001b[0;34m,\u001b[0m\u001b[0mb\u001b[0m \u001b[0;34m=\u001b[0m \u001b[0mrunit\u001b[0m\u001b[0;34m(\u001b[0m\u001b[0;36m10000\u001b[0m\u001b[0;34m,\u001b[0m \u001b[0;36m100000\u001b[0m\u001b[0;34m,\u001b[0m \u001b[0;36m0\u001b[0m\u001b[0;34m,\u001b[0m \u001b[0;36m20\u001b[0m\u001b[0;34m,\u001b[0m \u001b[0;36m1000\u001b[0m\u001b[0;34m,\u001b[0m \u001b[0mtt\u001b[0m\u001b[0;34m,\u001b[0m \u001b[0mscen\u001b[0m\u001b[0;34m=\u001b[0m\u001b[0;36m0\u001b[0m\u001b[0;34m)\u001b[0m\u001b[0;34m\u001b[0m\u001b[0m\n\u001b[0m\u001b[1;32m      2\u001b[0m \u001b[0;32mprint\u001b[0m \u001b[0mr\u001b[0m\u001b[0;34m\u001b[0m\u001b[0m\n",
      "\u001b[0;32m<ipython-input-117-5a8e6ff690a1>\u001b[0m in \u001b[0;36mrunit\u001b[0;34m(nreps, Ns, m, gen, nboots, test, scen)\u001b[0m\n\u001b[1;32m     21\u001b[0m     \u001b[0msims\u001b[0m \u001b[0;34m=\u001b[0m \u001b[0mdemography\u001b[0m\u001b[0;34m(\u001b[0m\u001b[0mnreps\u001b[0m\u001b[0;34m,\u001b[0m \u001b[0mNs\u001b[0m\u001b[0;34m=\u001b[0m\u001b[0mNs\u001b[0m\u001b[0;34m,\u001b[0m \u001b[0mgen\u001b[0m\u001b[0;34m=\u001b[0m\u001b[0mgen\u001b[0m\u001b[0;34m,\u001b[0m \u001b[0mm\u001b[0m\u001b[0;34m=\u001b[0m\u001b[0mm\u001b[0m\u001b[0;34m,\u001b[0m \u001b[0mscen\u001b[0m\u001b[0;34m=\u001b[0m\u001b[0mscen\u001b[0m\u001b[0;34m)\u001b[0m\u001b[0;34m\u001b[0m\u001b[0m\n\u001b[1;32m     22\u001b[0m     \u001b[0marr\u001b[0m \u001b[0;34m=\u001b[0m \u001b[0mbaba\u001b[0m\u001b[0;34m.\u001b[0m\u001b[0m_msp_to_arr\u001b[0m\u001b[0;34m(\u001b[0m\u001b[0msims\u001b[0m\u001b[0;34m,\u001b[0m \u001b[0mtest\u001b[0m\u001b[0;34m)\u001b[0m\u001b[0;34m\u001b[0m\u001b[0m\n\u001b[0;32m---> 23\u001b[0;31m     \u001b[0mr\u001b[0m\u001b[0;34m,\u001b[0m \u001b[0mb\u001b[0m \u001b[0;34m=\u001b[0m \u001b[0mbaba\u001b[0m\u001b[0;34m.\u001b[0m\u001b[0m_get_signif_5\u001b[0m\u001b[0;34m(\u001b[0m\u001b[0marr\u001b[0m\u001b[0;34m,\u001b[0m \u001b[0;36m1000\u001b[0m\u001b[0;34m)\u001b[0m\u001b[0;34m\u001b[0m\u001b[0m\n\u001b[0m\u001b[1;32m     24\u001b[0m     res = pd.DataFrame(r, \n\u001b[1;32m     25\u001b[0m             \u001b[0mindex\u001b[0m\u001b[0;34m=\u001b[0m\u001b[0;34m[\u001b[0m\u001b[0;34m\"P3\"\u001b[0m\u001b[0;34m,\u001b[0m \u001b[0;34m\"P4\"\u001b[0m\u001b[0;34m,\u001b[0m \u001b[0;34m\"P34\"\u001b[0m\u001b[0;34m]\u001b[0m\u001b[0;34m,\u001b[0m\u001b[0;34m\u001b[0m\u001b[0m\n",
      "\u001b[0;31mZeroDivisionError\u001b[0m: division by zero"
     ]
    }
   ],
   "source": [
    "r,b = runit(10000, 100000, 0, 20, 1000, tt, scen=0)\n",
    "print r"
   ]
  }
 ],
 "metadata": {
  "anaconda-cloud": {},
  "kernelspec": {
   "display_name": "Python 2",
   "language": "python",
   "name": "python2"
  },
  "language_info": {
   "codemirror_mode": {
    "name": "ipython",
    "version": 2
   },
   "file_extension": ".py",
   "mimetype": "text/x-python",
   "name": "python",
   "nbconvert_exporter": "python",
   "pygments_lexer": "ipython2",
   "version": "2.7.13"
  }
 },
 "nbformat": 4,
 "nbformat_minor": 1
}
