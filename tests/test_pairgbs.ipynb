{
 "cells": [
  {
   "cell_type": "markdown",
   "metadata": {},
   "source": [
    "### ipyrad testing"
   ]
  },
  {
   "cell_type": "code",
   "execution_count": 1,
   "metadata": {
    "collapsed": false,
    "scrolled": false
   },
   "outputs": [
    {
     "name": "stdout",
     "output_type": "stream",
     "text": [
      "0.0.49\n"
     ]
    }
   ],
   "source": [
    "import ipyrad as ip      ## for RADseq assembly\n",
    "print ip.__version__     ## print version"
   ]
  },
  {
   "cell_type": "code",
   "execution_count": 2,
   "metadata": {
    "collapsed": false
   },
   "outputs": [],
   "source": [
    "## clear test directory if it already exists\n",
    "import shutil\n",
    "import os\n",
    "if os.path.exists(\"./test_pairgbs\"):\n",
    "    shutil.rmtree(\"./test_pairgbs\")"
   ]
  },
  {
   "cell_type": "markdown",
   "metadata": {},
   "source": [
    "### Getting started -- Assembly objects\n",
    "The first step is to create an Assembly object. It takes an optional argument that provides it with an internal name. We could imagine that we planned to assemble and later combine data from multiple sequencing runs, but before combining them each group of samples has to be analyzed under a different set of parameters. As an example, we could call this data set \"2014_data_set\" and another \"2015_data_set\". "
   ]
  },
  {
   "cell_type": "markdown",
   "metadata": {},
   "source": [
    "### Problem is that pairgbs now expects your reads to have been through pear, no?\n",
    "## No, cuz those would be 'merged'"
   ]
  },
  {
   "cell_type": "code",
   "execution_count": 3,
   "metadata": {
    "collapsed": false
   },
   "outputs": [],
   "source": [
    "## create an Assembly object called data1. \n",
    "## It takes an 'test'\n",
    "data1 = ip.Assembly('test_pairgbs')"
   ]
  },
  {
   "cell_type": "code",
   "execution_count": 4,
   "metadata": {
    "collapsed": false
   },
   "outputs": [],
   "source": [
    "data1.set_params(1, \"./test_pairgbs\")\n",
    "data1.set_params(2, \"./data/sim_pairgbs_*.gz\")\n",
    "data1.set_params(3, \"./data/sim_pairgbs_barcodes.txt\")\n",
    "data1.set_params(12, \"pairgbs\")\n",
    "#data1.set_params(19, 1)"
   ]
  },
  {
   "cell_type": "code",
   "execution_count": 5,
   "metadata": {
    "collapsed": false
   },
   "outputs": [
    {
     "name": "stdout",
     "output_type": "stream",
     "text": [
      "  1   working_directory             ./test_pairgbs                               \n",
      "  2   raw_fastq_path                ./data/sim_pairgbs_*.gz                      \n",
      "  3   barcodes_path                 ./data/sim_pairgbs_barcodes.txt              \n",
      "  4   sorted_fastq_path                                                          \n",
      "  5   vsearch_path                  vsearch                                      \n",
      "  6   muscle_path                   muscle                                       \n",
      "  7   restriction_overhang          ('TGCAG', '')                                \n",
      "  8   max_low_qual_bases            5                                            \n",
      "  9   N_processors                  4                                            \n",
      "  10  mindepth_statistical          6                                            \n",
      "  11  mindepth_maj_rule             6                                            \n",
      "  12  datatype                      pairgbs                                      \n",
      "  13  clust_threshold               0.85                                         \n",
      "  14  minsamp                       4                                            \n",
      "  15  max_shared_heterozygosity     0.25                                         \n",
      "  16  prefix_outname                test_pairgbs                                 \n",
      "  17  phred_Qscore_offset           33                                           \n",
      "  18  max_barcode_mismatch          1                                            \n",
      "  19  filter_adapters               0                                            \n",
      "  20  filter_min_trim_len           35                                           \n",
      "  21  ploidy                        2                                            \n",
      "  22  max_stack_size                1000                                         \n",
      "  23  max_Ns_consens                5                                            \n",
      "  24  max_Hs_consens                8                                            \n",
      "  25  max_SNPs_locus                (100, 100)                                   \n",
      "  26  max_Indels_locus              (5, 99)                                      \n",
      "  27  trim_overhang                 (1, 2, 2, 1)                                 \n",
      "  28  hierarchical_clustering       0                                            \n"
     ]
    }
   ],
   "source": [
    "data1.get_params()"
   ]
  },
  {
   "cell_type": "markdown",
   "metadata": {},
   "source": [
    "### Step 1: Demultiplex the raw data files\n",
    "This demultiplexes, and links the new fastq data files as Samples to the Assembly object. "
   ]
  },
  {
   "cell_type": "code",
   "execution_count": 6,
   "metadata": {
    "collapsed": false
   },
   "outputs": [
    {
     "name": "stdout",
     "output_type": "stream",
     "text": [
      "preview: 1B0 GATATA\n",
      "preview: 2G0 ATAAAG\n",
      "preview: 2F0 TGAAAG\n",
      "preview: 1A0 CATCAT\n",
      "preview: 2H0 AAGAAG\n",
      "preview: 2E0 GATGGT\n",
      "preview: 3I0 TTGAGG\n",
      "preview: 1C0 GGGTGG\n",
      "preview: 3L0 GTTGGG\n",
      "preview: 1D0 TAGTAT\n",
      "preview: 3J0 TATGGG\n",
      "preview: 3K0 TGATGT\n",
      "preview: ('/home/deren/Dropbox/ipyrad/tests/data/sim_pairgbs_R1_.fastq.gz', '/home/deren/Dropbox/ipyrad/tests/data/sim_pairgbs_R2_.fastq.gz')\n",
      "raws [('/home/deren/Dropbox/ipyrad/tests/data/sim_pairgbs_R1_.fastq.gz', '/home/deren/Dropbox/ipyrad/tests/data/sim_pairgbs_R2_.fastq.gz')]\n",
      "chunkslist [['/home/deren/Dropbox/ipyrad/tests/data/sim_pairgbs_R1_.fastq.gz', [('/tmp/tmpDz8WAO', '/tmp/tmpIl4BKx'), ('/tmp/tmpImj62V', '/tmp/tmpHKfH80'), ('/tmp/tmp7eQqeN', '/tmp/tmpiw4MJU'), ('/tmp/tmpZ2OAiQ', '/tmp/tmpCayifX'), ('/tmp/tmpqOy_EI', '/tmp/tmpFkksGd')]]]\n"
     ]
    }
   ],
   "source": [
    "## demultiplex the raw_data files\n",
    "## set step1 to only go if no samples are present...\n",
    "data1.step1(preview=1) #append=True)"
   ]
  },
  {
   "cell_type": "code",
   "execution_count": 7,
   "metadata": {
    "collapsed": false
   },
   "outputs": [
    {
     "name": "stdout",
     "output_type": "stream",
     "text": [
      "1B0 1 [4000, [None, None], None, None, None]\n",
      "2G0 1 [4000, [None, None], None, None, None]\n",
      "2F0 1 [4000, [None, None], None, None, None]\n",
      "1A0 1 [4000, [None, None], None, None, None]\n",
      "1C0 1 [4000, [None, None], None, None, None]\n",
      "2H0 1 [4000, [None, None], None, None, None]\n",
      "2E0 1 [4000, [None, None], None, None, None]\n",
      "3L0 1 [4000, [None, None], None, None, None]\n",
      "3I0 1 [4000, [None, None], None, None, None]\n",
      "1D0 1 [4000, [None, None], None, None, None]\n",
      "3J0 1 [4000, [None, None], None, None, None]\n",
      "3K0 1 [4000, [None, None], None, None, None]\n"
     ]
    }
   ],
   "source": [
    "#data1.set_params(4, \"./test_pairgbs/fastq/*\")\n",
    "#data1.link_fastqs()\n",
    "for key, sample in data1.samples.items():\n",
    "    print key, sample.state, sample.stats.values()"
   ]
  },
  {
   "cell_type": "markdown",
   "metadata": {},
   "source": [
    "### Step 2: Filter reads \n",
    "If for some reason we wanted to execute on just a subsample of our data, we could do this by selecting only certain samples to call the `step2` function on. Because `step2` is a function of `data`, it will always execute with the parameters that are linked to `data`. "
   ]
  },
  {
   "cell_type": "code",
   "execution_count": 8,
   "metadata": {
    "collapsed": true
   },
   "outputs": [],
   "source": [
    "## if already edits, link them\n",
    "data1.link_edits()"
   ]
  },
  {
   "cell_type": "code",
   "execution_count": 9,
   "metadata": {
    "collapsed": false,
    "scrolled": true
   },
   "outputs": [],
   "source": [
    "data1.step2() #[\"1A0\",\"1B0\"])#"
   ]
  },
  {
   "cell_type": "code",
   "execution_count": 10,
   "metadata": {
    "collapsed": false
   },
   "outputs": [
    {
     "name": "stdout",
     "output_type": "stream",
     "text": [
      "test_pairgbs/\n",
      "    fastq/\n",
      "        3J0_R1_.gz\n",
      "        3K0_R2_.gz\n",
      "        3K0_R1_.gz\n",
      "        2E0_R2_.gz\n",
      "        1B0_R2_.gz\n",
      "        3L0_R2_.gz\n",
      "        2G0_R1_.gz\n",
      "        2F0_R1_.gz\n",
      "        1A0_R2_.gz\n",
      "        2H0_R2_.gz\n",
      "        3I0_R1_.gz\n",
      "        2E0_R1_.gz\n",
      "        2G0_R2_.gz\n",
      "        3J0_R2_.gz\n",
      "        2H0_R1_.gz\n",
      "        1C0_R2_.gz\n",
      "        2F0_R2_.gz\n",
      "        1C0_R1_.gz\n",
      "        1D0_R2_.gz\n",
      "        3I0_R2_.gz\n",
      "        1B0_R1_.gz\n",
      "        3L0_R1_.gz\n",
      "        1A0_R1_.gz\n",
      "        1D0_R1_.gz\n",
      "    edits/\n",
      "        1D0.fasta\n",
      "        3J0.fasta\n",
      "        2F0.fasta\n",
      "        2H0.fasta\n",
      "        1B0.fasta\n",
      "        2G0.fasta\n",
      "        2E0.fasta\n",
      "        1C0.fasta\n",
      "        3I0.fasta\n",
      "        1A0.fasta\n",
      "        3L0.fasta\n",
      "        3K0.fasta\n",
      "    stats/\n",
      "        s2_rawedit_stats.txt\n",
      "        s1_demultiplex_stats.txt\n",
      "None\n"
     ]
    }
   ],
   "source": [
    "print data1.list_files()"
   ]
  },
  {
   "cell_type": "markdown",
   "metadata": {},
   "source": [
    "We can access the `name` and `fname` of the `Sample` objects and edit them as desired without affecting the original data files. The `name` identifier is equal to the filename (`fname`) by default, but is the name used in the final output files, and thus it may be desirable to reduce it to something more readable, like below. "
   ]
  },
  {
   "cell_type": "code",
   "execution_count": 11,
   "metadata": {
    "collapsed": false,
    "scrolled": false
   },
   "outputs": [
    {
     "name": "stdout",
     "output_type": "stream",
     "text": [
      "is list of 1\n",
      "[('1A0', <ipyrad.core.sample.Sample object at 0x7f27bcff4990>)]\n",
      "finished clustering\n",
      "stats and cleanup ... 1\n",
      "preview: in run_full\n",
      "dereplicating...\n",
      "vsearch -cluster_smallmem /home/deren/Dropbox/ipyrad/tests/test_pairgbs/edits/1A0.derep -strand both  -query_cov .60  -id 0.85 -userout /home/deren/Dropbox/ipyrad/tests/test_pairgbs/clust_0.85/1A0.utemp -userfields query+target+id+gaps+qstrand+qcov -maxaccepts 1 -maxrejects 0 -minsl 0.5 -fulldp -threads 4 -usersort  -notmatched /home/deren/Dropbox/ipyrad/tests/test_pairgbs/clust_0.85/1A0.htemp -fasta_width 600 -msaout /home/deren/Dropbox/ipyrad/tests/test_pairgbs/clust_0.85/1A0.msa\n"
     ]
    }
   ],
   "source": [
    "data1.step3([\"1A0\"], preview=1)"
   ]
  },
  {
   "cell_type": "code",
   "execution_count": 12,
   "metadata": {
    "collapsed": false
   },
   "outputs": [
    {
     "data": {
      "text/plain": [
       "array(['a', 'a', 'a', 'b', 'b', 'b', 'c', 'c', 'c', 'd', 'd', 'd', 'n',\n",
       "       'n', 'n', 'n'], \n",
       "      dtype='|S1')"
      ]
     },
     "execution_count": 12,
     "metadata": {},
     "output_type": "execute_result"
    }
   ],
   "source": [
    "import numpy as np\n",
    "b1 = np.array([list(\"aaabbbcccddd\")])\n",
    "b1 = np.append(b1,list(\"nnnn\"))\n",
    "b1"
   ]
  },
  {
   "cell_type": "code",
   "execution_count": 13,
   "metadata": {
    "collapsed": false
   },
   "outputs": [
    {
     "data": {
      "text/plain": [
       "'GATATA'"
      ]
     },
     "execution_count": 13,
     "metadata": {},
     "output_type": "execute_result"
    }
   ],
   "source": [
    "data1.samples[\"1B0\"].barcode"
   ]
  },
  {
   "cell_type": "code",
   "execution_count": 14,
   "metadata": {
    "collapsed": false
   },
   "outputs": [
    {
     "data": {
      "text/plain": [
       "'fghif'"
      ]
     },
     "execution_count": 14,
     "metadata": {},
     "output_type": "execute_result"
    }
   ],
   "source": [
    "a = \"abcdefghif\"\n",
    "a = a[-5:]\n",
    "a"
   ]
  },
  {
   "cell_type": "code",
   "execution_count": 15,
   "metadata": {
    "collapsed": false
   },
   "outputs": [
    {
     "data": {
      "text/plain": [
       "{'clust': '',\n",
       " 'consens': '',\n",
       " 'edits': '/home/deren/Dropbox/ipyrad/tests/test_pairgbs/edits/2G0.fasta',\n",
       " 'fastq': ('/home/deren/Dropbox/ipyrad/tests/test_pairgbs/fastq/2G0_R1_.gz',\n",
       "  '/home/deren/Dropbox/ipyrad/tests/test_pairgbs/fastq/2G0_R2_.gz'),\n",
       " 'pickle': None}"
      ]
     },
     "execution_count": 15,
     "metadata": {},
     "output_type": "execute_result"
    }
   ],
   "source": [
    "import os\n",
    "data1.samples[\"2G0\"].files"
   ]
  },
  {
   "cell_type": "code",
   "execution_count": 16,
   "metadata": {
    "collapsed": true
   },
   "outputs": [],
   "source": [
    "#data1.step4(\"1A0\", sample_all=1)"
   ]
  },
  {
   "cell_type": "code",
   "execution_count": 17,
   "metadata": {
    "collapsed": true
   },
   "outputs": [],
   "source": [
    "#data1.step5(\"1A0\")"
   ]
  },
  {
   "cell_type": "code",
   "execution_count": 18,
   "metadata": {
    "collapsed": true
   },
   "outputs": [],
   "source": [
    "#data1.step5(\"1A0\")  ## better filters for -N-"
   ]
  },
  {
   "cell_type": "code",
   "execution_count": null,
   "metadata": {
    "collapsed": true
   },
   "outputs": [],
   "source": []
  },
  {
   "cell_type": "markdown",
   "metadata": {},
   "source": [
    "### Quick parameter explanations are always on-hand"
   ]
  },
  {
   "cell_type": "code",
   "execution_count": 19,
   "metadata": {
    "collapsed": false
   },
   "outputs": [
    {
     "name": "stdout",
     "output_type": "stream",
     "text": [
      "\n",
      "        (10) clust_threshold -------------------------------------------------\n",
      "        Clustering threshold. \n",
      "        Examples:\n",
      "        ----------------------------------------------------------------------\n",
      "        data.setparams(10) = .85          ## clustering similarlity threshold\n",
      "        data.setparams(10) = .90          ## clustering similarlity threshold\n",
      "        data.setparams(10) = .95          ## very high values not recommended \n",
      "        data.setparams(\"clust_threshold\") = .83  ## verbose\n",
      "        ----------------------------------------------------------------------\n",
      "        \n"
     ]
    }
   ],
   "source": [
    "ip.get_params_info(10)"
   ]
  },
  {
   "cell_type": "markdown",
   "metadata": {},
   "source": [
    "### Log history \n",
    "A common problem after struggling through an analysis is that you find you've completely forgotten what parameters you used at what point, and when you changed them. The log history time stamps all calls to `set_params()`, as well as calls to `step` methods. It also records copies/branching of data objects.  "
   ]
  },
  {
   "cell_type": "code",
   "execution_count": 20,
   "metadata": {
    "collapsed": false
   },
   "outputs": [
    {
     "ename": "NameError",
     "evalue": "name 'data' is not defined",
     "output_type": "error",
     "traceback": [
      "\u001b[1;31m---------------------------------------------------------------------------\u001b[0m",
      "\u001b[1;31mNameError\u001b[0m                                 Traceback (most recent call last)",
      "\u001b[1;32m<ipython-input-20-f1bf7e39a814>\u001b[0m in \u001b[0;36m<module>\u001b[1;34m()\u001b[0m\n\u001b[1;32m----> 1\u001b[1;33m \u001b[1;32mfor\u001b[0m \u001b[0mi\u001b[0m \u001b[1;32min\u001b[0m \u001b[0mdata\u001b[0m\u001b[1;33m.\u001b[0m\u001b[0mlog\u001b[0m\u001b[1;33m:\u001b[0m\u001b[1;33m\u001b[0m\u001b[0m\n\u001b[0m\u001b[0;32m      2\u001b[0m     \u001b[1;32mprint\u001b[0m \u001b[0mi\u001b[0m\u001b[1;33m\u001b[0m\u001b[0m\n",
      "\u001b[1;31mNameError\u001b[0m: name 'data' is not defined"
     ]
    }
   ],
   "source": [
    "for i in data.log:\n",
    "    print i"
   ]
  },
  {
   "cell_type": "markdown",
   "metadata": {},
   "source": [
    "### Saving Assembly objects\n",
    "Assembly objects can be saved and loaded so that interactive analyses can be started, stopped, and returned to quite easily. The format of these saved files is a serialized 'pickle' object used by Python. Individual Sample objects are saved within Assembly objects. While it is important to remember that some of the information in Assembly objects is in their links to data files, most of the useful information that we would want to analyze post assembly is stored in the object itself. Thus these objects will be useful for making plots and tables of assembly statistics later. "
   ]
  },
  {
   "cell_type": "code",
   "execution_count": null,
   "metadata": {
    "collapsed": true
   },
   "outputs": [],
   "source": [
    "## save assembly object\n",
    "#ip.save_assembly(\"data1.p\")\n",
    "\n",
    "## load assembly object\n",
    "#data = ip.load_assembly(\"data1.p\")\n",
    "#print data.name"
   ]
  }
 ],
 "metadata": {
  "kernelspec": {
   "display_name": "Python 2",
   "language": "python",
   "name": "python2"
  },
  "language_info": {
   "codemirror_mode": {
    "name": "ipython",
    "version": 2
   },
   "file_extension": ".py",
   "mimetype": "text/x-python",
   "name": "python",
   "nbconvert_exporter": "python",
   "pygments_lexer": "ipython2",
   "version": "2.7.6"
  }
 },
 "nbformat": 4,
 "nbformat_minor": 0
}
