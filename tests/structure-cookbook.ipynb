{
 "cells": [
  {
   "cell_type": "markdown",
   "metadata": {
    "collapsed": true
   },
   "source": [
    "# Structure example code\n",
    "Run STRUCTURE on SNP data output by __ipyrad__. \n"
   ]
  },
  {
   "cell_type": "markdown",
   "metadata": {},
   "source": [
    "### A note on Jupyter/IPython\n",
    "This is a Jupyter notebook, which is a mixture of __Python__ and __Bash__ scripts. The default is Python while cells with Bash code contain the header %%bash. If you run this code as an Jupyter notebook it will recognize the cell heading and run the appropriate code. If you are copy/pasting into a terminal, then you can similarly run both types of code by pasting the code into an IPython shell. Simply type ipython in a terminal to open the session. "
   ]
  },
  {
   "cell_type": "markdown",
   "metadata": {},
   "source": [
    "### Running this notebook\n",
    "This notebook assumes you have the following software installed:\n",
    "+ Structure (http://pritchardlab.stanford.edu/structure.html)\n",
    "+ CLUMPP (https://web.stanford.edu/group/rosenberglab/clumpp.html)\n"
   ]
  },
  {
   "cell_type": "markdown",
   "metadata": {},
   "source": [
    "### Import Python libraries"
   ]
  },
  {
   "cell_type": "code",
   "execution_count": 172,
   "metadata": {
    "collapsed": true
   },
   "outputs": [],
   "source": [
    "import numpy as np   ## numerical processing\n",
    "import ipyparallel   ## parallel processing\n",
    "import glob          ## file/string handling\n"
   ]
  },
  {
   "cell_type": "markdown",
   "metadata": {},
   "source": [
    "### Make an output directory"
   ]
  },
  {
   "cell_type": "code",
   "execution_count": 2,
   "metadata": {
    "collapsed": true
   },
   "outputs": [],
   "source": [
    "%%bash\n",
    "mkdir -p test_structure/"
   ]
  },
  {
   "cell_type": "markdown",
   "metadata": {},
   "source": [
    "### Check that you have structure installed. \n",
    "You must be able to call structure from a terminal by typing __structure__. If not, follow the installation instructions in the structure docs to install the command-line version of the software. Below you can see that when I type structure a splash screen is printed and an error is listed that it can't find the params file. That is ok. We will create a params file below. "
   ]
  },
  {
   "cell_type": "code",
   "execution_count": 3,
   "metadata": {
    "collapsed": false
   },
   "outputs": [
    {
     "name": "stdout",
     "output_type": "stream",
     "text": [
      "\n",
      "\n",
      "----------------------------------------------------\n",
      "STRUCTURE by Pritchard, Stephens and Donnelly (2000)\n",
      "     and Falush, Stephens and Pritchard (2003)\n",
      "       Code by Pritchard, Falush and Hubisz\n",
      "             Version 2.3.4 (Jul 2012)\n",
      "----------------------------------------------------\n",
      "\n",
      "\n",
      "Can't open the file \"mainparams\".\n",
      "\n",
      "Exiting the program due to error(s) listed above.\n",
      "\n"
     ]
    }
   ],
   "source": [
    "%%bash\n",
    "## test that structure is installed.\n",
    "structure"
   ]
  },
  {
   "cell_type": "markdown",
   "metadata": {},
   "source": [
    "### Create/Download params files for STRUCTURE\n",
    "This code downloads default _main_ and _extra_ files. We need to edit these files so that STRUCTURE recognizes the ipyrad .str file format. Namely, that there will be 6 blank columns before the data starts. I indicate below which parts of the file you should modify. "
   ]
  },
  {
   "cell_type": "code",
   "execution_count": 68,
   "metadata": {
    "collapsed": false
   },
   "outputs": [
    {
     "name": "stderr",
     "output_type": "stream",
     "text": [
      "  % Total    % Received % Xferd  Average Speed   Time    Time     Time  Current\n",
      "                                 Dload  Upload   Total   Spent    Left  Speed\n",
      "\r",
      "  0     0    0     0    0     0      0      0 --:--:-- --:--:-- --:--:--     0\r",
      "100   178  100   178    0     0   4437      0 --:--:-- --:--:-- --:--:--  4684\n",
      "\r",
      "100  2577  100  2577    0     0  30048      0 --:--:-- --:--:-- --:--:-- 30048\n",
      "  % Total    % Received % Xferd  Average Speed   Time    Time     Time  Current\n",
      "                                 Dload  Upload   Total   Spent    Left  Speed\n",
      "\r",
      "  0     0    0     0    0     0      0      0 --:--:-- --:--:-- --:--:--     0\r",
      "100   178  100   178    0     0   5259      0 --:--:-- --:--:-- --:--:--  5562\n",
      "\r",
      "100  6260  100  6260    0     0  91483      0 --:--:-- --:--:-- --:--:-- 91483\n"
     ]
    }
   ],
   "source": [
    "%%bash\n",
    "## download fresh (default) params files (or you could get them elsewhere)\n",
    "## the argument string includes an upper-case o, not a zero. \n",
    "curl -LkO www.dereneaton.com/downloads/struct.main   \n",
    "curl -LkO www.dereneaton.com/downloads/struct.extras \n",
    "\n",
    "## set the file format to match ipyrad structure format (6 blank columns)\n",
    "## meaning no populations, locations, names, or phenotypes are indicated.\n",
    "sed -i '/LABEL /c\\#define LABEL 1 //'         struct.main\n",
    "sed -i '/POPDATA /c\\#define POPDATA 0 //'     struct.main\n",
    "sed -i '/POPFLAG /c\\#define POPFLAG 0 //'     struct.main\n",
    "sed -i '/LOCDATA /c\\#define LOCDATA 0 //'     struct.main\n",
    "sed -i '/PHENOTYPE /c\\#define PHENOTYPE 0 //' struct.main\n",
    "sed -i '/EXTRACOLS /c\\#define EXTRACOLS 0 //' struct.main\n",
    "\n",
    "## you can change these values to modify run time\n",
    "sed -i '/BURNIN /c\\#define BURNIN 10000 //'     struct.main\n",
    "sed -i '/NUMREPS /c\\#define NUMREPS 50000 //'   struct.main\n",
    "\n",
    "## we will set our own random seed\n",
    "## we do not use POPDATA for location info\n",
    "## we do not use prior POP info to aid assignments\n",
    "sed -i '/RANDOMIZE /c\\#define RANDOMIZE 0 //'   struct.extras\n",
    "sed -i '/LOCISPOP /c\\#define LOCISPOP 0 //'     struct.extras\n",
    "sed -i '/USEPOPINFO /c\\#define USEPOPINFO 0 //' struct.extras"
   ]
  },
  {
   "cell_type": "markdown",
   "metadata": {},
   "source": [
    "### Creat a function to call structure\n",
    "This function is just a Python wrapper to call structure and pass it a list of arguments. "
   ]
  },
  {
   "cell_type": "code",
   "execution_count": 64,
   "metadata": {
    "collapsed": true
   },
   "outputs": [],
   "source": [
    "def structure(arglist):\n",
    "    ## import subprocess inside func b/c running parallel\n",
    "    import subprocess\n",
    "    \n",
    "    ## parse args\n",
    "    kpop, rep, strfile, rseed, ninds, nloci, odir = arglist\n",
    "    \n",
    "    ## create call string\n",
    "    outname = \"{}/K{}_rep{}\".format(odir, kpop, rep)\n",
    "    args = [kpop, ninds, nloci, strfile, rseed, outname]\n",
    "    cmd = \"\"\" structure \\\n",
    "              -m struct.main \\\n",
    "              -e struct.extras \\\n",
    "              -K {} \\\n",
    "              -N {} \\\n",
    "              -L {} \\\n",
    "              -i {} \\\n",
    "              -D {} \\\n",
    "              -o {} \"\"\".format(*args)\n",
    "\n",
    "    ## call the shell function\n",
    "    stdout = subprocess.check_call(cmd, shell=True)"
   ]
  },
  {
   "cell_type": "markdown",
   "metadata": {},
   "source": [
    "### Organize input files\n",
    "Enter your .str data file here, and the range of K values to test. "
   ]
  },
  {
   "cell_type": "code",
   "execution_count": 55,
   "metadata": {
    "collapsed": false
   },
   "outputs": [],
   "source": [
    "mydatafile = \"/home/deren/Documents/ipyrad/tests/test/dent_outfiles/dent.u.str\"\n",
    "kpops = [2,3]"
   ]
  },
  {
   "cell_type": "markdown",
   "metadata": {},
   "source": [
    "Get number of taxa and SNPs in data set. "
   ]
  },
  {
   "cell_type": "code",
   "execution_count": 71,
   "metadata": {
    "collapsed": false
   },
   "outputs": [
    {
     "name": "stdout",
     "output_type": "stream",
     "text": [
      "6 samples in data set\n",
      "1000 SNPs in structure data set\n"
     ]
    }
   ],
   "source": [
    "with open(mydatafile, 'r') as ifile:\n",
    "    lines = ifile.readlines()\n",
    "    numinds = len(lines)//2\n",
    "    nloci = len(lines[0].strip().split()[1:])\n",
    "    print numinds, \"samples in data set\"\n",
    "    print nloci, 'SNPs in structure data set'"
   ]
  },
  {
   "cell_type": "markdown",
   "metadata": {},
   "source": [
    "### Parallel processing \n",
    "Collect arguments to structure into a lists so we can pass them all to run in parallel on many processors. "
   ]
  },
  {
   "cell_type": "code",
   "execution_count": 72,
   "metadata": {
    "collapsed": false
   },
   "outputs": [
    {
     "name": "stdout",
     "output_type": "stream",
     "text": [
      "[2, 1, '/home/deren/Documents/ipyrad/tests/test/dent_outfiles/dent.u.str', 777982912, 6, 1000, 'test_structure']\n",
      "[2, 2, '/home/deren/Documents/ipyrad/tests/test/dent_outfiles/dent.u.str', 845106815, 6, 1000, 'test_structure']\n",
      "[2, 3, '/home/deren/Documents/ipyrad/tests/test/dent_outfiles/dent.u.str', 196765534, 6, 1000, 'test_structure']\n",
      "[2, 4, '/home/deren/Documents/ipyrad/tests/test/dent_outfiles/dent.u.str', 837954027, 6, 1000, 'test_structure']\n",
      "[2, 5, '/home/deren/Documents/ipyrad/tests/test/dent_outfiles/dent.u.str', 11830001, 6, 1000, 'test_structure']\n",
      "[2, 6, '/home/deren/Documents/ipyrad/tests/test/dent_outfiles/dent.u.str', 473753326, 6, 1000, 'test_structure']\n",
      "[2, 7, '/home/deren/Documents/ipyrad/tests/test/dent_outfiles/dent.u.str', 401376115, 6, 1000, 'test_structure']\n",
      "[2, 8, '/home/deren/Documents/ipyrad/tests/test/dent_outfiles/dent.u.str', 706730397, 6, 1000, 'test_structure']\n",
      "[2, 9, '/home/deren/Documents/ipyrad/tests/test/dent_outfiles/dent.u.str', 885513546, 6, 1000, 'test_structure']\n",
      "[2, 10, '/home/deren/Documents/ipyrad/tests/test/dent_outfiles/dent.u.str', 125614083, 6, 1000, 'test_structure']\n",
      "[3, 1, '/home/deren/Documents/ipyrad/tests/test/dent_outfiles/dent.u.str', 438126370, 6, 1000, 'test_structure']\n",
      "[3, 2, '/home/deren/Documents/ipyrad/tests/test/dent_outfiles/dent.u.str', 704669153, 6, 1000, 'test_structure']\n",
      "[3, 3, '/home/deren/Documents/ipyrad/tests/test/dent_outfiles/dent.u.str', 275693499, 6, 1000, 'test_structure']\n",
      "[3, 4, '/home/deren/Documents/ipyrad/tests/test/dent_outfiles/dent.u.str', 145991055, 6, 1000, 'test_structure']\n",
      "[3, 5, '/home/deren/Documents/ipyrad/tests/test/dent_outfiles/dent.u.str', 137701102, 6, 1000, 'test_structure']\n",
      "[3, 6, '/home/deren/Documents/ipyrad/tests/test/dent_outfiles/dent.u.str', 843203135, 6, 1000, 'test_structure']\n",
      "[3, 7, '/home/deren/Documents/ipyrad/tests/test/dent_outfiles/dent.u.str', 270722531, 6, 1000, 'test_structure']\n",
      "[3, 8, '/home/deren/Documents/ipyrad/tests/test/dent_outfiles/dent.u.str', 86363839, 6, 1000, 'test_structure']\n",
      "[3, 9, '/home/deren/Documents/ipyrad/tests/test/dent_outfiles/dent.u.str', 800893193, 6, 1000, 'test_structure']\n",
      "[3, 10, '/home/deren/Documents/ipyrad/tests/test/dent_outfiles/dent.u.str', 648460882, 6, 1000, 'test_structure']\n"
     ]
    }
   ],
   "source": [
    "## out output directory that we created earlier\n",
    "odir = \"test_structure\"\n",
    "\n",
    "args = []\n",
    "## for each value of K\n",
    "for kpop in kpops:\n",
    "    ## do ten replicates\n",
    "    for rep in range(1, 11):\n",
    "        ## get a random seed\n",
    "        rand = np.random.randint(0, int(1e9), 1)[0]\n",
    "        ## add arg list to args\n",
    "        args.append([kpop, rep, mydatafile, rand, numinds, nloci, odir])\n",
    "\n",
    "## print the args list\n",
    "for i in args: \n",
    "    print i"
   ]
  },
  {
   "cell_type": "code",
   "execution_count": 73,
   "metadata": {
    "collapsed": false
   },
   "outputs": [],
   "source": [
    "## create a Parallel computing client\n",
    "## parallel engines can be turned on in the notebook\n",
    "## under the Clusters tab\n",
    "ipyclient = ipyparallel.Client()\n",
    "lbview = ipyclient.load_balanced_view()"
   ]
  },
  {
   "cell_type": "code",
   "execution_count": 74,
   "metadata": {
    "collapsed": true
   },
   "outputs": [],
   "source": [
    "## submit these jobs to the client to run in parallel\n",
    "res = {}\n",
    "for i in range(len(args)):\n",
    "    res[i] = lbview.apply_async(structure, args[i])"
   ]
  },
  {
   "cell_type": "code",
   "execution_count": 75,
   "metadata": {
    "collapsed": false
   },
   "outputs": [
    {
     "name": "stdout",
     "output_type": "stream",
     "text": [
      "  20/20 tasks finished after  993 s\n",
      "done\n"
     ]
    }
   ],
   "source": [
    "## this will print progress until jobs are done\n",
    "ipyclient.wait_interactive()"
   ]
  },
  {
   "cell_type": "code",
   "execution_count": 78,
   "metadata": {
    "collapsed": false
   },
   "outputs": [
    {
     "data": {
      "text/plain": [
       "{'after': [],\n",
       " 'completed': datetime.datetime(2016, 4, 18, 16, 0, 58, 205392),\n",
       " 'data': {},\n",
       " 'engine_id': 2,\n",
       " 'engine_uuid': u'78729ee1-516c-41fa-80ab-5fb009d2a0e3',\n",
       " 'error': None,\n",
       " 'execute_input': None,\n",
       " 'execute_result': None,\n",
       " 'follow': [],\n",
       " 'msg_id': u'fe43a075-4bd6-496a-ab8a-32f34fd18ada',\n",
       " 'outputs': [],\n",
       " 'received': datetime.datetime(2016, 4, 18, 16, 0, 58, 209474),\n",
       " 'started': datetime.datetime(2016, 4, 18, 15, 57, 30, 803765),\n",
       " 'status': u'ok',\n",
       " 'stderr': '',\n",
       " 'stdout': '',\n",
       " 'submitted': datetime.datetime(2016, 4, 18, 15, 57, 30, 796288)}"
      ]
     },
     "execution_count": 78,
     "metadata": {},
     "output_type": "execute_result"
    }
   ],
   "source": [
    "## to examine details of each individual job you could check the 'res' metadata\n",
    "## this would include error information if a parallel job failed.\n",
    "res[0].metadata"
   ]
  },
  {
   "cell_type": "markdown",
   "metadata": {},
   "source": [
    "### Summarize replicates with CLUMPP\n",
    "Again, this part of the code assumes that you've downloaded and installed the software CLUMPP, which is used to summarize results across replicate runs of STRUCTURE. We ran ten replicates per K-value hypothesis. If you type CLUMPP into a terminal you should see the following message. Again, an error that there is no params file. Don't worry, we'll make one below. "
   ]
  },
  {
   "cell_type": "code",
   "execution_count": 79,
   "metadata": {
    "collapsed": false
   },
   "outputs": [
    {
     "name": "stdout",
     "output_type": "stream",
     "text": [
      "\n",
      "Error: Unable to open paramfile ''paramfile''\n",
      "Please check the name of the paramfile.\n",
      "\n"
     ]
    }
   ],
   "source": [
    "%%bash\n",
    "CLUMPP"
   ]
  },
  {
   "cell_type": "markdown",
   "metadata": {},
   "source": [
    "### Create a CLUMPP params file"
   ]
  },
  {
   "cell_type": "code",
   "execution_count": 80,
   "metadata": {
    "collapsed": false
   },
   "outputs": [
    {
     "name": "stderr",
     "output_type": "stream",
     "text": [
      "  % Total    % Received % Xferd  Average Speed   Time    Time     Time  Current\n",
      "                                 Dload  Upload   Total   Spent    Left  Speed\n",
      "\r",
      "  0     0    0     0    0     0      0      0 --:--:-- --:--:-- --:--:--     0\r",
      "100   178  100   178    0     0   1108      0 --:--:-- --:--:-- --:--:--  4684\n",
      "\r",
      "100  4928  100  4928    0     0  22953      0 --:--:-- --:--:-- --:--:-- 22953\n"
     ]
    }
   ],
   "source": [
    "%%bash\n",
    "## get template CLUMPP params file, I host a template file at this download\n",
    "curl -LkO www.dereneaton.com/downloads/clumpp.paramfile \n",
    "\n",
    "## fill in the template: tell it the format to use individuals\n",
    "sed -i '/type of data /c\\DATATYPE 0                     # individuals //' clumpp.paramfile\n",
    "#sed -i '/individuals or populations /c\\C 39             # N individuals //' clumpp.paramfile\n",
    "sed -i '/Print the permuted /c\\PRINT_PERMUTED_DATA 0    # no print //' clumpp.paramfile"
   ]
  },
  {
   "cell_type": "markdown",
   "metadata": {},
   "source": [
    "### Create a function wrapper to call CLUMPP"
   ]
  },
  {
   "cell_type": "code",
   "execution_count": 102,
   "metadata": {
    "collapsed": false
   },
   "outputs": [],
   "source": [
    "def build_clumpp(kpop, odir): \n",
    "    \"\"\" A wrapper to call CLUMPP on structure results files for a given K-value\"\"\"\n",
    "   \n",
    "    ## grab all the _f result files\n",
    "    repfiles = glob.glob(\"{}/K{}_rep*\".format(odir, kpop))\n",
    "    ## make an output handle\n",
    "    outfile = open(\"{}/K{}.indfile\".format(odir, kpop), 'w')\n",
    "    \n",
    "    ## combine replicates into the indfile\n",
    "    for repfile in repfiles:\n",
    "        i = 1\n",
    "        ## strips junk to extract matrix\n",
    "        for line in open(repfile).readlines():\n",
    "            ## matrix lines have this junk\n",
    "            if \")   :  \" in line:\n",
    "                ## split it up on whitespace\n",
    "                ll = line.strip().split()\n",
    "                outstr = \" \".join([ll[0],ll[0],ll[2],ll[0].split('.')[0]])+\" :  \"+\" \".join(ll[4:])\n",
    "                outfile.write(outstr+\"\\n\")\n",
    "                i += 1\n",
    "        outfile.write(\"\\n\")\n",
    "    outfile.close()\n",
    "    \n",
    "    return len(repfiles), i-1\n",
    "\n",
    "    \n",
    "    \n",
    "def run_clumpp(kpop, odir, ninds, nreps):\n",
    "    ## create CLUMPP args string\n",
    "    import subprocess\n",
    "    cmd = \"\"\"\n",
    "           CLUMPP clumpp.paramfile \\\n",
    "           -i {odir}/K{kpop}.indfile \\\n",
    "           -o {odir}/K{kpop}.outfile \\\n",
    "           -j {odir}/K{kpop}.miscfile \\\n",
    "           -r {nreps} -c {ninds} -k {kpop} \n",
    "           \"\"\"\\\n",
    "           .format(odir=odir, kpop=kpop, nreps=nreps, ninds=ninds)\n",
    "    \n",
    "    ## call CLUMPP\n",
    "    subprocess.check_call(cmd, shell=True)"
   ]
  },
  {
   "cell_type": "markdown",
   "metadata": {
    "collapsed": true
   },
   "source": [
    "### Run CLUMPP for each K-value"
   ]
  },
  {
   "cell_type": "code",
   "execution_count": 103,
   "metadata": {
    "collapsed": false
   },
   "outputs": [],
   "source": [
    "for kpop in kpops:\n",
    "    nreps, ninds = build_clumpp(kpop, odir)\n",
    "    run_clumpp(kpop, odir, ninds, nreps)"
   ]
  },
  {
   "cell_type": "markdown",
   "metadata": {},
   "source": [
    "### The order of samples in plots"
   ]
  },
  {
   "cell_type": "code",
   "execution_count": 106,
   "metadata": {
    "collapsed": false
   },
   "outputs": [
    {
     "name": "stdout",
     "output_type": "stream",
     "text": [
      "1 dentatum_ELS15\n",
      "2 dentatum_ELS27\n",
      "3 dentatum_ELS4\n",
      "4 dentatum_ELS52\n",
      "5 dentatum_ELS72\n",
      "6 dentatum_ELS82\n"
     ]
    }
   ],
   "source": [
    "indat = open(mydatafile, 'r').readlines()\n",
    "names = [i.split()[0] for i in indat][::2]\n",
    "for i,j in enumerate(names):\n",
    "    print i+1, j"
   ]
  },
  {
   "cell_type": "markdown",
   "metadata": {},
   "source": [
    "### Quick structure plot"
   ]
  },
  {
   "cell_type": "code",
   "execution_count": 167,
   "metadata": {
    "collapsed": true
   },
   "outputs": [],
   "source": [
    "def structplot(infile, kpop, ninds, colorder=[], barorder=[]):\n",
    "    ## grab the data\n",
    "    dat = open(infile).readlines()\n",
    "    \n",
    "    ## input to a sorted dict\n",
    "    D = OrderedDict()\n",
    "    for line in dat:\n",
    "        ll = line.strip().split()\n",
    "        vals = [float(i)*100 for i in ll[5:]]\n",
    "    \n",
    "        ## order of the bars\n",
    "        if not barorder:\n",
    "            D[ll[1]] = [vals[i] for i in range(kpop)]\n",
    "        else: \n",
    "            D[ll[1]] = [vals[i] for i in barorder]\n",
    "    \n",
    "    ## sort into the same order of individuals\n",
    "    ## as in the microsatellite data set of Cavender-Bares\n",
    "    sorteds = range(1, ninds+1)\n",
    "    \n",
    "    ## ordered color map\n",
    "    cmap = sns.color_palette(\"Set3\", 8)\n",
    "    #cmap = sns.dark_palette(\"skyblue\", 8, reverse=True)\n",
    "    if not colorder:\n",
    "        ncmap = [cmap[i] for i in range(kpop)]\n",
    "    else:\n",
    "        ncmap = [cmap[i] for i in colorder]\n",
    "\n",
    "    fig, ax = plt.subplots(figsize=(ninds/2.,2.0))\n",
    "\n",
    "    ## normalize values to 100\n",
    "    for i in D:\n",
    "        D[i] = [100*(j/sum(D[i])) for j in D[i]]\n",
    "\n",
    "    ## make plot\n",
    "    for col in range(len(D.values()[0])):\n",
    "        if col > 0:\n",
    "            ax.bar(range(len(D.keys())), \n",
    "                   [D[str(i)][col] for i in sorteds],\n",
    "                   bottom = [sum(D[str(i)][:col]) for i in sorteds],\n",
    "                   color=ncmap[col], width=0.95, edgecolor='')       \n",
    "        else:\n",
    "            ax.bar(range(len(D.keys())), \n",
    "                   [D[str(i)][col] for i in sorteds],\n",
    "                   bottom = 0, color=ncmap[col], width=0.95, edgecolor=\"\")\n",
    "            \n",
    "    ax.set_xticks([])\n",
    "    ax.set_yticks([])\n",
    "    ax.set_xlim(-0., float(ninds))\n",
    "    ax.set_ylim(-0., 100.)\n",
    "    ax.grid(b=0)\n",
    "    \n",
    "    ## uncomment to save the figure \n",
    "    ## set format by changing the suffix (png, svg, etc.)\n",
    "    #plt.savefig(\"figures/RADstruct_\"+str(K)+\".png\", dpi=300)\n",
    "    plt.show()\n"
   ]
  },
  {
   "cell_type": "markdown",
   "metadata": {},
   "source": [
    "### K=2 plot"
   ]
  },
  {
   "cell_type": "code",
   "execution_count": 169,
   "metadata": {
    "collapsed": false
   },
   "outputs": [
    {
     "data": {
      "image/png": "[encoded data removed]",
      "text/plain": [
       "<matplotlib.figure.Figure at 0x7f01394a2e50>"
      ]
     },
     "metadata": {},
     "output_type": "display_data"
    }
   ],
   "source": [
    "structplot(\"test_structure/K2.outfile\", 2, ninds)"
   ]
  },
  {
   "cell_type": "markdown",
   "metadata": {},
   "source": [
    "### K=3 plot"
   ]
  },
  {
   "cell_type": "code",
   "execution_count": 170,
   "metadata": {
    "collapsed": false
   },
   "outputs": [
    {
     "data": {
      "image/png": "[encoded data removed]",
      "text/plain": [
       "<matplotlib.figure.Figure at 0x7f0139233490>"
      ]
     },
     "metadata": {},
     "output_type": "display_data"
    }
   ],
   "source": [
    "structplot(\"test_structure/K3.outfile\", 3, ninds)"
   ]
  },
  {
   "cell_type": "markdown",
   "metadata": {},
   "source": [
    "To change the order of colors use the colorder argument. Now green is stacked on top and yellow on the bottom."
   ]
  },
  {
   "cell_type": "code",
   "execution_count": 171,
   "metadata": {
    "collapsed": false
   },
   "outputs": [
    {
     "data": {
      "image/png": "[encoded data removed]",
      "text/plain": [
       "<matplotlib.figure.Figure at 0x7f0171819b50>"
      ]
     },
     "metadata": {},
     "output_type": "display_data"
    }
   ],
   "source": [
    "structplot(\"test_structure/K3.outfile\", 3, ninds, colorder=[1,2,0])"
   ]
  }
 ],
 "metadata": {
  "kernelspec": {
   "display_name": "Python 2",
   "language": "python",
   "name": "python2"
  },
  "language_info": {
   "codemirror_mode": {
    "name": "ipython",
    "version": 2
   },
   "file_extension": ".py",
   "mimetype": "text/x-python",
   "name": "python",
   "nbconvert_exporter": "python",
   "pygments_lexer": "ipython2",
   "version": "2.7.11"
  }
 },
 "nbformat": 4,
 "nbformat_minor": 0
}
