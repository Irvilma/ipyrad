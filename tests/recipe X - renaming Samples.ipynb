{
 "cells": [
  {
   "cell_type": "markdown",
   "metadata": {},
   "source": [
    "# Recipe X -- renaming Samples"
   ]
  },
  {
   "cell_type": "markdown",
   "metadata": {},
   "source": [
    "### Where are Sample names stored?\n",
    "In ipyrad, Sample names are stored as an attribute of Sample objects, and Sample objects are stored in a dictionary that can be accessed from Assembly objects. Let's first load in the data set below to show an example. "
   ]
  },
  {
   "cell_type": "code",
   "execution_count": 36,
   "metadata": {
    "collapsed": false
   },
   "outputs": [
    {
     "name": "stdout",
     "output_type": "stream",
     "text": [
      "  loading Assembly: data1 [data/saved_states/state1_rad.assembly]\n"
     ]
    }
   ],
   "source": [
    "## load ipyrad\n",
    "import ipyrad as ip\n",
    "\n",
    "## create a new Assembly Object named for our project\n",
    "data = ip.Assembly(\"renaming\")\n",
    "\n",
    "## set path to some demultiplexed fastq data\n",
    "data.set_params('sorted_fastq_path', \"test_rad/sim_rad_*.fastq.gz\")\n",
    "\n",
    "## link the demuliplexed fastq files to new Samples\n",
    "data.step1()"
   ]
  },
  {
   "cell_type": "markdown",
   "metadata": {},
   "source": [
    "#### Accessing Python dictionaries\n",
    "We loaded in an Assembly named `data` that has 12 Samples. We can view the Samples linked to this Assembly as a dictionary. You can see that each Sample has a name that is a __key__ in the dictionary, and the stored __values__ are objects called `<ipyrad.core.sample.Sample>`, which is just a reference to the fact they are ipyrad Sample objects. "
   ]
  },
  {
   "cell_type": "code",
   "execution_count": 37,
   "metadata": {
    "collapsed": false
   },
   "outputs": [
    {
     "name": "stdout",
     "output_type": "stream",
     "text": [
      "2G_0 <ipyrad.core.sample.Sample object at 0x7f11b40beed0>\n",
      "3K_0 <ipyrad.core.sample.Sample object at 0x7f11b40311d0>\n",
      "3J_0 <ipyrad.core.sample.Sample object at 0x7f11b4006710>\n",
      "2E_0 <ipyrad.core.sample.Sample object at 0x7f11b412fb50>\n",
      "1A_0 <ipyrad.core.sample.Sample object at 0x7f11b4072390>\n",
      "1B_0 <ipyrad.core.sample.Sample object at 0x7f11b4044490>\n",
      "3I_0 <ipyrad.core.sample.Sample object at 0x7f11b40a6110>\n",
      "3L_0 <ipyrad.core.sample.Sample object at 0x7f11b4015310>\n",
      "2F_0 <ipyrad.core.sample.Sample object at 0x7f11b4010690>\n",
      "1C_0 <ipyrad.core.sample.Sample object at 0x7f11b406f110>\n",
      "1D_0 <ipyrad.core.sample.Sample object at 0x7f11b40a6950>\n",
      "2H_0 <ipyrad.core.sample.Sample object at 0x7f11b4038610>\n"
     ]
    }
   ],
   "source": [
    "## print the key and value pairs in the dictionary\n",
    "for key, val in data.samples.items():\n",
    "    print key, val"
   ]
  },
  {
   "cell_type": "code",
   "execution_count": 38,
   "metadata": {
    "collapsed": false
   },
   "outputs": [
    {
     "name": "stdout",
     "output_type": "stream",
     "text": [
      "2G_0 <ipyrad.core.sample.Sample object at 0x7f11b40beed0>\n",
      "3K_0 <ipyrad.core.sample.Sample object at 0x7f11b40311d0>\n",
      "3J_0 <ipyrad.core.sample.Sample object at 0x7f11b4006710>\n",
      "2E_0 <ipyrad.core.sample.Sample object at 0x7f11b412fb50>\n",
      "1A_0 <ipyrad.core.sample.Sample object at 0x7f11b4072390>\n",
      "1B_0 <ipyrad.core.sample.Sample object at 0x7f11b4044490>\n",
      "3I_0 <ipyrad.core.sample.Sample object at 0x7f11b40a6110>\n",
      "3L_0 <ipyrad.core.sample.Sample object at 0x7f11b4015310>\n",
      "2F_0 <ipyrad.core.sample.Sample object at 0x7f11b4010690>\n",
      "1C_0 <ipyrad.core.sample.Sample object at 0x7f11b406f110>\n",
      "1D_0 <ipyrad.core.sample.Sample object at 0x7f11b40a6950>\n",
      "2H_0 <ipyrad.core.sample.Sample object at 0x7f11b4038610>\n"
     ]
    }
   ],
   "source": [
    "## Another way to access the same key:val pairs\n",
    "for key in data.samples:\n",
    "    print key, data.samples[key]"
   ]
  },
  {
   "cell_type": "markdown",
   "metadata": {},
   "source": [
    "### Sample object attributes"
   ]
  },
  {
   "cell_type": "markdown",
   "metadata": {},
   "source": [
    "Sample objects have attributes of their own, including one called name, which we can access. The name attribute of Samples is what is used to keep track of file names, including the output files, and so this is the important value that we want to change. However, we will also want to change the dictionary __key__, since this is our easy way of referencing each Sample. "
   ]
  },
  {
   "cell_type": "code",
   "execution_count": 39,
   "metadata": {
    "collapsed": false
   },
   "outputs": [
    {
     "name": "stdout",
     "output_type": "stream",
     "text": [
      "2G_0 2G_0 20026.0\n",
      "3K_0 3K_0 20117.0\n",
      "3J_0 3J_0 20011.0\n",
      "2E_0 2E_0 19928.0\n",
      "1A_0 1A_0 20099.0\n",
      "1B_0 1B_0 19977.0\n",
      "3I_0 3I_0 20084.0\n",
      "3L_0 3L_0 19901.0\n",
      "2F_0 2F_0 19934.0\n",
      "1C_0 1C_0 20114.0\n",
      "1D_0 1D_0 19895.0\n",
      "2H_0 2H_0 19936.0\n"
     ]
    }
   ],
   "source": [
    "## print name and an exapmle stats attribute of a Sample object\n",
    "for key, val in data.samples.items():\n",
    "    print key, val.name, val.stats.reads_raw"
   ]
  },
  {
   "cell_type": "markdown",
   "metadata": {},
   "source": [
    "### How can Sample names be changed?\n",
    "By modifying the dictionary. Actually, modifying keys of a dictionary is a little tricky, and so the easiest way is to create a new dictionary composed of __keys__ that make up the new Sample names we want, and __vals__ that include the Sample objects with the name attribute matching to the keys. "
   ]
  },
  {
   "cell_type": "markdown",
   "metadata": {},
   "source": [
    "### Replacing a single name"
   ]
  },
  {
   "cell_type": "code",
   "execution_count": 40,
   "metadata": {
    "collapsed": true
   },
   "outputs": [],
   "source": [
    "## use pop to select the Sample by it's key\n",
    "sample = data.samples.pop(\"1A_0\")\n",
    "\n",
    "## now update the sample.name attribute to a new val\n",
    "sample.name = \"1A_X\"\n",
    "\n",
    "## now put the Sample back into the dict w/ a matching key\n",
    "data.samples[sample.name] = sample"
   ]
  },
  {
   "cell_type": "code",
   "execution_count": 41,
   "metadata": {
    "collapsed": false
   },
   "outputs": [
    {
     "name": "stdout",
     "output_type": "stream",
     "text": [
      "2G_0 2G_0 <ipyrad.core.sample.Sample object at 0x7f11b40beed0>\n",
      "3K_0 3K_0 <ipyrad.core.sample.Sample object at 0x7f11b40311d0>\n",
      "3J_0 3J_0 <ipyrad.core.sample.Sample object at 0x7f11b4006710>\n",
      "2E_0 2E_0 <ipyrad.core.sample.Sample object at 0x7f11b412fb50>\n",
      "1A_X 1A_X <ipyrad.core.sample.Sample object at 0x7f11b4072390>\n",
      "1B_0 1B_0 <ipyrad.core.sample.Sample object at 0x7f11b4044490>\n",
      "3I_0 3I_0 <ipyrad.core.sample.Sample object at 0x7f11b40a6110>\n",
      "3L_0 3L_0 <ipyrad.core.sample.Sample object at 0x7f11b4015310>\n",
      "2F_0 2F_0 <ipyrad.core.sample.Sample object at 0x7f11b4010690>\n",
      "1C_0 1C_0 <ipyrad.core.sample.Sample object at 0x7f11b406f110>\n",
      "1D_0 1D_0 <ipyrad.core.sample.Sample object at 0x7f11b40a6950>\n",
      "2H_0 2H_0 <ipyrad.core.sample.Sample object at 0x7f11b4038610>\n"
     ]
    }
   ],
   "source": [
    "for key, val in data.samples.items():\n",
    "    print key, val.name, val"
   ]
  },
  {
   "cell_type": "markdown",
   "metadata": {},
   "source": [
    "### Modifying all names\n",
    "Problem arise when you try to modify a dictionary while you are iterating over it. The simplest way around this is to get the list of keys you wish to iterate over before starting the loop. This way the keys will not change during the iteration. Below we first store key names in a list called names. Then we iterate over names and replace keys and Sample.names the same as above.  "
   ]
  },
  {
   "cell_type": "code",
   "execution_count": 50,
   "metadata": {
    "collapsed": false
   },
   "outputs": [
    {
     "name": "stdout",
     "output_type": "stream",
     "text": [
      "('/home/deren/Documents/ipyrad/tests/test_rad/data1_fastqs/1C_0_R1_.fastq.gz',)\n",
      "New_New_New_New_New_1C_0 New_New_New_New_New_1C_0\n",
      "('/home/deren/Documents/ipyrad/tests/test_rad/data1_fastqs/3J_0_R1_.fastq.gz',)\n",
      "New_New_New_New_New_3J_0 New_New_New_New_New_3J_0\n",
      "('/home/deren/Documents/ipyrad/tests/test_rad/data1_fastqs/2H_0_R1_.fastq.gz',)\n",
      "New_New_New_New_New_2H_0 New_New_New_New_New_2H_0\n",
      "('/home/deren/Documents/ipyrad/tests/test_rad/data1_fastqs/1D_0_R1_.fastq.gz',)\n",
      "New_New_New_New_New_1D_0 New_New_New_New_New_1D_0\n",
      "('/home/deren/Documents/ipyrad/tests/test_rad/data1_fastqs/2E_0_R1_.fastq.gz',)\n",
      "New_New_New_New_New_2E_0 New_New_New_New_New_2E_0\n",
      "('/home/deren/Documents/ipyrad/tests/test_rad/data1_fastqs/1B_0_R1_.fastq.gz',)\n",
      "New_New_New_New_New_1B_0 New_New_New_New_New_1B_0\n",
      "('/home/deren/Documents/ipyrad/tests/test_rad/data1_fastqs/3I_0_R1_.fastq.gz',)\n",
      "New_New_New_New_New_3I_0 New_New_New_New_New_3I_0\n",
      "('/home/deren/Documents/ipyrad/tests/test_rad/data1_fastqs/2F_0_R1_.fastq.gz',)\n",
      "New_New_New_New_New_2F_0 New_New_New_New_New_2F_0\n",
      "('/home/deren/Documents/ipyrad/tests/test_rad/data1_fastqs/3L_0_R1_.fastq.gz',)\n",
      "New_New_New_New_New_3L_0 New_New_New_New_New_3L_0\n",
      "('/home/deren/Documents/ipyrad/tests/test_rad/data1_fastqs/1A_0_R1_.fastq.gz',)\n",
      "New_New_New_New_New_1A_X New_New_New_New_New_1A_X\n",
      "('/home/deren/Documents/ipyrad/tests/test_rad/data1_fastqs/2G_0_R1_.fastq.gz',)\n",
      "New_New_New_New_New_2G_0 New_New_New_New_New_2G_0\n",
      "('/home/deren/Documents/ipyrad/tests/test_rad/data1_fastqs/3K_0_R1_.fastq.gz',)\n",
      "New_New_New_New_New_3K_0 New_New_New_New_New_3K_0\n"
     ]
    }
   ],
   "source": [
    "## get list of keys in dict\n",
    "names = data.samples.keys()\n",
    "\n",
    "## iterate over keys in names\n",
    "for samplekey in names:\n",
    "    ## use pop to select the Sample by it's key\n",
    "    sample = data.samples.pop(samplekey)\n",
    "\n",
    "    ## now update the sample.name attribute to a new val\n",
    "    ## here we add the name \"New_\" to each sample\n",
    "    sample.name = \"New_\"+sample.name\n",
    "\n",
    "    ## now put the Sample back into the dict w/ a matching key\n",
    "    data.samples[sample.name] = sample\n",
    "\n",
    "## print the results\n",
    "for key, val in data.samples.items():\n",
    "    ## print the original fastq file for this sample\n",
    "    print val.files.fastqs[0]\n",
    "    ## print its new key and sample.name\n",
    "    print key, val.name"
   ]
  },
  {
   "cell_type": "markdown",
   "metadata": {},
   "source": [
    "### Trying to change names after step2\n",
    "Don't do this. It will break the Sample object's paths used to find file names created in previous steps. You can only change file names after step1, where the Sample objects have just been created but have not yet been used to create new Files. "
   ]
  },
  {
   "cell_type": "code",
   "execution_count": 44,
   "metadata": {
    "collapsed": false
   },
   "outputs": [],
   "source": [
    "data.step2()"
   ]
  },
  {
   "cell_type": "code",
   "execution_count": 46,
   "metadata": {
    "collapsed": false
   },
   "outputs": [
    {
     "name": "stdout",
     "output_type": "stream",
     "text": [
      "          state  reads_raw  reads_filtered\n",
      "New_1A_X      2      20099           20099\n",
      "New_1B_0      2      19977           19977\n",
      "New_1C_0      2      20114           20114\n",
      "New_1D_0      2      19895           19895\n",
      "New_2E_0      2      19928           19928\n",
      "New_2F_0      2      19934           19934\n",
      "New_2G_0      2      20026           20026\n",
      "New_2H_0      2      19936           19936\n",
      "New_3I_0      2      20084           20084\n",
      "New_3J_0      2      20011           20011\n",
      "New_3K_0      2      20117           20117\n",
      "New_3L_0      2      19901           19901\n"
     ]
    }
   ],
   "source": [
    "print data.stats"
   ]
  }
 ],
 "metadata": {
  "kernelspec": {
   "display_name": "Python 2",
   "language": "python",
   "name": "python2"
  },
  "language_info": {
   "codemirror_mode": {
    "name": "ipython",
    "version": 2
   },
   "file_extension": ".py",
   "mimetype": "text/x-python",
   "name": "python",
   "nbconvert_exporter": "python",
   "pygments_lexer": "ipython2",
   "version": "2.7.11"
  }
 },
 "nbformat": 4,
 "nbformat_minor": 0
}
