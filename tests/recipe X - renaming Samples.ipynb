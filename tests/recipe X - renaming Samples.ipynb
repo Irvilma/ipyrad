{
 "cells": [
  {
   "cell_type": "markdown",
   "metadata": {},
   "source": [
    "# Recipe X -- renaming Samples"
   ]
  },
  {
   "cell_type": "markdown",
   "metadata": {},
   "source": [
    "### Where are Sample names stored?\n",
    "In ipyrad sample names are stored as an attribute of __Sample__ objects, and Sample objects are stored in a dictionary that can be accessed from __Assembly__ objects. Let's first create an Assembly object from the test data included with ipyrad to use as an example. \n",
    "\n",
    "We load existing fastq files because this is probably the most common case where you would want to change the formatting of names to be different from the format of input data files. Otherwise, by default, Sample names will be extracted from the names of the input fastq files. "
   ]
  },
  {
   "cell_type": "code",
   "execution_count": 1,
   "metadata": {
    "collapsed": false
   },
   "outputs": [
    {
     "name": "stderr",
     "output_type": "stream",
     "text": [
      "DEBUG:ipyrad:H4CKERZ-mode: __loglevel__ = DEBUG\n",
      "INFO:ipyrad.core.assembly:try 10: starting controller\n",
      "DEBUG:ipyrad.core.assembly:OK! Connected to (4) engines\n"
     ]
    },
    {
     "name": "stdout",
     "output_type": "stream",
     "text": [
      "  New Assembly: data\n",
      "12 new Samples created in `data`.\n",
      "12 fastq files linked to 12 new Samples.\n"
     ]
    },
    {
     "data": {
      "text/plain": [
       "{'1A_0': <ipyrad.core.sample.Sample at 0x7f3d759dcf10>,\n",
       " '1B_0': <ipyrad.core.sample.Sample at 0x7f3d759dc850>,\n",
       " '1C_0': <ipyrad.core.sample.Sample at 0x7f3d759cf090>,\n",
       " '1D_0': <ipyrad.core.sample.Sample at 0x7f3d759cf8d0>,\n",
       " '2E_0': <ipyrad.core.sample.Sample at 0x7f3d75a3b190>,\n",
       " '2F_0': <ipyrad.core.sample.Sample at 0x7f3d759b0d10>,\n",
       " '2G_0': <ipyrad.core.sample.Sample at 0x7f3d759c31d0>,\n",
       " '2H_0': <ipyrad.core.sample.Sample at 0x7f3d759c3b90>,\n",
       " '3I_0': <ipyrad.core.sample.Sample at 0x7f3d75a49350>,\n",
       " '3J_0': <ipyrad.core.sample.Sample at 0x7f3d75a21f10>,\n",
       " '3K_0': <ipyrad.core.sample.Sample at 0x7f3d75a41a90>,\n",
       " '3L_0': <ipyrad.core.sample.Sample at 0x7f3d75a414d0>}"
      ]
     },
     "execution_count": 1,
     "metadata": {},
     "output_type": "execute_result"
    }
   ],
   "source": [
    "## load ipyrad\n",
    "import ipyrad as ip\n",
    "\n",
    "## create a new Assembly Object named for our project\n",
    "data = ip.Assembly(\"data\")\n",
    "\n",
    "## set path to some demultiplexed fastq data\n",
    "data.set_params(\"sorted_fastq_path\", \"test_rad/data1_fastqs/*.gz\")\n",
    "\n",
    "## link the demuliplexed fastq files to new Samples\n",
    "data.step1()\n",
    "\n",
    "## print the dictionary of Samples\n",
    "data.samples"
   ]
  },
  {
   "cell_type": "markdown",
   "metadata": {},
   "source": [
    "### A primer on Python dictionaries\n",
    "We created an Assembly Object with 12 Samples. We can view the Samples linked to this Assembly as a dictionary. You can see that each Sample has a name that is a __key__ in the dictionary, and the stored __values__ are objects called `<ipyrad.core.sample.Sample>`, which is just a reference to the fact they are ipyrad Sample objects. "
   ]
  },
  {
   "cell_type": "code",
   "execution_count": 2,
   "metadata": {
    "collapsed": false
   },
   "outputs": [
    {
     "name": "stdout",
     "output_type": "stream",
     "text": [
      "2G_0 <ipyrad.core.sample.Sample object at 0x7f3d759c31d0>\n",
      "3K_0 <ipyrad.core.sample.Sample object at 0x7f3d75a41a90>\n",
      "3J_0 <ipyrad.core.sample.Sample object at 0x7f3d75a21f10>\n",
      "2E_0 <ipyrad.core.sample.Sample object at 0x7f3d75a3b190>\n",
      "1A_0 <ipyrad.core.sample.Sample object at 0x7f3d759dcf10>\n",
      "1B_0 <ipyrad.core.sample.Sample object at 0x7f3d759dc850>\n",
      "3I_0 <ipyrad.core.sample.Sample object at 0x7f3d75a49350>\n",
      "3L_0 <ipyrad.core.sample.Sample object at 0x7f3d75a414d0>\n",
      "2F_0 <ipyrad.core.sample.Sample object at 0x7f3d759b0d10>\n",
      "1C_0 <ipyrad.core.sample.Sample object at 0x7f3d759cf090>\n",
      "1D_0 <ipyrad.core.sample.Sample object at 0x7f3d759cf8d0>\n",
      "2H_0 <ipyrad.core.sample.Sample object at 0x7f3d759c3b90>\n"
     ]
    }
   ],
   "source": [
    "## print the key and value pairs in the dictionary\n",
    "for key, val in data.samples.items():\n",
    "    print key, val"
   ]
  },
  {
   "cell_type": "code",
   "execution_count": 3,
   "metadata": {
    "collapsed": false
   },
   "outputs": [
    {
     "name": "stdout",
     "output_type": "stream",
     "text": [
      "2G_0 <ipyrad.core.sample.Sample object at 0x7f3d759c31d0>\n",
      "3K_0 <ipyrad.core.sample.Sample object at 0x7f3d75a41a90>\n",
      "3J_0 <ipyrad.core.sample.Sample object at 0x7f3d75a21f10>\n",
      "2E_0 <ipyrad.core.sample.Sample object at 0x7f3d75a3b190>\n",
      "1A_0 <ipyrad.core.sample.Sample object at 0x7f3d759dcf10>\n",
      "1B_0 <ipyrad.core.sample.Sample object at 0x7f3d759dc850>\n",
      "3I_0 <ipyrad.core.sample.Sample object at 0x7f3d75a49350>\n",
      "3L_0 <ipyrad.core.sample.Sample object at 0x7f3d75a414d0>\n",
      "2F_0 <ipyrad.core.sample.Sample object at 0x7f3d759b0d10>\n",
      "1C_0 <ipyrad.core.sample.Sample object at 0x7f3d759cf090>\n",
      "1D_0 <ipyrad.core.sample.Sample object at 0x7f3d759cf8d0>\n",
      "2H_0 <ipyrad.core.sample.Sample object at 0x7f3d759c3b90>\n"
     ]
    }
   ],
   "source": [
    "## Another way to access the same key:val pairs\n",
    "for key in data.samples:\n",
    "    print key, data.samples[key]"
   ]
  },
  {
   "cell_type": "markdown",
   "metadata": {},
   "source": [
    "### Sample object attributes"
   ]
  },
  {
   "cell_type": "markdown",
   "metadata": {},
   "source": [
    "Sample objects have attributes of their own, including one called __name__, which we can access. The name attribute of Samples is used to store file names so this is the important value that we want to change. However, we also need to change the dictionary __key__, since this is used to reference Samples. "
   ]
  },
  {
   "cell_type": "code",
   "execution_count": 4,
   "metadata": {
    "collapsed": false
   },
   "outputs": [
    {
     "name": "stdout",
     "output_type": "stream",
     "text": [
      "2G_0 2G_0 <ipyrad.core.sample.Sample object at 0x7f3d759c31d0>\n",
      "3K_0 3K_0 <ipyrad.core.sample.Sample object at 0x7f3d75a41a90>\n",
      "3J_0 3J_0 <ipyrad.core.sample.Sample object at 0x7f3d75a21f10>\n",
      "2E_0 2E_0 <ipyrad.core.sample.Sample object at 0x7f3d75a3b190>\n",
      "1A_0 1A_0 <ipyrad.core.sample.Sample object at 0x7f3d759dcf10>\n",
      "1B_0 1B_0 <ipyrad.core.sample.Sample object at 0x7f3d759dc850>\n",
      "3I_0 3I_0 <ipyrad.core.sample.Sample object at 0x7f3d75a49350>\n",
      "3L_0 3L_0 <ipyrad.core.sample.Sample object at 0x7f3d75a414d0>\n",
      "2F_0 2F_0 <ipyrad.core.sample.Sample object at 0x7f3d759b0d10>\n",
      "1C_0 1C_0 <ipyrad.core.sample.Sample object at 0x7f3d759cf090>\n",
      "1D_0 1D_0 <ipyrad.core.sample.Sample object at 0x7f3d759cf8d0>\n",
      "2H_0 2H_0 <ipyrad.core.sample.Sample object at 0x7f3d759c3b90>\n"
     ]
    }
   ],
   "source": [
    "## print key and name attribute of a Sample object\n",
    "for key, val in data.samples.items():\n",
    "    print key, val.name, val"
   ]
  },
  {
   "cell_type": "markdown",
   "metadata": {},
   "source": [
    "### How can Sample names be changed?\n",
    "By modifying the samples dictionary of an Assembly object. However, modifying keys of a dictionary is a little tricky, and so I would recommend using one of the methods shown below. "
   ]
  },
  {
   "cell_type": "markdown",
   "metadata": {},
   "source": [
    "### Replacing a single name"
   ]
  },
  {
   "cell_type": "code",
   "execution_count": 5,
   "metadata": {
    "collapsed": true
   },
   "outputs": [],
   "source": [
    "## use pop to select one Sample by it's key, which\n",
    "## also removes that key and value pair from the dict\n",
    "sample = data.samples.pop(\"1A_0\")\n",
    "\n",
    "## now update its sample.name attribute to a new value\n",
    "sample.name = \"1A_X\"\n",
    "\n",
    "## now put the Sample back into the dict w/ a matching key\n",
    "data.samples[sample.name] = sample"
   ]
  },
  {
   "cell_type": "code",
   "execution_count": 6,
   "metadata": {
    "collapsed": false
   },
   "outputs": [
    {
     "name": "stdout",
     "output_type": "stream",
     "text": [
      "2G_0 2G_0 <ipyrad.core.sample.Sample object at 0x7f3d759c31d0>\n",
      "3K_0 3K_0 <ipyrad.core.sample.Sample object at 0x7f3d75a41a90>\n",
      "3J_0 3J_0 <ipyrad.core.sample.Sample object at 0x7f3d75a21f10>\n",
      "2E_0 2E_0 <ipyrad.core.sample.Sample object at 0x7f3d75a3b190>\n",
      "1A_X 1A_X <ipyrad.core.sample.Sample object at 0x7f3d759dcf10>\n",
      "1B_0 1B_0 <ipyrad.core.sample.Sample object at 0x7f3d759dc850>\n",
      "3I_0 3I_0 <ipyrad.core.sample.Sample object at 0x7f3d75a49350>\n",
      "3L_0 3L_0 <ipyrad.core.sample.Sample object at 0x7f3d75a414d0>\n",
      "2F_0 2F_0 <ipyrad.core.sample.Sample object at 0x7f3d759b0d10>\n",
      "1C_0 1C_0 <ipyrad.core.sample.Sample object at 0x7f3d759cf090>\n",
      "1D_0 1D_0 <ipyrad.core.sample.Sample object at 0x7f3d759cf8d0>\n",
      "2H_0 2H_0 <ipyrad.core.sample.Sample object at 0x7f3d759c3b90>\n"
     ]
    }
   ],
   "source": [
    "## look at the change\n",
    "for key, val in data.samples.items():\n",
    "    print key, val.name, val"
   ]
  },
  {
   "cell_type": "markdown",
   "metadata": {},
   "source": [
    "### Modifying all names\n",
    "Problems arise when you try to modify a dictionary while you are iterating over it. The simplest way around this is to get the list of keys you wish to iterate over before starting the loop. This way the keys will not change during the iteration. Below we first store key names in a list called names. Then we iterate over names and replace keys and Sample.names the same as above.  "
   ]
  },
  {
   "cell_type": "code",
   "execution_count": null,
   "metadata": {
    "collapsed": true
   },
   "outputs": [],
   "source": [
    "## get list of keys in dict\n",
    "names = data.samples.keys()\n",
    "\n",
    "## iterate over keys in names\n",
    "for samplekey in names:\n",
    "    ## use pop to select the Sample by it's key\n",
    "    sample = data.samples.pop(samplekey)\n",
    "\n",
    "    ## now update the sample.name attribute to a new val\n",
    "    ## here we add the name \"New_\" to each sample\n",
    "    sample.name = \"New_\"+sample.name\n",
    "\n",
    "    ## now put the Sample back into the dict w/ a matching key\n",
    "    data.samples[sample.name] = sample"
   ]
  },
  {
   "cell_type": "markdown",
   "metadata": {},
   "source": [
    "#### Print the results for a sanity check\n",
    "compare the original fastq file name and the new name."
   ]
  },
  {
   "cell_type": "code",
   "execution_count": 10,
   "metadata": {
    "collapsed": false
   },
   "outputs": [
    {
     "name": "stdout",
     "output_type": "stream",
     "text": [
      "test_rad/data1_fastqs/2G_0_R1_.fastq.gz\n",
      "New_2G_0 New_2G_0 \n",
      "\n",
      "test_rad/data1_fastqs/3K_0_R1_.fastq.gz\n",
      "New_3K_0 New_3K_0 \n",
      "\n",
      "test_rad/data1_fastqs/3J_0_R1_.fastq.gz\n",
      "New_3J_0 New_3J_0 \n",
      "\n",
      "test_rad/data1_fastqs/1B_0_R1_.fastq.gz\n",
      "New_1B_0 New_1B_0 \n",
      "\n",
      "test_rad/data1_fastqs/2F_0_R1_.fastq.gz\n",
      "New_2F_0 New_2F_0 \n",
      "\n",
      "test_rad/data1_fastqs/3L_0_R1_.fastq.gz\n",
      "New_3L_0 New_3L_0 \n",
      "\n",
      "test_rad/data1_fastqs/3I_0_R1_.fastq.gz\n",
      "New_3I_0 New_3I_0 \n",
      "\n",
      "test_rad/data1_fastqs/2H_0_R1_.fastq.gz\n",
      "New_2H_0 New_2H_0 \n",
      "\n",
      "test_rad/data1_fastqs/1A_0_R1_.fastq.gz\n",
      "New_1A_X New_1A_X \n",
      "\n",
      "test_rad/data1_fastqs/1C_0_R1_.fastq.gz\n",
      "New_1C_0 New_1C_0 \n",
      "\n",
      "test_rad/data1_fastqs/1D_0_R1_.fastq.gz\n",
      "New_1D_0 New_1D_0 \n",
      "\n",
      "test_rad/data1_fastqs/2E_0_R1_.fastq.gz\n",
      "New_2E_0 New_2E_0 \n",
      "\n"
     ]
    }
   ],
   "source": [
    "## print the results\n",
    "for key, val in data.samples.items():\n",
    "    ## print the original fastq file for this sample\n",
    "    print val.files.fastqs[0][0]\n",
    "    \n",
    "    ## print its new key and sample.name\n",
    "    print key, val.name, '\\n'"
   ]
  }
 ],
 "metadata": {
  "kernelspec": {
   "display_name": "Python 2",
   "language": "python",
   "name": "python2"
  },
  "language_info": {
   "codemirror_mode": {
    "name": "ipython",
    "version": 2
   },
   "file_extension": ".py",
   "mimetype": "text/x-python",
   "name": "python",
   "nbconvert_exporter": "python",
   "pygments_lexer": "ipython2",
   "version": "2.7.11"
  }
 },
 "nbformat": 4,
 "nbformat_minor": 0
}
