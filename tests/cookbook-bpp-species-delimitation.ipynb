{
 "cells": [
  {
   "cell_type": "markdown",
   "metadata": {
    "deletable": true,
    "editable": true
   },
   "source": [
    "# Species-tree & species-delimitation using *bpp* (BP&P)\n",
    "The program *bpp* by Rannala & Yang (2010; 2015) is a powerful tool for inferring species tree parameters and testing species delimitation hypotheses. It is *relatively* easy to use, and best of all, it's *quite fast*, although not highly parallelizable. This notebook describes a streamlined approach we've developed to easily setup input files for testing different hypthotheses in *bpp*, and to do so in a clear programmatic way that makes it easy to perform many tests over many different parameter settings. We also show how to submit many separate jobs to run in parallel on a cluster. \n",
    "\n",
    "### Using Jupyter notebooks\n",
    "If you have not used Jupyter notebooks before, please see our other documentation for an introduction. The purpose of these notebooks is to create a reproducible document that is easy to share, reproduce, and/or use as supplemental materials, by simply uploading it to a site such as github. You can execute the code (in this case written in Python) in the cells below to reproduce our results."
   ]
  },
  {
   "cell_type": "markdown",
   "metadata": {
    "deletable": true,
    "editable": true
   },
   "source": [
    "### Install required software\n",
    "All software required for this notebook can be installed using conda. "
   ]
  },
  {
   "cell_type": "code",
   "execution_count": 1,
   "metadata": {
    "collapsed": true,
    "deletable": true,
    "editable": true
   },
   "outputs": [],
   "source": [
    "## conda install -c ipyrad ipyrad\n",
    "## conda install -c ipyrad bpp\n",
    "## conda install -c etetoolkit ete3\n",
    "## pip install toyplot"
   ]
  },
  {
   "cell_type": "code",
   "execution_count": 2,
   "metadata": {
    "collapsed": false,
    "deletable": true,
    "editable": true
   },
   "outputs": [],
   "source": [
    "import ipyrad.analysis as ipa         ## ipyrad analysis tools\n",
    "import ipyparallel as ipp             ## parallelization"
   ]
  },
  {
   "cell_type": "markdown",
   "metadata": {
    "deletable": true,
    "editable": true
   },
   "source": [
    "### Connect to an ipyparallel cluster\n",
    "We will use the `ipyparallel` library to submit jobs to run in parallel on a cluster. We have a separate tutorial with more background about using ipyparallel. You will need to have an `ipcluster` instance running in a separate terminal on your machine (or ideally, it is running on your HPC cluster). The code below simply connects to that cluster and prints how many CPUs are available for use. If this is confusing and you don't want to learn to use `ipyparallel`, no problem, just continue without it, you can still run parallel code just not distributed across multiple nodes of a HPC cluster. "
   ]
  },
  {
   "cell_type": "code",
   "execution_count": 3,
   "metadata": {
    "collapsed": false,
    "deletable": true,
    "editable": true
   },
   "outputs": [
    {
     "name": "stdout",
     "output_type": "stream",
     "text": [
      "Connected to 4 cores\n"
     ]
    }
   ],
   "source": [
    "## Connect to a running ipcluster instance and create load-balancer\n",
    "ipyclient = ipp.Client()\n",
    "\n",
    "## print information about our cluster\n",
    "print \"Connected to {} cores\".format(len(ipyclient))"
   ]
  },
  {
   "cell_type": "markdown",
   "metadata": {
    "deletable": true,
    "editable": true
   },
   "source": [
    "### Enter paths and input files  (I/O) \n"
   ]
  },
  {
   "cell_type": "code",
   "execution_count": 4,
   "metadata": {
    "collapsed": false,
    "deletable": true,
    "editable": true
   },
   "outputs": [],
   "source": [
    "## set the location of our input .loci file\n",
    "LOCIFILE = \"./branch-test/pedtest_outfiles/pedtest.loci\"\n",
    "\n",
    "## set the name of the output directory. It will be created if it doesn't exist.\n",
    "WORKDIR = \"./analysis-bpp\"\n",
    "\n",
    "## a tree hypothesis (guidetree) for our analyses (here based on tetrad results)\n",
    "NEWICK = \"((((sup, cya), cys), ((rex, rck), tha)), prz);\"\n",
    "\n",
    "## a dictionary mapping sample names to 'species' names\n",
    "IMAP = {\n",
    "    \"prz\": [\"32082_przewalskii\", \"33588_przewalskii\"], \n",
    "    \"sup\": [\"29154_superba\"],\n",
    "    \"cya\": [\"30686_cyathophylla\"],\n",
    "    \"cys\": [\"41478_cyathophylloides\", \"41954_cyathophylloides\"],\n",
    "    \"tha\": [\"33413_thamno\"], \n",
    "    \"rck\": [\"30556_thamno\", \"35236_rex\"],\n",
    "    \"rex\": [\"35236_rex\", \"35236_rex\", \"39618_rex\", \"38362_rex\"],  \n",
    "}\n",
    "\n",
    "## this means that loci will only be kept if they have data for at \n",
    "## least N samples in each species.\n",
    "MINMAP = {\n",
    "    \"prz\": 2, \n",
    "    \"sup\": 1,\n",
    "    \"cya\": 1,\n",
    "    \"cys\": 2,\n",
    "    \"tha\": 1, \n",
    "    \"rck\": 2,\n",
    "    \"rex\": 4,  \n",
    "}"
   ]
  },
  {
   "cell_type": "code",
   "execution_count": 5,
   "metadata": {
    "collapsed": false,
    "deletable": true,
    "editable": true
   },
   "outputs": [
    {
     "data": {
      "text/html": [
       "<div align=\"center\" class=\"toyplot\" id=\"t1a13346a30de4c37b06c9c2e8d8560df\"><svg class=\"toyplot-canvas-Canvas\" height=\"300.0px\" id=\"t8bad799eddef4e5e986841e471aeca11\" preserveAspectRatio=\"xMidYMid meet\" style=\"background-color:transparent;fill:rgb(16.1%,15.3%,14.1%);fill-opacity:1.0;font-family:Helvetica;font-size:12px;opacity:1.0;stroke:rgb(16.1%,15.3%,14.1%);stroke-opacity:1.0;stroke-width:1.0\" viewBox=\"0 0 200.0 300.0\" width=\"200.0px\" xmlns=\"http://www.w3.org/2000/svg\" xmlns:toyplot=\"http://www.sandia.gov/toyplot\" xmlns:xlink=\"http://www.w3.org/1999/xlink\"><g class=\"toyplot-coordinates-Cartesian\" id=\"tca2013053b214ea18462310fae153645\"><clipPath id=\"tbe3d3934e7814d889d8773644e85391c\"><rect height=\"260.0\" width=\"180.0\" x=\"10.0\" y=\"20.0\"></rect></clipPath><g clip-path=\"url(#tbe3d3934e7814d889d8773644e85391c)\"><g class=\"toyplot-mark-Graph\" id=\"t9900f827c4844079a0ad75e4cd0a6c13\"><g class=\"toyplot-Edges\"><path d=\"M 82.1963070943 102.380952381 L 144.392614189 73.8095238095\" style=\"fill:none;stroke:rgb(16.1%,15.3%,14.1%);stroke-opacity:1.0;stroke-width:3.0\"></path><path d=\"M 113.294460641 130.952380952 L 144.392614189 111.904761905\" style=\"fill:none;stroke:rgb(16.1%,15.3%,14.1%);stroke-opacity:1.0;stroke-width:3.0\"></path><path d=\"M 113.294460641 130.952380952 L 144.392614189 150.0\" style=\"fill:none;stroke:rgb(16.1%,15.3%,14.1%);stroke-opacity:1.0;stroke-width:3.0\"></path><path d=\"M 82.1963070943 102.380952381 L 113.294460641 130.952380952\" style=\"fill:none;stroke:rgb(16.1%,15.3%,14.1%);stroke-opacity:1.0;stroke-width:3.0\"></path><path d=\"M 51.0981535471 159.523809524 L 82.1963070943 102.380952381\" style=\"fill:none;stroke:rgb(16.1%,15.3%,14.1%);stroke-opacity:1.0;stroke-width:3.0\"></path><path d=\"M 82.1963070943 216.666666667 L 144.392614189 188.095238095\" style=\"fill:none;stroke:rgb(16.1%,15.3%,14.1%);stroke-opacity:1.0;stroke-width:3.0\"></path><path d=\"M 113.294460641 245.238095238 L 144.392614189 226.19047619\" style=\"fill:none;stroke:rgb(16.1%,15.3%,14.1%);stroke-opacity:1.0;stroke-width:3.0\"></path><path d=\"M 113.294460641 245.238095238 L 144.392614189 264.285714286\" style=\"fill:none;stroke:rgb(16.1%,15.3%,14.1%);stroke-opacity:1.0;stroke-width:3.0\"></path><path d=\"M 82.1963070943 216.666666667 L 113.294460641 245.238095238\" style=\"fill:none;stroke:rgb(16.1%,15.3%,14.1%);stroke-opacity:1.0;stroke-width:3.0\"></path><path d=\"M 51.0981535471 159.523809524 L 82.1963070943 216.666666667\" style=\"fill:none;stroke:rgb(16.1%,15.3%,14.1%);stroke-opacity:1.0;stroke-width:3.0\"></path><path d=\"M 20.0 97.619047619 L 51.0981535471 159.523809524\" style=\"fill:none;stroke:rgb(16.1%,15.3%,14.1%);stroke-opacity:1.0;stroke-width:3.0\"></path><path d=\"M 20.0 97.619047619 L 144.392614189 35.7142857143\" style=\"fill:none;stroke:rgb(16.1%,15.3%,14.1%);stroke-opacity:1.0;stroke-width:3.0\"></path></g><g class=\"toyplot-Vertices\"><g class=\"toyplot-Datum\" style=\"fill:rgb(40%,76.1%,64.7%);fill-opacity:1.0;opacity:1.0;stroke:rgb(40%,76.1%,64.7%);stroke-opacity:1.0\"><circle cx=\"20.0\" cy=\"97.619047619047592\" r=\"0.0\"></circle></g><g class=\"toyplot-Datum\" style=\"fill:rgb(40%,76.1%,64.7%);fill-opacity:1.0;opacity:1.0;stroke:rgb(40%,76.1%,64.7%);stroke-opacity:1.0\"><circle cx=\"51.098153547133137\" cy=\"159.52380952380952\" r=\"0.0\"></circle></g><g class=\"toyplot-Datum\" style=\"fill:rgb(40%,76.1%,64.7%);fill-opacity:1.0;opacity:1.0;stroke:rgb(40%,76.1%,64.7%);stroke-opacity:1.0\"><circle cx=\"82.196307094266274\" cy=\"102.38095238095235\" r=\"0.0\"></circle></g><g class=\"toyplot-Datum\" style=\"fill:rgb(40%,76.1%,64.7%);fill-opacity:1.0;opacity:1.0;stroke:rgb(40%,76.1%,64.7%);stroke-opacity:1.0\"><circle cx=\"113.29446064139943\" cy=\"130.95238095238093\" r=\"0.0\"></circle></g><g class=\"toyplot-Datum\" style=\"fill:rgb(40%,76.1%,64.7%);fill-opacity:1.0;opacity:1.0;stroke:rgb(40%,76.1%,64.7%);stroke-opacity:1.0\"><circle cx=\"82.196307094266274\" cy=\"216.66666666666666\" r=\"0.0\"></circle></g><g class=\"toyplot-Datum\" style=\"fill:rgb(40%,76.1%,64.7%);fill-opacity:1.0;opacity:1.0;stroke:rgb(40%,76.1%,64.7%);stroke-opacity:1.0\"><circle cx=\"113.29446064139943\" cy=\"245.23809523809524\" r=\"0.0\"></circle></g><g class=\"toyplot-Datum\" style=\"fill:rgb(40%,76.1%,64.7%);fill-opacity:1.0;opacity:1.0;stroke:rgb(40%,76.1%,64.7%);stroke-opacity:1.0\"><circle cx=\"144.39261418853255\" cy=\"35.714285714285694\" r=\"0.0\"></circle></g><g class=\"toyplot-Datum\" style=\"fill:rgb(40%,76.1%,64.7%);fill-opacity:1.0;opacity:1.0;stroke:rgb(40%,76.1%,64.7%);stroke-opacity:1.0\"><circle cx=\"144.39261418853255\" cy=\"73.809523809523796\" r=\"0.0\"></circle></g><g class=\"toyplot-Datum\" style=\"fill:rgb(40%,76.1%,64.7%);fill-opacity:1.0;opacity:1.0;stroke:rgb(40%,76.1%,64.7%);stroke-opacity:1.0\"><circle cx=\"144.39261418853255\" cy=\"111.90476190476187\" r=\"0.0\"></circle></g><g class=\"toyplot-Datum\" style=\"fill:rgb(40%,76.1%,64.7%);fill-opacity:1.0;opacity:1.0;stroke:rgb(40%,76.1%,64.7%);stroke-opacity:1.0\"><circle cx=\"144.39261418853255\" cy=\"150.0\" r=\"0.0\"></circle></g><g class=\"toyplot-Datum\" style=\"fill:rgb(40%,76.1%,64.7%);fill-opacity:1.0;opacity:1.0;stroke:rgb(40%,76.1%,64.7%);stroke-opacity:1.0\"><circle cx=\"144.39261418853255\" cy=\"188.0952380952381\" r=\"0.0\"></circle></g><g class=\"toyplot-Datum\" style=\"fill:rgb(40%,76.1%,64.7%);fill-opacity:1.0;opacity:1.0;stroke:rgb(40%,76.1%,64.7%);stroke-opacity:1.0\"><circle cx=\"144.39261418853255\" cy=\"226.1904761904762\" r=\"0.0\"></circle></g><g class=\"toyplot-Datum\" style=\"fill:rgb(40%,76.1%,64.7%);fill-opacity:1.0;opacity:1.0;stroke:rgb(40%,76.1%,64.7%);stroke-opacity:1.0\"><circle cx=\"144.39261418853255\" cy=\"264.28571428571428\" r=\"0.0\"></circle></g></g></g><g class=\"toyplot-mark-Text\" id=\"ta183175d5813469bb1310b7df2266cc0\" style=\"alignment-baseline:middle;font-size:12px;font-weight:normal;stroke:none;text-anchor:start\"><g class=\"toyplot-Series\"><text class=\"toyplot-Datum\" style=\"dominant-baseline:middle;fill:rgb(16.1%,15.3%,14.1%);fill-opacity:1.0;font-size:12px;font-weight:normal;opacity:1.0;stroke:none;text-anchor:start\" transform=\"translate(150.61224489795919,35.714285714285694)\"><tspan style=\"dominant-baseline:inherit\">prz</tspan></text><text class=\"toyplot-Datum\" style=\"dominant-baseline:middle;fill:rgb(16.1%,15.3%,14.1%);fill-opacity:1.0;font-size:12px;font-weight:normal;opacity:1.0;stroke:none;text-anchor:start\" transform=\"translate(150.61224489795919,73.809523809523796)\"><tspan style=\"dominant-baseline:inherit\">cys</tspan></text><text class=\"toyplot-Datum\" style=\"dominant-baseline:middle;fill:rgb(16.1%,15.3%,14.1%);fill-opacity:1.0;font-size:12px;font-weight:normal;opacity:1.0;stroke:none;text-anchor:start\" transform=\"translate(150.61224489795919,111.90476190476187)\"><tspan style=\"dominant-baseline:inherit\">sup</tspan></text><text class=\"toyplot-Datum\" style=\"dominant-baseline:middle;fill:rgb(16.1%,15.3%,14.1%);fill-opacity:1.0;font-size:12px;font-weight:normal;opacity:1.0;stroke:none;text-anchor:start\" transform=\"translate(150.61224489795919,150.0)\"><tspan style=\"dominant-baseline:inherit\">cya</tspan></text><text class=\"toyplot-Datum\" style=\"dominant-baseline:middle;fill:rgb(16.1%,15.3%,14.1%);fill-opacity:1.0;font-size:12px;font-weight:normal;opacity:1.0;stroke:none;text-anchor:start\" transform=\"translate(150.61224489795919,188.0952380952381)\"><tspan style=\"dominant-baseline:inherit\">tha</tspan></text><text class=\"toyplot-Datum\" style=\"dominant-baseline:middle;fill:rgb(16.1%,15.3%,14.1%);fill-opacity:1.0;font-size:12px;font-weight:normal;opacity:1.0;stroke:none;text-anchor:start\" transform=\"translate(150.61224489795919,226.1904761904762)\"><tspan style=\"dominant-baseline:inherit\">rex</tspan></text><text class=\"toyplot-Datum\" style=\"dominant-baseline:middle;fill:rgb(16.1%,15.3%,14.1%);fill-opacity:1.0;font-size:12px;font-weight:normal;opacity:1.0;stroke:none;text-anchor:start\" transform=\"translate(150.61224489795919,264.28571428571428)\"><tspan style=\"dominant-baseline:inherit\">rck</tspan></text></g></g></g></g></svg><div class=\"toyplot-interactive\"></div></div>"
      ]
     },
     "metadata": {},
     "output_type": "display_data"
    }
   ],
   "source": [
    "## print tree \n",
    "tree = ipa.tree(NEWICK)\n",
    "tree.draw(height=300);"
   ]
  },
  {
   "cell_type": "markdown",
   "metadata": {
    "deletable": true,
    "editable": true
   },
   "source": [
    "### Create an `ipa.bpp()` object\n",
    "\n",
    "Running *bpp* requires three input files (.ctl, .imap, and .seq) of which the .ctl file is the most important, since it contains the parameters for the run and points to the location of the other two files. Consequently, if we plan to run analyses under a range of parameter settings and to run multiple replicates this ends up requiring that you create dozens of input files, which if done by hand is a huge pain in the butt. Thus, we have created a convenience function for creating these input files, and, if so desired, to submit them to run in parallel on a cluster. "
   ]
  },
  {
   "cell_type": "code",
   "execution_count": 6,
   "metadata": {
    "collapsed": false,
    "deletable": true,
    "editable": true
   },
   "outputs": [],
   "source": [
    "## create a bpp analysis object with the required args passed to it.\n",
    "b1 = ipa.bpp(locifile=LOCIFILE, \n",
    "             guidetree=NEWICK,\n",
    "             imap=IMAP,\n",
    "             workdir=WORKDIR)"
   ]
  },
  {
   "cell_type": "code",
   "execution_count": 7,
   "metadata": {
    "collapsed": false,
    "deletable": true,
    "editable": true
   },
   "outputs": [
    {
     "name": "stdout",
     "output_type": "stream",
     "text": [
      "maxloci   500                 \n",
      "minmap    {'cys': 2, 'rex': 4, 'sup': 1, 'cya': 1, 'rck': 2, 'tha': 1, 'prz': 2}\n",
      "minsnps   4                   \n",
      "\n"
     ]
    }
   ],
   "source": [
    "## set filtering parameters\n",
    "b1.filters.maxloci = 500\n",
    "b1.filters.minsnps = 4\n",
    "b1.filters.minmap = MINMAP\n",
    "print b1.filters"
   ]
  },
  {
   "cell_type": "code",
   "execution_count": 8,
   "metadata": {
    "collapsed": false,
    "deletable": true,
    "editable": true
   },
   "outputs": [
    {
     "name": "stdout",
     "output_type": "stream",
     "text": [
      "burnin          2500                \n",
      "cleandata       0                   \n",
      "delimit_alg     (0, 5)              \n",
      "finetune        (0.01, 0.01, 0.01, 0.01, 0.01, 0.01, 0.01, 0.01)\n",
      "infer_delimit   0                   \n",
      "infer_sptree    0                   \n",
      "nsample         25000               \n",
      "sampfreq        10                  \n",
      "seed            12345               \n",
      "tauprior        (2, 2000, 1)        \n",
      "thetaprior      (2, 2000)           \n",
      "usedata         1                   \n",
      "\n"
     ]
    }
   ],
   "source": [
    "## set bpp run parameters (~6 hours)\n",
    "b1.params.burnin = 2500\n",
    "b1.params.nsample = 25000\n",
    "b1.params.sampfreq = 10\n",
    "b1.params.tauprior = (2, 2000, 1)\n",
    "b1.params.thetaprior = (2, 2000)\n",
    "print b1.params"
   ]
  },
  {
   "cell_type": "markdown",
   "metadata": {
    "deletable": true,
    "editable": true
   },
   "source": [
    "### Option 1: simply write the bpp files\n",
    "You can simply write the bpp files using the `write_bpp_files()` function and then execute them yourself by calling the `bpp` executable on the .ctl file. If you do it this way, it is up to you to parallelize the code yourself. Try running this first and take a look at the files that were produced in your working directory (`bpp-00.ctl.txt`, `tmp.seqfile.txt`, and `tmp.imapfile.txt`). You can change the settings above and look at their effect on these files."
   ]
  },
  {
   "cell_type": "code",
   "execution_count": 9,
   "metadata": {
    "collapsed": false,
    "deletable": true,
    "editable": true
   },
   "outputs": [
    {
     "name": "stderr",
     "output_type": "stream",
     "text": [
      "input files created for job bpptest-b1 (500 loci)\n"
     ]
    }
   ],
   "source": [
    "## we'll name this test 'bpptest-b1'\n",
    "b1.write_bpp_files(\"bpptest-b1\")"
   ]
  },
  {
   "cell_type": "markdown",
   "metadata": {
    "deletable": true,
    "editable": true
   },
   "source": [
    "### Option 2: Submit many jobs to run in parallel\n",
    "Or, we have a function called `submit_bpp_jobs()` which can be used to submit a number of replicate jobs to run on a load-balanced job scheduler by passing it an `ipyparallel` client object. If submitting multiple replicates each will start from a different random seed, but you can still set the initial seed to make the runs reproducible. "
   ]
  },
  {
   "cell_type": "code",
   "execution_count": null,
   "metadata": {
    "collapsed": false,
    "deletable": true,
    "editable": true
   },
   "outputs": [],
   "source": [
    "## submit many reps of the same job\n",
    "b1.submit_bpp_jobs(prefix=\"bpptest-b1\",\n",
    "                   nreps=3, \n",
    "                   seed=98765, \n",
    "                   ipyclient=ipyclient)"
   ]
  },
  {
   "cell_type": "markdown",
   "metadata": {
    "deletable": true,
    "editable": true
   },
   "source": [
    "Similarly, you can submit many jobs with different params using a for-loop. If you do this, remember to assign a new name to each job so that it writes the output to differently named files."
   ]
  },
  {
   "cell_type": "code",
   "execution_count": 11,
   "metadata": {
    "collapsed": false,
    "deletable": true,
    "editable": true
   },
   "outputs": [
    {
     "name": "stderr",
     "output_type": "stream",
     "text": [
      "submitted 1 bpp jobs [tbpp-00-tau-2] (500 loci)\n",
      "submitted 1 bpp jobs [tbpp-00-tau-20] (500 loci)\n",
      "submitted 1 bpp jobs [tbpp-00-tau-200] (500 loci)\n"
     ]
    }
   ],
   "source": [
    "## or, submit many jobs with different params using a for-loop\n",
    "for tauprior in [2, 20, 200]:\n",
    "    b1.params.tauprior = (2, tauprior, 1)\n",
    "    b1.submit_bpp_jobs(prefix=\"bpptest-b1-tau-{}\".format(tauprior),\n",
    "                       nreps=1, \n",
    "                       seed=123, \n",
    "                       ipyclient=ipyclient,\n",
    "                      )"
   ]
  },
  {
   "cell_type": "markdown",
   "metadata": {
    "deletable": true,
    "editable": true
   },
   "source": [
    "You should also always run at least one job with the `usedata=0` option turned on. This will give you results that are dictated entirely by the prior settings. "
   ]
  },
  {
   "cell_type": "code",
   "execution_count": 12,
   "metadata": {
    "collapsed": false,
    "deletable": true,
    "editable": true
   },
   "outputs": [
    {
     "name": "stderr",
     "output_type": "stream",
     "text": [
      "submitted 1 bpp jobs [prior] (500 loci)\n"
     ]
    }
   ],
   "source": [
    "## again, remember to set a different name for the job.\n",
    "b1.params.usedata = 0\n",
    "b1.submit_bpp_jobs(prefix=\"prior\", \n",
    "                   nreps=1, \n",
    "                   seed=123,\n",
    "                   ipyclient=ipyclient,\n",
    "                  )"
   ]
  },
  {
   "cell_type": "markdown",
   "metadata": {
    "deletable": true,
    "editable": true
   },
   "source": [
    "### wait for parallel jobs to finish"
   ]
  },
  {
   "cell_type": "code",
   "execution_count": 17,
   "metadata": {
    "collapsed": false,
    "deletable": true,
    "editable": true
   },
   "outputs": [
    {
     "name": "stdout",
     "output_type": "stream",
     "text": [
      "   4/4 tasks finished after 22109 s\n",
      "done\n"
     ]
    }
   ],
   "source": [
    "## block until all jobs are finished\n",
    "ipyclient.wait_interactive()"
   ]
  },
  {
   "cell_type": "markdown",
   "metadata": {
    "deletable": true,
    "editable": true
   },
   "source": [
    "### Running other algorithms (species tree inference)"
   ]
  },
  {
   "cell_type": "code",
   "execution_count": 8,
   "metadata": {
    "collapsed": false,
    "deletable": true,
    "editable": true
   },
   "outputs": [
    {
     "data": {
      "text/plain": [
       "burnin          10000               \n",
       "cleandata       0                   \n",
       "delimit_alg     (0, 5)              \n",
       "finetune        (0.01, 0.01, 0.01, 0.01, 0.01, 0.01, 0.01, 0.01)\n",
       "infer_delimit   0                   \n",
       "infer_sptree    1                   \n",
       "nsample         100000              \n",
       "sampfreq        10                  \n",
       "seed            12345               \n",
       "tauprior        (4, 2, 1)           \n",
       "thetaprior      (5, 5)              \n",
       "usedata         1                   "
      ]
     },
     "execution_count": 8,
     "metadata": {},
     "output_type": "execute_result"
    }
   ],
   "source": [
    "## create a separate new bpp object\n",
    "bp01 = ipa.bpp(locifile=LOCIFILE, guidetree=NEWICK, imap=IMAP)\n",
    "\n",
    "## set limits on data size\n",
    "bp01.filters.minmap = MINMAP\n",
    "bp01.filters.maxloci = 500\n",
    "bp01.filters.minsnps = 2\n",
    "\n",
    "## set bpp run params\n",
    "bp01.usedata = 1\n",
    "bp01.params.burnin = 10000\n",
    "bp01.params.nsample = 100000\n",
    "bp01.params.sampfreq = 10\n",
    "bp01.params.infer_sptree = 1\n",
    "\n",
    "## print it\n",
    "bp01.params"
   ]
  },
  {
   "cell_type": "code",
   "execution_count": 14,
   "metadata": {
    "collapsed": false,
    "deletable": true,
    "editable": true
   },
   "outputs": [
    {
     "name": "stderr",
     "output_type": "stream",
     "text": [
      "submitted 1 bpp jobs [bp-01] (500 loci)\n",
      "submitted 1 bpp jobs [bp-01-prior] (500 loci)\n"
     ]
    }
   ],
   "source": [
    "## submit jobs\n",
    "bp01.submit_bpp_jobs(\"bp-01\", \n",
    "                     nreps=1,\n",
    "                     seed=123,\n",
    "                     ipyclient=ipyclient)\n",
    "\n",
    "## and submit a job w/o data.\n",
    "bp01.usedata = 0\n",
    "bp01.submit_bpp_jobs(\"bp-01-prior\", \n",
    "                     nreps=1, \n",
    "                     seed=123, \n",
    "                     ipyclient=ipyclient)"
   ]
  },
  {
   "cell_type": "markdown",
   "metadata": {
    "deletable": true,
    "editable": true
   },
   "source": [
    "### So what's a smart test to perform?\n",
    "Well, my interest in bpp was to perform species delimitation. And Rannala and Yang suggest that you try out both species delimitation algorithms and that you do so over a range of params for the two algorithms. They suggest that you run algorithm 0 with $\\epsilon$=(2, 5, 10, 20), and algorithm 1 with $\\alpha$=(1, 1.5, 2) and $m$=(1, 1.5, 2). And also to do this with different starting trees. See if you can set up an efficient for-loop to submit tests over a range of prior settings. "
   ]
  },
  {
   "cell_type": "code",
   "execution_count": 13,
   "metadata": {
    "collapsed": false,
    "deletable": true,
    "editable": true
   },
   "outputs": [],
   "source": [
    "## set up a couple tests to perform\n",
    "## delimit arg is a tuple with (algorithm, param) or (alg, param, param)\n",
    "DELIMIT_TESTS = [\n",
    "    (0, 2),\n",
    "    (0, 5),\n",
    "    (0, 10),\n",
    "    (1, 1.0, 1.0),\n",
    "    (1, 1.0, 1.5),\n",
    "    (1, 1.0, 2.0),\n",
    "    (1, 1.5, 1.0), \n",
    "    (1, 1.5, 1.5), \n",
    "    (1, 1.5, 2.0),\n",
    "    (1, 2.0, 1.0), \n",
    "    (1, 2.0, 1.5), \n",
    "    (1, 2.0, 2.0)\n",
    "]\n",
    "\n",
    "bppo.usedata = 1\n",
    "\n",
    "for test in DELIMIT_TESTS:\n",
    "    bppo.params.delimit_alg = test\n",
    "    prefix = \"delim-\" + \"-\".join([str(i) for i in test])\n",
    "    bppo.submit_bpp_jobs(prefix=prefix, \n",
    "                         nreps=1, \n",
    "                         seed=123, \n",
    "                         ipyclient=ipyclient)"
   ]
  }
 ],
 "metadata": {
  "anaconda-cloud": {},
  "kernelspec": {
   "display_name": "Python 2",
   "language": "python",
   "name": "python2"
  },
  "language_info": {
   "codemirror_mode": {
    "name": "ipython",
    "version": 2
   },
   "file_extension": ".py",
   "mimetype": "text/x-python",
   "name": "python",
   "nbconvert_exporter": "python",
   "pygments_lexer": "ipython2",
   "version": "2.7.13"
  }
 },
 "nbformat": 4,
 "nbformat_minor": 1
}
