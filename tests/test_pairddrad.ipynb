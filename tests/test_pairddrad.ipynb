{
 "cells": [
  {
   "cell_type": "markdown",
   "metadata": {},
   "source": [
    "### ipyrad testing for pairddrad data"
   ]
  },
  {
   "cell_type": "code",
   "execution_count": null,
   "metadata": {
    "collapsed": false
   },
   "outputs": [],
   "source": [
    "import ipyrad as ip      ## for RADseq assembly\n",
    "print ip.__version__     ## print version\n"
   ]
  },
  {
   "cell_type": "code",
   "execution_count": null,
   "metadata": {
    "collapsed": true
   },
   "outputs": [],
   "source": [
    "## clear existing test_dir/\n",
    "import shutil\n",
    "import os\n",
    "if os.path.exists(\"./test_pairddrad/\"):\n",
    "    shutil.rmtree(\"./test_pairddrad/\")"
   ]
  },
  {
   "cell_type": "code",
   "execution_count": null,
   "metadata": {
    "collapsed": false
   },
   "outputs": [],
   "source": [
    "data1 = ip.Assembly('test_pairddrad')"
   ]
  },
  {
   "cell_type": "code",
   "execution_count": null,
   "metadata": {
    "collapsed": false
   },
   "outputs": [],
   "source": [
    "data1.set_params(1, \"./test_pairddrad\")\n",
    "data1.set_params(2, \"./data/sim_pairddrad_*.gz\")\n",
    "data1.set_params(3, \"./data/sim_pairddrad_barcodes.txt\")\n",
    "data1.set_params(5, (\"TGCAG\", \"AATT\"))\n",
    "data1.set_params('datatype', 'pairddrad')\n",
    "data1.set_params('prefix_outname', \"test_pairddrad\")\n",
    "#data1.set_params(17, 1)\n",
    "\n",
    "data1.get_params()"
   ]
  },
  {
   "cell_type": "code",
   "execution_count": null,
   "metadata": {
    "collapsed": false
   },
   "outputs": [],
   "source": [
    "#data1.link_fastqs(path=\"test_pairddrad/test_pairddrad_fastqs/\", append=True)"
   ]
  },
  {
   "cell_type": "code",
   "execution_count": null,
   "metadata": {
    "collapsed": false
   },
   "outputs": [],
   "source": [
    "data1.step1()\n",
    "print data1.stats"
   ]
  },
  {
   "cell_type": "code",
   "execution_count": null,
   "metadata": {
    "collapsed": false,
    "scrolled": false
   },
   "outputs": [],
   "source": [
    "data1.step2([\"1B0\", \"2H0\", \"3J0\", \"3K0\"], force=True)\n",
    "print data1.stats"
   ]
  },
  {
   "cell_type": "code",
   "execution_count": null,
   "metadata": {
    "collapsed": false,
    "scrolled": true
   },
   "outputs": [],
   "source": [
    "# data1.step3()                        ## do all samples\n",
    "# data1.step3(\"1A0\")                   ## do one sample\n",
    "# data1.step3([\"1A0\", \"1B0\", \"1C0\"])   ## do list of samples\n",
    "data1.step3([\"1B0\", \"2H0\", \"3J0\", \"3K0\"], force=True) \n",
    "print data1.stats"
   ]
  },
  {
   "cell_type": "code",
   "execution_count": null,
   "metadata": {
    "collapsed": false
   },
   "outputs": [],
   "source": [
    "%%time\n",
    "data1.step4([\"1B0\", \"2H0\", \"3J0\", \"3K0\"], force=True) \n",
    "print data1.stats\n"
   ]
  },
  {
   "cell_type": "code",
   "execution_count": 1,
   "metadata": {
    "collapsed": false
   },
   "outputs": [
    {
     "name": "stderr",
     "output_type": "stream",
     "text": [
      "DEBUG:ipyrad:H4CKERZ-mode: __loglevel__ = DEBUG\n",
      "INFO:ipyrad.core.parallel:Local connection to 4 engines [ipyrad-22516]\n"
     ]
    },
    {
     "name": "stdout",
     "output_type": "stream",
     "text": [
      "Loading Assembly: test_pairddrad  [test_pairddrad/test_pairddrad.assembly]\n",
      "ipyparallel setup: Local connection to 4 engines\n",
      "\n"
     ]
    }
   ],
   "source": [
    "#data1.save(\"upto2\")\n",
    "## still figuring out how best to save...\n",
    "import ipyrad as ip\n",
    "data1 = ip.load_assembly(\"test_pairddrad/test_pairddrad.assembly\")"
   ]
  },
  {
   "cell_type": "code",
   "execution_count": 2,
   "metadata": {
    "collapsed": false,
    "scrolled": false
   },
   "outputs": [
    {
     "name": "stderr",
     "output_type": "stream",
     "text": [
      "DEBUG:ipyrad.core.assembly:try 29: starting controller\n",
      "DEBUG:ipyrad.core.assembly:connected to 0 engines\n",
      "DEBUG:ipyrad.core.assembly:connected to 0 engines\n",
      "DEBUG:ipyrad.core.assembly:connected to 0 engines\n",
      "DEBUG:ipyrad.core.assembly:connected to 0 engines\n",
      "DEBUG:ipyrad.core.assembly:connected to 0 engines\n",
      "DEBUG:ipyrad.core.assembly:connected to 0 engines\n",
      "INFO:ipyrad.core.assembly:OK! Connected to 4/4 engines\n",
      "DEBUG:ipyrad.assemble.consens_se:chunking len:100, done:0, num:1\n",
      "DEBUG:ipyrad.assemble.consens_se:chunking len:100, done:0, num:2\n",
      "DEBUG:ipyrad.assemble.consens_se:chunking len:100, done:0, num:3\n",
      "DEBUG:ipyrad.assemble.consens_se:chunking len:100, done:0, num:4\n",
      "DEBUG:ipyrad.assemble.consens_se:chunking len:100, done:0, num:5\n",
      "DEBUG:ipyrad.assemble.consens_se:chunking len:100, done:0, num:6\n",
      "DEBUG:ipyrad.assemble.consens_se:chunking len:100, done:0, num:7\n",
      "DEBUG:ipyrad.assemble.consens_se:chunking len:100, done:0, num:8\n",
      "DEBUG:ipyrad.assemble.consens_se:chunking len:100, done:0, num:9\n",
      "DEBUG:ipyrad.assemble.consens_se:chunking len:100, done:0, num:10\n",
      "DEBUG:ipyrad.assemble.consens_se:chunking len:0, done:1, num:10\n"
     ]
    },
    {
     "name": "stdout",
     "output_type": "stream",
     "text": [
      "  Diploid base calls and paralog filter (max haplos = 2)\n",
      "  error rate (mean, std):  0.00049, 0.00001\n",
      "  heterozyg. (mean, std):  0.00229, 0.00006\n",
      "\n",
      "one or more exceptions from call to method: consensus\n",
      "[3:apply]: IndexError: list index out of range"
     ]
    },
    {
     "name": "stderr",
     "output_type": "stream",
     "text": [
      "ERROR:ipyrad.assemble.consens_se:step5 error: IndexError(list index out of range)\n",
      "ERROR:ipyrad.core.assembly:assembly step5 interrupted by user.\n"
     ]
    },
    {
     "name": "stdout",
     "output_type": "stream",
     "text": [
      "\n"
     ]
    },
    {
     "ename": "SystemExit",
     "evalue": "",
     "output_type": "error",
     "traceback": [
      "An exception has occurred, use %tb to see the full traceback.\n",
      "\u001b[1;31mSystemExit\u001b[0m\n"
     ]
    },
    {
     "name": "stderr",
     "output_type": "stream",
     "text": [
      "To exit: use 'exit', 'quit', or Ctrl-D.\n"
     ]
    }
   ],
   "source": [
    "data1.step5([\"1B0\"], force=True) \n",
    "print data1.stats"
   ]
  },
  {
   "cell_type": "code",
   "execution_count": null,
   "metadata": {
    "collapsed": false,
    "scrolled": true
   },
   "outputs": [],
   "source": [
    "data1.step5([\"1B0\", \"2H0\", \"3J0\", \"3K0\"], force=True) \n",
    "print data1.stats"
   ]
  },
  {
   "cell_type": "code",
   "execution_count": null,
   "metadata": {
    "collapsed": false
   },
   "outputs": [],
   "source": [
    "import pandas as pd\n",
    "print pd.read_table('test_pairddrad/test_pairddrad_consens/s5_consens.txt', delim_whitespace=1, header=0)"
   ]
  },
  {
   "cell_type": "code",
   "execution_count": null,
   "metadata": {
    "collapsed": false
   },
   "outputs": [],
   "source": [
    "## how to merge Assembly objects\n",
    "data1.files.edits['1B0']\n",
    "data1.samples['1B0'].files"
   ]
  },
  {
   "cell_type": "code",
   "execution_count": null,
   "metadata": {
    "collapsed": false
   },
   "outputs": [],
   "source": [
    "print data1.stats"
   ]
  },
  {
   "cell_type": "code",
   "execution_count": null,
   "metadata": {
    "collapsed": false
   },
   "outputs": [],
   "source": [
    "for i in data1.log:\n",
    "    print i"
   ]
  },
  {
   "cell_type": "code",
   "execution_count": null,
   "metadata": {
    "collapsed": true
   },
   "outputs": [],
   "source": [
    "import numpy as np"
   ]
  },
  {
   "cell_type": "code",
   "execution_count": null,
   "metadata": {
    "collapsed": false
   },
   "outputs": [],
   "source": [
    "np.array([10, 0], dtype='int16')"
   ]
  }
 ],
 "metadata": {
  "kernelspec": {
   "display_name": "Python 2",
   "language": "python",
   "name": "python2"
  },
  "language_info": {
   "codemirror_mode": {
    "name": "ipython",
    "version": 2
   },
   "file_extension": ".py",
   "mimetype": "text/x-python",
   "name": "python",
   "nbconvert_exporter": "python",
   "pygments_lexer": "ipython2",
   "version": "2.7.10"
  }
 },
 "nbformat": 4,
 "nbformat_minor": 0
}
