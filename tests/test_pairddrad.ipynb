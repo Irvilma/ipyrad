{
 "cells": [
  {
   "cell_type": "markdown",
   "metadata": {},
   "source": [
    "### ipyrad testing for pairddrad data"
   ]
  },
  {
   "cell_type": "code",
   "execution_count": 1,
   "metadata": {
    "collapsed": false
   },
   "outputs": [
    {
     "name": "stdout",
     "output_type": "stream",
     "text": [
      "0.0.66\n"
     ]
    }
   ],
   "source": [
    "import ipyrad as ip      ## for RADseq assembly\n",
    "print ip.__version__     ## print version"
   ]
  },
  {
   "cell_type": "code",
   "execution_count": null,
   "metadata": {
    "collapsed": true
   },
   "outputs": [],
   "source": [
    "## clear existing test_dir/\n",
    "import shutil\n",
    "import os\n",
    "if os.path.exists(\"./test_pairddrad/\"):\n",
    "    shutil.rmtree(\"./test_pairddrad/\")"
   ]
  },
  {
   "cell_type": "code",
   "execution_count": 2,
   "metadata": {
    "collapsed": false
   },
   "outputs": [
    {
     "name": "stdout",
     "output_type": "stream",
     "text": [
      "New Assembly object `test_pairddrad` created\n",
      "ipyparallel setup: Local connection to 4 engines.\n"
     ]
    }
   ],
   "source": [
    "data1 = ip.Assembly('test_pairddrad')"
   ]
  },
  {
   "cell_type": "code",
   "execution_count": 3,
   "metadata": {
    "collapsed": false
   },
   "outputs": [
    {
     "name": "stdout",
     "output_type": "stream",
     "text": [
      "  1   working_directory             ./test_pairddrad                             \n",
      "  2   raw_fastq_path                ./data/sim_pairddrad_*.gz                    \n",
      "  3   barcodes_path                 ./data/sim_pairddrad_barcodes.txt            \n",
      "  4   sorted_fastq_path                                                          \n",
      "  5   restriction_overhang          ('TGCAG', 'AATT')                            \n",
      "  6   max_low_qual_bases            5                                            \n",
      "  7   engines_per_job               4                                            \n",
      "  8   mindepth_statistical          6                                            \n",
      "  9   mindepth_majrule              6                                            \n",
      "  10  datatype                      pairddrad                                    \n",
      "  11  clust_threshold               0.85                                         \n",
      "  12  minsamp                       4                                            \n",
      "  13  max_shared_heterozygosity     0.25                                         \n",
      "  14  prefix_outname                test_pairddrad                               \n",
      "  15  phred_Qscore_offset           33                                           \n",
      "  16  max_barcode_mismatch          1                                            \n",
      "  17  filter_adapters               0                                            \n",
      "  18  filter_min_trim_len           35                                           \n",
      "  19  ploidy                        2                                            \n",
      "  20  max_stack_size                1000                                         \n",
      "  21  max_Ns_consens                5                                            \n",
      "  22  max_Hs_consens                8                                            \n",
      "  23  max_SNPs_locus                (100, 100)                                   \n",
      "  24  max_Indels_locus              (5, 99)                                      \n",
      "  25  trim_overhang                 (1, 2, 2, 1)                                 \n",
      "  26  hierarchical_clustering       0                                            \n"
     ]
    }
   ],
   "source": [
    "data1.set_params(1, \"./test_pairddrad\")\n",
    "data1.set_params(2, \"./data/sim_pairddrad_*.gz\")\n",
    "data1.set_params(3, \"./data/sim_pairddrad_barcodes.txt\")\n",
    "data1.set_params(5, (\"TGCAG\", \"AATT\"))\n",
    "data1.set_params('datatype', 'pairddrad')\n",
    "data1.set_params('prefix_outname', \"test_pairddrad\")\n",
    "\n",
    "data1.get_params()"
   ]
  },
  {
   "cell_type": "code",
   "execution_count": 4,
   "metadata": {
    "collapsed": false
   },
   "outputs": [
    {
     "name": "stdout",
     "output_type": "stream",
     "text": [
      "12 new Samples created in `test_pairddrad`.\n",
      "12 fastq files linked to 12 new Samples.\n"
     ]
    }
   ],
   "source": [
    "data1.link_fastqs(path=\"test_pairddrad/test_pairddrad_fastqs/\", append=True)"
   ]
  },
  {
   "cell_type": "code",
   "execution_count": null,
   "metadata": {
    "collapsed": false
   },
   "outputs": [],
   "source": [
    "data1.step1()"
   ]
  },
  {
   "cell_type": "code",
   "execution_count": null,
   "metadata": {
    "collapsed": false
   },
   "outputs": [],
   "source": [
    "print data1.stats"
   ]
  },
  {
   "cell_type": "code",
   "execution_count": 6,
   "metadata": {
    "collapsed": false
   },
   "outputs": [
    {
     "data": {
      "text/plain": [
       "{'clusters': [],\n",
       " 'consens': [],\n",
       " 'database': [],\n",
       " 'depths': [],\n",
       " 'edits': [('/home/deren/Dropbox/ipyrad/tests/test_pairddrad/test_pairddrad_edits/1B0_R1_.fastq.gz',\n",
       "   '/home/deren/Dropbox/ipyrad/tests/test_pairddrad/test_pairddrad_edits/1B0_R2_.fastq.gz')],\n",
       " 'fastqs': [('test_pairddrad/test_pairddrad_fastqs/1B0_R1_.gz',\n",
       "   'test_pairddrad/test_pairddrad_fastqs/1B0_R2_.gz')],\n",
       " 'stats': []}"
      ]
     },
     "execution_count": 6,
     "metadata": {},
     "output_type": "execute_result"
    }
   ],
   "source": [
    "data1.samples[\"1B0\"].files"
   ]
  },
  {
   "cell_type": "code",
   "execution_count": 5,
   "metadata": {
    "collapsed": false,
    "scrolled": false
   },
   "outputs": [
    {
     "name": "stdout",
     "output_type": "stream",
     "text": [
      "     state  reads_raw  reads_filtered  clusters_total  clusters_kept  \\\n",
      "1A0      1      20000             NaN             NaN            NaN   \n",
      "1B0      2      20000           20000             NaN            NaN   \n",
      "1C0      1      20000             NaN             NaN            NaN   \n",
      "1D0      1      20000             NaN             NaN            NaN   \n",
      "2E0      1      20000             NaN             NaN            NaN   \n",
      "2F0      1      20000             NaN             NaN            NaN   \n",
      "2G0      1      20000             NaN             NaN            NaN   \n",
      "2H0      1      20000             NaN             NaN            NaN   \n",
      "3I0      1      20000             NaN             NaN            NaN   \n",
      "3J0      1      20000             NaN             NaN            NaN   \n",
      "3K0      1      20000             NaN             NaN            NaN   \n",
      "3L0      1      20000             NaN             NaN            NaN   \n",
      "\n",
      "     hetero_est  error_est  reads_consens  \n",
      "1A0         NaN        NaN            NaN  \n",
      "1B0         NaN        NaN            NaN  \n",
      "1C0         NaN        NaN            NaN  \n",
      "1D0         NaN        NaN            NaN  \n",
      "2E0         NaN        NaN            NaN  \n",
      "2F0         NaN        NaN            NaN  \n",
      "2G0         NaN        NaN            NaN  \n",
      "2H0         NaN        NaN            NaN  \n",
      "3I0         NaN        NaN            NaN  \n",
      "3J0         NaN        NaN            NaN  \n",
      "3K0         NaN        NaN            NaN  \n",
      "3L0         NaN        NaN            NaN  \n"
     ]
    }
   ],
   "source": [
    "#for sample in data1.samples:\n",
    "#    data1.step2(sample)\n",
    "data1.step2([\"1B0\"])     #, \"1B0\"])\n",
    "\n",
    "print data1.stats"
   ]
  },
  {
   "cell_type": "code",
   "execution_count": null,
   "metadata": {
    "collapsed": true
   },
   "outputs": [],
   "source": [
    "## steps 1 & 2 are working, now I need to allow linking Samples that are \n",
    "## on their way in the analysis"
   ]
  },
  {
   "cell_type": "code",
   "execution_count": null,
   "metadata": {
    "collapsed": true
   },
   "outputs": [],
   "source": [
    "#data1.save(\"upto2\")\n",
    "## still figuring out how best to save..."
   ]
  },
  {
   "cell_type": "code",
   "execution_count": 8,
   "metadata": {
    "collapsed": false,
    "scrolled": true
   },
   "outputs": [
    {
     "name": "stdout",
     "output_type": "stream",
     "text": [
      "Clustering 1 samples using 4 engines per job.\n"
     ]
    }
   ],
   "source": [
    "# data1.step3()                        ## do all samples\n",
    "# data1.step3(\"1A0\")                   ## do one sample\n",
    "# data1.step3([\"1A0\", \"1B0\", \"1C0\"])   ## do list of samples\n",
    "data1.step3([\"1B0\"]) "
   ]
  },
  {
   "cell_type": "code",
   "execution_count": null,
   "metadata": {
    "collapsed": true
   },
   "outputs": [],
   "source": [
    "## how to merge Assembly objects"
   ]
  },
  {
   "cell_type": "code",
   "execution_count": 10,
   "metadata": {
    "collapsed": false
   },
   "outputs": [
    {
     "name": "stdout",
     "output_type": "stream",
     "text": [
      "     state  reads_raw  reads_filtered  clusters_total  clusters_kept  \\\n",
      "1A0      1      20000             NaN             NaN            NaN   \n",
      "1B0      3      20000           20000            1011           1004   \n",
      "1C0      1      20000             NaN             NaN            NaN   \n",
      "1D0      1      20000             NaN             NaN            NaN   \n",
      "2E0      1      20000             NaN             NaN            NaN   \n",
      "2F0      1      20000             NaN             NaN            NaN   \n",
      "2G0      1      20000             NaN             NaN            NaN   \n",
      "2H0      1      20000             NaN             NaN            NaN   \n",
      "3I0      1      20000             NaN             NaN            NaN   \n",
      "3J0      1      20000             NaN             NaN            NaN   \n",
      "3K0      1      20000             NaN             NaN            NaN   \n",
      "3L0      1      20000             NaN             NaN            NaN   \n",
      "\n",
      "     hetero_est  error_est  reads_consens  \n",
      "1A0         NaN        NaN            NaN  \n",
      "1B0         NaN        NaN            NaN  \n",
      "1C0         NaN        NaN            NaN  \n",
      "1D0         NaN        NaN            NaN  \n",
      "2E0         NaN        NaN            NaN  \n",
      "2F0         NaN        NaN            NaN  \n",
      "2G0         NaN        NaN            NaN  \n",
      "2H0         NaN        NaN            NaN  \n",
      "3I0         NaN        NaN            NaN  \n",
      "3J0         NaN        NaN            NaN  \n",
      "3K0         NaN        NaN            NaN  \n",
      "3L0         NaN        NaN            NaN  \n"
     ]
    }
   ],
   "source": [
    "print data1.stats"
   ]
  },
  {
   "cell_type": "code",
   "execution_count": null,
   "metadata": {
    "collapsed": false
   },
   "outputs": [],
   "source": [
    "data1.list_files()"
   ]
  },
  {
   "cell_type": "code",
   "execution_count": null,
   "metadata": {
    "collapsed": false
   },
   "outputs": [],
   "source": [
    "import numpy as np\n",
    "arr = np.array(['a', 'A'])\n",
    "print arr.tostring().upper()"
   ]
  },
  {
   "cell_type": "code",
   "execution_count": null,
   "metadata": {
    "collapsed": false
   },
   "outputs": [],
   "source": [
    "for i in data1.log:\n",
    "    print i"
   ]
  },
  {
   "cell_type": "code",
   "execution_count": null,
   "metadata": {
    "collapsed": false
   },
   "outputs": [],
   "source": [
    "data1.stats.fnames"
   ]
  }
 ],
 "metadata": {
  "kernelspec": {
   "display_name": "Python 2",
   "language": "python",
   "name": "python2"
  },
  "language_info": {
   "codemirror_mode": {
    "name": "ipython",
    "version": 2
   },
   "file_extension": ".py",
   "mimetype": "text/x-python",
   "name": "python",
   "nbconvert_exporter": "python",
   "pygments_lexer": "ipython2",
   "version": "2.7.10"
  }
 },
 "nbformat": 4,
 "nbformat_minor": 0
}
