{
 "cells": [
  {
   "cell_type": "markdown",
   "metadata": {},
   "source": [
    "### ipyrad testing for pairddrad data"
   ]
  },
  {
   "cell_type": "code",
   "execution_count": 1,
   "metadata": {
    "collapsed": false
   },
   "outputs": [
    {
     "name": "stderr",
     "output_type": "stream",
     "text": [
      "DEBUG:ipyrad:H4CKERZ-mode: __loglevel__ = DEBUG\n"
     ]
    },
    {
     "name": "stdout",
     "output_type": "stream",
     "text": [
      "0.0.7\n"
     ]
    }
   ],
   "source": [
    "import ipyrad as ip      ## for RADseq assembly\n",
    "print ip.__version__     ## print version\n"
   ]
  },
  {
   "cell_type": "code",
   "execution_count": 3,
   "metadata": {
    "collapsed": true
   },
   "outputs": [],
   "source": [
    "## clear existing test_dir/\n",
    "import shutil\n",
    "import os\n",
    "if os.path.exists(\"./test_pairddrad/\"):\n",
    "    shutil.rmtree(\"./test_pairddrad/\")"
   ]
  },
  {
   "cell_type": "code",
   "execution_count": 4,
   "metadata": {
    "collapsed": false
   },
   "outputs": [
    {
     "name": "stdout",
     "output_type": "stream",
     "text": [
      "  New Assembly: test_pairddrad\n"
     ]
    }
   ],
   "source": [
    "data1 = ip.Assembly('test_pairddrad')"
   ]
  },
  {
   "cell_type": "code",
   "execution_count": 5,
   "metadata": {
    "collapsed": false
   },
   "outputs": [
    {
     "name": "stdout",
     "output_type": "stream",
     "text": [
      "  1   working_directory           ./test_pairddrad                             \n",
      "  2   raw_fastq_path              ./data/sim_pairddrad_*.gz                    \n",
      "  3   barcodes_path               ./data/sim_pairddrad_barcodes.txt            \n",
      "  4   sorted_fastq_path                                                        \n",
      "  5   restriction_overhang        ('TGCAG', 'AATT')                            \n",
      "  6   max_low_qual_bases          5                                            \n",
      "  7   engines_per_job             4                                            \n",
      "  8   mindepth_statistical        6                                            \n",
      "  9   mindepth_majrule            6                                            \n",
      "  10  datatype                    pairddrad                                    \n",
      "  11  clust_threshold             0.85                                         \n",
      "  12  minsamp                     4                                            \n",
      "  13  max_shared_heterozygosity   0.25                                         \n",
      "  14  prefix_outname              test_pairddrad                               \n",
      "  15  phred_Qscore_offset         33                                           \n",
      "  16  max_barcode_mismatch        1                                            \n",
      "  17  filter_adapters             0                                            \n",
      "  18  filter_min_trim_len         35                                           \n",
      "  19  ploidy                      2                                            \n",
      "  20  max_stack_size              1000                                         \n",
      "  21  max_Ns_consens              (5, 5)                                       \n",
      "  22  max_Hs_consens              (8, 8)                                       \n",
      "  23  max_SNPs_locus              (100, 100)                                   \n",
      "  24  max_Indels_locus            (5, 99)                                      \n",
      "  25  trim_overhang               (1, 2, 2, 1)                                 \n",
      "  26  hierarchical_clustering     0                                            \n",
      "  27  assembly_method             denovo                                       \n",
      "  28  reference_sequence                                                       \n",
      "  29  edit_cutsites               (0, 0)                                       \n"
     ]
    }
   ],
   "source": [
    "data1.set_params(1, \"./test_pairddrad\")\n",
    "data1.set_params(2, \"./data/sim_pairddrad_*.gz\")\n",
    "data1.set_params(3, \"./data/sim_pairddrad_barcodes.txt\")\n",
    "data1.set_params(5, (\"TGCAG\", \"AATT\"))\n",
    "data1.set_params('datatype', 'pairddrad')\n",
    "data1.set_params('prefix_outname', \"test_pairddrad\")\n",
    "#data1.set_params(17, 1)\n",
    "\n",
    "data1.get_params()"
   ]
  },
  {
   "cell_type": "code",
   "execution_count": null,
   "metadata": {
    "collapsed": false
   },
   "outputs": [],
   "source": [
    "#data1.link_fastqs(path=\"test_pairddrad/test_pairddrad_fastqs/\", append=True)"
   ]
  },
  {
   "cell_type": "code",
   "execution_count": 6,
   "metadata": {
    "collapsed": false
   },
   "outputs": [
    {
     "name": "stderr",
     "output_type": "stream",
     "text": [
      "INFO:ipyrad.core.assembly:try 10: starting controller\n",
      "DEBUG:ipyrad.core.assembly:OK! Connected to (24) engines\n"
     ]
    },
    {
     "name": "stdout",
     "output_type": "stream",
     "text": [
      "     state  reads_raw\n",
      "1A0      1      20000\n",
      "1B0      1      20000\n",
      "1C0      1      20000\n",
      "1D0      1      20000\n",
      "2E0      1      20000\n",
      "2F0      1      20000\n",
      "2G0      1      20000\n",
      "2H0      1      20000\n",
      "3I0      1      20000\n",
      "3J0      1      20000\n",
      "3K0      1      20000\n",
      "3L0      1      20000\n"
     ]
    }
   ],
   "source": [
    "data1.step1()\n",
    "print data1.stats"
   ]
  },
  {
   "cell_type": "code",
   "execution_count": 7,
   "metadata": {
    "collapsed": false,
    "scrolled": false
   },
   "outputs": [
    {
     "name": "stderr",
     "output_type": "stream",
     "text": [
      "INFO:ipyrad.core.assembly:try 10: starting controller\n",
      "DEBUG:ipyrad.core.assembly:OK! Connected to (24) engines\n"
     ]
    },
    {
     "name": "stdout",
     "output_type": "stream",
     "text": [
      "other error: one or more exceptions from call to method: rawedit\n",
      "[17:apply]: TypeError: 'Logger' object is not callable\n",
      "[8:apply]: TypeError: 'Logger' object is not callable\n",
      "[15:apply]: TypeError: 'Logger' object is not callable\n",
      "[1:apply]: TypeError: 'Logger' object is not callable\n",
      ".... 4 more exceptions ...\n"
     ]
    },
    {
     "ename": "CompositeError",
     "evalue": "one or more exceptions from call to method: rawedit\n[17:apply]: TypeError: 'Logger' object is not callable\n[8:apply]: TypeError: 'Logger' object is not callable\n[15:apply]: TypeError: 'Logger' object is not callable\n[1:apply]: TypeError: 'Logger' object is not callable\n.... 4 more exceptions ...",
     "output_type": "error",
     "traceback": [
      "[17:apply]: ",
      "\u001b[0;31m---------------------------------------------------------------------------\u001b[0m\u001b[0;31mTypeError\u001b[0m                                 Traceback (most recent call last)\u001b[0;32m<string>\u001b[0m in \u001b[0;36m<module>\u001b[0;34m()\u001b[0m",
      "\u001b[0;32m/Volumes/WorkDrive/ipyrad/ipyrad/ipyrad/assemble/rawedit.pyc\u001b[0m in \u001b[0;36mrawedit\u001b[0;34m(args)\u001b[0m",
      "\u001b[1;32m    283\u001b[0m         \u001b[0;31m## filter for Ns\u001b[0m\u001b[0;34m\u001b[0m\u001b[0;34m\u001b[0m\u001b[0m",
      "\u001b[1;32m    284\u001b[0m         \u001b[0;31m## base1 is only returned if both passed for paired-end reads\u001b[0m\u001b[0;34m\u001b[0m\u001b[0;34m\u001b[0m\u001b[0m",
      "\u001b[0;32m--> 285\u001b[0;31m         \u001b[0mread1\u001b[0m\u001b[0;34m,\u001b[0m \u001b[0mread2\u001b[0m \u001b[0;34m=\u001b[0m \u001b[0mnfilter\u001b[0m\u001b[0;34m(\u001b[0m\u001b[0mdata\u001b[0m\u001b[0;34m,\u001b[0m \u001b[0mread1\u001b[0m\u001b[0;34m,\u001b[0m \u001b[0mread2\u001b[0m\u001b[0;34m,\u001b[0m \u001b[0mnreplace\u001b[0m\u001b[0;34m)\u001b[0m\u001b[0;34m\u001b[0m\u001b[0m",
      "\u001b[0m\u001b[1;32m    286\u001b[0m \u001b[0;34m\u001b[0m\u001b[0m",
      "\u001b[1;32m    287\u001b[0m         \u001b[0;32mif\u001b[0m \u001b[0mlen\u001b[0m\u001b[0;34m(\u001b[0m\u001b[0mread1\u001b[0m\u001b[0;34m)\u001b[0m\u001b[0;34m:\u001b[0m\u001b[0;34m\u001b[0m\u001b[0m",
      "\u001b[0;32m/Volumes/WorkDrive/ipyrad/ipyrad/ipyrad/assemble/rawedit.pyc\u001b[0m in \u001b[0;36mnfilter\u001b[0;34m(data, read1, read2, nreplace)\u001b[0m",
      "\u001b[1;32m    354\u001b[0m     \u001b[0mthem\u001b[0m\u001b[0;34m.\u001b[0m \u001b[0mRight\u001b[0m \u001b[0mnow\u001b[0m \u001b[0mreplaces\u001b[0m\u001b[0;34m.\u001b[0m \u001b[0mAlso\u001b[0m \u001b[0mfixes\u001b[0m \u001b[0mcut\u001b[0m \u001b[0msite\u001b[0m \u001b[0mto\u001b[0m \u001b[0mbe\u001b[0m \u001b[0merror\u001b[0m \u001b[0mfree\u001b[0m\u001b[0;34m.\u001b[0m\u001b[0;34m\u001b[0m\u001b[0m",
      "\u001b[1;32m    355\u001b[0m     \"\"\"",
      "\u001b[0;32m--> 356\u001b[0;31m     \u001b[0mLOGGER\u001b[0m\u001b[0;34m(\u001b[0m \u001b[0;34m\"Entering nfilter - %d %d\"\u001b[0m\u001b[0;34m,\u001b[0m \u001b[0mlen\u001b[0m\u001b[0;34m(\u001b[0m\u001b[0mread1\u001b[0m\u001b[0;34m)\u001b[0m\u001b[0;34m,\u001b[0m \u001b[0mlen\u001b[0m\u001b[0;34m(\u001b[0m\u001b[0mread2\u001b[0m\u001b[0;34m)\u001b[0m \u001b[0;34m)\u001b[0m\u001b[0;34m\u001b[0m\u001b[0m",
      "\u001b[0m\u001b[1;32m    357\u001b[0m \u001b[0;34m\u001b[0m\u001b[0m",
      "\u001b[1;32m    358\u001b[0m     \u001b[0;31m## get qscores\u001b[0m\u001b[0;34m\u001b[0m\u001b[0;34m\u001b[0m\u001b[0m",
      "\u001b[0;31mTypeError\u001b[0m: 'Logger' object is not callable",
      "",
      "[8:apply]: ",
      "\u001b[0;31m---------------------------------------------------------------------------\u001b[0m\u001b[0;31mTypeError\u001b[0m                                 Traceback (most recent call last)\u001b[0;32m<string>\u001b[0m in \u001b[0;36m<module>\u001b[0;34m()\u001b[0m",
      "\u001b[0;32m/Volumes/WorkDrive/ipyrad/ipyrad/ipyrad/assemble/rawedit.pyc\u001b[0m in \u001b[0;36mrawedit\u001b[0;34m(args)\u001b[0m",
      "\u001b[1;32m    283\u001b[0m         \u001b[0;31m## filter for Ns\u001b[0m\u001b[0;34m\u001b[0m\u001b[0;34m\u001b[0m\u001b[0m",
      "\u001b[1;32m    284\u001b[0m         \u001b[0;31m## base1 is only returned if both passed for paired-end reads\u001b[0m\u001b[0;34m\u001b[0m\u001b[0;34m\u001b[0m\u001b[0m",
      "\u001b[0;32m--> 285\u001b[0;31m         \u001b[0mread1\u001b[0m\u001b[0;34m,\u001b[0m \u001b[0mread2\u001b[0m \u001b[0;34m=\u001b[0m \u001b[0mnfilter\u001b[0m\u001b[0;34m(\u001b[0m\u001b[0mdata\u001b[0m\u001b[0;34m,\u001b[0m \u001b[0mread1\u001b[0m\u001b[0;34m,\u001b[0m \u001b[0mread2\u001b[0m\u001b[0;34m,\u001b[0m \u001b[0mnreplace\u001b[0m\u001b[0;34m)\u001b[0m\u001b[0;34m\u001b[0m\u001b[0m",
      "\u001b[0m\u001b[1;32m    286\u001b[0m \u001b[0;34m\u001b[0m\u001b[0m",
      "\u001b[1;32m    287\u001b[0m         \u001b[0;32mif\u001b[0m \u001b[0mlen\u001b[0m\u001b[0;34m(\u001b[0m\u001b[0mread1\u001b[0m\u001b[0;34m)\u001b[0m\u001b[0;34m:\u001b[0m\u001b[0;34m\u001b[0m\u001b[0m",
      "\u001b[0;32m/Volumes/WorkDrive/ipyrad/ipyrad/ipyrad/assemble/rawedit.pyc\u001b[0m in \u001b[0;36mnfilter\u001b[0;34m(data, read1, read2, nreplace)\u001b[0m",
      "\u001b[1;32m    354\u001b[0m     \u001b[0mthem\u001b[0m\u001b[0;34m.\u001b[0m \u001b[0mRight\u001b[0m \u001b[0mnow\u001b[0m \u001b[0mreplaces\u001b[0m\u001b[0;34m.\u001b[0m \u001b[0mAlso\u001b[0m \u001b[0mfixes\u001b[0m \u001b[0mcut\u001b[0m \u001b[0msite\u001b[0m \u001b[0mto\u001b[0m \u001b[0mbe\u001b[0m \u001b[0merror\u001b[0m \u001b[0mfree\u001b[0m\u001b[0;34m.\u001b[0m\u001b[0;34m\u001b[0m\u001b[0m",
      "\u001b[1;32m    355\u001b[0m     \"\"\"",
      "\u001b[0;32m--> 356\u001b[0;31m     \u001b[0mLOGGER\u001b[0m\u001b[0;34m(\u001b[0m \u001b[0;34m\"Entering nfilter - %d %d\"\u001b[0m\u001b[0;34m,\u001b[0m \u001b[0mlen\u001b[0m\u001b[0;34m(\u001b[0m\u001b[0mread1\u001b[0m\u001b[0;34m)\u001b[0m\u001b[0;34m,\u001b[0m \u001b[0mlen\u001b[0m\u001b[0;34m(\u001b[0m\u001b[0mread2\u001b[0m\u001b[0;34m)\u001b[0m \u001b[0;34m)\u001b[0m\u001b[0;34m\u001b[0m\u001b[0m",
      "\u001b[0m\u001b[1;32m    357\u001b[0m \u001b[0;34m\u001b[0m\u001b[0m",
      "\u001b[1;32m    358\u001b[0m     \u001b[0;31m## get qscores\u001b[0m\u001b[0;34m\u001b[0m\u001b[0;34m\u001b[0m\u001b[0m",
      "\u001b[0;31mTypeError\u001b[0m: 'Logger' object is not callable",
      "",
      "[15:apply]: ",
      "\u001b[0;31m---------------------------------------------------------------------------\u001b[0m\u001b[0;31mTypeError\u001b[0m                                 Traceback (most recent call last)\u001b[0;32m<string>\u001b[0m in \u001b[0;36m<module>\u001b[0;34m()\u001b[0m",
      "\u001b[0;32m/Volumes/WorkDrive/ipyrad/ipyrad/ipyrad/assemble/rawedit.pyc\u001b[0m in \u001b[0;36mrawedit\u001b[0;34m(args)\u001b[0m",
      "\u001b[1;32m    283\u001b[0m         \u001b[0;31m## filter for Ns\u001b[0m\u001b[0;34m\u001b[0m\u001b[0;34m\u001b[0m\u001b[0m",
      "\u001b[1;32m    284\u001b[0m         \u001b[0;31m## base1 is only returned if both passed for paired-end reads\u001b[0m\u001b[0;34m\u001b[0m\u001b[0;34m\u001b[0m\u001b[0m",
      "\u001b[0;32m--> 285\u001b[0;31m         \u001b[0mread1\u001b[0m\u001b[0;34m,\u001b[0m \u001b[0mread2\u001b[0m \u001b[0;34m=\u001b[0m \u001b[0mnfilter\u001b[0m\u001b[0;34m(\u001b[0m\u001b[0mdata\u001b[0m\u001b[0;34m,\u001b[0m \u001b[0mread1\u001b[0m\u001b[0;34m,\u001b[0m \u001b[0mread2\u001b[0m\u001b[0;34m,\u001b[0m \u001b[0mnreplace\u001b[0m\u001b[0;34m)\u001b[0m\u001b[0;34m\u001b[0m\u001b[0m",
      "\u001b[0m\u001b[1;32m    286\u001b[0m \u001b[0;34m\u001b[0m\u001b[0m",
      "\u001b[1;32m    287\u001b[0m         \u001b[0;32mif\u001b[0m \u001b[0mlen\u001b[0m\u001b[0;34m(\u001b[0m\u001b[0mread1\u001b[0m\u001b[0;34m)\u001b[0m\u001b[0;34m:\u001b[0m\u001b[0;34m\u001b[0m\u001b[0m",
      "\u001b[0;32m/Volumes/WorkDrive/ipyrad/ipyrad/ipyrad/assemble/rawedit.pyc\u001b[0m in \u001b[0;36mnfilter\u001b[0;34m(data, read1, read2, nreplace)\u001b[0m",
      "\u001b[1;32m    354\u001b[0m     \u001b[0mthem\u001b[0m\u001b[0;34m.\u001b[0m \u001b[0mRight\u001b[0m \u001b[0mnow\u001b[0m \u001b[0mreplaces\u001b[0m\u001b[0;34m.\u001b[0m \u001b[0mAlso\u001b[0m \u001b[0mfixes\u001b[0m \u001b[0mcut\u001b[0m \u001b[0msite\u001b[0m \u001b[0mto\u001b[0m \u001b[0mbe\u001b[0m \u001b[0merror\u001b[0m \u001b[0mfree\u001b[0m\u001b[0;34m.\u001b[0m\u001b[0;34m\u001b[0m\u001b[0m",
      "\u001b[1;32m    355\u001b[0m     \"\"\"",
      "\u001b[0;32m--> 356\u001b[0;31m     \u001b[0mLOGGER\u001b[0m\u001b[0;34m(\u001b[0m \u001b[0;34m\"Entering nfilter - %d %d\"\u001b[0m\u001b[0;34m,\u001b[0m \u001b[0mlen\u001b[0m\u001b[0;34m(\u001b[0m\u001b[0mread1\u001b[0m\u001b[0;34m)\u001b[0m\u001b[0;34m,\u001b[0m \u001b[0mlen\u001b[0m\u001b[0;34m(\u001b[0m\u001b[0mread2\u001b[0m\u001b[0;34m)\u001b[0m \u001b[0;34m)\u001b[0m\u001b[0;34m\u001b[0m\u001b[0m",
      "\u001b[0m\u001b[1;32m    357\u001b[0m \u001b[0;34m\u001b[0m\u001b[0m",
      "\u001b[1;32m    358\u001b[0m     \u001b[0;31m## get qscores\u001b[0m\u001b[0;34m\u001b[0m\u001b[0;34m\u001b[0m\u001b[0m",
      "\u001b[0;31mTypeError\u001b[0m: 'Logger' object is not callable",
      "",
      "[1:apply]: ",
      "\u001b[0;31m---------------------------------------------------------------------------\u001b[0m\u001b[0;31mTypeError\u001b[0m                                 Traceback (most recent call last)\u001b[0;32m<string>\u001b[0m in \u001b[0;36m<module>\u001b[0;34m()\u001b[0m",
      "\u001b[0;32m/Volumes/WorkDrive/ipyrad/ipyrad/ipyrad/assemble/rawedit.pyc\u001b[0m in \u001b[0;36mrawedit\u001b[0;34m(args)\u001b[0m",
      "\u001b[1;32m    283\u001b[0m         \u001b[0;31m## filter for Ns\u001b[0m\u001b[0;34m\u001b[0m\u001b[0;34m\u001b[0m\u001b[0m",
      "\u001b[1;32m    284\u001b[0m         \u001b[0;31m## base1 is only returned if both passed for paired-end reads\u001b[0m\u001b[0;34m\u001b[0m\u001b[0;34m\u001b[0m\u001b[0m",
      "\u001b[0;32m--> 285\u001b[0;31m         \u001b[0mread1\u001b[0m\u001b[0;34m,\u001b[0m \u001b[0mread2\u001b[0m \u001b[0;34m=\u001b[0m \u001b[0mnfilter\u001b[0m\u001b[0;34m(\u001b[0m\u001b[0mdata\u001b[0m\u001b[0;34m,\u001b[0m \u001b[0mread1\u001b[0m\u001b[0;34m,\u001b[0m \u001b[0mread2\u001b[0m\u001b[0;34m,\u001b[0m \u001b[0mnreplace\u001b[0m\u001b[0;34m)\u001b[0m\u001b[0;34m\u001b[0m\u001b[0m",
      "\u001b[0m\u001b[1;32m    286\u001b[0m \u001b[0;34m\u001b[0m\u001b[0m",
      "\u001b[1;32m    287\u001b[0m         \u001b[0;32mif\u001b[0m \u001b[0mlen\u001b[0m\u001b[0;34m(\u001b[0m\u001b[0mread1\u001b[0m\u001b[0;34m)\u001b[0m\u001b[0;34m:\u001b[0m\u001b[0;34m\u001b[0m\u001b[0m",
      "\u001b[0;32m/Volumes/WorkDrive/ipyrad/ipyrad/ipyrad/assemble/rawedit.pyc\u001b[0m in \u001b[0;36mnfilter\u001b[0;34m(data, read1, read2, nreplace)\u001b[0m",
      "\u001b[1;32m    354\u001b[0m     \u001b[0mthem\u001b[0m\u001b[0;34m.\u001b[0m \u001b[0mRight\u001b[0m \u001b[0mnow\u001b[0m \u001b[0mreplaces\u001b[0m\u001b[0;34m.\u001b[0m \u001b[0mAlso\u001b[0m \u001b[0mfixes\u001b[0m \u001b[0mcut\u001b[0m \u001b[0msite\u001b[0m \u001b[0mto\u001b[0m \u001b[0mbe\u001b[0m \u001b[0merror\u001b[0m \u001b[0mfree\u001b[0m\u001b[0;34m.\u001b[0m\u001b[0;34m\u001b[0m\u001b[0m",
      "\u001b[1;32m    355\u001b[0m     \"\"\"",
      "\u001b[0;32m--> 356\u001b[0;31m     \u001b[0mLOGGER\u001b[0m\u001b[0;34m(\u001b[0m \u001b[0;34m\"Entering nfilter - %d %d\"\u001b[0m\u001b[0;34m,\u001b[0m \u001b[0mlen\u001b[0m\u001b[0;34m(\u001b[0m\u001b[0mread1\u001b[0m\u001b[0;34m)\u001b[0m\u001b[0;34m,\u001b[0m \u001b[0mlen\u001b[0m\u001b[0;34m(\u001b[0m\u001b[0mread2\u001b[0m\u001b[0;34m)\u001b[0m \u001b[0;34m)\u001b[0m\u001b[0;34m\u001b[0m\u001b[0m",
      "\u001b[0m\u001b[1;32m    357\u001b[0m \u001b[0;34m\u001b[0m\u001b[0m",
      "\u001b[1;32m    358\u001b[0m     \u001b[0;31m## get qscores\u001b[0m\u001b[0;34m\u001b[0m\u001b[0;34m\u001b[0m\u001b[0m",
      "\u001b[0;31mTypeError\u001b[0m: 'Logger' object is not callable",
      "",
      "... 4 more exceptions ..."
     ]
    }
   ],
   "source": [
    "data1.step2([\"1B0\", \"2H0\", \"3J0\", \"3K0\"], force=True)\n",
    "print data1.stats"
   ]
  },
  {
   "cell_type": "code",
   "execution_count": 2,
   "metadata": {
    "collapsed": false,
    "scrolled": true
   },
   "outputs": [
    {
     "name": "stderr",
     "output_type": "stream",
     "text": [
      "DEBUG:ipyrad.core.assembly:try 30: starting controller\n",
      "DEBUG:ipyrad.core.assembly:connected to 0 engines\n",
      "DEBUG:ipyrad.core.assembly:connected to 0 engines\n",
      "DEBUG:ipyrad.core.assembly:connected to 0 engines\n",
      "DEBUG:ipyrad.core.assembly:connected to 0 engines\n",
      "DEBUG:ipyrad.core.assembly:connected to 0 engines\n",
      "DEBUG:ipyrad.core.assembly:connected to 0 engines\n",
      "INFO:ipyrad.core.assembly:OK! Connected to 4/4 engines\n"
     ]
    },
    {
     "name": "stdout",
     "output_type": "stream",
     "text": [
      "     state  reads_raw  reads_filtered  clusters_total  clusters_kept  \\\n",
      "1A0      1      20000             NaN             NaN            NaN   \n",
      "1B0      3      20000           20000            1000           1000   \n",
      "1C0      1      20000             NaN             NaN            NaN   \n",
      "1D0      1      20000             NaN             NaN            NaN   \n",
      "2E0      1      20000             NaN             NaN            NaN   \n",
      "2F0      1      20000             NaN             NaN            NaN   \n",
      "2G0      1      20000             NaN             NaN            NaN   \n",
      "2H0      3      20000           20000            1000           1000   \n",
      "3I0      1      20000             NaN             NaN            NaN   \n",
      "3J0      3      20000           20000            1000           1000   \n",
      "3K0      3      20000           20000            1000           1000   \n",
      "3L0      1      20000             NaN             NaN            NaN   \n",
      "\n",
      "     hetero_est  error_est  reads_consens  \n",
      "1A0         NaN        NaN            NaN  \n",
      "1B0    0.002345   0.000485           1000  \n",
      "1C0         NaN        NaN            NaN  \n",
      "1D0         NaN        NaN            NaN  \n",
      "2E0         NaN        NaN            NaN  \n",
      "2F0         NaN        NaN            NaN  \n",
      "2G0         NaN        NaN            NaN  \n",
      "2H0    0.002312   0.000497            NaN  \n",
      "3I0         NaN        NaN            NaN  \n",
      "3J0    0.002205   0.000494            NaN  \n",
      "3K0    0.002308   0.000500            NaN  \n",
      "3L0         NaN        NaN            NaN  \n"
     ]
    }
   ],
   "source": [
    "# data1.step3()                        ## do all samples\n",
    "# data1.step3(\"1A0\")                   ## do one sample\n",
    "# data1.step3([\"1A0\", \"1B0\", \"1C0\"])   ## do list of samples\n",
    "data1.step3([\"1B0\", \"2H0\", \"3J0\", \"3K0\"], force=True) \n",
    "print data1.stats"
   ]
  },
  {
   "cell_type": "code",
   "execution_count": 3,
   "metadata": {
    "collapsed": false
   },
   "outputs": [
    {
     "name": "stderr",
     "output_type": "stream",
     "text": [
      "DEBUG:ipyrad.core.assembly:try 30: starting controller\n",
      "INFO:ipyrad.core.assembly:OK! Connected to 4/4 engines\n"
     ]
    },
    {
     "name": "stdout",
     "output_type": "stream",
     "text": [
      "     state  reads_raw  reads_filtered  clusters_total  clusters_kept  \\\n",
      "1A0      1      20000             NaN             NaN            NaN   \n",
      "1B0      4      20000           20000            1000           1000   \n",
      "1C0      1      20000             NaN             NaN            NaN   \n",
      "1D0      1      20000             NaN             NaN            NaN   \n",
      "2E0      1      20000             NaN             NaN            NaN   \n",
      "2F0      1      20000             NaN             NaN            NaN   \n",
      "2G0      1      20000             NaN             NaN            NaN   \n",
      "2H0      4      20000           20000            1000           1000   \n",
      "3I0      1      20000             NaN             NaN            NaN   \n",
      "3J0      4      20000           20000            1000           1000   \n",
      "3K0      4      20000           20000            1000           1000   \n",
      "3L0      1      20000             NaN             NaN            NaN   \n",
      "\n",
      "     hetero_est  error_est  reads_consens  \n",
      "1A0         NaN        NaN            NaN  \n",
      "1B0    0.001459   0.000505           1000  \n",
      "1C0         NaN        NaN            NaN  \n",
      "1D0         NaN        NaN            NaN  \n",
      "2E0         NaN        NaN            NaN  \n",
      "2F0         NaN        NaN            NaN  \n",
      "2G0         NaN        NaN            NaN  \n",
      "2H0    0.001486   0.000512            NaN  \n",
      "3I0         NaN        NaN            NaN  \n",
      "3J0    0.001485   0.000501            NaN  \n",
      "3K0    0.001447   0.000515            NaN  \n",
      "3L0         NaN        NaN            NaN  \n",
      "CPU times: user 1.7 s, sys: 62.6 ms, total: 1.77 s\n",
      "Wall time: 13.1 s\n"
     ]
    }
   ],
   "source": [
    "%%time\n",
    "data1.step4([\"1B0\", \"2H0\", \"3J0\", \"3K0\"], force=True) \n",
    "print data1.stats\n"
   ]
  },
  {
   "cell_type": "code",
   "execution_count": 1,
   "metadata": {
    "collapsed": false
   },
   "outputs": [
    {
     "name": "stderr",
     "output_type": "stream",
     "text": [
      "DEBUG:ipyrad:H4CKERZ-mode: __loglevel__ = DEBUG\n",
      "INFO:ipyrad.core.parallel:Local connection to 4 engines [ipyrad-2480]\n"
     ]
    },
    {
     "name": "stdout",
     "output_type": "stream",
     "text": [
      "Loading Assembly: test_pairddrad  [test_pairddrad/test_pairddrad.assembly]\n",
      "ipyparallel setup: Local connection to 4 engines\n",
      "\n"
     ]
    }
   ],
   "source": [
    "#data1.save(\"upto2\")\n",
    "## still figuring out how best to save...\n",
    "import ipyrad as ip\n",
    "data1 = ip.load_assembly(\"test_pairddrad/test_pairddrad.assembly\")"
   ]
  },
  {
   "cell_type": "code",
   "execution_count": 4,
   "metadata": {
    "collapsed": false,
    "scrolled": false
   },
   "outputs": [
    {
     "name": "stderr",
     "output_type": "stream",
     "text": [
      "DEBUG:ipyrad.core.assembly:try 30: starting controller\n",
      "INFO:ipyrad.core.assembly:OK! Connected to 4/4 engines\n",
      "DEBUG:ipyrad.assemble.consens_se:chunking len:100, done:0, num:1\n",
      "DEBUG:ipyrad.assemble.consens_se:chunking len:100, done:0, num:2\n",
      "DEBUG:ipyrad.assemble.consens_se:chunking len:100, done:0, num:3\n",
      "DEBUG:ipyrad.assemble.consens_se:chunking len:100, done:0, num:4\n",
      "DEBUG:ipyrad.assemble.consens_se:chunking len:100, done:0, num:5\n",
      "DEBUG:ipyrad.assemble.consens_se:chunking len:100, done:0, num:6\n",
      "DEBUG:ipyrad.assemble.consens_se:chunking len:100, done:0, num:7\n",
      "DEBUG:ipyrad.assemble.consens_se:chunking len:100, done:0, num:8\n",
      "DEBUG:ipyrad.assemble.consens_se:chunking len:100, done:0, num:9\n",
      "DEBUG:ipyrad.assemble.consens_se:chunking len:100, done:0, num:10\n",
      "DEBUG:ipyrad.assemble.consens_se:chunking len:0, done:1, num:10\n"
     ]
    },
    {
     "name": "stdout",
     "output_type": "stream",
     "text": [
      "  Diploid base calls and paralog filter (max haplos = 2)\n",
      "  error rate (mean, std):  0.00051, 0.00001\n",
      "  heterozyg. (mean, std):  0.00147, 0.00002\n",
      "\n",
      "     state  reads_raw  reads_filtered  clusters_total  clusters_kept  \\\n",
      "1A0      1      20000             NaN             NaN            NaN   \n",
      "1B0      5      20000           20000            1000           1000   \n",
      "1C0      1      20000             NaN             NaN            NaN   \n",
      "1D0      1      20000             NaN             NaN            NaN   \n",
      "2E0      1      20000             NaN             NaN            NaN   \n",
      "2F0      1      20000             NaN             NaN            NaN   \n",
      "2G0      1      20000             NaN             NaN            NaN   \n",
      "2H0      4      20000           20000            1000           1000   \n",
      "3I0      1      20000             NaN             NaN            NaN   \n",
      "3J0      4      20000           20000            1000           1000   \n",
      "3K0      4      20000           20000            1000           1000   \n",
      "3L0      1      20000             NaN             NaN            NaN   \n",
      "\n",
      "     hetero_est  error_est  reads_consens  \n",
      "1A0         NaN        NaN            NaN  \n",
      "1B0    0.001459   0.000505           1000  \n",
      "1C0         NaN        NaN            NaN  \n",
      "1D0         NaN        NaN            NaN  \n",
      "2E0         NaN        NaN            NaN  \n",
      "2F0         NaN        NaN            NaN  \n",
      "2G0         NaN        NaN            NaN  \n",
      "2H0    0.001486   0.000512            NaN  \n",
      "3I0         NaN        NaN            NaN  \n",
      "3J0    0.001485   0.000501            NaN  \n",
      "3K0    0.001447   0.000515            NaN  \n",
      "3L0         NaN        NaN            NaN  \n"
     ]
    }
   ],
   "source": [
    "data1.step5([\"1B0\"], force=True) \n",
    "print data1.stats"
   ]
  },
  {
   "cell_type": "code",
   "execution_count": null,
   "metadata": {
    "collapsed": false,
    "scrolled": true
   },
   "outputs": [],
   "source": [
    "data1.step5([\"1B0\", \"2H0\", \"3J0\", \"3K0\"], force=True) \n",
    "print data1.stats"
   ]
  },
  {
   "cell_type": "code",
   "execution_count": null,
   "metadata": {
    "collapsed": false
   },
   "outputs": [],
   "source": [
    "import pandas as pd\n",
    "print pd.read_table('test_pairddrad/test_pairddrad_consens/s5_consens.txt', delim_whitespace=1, header=0)"
   ]
  },
  {
   "cell_type": "code",
   "execution_count": null,
   "metadata": {
    "collapsed": false
   },
   "outputs": [],
   "source": [
    "## how to merge Assembly objects\n",
    "data1.files.edits['1B0']\n",
    "data1.samples['1B0'].files"
   ]
  },
  {
   "cell_type": "code",
   "execution_count": null,
   "metadata": {
    "collapsed": false
   },
   "outputs": [],
   "source": [
    "print data1.stats"
   ]
  },
  {
   "cell_type": "code",
   "execution_count": null,
   "metadata": {
    "collapsed": false
   },
   "outputs": [],
   "source": [
    "for i in data1.log:\n",
    "    print i"
   ]
  },
  {
   "cell_type": "code",
   "execution_count": null,
   "metadata": {
    "collapsed": true
   },
   "outputs": [],
   "source": [
    "import numpy as np"
   ]
  },
  {
   "cell_type": "code",
   "execution_count": null,
   "metadata": {
    "collapsed": false
   },
   "outputs": [],
   "source": [
    "adds = np.ones([10, 4], dtype='int16')\n",
    "adds.shape"
   ]
  },
  {
   "cell_type": "code",
   "execution_count": null,
   "metadata": {
    "collapsed": false
   },
   "outputs": [],
   "source": [
    "np.array.([30, 1], dtype='int16')"
   ]
  },
  {
   "cell_type": "code",
   "execution_count": null,
   "metadata": {
    "collapsed": false
   },
   "outputs": [],
   "source": [
    "longest_reads = 190\n",
    "nreads = int(1e5)\n",
    "\n",
    "arr = np.empty([nreads,200, 4], dtype='int16')\n",
    "arr[0][0:adds.shape[0]] = adds\n",
    "arr[0]"
   ]
  },
  {
   "cell_type": "code",
   "execution_count": null,
   "metadata": {
    "collapsed": true
   },
   "outputs": [],
   "source": [
    "import glob\n",
    "import os\n",
    "import numpy"
   ]
  },
  {
   "cell_type": "code",
   "execution_count": null,
   "metadata": {
    "collapsed": true
   },
   "outputs": [],
   "source": [
    "catg = numpy.load(\"test_pairddrad/test_pairddrad_consens/1B0.catg\")"
   ]
  },
  {
   "cell_type": "code",
   "execution_count": null,
   "metadata": {
    "collapsed": false
   },
   "outputs": [],
   "source": [
    "catg[0]"
   ]
  },
  {
   "cell_type": "code",
   "execution_count": null,
   "metadata": {
    "collapsed": false
   },
   "outputs": [],
   "source": [
    "cats1 = glob.glob(os.path.join(\n",
    "                      data1.dirs.consens,\n",
    "                      data1.samples['1B0'].name+\"_tmpcats.*\"))"
   ]
  },
  {
   "cell_type": "code",
   "execution_count": null,
   "metadata": {
    "collapsed": false
   },
   "outputs": [],
   "source": [
    "cats1.sort(key=lambda x: int(x.split(\".\")[-1]))"
   ]
  },
  {
   "cell_type": "code",
   "execution_count": null,
   "metadata": {
    "collapsed": false
   },
   "outputs": [],
   "source": [
    "catg = numpy.load(cats1[0])\n",
    "lastg = numpy.load(cats1[-1])"
   ]
  },
  {
   "cell_type": "code",
   "execution_count": null,
   "metadata": {
    "collapsed": false
   },
   "outputs": [],
   "source": [
    "catg[0]"
   ]
  },
  {
   "cell_type": "code",
   "execution_count": null,
   "metadata": {
    "collapsed": false
   },
   "outputs": [],
   "source": [
    "lastg.shape"
   ]
  },
  {
   "cell_type": "markdown",
   "metadata": {},
   "source": [
    "### Making alignment faster"
   ]
  },
  {
   "cell_type": "code",
   "execution_count": null,
   "metadata": {
    "collapsed": true
   },
   "outputs": [],
   "source": [
    "def alignfast(data, names, seqs):\n",
    "    \"\"\" makes subprocess call to muscle \"\"\"\n",
    "    inputstring = \"\\n\".join(\">\"+i+\"\\n\"+j for i, j in zip(names, seqs))\n",
    "    cmd = \"/bin/echo '\"+inputstring+\"' | \"+data.muscle+\" -quiet -in -\"\n",
    "    piped = subprocess.Popen(cmd, shell=True, \n",
    "                       stdin=subprocess.PIPE,\n",
    "                       stdout=subprocess.PIPE,\n",
    "                       stderr=subprocess.STDOUT,\n",
    "                       close_fds=True)\n",
    "    _, fout = piped.stdin, piped.stdout\n",
    "    return fout.read()"
   ]
  },
  {
   "cell_type": "code",
   "execution_count": null,
   "metadata": {
    "collapsed": true
   },
   "outputs": [],
   "source": [
    "def alignfast(data, names, seqs):\n",
    "    \"\"\" makes subprocess call to muscle \"\"\"\n",
    "    inputstring = \"\\n\".join(\">\"+i+\"\\n\"+j for i, j in zip(names, seqs))\n",
    "    cmd = \"/bin/echo '\"+inputstring+\"' | \"+data.muscle+\" -quiet -in -\"\n",
    "    piped = subprocess.Popen(shlex.split(cmd), \n",
    "                       stdout=subprocess.PIPE)\n",
    "    return piped.stdout.read()"
   ]
  },
  {
   "cell_type": "code",
   "execution_count": null,
   "metadata": {
    "collapsed": false
   },
   "outputs": [],
   "source": [
    "%%timeit\n",
    "out = alignfast(data1, names, seqs)"
   ]
  },
  {
   "cell_type": "code",
   "execution_count": null,
   "metadata": {
    "collapsed": false
   },
   "outputs": [],
   "source": [
    "print out"
   ]
  },
  {
   "cell_type": "code",
   "execution_count": null,
   "metadata": {
    "collapsed": true
   },
   "outputs": [],
   "source": [
    "def newmuscle(data, names, seqs):\n",
    "    inputstring = \"\\n\".join(\">\"+i+\"\\n\"+j for i, j in zip(names, seqs))\n",
    "    return subprocess.Popen(data.muscle, \n",
    "                            stdin=subprocess.PIPE, \n",
    "                            stdout=subprocess.PIPE)\\\n",
    "                            .communicate(inputstring)[0]"
   ]
  },
  {
   "cell_type": "code",
   "execution_count": null,
   "metadata": {
    "collapsed": false
   },
   "outputs": [],
   "source": [
    "%%timeit \n",
    "newmuscle(data1, names, seqs)"
   ]
  },
  {
   "cell_type": "code",
   "execution_count": null,
   "metadata": {
    "collapsed": true
   },
   "outputs": [],
   "source": [
    "def alignfast(data, names, seqs):\n",
    "    \"\"\" makes subprocess call to muscle \"\"\"\n",
    "    inputstring = \"\\n\".join(\">\"+i+\"\\n\"+j for i, j in zip(names, seqs))\n",
    "    cmd = \"/bin/echo '\"+inputstring+\"' | \"+data.muscle+\" -quiet -in -\"\n",
    "    piped = subprocess.check_output(cmd, shell=True)\n",
    "    return piped"
   ]
  },
  {
   "cell_type": "code",
   "execution_count": null,
   "metadata": {
    "collapsed": false
   },
   "outputs": [],
   "source": [
    "out = alignfast(data1, names, seqs)\n",
    "print out"
   ]
  },
  {
   "cell_type": "code",
   "execution_count": null,
   "metadata": {
    "collapsed": false
   },
   "outputs": [],
   "source": [
    "%%timeit\n",
    "out = alignfast(data1, names, seqs)"
   ]
  },
  {
   "cell_type": "code",
   "execution_count": null,
   "metadata": {
    "collapsed": false
   },
   "outputs": [],
   "source": [
    "inputstring = \"\\n\".join(i+\"\\n\"+j for i, j in zip(names, seqs))\n",
    "print inputstring"
   ]
  },
  {
   "cell_type": "code",
   "execution_count": null,
   "metadata": {
    "collapsed": false
   },
   "outputs": [],
   "source": [
    "pipe = subprocess.Popen(shlex.split(cmd), \n",
    "                        stdin=subprocess.PIPE, \n",
    "                        stderr=subprocess.PIPE, stdout=subprocess.PIPE)\n",
    "pipe.stdin.write(\"muscle -h\")\n",
    "get = pipe.communicate(input=pipe)\n",
    "get"
   ]
  },
  {
   "cell_type": "code",
   "execution_count": null,
   "metadata": {
    "collapsed": true
   },
   "outputs": [],
   "source": [
    "def alignfast2(data, names, seqs):\n",
    "    \"\"\" makes subprocess call to muscle \"\"\"\n",
    "    inputstring = \"\\n\".join(i+\"\\n\"+j for i, j in zip(names, seqs))\n",
    "    cmd = \"/bin/echo '\"+inputstring+\"' | \"+data.muscle+\" -quiet -in -\"\n",
    "    \n",
    "    piped = subprocess.Popen(shlex.split(cmd), \n",
    "                             stdin=subprocess.PIPE, \n",
    "                             stdout=subprocess.PIPE,\n",
    "                             stderr=subprocess.PIPE)\n",
    "    stdin, stdout = piped.communicate(input=cmd)\n",
    "    return stdin, stdout"
   ]
  },
  {
   "cell_type": "code",
   "execution_count": null,
   "metadata": {
    "collapsed": true
   },
   "outputs": [],
   "source": [
    "def alignfast3(data, names, seqs):\n",
    "    \"\"\" makes subprocess call to muscle \"\"\"\n",
    "    inputstring = \"\\n\".join(i+\"\\n\"+j for i, j in zip(names, seqs))\n",
    "    cmd = \"/bin/echo '\"+inputstring+\"' | \"+data.muscle+\" -quiet -in -\"\n",
    "    \n",
    "    piped = subprocess.check_output(cmd,\n",
    "                             shell=True)\n",
    "    return piped"
   ]
  },
  {
   "cell_type": "code",
   "execution_count": null,
   "metadata": {
    "collapsed": true
   },
   "outputs": [],
   "source": [
    "def sortalign(stringnames):\n",
    "    \"\"\" parses muscle output from a string to two lists \"\"\"\n",
    "    objs = stringnames.split(\"\\n>\")\n",
    "    seqs = [i.split(\"\\n\")[0].replace(\">\", \"\")+\"\\n\"+\\\n",
    "              \"\".join(i.split('\\n')[1:]) for i in objs]\n",
    "              \n",
    "    aligned = [i.split(\"\\n\") for i in seqs]\n",
    "    newnames = [\">\"+i[0] for i in aligned]\n",
    "    seqs = [i[1] for i in aligned]     \n",
    "    ## return in sorted order by names\n",
    "    sortedtups = [(i, j) for i, j in zip(*sorted(zip(newnames, seqs), \n",
    "                                         key=lambda pair: pair[0]))]\n",
    "    return sortedtups\n"
   ]
  },
  {
   "cell_type": "markdown",
   "metadata": {},
   "source": [
    "#### get clusters"
   ]
  },
  {
   "cell_type": "code",
   "execution_count": null,
   "metadata": {
    "collapsed": false
   },
   "outputs": [],
   "source": [
    "import gzip\n",
    "import subprocess\n",
    "import shlex\n",
    "infile = gzip.open(\"test_pairddrad/test_pairddrad_clust_0.85/1B0.clust.gz\")\n",
    "clusts = infile.read().split(\"//\\n//\\n\")[:10]"
   ]
  },
  {
   "cell_type": "code",
   "execution_count": null,
   "metadata": {
    "collapsed": false
   },
   "outputs": [],
   "source": [
    "for clust in clusts:\n",
    "    lines = clust.split(\"\\n\")\n",
    "    names = lines[::2]\n",
    "    seqs = lines[1::2]\n",
    "    \n",
    "seqs[0] = list(seqs[0])\n",
    "seqs[0].insert(7, \"AA\")\n",
    "seqs[0] = \"\".join(seqs[0])"
   ]
  },
  {
   "cell_type": "code",
   "execution_count": null,
   "metadata": {
    "collapsed": false
   },
   "outputs": [],
   "source": [
    "%%timeit\n",
    "alignfast(data1, names, seqs)"
   ]
  },
  {
   "cell_type": "code",
   "execution_count": null,
   "metadata": {
    "collapsed": false
   },
   "outputs": [],
   "source": [
    "%%timeit \n",
    "alignfast3(data1, names, seqs)"
   ]
  },
  {
   "cell_type": "code",
   "execution_count": null,
   "metadata": {
    "collapsed": false
   },
   "outputs": [],
   "source": [
    "out = alignfast3(data1, names, seqs)\n",
    "#sorts = sortalign(out)\n",
    "print out"
   ]
  },
  {
   "cell_type": "code",
   "execution_count": null,
   "metadata": {
    "collapsed": false
   },
   "outputs": [],
   "source": [
    "out"
   ]
  },
  {
   "cell_type": "code",
   "execution_count": null,
   "metadata": {
    "collapsed": true
   },
   "outputs": [],
   "source": [
    "def sortalign(stringnames):\n",
    "    \"\"\" parses muscle output from a string to two lists \"\"\"\n",
    "    objs = stringnames[1:].split(\"\\n>\")\n",
    "    seqs = [i.split(\"\\n\")[0].replace(\">\", \"\")+\"\\n\"+\\\n",
    "              \"\".join(i.split('\\n')[1:]) for i in objs]\n",
    "              \n",
    "    aligned = [i.split(\"\\n\") for i in seqs]\n",
    "    newnames = [\">\"+i[0] for i in aligned]\n",
    "    seqs = [i[1] for i in aligned]  \n",
    "    \n",
    "    ## return in sorted order by names\n",
    "    sortedtups = [(i, j) for i, j in zip(*sorted(zip(newnames, seqs), \n",
    "                                         key=lambda pair: pair[0]))]\n",
    "    return sortedtups\n"
   ]
  },
  {
   "cell_type": "code",
   "execution_count": null,
   "metadata": {
    "collapsed": false
   },
   "outputs": [],
   "source": [
    "def parsemuscle(out):\n",
    "    \"\"\" parse muscle string output into two sorted lists \"\"\"\n",
    "    lines = out[1:].split(\"\\n>\")\n",
    "    names = [line.split(\"\\n\", 1)[0] for line in lines]\n",
    "    seqs = [line.split(\"\\n\", 1)[1].replace(\"\\n\", \"\") for line in lines]\n",
    "    tups = zip(names, seqs)\n",
    "    anames, aseqs = zip(*sorted(tups, key=lambda x: int(x[0].split(\";\")[-1][1:])))\n"
   ]
  },
  {
   "cell_type": "code",
   "execution_count": null,
   "metadata": {
    "collapsed": true
   },
   "outputs": [],
   "source": []
  }
 ],
 "metadata": {
  "kernelspec": {
   "display_name": "Python 2",
   "language": "python",
   "name": "python2"
  },
  "language_info": {
   "codemirror_mode": {
    "name": "ipython",
    "version": 2
   },
   "file_extension": ".py",
   "mimetype": "text/x-python",
   "name": "python",
   "nbconvert_exporter": "python",
   "pygments_lexer": "ipython2",
   "version": "2.7.11"
  }
 },
 "nbformat": 4,
 "nbformat_minor": 0
}
