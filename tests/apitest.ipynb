{
 "cells": [
  {
   "cell_type": "markdown",
   "metadata": {},
   "source": [
    "### Running ipyrad in IPython (or Jupyter notebooks)\n",
    "All of the code in this notebook is written in IPython. We assume here that you have started an ipcluster instance in a separate terminal to start up a number of parallel engines with a command similar to the one commented below. "
   ]
  },
  {
   "cell_type": "code",
   "execution_count": null,
   "metadata": {
    "collapsed": true
   },
   "outputs": [],
   "source": [
    "## \n",
    "##   ipcluster start --n 4 --daemonize\n",
    "##\n",
    "##"
   ]
  },
  {
   "cell_type": "markdown",
   "metadata": {},
   "source": [
    "### import ipyrad in IPython\n"
   ]
  },
  {
   "cell_type": "code",
   "execution_count": 1,
   "metadata": {
    "collapsed": false
   },
   "outputs": [
    {
     "name": "stdout",
     "output_type": "stream",
     "text": [
      "0.5.15\n"
     ]
    }
   ],
   "source": [
    "import ipyrad as ip\n",
    "print ip.__version__"
   ]
  },
  {
   "cell_type": "markdown",
   "metadata": {},
   "source": [
    "### Let's assemble some data"
   ]
  },
  {
   "cell_type": "code",
   "execution_count": 2,
   "metadata": {
    "collapsed": false
   },
   "outputs": [
    {
     "name": "stdout",
     "output_type": "stream",
     "text": [
      "  New Assembly: data1\n"
     ]
    }
   ],
   "source": [
    "## create a new Assembly class object\n",
    "data1 = ip.Assembly(\"data1\")"
   ]
  },
  {
   "cell_type": "code",
   "execution_count": 3,
   "metadata": {
    "collapsed": false
   },
   "outputs": [
    {
     "name": "stdout",
     "output_type": "stream",
     "text": [
      "  0   assembly_name               data1                                        \n",
      "  1   project_dir                 ./api-test                                   \n",
      "  2   raw_fastq_path              ./ipsimdata/rad_example_R1_.fastq.gz         \n",
      "  3   barcodes_path               ./ipsimdata/rad_example_barcodes.txt         \n",
      "  4   sorted_fastq_path                                                        \n",
      "  5   assembly_method             denovo                                       \n",
      "  6   reference_sequence                                                       \n",
      "  7   datatype                    rad                                          \n",
      "  8   restriction_overhang        ('TGCAG', '')                                \n",
      "  9   max_low_qual_bases          5                                            \n",
      "  10  phred_Qscore_offset         33                                           \n",
      "  11  mindepth_statistical        6                                            \n",
      "  12  mindepth_majrule            6                                            \n",
      "  13  maxdepth                    10000                                        \n",
      "  14  clust_threshold             0.85                                         \n",
      "  15  max_barcode_mismatch        0                                            \n",
      "  16  filter_adapters             0                                            \n",
      "  17  filter_min_trim_len         35                                           \n",
      "  18  max_alleles_consens         2                                            \n",
      "  19  max_Ns_consens              (5, 5)                                       \n",
      "  20  max_Hs_consens              (8, 8)                                       \n",
      "  21  min_samples_locus           4                                            \n",
      "  22  max_SNPs_locus              (20, 20)                                     \n",
      "  23  max_Indels_locus            (8, 8)                                       \n",
      "  24  max_shared_Hs_locus         0.5                                          \n",
      "  25  edit_cutsites               (0, 0)                                       \n",
      "  26  trim_overhang               (0, 0, 0, 0)                                 \n",
      "  27  output_formats              ['l', 'p', 's', 'v']                         \n",
      "  28  pop_assign_file                                                          \n"
     ]
    }
   ],
   "source": [
    "## set new params \n",
    "data1.set_params(\"project_dir\", \"api-test\")\n",
    "data1.set_params(\"raw_fastq_path\", \"ipsimdata/rad_example_R1_.fastq.gz\")\n",
    "data1.set_params(\"barcodes_path\", \"ipsimdata/rad_example_barcodes.txt\")\n",
    "\n",
    "## print the params\n",
    "data1.get_params()"
   ]
  },
  {
   "cell_type": "markdown",
   "metadata": {},
   "source": [
    "### assemble the data set\n",
    "... we have to work on making the spacing more uniform in the progress bars... "
   ]
  },
  {
   "cell_type": "code",
   "execution_count": 4,
   "metadata": {
    "collapsed": false
   },
   "outputs": [
    {
     "name": "stdout",
     "output_type": "stream",
     "text": [
      "\n",
      "  Assembly: data1\n",
      "  [####################] 100%  chunking large files  | 0:00:00 | s1 | \n",
      "  [####################] 100%  sorting reads         | 0:00:02 | s1 | \n",
      "  [####################] 100%  writing/compressing   | 0:00:00 | s1 | \n",
      "  [####################] 100%  processing reads      | 0:00:02 | s2 | \n",
      "  [####################] 100%  dereplicating         | 0:00:00 | s3 | \n",
      "  [####################] 100%  clustering            | 0:00:01 | s3 | \n",
      "  [####################] 100%  building clusters     | 0:00:00 | s3 | \n",
      "  [####################] 100%  chunking              | 0:00:00 | s3 | \n",
      "  [####################] 100%  aligning              | 0:00:08 | s3 | \n",
      "  [####################] 100%  concatenating         | 0:00:00 | s3 | \n",
      "  [####################] 100%  inferring [H, E]      | 0:00:03 | s4 | \n",
      "  [####################] 100%  calculating depths    | 0:00:00 | s5 | \n",
      "  [####################] 100%  chunking clusters     | 0:00:00 | s5 | \n",
      "  [####################] 100%  consens calling       | 0:00:21 | s5 | \n",
      "  [####################] 100%  concat/shuffle input  | 0:00:00 | s6 | \n",
      "  [####################] 100%  clustering across     | 0:00:00 | s6 | \n",
      "  [####################] 100%  building clusters     | 0:00:00 | s6 | \n",
      "  [####################] 100%  aligning clusters     | 0:00:09 | s6 | \n",
      "  [####################] 100%  database indels       | 0:00:00 | s6 | \n",
      "  [####################] 100%  indexing clusters     | 0:00:01 | s6 | \n",
      "  [####################] 100%  building database     | 0:00:00 | s6 | \n",
      "  [####################] 100%  filtering loci        | 0:00:05 | s7 | \n",
      "  [####################] 100%  building loci/stats   | 0:00:00 | s7 | \n",
      "  [####################] 100%  building vcf file     | 0:00:02 | s7 | \n",
      "  [####################] 100%  writing vcf file      | 0:00:00 | s7 | \n",
      "  [####################] 100%  building arrays       | 0:00:00 | s7 | \n",
      "  [####################] 100%  writing outfiles      | 0:00:00 | s7 | \n",
      "  Outfiles written to: ~/Documents/ipyrad/tests/api-test/data1_outfiles\n"
     ]
    }
   ],
   "source": [
    "data1.run('1234567', force=True)"
   ]
  },
  {
   "cell_type": "markdown",
   "metadata": {},
   "source": [
    "### branch the data set\n"
   ]
  },
  {
   "cell_type": "code",
   "execution_count": 6,
   "metadata": {
    "collapsed": false
   },
   "outputs": [
    {
     "name": "stdout",
     "output_type": "stream",
     "text": [
      "\n",
      "  Assembly: data2\n",
      "  [####################] 100%  concat/shuffle input  | 0:00:00 \n",
      "  [####################] 100%  clustering across     | 0:00:00 \n",
      "  [####################] 100%  building clusters     | 0:00:00 \n",
      "  [####################] 100%  aligning clusters     | 0:00:01 \n",
      "  [####################] 100%  indexing clusters     | 0:00:01 \n",
      "  [####################] 100%  building database     | 0:00:00 \n",
      "  [####################] 100%  filtering loci        | 0:00:00 \n",
      "  [####################] 100%  building loci/stats   | 0:00:01 \n",
      "  [####################] 100%  building vcf file     | 0:00:00 \n",
      "  [####################] 100%  writing outfiles      | 0:00:01 \n",
      "  Outfiles written to: ~/Documents/ipyrad/tests/api-test/data2_outfiles\n"
     ]
    }
   ],
   "source": [
    "## create new branch\n",
    "data2 = data1.branch(\"data2\", [\"1A_0\", \"1B_0\", \"1C_0\", \"1D_0\"])\n",
    "\n",
    "## modify the branch params\n",
    "data2.set_params(\"clust_threshold\", \"0.90\")\n",
    "\n",
    "## run steps, use force b/c we rewinded to step 3\n",
    "data2.run(\"67\", force=True)"
   ]
  },
  {
   "cell_type": "markdown",
   "metadata": {},
   "source": [
    "### View assembly stats"
   ]
  },
  {
   "cell_type": "code",
   "execution_count": 5,
   "metadata": {
    "collapsed": false
   },
   "outputs": [
    {
     "name": "stdout",
     "output_type": "stream",
     "text": [
      "      state  reads_raw  reads_passed_filter  clusters_total  clusters_hidepth  \\\n",
      "1A_0      6      19862                19862            1000              1000   \n",
      "1B_0      6      20043                20043            1000              1000   \n",
      "1C_0      6      20136                20136            1000              1000   \n",
      "1D_0      6      19966                19966            1000              1000   \n",
      "2E_0      6      20017                20017            1000              1000   \n",
      "2F_0      6      19933                19933            1000              1000   \n",
      "2G_0      6      20030                20030            1000              1000   \n",
      "2H_0      6      20199                20199            1000              1000   \n",
      "3I_0      6      19885                19885            1000              1000   \n",
      "3J_0      6      19822                19822            1000              1000   \n",
      "3K_0      6      19965                19965            1000              1000   \n",
      "3L_0      6      20008                20008            1000              1000   \n",
      "\n",
      "      hetero_est  error_est  reads_consens  \n",
      "1A_0    0.001824   0.000759           1000  \n",
      "1B_0    0.001908   0.000752           1000  \n",
      "1C_0    0.002084   0.000745           1000  \n",
      "1D_0    0.001803   0.000761           1000  \n",
      "2E_0    0.001830   0.000766           1000  \n",
      "2F_0    0.001996   0.000755           1000  \n",
      "2G_0    0.001940   0.000763           1000  \n",
      "2H_0    0.001747   0.000756           1000  \n",
      "3I_0    0.001807   0.000758           1000  \n",
      "3J_0    0.001931   0.000776           1000  \n",
      "3K_0    0.002092   0.000766           1000  \n",
      "3L_0    0.002042   0.000748           1000  \n"
     ]
    }
   ],
   "source": [
    "print data1.stats"
   ]
  },
  {
   "cell_type": "markdown",
   "metadata": {},
   "source": [
    "### Access statistics\n",
    "You can see all of the attributes and functions available to Assembly class objects by using tab-completion after the object. "
   ]
  },
  {
   "cell_type": "code",
   "execution_count": 8,
   "metadata": {
    "collapsed": false
   },
   "outputs": [],
   "source": [
    "## data1.<tab>"
   ]
  },
  {
   "cell_type": "code",
   "execution_count": 22,
   "metadata": {
    "collapsed": false
   },
   "outputs": [
    {
     "name": "stdout",
     "output_type": "stream",
     "text": [
      "       clusters_total  filtered_by_depth  filtered_by_maxH  filtered_by_maxN  \\\n",
      "count            12.0               12.0              12.0              12.0   \n",
      "mean           1000.0                0.0               0.0               0.0   \n",
      "std               0.0                0.0               0.0               0.0   \n",
      "min            1000.0                0.0               0.0               0.0   \n",
      "25%            1000.0                0.0               0.0               0.0   \n",
      "50%            1000.0                0.0               0.0               0.0   \n",
      "75%            1000.0                0.0               0.0               0.0   \n",
      "max            1000.0                0.0               0.0               0.0   \n",
      "\n",
      "       reads_consens        nsites     nhetero  heterozygosity  \n",
      "count           12.0     12.000000   12.000000       12.000000  \n",
      "mean          1000.0  91016.333333  164.333333        0.001806  \n",
      "std              0.0      8.927316    9.237604        0.000102  \n",
      "min           1000.0  91003.000000  149.000000        0.001637  \n",
      "25%           1000.0  91011.000000  156.750000        0.001722  \n",
      "50%           1000.0  91015.500000  166.000000        0.001824  \n",
      "75%           1000.0  91021.750000  170.000000        0.001868  \n",
      "max           1000.0  91030.000000  179.000000        0.001967  \n"
     ]
    }
   ],
   "source": [
    "print data1.stats_dfs.s5.describe()"
   ]
  },
  {
   "cell_type": "markdown",
   "metadata": {
    "collapsed": true
   },
   "source": [
    "### Plot stats\n",
    "The toyplot package is very cool library for making interactive figures.\n",
    "Click on the figure below to see an example. "
   ]
  },
  {
   "cell_type": "code",
   "execution_count": 28,
   "metadata": {
    "collapsed": false,
    "scrolled": true
   },
   "outputs": [
    {
     "data": {
      "text/plain": [
       "<toyplot.mark.Scatterplot at 0x7f20cc0fddd0>"
      ]
     },
     "execution_count": 28,
     "metadata": {},
     "output_type": "execute_result"
    },
    {
     "data": {
      "text/html": [
       "<div align=\"center\" class=\"toyplot\" id=\"tc1e3da1805fb4c57910b22ce220a0778\"><svg class=\"toyplot-canvas-Canvas\" height=\"300.0px\" id=\"te26ef807cf2f4315a902032b06847abf\" preserveAspectRatio=\"xMidYMid meet\" style=\"background-color:transparent;fill:rgb(16.1%,15.3%,14.1%);fill-opacity:1.0;font-family:Helvetica;font-size:12px;opacity:1.0;stroke:rgb(16.1%,15.3%,14.1%);stroke-opacity:1.0;stroke-width:1.0\" viewBox=\"0 0 300.0 300.0\" width=\"300.0px\" xmlns=\"http://www.w3.org/2000/svg\" xmlns:toyplot=\"http://www.sandia.gov/toyplot\" xmlns:xlink=\"http://www.w3.org/1999/xlink\"><g class=\"toyplot-coordinates-Cartesian\" id=\"t016b3e5ce1144acf804601321b1f1034\"><clipPath id=\"t2e928a9412174e48a4f8cabd26986c84\"><rect height=\"170.0\" width=\"170.0\" x=\"65.0\" y=\"65.0\"></rect></clipPath><g clip-path=\"url(#t2e928a9412174e48a4f8cabd26986c84)\"><g class=\"toyplot-mark-Scatterplot\" id=\"t9a2f1f952dd543e791863772bca4265c\" style=\"\"><g class=\"toyplot-Series\"><g class=\"toyplot-Datum\" style=\"fill:rgb(40%,76.1%,64.7%);fill-opacity:1.0;opacity:1.0;stroke:rgb(40%,76.1%,64.7%);stroke-opacity:1.0\"><circle cx=\"225.0\" cy=\"91.090098720099618\" r=\"3.75\"></circle></g><g class=\"toyplot-Datum\" style=\"fill:rgb(40%,76.1%,64.7%);fill-opacity:1.0;opacity:1.0;stroke:rgb(40%,76.1%,64.7%);stroke-opacity:1.0\"><circle cx=\"225.0\" cy=\"91.090098720099618\" r=\"3.75\"></circle></g><g class=\"toyplot-Datum\" style=\"fill:rgb(40%,76.1%,64.7%);fill-opacity:1.0;opacity:1.0;stroke:rgb(40%,76.1%,64.7%);stroke-opacity:1.0\"><circle cx=\"225.0\" cy=\"91.090098720099618\" r=\"3.75\"></circle></g><g class=\"toyplot-Datum\" style=\"fill:rgb(40%,76.1%,64.7%);fill-opacity:1.0;opacity:1.0;stroke:rgb(40%,76.1%,64.7%);stroke-opacity:1.0\"><circle cx=\"75.0\" cy=\"204.13430506836195\" r=\"3.75\"></circle></g><g class=\"toyplot-Datum\" style=\"fill:rgb(40%,76.1%,64.7%);fill-opacity:1.0;opacity:1.0;stroke:rgb(40%,76.1%,64.7%);stroke-opacity:1.0\"><circle cx=\"225.0\" cy=\"91.090098720099618\" r=\"3.75\"></circle></g><g class=\"toyplot-Datum\" style=\"fill:rgb(40%,76.1%,64.7%);fill-opacity:1.0;opacity:1.0;stroke:rgb(40%,76.1%,64.7%);stroke-opacity:1.0\"><circle cx=\"225.0\" cy=\"91.090098720099618\" r=\"3.75\"></circle></g><g class=\"toyplot-Datum\" style=\"fill:rgb(40%,76.1%,64.7%);fill-opacity:1.0;opacity:1.0;stroke:rgb(40%,76.1%,64.7%);stroke-opacity:1.0\"><circle cx=\"209.28036599304681\" cy=\"223.57172714769234\" r=\"3.75\"></circle></g><g class=\"toyplot-Datum\" style=\"fill:rgb(40%,76.1%,64.7%);fill-opacity:1.0;opacity:1.0;stroke:rgb(40%,76.1%,64.7%);stroke-opacity:1.0\"><circle cx=\"225.0\" cy=\"91.090098720099618\" r=\"3.75\"></circle></g><g class=\"toyplot-Datum\" style=\"fill:rgb(40%,76.1%,64.7%);fill-opacity:1.0;opacity:1.0;stroke:rgb(40%,76.1%,64.7%);stroke-opacity:1.0\"><circle cx=\"225.0\" cy=\"91.090098720099618\" r=\"3.75\"></circle></g><g class=\"toyplot-Datum\" style=\"fill:rgb(40%,76.1%,64.7%);fill-opacity:1.0;opacity:1.0;stroke:rgb(40%,76.1%,64.7%);stroke-opacity:1.0\"><circle cx=\"225.0\" cy=\"91.090098720099618\" r=\"3.75\"></circle></g><g class=\"toyplot-Datum\" style=\"fill:rgb(40%,76.1%,64.7%);fill-opacity:1.0;opacity:1.0;stroke:rgb(40%,76.1%,64.7%);stroke-opacity:1.0\"><circle cx=\"225.0\" cy=\"91.090098720099618\" r=\"3.75\"></circle></g><g class=\"toyplot-Datum\" style=\"fill:rgb(40%,76.1%,64.7%);fill-opacity:1.0;opacity:1.0;stroke:rgb(40%,76.1%,64.7%);stroke-opacity:1.0\"><circle cx=\"225.0\" cy=\"91.090098720099618\" r=\"3.75\"></circle></g></g></g></g><g class=\"toyplot-coordinates-Axis\" id=\"t3cc58af0393d47ed9dd2ed19a744c2fb\" transform=\"translate(75.0,225.0)translate(0,10.0)\"><line style=\"\" x1=\"0\" x2=\"150.0\" y1=\"0\" y2=\"0\"></line><g><text style=\"dominant-baseline:hanging;font-size:10px;font-weight:normal;stroke:none;text-anchor:middle\" transform=\"translate(8.28858733752207,6)\"><tspan style=\"dominant-baseline:inherit\">0.0000000004</tspan></text><text style=\"dominant-baseline:hanging;font-size:10px;font-weight:normal;stroke:none;text-anchor:middle\" transform=\"translate(54.30384879246121,6)\"><tspan style=\"dominant-baseline:inherit\">0.0000000008</tspan></text><text style=\"dominant-baseline:hanging;font-size:10px;font-weight:normal;stroke:none;text-anchor:middle\" transform=\"translate(100.31911024740035,6)\"><tspan style=\"dominant-baseline:inherit\">0.0000000012</tspan></text><text style=\"dominant-baseline:hanging;font-size:10px;font-weight:normal;stroke:none;text-anchor:middle\" transform=\"translate(146.3343717023395,6)\"><tspan style=\"dominant-baseline:inherit\">0.0000000016</tspan></text></g><text style=\"dominant-baseline:hanging;font-size:16px;font-weight:bold;stroke:none;text-anchor:middle\" transform=\"translate(75.0,22)\"><tspan style=\"dominant-baseline:inherit\">N filtered reads</tspan></text><g class=\"toyplot-coordinates-Axis-coordinates\" style=\"visibility:hidden\" transform=\"\"><line style=\"stroke:rgb(43.9%,50.2%,56.5%);stroke-opacity:1.0;stroke-width:1.0\" x1=\"0\" x2=\"0\" y1=\"-3.0\" y2=\"4.5\"></line><text style=\"alignment-baseline:alphabetic;fill:rgb(43.9%,50.2%,56.5%);fill-opacity:1.0;font-size:10px;font-weight:normal;stroke:none;text-anchor:middle\" x=\"0\" y=\"-6\"></text></g></g><g class=\"toyplot-coordinates-Axis\" id=\"t38d6921687b1482e9ca5c8907e3fadb9\" transform=\"translate(75.0,225.0)rotate(-90.0)translate(0,-10.0)\"><line style=\"\" x1=\"1.4282728523076682\" x2=\"133.90990127990037\" y1=\"0\" y2=\"0\"></line><g><text style=\"dominant-baseline:alphabetic;font-size:10px;font-weight:normal;stroke:none;text-anchor:middle\" transform=\"translate(0.0,-6)\"><tspan style=\"dominant-baseline:inherit\">0.00000000</tspan></text><text style=\"dominant-baseline:alphabetic;font-size:10px;font-weight:normal;stroke:none;text-anchor:middle\" transform=\"translate(50.0,-6)\"><tspan style=\"dominant-baseline:inherit\">0.00000005</tspan></text><text style=\"dominant-baseline:alphabetic;font-size:10px;font-weight:normal;stroke:none;text-anchor:middle\" transform=\"translate(100.0,-6)\"><tspan style=\"dominant-baseline:inherit\">0.00000010</tspan></text><text style=\"dominant-baseline:alphabetic;font-size:10px;font-weight:normal;stroke:none;text-anchor:middle\" transform=\"translate(150.0,-6)\"><tspan style=\"dominant-baseline:inherit\">0.00000015</tspan></text></g><text style=\"dominant-baseline:alphabetic;font-size:16px;font-weight:bold;stroke:none;text-anchor:middle\" transform=\"translate(75.0,-22)\"><tspan style=\"dominant-baseline:inherit\">heterozygosity</tspan></text><g class=\"toyplot-coordinates-Axis-coordinates\" style=\"visibility:hidden\" transform=\"\"><line style=\"stroke:rgb(43.9%,50.2%,56.5%);stroke-opacity:1.0;stroke-width:1.0\" x1=\"0\" x2=\"0\" y1=\"3.0\" y2=\"-4.5\"></line><text style=\"alignment-baseline:hanging;fill:rgb(43.9%,50.2%,56.5%);fill-opacity:1.0;font-size:10px;font-weight:normal;stroke:none;text-anchor:middle\" x=\"0\" y=\"6\"></text></g></g></g></svg><div class=\"toyplot-interactive\"><ul class=\"toyplot-mark-popup\" onmouseleave=\"this.style.visibility='hidden'\" style=\"background:rgba(0%,0%,0%,0.75);border:0;border-radius:6px;color:white;cursor:default;list-style:none;margin:0;padding:5px;position:fixed;visibility:hidden\">\n",
       "            <li class=\"toyplot-mark-popup-title\" style=\"color:lightgray;cursor:default;padding:5px;list-style:none;margin:0\"></li>\n",
       "            <li class=\"toyplot-mark-popup-save-csv\" onmouseout=\"this.style.color='white';this.style.background='steelblue'\" onmouseover=\"this.style.color='steelblue';this.style.background='white'\" style=\"border-radius:3px;padding:5px;list-style:none;margin:0\">\n",
       "                Save as .csv\n",
       "            </li>\n",
       "        </ul><script>\n",
       "        (function()\n",
       "        {\n",
       "          var data_tables = [{\"title\": \"Scatterplot Data\", \"names\": [\"x\", \"y0\"], \"id\": \"t9a2f1f952dd543e791863772bca4265c\", \"columns\": [[1.631864456980214e-09, 1.631864456980214e-09, 1.631864456980214e-09, 3.2794923183788714e-10, 1.631864456980214e-09, 1.631864456980214e-09, 1.4952173228780051e-09, 1.631864456980214e-09, 1.631864456980214e-09, 1.631864456980214e-09, 1.631864456980214e-09, 1.631864456980214e-09], [1.3390990127990037e-07, 1.3390990127990037e-07, 1.3390990127990037e-07, 2.0865694931638037e-08, 1.3390990127990037e-07, 1.3390990127990037e-07, 1.4282728523076682e-09, 1.3390990127990037e-07, 1.3390990127990037e-07, 1.3390990127990037e-07, 1.3390990127990037e-07, 1.3390990127990037e-07]], \"filename\": \"toyplot\"}];\n",
       "\n",
       "          function save_csv(data_table)\n",
       "          {\n",
       "            var uri = \"data:text/csv;charset=utf-8,\";\n",
       "            uri += data_table.names.join(\",\") + \"\\n\";\n",
       "            for(var i = 0; i != data_table.columns[0].length; ++i)\n",
       "            {\n",
       "              for(var j = 0; j != data_table.columns.length; ++j)\n",
       "              {\n",
       "                if(j)\n",
       "                  uri += \",\";\n",
       "                uri += data_table.columns[j][i];\n",
       "              }\n",
       "              uri += \"\\n\";\n",
       "            }\n",
       "            uri = encodeURI(uri);\n",
       "\n",
       "            var link = document.createElement(\"a\");\n",
       "            if(typeof link.download != \"undefined\")\n",
       "            {\n",
       "              link.href = uri;\n",
       "              link.style = \"visibility:hidden\";\n",
       "              link.download = data_table.filename + \".csv\";\n",
       "\n",
       "              document.body.appendChild(link);\n",
       "              link.click();\n",
       "              document.body.removeChild(link);\n",
       "            }\n",
       "            else\n",
       "            {\n",
       "              window.open(uri);\n",
       "            }\n",
       "          }\n",
       "\n",
       "          function open_popup(data_table)\n",
       "          {\n",
       "            return function(e)\n",
       "            {\n",
       "              var popup = document.querySelector(\"#tc1e3da1805fb4c57910b22ce220a0778 .toyplot-mark-popup\");\n",
       "              popup.querySelector(\".toyplot-mark-popup-title\").innerHTML = data_table.title;\n",
       "              popup.querySelector(\".toyplot-mark-popup-save-csv\").onclick = function() { popup.style.visibility = \"hidden\"; save_csv(data_table); }\n",
       "              popup.style.left = (e.clientX - 50) + \"px\";\n",
       "              popup.style.top = (e.clientY - 20) + \"px\";\n",
       "              popup.style.visibility = \"visible\";\n",
       "              e.stopPropagation();\n",
       "              e.preventDefault();\n",
       "            }\n",
       "\n",
       "          }\n",
       "\n",
       "          for(var i = 0; i != data_tables.length; ++i)\n",
       "          {\n",
       "            var data_table = data_tables[i];\n",
       "            var event_target = document.querySelector(\"#\" + data_table.id);\n",
       "            event_target.oncontextmenu = open_popup(data_table);\n",
       "          }\n",
       "        })();\n",
       "        </script><script>\n",
       "        (function()\n",
       "        {\n",
       "            function _sign(x)\n",
       "            {\n",
       "                return x < 0 ? -1 : x > 0 ? 1 : 0;\n",
       "            }\n",
       "\n",
       "            function _mix(a, b, amount)\n",
       "            {\n",
       "                return ((1.0 - amount) * a) + (amount * b);\n",
       "            }\n",
       "\n",
       "            function _log(x, base)\n",
       "            {\n",
       "                return Math.log(Math.abs(x)) / Math.log(base);\n",
       "            }\n",
       "\n",
       "            function _in_range(a, x, b)\n",
       "            {\n",
       "                var left = Math.min(a, b);\n",
       "                var right = Math.max(a, b);\n",
       "                return left <= x && x <= right;\n",
       "            }\n",
       "\n",
       "            function inside(range, projection)\n",
       "            {\n",
       "                for(var i = 0; i != projection.length; ++i)\n",
       "                {\n",
       "                    var segment = projection[i];\n",
       "                    if(_in_range(segment.range.min, range, segment.range.max))\n",
       "                        return true;\n",
       "                }\n",
       "                return false;\n",
       "            }\n",
       "\n",
       "            function to_domain(range, projection)\n",
       "            {\n",
       "                for(var i = 0; i != projection.length; ++i)\n",
       "                {\n",
       "                    var segment = projection[i];\n",
       "                    if(_in_range(segment.range.bounds.min, range, segment.range.bounds.max))\n",
       "                    {\n",
       "                        if(segment.scale == \"linear\")\n",
       "                        {\n",
       "                            var amount = (range - segment.range.min) / (segment.range.max - segment.range.min);\n",
       "                            return _mix(segment.domain.min, segment.domain.max, amount)\n",
       "                        }\n",
       "                        else if(segment.scale[0] == \"log\")\n",
       "                        {\n",
       "                            var amount = (range - segment.range.min) / (segment.range.max - segment.range.min);\n",
       "                            var base = segment.scale[1];\n",
       "                            return _sign(segment.domain.min) * Math.pow(base, _mix(_log(segment.domain.min, base), _log(segment.domain.max, base), amount));\n",
       "                        }\n",
       "                    }\n",
       "                }\n",
       "            }\n",
       "\n",
       "            function display_coordinates(e)\n",
       "            {\n",
       "                var current = svg.createSVGPoint();\n",
       "                current.x = e.clientX;\n",
       "                current.y = e.clientY;\n",
       "\n",
       "                for(var axis_id in axes)\n",
       "                {\n",
       "                    var axis = document.querySelector(\"#\" + axis_id);\n",
       "                    var coordinates = axis.querySelector(\".toyplot-coordinates-Axis-coordinates\");\n",
       "                    if(coordinates)\n",
       "                    {\n",
       "                        var projection = axes[axis_id];\n",
       "                        var local = current.matrixTransform(axis.getScreenCTM().inverse());\n",
       "                        if(inside(local.x, projection))\n",
       "                        {\n",
       "                            var domain = to_domain(local.x, projection);\n",
       "                            coordinates.style.visibility = \"visible\";\n",
       "                            coordinates.setAttribute(\"transform\", \"translate(\" + local.x + \")\");\n",
       "                            var text = coordinates.querySelector(\"text\");\n",
       "                            text.textContent = domain.toFixed(2);\n",
       "                        }\n",
       "                        else\n",
       "                        {\n",
       "                            coordinates.style.visibility= \"hidden\";\n",
       "                        }\n",
       "                    }\n",
       "                }\n",
       "            }\n",
       "\n",
       "            var root_id = \"tc1e3da1805fb4c57910b22ce220a0778\";\n",
       "            var axes = {\"t38d6921687b1482e9ca5c8907e3fadb9\": [{\"domain\": {\"bounds\": {\"max\": Infinity, \"min\": -Infinity}, \"max\": 1.4999999999999999e-07, \"min\": 0.0}, \"range\": {\"bounds\": {\"max\": Infinity, \"min\": -Infinity}, \"max\": 150.0, \"min\": 0.0}, \"scale\": \"linear\"}], \"t3cc58af0393d47ed9dd2ed19a744c2fb\": [{\"domain\": {\"bounds\": {\"max\": Infinity, \"min\": -Infinity}, \"max\": 1.631864456980214e-09, \"min\": 3.2794923183788714e-10}, \"range\": {\"bounds\": {\"max\": Infinity, \"min\": -Infinity}, \"max\": 150.0, \"min\": 0.0}, \"scale\": \"linear\"}]};\n",
       "\n",
       "            var svg = document.querySelector(\"#\" + root_id + \" svg\");\n",
       "            svg.addEventListener(\"click\", display_coordinates);\n",
       "        })();\n",
       "        </script></div></div>"
      ]
     },
     "metadata": {},
     "output_type": "display_data"
    }
   ],
   "source": [
    "import toyplot\n",
    "\n",
    "## set canvas size/type\n",
    "canvas = toyplot.Canvas(width=300, height=300)\n",
    "\n",
    "## set the axes\n",
    "axes = canvas.cartesian(xlabel=\"N filtered reads\", \n",
    "                        ylabel=\"heterozygosity\", \n",
    "                        gutter=75)                     \n",
    "axes.y.label.style = {\"font-size\": \"16px\"}\n",
    "axes.x.label.style = {\"font-size\": \"16px\"}\n",
    "\n",
    "## plot the data points\n",
    "axes.scatterplot(data1.stats.error_est,\n",
    "                 data1.stats.hetero_est,\n",
    "                 size=7.5)"
   ]
  },
  {
   "cell_type": "code",
   "execution_count": null,
   "metadata": {
    "collapsed": true
   },
   "outputs": [],
   "source": []
  }
 ],
 "metadata": {
  "anaconda-cloud": {},
  "kernelspec": {
   "display_name": "Python [default]",
   "language": "python",
   "name": "python2"
  },
  "language_info": {
   "codemirror_mode": {
    "name": "ipython",
    "version": 2
   },
   "file_extension": ".py",
   "mimetype": "text/x-python",
   "name": "python",
   "nbconvert_exporter": "python",
   "pygments_lexer": "ipython2",
   "version": "2.7.12"
  }
 },
 "nbformat": 4,
 "nbformat_minor": 0
}
