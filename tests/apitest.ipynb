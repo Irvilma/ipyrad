{
 "cells": [
  {
   "cell_type": "markdown",
   "metadata": {},
   "source": [
    "### Running ipyrad in IPython (or Jupyter notebooks)\n",
    "All of the code in this notebook is written in IPython. We assume here that you have started an ipcluster instance in a separate terminal to start up a number of parallel engines with a command similar to the one commented below. "
   ]
  },
  {
   "cell_type": "code",
   "execution_count": null,
   "metadata": {
    "collapsed": true
   },
   "outputs": [],
   "source": [
    "## \n",
    "##   ipcluster start --n 4 --daemonize\n",
    "##\n",
    "##"
   ]
  },
  {
   "cell_type": "markdown",
   "metadata": {},
   "source": [
    "### import ipyrad in IPython\n"
   ]
  },
  {
   "cell_type": "code",
   "execution_count": 10,
   "metadata": {
    "collapsed": false
   },
   "outputs": [
    {
     "name": "stdout",
     "output_type": "stream",
     "text": [
      "0.3.32\n"
     ]
    }
   ],
   "source": [
    "import ipyrad as ip\n",
    "print ip.__version__"
   ]
  },
  {
   "cell_type": "markdown",
   "metadata": {},
   "source": [
    "### Let's assemble some data"
   ]
  },
  {
   "cell_type": "code",
   "execution_count": 11,
   "metadata": {
    "collapsed": false
   },
   "outputs": [
    {
     "name": "stdout",
     "output_type": "stream",
     "text": [
      "  New Assembly: test\n"
     ]
    }
   ],
   "source": [
    "## create a new Assembly class object\n",
    "data1 = ip.Assembly(\"test\")"
   ]
  },
  {
   "cell_type": "code",
   "execution_count": 12,
   "metadata": {
    "collapsed": false
   },
   "outputs": [
    {
     "name": "stdout",
     "output_type": "stream",
     "text": [
      "  0   assembly_name               test                                         \n",
      "  1   project_dir                 ./api-test                                   \n",
      "  2   raw_fastq_path              ./ipsimdata/rad_example_R1_.fastq.gz         \n",
      "  3   barcodes_path               ./ipsimdata/rad_example_barcodes.txt         \n",
      "  4   sorted_fastq_path                                                        \n",
      "  5   assembly_method             denovo                                       \n",
      "  6   reference_sequence                                                       \n",
      "  7   datatype                    rad                                          \n",
      "  8   restriction_overhang        ('TGCAG', '')                                \n",
      "  9   max_low_qual_bases          5                                            \n",
      "  10  phred_Qscore_offset         33                                           \n",
      "  11  mindepth_statistical        6                                            \n",
      "  12  mindepth_majrule            6                                            \n",
      "  13  maxdepth                    10000                                        \n",
      "  14  clust_threshold             0.85                                         \n",
      "  15  max_barcode_mismatch        0                                            \n",
      "  16  filter_adapters             0                                            \n",
      "  17  filter_min_trim_len         35                                           \n",
      "  18  max_alleles_consens         2                                            \n",
      "  19  max_Ns_consens              (5, 5)                                       \n",
      "  20  max_Hs_consens              (8, 8)                                       \n",
      "  21  min_samples_locus           4                                            \n",
      "  22  max_SNPs_locus              (20, 20)                                     \n",
      "  23  max_Indels_locus            (8, 8)                                       \n",
      "  24  max_shared_Hs_locus         0.5                                          \n",
      "  25  edit_cutsites               (0, 0)                                       \n",
      "  26  trim_overhang               (4, 4, 4, 4)                                 \n",
      "  27  output_formats              *                                            \n",
      "  28  pop_assign_file                                                          \n"
     ]
    }
   ],
   "source": [
    "## set new params \n",
    "data1.set_params(\"project_dir\", \"api-test\")\n",
    "data1.set_params(\"raw_fastq_path\", \"ipsimdata/rad_example_R1_.fastq.gz\")\n",
    "data1.set_params(\"barcodes_path\", \"ipsimdata/rad_example_barcodes.txt\")\n",
    "\n",
    "## print the params\n",
    "data1.get_params()"
   ]
  },
  {
   "cell_type": "markdown",
   "metadata": {},
   "source": [
    "### assemble the data set\n",
    "... we have to work on making the spacing more uniform in the progress bars... "
   ]
  },
  {
   "cell_type": "code",
   "execution_count": 13,
   "metadata": {
    "collapsed": false
   },
   "outputs": [
    {
     "name": "stdout",
     "output_type": "stream",
     "text": [
      "\n",
      "  Assembly: test\n",
      "\n",
      "  [####################] 100%  chunking large files  | 0:00:00 \n",
      "  [####################] 100%  sorting reads         | 0:00:05 \n",
      "  [####################] 100%  writing/compressing   | 0:00:04 \n",
      "\n",
      "  [####################] 100%  processing reads      | 0:00:44 \n",
      "\n",
      "  [####################] 100%  dereplicating         | 0:00:00 \n",
      "  [####################] 100%  clustering            | 0:00:00 \n",
      "  [####################] 100%  chunking              | 0:00:00 \n",
      "  [####################] 100%  aligning              | 0:00:46 \n",
      "  [####################] 100%  concatenating         | 0:00:00 \n",
      "\n",
      "  [####################] 100%  inferring [H, E]      | 0:01:08 \n",
      "\n",
      "  [####################] 100%  consensus calling     | 0:00:35 \n",
      "  [####################] 100%  concat/shuffle input  | 0:00:00 \n",
      "  [####################] 100%  clustering across     | 0:00:01 \n",
      "  [####################] 100%  building clusters     | 0:00:02 \n",
      "  [####################] 100%  aligning clusters     | 0:00:08 \n",
      "  [####################] 100%  indexing clusters     | 0:00:29 \n",
      "  [####################] 100%  building database     | 0:00:05 \n",
      "  [####################] 100%  filtering loci        | 0:00:17 \n",
      "  [####################] 100%  building loci/stats   | 0:00:01 \n",
      "  [####################] 100%  building vcf file     | 0:00:10 \n",
      "  [####################] 100%  writing outfiles      | 0:00:01 \n",
      "  Outfiles written to: ~/Documents/ipyrad/tests/api-test/test_outfiles\n"
     ]
    }
   ],
   "source": [
    "data1.run('1234567')"
   ]
  },
  {
   "cell_type": "markdown",
   "metadata": {},
   "source": [
    "### branch the data set\n"
   ]
  },
  {
   "cell_type": "code",
   "execution_count": 18,
   "metadata": {
    "collapsed": false
   },
   "outputs": [
    {
     "name": "stdout",
     "output_type": "stream",
     "text": [
      "\n",
      "  Assembly: data2\n",
      "  [####################] 100%  concat/shuffle input  | 0:00:00 \n",
      "  [####################] 100%  clustering across     | 0:00:01 \n",
      "  [####################] 100%  building clusters     | 0:00:02 \n",
      "  [####################] 100%  aligning clusters     | 0:00:09 \n",
      "  [####################] 100%  indexing clusters     | 0:00:19 \n",
      "  [####################] 100%  building database     | 0:00:05 \n",
      "  [####################] 100%  filtering loci        | 0:00:00 \n",
      "  [####################] 100%  building loci/stats   | 0:00:01 \n",
      "  [####################] 100%  building vcf file     | 0:00:10 \n",
      "  [####################] 100%  writing outfiles      | 0:00:01 \n",
      "  Outfiles written to: ~/Documents/ipyrad/tests/api-test/data2_outfiles\n"
     ]
    }
   ],
   "source": [
    "## create new branch\n",
    "data2 = data1.branch(\"data2\")\n",
    "\n",
    "## modify the branch params\n",
    "data2.set_params(\"clust_threshold\", \"0.90\")\n",
    "\n",
    "## run steps, use force b/c we rewinded to step 3\n",
    "data2.run(\"67\", force=True)"
   ]
  },
  {
   "cell_type": "markdown",
   "metadata": {},
   "source": [
    "### View assembly stats"
   ]
  },
  {
   "cell_type": "code",
   "execution_count": 19,
   "metadata": {
    "collapsed": false
   },
   "outputs": [
    {
     "name": "stdout",
     "output_type": "stream",
     "text": [
      "      state  reads_raw  reads_filtered  clusters_total  clusters_hidepth  \\\n",
      "1A_0      6      20046           20046            1000              1000   \n",
      "1B_0      6      19932           19932            1000              1000   \n",
      "1C_0      6      20007           20007            1000              1000   \n",
      "1D_0      6      19946           19946            1000              1000   \n",
      "2E_0      6      19839           19839            1000              1000   \n",
      "2F_0      6      19950           19950            1000              1000   \n",
      "2G_0      6      19844           19844            1000              1000   \n",
      "2H_0      6      20102           20102            1000              1000   \n",
      "3I_0      6      20061           20061            1000              1000   \n",
      "3J_0      6      19961           19961            1000              1000   \n",
      "3K_0      6      20188           20188            1000              1000   \n",
      "3L_0      6      20012           20012            1000              1000   \n",
      "\n",
      "      hetero_est  error_est  reads_consens  \n",
      "1A_0    0.002191   0.000772           1000  \n",
      "1B_0    0.001878   0.000757           1000  \n",
      "1C_0    0.002235   0.000716           1000  \n",
      "1D_0    0.001855   0.000742           1000  \n",
      "2E_0    0.001822   0.000753           1000  \n",
      "2F_0    0.002067   0.000790           1000  \n",
      "2G_0    0.001889   0.000794           1000  \n",
      "2H_0    0.002191   0.000734           1000  \n",
      "3I_0    0.001855   0.000748           1000  \n",
      "3J_0    0.001686   0.000791           1000  \n",
      "3K_0    0.001797   0.000739           1000  \n",
      "3L_0    0.002000   0.000752           1000  \n"
     ]
    }
   ],
   "source": [
    "print data1.stats"
   ]
  },
  {
   "cell_type": "markdown",
   "metadata": {},
   "source": [
    "### Access statistics\n",
    "You can see all of the attributes and functions available to Assembly class objects by using tab-completion after the object. "
   ]
  },
  {
   "cell_type": "code",
   "execution_count": 25,
   "metadata": {
    "collapsed": false
   },
   "outputs": [],
   "source": [
    "## data1.<tab>"
   ]
  },
  {
   "cell_type": "markdown",
   "metadata": {
    "collapsed": true
   },
   "source": [
    "### Plot stats\n",
    "The toyplot package is very cool library for making interactive figures.\n",
    "Click on the figure below to see an example. "
   ]
  },
  {
   "cell_type": "code",
   "execution_count": 47,
   "metadata": {
    "collapsed": false,
    "scrolled": true
   },
   "outputs": [
    {
     "data": {
      "text/plain": [
       "<toyplot.mark.Scatterplot at 0x7f43cefe8190>"
      ]
     },
     "execution_count": 47,
     "metadata": {},
     "output_type": "execute_result"
    },
    {
     "data": {
      "text/html": [
       "<div align=\"center\" class=\"toyplot\" id=\"t7d776688287a4d2f89469fba3c6f0428\"><svg class=\"toyplot-canvas-Canvas\" height=\"300.0px\" id=\"t79a4678c54734a36b2f0244eb09ddc15\" preserveAspectRatio=\"xMidYMid meet\" style=\"background-color:transparent;fill:rgb(16.1%,15.3%,14.1%);fill-opacity:1.0;font-family:Helvetica;font-size:12px;opacity:1.0;stroke:rgb(16.1%,15.3%,14.1%);stroke-opacity:1.0;stroke-width:1.0\" viewBox=\"0 0 300.0 300.0\" width=\"300.0px\" xmlns=\"http://www.w3.org/2000/svg\" xmlns:toyplot=\"http://www.sandia.gov/toyplot\" xmlns:xlink=\"http://www.w3.org/1999/xlink\"><g class=\"toyplot-coordinates-Cartesian\" id=\"te2cc36633ad04a84b90169301bc5971b\"><clipPath id=\"t11a921ad9c044d52a2f171ea0d373bc8\"><rect height=\"220.0\" width=\"220.0\" x=\"40.0\" y=\"40.0\"></rect></clipPath><g clip-path=\"url(#t11a921ad9c044d52a2f171ea0d373bc8)\"><g class=\"toyplot-mark-Scatterplot\" id=\"tef7af078084b4613871b11fc9ab7268a\" style=\"\"><g class=\"toyplot-Series\"><g class=\"toyplot-Datum\" style=\"fill:rgb(40%,76.1%,64.7%);fill-opacity:1.0;opacity:1.0;stroke:rgb(40%,76.1%,64.7%);stroke-opacity:1.0\"><circle cx=\"182.72630345269312\" cy=\"85.434708861262209\" r=\"3.75\"></circle></g><g class=\"toyplot-Datum\" style=\"fill:rgb(40%,76.1%,64.7%);fill-opacity:1.0;opacity:1.0;stroke:rgb(40%,76.1%,64.7%);stroke-opacity:1.0\"><circle cx=\"147.93212672423849\" cy=\"187.48321318451144\" r=\"3.75\"></circle></g><g class=\"toyplot-Datum\" style=\"fill:rgb(40%,76.1%,64.7%);fill-opacity:1.0;opacity:1.0;stroke:rgb(40%,76.1%,64.7%);stroke-opacity:1.0\"><circle cx=\"50.0\" cy=\"71.283016840807178\" r=\"3.75\"></circle></g><g class=\"toyplot-Datum\" style=\"fill:rgb(40%,76.1%,64.7%);fill-opacity:1.0;opacity:1.0;stroke:rgb(40%,76.1%,64.7%);stroke-opacity:1.0\"><circle cx=\"112.13048187308351\" cy=\"195.11383389518025\" r=\"3.75\"></circle></g><g class=\"toyplot-Datum\" style=\"fill:rgb(40%,76.1%,64.7%);fill-opacity:1.0;opacity:1.0;stroke:rgb(40%,76.1%,64.7%);stroke-opacity:1.0\"><circle cx=\"137.62956760649166\" cy=\"205.63586000471741\" r=\"3.75\"></circle></g><g class=\"toyplot-Datum\" style=\"fill:rgb(40%,76.1%,64.7%);fill-opacity:1.0;opacity:1.0;stroke:rgb(40%,76.1%,64.7%);stroke-opacity:1.0\"><circle cx=\"225.5643775344962\" cy=\"125.93124926742114\" r=\"3.75\"></circle></g><g class=\"toyplot-Datum\" style=\"fill:rgb(40%,76.1%,64.7%);fill-opacity:1.0;opacity:1.0;stroke:rgb(40%,76.1%,64.7%);stroke-opacity:1.0\"><circle cx=\"236.67315333843331\" cy=\"183.93346830607618\" r=\"3.75\"></circle></g><g class=\"toyplot-Datum\" style=\"fill:rgb(40%,76.1%,64.7%);fill-opacity:1.0;opacity:1.0;stroke:rgb(40%,76.1%,64.7%);stroke-opacity:1.0\"><circle cx=\"93.157875827639941\" cy=\"85.665973592169564\" r=\"3.75\"></circle></g><g class=\"toyplot-Datum\" style=\"fill:rgb(40%,76.1%,64.7%);fill-opacity:1.0;opacity:1.0;stroke:rgb(40%,76.1%,64.7%);stroke-opacity:1.0\"><circle cx=\"126.87622140859669\" cy=\"194.82642651812216\" r=\"3.75\"></circle></g><g class=\"toyplot-Datum\" style=\"fill:rgb(40%,76.1%,64.7%);fill-opacity:1.0;opacity:1.0;stroke:rgb(40%,76.1%,64.7%);stroke-opacity:1.0\"><circle cx=\"227.60787497613086\" cy=\"250.0\" r=\"3.75\"></circle></g><g class=\"toyplot-Datum\" style=\"fill:rgb(40%,76.1%,64.7%);fill-opacity:1.0;opacity:1.0;stroke:rgb(40%,76.1%,64.7%);stroke-opacity:1.0\"><circle cx=\"105.31469744589083\" cy=\"213.68369010838904\" r=\"3.75\"></circle></g><g class=\"toyplot-Datum\" style=\"fill:rgb(40%,76.1%,64.7%);fill-opacity:1.0;opacity:1.0;stroke:rgb(40%,76.1%,64.7%);stroke-opacity:1.0\"><circle cx=\"135.29809985672463\" cy=\"147.83762730984171\" r=\"3.75\"></circle></g></g></g></g><g class=\"toyplot-coordinates-Axis\" id=\"tdba94d680fc24d238c7b3a64e5dbeb36\" transform=\"translate(50.0,250.0)translate(0,10.0)\"><line style=\"\" x1=\"0\" x2=\"186.6731533384333\" y1=\"0\" y2=\"0\"></line><g><text style=\"dominant-baseline:hanging;font-size:10px;font-weight:normal;stroke:none;text-anchor:middle\" transform=\"translate(10.56952314302303,6)\"><tspan style=\"dominant-baseline:inherit\">0.00072</tspan></text><text style=\"dominant-baseline:hanging;font-size:10px;font-weight:normal;stroke:none;text-anchor:middle\" transform=\"translate(57.9271423572674,6)\"><tspan style=\"dominant-baseline:inherit\">0.00074</tspan></text><text style=\"dominant-baseline:hanging;font-size:10px;font-weight:normal;stroke:none;text-anchor:middle\" transform=\"translate(105.28476157151152,6)\"><tspan style=\"dominant-baseline:inherit\">0.00076</tspan></text><text style=\"dominant-baseline:hanging;font-size:10px;font-weight:normal;stroke:none;text-anchor:middle\" transform=\"translate(152.6423807857559,6)\"><tspan style=\"dominant-baseline:inherit\">0.00078</tspan></text><text style=\"dominant-baseline:hanging;font-size:10px;font-weight:normal;stroke:none;text-anchor:middle\" transform=\"translate(200.0,6)\"><tspan style=\"dominant-baseline:inherit\">0.00080</tspan></text></g><text style=\"dominant-baseline:hanging;font-size:14px;font-weight:bold;stroke:none;text-anchor:middle\" transform=\"translate(100.0,22)\"><tspan style=\"dominant-baseline:inherit\">N filtered reads</tspan></text><g class=\"toyplot-coordinates-Axis-coordinates\" style=\"visibility:hidden\" transform=\"\"><line style=\"stroke:rgb(43.9%,50.2%,56.5%);stroke-opacity:1.0;stroke-width:1.0\" x1=\"0\" x2=\"0\" y1=\"-3.0\" y2=\"4.5\"></line><text style=\"alignment-baseline:alphabetic;fill:rgb(43.9%,50.2%,56.5%);fill-opacity:1.0;font-size:10px;font-weight:normal;stroke:none;text-anchor:middle\" x=\"0\" y=\"-6\"></text></g></g><g class=\"toyplot-coordinates-Axis\" id=\"t400fa7299f1f4d698700e45bce17eff4\" transform=\"translate(50.0,250.0)rotate(-90.0)translate(0,-10.0)\"><line style=\"\" x1=\"0\" x2=\"178.7169831591928\" y1=\"0\" y2=\"0\"></line><g><text style=\"dominant-baseline:alphabetic;font-size:10px;font-weight:normal;stroke:none;text-anchor:middle\" transform=\"translate(4.560258300881055,-6)\"><tspan style=\"dominant-baseline:inherit\">0.0017</tspan></text><text style=\"dominant-baseline:alphabetic;font-size:10px;font-weight:normal;stroke:none;text-anchor:middle\" transform=\"translate(69.70683886725408,-6)\"><tspan style=\"dominant-baseline:inherit\">0.0019</tspan></text><text style=\"dominant-baseline:alphabetic;font-size:10px;font-weight:normal;stroke:none;text-anchor:middle\" transform=\"translate(134.85341943362712,-6)\"><tspan style=\"dominant-baseline:inherit\">0.0021</tspan></text><text style=\"dominant-baseline:alphabetic;font-size:10px;font-weight:normal;stroke:none;text-anchor:middle\" transform=\"translate(200.0,-6)\"><tspan style=\"dominant-baseline:inherit\">0.0023</tspan></text></g><text style=\"dominant-baseline:alphabetic;font-size:14px;font-weight:bold;stroke:none;text-anchor:middle\" transform=\"translate(100.0,-22)\"><tspan style=\"dominant-baseline:inherit\">heterozygosity</tspan></text><g class=\"toyplot-coordinates-Axis-coordinates\" style=\"visibility:hidden\" transform=\"\"><line style=\"stroke:rgb(43.9%,50.2%,56.5%);stroke-opacity:1.0;stroke-width:1.0\" x1=\"0\" x2=\"0\" y1=\"3.0\" y2=\"-4.5\"></line><text style=\"alignment-baseline:hanging;fill:rgb(43.9%,50.2%,56.5%);fill-opacity:1.0;font-size:10px;font-weight:normal;stroke:none;text-anchor:middle\" x=\"0\" y=\"6\"></text></g></g></g></svg><div class=\"toyplot-interactive\"><ul class=\"toyplot-mark-popup\" onmouseleave=\"this.style.visibility='hidden'\" style=\"background:rgba(0%,0%,0%,0.75);border:0;border-radius:6px;color:white;cursor:default;list-style:none;margin:0;padding:5px;position:fixed;visibility:hidden\">\n",
       "            <li class=\"toyplot-mark-popup-title\" style=\"color:lightgray;cursor:default;padding:5px;list-style:none;margin:0\"></li>\n",
       "            <li class=\"toyplot-mark-popup-save-csv\" onmouseout=\"this.style.color='white';this.style.background='steelblue'\" onmouseover=\"this.style.color='steelblue';this.style.background='white'\" style=\"border-radius:3px;padding:5px;list-style:none;margin:0\">\n",
       "                Save as .csv\n",
       "            </li>\n",
       "        </ul><script>\n",
       "        (function()\n",
       "        {\n",
       "          var data_tables = [{\"title\": \"Scatterplot Data\", \"names\": [\"x\", \"y0\"], \"id\": \"tef7af078084b4613871b11fc9ab7268a\", \"columns\": [[0.0007715890715523672, 0.0007568948460799898, 0.0007155362945526435, 0.0007417751481537957, 0.0007525438844866131, 0.0007896803839082544, 0.0007943718257451768, 0.0007337626651108403, 0.0007480025471574509, 0.0007905433907382177, 0.0007388967161125403, 0.0007515592624602315], [0.0021912154450680326, 0.0018779265404592032, 0.002234661139062783, 0.0018545005351513896, 0.0018221979153728517, 0.0020668910674749522, 0.0018888242571085635, 0.0021905054623524494, 0.00185538287578864, 0.0016860000071800088, 0.0017974910772434972, 0.001999638487671161]], \"filename\": \"toyplot\"}];\n",
       "\n",
       "          function save_csv(data_table)\n",
       "          {\n",
       "            var uri = \"data:text/csv;charset=utf-8,\";\n",
       "            uri += data_table.names.join(\",\") + \"\\n\";\n",
       "            for(var i = 0; i != data_table.columns[0].length; ++i)\n",
       "            {\n",
       "              for(var j = 0; j != data_table.columns.length; ++j)\n",
       "              {\n",
       "                if(j)\n",
       "                  uri += \",\";\n",
       "                uri += data_table.columns[j][i];\n",
       "              }\n",
       "              uri += \"\\n\";\n",
       "            }\n",
       "            uri = encodeURI(uri);\n",
       "\n",
       "            var link = document.createElement(\"a\");\n",
       "            if(typeof link.download != \"undefined\")\n",
       "            {\n",
       "              link.href = uri;\n",
       "              link.style = \"visibility:hidden\";\n",
       "              link.download = data_table.filename + \".csv\";\n",
       "\n",
       "              document.body.appendChild(link);\n",
       "              link.click();\n",
       "              document.body.removeChild(link);\n",
       "            }\n",
       "            else\n",
       "            {\n",
       "              window.open(uri);\n",
       "            }\n",
       "          }\n",
       "\n",
       "          function open_popup(data_table)\n",
       "          {\n",
       "            return function(e)\n",
       "            {\n",
       "              var popup = document.querySelector(\"#t7d776688287a4d2f89469fba3c6f0428 .toyplot-mark-popup\");\n",
       "              popup.querySelector(\".toyplot-mark-popup-title\").innerHTML = data_table.title;\n",
       "              popup.querySelector(\".toyplot-mark-popup-save-csv\").onclick = function() { popup.style.visibility = \"hidden\"; save_csv(data_table); }\n",
       "              popup.style.left = (e.clientX - 50) + \"px\";\n",
       "              popup.style.top = (e.clientY - 20) + \"px\";\n",
       "              popup.style.visibility = \"visible\";\n",
       "              e.stopPropagation();\n",
       "              e.preventDefault();\n",
       "            }\n",
       "\n",
       "          }\n",
       "\n",
       "          for(var i = 0; i != data_tables.length; ++i)\n",
       "          {\n",
       "            var data_table = data_tables[i];\n",
       "            var event_target = document.querySelector(\"#\" + data_table.id);\n",
       "            event_target.oncontextmenu = open_popup(data_table);\n",
       "          }\n",
       "        })();\n",
       "        </script><script>\n",
       "        (function()\n",
       "        {\n",
       "            function _sign(x)\n",
       "            {\n",
       "                return x < 0 ? -1 : x > 0 ? 1 : 0;\n",
       "            }\n",
       "\n",
       "            function _mix(a, b, amount)\n",
       "            {\n",
       "                return ((1.0 - amount) * a) + (amount * b);\n",
       "            }\n",
       "\n",
       "            function _log(x, base)\n",
       "            {\n",
       "                return Math.log(Math.abs(x)) / Math.log(base);\n",
       "            }\n",
       "\n",
       "            function _in_range(a, x, b)\n",
       "            {\n",
       "                var left = Math.min(a, b);\n",
       "                var right = Math.max(a, b);\n",
       "                return left <= x && x <= right;\n",
       "            }\n",
       "\n",
       "            function inside(range, projection)\n",
       "            {\n",
       "                for(var i = 0; i != projection.length; ++i)\n",
       "                {\n",
       "                    var segment = projection[i];\n",
       "                    if(_in_range(segment.range.min, range, segment.range.max))\n",
       "                        return true;\n",
       "                }\n",
       "                return false;\n",
       "            }\n",
       "\n",
       "            function to_domain(range, projection)\n",
       "            {\n",
       "                for(var i = 0; i != projection.length; ++i)\n",
       "                {\n",
       "                    var segment = projection[i];\n",
       "                    if(_in_range(segment.range.bounds.min, range, segment.range.bounds.max))\n",
       "                    {\n",
       "                        if(segment.scale == \"linear\")\n",
       "                        {\n",
       "                            var amount = (range - segment.range.min) / (segment.range.max - segment.range.min);\n",
       "                            return _mix(segment.domain.min, segment.domain.max, amount)\n",
       "                        }\n",
       "                        else if(segment.scale[0] == \"log\")\n",
       "                        {\n",
       "                            var amount = (range - segment.range.min) / (segment.range.max - segment.range.min);\n",
       "                            var base = segment.scale[1];\n",
       "                            return _sign(segment.domain.min) * Math.pow(base, _mix(_log(segment.domain.min, base), _log(segment.domain.max, base), amount));\n",
       "                        }\n",
       "                    }\n",
       "                }\n",
       "            }\n",
       "\n",
       "            function display_coordinates(e)\n",
       "            {\n",
       "                var current = svg.createSVGPoint();\n",
       "                current.x = e.clientX;\n",
       "                current.y = e.clientY;\n",
       "\n",
       "                for(var axis_id in axes)\n",
       "                {\n",
       "                    var axis = document.querySelector(\"#\" + axis_id);\n",
       "                    var coordinates = axis.querySelector(\".toyplot-coordinates-Axis-coordinates\");\n",
       "                    if(coordinates)\n",
       "                    {\n",
       "                        var projection = axes[axis_id];\n",
       "                        var local = current.matrixTransform(axis.getScreenCTM().inverse());\n",
       "                        if(inside(local.x, projection))\n",
       "                        {\n",
       "                            var domain = to_domain(local.x, projection);\n",
       "                            coordinates.style.visibility = \"visible\";\n",
       "                            coordinates.setAttribute(\"transform\", \"translate(\" + local.x + \")\");\n",
       "                            var text = coordinates.querySelector(\"text\");\n",
       "                            text.textContent = domain.toFixed(2);\n",
       "                        }\n",
       "                        else\n",
       "                        {\n",
       "                            coordinates.style.visibility= \"hidden\";\n",
       "                        }\n",
       "                    }\n",
       "                }\n",
       "            }\n",
       "\n",
       "            var root_id = \"t7d776688287a4d2f89469fba3c6f0428\";\n",
       "            var axes = {\"t400fa7299f1f4d698700e45bce17eff4\": [{\"domain\": {\"bounds\": {\"max\": Infinity, \"min\": -Infinity}, \"max\": 0.0023, \"min\": 0.0016860000071800088}, \"range\": {\"bounds\": {\"max\": Infinity, \"min\": -Infinity}, \"max\": 200.0, \"min\": 0.0}, \"scale\": \"linear\"}], \"tdba94d680fc24d238c7b3a64e5dbeb36\": [{\"domain\": {\"bounds\": {\"max\": Infinity, \"min\": -Infinity}, \"max\": 0.00080000000000000004, \"min\": 0.00071553629455264347}, \"range\": {\"bounds\": {\"max\": Infinity, \"min\": -Infinity}, \"max\": 200.0, \"min\": 0.0}, \"scale\": \"linear\"}]};\n",
       "\n",
       "            var svg = document.querySelector(\"#\" + root_id + \" svg\");\n",
       "            svg.addEventListener(\"click\", display_coordinates);\n",
       "        })();\n",
       "        </script></div></div>"
      ]
     },
     "metadata": {},
     "output_type": "display_data"
    }
   ],
   "source": [
    "import toyplot\n",
    "\n",
    "## plot some of the stats results\n",
    "canvas = toyplot.Canvas(width=300, height=300)\n",
    "axes = canvas.cartesian(xlabel=\"N filtered reads\", \n",
    "                        ylabel=\"heterozygosity\")\n",
    "axes.y.label.style = {\"font-size\": \"14px\"}\n",
    "axes.x.label.style = {\"font-size\": \"14px\"}\n",
    "axes.scatterplot(data1.stats.error_est,\n",
    "                 data1.stats.hetero_est,\n",
    "                 size=7.5)"
   ]
  }
 ],
 "metadata": {
  "kernelspec": {
   "display_name": "Python 2",
   "language": "python",
   "name": "python2"
  },
  "language_info": {
   "codemirror_mode": {
    "name": "ipython",
    "version": 2
   },
   "file_extension": ".py",
   "mimetype": "text/x-python",
   "name": "python",
   "nbconvert_exporter": "python",
   "pygments_lexer": "ipython2",
   "version": "2.7.11"
  }
 },
 "nbformat": 4,
 "nbformat_minor": 0
}
