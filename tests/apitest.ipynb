{
 "cells": [
  {
   "cell_type": "markdown",
   "metadata": {
    "deletable": true,
    "editable": true
   },
   "source": [
    "### Running ipyrad in IPython (or Jupyter notebooks)\n",
    "All of the code in this notebook is written in IPython. We assume here that you have started an ipcluster instance in a separate terminal. To start a cluster with N engines run the command below in a separate terminal. "
   ]
  },
  {
   "cell_type": "code",
   "execution_count": 1,
   "metadata": {
    "collapsed": true,
    "deletable": true,
    "editable": true
   },
   "outputs": [],
   "source": [
    "## \n",
    "##   ipcluster start --n 20\n",
    "##"
   ]
  },
  {
   "cell_type": "markdown",
   "metadata": {
    "deletable": true,
    "editable": true
   },
   "source": [
    "### import ipyrad in IPython\n"
   ]
  },
  {
   "cell_type": "code",
   "execution_count": 2,
   "metadata": {
    "collapsed": false,
    "deletable": true,
    "editable": true
   },
   "outputs": [
    {
     "name": "stdout",
     "output_type": "stream",
     "text": [
      "0.5.15\n"
     ]
    }
   ],
   "source": [
    "import ipyrad as ip\n",
    "print ip.__version__"
   ]
  },
  {
   "cell_type": "markdown",
   "metadata": {
    "deletable": true,
    "editable": true
   },
   "source": [
    "### Check that your ipcluster setup is working"
   ]
  },
  {
   "cell_type": "code",
   "execution_count": 3,
   "metadata": {
    "collapsed": false,
    "deletable": true,
    "editable": true
   },
   "outputs": [
    {
     "name": "stdout",
     "output_type": "stream",
     "text": [
      "  host compute node: [20 cores] on tinus\n"
     ]
    }
   ],
   "source": [
    "print ip.cluster_info()"
   ]
  },
  {
   "cell_type": "markdown",
   "metadata": {
    "deletable": true,
    "editable": true
   },
   "source": [
    "### Create an *ipyrad* Assembly Object"
   ]
  },
  {
   "cell_type": "code",
   "execution_count": 4,
   "metadata": {
    "collapsed": false,
    "deletable": true,
    "editable": true
   },
   "outputs": [
    {
     "name": "stdout",
     "output_type": "stream",
     "text": [
      "  New Assembly: data1\n"
     ]
    }
   ],
   "source": [
    "## create a new Assembly class object\n",
    "data1 = ip.Assembly(\"data1\")"
   ]
  },
  {
   "cell_type": "code",
<<<<<<< HEAD
   "execution_count": 4,
=======
   "execution_count": 5,
>>>>>>> 3dd4daf5931a1157dd62b1fada76f21d02aabeb5
   "metadata": {
    "collapsed": false,
    "deletable": true,
    "editable": true
   },
   "outputs": [
    {
     "name": "stdout",
     "output_type": "stream",
     "text": [
      "  0   assembly_name               data1                                        \n",
      "  1   project_dir                 ./api-test                                   \n",
      "  2   raw_fastq_path              ./ipsimdata/rad_example_R1_.fastq.gz         \n",
      "  3   barcodes_path               ./ipsimdata/rad_example_barcodes.txt         \n",
      "  4   sorted_fastq_path                                                        \n",
      "  5   assembly_method             denovo                                       \n",
      "  6   reference_sequence                                                       \n",
      "  7   datatype                    rad                                          \n",
      "  8   restriction_overhang        ('TGCAG', '')                                \n",
      "  9   max_low_qual_bases          5                                            \n",
      "  10  phred_Qscore_offset         33                                           \n",
      "  11  mindepth_statistical        6                                            \n",
      "  12  mindepth_majrule            6                                            \n",
      "  13  maxdepth                    10000                                        \n",
      "  14  clust_threshold             0.85                                         \n",
      "  15  max_barcode_mismatch        0                                            \n",
      "  16  filter_adapters             0                                            \n",
      "  17  filter_min_trim_len         35                                           \n",
      "  18  max_alleles_consens         2                                            \n",
      "  19  max_Ns_consens              (5, 5)                                       \n",
      "  20  max_Hs_consens              (8, 8)                                       \n",
      "  21  min_samples_locus           4                                            \n",
      "  22  max_SNPs_locus              (20, 20)                                     \n",
      "  23  max_Indels_locus            (8, 8)                                       \n",
      "  24  max_shared_Hs_locus         0.5                                          \n",
      "  25  trim_reads                  (0, 0, 0, 0)                                 \n",
      "  26  trim_loci                   (0, 0, 0, 0)                                 \n",
      "  27  output_formats              ['l', 'p', 's', 'v']                         \n",
      "  28  pop_assign_file                                                          \n"
     ]
    }
   ],
   "source": [
    "## set new params \n",
    "data1.set_params(\"project_dir\", \"api-test\")\n",
    "data1.set_params(\"raw_fastq_path\", \"ipsimdata/rad_example_R1_.fastq.gz\")\n",
    "data1.set_params(\"barcodes_path\", \"ipsimdata/rad_example_barcodes.txt\")\n",
    "\n",
    "## print the params\n",
    "data1.get_params()"
   ]
  },
  {
   "cell_type": "markdown",
   "metadata": {
    "deletable": true,
    "editable": true
   },
   "source": [
    "### Assemble the data set\n",
    "Use the `run` function of the Assembly object and pass it a string with the step numbers that you want it to run. The `force` flag can also be passed to tell *ipyrad* to overwrite existing data if necessary. "
   ]
  },
  {
   "cell_type": "code",
<<<<<<< HEAD
   "execution_count": 5,
=======
   "execution_count": 6,
>>>>>>> 3dd4daf5931a1157dd62b1fada76f21d02aabeb5
   "metadata": {
    "collapsed": false,
    "deletable": true,
    "editable": true
   },
   "outputs": [
    {
     "name": "stdout",
     "output_type": "stream",
     "text": [
      "\n",
      "  Assembly: data1\n",
<<<<<<< HEAD
      "  [####################] 100%  sorting reads         | 0:00:03 | s1 | \n",
      "  [####################] 100%  writing/compressing   | 0:00:01 | s1 | \n",
      "  [####################] 100%  processing reads      | 0:00:02 | s2 | \n",
=======
      "\n",
      "  [####################] 100%  sorting reads         | 0:00:05 | s1 | \n",
      "  [####################] 100%  writing/compressing   | 0:00:01 | s1 | \n",
      "  [####################] 100%  processing reads      | 0:00:01 | s2 | \n",
>>>>>>> 3dd4daf5931a1157dd62b1fada76f21d02aabeb5
      "  [####################] 100%  dereplicating         | 0:00:00 | s3 | \n",
      "  [####################] 100%  clustering            | 0:00:00 | s3 | \n",
      "  [####################] 100%  building clusters     | 0:00:00 | s3 | \n",
      "  [####################] 100%  chunking              | 0:00:00 | s3 | \n",
<<<<<<< HEAD
      "  [####################] 100%  aligning              | 0:00:08 | s3 | \n",
      "  [####################] 100%  concatenating         | 0:00:00 | s3 | \n"
=======
      "  [####################] 100%  aligning              | 0:00:01 | s3 | \n",
      "  [####################] 100%  concatenating         | 0:00:00 | s3 | \n",
      "  [####################] 100%  inferring [H, E]      | 0:00:01 | s4 | \n",
      "  [####################] 100%  calculating depths    | 0:00:00 | s5 | \n",
      "  [####################] 100%  chunking clusters     | 0:00:00 | s5 | \n",
      "  [####################] 100%  consens calling       | 0:00:06 | s5 | \n",
      "  [####################] 100%  concat/shuffle input  | 0:00:00 | s6 | \n",
      "  [####################] 100%  clustering across     | 0:00:00 | s6 | \n",
      "  [####################] 100%  building clusters     | 0:00:00 | s6 | \n",
      "  [####################] 100%  aligning clusters     | 0:00:01 | s6 | \n",
      "  [####################] 100%  database indels       | 0:00:00 | s6 | \n",
      "  [####################] 100%  indexing clusters     | 0:00:01 | s6 | \n",
      "  [####################] 100%  building database     | 0:00:00 | s6 | \n",
      "  [####################] 100%  filtering loci        | 0:00:04 | s7 | \n",
      "  [####################] 100%  building loci/stats   | 0:00:00 | s7 | \n",
      "  [####################] 100%  building vcf file     | 0:00:01 | s7 | \n",
      "  [####################] 100%  writing vcf file      | 0:00:00 | s7 | \n",
      "  [####################] 100%  building arrays       | 0:00:04 | s7 | \n",
      "  [####################] 100%  writing outfiles      | 0:00:02 | s7 | \n",
      "  Outfiles written to: ~/Documents/ipyrad/tests/api-test/data1_outfiles\n"
>>>>>>> 3dd4daf5931a1157dd62b1fada76f21d02aabeb5
     ]
    }
   ],
   "source": [
    "data1.run('123')"
   ]
  },
  {
   "cell_type": "markdown",
   "metadata": {
    "deletable": true,
    "editable": true
   },
   "source": [
    "### Branch the data set\n",
    "Branching can be used to subsample a data set, and we also recommend that users branch before changing parameter settings of an Assembly in order to retain separate records of each Assembly. "
   ]
  },
  {
   "cell_type": "code",
<<<<<<< HEAD
   "execution_count": 26,
   "metadata": {
    "collapsed": false
   },
   "outputs": [],
   "source": [
    "keep = [i for i in data1.samples.keys() if i[0] != '1']"
   ]
  },
  {
   "cell_type": "code",
   "execution_count": null,
=======
   "execution_count": 7,
>>>>>>> 3dd4daf5931a1157dd62b1fada76f21d02aabeb5
   "metadata": {
    "collapsed": false,
    "deletable": true,
    "editable": true
   },
   "outputs": [
    {
     "name": "stdout",
     "output_type": "stream",
     "text": [
      "\n",
      "  Assembly: data2\n",
<<<<<<< HEAD
      "  [####################] 100%  inferring [H, E]      | 0:00:02 | s4 | \n",
      "  [####################] 100%  calculating depths    | 0:00:00 | s5 | \n",
      "  [####################] 100%  chunking clusters     | 0:00:00 | s5 | \n",
      "  [#####               ]  25%  consens calling       | 0:00:04 | s5 | "
=======
      "  [####################] 100%  concat/shuffle input  | 0:00:00 | s6 | \n",
      "  [####################] 100%  clustering across     | 0:00:00 | s6 | \n",
      "  [####################] 100%  building clusters     | 0:00:00 | s6 | \n",
      "  [####################] 100%  aligning clusters     | 0:00:01 | s6 | \n",
      "  [####################] 100%  database indels       | 0:00:00 | s6 | \n",
      "  [####################] 100%  indexing clusters     | 0:00:00 | s6 | \n",
      "  [####################] 100%  building database     | 0:00:00 | s6 | \n",
      "  [####################] 100%  filtering loci        | 0:00:00 | s7 | \n",
      "  [####################] 100%  building loci/stats   | 0:00:00 | s7 | \n",
      "  [####################] 100%  building vcf file     | 0:00:00 | s7 | \n",
      "  [####################] 100%  writing vcf file      | 0:00:00 | s7 | \n",
      "  [####################] 100%  building arrays       | 0:00:04 | s7 | \n",
      "  [####################] 100%  writing outfiles      | 0:00:00 | s7 | \n",
      "  Outfiles written to: ~/Documents/ipyrad/tests/api-test/data2_outfiles\n"
>>>>>>> 3dd4daf5931a1157dd62b1fada76f21d02aabeb5
     ]
    }
   ],
   "source": [
    "## create new branch\n",
    "data2 = data1.branch(\"data2\", subsamples=keep)\n",
    "\n",
    "## modify the branch params\n",
    "data2.set_params(\"clust_threshold\", \"0.90\")\n",
    "\n",
    "## run steps, use force b/c we rewinded to step 3\n",
    "data2.run(\"4567\", force=True)"
   ]
  },
  {
   "cell_type": "markdown",
   "metadata": {
    "deletable": true,
    "editable": true
   },
   "source": [
    "### View assembly stats"
   ]
  },
  {
   "cell_type": "code",
   "execution_count": 8,
   "metadata": {
    "collapsed": false,
    "deletable": true,
    "editable": true
   },
   "outputs": [
    {
     "name": "stdout",
     "output_type": "stream",
     "text": [
      "      state  reads_raw  reads_passed_filter  clusters_total  clusters_hidepth  \\\n",
      "1A_0      6      19862                19862            1000              1000   \n",
      "1B_0      6      20043                20043            1000              1000   \n",
      "1C_0      6      20136                20136            1000              1000   \n",
      "1D_0      6      19966                19966            1000              1000   \n",
      "2E_0      6      20017                20017            1000              1000   \n",
      "2F_0      6      19933                19933            1000              1000   \n",
      "2G_0      6      20030                20030            1000              1000   \n",
      "2H_0      6      20199                20199            1000              1000   \n",
      "3I_0      6      19885                19885            1000              1000   \n",
      "3J_0      6      19822                19822            1000              1000   \n",
      "3K_0      6      19965                19965            1000              1000   \n",
      "3L_0      6      20008                20008            1000              1000   \n",
      "\n",
      "      hetero_est  error_est  reads_consens  \n",
      "1A_0    0.001824   0.000759           1000  \n",
      "1B_0    0.001908   0.000752           1000  \n",
      "1C_0    0.002084   0.000745           1000  \n",
      "1D_0    0.001803   0.000761           1000  \n",
      "2E_0    0.001830   0.000766           1000  \n",
      "2F_0    0.001996   0.000755           1000  \n",
      "2G_0    0.001940   0.000763           1000  \n",
      "2H_0    0.001747   0.000756           1000  \n",
      "3I_0    0.001807   0.000758           1000  \n",
      "3J_0    0.001931   0.000776           1000  \n",
      "3K_0    0.002092   0.000766           1000  \n",
      "3L_0    0.002042   0.000748           1000  \n"
     ]
    }
   ],
   "source": [
    "print data1.stats"
   ]
  },
  {
   "cell_type": "markdown",
   "metadata": {
    "deletable": true,
    "editable": true
   },
   "source": [
    "### Access statistics\n",
    "You can see all of the attributes and functions available to Assembly class objects by using tab-completion after the object. "
   ]
  },
  {
   "cell_type": "code",
   "execution_count": 8,
   "metadata": {
    "collapsed": false,
    "deletable": true,
    "editable": true
   },
   "outputs": [],
   "source": [
    "## data1.<tab>"
   ]
  },
  {
   "cell_type": "code",
   "execution_count": 9,
   "metadata": {
    "collapsed": false,
    "deletable": true,
    "editable": true
   },
   "outputs": [
    {
     "name": "stdout",
     "output_type": "stream",
     "text": [
      "       clusters_total  filtered_by_depth  filtered_by_maxH  filtered_by_maxN  \\\n",
      "count            12.0               12.0              12.0              12.0   \n",
      "mean           1000.0                0.0               0.0               0.0   \n",
      "std               0.0                0.0               0.0               0.0   \n",
      "min            1000.0                0.0               0.0               0.0   \n",
      "25%            1000.0                0.0               0.0               0.0   \n",
      "50%            1000.0                0.0               0.0               0.0   \n",
      "75%            1000.0                0.0               0.0               0.0   \n",
      "max            1000.0                0.0               0.0               0.0   \n",
      "\n",
      "       reads_consens        nsites     nhetero  heterozygosity  \n",
      "count           12.0     12.000000   12.000000       12.000000  \n",
      "mean          1000.0  91016.333333  164.333333        0.001806  \n",
      "std              0.0      8.927316    9.237604        0.000102  \n",
      "min           1000.0  91003.000000  149.000000        0.001637  \n",
      "25%           1000.0  91011.000000  156.750000        0.001722  \n",
      "50%           1000.0  91015.500000  166.000000        0.001824  \n",
      "75%           1000.0  91021.750000  170.000000        0.001868  \n",
      "max           1000.0  91030.000000  179.000000        0.001967  \n"
     ]
    }
   ],
   "source": [
    "print data1.stats_dfs.s5.describe()"
   ]
  },
  {
   "cell_type": "markdown",
   "metadata": {
    "collapsed": true,
    "deletable": true,
    "editable": true
   },
   "source": [
    "### Plot stats\n",
    "The toyplot package is nice simple library for plotting in Python. You can install it with the command `pip install toyplot`. The example below shows how to plot attributes of the assembly together, in this case heterozygosity vs. the number of reads that passed filtering. The ipyrad API access to stats provides a convenient way to explore your data.   "
   ]
  },
  {
   "cell_type": "code",
   "execution_count": 15,
   "metadata": {
    "collapsed": false,
    "deletable": true,
    "editable": true,
    "scrolled": false
   },
   "outputs": [
    {
     "data": {
      "text/html": [
       "<div align=\"center\" class=\"toyplot\" id=\"t3cf2b64b13e944ff896e4f64f2fe1ed7\"><svg class=\"toyplot-canvas-Canvas\" height=\"350.0px\" id=\"t8be8cde5d4064d0eaccea7c7cf123440\" preserveAspectRatio=\"xMidYMid meet\" style=\"background-color:transparent;fill:rgb(16.1%,15.3%,14.1%);fill-opacity:1.0;font-family:Helvetica;font-size:12px;opacity:1.0;stroke:rgb(16.1%,15.3%,14.1%);stroke-opacity:1.0;stroke-width:1.0\" viewBox=\"0 0 350.0 350.0\" width=\"350.0px\" xmlns=\"http://www.w3.org/2000/svg\" xmlns:toyplot=\"http://www.sandia.gov/toyplot\" xmlns:xlink=\"http://www.w3.org/1999/xlink\"><g class=\"toyplot-coordinates-Cartesian\" id=\"t386603b9fb0e465da69fe5d34f6469c1\"><clipPath id=\"t1f1934b105e840899e50f38478a55d35\"><rect height=\"220.0\" width=\"220.0\" x=\"65.0\" y=\"65.0\"></rect></clipPath><g clip-path=\"url(#t1f1934b105e840899e50f38478a55d35)\"><g class=\"toyplot-mark-Scatterplot\" id=\"t867bf5dee70a45238438eecb95811631\" style=\"\"><g class=\"toyplot-Series\"><g class=\"toyplot-Datum\" style=\"fill:rgb(40%,76.1%,64.7%);fill-opacity:1.0;opacity:1.0;stroke:rgb(40%,76.1%,64.7%);stroke-opacity:1.0\"><circle cx=\"161.89266614086154\" cy=\"231.43164238899436\" r=\"3.75\"></circle></g><g class=\"toyplot-Datum\" style=\"fill:rgb(40%,76.1%,64.7%);fill-opacity:1.0;opacity:1.0;stroke:rgb(40%,76.1%,64.7%);stroke-opacity:1.0\"><circle cx=\"121.33483020647164\" cy=\"184.02710207040136\" r=\"3.75\"></circle></g><g class=\"toyplot-Datum\" style=\"fill:rgb(40%,76.1%,64.7%);fill-opacity:1.0;opacity:1.0;stroke:rgb(40%,76.1%,64.7%);stroke-opacity:1.0\"><circle cx=\"76.587926467383085\" cy=\"83.816968319831759\" r=\"3.75\"></circle></g><g class=\"toyplot-Datum\" style=\"fill:rgb(40%,76.1%,64.7%);fill-opacity:1.0;opacity:1.0;stroke:rgb(40%,76.1%,64.7%);stroke-opacity:1.0\"><circle cx=\"177.76054345885635\" cy=\"243.62076594288408\" r=\"3.75\"></circle></g><g class=\"toyplot-Datum\" style=\"fill:rgb(40%,76.1%,64.7%);fill-opacity:1.0;opacity:1.0;stroke:rgb(40%,76.1%,64.7%);stroke-opacity:1.0\"><circle cx=\"210.50273744068849\" cy=\"228.2089175533709\" r=\"3.75\"></circle></g><g class=\"toyplot-Datum\" style=\"fill:rgb(40%,76.1%,64.7%);fill-opacity:1.0;opacity:1.0;stroke:rgb(40%,76.1%,64.7%);stroke-opacity:1.0\"><circle cx=\"139.79793426350295\" cy=\"133.85278745649566\" r=\"3.75\"></circle></g><g class=\"toyplot-Datum\" style=\"fill:rgb(40%,76.1%,64.7%);fill-opacity:1.0;opacity:1.0;stroke:rgb(40%,76.1%,64.7%);stroke-opacity:1.0\"><circle cx=\"190.22770691385205\" cy=\"165.88635854377509\" r=\"3.75\"></circle></g><g class=\"toyplot-Datum\" style=\"fill:rgb(40%,76.1%,64.7%);fill-opacity:1.0;opacity:1.0;stroke:rgb(40%,76.1%,64.7%);stroke-opacity:1.0\"><circle cx=\"144.69060032850689\" cy=\"275.0\" r=\"3.75\"></circle></g><g class=\"toyplot-Datum\" style=\"fill:rgb(40%,76.1%,64.7%);fill-opacity:1.0;opacity:1.0;stroke:rgb(40%,76.1%,64.7%);stroke-opacity:1.0\"><circle cx=\"158.48194923010934\" cy=\"240.94255555195716\" r=\"3.75\"></circle></g><g class=\"toyplot-Datum\" style=\"fill:rgb(40%,76.1%,64.7%);fill-opacity:1.0;opacity:1.0;stroke:rgb(40%,76.1%,64.7%);stroke-opacity:1.0\"><circle cx=\"275.0\" cy=\"171.0923818933135\" r=\"3.75\"></circle></g><g class=\"toyplot-Datum\" style=\"fill:rgb(40%,76.1%,64.7%);fill-opacity:1.0;opacity:1.0;stroke:rgb(40%,76.1%,64.7%);stroke-opacity:1.0\"><circle cx=\"211.69790727518196\" cy=\"79.622070153737184\" r=\"3.75\"></circle></g><g class=\"toyplot-Datum\" style=\"fill:rgb(40%,76.1%,64.7%);fill-opacity:1.0;opacity:1.0;stroke:rgb(40%,76.1%,64.7%);stroke-opacity:1.0\"><circle cx=\"96.43093911002093\" cy=\"107.88921345763529\" r=\"3.75\"></circle></g></g></g></g><g class=\"toyplot-coordinates-Axis\" id=\"t4c4cdbdd4ce442ac9b78142268c323b0\" transform=\"translate(75.0,275.0)translate(0,10.0)\"><line style=\"\" x1=\"1.5879264673830797\" x2=\"200.0\" y1=\"0\" y2=\"0\"></line><g><line style=\"\" x1=\"0.0\" x2=\"0.0\" y1=\"0\" y2=\"-5\"></line><line style=\"\" x1=\"63.629684479409164\" x2=\"63.629684479409164\" y1=\"0\" y2=\"-5\"></line><line style=\"\" x1=\"127.25936895881765\" x2=\"127.25936895881765\" y1=\"0\" y2=\"-5\"></line><line style=\"\" x1=\"190.88905343822682\" x2=\"190.88905343822682\" y1=\"0\" y2=\"-5\"></line></g><g><text style=\"dominant-baseline:hanging;font-size:10px;font-weight:normal;stroke:none;text-anchor:middle\" transform=\"translate(0.0,6)\"><tspan style=\"dominant-baseline:inherit\">0.00074</tspan></text><text style=\"dominant-baseline:hanging;font-size:10px;font-weight:normal;stroke:none;text-anchor:middle\" transform=\"translate(63.629684479409164,6)\"><tspan style=\"dominant-baseline:inherit\">0.00075</tspan></text><text style=\"dominant-baseline:hanging;font-size:10px;font-weight:normal;stroke:none;text-anchor:middle\" transform=\"translate(127.25936895881765,6)\"><tspan style=\"dominant-baseline:inherit\">0.00076</tspan></text><text style=\"dominant-baseline:hanging;font-size:10px;font-weight:normal;stroke:none;text-anchor:middle\" transform=\"translate(190.88905343822682,6)\"><tspan style=\"dominant-baseline:inherit\">0.00077</tspan></text></g><text style=\"dominant-baseline:hanging;font-size:16px;font-weight:bold;stroke:none;text-anchor:middle\" transform=\"translate(100.0,22)\"><tspan style=\"dominant-baseline:inherit\">N filtered reads</tspan></text><g class=\"toyplot-coordinates-Axis-coordinates\" style=\"visibility:hidden\" transform=\"\"><line style=\"stroke:rgb(43.9%,50.2%,56.5%);stroke-opacity:1.0;stroke-width:1.0\" x1=\"0\" x2=\"0\" y1=\"-3.0\" y2=\"4.5\"></line><text style=\"alignment-baseline:alphabetic;fill:rgb(43.9%,50.2%,56.5%);fill-opacity:1.0;font-size:10px;font-weight:normal;stroke:none;text-anchor:middle\" x=\"0\" y=\"-6\"></text></g></g><g class=\"toyplot-coordinates-Axis\" id=\"tf85dc05dff904f07a5bc699c9472300b\" transform=\"translate(75.0,275.0)rotate(-90.0)translate(0,-10.0)\"><line style=\"\" x1=\"0\" x2=\"195.37792984626282\" y1=\"0\" y2=\"0\"></line><g><line style=\"\" x1=\"29.816757567307807\" x2=\"29.816757567307807\" y1=\"0\" y2=\"5\"></line><line style=\"\" x1=\"86.54450504487187\" x2=\"86.54450504487187\" y1=\"0\" y2=\"5\"></line><line style=\"\" x1=\"143.2722525224358\" x2=\"143.2722525224358\" y1=\"0\" y2=\"5\"></line><line style=\"\" x1=\"200.0\" x2=\"200.0\" y1=\"0\" y2=\"5\"></line></g><g><text style=\"dominant-baseline:alphabetic;font-size:10px;font-weight:normal;stroke:none;text-anchor:middle\" transform=\"translate(29.816757567307807,-6)\"><tspan style=\"dominant-baseline:inherit\">0.0018</tspan></text><text style=\"dominant-baseline:alphabetic;font-size:10px;font-weight:normal;stroke:none;text-anchor:middle\" transform=\"translate(86.54450504487187,-6)\"><tspan style=\"dominant-baseline:inherit\">0.0019</tspan></text><text style=\"dominant-baseline:alphabetic;font-size:10px;font-weight:normal;stroke:none;text-anchor:middle\" transform=\"translate(143.2722525224358,-6)\"><tspan style=\"dominant-baseline:inherit\">0.0020</tspan></text><text style=\"dominant-baseline:alphabetic;font-size:10px;font-weight:normal;stroke:none;text-anchor:middle\" transform=\"translate(200.0,-6)\"><tspan style=\"dominant-baseline:inherit\">0.0021</tspan></text></g><text style=\"dominant-baseline:alphabetic;font-size:16px;font-weight:bold;stroke:none;text-anchor:middle\" transform=\"translate(100.0,-22)\"><tspan style=\"dominant-baseline:inherit\">heterozygosity</tspan></text><g class=\"toyplot-coordinates-Axis-coordinates\" style=\"visibility:hidden\" transform=\"\"><line style=\"stroke:rgb(43.9%,50.2%,56.5%);stroke-opacity:1.0;stroke-width:1.0\" x1=\"0\" x2=\"0\" y1=\"3.0\" y2=\"-4.5\"></line><text style=\"alignment-baseline:hanging;fill:rgb(43.9%,50.2%,56.5%);fill-opacity:1.0;font-size:10px;font-weight:normal;stroke:none;text-anchor:middle\" x=\"0\" y=\"6\"></text></g></g></g></svg><div class=\"toyplot-interactive\"><ul class=\"toyplot-mark-popup\" onmouseleave=\"this.style.visibility='hidden'\" style=\"background:rgba(0%,0%,0%,0.75);border:0;border-radius:6px;color:white;cursor:default;list-style:none;margin:0;padding:5px;position:fixed;visibility:hidden\">\n",
       "            <li class=\"toyplot-mark-popup-title\" style=\"color:lightgray;cursor:default;padding:5px;list-style:none;margin:0\"></li>\n",
       "            <li class=\"toyplot-mark-popup-save-csv\" onmouseout=\"this.style.color='white';this.style.background='steelblue'\" onmouseover=\"this.style.color='steelblue';this.style.background='white'\" style=\"border-radius:3px;padding:5px;list-style:none;margin:0\">\n",
       "                Save as .csv\n",
       "            </li>\n",
       "        </ul><script>\n",
       "        (function()\n",
       "        {\n",
       "          var data_tables = [{\"title\": \"Scatterplot Data\", \"names\": [\"x\", \"y0\"], \"id\": \"t867bf5dee70a45238438eecb95811631\", \"columns\": [[0.00075865599513054, 0.0007522819519042979, 0.0007452495574951179, 0.0007611497804522525, 0.000766295522451402, 0.0007551836013793957, 0.0007631091117858898, 0.0007559525296092044, 0.0007581199690699589, 0.0007764318704605113, 0.0007664833545684825, 0.0007483680725097663], [0.0018242413997649682, 0.0019078063964843277, 0.0020844573974608833, 0.0018027543425559532, 0.0018299224376678005, 0.001996253967285107, 0.0019397850036620603, 0.0017474388480185992, 0.001807475507259322, 0.0019306077957152836, 0.002091852188110298, 0.00204202270507807]], \"filename\": \"toyplot\"}];\n",
       "\n",
       "          function save_csv(data_table)\n",
       "          {\n",
       "            var uri = \"data:text/csv;charset=utf-8,\";\n",
       "            uri += data_table.names.join(\",\") + \"\\n\";\n",
       "            for(var i = 0; i != data_table.columns[0].length; ++i)\n",
       "            {\n",
       "              for(var j = 0; j != data_table.columns.length; ++j)\n",
       "              {\n",
       "                if(j)\n",
       "                  uri += \",\";\n",
       "                uri += data_table.columns[j][i];\n",
       "              }\n",
       "              uri += \"\\n\";\n",
       "            }\n",
       "            uri = encodeURI(uri);\n",
       "\n",
       "            var link = document.createElement(\"a\");\n",
       "            if(typeof link.download != \"undefined\")\n",
       "            {\n",
       "              link.href = uri;\n",
       "              link.style = \"visibility:hidden\";\n",
       "              link.download = data_table.filename + \".csv\";\n",
       "\n",
       "              document.body.appendChild(link);\n",
       "              link.click();\n",
       "              document.body.removeChild(link);\n",
       "            }\n",
       "            else\n",
       "            {\n",
       "              window.open(uri);\n",
       "            }\n",
       "          }\n",
       "\n",
       "          function open_popup(data_table)\n",
       "          {\n",
       "            return function(e)\n",
       "            {\n",
       "              var popup = document.querySelector(\"#t3cf2b64b13e944ff896e4f64f2fe1ed7 .toyplot-mark-popup\");\n",
       "              popup.querySelector(\".toyplot-mark-popup-title\").innerHTML = data_table.title;\n",
       "              popup.querySelector(\".toyplot-mark-popup-save-csv\").onclick = function() { popup.style.visibility = \"hidden\"; save_csv(data_table); }\n",
       "              popup.style.left = (e.clientX - 50) + \"px\";\n",
       "              popup.style.top = (e.clientY - 20) + \"px\";\n",
       "              popup.style.visibility = \"visible\";\n",
       "              e.stopPropagation();\n",
       "              e.preventDefault();\n",
       "            }\n",
       "\n",
       "          }\n",
       "\n",
       "          for(var i = 0; i != data_tables.length; ++i)\n",
       "          {\n",
       "            var data_table = data_tables[i];\n",
       "            var event_target = document.querySelector(\"#\" + data_table.id);\n",
       "            event_target.oncontextmenu = open_popup(data_table);\n",
       "          }\n",
       "        })();\n",
       "        </script><script>\n",
       "        (function()\n",
       "        {\n",
       "            function _sign(x)\n",
       "            {\n",
       "                return x < 0 ? -1 : x > 0 ? 1 : 0;\n",
       "            }\n",
       "\n",
       "            function _mix(a, b, amount)\n",
       "            {\n",
       "                return ((1.0 - amount) * a) + (amount * b);\n",
       "            }\n",
       "\n",
       "            function _log(x, base)\n",
       "            {\n",
       "                return Math.log(Math.abs(x)) / Math.log(base);\n",
       "            }\n",
       "\n",
       "            function _in_range(a, x, b)\n",
       "            {\n",
       "                var left = Math.min(a, b);\n",
       "                var right = Math.max(a, b);\n",
       "                return left <= x && x <= right;\n",
       "            }\n",
       "\n",
       "            function inside(range, projection)\n",
       "            {\n",
       "                for(var i = 0; i != projection.length; ++i)\n",
       "                {\n",
       "                    var segment = projection[i];\n",
       "                    if(_in_range(segment.range.min, range, segment.range.max))\n",
       "                        return true;\n",
       "                }\n",
       "                return false;\n",
       "            }\n",
       "\n",
       "            function to_domain(range, projection)\n",
       "            {\n",
       "                for(var i = 0; i != projection.length; ++i)\n",
       "                {\n",
       "                    var segment = projection[i];\n",
       "                    if(_in_range(segment.range.bounds.min, range, segment.range.bounds.max))\n",
       "                    {\n",
       "                        if(segment.scale == \"linear\")\n",
       "                        {\n",
       "                            var amount = (range - segment.range.min) / (segment.range.max - segment.range.min);\n",
       "                            return _mix(segment.domain.min, segment.domain.max, amount)\n",
       "                        }\n",
       "                        else if(segment.scale[0] == \"log\")\n",
       "                        {\n",
       "                            var amount = (range - segment.range.min) / (segment.range.max - segment.range.min);\n",
       "                            var base = segment.scale[1];\n",
       "                            return _sign(segment.domain.min) * Math.pow(base, _mix(_log(segment.domain.min, base), _log(segment.domain.max, base), amount));\n",
       "                        }\n",
       "                    }\n",
       "                }\n",
       "            }\n",
       "\n",
       "            function display_coordinates(e)\n",
       "            {\n",
       "                var current = svg.createSVGPoint();\n",
       "                current.x = e.clientX;\n",
       "                current.y = e.clientY;\n",
       "\n",
       "                for(var axis_id in axes)\n",
       "                {\n",
       "                    var axis = document.querySelector(\"#\" + axis_id);\n",
       "                    var coordinates = axis.querySelector(\".toyplot-coordinates-Axis-coordinates\");\n",
       "                    if(coordinates)\n",
       "                    {\n",
       "                        var projection = axes[axis_id];\n",
       "                        var local = current.matrixTransform(axis.getScreenCTM().inverse());\n",
       "                        if(inside(local.x, projection))\n",
       "                        {\n",
       "                            var domain = to_domain(local.x, projection);\n",
       "                            coordinates.style.visibility = \"visible\";\n",
       "                            coordinates.setAttribute(\"transform\", \"translate(\" + local.x + \")\");\n",
       "                            var text = coordinates.querySelector(\"text\");\n",
       "                            text.textContent = domain.toFixed(2);\n",
       "                        }\n",
       "                        else\n",
       "                        {\n",
       "                            coordinates.style.visibility= \"hidden\";\n",
       "                        }\n",
       "                    }\n",
       "                }\n",
       "            }\n",
       "\n",
       "            var root_id = \"t3cf2b64b13e944ff896e4f64f2fe1ed7\";\n",
       "            var axes = {\"t4c4cdbdd4ce442ac9b78142268c323b0\": [{\"domain\": {\"bounds\": {\"max\": Infinity, \"min\": -Infinity}, \"max\": 0.0007764318704605113, \"min\": 0.0007449999999999999}, \"range\": {\"bounds\": {\"max\": Infinity, \"min\": -Infinity}, \"max\": 200.0, \"min\": 0.0}, \"scale\": \"linear\"}], \"tf85dc05dff904f07a5bc699c9472300b\": [{\"domain\": {\"bounds\": {\"max\": Infinity, \"min\": -Infinity}, \"max\": 0.0021000000000000003, \"min\": 0.0017474388480185992}, \"range\": {\"bounds\": {\"max\": Infinity, \"min\": -Infinity}, \"max\": 200.0, \"min\": 0.0}, \"scale\": \"linear\"}]};\n",
       "\n",
       "            var svg = document.querySelector(\"#\" + root_id + \" svg\");\n",
       "            svg.addEventListener(\"click\", display_coordinates);\n",
       "        })();\n",
       "        </script></div></div>"
      ]
     },
     "metadata": {},
     "output_type": "display_data"
    }
   ],
   "source": [
    "import toyplot\n",
    "\n",
    "## set canvas size/type\n",
    "canvas = toyplot.Canvas(width=350, height=350)\n",
    "\n",
    "## set the axes\n",
    "axes = canvas.cartesian(xlabel=\"N filtered reads\", \n",
    "                        ylabel=\"heterozygosity\", \n",
    "                        gutter=75)                     \n",
    "axes.y.label.style = {\"font-size\": \"16px\"}\n",
    "axes.x.label.style = {\"font-size\": \"16px\"}\n",
    "axes.y.ticks.show = True\n",
    "axes.x.ticks.show = True\n",
    "\n",
    "## plot the data points\n",
    "axes.scatterplot(data1.stats.error_est,\n",
    "                 data1.stats.hetero_est,\n",
    "                 size=7.5);"
   ]
  },
  {
   "cell_type": "markdown",
   "metadata": {
    "deletable": true,
    "editable": true
   },
   "source": [
    "### Infer a tree quickly using *tetrad*"
   ]
  },
  {
   "cell_type": "code",
   "execution_count": 19,
   "metadata": {
    "collapsed": true,
    "deletable": true,
    "editable": true
   },
   "outputs": [],
   "source": [
    "import ipyrad.analysis.tetrad as tetrad"
   ]
  },
  {
   "cell_type": "code",
   "execution_count": 41,
   "metadata": {
    "collapsed": false,
    "deletable": true,
    "editable": true,
    "scrolled": true
   },
   "outputs": [
    {
     "name": "stdout",
     "output_type": "stream",
     "text": [
      "  loading seq array [12 taxa x 4325 bp]\n",
      "  max unlinked SNPs per quartet: 984\n"
     ]
    }
   ],
   "source": [
    "## create a Tetrad Object \n",
    "tet = tetrad.Tetrad(name='data1', \n",
    "                    wdir=\"analysis_tetrad\",\n",
    "                    seqfile=data1.outfiles.snpsphy, \n",
    "                    mapfile=data1.outfiles.snpsmap, \n",
    "                    nboots=10)"
   ]
  },
  {
   "cell_type": "code",
   "execution_count": 42,
   "metadata": {
    "collapsed": false,
    "deletable": true,
    "editable": true
   },
   "outputs": [
    {
     "name": "stdout",
     "output_type": "stream",
     "text": [
      "  local compute node: [20 cores] on tinus\n",
      "\n",
      "  inferring 495 induced quartet trees\n",
      "  [####################] 100%  initial tree | 0:00:00 |  \n",
      "  running 10 bootstrap replicates\n",
      "  [####################] 100%  boot 1       | 0:00:00 |  \n",
      "  [####################] 100%  boot 2       | 0:00:00 |  \n",
      "  [####################] 100%  boot 3       | 0:00:00 |  \n",
      "  [####################] 100%  boot 4       | 0:00:00 |  \n",
      "  [####################] 100%  boot 5       | 0:00:00 |  \n",
      "  [####################] 100%  boot 6       | 0:00:00 |  \n",
      "  [####################] 100%  boot 7       | 0:00:00 |  \n",
      "  [####################] 100%  boot 8       | 0:00:00 |  \n",
      "  [####################] 100%  boot 9       | 0:00:00 |  \n",
      "\n",
      "  Statistics for sampling, discordance, and tree support:\n",
      "    > /home/deren/Documents/ipyrad/tests/data1.stats.txt\n",
      "    \n",
      "  Best tree inferred from the full SNP array:\n",
      "    > /home/deren/Documents/ipyrad/tests/data1.full.tre\n",
      "    \n",
      "  Extended majority-rule consensus over bootstraps w/ support as edge lengths:\n",
      "    > /home/deren/Documents/ipyrad/tests/data1.consensus.tre\n",
      "\n",
      "  All bootstrap trees:\n",
      "    > /home/deren/Documents/ipyrad/tests/data1.boots\n",
      "    \n",
      "\n",
      "            /-100.0, 1D_0\n",
      "     /100.0, \n",
      "    |      |       /-100.0, 1C_0\n",
      "    |       \\100.0, \n",
      "    |             |       /-100.0, 1A_0\n",
      "    |              \\100.0, \n",
      "    |                     \\-100.0, 1B_0\n",
      "    |\n",
      "    |       /-100.0, 2H_0\n",
      "-0.0, 100.0, \n",
      "    |      |       /-100.0, 2G_0\n",
      "    |       \\100.0, \n",
      "    |             |       /-100.0, 2E_0\n",
      "    |              \\100.0, \n",
      "    |                     \\-100.0, 2F_0\n",
      "    |\n",
      "    |       /-100.0, 3L_0\n",
      "     \\100.0, \n",
      "           |       /-100.0, 3K_0\n",
      "            \\100.0, \n",
      "                  |       /-100.0, 3I_0\n",
      "                   \\100.0, \n",
      "                          \\-100.0, 3J_0\n",
      "\n",
      "  * For tips on plotting trees in R: ipyrad.readthedocs.org/cookbook.html     \n",
      "  * For tips on citing this software: ipyrad.readthedocs.org/tetrad.html \n",
      "    \n"
     ]
    }
   ],
   "source": [
    "## run the tree inference\n",
    "tet.run(force=True)"
   ]
  },
  {
   "cell_type": "markdown",
   "metadata": {
    "deletable": true,
    "editable": true
   },
   "source": [
    "### plot data sharing \n",
    "This function and other simple plots will be improved in the future. Very simple at the moment. "
   ]
  },
  {
   "cell_type": "code",
   "execution_count": 16,
   "metadata": {
    "collapsed": true,
    "deletable": true,
    "editable": true
   },
   "outputs": [],
   "source": [
    "import ipyrad.plotting as ipp"
   ]
  },
  {
   "cell_type": "code",
   "execution_count": 49,
   "metadata": {
    "collapsed": false,
    "deletable": true,
    "editable": true
   },
   "outputs": [
    {
     "data": {
      "text/html": [
       "<div align=\"center\" class=\"toyplot\" id=\"t7bd363de820841cb972a0c10d2cb4d19\"><svg class=\"toyplot-canvas-Canvas\" height=\"700.0020000000001px\" id=\"t1e74a4c2bb084a21afd5c467066e2319\" preserveAspectRatio=\"xMidYMid meet\" style=\"background-color:transparent;fill:rgb(16.1%,15.3%,14.1%);fill-opacity:1.0;font-family:Helvetica;font-size:12px;opacity:1.0;stroke:rgb(16.1%,15.3%,14.1%);stroke-opacity:1.0;stroke-width:1.0\" viewBox=\"0 0 900.0 700.0020000000001\" width=\"900.0px\" xmlns=\"http://www.w3.org/2000/svg\" xmlns:toyplot=\"http://www.sandia.gov/toyplot\" xmlns:xlink=\"http://www.w3.org/1999/xlink\"><g class=\"toyplot-coordinates-Table\" id=\"t2d8c993b05bf463dac94386c846192a7\"><rect height=\"39.166833333333329\" style=\"fill:rgb(62%,0.4%,25.9%);fill-opacity:1.0;stroke:none\" width=\"39.166833333333329\" x=\"90.0\" y=\"90.0\"><title>3L_0, 3L_0 : 1000</title></rect><rect height=\"39.166833333333329\" style=\"fill:rgb(62%,0.4%,25.9%);fill-opacity:1.0;stroke:none\" width=\"39.166833333333329\" x=\"129.16683333333333\" y=\"90.0\"><title>3L_0, 3K_0 : 1000</title></rect><rect height=\"39.166833333333329\" style=\"fill:rgb(62%,0.4%,25.9%);fill-opacity:1.0;stroke:none\" width=\"39.166833333333329\" x=\"168.33366666666666\" y=\"90.0\"><title>3L_0, 3I_0 : 1000</title></rect><rect height=\"39.166833333333329\" style=\"fill:rgb(62%,0.4%,25.9%);fill-opacity:1.0;stroke:none\" width=\"39.166833333333329\" x=\"207.50049999999999\" y=\"90.0\"><title>3L_0, 3J_0 : 1000</title></rect><rect height=\"39.166833333333329\" style=\"fill:rgb(62%,0.4%,25.9%);fill-opacity:1.0;stroke:none\" width=\"39.166833333333329\" x=\"246.66733333333332\" y=\"90.0\"><title>3L_0, 1D_0 : 1000</title></rect><rect height=\"39.166833333333329\" style=\"fill:rgb(62%,0.4%,25.9%);fill-opacity:1.0;stroke:none\" width=\"39.166833333333329\" x=\"285.83416666666665\" y=\"90.0\"><title>3L_0, 1C_0 : 1000</title></rect><rect height=\"39.166833333333329\" style=\"fill:rgb(62%,0.4%,25.9%);fill-opacity:1.0;stroke:none\" width=\"39.166833333333329\" x=\"325.00099999999998\" y=\"90.0\"><title>3L_0, 1A_0 : 1000</title></rect><rect height=\"39.166833333333329\" style=\"fill:rgb(62%,0.4%,25.9%);fill-opacity:1.0;stroke:none\" width=\"39.166833333333329\" x=\"364.16783333333331\" y=\"90.0\"><title>3L_0, 1B_0 : 1000</title></rect><rect height=\"39.166833333333329\" style=\"fill:rgb(62%,0.4%,25.9%);fill-opacity:1.0;stroke:none\" width=\"39.166833333333329\" x=\"403.33466666666664\" y=\"90.0\"><title>3L_0, 2H_0 : 1000</title></rect><rect height=\"39.166833333333329\" style=\"fill:rgb(62%,0.4%,25.9%);fill-opacity:1.0;stroke:none\" width=\"39.166833333333329\" x=\"442.50149999999996\" y=\"90.0\"><title>3L_0, 2G_0 : 1000</title></rect><rect height=\"39.166833333333329\" style=\"fill:rgb(62%,0.4%,25.9%);fill-opacity:1.0;stroke:none\" width=\"39.166833333333329\" x=\"481.66833333333329\" y=\"90.0\"><title>3L_0, 2E_0 : 1000</title></rect><rect height=\"39.166833333333329\" style=\"fill:rgb(62%,0.4%,25.9%);fill-opacity:1.0;stroke:none\" width=\"39.166833333333329\" x=\"520.83516666666662\" y=\"90.0\"><title>3L_0, 2F_0 : 1000</title></rect><rect height=\"39.166833333333329\" style=\"fill:rgb(36.9%,31%,63.5%);fill-opacity:1.0;stroke:none\" width=\"39.166833333333329\" x=\"90.0\" y=\"129.16683333333333\"><title>3K_0, 3L_0 : 0</title></rect><rect height=\"39.166833333333329\" style=\"fill:rgb(62%,0.4%,25.9%);fill-opacity:1.0;stroke:none\" width=\"39.166833333333329\" x=\"129.16683333333333\" y=\"129.16683333333333\"><title>3K_0, 3K_0 : 1000</title></rect><rect height=\"39.166833333333329\" style=\"fill:rgb(62%,0.4%,25.9%);fill-opacity:1.0;stroke:none\" width=\"39.166833333333329\" x=\"168.33366666666666\" y=\"129.16683333333333\"><title>3K_0, 3I_0 : 1000</title></rect><rect height=\"39.166833333333329\" style=\"fill:rgb(62%,0.4%,25.9%);fill-opacity:1.0;stroke:none\" width=\"39.166833333333329\" x=\"207.50049999999999\" y=\"129.16683333333333\"><title>3K_0, 3J_0 : 1000</title></rect><rect height=\"39.166833333333329\" style=\"fill:rgb(62%,0.4%,25.9%);fill-opacity:1.0;stroke:none\" width=\"39.166833333333329\" x=\"246.66733333333332\" y=\"129.16683333333333\"><title>3K_0, 1D_0 : 1000</title></rect><rect height=\"39.166833333333329\" style=\"fill:rgb(62%,0.4%,25.9%);fill-opacity:1.0;stroke:none\" width=\"39.166833333333329\" x=\"285.83416666666665\" y=\"129.16683333333333\"><title>3K_0, 1C_0 : 1000</title></rect><rect height=\"39.166833333333329\" style=\"fill:rgb(62%,0.4%,25.9%);fill-opacity:1.0;stroke:none\" width=\"39.166833333333329\" x=\"325.00099999999998\" y=\"129.16683333333333\"><title>3K_0, 1A_0 : 1000</title></rect><rect height=\"39.166833333333329\" style=\"fill:rgb(62%,0.4%,25.9%);fill-opacity:1.0;stroke:none\" width=\"39.166833333333329\" x=\"364.16783333333331\" y=\"129.16683333333333\"><title>3K_0, 1B_0 : 1000</title></rect><rect height=\"39.166833333333329\" style=\"fill:rgb(62%,0.4%,25.9%);fill-opacity:1.0;stroke:none\" width=\"39.166833333333329\" x=\"403.33466666666664\" y=\"129.16683333333333\"><title>3K_0, 2H_0 : 1000</title></rect><rect height=\"39.166833333333329\" style=\"fill:rgb(62%,0.4%,25.9%);fill-opacity:1.0;stroke:none\" width=\"39.166833333333329\" x=\"442.50149999999996\" y=\"129.16683333333333\"><title>3K_0, 2G_0 : 1000</title></rect><rect height=\"39.166833333333329\" style=\"fill:rgb(62%,0.4%,25.9%);fill-opacity:1.0;stroke:none\" width=\"39.166833333333329\" x=\"481.66833333333329\" y=\"129.16683333333333\"><title>3K_0, 2E_0 : 1000</title></rect><rect height=\"39.166833333333329\" style=\"fill:rgb(62%,0.4%,25.9%);fill-opacity:1.0;stroke:none\" width=\"39.166833333333329\" x=\"520.83516666666662\" y=\"129.16683333333333\"><title>3K_0, 2F_0 : 1000</title></rect><rect height=\"39.166833333333329\" style=\"fill:rgb(36.9%,31%,63.5%);fill-opacity:1.0;stroke:none\" width=\"39.166833333333329\" x=\"90.0\" y=\"168.33366666666666\"><title>3I_0, 3L_0 : 0</title></rect><rect height=\"39.166833333333329\" style=\"fill:rgb(36.9%,31%,63.5%);fill-opacity:1.0;stroke:none\" width=\"39.166833333333329\" x=\"129.16683333333333\" y=\"168.33366666666666\"><title>3I_0, 3K_0 : 0</title></rect><rect height=\"39.166833333333329\" style=\"fill:rgb(62%,0.4%,25.9%);fill-opacity:1.0;stroke:none\" width=\"39.166833333333329\" x=\"168.33366666666666\" y=\"168.33366666666666\"><title>3I_0, 3I_0 : 1000</title></rect><rect height=\"39.166833333333329\" style=\"fill:rgb(62%,0.4%,25.9%);fill-opacity:1.0;stroke:none\" width=\"39.166833333333329\" x=\"207.50049999999999\" y=\"168.33366666666666\"><title>3I_0, 3J_0 : 1000</title></rect><rect height=\"39.166833333333329\" style=\"fill:rgb(62%,0.4%,25.9%);fill-opacity:1.0;stroke:none\" width=\"39.166833333333329\" x=\"246.66733333333332\" y=\"168.33366666666666\"><title>3I_0, 1D_0 : 1000</title></rect><rect height=\"39.166833333333329\" style=\"fill:rgb(62%,0.4%,25.9%);fill-opacity:1.0;stroke:none\" width=\"39.166833333333329\" x=\"285.83416666666665\" y=\"168.33366666666666\"><title>3I_0, 1C_0 : 1000</title></rect><rect height=\"39.166833333333329\" style=\"fill:rgb(62%,0.4%,25.9%);fill-opacity:1.0;stroke:none\" width=\"39.166833333333329\" x=\"325.00099999999998\" y=\"168.33366666666666\"><title>3I_0, 1A_0 : 1000</title></rect><rect height=\"39.166833333333329\" style=\"fill:rgb(62%,0.4%,25.9%);fill-opacity:1.0;stroke:none\" width=\"39.166833333333329\" x=\"364.16783333333331\" y=\"168.33366666666666\"><title>3I_0, 1B_0 : 1000</title></rect><rect height=\"39.166833333333329\" style=\"fill:rgb(62%,0.4%,25.9%);fill-opacity:1.0;stroke:none\" width=\"39.166833333333329\" x=\"403.33466666666664\" y=\"168.33366666666666\"><title>3I_0, 2H_0 : 1000</title></rect><rect height=\"39.166833333333329\" style=\"fill:rgb(62%,0.4%,25.9%);fill-opacity:1.0;stroke:none\" width=\"39.166833333333329\" x=\"442.50149999999996\" y=\"168.33366666666666\"><title>3I_0, 2G_0 : 1000</title></rect><rect height=\"39.166833333333329\" style=\"fill:rgb(62%,0.4%,25.9%);fill-opacity:1.0;stroke:none\" width=\"39.166833333333329\" x=\"481.66833333333329\" y=\"168.33366666666666\"><title>3I_0, 2E_0 : 1000</title></rect><rect height=\"39.166833333333329\" style=\"fill:rgb(62%,0.4%,25.9%);fill-opacity:1.0;stroke:none\" width=\"39.166833333333329\" x=\"520.83516666666662\" y=\"168.33366666666666\"><title>3I_0, 2F_0 : 1000</title></rect><rect height=\"39.166833333333329\" style=\"fill:rgb(36.9%,31%,63.5%);fill-opacity:1.0;stroke:none\" width=\"39.166833333333329\" x=\"90.0\" y=\"207.50049999999999\"><title>3J_0, 3L_0 : 0</title></rect><rect height=\"39.166833333333329\" style=\"fill:rgb(36.9%,31%,63.5%);fill-opacity:1.0;stroke:none\" width=\"39.166833333333329\" x=\"129.16683333333333\" y=\"207.50049999999999\"><title>3J_0, 3K_0 : 0</title></rect><rect height=\"39.166833333333329\" style=\"fill:rgb(36.9%,31%,63.5%);fill-opacity:1.0;stroke:none\" width=\"39.166833333333329\" x=\"168.33366666666666\" y=\"207.50049999999999\"><title>3J_0, 3I_0 : 0</title></rect><rect height=\"39.166833333333329\" style=\"fill:rgb(62%,0.4%,25.9%);fill-opacity:1.0;stroke:none\" width=\"39.166833333333329\" x=\"207.50049999999999\" y=\"207.50049999999999\"><title>3J_0, 3J_0 : 1000</title></rect><rect height=\"39.166833333333329\" style=\"fill:rgb(62%,0.4%,25.9%);fill-opacity:1.0;stroke:none\" width=\"39.166833333333329\" x=\"246.66733333333332\" y=\"207.50049999999999\"><title>3J_0, 1D_0 : 1000</title></rect><rect height=\"39.166833333333329\" style=\"fill:rgb(62%,0.4%,25.9%);fill-opacity:1.0;stroke:none\" width=\"39.166833333333329\" x=\"285.83416666666665\" y=\"207.50049999999999\"><title>3J_0, 1C_0 : 1000</title></rect><rect height=\"39.166833333333329\" style=\"fill:rgb(62%,0.4%,25.9%);fill-opacity:1.0;stroke:none\" width=\"39.166833333333329\" x=\"325.00099999999998\" y=\"207.50049999999999\"><title>3J_0, 1A_0 : 1000</title></rect><rect height=\"39.166833333333329\" style=\"fill:rgb(62%,0.4%,25.9%);fill-opacity:1.0;stroke:none\" width=\"39.166833333333329\" x=\"364.16783333333331\" y=\"207.50049999999999\"><title>3J_0, 1B_0 : 1000</title></rect><rect height=\"39.166833333333329\" style=\"fill:rgb(62%,0.4%,25.9%);fill-opacity:1.0;stroke:none\" width=\"39.166833333333329\" x=\"403.33466666666664\" y=\"207.50049999999999\"><title>3J_0, 2H_0 : 1000</title></rect><rect height=\"39.166833333333329\" style=\"fill:rgb(62%,0.4%,25.9%);fill-opacity:1.0;stroke:none\" width=\"39.166833333333329\" x=\"442.50149999999996\" y=\"207.50049999999999\"><title>3J_0, 2G_0 : 1000</title></rect><rect height=\"39.166833333333329\" style=\"fill:rgb(62%,0.4%,25.9%);fill-opacity:1.0;stroke:none\" width=\"39.166833333333329\" x=\"481.66833333333329\" y=\"207.50049999999999\"><title>3J_0, 2E_0 : 1000</title></rect><rect height=\"39.166833333333329\" style=\"fill:rgb(62%,0.4%,25.9%);fill-opacity:1.0;stroke:none\" width=\"39.166833333333329\" x=\"520.83516666666662\" y=\"207.50049999999999\"><title>3J_0, 2F_0 : 1000</title></rect><rect height=\"39.166833333333329\" style=\"fill:rgb(36.9%,31%,63.5%);fill-opacity:1.0;stroke:none\" width=\"39.166833333333329\" x=\"90.0\" y=\"246.66733333333332\"><title>1D_0, 3L_0 : 0</title></rect><rect height=\"39.166833333333329\" style=\"fill:rgb(36.9%,31%,63.5%);fill-opacity:1.0;stroke:none\" width=\"39.166833333333329\" x=\"129.16683333333333\" y=\"246.66733333333332\"><title>1D_0, 3K_0 : 0</title></rect><rect height=\"39.166833333333329\" style=\"fill:rgb(36.9%,31%,63.5%);fill-opacity:1.0;stroke:none\" width=\"39.166833333333329\" x=\"168.33366666666666\" y=\"246.66733333333332\"><title>1D_0, 3I_0 : 0</title></rect><rect height=\"39.166833333333329\" style=\"fill:rgb(36.9%,31%,63.5%);fill-opacity:1.0;stroke:none\" width=\"39.166833333333329\" x=\"207.50049999999999\" y=\"246.66733333333332\"><title>1D_0, 3J_0 : 0</title></rect><rect height=\"39.166833333333329\" style=\"fill:rgb(62%,0.4%,25.9%);fill-opacity:1.0;stroke:none\" width=\"39.166833333333329\" x=\"246.66733333333332\" y=\"246.66733333333332\"><title>1D_0, 1D_0 : 1000</title></rect><rect height=\"39.166833333333329\" style=\"fill:rgb(62%,0.4%,25.9%);fill-opacity:1.0;stroke:none\" width=\"39.166833333333329\" x=\"285.83416666666665\" y=\"246.66733333333332\"><title>1D_0, 1C_0 : 1000</title></rect><rect height=\"39.166833333333329\" style=\"fill:rgb(62%,0.4%,25.9%);fill-opacity:1.0;stroke:none\" width=\"39.166833333333329\" x=\"325.00099999999998\" y=\"246.66733333333332\"><title>1D_0, 1A_0 : 1000</title></rect><rect height=\"39.166833333333329\" style=\"fill:rgb(62%,0.4%,25.9%);fill-opacity:1.0;stroke:none\" width=\"39.166833333333329\" x=\"364.16783333333331\" y=\"246.66733333333332\"><title>1D_0, 1B_0 : 1000</title></rect><rect height=\"39.166833333333329\" style=\"fill:rgb(62%,0.4%,25.9%);fill-opacity:1.0;stroke:none\" width=\"39.166833333333329\" x=\"403.33466666666664\" y=\"246.66733333333332\"><title>1D_0, 2H_0 : 1000</title></rect><rect height=\"39.166833333333329\" style=\"fill:rgb(62%,0.4%,25.9%);fill-opacity:1.0;stroke:none\" width=\"39.166833333333329\" x=\"442.50149999999996\" y=\"246.66733333333332\"><title>1D_0, 2G_0 : 1000</title></rect><rect height=\"39.166833333333329\" style=\"fill:rgb(62%,0.4%,25.9%);fill-opacity:1.0;stroke:none\" width=\"39.166833333333329\" x=\"481.66833333333329\" y=\"246.66733333333332\"><title>1D_0, 2E_0 : 1000</title></rect><rect height=\"39.166833333333329\" style=\"fill:rgb(62%,0.4%,25.9%);fill-opacity:1.0;stroke:none\" width=\"39.166833333333329\" x=\"520.83516666666662\" y=\"246.66733333333332\"><title>1D_0, 2F_0 : 1000</title></rect><rect height=\"39.166833333333329\" style=\"fill:rgb(36.9%,31%,63.5%);fill-opacity:1.0;stroke:none\" width=\"39.166833333333329\" x=\"90.0\" y=\"285.83416666666665\"><title>1C_0, 3L_0 : 0</title></rect><rect height=\"39.166833333333329\" style=\"fill:rgb(36.9%,31%,63.5%);fill-opacity:1.0;stroke:none\" width=\"39.166833333333329\" x=\"129.16683333333333\" y=\"285.83416666666665\"><title>1C_0, 3K_0 : 0</title></rect><rect height=\"39.166833333333329\" style=\"fill:rgb(36.9%,31%,63.5%);fill-opacity:1.0;stroke:none\" width=\"39.166833333333329\" x=\"168.33366666666666\" y=\"285.83416666666665\"><title>1C_0, 3I_0 : 0</title></rect><rect height=\"39.166833333333329\" style=\"fill:rgb(36.9%,31%,63.5%);fill-opacity:1.0;stroke:none\" width=\"39.166833333333329\" x=\"207.50049999999999\" y=\"285.83416666666665\"><title>1C_0, 3J_0 : 0</title></rect><rect height=\"39.166833333333329\" style=\"fill:rgb(36.9%,31%,63.5%);fill-opacity:1.0;stroke:none\" width=\"39.166833333333329\" x=\"246.66733333333332\" y=\"285.83416666666665\"><title>1C_0, 1D_0 : 0</title></rect><rect height=\"39.166833333333329\" style=\"fill:rgb(62%,0.4%,25.9%);fill-opacity:1.0;stroke:none\" width=\"39.166833333333329\" x=\"285.83416666666665\" y=\"285.83416666666665\"><title>1C_0, 1C_0 : 1000</title></rect><rect height=\"39.166833333333329\" style=\"fill:rgb(62%,0.4%,25.9%);fill-opacity:1.0;stroke:none\" width=\"39.166833333333329\" x=\"325.00099999999998\" y=\"285.83416666666665\"><title>1C_0, 1A_0 : 1000</title></rect><rect height=\"39.166833333333329\" style=\"fill:rgb(62%,0.4%,25.9%);fill-opacity:1.0;stroke:none\" width=\"39.166833333333329\" x=\"364.16783333333331\" y=\"285.83416666666665\"><title>1C_0, 1B_0 : 1000</title></rect><rect height=\"39.166833333333329\" style=\"fill:rgb(62%,0.4%,25.9%);fill-opacity:1.0;stroke:none\" width=\"39.166833333333329\" x=\"403.33466666666664\" y=\"285.83416666666665\"><title>1C_0, 2H_0 : 1000</title></rect><rect height=\"39.166833333333329\" style=\"fill:rgb(62%,0.4%,25.9%);fill-opacity:1.0;stroke:none\" width=\"39.166833333333329\" x=\"442.50149999999996\" y=\"285.83416666666665\"><title>1C_0, 2G_0 : 1000</title></rect><rect height=\"39.166833333333329\" style=\"fill:rgb(62%,0.4%,25.9%);fill-opacity:1.0;stroke:none\" width=\"39.166833333333329\" x=\"481.66833333333329\" y=\"285.83416666666665\"><title>1C_0, 2E_0 : 1000</title></rect><rect height=\"39.166833333333329\" style=\"fill:rgb(62%,0.4%,25.9%);fill-opacity:1.0;stroke:none\" width=\"39.166833333333329\" x=\"520.83516666666662\" y=\"285.83416666666665\"><title>1C_0, 2F_0 : 1000</title></rect><rect height=\"39.166833333333329\" style=\"fill:rgb(36.9%,31%,63.5%);fill-opacity:1.0;stroke:none\" width=\"39.166833333333329\" x=\"90.0\" y=\"325.00099999999998\"><title>1A_0, 3L_0 : 0</title></rect><rect height=\"39.166833333333329\" style=\"fill:rgb(36.9%,31%,63.5%);fill-opacity:1.0;stroke:none\" width=\"39.166833333333329\" x=\"129.16683333333333\" y=\"325.00099999999998\"><title>1A_0, 3K_0 : 0</title></rect><rect height=\"39.166833333333329\" style=\"fill:rgb(36.9%,31%,63.5%);fill-opacity:1.0;stroke:none\" width=\"39.166833333333329\" x=\"168.33366666666666\" y=\"325.00099999999998\"><title>1A_0, 3I_0 : 0</title></rect><rect height=\"39.166833333333329\" style=\"fill:rgb(36.9%,31%,63.5%);fill-opacity:1.0;stroke:none\" width=\"39.166833333333329\" x=\"207.50049999999999\" y=\"325.00099999999998\"><title>1A_0, 3J_0 : 0</title></rect><rect height=\"39.166833333333329\" style=\"fill:rgb(36.9%,31%,63.5%);fill-opacity:1.0;stroke:none\" width=\"39.166833333333329\" x=\"246.66733333333332\" y=\"325.00099999999998\"><title>1A_0, 1D_0 : 0</title></rect><rect height=\"39.166833333333329\" style=\"fill:rgb(36.9%,31%,63.5%);fill-opacity:1.0;stroke:none\" width=\"39.166833333333329\" x=\"285.83416666666665\" y=\"325.00099999999998\"><title>1A_0, 1C_0 : 0</title></rect><rect height=\"39.166833333333329\" style=\"fill:rgb(62%,0.4%,25.9%);fill-opacity:1.0;stroke:none\" width=\"39.166833333333329\" x=\"325.00099999999998\" y=\"325.00099999999998\"><title>1A_0, 1A_0 : 1000</title></rect><rect height=\"39.166833333333329\" style=\"fill:rgb(62%,0.4%,25.9%);fill-opacity:1.0;stroke:none\" width=\"39.166833333333329\" x=\"364.16783333333331\" y=\"325.00099999999998\"><title>1A_0, 1B_0 : 1000</title></rect><rect height=\"39.166833333333329\" style=\"fill:rgb(62%,0.4%,25.9%);fill-opacity:1.0;stroke:none\" width=\"39.166833333333329\" x=\"403.33466666666664\" y=\"325.00099999999998\"><title>1A_0, 2H_0 : 1000</title></rect><rect height=\"39.166833333333329\" style=\"fill:rgb(62%,0.4%,25.9%);fill-opacity:1.0;stroke:none\" width=\"39.166833333333329\" x=\"442.50149999999996\" y=\"325.00099999999998\"><title>1A_0, 2G_0 : 1000</title></rect><rect height=\"39.166833333333329\" style=\"fill:rgb(62%,0.4%,25.9%);fill-opacity:1.0;stroke:none\" width=\"39.166833333333329\" x=\"481.66833333333329\" y=\"325.00099999999998\"><title>1A_0, 2E_0 : 1000</title></rect><rect height=\"39.166833333333329\" style=\"fill:rgb(62%,0.4%,25.9%);fill-opacity:1.0;stroke:none\" width=\"39.166833333333329\" x=\"520.83516666666662\" y=\"325.00099999999998\"><title>1A_0, 2F_0 : 1000</title></rect><rect height=\"39.166833333333329\" style=\"fill:rgb(36.9%,31%,63.5%);fill-opacity:1.0;stroke:none\" width=\"39.166833333333329\" x=\"90.0\" y=\"364.16783333333331\"><title>1B_0, 3L_0 : 0</title></rect><rect height=\"39.166833333333329\" style=\"fill:rgb(36.9%,31%,63.5%);fill-opacity:1.0;stroke:none\" width=\"39.166833333333329\" x=\"129.16683333333333\" y=\"364.16783333333331\"><title>1B_0, 3K_0 : 0</title></rect><rect height=\"39.166833333333329\" style=\"fill:rgb(36.9%,31%,63.5%);fill-opacity:1.0;stroke:none\" width=\"39.166833333333329\" x=\"168.33366666666666\" y=\"364.16783333333331\"><title>1B_0, 3I_0 : 0</title></rect><rect height=\"39.166833333333329\" style=\"fill:rgb(36.9%,31%,63.5%);fill-opacity:1.0;stroke:none\" width=\"39.166833333333329\" x=\"207.50049999999999\" y=\"364.16783333333331\"><title>1B_0, 3J_0 : 0</title></rect><rect height=\"39.166833333333329\" style=\"fill:rgb(36.9%,31%,63.5%);fill-opacity:1.0;stroke:none\" width=\"39.166833333333329\" x=\"246.66733333333332\" y=\"364.16783333333331\"><title>1B_0, 1D_0 : 0</title></rect><rect height=\"39.166833333333329\" style=\"fill:rgb(36.9%,31%,63.5%);fill-opacity:1.0;stroke:none\" width=\"39.166833333333329\" x=\"285.83416666666665\" y=\"364.16783333333331\"><title>1B_0, 1C_0 : 0</title></rect><rect height=\"39.166833333333329\" style=\"fill:rgb(36.9%,31%,63.5%);fill-opacity:1.0;stroke:none\" width=\"39.166833333333329\" x=\"325.00099999999998\" y=\"364.16783333333331\"><title>1B_0, 1A_0 : 0</title></rect><rect height=\"39.166833333333329\" style=\"fill:rgb(62%,0.4%,25.9%);fill-opacity:1.0;stroke:none\" width=\"39.166833333333329\" x=\"364.16783333333331\" y=\"364.16783333333331\"><title>1B_0, 1B_0 : 1000</title></rect><rect height=\"39.166833333333329\" style=\"fill:rgb(62%,0.4%,25.9%);fill-opacity:1.0;stroke:none\" width=\"39.166833333333329\" x=\"403.33466666666664\" y=\"364.16783333333331\"><title>1B_0, 2H_0 : 1000</title></rect><rect height=\"39.166833333333329\" style=\"fill:rgb(62%,0.4%,25.9%);fill-opacity:1.0;stroke:none\" width=\"39.166833333333329\" x=\"442.50149999999996\" y=\"364.16783333333331\"><title>1B_0, 2G_0 : 1000</title></rect><rect height=\"39.166833333333329\" style=\"fill:rgb(62%,0.4%,25.9%);fill-opacity:1.0;stroke:none\" width=\"39.166833333333329\" x=\"481.66833333333329\" y=\"364.16783333333331\"><title>1B_0, 2E_0 : 1000</title></rect><rect height=\"39.166833333333329\" style=\"fill:rgb(62%,0.4%,25.9%);fill-opacity:1.0;stroke:none\" width=\"39.166833333333329\" x=\"520.83516666666662\" y=\"364.16783333333331\"><title>1B_0, 2F_0 : 1000</title></rect><rect height=\"39.166833333333329\" style=\"fill:rgb(36.9%,31%,63.5%);fill-opacity:1.0;stroke:none\" width=\"39.166833333333329\" x=\"90.0\" y=\"403.33466666666664\"><title>2H_0, 3L_0 : 0</title></rect><rect height=\"39.166833333333329\" style=\"fill:rgb(36.9%,31%,63.5%);fill-opacity:1.0;stroke:none\" width=\"39.166833333333329\" x=\"129.16683333333333\" y=\"403.33466666666664\"><title>2H_0, 3K_0 : 0</title></rect><rect height=\"39.166833333333329\" style=\"fill:rgb(36.9%,31%,63.5%);fill-opacity:1.0;stroke:none\" width=\"39.166833333333329\" x=\"168.33366666666666\" y=\"403.33466666666664\"><title>2H_0, 3I_0 : 0</title></rect><rect height=\"39.166833333333329\" style=\"fill:rgb(36.9%,31%,63.5%);fill-opacity:1.0;stroke:none\" width=\"39.166833333333329\" x=\"207.50049999999999\" y=\"403.33466666666664\"><title>2H_0, 3J_0 : 0</title></rect><rect height=\"39.166833333333329\" style=\"fill:rgb(36.9%,31%,63.5%);fill-opacity:1.0;stroke:none\" width=\"39.166833333333329\" x=\"246.66733333333332\" y=\"403.33466666666664\"><title>2H_0, 1D_0 : 0</title></rect><rect height=\"39.166833333333329\" style=\"fill:rgb(36.9%,31%,63.5%);fill-opacity:1.0;stroke:none\" width=\"39.166833333333329\" x=\"285.83416666666665\" y=\"403.33466666666664\"><title>2H_0, 1C_0 : 0</title></rect><rect height=\"39.166833333333329\" style=\"fill:rgb(36.9%,31%,63.5%);fill-opacity:1.0;stroke:none\" width=\"39.166833333333329\" x=\"325.00099999999998\" y=\"403.33466666666664\"><title>2H_0, 1A_0 : 0</title></rect><rect height=\"39.166833333333329\" style=\"fill:rgb(36.9%,31%,63.5%);fill-opacity:1.0;stroke:none\" width=\"39.166833333333329\" x=\"364.16783333333331\" y=\"403.33466666666664\"><title>2H_0, 1B_0 : 0</title></rect><rect height=\"39.166833333333329\" style=\"fill:rgb(62%,0.4%,25.9%);fill-opacity:1.0;stroke:none\" width=\"39.166833333333329\" x=\"403.33466666666664\" y=\"403.33466666666664\"><title>2H_0, 2H_0 : 1000</title></rect><rect height=\"39.166833333333329\" style=\"fill:rgb(62%,0.4%,25.9%);fill-opacity:1.0;stroke:none\" width=\"39.166833333333329\" x=\"442.50149999999996\" y=\"403.33466666666664\"><title>2H_0, 2G_0 : 1000</title></rect><rect height=\"39.166833333333329\" style=\"fill:rgb(62%,0.4%,25.9%);fill-opacity:1.0;stroke:none\" width=\"39.166833333333329\" x=\"481.66833333333329\" y=\"403.33466666666664\"><title>2H_0, 2E_0 : 1000</title></rect><rect height=\"39.166833333333329\" style=\"fill:rgb(62%,0.4%,25.9%);fill-opacity:1.0;stroke:none\" width=\"39.166833333333329\" x=\"520.83516666666662\" y=\"403.33466666666664\"><title>2H_0, 2F_0 : 1000</title></rect><rect height=\"39.166833333333329\" style=\"fill:rgb(36.9%,31%,63.5%);fill-opacity:1.0;stroke:none\" width=\"39.166833333333329\" x=\"90.0\" y=\"442.50149999999996\"><title>2G_0, 3L_0 : 0</title></rect><rect height=\"39.166833333333329\" style=\"fill:rgb(36.9%,31%,63.5%);fill-opacity:1.0;stroke:none\" width=\"39.166833333333329\" x=\"129.16683333333333\" y=\"442.50149999999996\"><title>2G_0, 3K_0 : 0</title></rect><rect height=\"39.166833333333329\" style=\"fill:rgb(36.9%,31%,63.5%);fill-opacity:1.0;stroke:none\" width=\"39.166833333333329\" x=\"168.33366666666666\" y=\"442.50149999999996\"><title>2G_0, 3I_0 : 0</title></rect><rect height=\"39.166833333333329\" style=\"fill:rgb(36.9%,31%,63.5%);fill-opacity:1.0;stroke:none\" width=\"39.166833333333329\" x=\"207.50049999999999\" y=\"442.50149999999996\"><title>2G_0, 3J_0 : 0</title></rect><rect height=\"39.166833333333329\" style=\"fill:rgb(36.9%,31%,63.5%);fill-opacity:1.0;stroke:none\" width=\"39.166833333333329\" x=\"246.66733333333332\" y=\"442.50149999999996\"><title>2G_0, 1D_0 : 0</title></rect><rect height=\"39.166833333333329\" style=\"fill:rgb(36.9%,31%,63.5%);fill-opacity:1.0;stroke:none\" width=\"39.166833333333329\" x=\"285.83416666666665\" y=\"442.50149999999996\"><title>2G_0, 1C_0 : 0</title></rect><rect height=\"39.166833333333329\" style=\"fill:rgb(36.9%,31%,63.5%);fill-opacity:1.0;stroke:none\" width=\"39.166833333333329\" x=\"325.00099999999998\" y=\"442.50149999999996\"><title>2G_0, 1A_0 : 0</title></rect><rect height=\"39.166833333333329\" style=\"fill:rgb(36.9%,31%,63.5%);fill-opacity:1.0;stroke:none\" width=\"39.166833333333329\" x=\"364.16783333333331\" y=\"442.50149999999996\"><title>2G_0, 1B_0 : 0</title></rect><rect height=\"39.166833333333329\" style=\"fill:rgb(36.9%,31%,63.5%);fill-opacity:1.0;stroke:none\" width=\"39.166833333333329\" x=\"403.33466666666664\" y=\"442.50149999999996\"><title>2G_0, 2H_0 : 0</title></rect><rect height=\"39.166833333333329\" style=\"fill:rgb(62%,0.4%,25.9%);fill-opacity:1.0;stroke:none\" width=\"39.166833333333329\" x=\"442.50149999999996\" y=\"442.50149999999996\"><title>2G_0, 2G_0 : 1000</title></rect><rect height=\"39.166833333333329\" style=\"fill:rgb(62%,0.4%,25.9%);fill-opacity:1.0;stroke:none\" width=\"39.166833333333329\" x=\"481.66833333333329\" y=\"442.50149999999996\"><title>2G_0, 2E_0 : 1000</title></rect><rect height=\"39.166833333333329\" style=\"fill:rgb(62%,0.4%,25.9%);fill-opacity:1.0;stroke:none\" width=\"39.166833333333329\" x=\"520.83516666666662\" y=\"442.50149999999996\"><title>2G_0, 2F_0 : 1000</title></rect><rect height=\"39.166833333333329\" style=\"fill:rgb(36.9%,31%,63.5%);fill-opacity:1.0;stroke:none\" width=\"39.166833333333329\" x=\"90.0\" y=\"481.66833333333329\"><title>2E_0, 3L_0 : 0</title></rect><rect height=\"39.166833333333329\" style=\"fill:rgb(36.9%,31%,63.5%);fill-opacity:1.0;stroke:none\" width=\"39.166833333333329\" x=\"129.16683333333333\" y=\"481.66833333333329\"><title>2E_0, 3K_0 : 0</title></rect><rect height=\"39.166833333333329\" style=\"fill:rgb(36.9%,31%,63.5%);fill-opacity:1.0;stroke:none\" width=\"39.166833333333329\" x=\"168.33366666666666\" y=\"481.66833333333329\"><title>2E_0, 3I_0 : 0</title></rect><rect height=\"39.166833333333329\" style=\"fill:rgb(36.9%,31%,63.5%);fill-opacity:1.0;stroke:none\" width=\"39.166833333333329\" x=\"207.50049999999999\" y=\"481.66833333333329\"><title>2E_0, 3J_0 : 0</title></rect><rect height=\"39.166833333333329\" style=\"fill:rgb(36.9%,31%,63.5%);fill-opacity:1.0;stroke:none\" width=\"39.166833333333329\" x=\"246.66733333333332\" y=\"481.66833333333329\"><title>2E_0, 1D_0 : 0</title></rect><rect height=\"39.166833333333329\" style=\"fill:rgb(36.9%,31%,63.5%);fill-opacity:1.0;stroke:none\" width=\"39.166833333333329\" x=\"285.83416666666665\" y=\"481.66833333333329\"><title>2E_0, 1C_0 : 0</title></rect><rect height=\"39.166833333333329\" style=\"fill:rgb(36.9%,31%,63.5%);fill-opacity:1.0;stroke:none\" width=\"39.166833333333329\" x=\"325.00099999999998\" y=\"481.66833333333329\"><title>2E_0, 1A_0 : 0</title></rect><rect height=\"39.166833333333329\" style=\"fill:rgb(36.9%,31%,63.5%);fill-opacity:1.0;stroke:none\" width=\"39.166833333333329\" x=\"364.16783333333331\" y=\"481.66833333333329\"><title>2E_0, 1B_0 : 0</title></rect><rect height=\"39.166833333333329\" style=\"fill:rgb(36.9%,31%,63.5%);fill-opacity:1.0;stroke:none\" width=\"39.166833333333329\" x=\"403.33466666666664\" y=\"481.66833333333329\"><title>2E_0, 2H_0 : 0</title></rect><rect height=\"39.166833333333329\" style=\"fill:rgb(36.9%,31%,63.5%);fill-opacity:1.0;stroke:none\" width=\"39.166833333333329\" x=\"442.50149999999996\" y=\"481.66833333333329\"><title>2E_0, 2G_0 : 0</title></rect><rect height=\"39.166833333333329\" style=\"fill:rgb(62%,0.4%,25.9%);fill-opacity:1.0;stroke:none\" width=\"39.166833333333329\" x=\"481.66833333333329\" y=\"481.66833333333329\"><title>2E_0, 2E_0 : 1000</title></rect><rect height=\"39.166833333333329\" style=\"fill:rgb(62%,0.4%,25.9%);fill-opacity:1.0;stroke:none\" width=\"39.166833333333329\" x=\"520.83516666666662\" y=\"481.66833333333329\"><title>2E_0, 2F_0 : 1000</title></rect><rect height=\"39.166833333333329\" style=\"fill:rgb(36.9%,31%,63.5%);fill-opacity:1.0;stroke:none\" width=\"39.166833333333329\" x=\"90.0\" y=\"520.83516666666662\"><title>2F_0, 3L_0 : 0</title></rect><rect height=\"39.166833333333329\" style=\"fill:rgb(36.9%,31%,63.5%);fill-opacity:1.0;stroke:none\" width=\"39.166833333333329\" x=\"129.16683333333333\" y=\"520.83516666666662\"><title>2F_0, 3K_0 : 0</title></rect><rect height=\"39.166833333333329\" style=\"fill:rgb(36.9%,31%,63.5%);fill-opacity:1.0;stroke:none\" width=\"39.166833333333329\" x=\"168.33366666666666\" y=\"520.83516666666662\"><title>2F_0, 3I_0 : 0</title></rect><rect height=\"39.166833333333329\" style=\"fill:rgb(36.9%,31%,63.5%);fill-opacity:1.0;stroke:none\" width=\"39.166833333333329\" x=\"207.50049999999999\" y=\"520.83516666666662\"><title>2F_0, 3J_0 : 0</title></rect><rect height=\"39.166833333333329\" style=\"fill:rgb(36.9%,31%,63.5%);fill-opacity:1.0;stroke:none\" width=\"39.166833333333329\" x=\"246.66733333333332\" y=\"520.83516666666662\"><title>2F_0, 1D_0 : 0</title></rect><rect height=\"39.166833333333329\" style=\"fill:rgb(36.9%,31%,63.5%);fill-opacity:1.0;stroke:none\" width=\"39.166833333333329\" x=\"285.83416666666665\" y=\"520.83516666666662\"><title>2F_0, 1C_0 : 0</title></rect><rect height=\"39.166833333333329\" style=\"fill:rgb(36.9%,31%,63.5%);fill-opacity:1.0;stroke:none\" width=\"39.166833333333329\" x=\"325.00099999999998\" y=\"520.83516666666662\"><title>2F_0, 1A_0 : 0</title></rect><rect height=\"39.166833333333329\" style=\"fill:rgb(36.9%,31%,63.5%);fill-opacity:1.0;stroke:none\" width=\"39.166833333333329\" x=\"364.16783333333331\" y=\"520.83516666666662\"><title>2F_0, 1B_0 : 0</title></rect><rect height=\"39.166833333333329\" style=\"fill:rgb(36.9%,31%,63.5%);fill-opacity:1.0;stroke:none\" width=\"39.166833333333329\" x=\"403.33466666666664\" y=\"520.83516666666662\"><title>2F_0, 2H_0 : 0</title></rect><rect height=\"39.166833333333329\" style=\"fill:rgb(36.9%,31%,63.5%);fill-opacity:1.0;stroke:none\" width=\"39.166833333333329\" x=\"442.50149999999996\" y=\"520.83516666666662\"><title>2F_0, 2G_0 : 0</title></rect><rect height=\"39.166833333333329\" style=\"fill:rgb(36.9%,31%,63.5%);fill-opacity:1.0;stroke:none\" width=\"39.166833333333329\" x=\"481.66833333333329\" y=\"520.83516666666662\"><title>2F_0, 2E_0 : 0</title></rect><rect height=\"39.166833333333329\" style=\"fill:rgb(62%,0.4%,25.9%);fill-opacity:1.0;stroke:none\" width=\"39.166833333333329\" x=\"520.83516666666662\" y=\"520.83516666666662\"><title>2F_0, 2F_0 : 1000</title></rect><line style=\"stroke:rgb(16.1%,15.3%,14.1%);stroke-opacity:1.0;stroke-width:0.5\" x1=\"90.0\" x2=\"560.00199999999995\" y1=\"90.0\" y2=\"90.0\"></line><line style=\"stroke:rgb(16.1%,15.3%,14.1%);stroke-opacity:1.0;stroke-width:0.5\" x1=\"90.0\" x2=\"560.00199999999995\" y1=\"560.00199999999995\" y2=\"560.00199999999995\"></line><line style=\"stroke:rgb(16.1%,15.3%,14.1%);stroke-opacity:1.0;stroke-width:0.5\" x1=\"90.0\" x2=\"90.0\" y1=\"90.0\" y2=\"560.00199999999995\"></line><line style=\"stroke:rgb(16.1%,15.3%,14.1%);stroke-opacity:1.0;stroke-width:0.5\" x1=\"560.00199999999995\" x2=\"560.00199999999995\" y1=\"90.0\" y2=\"560.00199999999995\"></line></g><g class=\"toyplot-coordinates-Cartesian\" id=\"t0fe85207c26e44c3945077729cc83d1d\"><clipPath id=\"t1e7db376276146e488e5e06ccd81adf6\"><rect height=\"490.0\" width=\"155.0\" x=\"655.0\" y=\"80.0\"></rect></clipPath><g clip-path=\"url(#t1e7db376276146e488e5e06ccd81adf6)\"><g class=\"toyplot-mark-BarMagnitudes\" id=\"t9c26ade0bd2941898eadacfb7c523b66\" style=\"stroke:rgb(100%,100%,100%);stroke-opacity:1.0;stroke-width:1.0\"><g class=\"toyplot-Series\"><rect class=\"toyplot-Datum\" height=\"39.166666666666742\" style=\"fill:rgb(40%,76.1%,64.7%);fill-opacity:1.0;opacity:1.0;stroke:rgb(100%,100%,100%);stroke-opacity:1.0;stroke-width:1.0\" width=\"135.0\" x=\"665.0\" y=\"520.83333333333326\"><title>2F_0: 1000</title></rect><rect class=\"toyplot-Datum\" height=\"39.166666666666572\" style=\"fill:rgb(40%,76.1%,64.7%);fill-opacity:1.0;opacity:1.0;stroke:rgb(100%,100%,100%);stroke-opacity:1.0;stroke-width:1.0\" width=\"135.0\" x=\"665.0\" y=\"481.66666666666669\"><title>2E_0: 1000</title></rect><rect class=\"toyplot-Datum\" height=\"39.166666666666686\" style=\"fill:rgb(40%,76.1%,64.7%);fill-opacity:1.0;opacity:1.0;stroke:rgb(100%,100%,100%);stroke-opacity:1.0;stroke-width:1.0\" width=\"135.0\" x=\"665.0\" y=\"442.5\"><title>2G_0: 1000</title></rect><rect class=\"toyplot-Datum\" height=\"39.166666666666629\" style=\"fill:rgb(40%,76.1%,64.7%);fill-opacity:1.0;opacity:1.0;stroke:rgb(100%,100%,100%);stroke-opacity:1.0;stroke-width:1.0\" width=\"135.0\" x=\"665.0\" y=\"403.33333333333337\"><title>2H_0: 1000</title></rect><rect class=\"toyplot-Datum\" height=\"39.166666666666742\" style=\"fill:rgb(40%,76.1%,64.7%);fill-opacity:1.0;opacity:1.0;stroke:rgb(100%,100%,100%);stroke-opacity:1.0;stroke-width:1.0\" width=\"135.0\" x=\"665.0\" y=\"364.16666666666663\"><title>1B_0: 1000</title></rect><rect class=\"toyplot-Datum\" height=\"39.166666666666629\" style=\"fill:rgb(40%,76.1%,64.7%);fill-opacity:1.0;opacity:1.0;stroke:rgb(100%,100%,100%);stroke-opacity:1.0;stroke-width:1.0\" width=\"135.0\" x=\"665.0\" y=\"325.0\"><title>1A_0: 1000</title></rect><rect class=\"toyplot-Datum\" height=\"39.166666666666686\" style=\"fill:rgb(40%,76.1%,64.7%);fill-opacity:1.0;opacity:1.0;stroke:rgb(100%,100%,100%);stroke-opacity:1.0;stroke-width:1.0\" width=\"135.0\" x=\"665.0\" y=\"285.83333333333331\"><title>1C_0: 1000</title></rect><rect class=\"toyplot-Datum\" height=\"39.166666666666629\" style=\"fill:rgb(40%,76.1%,64.7%);fill-opacity:1.0;opacity:1.0;stroke:rgb(100%,100%,100%);stroke-opacity:1.0;stroke-width:1.0\" width=\"135.0\" x=\"665.0\" y=\"246.66666666666669\"><title>1D_0: 1000</title></rect><rect class=\"toyplot-Datum\" height=\"39.166666666666686\" style=\"fill:rgb(40%,76.1%,64.7%);fill-opacity:1.0;opacity:1.0;stroke:rgb(100%,100%,100%);stroke-opacity:1.0;stroke-width:1.0\" width=\"135.0\" x=\"665.0\" y=\"207.5\"><title>3J_0: 1000</title></rect><rect class=\"toyplot-Datum\" height=\"39.166666666666686\" style=\"fill:rgb(40%,76.1%,64.7%);fill-opacity:1.0;opacity:1.0;stroke:rgb(100%,100%,100%);stroke-opacity:1.0;stroke-width:1.0\" width=\"135.0\" x=\"665.0\" y=\"168.33333333333331\"><title>3I_0: 1000</title></rect><rect class=\"toyplot-Datum\" height=\"39.166666666666629\" style=\"fill:rgb(40%,76.1%,64.7%);fill-opacity:1.0;opacity:1.0;stroke:rgb(100%,100%,100%);stroke-opacity:1.0;stroke-width:1.0\" width=\"135.0\" x=\"665.0\" y=\"129.16666666666669\"><title>3K_0: 1000</title></rect><rect class=\"toyplot-Datum\" height=\"39.166666666666686\" style=\"fill:rgb(40%,76.1%,64.7%);fill-opacity:1.0;opacity:1.0;stroke:rgb(100%,100%,100%);stroke-opacity:1.0;stroke-width:1.0\" width=\"135.0\" x=\"665.0\" y=\"90.0\"><title>3L_0: 1000</title></rect></g></g></g><g class=\"toyplot-coordinates-Axis\" id=\"t151079b79d3b48b78452451726ab926e\" transform=\"translate(665.0,560.0)translate(0,10.0)\"><line style=\"\" x1=\"0\" x2=\"135.0\" y1=\"0\" y2=\"0\"></line><g><line style=\"\" x1=\"0.0\" x2=\"0.0\" y1=\"0\" y2=\"-5\"></line><line style=\"\" x1=\"13.5\" x2=\"13.5\" y1=\"0\" y2=\"-5\"></line><line style=\"\" x1=\"27.0\" x2=\"27.0\" y1=\"0\" y2=\"-5\"></line><line style=\"\" x1=\"40.5\" x2=\"40.5\" y1=\"0\" y2=\"-5\"></line><line style=\"\" x1=\"54.0\" x2=\"54.0\" y1=\"0\" y2=\"-5\"></line><line style=\"\" x1=\"67.5\" x2=\"67.5\" y1=\"0\" y2=\"-5\"></line><line style=\"\" x1=\"81.0\" x2=\"81.0\" y1=\"0\" y2=\"-5\"></line><line style=\"\" x1=\"94.5\" x2=\"94.5\" y1=\"0\" y2=\"-5\"></line><line style=\"\" x1=\"108.0\" x2=\"108.0\" y1=\"0\" y2=\"-5\"></line><line style=\"\" x1=\"121.5\" x2=\"121.5\" y1=\"0\" y2=\"-5\"></line></g><g><text style=\"dominant-baseline:central;font-size:10px;font-weight:normal;stroke:none;text-anchor:end\" transform=\"translate(0.0,20.0)rotate(-90)translate(15.0,0)\"><tspan style=\"dominant-baseline:inherit\">0</tspan></text><text style=\"dominant-baseline:central;font-size:10px;font-weight:normal;stroke:none;text-anchor:end\" transform=\"translate(13.5,20.0)rotate(-90)translate(15.0,0)\"><tspan style=\"dominant-baseline:inherit\">100</tspan></text><text style=\"dominant-baseline:central;font-size:10px;font-weight:normal;stroke:none;text-anchor:end\" transform=\"translate(27.0,20.0)rotate(-90)translate(15.0,0)\"><tspan style=\"dominant-baseline:inherit\">200</tspan></text><text style=\"dominant-baseline:central;font-size:10px;font-weight:normal;stroke:none;text-anchor:end\" transform=\"translate(40.5,20.0)rotate(-90)translate(15.0,0)\"><tspan style=\"dominant-baseline:inherit\">300</tspan></text><text style=\"dominant-baseline:central;font-size:10px;font-weight:normal;stroke:none;text-anchor:end\" transform=\"translate(54.0,20.0)rotate(-90)translate(15.0,0)\"><tspan style=\"dominant-baseline:inherit\">400</tspan></text><text style=\"dominant-baseline:central;font-size:10px;font-weight:normal;stroke:none;text-anchor:end\" transform=\"translate(67.5,20.0)rotate(-90)translate(15.0,0)\"><tspan style=\"dominant-baseline:inherit\">500</tspan></text><text style=\"dominant-baseline:central;font-size:10px;font-weight:normal;stroke:none;text-anchor:end\" transform=\"translate(81.0,20.0)rotate(-90)translate(15.0,0)\"><tspan style=\"dominant-baseline:inherit\">600</tspan></text><text style=\"dominant-baseline:central;font-size:10px;font-weight:normal;stroke:none;text-anchor:end\" transform=\"translate(94.5,20.0)rotate(-90)translate(15.0,0)\"><tspan style=\"dominant-baseline:inherit\">700</tspan></text><text style=\"dominant-baseline:central;font-size:10px;font-weight:normal;stroke:none;text-anchor:end\" transform=\"translate(108.0,20.0)rotate(-90)translate(15.0,0)\"><tspan style=\"dominant-baseline:inherit\">800</tspan></text><text style=\"dominant-baseline:central;font-size:10px;font-weight:normal;stroke:none;text-anchor:end\" transform=\"translate(121.5,20.0)rotate(-90)translate(15.0,0)\"><tspan style=\"dominant-baseline:inherit\">900</tspan></text></g><g class=\"toyplot-coordinates-Axis-coordinates\" style=\"visibility:hidden\" transform=\"\"><line style=\"stroke:rgb(43.9%,50.2%,56.5%);stroke-opacity:1.0;stroke-width:1.0\" x1=\"0\" x2=\"0\" y1=\"-10.0\" y2=\"15.0\"></line><text style=\"alignment-baseline:alphabetic;fill:rgb(43.9%,50.2%,56.5%);fill-opacity:1.0;font-size:10px;font-weight:normal;stroke:none;text-anchor:middle\" x=\"0\" y=\"-20.0\"></text></g></g><g class=\"toyplot-coordinates-Axis\" id=\"tf796305e1d8f402bbef5f55b48716a5c\" transform=\"translate(665.0,560.0)rotate(-90.0)translate(0,-10.0)\"><g><text style=\"dominant-baseline:central;font-size:8px;font-weight:normal;stroke:none;text-anchor:end\" transform=\"translate(19.583333333333332,0)rotate(90)\"><tspan style=\"dominant-baseline:inherit\">2F_0</tspan></text><text style=\"dominant-baseline:central;font-size:8px;font-weight:normal;stroke:none;text-anchor:end\" transform=\"translate(58.75,0)rotate(90)\"><tspan style=\"dominant-baseline:inherit\">2E_0</tspan></text><text style=\"dominant-baseline:central;font-size:8px;font-weight:normal;stroke:none;text-anchor:end\" transform=\"translate(97.91666666666667,0)rotate(90)\"><tspan style=\"dominant-baseline:inherit\">2G_0</tspan></text><text style=\"dominant-baseline:central;font-size:8px;font-weight:normal;stroke:none;text-anchor:end\" transform=\"translate(137.08333333333334,0)rotate(90)\"><tspan style=\"dominant-baseline:inherit\">2H_0</tspan></text><text style=\"dominant-baseline:central;font-size:8px;font-weight:normal;stroke:none;text-anchor:end\" transform=\"translate(176.25,0)rotate(90)\"><tspan style=\"dominant-baseline:inherit\">1B_0</tspan></text><text style=\"dominant-baseline:central;font-size:8px;font-weight:normal;stroke:none;text-anchor:end\" transform=\"translate(215.41666666666666,0)rotate(90)\"><tspan style=\"dominant-baseline:inherit\">1A_0</tspan></text><text style=\"dominant-baseline:central;font-size:8px;font-weight:normal;stroke:none;text-anchor:end\" transform=\"translate(254.58333333333331,0)rotate(90)\"><tspan style=\"dominant-baseline:inherit\">1C_0</tspan></text><text style=\"dominant-baseline:central;font-size:8px;font-weight:normal;stroke:none;text-anchor:end\" transform=\"translate(293.75,0)rotate(90)\"><tspan style=\"dominant-baseline:inherit\">1D_0</tspan></text><text style=\"dominant-baseline:central;font-size:8px;font-weight:normal;stroke:none;text-anchor:end\" transform=\"translate(332.9166666666667,0)rotate(90)\"><tspan style=\"dominant-baseline:inherit\">3J_0</tspan></text><text style=\"dominant-baseline:central;font-size:8px;font-weight:normal;stroke:none;text-anchor:end\" transform=\"translate(372.0833333333333,0)rotate(90)\"><tspan style=\"dominant-baseline:inherit\">3I_0</tspan></text><text style=\"dominant-baseline:central;font-size:8px;font-weight:normal;stroke:none;text-anchor:end\" transform=\"translate(411.25,0)rotate(90)\"><tspan style=\"dominant-baseline:inherit\">3K_0</tspan></text><text style=\"dominant-baseline:central;font-size:8px;font-weight:normal;stroke:none;text-anchor:end\" transform=\"translate(450.4166666666667,0)rotate(90)\"><tspan style=\"dominant-baseline:inherit\">3L_0</tspan></text></g><g class=\"toyplot-coordinates-Axis-coordinates\" style=\"visibility:hidden\" transform=\"\"><line style=\"stroke:rgb(43.9%,50.2%,56.5%);stroke-opacity:1.0;stroke-width:1.0\" x1=\"0\" x2=\"0\" y1=\"0.0\" y2=\"0.0\"></line><text style=\"alignment-baseline:hanging;fill:rgb(43.9%,50.2%,56.5%);fill-opacity:1.0;font-size:10px;font-weight:normal;stroke:none;text-anchor:middle\" x=\"0\" y=\"0\"></text></g></g></g><g class=\"toyplot-mark-Text\" id=\"t99f318e312e84d22bf01a18d83a109ba\" style=\"alignment-baseline:middle;font-size:16px;font-weight:bold;stroke:none;text-anchor:middle\"><g class=\"toyplot-Series\"><text class=\"toyplot-Datum\" style=\"dominant-baseline:middle;fill:rgb(16.1%,15.3%,14.1%);fill-opacity:1.0;font-size:16px;font-weight:bold;opacity:1.0;stroke:none;text-anchor:middle\" transform=\"translate(300.0,60.0)\"><tspan style=\"dominant-baseline:inherit\">Matrix of shared RAD loci</tspan></text></g></g><g class=\"toyplot-mark-Text\" id=\"t6e08535ee3d3403ebaeee99b1ecc7022\" style=\"alignment-baseline:middle;font-size:16px;font-weight:bold;stroke:none;text-anchor:middle\"><g class=\"toyplot-Series\"><text class=\"toyplot-Datum\" style=\"dominant-baseline:middle;fill:rgb(16.1%,15.3%,14.1%);fill-opacity:1.0;font-size:16px;font-weight:bold;opacity:1.0;stroke:none;text-anchor:middle\" transform=\"translate(700.0,60.0)\"><tspan style=\"dominant-baseline:inherit\">N RAD loci per sample</tspan></text></g></g></svg><div class=\"toyplot-interactive\"><ul class=\"toyplot-mark-popup\" onmouseleave=\"this.style.visibility='hidden'\" style=\"background:rgba(0%,0%,0%,0.75);border:0;border-radius:6px;color:white;cursor:default;list-style:none;margin:0;padding:5px;position:fixed;visibility:hidden\">\n",
       "            <li class=\"toyplot-mark-popup-title\" style=\"color:lightgray;cursor:default;padding:5px;list-style:none;margin:0\"></li>\n",
       "            <li class=\"toyplot-mark-popup-save-csv\" onmouseout=\"this.style.color='white';this.style.background='steelblue'\" onmouseover=\"this.style.color='steelblue';this.style.background='white'\" style=\"border-radius:3px;padding:5px;list-style:none;margin:0\">\n",
       "                Save as .csv\n",
       "            </li>\n",
       "        </ul><script>\n",
       "        (function()\n",
       "        {\n",
       "          var data_tables = [{\"title\": \"Table Data\", \"names\": [null, null, null, null, null, null, null, null, null, null, null, null, null, null, null, null], \"id\": \"t2d8c993b05bf463dac94386c846192a7\", \"columns\": [[null, null, null, null, null, null, null, null, null, null, null, null, null, null, null], [null, null, null, null, null, null, null, null, null, null, null, null, null, null, null], [null, 1000.0, 0.0, 0.0, 0.0, 0.0, 0.0, 0.0, 0.0, 0.0, 0.0, 0.0, 0.0, null, null], [null, 1000.0, 1000.0, 0.0, 0.0, 0.0, 0.0, 0.0, 0.0, 0.0, 0.0, 0.0, 0.0, null, null], [null, 1000.0, 1000.0, 1000.0, 0.0, 0.0, 0.0, 0.0, 0.0, 0.0, 0.0, 0.0, 0.0, null, null], [null, 1000.0, 1000.0, 1000.0, 1000.0, 0.0, 0.0, 0.0, 0.0, 0.0, 0.0, 0.0, 0.0, null, null], [null, 1000.0, 1000.0, 1000.0, 1000.0, 1000.0, 0.0, 0.0, 0.0, 0.0, 0.0, 0.0, 0.0, null, null], [null, 1000.0, 1000.0, 1000.0, 1000.0, 1000.0, 1000.0, 0.0, 0.0, 0.0, 0.0, 0.0, 0.0, null, null], [null, 1000.0, 1000.0, 1000.0, 1000.0, 1000.0, 1000.0, 1000.0, 0.0, 0.0, 0.0, 0.0, 0.0, null, null], [null, 1000.0, 1000.0, 1000.0, 1000.0, 1000.0, 1000.0, 1000.0, 1000.0, 0.0, 0.0, 0.0, 0.0, null, null], [null, 1000.0, 1000.0, 1000.0, 1000.0, 1000.0, 1000.0, 1000.0, 1000.0, 1000.0, 0.0, 0.0, 0.0, null, null], [null, 1000.0, 1000.0, 1000.0, 1000.0, 1000.0, 1000.0, 1000.0, 1000.0, 1000.0, 1000.0, 0.0, 0.0, null, null], [null, 1000.0, 1000.0, 1000.0, 1000.0, 1000.0, 1000.0, 1000.0, 1000.0, 1000.0, 1000.0, 1000.0, 0.0, null, null], [null, 1000.0, 1000.0, 1000.0, 1000.0, 1000.0, 1000.0, 1000.0, 1000.0, 1000.0, 1000.0, 1000.0, 1000.0, null, null], [null, null, null, null, null, null, null, null, null, null, null, null, null, null, null], [null, null, null, null, null, null, null, null, null, null, null, null, null, null, null]], \"filename\": \"toyplot\"}, {\"title\": \"Bar Data\", \"names\": [\"left\", \"right\", \"baseline\", \"magnitude0\"], \"id\": \"t9c26ade0bd2941898eadacfb7c523b66\", \"columns\": [[-0.5, 0.5, 1.5, 2.5, 3.5, 4.5, 5.5, 6.5, 7.5, 8.5, 9.5, 10.5], [0.5, 1.5, 2.5, 3.5, 4.5, 5.5, 6.5, 7.5, 8.5, 9.5, 10.5, 11.5], [0.0, 0.0, 0.0, 0.0, 0.0, 0.0, 0.0, 0.0, 0.0, 0.0, 0.0, 0.0], [1000.0, 1000.0, 1000.0, 1000.0, 1000.0, 1000.0, 1000.0, 1000.0, 1000.0, 1000.0, 1000.0, 1000.0]], \"filename\": \"toyplot\"}];\n",
       "\n",
       "          function save_csv(data_table)\n",
       "          {\n",
       "            var uri = \"data:text/csv;charset=utf-8,\";\n",
       "            uri += data_table.names.join(\",\") + \"\\n\";\n",
       "            for(var i = 0; i != data_table.columns[0].length; ++i)\n",
       "            {\n",
       "              for(var j = 0; j != data_table.columns.length; ++j)\n",
       "              {\n",
       "                if(j)\n",
       "                  uri += \",\";\n",
       "                uri += data_table.columns[j][i];\n",
       "              }\n",
       "              uri += \"\\n\";\n",
       "            }\n",
       "            uri = encodeURI(uri);\n",
       "\n",
       "            var link = document.createElement(\"a\");\n",
       "            if(typeof link.download != \"undefined\")\n",
       "            {\n",
       "              link.href = uri;\n",
       "              link.style = \"visibility:hidden\";\n",
       "              link.download = data_table.filename + \".csv\";\n",
       "\n",
       "              document.body.appendChild(link);\n",
       "              link.click();\n",
       "              document.body.removeChild(link);\n",
       "            }\n",
       "            else\n",
       "            {\n",
       "              window.open(uri);\n",
       "            }\n",
       "          }\n",
       "\n",
       "          function open_popup(data_table)\n",
       "          {\n",
       "            return function(e)\n",
       "            {\n",
       "              var popup = document.querySelector(\"#t7bd363de820841cb972a0c10d2cb4d19 .toyplot-mark-popup\");\n",
       "              popup.querySelector(\".toyplot-mark-popup-title\").innerHTML = data_table.title;\n",
       "              popup.querySelector(\".toyplot-mark-popup-save-csv\").onclick = function() { popup.style.visibility = \"hidden\"; save_csv(data_table); }\n",
       "              popup.style.left = (e.clientX - 50) + \"px\";\n",
       "              popup.style.top = (e.clientY - 20) + \"px\";\n",
       "              popup.style.visibility = \"visible\";\n",
       "              e.stopPropagation();\n",
       "              e.preventDefault();\n",
       "            }\n",
       "\n",
       "          }\n",
       "\n",
       "          for(var i = 0; i != data_tables.length; ++i)\n",
       "          {\n",
       "            var data_table = data_tables[i];\n",
       "            var event_target = document.querySelector(\"#\" + data_table.id);\n",
       "            event_target.oncontextmenu = open_popup(data_table);\n",
       "          }\n",
       "        })();\n",
       "        </script><script>\n",
       "        (function()\n",
       "        {\n",
       "            function _sign(x)\n",
       "            {\n",
       "                return x < 0 ? -1 : x > 0 ? 1 : 0;\n",
       "            }\n",
       "\n",
       "            function _mix(a, b, amount)\n",
       "            {\n",
       "                return ((1.0 - amount) * a) + (amount * b);\n",
       "            }\n",
       "\n",
       "            function _log(x, base)\n",
       "            {\n",
       "                return Math.log(Math.abs(x)) / Math.log(base);\n",
       "            }\n",
       "\n",
       "            function _in_range(a, x, b)\n",
       "            {\n",
       "                var left = Math.min(a, b);\n",
       "                var right = Math.max(a, b);\n",
       "                return left <= x && x <= right;\n",
       "            }\n",
       "\n",
       "            function inside(range, projection)\n",
       "            {\n",
       "                for(var i = 0; i != projection.length; ++i)\n",
       "                {\n",
       "                    var segment = projection[i];\n",
       "                    if(_in_range(segment.range.min, range, segment.range.max))\n",
       "                        return true;\n",
       "                }\n",
       "                return false;\n",
       "            }\n",
       "\n",
       "            function to_domain(range, projection)\n",
       "            {\n",
       "                for(var i = 0; i != projection.length; ++i)\n",
       "                {\n",
       "                    var segment = projection[i];\n",
       "                    if(_in_range(segment.range.bounds.min, range, segment.range.bounds.max))\n",
       "                    {\n",
       "                        if(segment.scale == \"linear\")\n",
       "                        {\n",
       "                            var amount = (range - segment.range.min) / (segment.range.max - segment.range.min);\n",
       "                            return _mix(segment.domain.min, segment.domain.max, amount)\n",
       "                        }\n",
       "                        else if(segment.scale[0] == \"log\")\n",
       "                        {\n",
       "                            var amount = (range - segment.range.min) / (segment.range.max - segment.range.min);\n",
       "                            var base = segment.scale[1];\n",
       "                            return _sign(segment.domain.min) * Math.pow(base, _mix(_log(segment.domain.min, base), _log(segment.domain.max, base), amount));\n",
       "                        }\n",
       "                    }\n",
       "                }\n",
       "            }\n",
       "\n",
       "            function display_coordinates(e)\n",
       "            {\n",
       "                var current = svg.createSVGPoint();\n",
       "                current.x = e.clientX;\n",
       "                current.y = e.clientY;\n",
       "\n",
       "                for(var axis_id in axes)\n",
       "                {\n",
       "                    var axis = document.querySelector(\"#\" + axis_id);\n",
       "                    var coordinates = axis.querySelector(\".toyplot-coordinates-Axis-coordinates\");\n",
       "                    if(coordinates)\n",
       "                    {\n",
       "                        var projection = axes[axis_id];\n",
       "                        var local = current.matrixTransform(axis.getScreenCTM().inverse());\n",
       "                        if(inside(local.x, projection))\n",
       "                        {\n",
       "                            var domain = to_domain(local.x, projection);\n",
       "                            coordinates.style.visibility = \"visible\";\n",
       "                            coordinates.setAttribute(\"transform\", \"translate(\" + local.x + \")\");\n",
       "                            var text = coordinates.querySelector(\"text\");\n",
       "                            text.textContent = domain.toFixed(2);\n",
       "                        }\n",
       "                        else\n",
       "                        {\n",
       "                            coordinates.style.visibility= \"hidden\";\n",
       "                        }\n",
       "                    }\n",
       "                }\n",
       "            }\n",
       "\n",
       "            var root_id = \"t7bd363de820841cb972a0c10d2cb4d19\";\n",
       "            var axes = {\"t151079b79d3b48b78452451726ab926e\": [{\"domain\": {\"bounds\": {\"max\": Infinity, \"min\": -Infinity}, \"max\": 1000.0, \"min\": 0.0}, \"range\": {\"bounds\": {\"max\": Infinity, \"min\": -Infinity}, \"max\": 135.0, \"min\": 0.0}, \"scale\": \"linear\"}], \"tf796305e1d8f402bbef5f55b48716a5c\": [{\"domain\": {\"bounds\": {\"max\": Infinity, \"min\": -Infinity}, \"max\": 11.5, \"min\": -0.5}, \"range\": {\"bounds\": {\"max\": Infinity, \"min\": -Infinity}, \"max\": 470.0, \"min\": 0.0}, \"scale\": \"linear\"}]};\n",
       "\n",
       "            var svg = document.querySelector(\"#\" + root_id + \" svg\");\n",
       "            svg.addEventListener(\"click\", display_coordinates);\n",
       "        })();\n",
       "        </script></div></div>"
      ]
     },
     "metadata": {},
     "output_type": "display_data"
    }
   ],
   "source": [
    "## plot shared data given the tet topology\n",
    "ipp.shareplot(data1.outfiles.loci, tet.trees.tre);"
   ]
  }
 ],
 "metadata": {
  "anaconda-cloud": {},
  "kernelspec": {
   "display_name": "Python 2",
   "language": "python",
   "name": "python2"
  },
  "language_info": {
   "codemirror_mode": {
    "name": "ipython",
    "version": 2
   },
   "file_extension": ".py",
   "mimetype": "text/x-python",
   "name": "python",
   "nbconvert_exporter": "python",
   "pygments_lexer": "ipython2",
   "version": "2.7.13"
  }
 },
 "nbformat": 4,
 "nbformat_minor": 0
}
