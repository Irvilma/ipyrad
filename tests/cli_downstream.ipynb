{
 "cells": [
  {
   "cell_type": "markdown",
   "metadata": {
    "slideshow": {
     "slide_type": "-"
    }
   },
   "source": [
    "### Intro to downstream ipyrad data visualization\n",
    "All of the modules below are included in the ipyrad conda installation. "
   ]
  },
  {
   "cell_type": "code",
   "execution_count": 6,
   "metadata": {
    "collapsed": false,
    "slideshow": {
     "slide_type": "slide"
    }
   },
   "outputs": [
    {
     "name": "stdout",
     "output_type": "stream",
     "text": [
      "ipyrad 0.2.1\n",
      "numpy 1.11.0\n",
      "h5py 2.5.0\n",
      "toyplot 0.11.0\n"
     ]
    }
   ],
   "source": [
    "import ipyrad as ip    ## ipyrad\n",
    "import numpy as np     ## array operations\n",
    "import h5py            ## access database\n",
    "import toyplot         ## my fav plotting library\n",
    "import toyplot.html    ## for saving plots as html\n",
    "\n",
    "print 'ipyrad', ip.__version__\n",
    "print 'numpy', np.__version__\n",
    "print 'h5py', h5py.__version__\n",
    "print 'toyplot', toyplot.__version__"
   ]
  },
  {
   "cell_type": "markdown",
   "metadata": {
    "slideshow": {
     "slide_type": "subslide"
    }
   },
   "source": [
    "### Import the Assembly object\n",
    "I assembled the data set under three minimum cluster depth settings (6, 10, 20), \n",
    "and import their Assembly objects as data1, data2, and data3. "
   ]
  },
  {
   "cell_type": "code",
   "execution_count": 138,
   "metadata": {
    "collapsed": false,
    "slideshow": {
     "slide_type": "subslide"
    }
   },
   "outputs": [
    {
     "name": "stdout",
     "output_type": "stream",
     "text": [
      "  loading Assembly: cyatho-min4\n",
      "  from saved path: ~/Downloads/pedicularis/cyatho-min4.json\n"
     ]
    }
   ],
   "source": [
    "## import Assembly objects\n",
    "#data1 = ip.load_json(\"~/Downloads/pedicularis/cyatho-d6-min4.json\")\n",
    "#data2 = ip.load_json(\"~/Downloads/pedicularis/cyatho-d10-min4.json\")\n",
    "#data3 = ip.load_json(\"~/Downloads/pedicularis/cyatho-d20-min4.json\")\n",
    "data = ip.load_json(\"~/Downloads/pedicularis/cyatho-min4.json\")\n",
    "\n",
    "## load the database \n",
    "## the default location for the database is in [name]/[name]_consens/\n",
    "io5 = h5py.File(data.database, 'r')"
   ]
  },
  {
   "cell_type": "markdown",
   "metadata": {
    "slideshow": {
     "slide_type": "fragment"
    }
   },
   "source": [
    "### The database file\n",
    "The hdf5 data base is compressed and sometimes quite large. If you moved your JSON file from a remote machine (e.g., HPC cluster) to a local machine you will have to update the `data.database` path to the location of the database file on your local machine. "
   ]
  },
  {
   "cell_type": "code",
   "execution_count": 139,
   "metadata": {
    "collapsed": false,
    "slideshow": {
     "slide_type": "fragment"
    }
   },
   "outputs": [
    {
     "name": "stdout",
     "output_type": "stream",
     "text": [
      "location of my database file:\n",
      "/home/deren/Downloads/pedicularis/cyatho_consens/cyatho-min8.hdf5\n"
     ]
    }
   ],
   "source": [
    "print 'location of my database file:\\n', data.database\n"
   ]
  },
  {
   "cell_type": "markdown",
   "metadata": {},
   "source": [
    "### Access arrays\n",
    "The hdf5 data base contains the following five arrays with the following dimensions."
   ]
  },
  {
   "cell_type": "code",
   "execution_count": 4,
   "metadata": {
    "collapsed": false
   },
   "outputs": [
    {
     "name": "stdout",
     "output_type": "stream",
     "text": [
      "<HDF5 dataset \"catgs\": shape (82530, 13, 150, 4), type \"<u4\">\n",
      "<HDF5 dataset \"seqs\": shape (82530, 13, 150), type \"|S1\">\n",
      "<HDF5 dataset \"snps\": shape (82530, 150, 2), type \"|b1\">\n",
      "<HDF5 dataset \"filters\": shape (82530, 6), type \"|b1\">\n",
      "<HDF5 dataset \"edges\": shape (82530, 5), type \"<u2\">\n"
     ]
    }
   ],
   "source": [
    "## This doesn't actually load them into memory, they can be very large.\n",
    "## It just makes a reference for calling keys more easily\n",
    "hcatg = io5[\"catgs\"]    ## depth information (not edge filtered)\n",
    "hseqs = io5[\"seqs\"]     ## sequence data (not edge filtered)\n",
    "hsnps = io5[\"snps\"]     ## snp locations (edge filtered)\n",
    "hfilt = io5[\"filters\"]  ## locus filters\n",
    "hedge = io5[\"edges\"]    ## edge filters\n",
    "\n",
    "## arrays shapes and dtypes\n",
    "print hcatg\n",
    "print hseqs\n",
    "print hsnps\n",
    "print hfilt\n",
    "print hedge"
   ]
  },
  {
   "cell_type": "markdown",
   "metadata": {},
   "source": [
    "### A function to filter the SNPs array"
   ]
  },
  {
   "cell_type": "code",
   "execution_count": 116,
   "metadata": {
    "collapsed": false
   },
   "outputs": [],
   "source": [
    "def filter_snps(data):\n",
    "    ## get h5 database\n",
    "    io5 = h5py.File(data.database, 'r')\n",
    "    hsnps = io5[\"snps\"]     ## snp locations\n",
    "    hfilt = io5[\"filters\"]  ## locus filters\n",
    "    hedge = io5[\"edges\"]    ## edge filters\n",
    "\n",
    "    ## read in a local copy of the full snps and edge arrays\n",
    "    snps = hsnps[:]\n",
    "    edge = hedge[:]\n",
    "\n",
    "    ## print status\n",
    "    print \"prefilter {}\\nshape {} = (nloci, maxlen, [var,pis])\"\\\n",
    "          .format(data.name, snps.shape)\n",
    "    print \"total vars = {}\".format(snps[:,:,0].sum())\n",
    "\n",
    "    ## apply edge filters to all loci in the snps array\n",
    "    for loc in xrange(snps.shape[0]):\n",
    "        a, b = edge[loc, :2]\n",
    "        mask = np.invert([i in range(a, b) for i in np.arange(snps.shape[1])])\n",
    "        snps[loc, mask, :] = 0\n",
    "\n",
    "    ## get locus filter by summing across all filters\n",
    "    locfilter = hfilt[:].sum(axis=1).astype(np.bool)\n",
    "\n",
    "    ## apply filter to snps array\n",
    "    fsnps = snps[~locfilter, ...]\n",
    "\n",
    "    ## print new shape and sum\n",
    "    print \"postfilter {}\\nshape {} = (nloci, maxlen, [var,pis])\"\\\n",
    "          .format(data.name, fsnps.shape)\n",
    "    print \"total vars = {}\".format(fsnps[:,:,0].sum())\n",
    "    \n",
    "    ## clean up big objects\n",
    "    del snps\n",
    "    del edge\n",
    "    \n",
    "    ## return what we want\n",
    "    return fsnps"
   ]
  },
  {
   "cell_type": "code",
   "execution_count": 4,
   "metadata": {
    "collapsed": true
   },
   "outputs": [],
   "source": [
    "def filter_snps(data):\n",
    "    ## get h5 database\n",
    "    io5 = h5py.File(data.database, 'r')\n",
    "    hsnps = io5[\"snps\"]     ## snp locations\n",
    "    hfilt = io5[\"filters\"]  ## locus filters\n",
    "    #hedge = io5[\"edges\"]    ## edge filters\n",
    "\n",
    "    ## read in a local copy of the full snps and edge arrays\n",
    "    snps = hsnps[:]\n",
    "    #edge = hedge[:]\n",
    "\n",
    "    ## get locus filter by summing across all filters\n",
    "    locfilter = hfilt[:].sum(axis=1).astype(np.bool)\n",
    "\n",
    "    ## apply filter to snps array\n",
    "    fsnps = snps[~locfilter, ...]\n",
    "\n",
    "    ## clean up big objects\n",
    "    del snps\n",
    "    \n",
    "    ## return what we want\n",
    "    return fsnps"
   ]
  },
  {
   "cell_type": "code",
   "execution_count": 117,
   "metadata": {
    "collapsed": false
   },
   "outputs": [
    {
     "name": "stdout",
     "output_type": "stream",
     "text": [
      "prefilter cyatho-min4\n",
      "shape (82530, 150, 2) = (nloci, locus_len, [var,pis])\n",
      "total vars = 253654\n",
      "postfilter cyatho-min4\n",
      "shape (39357, 150, 2) = (nloci, locus_len, [var,pis])\n",
      "total vars = 130557\n"
     ]
    }
   ],
   "source": [
    "## apply filter to each data set\n",
    "fsnps = filter_snps(data)"
   ]
  },
  {
   "cell_type": "code",
   "execution_count": 194,
   "metadata": {
    "collapsed": false
   },
   "outputs": [
    {
     "data": {
      "text/plain": [
       "array([10, 11, 12, 13, 14, 15, 16, 17, 18, 19, 20, 21, 22, 23, 24, 25, 26,\n",
       "       27, 28, 29, 30, 31, 32, 33, 34, 35, 36, 37, 38, 39, 40, 41, 42, 43,\n",
       "       44, 45, 46, 47, 48, 49])"
      ]
     },
     "execution_count": 194,
     "metadata": {},
     "output_type": "execute_result"
    }
   ],
   "source": [
    "a = np.arange(0, 40)#.reshape(10,4)\n",
    "b = np.arange(10, 50)#.reshape(10, 4)\n",
    "#np.concatenate((a,b), axis=1)\n",
    "np.array([a,b]).max(axis=0)\n"
   ]
  },
  {
   "cell_type": "markdown",
   "metadata": {},
   "source": [
    "### The snps array"
   ]
  },
  {
   "cell_type": "code",
   "execution_count": 195,
   "metadata": {
    "collapsed": false
   },
   "outputs": [
    {
     "name": "stdout",
     "output_type": "stream",
     "text": [
      "[3 1 3 7 4]\n",
      "[[1108  535]\n",
      " [1018  522]\n",
      " [1090  608]\n",
      " [1089  554]\n",
      " [1104  523]]\n"
     ]
    }
   ],
   "source": [
    "## the last dimension has two columns (var, pis)\n",
    "\n",
    "## how many snps per locus\n",
    "varlocs = fsnps[:, :, 0].sum(axis=1)\n",
    "pislocs = fsnps[:, :, 1].sum(axis=1)\n",
    "print varlocs[:5]\n",
    "\n",
    "## how many snps per site (across loci)\n",
    "persite = fsnps[:, :, :].sum(axis=0)\n",
    "print persite[10:15]"
   ]
  },
  {
   "cell_type": "markdown",
   "metadata": {},
   "source": [
    "### Get a color map"
   ]
  },
  {
   "cell_type": "code",
   "execution_count": 8,
   "metadata": {
    "collapsed": false
   },
   "outputs": [
    {
     "data": {
      "text/html": [
       "<div class=\"toyplot-color-Palette\" style=\"overflow:hidden; height:auto\"><div style=\"float:left;width:20px;height:20px;margin-right:0px;background-color:rgba(40.0%,76.1%,64.7%,1.000)\"></div><div style=\"float:left;width:20px;height:20px;margin-right:0px;background-color:rgba(98.8%,55.3%,38.4%,1.000)\"></div><div style=\"float:left;width:20px;height:20px;margin-right:0px;background-color:rgba(55.3%,62.7%,79.6%,1.000)\"></div><div style=\"float:left;width:20px;height:20px;margin-right:0px;background-color:rgba(90.6%,54.1%,76.5%,1.000)\"></div><div style=\"float:left;width:20px;height:20px;margin-right:0px;background-color:rgba(65.1%,84.7%,32.9%,1.000)\"></div><div style=\"float:left;width:20px;height:20px;margin-right:0px;background-color:rgba(100.0%,85.1%,18.4%,1.000)\"></div><div style=\"float:left;width:20px;height:20px;margin-right:0px;background-color:rgba(89.8%,76.9%,58.0%,1.000)\"></div><div style=\"float:left;width:20px;height:20px;margin-right:0px;background-color:rgba(70.2%,70.2%,70.2%,1.000)\"></div></div>"
      ],
      "text/plain": [
       "<toyplot.color.Palette at 0x7f7b2034bed0>"
      ]
     },
     "execution_count": 8,
     "metadata": {},
     "output_type": "execute_result"
    }
   ],
   "source": [
    "colormap = toyplot.color.Palette()\n",
    "colormap"
   ]
  },
  {
   "cell_type": "code",
   "execution_count": 87,
   "metadata": {
    "collapsed": false
   },
   "outputs": [
    {
     "data": {
      "text/plain": [
       "<toyplot.mark.BarMagnitudes at 0x7f4893041390>"
      ]
     },
     "execution_count": 87,
     "metadata": {},
     "output_type": "execute_result"
    },
    {
     "data": {
      "text/html": [
       "<div align=\"center\" class=\"toyplot\" id=\"td32f6c7035f34c71898f00373307e9c7\"><svg height=\"300.0px\" id=\"tf04594ff1662417e9a36fcde2b9b4518\" preserveAspectRatio=\"xMidYMid meet\" style=\"background-color:transparent;fill:rgb(16.1%,15.3%,14.1%);fill-opacity:1.0;font-family:Helvetica;font-size:12px;opacity:1.0;stroke:rgb(16.1%,15.3%,14.1%);stroke-opacity:1.0;stroke-width:1.0\" viewBox=\"0 0 350.0 300.0\" width=\"350.0px\" xmlns=\"http://www.w3.org/2000/svg\" xmlns:toyplot=\"http://www.sandia.gov/toyplot\"><g class=\"toyplot-axes-Cartesian\" id=\"t42134e54157d4938b23983f8a7535fbc\"><clipPath id=\"tb5b92d060bdb41578250d943df2d7522\"><rect height=\"220.0\" width=\"270.0\" x=\"40.0\" y=\"40.0\"></rect></clipPath><g class=\"toyplot-coordinate-events\" clip-path=\"url(#tb5b92d060bdb41578250d943df2d7522)\" style=\"cursor:crosshair\"><rect height=\"220.0\" style=\"pointer-events:all;visibility:hidden\" width=\"270.0\" x=\"40.0\" y=\"40.0\"></rect><g class=\"toyplot-mark-BarMagnitudes\" id=\"t5f1abda71d034dffa88a68d6fde58c19\" style=\"stroke:rgb(100%,100%,100%);stroke-opacity:1.0;stroke-width:1.0\"><g class=\"toyplot-Series\"><rect class=\"toyplot-Datum\" height=\"106.94\" style=\"fill:rgb(98.8%,55.3%,38.4%);fill-opacity:1.0;opacity:0.5;stroke:rgb(100%,100%,100%);stroke-opacity:1.0;stroke-width:1.0\" width=\"15.151515151515156\" x=\"50.0\" y=\"143.06\"></rect><rect class=\"toyplot-Datum\" height=\"144.48000000000002\" style=\"fill:rgb(98.8%,55.3%,38.4%);fill-opacity:1.0;opacity:0.5;stroke:rgb(100%,100%,100%);stroke-opacity:1.0;stroke-width:1.0\" width=\"15.151515151515156\" x=\"65.151515151515156\" y=\"105.52\"></rect><rect class=\"toyplot-Datum\" height=\"137.48000000000002\" style=\"fill:rgb(98.8%,55.3%,38.4%);fill-opacity:1.0;opacity:0.5;stroke:rgb(100%,100%,100%);stroke-opacity:1.0;stroke-width:1.0\" width=\"15.151515151515142\" x=\"80.303030303030312\" y=\"112.51999999999998\"></rect><rect class=\"toyplot-Datum\" height=\"106.60000000000002\" style=\"fill:rgb(98.8%,55.3%,38.4%);fill-opacity:1.0;opacity:0.5;stroke:rgb(100%,100%,100%);stroke-opacity:1.0;stroke-width:1.0\" width=\"15.151515151515156\" x=\"95.454545454545453\" y=\"143.39999999999998\"></rect><rect class=\"toyplot-Datum\" height=\"80.04000000000002\" style=\"fill:rgb(98.8%,55.3%,38.4%);fill-opacity:1.0;opacity:0.5;stroke:rgb(100%,100%,100%);stroke-opacity:1.0;stroke-width:1.0\" width=\"15.151515151515142\" x=\"110.60606060606061\" y=\"169.95999999999998\"></rect><rect class=\"toyplot-Datum\" height=\"58.420000000000016\" style=\"fill:rgb(98.8%,55.3%,38.4%);fill-opacity:1.0;opacity:0.5;stroke:rgb(100%,100%,100%);stroke-opacity:1.0;stroke-width:1.0\" width=\"15.151515151515156\" x=\"125.75757575757575\" y=\"191.57999999999998\"></rect><rect class=\"toyplot-Datum\" height=\"43.780000000000001\" style=\"fill:rgb(98.8%,55.3%,38.4%);fill-opacity:1.0;opacity:0.5;stroke:rgb(100%,100%,100%);stroke-opacity:1.0;stroke-width:1.0\" width=\"15.151515151515156\" x=\"140.90909090909091\" y=\"206.22\"></rect><rect class=\"toyplot-Datum\" height=\"30.339999999999975\" style=\"fill:rgb(98.8%,55.3%,38.4%);fill-opacity:1.0;opacity:0.5;stroke:rgb(100%,100%,100%);stroke-opacity:1.0;stroke-width:1.0\" width=\"15.151515151515156\" x=\"156.06060606060606\" y=\"219.66000000000003\"></rect><rect class=\"toyplot-Datum\" height=\"24.259999999999991\" style=\"fill:rgb(98.8%,55.3%,38.4%);fill-opacity:1.0;opacity:0.5;stroke:rgb(100%,100%,100%);stroke-opacity:1.0;stroke-width:1.0\" width=\"15.151515151515127\" x=\"171.21212121212122\" y=\"225.74000000000001\"></rect><rect class=\"toyplot-Datum\" height=\"16.900000000000006\" style=\"fill:rgb(98.8%,55.3%,38.4%);fill-opacity:1.0;opacity:0.5;stroke:rgb(100%,100%,100%);stroke-opacity:1.0;stroke-width:1.0\" width=\"15.151515151515156\" x=\"186.36363636363635\" y=\"233.09999999999999\"></rect><rect class=\"toyplot-Datum\" height=\"12.800000000000011\" style=\"fill:rgb(98.8%,55.3%,38.4%);fill-opacity:1.0;opacity:0.5;stroke:rgb(100%,100%,100%);stroke-opacity:1.0;stroke-width:1.0\" width=\"15.151515151515156\" x=\"201.5151515151515\" y=\"237.19999999999999\"></rect><rect class=\"toyplot-Datum\" height=\"9.8000000000000114\" style=\"fill:rgb(98.8%,55.3%,38.4%);fill-opacity:1.0;opacity:0.5;stroke:rgb(100%,100%,100%);stroke-opacity:1.0;stroke-width:1.0\" width=\"15.151515151515156\" x=\"216.66666666666666\" y=\"240.19999999999999\"></rect><rect class=\"toyplot-Datum\" height=\"6.0400000000000205\" style=\"fill:rgb(98.8%,55.3%,38.4%);fill-opacity:1.0;opacity:0.5;stroke:rgb(100%,100%,100%);stroke-opacity:1.0;stroke-width:1.0\" width=\"15.151515151515127\" x=\"231.81818181818181\" y=\"243.95999999999998\"></rect><rect class=\"toyplot-Datum\" height=\"4.2199999999999989\" style=\"fill:rgb(98.8%,55.3%,38.4%);fill-opacity:1.0;opacity:0.5;stroke:rgb(100%,100%,100%);stroke-opacity:1.0;stroke-width:1.0\" width=\"15.151515151515184\" x=\"246.96969696969694\" y=\"245.78\"></rect><rect class=\"toyplot-Datum\" height=\"2.5\" style=\"fill:rgb(98.8%,55.3%,38.4%);fill-opacity:1.0;opacity:0.5;stroke:rgb(100%,100%,100%);stroke-opacity:1.0;stroke-width:1.0\" width=\"15.151515151515127\" x=\"262.12121212121212\" y=\"247.5\"></rect><rect class=\"toyplot-Datum\" height=\"1.2399999999999807\" style=\"fill:rgb(98.8%,55.3%,38.4%);fill-opacity:1.0;opacity:0.5;stroke:rgb(100%,100%,100%);stroke-opacity:1.0;stroke-width:1.0\" width=\"15.151515151515184\" x=\"277.27272727272725\" y=\"248.76000000000002\"></rect><rect class=\"toyplot-Datum\" height=\"0.74000000000000909\" style=\"fill:rgb(98.8%,55.3%,38.4%);fill-opacity:1.0;opacity:0.5;stroke:rgb(100%,100%,100%);stroke-opacity:1.0;stroke-width:1.0\" width=\"15.151515151515127\" x=\"292.42424242424244\" y=\"249.25999999999999\"></rect><rect class=\"toyplot-Datum\" height=\"0.34000000000000341\" style=\"fill:rgb(98.8%,55.3%,38.4%);fill-opacity:1.0;opacity:0.5;stroke:rgb(100%,100%,100%);stroke-opacity:1.0;stroke-width:1.0\" width=\"15.151515151515127\" x=\"307.57575757575756\" y=\"249.66\"></rect><rect class=\"toyplot-Datum\" height=\"0.16000000000002501\" style=\"fill:rgb(98.8%,55.3%,38.4%);fill-opacity:1.0;opacity:0.5;stroke:rgb(100%,100%,100%);stroke-opacity:1.0;stroke-width:1.0\" width=\"15.151515151515241\" x=\"322.72727272727269\" y=\"249.83999999999997\"></rect><rect class=\"toyplot-Datum\" height=\"0.039999999999992042\" style=\"fill:rgb(98.8%,55.3%,38.4%);fill-opacity:1.0;opacity:0.5;stroke:rgb(100%,100%,100%);stroke-opacity:1.0;stroke-width:1.0\" width=\"15.151515151515071\" x=\"337.87878787878793\" y=\"249.96000000000001\"></rect><rect class=\"toyplot-Datum\" height=\"0.020000000000010232\" style=\"fill:rgb(98.8%,55.3%,38.4%);fill-opacity:1.0;opacity:0.5;stroke:rgb(100%,100%,100%);stroke-opacity:1.0;stroke-width:1.0\" width=\"15.151515151515184\" x=\"353.030303030303\" y=\"249.97999999999999\"></rect></g></g><g class=\"toyplot-mark-BarMagnitudes\" id=\"tddccdebf439f436b901ad6d39c38e4b8\" style=\"stroke:rgb(100%,100%,100%);stroke-opacity:1.0;stroke-width:1.0\"><g class=\"toyplot-Series\"><rect class=\"toyplot-Datum\" height=\"185.72\" style=\"fill:rgb(40%,76.1%,64.7%);fill-opacity:1.0;opacity:0.5;stroke:rgb(100%,100%,100%);stroke-opacity:1.0;stroke-width:1.0\" width=\"15.151515151515156\" x=\"50.0\" y=\"64.280000000000001\"></rect><rect class=\"toyplot-Datum\" height=\"178.88\" style=\"fill:rgb(40%,76.1%,64.7%);fill-opacity:1.0;opacity:0.5;stroke:rgb(100%,100%,100%);stroke-opacity:1.0;stroke-width:1.0\" width=\"15.151515151515156\" x=\"65.151515151515156\" y=\"71.120000000000005\"></rect><rect class=\"toyplot-Datum\" height=\"137.18000000000001\" style=\"fill:rgb(40%,76.1%,64.7%);fill-opacity:1.0;opacity:0.5;stroke:rgb(100%,100%,100%);stroke-opacity:1.0;stroke-width:1.0\" width=\"15.151515151515142\" x=\"80.303030303030312\" y=\"112.81999999999999\"></rect><rect class=\"toyplot-Datum\" height=\"92.340000000000003\" style=\"fill:rgb(40%,76.1%,64.7%);fill-opacity:1.0;opacity:0.5;stroke:rgb(100%,100%,100%);stroke-opacity:1.0;stroke-width:1.0\" width=\"15.151515151515156\" x=\"95.454545454545453\" y=\"157.66\"></rect><rect class=\"toyplot-Datum\" height=\"63.039999999999992\" style=\"fill:rgb(40%,76.1%,64.7%);fill-opacity:1.0;opacity:0.5;stroke:rgb(100%,100%,100%);stroke-opacity:1.0;stroke-width:1.0\" width=\"15.151515151515142\" x=\"110.60606060606061\" y=\"186.96000000000001\"></rect><rect class=\"toyplot-Datum\" height=\"42.060000000000002\" style=\"fill:rgb(40%,76.1%,64.7%);fill-opacity:1.0;opacity:0.5;stroke:rgb(100%,100%,100%);stroke-opacity:1.0;stroke-width:1.0\" width=\"15.151515151515156\" x=\"125.75757575757575\" y=\"207.94\"></rect><rect class=\"toyplot-Datum\" height=\"28.420000000000016\" style=\"fill:rgb(40%,76.1%,64.7%);fill-opacity:1.0;opacity:0.5;stroke:rgb(100%,100%,100%);stroke-opacity:1.0;stroke-width:1.0\" width=\"15.151515151515156\" x=\"140.90909090909091\" y=\"221.57999999999998\"></rect><rect class=\"toyplot-Datum\" height=\"20.659999999999997\" style=\"fill:rgb(40%,76.1%,64.7%);fill-opacity:1.0;opacity:0.5;stroke:rgb(100%,100%,100%);stroke-opacity:1.0;stroke-width:1.0\" width=\"15.151515151515156\" x=\"156.06060606060606\" y=\"229.34\"></rect><rect class=\"toyplot-Datum\" height=\"13.359999999999985\" style=\"fill:rgb(40%,76.1%,64.7%);fill-opacity:1.0;opacity:0.5;stroke:rgb(100%,100%,100%);stroke-opacity:1.0;stroke-width:1.0\" width=\"15.151515151515127\" x=\"171.21212121212122\" y=\"236.64000000000001\"></rect><rect class=\"toyplot-Datum\" height=\"10.180000000000007\" style=\"fill:rgb(40%,76.1%,64.7%);fill-opacity:1.0;opacity:0.5;stroke:rgb(100%,100%,100%);stroke-opacity:1.0;stroke-width:1.0\" width=\"15.151515151515156\" x=\"186.36363636363635\" y=\"239.81999999999999\"></rect><rect class=\"toyplot-Datum\" height=\"6.6800000000000068\" style=\"fill:rgb(40%,76.1%,64.7%);fill-opacity:1.0;opacity:0.5;stroke:rgb(100%,100%,100%);stroke-opacity:1.0;stroke-width:1.0\" width=\"15.151515151515156\" x=\"201.5151515151515\" y=\"243.31999999999999\"></rect><rect class=\"toyplot-Datum\" height=\"3.9000000000000057\" style=\"fill:rgb(40%,76.1%,64.7%);fill-opacity:1.0;opacity:0.5;stroke:rgb(100%,100%,100%);stroke-opacity:1.0;stroke-width:1.0\" width=\"15.151515151515156\" x=\"216.66666666666666\" y=\"246.09999999999999\"></rect><rect class=\"toyplot-Datum\" height=\"2.0799999999999841\" style=\"fill:rgb(40%,76.1%,64.7%);fill-opacity:1.0;opacity:0.5;stroke:rgb(100%,100%,100%);stroke-opacity:1.0;stroke-width:1.0\" width=\"15.151515151515127\" x=\"231.81818181818181\" y=\"247.92000000000002\"></rect><rect class=\"toyplot-Datum\" height=\"1.3600000000000136\" style=\"fill:rgb(40%,76.1%,64.7%);fill-opacity:1.0;opacity:0.5;stroke:rgb(100%,100%,100%);stroke-opacity:1.0;stroke-width:1.0\" width=\"15.151515151515184\" x=\"246.96969696969694\" y=\"248.63999999999999\"></rect><rect class=\"toyplot-Datum\" height=\"0.52000000000001023\" style=\"fill:rgb(40%,76.1%,64.7%);fill-opacity:1.0;opacity:0.5;stroke:rgb(100%,100%,100%);stroke-opacity:1.0;stroke-width:1.0\" width=\"15.151515151515127\" x=\"262.12121212121212\" y=\"249.47999999999999\"></rect><rect class=\"toyplot-Datum\" height=\"0.45999999999997954\" style=\"fill:rgb(40%,76.1%,64.7%);fill-opacity:1.0;opacity:0.5;stroke:rgb(100%,100%,100%);stroke-opacity:1.0;stroke-width:1.0\" width=\"15.151515151515184\" x=\"277.27272727272725\" y=\"249.54000000000002\"></rect><rect class=\"toyplot-Datum\" height=\"0.21999999999999886\" style=\"fill:rgb(40%,76.1%,64.7%);fill-opacity:1.0;opacity:0.5;stroke:rgb(100%,100%,100%);stroke-opacity:1.0;stroke-width:1.0\" width=\"15.151515151515127\" x=\"292.42424242424244\" y=\"249.78\"></rect><rect class=\"toyplot-Datum\" height=\"0.060000000000002274\" style=\"fill:rgb(40%,76.1%,64.7%);fill-opacity:1.0;opacity:0.5;stroke:rgb(100%,100%,100%);stroke-opacity:1.0;stroke-width:1.0\" width=\"15.151515151515127\" x=\"307.57575757575756\" y=\"249.94\"></rect><rect class=\"toyplot-Datum\" height=\"0.020000000000010232\" style=\"fill:rgb(40%,76.1%,64.7%);fill-opacity:1.0;opacity:0.5;stroke:rgb(100%,100%,100%);stroke-opacity:1.0;stroke-width:1.0\" width=\"15.151515151515241\" x=\"322.72727272727269\" y=\"249.97999999999999\"></rect><rect class=\"toyplot-Datum\" height=\"0.0\" style=\"fill:rgb(40%,76.1%,64.7%);fill-opacity:1.0;opacity:0.5;stroke:rgb(100%,100%,100%);stroke-opacity:1.0;stroke-width:1.0\" width=\"15.151515151515071\" x=\"337.87878787878793\" y=\"250.0\"></rect><rect class=\"toyplot-Datum\" height=\"0.0\" style=\"fill:rgb(40%,76.1%,64.7%);fill-opacity:1.0;opacity:0.5;stroke:rgb(100%,100%,100%);stroke-opacity:1.0;stroke-width:1.0\" width=\"15.151515151515184\" x=\"353.030303030303\" y=\"250.0\"></rect></g></g></g><g class=\"toyplot-coordinates\" style=\"visibility:hidden\"><rect height=\"14.0\" style=\"fill:rgb(100%,100%,100%);fill-opacity:1.0;opacity:0.75;stroke:none\" width=\"90.0\" x=\"200.0\" y=\"60.0\"></rect><text style=\"alignment-baseline:middle;font-size:10px;font-weight:normal;stroke:none;text-anchor:middle\" x=\"245.0\" y=\"67.0\"></text></g><g class=\"toyplot-axes-Axis\" id=\"t5c910e5fafdc4d86be7488494c6bc7d4\" transform=\"translate(50.0,250.0) rotate(0.0) translate(0,10.0)\"><g><text style=\"dominant-baseline:hanging;font-size:10px;font-weight:normal;stroke:none;text-anchor:middle\" transform=\"translate(7.575757575757576,6)translate(0,-10.0)\"><tspan style=\"dominant-baseline:inherit\">0</tspan></text><text style=\"dominant-baseline:hanging;font-size:10px;font-weight:normal;stroke:none;text-anchor:middle\" transform=\"translate(37.87878787878788,6)translate(0,-10.0)\"><tspan style=\"dominant-baseline:inherit\">2</tspan></text><text style=\"dominant-baseline:hanging;font-size:10px;font-weight:normal;stroke:none;text-anchor:middle\" transform=\"translate(68.18181818181817,6)translate(0,-10.0)\"><tspan style=\"dominant-baseline:inherit\">4</tspan></text><text style=\"dominant-baseline:hanging;font-size:10px;font-weight:normal;stroke:none;text-anchor:middle\" transform=\"translate(98.48484848484848,6)translate(0,-10.0)\"><tspan style=\"dominant-baseline:inherit\">6</tspan></text><text style=\"dominant-baseline:hanging;font-size:10px;font-weight:normal;stroke:none;text-anchor:middle\" transform=\"translate(128.78787878787878,6)translate(0,-10.0)\"><tspan style=\"dominant-baseline:inherit\">8</tspan></text><text style=\"dominant-baseline:hanging;font-size:10px;font-weight:normal;stroke:none;text-anchor:middle\" transform=\"translate(159.0909090909091,6)translate(0,-10.0)\"><tspan style=\"dominant-baseline:inherit\">10</tspan></text><text style=\"dominant-baseline:hanging;font-size:10px;font-weight:normal;stroke:none;text-anchor:middle\" transform=\"translate(189.3939393939394,6)translate(0,-10.0)\"><tspan style=\"dominant-baseline:inherit\">12</tspan></text><text style=\"dominant-baseline:hanging;font-size:10px;font-weight:normal;stroke:none;text-anchor:middle\" transform=\"translate(219.6969696969697,6)translate(0,-10.0)\"><tspan style=\"dominant-baseline:inherit\">14</tspan></text></g><text style=\"dominant-baseline:middle;font-size:12px;font-weight:bold;stroke:none;text-anchor:middle\" transform=\"translate(125.0,0)translate(0,24.0)\"><tspan style=\"dominant-baseline:inherit\">n variable (or pis) sites</tspan></text></g><g class=\"toyplot-axes-Axis\" id=\"t41861cf6e3ef4a95a84677a0320b5ba3\" transform=\"translate(50.0,250.0) rotate(-90.0) translate(0,-10.0)\"><line style=\"\" x1=\"0\" x2=\"185.72\" y1=\"0\" y2=\"0\"></line><g><line style=\"\" x1=\"0.0\" x2=\"0.0\" y1=\"-5.0\" y2=\"0\"></line><line style=\"\" x1=\"50.0\" x2=\"50.0\" y1=\"-5.0\" y2=\"0\"></line><line style=\"\" x1=\"100.0\" x2=\"100.0\" y1=\"-5.0\" y2=\"0\"></line><line style=\"\" x1=\"150.0\" x2=\"150.0\" y1=\"-5.0\" y2=\"0\"></line><line style=\"\" x1=\"200.0\" x2=\"200.0\" y1=\"-5.0\" y2=\"0\"></line></g><g><text style=\"dominant-baseline:alphabetic;font-size:10px;font-weight:normal;stroke:none;text-anchor:middle\" transform=\"translate(0.0,-6)translate(0,-5.0)\"><tspan style=\"dominant-baseline:inherit\">0</tspan></text><text style=\"dominant-baseline:alphabetic;font-size:10px;font-weight:normal;stroke:none;text-anchor:middle\" transform=\"translate(50.0,-6)translate(0,-5.0)\"><tspan style=\"dominant-baseline:inherit\">2500</tspan></text><text style=\"dominant-baseline:alphabetic;font-size:10px;font-weight:normal;stroke:none;text-anchor:middle\" transform=\"translate(100.0,-6)translate(0,-5.0)\"><tspan style=\"dominant-baseline:inherit\">5000</tspan></text><text style=\"dominant-baseline:alphabetic;font-size:10px;font-weight:normal;stroke:none;text-anchor:middle\" transform=\"translate(150.0,-6)translate(0,-5.0)\"><tspan style=\"dominant-baseline:inherit\">7500</tspan></text><text style=\"dominant-baseline:alphabetic;font-size:10px;font-weight:normal;stroke:none;text-anchor:middle\" transform=\"translate(200.0,-6)translate(0,-5.0)\"><tspan style=\"dominant-baseline:inherit\">10000</tspan></text></g><text style=\"dominant-baseline:middle;font-size:12px;font-weight:bold;stroke:none;text-anchor:middle\" transform=\"translate(100.0,0)translate(0,-35.0)\"><tspan style=\"dominant-baseline:inherit\">n nloci w/ n var (or pis) sites</tspan></text></g></g></svg><div class=\"toyplot-controls\"><ul class=\"toyplot-mark-popup\" onmouseleave=\"this.style.visibility='hidden'\" style=\"background:rgba(0%,0%,0%,0.75);border:0;border-radius:6px;color:white;cursor:default;list-style:none;margin:0;padding:5px;position:fixed;visibility:hidden\"><li class=\"toyplot-mark-popup-title\" style=\"color:lightgray;cursor:default;padding:5px;list-style:none;margin:0;\"></li><li class=\"toyplot-mark-popup-save-csv\" onmouseout=\"this.style.color='white';this.style.background='steelblue'\" onmouseover=\"this.style.color='steelblue';this.style.background='white'\" style=\"border-radius:3px;padding:5px;list-style:none;margin:0;\">Save as .csv</li></ul><script>\n",
       "(function()\n",
       "{\n",
       "  var data_tables = [{\"data\": [[-0.5, 0.5, 1.5, 2.5, 3.5, 4.5, 5.5, 6.5, 7.5, 8.5, 9.5, 10.5, 11.5, 12.5, 13.5, 14.5, 15.5, 16.5, 17.5, 18.5, 19.5], [0.5, 1.5, 2.5, 3.5, 4.5, 5.5, 6.5, 7.5, 8.5, 9.5, 10.5, 11.5, 12.5, 13.5, 14.5, 15.5, 16.5, 17.5, 18.5, 19.5, 20.5], [0.0, 0.0, 0.0, 0.0, 0.0, 0.0, 0.0, 0.0, 0.0, 0.0, 0.0, 0.0, 0.0, 0.0, 0.0, 0.0, 0.0, 0.0, 0.0, 0.0, 0.0], [5347.0, 7224.0, 6874.0, 5330.0, 4002.0, 2921.0, 2189.0, 1517.0, 1213.0, 845.0, 640.0, 490.0, 302.0, 211.0, 125.0, 62.0, 37.0, 17.0, 8.0, 2.0, 1.0]], \"title\": \"Bar Data\", \"names\": [\"left\", \"right\", \"baseline\", \"magnitude0\"], \"id\": \"t5f1abda71d034dffa88a68d6fde58c19\", \"filename\": \"toyplot\"}, {\"data\": [[-0.5, 0.5, 1.5, 2.5, 3.5, 4.5, 5.5, 6.5, 7.5, 8.5, 9.5, 10.5, 11.5, 12.5, 13.5, 14.5, 15.5, 16.5, 17.5, 18.5, 19.5], [0.5, 1.5, 2.5, 3.5, 4.5, 5.5, 6.5, 7.5, 8.5, 9.5, 10.5, 11.5, 12.5, 13.5, 14.5, 15.5, 16.5, 17.5, 18.5, 19.5, 20.5], [0.0, 0.0, 0.0, 0.0, 0.0, 0.0, 0.0, 0.0, 0.0, 0.0, 0.0, 0.0, 0.0, 0.0, 0.0, 0.0, 0.0, 0.0, 0.0, 0.0, 0.0], [9286.0, 8944.0, 6859.0, 4617.0, 3152.0, 2103.0, 1421.0, 1033.0, 668.0, 509.0, 334.0, 195.0, 104.0, 68.0, 26.0, 23.0, 11.0, 3.0, 1.0, 0.0, 0.0]], \"title\": \"Bar Data\", \"names\": [\"left\", \"right\", \"baseline\", \"magnitude0\"], \"id\": \"tddccdebf439f436b901ad6d39c38e4b8\", \"filename\": \"toyplot\"}];\n",
       "\n",
       "  function save_csv(data_table)\n",
       "  {\n",
       "    var uri = \"data:text/csv;charset=utf-8,\";\n",
       "    uri += data_table.names.join(\",\") + \"\\n\";\n",
       "    for(var i = 0; i != data_table.data[0].length; ++i)\n",
       "    {\n",
       "      for(var j = 0; j != data_table.data.length; ++j)\n",
       "      {\n",
       "        if(j)\n",
       "          uri += \",\";\n",
       "        uri += data_table.data[j][i];\n",
       "      }\n",
       "      uri += \"\\n\";\n",
       "    }\n",
       "    uri = encodeURI(uri);\n",
       "\n",
       "    var link = document.createElement(\"a\");\n",
       "    if(typeof link.download != \"undefined\")\n",
       "    {\n",
       "      link.href = uri;\n",
       "      link.style = \"visibility:hidden\";\n",
       "      link.download = data_table.filename + \".csv\";\n",
       "\n",
       "      document.body.appendChild(link);\n",
       "      link.click();\n",
       "      document.body.removeChild(link);\n",
       "    }\n",
       "    else\n",
       "    {\n",
       "      window.open(uri);\n",
       "    }\n",
       "  }\n",
       "\n",
       "  function open_popup(data_table)\n",
       "  {\n",
       "    return function(e)\n",
       "    {\n",
       "      var popup = document.querySelector(\"#td32f6c7035f34c71898f00373307e9c7 .toyplot-mark-popup\");\n",
       "      popup.querySelector(\".toyplot-mark-popup-title\").innerHTML = data_table.title;\n",
       "      popup.querySelector(\".toyplot-mark-popup-save-csv\").onclick = function() { popup.style.visibility = \"hidden\"; save_csv(data_table); }\n",
       "      popup.style.left = (e.clientX - 50) + \"px\";\n",
       "      popup.style.top = (e.clientY - 20) + \"px\";\n",
       "      popup.style.visibility = \"visible\";\n",
       "      e.stopPropagation();\n",
       "      e.preventDefault();\n",
       "    }\n",
       "\n",
       "  }\n",
       "\n",
       "  for(var i = 0; i != data_tables.length; ++i)\n",
       "  {\n",
       "    var data_table = data_tables[i];\n",
       "    var event_target = document.querySelector(\"#\" + data_table.id);\n",
       "    event_target.oncontextmenu = open_popup(data_table);\n",
       "  }\n",
       "})();\n",
       "</script><script>\n",
       "(function()\n",
       "{\n",
       "  var axes = {\"t42134e54157d4938b23983f8a7535fbc\": {\"x\": [{\"domain\": {\"bounds\": {\"max\": Infinity, \"min\": -Infinity}, \"max\": 16.0, \"min\": -0.5}, \"range\": {\"bounds\": {\"max\": Infinity, \"min\": -Infinity}, \"max\": 300.0, \"min\": 50.0}, \"scale\": \"linear\"}], \"y\": [{\"domain\": {\"bounds\": {\"max\": Infinity, \"min\": -Infinity}, \"max\": 10000.0, \"min\": 0.0}, \"range\": {\"bounds\": {\"max\": -Infinity, \"min\": Infinity}, \"max\": 50.0, \"min\": 250.0}, \"scale\": \"linear\"}]}};\n",
       "\n",
       "  function sign(x)\n",
       "  {\n",
       "    return x < 0 ? -1 : x > 0 ? 1 : 0;\n",
       "  }\n",
       "\n",
       "  function _mix(a, b, amount)\n",
       "  {\n",
       "    return ((1.0 - amount) * a) + (amount * b);\n",
       "  }\n",
       "\n",
       "  function _log(x, base)\n",
       "  {\n",
       "    return Math.log(Math.abs(x)) / Math.log(base);\n",
       "  }\n",
       "\n",
       "  function _in_range(a, x, b)\n",
       "  {\n",
       "    var left = Math.min(a, b);\n",
       "    var right = Math.max(a, b);\n",
       "    return left <= x && x <= right;\n",
       "  }\n",
       "\n",
       "  function to_domain(projection, range)\n",
       "  {\n",
       "    for(var i = 0; i != projection.length; ++i)\n",
       "    {\n",
       "      var segment = projection[i];\n",
       "      if(_in_range(segment.range.bounds.min, range, segment.range.bounds.max))\n",
       "      {\n",
       "        if(segment.scale == \"linear\")\n",
       "        {\n",
       "          var amount = (range - segment.range.min) / (segment.range.max - segment.range.min);\n",
       "          return _mix(segment.domain.min, segment.domain.max, amount)\n",
       "        }\n",
       "        else if(segment.scale[0] == \"log\")\n",
       "        {\n",
       "          var amount = (range - segment.range.min) / (segment.range.max - segment.range.min);\n",
       "          var base = segment.scale[1];\n",
       "          return sign(segment.domain.min) * Math.pow(base, _mix(_log(segment.domain.min, base), _log(segment.domain.max, base), amount));\n",
       "        }\n",
       "      }\n",
       "    }\n",
       "  }\n",
       "\n",
       "  // Compute mouse coordinates relative to a DOM object, with thanks to d3js.org, where this code originated.\n",
       "  function d3_mousePoint(container, e)\n",
       "  {\n",
       "    if (e.changedTouches) e = e.changedTouches[0];\n",
       "    var svg = container.ownerSVGElement || container;\n",
       "    if (svg.createSVGPoint) {\n",
       "      var point = svg.createSVGPoint();\n",
       "      point.x = e.clientX, point.y = e.clientY;\n",
       "      point = point.matrixTransform(container.getScreenCTM().inverse());\n",
       "      return [point.x, point.y];\n",
       "    }\n",
       "    var rect = container.getBoundingClientRect();\n",
       "    return [e.clientX - rect.left - container.clientLeft, e.clientY - rect.top - container.clientTop];\n",
       "  };\n",
       "\n",
       "  function display_coordinates(e)\n",
       "  {\n",
       "    var dom_axes = e.currentTarget.parentElement;\n",
       "    var data = axes[dom_axes.id];\n",
       "\n",
       "    point = d3_mousePoint(e.target, e);\n",
       "    var x = Number(to_domain(data[\"x\"], point[0])).toFixed(2);\n",
       "    var y = Number(to_domain(data[\"y\"], point[1])).toFixed(2);\n",
       "\n",
       "    var coordinates = dom_axes.querySelectorAll(\".toyplot-coordinates\");\n",
       "    for(var i = 0; i != coordinates.length; ++i)\n",
       "    {\n",
       "      coordinates[i].style.visibility = \"visible\";\n",
       "      coordinates[i].querySelector(\"text\").textContent = \"x=\" + x + \" y=\" + y;\n",
       "    }\n",
       "  }\n",
       "\n",
       "  function clear_coordinates(e)\n",
       "  {\n",
       "    var dom_axes = e.currentTarget.parentElement;\n",
       "    var coordinates = dom_axes.querySelectorAll(\".toyplot-coordinates\");\n",
       "    for(var i = 0; i != coordinates.length; ++i)\n",
       "      coordinates[i].style.visibility = \"hidden\";\n",
       "  }\n",
       "\n",
       "  for(var axes_id in axes)\n",
       "  {\n",
       "    var event_target = document.querySelector(\"#\" + axes_id + \" .toyplot-coordinate-events\");\n",
       "    event_target.onmousemove = display_coordinates;\n",
       "    event_target.onmouseout = clear_coordinates;\n",
       "  }\n",
       "})();\n",
       "</script></div></div>"
      ]
     },
     "metadata": {},
     "output_type": "display_data"
    }
   ],
   "source": [
    "## deconstruct array into bins\n",
    "vbars, vbins = np.histogram(varlocs, bins=range(0, varlocs.max()+2))\n",
    "pbars, pbins = np.histogram(pislocs, bins=range(0, varlocs.max()+2))\n",
    "\n",
    "## setup canvas and axes\n",
    "canvas = toyplot.Canvas(width=350, height=300)\n",
    "axes = canvas.axes(xlabel=\"n variable (or pis) sites\",\n",
    "                   ylabel=\"n nloci w/ n var (or pis) sites\",\n",
    "                   gutter=50)\n",
    "\n",
    "## set up x axis\n",
    "axes.x.domain.max = 16\n",
    "axes.x.spine.show = False\n",
    "axes.x.ticks.labels.style = {\"baseline-shift\":\"10px\"}\n",
    "axes.x.ticks.locator = toyplot.locator.Explicit(\n",
    "    range(0, 16, 2), \n",
    "    map(str, range(0, 16, 2)))\n",
    "\n",
    "## set up y axis\n",
    "axes.y.ticks.show=True\n",
    "axes.y.label.style = {\"baseline-shift\":\"35px\"}\n",
    "axes.y.ticks.labels.style = {\"baseline-shift\":\"5px\"}\n",
    "axes.y.ticks.below = 0\n",
    "axes.y.ticks.above = 5\n",
    "axes.y.domain.min = 0\n",
    "axes.y.domain.max = 10000\n",
    "axes.y.ticks.locator = toyplot.locator.Explicit(\n",
    "    range(0, 11000, 2500), \n",
    "    map(str, range(0, 11000, 2500)))\n",
    "\n",
    "## add bars\n",
    "axes.bars(vbars, color=colormap[1], opacity=0.5)\n",
    "axes.bars(pbars, color=colormap[0], opacity=0.5)\n",
    "\n",
    "## or as a filled/smoothed plot\n",
    "#x = np.arange(0, len(pbars))\n",
    "#fill = axes.fill(x, vbars, color=colormap[0], opacity=0.5)\n",
    "#fill = axes.fill(x, pbars, color=colormap[1], opacity=0.5)"
   ]
  },
  {
   "cell_type": "markdown",
   "metadata": {},
   "source": [
    "### Variation along the length of reads\n",
    "This data includes 75bp reads sequenced on an Illumina GAIIx. We know that the error rate increases along the length of reads, and that the error rate was a bit higher in this older type of data than it is in more recent sequencing technology.  "
   ]
  },
  {
   "cell_type": "code",
   "execution_count": 196,
   "metadata": {
    "collapsed": false
   },
   "outputs": [
    {
     "name": "stdout",
     "output_type": "stream",
     "text": [
      "[   0    0    0    0    0  922 1050 1022  982 1066 1108 1018 1090 1089 1104\n",
      " 1134 1082 1085 1182 1131 1133 1134 1127 1119 1157 1168 1133 1150 1174 1082\n",
      " 1162 1161 1084 1178 1186 1146 1128 1151 1149 1177 1218 1142 1196 1146 1172\n",
      " 1226 1211 1167 1215 1181 1239 1244 1188 1180 1217 1242 1222 1297 1321 1245\n",
      " 1313 1337 1322 1404 1436 1507 1519 1603 1624 1727 1871 1878 2041 2199  377\n",
      "  182  132   78   41   24   16    4]\n",
      "[   0    0    0    0    0  428  503  479  484  544  535  522  608  554  523\n",
      "  556  595  588  628  535  535  584  579  576  576  541  551  629  555  597\n",
      "  584  602  543  596  585  540  584  591  616  601  578  588  597  597  553\n",
      "  591  599  606  631  580  617  623  625  594  646  593  606  672  599  673\n",
      "  657  659  675  717  721  686  800  776  844  957  954 1024 1120 1182  198\n",
      "  100   65   33   20   11    6    1]\n",
      "maxlen =  81\n"
     ]
    }
   ],
   "source": [
    "## the snps array is longer than the actual seq length (it's a bit padded)\n",
    "## and so we want to lop the extra on the end off. Let's get the max values w/ data.\n",
    "maxend = np.where(fsnps[:, :, :].sum(axis=0).sum(axis=1) != 0)[0].max()\n",
    "\n",
    "## all variables (including autapomorphies)\n",
    "distvar = np.sum(fsnps[:, :maxend+1, 0].astype(np.int), axis=0)\n",
    "print(distvar)\n",
    "\n",
    "## synapomorphies (just pis)\n",
    "distpis = fsnps[:, :maxend+1, 1].sum(axis=0)\n",
    "print(distpis)\n",
    "\n",
    "## how long is the longest seq\n",
    "print 'maxlen = ', maxend"
   ]
  },
  {
   "cell_type": "markdown",
   "metadata": {},
   "source": [
    "### Plot distribution of variation along length of RAD loci"
   ]
  },
  {
   "cell_type": "code",
   "execution_count": 13,
   "metadata": {
    "collapsed": false
   },
   "outputs": [],
   "source": [
    "def SNP_position_plot(distvar, distpis):\n",
    "    ## set color theme\n",
    "    colormap = toyplot.color.Palette()\n",
    "\n",
    "    ## make a canvas\n",
    "    canvas = toyplot.Canvas(width=800, height=300)\n",
    "\n",
    "    ## make axes\n",
    "    axes = canvas.axes(xlabel=\"Position along RAD loci\",\n",
    "                       ylabel=\"N variables sites\",\n",
    "                       gutter=65)\n",
    "    ## x-axis\n",
    "    axes.x.ticks.show = True\n",
    "    axes.x.label.style = {\"baseline-shift\":\"-40px\", \"font-size\":\"16px\"}\n",
    "    axes.x.ticks.labels.style = {\"baseline-shift\":\"-2.5px\", \"font-size\":\"12px\"}\n",
    "    axes.x.ticks.below = 5\n",
    "    axes.x.ticks.above = 0\n",
    "    axes.x.domain.max = maxend\n",
    "    axes.x.ticks.locator = toyplot.locator.Explicit(\n",
    "        range(0, maxend, 5), \n",
    "        map(str, range(0, maxend, 5)))\n",
    "    \n",
    "    ## y-axis\n",
    "    axes.y.ticks.show=True\n",
    "    axes.y.label.style = {\"baseline-shift\":\"40px\", \"font-size\":\"16px\"}\n",
    "    axes.y.ticks.labels.style = {\"baseline-shift\":\"5px\", \"font-size\":\"12px\"}\n",
    "    axes.y.ticks.below = 0\n",
    "    axes.y.ticks.above = 5\n",
    "\n",
    "    ## add fill plots\n",
    "    x = np.arange(0, maxend+1)\n",
    "    f1 = axes.fill(x, distvar, color=colormap[0], opacity=0.5, title=\"total variable sites\")\n",
    "    f2 = axes.fill(x, distpis, color=colormap[1], opacity=0.5, title=\"parsimony informative sites\")\n",
    "\n",
    "    ## add a horizontal dashed line at the median Nsnps per site\n",
    "    axes.hlines(np.median(distvar), opacity=0.9, style={\"stroke-dasharray\":\"4, 4\"})\n",
    "    axes.hlines(np.median(distpis), opacity=0.9, style={\"stroke-dasharray\":\"4, 4\"})\n",
    "    \n",
    "    return canvas, axes"
   ]
  },
  {
   "cell_type": "code",
   "execution_count": 167,
   "metadata": {
    "collapsed": false
   },
   "outputs": [
    {
     "data": {
      "image/png": "[encoded data removed]",
      "text/html": [
       "<div align=\"center\" class=\"toyplot\" id=\"t681778a08ed6494cbbb286f57baf5727\"><svg height=\"300.0px\" id=\"t76dd89ae16a94400a6ec820eb2a2c6c3\" preserveAspectRatio=\"xMidYMid meet\" style=\"background-color:transparent;fill:rgb(16.1%,15.3%,14.1%);fill-opacity:1.0;font-family:Helvetica;font-size:12px;opacity:1.0;stroke:rgb(16.1%,15.3%,14.1%);stroke-opacity:1.0;stroke-width:1.0\" viewBox=\"0 0 800.0 300.0\" width=\"800.0px\" xmlns=\"http://www.w3.org/2000/svg\" xmlns:toyplot=\"http://www.sandia.gov/toyplot\"><g class=\"toyplot-axes-Cartesian\" id=\"t19754d32c17743b4b55432352f76d575\"><clipPath id=\"t7fdb3a4397a54000baf5982d1b43f8aa\"><rect height=\"190.0\" width=\"690.0\" x=\"55.0\" y=\"55.0\"></rect></clipPath><g class=\"toyplot-coordinate-events\" clip-path=\"url(#t7fdb3a4397a54000baf5982d1b43f8aa)\" style=\"cursor:crosshair\"><rect height=\"190.0\" style=\"pointer-events:all;visibility:hidden\" width=\"690.0\" x=\"55.0\" y=\"55.0\"></rect><g class=\"toyplot-mark-FillBoundaries\" id=\"tc48b309d7f344adebb7de7b727540a2f\" style=\"stroke:none\"><polygon points=\"65.0,235.0 73.589743589743591,235.0 82.179487179487182,235.0 90.769230769230774,235.0 99.358974358974365,235.0 107.94871794871796,235.0 116.53846153846155,235.0 125.12820512820514,235.0 133.71794871794873,235.0 142.30769230769232,235.0 150.89743589743588,235.0 159.48717948717947,235.0 168.07692307692309,235.0 176.66666666666669,235.0 185.25641025641028,235.0 193.84615384615387,235.0 202.43589743589746,235.0 211.02564102564105,235.0 219.61538461538461,235.0 228.2051282051282,235.0 236.7948717948718,235.0 245.38461538461539,235.0 253.97435897435895,235.0 262.56410256410254,235.0 271.15384615384619,235.0 279.74358974358978,235.0 288.33333333333331,235.0 296.92307692307691,235.0 305.51282051282055,235.0 314.10256410256409,235.0 322.69230769230774,235.0 331.28205128205127,235.0 339.87179487179486,235.0 348.46153846153845,235.0 357.0512820512821,235.0 365.64102564102564,235.0 374.23076923076923,235.0 382.82051282051282,235.0 391.41025641025641,235.0 400.0,235.0 408.58974358974359,235.0 417.17948717948718,235.0 425.76923076923077,235.0 434.35897435897442,235.0 442.9487179487179,235.0 451.53846153846149,235.0 460.12820512820514,235.0 468.71794871794867,235.0 477.30769230769232,235.0 485.89743589743591,235.0 494.4871794871795,235.0 503.07692307692309,235.0 511.66666666666669,235.0 520.25641025641028,235.0 528.84615384615381,235.0 537.43589743589746,235.0 546.02564102564111,235.0 554.61538461538453,235.0 563.20512820512818,235.0 571.79487179487182,235.0 580.38461538461547,235.0 588.97435897435889,235.0 597.56410256410254,235.0 606.15384615384619,235.0 614.74358974358972,235.0 623.33333333333337,235.0 631.92307692307691,235.0 640.51282051282044,235.0 649.1025641025642,235.0 657.69230769230762,235.0 666.28205128205127,235.0 674.87179487179492,235.0 683.46153846153845,235.0 692.05128205128199,235.0 700.64102564102564,235.0 709.23076923076928,235.0 717.82051282051282,235.0 726.41025641025647,235.0 735.0,235.0 735.0,233.24155765135382 726.41025641025647,229.0523273501673 717.82051282051282,223.46668694858533 709.23076923076928,214.82963188317615 700.64102564102564,195.64192272588986 692.05128205128199,65.0 683.46153846153845,74.154243991481593 674.87179487179492,85.842713720717981 666.28205128205127,92.462731974444779 657.69230769230762,95.048676604806815 649.1025641025642,104.87526620018252 640.51282051282044,108.70246425311835 631.92307692307691,120.49437176756922 623.33333333333337,117.80498935199267 614.74358974358972,117.02920596288408 606.15384615384619,123.44234864618194 597.56410256410254,131.09674475205352 588.97435897435889,131.51049589291145 580.38461538461547,132.54487374505626 571.79487179487182,137.30301186492241 563.20512820512818,133.68268938241556 554.61538461538453,135.23425616063278 546.02564102564111,139.99239428049893 537.43589743589746,140.40614542135685 528.84615384615381,140.92333434742926 520.25641025641028,142.57833891086096 511.66666666666669,141.69911773653786 503.07692307692309,139.88895649528445 494.4871794871795,139.78551871006997 485.89743589743591,143.56099787039855 477.30769230769232,143.71615454822026 468.71794871794867,143.40584119257682 460.12820512820514,140.7164587770003 451.53846153846149,144.54365682993611 442.9487179487179,145.9400669303316 434.35897435897442,145.5263157894737 425.76923076923077,143.19896562214785 417.17948717948718,147.43991481594159 408.58974358974359,138.80285975053241 400.0,142.88865226650441 391.41025641025641,144.69881350775785 382.82051282051282,145.26772132643748 374.23076923076923,145.31944021904471 365.64102564102564,147.23303924551263 357.0512820512821,144.54365682993611 348.46153846153845,144.85397018557956 339.87179487179486,146.25038028597504 331.28205128205127,144.90568907818678 322.69230769230774,148.42257377547915 314.10256410256409,149.09491937937327 305.51282051282055,147.75022817158504 296.92307692307691,145.164283541223 288.33333333333331,146.04350471554611 279.74358974358978,147.80194706419229 271.15384615384619,149.35351384240948 262.56410256410254,150.23273501673259 253.97435897435895,150.80164283541222 245.38461538461539,147.18132035290537 236.7948717948718,148.99148159415881 228.2051282051282,144.64709461515059 219.61538461538461,145.42287800425919 211.02564102564105,146.76756921204748 202.43589743589746,151.83602068755704 193.84615384615387,147.59507149376333 185.25641025641028,149.66382719805293 176.66666666666669,152.30149072102219 168.07692307692309,151.83602068755704 159.48717948717947,151.57742622452085 150.89743589743588,148.7328871311226 142.30769230769232,148.78460602372985 133.71794871794873,154.42196531791907 125.12820512820514,156.43900212960145 116.53846153846155,160.73167021600244 107.94871794871796,165.59324612108304 99.358974358974365,235.0 90.769230769230774,235.0 82.179487179487182,235.0 73.589743589743591,235.0 65.0,235.0\" style=\"fill:rgb(40%,76.1%,64.7%);fill-opacity:1.0;opacity:0.5;stroke:none\"></polygon></g><g class=\"toyplot-mark-FillBoundaries\" id=\"t3a4cb49ac9994a60b24245aaf87bd617\" style=\"stroke:none\"><polygon points=\"65.0,235.0 73.589743589743591,235.0 82.179487179487182,235.0 90.769230769230774,235.0 99.358974358974365,235.0 107.94871794871796,235.0 116.53846153846155,235.0 125.12820512820514,235.0 133.71794871794873,235.0 142.30769230769232,235.0 150.89743589743588,235.0 159.48717948717947,235.0 168.07692307692309,235.0 176.66666666666669,235.0 185.25641025641028,235.0 193.84615384615387,235.0 202.43589743589746,235.0 211.02564102564105,235.0 219.61538461538461,235.0 228.2051282051282,235.0 236.7948717948718,235.0 245.38461538461539,235.0 253.97435897435895,235.0 262.56410256410254,235.0 271.15384615384619,235.0 279.74358974358978,235.0 288.33333333333331,235.0 296.92307692307691,235.0 305.51282051282055,235.0 314.10256410256409,235.0 322.69230769230774,235.0 331.28205128205127,235.0 339.87179487179486,235.0 348.46153846153845,235.0 357.0512820512821,235.0 365.64102564102564,235.0 374.23076923076923,235.0 382.82051282051282,235.0 391.41025641025641,235.0 400.0,235.0 408.58974358974359,235.0 417.17948717948718,235.0 425.76923076923077,235.0 434.35897435897442,235.0 442.9487179487179,235.0 451.53846153846149,235.0 460.12820512820514,235.0 468.71794871794867,235.0 477.30769230769232,235.0 485.89743589743591,235.0 494.4871794871795,235.0 503.07692307692309,235.0 511.66666666666669,235.0 520.25641025641028,235.0 528.84615384615381,235.0 537.43589743589746,235.0 546.02564102564111,235.0 554.61538461538453,235.0 563.20512820512818,235.0 571.79487179487182,235.0 580.38461538461547,235.0 588.97435897435889,235.0 597.56410256410254,235.0 606.15384615384619,235.0 614.74358974358972,235.0 623.33333333333337,235.0 631.92307692307691,235.0 640.51282051282044,235.0 649.1025641025642,235.0 657.69230769230762,235.0 666.28205128205127,235.0 674.87179487179492,235.0 683.46153846153845,235.0 692.05128205128199,235.0 700.64102564102564,235.0 709.23076923076928,235.0 717.82051282051282,235.0 726.41025641025647,235.0 735.0,235.0 735.0,233.75874657742622 726.41025641025647,231.32795862488592 717.82051282051282,226.25950714937633 709.23076923076928,221.81168238515363 700.64102564102564,207.278673562519 692.05128205128199,95.876178886522666 683.46153846153845,110.9263766352297 674.87179487179492,116.92576817766961 666.28205128205127,121.735625190143 657.69230769230762,130.83815028901734 649.1025641025642,138.44082750228171 640.51282051282044,145.73319135990266 631.92307692307691,146.61241253422574 623.33333333333337,154.57712199574081 614.74358974358972,157.36994219653181 606.15384615384619,155.55978095527837 597.56410256410254,158.97322786735626 588.97435897435889,162.59355034986314 580.38461538461547,162.28323699421964 571.79487179487182,161.30057803468208 563.20512820512818,165.38637055065408 554.61538461538453,161.24885914207482 546.02564102564111,168.54122299969578 537.43589743589746,168.64466078491026 528.84615384615381,166.98965622147855 520.25641025641028,170.24794645573471 511.66666666666669,167.92059628840886 503.07692307692309,168.48950410708852 494.4871794871795,168.43778521448129 485.89743589743591,171.95466991177364 477.30769230769232,167.299969577122 468.71794871794867,167.86887739580163 460.12820512820514,171.17888652266504 451.53846153846149,168.9549741405537 442.9487179487179,170.6099787039854 434.35897435897442,169.62731974444785 425.76923076923077,168.2309096440523 417.17948717948718,172.00638880438089 408.58974358974359,173.40279890477638 400.0,169.57560085184059 391.41025641025641,168.43778521448129 382.82051282051282,170.6099787039854 374.23076923076923,171.02372984484333 365.64102564102564,172.67873440827501 357.0512820512821,172.21326437480985 348.46153846153845,171.02372984484333 339.87179487179486,175.36811682385155 331.28205128205127,169.93763310009126 322.69230769230774,169.83419531487681 314.10256410256409,173.76483115302707 305.51282051282055,170.24794645573471 296.92307692307691,170.4548220261637 288.33333333333331,176.45421356860359 279.74358974358978,170.29966534834193 271.15384615384619,171.12716763005781 262.56410256410254,170.97201095223608 253.97435897435895,172.73045330088226 245.38461538461539,170.4548220261637 236.7948717948718,177.48859142074841 228.2051282051282,176.35077578338911 219.61538461538461,169.16184971098266 211.02564102564105,173.40279890477638 202.43589743589746,172.52357773045333 193.84615384615387,174.178582293885 185.25641025641028,176.81624581685426 176.66666666666669,174.5406145421357 168.07692307692309,172.26498326741711 159.48717948717947,179.04015819896563 150.89743589743588,176.76452692424704 142.30769230769232,178.67812595071493 133.71794871794873,182.29844843322178 125.12820512820514,180.90203833282629 116.53846153846155,179.45390933982355 107.94871794871796,185.8670520231214 99.358974358974365,235.0 90.769230769230774,235.0 82.179487179487182,235.0 73.589743589743591,235.0 65.0,235.0\" style=\"fill:rgb(98.8%,55.3%,38.4%);fill-opacity:1.0;opacity:0.5;stroke:none\"></polygon></g><g class=\"toyplot-mark-AxisLines\" id=\"t62125c3775064902ab8df4d725b9d64c\" style=\"stroke-dasharray:4, 4\"><g class=\"toyplot-Series\"><line class=\"toyplot-Datum\" style=\"opacity:0.9;stroke:rgb(16.1%,15.3%,14.1%);stroke-dasharray:4, 4;stroke-opacity:1.0\" x1=\"65.0\" x2=\"735.0\" y1=\"145.31944021904471\" y2=\"145.31944021904471\"></line></g></g><g class=\"toyplot-mark-AxisLines\" id=\"tb5cad90649e44de7819bf9423a3306b2\" style=\"stroke-dasharray:4, 4\"><g class=\"toyplot-Series\"><line class=\"toyplot-Datum\" style=\"opacity:0.9;stroke:rgb(16.1%,15.3%,14.1%);stroke-dasharray:4, 4;stroke-opacity:1.0\" x1=\"65.0\" x2=\"735.0\" y1=\"170.6099787039854\" y2=\"170.6099787039854\"></line></g></g></g><g class=\"toyplot-coordinates\" style=\"visibility:hidden\"><rect height=\"14.0\" style=\"fill:rgb(100%,100%,100%);fill-opacity:1.0;opacity:0.75;stroke:none\" width=\"90.0\" x=\"635.0\" y=\"75.0\"></rect><text style=\"alignment-baseline:middle;font-size:10px;font-weight:normal;stroke:none;text-anchor:middle\" x=\"680.0\" y=\"82.0\"></text></g><g class=\"toyplot-axes-Axis\" id=\"t735f7253b64949ebb24305518baf3227\" transform=\"translate(65.0,235.0) rotate(0.0) translate(0,10.0)\"><line style=\"\" x1=\"0\" x2=\"670.0\" y1=\"0\" y2=\"0\"></line><g><line style=\"\" x1=\"0.0\" x2=\"0.0\" y1=\"0\" y2=\"5.0\"></line><line style=\"\" x1=\"42.94871794871794\" x2=\"42.94871794871794\" y1=\"0\" y2=\"5.0\"></line><line style=\"\" x1=\"85.89743589743588\" x2=\"85.89743589743588\" y1=\"0\" y2=\"5.0\"></line><line style=\"\" x1=\"128.84615384615384\" x2=\"128.84615384615384\" y1=\"0\" y2=\"5.0\"></line><line style=\"\" x1=\"171.79487179487177\" x2=\"171.79487179487177\" y1=\"0\" y2=\"5.0\"></line><line style=\"\" x1=\"214.74358974358975\" x2=\"214.74358974358975\" y1=\"0\" y2=\"5.0\"></line><line style=\"\" x1=\"257.6923076923077\" x2=\"257.6923076923077\" y1=\"0\" y2=\"5.0\"></line><line style=\"\" x1=\"300.64102564102564\" x2=\"300.64102564102564\" y1=\"0\" y2=\"5.0\"></line><line style=\"\" x1=\"343.58974358974353\" x2=\"343.58974358974353\" y1=\"0\" y2=\"5.0\"></line><line style=\"\" x1=\"386.5384615384615\" x2=\"386.5384615384615\" y1=\"0\" y2=\"5.0\"></line><line style=\"\" x1=\"429.4871794871795\" x2=\"429.4871794871795\" y1=\"0\" y2=\"5.0\"></line><line style=\"\" x1=\"472.43589743589746\" x2=\"472.43589743589746\" y1=\"0\" y2=\"5.0\"></line><line style=\"\" x1=\"515.3846153846154\" x2=\"515.3846153846154\" y1=\"0\" y2=\"5.0\"></line><line style=\"\" x1=\"558.3333333333334\" x2=\"558.3333333333334\" y1=\"0\" y2=\"5.0\"></line><line style=\"\" x1=\"601.2820512820513\" x2=\"601.2820512820513\" y1=\"0\" y2=\"5.0\"></line><line style=\"\" x1=\"644.2307692307693\" x2=\"644.2307692307693\" y1=\"0\" y2=\"5.0\"></line></g><g><text style=\"dominant-baseline:hanging;font-size:12px;font-weight:normal;stroke:none;text-anchor:middle\" transform=\"translate(0.0,6)translate(0,2.5)\"><tspan style=\"dominant-baseline:inherit\">0</tspan></text><text style=\"dominant-baseline:hanging;font-size:12px;font-weight:normal;stroke:none;text-anchor:middle\" transform=\"translate(42.94871794871794,6)translate(0,2.5)\"><tspan style=\"dominant-baseline:inherit\">5</tspan></text><text style=\"dominant-baseline:hanging;font-size:12px;font-weight:normal;stroke:none;text-anchor:middle\" transform=\"translate(85.89743589743588,6)translate(0,2.5)\"><tspan style=\"dominant-baseline:inherit\">10</tspan></text><text style=\"dominant-baseline:hanging;font-size:12px;font-weight:normal;stroke:none;text-anchor:middle\" transform=\"translate(128.84615384615384,6)translate(0,2.5)\"><tspan style=\"dominant-baseline:inherit\">15</tspan></text><text style=\"dominant-baseline:hanging;font-size:12px;font-weight:normal;stroke:none;text-anchor:middle\" transform=\"translate(171.79487179487177,6)translate(0,2.5)\"><tspan style=\"dominant-baseline:inherit\">20</tspan></text><text style=\"dominant-baseline:hanging;font-size:12px;font-weight:normal;stroke:none;text-anchor:middle\" transform=\"translate(214.74358974358975,6)translate(0,2.5)\"><tspan style=\"dominant-baseline:inherit\">25</tspan></text><text style=\"dominant-baseline:hanging;font-size:12px;font-weight:normal;stroke:none;text-anchor:middle\" transform=\"translate(257.6923076923077,6)translate(0,2.5)\"><tspan style=\"dominant-baseline:inherit\">30</tspan></text><text style=\"dominant-baseline:hanging;font-size:12px;font-weight:normal;stroke:none;text-anchor:middle\" transform=\"translate(300.64102564102564,6)translate(0,2.5)\"><tspan style=\"dominant-baseline:inherit\">35</tspan></text><text style=\"dominant-baseline:hanging;font-size:12px;font-weight:normal;stroke:none;text-anchor:middle\" transform=\"translate(343.58974358974353,6)translate(0,2.5)\"><tspan style=\"dominant-baseline:inherit\">40</tspan></text><text style=\"dominant-baseline:hanging;font-size:12px;font-weight:normal;stroke:none;text-anchor:middle\" transform=\"translate(386.5384615384615,6)translate(0,2.5)\"><tspan style=\"dominant-baseline:inherit\">45</tspan></text><text style=\"dominant-baseline:hanging;font-size:12px;font-weight:normal;stroke:none;text-anchor:middle\" transform=\"translate(429.4871794871795,6)translate(0,2.5)\"><tspan style=\"dominant-baseline:inherit\">50</tspan></text><text style=\"dominant-baseline:hanging;font-size:12px;font-weight:normal;stroke:none;text-anchor:middle\" transform=\"translate(472.43589743589746,6)translate(0,2.5)\"><tspan style=\"dominant-baseline:inherit\">55</tspan></text><text style=\"dominant-baseline:hanging;font-size:12px;font-weight:normal;stroke:none;text-anchor:middle\" transform=\"translate(515.3846153846154,6)translate(0,2.5)\"><tspan style=\"dominant-baseline:inherit\">60</tspan></text><text style=\"dominant-baseline:hanging;font-size:12px;font-weight:normal;stroke:none;text-anchor:middle\" transform=\"translate(558.3333333333334,6)translate(0,2.5)\"><tspan style=\"dominant-baseline:inherit\">65</tspan></text><text style=\"dominant-baseline:hanging;font-size:12px;font-weight:normal;stroke:none;text-anchor:middle\" transform=\"translate(601.2820512820513,6)translate(0,2.5)\"><tspan style=\"dominant-baseline:inherit\">70</tspan></text><text style=\"dominant-baseline:hanging;font-size:12px;font-weight:normal;stroke:none;text-anchor:middle\" transform=\"translate(644.2307692307693,6)translate(0,2.5)\"><tspan style=\"dominant-baseline:inherit\">75</tspan></text></g><text style=\"dominant-baseline:middle;font-size:16px;font-weight:bold;stroke:none;text-anchor:middle\" transform=\"translate(335.0,0)translate(0,40.0)\"><tspan style=\"dominant-baseline:inherit\">Position along RAD locus</tspan></text></g><g class=\"toyplot-axes-Axis\" id=\"t61377129e9974b8fae8f32aefbf3d9bc\" transform=\"translate(65.0,235.0) rotate(-90.0) translate(0,-10.0)\"><line style=\"\" x1=\"0\" x2=\"170.0\" y1=\"0\" y2=\"0\"></line><g><line style=\"\" x1=\"0.0\" x2=\"0.0\" y1=\"-5.0\" y2=\"0\"></line><line style=\"\" x1=\"51.71889260724064\" x2=\"51.71889260724064\" y1=\"-5.0\" y2=\"0\"></line><line style=\"\" x1=\"103.43778521448128\" x2=\"103.43778521448128\" y1=\"-5.0\" y2=\"0\"></line><line style=\"\" x1=\"155.15667782172193\" x2=\"155.15667782172193\" y1=\"-5.0\" y2=\"0\"></line></g><g><text style=\"dominant-baseline:alphabetic;font-size:12px;font-weight:normal;stroke:none;text-anchor:middle\" transform=\"translate(0.0,-6)translate(0,-5.0)\"><tspan style=\"dominant-baseline:inherit\">0</tspan></text><text style=\"dominant-baseline:alphabetic;font-size:12px;font-weight:normal;stroke:none;text-anchor:middle\" transform=\"translate(51.71889260724064,-6)translate(0,-5.0)\"><tspan style=\"dominant-baseline:inherit\">1000</tspan></text><text style=\"dominant-baseline:alphabetic;font-size:12px;font-weight:normal;stroke:none;text-anchor:middle\" transform=\"translate(103.43778521448128,-6)translate(0,-5.0)\"><tspan style=\"dominant-baseline:inherit\">2000</tspan></text><text style=\"dominant-baseline:alphabetic;font-size:12px;font-weight:normal;stroke:none;text-anchor:middle\" transform=\"translate(155.15667782172193,-6)translate(0,-5.0)\"><tspan style=\"dominant-baseline:inherit\">3000</tspan></text></g><text style=\"dominant-baseline:middle;font-size:16px;font-weight:bold;stroke:none;text-anchor:middle\" transform=\"translate(85.0,0)translate(0,-40.0)\"><tspan style=\"dominant-baseline:inherit\">N variables sites</tspan></text></g></g></svg><div class=\"toyplot-controls\"><ul class=\"toyplot-mark-popup\" onmouseleave=\"this.style.visibility='hidden'\" style=\"background:rgba(0%,0%,0%,0.75);border:0;border-radius:6px;color:white;cursor:default;list-style:none;margin:0;padding:5px;position:fixed;visibility:hidden\"><li class=\"toyplot-mark-popup-title\" style=\"color:lightgray;cursor:default;padding:5px;list-style:none;margin:0;\"></li><li class=\"toyplot-mark-popup-save-csv\" onmouseout=\"this.style.color='white';this.style.background='steelblue'\" onmouseover=\"this.style.color='steelblue';this.style.background='white'\" style=\"border-radius:3px;padding:5px;list-style:none;margin:0;\">Save as .csv</li></ul><script>\n",
       "(function()\n",
       "{\n",
       "  var data_tables = [{\"data\": [[0.0, 1.0, 2.0, 3.0, 4.0, 5.0, 6.0, 7.0, 8.0, 9.0, 10.0, 11.0, 12.0, 13.0, 14.0, 15.0, 16.0, 17.0, 18.0, 19.0, 20.0, 21.0, 22.0, 23.0, 24.0, 25.0, 26.0, 27.0, 28.0, 29.0, 30.0, 31.0, 32.0, 33.0, 34.0, 35.0, 36.0, 37.0, 38.0, 39.0, 40.0, 41.0, 42.0, 43.0, 44.0, 45.0, 46.0, 47.0, 48.0, 49.0, 50.0, 51.0, 52.0, 53.0, 54.0, 55.0, 56.0, 57.0, 58.0, 59.0, 60.0, 61.0, 62.0, 63.0, 64.0, 65.0, 66.0, 67.0, 68.0, 69.0, 70.0, 71.0, 72.0, 73.0, 74.0, 75.0, 76.0, 77.0, 78.0], [0.0, 0.0, 0.0, 0.0, 0.0, 0.0, 0.0, 0.0, 0.0, 0.0, 0.0, 0.0, 0.0, 0.0, 0.0, 0.0, 0.0, 0.0, 0.0, 0.0, 0.0, 0.0, 0.0, 0.0, 0.0, 0.0, 0.0, 0.0, 0.0, 0.0, 0.0, 0.0, 0.0, 0.0, 0.0, 0.0, 0.0, 0.0, 0.0, 0.0, 0.0, 0.0, 0.0, 0.0, 0.0, 0.0, 0.0, 0.0, 0.0, 0.0, 0.0, 0.0, 0.0, 0.0, 0.0, 0.0, 0.0, 0.0, 0.0, 0.0, 0.0, 0.0, 0.0, 0.0, 0.0, 0.0, 0.0, 0.0, 0.0, 0.0, 0.0, 0.0, 0.0, 0.0, 0.0, 0.0, 0.0, 0.0, 0.0], [0.0, 0.0, 0.0, 0.0, 0.0, 1342.0, 1436.0, 1519.0, 1558.0, 1667.0, 1668.0, 1613.0, 1608.0, 1599.0, 1650.0, 1690.0, 1608.0, 1706.0, 1732.0, 1747.0, 1663.0, 1698.0, 1628.0, 1639.0, 1656.0, 1686.0, 1720.0, 1737.0, 1687.0, 1661.0, 1674.0, 1742.0, 1716.0, 1743.0, 1749.0, 1697.0, 1734.0, 1735.0, 1746.0, 1781.0, 1860.0, 1693.0, 1775.0, 1730.0, 1722.0, 1749.0, 1823.0, 1771.0, 1765.0, 1768.0, 1841.0, 1839.0, 1804.0, 1787.0, 1819.0, 1829.0, 1837.0, 1929.0, 1959.0, 1889.0, 1981.0, 2001.0, 2009.0, 2157.0, 2281.0, 2266.0, 2214.0, 2442.0, 2516.0, 2706.0, 2756.0, 2884.0, 3110.0, 3287.0, 761.0, 390.0, 223.0, 115.0, 34.0]], \"title\": \"Fill Data\", \"names\": [\"x\", \"y0\", \"y1\"], \"id\": \"tc48b309d7f344adebb7de7b727540a2f\", \"filename\": \"toyplot\"}, {\"data\": [[0.0, 1.0, 2.0, 3.0, 4.0, 5.0, 6.0, 7.0, 8.0, 9.0, 10.0, 11.0, 12.0, 13.0, 14.0, 15.0, 16.0, 17.0, 18.0, 19.0, 20.0, 21.0, 22.0, 23.0, 24.0, 25.0, 26.0, 27.0, 28.0, 29.0, 30.0, 31.0, 32.0, 33.0, 34.0, 35.0, 36.0, 37.0, 38.0, 39.0, 40.0, 41.0, 42.0, 43.0, 44.0, 45.0, 46.0, 47.0, 48.0, 49.0, 50.0, 51.0, 52.0, 53.0, 54.0, 55.0, 56.0, 57.0, 58.0, 59.0, 60.0, 61.0, 62.0, 63.0, 64.0, 65.0, 66.0, 67.0, 68.0, 69.0, 70.0, 71.0, 72.0, 73.0, 74.0, 75.0, 76.0, 77.0, 78.0], [0.0, 0.0, 0.0, 0.0, 0.0, 0.0, 0.0, 0.0, 0.0, 0.0, 0.0, 0.0, 0.0, 0.0, 0.0, 0.0, 0.0, 0.0, 0.0, 0.0, 0.0, 0.0, 0.0, 0.0, 0.0, 0.0, 0.0, 0.0, 0.0, 0.0, 0.0, 0.0, 0.0, 0.0, 0.0, 0.0, 0.0, 0.0, 0.0, 0.0, 0.0, 0.0, 0.0, 0.0, 0.0, 0.0, 0.0, 0.0, 0.0, 0.0, 0.0, 0.0, 0.0, 0.0, 0.0, 0.0, 0.0, 0.0, 0.0, 0.0, 0.0, 0.0, 0.0, 0.0, 0.0, 0.0, 0.0, 0.0, 0.0, 0.0, 0.0, 0.0, 0.0, 0.0, 0.0, 0.0, 0.0, 0.0, 0.0], [0.0, 0.0, 0.0, 0.0, 0.0, 950.0, 1074.0, 1046.0, 1019.0, 1089.0, 1126.0, 1082.0, 1213.0, 1169.0, 1125.0, 1176.0, 1208.0, 1191.0, 1273.0, 1134.0, 1112.0, 1248.0, 1204.0, 1238.0, 1235.0, 1251.0, 1132.0, 1248.0, 1252.0, 1184.0, 1260.0, 1258.0, 1153.0, 1237.0, 1214.0, 1205.0, 1237.0, 1245.0, 1287.0, 1265.0, 1191.0, 1218.0, 1291.0, 1264.0, 1245.0, 1277.0, 1234.0, 1298.0, 1309.0, 1219.0, 1287.0, 1286.0, 1297.0, 1252.0, 1315.0, 1283.0, 1285.0, 1426.0, 1346.0, 1425.0, 1406.0, 1400.0, 1470.0, 1536.0, 1501.0, 1555.0, 1709.0, 1726.0, 1867.0, 2014.0, 2190.0, 2283.0, 2399.0, 2690.0, 536.0, 255.0, 169.0, 71.0, 24.0]], \"title\": \"Fill Data\", \"names\": [\"x\", \"y0\", \"y1\"], \"id\": \"t3a4cb49ac9994a60b24245aaf87bd617\", \"filename\": \"toyplot\"}];\n",
       "\n",
       "  function save_csv(data_table)\n",
       "  {\n",
       "    var uri = \"data:text/csv;charset=utf-8,\";\n",
       "    uri += data_table.names.join(\",\") + \"\\n\";\n",
       "    for(var i = 0; i != data_table.data[0].length; ++i)\n",
       "    {\n",
       "      for(var j = 0; j != data_table.data.length; ++j)\n",
       "      {\n",
       "        if(j)\n",
       "          uri += \",\";\n",
       "        uri += data_table.data[j][i];\n",
       "      }\n",
       "      uri += \"\\n\";\n",
       "    }\n",
       "    uri = encodeURI(uri);\n",
       "\n",
       "    var link = document.createElement(\"a\");\n",
       "    if(typeof link.download != \"undefined\")\n",
       "    {\n",
       "      link.href = uri;\n",
       "      link.style = \"visibility:hidden\";\n",
       "      link.download = data_table.filename + \".csv\";\n",
       "\n",
       "      document.body.appendChild(link);\n",
       "      link.click();\n",
       "      document.body.removeChild(link);\n",
       "    }\n",
       "    else\n",
       "    {\n",
       "      window.open(uri);\n",
       "    }\n",
       "  }\n",
       "\n",
       "  function open_popup(data_table)\n",
       "  {\n",
       "    return function(e)\n",
       "    {\n",
       "      var popup = document.querySelector(\"#t681778a08ed6494cbbb286f57baf5727 .toyplot-mark-popup\");\n",
       "      popup.querySelector(\".toyplot-mark-popup-title\").innerHTML = data_table.title;\n",
       "      popup.querySelector(\".toyplot-mark-popup-save-csv\").onclick = function() { popup.style.visibility = \"hidden\"; save_csv(data_table); }\n",
       "      popup.style.left = (e.clientX - 50) + \"px\";\n",
       "      popup.style.top = (e.clientY - 20) + \"px\";\n",
       "      popup.style.visibility = \"visible\";\n",
       "      e.stopPropagation();\n",
       "      e.preventDefault();\n",
       "    }\n",
       "\n",
       "  }\n",
       "\n",
       "  for(var i = 0; i != data_tables.length; ++i)\n",
       "  {\n",
       "    var data_table = data_tables[i];\n",
       "    var event_target = document.querySelector(\"#\" + data_table.id);\n",
       "    event_target.oncontextmenu = open_popup(data_table);\n",
       "  }\n",
       "})();\n",
       "</script><script>\n",
       "(function()\n",
       "{\n",
       "  var axes = {\"t19754d32c17743b4b55432352f76d575\": {\"x\": [{\"domain\": {\"bounds\": {\"max\": Infinity, \"min\": -Infinity}, \"max\": 78.0, \"min\": 0.0}, \"range\": {\"bounds\": {\"max\": Infinity, \"min\": -Infinity}, \"max\": 735.0, \"min\": 65.0}, \"scale\": \"linear\"}], \"y\": [{\"domain\": {\"bounds\": {\"max\": Infinity, \"min\": -Infinity}, \"max\": 3287.0, \"min\": 0.0}, \"range\": {\"bounds\": {\"max\": -Infinity, \"min\": Infinity}, \"max\": 65.0, \"min\": 235.0}, \"scale\": \"linear\"}]}};\n",
       "\n",
       "  function sign(x)\n",
       "  {\n",
       "    return x < 0 ? -1 : x > 0 ? 1 : 0;\n",
       "  }\n",
       "\n",
       "  function _mix(a, b, amount)\n",
       "  {\n",
       "    return ((1.0 - amount) * a) + (amount * b);\n",
       "  }\n",
       "\n",
       "  function _log(x, base)\n",
       "  {\n",
       "    return Math.log(Math.abs(x)) / Math.log(base);\n",
       "  }\n",
       "\n",
       "  function _in_range(a, x, b)\n",
       "  {\n",
       "    var left = Math.min(a, b);\n",
       "    var right = Math.max(a, b);\n",
       "    return left <= x && x <= right;\n",
       "  }\n",
       "\n",
       "  function to_domain(projection, range)\n",
       "  {\n",
       "    for(var i = 0; i != projection.length; ++i)\n",
       "    {\n",
       "      var segment = projection[i];\n",
       "      if(_in_range(segment.range.bounds.min, range, segment.range.bounds.max))\n",
       "      {\n",
       "        if(segment.scale == \"linear\")\n",
       "        {\n",
       "          var amount = (range - segment.range.min) / (segment.range.max - segment.range.min);\n",
       "          return _mix(segment.domain.min, segment.domain.max, amount)\n",
       "        }\n",
       "        else if(segment.scale[0] == \"log\")\n",
       "        {\n",
       "          var amount = (range - segment.range.min) / (segment.range.max - segment.range.min);\n",
       "          var base = segment.scale[1];\n",
       "          return sign(segment.domain.min) * Math.pow(base, _mix(_log(segment.domain.min, base), _log(segment.domain.max, base), amount));\n",
       "        }\n",
       "      }\n",
       "    }\n",
       "  }\n",
       "\n",
       "  // Compute mouse coordinates relative to a DOM object, with thanks to d3js.org, where this code originated.\n",
       "  function d3_mousePoint(container, e)\n",
       "  {\n",
       "    if (e.changedTouches) e = e.changedTouches[0];\n",
       "    var svg = container.ownerSVGElement || container;\n",
       "    if (svg.createSVGPoint) {\n",
       "      var point = svg.createSVGPoint();\n",
       "      point.x = e.clientX, point.y = e.clientY;\n",
       "      point = point.matrixTransform(container.getScreenCTM().inverse());\n",
       "      return [point.x, point.y];\n",
       "    }\n",
       "    var rect = container.getBoundingClientRect();\n",
       "    return [e.clientX - rect.left - container.clientLeft, e.clientY - rect.top - container.clientTop];\n",
       "  };\n",
       "\n",
       "  function display_coordinates(e)\n",
       "  {\n",
       "    var dom_axes = e.currentTarget.parentElement;\n",
       "    var data = axes[dom_axes.id];\n",
       "\n",
       "    point = d3_mousePoint(e.target, e);\n",
       "    var x = Number(to_domain(data[\"x\"], point[0])).toFixed(2);\n",
       "    var y = Number(to_domain(data[\"y\"], point[1])).toFixed(2);\n",
       "\n",
       "    var coordinates = dom_axes.querySelectorAll(\".toyplot-coordinates\");\n",
       "    for(var i = 0; i != coordinates.length; ++i)\n",
       "    {\n",
       "      coordinates[i].style.visibility = \"visible\";\n",
       "      coordinates[i].querySelector(\"text\").textContent = \"x=\" + x + \" y=\" + y;\n",
       "    }\n",
       "  }\n",
       "\n",
       "  function clear_coordinates(e)\n",
       "  {\n",
       "    var dom_axes = e.currentTarget.parentElement;\n",
       "    var coordinates = dom_axes.querySelectorAll(\".toyplot-coordinates\");\n",
       "    for(var i = 0; i != coordinates.length; ++i)\n",
       "      coordinates[i].style.visibility = \"hidden\";\n",
       "  }\n",
       "\n",
       "  for(var axes_id in axes)\n",
       "  {\n",
       "    var event_target = document.querySelector(\"#\" + axes_id + \" .toyplot-coordinate-events\");\n",
       "    event_target.onmousemove = display_coordinates;\n",
       "    event_target.onmouseout = clear_coordinates;\n",
       "  }\n",
       "})();\n",
       "</script></div></div>"
      ],
      "text/plain": [
       "<toyplot.canvas.Canvas at 0x7f489d676690>"
      ]
     },
     "execution_count": 167,
     "metadata": {},
     "output_type": "execute_result"
    }
   ],
   "source": [
    "canvas = SNP_position_plot(distvar, distpis)\n",
    "## save fig\n",
    "toyplot.html.render(c, 'snp_positions.html')\n",
    "## show fig\n",
    "canvas"
   ]
  },
  {
   "cell_type": "markdown",
   "metadata": {},
   "source": [
    "### Possible reasons for the uptick in SNPs towards the end of reads: \n",
    "+ Sequencing error rate increases along the length of reads\n",
    "+ Poor muscle alignment at the end of reads\n",
    "\n",
    "I think the more likely explanation is that poor alignment towards the end of reads is causing the excess SNPs for two reasons. First, if it was sequencing errors than we would expect an excess of autapomorphies at the end of reads equally or more so than we observe synapomorphies, but that is not the case. And second, increasing the minimum depth does fix the problem. "
   ]
  },
  {
   "cell_type": "markdown",
   "metadata": {},
   "source": [
    "### Apply a more stringent edge filter\n",
    "Positive values of the edge filter "
   ]
  },
  {
   "cell_type": "code",
   "execution_count": null,
   "metadata": {
    "collapsed": true
   },
   "outputs": [],
   "source": [
    "## make a new branch of cyatho-d6-min4\n",
    "data5 = data1.branch('cyatho-d6-min4-trim')\n",
    "\n",
    "## edge filter order is (R1left, R1right, R2left, R2right)\n",
    "## we set the R1right to -10, which trims 10 bases from the right side\n",
    "data5.set_params('edge_filter', (\"4, -10, 4, 4\"))\n",
    "\n",
    "## run step7 to fill new data base w/ filters\n",
    "data5.run('7', force=True)"
   ]
  },
  {
   "cell_type": "code",
   "execution_count": 169,
   "metadata": {
    "collapsed": false
   },
   "outputs": [
    {
     "name": "stdout",
     "output_type": "stream",
     "text": [
      "  loading Assembly: cyatho-d12-min4\n",
      "  from saved path: ~/Downloads/pedicularis/cyatho-d12-min4.json\n"
     ]
    }
   ],
   "source": [
    "data5 = ip.load_json(\"~/Downloads/pedicularis/cyatho-d12-min4\")"
   ]
  },
  {
   "cell_type": "code",
   "execution_count": 170,
   "metadata": {
    "collapsed": false
   },
   "outputs": [
    {
     "name": "stdout",
     "output_type": "stream",
     "text": [
      "prefilter cyatho-d12-min4\n",
      "shape (54652, 150, 2) = (nloci, locus_len, [var,pis])\n",
      "total vars = 158199\n",
      "postfilter cyatho-d12-min4\n",
      "shape (29859, 150, 2) = (nloci, locus_len, [var,pis])\n",
      "total vars = 86868\n",
      "[   0    0    0    0    0  922 1050 1022  982 1066 1108 1018 1090 1089 1104\n",
      " 1134 1082 1085 1182 1131 1133 1134 1127 1119 1157 1168 1133 1150 1174 1082\n",
      " 1162 1161 1084 1178 1186 1146 1128 1151 1149 1177 1218 1142 1196 1146 1172\n",
      " 1226 1211 1167 1215 1181 1239 1244 1188 1180 1217 1242 1222 1297 1321 1245\n",
      " 1313 1337 1322 1404 1436 1507 1519 1603 1624 1727 1871 1878 2041 2199  377\n",
      "  182  132   78   41   24   16    4]\n",
      "[   0    0    0    0    0  428  503  479  484  544  535  522  608  554  523\n",
      "  556  595  588  628  535  535  584  579  576  576  541  551  629  555  597\n",
      "  584  602  543  596  585  540  584  591  616  601  578  588  597  597  553\n",
      "  591  599  606  631  580  617  623  625  594  646  593  606  672  599  673\n",
      "  657  659  675  717  721  686  800  776  844  957  954 1024 1120 1182  198\n",
      "  100   65   33   20   11    6    1]\n",
      "maxlen =  81\n"
     ]
    }
   ],
   "source": [
    "## filter the snps\n",
    "fsnps = filter_snps(data5)\n",
    "\n",
    "## trim non-data \n",
    "maxend = np.where(fsnps[:, :, :].sum(axis=0).sum(axis=1) != 0)[0].max()\n",
    "\n",
    "## all variables (including autapomorphies)\n",
    "distvar = np.sum(fsnps[:, :maxend+1, 0].astype(np.int), axis=0)\n",
    "print(distvar)\n",
    "\n",
    "## synapomorphies (just pis)\n",
    "distpis = fsnps[:, :maxend+1, 1].sum(axis=0)\n",
    "print(distpis)\n",
    "\n",
    "## how long is the longest seq\n",
    "print 'maxlen = ', maxend"
   ]
  },
  {
   "cell_type": "code",
   "execution_count": 171,
   "metadata": {
    "collapsed": false
   },
   "outputs": [
    {
     "data": {
      "image/png": "[encoded data removed]",
      "text/html": [
       "<div align=\"center\" class=\"toyplot\" id=\"tf328e5f59c5c47d387447380f41b0d64\"><svg height=\"300.0px\" id=\"t84d866f08cc340d89b960ab943400675\" preserveAspectRatio=\"xMidYMid meet\" style=\"background-color:transparent;fill:rgb(16.1%,15.3%,14.1%);fill-opacity:1.0;font-family:Helvetica;font-size:12px;opacity:1.0;stroke:rgb(16.1%,15.3%,14.1%);stroke-opacity:1.0;stroke-width:1.0\" viewBox=\"0 0 800.0 300.0\" width=\"800.0px\" xmlns=\"http://www.w3.org/2000/svg\" xmlns:toyplot=\"http://www.sandia.gov/toyplot\"><g class=\"toyplot-axes-Cartesian\" id=\"t4530e23fc63f45ba8c0cbe0d2ac685e2\"><clipPath id=\"t55c47075d6624398a9e39c1a8058561a\"><rect height=\"190.0\" width=\"690.0\" x=\"55.0\" y=\"55.0\"></rect></clipPath><g class=\"toyplot-coordinate-events\" clip-path=\"url(#t55c47075d6624398a9e39c1a8058561a)\" style=\"cursor:crosshair\"><rect height=\"190.0\" style=\"pointer-events:all;visibility:hidden\" width=\"690.0\" x=\"55.0\" y=\"55.0\"></rect><g class=\"toyplot-mark-FillBoundaries\" id=\"t6ae774e7eb014c48940aac644107468f\" style=\"stroke:none\"><polygon points=\"65.0,235.0 73.271604938271608,235.0 81.543209876543216,235.0 89.81481481481481,235.0 98.086419753086432,235.0 106.35802469135803,235.0 114.62962962962962,235.0 122.90123456790124,235.0 131.17283950617283,235.0 139.44444444444443,235.0 147.71604938271605,235.0 155.98765432098764,235.0 164.25925925925927,235.0 172.53086419753086,235.0 180.80246913580245,235.0 189.07407407407408,235.0 197.34567901234567,235.0 205.61728395061726,235.0 213.88888888888886,235.0 222.16049382716048,235.0 230.4320987654321,235.0 238.7037037037037,235.0 246.97530864197529,235.0 255.24691358024691,235.0 263.51851851851853,235.0 271.79012345679013,235.0 280.06172839506172,235.0 288.33333333333331,235.0 296.60493827160491,235.0 304.87654320987656,235.0 313.14814814814815,235.0 321.41975308641975,235.0 329.69135802469134,235.0 337.96296296296293,235.0 346.23456790123453,235.0 354.50617283950612,235.0 362.77777777777771,235.0 371.04938271604937,235.0 379.32098765432096,235.0 387.59259259259255,235.0 395.86419753086415,235.0 404.13580246913585,235.0 412.40740740740739,235.0 420.67901234567904,235.0 428.95061728395058,235.0 437.22222222222229,235.0 445.49382716049382,235.0 453.76543209876547,235.0 462.03703703703701,235.0 470.30864197530866,235.0 478.58024691358025,235.0 486.85185185185185,235.0 495.12345679012344,235.0 503.39506172839504,235.0 511.66666666666669,235.0 519.93827160493822,235.0 528.20987654320982,235.0 536.48148148148152,235.0 544.75308641975312,235.0 553.02469135802471,235.0 561.2962962962963,235.0 569.5679012345679,235.0 577.83950617283949,235.0 586.11111111111109,235.0 594.38271604938279,235.0 602.65432098765427,235.0 610.92592592592587,235.0 619.19753086419746,235.0 627.46913580246905,235.0 635.74074074074076,235.0 644.01234567901224,235.0 652.28395061728395,235.0 660.55555555555543,235.0 668.82716049382714,235.0 677.09876543209873,235.0 685.37037037037032,235.0 693.64197530864192,235.0 701.91358024691363,235.0 710.18518518518511,235.0 718.45679012345681,235.0 726.72839506172829,235.0 735.0,235.0 735.0,234.69076853115052 726.72839506172829,233.76307412460207 718.45679012345681,233.14461118690315 710.18518518518511,231.83037744429285 701.91358024691363,228.9699863574352 693.64197530864192,224.79536152796726 685.37037037037032,220.92996816734879 677.09876543209873,205.85493406093678 668.82716049382714,65.0 660.55555555555543,77.214643019554345 652.28395061728395,89.815825375170533 644.01234567901224,90.356980445657115 635.74074074074076,101.48931332423828 627.46913580246905,109.45202364711233 619.19753086419746,111.07548885857207 610.92592592592587,117.5693497044111 602.65432098765427,118.49704411095954 594.38271604938279,123.98590268303774 586.11111111111109,126.45975443383358 577.83950617283949,132.79899954524785 569.5679012345679,131.63938153706229 561.2962962962963,133.49477035015917 553.02469135802471,138.75170532060028 544.75308641975312,132.87630741246019 536.48148148148152,134.73169622555707 528.20987654320982,140.52978626648476 519.93827160493822,138.98362892223739 511.66666666666669,140.91632560254661 503.39506172839504,143.77671668940428 495.12345679012344,143.15825375170533 486.85185185185185,138.82901318781262 478.58024691358025,139.21555252387446 470.30864197530866,143.69940882219191 462.03703703703701,141.07094133697137 453.76543209876547,144.78171896316508 445.49382716049382,141.38017280582085 437.22222222222229,140.22055479763529 428.95061728395058,144.39517962710323 420.67901234567904,146.40518417462482 412.40740740740739,142.53979081400638 404.13580246913585,146.7144156434743 395.86419753086415,140.83901773533424 387.59259259259255,144.00864029104139 379.32098765432096,146.17326057298772 371.04938271604937,146.01864483856298 362.77777777777771,147.79672578444749 354.50617283950612,146.40518417462482 346.23456790123453,143.31286948613007 337.96296296296293,143.93133242382902 329.69135802469134,151.19827194179175 321.41975308641975,145.24556616643929 313.14814814814815,145.16825829922692 304.87654320987656,151.35288767621645 296.60493827160491,144.24056389267849 288.33333333333331,146.09595270577535 280.06172839506172,147.41018644838564 271.79012345679013,144.70441109595271 263.51851851851853,145.55479763528876 255.24691358024691,148.49249658935881 246.97530864197529,147.87403365165983 238.7037037037037,147.33287858117328 230.4320987654321,147.41018644838564 222.16049382716048,147.56480218281035 213.88888888888886,143.62210095497954 205.61728395061726,151.12096407457932 197.34567901234567,151.35288767621645 189.07407407407408,147.33287858117328 180.80246913580245,149.65211459754434 172.53086419753086,150.8117326057299 164.25925925925927,150.73442473851748 155.98765432098764,156.30059117780809 147.71604938271605,149.34288312869487 139.44444444444443,152.58981355161436 131.17283950617283,159.08367439745336 122.90123456790124,155.99135970895861 114.62962962962962,153.82673942701228 106.35802469135803,163.72214643019555 98.086419753086432,235.0 89.81481481481481,235.0 81.543209876543216,235.0 73.271604938271608,235.0 65.0,235.0\" style=\"fill:rgb(40%,76.1%,64.7%);fill-opacity:1.0;opacity:0.5;stroke:none\"></polygon></g><g class=\"toyplot-mark-FillBoundaries\" id=\"t3902e21323674b649757d7b2e97fdd31\" style=\"stroke:none\"><polygon points=\"65.0,235.0 73.271604938271608,235.0 81.543209876543216,235.0 89.81481481481481,235.0 98.086419753086432,235.0 106.35802469135803,235.0 114.62962962962962,235.0 122.90123456790124,235.0 131.17283950617283,235.0 139.44444444444443,235.0 147.71604938271605,235.0 155.98765432098764,235.0 164.25925925925927,235.0 172.53086419753086,235.0 180.80246913580245,235.0 189.07407407407408,235.0 197.34567901234567,235.0 205.61728395061726,235.0 213.88888888888886,235.0 222.16049382716048,235.0 230.4320987654321,235.0 238.7037037037037,235.0 246.97530864197529,235.0 255.24691358024691,235.0 263.51851851851853,235.0 271.79012345679013,235.0 280.06172839506172,235.0 288.33333333333331,235.0 296.60493827160491,235.0 304.87654320987656,235.0 313.14814814814815,235.0 321.41975308641975,235.0 329.69135802469134,235.0 337.96296296296293,235.0 346.23456790123453,235.0 354.50617283950612,235.0 362.77777777777771,235.0 371.04938271604937,235.0 379.32098765432096,235.0 387.59259259259255,235.0 395.86419753086415,235.0 404.13580246913585,235.0 412.40740740740739,235.0 420.67901234567904,235.0 428.95061728395058,235.0 437.22222222222229,235.0 445.49382716049382,235.0 453.76543209876547,235.0 462.03703703703701,235.0 470.30864197530866,235.0 478.58024691358025,235.0 486.85185185185185,235.0 495.12345679012344,235.0 503.39506172839504,235.0 511.66666666666669,235.0 519.93827160493822,235.0 528.20987654320982,235.0 536.48148148148152,235.0 544.75308641975312,235.0 553.02469135802471,235.0 561.2962962962963,235.0 569.5679012345679,235.0 577.83950617283949,235.0 586.11111111111109,235.0 594.38271604938279,235.0 602.65432098765427,235.0 610.92592592592587,235.0 619.19753086419746,235.0 627.46913580246905,235.0 635.74074074074076,235.0 644.01234567901224,235.0 652.28395061728395,235.0 660.55555555555543,235.0 668.82716049382714,235.0 677.09876543209873,235.0 685.37037037037032,235.0 693.64197530864192,235.0 701.91358024691363,235.0 710.18518518518511,235.0 718.45679012345681,235.0 726.72839506172829,235.0 735.0,235.0 735.0,234.92269213278763 726.72839506172829,234.53615279672579 718.45679012345681,234.14961346066394 710.18518518518511,233.45384265575262 701.91358024691363,232.44884038199183 693.64197530864192,229.97498863119597 685.37037037037032,227.26921327876309 677.09876543209873,219.69304229195089 668.82716049382714,143.62210095497954 660.55555555555543,148.41518872214641 652.28395061728395,155.83674397453387 644.01234567901224,161.24829467939975 635.74074074074076,161.01637107776264 627.46913580246905,169.75216007276035 619.19753086419746,175.00909504320146 610.92592592592587,173.1537062301046 602.65432098765427,181.96680309231468 594.38271604938279,179.26102773988177 586.11111111111109,179.57025920873124 577.83950617283949,182.81718963165073 569.5679012345679,184.05411550704866 561.2962962962963,184.2087312414734 553.02469135802471,182.97180536607547 544.75308641975312,188.69258753979085 536.48148148148152,183.04911323328787 528.20987654320982,188.15143246930421 519.93827160493822,189.15643474306501 511.66666666666669,185.05911778080946 503.39506172839504,189.07912687585269 495.12345679012344,186.68258299226923 486.85185185185185,186.83719872669397 478.58024691358025,187.30104592996818 470.30864197530866,190.1614370168258 462.03703703703701,186.21873578899499 453.76543209876547,188.15143246930421 445.49382716049382,188.69258753979085 437.22222222222229,189.31105047748974 428.95061728395058,192.24874943155982 420.67901234567904,188.84720327421559 412.40740740740739,188.84720327421559 404.13580246913585,189.54297407912685 395.86419753086415,190.31605275125057 387.59259259259255,188.53797180536606 379.32098765432096,187.37835379718052 371.04938271604937,189.31105047748974 362.77777777777771,189.85220554797638 354.50617283950612,193.25375170532061 346.23456790123453,189.77489768076396 337.96296296296293,188.9245111414279 329.69135802469134,193.0218281036835 321.41975308641975,188.46066393815374 313.14814814814815,189.85220554797638 304.87654320987656,188.84720327421559 296.60493827160491,192.09413369713505 288.33333333333331,186.37335152341973 280.06172839506172,192.40336516598452 271.79012345679013,193.17644383810821 263.51851851851853,190.4706684856753 255.24691358024691,190.4706684856753 246.97530864197529,190.23874488403823 238.7037037037037,189.85220554797638 230.4320987654321,193.64029104138245 222.16049382716048,193.64029104138245 213.88888888888886,186.45065939063213 205.61728395061726,189.54297407912685 197.34567901234567,189.00181900864027 189.07407407407408,192.01682582992268 180.80246913580245,194.56798544793088 172.53086419753086,192.17144156434742 164.25925925925927,187.9968167348795 155.98765432098764,194.64529331514325 147.71604938271605,193.64029104138245 139.44444444444443,192.94452023647111 131.17283950617283,197.58299226921329 122.90123456790124,197.96953160527514 114.62962962962962,196.11414279217828 106.35802469135803,201.91223283310592 98.086419753086432,235.0 89.81481481481481,235.0 81.543209876543216,235.0 73.271604938271608,235.0 65.0,235.0\" style=\"fill:rgb(98.8%,55.3%,38.4%);fill-opacity:1.0;opacity:0.5;stroke:none\"></polygon></g><g class=\"toyplot-mark-AxisLines\" id=\"tfcb8b740e1b74e74a3dec9cfac85b313\" style=\"stroke-dasharray:4, 4\"><g class=\"toyplot-Series\"><line class=\"toyplot-Datum\" style=\"opacity:0.9;stroke:rgb(16.1%,15.3%,14.1%);stroke-dasharray:4, 4;stroke-opacity:1.0\" x1=\"65.0\" x2=\"735.0\" y1=\"145.78672123692587\" y2=\"145.78672123692587\"></line></g></g><g class=\"toyplot-mark-AxisLines\" id=\"tbb75ecd69e894a308524ec8cb07a79bc\" style=\"stroke-dasharray:4, 4\"><g class=\"toyplot-Series\"><line class=\"toyplot-Datum\" style=\"opacity:0.9;stroke:rgb(16.1%,15.3%,14.1%);stroke-dasharray:4, 4;stroke-opacity:1.0\" x1=\"65.0\" x2=\"735.0\" y1=\"189.54297407912685\" y2=\"189.54297407912685\"></line></g></g></g><g class=\"toyplot-coordinates\" style=\"visibility:hidden\"><rect height=\"14.0\" style=\"fill:rgb(100%,100%,100%);fill-opacity:1.0;opacity:0.75;stroke:none\" width=\"90.0\" x=\"635.0\" y=\"75.0\"></rect><text style=\"alignment-baseline:middle;font-size:10px;font-weight:normal;stroke:none;text-anchor:middle\" x=\"680.0\" y=\"82.0\"></text></g><g class=\"toyplot-axes-Axis\" id=\"t883d6ca830c44b0fa63349471c4365f6\" transform=\"translate(65.0,235.0) rotate(0.0) translate(0,10.0)\"><line style=\"\" x1=\"0\" x2=\"670.0\" y1=\"0\" y2=\"0\"></line><g><line style=\"\" x1=\"0.0\" x2=\"0.0\" y1=\"0\" y2=\"5.0\"></line><line style=\"\" x1=\"41.358024691358025\" x2=\"41.358024691358025\" y1=\"0\" y2=\"5.0\"></line><line style=\"\" x1=\"82.71604938271605\" x2=\"82.71604938271605\" y1=\"0\" y2=\"5.0\"></line><line style=\"\" x1=\"124.07407407407406\" x2=\"124.07407407407406\" y1=\"0\" y2=\"5.0\"></line><line style=\"\" x1=\"165.4320987654321\" x2=\"165.4320987654321\" y1=\"0\" y2=\"5.0\"></line><line style=\"\" x1=\"206.7901234567901\" x2=\"206.7901234567901\" y1=\"0\" y2=\"5.0\"></line><line style=\"\" x1=\"248.14814814814812\" x2=\"248.14814814814812\" y1=\"0\" y2=\"5.0\"></line><line style=\"\" x1=\"289.5061728395062\" x2=\"289.5061728395062\" y1=\"0\" y2=\"5.0\"></line><line style=\"\" x1=\"330.8641975308642\" x2=\"330.8641975308642\" y1=\"0\" y2=\"5.0\"></line><line style=\"\" x1=\"372.22222222222223\" x2=\"372.22222222222223\" y1=\"0\" y2=\"5.0\"></line><line style=\"\" x1=\"413.5802469135802\" x2=\"413.5802469135802\" y1=\"0\" y2=\"5.0\"></line><line style=\"\" x1=\"454.9382716049383\" x2=\"454.9382716049383\" y1=\"0\" y2=\"5.0\"></line><line style=\"\" x1=\"496.29629629629625\" x2=\"496.29629629629625\" y1=\"0\" y2=\"5.0\"></line><line style=\"\" x1=\"537.6543209876543\" x2=\"537.6543209876543\" y1=\"0\" y2=\"5.0\"></line><line style=\"\" x1=\"579.0123456790124\" x2=\"579.0123456790124\" y1=\"0\" y2=\"5.0\"></line><line style=\"\" x1=\"620.3703703703703\" x2=\"620.3703703703703\" y1=\"0\" y2=\"5.0\"></line><line style=\"\" x1=\"661.7283950617284\" x2=\"661.7283950617284\" y1=\"0\" y2=\"5.0\"></line></g><g><text style=\"dominant-baseline:hanging;font-size:12px;font-weight:normal;stroke:none;text-anchor:middle\" transform=\"translate(0.0,6)translate(0,2.5)\"><tspan style=\"dominant-baseline:inherit\">0</tspan></text><text style=\"dominant-baseline:hanging;font-size:12px;font-weight:normal;stroke:none;text-anchor:middle\" transform=\"translate(41.358024691358025,6)translate(0,2.5)\"><tspan style=\"dominant-baseline:inherit\">5</tspan></text><text style=\"dominant-baseline:hanging;font-size:12px;font-weight:normal;stroke:none;text-anchor:middle\" transform=\"translate(82.71604938271605,6)translate(0,2.5)\"><tspan style=\"dominant-baseline:inherit\">10</tspan></text><text style=\"dominant-baseline:hanging;font-size:12px;font-weight:normal;stroke:none;text-anchor:middle\" transform=\"translate(124.07407407407406,6)translate(0,2.5)\"><tspan style=\"dominant-baseline:inherit\">15</tspan></text><text style=\"dominant-baseline:hanging;font-size:12px;font-weight:normal;stroke:none;text-anchor:middle\" transform=\"translate(165.4320987654321,6)translate(0,2.5)\"><tspan style=\"dominant-baseline:inherit\">20</tspan></text><text style=\"dominant-baseline:hanging;font-size:12px;font-weight:normal;stroke:none;text-anchor:middle\" transform=\"translate(206.7901234567901,6)translate(0,2.5)\"><tspan style=\"dominant-baseline:inherit\">25</tspan></text><text style=\"dominant-baseline:hanging;font-size:12px;font-weight:normal;stroke:none;text-anchor:middle\" transform=\"translate(248.14814814814812,6)translate(0,2.5)\"><tspan style=\"dominant-baseline:inherit\">30</tspan></text><text style=\"dominant-baseline:hanging;font-size:12px;font-weight:normal;stroke:none;text-anchor:middle\" transform=\"translate(289.5061728395062,6)translate(0,2.5)\"><tspan style=\"dominant-baseline:inherit\">35</tspan></text><text style=\"dominant-baseline:hanging;font-size:12px;font-weight:normal;stroke:none;text-anchor:middle\" transform=\"translate(330.8641975308642,6)translate(0,2.5)\"><tspan style=\"dominant-baseline:inherit\">40</tspan></text><text style=\"dominant-baseline:hanging;font-size:12px;font-weight:normal;stroke:none;text-anchor:middle\" transform=\"translate(372.22222222222223,6)translate(0,2.5)\"><tspan style=\"dominant-baseline:inherit\">45</tspan></text><text style=\"dominant-baseline:hanging;font-size:12px;font-weight:normal;stroke:none;text-anchor:middle\" transform=\"translate(413.5802469135802,6)translate(0,2.5)\"><tspan style=\"dominant-baseline:inherit\">50</tspan></text><text style=\"dominant-baseline:hanging;font-size:12px;font-weight:normal;stroke:none;text-anchor:middle\" transform=\"translate(454.9382716049383,6)translate(0,2.5)\"><tspan style=\"dominant-baseline:inherit\">55</tspan></text><text style=\"dominant-baseline:hanging;font-size:12px;font-weight:normal;stroke:none;text-anchor:middle\" transform=\"translate(496.29629629629625,6)translate(0,2.5)\"><tspan style=\"dominant-baseline:inherit\">60</tspan></text><text style=\"dominant-baseline:hanging;font-size:12px;font-weight:normal;stroke:none;text-anchor:middle\" transform=\"translate(537.6543209876543,6)translate(0,2.5)\"><tspan style=\"dominant-baseline:inherit\">65</tspan></text><text style=\"dominant-baseline:hanging;font-size:12px;font-weight:normal;stroke:none;text-anchor:middle\" transform=\"translate(579.0123456790124,6)translate(0,2.5)\"><tspan style=\"dominant-baseline:inherit\">70</tspan></text><text style=\"dominant-baseline:hanging;font-size:12px;font-weight:normal;stroke:none;text-anchor:middle\" transform=\"translate(620.3703703703703,6)translate(0,2.5)\"><tspan style=\"dominant-baseline:inherit\">75</tspan></text><text style=\"dominant-baseline:hanging;font-size:12px;font-weight:normal;stroke:none;text-anchor:middle\" transform=\"translate(661.7283950617284,6)translate(0,2.5)\"><tspan style=\"dominant-baseline:inherit\">80</tspan></text></g><text style=\"dominant-baseline:middle;font-size:16px;font-weight:bold;stroke:none;text-anchor:middle\" transform=\"translate(335.0,0)translate(0,40.0)\"><tspan style=\"dominant-baseline:inherit\">Position along RAD locus</tspan></text></g><g class=\"toyplot-axes-Axis\" id=\"tb97374f9606d47ee8ca33f1ee363eb6d\" transform=\"translate(65.0,235.0) rotate(-90.0) translate(0,-10.0)\"><line style=\"\" x1=\"0\" x2=\"170.0\" y1=\"0\" y2=\"0\"></line><g><line style=\"\" x1=\"0.0\" x2=\"0.0\" y1=\"-5.0\" y2=\"0\"></line><line style=\"\" x1=\"77.30786721236926\" x2=\"77.30786721236926\" y1=\"-5.0\" y2=\"0\"></line><line style=\"\" x1=\"154.61573442473852\" x2=\"154.61573442473852\" y1=\"-5.0\" y2=\"0\"></line></g><g><text style=\"dominant-baseline:alphabetic;font-size:12px;font-weight:normal;stroke:none;text-anchor:middle\" transform=\"translate(0.0,-6)translate(0,-5.0)\"><tspan style=\"dominant-baseline:inherit\">0</tspan></text><text style=\"dominant-baseline:alphabetic;font-size:12px;font-weight:normal;stroke:none;text-anchor:middle\" transform=\"translate(77.30786721236926,-6)translate(0,-5.0)\"><tspan style=\"dominant-baseline:inherit\">1000</tspan></text><text style=\"dominant-baseline:alphabetic;font-size:12px;font-weight:normal;stroke:none;text-anchor:middle\" transform=\"translate(154.61573442473852,-6)translate(0,-5.0)\"><tspan style=\"dominant-baseline:inherit\">2000</tspan></text></g><text style=\"dominant-baseline:middle;font-size:16px;font-weight:bold;stroke:none;text-anchor:middle\" transform=\"translate(85.0,0)translate(0,-40.0)\"><tspan style=\"dominant-baseline:inherit\">N variables sites</tspan></text></g></g></svg><div class=\"toyplot-controls\"><ul class=\"toyplot-mark-popup\" onmouseleave=\"this.style.visibility='hidden'\" style=\"background:rgba(0%,0%,0%,0.75);border:0;border-radius:6px;color:white;cursor:default;list-style:none;margin:0;padding:5px;position:fixed;visibility:hidden\"><li class=\"toyplot-mark-popup-title\" style=\"color:lightgray;cursor:default;padding:5px;list-style:none;margin:0;\"></li><li class=\"toyplot-mark-popup-save-csv\" onmouseout=\"this.style.color='white';this.style.background='steelblue'\" onmouseover=\"this.style.color='steelblue';this.style.background='white'\" style=\"border-radius:3px;padding:5px;list-style:none;margin:0;\">Save as .csv</li></ul><script>\n",
       "(function()\n",
       "{\n",
       "  var data_tables = [{\"data\": [[0.0, 1.0, 2.0, 3.0, 4.0, 5.0, 6.0, 7.0, 8.0, 9.0, 10.0, 11.0, 12.0, 13.0, 14.0, 15.0, 16.0, 17.0, 18.0, 19.0, 20.0, 21.0, 22.0, 23.0, 24.0, 25.0, 26.0, 27.0, 28.0, 29.0, 30.0, 31.0, 32.0, 33.0, 34.0, 35.0, 36.0, 37.0, 38.0, 39.0, 40.0, 41.0, 42.0, 43.0, 44.0, 45.0, 46.0, 47.0, 48.0, 49.0, 50.0, 51.0, 52.0, 53.0, 54.0, 55.0, 56.0, 57.0, 58.0, 59.0, 60.0, 61.0, 62.0, 63.0, 64.0, 65.0, 66.0, 67.0, 68.0, 69.0, 70.0, 71.0, 72.0, 73.0, 74.0, 75.0, 76.0, 77.0, 78.0, 79.0, 80.0, 81.0], [0.0, 0.0, 0.0, 0.0, 0.0, 0.0, 0.0, 0.0, 0.0, 0.0, 0.0, 0.0, 0.0, 0.0, 0.0, 0.0, 0.0, 0.0, 0.0, 0.0, 0.0, 0.0, 0.0, 0.0, 0.0, 0.0, 0.0, 0.0, 0.0, 0.0, 0.0, 0.0, 0.0, 0.0, 0.0, 0.0, 0.0, 0.0, 0.0, 0.0, 0.0, 0.0, 0.0, 0.0, 0.0, 0.0, 0.0, 0.0, 0.0, 0.0, 0.0, 0.0, 0.0, 0.0, 0.0, 0.0, 0.0, 0.0, 0.0, 0.0, 0.0, 0.0, 0.0, 0.0, 0.0, 0.0, 0.0, 0.0, 0.0, 0.0, 0.0, 0.0, 0.0, 0.0, 0.0, 0.0, 0.0, 0.0, 0.0, 0.0, 0.0, 0.0], [0.0, 0.0, 0.0, 0.0, 0.0, 922.0, 1050.0, 1022.0, 982.0, 1066.0, 1108.0, 1018.0, 1090.0, 1089.0, 1104.0, 1134.0, 1082.0, 1085.0, 1182.0, 1131.0, 1133.0, 1134.0, 1127.0, 1119.0, 1157.0, 1168.0, 1133.0, 1150.0, 1174.0, 1082.0, 1162.0, 1161.0, 1084.0, 1178.0, 1186.0, 1146.0, 1128.0, 1151.0, 1149.0, 1177.0, 1218.0, 1142.0, 1196.0, 1146.0, 1172.0, 1226.0, 1211.0, 1167.0, 1215.0, 1181.0, 1239.0, 1244.0, 1188.0, 1180.0, 1217.0, 1242.0, 1222.0, 1297.0, 1321.0, 1245.0, 1313.0, 1337.0, 1322.0, 1404.0, 1436.0, 1507.0, 1519.0, 1603.0, 1624.0, 1727.0, 1871.0, 1878.0, 2041.0, 2199.0, 377.0, 182.0, 132.0, 78.0, 41.0, 24.0, 16.0, 4.0]], \"title\": \"Fill Data\", \"names\": [\"x\", \"y0\", \"y1\"], \"id\": \"t6ae774e7eb014c48940aac644107468f\", \"filename\": \"toyplot\"}, {\"data\": [[0.0, 1.0, 2.0, 3.0, 4.0, 5.0, 6.0, 7.0, 8.0, 9.0, 10.0, 11.0, 12.0, 13.0, 14.0, 15.0, 16.0, 17.0, 18.0, 19.0, 20.0, 21.0, 22.0, 23.0, 24.0, 25.0, 26.0, 27.0, 28.0, 29.0, 30.0, 31.0, 32.0, 33.0, 34.0, 35.0, 36.0, 37.0, 38.0, 39.0, 40.0, 41.0, 42.0, 43.0, 44.0, 45.0, 46.0, 47.0, 48.0, 49.0, 50.0, 51.0, 52.0, 53.0, 54.0, 55.0, 56.0, 57.0, 58.0, 59.0, 60.0, 61.0, 62.0, 63.0, 64.0, 65.0, 66.0, 67.0, 68.0, 69.0, 70.0, 71.0, 72.0, 73.0, 74.0, 75.0, 76.0, 77.0, 78.0, 79.0, 80.0, 81.0], [0.0, 0.0, 0.0, 0.0, 0.0, 0.0, 0.0, 0.0, 0.0, 0.0, 0.0, 0.0, 0.0, 0.0, 0.0, 0.0, 0.0, 0.0, 0.0, 0.0, 0.0, 0.0, 0.0, 0.0, 0.0, 0.0, 0.0, 0.0, 0.0, 0.0, 0.0, 0.0, 0.0, 0.0, 0.0, 0.0, 0.0, 0.0, 0.0, 0.0, 0.0, 0.0, 0.0, 0.0, 0.0, 0.0, 0.0, 0.0, 0.0, 0.0, 0.0, 0.0, 0.0, 0.0, 0.0, 0.0, 0.0, 0.0, 0.0, 0.0, 0.0, 0.0, 0.0, 0.0, 0.0, 0.0, 0.0, 0.0, 0.0, 0.0, 0.0, 0.0, 0.0, 0.0, 0.0, 0.0, 0.0, 0.0, 0.0, 0.0, 0.0, 0.0], [0.0, 0.0, 0.0, 0.0, 0.0, 428.0, 503.0, 479.0, 484.0, 544.0, 535.0, 522.0, 608.0, 554.0, 523.0, 556.0, 595.0, 588.0, 628.0, 535.0, 535.0, 584.0, 579.0, 576.0, 576.0, 541.0, 551.0, 629.0, 555.0, 597.0, 584.0, 602.0, 543.0, 596.0, 585.0, 540.0, 584.0, 591.0, 616.0, 601.0, 578.0, 588.0, 597.0, 597.0, 553.0, 591.0, 599.0, 606.0, 631.0, 580.0, 617.0, 623.0, 625.0, 594.0, 646.0, 593.0, 606.0, 672.0, 599.0, 673.0, 657.0, 659.0, 675.0, 717.0, 721.0, 686.0, 800.0, 776.0, 844.0, 957.0, 954.0, 1024.0, 1120.0, 1182.0, 198.0, 100.0, 65.0, 33.0, 20.0, 11.0, 6.0, 1.0]], \"title\": \"Fill Data\", \"names\": [\"x\", \"y0\", \"y1\"], \"id\": \"t3902e21323674b649757d7b2e97fdd31\", \"filename\": \"toyplot\"}];\n",
       "\n",
       "  function save_csv(data_table)\n",
       "  {\n",
       "    var uri = \"data:text/csv;charset=utf-8,\";\n",
       "    uri += data_table.names.join(\",\") + \"\\n\";\n",
       "    for(var i = 0; i != data_table.data[0].length; ++i)\n",
       "    {\n",
       "      for(var j = 0; j != data_table.data.length; ++j)\n",
       "      {\n",
       "        if(j)\n",
       "          uri += \",\";\n",
       "        uri += data_table.data[j][i];\n",
       "      }\n",
       "      uri += \"\\n\";\n",
       "    }\n",
       "    uri = encodeURI(uri);\n",
       "\n",
       "    var link = document.createElement(\"a\");\n",
       "    if(typeof link.download != \"undefined\")\n",
       "    {\n",
       "      link.href = uri;\n",
       "      link.style = \"visibility:hidden\";\n",
       "      link.download = data_table.filename + \".csv\";\n",
       "\n",
       "      document.body.appendChild(link);\n",
       "      link.click();\n",
       "      document.body.removeChild(link);\n",
       "    }\n",
       "    else\n",
       "    {\n",
       "      window.open(uri);\n",
       "    }\n",
       "  }\n",
       "\n",
       "  function open_popup(data_table)\n",
       "  {\n",
       "    return function(e)\n",
       "    {\n",
       "      var popup = document.querySelector(\"#tf328e5f59c5c47d387447380f41b0d64 .toyplot-mark-popup\");\n",
       "      popup.querySelector(\".toyplot-mark-popup-title\").innerHTML = data_table.title;\n",
       "      popup.querySelector(\".toyplot-mark-popup-save-csv\").onclick = function() { popup.style.visibility = \"hidden\"; save_csv(data_table); }\n",
       "      popup.style.left = (e.clientX - 50) + \"px\";\n",
       "      popup.style.top = (e.clientY - 20) + \"px\";\n",
       "      popup.style.visibility = \"visible\";\n",
       "      e.stopPropagation();\n",
       "      e.preventDefault();\n",
       "    }\n",
       "\n",
       "  }\n",
       "\n",
       "  for(var i = 0; i != data_tables.length; ++i)\n",
       "  {\n",
       "    var data_table = data_tables[i];\n",
       "    var event_target = document.querySelector(\"#\" + data_table.id);\n",
       "    event_target.oncontextmenu = open_popup(data_table);\n",
       "  }\n",
       "})();\n",
       "</script><script>\n",
       "(function()\n",
       "{\n",
       "  var axes = {\"t4530e23fc63f45ba8c0cbe0d2ac685e2\": {\"x\": [{\"domain\": {\"bounds\": {\"max\": Infinity, \"min\": -Infinity}, \"max\": 81.0, \"min\": 0.0}, \"range\": {\"bounds\": {\"max\": Infinity, \"min\": -Infinity}, \"max\": 735.0, \"min\": 65.0}, \"scale\": \"linear\"}], \"y\": [{\"domain\": {\"bounds\": {\"max\": Infinity, \"min\": -Infinity}, \"max\": 2199.0, \"min\": 0.0}, \"range\": {\"bounds\": {\"max\": -Infinity, \"min\": Infinity}, \"max\": 65.0, \"min\": 235.0}, \"scale\": \"linear\"}]}};\n",
       "\n",
       "  function sign(x)\n",
       "  {\n",
       "    return x < 0 ? -1 : x > 0 ? 1 : 0;\n",
       "  }\n",
       "\n",
       "  function _mix(a, b, amount)\n",
       "  {\n",
       "    return ((1.0 - amount) * a) + (amount * b);\n",
       "  }\n",
       "\n",
       "  function _log(x, base)\n",
       "  {\n",
       "    return Math.log(Math.abs(x)) / Math.log(base);\n",
       "  }\n",
       "\n",
       "  function _in_range(a, x, b)\n",
       "  {\n",
       "    var left = Math.min(a, b);\n",
       "    var right = Math.max(a, b);\n",
       "    return left <= x && x <= right;\n",
       "  }\n",
       "\n",
       "  function to_domain(projection, range)\n",
       "  {\n",
       "    for(var i = 0; i != projection.length; ++i)\n",
       "    {\n",
       "      var segment = projection[i];\n",
       "      if(_in_range(segment.range.bounds.min, range, segment.range.bounds.max))\n",
       "      {\n",
       "        if(segment.scale == \"linear\")\n",
       "        {\n",
       "          var amount = (range - segment.range.min) / (segment.range.max - segment.range.min);\n",
       "          return _mix(segment.domain.min, segment.domain.max, amount)\n",
       "        }\n",
       "        else if(segment.scale[0] == \"log\")\n",
       "        {\n",
       "          var amount = (range - segment.range.min) / (segment.range.max - segment.range.min);\n",
       "          var base = segment.scale[1];\n",
       "          return sign(segment.domain.min) * Math.pow(base, _mix(_log(segment.domain.min, base), _log(segment.domain.max, base), amount));\n",
       "        }\n",
       "      }\n",
       "    }\n",
       "  }\n",
       "\n",
       "  // Compute mouse coordinates relative to a DOM object, with thanks to d3js.org, where this code originated.\n",
       "  function d3_mousePoint(container, e)\n",
       "  {\n",
       "    if (e.changedTouches) e = e.changedTouches[0];\n",
       "    var svg = container.ownerSVGElement || container;\n",
       "    if (svg.createSVGPoint) {\n",
       "      var point = svg.createSVGPoint();\n",
       "      point.x = e.clientX, point.y = e.clientY;\n",
       "      point = point.matrixTransform(container.getScreenCTM().inverse());\n",
       "      return [point.x, point.y];\n",
       "    }\n",
       "    var rect = container.getBoundingClientRect();\n",
       "    return [e.clientX - rect.left - container.clientLeft, e.clientY - rect.top - container.clientTop];\n",
       "  };\n",
       "\n",
       "  function display_coordinates(e)\n",
       "  {\n",
       "    var dom_axes = e.currentTarget.parentElement;\n",
       "    var data = axes[dom_axes.id];\n",
       "\n",
       "    point = d3_mousePoint(e.target, e);\n",
       "    var x = Number(to_domain(data[\"x\"], point[0])).toFixed(2);\n",
       "    var y = Number(to_domain(data[\"y\"], point[1])).toFixed(2);\n",
       "\n",
       "    var coordinates = dom_axes.querySelectorAll(\".toyplot-coordinates\");\n",
       "    for(var i = 0; i != coordinates.length; ++i)\n",
       "    {\n",
       "      coordinates[i].style.visibility = \"visible\";\n",
       "      coordinates[i].querySelector(\"text\").textContent = \"x=\" + x + \" y=\" + y;\n",
       "    }\n",
       "  }\n",
       "\n",
       "  function clear_coordinates(e)\n",
       "  {\n",
       "    var dom_axes = e.currentTarget.parentElement;\n",
       "    var coordinates = dom_axes.querySelectorAll(\".toyplot-coordinates\");\n",
       "    for(var i = 0; i != coordinates.length; ++i)\n",
       "      coordinates[i].style.visibility = \"hidden\";\n",
       "  }\n",
       "\n",
       "  for(var axes_id in axes)\n",
       "  {\n",
       "    var event_target = document.querySelector(\"#\" + axes_id + \" .toyplot-coordinate-events\");\n",
       "    event_target.onmousemove = display_coordinates;\n",
       "    event_target.onmouseout = clear_coordinates;\n",
       "  }\n",
       "})();\n",
       "</script></div></div>"
      ],
      "text/plain": [
       "<toyplot.canvas.Canvas at 0x7f489d6a2e50>"
      ]
     },
     "execution_count": 171,
     "metadata": {},
     "output_type": "execute_result"
    }
   ],
   "source": [
    "SNP_position_plot(distvar, distpis)"
   ]
  },
  {
   "cell_type": "markdown",
   "metadata": {},
   "source": [
    "### Why the right side but not the left?\n",
    "I found early on that leaving the cut site attached to the left side of reads improved assemblies by acting as an achor, which then allowed gap openings to arise in the early parts of the read but not to be treated differently, i.e., as terminal gap openings. For some reason it didn't occur to me to similarly anchor the right side of reads. Let's see what happens if I had an invariant anchor to the right side of reads. \n",
    "\n",
    "Another point to note, though I don't show the results here, this increase in variation along the length of reads is not observed in simulated data, suggesting it is inherent to real data. \n"
   ]
  },
  {
   "cell_type": "code",
   "execution_count": 15,
   "metadata": {
    "collapsed": false,
    "scrolled": true
   },
   "outputs": [
    {
     "name": "stdout",
     "output_type": "stream",
     "text": [
      "  loading Assembly: cli\n",
      "  from saved path: ~/Documents/ipyrad/tests/cli/cli.json\n"
     ]
    },
    {
     "data": {
      "text/plain": [
       "(<toyplot.canvas.Canvas at 0x7f7b1feb3dd0>,\n",
       " <toyplot.axes.Cartesian at 0x7f7b1feb3b90>)"
      ]
     },
     "execution_count": 15,
     "metadata": {},
     "output_type": "execute_result"
    },
    {
     "data": {
      "text/html": [
       "<div align=\"center\" class=\"toyplot\" id=\"t18afc18861f64fcd9074c200741b9859\"><svg height=\"300.0px\" id=\"t547302dcc0394ca8b80211cb53e728e0\" preserveAspectRatio=\"xMidYMid meet\" style=\"background-color:transparent;fill:rgb(16.1%,15.3%,14.1%);fill-opacity:1.0;font-family:Helvetica;font-size:12px;opacity:1.0;stroke:rgb(16.1%,15.3%,14.1%);stroke-opacity:1.0;stroke-width:1.0\" viewBox=\"0 0 800.0 300.0\" width=\"800.0px\" xmlns=\"http://www.w3.org/2000/svg\" xmlns:toyplot=\"http://www.sandia.gov/toyplot\"><g class=\"toyplot-axes-Cartesian\" id=\"tb02d8c70a92046ff978e0a70b951e4a5\"><clipPath id=\"t3044b2af667445e2bfb9431f15de6e94\"><rect height=\"190.0\" width=\"690.0\" x=\"55.0\" y=\"55.0\"></rect></clipPath><g class=\"toyplot-coordinate-events\" clip-path=\"url(#t3044b2af667445e2bfb9431f15de6e94)\" style=\"cursor:crosshair\"><rect height=\"190.0\" style=\"pointer-events:all;visibility:hidden\" width=\"690.0\" x=\"55.0\" y=\"55.0\"></rect><g class=\"toyplot-mark-FillBoundaries\" id=\"t84e9c73c4db246e883a1ef8bb9c0a877\" style=\"stroke:none\"><polygon points=\"65.0,235.0 72.127659574468083,235.0 79.255319148936167,235.0 86.38297872340425,235.0 93.510638297872347,235.0 100.63829787234042,235.0 107.7659574468085,235.0 114.89361702127658,235.0 122.02127659574468,235.0 129.14893617021278,235.0 136.27659574468083,235.0 143.40425531914894,235.0 150.531914893617,235.0 157.65957446808511,235.0 164.78723404255319,235.0 171.91489361702128,235.0 179.04255319148936,235.0 186.17021276595747,235.0 193.29787234042556,235.0 200.42553191489361,235.0 207.55319148936169,235.0 214.68085106382981,235.0 221.80851063829789,235.0 228.93617021276594,235.0 236.06382978723403,235.0 243.19148936170211,235.0 250.31914893617019,235.0 257.44680851063828,235.0 264.57446808510639,235.0 271.70212765957444,235.0 278.82978723404256,235.0 285.95744680851061,235.0 293.08510638297872,235.0 300.21276595744678,235.0 307.34042553191495,235.0 314.468085106383,235.0 321.59574468085106,235.0 328.72340425531917,235.0 335.85106382978722,235.0 342.97872340425528,235.0 350.10638297872339,235.0 357.2340425531915,235.0 364.36170212765956,235.0 371.48936170212767,235.0 378.61702127659578,235.0 385.74468085106389,235.0 392.87234042553189,235.0 400.0,235.0 407.12765957446805,235.0 414.25531914893617,235.0 421.38297872340422,235.0 428.51063829787233,235.0 435.63829787234044,235.0 442.7659574468085,235.0 449.89361702127661,235.0 457.02127659574472,235.0 464.14893617021272,235.0 471.27659574468089,235.0 478.40425531914894,235.0 485.531914893617,235.0 492.65957446808511,235.0 499.78723404255322,235.0 506.91489361702128,235.0 514.04255319148945,235.0 521.17021276595744,235.0 528.29787234042556,235.0 535.42553191489355,235.0 542.55319148936167,235.0 549.68085106382989,235.0 556.80851063829789,235.0 563.936170212766,235.0 571.063829787234,235.0 578.19148936170211,235.0 585.31914893617011,235.0 592.44680851063833,235.0 599.57446808510645,235.0 606.70212765957444,235.0 613.82978723404267,235.0 620.95744680851055,235.0 628.08510638297878,235.0 635.21276595744678,235.0 642.34042553191489,235.0 649.468085106383,235.0 656.59574468085111,235.0 663.72340425531922,235.0 670.85106382978722,235.0 677.97872340425533,235.0 685.10638297872333,235.0 692.23404255319156,235.0 699.36170212765956,235.0 706.48936170212778,235.0 713.61702127659566,235.0 720.74468085106378,235.0 727.87234042553189,235.0 735.0,235.0 735.0,229.6875 727.87234042553189,235.0 720.74468085106378,112.8125 713.61702127659566,160.625 706.48936170212778,176.5625 699.36170212765956,150.0 692.23404255319156,160.625 685.10638297872333,165.9375 677.97872340425533,91.5625 670.85106382978722,144.6875 663.72340425531922,123.4375 656.59574468085111,91.5625 649.468085106383,144.6875 642.34042553191489,134.0625 635.21276595744678,134.0625 628.08510638297878,139.375 620.95744680851055,139.375 613.82978723404267,139.375 606.70212765957444,107.5 599.57446808510645,96.875 592.44680851063833,123.4375 585.31914893617011,155.3125 578.19148936170211,160.625 571.063829787234,118.125 563.936170212766,123.4375 556.80851063829789,128.75 549.68085106382989,123.4375 542.55319148936167,128.75 535.42553191489355,107.5 528.29787234042556,134.0625 521.17021276595744,118.125 514.04255319148945,139.375 506.91489361702128,139.375 499.78723404255322,107.5 492.65957446808511,128.75 485.531914893617,112.8125 478.40425531914894,75.625 471.27659574468089,123.4375 464.14893617021272,96.875 457.02127659574472,134.0625 449.89361702127661,112.8125 442.7659574468085,160.625 435.63829787234044,123.4375 428.51063829787233,155.3125 421.38297872340422,139.375 414.25531914893617,176.5625 407.12765957446805,96.875 400.0,139.375 392.87234042553189,107.5 385.74468085106389,123.4375 378.61702127659578,128.75 371.48936170212767,144.6875 364.36170212765956,112.8125 357.2340425531915,150.0 350.10638297872339,86.25 342.97872340425528,91.5625 335.85106382978722,123.4375 328.72340425531917,150.0 321.59574468085106,91.5625 314.468085106383,134.0625 307.34042553191495,176.5625 300.21276595744678,123.4375 293.08510638297872,96.875 285.95744680851061,197.8125 278.82978723404256,91.5625 271.70212765957444,144.6875 264.57446808510639,160.625 257.44680851063828,118.125 250.31914893617019,123.4375 243.19148936170211,75.625 236.06382978723403,155.3125 228.93617021276594,144.6875 221.80851063829789,160.625 214.68085106382981,123.4375 207.55319148936169,128.75 200.42553191489361,139.375 193.29787234042556,107.5 186.17021276595747,155.3125 179.04255319148936,65.0 171.91489361702128,107.5 164.78723404255319,96.875 157.65957446808511,107.5 150.531914893617,139.375 143.40425531914894,102.1875 136.27659574468083,150.0 129.14893617021278,86.25 122.02127659574468,118.125 114.89361702127658,150.0 107.7659574468085,150.0 100.63829787234042,144.6875 93.510638297872347,235.0 86.38297872340425,235.0 79.255319148936167,235.0 72.127659574468083,235.0 65.0,235.0\" style=\"fill:rgb(40%,76.1%,64.7%);fill-opacity:1.0;opacity:0.5;stroke:none\"><title>total variable sites</title></polygon></g><g class=\"toyplot-mark-FillBoundaries\" id=\"t7646c1d922bb47f99aeee5c963240d6b\" style=\"stroke:none\"><polygon points=\"65.0,235.0 72.127659574468083,235.0 79.255319148936167,235.0 86.38297872340425,235.0 93.510638297872347,235.0 100.63829787234042,235.0 107.7659574468085,235.0 114.89361702127658,235.0 122.02127659574468,235.0 129.14893617021278,235.0 136.27659574468083,235.0 143.40425531914894,235.0 150.531914893617,235.0 157.65957446808511,235.0 164.78723404255319,235.0 171.91489361702128,235.0 179.04255319148936,235.0 186.17021276595747,235.0 193.29787234042556,235.0 200.42553191489361,235.0 207.55319148936169,235.0 214.68085106382981,235.0 221.80851063829789,235.0 228.93617021276594,235.0 236.06382978723403,235.0 243.19148936170211,235.0 250.31914893617019,235.0 257.44680851063828,235.0 264.57446808510639,235.0 271.70212765957444,235.0 278.82978723404256,235.0 285.95744680851061,235.0 293.08510638297872,235.0 300.21276595744678,235.0 307.34042553191495,235.0 314.468085106383,235.0 321.59574468085106,235.0 328.72340425531917,235.0 335.85106382978722,235.0 342.97872340425528,235.0 350.10638297872339,235.0 357.2340425531915,235.0 364.36170212765956,235.0 371.48936170212767,235.0 378.61702127659578,235.0 385.74468085106389,235.0 392.87234042553189,235.0 400.0,235.0 407.12765957446805,235.0 414.25531914893617,235.0 421.38297872340422,235.0 428.51063829787233,235.0 435.63829787234044,235.0 442.7659574468085,235.0 449.89361702127661,235.0 457.02127659574472,235.0 464.14893617021272,235.0 471.27659574468089,235.0 478.40425531914894,235.0 485.531914893617,235.0 492.65957446808511,235.0 499.78723404255322,235.0 506.91489361702128,235.0 514.04255319148945,235.0 521.17021276595744,235.0 528.29787234042556,235.0 535.42553191489355,235.0 542.55319148936167,235.0 549.68085106382989,235.0 556.80851063829789,235.0 563.936170212766,235.0 571.063829787234,235.0 578.19148936170211,235.0 585.31914893617011,235.0 592.44680851063833,235.0 599.57446808510645,235.0 606.70212765957444,235.0 613.82978723404267,235.0 620.95744680851055,235.0 628.08510638297878,235.0 635.21276595744678,235.0 642.34042553191489,235.0 649.468085106383,235.0 656.59574468085111,235.0 663.72340425531922,235.0 670.85106382978722,235.0 677.97872340425533,235.0 685.10638297872333,235.0 692.23404255319156,235.0 699.36170212765956,235.0 706.48936170212778,235.0 713.61702127659566,235.0 720.74468085106378,235.0 727.87234042553189,235.0 735.0,235.0 735.0,235.0 727.87234042553189,235.0 720.74468085106378,176.5625 713.61702127659566,213.75 706.48936170212778,203.125 699.36170212765956,213.75 692.23404255319156,187.1875 685.10638297872333,187.1875 677.97872340425533,197.8125 670.85106382978722,155.3125 663.72340425531922,213.75 656.59574468085111,224.375 649.468085106383,187.1875 642.34042553191489,192.5 635.21276595744678,208.4375 628.08510638297878,192.5 620.95744680851055,192.5 613.82978723404267,155.3125 606.70212765957444,224.375 599.57446808510645,213.75 592.44680851063833,197.8125 585.31914893617011,213.75 578.19148936170211,155.3125 571.063829787234,197.8125 563.936170212766,192.5 556.80851063829789,187.1875 549.68085106382989,187.1875 542.55319148936167,208.4375 535.42553191489355,203.125 528.29787234042556,171.25 521.17021276595744,171.25 514.04255319148945,203.125 506.91489361702128,208.4375 499.78723404255322,197.8125 492.65957446808511,208.4375 485.531914893617,203.125 478.40425531914894,176.5625 471.27659574468089,181.875 464.14893617021272,187.1875 457.02127659574472,208.4375 449.89361702127661,197.8125 442.7659574468085,219.0625 435.63829787234044,192.5 428.51063829787233,197.8125 421.38297872340422,203.125 414.25531914893617,192.5 407.12765957446805,187.1875 400.0,203.125 392.87234042553189,181.875 385.74468085106389,197.8125 378.61702127659578,203.125 371.48936170212767,208.4375 364.36170212765956,187.1875 357.2340425531915,192.5 350.10638297872339,187.1875 342.97872340425528,197.8125 335.85106382978722,208.4375 328.72340425531917,203.125 321.59574468085106,235.0 314.468085106383,165.9375 307.34042553191495,213.75 300.21276595744678,203.125 293.08510638297872,192.5 285.95744680851061,187.1875 278.82978723404256,208.4375 271.70212765957444,203.125 264.57446808510639,181.875 257.44680851063828,160.625 250.31914893617019,213.75 243.19148936170211,197.8125 236.06382978723403,187.1875 228.93617021276594,208.4375 221.80851063829789,192.5 214.68085106382981,176.5625 207.55319148936169,171.25 200.42553191489361,192.5 193.29787234042556,208.4375 186.17021276595747,181.875 179.04255319148936,213.75 171.91489361702128,208.4375 164.78723404255319,219.0625 157.65957446808511,213.75 150.531914893617,213.75 143.40425531914894,197.8125 136.27659574468083,197.8125 129.14893617021278,219.0625 122.02127659574468,176.5625 114.89361702127658,187.1875 107.7659574468085,192.5 100.63829787234042,203.125 93.510638297872347,235.0 86.38297872340425,235.0 79.255319148936167,235.0 72.127659574468083,235.0 65.0,235.0\" style=\"fill:rgb(98.8%,55.3%,38.4%);fill-opacity:1.0;opacity:0.5;stroke:none\"><title>parsimony informative sites</title></polygon></g><g class=\"toyplot-mark-AxisLines\" id=\"t83794bed14c9430fb94da860b70cab9b\" style=\"stroke-dasharray:4, 4\"><g class=\"toyplot-Series\"><line class=\"toyplot-Datum\" style=\"opacity:0.9;stroke:rgb(16.1%,15.3%,14.1%);stroke-dasharray:4, 4;stroke-opacity:1.0\" x1=\"65.0\" x2=\"735.0\" y1=\"134.0625\" y2=\"134.0625\"></line></g></g><g class=\"toyplot-mark-AxisLines\" id=\"tb5de6cc7f242435eb7ed88dddd3aba7a\" style=\"stroke-dasharray:4, 4\"><g class=\"toyplot-Series\"><line class=\"toyplot-Datum\" style=\"opacity:0.9;stroke:rgb(16.1%,15.3%,14.1%);stroke-dasharray:4, 4;stroke-opacity:1.0\" x1=\"65.0\" x2=\"735.0\" y1=\"197.8125\" y2=\"197.8125\"></line></g></g></g><g class=\"toyplot-coordinates\" style=\"visibility:hidden\"><rect height=\"14.0\" style=\"fill:rgb(100%,100%,100%);fill-opacity:1.0;opacity:0.75;stroke:none\" width=\"90.0\" x=\"635.0\" y=\"75.0\"></rect><text style=\"alignment-baseline:middle;font-size:10px;font-weight:normal;stroke:none;text-anchor:middle\" x=\"680.0\" y=\"82.0\"></text></g><g class=\"toyplot-axes-Axis\" id=\"t6008938a15e64ceab0089d1adb33eb35\" transform=\"translate(65.0,235.0) rotate(0.0) translate(0,10.0)\"><line style=\"\" x1=\"0\" x2=\"670.0\" y1=\"0\" y2=\"0\"></line><g><line style=\"\" x1=\"0.0\" x2=\"0.0\" y1=\"0\" y2=\"5.0\"></line><line style=\"\" x1=\"35.638297872340424\" x2=\"35.638297872340424\" y1=\"0\" y2=\"5.0\"></line><line style=\"\" x1=\"71.27659574468085\" x2=\"71.27659574468085\" y1=\"0\" y2=\"5.0\"></line><line style=\"\" x1=\"106.91489361702128\" x2=\"106.91489361702128\" y1=\"0\" y2=\"5.0\"></line><line style=\"\" x1=\"142.5531914893617\" x2=\"142.5531914893617\" y1=\"0\" y2=\"5.0\"></line><line style=\"\" x1=\"178.1914893617021\" x2=\"178.1914893617021\" y1=\"0\" y2=\"5.0\"></line><line style=\"\" x1=\"213.82978723404256\" x2=\"213.82978723404256\" y1=\"0\" y2=\"5.0\"></line><line style=\"\" x1=\"249.46808510638297\" x2=\"249.46808510638297\" y1=\"0\" y2=\"5.0\"></line><line style=\"\" x1=\"285.1063829787234\" x2=\"285.1063829787234\" y1=\"0\" y2=\"5.0\"></line><line style=\"\" x1=\"320.74468085106383\" x2=\"320.74468085106383\" y1=\"0\" y2=\"5.0\"></line><line style=\"\" x1=\"356.3829787234042\" x2=\"356.3829787234042\" y1=\"0\" y2=\"5.0\"></line><line style=\"\" x1=\"392.02127659574467\" x2=\"392.02127659574467\" y1=\"0\" y2=\"5.0\"></line><line style=\"\" x1=\"427.6595744680851\" x2=\"427.6595744680851\" y1=\"0\" y2=\"5.0\"></line><line style=\"\" x1=\"463.29787234042556\" x2=\"463.29787234042556\" y1=\"0\" y2=\"5.0\"></line><line style=\"\" x1=\"498.93617021276594\" x2=\"498.93617021276594\" y1=\"0\" y2=\"5.0\"></line><line style=\"\" x1=\"534.5744680851063\" x2=\"534.5744680851063\" y1=\"0\" y2=\"5.0\"></line><line style=\"\" x1=\"570.2127659574468\" x2=\"570.2127659574468\" y1=\"0\" y2=\"5.0\"></line><line style=\"\" x1=\"605.8510638297872\" x2=\"605.8510638297872\" y1=\"0\" y2=\"5.0\"></line><line style=\"\" x1=\"641.4893617021277\" x2=\"641.4893617021277\" y1=\"0\" y2=\"5.0\"></line></g><g><text style=\"dominant-baseline:hanging;font-size:12px;font-weight:normal;stroke:none;text-anchor:middle\" transform=\"translate(0.0,6)translate(0,2.5)\"><tspan style=\"dominant-baseline:inherit\">0</tspan></text><text style=\"dominant-baseline:hanging;font-size:12px;font-weight:normal;stroke:none;text-anchor:middle\" transform=\"translate(35.638297872340424,6)translate(0,2.5)\"><tspan style=\"dominant-baseline:inherit\">5</tspan></text><text style=\"dominant-baseline:hanging;font-size:12px;font-weight:normal;stroke:none;text-anchor:middle\" transform=\"translate(71.27659574468085,6)translate(0,2.5)\"><tspan style=\"dominant-baseline:inherit\">10</tspan></text><text style=\"dominant-baseline:hanging;font-size:12px;font-weight:normal;stroke:none;text-anchor:middle\" transform=\"translate(106.91489361702128,6)translate(0,2.5)\"><tspan style=\"dominant-baseline:inherit\">15</tspan></text><text style=\"dominant-baseline:hanging;font-size:12px;font-weight:normal;stroke:none;text-anchor:middle\" transform=\"translate(142.5531914893617,6)translate(0,2.5)\"><tspan style=\"dominant-baseline:inherit\">20</tspan></text><text style=\"dominant-baseline:hanging;font-size:12px;font-weight:normal;stroke:none;text-anchor:middle\" transform=\"translate(178.1914893617021,6)translate(0,2.5)\"><tspan style=\"dominant-baseline:inherit\">25</tspan></text><text style=\"dominant-baseline:hanging;font-size:12px;font-weight:normal;stroke:none;text-anchor:middle\" transform=\"translate(213.82978723404256,6)translate(0,2.5)\"><tspan style=\"dominant-baseline:inherit\">30</tspan></text><text style=\"dominant-baseline:hanging;font-size:12px;font-weight:normal;stroke:none;text-anchor:middle\" transform=\"translate(249.46808510638297,6)translate(0,2.5)\"><tspan style=\"dominant-baseline:inherit\">35</tspan></text><text style=\"dominant-baseline:hanging;font-size:12px;font-weight:normal;stroke:none;text-anchor:middle\" transform=\"translate(285.1063829787234,6)translate(0,2.5)\"><tspan style=\"dominant-baseline:inherit\">40</tspan></text><text style=\"dominant-baseline:hanging;font-size:12px;font-weight:normal;stroke:none;text-anchor:middle\" transform=\"translate(320.74468085106383,6)translate(0,2.5)\"><tspan style=\"dominant-baseline:inherit\">45</tspan></text><text style=\"dominant-baseline:hanging;font-size:12px;font-weight:normal;stroke:none;text-anchor:middle\" transform=\"translate(356.3829787234042,6)translate(0,2.5)\"><tspan style=\"dominant-baseline:inherit\">50</tspan></text><text style=\"dominant-baseline:hanging;font-size:12px;font-weight:normal;stroke:none;text-anchor:middle\" transform=\"translate(392.02127659574467,6)translate(0,2.5)\"><tspan style=\"dominant-baseline:inherit\">55</tspan></text><text style=\"dominant-baseline:hanging;font-size:12px;font-weight:normal;stroke:none;text-anchor:middle\" transform=\"translate(427.6595744680851,6)translate(0,2.5)\"><tspan style=\"dominant-baseline:inherit\">60</tspan></text><text style=\"dominant-baseline:hanging;font-size:12px;font-weight:normal;stroke:none;text-anchor:middle\" transform=\"translate(463.29787234042556,6)translate(0,2.5)\"><tspan style=\"dominant-baseline:inherit\">65</tspan></text><text style=\"dominant-baseline:hanging;font-size:12px;font-weight:normal;stroke:none;text-anchor:middle\" transform=\"translate(498.93617021276594,6)translate(0,2.5)\"><tspan style=\"dominant-baseline:inherit\">70</tspan></text><text style=\"dominant-baseline:hanging;font-size:12px;font-weight:normal;stroke:none;text-anchor:middle\" transform=\"translate(534.5744680851063,6)translate(0,2.5)\"><tspan style=\"dominant-baseline:inherit\">75</tspan></text><text style=\"dominant-baseline:hanging;font-size:12px;font-weight:normal;stroke:none;text-anchor:middle\" transform=\"translate(570.2127659574468,6)translate(0,2.5)\"><tspan style=\"dominant-baseline:inherit\">80</tspan></text><text style=\"dominant-baseline:hanging;font-size:12px;font-weight:normal;stroke:none;text-anchor:middle\" transform=\"translate(605.8510638297872,6)translate(0,2.5)\"><tspan style=\"dominant-baseline:inherit\">85</tspan></text><text style=\"dominant-baseline:hanging;font-size:12px;font-weight:normal;stroke:none;text-anchor:middle\" transform=\"translate(641.4893617021277,6)translate(0,2.5)\"><tspan style=\"dominant-baseline:inherit\">90</tspan></text></g><text style=\"dominant-baseline:middle;font-size:16px;font-weight:bold;stroke:none;text-anchor:middle\" transform=\"translate(335.0,0)translate(0,40.0)\"><tspan style=\"dominant-baseline:inherit\">Position along RAD loci</tspan></text></g><g class=\"toyplot-axes-Axis\" id=\"t9d06022827d94529bcdcd97647d73331\" transform=\"translate(65.0,235.0) rotate(-90.0) translate(0,-10.0)\"><line style=\"\" x1=\"0\" x2=\"170.0\" y1=\"0\" y2=\"0\"></line><g><line style=\"\" x1=\"0.0\" x2=\"0.0\" y1=\"-5.0\" y2=\"0\"></line><line style=\"\" x1=\"53.125\" x2=\"53.125\" y1=\"-5.0\" y2=\"0\"></line><line style=\"\" x1=\"106.25\" x2=\"106.25\" y1=\"-5.0\" y2=\"0\"></line><line style=\"\" x1=\"159.375\" x2=\"159.375\" y1=\"-5.0\" y2=\"0\"></line></g><g><text style=\"dominant-baseline:alphabetic;font-size:12px;font-weight:normal;stroke:none;text-anchor:middle\" transform=\"translate(0.0,-6)translate(0,-5.0)\"><tspan style=\"dominant-baseline:inherit\">0</tspan></text><text style=\"dominant-baseline:alphabetic;font-size:12px;font-weight:normal;stroke:none;text-anchor:middle\" transform=\"translate(53.125,-6)translate(0,-5.0)\"><tspan style=\"dominant-baseline:inherit\">10</tspan></text><text style=\"dominant-baseline:alphabetic;font-size:12px;font-weight:normal;stroke:none;text-anchor:middle\" transform=\"translate(106.25,-6)translate(0,-5.0)\"><tspan style=\"dominant-baseline:inherit\">20</tspan></text><text style=\"dominant-baseline:alphabetic;font-size:12px;font-weight:normal;stroke:none;text-anchor:middle\" transform=\"translate(159.375,-6)translate(0,-5.0)\"><tspan style=\"dominant-baseline:inherit\">30</tspan></text></g><text style=\"dominant-baseline:middle;font-size:16px;font-weight:bold;stroke:none;text-anchor:middle\" transform=\"translate(85.0,0)translate(0,-40.0)\"><tspan style=\"dominant-baseline:inherit\">N variables sites</tspan></text></g></g></svg><div class=\"toyplot-controls\"><ul class=\"toyplot-mark-popup\" onmouseleave=\"this.style.visibility='hidden'\" style=\"background:rgba(0%,0%,0%,0.75);border:0;border-radius:6px;color:white;cursor:default;list-style:none;margin:0;padding:5px;position:fixed;visibility:hidden\"><li class=\"toyplot-mark-popup-title\" style=\"color:lightgray;cursor:default;padding:5px;list-style:none;margin:0;\"></li><li class=\"toyplot-mark-popup-save-csv\" onmouseout=\"this.style.color='white';this.style.background='steelblue'\" onmouseover=\"this.style.color='steelblue';this.style.background='white'\" style=\"border-radius:3px;padding:5px;list-style:none;margin:0;\">Save as .csv</li></ul><script>\n",
       "(function()\n",
       "{\n",
       "  var data_tables = [{\"data\": [[0.0, 1.0, 2.0, 3.0, 4.0, 5.0, 6.0, 7.0, 8.0, 9.0, 10.0, 11.0, 12.0, 13.0, 14.0, 15.0, 16.0, 17.0, 18.0, 19.0, 20.0, 21.0, 22.0, 23.0, 24.0, 25.0, 26.0, 27.0, 28.0, 29.0, 30.0, 31.0, 32.0, 33.0, 34.0, 35.0, 36.0, 37.0, 38.0, 39.0, 40.0, 41.0, 42.0, 43.0, 44.0, 45.0, 46.0, 47.0, 48.0, 49.0, 50.0, 51.0, 52.0, 53.0, 54.0, 55.0, 56.0, 57.0, 58.0, 59.0, 60.0, 61.0, 62.0, 63.0, 64.0, 65.0, 66.0, 67.0, 68.0, 69.0, 70.0, 71.0, 72.0, 73.0, 74.0, 75.0, 76.0, 77.0, 78.0, 79.0, 80.0, 81.0, 82.0, 83.0, 84.0, 85.0, 86.0, 87.0, 88.0, 89.0, 90.0, 91.0, 92.0, 93.0, 94.0], [0.0, 0.0, 0.0, 0.0, 0.0, 0.0, 0.0, 0.0, 0.0, 0.0, 0.0, 0.0, 0.0, 0.0, 0.0, 0.0, 0.0, 0.0, 0.0, 0.0, 0.0, 0.0, 0.0, 0.0, 0.0, 0.0, 0.0, 0.0, 0.0, 0.0, 0.0, 0.0, 0.0, 0.0, 0.0, 0.0, 0.0, 0.0, 0.0, 0.0, 0.0, 0.0, 0.0, 0.0, 0.0, 0.0, 0.0, 0.0, 0.0, 0.0, 0.0, 0.0, 0.0, 0.0, 0.0, 0.0, 0.0, 0.0, 0.0, 0.0, 0.0, 0.0, 0.0, 0.0, 0.0, 0.0, 0.0, 0.0, 0.0, 0.0, 0.0, 0.0, 0.0, 0.0, 0.0, 0.0, 0.0, 0.0, 0.0, 0.0, 0.0, 0.0, 0.0, 0.0, 0.0, 0.0, 0.0, 0.0, 0.0, 0.0, 0.0, 0.0, 0.0, 0.0, 0.0], [0.0, 0.0, 0.0, 0.0, 0.0, 17.0, 16.0, 16.0, 22.0, 28.0, 16.0, 25.0, 18.0, 24.0, 26.0, 24.0, 32.0, 15.0, 24.0, 18.0, 20.0, 21.0, 14.0, 17.0, 15.0, 30.0, 21.0, 22.0, 14.0, 17.0, 27.0, 7.0, 26.0, 21.0, 11.0, 19.0, 27.0, 16.0, 21.0, 27.0, 28.0, 16.0, 23.0, 17.0, 20.0, 21.0, 24.0, 18.0, 26.0, 11.0, 18.0, 15.0, 21.0, 14.0, 23.0, 19.0, 26.0, 21.0, 30.0, 23.0, 20.0, 24.0, 18.0, 18.0, 22.0, 19.0, 24.0, 20.0, 21.0, 20.0, 21.0, 22.0, 14.0, 15.0, 21.0, 26.0, 24.0, 18.0, 18.0, 18.0, 19.0, 19.0, 17.0, 27.0, 21.0, 17.0, 27.0, 13.0, 14.0, 16.0, 11.0, 14.0, 23.0, 0.0, 1.0]], \"title\": \"Fill Data\", \"names\": [\"x\", \"y0\", \"y1\"], \"id\": \"t84e9c73c4db246e883a1ef8bb9c0a877\", \"filename\": \"toyplot\"}, {\"data\": [[0.0, 1.0, 2.0, 3.0, 4.0, 5.0, 6.0, 7.0, 8.0, 9.0, 10.0, 11.0, 12.0, 13.0, 14.0, 15.0, 16.0, 17.0, 18.0, 19.0, 20.0, 21.0, 22.0, 23.0, 24.0, 25.0, 26.0, 27.0, 28.0, 29.0, 30.0, 31.0, 32.0, 33.0, 34.0, 35.0, 36.0, 37.0, 38.0, 39.0, 40.0, 41.0, 42.0, 43.0, 44.0, 45.0, 46.0, 47.0, 48.0, 49.0, 50.0, 51.0, 52.0, 53.0, 54.0, 55.0, 56.0, 57.0, 58.0, 59.0, 60.0, 61.0, 62.0, 63.0, 64.0, 65.0, 66.0, 67.0, 68.0, 69.0, 70.0, 71.0, 72.0, 73.0, 74.0, 75.0, 76.0, 77.0, 78.0, 79.0, 80.0, 81.0, 82.0, 83.0, 84.0, 85.0, 86.0, 87.0, 88.0, 89.0, 90.0, 91.0, 92.0, 93.0, 94.0], [0.0, 0.0, 0.0, 0.0, 0.0, 0.0, 0.0, 0.0, 0.0, 0.0, 0.0, 0.0, 0.0, 0.0, 0.0, 0.0, 0.0, 0.0, 0.0, 0.0, 0.0, 0.0, 0.0, 0.0, 0.0, 0.0, 0.0, 0.0, 0.0, 0.0, 0.0, 0.0, 0.0, 0.0, 0.0, 0.0, 0.0, 0.0, 0.0, 0.0, 0.0, 0.0, 0.0, 0.0, 0.0, 0.0, 0.0, 0.0, 0.0, 0.0, 0.0, 0.0, 0.0, 0.0, 0.0, 0.0, 0.0, 0.0, 0.0, 0.0, 0.0, 0.0, 0.0, 0.0, 0.0, 0.0, 0.0, 0.0, 0.0, 0.0, 0.0, 0.0, 0.0, 0.0, 0.0, 0.0, 0.0, 0.0, 0.0, 0.0, 0.0, 0.0, 0.0, 0.0, 0.0, 0.0, 0.0, 0.0, 0.0, 0.0, 0.0, 0.0, 0.0, 0.0, 0.0], [0.0, 0.0, 0.0, 0.0, 0.0, 6.0, 8.0, 9.0, 11.0, 3.0, 7.0, 7.0, 4.0, 4.0, 3.0, 5.0, 4.0, 10.0, 5.0, 8.0, 12.0, 11.0, 8.0, 5.0, 9.0, 7.0, 4.0, 14.0, 10.0, 6.0, 5.0, 9.0, 8.0, 6.0, 4.0, 13.0, 0.0, 6.0, 5.0, 7.0, 9.0, 8.0, 9.0, 5.0, 6.0, 7.0, 10.0, 6.0, 9.0, 8.0, 6.0, 7.0, 8.0, 3.0, 7.0, 5.0, 9.0, 10.0, 11.0, 6.0, 5.0, 7.0, 5.0, 6.0, 12.0, 12.0, 6.0, 5.0, 9.0, 9.0, 8.0, 7.0, 15.0, 4.0, 7.0, 4.0, 2.0, 15.0, 8.0, 8.0, 5.0, 8.0, 9.0, 2.0, 4.0, 15.0, 7.0, 9.0, 9.0, 4.0, 6.0, 4.0, 11.0, 0.0, 0.0]], \"title\": \"Fill Data\", \"names\": [\"x\", \"y0\", \"y1\"], \"id\": \"t7646c1d922bb47f99aeee5c963240d6b\", \"filename\": \"toyplot\"}];\n",
       "\n",
       "  function save_csv(data_table)\n",
       "  {\n",
       "    var uri = \"data:text/csv;charset=utf-8,\";\n",
       "    uri += data_table.names.join(\",\") + \"\\n\";\n",
       "    for(var i = 0; i != data_table.data[0].length; ++i)\n",
       "    {\n",
       "      for(var j = 0; j != data_table.data.length; ++j)\n",
       "      {\n",
       "        if(j)\n",
       "          uri += \",\";\n",
       "        uri += data_table.data[j][i];\n",
       "      }\n",
       "      uri += \"\\n\";\n",
       "    }\n",
       "    uri = encodeURI(uri);\n",
       "\n",
       "    var link = document.createElement(\"a\");\n",
       "    if(typeof link.download != \"undefined\")\n",
       "    {\n",
       "      link.href = uri;\n",
       "      link.style = \"visibility:hidden\";\n",
       "      link.download = data_table.filename + \".csv\";\n",
       "\n",
       "      document.body.appendChild(link);\n",
       "      link.click();\n",
       "      document.body.removeChild(link);\n",
       "    }\n",
       "    else\n",
       "    {\n",
       "      window.open(uri);\n",
       "    }\n",
       "  }\n",
       "\n",
       "  function open_popup(data_table)\n",
       "  {\n",
       "    return function(e)\n",
       "    {\n",
       "      var popup = document.querySelector(\"#t18afc18861f64fcd9074c200741b9859 .toyplot-mark-popup\");\n",
       "      popup.querySelector(\".toyplot-mark-popup-title\").innerHTML = data_table.title;\n",
       "      popup.querySelector(\".toyplot-mark-popup-save-csv\").onclick = function() { popup.style.visibility = \"hidden\"; save_csv(data_table); }\n",
       "      popup.style.left = (e.clientX - 50) + \"px\";\n",
       "      popup.style.top = (e.clientY - 20) + \"px\";\n",
       "      popup.style.visibility = \"visible\";\n",
       "      e.stopPropagation();\n",
       "      e.preventDefault();\n",
       "    }\n",
       "\n",
       "  }\n",
       "\n",
       "  for(var i = 0; i != data_tables.length; ++i)\n",
       "  {\n",
       "    var data_table = data_tables[i];\n",
       "    var event_target = document.querySelector(\"#\" + data_table.id);\n",
       "    event_target.oncontextmenu = open_popup(data_table);\n",
       "  }\n",
       "})();\n",
       "</script><script>\n",
       "(function()\n",
       "{\n",
       "  var axes = {\"tb02d8c70a92046ff978e0a70b951e4a5\": {\"x\": [{\"domain\": {\"bounds\": {\"max\": Infinity, \"min\": -Infinity}, \"max\": 94.0, \"min\": 0.0}, \"range\": {\"bounds\": {\"max\": Infinity, \"min\": -Infinity}, \"max\": 735.0, \"min\": 65.0}, \"scale\": \"linear\"}], \"y\": [{\"domain\": {\"bounds\": {\"max\": Infinity, \"min\": -Infinity}, \"max\": 32.0, \"min\": 0.0}, \"range\": {\"bounds\": {\"max\": -Infinity, \"min\": Infinity}, \"max\": 65.0, \"min\": 235.0}, \"scale\": \"linear\"}]}};\n",
       "\n",
       "  function sign(x)\n",
       "  {\n",
       "    return x < 0 ? -1 : x > 0 ? 1 : 0;\n",
       "  }\n",
       "\n",
       "  function _mix(a, b, amount)\n",
       "  {\n",
       "    return ((1.0 - amount) * a) + (amount * b);\n",
       "  }\n",
       "\n",
       "  function _log(x, base)\n",
       "  {\n",
       "    return Math.log(Math.abs(x)) / Math.log(base);\n",
       "  }\n",
       "\n",
       "  function _in_range(a, x, b)\n",
       "  {\n",
       "    var left = Math.min(a, b);\n",
       "    var right = Math.max(a, b);\n",
       "    return left <= x && x <= right;\n",
       "  }\n",
       "\n",
       "  function to_domain(projection, range)\n",
       "  {\n",
       "    for(var i = 0; i != projection.length; ++i)\n",
       "    {\n",
       "      var segment = projection[i];\n",
       "      if(_in_range(segment.range.bounds.min, range, segment.range.bounds.max))\n",
       "      {\n",
       "        if(segment.scale == \"linear\")\n",
       "        {\n",
       "          var amount = (range - segment.range.min) / (segment.range.max - segment.range.min);\n",
       "          return _mix(segment.domain.min, segment.domain.max, amount)\n",
       "        }\n",
       "        else if(segment.scale[0] == \"log\")\n",
       "        {\n",
       "          var amount = (range - segment.range.min) / (segment.range.max - segment.range.min);\n",
       "          var base = segment.scale[1];\n",
       "          return sign(segment.domain.min) * Math.pow(base, _mix(_log(segment.domain.min, base), _log(segment.domain.max, base), amount));\n",
       "        }\n",
       "      }\n",
       "    }\n",
       "  }\n",
       "\n",
       "  // Compute mouse coordinates relative to a DOM object, with thanks to d3js.org, where this code originated.\n",
       "  function d3_mousePoint(container, e)\n",
       "  {\n",
       "    if (e.changedTouches) e = e.changedTouches[0];\n",
       "    var svg = container.ownerSVGElement || container;\n",
       "    if (svg.createSVGPoint) {\n",
       "      var point = svg.createSVGPoint();\n",
       "      point.x = e.clientX, point.y = e.clientY;\n",
       "      point = point.matrixTransform(container.getScreenCTM().inverse());\n",
       "      return [point.x, point.y];\n",
       "    }\n",
       "    var rect = container.getBoundingClientRect();\n",
       "    return [e.clientX - rect.left - container.clientLeft, e.clientY - rect.top - container.clientTop];\n",
       "  };\n",
       "\n",
       "  function display_coordinates(e)\n",
       "  {\n",
       "    var dom_axes = e.currentTarget.parentElement;\n",
       "    var data = axes[dom_axes.id];\n",
       "\n",
       "    point = d3_mousePoint(e.target, e);\n",
       "    var x = Number(to_domain(data[\"x\"], point[0])).toFixed(2);\n",
       "    var y = Number(to_domain(data[\"y\"], point[1])).toFixed(2);\n",
       "\n",
       "    var coordinates = dom_axes.querySelectorAll(\".toyplot-coordinates\");\n",
       "    for(var i = 0; i != coordinates.length; ++i)\n",
       "    {\n",
       "      coordinates[i].style.visibility = \"visible\";\n",
       "      coordinates[i].querySelector(\"text\").textContent = \"x=\" + x + \" y=\" + y;\n",
       "    }\n",
       "  }\n",
       "\n",
       "  function clear_coordinates(e)\n",
       "  {\n",
       "    var dom_axes = e.currentTarget.parentElement;\n",
       "    var coordinates = dom_axes.querySelectorAll(\".toyplot-coordinates\");\n",
       "    for(var i = 0; i != coordinates.length; ++i)\n",
       "      coordinates[i].style.visibility = \"hidden\";\n",
       "  }\n",
       "\n",
       "  for(var axes_id in axes)\n",
       "  {\n",
       "    var event_target = document.querySelector(\"#\" + axes_id + \" .toyplot-coordinate-events\");\n",
       "    event_target.onmousemove = display_coordinates;\n",
       "    event_target.onmouseout = clear_coordinates;\n",
       "  }\n",
       "})();\n",
       "</script></div></div>"
      ]
     },
     "metadata": {},
     "output_type": "display_data"
    }
   ],
   "source": [
    "simdata = ip.load_json(\"~/Documents/ipyrad/tests/cli/cli.json\")\n",
    "\n",
    "## filter the snps\n",
    "fsnps = filter_snps(simdata)\n",
    "\n",
    "## trim non-data \n",
    "maxend = np.where(fsnps[:, :, :].sum(axis=0).sum(axis=1) != 0)[0].max()\n",
    "\n",
    "## all variables (including autapomorphies)\n",
    "distvar = np.sum(fsnps[:, :maxend+1, 0].astype(np.int), axis=0)\n",
    "\n",
    "## synapomorphies (just pis)\n",
    "distpis = fsnps[:, :maxend+1, 1].sum(axis=0)\n",
    "\n",
    "SNP_position_plot(distvar, distpis)"
   ]
  },
  {
   "cell_type": "markdown",
   "metadata": {},
   "source": [
    "### Results when I add a right-side anchor\n",
    "I now add a five base anchor just before muscle alignment, and then strip it off again after aligning. I have an added check to make sure that the anchor is definitely not left on the read in case muscle did try to stick an opening into the anchor. "
   ]
  },
  {
   "cell_type": "code",
   "execution_count": 172,
   "metadata": {
    "collapsed": false
   },
   "outputs": [
    {
     "name": "stdout",
     "output_type": "stream",
     "text": [
      "0.2.1\n"
     ]
    }
   ],
   "source": [
    "## import the new version of ipyrad w/ this update.\n",
    "import ipyrad as ip\n",
    "print ip.__version__"
   ]
  },
  {
   "cell_type": "code",
   "execution_count": null,
   "metadata": {
    "collapsed": true
   },
   "outputs": [],
   "source": []
  }
 ],
 "metadata": {
  "kernelspec": {
   "display_name": "Python 2",
   "language": "python",
   "name": "python2"
  },
  "language_info": {
   "codemirror_mode": {
    "name": "ipython",
    "version": 2
   },
   "file_extension": ".py",
   "mimetype": "text/x-python",
   "name": "python",
   "nbconvert_exporter": "python",
   "pygments_lexer": "ipython2",
   "version": "2.7.11"
  }
 },
 "nbformat": 4,
 "nbformat_minor": 0
}
