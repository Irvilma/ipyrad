{
 "cells": [
  {
   "cell_type": "markdown",
   "metadata": {
    "slideshow": {
     "slide_type": "-"
    }
   },
   "source": [
    "### Intro to downstream ipyrad data visualization\n",
    "All of the modules below are included in the ipyrad conda installation. "
   ]
  },
  {
   "cell_type": "code",
   "execution_count": 27,
   "metadata": {
    "collapsed": false,
    "slideshow": {
     "slide_type": "slide"
    }
   },
   "outputs": [
    {
     "name": "stdout",
     "output_type": "stream",
     "text": [
      "ipyrad 0.3.25\n",
      "numpy 1.11.1\n",
      "h5py 2.6.0\n",
      "toyplot 0.13.0\n"
     ]
    }
   ],
   "source": [
    "## import libraries\n",
    "import ipyrad as ip    ## ipyrad\n",
    "import numpy as np     ## array operations\n",
    "import h5py            ## access hdf5 database file\n",
    "import toyplot         ## my fav new plotting library\n",
    "import toyplot.html    ## toypot sublib for saving html plots\n",
    "\n",
    "## print versions for posterity\n",
    "print 'ipyrad', ip.__version__\n",
    "print 'numpy', np.__version__\n",
    "print 'h5py', h5py.__version__\n",
    "print 'toyplot', toyplot.__version__"
   ]
  },
  {
   "cell_type": "markdown",
   "metadata": {
    "slideshow": {
     "slide_type": "subslide"
    }
   },
   "source": [
    "### Import the ipyrad Assembly class object\n",
    "I assembled the data set under three minimum cluster depth settings (6, 10, 20), \n",
    "and import their Assembly objects as data1, data2, and data3. These are ipyrad Assembly class objects which have many features and functions available to them. To see these type the object name (e.g., data1) followed by a period (.) and then press tab to see list of all the available options. \n"
   ]
  },
  {
   "cell_type": "code",
   "execution_count": null,
   "metadata": {
    "collapsed": true
   },
   "outputs": [],
   "source": [
    "## import Assembly objects\n",
    "data = ip.load_json(\"/home/deren/Downloads/pedicularis/base.json\")"
   ]
  },
  {
   "cell_type": "markdown",
   "metadata": {},
   "source": [
    "### Open database files\n",
    "\n",
    "We also open the database file for each data set. This is the file with the suffix \".hdf5\" that should have a file name like: \"[project_dir]/[name]_consens/[name].hdf5\". The assembly class objects save the database file path under the attribute \".database\", which can be used to access it more easily. Below we open a view to the hdf5 database file for each of the three assemblies.  "
   ]
  },
  {
   "cell_type": "code",
   "execution_count": 28,
   "metadata": {
    "collapsed": false,
    "slideshow": {
     "slide_type": "subslide"
    }
   },
   "outputs": [
    {
     "name": "stdout",
     "output_type": "stream",
     "text": [
      "  loading Assembly: base\n",
      "  from saved path: ~/Downloads/pedicularis/base.json\n"
     ]
    }
   ],
   "source": [
    "## load the hdf5 database \n",
    "io5 = h5py.File(data.database, 'r')"
   ]
  },
  {
   "cell_type": "markdown",
   "metadata": {
    "slideshow": {
     "slide_type": "fragment"
    }
   },
   "source": [
    "### What's in the database file?\n",
    "The hdf5 data base is compressed and sometimes quite large. If you moved your JSON file from a remote machine (e.g., HPC cluster) to a local machine you will have to update the `data.database` path to the location of the database file on your local machine. "
   ]
  },
  {
   "cell_type": "code",
   "execution_count": 46,
   "metadata": {
    "collapsed": false,
    "slideshow": {
     "slide_type": "fragment"
    }
   },
   "outputs": [
    {
     "name": "stdout",
     "output_type": "stream",
     "text": [
      "location of my database file:\n",
      "     /home/deren/Downloads/pedicularis/base_outfiles/base.hdf5\n",
      "keys in the hdf5 database\n",
      "     [u'edges', u'filters', u'snps']\n"
     ]
    }
   ],
   "source": [
    "print 'location of my database file:\\n    ', data.database\n",
    "print 'keys in the hdf5 database\\n    ', io5.keys()"
   ]
  },
  {
   "cell_type": "markdown",
   "metadata": {},
   "source": [
    "### Access arrays\n",
    "The hdf5 data base contains the following five arrays with the following dimensions."
   ]
  },
  {
   "cell_type": "code",
   "execution_count": 31,
   "metadata": {
    "collapsed": false
   },
   "outputs": [
    {
     "name": "stdout",
     "output_type": "stream",
     "text": [
      "<HDF5 dataset \"snps\": shape (84221, 150, 2), type \"|b1\">\n",
      "<HDF5 dataset \"filters\": shape (84221, 6), type \"|b1\">\n",
      "<HDF5 dataset \"edges\": shape (84221, 5), type \"<u2\">\n"
     ]
    }
   ],
   "source": [
    "## This doesn't actually load them into memory, they can be very large.\n",
    "## It just makes a reference for calling keys more easily\n",
    "\n",
    "#hcatg = io5[\"catgs\"]    ## depth information (not edge filtered)\n",
    "#hseqs = io5[\"seqs\"]     ## sequence data (not edge filtered)\n",
    "hsnps = io5[\"snps\"]      ## snp locations (edge filtered)\n",
    "hfilt = io5[\"filters\"]   ## locus filters\n",
    "hedge = io5[\"edges\"]     ## edge filters\n",
    "\n",
    "## arrays shapes and dtypes\n",
    "#print hcatg\n",
    "#print hseqs\n",
    "print hsnps\n",
    "print hfilt\n",
    "print hedge"
   ]
  },
  {
   "cell_type": "markdown",
   "metadata": {},
   "source": [
    "### A function to filter the SNPs array"
   ]
  },
  {
   "cell_type": "code",
   "execution_count": 32,
   "metadata": {
    "collapsed": false
   },
   "outputs": [],
   "source": [
    "def filter_snps(data):\n",
    "    ## get h5 database\n",
    "    io5 = h5py.File(data.database, 'r')\n",
    "    hsnps = io5[\"snps\"]     ## snp locations\n",
    "    hfilt = io5[\"filters\"]  ## locus filters\n",
    "    hedge = io5[\"edges\"]    ## edge filters\n",
    "\n",
    "    ## read in a local copy of the full snps and edge arrays\n",
    "    snps = hsnps[:]\n",
    "    edge = hedge[:]\n",
    "\n",
    "    ## print status\n",
    "    print \"prefilter {}\\nshape {} = (nloci, maxlen, [var,pis])\"\\\n",
    "          .format(data.name, snps.shape)\n",
    "    print \"total vars = {}\".format(snps[:,:,0].sum())\n",
    "\n",
    "    ## apply edge filters to all loci in the snps array\n",
    "    for loc in xrange(snps.shape[0]):\n",
    "        a, b = edge[loc, :2]\n",
    "        mask = np.invert([i in range(a, b) for i in np.arange(snps.shape[1])])\n",
    "        snps[loc, mask, :] = 0\n",
    "\n",
    "    ## get locus filter by summing across all filters\n",
    "    locfilter = hfilt[:].sum(axis=1).astype(np.bool)\n",
    "\n",
    "    ## apply filter to snps array\n",
    "    fsnps = snps[~locfilter, ...]\n",
    "\n",
    "    ## print new shape and sum\n",
    "    print \"postfilter {}\\nshape {} = (nloci, maxlen, [var,pis])\"\\\n",
    "          .format(data.name, fsnps.shape)\n",
    "    print \"total vars = {}\".format(fsnps[:,:,0].sum())\n",
    "    \n",
    "    ## clean up big objects\n",
    "    del snps\n",
    "    del edge\n",
    "    \n",
    "    ## return what we want\n",
    "    return fsnps"
   ]
  },
  {
   "cell_type": "code",
   "execution_count": 33,
   "metadata": {
    "collapsed": true
   },
   "outputs": [],
   "source": [
    "def filter_snps(data):\n",
    "    ## get h5 database\n",
    "    io5 = h5py.File(data.database, 'r')\n",
    "    hsnps = io5[\"snps\"]     ## snp locations\n",
    "    hfilt = io5[\"filters\"]  ## locus filters\n",
    "    #hedge = io5[\"edges\"]    ## edge filters\n",
    "\n",
    "    ## read in a local copy of the full snps and edge arrays\n",
    "    snps = hsnps[:]\n",
    "    #edge = hedge[:]\n",
    "\n",
    "    ## get locus filter by summing across all filters\n",
    "    locfilter = hfilt[:].sum(axis=1).astype(np.bool)\n",
    "\n",
    "    ## apply filter to snps array\n",
    "    fsnps = snps[~locfilter, ...]\n",
    "\n",
    "    ## clean up big objects\n",
    "    del snps\n",
    "    \n",
    "    ## return what we want\n",
    "    return fsnps"
   ]
  },
  {
   "cell_type": "code",
   "execution_count": 35,
   "metadata": {
    "collapsed": false
   },
   "outputs": [],
   "source": [
    "## apply filter to each data set\n",
    "fsnps = filter_snps(data)"
   ]
  },
  {
   "cell_type": "code",
   "execution_count": 37,
   "metadata": {
    "collapsed": false
   },
   "outputs": [
    {
     "data": {
      "text/plain": [
       "array([10, 11, 12, 13, 14, 15, 16, 17, 18, 19, 20, 21, 22, 23, 24, 25, 26,\n",
       "       27, 28, 29, 30, 31, 32, 33, 34, 35, 36, 37, 38, 39, 40, 41, 42, 43,\n",
       "       44, 45, 46, 47, 48, 49])"
      ]
     },
     "execution_count": 37,
     "metadata": {},
     "output_type": "execute_result"
    }
   ],
   "source": [
    "a = np.arange(0, 40)#.reshape(10,4)\n",
    "b = np.arange(10, 50)#.reshape(10, 4)\n",
    "#np.concatenate((a,b), axis=1)\n",
    "np.array([a,b]).max(axis=0)\n"
   ]
  },
  {
   "cell_type": "markdown",
   "metadata": {},
   "source": [
    "### The snps array"
   ]
  },
  {
   "cell_type": "code",
   "execution_count": 38,
   "metadata": {
    "collapsed": false
   },
   "outputs": [
    {
     "name": "stdout",
     "output_type": "stream",
     "text": [
      "[12  6  6  8  0]\n",
      "[[1510 1020]\n",
      " [1447 1035]\n",
      " [1496 1112]\n",
      " [1505 1069]\n",
      " [1480 1038]]\n"
     ]
    }
   ],
   "source": [
    "## the last dimension has two columns (var, pis)\n",
    "\n",
    "## how many snps per locus\n",
    "varlocs = fsnps[:, :, 0].sum(axis=1)\n",
    "pislocs = fsnps[:, :, 1].sum(axis=1)\n",
    "print varlocs[:5]\n",
    "\n",
    "## how many snps per site (across loci)\n",
    "persite = fsnps[:, :, :].sum(axis=0)\n",
    "print persite[10:15]"
   ]
  },
  {
   "cell_type": "markdown",
   "metadata": {},
   "source": [
    "### Get a color map"
   ]
  },
  {
   "cell_type": "code",
   "execution_count": 39,
   "metadata": {
    "collapsed": false
   },
   "outputs": [
    {
     "data": {
      "text/html": [
       "<div class=\"toyplot-color-Palette\" style=\"overflow:hidden; height:auto\"><div style=\"float:left;width:20px;height:20px;margin-right:0px;background-color:rgba(40.0%,76.1%,64.7%,1.000)\"></div><div style=\"float:left;width:20px;height:20px;margin-right:0px;background-color:rgba(98.8%,55.3%,38.4%,1.000)\"></div><div style=\"float:left;width:20px;height:20px;margin-right:0px;background-color:rgba(55.3%,62.7%,79.6%,1.000)\"></div><div style=\"float:left;width:20px;height:20px;margin-right:0px;background-color:rgba(90.6%,54.1%,76.5%,1.000)\"></div><div style=\"float:left;width:20px;height:20px;margin-right:0px;background-color:rgba(65.1%,84.7%,32.9%,1.000)\"></div><div style=\"float:left;width:20px;height:20px;margin-right:0px;background-color:rgba(100.0%,85.1%,18.4%,1.000)\"></div><div style=\"float:left;width:20px;height:20px;margin-right:0px;background-color:rgba(89.8%,76.9%,58.0%,1.000)\"></div><div style=\"float:left;width:20px;height:20px;margin-right:0px;background-color:rgba(70.2%,70.2%,70.2%,1.000)\"></div></div>"
      ],
      "text/plain": [
       "<toyplot.color.Palette at 0x7f9c89f5cad0>"
      ]
     },
     "execution_count": 39,
     "metadata": {},
     "output_type": "execute_result"
    }
   ],
   "source": [
    "colormap = toyplot.color.Palette()\n",
    "colormap"
   ]
  },
  {
   "cell_type": "code",
   "execution_count": 40,
   "metadata": {
    "collapsed": false
   },
   "outputs": [
    {
     "data": {
      "text/plain": [
       "<toyplot.mark.BarMagnitudes at 0x7f9c8a4f6dd0>"
      ]
     },
     "execution_count": 40,
     "metadata": {},
     "output_type": "execute_result"
    },
    {
     "data": {
      "text/html": [
       "<div align=\"center\" class=\"toyplot\" id=\"t27cc3bfa4678428e9db984dfb496e9c9\"><svg class=\"toyplot-canvas-Canvas\" height=\"300.0px\" id=\"tbedd7f1b6ed14cb781cc15fb980b7f8d\" preserveAspectRatio=\"xMidYMid meet\" style=\"background-color:transparent;fill:rgb(16.1%,15.3%,14.1%);fill-opacity:1.0;font-family:Helvetica;font-size:12px;opacity:1.0;stroke:rgb(16.1%,15.3%,14.1%);stroke-opacity:1.0;stroke-width:1.0\" viewBox=\"0 0 350.0 300.0\" width=\"350.0px\" xmlns=\"http://www.w3.org/2000/svg\" xmlns:toyplot=\"http://www.sandia.gov/toyplot\" xmlns:xlink=\"http://www.w3.org/1999/xlink\"><g class=\"toyplot-coordinates-Cartesian\" id=\"tfd9b03d528f6417dba2192251cde63e9\"><clipPath id=\"t9d8dcfd935614ebba26fdf6cefc90366\"><rect height=\"220.0\" width=\"270.0\" x=\"40.0\" y=\"40.0\"></rect></clipPath><g clip-path=\"url(#t9d8dcfd935614ebba26fdf6cefc90366)\"><g class=\"toyplot-mark-BarMagnitudes\" id=\"t46509f9aef234a558bbcf7fef8b5a6c7\" style=\"stroke:rgb(100%,100%,100%);stroke-opacity:1.0;stroke-width:1.0\"><g class=\"toyplot-Series\"><rect class=\"toyplot-Datum\" height=\"108.78\" style=\"fill:rgb(98.8%,55.3%,38.4%);fill-opacity:1.0;opacity:0.5;stroke:rgb(100%,100%,100%);stroke-opacity:1.0;stroke-width:1.0\" width=\"15.151515151515156\" x=\"50.0\" y=\"141.22\"></rect><rect class=\"toyplot-Datum\" height=\"148.07999999999998\" style=\"fill:rgb(98.8%,55.3%,38.4%);fill-opacity:1.0;opacity:0.5;stroke:rgb(100%,100%,100%);stroke-opacity:1.0;stroke-width:1.0\" width=\"15.151515151515156\" x=\"65.151515151515156\" y=\"101.92000000000002\"></rect><rect class=\"toyplot-Datum\" height=\"139.16\" style=\"fill:rgb(98.8%,55.3%,38.4%);fill-opacity:1.0;opacity:0.5;stroke:rgb(100%,100%,100%);stroke-opacity:1.0;stroke-width:1.0\" width=\"15.151515151515142\" x=\"80.303030303030312\" y=\"110.84\"></rect><rect class=\"toyplot-Datum\" height=\"107.30000000000001\" style=\"fill:rgb(98.8%,55.3%,38.4%);fill-opacity:1.0;opacity:0.5;stroke:rgb(100%,100%,100%);stroke-opacity:1.0;stroke-width:1.0\" width=\"15.151515151515156\" x=\"95.454545454545453\" y=\"142.69999999999999\"></rect><rect class=\"toyplot-Datum\" height=\"78.900000000000034\" style=\"fill:rgb(98.8%,55.3%,38.4%);fill-opacity:1.0;opacity:0.5;stroke:rgb(100%,100%,100%);stroke-opacity:1.0;stroke-width:1.0\" width=\"15.151515151515142\" x=\"110.60606060606061\" y=\"171.09999999999997\"></rect><rect class=\"toyplot-Datum\" height=\"57.219999999999999\" style=\"fill:rgb(98.8%,55.3%,38.4%);fill-opacity:1.0;opacity:0.5;stroke:rgb(100%,100%,100%);stroke-opacity:1.0;stroke-width:1.0\" width=\"15.151515151515156\" x=\"125.75757575757575\" y=\"192.78\"></rect><rect class=\"toyplot-Datum\" height=\"42.079999999999984\" style=\"fill:rgb(98.8%,55.3%,38.4%);fill-opacity:1.0;opacity:0.5;stroke:rgb(100%,100%,100%);stroke-opacity:1.0;stroke-width:1.0\" width=\"15.151515151515156\" x=\"140.90909090909091\" y=\"207.92000000000002\"></rect><rect class=\"toyplot-Datum\" height=\"27.539999999999992\" style=\"fill:rgb(98.8%,55.3%,38.4%);fill-opacity:1.0;opacity:0.5;stroke:rgb(100%,100%,100%);stroke-opacity:1.0;stroke-width:1.0\" width=\"15.151515151515156\" x=\"156.06060606060606\" y=\"222.46000000000001\"></rect><rect class=\"toyplot-Datum\" height=\"22.219999999999999\" style=\"fill:rgb(98.8%,55.3%,38.4%);fill-opacity:1.0;opacity:0.5;stroke:rgb(100%,100%,100%);stroke-opacity:1.0;stroke-width:1.0\" width=\"15.151515151515127\" x=\"171.21212121212122\" y=\"227.78\"></rect><rect class=\"toyplot-Datum\" height=\"14.739999999999981\" style=\"fill:rgb(98.8%,55.3%,38.4%);fill-opacity:1.0;opacity:0.5;stroke:rgb(100%,100%,100%);stroke-opacity:1.0;stroke-width:1.0\" width=\"15.151515151515156\" x=\"186.36363636363635\" y=\"235.26000000000002\"></rect><rect class=\"toyplot-Datum\" height=\"9.9200000000000159\" style=\"fill:rgb(98.8%,55.3%,38.4%);fill-opacity:1.0;opacity:0.5;stroke:rgb(100%,100%,100%);stroke-opacity:1.0;stroke-width:1.0\" width=\"15.151515151515156\" x=\"201.5151515151515\" y=\"240.07999999999998\"></rect><rect class=\"toyplot-Datum\" height=\"7.2599999999999909\" style=\"fill:rgb(98.8%,55.3%,38.4%);fill-opacity:1.0;opacity:0.5;stroke:rgb(100%,100%,100%);stroke-opacity:1.0;stroke-width:1.0\" width=\"15.151515151515156\" x=\"216.66666666666666\" y=\"242.74000000000001\"></rect><rect class=\"toyplot-Datum\" height=\"4.1400000000000148\" style=\"fill:rgb(98.8%,55.3%,38.4%);fill-opacity:1.0;opacity:0.5;stroke:rgb(100%,100%,100%);stroke-opacity:1.0;stroke-width:1.0\" width=\"15.151515151515127\" x=\"231.81818181818181\" y=\"245.85999999999999\"></rect><rect class=\"toyplot-Datum\" height=\"2.5600000000000307\" style=\"fill:rgb(98.8%,55.3%,38.4%);fill-opacity:1.0;opacity:0.5;stroke:rgb(100%,100%,100%);stroke-opacity:1.0;stroke-width:1.0\" width=\"15.151515151515184\" x=\"246.96969696969694\" y=\"247.43999999999997\"></rect><rect class=\"toyplot-Datum\" height=\"1.6800000000000068\" style=\"fill:rgb(98.8%,55.3%,38.4%);fill-opacity:1.0;opacity:0.5;stroke:rgb(100%,100%,100%);stroke-opacity:1.0;stroke-width:1.0\" width=\"15.151515151515127\" x=\"262.12121212121212\" y=\"248.31999999999999\"></rect><rect class=\"toyplot-Datum\" height=\"0.81999999999999318\" style=\"fill:rgb(98.8%,55.3%,38.4%);fill-opacity:1.0;opacity:0.5;stroke:rgb(100%,100%,100%);stroke-opacity:1.0;stroke-width:1.0\" width=\"15.151515151515184\" x=\"277.27272727272725\" y=\"249.18000000000001\"></rect><rect class=\"toyplot-Datum\" height=\"0.21999999999999886\" style=\"fill:rgb(98.8%,55.3%,38.4%);fill-opacity:1.0;opacity:0.5;stroke:rgb(100%,100%,100%);stroke-opacity:1.0;stroke-width:1.0\" width=\"15.151515151515127\" x=\"292.42424242424244\" y=\"249.78\"></rect><rect class=\"toyplot-Datum\" height=\"0.21999999999999886\" style=\"fill:rgb(98.8%,55.3%,38.4%);fill-opacity:1.0;opacity:0.5;stroke:rgb(100%,100%,100%);stroke-opacity:1.0;stroke-width:1.0\" width=\"15.151515151515127\" x=\"307.57575757575756\" y=\"249.78\"></rect><rect class=\"toyplot-Datum\" height=\"0.16000000000002501\" style=\"fill:rgb(98.8%,55.3%,38.4%);fill-opacity:1.0;opacity:0.5;stroke:rgb(100%,100%,100%);stroke-opacity:1.0;stroke-width:1.0\" width=\"15.151515151515241\" x=\"322.72727272727269\" y=\"249.83999999999997\"></rect><rect class=\"toyplot-Datum\" height=\"0.079999999999984084\" style=\"fill:rgb(98.8%,55.3%,38.4%);fill-opacity:1.0;opacity:0.5;stroke:rgb(100%,100%,100%);stroke-opacity:1.0;stroke-width:1.0\" width=\"15.151515151515071\" x=\"337.87878787878793\" y=\"249.92000000000002\"></rect><rect class=\"toyplot-Datum\" height=\"0.039999999999992042\" style=\"fill:rgb(98.8%,55.3%,38.4%);fill-opacity:1.0;opacity:0.5;stroke:rgb(100%,100%,100%);stroke-opacity:1.0;stroke-width:1.0\" width=\"15.151515151515184\" x=\"353.030303030303\" y=\"249.96000000000001\"></rect></g></g><g class=\"toyplot-mark-BarMagnitudes\" id=\"ta56ff43c4c734e12b839a0f372d4c3d5\" style=\"stroke:rgb(100%,100%,100%);stroke-opacity:1.0;stroke-width:1.0\"><g class=\"toyplot-Series\"><rect class=\"toyplot-Datum\" height=\"189.22000000000003\" style=\"fill:rgb(40%,76.1%,64.7%);fill-opacity:1.0;opacity:0.5;stroke:rgb(100%,100%,100%);stroke-opacity:1.0;stroke-width:1.0\" width=\"15.151515151515156\" x=\"50.0\" y=\"60.779999999999987\"></rect><rect class=\"toyplot-Datum\" height=\"179.47999999999999\" style=\"fill:rgb(40%,76.1%,64.7%);fill-opacity:1.0;opacity:0.5;stroke:rgb(100%,100%,100%);stroke-opacity:1.0;stroke-width:1.0\" width=\"15.151515151515156\" x=\"65.151515151515156\" y=\"70.52000000000001\"></rect><rect class=\"toyplot-Datum\" height=\"136.02000000000001\" style=\"fill:rgb(40%,76.1%,64.7%);fill-opacity:1.0;opacity:0.5;stroke:rgb(100%,100%,100%);stroke-opacity:1.0;stroke-width:1.0\" width=\"15.151515151515142\" x=\"80.303030303030312\" y=\"113.97999999999999\"></rect><rect class=\"toyplot-Datum\" height=\"90.439999999999998\" style=\"fill:rgb(40%,76.1%,64.7%);fill-opacity:1.0;opacity:0.5;stroke:rgb(100%,100%,100%);stroke-opacity:1.0;stroke-width:1.0\" width=\"15.151515151515156\" x=\"95.454545454545453\" y=\"159.56\"></rect><rect class=\"toyplot-Datum\" height=\"61.419999999999987\" style=\"fill:rgb(40%,76.1%,64.7%);fill-opacity:1.0;opacity:0.5;stroke:rgb(100%,100%,100%);stroke-opacity:1.0;stroke-width:1.0\" width=\"15.151515151515142\" x=\"110.60606060606061\" y=\"188.58000000000001\"></rect><rect class=\"toyplot-Datum\" height=\"40.200000000000017\" style=\"fill:rgb(40%,76.1%,64.7%);fill-opacity:1.0;opacity:0.5;stroke:rgb(100%,100%,100%);stroke-opacity:1.0;stroke-width:1.0\" width=\"15.151515151515156\" x=\"125.75757575757575\" y=\"209.79999999999998\"></rect><rect class=\"toyplot-Datum\" height=\"26.780000000000001\" style=\"fill:rgb(40%,76.1%,64.7%);fill-opacity:1.0;opacity:0.5;stroke:rgb(100%,100%,100%);stroke-opacity:1.0;stroke-width:1.0\" width=\"15.151515151515156\" x=\"140.90909090909091\" y=\"223.22\"></rect><rect class=\"toyplot-Datum\" height=\"18.120000000000005\" style=\"fill:rgb(40%,76.1%,64.7%);fill-opacity:1.0;opacity:0.5;stroke:rgb(100%,100%,100%);stroke-opacity:1.0;stroke-width:1.0\" width=\"15.151515151515156\" x=\"156.06060606060606\" y=\"231.88\"></rect><rect class=\"toyplot-Datum\" height=\"12.5\" style=\"fill:rgb(40%,76.1%,64.7%);fill-opacity:1.0;opacity:0.5;stroke:rgb(100%,100%,100%);stroke-opacity:1.0;stroke-width:1.0\" width=\"15.151515151515127\" x=\"171.21212121212122\" y=\"237.5\"></rect><rect class=\"toyplot-Datum\" height=\"8.539999999999992\" style=\"fill:rgb(40%,76.1%,64.7%);fill-opacity:1.0;opacity:0.5;stroke:rgb(100%,100%,100%);stroke-opacity:1.0;stroke-width:1.0\" width=\"15.151515151515156\" x=\"186.36363636363635\" y=\"241.46000000000001\"></rect><rect class=\"toyplot-Datum\" height=\"4.8799999999999955\" style=\"fill:rgb(40%,76.1%,64.7%);fill-opacity:1.0;opacity:0.5;stroke:rgb(100%,100%,100%);stroke-opacity:1.0;stroke-width:1.0\" width=\"15.151515151515156\" x=\"201.5151515151515\" y=\"245.12\"></rect><rect class=\"toyplot-Datum\" height=\"2.6999999999999886\" style=\"fill:rgb(40%,76.1%,64.7%);fill-opacity:1.0;opacity:0.5;stroke:rgb(100%,100%,100%);stroke-opacity:1.0;stroke-width:1.0\" width=\"15.151515151515156\" x=\"216.66666666666666\" y=\"247.30000000000001\"></rect><rect class=\"toyplot-Datum\" height=\"1.1999999999999886\" style=\"fill:rgb(40%,76.1%,64.7%);fill-opacity:1.0;opacity:0.5;stroke:rgb(100%,100%,100%);stroke-opacity:1.0;stroke-width:1.0\" width=\"15.151515151515127\" x=\"231.81818181818181\" y=\"248.80000000000001\"></rect><rect class=\"toyplot-Datum\" height=\"0.68000000000000682\" style=\"fill:rgb(40%,76.1%,64.7%);fill-opacity:1.0;opacity:0.5;stroke:rgb(100%,100%,100%);stroke-opacity:1.0;stroke-width:1.0\" width=\"15.151515151515184\" x=\"246.96969696969694\" y=\"249.31999999999999\"></rect><rect class=\"toyplot-Datum\" height=\"0.4399999999999693\" style=\"fill:rgb(40%,76.1%,64.7%);fill-opacity:1.0;opacity:0.5;stroke:rgb(100%,100%,100%);stroke-opacity:1.0;stroke-width:1.0\" width=\"15.151515151515127\" x=\"262.12121212121212\" y=\"249.56000000000003\"></rect><rect class=\"toyplot-Datum\" height=\"0.23999999999998067\" style=\"fill:rgb(40%,76.1%,64.7%);fill-opacity:1.0;opacity:0.5;stroke:rgb(100%,100%,100%);stroke-opacity:1.0;stroke-width:1.0\" width=\"15.151515151515184\" x=\"277.27272727272725\" y=\"249.76000000000002\"></rect><rect class=\"toyplot-Datum\" height=\"0.16000000000002501\" style=\"fill:rgb(40%,76.1%,64.7%);fill-opacity:1.0;opacity:0.5;stroke:rgb(100%,100%,100%);stroke-opacity:1.0;stroke-width:1.0\" width=\"15.151515151515127\" x=\"292.42424242424244\" y=\"249.83999999999997\"></rect><rect class=\"toyplot-Datum\" height=\"0.079999999999984084\" style=\"fill:rgb(40%,76.1%,64.7%);fill-opacity:1.0;opacity:0.5;stroke:rgb(100%,100%,100%);stroke-opacity:1.0;stroke-width:1.0\" width=\"15.151515151515127\" x=\"307.57575757575756\" y=\"249.92000000000002\"></rect><rect class=\"toyplot-Datum\" height=\"0.020000000000010232\" style=\"fill:rgb(40%,76.1%,64.7%);fill-opacity:1.0;opacity:0.5;stroke:rgb(100%,100%,100%);stroke-opacity:1.0;stroke-width:1.0\" width=\"15.151515151515241\" x=\"322.72727272727269\" y=\"249.97999999999999\"></rect><rect class=\"toyplot-Datum\" height=\"0.0\" style=\"fill:rgb(40%,76.1%,64.7%);fill-opacity:1.0;opacity:0.5;stroke:rgb(100%,100%,100%);stroke-opacity:1.0;stroke-width:1.0\" width=\"15.151515151515071\" x=\"337.87878787878793\" y=\"250.0\"></rect><rect class=\"toyplot-Datum\" height=\"0.0\" style=\"fill:rgb(40%,76.1%,64.7%);fill-opacity:1.0;opacity:0.5;stroke:rgb(100%,100%,100%);stroke-opacity:1.0;stroke-width:1.0\" width=\"15.151515151515184\" x=\"353.030303030303\" y=\"250.0\"></rect></g></g></g><g class=\"toyplot-coordinates-Axis\" id=\"t2da1dcdd6dbf47619ad9c5b0395a7fbb\" transform=\"translate(50.0,250.0)translate(0,10.0)\"><g><text style=\"dominant-baseline:hanging;font-size:10px;font-weight:normal;stroke:none;text-anchor:middle\" transform=\"translate(7.575757575757576,6)translate(0,-10.0)\"><tspan style=\"dominant-baseline:inherit\">0</tspan></text><text style=\"dominant-baseline:hanging;font-size:10px;font-weight:normal;stroke:none;text-anchor:middle\" transform=\"translate(37.87878787878788,6)translate(0,-10.0)\"><tspan style=\"dominant-baseline:inherit\">2</tspan></text><text style=\"dominant-baseline:hanging;font-size:10px;font-weight:normal;stroke:none;text-anchor:middle\" transform=\"translate(68.18181818181817,6)translate(0,-10.0)\"><tspan style=\"dominant-baseline:inherit\">4</tspan></text><text style=\"dominant-baseline:hanging;font-size:10px;font-weight:normal;stroke:none;text-anchor:middle\" transform=\"translate(98.48484848484848,6)translate(0,-10.0)\"><tspan style=\"dominant-baseline:inherit\">6</tspan></text><text style=\"dominant-baseline:hanging;font-size:10px;font-weight:normal;stroke:none;text-anchor:middle\" transform=\"translate(128.78787878787878,6)translate(0,-10.0)\"><tspan style=\"dominant-baseline:inherit\">8</tspan></text><text style=\"dominant-baseline:hanging;font-size:10px;font-weight:normal;stroke:none;text-anchor:middle\" transform=\"translate(159.0909090909091,6)translate(0,-10.0)\"><tspan style=\"dominant-baseline:inherit\">10</tspan></text><text style=\"dominant-baseline:hanging;font-size:10px;font-weight:normal;stroke:none;text-anchor:middle\" transform=\"translate(189.3939393939394,6)translate(0,-10.0)\"><tspan style=\"dominant-baseline:inherit\">12</tspan></text><text style=\"dominant-baseline:hanging;font-size:10px;font-weight:normal;stroke:none;text-anchor:middle\" transform=\"translate(219.6969696969697,6)translate(0,-10.0)\"><tspan style=\"dominant-baseline:inherit\">14</tspan></text></g><text style=\"dominant-baseline:hanging;font-size:12px;font-weight:bold;stroke:none;text-anchor:middle\" transform=\"translate(125.0,22)\"><tspan style=\"dominant-baseline:inherit\">n variable (or pis) sites</tspan></text><g class=\"toyplot-coordinates-Axis-coordinates\" style=\"visibility:hidden\" transform=\"\"><line style=\"stroke:rgb(43.9%,50.2%,56.5%);stroke-opacity:1.0;stroke-width:1.0\" x1=\"0\" x2=\"0\" y1=\"-3.0\" y2=\"4.5\"></line><text style=\"alignment-baseline:alphabetic;fill:rgb(43.9%,50.2%,56.5%);fill-opacity:1.0;font-size:10px;font-weight:normal;stroke:none;text-anchor:middle\" x=\"0\" y=\"-6\"></text></g></g><g class=\"toyplot-coordinates-Axis\" id=\"t63404e0ec7f94296b71c5f197a1a1acf\" transform=\"translate(50.0,250.0)rotate(-90.0)translate(0,-10.0)\"><line style=\"\" x1=\"0\" x2=\"189.22\" y1=\"0\" y2=\"0\"></line><g><line style=\"\" x1=\"0.0\" x2=\"0.0\" y1=\"0\" y2=\"5\"></line><line style=\"\" x1=\"50.0\" x2=\"50.0\" y1=\"0\" y2=\"5\"></line><line style=\"\" x1=\"100.0\" x2=\"100.0\" y1=\"0\" y2=\"5\"></line><line style=\"\" x1=\"150.0\" x2=\"150.0\" y1=\"0\" y2=\"5\"></line><line style=\"\" x1=\"200.0\" x2=\"200.0\" y1=\"0\" y2=\"5\"></line></g><g><text style=\"dominant-baseline:alphabetic;font-size:10px;font-weight:normal;stroke:none;text-anchor:middle\" transform=\"translate(0.0,-6)translate(0,-5.0)\"><tspan style=\"dominant-baseline:inherit\">0</tspan></text><text style=\"dominant-baseline:alphabetic;font-size:10px;font-weight:normal;stroke:none;text-anchor:middle\" transform=\"translate(50.0,-6)translate(0,-5.0)\"><tspan style=\"dominant-baseline:inherit\">2500</tspan></text><text style=\"dominant-baseline:alphabetic;font-size:10px;font-weight:normal;stroke:none;text-anchor:middle\" transform=\"translate(100.0,-6)translate(0,-5.0)\"><tspan style=\"dominant-baseline:inherit\">5000</tspan></text><text style=\"dominant-baseline:alphabetic;font-size:10px;font-weight:normal;stroke:none;text-anchor:middle\" transform=\"translate(150.0,-6)translate(0,-5.0)\"><tspan style=\"dominant-baseline:inherit\">7500</tspan></text><text style=\"dominant-baseline:alphabetic;font-size:10px;font-weight:normal;stroke:none;text-anchor:middle\" transform=\"translate(200.0,-6)translate(0,-5.0)\"><tspan style=\"dominant-baseline:inherit\">10000</tspan></text></g><text style=\"dominant-baseline:alphabetic;font-size:12px;font-weight:bold;stroke:none;text-anchor:middle\" transform=\"translate(100.0,-22)translate(0,-35.0)\"><tspan style=\"dominant-baseline:inherit\">n nloci w/ n var (or pis) sites</tspan></text><g class=\"toyplot-coordinates-Axis-coordinates\" style=\"visibility:hidden\" transform=\"\"><line style=\"stroke:rgb(43.9%,50.2%,56.5%);stroke-opacity:1.0;stroke-width:1.0\" x1=\"0\" x2=\"0\" y1=\"3.0\" y2=\"-4.5\"></line><text style=\"alignment-baseline:hanging;fill:rgb(43.9%,50.2%,56.5%);fill-opacity:1.0;font-size:10px;font-weight:normal;stroke:none;text-anchor:middle\" x=\"0\" y=\"6\"></text></g></g></g></svg><div class=\"toyplot-interactive\"><ul class=\"toyplot-mark-popup\" onmouseleave=\"this.style.visibility='hidden'\" style=\"background:rgba(0%,0%,0%,0.75);border:0;border-radius:6px;color:white;cursor:default;list-style:none;margin:0;padding:5px;position:fixed;visibility:hidden\">\n",
       "            <li class=\"toyplot-mark-popup-title\" style=\"color:lightgray;cursor:default;padding:5px;list-style:none;margin:0\"></li>\n",
       "            <li class=\"toyplot-mark-popup-save-csv\" onmouseout=\"this.style.color='white';this.style.background='steelblue'\" onmouseover=\"this.style.color='steelblue';this.style.background='white'\" style=\"border-radius:3px;padding:5px;list-style:none;margin:0\">\n",
       "                Save as .csv\n",
       "            </li>\n",
       "        </ul><script>\n",
       "        (function()\n",
       "        {\n",
       "          var data_tables = [{\"title\": \"Bar Data\", \"names\": [\"left\", \"right\", \"baseline\", \"magnitude0\"], \"id\": \"t46509f9aef234a558bbcf7fef8b5a6c7\", \"columns\": [[-0.5, 0.5, 1.5, 2.5, 3.5, 4.5, 5.5, 6.5, 7.5, 8.5, 9.5, 10.5, 11.5, 12.5, 13.5, 14.5, 15.5, 16.5, 17.5, 18.5, 19.5], [0.5, 1.5, 2.5, 3.5, 4.5, 5.5, 6.5, 7.5, 8.5, 9.5, 10.5, 11.5, 12.5, 13.5, 14.5, 15.5, 16.5, 17.5, 18.5, 19.5, 20.5], [0.0, 0.0, 0.0, 0.0, 0.0, 0.0, 0.0, 0.0, 0.0, 0.0, 0.0, 0.0, 0.0, 0.0, 0.0, 0.0, 0.0, 0.0, 0.0, 0.0, 0.0], [5439.0, 7404.0, 6958.0, 5365.0, 3945.0, 2861.0, 2104.0, 1377.0, 1111.0, 737.0, 496.0, 363.0, 207.0, 128.0, 84.0, 41.0, 11.0, 11.0, 8.0, 4.0, 2.0]], \"filename\": \"toyplot\"}, {\"title\": \"Bar Data\", \"names\": [\"left\", \"right\", \"baseline\", \"magnitude0\"], \"id\": \"ta56ff43c4c734e12b839a0f372d4c3d5\", \"columns\": [[-0.5, 0.5, 1.5, 2.5, 3.5, 4.5, 5.5, 6.5, 7.5, 8.5, 9.5, 10.5, 11.5, 12.5, 13.5, 14.5, 15.5, 16.5, 17.5, 18.5, 19.5], [0.5, 1.5, 2.5, 3.5, 4.5, 5.5, 6.5, 7.5, 8.5, 9.5, 10.5, 11.5, 12.5, 13.5, 14.5, 15.5, 16.5, 17.5, 18.5, 19.5, 20.5], [0.0, 0.0, 0.0, 0.0, 0.0, 0.0, 0.0, 0.0, 0.0, 0.0, 0.0, 0.0, 0.0, 0.0, 0.0, 0.0, 0.0, 0.0, 0.0, 0.0, 0.0], [9461.0, 8974.0, 6801.0, 4522.0, 3071.0, 2010.0, 1339.0, 906.0, 625.0, 427.0, 244.0, 135.0, 60.0, 34.0, 22.0, 12.0, 8.0, 4.0, 1.0, 0.0, 0.0]], \"filename\": \"toyplot\"}];\n",
       "\n",
       "          function save_csv(data_table)\n",
       "          {\n",
       "            var uri = \"data:text/csv;charset=utf-8,\";\n",
       "            uri += data_table.names.join(\",\") + \"\\n\";\n",
       "            for(var i = 0; i != data_table.columns[0].length; ++i)\n",
       "            {\n",
       "              for(var j = 0; j != data_table.columns.length; ++j)\n",
       "              {\n",
       "                if(j)\n",
       "                  uri += \",\";\n",
       "                uri += data_table.columns[j][i];\n",
       "              }\n",
       "              uri += \"\\n\";\n",
       "            }\n",
       "            uri = encodeURI(uri);\n",
       "\n",
       "            var link = document.createElement(\"a\");\n",
       "            if(typeof link.download != \"undefined\")\n",
       "            {\n",
       "              link.href = uri;\n",
       "              link.style = \"visibility:hidden\";\n",
       "              link.download = data_table.filename + \".csv\";\n",
       "\n",
       "              document.body.appendChild(link);\n",
       "              link.click();\n",
       "              document.body.removeChild(link);\n",
       "            }\n",
       "            else\n",
       "            {\n",
       "              window.open(uri);\n",
       "            }\n",
       "          }\n",
       "\n",
       "          function open_popup(data_table)\n",
       "          {\n",
       "            return function(e)\n",
       "            {\n",
       "              var popup = document.querySelector(\"#t27cc3bfa4678428e9db984dfb496e9c9 .toyplot-mark-popup\");\n",
       "              popup.querySelector(\".toyplot-mark-popup-title\").innerHTML = data_table.title;\n",
       "              popup.querySelector(\".toyplot-mark-popup-save-csv\").onclick = function() { popup.style.visibility = \"hidden\"; save_csv(data_table); }\n",
       "              popup.style.left = (e.clientX - 50) + \"px\";\n",
       "              popup.style.top = (e.clientY - 20) + \"px\";\n",
       "              popup.style.visibility = \"visible\";\n",
       "              e.stopPropagation();\n",
       "              e.preventDefault();\n",
       "            }\n",
       "\n",
       "          }\n",
       "\n",
       "          for(var i = 0; i != data_tables.length; ++i)\n",
       "          {\n",
       "            var data_table = data_tables[i];\n",
       "            var event_target = document.querySelector(\"#\" + data_table.id);\n",
       "            event_target.oncontextmenu = open_popup(data_table);\n",
       "          }\n",
       "        })();\n",
       "        </script><script>\n",
       "        (function()\n",
       "        {\n",
       "            function _sign(x)\n",
       "            {\n",
       "                return x < 0 ? -1 : x > 0 ? 1 : 0;\n",
       "            }\n",
       "\n",
       "            function _mix(a, b, amount)\n",
       "            {\n",
       "                return ((1.0 - amount) * a) + (amount * b);\n",
       "            }\n",
       "\n",
       "            function _log(x, base)\n",
       "            {\n",
       "                return Math.log(Math.abs(x)) / Math.log(base);\n",
       "            }\n",
       "\n",
       "            function _in_range(a, x, b)\n",
       "            {\n",
       "                var left = Math.min(a, b);\n",
       "                var right = Math.max(a, b);\n",
       "                return left <= x && x <= right;\n",
       "            }\n",
       "\n",
       "            function inside(range, projection)\n",
       "            {\n",
       "                for(var i = 0; i != projection.length; ++i)\n",
       "                {\n",
       "                    var segment = projection[i];\n",
       "                    if(_in_range(segment.range.min, range, segment.range.max))\n",
       "                        return true;\n",
       "                }\n",
       "                return false;\n",
       "            }\n",
       "\n",
       "            function to_domain(range, projection)\n",
       "            {\n",
       "                for(var i = 0; i != projection.length; ++i)\n",
       "                {\n",
       "                    var segment = projection[i];\n",
       "                    if(_in_range(segment.range.bounds.min, range, segment.range.bounds.max))\n",
       "                    {\n",
       "                        if(segment.scale == \"linear\")\n",
       "                        {\n",
       "                            var amount = (range - segment.range.min) / (segment.range.max - segment.range.min);\n",
       "                            return _mix(segment.domain.min, segment.domain.max, amount)\n",
       "                        }\n",
       "                        else if(segment.scale[0] == \"log\")\n",
       "                        {\n",
       "                            var amount = (range - segment.range.min) / (segment.range.max - segment.range.min);\n",
       "                            var base = segment.scale[1];\n",
       "                            return _sign(segment.domain.min) * Math.pow(base, _mix(_log(segment.domain.min, base), _log(segment.domain.max, base), amount));\n",
       "                        }\n",
       "                    }\n",
       "                }\n",
       "            }\n",
       "\n",
       "            function display_coordinates(e)\n",
       "            {\n",
       "                var current = svg.createSVGPoint();\n",
       "                current.x = e.clientX;\n",
       "                current.y = e.clientY;\n",
       "\n",
       "                for(var axis_id in axes)\n",
       "                {\n",
       "                    var axis = document.querySelector(\"#\" + axis_id);\n",
       "                    var coordinates = axis.querySelector(\".toyplot-coordinates-Axis-coordinates\");\n",
       "                    if(coordinates)\n",
       "                    {\n",
       "                        var projection = axes[axis_id];\n",
       "                        var local = current.matrixTransform(axis.getScreenCTM().inverse());\n",
       "                        if(inside(local.x, projection))\n",
       "                        {\n",
       "                            var domain = to_domain(local.x, projection);\n",
       "                            coordinates.style.visibility = \"visible\";\n",
       "                            coordinates.setAttribute(\"transform\", \"translate(\" + local.x + \")\");\n",
       "                            var text = coordinates.querySelector(\"text\");\n",
       "                            text.textContent = domain.toFixed(2);\n",
       "                        }\n",
       "                        else\n",
       "                        {\n",
       "                            coordinates.style.visibility= \"hidden\";\n",
       "                        }\n",
       "                    }\n",
       "                }\n",
       "            }\n",
       "\n",
       "            var root_id = \"t27cc3bfa4678428e9db984dfb496e9c9\";\n",
       "            var axes = {\"t2da1dcdd6dbf47619ad9c5b0395a7fbb\": [{\"domain\": {\"bounds\": {\"max\": Infinity, \"min\": -Infinity}, \"max\": 16.0, \"min\": -0.5}, \"range\": {\"bounds\": {\"max\": Infinity, \"min\": -Infinity}, \"max\": 250.0, \"min\": 0.0}, \"scale\": \"linear\"}], \"t63404e0ec7f94296b71c5f197a1a1acf\": [{\"domain\": {\"bounds\": {\"max\": Infinity, \"min\": -Infinity}, \"max\": 10000.0, \"min\": 0.0}, \"range\": {\"bounds\": {\"max\": Infinity, \"min\": -Infinity}, \"max\": 200.0, \"min\": 0.0}, \"scale\": \"linear\"}]};\n",
       "\n",
       "            var svg = document.querySelector(\"#\" + root_id + \" svg\");\n",
       "            svg.addEventListener(\"click\", display_coordinates);\n",
       "        })();\n",
       "        </script></div></div>"
      ]
     },
     "metadata": {},
     "output_type": "display_data"
    }
   ],
   "source": [
    "## deconstruct array into bins\n",
    "vbars, vbins = np.histogram(varlocs, bins=range(0, varlocs.max()+2))\n",
    "pbars, pbins = np.histogram(pislocs, bins=range(0, varlocs.max()+2))\n",
    "\n",
    "## setup canvas and axes\n",
    "canvas = toyplot.Canvas(width=350, height=300)\n",
    "axes = canvas.cartesian(xlabel=\"n variable (or pis) sites\",\n",
    "                        ylabel=\"n nloci w/ n var (or pis) sites\",\n",
    "                        gutter=50)\n",
    "\n",
    "## set up x axis\n",
    "axes.x.domain.max = 16\n",
    "axes.x.spine.show = False\n",
    "axes.x.ticks.labels.style = {\"baseline-shift\":\"10px\"}\n",
    "axes.x.ticks.locator = toyplot.locator.Explicit(\n",
    "    range(0, 16, 2), \n",
    "    map(str, range(0, 16, 2)))\n",
    "\n",
    "## set up y axis\n",
    "axes.y.ticks.show=True\n",
    "axes.y.label.style = {\"baseline-shift\":\"35px\"}\n",
    "axes.y.ticks.labels.style = {\"baseline-shift\":\"5px\"}\n",
    "axes.y.ticks.below = 0\n",
    "axes.y.ticks.above = 5\n",
    "axes.y.domain.min = 0\n",
    "axes.y.domain.max = 10000\n",
    "axes.y.ticks.locator = toyplot.locator.Explicit(\n",
    "    range(0, 11000, 2500), \n",
    "    map(str, range(0, 11000, 2500)))\n",
    "\n",
    "## add bars\n",
    "axes.bars(vbars, color=colormap[1], opacity=0.5)\n",
    "axes.bars(pbars, color=colormap[0], opacity=0.5)\n",
    "\n",
    "## or as a filled/smoothed plot\n",
    "#x = np.arange(0, len(pbars))\n",
    "#fill = axes.fill(x, vbars, color=colormap[0], opacity=0.5)\n",
    "#fill = axes.fill(x, pbars, color=colormap[1], opacity=0.5)"
   ]
  },
  {
   "cell_type": "markdown",
   "metadata": {},
   "source": [
    "### Variation along the length of reads\n",
    "This data includes 75bp reads sequenced on an Illumina GAIIx. We know that the error rate increases along the length of reads, and that the error rate was a bit higher in this older type of data than it is in more recent sequencing technology.  "
   ]
  },
  {
   "cell_type": "code",
   "execution_count": 41,
   "metadata": {
    "collapsed": false
   },
   "outputs": [
    {
     "name": "stdout",
     "output_type": "stream",
     "text": [
      "[   0    0    0    0    0 1209 1316 1345 1403 1509 1510 1447 1496 1505 1480\n",
      " 1542 1496 1585 1602 1586 1526 1580 1546 1497 1508 1545 1566 1599 1560 1539\n",
      " 1553 1589 1582 1582 1616 1608 1626 1597 1600 1668 1688 1573 1646 1571 1598\n",
      " 1635 1694 1631 1656 1671 1720 1724 1675 1660 1700 1677 1694 1800 1803 1713\n",
      " 1862 1833 1890 1956 2044 2057 2017 2236 2287 2476 2532 2703 2844 3021  804\n",
      "  505  297  188  107   53   28   12]\n",
      "[   0    0    0    0    0  868  988  964  932  996 1020 1035 1112 1069 1038\n",
      " 1084 1105 1118 1182 1039 1036 1151 1110 1154 1133 1164 1055 1140 1130 1095\n",
      " 1175 1181 1068 1175 1111 1107 1148 1143 1165 1193 1097 1130 1218 1141 1146\n",
      " 1207 1138 1228 1222 1142 1152 1173 1191 1176 1209 1188 1217 1338 1274 1302\n",
      " 1320 1296 1377 1455 1391 1447 1577 1611 1773 1857 2008 2106 2252 2498  546\n",
      "  326  256  134   95   50   26   10]\n",
      "maxlen =  81\n"
     ]
    }
   ],
   "source": [
    "## the snps array is longer than the actual seq length (it's a bit padded)\n",
    "## and so we want to lop the extra on the end off. Let's get the max values w/ data.\n",
    "maxend = np.where(fsnps[:, :, :].sum(axis=0).sum(axis=1) != 0)[0].max()\n",
    "\n",
    "## all variables (including autapomorphies)\n",
    "distvar = np.sum(fsnps[:, :maxend+1, 0].astype(np.int), axis=0)\n",
    "print(distvar)\n",
    "\n",
    "## synapomorphies (just pis)\n",
    "distpis = fsnps[:, :maxend+1, 1].sum(axis=0)\n",
    "print(distpis)\n",
    "\n",
    "## how long is the longest seq\n",
    "print 'maxlen = ', maxend"
   ]
  },
  {
   "cell_type": "markdown",
   "metadata": {},
   "source": [
    "### Plot distribution of variation along length of RAD loci"
   ]
  },
  {
   "cell_type": "code",
   "execution_count": 42,
   "metadata": {
    "collapsed": false
   },
   "outputs": [],
   "source": [
    "def SNP_position_plot(distvar, distpis):\n",
    "    ## set color theme\n",
    "    colormap = toyplot.color.Palette()\n",
    "\n",
    "    ## make a canvas\n",
    "    canvas = toyplot.Canvas(width=800, height=300)\n",
    "\n",
    "    ## make axes\n",
    "    axes = canvas.cartesian(xlabel=\"Position along RAD loci\",\n",
    "                       ylabel=\"N variables sites\",\n",
    "                       gutter=65)\n",
    "    ## x-axis\n",
    "    axes.x.ticks.show = True\n",
    "    axes.x.label.style = {\"baseline-shift\":\"-40px\", \"font-size\":\"16px\"}\n",
    "    axes.x.ticks.labels.style = {\"baseline-shift\":\"-2.5px\", \"font-size\":\"12px\"}\n",
    "    axes.x.ticks.below = 5\n",
    "    axes.x.ticks.above = 0\n",
    "    axes.x.domain.max = maxend\n",
    "    axes.x.ticks.locator = toyplot.locator.Explicit(\n",
    "        range(0, maxend, 5), \n",
    "        map(str, range(0, maxend, 5)))\n",
    "    \n",
    "    ## y-axis\n",
    "    axes.y.ticks.show=True\n",
    "    axes.y.label.style = {\"baseline-shift\":\"40px\", \"font-size\":\"16px\"}\n",
    "    axes.y.ticks.labels.style = {\"baseline-shift\":\"5px\", \"font-size\":\"12px\"}\n",
    "    axes.y.ticks.below = 0\n",
    "    axes.y.ticks.above = 5\n",
    "\n",
    "    ## add fill plots\n",
    "    x = np.arange(0, maxend+1)\n",
    "    f1 = axes.fill(x, distvar, color=colormap[0], opacity=0.5, title=\"total variable sites\")\n",
    "    f2 = axes.fill(x, distpis, color=colormap[1], opacity=0.5, title=\"parsimony informative sites\")\n",
    "\n",
    "    ## add a horizontal dashed line at the median Nsnps per site\n",
    "    axes.hlines(np.median(distvar), opacity=0.9, style={\"stroke-dasharray\":\"4, 4\"})\n",
    "    axes.hlines(np.median(distpis), opacity=0.9, style={\"stroke-dasharray\":\"4, 4\"})\n",
    "    \n",
    "    return canvas, axes"
   ]
  },
  {
   "cell_type": "code",
   "execution_count": 43,
   "metadata": {
    "collapsed": false,
    "scrolled": true
   },
   "outputs": [
    {
     "data": {
      "image/png": "[encoded data removed]",
      "text/html": [
       "<div align=\"center\" class=\"toyplot\" id=\"t986525945fdd401bb1aae146e69c0130\"><svg class=\"toyplot-canvas-Canvas\" height=\"300.0px\" id=\"t92bef8d39ee94759a7cd8e6decf2a804\" preserveAspectRatio=\"xMidYMid meet\" style=\"background-color:transparent;fill:rgb(16.1%,15.3%,14.1%);fill-opacity:1.0;font-family:Helvetica;font-size:12px;opacity:1.0;stroke:rgb(16.1%,15.3%,14.1%);stroke-opacity:1.0;stroke-width:1.0\" viewBox=\"0 0 800.0 300.0\" width=\"800.0px\" xmlns=\"http://www.w3.org/2000/svg\" xmlns:toyplot=\"http://www.sandia.gov/toyplot\" xmlns:xlink=\"http://www.w3.org/1999/xlink\"><g class=\"toyplot-coordinates-Cartesian\" id=\"t85be0a82aeb8430399593e83cc1dd31f\"><clipPath id=\"ta991d6fb7178473f9952ebdd26ec75bc\"><rect height=\"190.0\" width=\"690.0\" x=\"55.0\" y=\"55.0\"></rect></clipPath><g clip-path=\"url(#ta991d6fb7178473f9952ebdd26ec75bc)\"><g class=\"toyplot-mark-FillBoundaries\" id=\"t53bc2311fa374dccb5139d2c00918af8\" style=\"stroke:none\"><polygon points=\"65.0,235.0 73.271604938271608,235.0 81.543209876543216,235.0 89.81481481481481,235.0 98.086419753086432,235.0 106.35802469135803,235.0 114.62962962962962,235.0 122.90123456790124,235.0 131.17283950617283,235.0 139.44444444444443,235.0 147.71604938271605,235.0 155.98765432098764,235.0 164.25925925925927,235.0 172.53086419753086,235.0 180.80246913580245,235.0 189.07407407407408,235.0 197.34567901234567,235.0 205.61728395061726,235.0 213.88888888888886,235.0 222.16049382716048,235.0 230.4320987654321,235.0 238.7037037037037,235.0 246.97530864197529,235.0 255.24691358024691,235.0 263.51851851851853,235.0 271.79012345679013,235.0 280.06172839506172,235.0 288.33333333333331,235.0 296.60493827160491,235.0 304.87654320987656,235.0 313.14814814814815,235.0 321.41975308641975,235.0 329.69135802469134,235.0 337.96296296296293,235.0 346.23456790123453,235.0 354.50617283950612,235.0 362.77777777777771,235.0 371.04938271604937,235.0 379.32098765432096,235.0 387.59259259259255,235.0 395.86419753086415,235.0 404.13580246913585,235.0 412.40740740740739,235.0 420.67901234567904,235.0 428.95061728395058,235.0 437.22222222222229,235.0 445.49382716049382,235.0 453.76543209876547,235.0 462.03703703703701,235.0 470.30864197530866,235.0 478.58024691358025,235.0 486.85185185185185,235.0 495.12345679012344,235.0 503.39506172839504,235.0 511.66666666666669,235.0 519.93827160493822,235.0 528.20987654320982,235.0 536.48148148148152,235.0 544.75308641975312,235.0 553.02469135802471,235.0 561.2962962962963,235.0 569.5679012345679,235.0 577.83950617283949,235.0 586.11111111111109,235.0 594.38271604938279,235.0 602.65432098765427,235.0 610.92592592592587,235.0 619.19753086419746,235.0 627.46913580246905,235.0 635.74074074074076,235.0 644.01234567901224,235.0 652.28395061728395,235.0 660.55555555555543,235.0 668.82716049382714,235.0 677.09876543209873,235.0 685.37037037037032,235.0 693.64197530864192,235.0 701.91358024691363,235.0 710.18518518518511,235.0 718.45679012345681,235.0 726.72839506172829,235.0 735.0,235.0 735.0,234.32472691161865 726.72839506172829,233.42436279377688 718.45679012345681,232.01754385964912 710.18518518518511,228.97881496193313 701.91358024691363,224.42072161535916 693.64197530864192,218.28699106256207 685.37037037037032,206.58225753061902 677.09876543209873,189.75670307845084 668.82716049382714,65.0 660.55555555555543,74.960278053624634 652.28395061728395,82.89473684210526 644.01234567901224,92.517378351539222 635.74074074074076,95.668652763985449 627.46913580246905,106.30420390599139 619.19753086419746,109.17411453161205 610.92592592592587,121.49784839457135 602.65432098765427,119.24693809996688 594.38271604938279,119.97848394571335 586.11111111111109,124.93048659384309 577.83950617283949,128.6444885799404 569.5679012345679,131.85203574975174 561.2962962962963,130.22012578616352 553.02469135802471,138.60476663356505 544.75308641975312,133.54021847070504 536.48148148148152,133.70903674280038 528.20987654320982,139.67394902350216 519.93827160493822,140.63058589870906 511.66666666666669,139.33631247931149 503.39506172839504,141.5872227739159 495.12345679012344,140.74313141343924 486.85185185185185,137.98576630254883 478.58024691358025,138.21085733200928 470.30864197530866,140.96822244289973 462.03703703703701,141.81231380337636 453.76543209876547,143.21913273750414 445.49382716049382,139.67394902350216 437.22222222222229,142.99404170804371 428.95061728395058,145.07613373055278 420.67901234567904,146.59549817941081 412.40740740740739,142.37504137702746 404.13580246913585,146.48295266468057 395.86419753086415,140.0115855676928 387.59259259259255,141.13704071499504 379.32098765432096,144.96358821582257 371.04938271604937,145.1324064879179 362.77777777777771,143.50049652432969 354.50617283950612,144.51340615690168 346.23456790123453,144.06322409798079 337.96296296296293,145.97649784839456 329.69135802469134,145.97649784839456 321.41975308641975,145.58258854683879 313.14814814814815,147.6084078119828 304.87654320987656,148.39622641509433 296.60493827160491,147.21449851042701 288.33333333333331,145.01986097318769 280.06172839506172,146.87686196623636 271.79012345679013,148.05858987090366 263.51851851851853,150.14068189341276 255.24691358024691,150.75968222442901 246.97530864197529,148.00231711353857 238.7037037037037,146.0890433631248 230.4320987654321,149.12777226084077 222.16049382716048,145.75140681893413 213.88888888888886,144.85104270109235 205.61728395061726,145.80767957629922 197.34567901234567,150.81595498179411 189.07407407407408,148.227408142999 180.80246913580245,151.71631909963588 172.53086419753086,150.3095001655081 164.25925925925927,150.81595498179411 155.98765432098764,153.57332009268453 147.71604938271605,150.02813637868258 139.44444444444443,150.08440913604767 131.17283950617283,156.04932141674942 122.90123456790124,159.31314134392588 114.62962962962962,160.94505130751406 106.35802469135803,166.96623634558094 98.086419753086432,235.0 89.81481481481481,235.0 81.543209876543216,235.0 73.271604938271608,235.0 65.0,235.0\" style=\"fill:rgb(40%,76.1%,64.7%);fill-opacity:1.0;opacity:0.5;stroke:none\"><title>total variable sites</title></polygon></g><g class=\"toyplot-mark-FillBoundaries\" id=\"t6afac543018f45c59a9f7041d235a537\" style=\"stroke:none\"><polygon points=\"65.0,235.0 73.271604938271608,235.0 81.543209876543216,235.0 89.81481481481481,235.0 98.086419753086432,235.0 106.35802469135803,235.0 114.62962962962962,235.0 122.90123456790124,235.0 131.17283950617283,235.0 139.44444444444443,235.0 147.71604938271605,235.0 155.98765432098764,235.0 164.25925925925927,235.0 172.53086419753086,235.0 180.80246913580245,235.0 189.07407407407408,235.0 197.34567901234567,235.0 205.61728395061726,235.0 213.88888888888886,235.0 222.16049382716048,235.0 230.4320987654321,235.0 238.7037037037037,235.0 246.97530864197529,235.0 255.24691358024691,235.0 263.51851851851853,235.0 271.79012345679013,235.0 280.06172839506172,235.0 288.33333333333331,235.0 296.60493827160491,235.0 304.87654320987656,235.0 313.14814814814815,235.0 321.41975308641975,235.0 329.69135802469134,235.0 337.96296296296293,235.0 346.23456790123453,235.0 354.50617283950612,235.0 362.77777777777771,235.0 371.04938271604937,235.0 379.32098765432096,235.0 387.59259259259255,235.0 395.86419753086415,235.0 404.13580246913585,235.0 412.40740740740739,235.0 420.67901234567904,235.0 428.95061728395058,235.0 437.22222222222229,235.0 445.49382716049382,235.0 453.76543209876547,235.0 462.03703703703701,235.0 470.30864197530866,235.0 478.58024691358025,235.0 486.85185185185185,235.0 495.12345679012344,235.0 503.39506172839504,235.0 511.66666666666669,235.0 519.93827160493822,235.0 528.20987654320982,235.0 536.48148148148152,235.0 544.75308641975312,235.0 553.02469135802471,235.0 561.2962962962963,235.0 569.5679012345679,235.0 577.83950617283949,235.0 586.11111111111109,235.0 594.38271604938279,235.0 602.65432098765427,235.0 610.92592592592587,235.0 619.19753086419746,235.0 627.46913580246905,235.0 635.74074074074076,235.0 644.01234567901224,235.0 652.28395061728395,235.0 660.55555555555543,235.0 668.82716049382714,235.0 677.09876543209873,235.0 685.37037037037032,235.0 693.64197530864192,235.0 701.91358024691363,235.0 710.18518518518511,235.0 718.45679012345681,235.0 726.72839506172829,235.0 735.0,235.0 735.0,234.43727242634893 726.72839506172829,233.53690830850712 718.45679012345681,232.18636213174446 710.18518518518511,229.65408805031447 701.91358024691363,227.45945051307515 693.64197530864192,220.5941741145316 685.37037037037032,216.65508109897385 677.09876543209873,204.27507447864946 668.82716049382714,94.430652101953001 660.55555555555543,108.27375041377027 652.28395061728395,116.48957298907646 644.01234567901224,122.00430321085733 635.74074074074076,130.50148957298907 627.46913580246905,135.22840119165841 619.19753086419746,144.34458788480634 610.92592592592587,146.25786163522014 602.65432098765427,153.57332009268453 594.38271604938279,156.72459450513074 586.11111111111109,153.12313803376364 577.83950617283949,157.5124131082423 569.5679012345679,162.07050645481627 561.2962962962963,160.71996027805363 553.02469135802471,161.73286991062562 544.75308641975312,163.30850711684872 536.48148148148152,159.70705064548162 528.20987654320982,166.51605428666002 519.93827160493822,168.14796425024826 511.66666666666669,166.96623634558094 503.39506172839504,168.82323733862955 495.12345679012344,167.97914597815293 486.85185185185185,168.99205561072489 478.58024691358025,170.17378351539227 470.30864197530866,170.73651108904335 462.03703703703701,166.2346904998345 453.76543209876547,165.89705395564383 445.49382716049382,170.96160211850381 437.22222222222229,167.07878186031115 428.95061728395058,170.51142005958295 420.67901234567904,170.79278384640847 412.40740740740739,166.45978152929493 404.13580246913585,171.41178417742469 395.86419753086415,173.26878517047334 387.59259259259255,167.86660046342274 379.32098765432096,169.44223766964581 371.04938271604937,170.68023833167828 362.77777777777771,170.39887454485267 354.50617283950612,172.70605759682223 346.23456790123453,172.4809665673618 337.96296296296293,168.8795100959947 329.69135802469134,174.90069513406158 321.41975308641975,168.54187355180406 313.14814814814815,168.8795100959947 304.87654320987656,173.38133068520358 296.60493827160491,171.41178417742469 288.33333333333331,170.84905660377359 280.06172839506172,175.63224097980799 271.79012345679013,169.49851042701093 263.51851851851853,171.24296590532936 255.24691358024691,170.06123800066203 246.97530864197529,172.5372393247269 238.7037037037037,170.23005627275734 230.4320987654321,176.70142336974513 222.16049382716048,176.53260509764979 213.88888888888886,168.48560079443891 205.61728395061726,172.08705726580604 197.34567901234567,172.81860311155248 189.07407407407408,174.00033101621977 180.80246913580245,176.58887785501489 172.53086419753086,174.84442237669646 164.25925925925927,172.42469380999671 155.98765432098764,176.75769612711022 147.71604938271605,177.6017874875869 139.44444444444443,178.95233366434954 131.17283950617283,182.55379013571667 122.90123456790124,180.75306190003309 114.62962962962962,179.40251572327048 106.35802469135803,186.15524660708374 98.086419753086432,235.0 89.81481481481481,235.0 81.543209876543216,235.0 73.271604938271608,235.0 65.0,235.0\" style=\"fill:rgb(98.8%,55.3%,38.4%);fill-opacity:1.0;opacity:0.5;stroke:none\"><title>parsimony informative sites</title></polygon></g><g class=\"toyplot-mark-AxisLines\" id=\"t97be800329dc4a488d84b3d228c0440f\" style=\"stroke-dasharray:4, 4\"><g class=\"toyplot-Series\"><line class=\"toyplot-Datum\" style=\"opacity:0.9;stroke:rgb(16.1%,15.3%,14.1%);stroke-dasharray:4, 4;stroke-opacity:1.0\" x1=\"65.0\" x2=\"735.0\" y1=\"145.66699768288646\" y2=\"145.66699768288646\"></line></g></g><g class=\"toyplot-mark-AxisLines\" id=\"te5a851090a164baf9ca5b7e3b3291eba\" style=\"stroke-dasharray:4, 4\"><g class=\"toyplot-Series\"><line class=\"toyplot-Datum\" style=\"opacity:0.9;stroke:rgb(16.1%,15.3%,14.1%);stroke-dasharray:4, 4;stroke-opacity:1.0\" x1=\"65.0\" x2=\"735.0\" y1=\"170.76464746772595\" y2=\"170.76464746772595\"></line></g></g></g><g class=\"toyplot-coordinates-Axis\" id=\"t8c50f36a54a8408c8ef710cec317ca95\" transform=\"translate(65.0,235.0)translate(0,10.0)\"><line style=\"\" x1=\"0\" x2=\"670.0\" y1=\"0\" y2=\"0\"></line><g><line style=\"\" x1=\"0.0\" x2=\"0.0\" y1=\"0\" y2=\"-5\"></line><line style=\"\" x1=\"41.358024691358025\" x2=\"41.358024691358025\" y1=\"0\" y2=\"-5\"></line><line style=\"\" x1=\"82.71604938271605\" x2=\"82.71604938271605\" y1=\"0\" y2=\"-5\"></line><line style=\"\" x1=\"124.07407407407406\" x2=\"124.07407407407406\" y1=\"0\" y2=\"-5\"></line><line style=\"\" x1=\"165.4320987654321\" x2=\"165.4320987654321\" y1=\"0\" y2=\"-5\"></line><line style=\"\" x1=\"206.7901234567901\" x2=\"206.7901234567901\" y1=\"0\" y2=\"-5\"></line><line style=\"\" x1=\"248.14814814814812\" x2=\"248.14814814814812\" y1=\"0\" y2=\"-5\"></line><line style=\"\" x1=\"289.5061728395062\" x2=\"289.5061728395062\" y1=\"0\" y2=\"-5\"></line><line style=\"\" x1=\"330.8641975308642\" x2=\"330.8641975308642\" y1=\"0\" y2=\"-5\"></line><line style=\"\" x1=\"372.22222222222223\" x2=\"372.22222222222223\" y1=\"0\" y2=\"-5\"></line><line style=\"\" x1=\"413.5802469135802\" x2=\"413.5802469135802\" y1=\"0\" y2=\"-5\"></line><line style=\"\" x1=\"454.9382716049383\" x2=\"454.9382716049383\" y1=\"0\" y2=\"-5\"></line><line style=\"\" x1=\"496.29629629629625\" x2=\"496.29629629629625\" y1=\"0\" y2=\"-5\"></line><line style=\"\" x1=\"537.6543209876543\" x2=\"537.6543209876543\" y1=\"0\" y2=\"-5\"></line><line style=\"\" x1=\"579.0123456790124\" x2=\"579.0123456790124\" y1=\"0\" y2=\"-5\"></line><line style=\"\" x1=\"620.3703703703703\" x2=\"620.3703703703703\" y1=\"0\" y2=\"-5\"></line><line style=\"\" x1=\"661.7283950617284\" x2=\"661.7283950617284\" y1=\"0\" y2=\"-5\"></line></g><g><text style=\"dominant-baseline:hanging;font-size:12px;font-weight:normal;stroke:none;text-anchor:middle\" transform=\"translate(0.0,6)translate(0,2.5)\"><tspan style=\"dominant-baseline:inherit\">0</tspan></text><text style=\"dominant-baseline:hanging;font-size:12px;font-weight:normal;stroke:none;text-anchor:middle\" transform=\"translate(41.358024691358025,6)translate(0,2.5)\"><tspan style=\"dominant-baseline:inherit\">5</tspan></text><text style=\"dominant-baseline:hanging;font-size:12px;font-weight:normal;stroke:none;text-anchor:middle\" transform=\"translate(82.71604938271605,6)translate(0,2.5)\"><tspan style=\"dominant-baseline:inherit\">10</tspan></text><text style=\"dominant-baseline:hanging;font-size:12px;font-weight:normal;stroke:none;text-anchor:middle\" transform=\"translate(124.07407407407406,6)translate(0,2.5)\"><tspan style=\"dominant-baseline:inherit\">15</tspan></text><text style=\"dominant-baseline:hanging;font-size:12px;font-weight:normal;stroke:none;text-anchor:middle\" transform=\"translate(165.4320987654321,6)translate(0,2.5)\"><tspan style=\"dominant-baseline:inherit\">20</tspan></text><text style=\"dominant-baseline:hanging;font-size:12px;font-weight:normal;stroke:none;text-anchor:middle\" transform=\"translate(206.7901234567901,6)translate(0,2.5)\"><tspan style=\"dominant-baseline:inherit\">25</tspan></text><text style=\"dominant-baseline:hanging;font-size:12px;font-weight:normal;stroke:none;text-anchor:middle\" transform=\"translate(248.14814814814812,6)translate(0,2.5)\"><tspan style=\"dominant-baseline:inherit\">30</tspan></text><text style=\"dominant-baseline:hanging;font-size:12px;font-weight:normal;stroke:none;text-anchor:middle\" transform=\"translate(289.5061728395062,6)translate(0,2.5)\"><tspan style=\"dominant-baseline:inherit\">35</tspan></text><text style=\"dominant-baseline:hanging;font-size:12px;font-weight:normal;stroke:none;text-anchor:middle\" transform=\"translate(330.8641975308642,6)translate(0,2.5)\"><tspan style=\"dominant-baseline:inherit\">40</tspan></text><text style=\"dominant-baseline:hanging;font-size:12px;font-weight:normal;stroke:none;text-anchor:middle\" transform=\"translate(372.22222222222223,6)translate(0,2.5)\"><tspan style=\"dominant-baseline:inherit\">45</tspan></text><text style=\"dominant-baseline:hanging;font-size:12px;font-weight:normal;stroke:none;text-anchor:middle\" transform=\"translate(413.5802469135802,6)translate(0,2.5)\"><tspan style=\"dominant-baseline:inherit\">50</tspan></text><text style=\"dominant-baseline:hanging;font-size:12px;font-weight:normal;stroke:none;text-anchor:middle\" transform=\"translate(454.9382716049383,6)translate(0,2.5)\"><tspan style=\"dominant-baseline:inherit\">55</tspan></text><text style=\"dominant-baseline:hanging;font-size:12px;font-weight:normal;stroke:none;text-anchor:middle\" transform=\"translate(496.29629629629625,6)translate(0,2.5)\"><tspan style=\"dominant-baseline:inherit\">60</tspan></text><text style=\"dominant-baseline:hanging;font-size:12px;font-weight:normal;stroke:none;text-anchor:middle\" transform=\"translate(537.6543209876543,6)translate(0,2.5)\"><tspan style=\"dominant-baseline:inherit\">65</tspan></text><text style=\"dominant-baseline:hanging;font-size:12px;font-weight:normal;stroke:none;text-anchor:middle\" transform=\"translate(579.0123456790124,6)translate(0,2.5)\"><tspan style=\"dominant-baseline:inherit\">70</tspan></text><text style=\"dominant-baseline:hanging;font-size:12px;font-weight:normal;stroke:none;text-anchor:middle\" transform=\"translate(620.3703703703703,6)translate(0,2.5)\"><tspan style=\"dominant-baseline:inherit\">75</tspan></text><text style=\"dominant-baseline:hanging;font-size:12px;font-weight:normal;stroke:none;text-anchor:middle\" transform=\"translate(661.7283950617284,6)translate(0,2.5)\"><tspan style=\"dominant-baseline:inherit\">80</tspan></text></g><text style=\"dominant-baseline:hanging;font-size:16px;font-weight:bold;stroke:none;text-anchor:middle\" transform=\"translate(335.0,22)translate(0,40.0)\"><tspan style=\"dominant-baseline:inherit\">Position along RAD loci</tspan></text><g class=\"toyplot-coordinates-Axis-coordinates\" style=\"visibility:hidden\" transform=\"\"><line style=\"stroke:rgb(43.9%,50.2%,56.5%);stroke-opacity:1.0;stroke-width:1.0\" x1=\"0\" x2=\"0\" y1=\"-3.0\" y2=\"4.5\"></line><text style=\"alignment-baseline:alphabetic;fill:rgb(43.9%,50.2%,56.5%);fill-opacity:1.0;font-size:10px;font-weight:normal;stroke:none;text-anchor:middle\" x=\"0\" y=\"-6\"></text></g></g><g class=\"toyplot-coordinates-Axis\" id=\"t01eebfab0a234ab3b210d6ab83ec3496\" transform=\"translate(65.0,235.0)rotate(-90.0)translate(0,-10.0)\"><line style=\"\" x1=\"0\" x2=\"170.0\" y1=\"0\" y2=\"0\"></line><g><line style=\"\" x1=\"0.0\" x2=\"0.0\" y1=\"0\" y2=\"5\"></line><line style=\"\" x1=\"56.272757365110884\" x2=\"56.272757365110884\" y1=\"0\" y2=\"5\"></line><line style=\"\" x1=\"112.54551473022177\" x2=\"112.54551473022177\" y1=\"0\" y2=\"5\"></line><line style=\"\" x1=\"168.81827209533267\" x2=\"168.81827209533267\" y1=\"0\" y2=\"5\"></line></g><g><text style=\"dominant-baseline:alphabetic;font-size:12px;font-weight:normal;stroke:none;text-anchor:middle\" transform=\"translate(0.0,-6)translate(0,-5.0)\"><tspan style=\"dominant-baseline:inherit\">0</tspan></text><text style=\"dominant-baseline:alphabetic;font-size:12px;font-weight:normal;stroke:none;text-anchor:middle\" transform=\"translate(56.272757365110884,-6)translate(0,-5.0)\"><tspan style=\"dominant-baseline:inherit\">1000</tspan></text><text style=\"dominant-baseline:alphabetic;font-size:12px;font-weight:normal;stroke:none;text-anchor:middle\" transform=\"translate(112.54551473022177,-6)translate(0,-5.0)\"><tspan style=\"dominant-baseline:inherit\">2000</tspan></text><text style=\"dominant-baseline:alphabetic;font-size:12px;font-weight:normal;stroke:none;text-anchor:middle\" transform=\"translate(168.81827209533267,-6)translate(0,-5.0)\"><tspan style=\"dominant-baseline:inherit\">3000</tspan></text></g><text style=\"dominant-baseline:alphabetic;font-size:16px;font-weight:bold;stroke:none;text-anchor:middle\" transform=\"translate(85.0,-22)translate(0,-40.0)\"><tspan style=\"dominant-baseline:inherit\">N variables sites</tspan></text><g class=\"toyplot-coordinates-Axis-coordinates\" style=\"visibility:hidden\" transform=\"\"><line style=\"stroke:rgb(43.9%,50.2%,56.5%);stroke-opacity:1.0;stroke-width:1.0\" x1=\"0\" x2=\"0\" y1=\"3.0\" y2=\"-4.5\"></line><text style=\"alignment-baseline:hanging;fill:rgb(43.9%,50.2%,56.5%);fill-opacity:1.0;font-size:10px;font-weight:normal;stroke:none;text-anchor:middle\" x=\"0\" y=\"6\"></text></g></g></g></svg><div class=\"toyplot-interactive\"><ul class=\"toyplot-mark-popup\" onmouseleave=\"this.style.visibility='hidden'\" style=\"background:rgba(0%,0%,0%,0.75);border:0;border-radius:6px;color:white;cursor:default;list-style:none;margin:0;padding:5px;position:fixed;visibility:hidden\">\n",
       "            <li class=\"toyplot-mark-popup-title\" style=\"color:lightgray;cursor:default;padding:5px;list-style:none;margin:0\"></li>\n",
       "            <li class=\"toyplot-mark-popup-save-csv\" onmouseout=\"this.style.color='white';this.style.background='steelblue'\" onmouseover=\"this.style.color='steelblue';this.style.background='white'\" style=\"border-radius:3px;padding:5px;list-style:none;margin:0\">\n",
       "                Save as .csv\n",
       "            </li>\n",
       "        </ul><script>\n",
       "        (function()\n",
       "        {\n",
       "          var data_tables = [{\"title\": \"Fill Data\", \"names\": [\"x\", \"y0\", \"y1\"], \"id\": \"t53bc2311fa374dccb5139d2c00918af8\", \"columns\": [[0.0, 1.0, 2.0, 3.0, 4.0, 5.0, 6.0, 7.0, 8.0, 9.0, 10.0, 11.0, 12.0, 13.0, 14.0, 15.0, 16.0, 17.0, 18.0, 19.0, 20.0, 21.0, 22.0, 23.0, 24.0, 25.0, 26.0, 27.0, 28.0, 29.0, 30.0, 31.0, 32.0, 33.0, 34.0, 35.0, 36.0, 37.0, 38.0, 39.0, 40.0, 41.0, 42.0, 43.0, 44.0, 45.0, 46.0, 47.0, 48.0, 49.0, 50.0, 51.0, 52.0, 53.0, 54.0, 55.0, 56.0, 57.0, 58.0, 59.0, 60.0, 61.0, 62.0, 63.0, 64.0, 65.0, 66.0, 67.0, 68.0, 69.0, 70.0, 71.0, 72.0, 73.0, 74.0, 75.0, 76.0, 77.0, 78.0, 79.0, 80.0, 81.0], [0.0, 0.0, 0.0, 0.0, 0.0, 0.0, 0.0, 0.0, 0.0, 0.0, 0.0, 0.0, 0.0, 0.0, 0.0, 0.0, 0.0, 0.0, 0.0, 0.0, 0.0, 0.0, 0.0, 0.0, 0.0, 0.0, 0.0, 0.0, 0.0, 0.0, 0.0, 0.0, 0.0, 0.0, 0.0, 0.0, 0.0, 0.0, 0.0, 0.0, 0.0, 0.0, 0.0, 0.0, 0.0, 0.0, 0.0, 0.0, 0.0, 0.0, 0.0, 0.0, 0.0, 0.0, 0.0, 0.0, 0.0, 0.0, 0.0, 0.0, 0.0, 0.0, 0.0, 0.0, 0.0, 0.0, 0.0, 0.0, 0.0, 0.0, 0.0, 0.0, 0.0, 0.0, 0.0, 0.0, 0.0, 0.0, 0.0, 0.0, 0.0, 0.0], [0.0, 0.0, 0.0, 0.0, 0.0, 1209.0, 1316.0, 1345.0, 1403.0, 1509.0, 1510.0, 1447.0, 1496.0, 1505.0, 1480.0, 1542.0, 1496.0, 1585.0, 1602.0, 1586.0, 1526.0, 1580.0, 1546.0, 1497.0, 1508.0, 1545.0, 1566.0, 1599.0, 1560.0, 1539.0, 1553.0, 1589.0, 1582.0, 1582.0, 1616.0, 1608.0, 1626.0, 1597.0, 1600.0, 1668.0, 1688.0, 1573.0, 1646.0, 1571.0, 1598.0, 1635.0, 1694.0, 1631.0, 1656.0, 1671.0, 1720.0, 1724.0, 1675.0, 1660.0, 1700.0, 1677.0, 1694.0, 1800.0, 1803.0, 1713.0, 1862.0, 1833.0, 1890.0, 1956.0, 2044.0, 2057.0, 2017.0, 2236.0, 2287.0, 2476.0, 2532.0, 2703.0, 2844.0, 3021.0, 804.0, 505.0, 297.0, 188.0, 107.0, 53.0, 28.0, 12.0]], \"filename\": \"toyplot\"}, {\"title\": \"Fill Data\", \"names\": [\"x\", \"y0\", \"y1\"], \"id\": \"t6afac543018f45c59a9f7041d235a537\", \"columns\": [[0.0, 1.0, 2.0, 3.0, 4.0, 5.0, 6.0, 7.0, 8.0, 9.0, 10.0, 11.0, 12.0, 13.0, 14.0, 15.0, 16.0, 17.0, 18.0, 19.0, 20.0, 21.0, 22.0, 23.0, 24.0, 25.0, 26.0, 27.0, 28.0, 29.0, 30.0, 31.0, 32.0, 33.0, 34.0, 35.0, 36.0, 37.0, 38.0, 39.0, 40.0, 41.0, 42.0, 43.0, 44.0, 45.0, 46.0, 47.0, 48.0, 49.0, 50.0, 51.0, 52.0, 53.0, 54.0, 55.0, 56.0, 57.0, 58.0, 59.0, 60.0, 61.0, 62.0, 63.0, 64.0, 65.0, 66.0, 67.0, 68.0, 69.0, 70.0, 71.0, 72.0, 73.0, 74.0, 75.0, 76.0, 77.0, 78.0, 79.0, 80.0, 81.0], [0.0, 0.0, 0.0, 0.0, 0.0, 0.0, 0.0, 0.0, 0.0, 0.0, 0.0, 0.0, 0.0, 0.0, 0.0, 0.0, 0.0, 0.0, 0.0, 0.0, 0.0, 0.0, 0.0, 0.0, 0.0, 0.0, 0.0, 0.0, 0.0, 0.0, 0.0, 0.0, 0.0, 0.0, 0.0, 0.0, 0.0, 0.0, 0.0, 0.0, 0.0, 0.0, 0.0, 0.0, 0.0, 0.0, 0.0, 0.0, 0.0, 0.0, 0.0, 0.0, 0.0, 0.0, 0.0, 0.0, 0.0, 0.0, 0.0, 0.0, 0.0, 0.0, 0.0, 0.0, 0.0, 0.0, 0.0, 0.0, 0.0, 0.0, 0.0, 0.0, 0.0, 0.0, 0.0, 0.0, 0.0, 0.0, 0.0, 0.0, 0.0, 0.0], [0.0, 0.0, 0.0, 0.0, 0.0, 868.0, 988.0, 964.0, 932.0, 996.0, 1020.0, 1035.0, 1112.0, 1069.0, 1038.0, 1084.0, 1105.0, 1118.0, 1182.0, 1039.0, 1036.0, 1151.0, 1110.0, 1154.0, 1133.0, 1164.0, 1055.0, 1140.0, 1130.0, 1095.0, 1175.0, 1181.0, 1068.0, 1175.0, 1111.0, 1107.0, 1148.0, 1143.0, 1165.0, 1193.0, 1097.0, 1130.0, 1218.0, 1141.0, 1146.0, 1207.0, 1138.0, 1228.0, 1222.0, 1142.0, 1152.0, 1173.0, 1191.0, 1176.0, 1209.0, 1188.0, 1217.0, 1338.0, 1274.0, 1302.0, 1320.0, 1296.0, 1377.0, 1455.0, 1391.0, 1447.0, 1577.0, 1611.0, 1773.0, 1857.0, 2008.0, 2106.0, 2252.0, 2498.0, 546.0, 326.0, 256.0, 134.0, 95.0, 50.0, 26.0, 10.0]], \"filename\": \"toyplot\"}];\n",
       "\n",
       "          function save_csv(data_table)\n",
       "          {\n",
       "            var uri = \"data:text/csv;charset=utf-8,\";\n",
       "            uri += data_table.names.join(\",\") + \"\\n\";\n",
       "            for(var i = 0; i != data_table.columns[0].length; ++i)\n",
       "            {\n",
       "              for(var j = 0; j != data_table.columns.length; ++j)\n",
       "              {\n",
       "                if(j)\n",
       "                  uri += \",\";\n",
       "                uri += data_table.columns[j][i];\n",
       "              }\n",
       "              uri += \"\\n\";\n",
       "            }\n",
       "            uri = encodeURI(uri);\n",
       "\n",
       "            var link = document.createElement(\"a\");\n",
       "            if(typeof link.download != \"undefined\")\n",
       "            {\n",
       "              link.href = uri;\n",
       "              link.style = \"visibility:hidden\";\n",
       "              link.download = data_table.filename + \".csv\";\n",
       "\n",
       "              document.body.appendChild(link);\n",
       "              link.click();\n",
       "              document.body.removeChild(link);\n",
       "            }\n",
       "            else\n",
       "            {\n",
       "              window.open(uri);\n",
       "            }\n",
       "          }\n",
       "\n",
       "          function open_popup(data_table)\n",
       "          {\n",
       "            return function(e)\n",
       "            {\n",
       "              var popup = document.querySelector(\"#t986525945fdd401bb1aae146e69c0130 .toyplot-mark-popup\");\n",
       "              popup.querySelector(\".toyplot-mark-popup-title\").innerHTML = data_table.title;\n",
       "              popup.querySelector(\".toyplot-mark-popup-save-csv\").onclick = function() { popup.style.visibility = \"hidden\"; save_csv(data_table); }\n",
       "              popup.style.left = (e.clientX - 50) + \"px\";\n",
       "              popup.style.top = (e.clientY - 20) + \"px\";\n",
       "              popup.style.visibility = \"visible\";\n",
       "              e.stopPropagation();\n",
       "              e.preventDefault();\n",
       "            }\n",
       "\n",
       "          }\n",
       "\n",
       "          for(var i = 0; i != data_tables.length; ++i)\n",
       "          {\n",
       "            var data_table = data_tables[i];\n",
       "            var event_target = document.querySelector(\"#\" + data_table.id);\n",
       "            event_target.oncontextmenu = open_popup(data_table);\n",
       "          }\n",
       "        })();\n",
       "        </script><script>\n",
       "        (function()\n",
       "        {\n",
       "            function _sign(x)\n",
       "            {\n",
       "                return x < 0 ? -1 : x > 0 ? 1 : 0;\n",
       "            }\n",
       "\n",
       "            function _mix(a, b, amount)\n",
       "            {\n",
       "                return ((1.0 - amount) * a) + (amount * b);\n",
       "            }\n",
       "\n",
       "            function _log(x, base)\n",
       "            {\n",
       "                return Math.log(Math.abs(x)) / Math.log(base);\n",
       "            }\n",
       "\n",
       "            function _in_range(a, x, b)\n",
       "            {\n",
       "                var left = Math.min(a, b);\n",
       "                var right = Math.max(a, b);\n",
       "                return left <= x && x <= right;\n",
       "            }\n",
       "\n",
       "            function inside(range, projection)\n",
       "            {\n",
       "                for(var i = 0; i != projection.length; ++i)\n",
       "                {\n",
       "                    var segment = projection[i];\n",
       "                    if(_in_range(segment.range.min, range, segment.range.max))\n",
       "                        return true;\n",
       "                }\n",
       "                return false;\n",
       "            }\n",
       "\n",
       "            function to_domain(range, projection)\n",
       "            {\n",
       "                for(var i = 0; i != projection.length; ++i)\n",
       "                {\n",
       "                    var segment = projection[i];\n",
       "                    if(_in_range(segment.range.bounds.min, range, segment.range.bounds.max))\n",
       "                    {\n",
       "                        if(segment.scale == \"linear\")\n",
       "                        {\n",
       "                            var amount = (range - segment.range.min) / (segment.range.max - segment.range.min);\n",
       "                            return _mix(segment.domain.min, segment.domain.max, amount)\n",
       "                        }\n",
       "                        else if(segment.scale[0] == \"log\")\n",
       "                        {\n",
       "                            var amount = (range - segment.range.min) / (segment.range.max - segment.range.min);\n",
       "                            var base = segment.scale[1];\n",
       "                            return _sign(segment.domain.min) * Math.pow(base, _mix(_log(segment.domain.min, base), _log(segment.domain.max, base), amount));\n",
       "                        }\n",
       "                    }\n",
       "                }\n",
       "            }\n",
       "\n",
       "            function display_coordinates(e)\n",
       "            {\n",
       "                var current = svg.createSVGPoint();\n",
       "                current.x = e.clientX;\n",
       "                current.y = e.clientY;\n",
       "\n",
       "                for(var axis_id in axes)\n",
       "                {\n",
       "                    var axis = document.querySelector(\"#\" + axis_id);\n",
       "                    var coordinates = axis.querySelector(\".toyplot-coordinates-Axis-coordinates\");\n",
       "                    if(coordinates)\n",
       "                    {\n",
       "                        var projection = axes[axis_id];\n",
       "                        var local = current.matrixTransform(axis.getScreenCTM().inverse());\n",
       "                        if(inside(local.x, projection))\n",
       "                        {\n",
       "                            var domain = to_domain(local.x, projection);\n",
       "                            coordinates.style.visibility = \"visible\";\n",
       "                            coordinates.setAttribute(\"transform\", \"translate(\" + local.x + \")\");\n",
       "                            var text = coordinates.querySelector(\"text\");\n",
       "                            text.textContent = domain.toFixed(2);\n",
       "                        }\n",
       "                        else\n",
       "                        {\n",
       "                            coordinates.style.visibility= \"hidden\";\n",
       "                        }\n",
       "                    }\n",
       "                }\n",
       "            }\n",
       "\n",
       "            var root_id = \"t986525945fdd401bb1aae146e69c0130\";\n",
       "            var axes = {\"t01eebfab0a234ab3b210d6ab83ec3496\": [{\"domain\": {\"bounds\": {\"max\": Infinity, \"min\": -Infinity}, \"max\": 3021.0, \"min\": 0.0}, \"range\": {\"bounds\": {\"max\": Infinity, \"min\": -Infinity}, \"max\": 170.0, \"min\": 0.0}, \"scale\": \"linear\"}], \"t8c50f36a54a8408c8ef710cec317ca95\": [{\"domain\": {\"bounds\": {\"max\": Infinity, \"min\": -Infinity}, \"max\": 81.0, \"min\": 0.0}, \"range\": {\"bounds\": {\"max\": Infinity, \"min\": -Infinity}, \"max\": 670.0, \"min\": 0.0}, \"scale\": \"linear\"}]};\n",
       "\n",
       "            var svg = document.querySelector(\"#\" + root_id + \" svg\");\n",
       "            svg.addEventListener(\"click\", display_coordinates);\n",
       "        })();\n",
       "        </script></div></div>"
      ],
      "text/plain": [
       "<toyplot.canvas.Canvas at 0x7f9c8a7f2650>"
      ]
     },
     "execution_count": 43,
     "metadata": {},
     "output_type": "execute_result"
    }
   ],
   "source": [
    "canvas, axes = SNP_position_plot(distvar, distpis)\n",
    "\n",
    "## save fig\n",
    "toyplot.html.render(canvas, 'snp_positions.html')\n",
    "\n",
    "## show fig\n",
    "canvas\n",
    "#axes"
   ]
  },
  {
   "cell_type": "markdown",
   "metadata": {},
   "source": [
    "### Possible reasons for the uptick in SNPs towards the end of reads: \n",
    "+ Sequencing error rate increases along the length of reads\n",
    "+ Poor muscle alignment at the end of reads\n",
    "\n",
    "I think the more likely explanation is that poor alignment towards the end of reads is causing the excess SNPs for two reasons. First, if it was sequencing errors than we would expect an excess of autapomorphies at the end of reads equally or more so than we observe synapomorphies, but that is not the case. And second, increasing the minimum depth does fix the problem. "
   ]
  },
  {
   "cell_type": "markdown",
   "metadata": {},
   "source": [
    "### Apply a more stringent edge filter\n",
    "Positive values of the edge filter "
   ]
  },
  {
   "cell_type": "code",
   "execution_count": null,
   "metadata": {
    "collapsed": true
   },
   "outputs": [],
   "source": [
    "## make a new branch of cyatho-d6-min4\n",
    "data5 = data1.branch('cyatho-d6-min4-trim')\n",
    "\n",
    "## edge filter order is (R1left, R1right, R2left, R2right)\n",
    "## we set the R1right to -10, which trims 10 bases from the right side\n",
    "data5.set_params('edge_filter', (\"4, -10, 4, 4\"))\n",
    "\n",
    "## run step7 to fill new data base w/ filters\n",
    "data5.run('7', force=True)"
   ]
  },
  {
   "cell_type": "code",
   "execution_count": 169,
   "metadata": {
    "collapsed": false
   },
   "outputs": [
    {
     "name": "stdout",
     "output_type": "stream",
     "text": [
      "  loading Assembly: cyatho-d12-min4\n",
      "  from saved path: ~/Downloads/pedicularis/cyatho-d12-min4.json\n"
     ]
    }
   ],
   "source": [
    "data5 = ip.load_json(\"~/Downloads/pedicularis/cyatho-d12-min4\")"
   ]
  },
  {
   "cell_type": "code",
   "execution_count": 170,
   "metadata": {
    "collapsed": false
   },
   "outputs": [
    {
     "name": "stdout",
     "output_type": "stream",
     "text": [
      "prefilter cyatho-d12-min4\n",
      "shape (54652, 150, 2) = (nloci, locus_len, [var,pis])\n",
      "total vars = 158199\n",
      "postfilter cyatho-d12-min4\n",
      "shape (29859, 150, 2) = (nloci, locus_len, [var,pis])\n",
      "total vars = 86868\n",
      "[   0    0    0    0    0  922 1050 1022  982 1066 1108 1018 1090 1089 1104\n",
      " 1134 1082 1085 1182 1131 1133 1134 1127 1119 1157 1168 1133 1150 1174 1082\n",
      " 1162 1161 1084 1178 1186 1146 1128 1151 1149 1177 1218 1142 1196 1146 1172\n",
      " 1226 1211 1167 1215 1181 1239 1244 1188 1180 1217 1242 1222 1297 1321 1245\n",
      " 1313 1337 1322 1404 1436 1507 1519 1603 1624 1727 1871 1878 2041 2199  377\n",
      "  182  132   78   41   24   16    4]\n",
      "[   0    0    0    0    0  428  503  479  484  544  535  522  608  554  523\n",
      "  556  595  588  628  535  535  584  579  576  576  541  551  629  555  597\n",
      "  584  602  543  596  585  540  584  591  616  601  578  588  597  597  553\n",
      "  591  599  606  631  580  617  623  625  594  646  593  606  672  599  673\n",
      "  657  659  675  717  721  686  800  776  844  957  954 1024 1120 1182  198\n",
      "  100   65   33   20   11    6    1]\n",
      "maxlen =  81\n"
     ]
    }
   ],
   "source": [
    "## filter the snps\n",
    "fsnps = filter_snps(data5)\n",
    "\n",
    "## trim non-data \n",
    "maxend = np.where(fsnps[:, :, :].sum(axis=0).sum(axis=1) != 0)[0].max()\n",
    "\n",
    "## all variables (including autapomorphies)\n",
    "distvar = np.sum(fsnps[:, :maxend+1, 0].astype(np.int), axis=0)\n",
    "print(distvar)\n",
    "\n",
    "## synapomorphies (just pis)\n",
    "distpis = fsnps[:, :maxend+1, 1].sum(axis=0)\n",
    "print(distpis)\n",
    "\n",
    "## how long is the longest seq\n",
    "print 'maxlen = ', maxend"
   ]
  },
  {
   "cell_type": "code",
   "execution_count": 171,
   "metadata": {
    "collapsed": false
   },
   "outputs": [
    {
     "data": {
      "image/png": "[encoded data removed]",
      "text/html": [
       "<div align=\"center\" class=\"toyplot\" id=\"tf328e5f59c5c47d387447380f41b0d64\"><svg height=\"300.0px\" id=\"t84d866f08cc340d89b960ab943400675\" preserveAspectRatio=\"xMidYMid meet\" style=\"background-color:transparent;fill:rgb(16.1%,15.3%,14.1%);fill-opacity:1.0;font-family:Helvetica;font-size:12px;opacity:1.0;stroke:rgb(16.1%,15.3%,14.1%);stroke-opacity:1.0;stroke-width:1.0\" viewBox=\"0 0 800.0 300.0\" width=\"800.0px\" xmlns=\"http://www.w3.org/2000/svg\" xmlns:toyplot=\"http://www.sandia.gov/toyplot\"><g class=\"toyplot-axes-Cartesian\" id=\"t4530e23fc63f45ba8c0cbe0d2ac685e2\"><clipPath id=\"t55c47075d6624398a9e39c1a8058561a\"><rect height=\"190.0\" width=\"690.0\" x=\"55.0\" y=\"55.0\"></rect></clipPath><g class=\"toyplot-coordinate-events\" clip-path=\"url(#t55c47075d6624398a9e39c1a8058561a)\" style=\"cursor:crosshair\"><rect height=\"190.0\" style=\"pointer-events:all;visibility:hidden\" width=\"690.0\" x=\"55.0\" y=\"55.0\"></rect><g class=\"toyplot-mark-FillBoundaries\" id=\"t6ae774e7eb014c48940aac644107468f\" style=\"stroke:none\"><polygon points=\"65.0,235.0 73.271604938271608,235.0 81.543209876543216,235.0 89.81481481481481,235.0 98.086419753086432,235.0 106.35802469135803,235.0 114.62962962962962,235.0 122.90123456790124,235.0 131.17283950617283,235.0 139.44444444444443,235.0 147.71604938271605,235.0 155.98765432098764,235.0 164.25925925925927,235.0 172.53086419753086,235.0 180.80246913580245,235.0 189.07407407407408,235.0 197.34567901234567,235.0 205.61728395061726,235.0 213.88888888888886,235.0 222.16049382716048,235.0 230.4320987654321,235.0 238.7037037037037,235.0 246.97530864197529,235.0 255.24691358024691,235.0 263.51851851851853,235.0 271.79012345679013,235.0 280.06172839506172,235.0 288.33333333333331,235.0 296.60493827160491,235.0 304.87654320987656,235.0 313.14814814814815,235.0 321.41975308641975,235.0 329.69135802469134,235.0 337.96296296296293,235.0 346.23456790123453,235.0 354.50617283950612,235.0 362.77777777777771,235.0 371.04938271604937,235.0 379.32098765432096,235.0 387.59259259259255,235.0 395.86419753086415,235.0 404.13580246913585,235.0 412.40740740740739,235.0 420.67901234567904,235.0 428.95061728395058,235.0 437.22222222222229,235.0 445.49382716049382,235.0 453.76543209876547,235.0 462.03703703703701,235.0 470.30864197530866,235.0 478.58024691358025,235.0 486.85185185185185,235.0 495.12345679012344,235.0 503.39506172839504,235.0 511.66666666666669,235.0 519.93827160493822,235.0 528.20987654320982,235.0 536.48148148148152,235.0 544.75308641975312,235.0 553.02469135802471,235.0 561.2962962962963,235.0 569.5679012345679,235.0 577.83950617283949,235.0 586.11111111111109,235.0 594.38271604938279,235.0 602.65432098765427,235.0 610.92592592592587,235.0 619.19753086419746,235.0 627.46913580246905,235.0 635.74074074074076,235.0 644.01234567901224,235.0 652.28395061728395,235.0 660.55555555555543,235.0 668.82716049382714,235.0 677.09876543209873,235.0 685.37037037037032,235.0 693.64197530864192,235.0 701.91358024691363,235.0 710.18518518518511,235.0 718.45679012345681,235.0 726.72839506172829,235.0 735.0,235.0 735.0,234.69076853115052 726.72839506172829,233.76307412460207 718.45679012345681,233.14461118690315 710.18518518518511,231.83037744429285 701.91358024691363,228.9699863574352 693.64197530864192,224.79536152796726 685.37037037037032,220.92996816734879 677.09876543209873,205.85493406093678 668.82716049382714,65.0 660.55555555555543,77.214643019554345 652.28395061728395,89.815825375170533 644.01234567901224,90.356980445657115 635.74074074074076,101.48931332423828 627.46913580246905,109.45202364711233 619.19753086419746,111.07548885857207 610.92592592592587,117.5693497044111 602.65432098765427,118.49704411095954 594.38271604938279,123.98590268303774 586.11111111111109,126.45975443383358 577.83950617283949,132.79899954524785 569.5679012345679,131.63938153706229 561.2962962962963,133.49477035015917 553.02469135802471,138.75170532060028 544.75308641975312,132.87630741246019 536.48148148148152,134.73169622555707 528.20987654320982,140.52978626648476 519.93827160493822,138.98362892223739 511.66666666666669,140.91632560254661 503.39506172839504,143.77671668940428 495.12345679012344,143.15825375170533 486.85185185185185,138.82901318781262 478.58024691358025,139.21555252387446 470.30864197530866,143.69940882219191 462.03703703703701,141.07094133697137 453.76543209876547,144.78171896316508 445.49382716049382,141.38017280582085 437.22222222222229,140.22055479763529 428.95061728395058,144.39517962710323 420.67901234567904,146.40518417462482 412.40740740740739,142.53979081400638 404.13580246913585,146.7144156434743 395.86419753086415,140.83901773533424 387.59259259259255,144.00864029104139 379.32098765432096,146.17326057298772 371.04938271604937,146.01864483856298 362.77777777777771,147.79672578444749 354.50617283950612,146.40518417462482 346.23456790123453,143.31286948613007 337.96296296296293,143.93133242382902 329.69135802469134,151.19827194179175 321.41975308641975,145.24556616643929 313.14814814814815,145.16825829922692 304.87654320987656,151.35288767621645 296.60493827160491,144.24056389267849 288.33333333333331,146.09595270577535 280.06172839506172,147.41018644838564 271.79012345679013,144.70441109595271 263.51851851851853,145.55479763528876 255.24691358024691,148.49249658935881 246.97530864197529,147.87403365165983 238.7037037037037,147.33287858117328 230.4320987654321,147.41018644838564 222.16049382716048,147.56480218281035 213.88888888888886,143.62210095497954 205.61728395061726,151.12096407457932 197.34567901234567,151.35288767621645 189.07407407407408,147.33287858117328 180.80246913580245,149.65211459754434 172.53086419753086,150.8117326057299 164.25925925925927,150.73442473851748 155.98765432098764,156.30059117780809 147.71604938271605,149.34288312869487 139.44444444444443,152.58981355161436 131.17283950617283,159.08367439745336 122.90123456790124,155.99135970895861 114.62962962962962,153.82673942701228 106.35802469135803,163.72214643019555 98.086419753086432,235.0 89.81481481481481,235.0 81.543209876543216,235.0 73.271604938271608,235.0 65.0,235.0\" style=\"fill:rgb(40%,76.1%,64.7%);fill-opacity:1.0;opacity:0.5;stroke:none\"></polygon></g><g class=\"toyplot-mark-FillBoundaries\" id=\"t3902e21323674b649757d7b2e97fdd31\" style=\"stroke:none\"><polygon points=\"65.0,235.0 73.271604938271608,235.0 81.543209876543216,235.0 89.81481481481481,235.0 98.086419753086432,235.0 106.35802469135803,235.0 114.62962962962962,235.0 122.90123456790124,235.0 131.17283950617283,235.0 139.44444444444443,235.0 147.71604938271605,235.0 155.98765432098764,235.0 164.25925925925927,235.0 172.53086419753086,235.0 180.80246913580245,235.0 189.07407407407408,235.0 197.34567901234567,235.0 205.61728395061726,235.0 213.88888888888886,235.0 222.16049382716048,235.0 230.4320987654321,235.0 238.7037037037037,235.0 246.97530864197529,235.0 255.24691358024691,235.0 263.51851851851853,235.0 271.79012345679013,235.0 280.06172839506172,235.0 288.33333333333331,235.0 296.60493827160491,235.0 304.87654320987656,235.0 313.14814814814815,235.0 321.41975308641975,235.0 329.69135802469134,235.0 337.96296296296293,235.0 346.23456790123453,235.0 354.50617283950612,235.0 362.77777777777771,235.0 371.04938271604937,235.0 379.32098765432096,235.0 387.59259259259255,235.0 395.86419753086415,235.0 404.13580246913585,235.0 412.40740740740739,235.0 420.67901234567904,235.0 428.95061728395058,235.0 437.22222222222229,235.0 445.49382716049382,235.0 453.76543209876547,235.0 462.03703703703701,235.0 470.30864197530866,235.0 478.58024691358025,235.0 486.85185185185185,235.0 495.12345679012344,235.0 503.39506172839504,235.0 511.66666666666669,235.0 519.93827160493822,235.0 528.20987654320982,235.0 536.48148148148152,235.0 544.75308641975312,235.0 553.02469135802471,235.0 561.2962962962963,235.0 569.5679012345679,235.0 577.83950617283949,235.0 586.11111111111109,235.0 594.38271604938279,235.0 602.65432098765427,235.0 610.92592592592587,235.0 619.19753086419746,235.0 627.46913580246905,235.0 635.74074074074076,235.0 644.01234567901224,235.0 652.28395061728395,235.0 660.55555555555543,235.0 668.82716049382714,235.0 677.09876543209873,235.0 685.37037037037032,235.0 693.64197530864192,235.0 701.91358024691363,235.0 710.18518518518511,235.0 718.45679012345681,235.0 726.72839506172829,235.0 735.0,235.0 735.0,234.92269213278763 726.72839506172829,234.53615279672579 718.45679012345681,234.14961346066394 710.18518518518511,233.45384265575262 701.91358024691363,232.44884038199183 693.64197530864192,229.97498863119597 685.37037037037032,227.26921327876309 677.09876543209873,219.69304229195089 668.82716049382714,143.62210095497954 660.55555555555543,148.41518872214641 652.28395061728395,155.83674397453387 644.01234567901224,161.24829467939975 635.74074074074076,161.01637107776264 627.46913580246905,169.75216007276035 619.19753086419746,175.00909504320146 610.92592592592587,173.1537062301046 602.65432098765427,181.96680309231468 594.38271604938279,179.26102773988177 586.11111111111109,179.57025920873124 577.83950617283949,182.81718963165073 569.5679012345679,184.05411550704866 561.2962962962963,184.2087312414734 553.02469135802471,182.97180536607547 544.75308641975312,188.69258753979085 536.48148148148152,183.04911323328787 528.20987654320982,188.15143246930421 519.93827160493822,189.15643474306501 511.66666666666669,185.05911778080946 503.39506172839504,189.07912687585269 495.12345679012344,186.68258299226923 486.85185185185185,186.83719872669397 478.58024691358025,187.30104592996818 470.30864197530866,190.1614370168258 462.03703703703701,186.21873578899499 453.76543209876547,188.15143246930421 445.49382716049382,188.69258753979085 437.22222222222229,189.31105047748974 428.95061728395058,192.24874943155982 420.67901234567904,188.84720327421559 412.40740740740739,188.84720327421559 404.13580246913585,189.54297407912685 395.86419753086415,190.31605275125057 387.59259259259255,188.53797180536606 379.32098765432096,187.37835379718052 371.04938271604937,189.31105047748974 362.77777777777771,189.85220554797638 354.50617283950612,193.25375170532061 346.23456790123453,189.77489768076396 337.96296296296293,188.9245111414279 329.69135802469134,193.0218281036835 321.41975308641975,188.46066393815374 313.14814814814815,189.85220554797638 304.87654320987656,188.84720327421559 296.60493827160491,192.09413369713505 288.33333333333331,186.37335152341973 280.06172839506172,192.40336516598452 271.79012345679013,193.17644383810821 263.51851851851853,190.4706684856753 255.24691358024691,190.4706684856753 246.97530864197529,190.23874488403823 238.7037037037037,189.85220554797638 230.4320987654321,193.64029104138245 222.16049382716048,193.64029104138245 213.88888888888886,186.45065939063213 205.61728395061726,189.54297407912685 197.34567901234567,189.00181900864027 189.07407407407408,192.01682582992268 180.80246913580245,194.56798544793088 172.53086419753086,192.17144156434742 164.25925925925927,187.9968167348795 155.98765432098764,194.64529331514325 147.71604938271605,193.64029104138245 139.44444444444443,192.94452023647111 131.17283950617283,197.58299226921329 122.90123456790124,197.96953160527514 114.62962962962962,196.11414279217828 106.35802469135803,201.91223283310592 98.086419753086432,235.0 89.81481481481481,235.0 81.543209876543216,235.0 73.271604938271608,235.0 65.0,235.0\" style=\"fill:rgb(98.8%,55.3%,38.4%);fill-opacity:1.0;opacity:0.5;stroke:none\"></polygon></g><g class=\"toyplot-mark-AxisLines\" id=\"tfcb8b740e1b74e74a3dec9cfac85b313\" style=\"stroke-dasharray:4, 4\"><g class=\"toyplot-Series\"><line class=\"toyplot-Datum\" style=\"opacity:0.9;stroke:rgb(16.1%,15.3%,14.1%);stroke-dasharray:4, 4;stroke-opacity:1.0\" x1=\"65.0\" x2=\"735.0\" y1=\"145.78672123692587\" y2=\"145.78672123692587\"></line></g></g><g class=\"toyplot-mark-AxisLines\" id=\"tbb75ecd69e894a308524ec8cb07a79bc\" style=\"stroke-dasharray:4, 4\"><g class=\"toyplot-Series\"><line class=\"toyplot-Datum\" style=\"opacity:0.9;stroke:rgb(16.1%,15.3%,14.1%);stroke-dasharray:4, 4;stroke-opacity:1.0\" x1=\"65.0\" x2=\"735.0\" y1=\"189.54297407912685\" y2=\"189.54297407912685\"></line></g></g></g><g class=\"toyplot-coordinates\" style=\"visibility:hidden\"><rect height=\"14.0\" style=\"fill:rgb(100%,100%,100%);fill-opacity:1.0;opacity:0.75;stroke:none\" width=\"90.0\" x=\"635.0\" y=\"75.0\"></rect><text style=\"alignment-baseline:middle;font-size:10px;font-weight:normal;stroke:none;text-anchor:middle\" x=\"680.0\" y=\"82.0\"></text></g><g class=\"toyplot-axes-Axis\" id=\"t883d6ca830c44b0fa63349471c4365f6\" transform=\"translate(65.0,235.0) rotate(0.0) translate(0,10.0)\"><line style=\"\" x1=\"0\" x2=\"670.0\" y1=\"0\" y2=\"0\"></line><g><line style=\"\" x1=\"0.0\" x2=\"0.0\" y1=\"0\" y2=\"5.0\"></line><line style=\"\" x1=\"41.358024691358025\" x2=\"41.358024691358025\" y1=\"0\" y2=\"5.0\"></line><line style=\"\" x1=\"82.71604938271605\" x2=\"82.71604938271605\" y1=\"0\" y2=\"5.0\"></line><line style=\"\" x1=\"124.07407407407406\" x2=\"124.07407407407406\" y1=\"0\" y2=\"5.0\"></line><line style=\"\" x1=\"165.4320987654321\" x2=\"165.4320987654321\" y1=\"0\" y2=\"5.0\"></line><line style=\"\" x1=\"206.7901234567901\" x2=\"206.7901234567901\" y1=\"0\" y2=\"5.0\"></line><line style=\"\" x1=\"248.14814814814812\" x2=\"248.14814814814812\" y1=\"0\" y2=\"5.0\"></line><line style=\"\" x1=\"289.5061728395062\" x2=\"289.5061728395062\" y1=\"0\" y2=\"5.0\"></line><line style=\"\" x1=\"330.8641975308642\" x2=\"330.8641975308642\" y1=\"0\" y2=\"5.0\"></line><line style=\"\" x1=\"372.22222222222223\" x2=\"372.22222222222223\" y1=\"0\" y2=\"5.0\"></line><line style=\"\" x1=\"413.5802469135802\" x2=\"413.5802469135802\" y1=\"0\" y2=\"5.0\"></line><line style=\"\" x1=\"454.9382716049383\" x2=\"454.9382716049383\" y1=\"0\" y2=\"5.0\"></line><line style=\"\" x1=\"496.29629629629625\" x2=\"496.29629629629625\" y1=\"0\" y2=\"5.0\"></line><line style=\"\" x1=\"537.6543209876543\" x2=\"537.6543209876543\" y1=\"0\" y2=\"5.0\"></line><line style=\"\" x1=\"579.0123456790124\" x2=\"579.0123456790124\" y1=\"0\" y2=\"5.0\"></line><line style=\"\" x1=\"620.3703703703703\" x2=\"620.3703703703703\" y1=\"0\" y2=\"5.0\"></line><line style=\"\" x1=\"661.7283950617284\" x2=\"661.7283950617284\" y1=\"0\" y2=\"5.0\"></line></g><g><text style=\"dominant-baseline:hanging;font-size:12px;font-weight:normal;stroke:none;text-anchor:middle\" transform=\"translate(0.0,6)translate(0,2.5)\"><tspan style=\"dominant-baseline:inherit\">0</tspan></text><text style=\"dominant-baseline:hanging;font-size:12px;font-weight:normal;stroke:none;text-anchor:middle\" transform=\"translate(41.358024691358025,6)translate(0,2.5)\"><tspan style=\"dominant-baseline:inherit\">5</tspan></text><text style=\"dominant-baseline:hanging;font-size:12px;font-weight:normal;stroke:none;text-anchor:middle\" transform=\"translate(82.71604938271605,6)translate(0,2.5)\"><tspan style=\"dominant-baseline:inherit\">10</tspan></text><text style=\"dominant-baseline:hanging;font-size:12px;font-weight:normal;stroke:none;text-anchor:middle\" transform=\"translate(124.07407407407406,6)translate(0,2.5)\"><tspan style=\"dominant-baseline:inherit\">15</tspan></text><text style=\"dominant-baseline:hanging;font-size:12px;font-weight:normal;stroke:none;text-anchor:middle\" transform=\"translate(165.4320987654321,6)translate(0,2.5)\"><tspan style=\"dominant-baseline:inherit\">20</tspan></text><text style=\"dominant-baseline:hanging;font-size:12px;font-weight:normal;stroke:none;text-anchor:middle\" transform=\"translate(206.7901234567901,6)translate(0,2.5)\"><tspan style=\"dominant-baseline:inherit\">25</tspan></text><text style=\"dominant-baseline:hanging;font-size:12px;font-weight:normal;stroke:none;text-anchor:middle\" transform=\"translate(248.14814814814812,6)translate(0,2.5)\"><tspan style=\"dominant-baseline:inherit\">30</tspan></text><text style=\"dominant-baseline:hanging;font-size:12px;font-weight:normal;stroke:none;text-anchor:middle\" transform=\"translate(289.5061728395062,6)translate(0,2.5)\"><tspan style=\"dominant-baseline:inherit\">35</tspan></text><text style=\"dominant-baseline:hanging;font-size:12px;font-weight:normal;stroke:none;text-anchor:middle\" transform=\"translate(330.8641975308642,6)translate(0,2.5)\"><tspan style=\"dominant-baseline:inherit\">40</tspan></text><text style=\"dominant-baseline:hanging;font-size:12px;font-weight:normal;stroke:none;text-anchor:middle\" transform=\"translate(372.22222222222223,6)translate(0,2.5)\"><tspan style=\"dominant-baseline:inherit\">45</tspan></text><text style=\"dominant-baseline:hanging;font-size:12px;font-weight:normal;stroke:none;text-anchor:middle\" transform=\"translate(413.5802469135802,6)translate(0,2.5)\"><tspan style=\"dominant-baseline:inherit\">50</tspan></text><text style=\"dominant-baseline:hanging;font-size:12px;font-weight:normal;stroke:none;text-anchor:middle\" transform=\"translate(454.9382716049383,6)translate(0,2.5)\"><tspan style=\"dominant-baseline:inherit\">55</tspan></text><text style=\"dominant-baseline:hanging;font-size:12px;font-weight:normal;stroke:none;text-anchor:middle\" transform=\"translate(496.29629629629625,6)translate(0,2.5)\"><tspan style=\"dominant-baseline:inherit\">60</tspan></text><text style=\"dominant-baseline:hanging;font-size:12px;font-weight:normal;stroke:none;text-anchor:middle\" transform=\"translate(537.6543209876543,6)translate(0,2.5)\"><tspan style=\"dominant-baseline:inherit\">65</tspan></text><text style=\"dominant-baseline:hanging;font-size:12px;font-weight:normal;stroke:none;text-anchor:middle\" transform=\"translate(579.0123456790124,6)translate(0,2.5)\"><tspan style=\"dominant-baseline:inherit\">70</tspan></text><text style=\"dominant-baseline:hanging;font-size:12px;font-weight:normal;stroke:none;text-anchor:middle\" transform=\"translate(620.3703703703703,6)translate(0,2.5)\"><tspan style=\"dominant-baseline:inherit\">75</tspan></text><text style=\"dominant-baseline:hanging;font-size:12px;font-weight:normal;stroke:none;text-anchor:middle\" transform=\"translate(661.7283950617284,6)translate(0,2.5)\"><tspan style=\"dominant-baseline:inherit\">80</tspan></text></g><text style=\"dominant-baseline:middle;font-size:16px;font-weight:bold;stroke:none;text-anchor:middle\" transform=\"translate(335.0,0)translate(0,40.0)\"><tspan style=\"dominant-baseline:inherit\">Position along RAD locus</tspan></text></g><g class=\"toyplot-axes-Axis\" id=\"tb97374f9606d47ee8ca33f1ee363eb6d\" transform=\"translate(65.0,235.0) rotate(-90.0) translate(0,-10.0)\"><line style=\"\" x1=\"0\" x2=\"170.0\" y1=\"0\" y2=\"0\"></line><g><line style=\"\" x1=\"0.0\" x2=\"0.0\" y1=\"-5.0\" y2=\"0\"></line><line style=\"\" x1=\"77.30786721236926\" x2=\"77.30786721236926\" y1=\"-5.0\" y2=\"0\"></line><line style=\"\" x1=\"154.61573442473852\" x2=\"154.61573442473852\" y1=\"-5.0\" y2=\"0\"></line></g><g><text style=\"dominant-baseline:alphabetic;font-size:12px;font-weight:normal;stroke:none;text-anchor:middle\" transform=\"translate(0.0,-6)translate(0,-5.0)\"><tspan style=\"dominant-baseline:inherit\">0</tspan></text><text style=\"dominant-baseline:alphabetic;font-size:12px;font-weight:normal;stroke:none;text-anchor:middle\" transform=\"translate(77.30786721236926,-6)translate(0,-5.0)\"><tspan style=\"dominant-baseline:inherit\">1000</tspan></text><text style=\"dominant-baseline:alphabetic;font-size:12px;font-weight:normal;stroke:none;text-anchor:middle\" transform=\"translate(154.61573442473852,-6)translate(0,-5.0)\"><tspan style=\"dominant-baseline:inherit\">2000</tspan></text></g><text style=\"dominant-baseline:middle;font-size:16px;font-weight:bold;stroke:none;text-anchor:middle\" transform=\"translate(85.0,0)translate(0,-40.0)\"><tspan style=\"dominant-baseline:inherit\">N variables sites</tspan></text></g></g></svg><div class=\"toyplot-controls\"><ul class=\"toyplot-mark-popup\" onmouseleave=\"this.style.visibility='hidden'\" style=\"background:rgba(0%,0%,0%,0.75);border:0;border-radius:6px;color:white;cursor:default;list-style:none;margin:0;padding:5px;position:fixed;visibility:hidden\"><li class=\"toyplot-mark-popup-title\" style=\"color:lightgray;cursor:default;padding:5px;list-style:none;margin:0;\"></li><li class=\"toyplot-mark-popup-save-csv\" onmouseout=\"this.style.color='white';this.style.background='steelblue'\" onmouseover=\"this.style.color='steelblue';this.style.background='white'\" style=\"border-radius:3px;padding:5px;list-style:none;margin:0;\">Save as .csv</li></ul><script>\n",
       "(function()\n",
       "{\n",
       "  var data_tables = [{\"data\": [[0.0, 1.0, 2.0, 3.0, 4.0, 5.0, 6.0, 7.0, 8.0, 9.0, 10.0, 11.0, 12.0, 13.0, 14.0, 15.0, 16.0, 17.0, 18.0, 19.0, 20.0, 21.0, 22.0, 23.0, 24.0, 25.0, 26.0, 27.0, 28.0, 29.0, 30.0, 31.0, 32.0, 33.0, 34.0, 35.0, 36.0, 37.0, 38.0, 39.0, 40.0, 41.0, 42.0, 43.0, 44.0, 45.0, 46.0, 47.0, 48.0, 49.0, 50.0, 51.0, 52.0, 53.0, 54.0, 55.0, 56.0, 57.0, 58.0, 59.0, 60.0, 61.0, 62.0, 63.0, 64.0, 65.0, 66.0, 67.0, 68.0, 69.0, 70.0, 71.0, 72.0, 73.0, 74.0, 75.0, 76.0, 77.0, 78.0, 79.0, 80.0, 81.0], [0.0, 0.0, 0.0, 0.0, 0.0, 0.0, 0.0, 0.0, 0.0, 0.0, 0.0, 0.0, 0.0, 0.0, 0.0, 0.0, 0.0, 0.0, 0.0, 0.0, 0.0, 0.0, 0.0, 0.0, 0.0, 0.0, 0.0, 0.0, 0.0, 0.0, 0.0, 0.0, 0.0, 0.0, 0.0, 0.0, 0.0, 0.0, 0.0, 0.0, 0.0, 0.0, 0.0, 0.0, 0.0, 0.0, 0.0, 0.0, 0.0, 0.0, 0.0, 0.0, 0.0, 0.0, 0.0, 0.0, 0.0, 0.0, 0.0, 0.0, 0.0, 0.0, 0.0, 0.0, 0.0, 0.0, 0.0, 0.0, 0.0, 0.0, 0.0, 0.0, 0.0, 0.0, 0.0, 0.0, 0.0, 0.0, 0.0, 0.0, 0.0, 0.0], [0.0, 0.0, 0.0, 0.0, 0.0, 922.0, 1050.0, 1022.0, 982.0, 1066.0, 1108.0, 1018.0, 1090.0, 1089.0, 1104.0, 1134.0, 1082.0, 1085.0, 1182.0, 1131.0, 1133.0, 1134.0, 1127.0, 1119.0, 1157.0, 1168.0, 1133.0, 1150.0, 1174.0, 1082.0, 1162.0, 1161.0, 1084.0, 1178.0, 1186.0, 1146.0, 1128.0, 1151.0, 1149.0, 1177.0, 1218.0, 1142.0, 1196.0, 1146.0, 1172.0, 1226.0, 1211.0, 1167.0, 1215.0, 1181.0, 1239.0, 1244.0, 1188.0, 1180.0, 1217.0, 1242.0, 1222.0, 1297.0, 1321.0, 1245.0, 1313.0, 1337.0, 1322.0, 1404.0, 1436.0, 1507.0, 1519.0, 1603.0, 1624.0, 1727.0, 1871.0, 1878.0, 2041.0, 2199.0, 377.0, 182.0, 132.0, 78.0, 41.0, 24.0, 16.0, 4.0]], \"title\": \"Fill Data\", \"names\": [\"x\", \"y0\", \"y1\"], \"id\": \"t6ae774e7eb014c48940aac644107468f\", \"filename\": \"toyplot\"}, {\"data\": [[0.0, 1.0, 2.0, 3.0, 4.0, 5.0, 6.0, 7.0, 8.0, 9.0, 10.0, 11.0, 12.0, 13.0, 14.0, 15.0, 16.0, 17.0, 18.0, 19.0, 20.0, 21.0, 22.0, 23.0, 24.0, 25.0, 26.0, 27.0, 28.0, 29.0, 30.0, 31.0, 32.0, 33.0, 34.0, 35.0, 36.0, 37.0, 38.0, 39.0, 40.0, 41.0, 42.0, 43.0, 44.0, 45.0, 46.0, 47.0, 48.0, 49.0, 50.0, 51.0, 52.0, 53.0, 54.0, 55.0, 56.0, 57.0, 58.0, 59.0, 60.0, 61.0, 62.0, 63.0, 64.0, 65.0, 66.0, 67.0, 68.0, 69.0, 70.0, 71.0, 72.0, 73.0, 74.0, 75.0, 76.0, 77.0, 78.0, 79.0, 80.0, 81.0], [0.0, 0.0, 0.0, 0.0, 0.0, 0.0, 0.0, 0.0, 0.0, 0.0, 0.0, 0.0, 0.0, 0.0, 0.0, 0.0, 0.0, 0.0, 0.0, 0.0, 0.0, 0.0, 0.0, 0.0, 0.0, 0.0, 0.0, 0.0, 0.0, 0.0, 0.0, 0.0, 0.0, 0.0, 0.0, 0.0, 0.0, 0.0, 0.0, 0.0, 0.0, 0.0, 0.0, 0.0, 0.0, 0.0, 0.0, 0.0, 0.0, 0.0, 0.0, 0.0, 0.0, 0.0, 0.0, 0.0, 0.0, 0.0, 0.0, 0.0, 0.0, 0.0, 0.0, 0.0, 0.0, 0.0, 0.0, 0.0, 0.0, 0.0, 0.0, 0.0, 0.0, 0.0, 0.0, 0.0, 0.0, 0.0, 0.0, 0.0, 0.0, 0.0], [0.0, 0.0, 0.0, 0.0, 0.0, 428.0, 503.0, 479.0, 484.0, 544.0, 535.0, 522.0, 608.0, 554.0, 523.0, 556.0, 595.0, 588.0, 628.0, 535.0, 535.0, 584.0, 579.0, 576.0, 576.0, 541.0, 551.0, 629.0, 555.0, 597.0, 584.0, 602.0, 543.0, 596.0, 585.0, 540.0, 584.0, 591.0, 616.0, 601.0, 578.0, 588.0, 597.0, 597.0, 553.0, 591.0, 599.0, 606.0, 631.0, 580.0, 617.0, 623.0, 625.0, 594.0, 646.0, 593.0, 606.0, 672.0, 599.0, 673.0, 657.0, 659.0, 675.0, 717.0, 721.0, 686.0, 800.0, 776.0, 844.0, 957.0, 954.0, 1024.0, 1120.0, 1182.0, 198.0, 100.0, 65.0, 33.0, 20.0, 11.0, 6.0, 1.0]], \"title\": \"Fill Data\", \"names\": [\"x\", \"y0\", \"y1\"], \"id\": \"t3902e21323674b649757d7b2e97fdd31\", \"filename\": \"toyplot\"}];\n",
       "\n",
       "  function save_csv(data_table)\n",
       "  {\n",
       "    var uri = \"data:text/csv;charset=utf-8,\";\n",
       "    uri += data_table.names.join(\",\") + \"\\n\";\n",
       "    for(var i = 0; i != data_table.data[0].length; ++i)\n",
       "    {\n",
       "      for(var j = 0; j != data_table.data.length; ++j)\n",
       "      {\n",
       "        if(j)\n",
       "          uri += \",\";\n",
       "        uri += data_table.data[j][i];\n",
       "      }\n",
       "      uri += \"\\n\";\n",
       "    }\n",
       "    uri = encodeURI(uri);\n",
       "\n",
       "    var link = document.createElement(\"a\");\n",
       "    if(typeof link.download != \"undefined\")\n",
       "    {\n",
       "      link.href = uri;\n",
       "      link.style = \"visibility:hidden\";\n",
       "      link.download = data_table.filename + \".csv\";\n",
       "\n",
       "      document.body.appendChild(link);\n",
       "      link.click();\n",
       "      document.body.removeChild(link);\n",
       "    }\n",
       "    else\n",
       "    {\n",
       "      window.open(uri);\n",
       "    }\n",
       "  }\n",
       "\n",
       "  function open_popup(data_table)\n",
       "  {\n",
       "    return function(e)\n",
       "    {\n",
       "      var popup = document.querySelector(\"#tf328e5f59c5c47d387447380f41b0d64 .toyplot-mark-popup\");\n",
       "      popup.querySelector(\".toyplot-mark-popup-title\").innerHTML = data_table.title;\n",
       "      popup.querySelector(\".toyplot-mark-popup-save-csv\").onclick = function() { popup.style.visibility = \"hidden\"; save_csv(data_table); }\n",
       "      popup.style.left = (e.clientX - 50) + \"px\";\n",
       "      popup.style.top = (e.clientY - 20) + \"px\";\n",
       "      popup.style.visibility = \"visible\";\n",
       "      e.stopPropagation();\n",
       "      e.preventDefault();\n",
       "    }\n",
       "\n",
       "  }\n",
       "\n",
       "  for(var i = 0; i != data_tables.length; ++i)\n",
       "  {\n",
       "    var data_table = data_tables[i];\n",
       "    var event_target = document.querySelector(\"#\" + data_table.id);\n",
       "    event_target.oncontextmenu = open_popup(data_table);\n",
       "  }\n",
       "})();\n",
       "</script><script>\n",
       "(function()\n",
       "{\n",
       "  var axes = {\"t4530e23fc63f45ba8c0cbe0d2ac685e2\": {\"x\": [{\"domain\": {\"bounds\": {\"max\": Infinity, \"min\": -Infinity}, \"max\": 81.0, \"min\": 0.0}, \"range\": {\"bounds\": {\"max\": Infinity, \"min\": -Infinity}, \"max\": 735.0, \"min\": 65.0}, \"scale\": \"linear\"}], \"y\": [{\"domain\": {\"bounds\": {\"max\": Infinity, \"min\": -Infinity}, \"max\": 2199.0, \"min\": 0.0}, \"range\": {\"bounds\": {\"max\": -Infinity, \"min\": Infinity}, \"max\": 65.0, \"min\": 235.0}, \"scale\": \"linear\"}]}};\n",
       "\n",
       "  function sign(x)\n",
       "  {\n",
       "    return x < 0 ? -1 : x > 0 ? 1 : 0;\n",
       "  }\n",
       "\n",
       "  function _mix(a, b, amount)\n",
       "  {\n",
       "    return ((1.0 - amount) * a) + (amount * b);\n",
       "  }\n",
       "\n",
       "  function _log(x, base)\n",
       "  {\n",
       "    return Math.log(Math.abs(x)) / Math.log(base);\n",
       "  }\n",
       "\n",
       "  function _in_range(a, x, b)\n",
       "  {\n",
       "    var left = Math.min(a, b);\n",
       "    var right = Math.max(a, b);\n",
       "    return left <= x && x <= right;\n",
       "  }\n",
       "\n",
       "  function to_domain(projection, range)\n",
       "  {\n",
       "    for(var i = 0; i != projection.length; ++i)\n",
       "    {\n",
       "      var segment = projection[i];\n",
       "      if(_in_range(segment.range.bounds.min, range, segment.range.bounds.max))\n",
       "      {\n",
       "        if(segment.scale == \"linear\")\n",
       "        {\n",
       "          var amount = (range - segment.range.min) / (segment.range.max - segment.range.min);\n",
       "          return _mix(segment.domain.min, segment.domain.max, amount)\n",
       "        }\n",
       "        else if(segment.scale[0] == \"log\")\n",
       "        {\n",
       "          var amount = (range - segment.range.min) / (segment.range.max - segment.range.min);\n",
       "          var base = segment.scale[1];\n",
       "          return sign(segment.domain.min) * Math.pow(base, _mix(_log(segment.domain.min, base), _log(segment.domain.max, base), amount));\n",
       "        }\n",
       "      }\n",
       "    }\n",
       "  }\n",
       "\n",
       "  // Compute mouse coordinates relative to a DOM object, with thanks to d3js.org, where this code originated.\n",
       "  function d3_mousePoint(container, e)\n",
       "  {\n",
       "    if (e.changedTouches) e = e.changedTouches[0];\n",
       "    var svg = container.ownerSVGElement || container;\n",
       "    if (svg.createSVGPoint) {\n",
       "      var point = svg.createSVGPoint();\n",
       "      point.x = e.clientX, point.y = e.clientY;\n",
       "      point = point.matrixTransform(container.getScreenCTM().inverse());\n",
       "      return [point.x, point.y];\n",
       "    }\n",
       "    var rect = container.getBoundingClientRect();\n",
       "    return [e.clientX - rect.left - container.clientLeft, e.clientY - rect.top - container.clientTop];\n",
       "  };\n",
       "\n",
       "  function display_coordinates(e)\n",
       "  {\n",
       "    var dom_axes = e.currentTarget.parentElement;\n",
       "    var data = axes[dom_axes.id];\n",
       "\n",
       "    point = d3_mousePoint(e.target, e);\n",
       "    var x = Number(to_domain(data[\"x\"], point[0])).toFixed(2);\n",
       "    var y = Number(to_domain(data[\"y\"], point[1])).toFixed(2);\n",
       "\n",
       "    var coordinates = dom_axes.querySelectorAll(\".toyplot-coordinates\");\n",
       "    for(var i = 0; i != coordinates.length; ++i)\n",
       "    {\n",
       "      coordinates[i].style.visibility = \"visible\";\n",
       "      coordinates[i].querySelector(\"text\").textContent = \"x=\" + x + \" y=\" + y;\n",
       "    }\n",
       "  }\n",
       "\n",
       "  function clear_coordinates(e)\n",
       "  {\n",
       "    var dom_axes = e.currentTarget.parentElement;\n",
       "    var coordinates = dom_axes.querySelectorAll(\".toyplot-coordinates\");\n",
       "    for(var i = 0; i != coordinates.length; ++i)\n",
       "      coordinates[i].style.visibility = \"hidden\";\n",
       "  }\n",
       "\n",
       "  for(var axes_id in axes)\n",
       "  {\n",
       "    var event_target = document.querySelector(\"#\" + axes_id + \" .toyplot-coordinate-events\");\n",
       "    event_target.onmousemove = display_coordinates;\n",
       "    event_target.onmouseout = clear_coordinates;\n",
       "  }\n",
       "})();\n",
       "</script></div></div>"
      ],
      "text/plain": [
       "<toyplot.canvas.Canvas at 0x7f489d6a2e50>"
      ]
     },
     "execution_count": 171,
     "metadata": {},
     "output_type": "execute_result"
    }
   ],
   "source": [
    "SNP_position_plot(distvar, distpis)"
   ]
  },
  {
   "cell_type": "markdown",
   "metadata": {},
   "source": [
    "### Why the right side but not the left?\n",
    "I found early on that leaving the cut site attached to the left side of reads improved assemblies by acting as an achor, which then allowed gap openings to arise in the early parts of the read but not to be treated differently, i.e., as terminal gap openings. For some reason it didn't occur to me to similarly anchor the right side of reads. Let's see what happens if I had an invariant anchor to the right side of reads. \n",
    "\n",
    "Another point to note, though I don't show the results here, this increase in variation along the length of reads is not observed in simulated data, suggesting it is inherent to real data. \n"
   ]
  },
  {
   "cell_type": "code",
   "execution_count": 15,
   "metadata": {
    "collapsed": false,
    "scrolled": true
   },
   "outputs": [
    {
     "name": "stdout",
     "output_type": "stream",
     "text": [
      "  loading Assembly: cli\n",
      "  from saved path: ~/Documents/ipyrad/tests/cli/cli.json\n"
     ]
    },
    {
     "data": {
      "text/plain": [
       "(<toyplot.canvas.Canvas at 0x7f7b1feb3dd0>,\n",
       " <toyplot.axes.Cartesian at 0x7f7b1feb3b90>)"
      ]
     },
     "execution_count": 15,
     "metadata": {},
     "output_type": "execute_result"
    },
    {
     "data": {
      "text/html": [
       "<div align=\"center\" class=\"toyplot\" id=\"t18afc18861f64fcd9074c200741b9859\"><svg height=\"300.0px\" id=\"t547302dcc0394ca8b80211cb53e728e0\" preserveAspectRatio=\"xMidYMid meet\" style=\"background-color:transparent;fill:rgb(16.1%,15.3%,14.1%);fill-opacity:1.0;font-family:Helvetica;font-size:12px;opacity:1.0;stroke:rgb(16.1%,15.3%,14.1%);stroke-opacity:1.0;stroke-width:1.0\" viewBox=\"0 0 800.0 300.0\" width=\"800.0px\" xmlns=\"http://www.w3.org/2000/svg\" xmlns:toyplot=\"http://www.sandia.gov/toyplot\"><g class=\"toyplot-axes-Cartesian\" id=\"tb02d8c70a92046ff978e0a70b951e4a5\"><clipPath id=\"t3044b2af667445e2bfb9431f15de6e94\"><rect height=\"190.0\" width=\"690.0\" x=\"55.0\" y=\"55.0\"></rect></clipPath><g class=\"toyplot-coordinate-events\" clip-path=\"url(#t3044b2af667445e2bfb9431f15de6e94)\" style=\"cursor:crosshair\"><rect height=\"190.0\" style=\"pointer-events:all;visibility:hidden\" width=\"690.0\" x=\"55.0\" y=\"55.0\"></rect><g class=\"toyplot-mark-FillBoundaries\" id=\"t84e9c73c4db246e883a1ef8bb9c0a877\" style=\"stroke:none\"><polygon points=\"65.0,235.0 72.127659574468083,235.0 79.255319148936167,235.0 86.38297872340425,235.0 93.510638297872347,235.0 100.63829787234042,235.0 107.7659574468085,235.0 114.89361702127658,235.0 122.02127659574468,235.0 129.14893617021278,235.0 136.27659574468083,235.0 143.40425531914894,235.0 150.531914893617,235.0 157.65957446808511,235.0 164.78723404255319,235.0 171.91489361702128,235.0 179.04255319148936,235.0 186.17021276595747,235.0 193.29787234042556,235.0 200.42553191489361,235.0 207.55319148936169,235.0 214.68085106382981,235.0 221.80851063829789,235.0 228.93617021276594,235.0 236.06382978723403,235.0 243.19148936170211,235.0 250.31914893617019,235.0 257.44680851063828,235.0 264.57446808510639,235.0 271.70212765957444,235.0 278.82978723404256,235.0 285.95744680851061,235.0 293.08510638297872,235.0 300.21276595744678,235.0 307.34042553191495,235.0 314.468085106383,235.0 321.59574468085106,235.0 328.72340425531917,235.0 335.85106382978722,235.0 342.97872340425528,235.0 350.10638297872339,235.0 357.2340425531915,235.0 364.36170212765956,235.0 371.48936170212767,235.0 378.61702127659578,235.0 385.74468085106389,235.0 392.87234042553189,235.0 400.0,235.0 407.12765957446805,235.0 414.25531914893617,235.0 421.38297872340422,235.0 428.51063829787233,235.0 435.63829787234044,235.0 442.7659574468085,235.0 449.89361702127661,235.0 457.02127659574472,235.0 464.14893617021272,235.0 471.27659574468089,235.0 478.40425531914894,235.0 485.531914893617,235.0 492.65957446808511,235.0 499.78723404255322,235.0 506.91489361702128,235.0 514.04255319148945,235.0 521.17021276595744,235.0 528.29787234042556,235.0 535.42553191489355,235.0 542.55319148936167,235.0 549.68085106382989,235.0 556.80851063829789,235.0 563.936170212766,235.0 571.063829787234,235.0 578.19148936170211,235.0 585.31914893617011,235.0 592.44680851063833,235.0 599.57446808510645,235.0 606.70212765957444,235.0 613.82978723404267,235.0 620.95744680851055,235.0 628.08510638297878,235.0 635.21276595744678,235.0 642.34042553191489,235.0 649.468085106383,235.0 656.59574468085111,235.0 663.72340425531922,235.0 670.85106382978722,235.0 677.97872340425533,235.0 685.10638297872333,235.0 692.23404255319156,235.0 699.36170212765956,235.0 706.48936170212778,235.0 713.61702127659566,235.0 720.74468085106378,235.0 727.87234042553189,235.0 735.0,235.0 735.0,229.6875 727.87234042553189,235.0 720.74468085106378,112.8125 713.61702127659566,160.625 706.48936170212778,176.5625 699.36170212765956,150.0 692.23404255319156,160.625 685.10638297872333,165.9375 677.97872340425533,91.5625 670.85106382978722,144.6875 663.72340425531922,123.4375 656.59574468085111,91.5625 649.468085106383,144.6875 642.34042553191489,134.0625 635.21276595744678,134.0625 628.08510638297878,139.375 620.95744680851055,139.375 613.82978723404267,139.375 606.70212765957444,107.5 599.57446808510645,96.875 592.44680851063833,123.4375 585.31914893617011,155.3125 578.19148936170211,160.625 571.063829787234,118.125 563.936170212766,123.4375 556.80851063829789,128.75 549.68085106382989,123.4375 542.55319148936167,128.75 535.42553191489355,107.5 528.29787234042556,134.0625 521.17021276595744,118.125 514.04255319148945,139.375 506.91489361702128,139.375 499.78723404255322,107.5 492.65957446808511,128.75 485.531914893617,112.8125 478.40425531914894,75.625 471.27659574468089,123.4375 464.14893617021272,96.875 457.02127659574472,134.0625 449.89361702127661,112.8125 442.7659574468085,160.625 435.63829787234044,123.4375 428.51063829787233,155.3125 421.38297872340422,139.375 414.25531914893617,176.5625 407.12765957446805,96.875 400.0,139.375 392.87234042553189,107.5 385.74468085106389,123.4375 378.61702127659578,128.75 371.48936170212767,144.6875 364.36170212765956,112.8125 357.2340425531915,150.0 350.10638297872339,86.25 342.97872340425528,91.5625 335.85106382978722,123.4375 328.72340425531917,150.0 321.59574468085106,91.5625 314.468085106383,134.0625 307.34042553191495,176.5625 300.21276595744678,123.4375 293.08510638297872,96.875 285.95744680851061,197.8125 278.82978723404256,91.5625 271.70212765957444,144.6875 264.57446808510639,160.625 257.44680851063828,118.125 250.31914893617019,123.4375 243.19148936170211,75.625 236.06382978723403,155.3125 228.93617021276594,144.6875 221.80851063829789,160.625 214.68085106382981,123.4375 207.55319148936169,128.75 200.42553191489361,139.375 193.29787234042556,107.5 186.17021276595747,155.3125 179.04255319148936,65.0 171.91489361702128,107.5 164.78723404255319,96.875 157.65957446808511,107.5 150.531914893617,139.375 143.40425531914894,102.1875 136.27659574468083,150.0 129.14893617021278,86.25 122.02127659574468,118.125 114.89361702127658,150.0 107.7659574468085,150.0 100.63829787234042,144.6875 93.510638297872347,235.0 86.38297872340425,235.0 79.255319148936167,235.0 72.127659574468083,235.0 65.0,235.0\" style=\"fill:rgb(40%,76.1%,64.7%);fill-opacity:1.0;opacity:0.5;stroke:none\"><title>total variable sites</title></polygon></g><g class=\"toyplot-mark-FillBoundaries\" id=\"t7646c1d922bb47f99aeee5c963240d6b\" style=\"stroke:none\"><polygon points=\"65.0,235.0 72.127659574468083,235.0 79.255319148936167,235.0 86.38297872340425,235.0 93.510638297872347,235.0 100.63829787234042,235.0 107.7659574468085,235.0 114.89361702127658,235.0 122.02127659574468,235.0 129.14893617021278,235.0 136.27659574468083,235.0 143.40425531914894,235.0 150.531914893617,235.0 157.65957446808511,235.0 164.78723404255319,235.0 171.91489361702128,235.0 179.04255319148936,235.0 186.17021276595747,235.0 193.29787234042556,235.0 200.42553191489361,235.0 207.55319148936169,235.0 214.68085106382981,235.0 221.80851063829789,235.0 228.93617021276594,235.0 236.06382978723403,235.0 243.19148936170211,235.0 250.31914893617019,235.0 257.44680851063828,235.0 264.57446808510639,235.0 271.70212765957444,235.0 278.82978723404256,235.0 285.95744680851061,235.0 293.08510638297872,235.0 300.21276595744678,235.0 307.34042553191495,235.0 314.468085106383,235.0 321.59574468085106,235.0 328.72340425531917,235.0 335.85106382978722,235.0 342.97872340425528,235.0 350.10638297872339,235.0 357.2340425531915,235.0 364.36170212765956,235.0 371.48936170212767,235.0 378.61702127659578,235.0 385.74468085106389,235.0 392.87234042553189,235.0 400.0,235.0 407.12765957446805,235.0 414.25531914893617,235.0 421.38297872340422,235.0 428.51063829787233,235.0 435.63829787234044,235.0 442.7659574468085,235.0 449.89361702127661,235.0 457.02127659574472,235.0 464.14893617021272,235.0 471.27659574468089,235.0 478.40425531914894,235.0 485.531914893617,235.0 492.65957446808511,235.0 499.78723404255322,235.0 506.91489361702128,235.0 514.04255319148945,235.0 521.17021276595744,235.0 528.29787234042556,235.0 535.42553191489355,235.0 542.55319148936167,235.0 549.68085106382989,235.0 556.80851063829789,235.0 563.936170212766,235.0 571.063829787234,235.0 578.19148936170211,235.0 585.31914893617011,235.0 592.44680851063833,235.0 599.57446808510645,235.0 606.70212765957444,235.0 613.82978723404267,235.0 620.95744680851055,235.0 628.08510638297878,235.0 635.21276595744678,235.0 642.34042553191489,235.0 649.468085106383,235.0 656.59574468085111,235.0 663.72340425531922,235.0 670.85106382978722,235.0 677.97872340425533,235.0 685.10638297872333,235.0 692.23404255319156,235.0 699.36170212765956,235.0 706.48936170212778,235.0 713.61702127659566,235.0 720.74468085106378,235.0 727.87234042553189,235.0 735.0,235.0 735.0,235.0 727.87234042553189,235.0 720.74468085106378,176.5625 713.61702127659566,213.75 706.48936170212778,203.125 699.36170212765956,213.75 692.23404255319156,187.1875 685.10638297872333,187.1875 677.97872340425533,197.8125 670.85106382978722,155.3125 663.72340425531922,213.75 656.59574468085111,224.375 649.468085106383,187.1875 642.34042553191489,192.5 635.21276595744678,208.4375 628.08510638297878,192.5 620.95744680851055,192.5 613.82978723404267,155.3125 606.70212765957444,224.375 599.57446808510645,213.75 592.44680851063833,197.8125 585.31914893617011,213.75 578.19148936170211,155.3125 571.063829787234,197.8125 563.936170212766,192.5 556.80851063829789,187.1875 549.68085106382989,187.1875 542.55319148936167,208.4375 535.42553191489355,203.125 528.29787234042556,171.25 521.17021276595744,171.25 514.04255319148945,203.125 506.91489361702128,208.4375 499.78723404255322,197.8125 492.65957446808511,208.4375 485.531914893617,203.125 478.40425531914894,176.5625 471.27659574468089,181.875 464.14893617021272,187.1875 457.02127659574472,208.4375 449.89361702127661,197.8125 442.7659574468085,219.0625 435.63829787234044,192.5 428.51063829787233,197.8125 421.38297872340422,203.125 414.25531914893617,192.5 407.12765957446805,187.1875 400.0,203.125 392.87234042553189,181.875 385.74468085106389,197.8125 378.61702127659578,203.125 371.48936170212767,208.4375 364.36170212765956,187.1875 357.2340425531915,192.5 350.10638297872339,187.1875 342.97872340425528,197.8125 335.85106382978722,208.4375 328.72340425531917,203.125 321.59574468085106,235.0 314.468085106383,165.9375 307.34042553191495,213.75 300.21276595744678,203.125 293.08510638297872,192.5 285.95744680851061,187.1875 278.82978723404256,208.4375 271.70212765957444,203.125 264.57446808510639,181.875 257.44680851063828,160.625 250.31914893617019,213.75 243.19148936170211,197.8125 236.06382978723403,187.1875 228.93617021276594,208.4375 221.80851063829789,192.5 214.68085106382981,176.5625 207.55319148936169,171.25 200.42553191489361,192.5 193.29787234042556,208.4375 186.17021276595747,181.875 179.04255319148936,213.75 171.91489361702128,208.4375 164.78723404255319,219.0625 157.65957446808511,213.75 150.531914893617,213.75 143.40425531914894,197.8125 136.27659574468083,197.8125 129.14893617021278,219.0625 122.02127659574468,176.5625 114.89361702127658,187.1875 107.7659574468085,192.5 100.63829787234042,203.125 93.510638297872347,235.0 86.38297872340425,235.0 79.255319148936167,235.0 72.127659574468083,235.0 65.0,235.0\" style=\"fill:rgb(98.8%,55.3%,38.4%);fill-opacity:1.0;opacity:0.5;stroke:none\"><title>parsimony informative sites</title></polygon></g><g class=\"toyplot-mark-AxisLines\" id=\"t83794bed14c9430fb94da860b70cab9b\" style=\"stroke-dasharray:4, 4\"><g class=\"toyplot-Series\"><line class=\"toyplot-Datum\" style=\"opacity:0.9;stroke:rgb(16.1%,15.3%,14.1%);stroke-dasharray:4, 4;stroke-opacity:1.0\" x1=\"65.0\" x2=\"735.0\" y1=\"134.0625\" y2=\"134.0625\"></line></g></g><g class=\"toyplot-mark-AxisLines\" id=\"tb5de6cc7f242435eb7ed88dddd3aba7a\" style=\"stroke-dasharray:4, 4\"><g class=\"toyplot-Series\"><line class=\"toyplot-Datum\" style=\"opacity:0.9;stroke:rgb(16.1%,15.3%,14.1%);stroke-dasharray:4, 4;stroke-opacity:1.0\" x1=\"65.0\" x2=\"735.0\" y1=\"197.8125\" y2=\"197.8125\"></line></g></g></g><g class=\"toyplot-coordinates\" style=\"visibility:hidden\"><rect height=\"14.0\" style=\"fill:rgb(100%,100%,100%);fill-opacity:1.0;opacity:0.75;stroke:none\" width=\"90.0\" x=\"635.0\" y=\"75.0\"></rect><text style=\"alignment-baseline:middle;font-size:10px;font-weight:normal;stroke:none;text-anchor:middle\" x=\"680.0\" y=\"82.0\"></text></g><g class=\"toyplot-axes-Axis\" id=\"t6008938a15e64ceab0089d1adb33eb35\" transform=\"translate(65.0,235.0) rotate(0.0) translate(0,10.0)\"><line style=\"\" x1=\"0\" x2=\"670.0\" y1=\"0\" y2=\"0\"></line><g><line style=\"\" x1=\"0.0\" x2=\"0.0\" y1=\"0\" y2=\"5.0\"></line><line style=\"\" x1=\"35.638297872340424\" x2=\"35.638297872340424\" y1=\"0\" y2=\"5.0\"></line><line style=\"\" x1=\"71.27659574468085\" x2=\"71.27659574468085\" y1=\"0\" y2=\"5.0\"></line><line style=\"\" x1=\"106.91489361702128\" x2=\"106.91489361702128\" y1=\"0\" y2=\"5.0\"></line><line style=\"\" x1=\"142.5531914893617\" x2=\"142.5531914893617\" y1=\"0\" y2=\"5.0\"></line><line style=\"\" x1=\"178.1914893617021\" x2=\"178.1914893617021\" y1=\"0\" y2=\"5.0\"></line><line style=\"\" x1=\"213.82978723404256\" x2=\"213.82978723404256\" y1=\"0\" y2=\"5.0\"></line><line style=\"\" x1=\"249.46808510638297\" x2=\"249.46808510638297\" y1=\"0\" y2=\"5.0\"></line><line style=\"\" x1=\"285.1063829787234\" x2=\"285.1063829787234\" y1=\"0\" y2=\"5.0\"></line><line style=\"\" x1=\"320.74468085106383\" x2=\"320.74468085106383\" y1=\"0\" y2=\"5.0\"></line><line style=\"\" x1=\"356.3829787234042\" x2=\"356.3829787234042\" y1=\"0\" y2=\"5.0\"></line><line style=\"\" x1=\"392.02127659574467\" x2=\"392.02127659574467\" y1=\"0\" y2=\"5.0\"></line><line style=\"\" x1=\"427.6595744680851\" x2=\"427.6595744680851\" y1=\"0\" y2=\"5.0\"></line><line style=\"\" x1=\"463.29787234042556\" x2=\"463.29787234042556\" y1=\"0\" y2=\"5.0\"></line><line style=\"\" x1=\"498.93617021276594\" x2=\"498.93617021276594\" y1=\"0\" y2=\"5.0\"></line><line style=\"\" x1=\"534.5744680851063\" x2=\"534.5744680851063\" y1=\"0\" y2=\"5.0\"></line><line style=\"\" x1=\"570.2127659574468\" x2=\"570.2127659574468\" y1=\"0\" y2=\"5.0\"></line><line style=\"\" x1=\"605.8510638297872\" x2=\"605.8510638297872\" y1=\"0\" y2=\"5.0\"></line><line style=\"\" x1=\"641.4893617021277\" x2=\"641.4893617021277\" y1=\"0\" y2=\"5.0\"></line></g><g><text style=\"dominant-baseline:hanging;font-size:12px;font-weight:normal;stroke:none;text-anchor:middle\" transform=\"translate(0.0,6)translate(0,2.5)\"><tspan style=\"dominant-baseline:inherit\">0</tspan></text><text style=\"dominant-baseline:hanging;font-size:12px;font-weight:normal;stroke:none;text-anchor:middle\" transform=\"translate(35.638297872340424,6)translate(0,2.5)\"><tspan style=\"dominant-baseline:inherit\">5</tspan></text><text style=\"dominant-baseline:hanging;font-size:12px;font-weight:normal;stroke:none;text-anchor:middle\" transform=\"translate(71.27659574468085,6)translate(0,2.5)\"><tspan style=\"dominant-baseline:inherit\">10</tspan></text><text style=\"dominant-baseline:hanging;font-size:12px;font-weight:normal;stroke:none;text-anchor:middle\" transform=\"translate(106.91489361702128,6)translate(0,2.5)\"><tspan style=\"dominant-baseline:inherit\">15</tspan></text><text style=\"dominant-baseline:hanging;font-size:12px;font-weight:normal;stroke:none;text-anchor:middle\" transform=\"translate(142.5531914893617,6)translate(0,2.5)\"><tspan style=\"dominant-baseline:inherit\">20</tspan></text><text style=\"dominant-baseline:hanging;font-size:12px;font-weight:normal;stroke:none;text-anchor:middle\" transform=\"translate(178.1914893617021,6)translate(0,2.5)\"><tspan style=\"dominant-baseline:inherit\">25</tspan></text><text style=\"dominant-baseline:hanging;font-size:12px;font-weight:normal;stroke:none;text-anchor:middle\" transform=\"translate(213.82978723404256,6)translate(0,2.5)\"><tspan style=\"dominant-baseline:inherit\">30</tspan></text><text style=\"dominant-baseline:hanging;font-size:12px;font-weight:normal;stroke:none;text-anchor:middle\" transform=\"translate(249.46808510638297,6)translate(0,2.5)\"><tspan style=\"dominant-baseline:inherit\">35</tspan></text><text style=\"dominant-baseline:hanging;font-size:12px;font-weight:normal;stroke:none;text-anchor:middle\" transform=\"translate(285.1063829787234,6)translate(0,2.5)\"><tspan style=\"dominant-baseline:inherit\">40</tspan></text><text style=\"dominant-baseline:hanging;font-size:12px;font-weight:normal;stroke:none;text-anchor:middle\" transform=\"translate(320.74468085106383,6)translate(0,2.5)\"><tspan style=\"dominant-baseline:inherit\">45</tspan></text><text style=\"dominant-baseline:hanging;font-size:12px;font-weight:normal;stroke:none;text-anchor:middle\" transform=\"translate(356.3829787234042,6)translate(0,2.5)\"><tspan style=\"dominant-baseline:inherit\">50</tspan></text><text style=\"dominant-baseline:hanging;font-size:12px;font-weight:normal;stroke:none;text-anchor:middle\" transform=\"translate(392.02127659574467,6)translate(0,2.5)\"><tspan style=\"dominant-baseline:inherit\">55</tspan></text><text style=\"dominant-baseline:hanging;font-size:12px;font-weight:normal;stroke:none;text-anchor:middle\" transform=\"translate(427.6595744680851,6)translate(0,2.5)\"><tspan style=\"dominant-baseline:inherit\">60</tspan></text><text style=\"dominant-baseline:hanging;font-size:12px;font-weight:normal;stroke:none;text-anchor:middle\" transform=\"translate(463.29787234042556,6)translate(0,2.5)\"><tspan style=\"dominant-baseline:inherit\">65</tspan></text><text style=\"dominant-baseline:hanging;font-size:12px;font-weight:normal;stroke:none;text-anchor:middle\" transform=\"translate(498.93617021276594,6)translate(0,2.5)\"><tspan style=\"dominant-baseline:inherit\">70</tspan></text><text style=\"dominant-baseline:hanging;font-size:12px;font-weight:normal;stroke:none;text-anchor:middle\" transform=\"translate(534.5744680851063,6)translate(0,2.5)\"><tspan style=\"dominant-baseline:inherit\">75</tspan></text><text style=\"dominant-baseline:hanging;font-size:12px;font-weight:normal;stroke:none;text-anchor:middle\" transform=\"translate(570.2127659574468,6)translate(0,2.5)\"><tspan style=\"dominant-baseline:inherit\">80</tspan></text><text style=\"dominant-baseline:hanging;font-size:12px;font-weight:normal;stroke:none;text-anchor:middle\" transform=\"translate(605.8510638297872,6)translate(0,2.5)\"><tspan style=\"dominant-baseline:inherit\">85</tspan></text><text style=\"dominant-baseline:hanging;font-size:12px;font-weight:normal;stroke:none;text-anchor:middle\" transform=\"translate(641.4893617021277,6)translate(0,2.5)\"><tspan style=\"dominant-baseline:inherit\">90</tspan></text></g><text style=\"dominant-baseline:middle;font-size:16px;font-weight:bold;stroke:none;text-anchor:middle\" transform=\"translate(335.0,0)translate(0,40.0)\"><tspan style=\"dominant-baseline:inherit\">Position along RAD loci</tspan></text></g><g class=\"toyplot-axes-Axis\" id=\"t9d06022827d94529bcdcd97647d73331\" transform=\"translate(65.0,235.0) rotate(-90.0) translate(0,-10.0)\"><line style=\"\" x1=\"0\" x2=\"170.0\" y1=\"0\" y2=\"0\"></line><g><line style=\"\" x1=\"0.0\" x2=\"0.0\" y1=\"-5.0\" y2=\"0\"></line><line style=\"\" x1=\"53.125\" x2=\"53.125\" y1=\"-5.0\" y2=\"0\"></line><line style=\"\" x1=\"106.25\" x2=\"106.25\" y1=\"-5.0\" y2=\"0\"></line><line style=\"\" x1=\"159.375\" x2=\"159.375\" y1=\"-5.0\" y2=\"0\"></line></g><g><text style=\"dominant-baseline:alphabetic;font-size:12px;font-weight:normal;stroke:none;text-anchor:middle\" transform=\"translate(0.0,-6)translate(0,-5.0)\"><tspan style=\"dominant-baseline:inherit\">0</tspan></text><text style=\"dominant-baseline:alphabetic;font-size:12px;font-weight:normal;stroke:none;text-anchor:middle\" transform=\"translate(53.125,-6)translate(0,-5.0)\"><tspan style=\"dominant-baseline:inherit\">10</tspan></text><text style=\"dominant-baseline:alphabetic;font-size:12px;font-weight:normal;stroke:none;text-anchor:middle\" transform=\"translate(106.25,-6)translate(0,-5.0)\"><tspan style=\"dominant-baseline:inherit\">20</tspan></text><text style=\"dominant-baseline:alphabetic;font-size:12px;font-weight:normal;stroke:none;text-anchor:middle\" transform=\"translate(159.375,-6)translate(0,-5.0)\"><tspan style=\"dominant-baseline:inherit\">30</tspan></text></g><text style=\"dominant-baseline:middle;font-size:16px;font-weight:bold;stroke:none;text-anchor:middle\" transform=\"translate(85.0,0)translate(0,-40.0)\"><tspan style=\"dominant-baseline:inherit\">N variables sites</tspan></text></g></g></svg><div class=\"toyplot-controls\"><ul class=\"toyplot-mark-popup\" onmouseleave=\"this.style.visibility='hidden'\" style=\"background:rgba(0%,0%,0%,0.75);border:0;border-radius:6px;color:white;cursor:default;list-style:none;margin:0;padding:5px;position:fixed;visibility:hidden\"><li class=\"toyplot-mark-popup-title\" style=\"color:lightgray;cursor:default;padding:5px;list-style:none;margin:0;\"></li><li class=\"toyplot-mark-popup-save-csv\" onmouseout=\"this.style.color='white';this.style.background='steelblue'\" onmouseover=\"this.style.color='steelblue';this.style.background='white'\" style=\"border-radius:3px;padding:5px;list-style:none;margin:0;\">Save as .csv</li></ul><script>\n",
       "(function()\n",
       "{\n",
       "  var data_tables = [{\"data\": [[0.0, 1.0, 2.0, 3.0, 4.0, 5.0, 6.0, 7.0, 8.0, 9.0, 10.0, 11.0, 12.0, 13.0, 14.0, 15.0, 16.0, 17.0, 18.0, 19.0, 20.0, 21.0, 22.0, 23.0, 24.0, 25.0, 26.0, 27.0, 28.0, 29.0, 30.0, 31.0, 32.0, 33.0, 34.0, 35.0, 36.0, 37.0, 38.0, 39.0, 40.0, 41.0, 42.0, 43.0, 44.0, 45.0, 46.0, 47.0, 48.0, 49.0, 50.0, 51.0, 52.0, 53.0, 54.0, 55.0, 56.0, 57.0, 58.0, 59.0, 60.0, 61.0, 62.0, 63.0, 64.0, 65.0, 66.0, 67.0, 68.0, 69.0, 70.0, 71.0, 72.0, 73.0, 74.0, 75.0, 76.0, 77.0, 78.0, 79.0, 80.0, 81.0, 82.0, 83.0, 84.0, 85.0, 86.0, 87.0, 88.0, 89.0, 90.0, 91.0, 92.0, 93.0, 94.0], [0.0, 0.0, 0.0, 0.0, 0.0, 0.0, 0.0, 0.0, 0.0, 0.0, 0.0, 0.0, 0.0, 0.0, 0.0, 0.0, 0.0, 0.0, 0.0, 0.0, 0.0, 0.0, 0.0, 0.0, 0.0, 0.0, 0.0, 0.0, 0.0, 0.0, 0.0, 0.0, 0.0, 0.0, 0.0, 0.0, 0.0, 0.0, 0.0, 0.0, 0.0, 0.0, 0.0, 0.0, 0.0, 0.0, 0.0, 0.0, 0.0, 0.0, 0.0, 0.0, 0.0, 0.0, 0.0, 0.0, 0.0, 0.0, 0.0, 0.0, 0.0, 0.0, 0.0, 0.0, 0.0, 0.0, 0.0, 0.0, 0.0, 0.0, 0.0, 0.0, 0.0, 0.0, 0.0, 0.0, 0.0, 0.0, 0.0, 0.0, 0.0, 0.0, 0.0, 0.0, 0.0, 0.0, 0.0, 0.0, 0.0, 0.0, 0.0, 0.0, 0.0, 0.0, 0.0], [0.0, 0.0, 0.0, 0.0, 0.0, 17.0, 16.0, 16.0, 22.0, 28.0, 16.0, 25.0, 18.0, 24.0, 26.0, 24.0, 32.0, 15.0, 24.0, 18.0, 20.0, 21.0, 14.0, 17.0, 15.0, 30.0, 21.0, 22.0, 14.0, 17.0, 27.0, 7.0, 26.0, 21.0, 11.0, 19.0, 27.0, 16.0, 21.0, 27.0, 28.0, 16.0, 23.0, 17.0, 20.0, 21.0, 24.0, 18.0, 26.0, 11.0, 18.0, 15.0, 21.0, 14.0, 23.0, 19.0, 26.0, 21.0, 30.0, 23.0, 20.0, 24.0, 18.0, 18.0, 22.0, 19.0, 24.0, 20.0, 21.0, 20.0, 21.0, 22.0, 14.0, 15.0, 21.0, 26.0, 24.0, 18.0, 18.0, 18.0, 19.0, 19.0, 17.0, 27.0, 21.0, 17.0, 27.0, 13.0, 14.0, 16.0, 11.0, 14.0, 23.0, 0.0, 1.0]], \"title\": \"Fill Data\", \"names\": [\"x\", \"y0\", \"y1\"], \"id\": \"t84e9c73c4db246e883a1ef8bb9c0a877\", \"filename\": \"toyplot\"}, {\"data\": [[0.0, 1.0, 2.0, 3.0, 4.0, 5.0, 6.0, 7.0, 8.0, 9.0, 10.0, 11.0, 12.0, 13.0, 14.0, 15.0, 16.0, 17.0, 18.0, 19.0, 20.0, 21.0, 22.0, 23.0, 24.0, 25.0, 26.0, 27.0, 28.0, 29.0, 30.0, 31.0, 32.0, 33.0, 34.0, 35.0, 36.0, 37.0, 38.0, 39.0, 40.0, 41.0, 42.0, 43.0, 44.0, 45.0, 46.0, 47.0, 48.0, 49.0, 50.0, 51.0, 52.0, 53.0, 54.0, 55.0, 56.0, 57.0, 58.0, 59.0, 60.0, 61.0, 62.0, 63.0, 64.0, 65.0, 66.0, 67.0, 68.0, 69.0, 70.0, 71.0, 72.0, 73.0, 74.0, 75.0, 76.0, 77.0, 78.0, 79.0, 80.0, 81.0, 82.0, 83.0, 84.0, 85.0, 86.0, 87.0, 88.0, 89.0, 90.0, 91.0, 92.0, 93.0, 94.0], [0.0, 0.0, 0.0, 0.0, 0.0, 0.0, 0.0, 0.0, 0.0, 0.0, 0.0, 0.0, 0.0, 0.0, 0.0, 0.0, 0.0, 0.0, 0.0, 0.0, 0.0, 0.0, 0.0, 0.0, 0.0, 0.0, 0.0, 0.0, 0.0, 0.0, 0.0, 0.0, 0.0, 0.0, 0.0, 0.0, 0.0, 0.0, 0.0, 0.0, 0.0, 0.0, 0.0, 0.0, 0.0, 0.0, 0.0, 0.0, 0.0, 0.0, 0.0, 0.0, 0.0, 0.0, 0.0, 0.0, 0.0, 0.0, 0.0, 0.0, 0.0, 0.0, 0.0, 0.0, 0.0, 0.0, 0.0, 0.0, 0.0, 0.0, 0.0, 0.0, 0.0, 0.0, 0.0, 0.0, 0.0, 0.0, 0.0, 0.0, 0.0, 0.0, 0.0, 0.0, 0.0, 0.0, 0.0, 0.0, 0.0, 0.0, 0.0, 0.0, 0.0, 0.0, 0.0], [0.0, 0.0, 0.0, 0.0, 0.0, 6.0, 8.0, 9.0, 11.0, 3.0, 7.0, 7.0, 4.0, 4.0, 3.0, 5.0, 4.0, 10.0, 5.0, 8.0, 12.0, 11.0, 8.0, 5.0, 9.0, 7.0, 4.0, 14.0, 10.0, 6.0, 5.0, 9.0, 8.0, 6.0, 4.0, 13.0, 0.0, 6.0, 5.0, 7.0, 9.0, 8.0, 9.0, 5.0, 6.0, 7.0, 10.0, 6.0, 9.0, 8.0, 6.0, 7.0, 8.0, 3.0, 7.0, 5.0, 9.0, 10.0, 11.0, 6.0, 5.0, 7.0, 5.0, 6.0, 12.0, 12.0, 6.0, 5.0, 9.0, 9.0, 8.0, 7.0, 15.0, 4.0, 7.0, 4.0, 2.0, 15.0, 8.0, 8.0, 5.0, 8.0, 9.0, 2.0, 4.0, 15.0, 7.0, 9.0, 9.0, 4.0, 6.0, 4.0, 11.0, 0.0, 0.0]], \"title\": \"Fill Data\", \"names\": [\"x\", \"y0\", \"y1\"], \"id\": \"t7646c1d922bb47f99aeee5c963240d6b\", \"filename\": \"toyplot\"}];\n",
       "\n",
       "  function save_csv(data_table)\n",
       "  {\n",
       "    var uri = \"data:text/csv;charset=utf-8,\";\n",
       "    uri += data_table.names.join(\",\") + \"\\n\";\n",
       "    for(var i = 0; i != data_table.data[0].length; ++i)\n",
       "    {\n",
       "      for(var j = 0; j != data_table.data.length; ++j)\n",
       "      {\n",
       "        if(j)\n",
       "          uri += \",\";\n",
       "        uri += data_table.data[j][i];\n",
       "      }\n",
       "      uri += \"\\n\";\n",
       "    }\n",
       "    uri = encodeURI(uri);\n",
       "\n",
       "    var link = document.createElement(\"a\");\n",
       "    if(typeof link.download != \"undefined\")\n",
       "    {\n",
       "      link.href = uri;\n",
       "      link.style = \"visibility:hidden\";\n",
       "      link.download = data_table.filename + \".csv\";\n",
       "\n",
       "      document.body.appendChild(link);\n",
       "      link.click();\n",
       "      document.body.removeChild(link);\n",
       "    }\n",
       "    else\n",
       "    {\n",
       "      window.open(uri);\n",
       "    }\n",
       "  }\n",
       "\n",
       "  function open_popup(data_table)\n",
       "  {\n",
       "    return function(e)\n",
       "    {\n",
       "      var popup = document.querySelector(\"#t18afc18861f64fcd9074c200741b9859 .toyplot-mark-popup\");\n",
       "      popup.querySelector(\".toyplot-mark-popup-title\").innerHTML = data_table.title;\n",
       "      popup.querySelector(\".toyplot-mark-popup-save-csv\").onclick = function() { popup.style.visibility = \"hidden\"; save_csv(data_table); }\n",
       "      popup.style.left = (e.clientX - 50) + \"px\";\n",
       "      popup.style.top = (e.clientY - 20) + \"px\";\n",
       "      popup.style.visibility = \"visible\";\n",
       "      e.stopPropagation();\n",
       "      e.preventDefault();\n",
       "    }\n",
       "\n",
       "  }\n",
       "\n",
       "  for(var i = 0; i != data_tables.length; ++i)\n",
       "  {\n",
       "    var data_table = data_tables[i];\n",
       "    var event_target = document.querySelector(\"#\" + data_table.id);\n",
       "    event_target.oncontextmenu = open_popup(data_table);\n",
       "  }\n",
       "})();\n",
       "</script><script>\n",
       "(function()\n",
       "{\n",
       "  var axes = {\"tb02d8c70a92046ff978e0a70b951e4a5\": {\"x\": [{\"domain\": {\"bounds\": {\"max\": Infinity, \"min\": -Infinity}, \"max\": 94.0, \"min\": 0.0}, \"range\": {\"bounds\": {\"max\": Infinity, \"min\": -Infinity}, \"max\": 735.0, \"min\": 65.0}, \"scale\": \"linear\"}], \"y\": [{\"domain\": {\"bounds\": {\"max\": Infinity, \"min\": -Infinity}, \"max\": 32.0, \"min\": 0.0}, \"range\": {\"bounds\": {\"max\": -Infinity, \"min\": Infinity}, \"max\": 65.0, \"min\": 235.0}, \"scale\": \"linear\"}]}};\n",
       "\n",
       "  function sign(x)\n",
       "  {\n",
       "    return x < 0 ? -1 : x > 0 ? 1 : 0;\n",
       "  }\n",
       "\n",
       "  function _mix(a, b, amount)\n",
       "  {\n",
       "    return ((1.0 - amount) * a) + (amount * b);\n",
       "  }\n",
       "\n",
       "  function _log(x, base)\n",
       "  {\n",
       "    return Math.log(Math.abs(x)) / Math.log(base);\n",
       "  }\n",
       "\n",
       "  function _in_range(a, x, b)\n",
       "  {\n",
       "    var left = Math.min(a, b);\n",
       "    var right = Math.max(a, b);\n",
       "    return left <= x && x <= right;\n",
       "  }\n",
       "\n",
       "  function to_domain(projection, range)\n",
       "  {\n",
       "    for(var i = 0; i != projection.length; ++i)\n",
       "    {\n",
       "      var segment = projection[i];\n",
       "      if(_in_range(segment.range.bounds.min, range, segment.range.bounds.max))\n",
       "      {\n",
       "        if(segment.scale == \"linear\")\n",
       "        {\n",
       "          var amount = (range - segment.range.min) / (segment.range.max - segment.range.min);\n",
       "          return _mix(segment.domain.min, segment.domain.max, amount)\n",
       "        }\n",
       "        else if(segment.scale[0] == \"log\")\n",
       "        {\n",
       "          var amount = (range - segment.range.min) / (segment.range.max - segment.range.min);\n",
       "          var base = segment.scale[1];\n",
       "          return sign(segment.domain.min) * Math.pow(base, _mix(_log(segment.domain.min, base), _log(segment.domain.max, base), amount));\n",
       "        }\n",
       "      }\n",
       "    }\n",
       "  }\n",
       "\n",
       "  // Compute mouse coordinates relative to a DOM object, with thanks to d3js.org, where this code originated.\n",
       "  function d3_mousePoint(container, e)\n",
       "  {\n",
       "    if (e.changedTouches) e = e.changedTouches[0];\n",
       "    var svg = container.ownerSVGElement || container;\n",
       "    if (svg.createSVGPoint) {\n",
       "      var point = svg.createSVGPoint();\n",
       "      point.x = e.clientX, point.y = e.clientY;\n",
       "      point = point.matrixTransform(container.getScreenCTM().inverse());\n",
       "      return [point.x, point.y];\n",
       "    }\n",
       "    var rect = container.getBoundingClientRect();\n",
       "    return [e.clientX - rect.left - container.clientLeft, e.clientY - rect.top - container.clientTop];\n",
       "  };\n",
       "\n",
       "  function display_coordinates(e)\n",
       "  {\n",
       "    var dom_axes = e.currentTarget.parentElement;\n",
       "    var data = axes[dom_axes.id];\n",
       "\n",
       "    point = d3_mousePoint(e.target, e);\n",
       "    var x = Number(to_domain(data[\"x\"], point[0])).toFixed(2);\n",
       "    var y = Number(to_domain(data[\"y\"], point[1])).toFixed(2);\n",
       "\n",
       "    var coordinates = dom_axes.querySelectorAll(\".toyplot-coordinates\");\n",
       "    for(var i = 0; i != coordinates.length; ++i)\n",
       "    {\n",
       "      coordinates[i].style.visibility = \"visible\";\n",
       "      coordinates[i].querySelector(\"text\").textContent = \"x=\" + x + \" y=\" + y;\n",
       "    }\n",
       "  }\n",
       "\n",
       "  function clear_coordinates(e)\n",
       "  {\n",
       "    var dom_axes = e.currentTarget.parentElement;\n",
       "    var coordinates = dom_axes.querySelectorAll(\".toyplot-coordinates\");\n",
       "    for(var i = 0; i != coordinates.length; ++i)\n",
       "      coordinates[i].style.visibility = \"hidden\";\n",
       "  }\n",
       "\n",
       "  for(var axes_id in axes)\n",
       "  {\n",
       "    var event_target = document.querySelector(\"#\" + axes_id + \" .toyplot-coordinate-events\");\n",
       "    event_target.onmousemove = display_coordinates;\n",
       "    event_target.onmouseout = clear_coordinates;\n",
       "  }\n",
       "})();\n",
       "</script></div></div>"
      ]
     },
     "metadata": {},
     "output_type": "display_data"
    }
   ],
   "source": [
    "simdata = ip.load_json(\"~/Documents/ipyrad/tests/cli/cli.json\")\n",
    "\n",
    "## filter the snps\n",
    "fsnps = filter_snps(simdata)\n",
    "\n",
    "## trim non-data \n",
    "maxend = np.where(fsnps[:, :, :].sum(axis=0).sum(axis=1) != 0)[0].max()\n",
    "\n",
    "## all variables (including autapomorphies)\n",
    "distvar = np.sum(fsnps[:, :maxend+1, 0].astype(np.int), axis=0)\n",
    "\n",
    "## synapomorphies (just pis)\n",
    "distpis = fsnps[:, :maxend+1, 1].sum(axis=0)\n",
    "\n",
    "SNP_position_plot(distvar, distpis)"
   ]
  },
  {
   "cell_type": "markdown",
   "metadata": {},
   "source": [
    "### Results when I add a right-side anchor\n",
    "I now add a five base anchor just before muscle alignment, and then strip it off again after aligning. I have an added check to make sure that the anchor is definitely not left on the read in case muscle did try to stick an opening into the anchor. "
   ]
  },
  {
   "cell_type": "code",
   "execution_count": 172,
   "metadata": {
    "collapsed": false
   },
   "outputs": [
    {
     "name": "stdout",
     "output_type": "stream",
     "text": [
      "0.2.1\n"
     ]
    }
   ],
   "source": [
    "## import the new version of ipyrad w/ this update.\n",
    "import ipyrad as ip\n",
    "print ip.__version__"
   ]
  },
  {
   "cell_type": "code",
   "execution_count": null,
   "metadata": {
    "collapsed": true
   },
   "outputs": [],
   "source": []
  }
 ],
 "metadata": {
  "kernelspec": {
   "display_name": "Python 2",
   "language": "python",
   "name": "python2"
  },
  "language_info": {
   "codemirror_mode": {
    "name": "ipython",
    "version": 2
   },
   "file_extension": ".py",
   "mimetype": "text/x-python",
   "name": "python",
   "nbconvert_exporter": "python",
   "pygments_lexer": "ipython2",
   "version": "2.7.11"
  }
 },
 "nbformat": 4,
 "nbformat_minor": 0
}
