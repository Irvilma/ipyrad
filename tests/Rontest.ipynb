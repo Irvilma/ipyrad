{
 "cells": [
  {
   "cell_type": "code",
   "execution_count": 1,
   "metadata": {
    "collapsed": false
   },
   "outputs": [
    {
     "name": "stderr",
     "output_type": "stream",
     "text": [
      "DEBUG:ipyrad:H4CKERZ-mode: __loglevel__ = DEBUG\n"
     ]
    },
    {
     "name": "stdout",
     "output_type": "stream",
     "text": [
      "0.1.32\n"
     ]
    }
   ],
   "source": [
    "import ipyrad as ip\n",
    "print ip.__version__"
   ]
  },
  {
   "cell_type": "code",
   "execution_count": 2,
   "metadata": {
    "collapsed": false
   },
   "outputs": [
    {
     "name": "stdout",
     "output_type": "stream",
     "text": [
      "  New Assembly: Ron\n"
     ]
    }
   ],
   "source": [
    "data1 = ip.Assembly(\"Ron\")\n"
   ]
  },
  {
   "cell_type": "code",
   "execution_count": 3,
   "metadata": {
    "collapsed": false
   },
   "outputs": [
    {
     "name": "stdout",
     "output_type": "stream",
     "text": [
      "  1   working_directory           ./Ron                                        \n",
      "  2   raw_fastq_path              ./*.fastq                                    \n",
      "  3   barcodes_path               ./*.barcodes.txt                             \n",
      "  4   sorted_fastq_path           /home/deren/Downloads/Ron/*.gz               \n",
      "  5   assembly_method             denovo                                       \n",
      "  6   reference_sequence                                                       \n",
      "  7   datatype                    pairddrad                                    \n",
      "  8   restriction_overhang        ('TGCAG', '')                                \n",
      "  9   max_low_qual_bases          6                                            \n",
      "  10  phred_Qscore_offset         33                                           \n",
      "  11  mindepth_statistical        6                                            \n",
      "  12  mindepth_majrule            6                                            \n",
      "  13  maxdepth                    1000                                         \n",
      "  14  clust_threshold             0.85                                         \n",
      "  15  max_barcode_mismatch        1                                            \n",
      "  16  filter_adapters             2                                            \n",
      "  17  filter_min_trim_len         50                                           \n",
      "  18  max_alleles_consens         2                                            \n",
      "  19  max_Ns_consens              (4, 4)                                       \n",
      "  20  max_Hs_consens              (4, 4)                                       \n",
      "  21  min_samples_locus           4                                            \n",
      "  22  max_SNPs_locus              (100, 100)                                   \n",
      "  23  max_Indels_locus            (6, 6)                                       \n",
      "  24  max_shared_Hs_locus         0.25                                         \n",
      "  25  edit_cutsites               (6, 4)                                       \n",
      "  26  trim_overhang               (1, 2, 2, 1)                                 \n",
      "  27  output_formats              *                                            \n",
      "  28  pop_assign_file                                                          \n",
      "  29  excludes                                                                 \n",
      "  30  outgroups                                                                \n"
     ]
    }
   ],
   "source": [
    "data1.set_params(\"working_directory\", \"Ron\")\n",
    "data1.set_params(\"sorted_fastq_path\", \"/home/deren/Downloads/Ron/*.gz\")\n",
    "data1.set_params(\"datatype\", \"pairddrad\")\n",
    "data1.set_params(\"restriction_overhang\", (\"TGCAG\", \"\"))\n",
    "data1.set_params(\"max_low_qual_bases\", 6)\n",
    "data1.set_params(\"filter_adapters\", 2)\n",
    "data1.set_params(\"max_Hs_consens\", (4, 4))\n",
    "data1.set_params(\"max_Ns_consens\", (4, 4))\n",
    "data1.set_params(\"max_Indels_locus\", (6, 6))\n",
    "data1.set_params(\"edit_cutsites\", (6, 4))\n",
    "data1.set_params(\"filter_min_trim_len\", 50)\n",
    "\n",
    "data1.get_params()"
   ]
  },
  {
   "cell_type": "code",
   "execution_count": 4,
   "metadata": {
    "collapsed": false
   },
   "outputs": [],
   "source": [
    "## smaller preview\n",
    "data1._hackersonly[\"preview_truncate_length\"] = 50000"
   ]
  },
  {
   "cell_type": "code",
   "execution_count": 5,
   "metadata": {
    "collapsed": false
   },
   "outputs": [
    {
     "name": "stdout",
     "output_type": "stream",
     "text": [
      "4 new Samples created in `Ron`.\n",
      "4 fastq files linked to 4 new Samples.\n",
      "                                   state  reads_raw\n",
      "12_RE-05-11-4_CU_AATGGC-CGCGTCTA       1    3981908\n",
      "34_RC-06-3-32_STX_AATGGC-TTGCACCC      1    4942688\n",
      "37_RE-05-1-10_SXM_AATGGC-TACGTAAA      1    3730551\n",
      "40_19_AATGGC-TCTACCGT                  1    5218462\n"
     ]
    }
   ],
   "source": [
    "data1.link_fastqs(force=True)\n",
    "print data1.stats\n",
    "\n",
    "## it's nice to have a save function, maybe this shouldn't be hidden.\n",
    "#data1.save()"
   ]
  },
  {
   "cell_type": "markdown",
   "metadata": {},
   "source": [
    "### Get barcodes from sample names\n",
    "We'll also shorten the sample names so they read a little prettier. According to the documents Ron sent docs showing that the I7 barcode will be at the end of read1 if it overshoots the fragment length. "
   ]
  },
  {
   "cell_type": "code",
   "execution_count": 6,
   "metadata": {
    "collapsed": false
   },
   "outputs": [
    {
     "name": "stdout",
     "output_type": "stream",
     "text": [
      "34_RC-06-3-32_STX\tTTGCACCC\n",
      "40_19\tTCTACCGT\n",
      "12_RE-05-11-4_CU\tCGCGTCTA\n",
      "37_RE-05-1-10_SXM\tTACGTAAA\n"
     ]
    }
   ],
   "source": [
    "oldnames = data1.samples.keys()\n",
    "\n",
    "for key in oldnames:\n",
    "    ## get sample with this name\n",
    "    sample = data1.samples.pop(key)\n",
    "    \n",
    "    ## get new name and barcode from oldname\n",
    "    newname = sample.name.rsplit(\"_\", 1)[0]\n",
    "    barcode = sample.name.rsplit('-', 1)[-1]\n",
    "    \n",
    "    ## save name and barcode to sample\n",
    "    sample.name = newname\n",
    "    sample.barcode = barcode\n",
    "    \n",
    "    ## save back to Assembly\n",
    "    data1.samples[sample.name] = sample\n",
    "    \n",
    "    ## check\n",
    "    print \"{}\\t{}\".format(sample.name, sample.barcode)"
   ]
  },
  {
   "cell_type": "markdown",
   "metadata": {},
   "source": [
    "### Build a barcodes dict since no barcodes file"
   ]
  },
  {
   "cell_type": "code",
   "execution_count": 7,
   "metadata": {
    "collapsed": false
   },
   "outputs": [
    {
     "data": {
      "text/plain": [
       "{'12_RE-05-11-4_CU': 'CGCGTCTA',\n",
       " '34_RC-06-3-32_STX': 'TTGCACCC',\n",
       " '37_RE-05-1-10_SXM': 'TACGTAAA',\n",
       " '40_19': 'TCTACCGT'}"
      ]
     },
     "execution_count": 7,
     "metadata": {},
     "output_type": "execute_result"
    }
   ],
   "source": [
    "barcodes = {}\n",
    "for key, sample in data1.samples.items():\n",
    "    barcodes[sample.name] = sample.barcode\n",
    "    \n",
    "data1.barcodes = barcodes\n",
    "data1.barcodes"
   ]
  },
  {
   "cell_type": "code",
   "execution_count": 11,
   "metadata": {
    "collapsed": false
   },
   "outputs": [
    {
     "name": "stdout",
     "output_type": "stream",
     "text": [
      "  loading Assembly: Ron [Ron/Ron.assembly]\n"
     ]
    }
   ],
   "source": [
    "import ipyrad as ip\n",
    "data1 = ip.load.load_assembly(\"Ron/Ron.assembly\")"
   ]
  },
  {
   "cell_type": "markdown",
   "metadata": {},
   "source": [
    "### Filter reads"
   ]
  },
  {
   "cell_type": "code",
   "execution_count": 8,
   "metadata": {
    "collapsed": false
   },
   "outputs": [
    {
     "name": "stdout",
     "output_type": "stream",
     "text": [
      "                   state  reads_raw  reads_filtered\n",
      "12_RE-05-11-4_CU       2    3981908           30894\n",
      "34_RC-06-3-32_STX      2    4942688           31877\n",
      "37_RE-05-1-10_SXM      2    3730551           32075\n",
      "40_19                  2    5218462           32140\n"
     ]
    }
   ],
   "source": [
    "data1.step2(preview=True)\n",
    "print data1.stats"
   ]
  },
  {
   "cell_type": "code",
   "execution_count": 11,
   "metadata": {
    "collapsed": false
   },
   "outputs": [
    {
     "name": "stdout",
     "output_type": "stream",
     "text": [
      "                   reads_raw  filtered_by_qscore  filtered_by_adapter  \\\n",
      "12_RE-05-11-4_CU       50000               18642                  464   \n",
      "34_RC-06-3-32_STX      50000               17660                  463   \n",
      "37_RE-05-1-10_SXM      50000               17456                  469   \n",
      "40_19                  50000               17375                  485   \n",
      "\n",
      "                   reads_passed  \n",
      "12_RE-05-11-4_CU          30894  \n",
      "34_RC-06-3-32_STX         31877  \n",
      "37_RE-05-1-10_SXM         32075  \n",
      "40_19                     32140  \n"
     ]
    }
   ],
   "source": [
    "print data1.statsfiles.s2"
   ]
  },
  {
   "cell_type": "markdown",
   "metadata": {},
   "source": [
    "### Problem with high indels filter for paired data still "
   ]
  },
  {
   "cell_type": "code",
   "execution_count": 12,
   "metadata": {
    "collapsed": false,
    "scrolled": true
   },
   "outputs": [],
   "source": [
    "data1.step3()"
   ]
  },
  {
   "cell_type": "code",
   "execution_count": 13,
   "metadata": {
    "collapsed": false
   },
   "outputs": [
    {
     "name": "stdout",
     "output_type": "stream",
     "text": [
      "                   state  reads_raw  reads_filtered  clusters_total  \\\n",
      "12_RE-05-11-4_CU       3    3981908           30894           21744   \n",
      "34_RC-06-3-32_STX      3    4942688           31877           21300   \n",
      "37_RE-05-1-10_SXM      3    3730551           32075           21802   \n",
      "40_19                  3    5218462           32140           21246   \n",
      "\n",
      "                   clusters_hidepth  \n",
      "12_RE-05-11-4_CU                100  \n",
      "34_RC-06-3-32_STX               124  \n",
      "37_RE-05-1-10_SXM               117  \n",
      "40_19                           129  \n"
     ]
    }
   ],
   "source": [
    "print data1.stats"
   ]
  },
  {
   "cell_type": "code",
   "execution_count": 14,
   "metadata": {
    "collapsed": false
   },
   "outputs": [
    {
     "name": "stdout",
     "output_type": "stream",
     "text": [
      "                   state  reads_raw  reads_filtered  clusters_total  \\\n",
      "12_RE-05-11-4_CU       4    3981908           30894           21744   \n",
      "34_RC-06-3-32_STX      4    4942688           31877           21300   \n",
      "37_RE-05-1-10_SXM      4    3730551           32075           21802   \n",
      "40_19                  4    5218462           32140           21246   \n",
      "\n",
      "                   clusters_hidepth  hetero_est  error_est  \n",
      "12_RE-05-11-4_CU                100    0.024199   0.008354  \n",
      "34_RC-06-3-32_STX               124    0.015910   0.006538  \n",
      "37_RE-05-1-10_SXM               117    0.016823   0.007831  \n",
      "40_19                           129    0.013917   0.006393  \n"
     ]
    }
   ],
   "source": [
    "data1.step4()\n",
    "print data1.stats"
   ]
  },
  {
   "cell_type": "code",
   "execution_count": 1,
   "metadata": {
    "collapsed": false
   },
   "outputs": [
    {
     "name": "stderr",
     "output_type": "stream",
     "text": [
      "DEBUG:ipyrad:H4CKERZ-mode: __loglevel__ = DEBUG\n",
      "INFO:ipyrad.core.assembly:try 10: starting controller\n",
      "DEBUG:ipyrad.core.assembly:OK! Connected to (4) engines\n"
     ]
    },
    {
     "name": "stdout",
     "output_type": "stream",
     "text": [
      "  loading Assembly: Ron [Ron/Ron.assembly]\n",
      "  Step5: Consensus base calling \n",
      "\n",
      "    Skipping: All 4 selected Samples already consensus called\n"
     ]
    },
    {
     "data": {
      "text/html": [
       "<div>\n",
       "<table border=\"1\" class=\"dataframe\">\n",
       "  <thead>\n",
       "    <tr style=\"text-align: right;\">\n",
       "      <th></th>\n",
       "      <th>state</th>\n",
       "      <th>reads_raw</th>\n",
       "      <th>reads_filtered</th>\n",
       "      <th>clusters_total</th>\n",
       "      <th>clusters_hidepth</th>\n",
       "      <th>hetero_est</th>\n",
       "      <th>error_est</th>\n",
       "      <th>reads_consens</th>\n",
       "    </tr>\n",
       "  </thead>\n",
       "  <tbody>\n",
       "    <tr>\n",
       "      <th>12_RE-05-11-4_CU</th>\n",
       "      <td>6</td>\n",
       "      <td>3981908</td>\n",
       "      <td>30894</td>\n",
       "      <td>21744</td>\n",
       "      <td>100</td>\n",
       "      <td>0.024199</td>\n",
       "      <td>0.008354</td>\n",
       "      <td>76</td>\n",
       "    </tr>\n",
       "    <tr>\n",
       "      <th>34_RC-06-3-32_STX</th>\n",
       "      <td>6</td>\n",
       "      <td>4942688</td>\n",
       "      <td>31877</td>\n",
       "      <td>21300</td>\n",
       "      <td>124</td>\n",
       "      <td>0.015910</td>\n",
       "      <td>0.006538</td>\n",
       "      <td>107</td>\n",
       "    </tr>\n",
       "    <tr>\n",
       "      <th>37_RE-05-1-10_SXM</th>\n",
       "      <td>6</td>\n",
       "      <td>3730551</td>\n",
       "      <td>32075</td>\n",
       "      <td>21802</td>\n",
       "      <td>117</td>\n",
       "      <td>0.016823</td>\n",
       "      <td>0.007831</td>\n",
       "      <td>97</td>\n",
       "    </tr>\n",
       "    <tr>\n",
       "      <th>40_19</th>\n",
       "      <td>6</td>\n",
       "      <td>5218462</td>\n",
       "      <td>32140</td>\n",
       "      <td>21246</td>\n",
       "      <td>129</td>\n",
       "      <td>0.013917</td>\n",
       "      <td>0.006393</td>\n",
       "      <td>107</td>\n",
       "    </tr>\n",
       "  </tbody>\n",
       "</table>\n",
       "</div>"
      ],
      "text/plain": [
       "                   state  reads_raw  reads_filtered  clusters_total  \\\n",
       "12_RE-05-11-4_CU       6    3981908           30894           21744   \n",
       "34_RC-06-3-32_STX      6    4942688           31877           21300   \n",
       "37_RE-05-1-10_SXM      6    3730551           32075           21802   \n",
       "40_19                  6    5218462           32140           21246   \n",
       "\n",
       "                   clusters_hidepth  hetero_est  error_est  reads_consens  \n",
       "12_RE-05-11-4_CU                100    0.024199   0.008354             76  \n",
       "34_RC-06-3-32_STX               124    0.015910   0.006538            107  \n",
       "37_RE-05-1-10_SXM               117    0.016823   0.007831             97  \n",
       "40_19                           129    0.013917   0.006393            107  "
      ]
     },
     "execution_count": 1,
     "metadata": {},
     "output_type": "execute_result"
    }
   ],
   "source": [
    "import ipyrad as ip\n",
    "data1 = ip.load.load_assembly(\"Ron/Ron.assembly\")\n",
    "\n",
    "data1.step5()\n",
    "data1.stats"
   ]
  },
  {
   "cell_type": "code",
   "execution_count": 3,
   "metadata": {
    "collapsed": false,
    "scrolled": true
   },
   "outputs": [],
   "source": [
    "data1.write_params()"
   ]
  },
  {
   "cell_type": "code",
   "execution_count": 2,
   "metadata": {
    "collapsed": false
   },
   "outputs": [
    {
     "name": "stderr",
     "output_type": "stream",
     "text": [
      "INFO:ipyrad.core.assembly:try 10: starting controller\n",
      "DEBUG:ipyrad.core.assembly:OK! Connected to (4) engines\n",
      "INFO:ipyrad.assemble.cluster_across:creating input files\n",
      "INFO:ipyrad.assemble.cluster_across:clustering\n",
      "DEBUG:ipyrad.assemble.cluster_across:/home/deren/Documents/ipyrad/bin/vsearch-linux-x86_64 -cluster_smallmem /home/deren/Documents/ipyrad/tests/Ron/Ron_consens/Ron_cathaps.tmp -leftjust  -query_cov .90  -id 0.85 -userout /home/deren/Documents/ipyrad/tests/Ron/Ron_consens/Ron.utemp -notmatched /home/deren/Documents/ipyrad/tests/Ron/Ron_consens/Ron.htemp -userfields query+target+qstrand -maxaccepts 1 -maxrejects 0 -minsl 0.5 -fasta_width 0 -threads 0 -fulldp  -usersort  -quiet\n",
      "INFO:ipyrad.assemble.cluster_across:building consens clusters\n",
      "INFO:ipyrad.assemble.cluster_across:muscle alignment & building indel database\n",
      "INFO:ipyrad.assemble.cluster_across:building full database\n",
      "DEBUG:ipyrad.assemble.cluster_across:singlecat: 12_RE-05-11-4_CU\n",
      "DEBUG:ipyrad.assemble.cluster_across:insert (0, 7) indels into 12_RE-05-11-4_CU\n",
      "DEBUG:ipyrad.assemble.cluster_across:insert (0, 4) indels into 12_RE-05-11-4_CU\n",
      "DEBUG:ipyrad.assemble.cluster_across:insert (0, 6) indels into 12_RE-05-11-4_CU\n",
      "DEBUG:ipyrad.assemble.cluster_across:insert (0, 7) indels into 12_RE-05-11-4_CU\n",
      "DEBUG:ipyrad.assemble.cluster_across:insert (0, 4) indels into 12_RE-05-11-4_CU\n",
      "DEBUG:ipyrad.assemble.cluster_across:insert (0, 4) indels into 12_RE-05-11-4_CU\n",
      "DEBUG:ipyrad.assemble.cluster_across:insert (0, 6) indels into 12_RE-05-11-4_CU\n",
      "DEBUG:ipyrad.assemble.cluster_across:insert (0, 5) indels into 12_RE-05-11-4_CU\n",
      "DEBUG:ipyrad.assemble.cluster_across:insert (0, 15) indels into 12_RE-05-11-4_CU\n",
      "DEBUG:ipyrad.assemble.cluster_across:insert (0, 9) indels into 12_RE-05-11-4_CU\n",
      "DEBUG:ipyrad.assemble.cluster_across:insert (0, 11) indels into 12_RE-05-11-4_CU\n",
      "DEBUG:ipyrad.assemble.cluster_across:insert (1, 9) indels into 12_RE-05-11-4_CU\n",
      "DEBUG:ipyrad.assemble.cluster_across:insert (1, 17) indels into 12_RE-05-11-4_CU\n"
     ]
    },
    {
     "name": "stdout",
     "output_type": "stream",
     "text": [
      "  Step6: Clustering across 4 samples at 0.85 similarity\n"
     ]
    },
    {
     "ename": "IPyradError",
     "evalue": "Uncaught Exception: shape mismatch: value array of shape (300,4) could not be broadcast to indexing result of shape (301,4)",
     "output_type": "error",
     "traceback": [
      "\u001b[1;31m---------------------------------------------------------------------------\u001b[0m",
      "\u001b[1;31mIPyradError\u001b[0m                               Traceback (most recent call last)",
      "\u001b[1;32m<ipython-input-2-5906a56a93f8>\u001b[0m in \u001b[0;36m<module>\u001b[1;34m()\u001b[0m\n\u001b[1;32m----> 1\u001b[1;33m \u001b[0mdata1\u001b[0m\u001b[1;33m.\u001b[0m\u001b[0mstep6\u001b[0m\u001b[1;33m(\u001b[0m\u001b[0mforce\u001b[0m\u001b[1;33m=\u001b[0m\u001b[0mTrue\u001b[0m\u001b[1;33m)\u001b[0m\u001b[1;33m\u001b[0m\u001b[0m\n\u001b[0m",
      "\u001b[1;32m/home/deren/Documents/ipyrad/ipyrad/core/assembly.pyc\u001b[0m in \u001b[0;36mstep6\u001b[1;34m(self, samples, noreverse, force, randomseed)\u001b[0m\n\u001b[0;32m   1200\u001b[0m         \"\"\"\n\u001b[0;32m   1201\u001b[0m         self._clientwrapper(self._step6func, [samples, noreverse, force,\n\u001b[1;32m-> 1202\u001b[1;33m                                               randomseed], 10)\n\u001b[0m\u001b[0;32m   1203\u001b[0m \u001b[1;33m\u001b[0m\u001b[0m\n\u001b[0;32m   1204\u001b[0m \u001b[1;33m\u001b[0m\u001b[0m\n",
      "\u001b[1;32m/home/deren/Documents/ipyrad/ipyrad/core/assembly.pyc\u001b[0m in \u001b[0;36m_clientwrapper\u001b[1;34m(self, stepfunc, args, nwait)\u001b[0m\n\u001b[0;32m    791\u001b[0m \u001b[1;33m\u001b[0m\u001b[0m\n\u001b[0;32m    792\u001b[0m         \u001b[1;32mexcept\u001b[0m \u001b[0mException\u001b[0m \u001b[1;32mas\u001b[0m \u001b[0minst\u001b[0m\u001b[1;33m:\u001b[0m\u001b[1;33m\u001b[0m\u001b[0m\n\u001b[1;32m--> 793\u001b[1;33m             \u001b[1;32mraise\u001b[0m \u001b[0mIPyradError\u001b[0m\u001b[1;33m(\u001b[0m\u001b[1;34m\"Uncaught Exception: {}\"\u001b[0m\u001b[1;33m.\u001b[0m\u001b[0mformat\u001b[0m\u001b[1;33m(\u001b[0m\u001b[0minst\u001b[0m\u001b[1;33m)\u001b[0m\u001b[1;33m)\u001b[0m\u001b[1;33m\u001b[0m\u001b[0m\n\u001b[0m\u001b[0;32m    794\u001b[0m \u001b[1;33m\u001b[0m\u001b[0m\n\u001b[0;32m    795\u001b[0m         \u001b[1;31m## close client when done or interrupted\u001b[0m\u001b[1;33m\u001b[0m\u001b[1;33m\u001b[0m\u001b[0m\n",
      "\u001b[1;31mIPyradError\u001b[0m: Uncaught Exception: shape mismatch: value array of shape (300,4) could not be broadcast to indexing result of shape (301,4)"
     ]
    }
   ],
   "source": [
    "data1.step6(force=True)"
   ]
  },
  {
   "cell_type": "code",
   "execution_count": null,
   "metadata": {
    "collapsed": true
   },
   "outputs": [],
   "source": []
  }
 ],
 "metadata": {
  "kernelspec": {
   "display_name": "Python 2",
   "language": "python",
   "name": "python2"
  },
  "language_info": {
   "codemirror_mode": {
    "name": "ipython",
    "version": 2
   },
   "file_extension": ".py",
   "mimetype": "text/x-python",
   "name": "python",
   "nbconvert_exporter": "python",
   "pygments_lexer": "ipython2",
   "version": "2.7.11"
  }
 },
 "nbformat": 4,
 "nbformat_minor": 0
}
