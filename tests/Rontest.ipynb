{
 "cells": [
  {
   "cell_type": "code",
   "execution_count": 1,
   "metadata": {
    "collapsed": false
   },
   "outputs": [
    {
     "name": "stderr",
     "output_type": "stream",
     "text": [
      "DEBUG:ipyrad:H4CKERZ-mode: __loglevel__ = DEBUG\n"
     ]
    },
    {
     "name": "stdout",
     "output_type": "stream",
     "text": [
      "0.1.24\n"
     ]
    }
   ],
   "source": [
    "import ipyrad as ip\n",
    "print ip.__version__"
   ]
  },
  {
   "cell_type": "code",
   "execution_count": 2,
   "metadata": {
    "collapsed": false
   },
   "outputs": [
    {
     "name": "stdout",
     "output_type": "stream",
     "text": [
      "  New Assembly: Ron\n"
     ]
    }
   ],
   "source": [
    "data1 = ip.Assembly(\"Ron\")\n"
   ]
  },
  {
   "cell_type": "code",
   "execution_count": 3,
   "metadata": {
    "collapsed": false
   },
   "outputs": [
    {
     "name": "stdout",
     "output_type": "stream",
     "text": [
      "  1   working_directory           ./Ron                                        \n",
      "  2   raw_fastq_path              ./*.fastq                                    \n",
      "  3   barcodes_path               ./*.barcodes.txt                             \n",
      "  4   sorted_fastq_path           /home/deren/Downloads/Ron/*.gz               \n",
      "  5   assembly_method             denovo                                       \n",
      "  6   reference_sequence                                                       \n",
      "  7   datatype                    pairddrad                                    \n",
      "  8   restriction_overhang        ('', '')                                     \n",
      "  9   max_low_qual_bases          6                                            \n",
      "  10  phred_Qscore_offset         33                                           \n",
      "  11  mindepth_statistical        6                                            \n",
      "  12  mindepth_majrule            6                                            \n",
      "  13  maxdepth                    1000                                         \n",
      "  14  clust_threshold             0.85                                         \n",
      "  15  max_barcode_mismatch        1                                            \n",
      "  16  filter_adapters             2                                            \n",
      "  17  filter_min_trim_len         35                                           \n",
      "  18  max_alleles_consens         2                                            \n",
      "  19  max_Ns_consens              (5, 5)                                       \n",
      "  20  max_Hs_consens              (4, 4)                                       \n",
      "  21  min_samples_locus           4                                            \n",
      "  22  max_SNPs_locus              (100, 100)                                   \n",
      "  23  max_Indels_locus            (5, 99)                                      \n",
      "  24  max_shared_Hs_locus         0.25                                         \n",
      "  25  edit_cutsites               (6, 4)                                       \n",
      "  26  trim_overhang               (1, 2, 2, 1)                                 \n",
      "  27  output_formats              *                                            \n",
      "  28  pop_assign_file                                                          \n",
      "  29  excludes                                                                 \n",
      "  30  outgroups                                                                \n"
     ]
    }
   ],
   "source": [
    "data1.set_params(\"working_directory\", \"Ron\")\n",
    "data1.set_params(\"sorted_fastq_path\", \"/home/deren/Downloads/Ron/*.gz\")\n",
    "data1.set_params(\"datatype\", \"pairddrad\")\n",
    "data1.set_params(\"restriction_overhang\", (\"\", \"\"))\n",
    "data1.set_params(\"max_low_qual_bases\", 6)\n",
    "data1.set_params(\"filter_adapters\", 2)\n",
    "data1.set_params(\"max_Hs_consens\", (4, 4))\n",
    "data1.set_params(\"edit_cutsites\", (6, 4))\n",
    "\n",
    "data1.get_params()"
   ]
  },
  {
   "cell_type": "code",
   "execution_count": 4,
   "metadata": {
    "collapsed": false
   },
   "outputs": [
    {
     "name": "stdout",
     "output_type": "stream",
     "text": [
      "4 new Samples created in `Ron`.\n",
      "4 fastq files linked to 4 new Samples.\n",
      "                                   state  reads_raw\n",
      "12_RE-05-11-4_CU_AATGGC-CGCGTCTA       1    3981908\n",
      "34_RC-06-3-32_STX_AATGGC-TTGCACCC      1    4942688\n",
      "37_RE-05-1-10_SXM_AATGGC-TACGTAAA      1    3730551\n",
      "40_19_AATGGC-TCTACCGT                  1    5218462\n"
     ]
    }
   ],
   "source": [
    "data1.link_fastqs()\n",
    "print data1.stats\n",
    "## it's nice to have a save function, maybe this shouldn't be hidden.\n",
    "data1._save()"
   ]
  },
  {
   "cell_type": "markdown",
   "metadata": {},
   "source": [
    "### Get barcodes from sample names\n",
    "We'll also shorten the sample names so they read a little prettier. According to the documents Ron sent docs showing that the I7 barcode will be at the end of read1 if it overshoots the fragment length. "
   ]
  },
  {
   "cell_type": "code",
   "execution_count": 10,
   "metadata": {
    "collapsed": false
   },
   "outputs": [
    {
     "name": "stdout",
     "output_type": "stream",
     "text": [
      "34_RC-06-3-32_STX_AATGGC-TTGCACCC\n",
      "40_19_AATGGC-TCTACCGT\n",
      "12_RE-05-11-4_CU_AATGGC-CGCGTCTA\n",
      "37_RE-05-1-10_SXM_AATGGC-TACGTAAA\n"
     ]
    }
   ],
   "source": [
    "for key, sample in data1.samples:\n",
    "    sample.name = \n",
    "    print sample"
   ]
  },
  {
   "cell_type": "code",
   "execution_count": 5,
   "metadata": {
    "collapsed": false
   },
   "outputs": [
    {
     "name": "stderr",
     "output_type": "stream",
     "text": [
      "INFO:ipyrad.core.assembly:try 10: starting controller\n",
      "DEBUG:ipyrad.core.assembly:OK! Connected to (4) engines\n",
      "INFO:ipyrad.assemble.rawedit:optim=62500\n",
      "WARNING:ipyrad.assemble.rawedit:\n",
      "    Running preview mode. Selecting subset (500000) reads for editing - [('/home/deren/Downloads/Ron/34_RC-06-3-32_STX_AATGGC-TTGCACCC_R1_.fastq.gz', '/home/deren/Downloads/Ron/34_RC-06-3-32_STX_AATGGC-TTGCACCC_R2_.fastq.gz')]\n",
      "DEBUG:ipyrad.assemble.util:insamp ('/home/deren/Downloads/Ron/34_RC-06-3-32_STX_AATGGC-TTGCACCC_R1_.fastq.gz', '/home/deren/Downloads/Ron/34_RC-06-3-32_STX_AATGGC-TTGCACCC_R2_.fastq.gz')\n",
      "DEBUG:ipyrad.assemble.util:read /home/deren/Downloads/Ron/34_RC-06-3-32_STX_AATGGC-TTGCACCC_R1_.fastq.gz\n",
      "DEBUG:ipyrad.assemble.util:read /home/deren/Downloads/Ron/34_RC-06-3-32_STX_AATGGC-TTGCACCC_R2_.fastq.gz\n",
      "DEBUG:ipyrad.assemble.util:zcat splittin' 34_RC-06-3-32_STX_AATGGC-TTGCACCC_R1_.fastq.gz.preview_tmp_LMKraK.fq\n",
      "INFO:ipyrad.assemble.util:optim = 62500\n",
      "INFO:ipyrad.assemble.rawedit:optim=62500\n",
      "WARNING:ipyrad.assemble.rawedit:\n",
      "    Running preview mode. Selecting subset (500000) reads for editing - [('/home/deren/Downloads/Ron/40_19_AATGGC-TCTACCGT_R1_.fastq.gz', '/home/deren/Downloads/Ron/40_19_AATGGC-TCTACCGT_R2_.fastq.gz')]\n",
      "DEBUG:ipyrad.assemble.util:insamp ('/home/deren/Downloads/Ron/40_19_AATGGC-TCTACCGT_R1_.fastq.gz', '/home/deren/Downloads/Ron/40_19_AATGGC-TCTACCGT_R2_.fastq.gz')\n",
      "DEBUG:ipyrad.assemble.util:read /home/deren/Downloads/Ron/40_19_AATGGC-TCTACCGT_R1_.fastq.gz\n",
      "DEBUG:ipyrad.assemble.util:read /home/deren/Downloads/Ron/40_19_AATGGC-TCTACCGT_R2_.fastq.gz\n",
      "DEBUG:ipyrad.assemble.util:zcat splittin' 40_19_AATGGC-TCTACCGT_R1_.fastq.gz.preview_tmp_vNvtT_.fq\n",
      "INFO:ipyrad.assemble.util:optim = 62500\n",
      "INFO:ipyrad.assemble.rawedit:optim=62500\n",
      "WARNING:ipyrad.assemble.rawedit:\n",
      "    Running preview mode. Selecting subset (500000) reads for editing - [('/home/deren/Downloads/Ron/12_RE-05-11-4_CU_AATGGC-CGCGTCTA_R1_.fastq.gz', '/home/deren/Downloads/Ron/12_RE-05-11-4_CU_AATGGC-CGCGTCTA_R2_.fastq.gz')]\n",
      "DEBUG:ipyrad.assemble.util:insamp ('/home/deren/Downloads/Ron/12_RE-05-11-4_CU_AATGGC-CGCGTCTA_R1_.fastq.gz', '/home/deren/Downloads/Ron/12_RE-05-11-4_CU_AATGGC-CGCGTCTA_R2_.fastq.gz')\n",
      "DEBUG:ipyrad.assemble.util:read /home/deren/Downloads/Ron/12_RE-05-11-4_CU_AATGGC-CGCGTCTA_R1_.fastq.gz\n",
      "DEBUG:ipyrad.assemble.util:read /home/deren/Downloads/Ron/12_RE-05-11-4_CU_AATGGC-CGCGTCTA_R2_.fastq.gz\n",
      "DEBUG:ipyrad.assemble.util:zcat splittin' 12_RE-05-11-4_CU_AATGGC-CGCGTCTA_R1_.fastq.gz.preview_tmp_xhkb8Q.fq\n",
      "INFO:ipyrad.assemble.util:optim = 62500\n",
      "INFO:ipyrad.assemble.rawedit:optim=62500\n",
      "WARNING:ipyrad.assemble.rawedit:\n",
      "    Running preview mode. Selecting subset (500000) reads for editing - [('/home/deren/Downloads/Ron/37_RE-05-1-10_SXM_AATGGC-TACGTAAA_R1_.fastq.gz', '/home/deren/Downloads/Ron/37_RE-05-1-10_SXM_AATGGC-TACGTAAA_R2_.fastq.gz')]\n",
      "DEBUG:ipyrad.assemble.util:insamp ('/home/deren/Downloads/Ron/37_RE-05-1-10_SXM_AATGGC-TACGTAAA_R1_.fastq.gz', '/home/deren/Downloads/Ron/37_RE-05-1-10_SXM_AATGGC-TACGTAAA_R2_.fastq.gz')\n",
      "DEBUG:ipyrad.assemble.util:read /home/deren/Downloads/Ron/37_RE-05-1-10_SXM_AATGGC-TACGTAAA_R1_.fastq.gz\n",
      "DEBUG:ipyrad.assemble.util:read /home/deren/Downloads/Ron/37_RE-05-1-10_SXM_AATGGC-TACGTAAA_R2_.fastq.gz\n",
      "DEBUG:ipyrad.assemble.util:zcat splittin' 37_RE-05-1-10_SXM_AATGGC-TACGTAAA_R1_.fastq.gz.preview_tmp_3cVkg2.fq\n",
      "INFO:ipyrad.assemble.util:optim = 62500\n"
     ]
    },
    {
     "name": "stdout",
     "output_type": "stream",
     "text": [
      "                                   state  reads_raw  reads_filtered\n",
      "12_RE-05-11-4_CU_AATGGC-CGCGTCTA       2    3981908           40148\n",
      "34_RC-06-3-32_STX_AATGGC-TTGCACCC      2    4942688           41031\n",
      "37_RE-05-1-10_SXM_AATGGC-TACGTAAA      2    3730551           41743\n",
      "40_19_AATGGC-TCTACCGT                  2    5218462           40994\n",
      "CPU times: user 10.1 s, sys: 834 ms, total: 10.9 s\n",
      "Wall time: 4min 1s\n"
     ]
    }
   ],
   "source": [
    "data1.step2(preview=True)\n",
    "print data1.stats"
   ]
  },
  {
   "cell_type": "code",
   "execution_count": 6,
   "metadata": {
    "collapsed": false
   },
   "outputs": [
    {
     "name": "stderr",
     "output_type": "stream",
     "text": [
      "INFO:ipyrad.core.assembly:try 10: starting controller\n",
      "DEBUG:ipyrad.core.assembly:OK! Connected to (4) engines\n",
      "INFO:ipyrad.assemble.cluster_within:muscle aligning\n",
      "INFO:ipyrad.assemble.cluster_within:muscle aligning\n",
      "INFO:ipyrad.assemble.cluster_within:muscle aligning\n",
      "INFO:ipyrad.assemble.cluster_within:muscle aligning\n"
     ]
    }
   ],
   "source": [
    "data1.step3()"
   ]
  },
  {
   "cell_type": "code",
   "execution_count": 8,
   "metadata": {
    "collapsed": false
   },
   "outputs": [
    {
     "name": "stdout",
     "output_type": "stream",
     "text": [
      "                                   state  reads_raw  reads_filtered  \\\n",
      "12_RE-05-11-4_CU_AATGGC-CGCGTCTA       3    3981908           40148   \n",
      "34_RC-06-3-32_STX_AATGGC-TTGCACCC      3    4942688           41031   \n",
      "37_RE-05-1-10_SXM_AATGGC-TACGTAAA      3    3730551           41743   \n",
      "40_19_AATGGC-TCTACCGT                  3    5218462           40994   \n",
      "\n",
      "                                   reads_merged  clusters_total  \\\n",
      "12_RE-05-11-4_CU_AATGGC-CGCGTCTA          40148           23280   \n",
      "34_RC-06-3-32_STX_AATGGC-TTGCACCC         41031           22214   \n",
      "37_RE-05-1-10_SXM_AATGGC-TACGTAAA         41743           22829   \n",
      "40_19_AATGGC-TCTACCGT                     40994           21656   \n",
      "\n",
      "                                   clusters_hidepth  \n",
      "12_RE-05-11-4_CU_AATGGC-CGCGTCTA                445  \n",
      "34_RC-06-3-32_STX_AATGGC-TTGCACCC               692  \n",
      "37_RE-05-1-10_SXM_AATGGC-TACGTAAA               603  \n",
      "40_19_AATGGC-TCTACCGT                           741  \n"
     ]
    }
   ],
   "source": [
    "print data1.stats"
   ]
  },
  {
   "cell_type": "code",
   "execution_count": 15,
   "metadata": {
    "collapsed": false
   },
   "outputs": [
    {
     "name": "stdout",
     "output_type": "stream",
     "text": [
      "                                   state  reads_raw  reads_filtered  \\\n",
      "12_RE-05-11-4_CU_AATGGC-CGCGTCTA       4    3981908           40148   \n",
      "34_RC-06-3-32_STX_AATGGC-TTGCACCC      4    4942688           41031   \n",
      "37_RE-05-1-10_SXM_AATGGC-TACGTAAA      4    3730551           41743   \n",
      "40_19_AATGGC-TCTACCGT                  4    5218462           40994   \n",
      "\n",
      "                                   reads_merged  clusters_total  \\\n",
      "12_RE-05-11-4_CU_AATGGC-CGCGTCTA          40148           23280   \n",
      "34_RC-06-3-32_STX_AATGGC-TTGCACCC         41031           22214   \n",
      "37_RE-05-1-10_SXM_AATGGC-TACGTAAA         41743           22829   \n",
      "40_19_AATGGC-TCTACCGT                     40994           21656   \n",
      "\n",
      "                                   clusters_hidepth  hetero_est  error_est  \n",
      "12_RE-05-11-4_CU_AATGGC-CGCGTCTA                445    0.009667   0.003434  \n",
      "34_RC-06-3-32_STX_AATGGC-TTGCACCC               692    0.008303   0.003034  \n",
      "37_RE-05-1-10_SXM_AATGGC-TACGTAAA               603    0.008858   0.002811  \n",
      "40_19_AATGGC-TCTACCGT                           741    0.007413   0.002001  \n"
     ]
    }
   ],
   "source": [
    "data1.step4()\n",
    "print data1.stats"
   ]
  },
  {
   "cell_type": "code",
   "execution_count": 1,
   "metadata": {
    "collapsed": false
   },
   "outputs": [
    {
     "name": "stderr",
     "output_type": "stream",
     "text": [
      "DEBUG:ipyrad:H4CKERZ-mode: __loglevel__ = DEBUG\n"
     ]
    },
    {
     "name": "stdout",
     "output_type": "stream",
     "text": [
      "  loading Assembly: Ron [Ron/Ron.assembly]\n",
      "  New Assembly: Ron\n"
     ]
    }
   ],
   "source": [
    "import ipyrad as ip\n",
    "data1 = ip.load.load_assembly(\"Ron/Ron.assembly\")"
   ]
  },
  {
   "cell_type": "code",
   "execution_count": 2,
   "metadata": {
    "collapsed": false,
    "scrolled": true
   },
   "outputs": [
    {
     "name": "stderr",
     "output_type": "stream",
     "text": [
      "INFO:ipyrad.core.assembly:try 2: starting controller\n",
      "DEBUG:ipyrad.core.assembly:OK! Connected to (1) engines\n"
     ]
    },
    {
     "ename": "CompositeError",
     "evalue": "one or more exceptions from call to method: consensus\n[0:apply]: IndexError: list index out of range\n[0:apply]: KeyError: 'G'\n[0:apply]: IndexError: index 236 is out of bounds for axis 1 with size 204",
     "output_type": "error",
     "traceback": [
      "[0:apply]: ",
      "\u001b[1;31m---------------------------------------------------------------------------\u001b[0m\u001b[1;31mIndexError\u001b[0m                                Traceback (most recent call last)\u001b[1;32m<string>\u001b[0m in \u001b[0;36m<module>\u001b[1;34m()\u001b[0m",
      "\u001b[1;32m/home/deren/Documents/ipyrad/ipyrad/assemble/consens_se.pyc\u001b[0m in \u001b[0;36mconsensus\u001b[1;34m(args)\u001b[0m",
      "\u001b[0;32m    241\u001b[0m \u001b[1;33m\u001b[0m\u001b[0m",
      "\u001b[0;32m    242\u001b[0m                         \u001b[1;31m## filter for max alleles and get lower case in consens\u001b[0m\u001b[1;33m\u001b[0m\u001b[1;33m\u001b[0m\u001b[0m",
      "\u001b[1;32m--> 243\u001b[1;33m                         \u001b[0mres\u001b[0m \u001b[1;33m=\u001b[0m \u001b[0mnfilter4\u001b[0m\u001b[1;33m(\u001b[0m\u001b[0mdata\u001b[0m\u001b[1;33m,\u001b[0m \u001b[0mconsens\u001b[0m\u001b[1;33m,\u001b[0m \u001b[0mhidx\u001b[0m\u001b[1;33m,\u001b[0m \u001b[0marrayed\u001b[0m\u001b[1;33m)\u001b[0m\u001b[1;33m\u001b[0m\u001b[0m",
      "\u001b[0m\u001b[0;32m    244\u001b[0m                         \u001b[0mconsens\u001b[0m\u001b[1;33m,\u001b[0m \u001b[0mpassed\u001b[0m \u001b[1;33m=\u001b[0m \u001b[0mres\u001b[0m\u001b[1;33m\u001b[0m\u001b[0m",
      "\u001b[0;32m    245\u001b[0m \u001b[1;33m\u001b[0m\u001b[0m",
      "\u001b[1;32m/home/deren/Documents/ipyrad/ipyrad/assemble/consens_se.pyc\u001b[0m in \u001b[0;36mnfilter4\u001b[1;34m(data, consens, hidx, arrayed)\u001b[0m",
      "\u001b[0;32m    354\u001b[0m     \u001b[1;32melse\u001b[0m\u001b[1;33m:\u001b[0m\u001b[1;33m\u001b[0m\u001b[0m",
      "\u001b[0;32m    355\u001b[0m         \u001b[1;31m## store order of alleles with lower case lettering in consens\u001b[0m\u001b[1;33m\u001b[0m\u001b[1;33m\u001b[0m\u001b[0m",
      "\u001b[1;32m--> 356\u001b[1;33m         \u001b[0mconsens\u001b[0m \u001b[1;33m=\u001b[0m \u001b[0mstorealleles\u001b[0m\u001b[1;33m(\u001b[0m\u001b[0mconsens\u001b[0m\u001b[1;33m,\u001b[0m \u001b[0mhidx\u001b[0m\u001b[1;33m,\u001b[0m \u001b[0malleles\u001b[0m\u001b[1;33m)\u001b[0m\u001b[1;33m\u001b[0m\u001b[0m",
      "\u001b[0m\u001b[0;32m    357\u001b[0m         \u001b[1;32mreturn\u001b[0m \u001b[0mconsens\u001b[0m\u001b[1;33m,\u001b[0m \u001b[1;36m1\u001b[0m\u001b[1;33m\u001b[0m\u001b[0m",
      "\u001b[0;32m    358\u001b[0m \u001b[1;33m\u001b[0m\u001b[0m",
      "\u001b[1;32m/home/deren/Documents/ipyrad/ipyrad/assemble/consens_se.pyc\u001b[0m in \u001b[0;36mstorealleles\u001b[1;34m(consens, hidx, alleles)\u001b[0m",
      "\u001b[0;32m    368\u001b[0m \u001b[1;33m\u001b[0m\u001b[0m",
      "\u001b[0;32m    369\u001b[0m     \u001b[1;31m## find which allele has priority based on bigbase\u001b[0m\u001b[1;33m\u001b[0m\u001b[1;33m\u001b[0m\u001b[0m",
      "\u001b[1;32m--> 370\u001b[1;33m     \u001b[0mbigallele\u001b[0m \u001b[1;33m=\u001b[0m \u001b[1;33m[\u001b[0m\u001b[0mi\u001b[0m \u001b[1;32mfor\u001b[0m \u001b[0mi\u001b[0m \u001b[1;32min\u001b[0m \u001b[0malleles\u001b[0m \u001b[1;32mif\u001b[0m \u001b[0mi\u001b[0m\u001b[1;33m[\u001b[0m\u001b[1;36m0\u001b[0m\u001b[1;33m]\u001b[0m \u001b[1;33m==\u001b[0m \u001b[0mbigbase\u001b[0m\u001b[1;33m]\u001b[0m\u001b[1;33m[\u001b[0m\u001b[1;36m0\u001b[0m\u001b[1;33m]\u001b[0m\u001b[1;33m\u001b[0m\u001b[0m",
      "\u001b[0m\u001b[0;32m    371\u001b[0m \u001b[1;33m\u001b[0m\u001b[0m",
      "\u001b[0;32m    372\u001b[0m     \u001b[1;31m## uplow other bases relative to this one and the priority list\u001b[0m\u001b[1;33m\u001b[0m\u001b[1;33m\u001b[0m\u001b[0m",
      "\u001b[1;31mIndexError\u001b[0m: list index out of range",
      "",
      "[0:apply]: ",
      "\u001b[1;31m---------------------------------------------------------------------------\u001b[0m\u001b[1;31mKeyError\u001b[0m                                  Traceback (most recent call last)\u001b[1;32m<string>\u001b[0m in \u001b[0;36m<module>\u001b[1;34m()\u001b[0m",
      "\u001b[1;32m/home/deren/Documents/ipyrad/ipyrad/assemble/consens_se.pyc\u001b[0m in \u001b[0;36mconsensus\u001b[1;34m(args)\u001b[0m",
      "\u001b[0;32m    241\u001b[0m \u001b[1;33m\u001b[0m\u001b[0m",
      "\u001b[0;32m    242\u001b[0m                         \u001b[1;31m## filter for max alleles and get lower case in consens\u001b[0m\u001b[1;33m\u001b[0m\u001b[1;33m\u001b[0m\u001b[0m",
      "\u001b[1;32m--> 243\u001b[1;33m                         \u001b[0mres\u001b[0m \u001b[1;33m=\u001b[0m \u001b[0mnfilter4\u001b[0m\u001b[1;33m(\u001b[0m\u001b[0mdata\u001b[0m\u001b[1;33m,\u001b[0m \u001b[0mconsens\u001b[0m\u001b[1;33m,\u001b[0m \u001b[0mhidx\u001b[0m\u001b[1;33m,\u001b[0m \u001b[0marrayed\u001b[0m\u001b[1;33m)\u001b[0m\u001b[1;33m\u001b[0m\u001b[0m",
      "\u001b[0m\u001b[0;32m    244\u001b[0m                         \u001b[0mconsens\u001b[0m\u001b[1;33m,\u001b[0m \u001b[0mpassed\u001b[0m \u001b[1;33m=\u001b[0m \u001b[0mres\u001b[0m\u001b[1;33m\u001b[0m\u001b[0m",
      "\u001b[0;32m    245\u001b[0m \u001b[1;33m\u001b[0m\u001b[0m",
      "\u001b[1;32m/home/deren/Documents/ipyrad/ipyrad/assemble/consens_se.pyc\u001b[0m in \u001b[0;36mnfilter4\u001b[1;34m(data, consens, hidx, arrayed)\u001b[0m",
      "\u001b[0;32m    354\u001b[0m     \u001b[1;32melse\u001b[0m\u001b[1;33m:\u001b[0m\u001b[1;33m\u001b[0m\u001b[0m",
      "\u001b[0;32m    355\u001b[0m         \u001b[1;31m## store order of alleles with lower case lettering in consens\u001b[0m\u001b[1;33m\u001b[0m\u001b[1;33m\u001b[0m\u001b[0m",
      "\u001b[1;32m--> 356\u001b[1;33m         \u001b[0mconsens\u001b[0m \u001b[1;33m=\u001b[0m \u001b[0mstorealleles\u001b[0m\u001b[1;33m(\u001b[0m\u001b[0mconsens\u001b[0m\u001b[1;33m,\u001b[0m \u001b[0mhidx\u001b[0m\u001b[1;33m,\u001b[0m \u001b[0malleles\u001b[0m\u001b[1;33m)\u001b[0m\u001b[1;33m\u001b[0m\u001b[0m",
      "\u001b[0m\u001b[0;32m    357\u001b[0m         \u001b[1;32mreturn\u001b[0m \u001b[0mconsens\u001b[0m\u001b[1;33m,\u001b[0m \u001b[1;36m1\u001b[0m\u001b[1;33m\u001b[0m\u001b[0m",
      "\u001b[0;32m    358\u001b[0m \u001b[1;33m\u001b[0m\u001b[0m",
      "\u001b[1;32m/home/deren/Documents/ipyrad/ipyrad/assemble/consens_se.pyc\u001b[0m in \u001b[0;36mstorealleles\u001b[1;34m(consens, hidx, alleles)\u001b[0m",
      "\u001b[0;32m    378\u001b[0m \u001b[1;33m\u001b[0m\u001b[0m",
      "\u001b[0;32m    379\u001b[0m     \u001b[1;32mfor\u001b[0m \u001b[0mhsite\u001b[0m\u001b[1;33m,\u001b[0m \u001b[0mpbase\u001b[0m \u001b[1;32min\u001b[0m \u001b[0mzip\u001b[0m\u001b[1;33m(\u001b[0m\u001b[0mhidx\u001b[0m\u001b[1;33m[\u001b[0m\u001b[1;36m1\u001b[0m\u001b[1;33m:\u001b[0m\u001b[1;33m]\u001b[0m\u001b[1;33m,\u001b[0m \u001b[0mbigallele\u001b[0m\u001b[1;33m[\u001b[0m\u001b[1;36m1\u001b[0m\u001b[1;33m:\u001b[0m\u001b[1;33m]\u001b[0m\u001b[1;33m)\u001b[0m\u001b[1;33m:\u001b[0m\u001b[1;33m\u001b[0m\u001b[0m",
      "\u001b[1;32m--> 380\u001b[1;33m         \u001b[1;32mif\u001b[0m \u001b[0mPRIORITY\u001b[0m\u001b[1;33m[\u001b[0m\u001b[0mconsens\u001b[0m\u001b[1;33m[\u001b[0m\u001b[0mhsite\u001b[0m\u001b[1;33m]\u001b[0m\u001b[1;33m]\u001b[0m \u001b[1;33m!=\u001b[0m \u001b[0mpbase\u001b[0m\u001b[1;33m:\u001b[0m\u001b[1;33m\u001b[0m\u001b[0m",
      "\u001b[0m\u001b[0;32m    381\u001b[0m             \u001b[0mconsens\u001b[0m\u001b[1;33m[\u001b[0m\u001b[0mhsite\u001b[0m\u001b[1;33m]\u001b[0m \u001b[1;33m=\u001b[0m \u001b[0mconsens\u001b[0m\u001b[1;33m[\u001b[0m\u001b[0mhsite\u001b[0m\u001b[1;33m]\u001b[0m\u001b[1;33m.\u001b[0m\u001b[0mlower\u001b[0m\u001b[1;33m(\u001b[0m\u001b[1;33m)\u001b[0m\u001b[1;33m\u001b[0m\u001b[0m",
      "\u001b[0;32m    382\u001b[0m \u001b[1;33m\u001b[0m\u001b[0m",
      "\u001b[1;31mKeyError\u001b[0m: 'G'",
      "",
      "[0:apply]: ",
      "\u001b[1;31m---------------------------------------------------------------------------\u001b[0m\u001b[1;31mIndexError\u001b[0m                                Traceback (most recent call last)\u001b[1;32m<string>\u001b[0m in \u001b[0;36m<module>\u001b[1;34m()\u001b[0m",
      "\u001b[1;32m/home/deren/Documents/ipyrad/ipyrad/assemble/consens_se.pyc\u001b[0m in \u001b[0;36mconsensus\u001b[1;34m(args)\u001b[0m",
      "\u001b[0;32m    241\u001b[0m \u001b[1;33m\u001b[0m\u001b[0m",
      "\u001b[0;32m    242\u001b[0m                         \u001b[1;31m## filter for max alleles and get lower case in consens\u001b[0m\u001b[1;33m\u001b[0m\u001b[1;33m\u001b[0m\u001b[0m",
      "\u001b[1;32m--> 243\u001b[1;33m                         \u001b[0mres\u001b[0m \u001b[1;33m=\u001b[0m \u001b[0mnfilter4\u001b[0m\u001b[1;33m(\u001b[0m\u001b[0mdata\u001b[0m\u001b[1;33m,\u001b[0m \u001b[0mconsens\u001b[0m\u001b[1;33m,\u001b[0m \u001b[0mhidx\u001b[0m\u001b[1;33m,\u001b[0m \u001b[0marrayed\u001b[0m\u001b[1;33m)\u001b[0m\u001b[1;33m\u001b[0m\u001b[0m",
      "\u001b[0m\u001b[0;32m    244\u001b[0m                         \u001b[0mconsens\u001b[0m\u001b[1;33m,\u001b[0m \u001b[0mpassed\u001b[0m \u001b[1;33m=\u001b[0m \u001b[0mres\u001b[0m\u001b[1;33m\u001b[0m\u001b[0m",
      "\u001b[0;32m    245\u001b[0m \u001b[1;33m\u001b[0m\u001b[0m",
      "\u001b[1;32m/home/deren/Documents/ipyrad/ipyrad/assemble/consens_se.pyc\u001b[0m in \u001b[0;36mnfilter4\u001b[1;34m(data, consens, hidx, arrayed)\u001b[0m",
      "\u001b[0;32m    332\u001b[0m \u001b[1;33m\u001b[0m\u001b[0m",
      "\u001b[0;32m    333\u001b[0m     \u001b[1;31m## store base calls for hetero sites\u001b[0m\u001b[1;33m\u001b[0m\u001b[1;33m\u001b[0m\u001b[0m",
      "\u001b[1;32m--> 334\u001b[1;33m     \u001b[0mharray\u001b[0m \u001b[1;33m=\u001b[0m \u001b[0marrayed\u001b[0m\u001b[1;33m[\u001b[0m\u001b[1;33m:\u001b[0m\u001b[1;33m,\u001b[0m \u001b[0mhidx\u001b[0m\u001b[1;33m]\u001b[0m\u001b[1;33m\u001b[0m\u001b[0m",
      "\u001b[0m\u001b[0;32m    335\u001b[0m     \u001b[0mLOGGER\u001b[0m\u001b[1;33m.\u001b[0m\u001b[0mdebug\u001b[0m\u001b[1;33m(\u001b[0m\u001b[1;34m\"harray1 %s\"\u001b[0m\u001b[1;33m,\u001b[0m \u001b[0mharray\u001b[0m\u001b[1;33m)\u001b[0m\u001b[1;33m\u001b[0m\u001b[0m",
      "\u001b[0;32m    336\u001b[0m \u001b[1;33m\u001b[0m\u001b[0m",
      "\u001b[1;31mIndexError\u001b[0m: index 236 is out of bounds for axis 1 with size 204",
      ""
     ]
    }
   ],
   "source": [
    "data1.step5()"
   ]
  },
  {
   "cell_type": "code",
   "execution_count": null,
   "metadata": {
    "collapsed": true
   },
   "outputs": [],
   "source": [
    "data1.step6()"
   ]
  },
  {
   "cell_type": "code",
   "execution_count": null,
   "metadata": {
    "collapsed": true
   },
   "outputs": [],
   "source": []
  }
 ],
 "metadata": {
  "kernelspec": {
   "display_name": "Python 2",
   "language": "python",
   "name": "python2"
  },
  "language_info": {
   "codemirror_mode": {
    "name": "ipython",
    "version": 2
   },
   "file_extension": ".py",
   "mimetype": "text/x-python",
   "name": "python",
   "nbconvert_exporter": "python",
   "pygments_lexer": "ipython2",
   "version": "2.7.11"
  }
 },
 "nbformat": 4,
 "nbformat_minor": 0
}
