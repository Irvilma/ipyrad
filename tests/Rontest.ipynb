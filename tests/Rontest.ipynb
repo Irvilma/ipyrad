{
 "cells": [
  {
   "cell_type": "code",
   "execution_count": 1,
   "metadata": {
    "collapsed": false
   },
   "outputs": [
    {
     "name": "stderr",
     "output_type": "stream",
     "text": [
      "DEBUG:ipyrad:H4CKERZ-mode: __loglevel__ = DEBUG\n"
     ]
    },
    {
     "name": "stdout",
     "output_type": "stream",
     "text": [
      "0.1.31\n"
     ]
    }
   ],
   "source": [
    "import ipyrad as ip\n",
    "print ip.__version__"
   ]
  },
  {
   "cell_type": "code",
   "execution_count": 2,
   "metadata": {
    "collapsed": false
   },
   "outputs": [
    {
     "name": "stdout",
     "output_type": "stream",
     "text": [
      "  New Assembly: Ron\n"
     ]
    }
   ],
   "source": [
    "data1 = ip.Assembly(\"Ron\")\n"
   ]
  },
  {
   "cell_type": "code",
   "execution_count": 13,
   "metadata": {
    "collapsed": false
   },
   "outputs": [
    {
     "name": "stdout",
     "output_type": "stream",
     "text": [
      "  1   working_directory           ./Ron                                        \n",
      "  2   raw_fastq_path              ./*.fastq                                    \n",
      "  3   barcodes_path               ./*.barcodes.txt                             \n",
      "  4   sorted_fastq_path           /home/deren/Downloads/Ron/*.gz               \n",
      "  5   assembly_method             denovo                                       \n",
      "  6   reference_sequence                                                       \n",
      "  7   datatype                    pairddrad                                    \n",
      "  8   restriction_overhang        ('', '')                                     \n",
      "  9   max_low_qual_bases          6                                            \n",
      "  10  phred_Qscore_offset         33                                           \n",
      "  11  mindepth_statistical        6                                            \n",
      "  12  mindepth_majrule            6                                            \n",
      "  13  maxdepth                    1000                                         \n",
      "  14  clust_threshold             0.85                                         \n",
      "  15  max_barcode_mismatch        1                                            \n",
      "  16  filter_adapters             2                                            \n",
      "  17  filter_min_trim_len         35                                           \n",
      "  18  max_alleles_consens         2                                            \n",
      "  19  max_Ns_consens              (5, 5)                                       \n",
      "  20  max_Hs_consens              (4, 4)                                       \n",
      "  21  min_samples_locus           4                                            \n",
      "  22  max_SNPs_locus              (100, 100)                                   \n",
      "  23  max_Indels_locus            (5, 99)                                      \n",
      "  24  max_shared_Hs_locus         0.25                                         \n",
      "  25  edit_cutsites               (6, 4)                                       \n",
      "  26  trim_overhang               (1, 2, 2, 1)                                 \n",
      "  27  output_formats              *                                            \n",
      "  28  pop_assign_file                                                          \n",
      "  29  excludes                                                                 \n",
      "  30  outgroups                                                                \n"
     ]
    }
   ],
   "source": [
    "data1.set_params(\"working_directory\", \"Ron\")\n",
    "data1.set_params(\"sorted_fastq_path\", \"/home/deren/Downloads/Ron/*.gz\")\n",
    "data1.set_params(\"datatype\", \"pairddrad\")\n",
    "data1.set_params(\"restriction_overhang\", (\"\", \"\"))\n",
    "data1.set_params(\"max_low_qual_bases\", 6)\n",
    "data1.set_params(\"filter_adapters\", 2)\n",
    "data1.set_params(\"max_Hs_consens\", (4, 4))\n",
    "data1.set_params(\"edit_cutsites\", (6, 4))\n",
    "\n",
    "data1.get_params()"
   ]
  },
  {
   "cell_type": "code",
   "execution_count": 10,
   "metadata": {
    "collapsed": false
   },
   "outputs": [
    {
     "name": "stdout",
     "output_type": "stream",
     "text": [
      "4 new Samples created in `Ron`.\n",
      "4 fastq files linked to 4 new Samples.\n",
      "                                   state  reads_raw\n",
      "12_RE-05-11-4_CU_AATGGC-CGCGTCTA       1    3981908\n",
      "34_RC-06-3-32_STX_AATGGC-TTGCACCC      1    4942688\n",
      "37_RE-05-1-10_SXM_AATGGC-TACGTAAA      1    3730551\n",
      "40_19_AATGGC-TCTACCGT                  1    5218462\n"
     ]
    }
   ],
   "source": [
    "data1.link_fastqs(force=True)\n",
    "print data1.stats\n",
    "\n",
    "## it's nice to have a save function, maybe this shouldn't be hidden.\n",
    "data1.save()"
   ]
  },
  {
   "cell_type": "code",
   "execution_count": 11,
   "metadata": {
    "collapsed": false
   },
   "outputs": [
    {
     "data": {
      "text/plain": [
       "{'12_RE-05-11-4_CU_AATGGC-CGCGTCTA': <ipyrad.core.sample.Sample at 0x7f234b2db3d0>,\n",
       " '34_RC-06-3-32_STX_AATGGC-TTGCACCC': <ipyrad.core.sample.Sample at 0x7f23579ff610>,\n",
       " '37_RE-05-1-10_SXM_AATGGC-TACGTAAA': <ipyrad.core.sample.Sample at 0x7f234b2b76d0>,\n",
       " '40_19_AATGGC-TCTACCGT': <ipyrad.core.sample.Sample at 0x7f234b2b7c10>}"
      ]
     },
     "execution_count": 11,
     "metadata": {},
     "output_type": "execute_result"
    }
   ],
   "source": [
    "data1.samples"
   ]
  },
  {
   "cell_type": "markdown",
   "metadata": {},
   "source": [
    "### Get barcodes from sample names\n",
    "We'll also shorten the sample names so they read a little prettier. According to the documents Ron sent docs showing that the I7 barcode will be at the end of read1 if it overshoots the fragment length. "
   ]
  },
  {
   "cell_type": "code",
   "execution_count": 12,
   "metadata": {
    "collapsed": false
   },
   "outputs": [
    {
     "name": "stdout",
     "output_type": "stream",
     "text": [
      "34_RC-06-3-32_STX_AATGGC-TTGCACCC 34_RC-06-3-32_STX\n",
      "40_19_AATGGC-TCTACCGT 40_19\n",
      "12_RE-05-11-4_CU_AATGGC-CGCGTCTA 12_RE-05-11-4_CU\n",
      "37_RE-05-1-10_SXM_AATGGC-TACGTAAA 37_RE-05-1-10_SXM\n"
     ]
    }
   ],
   "source": [
    "oldnames = data1.samples.keys()\n",
    "\n",
    "for key in oldnames:\n",
    "    ## get sample with this name\n",
    "    sample = data1.samples.pop(key)\n",
    "    \n",
    "    ## get new name and barcode from oldname\n",
    "    newname = sample.name.rsplit(\"_\", 1)[0]\n",
    "    barcode = sample.name.rsplit('-')[1]\n",
    "    \n",
    "    ## save name and barcode to sample\n",
    "    sample.name = newname\n",
    "    sample.barcode = barcode\n",
    "    \n",
    "    ## save back to Assembly\n",
    "    data1.samples[sample.name] = sample\n",
    "    \n",
    "    ## check\n",
    "    print \"{}\\t{}\".format(sample.name, barcode)"
   ]
  },
  {
   "cell_type": "markdown",
   "metadata": {},
   "source": [
    "### Filter reads"
   ]
  },
  {
   "cell_type": "code",
   "execution_count": 15,
   "metadata": {
    "collapsed": false
   },
   "outputs": [
    {
     "name": "stderr",
     "output_type": "stream",
     "text": [
      "INFO:ipyrad.core.assembly:try 10: starting controller\n",
      "DEBUG:ipyrad.core.assembly:connected to 0 engines\n",
      "INFO:ipyrad.core.assembly:try 9: starting controller\n",
      "WARNING:ipyrad.core.assembly:OK! Connected to (4) engines\n",
      "INFO:ipyrad.assemble.rawedit:optim=250000\n",
      "WARNING:ipyrad.assemble.rawedit:\n",
      "    Running preview mode. Selecting subset (500000) reads for editing - [('/home/deren/Downloads/Ron/37_RE-05-1-10_SXM_AATGGC-TACGTAAA_R1_.fastq.gz', '/home/deren/Downloads/Ron/37_RE-05-1-10_SXM_AATGGC-TACGTAAA_R2_.fastq.gz')]\n",
      "\n",
      "DEBUG:ipyrad.assemble.util:zcat splittin' 37_RE-05-1-10_SXM_AATGGC-TACGTAAA_R1_.fastq.gz.preview_tmp_A8MnOc.fq\n",
      "INFO:ipyrad.assemble.util:zcat is using optim = 250000\n",
      "INFO:ipyrad.assemble.rawedit:Executing 1 file, in 8 chunks, across 4 cpus\n",
      "INFO:ipyrad.assemble.rawedit:optim=250000\n",
      "WARNING:ipyrad.assemble.rawedit:\n",
      "    Running preview mode. Selecting subset (500000) reads for editing - [('/home/deren/Downloads/Ron/12_RE-05-11-4_CU_AATGGC-CGCGTCTA_R1_.fastq.gz', '/home/deren/Downloads/Ron/12_RE-05-11-4_CU_AATGGC-CGCGTCTA_R2_.fastq.gz')]\n",
      "\n",
      "DEBUG:ipyrad.assemble.util:zcat splittin' 12_RE-05-11-4_CU_AATGGC-CGCGTCTA_R1_.fastq.gz.preview_tmp_bKv4cG.fq\n",
      "INFO:ipyrad.assemble.util:zcat is using optim = 250000\n",
      "INFO:ipyrad.assemble.rawedit:Executing 1 file, in 8 chunks, across 4 cpus\n",
      "INFO:ipyrad.assemble.rawedit:optim=250000\n",
      "WARNING:ipyrad.assemble.rawedit:\n",
      "    Running preview mode. Selecting subset (500000) reads for editing - [('/home/deren/Downloads/Ron/34_RC-06-3-32_STX_AATGGC-TTGCACCC_R1_.fastq.gz', '/home/deren/Downloads/Ron/34_RC-06-3-32_STX_AATGGC-TTGCACCC_R2_.fastq.gz')]\n",
      "\n",
      "DEBUG:ipyrad.assemble.util:zcat splittin' 34_RC-06-3-32_STX_AATGGC-TTGCACCC_R1_.fastq.gz.preview_tmp_UNmJ5T.fq\n",
      "INFO:ipyrad.assemble.util:zcat is using optim = 250000\n",
      "INFO:ipyrad.assemble.rawedit:Executing 1 file, in 8 chunks, across 4 cpus\n",
      "INFO:ipyrad.assemble.rawedit:optim=250000\n",
      "WARNING:ipyrad.assemble.rawedit:\n",
      "    Running preview mode. Selecting subset (500000) reads for editing - [('/home/deren/Downloads/Ron/40_19_AATGGC-TCTACCGT_R1_.fastq.gz', '/home/deren/Downloads/Ron/40_19_AATGGC-TCTACCGT_R2_.fastq.gz')]\n",
      "\n",
      "DEBUG:ipyrad.assemble.util:zcat splittin' 40_19_AATGGC-TCTACCGT_R1_.fastq.gz.preview_tmp_dDA_TN.fq\n",
      "INFO:ipyrad.assemble.util:zcat is using optim = 250000\n",
      "INFO:ipyrad.assemble.rawedit:Executing 1 file, in 8 chunks, across 4 cpus\n"
     ]
    },
    {
     "name": "stdout",
     "output_type": "stream",
     "text": [
      "                   state  reads_raw  reads_filtered\n",
      "12_RE-05-11-4_CU       2    3981908          299218\n",
      "34_RC-06-3-32_STX      2    4942688          311653\n",
      "37_RE-05-1-10_SXM      2    3730551          305939\n",
      "40_19                  2    5218462          315034\n"
     ]
    }
   ],
   "source": [
    "data1.step2(preview=True)\n",
    "print data1.stats"
   ]
  },
  {
   "cell_type": "code",
   "execution_count": 16,
   "metadata": {
    "collapsed": false,
    "scrolled": true
   },
   "outputs": [
    {
     "name": "stderr",
     "output_type": "stream",
     "text": [
      "INFO:ipyrad.core.assembly:try 10: starting controller\n",
      "DEBUG:ipyrad.core.assembly:OK! Connected to (4) engines\n",
      "INFO:ipyrad.assemble.cluster_within:muscle aligning\n",
      "ERROR:root:assembly interrupted by user.\n"
     ]
    },
    {
     "ename": "IPyradError",
     "evalue": "Keyboard Interrupt",
     "output_type": "error",
     "traceback": [
      "\u001b[1;31m---------------------------------------------------------------------------\u001b[0m",
      "\u001b[1;31mIPyradError\u001b[0m                               Traceback (most recent call last)",
      "\u001b[1;32m<ipython-input-16-ab8c4886a62a>\u001b[0m in \u001b[0;36m<module>\u001b[1;34m()\u001b[0m\n\u001b[1;32m----> 1\u001b[1;33m \u001b[0mdata1\u001b[0m\u001b[1;33m.\u001b[0m\u001b[0mstep3\u001b[0m\u001b[1;33m(\u001b[0m\u001b[1;33m)\u001b[0m\u001b[1;33m\u001b[0m\u001b[0m\n\u001b[0m",
      "\u001b[1;32m/home/deren/Documents/ipyrad/ipyrad/core/assembly.pyc\u001b[0m in \u001b[0;36mstep3\u001b[1;34m(self, samples, noreverse, force, preview)\u001b[0m\n\u001b[0;32m   1114\u001b[0m         \u001b[0mpreview\u001b[0m \u001b[1;33m:\u001b[0m \u001b[0mbool\u001b[0m\u001b[1;33m\u001b[0m\u001b[0m\n\u001b[0;32m   1115\u001b[0m             \u001b[1;33m.\u001b[0m\u001b[1;33m.\u001b[0m\u001b[1;33m.\u001b[0m\u001b[1;33m\u001b[0m\u001b[0m\n\u001b[1;32m-> 1116\u001b[1;33m         \"\"\"\n\u001b[0m\u001b[0;32m   1117\u001b[0m         self._clientwrapper(self._step3func, \n\u001b[0;32m   1118\u001b[0m                            [samples, noreverse, force, preview], 10)\n",
      "\u001b[1;32m/home/deren/Documents/ipyrad/ipyrad/core/assembly.pyc\u001b[0m in \u001b[0;36m_clientwrapper\u001b[1;34m(self, stepfunc, args, nwait)\u001b[0m\n\u001b[0;32m    770\u001b[0m             \u001b[1;31m## it already stopped the Engine jobs,\u001b[0m\u001b[1;33m\u001b[0m\u001b[1;33m\u001b[0m\u001b[0m\n\u001b[0;32m    771\u001b[0m             \u001b[1;31m#print(\"Keyboard Interrupt\\n\")\u001b[0m\u001b[1;33m\u001b[0m\u001b[1;33m\u001b[0m\u001b[0m\n\u001b[1;32m--> 772\u001b[1;33m             \u001b[1;32mraise\u001b[0m \u001b[0mIPyradError\u001b[0m\u001b[1;33m(\u001b[0m\u001b[1;34m\"Keyboard Interrupt\"\u001b[0m\u001b[1;33m)\u001b[0m\u001b[1;33m\u001b[0m\u001b[0m\n\u001b[0m\u001b[0;32m    773\u001b[0m \u001b[1;33m\u001b[0m\u001b[0m\n\u001b[0;32m    774\u001b[0m         \u001b[1;32mexcept\u001b[0m \u001b[0mSystemExit\u001b[0m \u001b[1;32mas\u001b[0m \u001b[0minst\u001b[0m\u001b[1;33m:\u001b[0m\u001b[1;33m\u001b[0m\u001b[0m\n",
      "\u001b[1;31mIPyradError\u001b[0m: Keyboard Interrupt"
     ]
    }
   ],
   "source": [
    "data1.step3()"
   ]
  },
  {
   "cell_type": "code",
   "execution_count": 8,
   "metadata": {
    "collapsed": false
   },
   "outputs": [
    {
     "name": "stdout",
     "output_type": "stream",
     "text": [
      "                                   state  reads_raw  reads_filtered  \\\n",
      "12_RE-05-11-4_CU_AATGGC-CGCGTCTA       3    3981908           40148   \n",
      "34_RC-06-3-32_STX_AATGGC-TTGCACCC      3    4942688           41031   \n",
      "37_RE-05-1-10_SXM_AATGGC-TACGTAAA      3    3730551           41743   \n",
      "40_19_AATGGC-TCTACCGT                  3    5218462           40994   \n",
      "\n",
      "                                   reads_merged  clusters_total  \\\n",
      "12_RE-05-11-4_CU_AATGGC-CGCGTCTA          40148           23280   \n",
      "34_RC-06-3-32_STX_AATGGC-TTGCACCC         41031           22214   \n",
      "37_RE-05-1-10_SXM_AATGGC-TACGTAAA         41743           22829   \n",
      "40_19_AATGGC-TCTACCGT                     40994           21656   \n",
      "\n",
      "                                   clusters_hidepth  \n",
      "12_RE-05-11-4_CU_AATGGC-CGCGTCTA                445  \n",
      "34_RC-06-3-32_STX_AATGGC-TTGCACCC               692  \n",
      "37_RE-05-1-10_SXM_AATGGC-TACGTAAA               603  \n",
      "40_19_AATGGC-TCTACCGT                           741  \n"
     ]
    }
   ],
   "source": [
    "print data1.stats"
   ]
  },
  {
   "cell_type": "code",
   "execution_count": 15,
   "metadata": {
    "collapsed": false
   },
   "outputs": [
    {
     "name": "stdout",
     "output_type": "stream",
     "text": [
      "                                   state  reads_raw  reads_filtered  \\\n",
      "12_RE-05-11-4_CU_AATGGC-CGCGTCTA       4    3981908           40148   \n",
      "34_RC-06-3-32_STX_AATGGC-TTGCACCC      4    4942688           41031   \n",
      "37_RE-05-1-10_SXM_AATGGC-TACGTAAA      4    3730551           41743   \n",
      "40_19_AATGGC-TCTACCGT                  4    5218462           40994   \n",
      "\n",
      "                                   reads_merged  clusters_total  \\\n",
      "12_RE-05-11-4_CU_AATGGC-CGCGTCTA          40148           23280   \n",
      "34_RC-06-3-32_STX_AATGGC-TTGCACCC         41031           22214   \n",
      "37_RE-05-1-10_SXM_AATGGC-TACGTAAA         41743           22829   \n",
      "40_19_AATGGC-TCTACCGT                     40994           21656   \n",
      "\n",
      "                                   clusters_hidepth  hetero_est  error_est  \n",
      "12_RE-05-11-4_CU_AATGGC-CGCGTCTA                445    0.009667   0.003434  \n",
      "34_RC-06-3-32_STX_AATGGC-TTGCACCC               692    0.008303   0.003034  \n",
      "37_RE-05-1-10_SXM_AATGGC-TACGTAAA               603    0.008858   0.002811  \n",
      "40_19_AATGGC-TCTACCGT                           741    0.007413   0.002001  \n"
     ]
    }
   ],
   "source": [
    "data1.step4()\n",
    "print data1.stats"
   ]
  },
  {
   "cell_type": "code",
   "execution_count": 1,
   "metadata": {
    "collapsed": false
   },
   "outputs": [
    {
     "name": "stderr",
     "output_type": "stream",
     "text": [
      "DEBUG:ipyrad:H4CKERZ-mode: __loglevel__ = DEBUG\n"
     ]
    },
    {
     "name": "stdout",
     "output_type": "stream",
     "text": [
      "  loading Assembly: Ron [Ron/Ron.assembly]\n",
      "  New Assembly: Ron\n"
     ]
    }
   ],
   "source": [
    "import ipyrad as ip\n",
    "data1 = ip.load.load_assembly(\"Ron/Ron.assembly\")"
   ]
  },
  {
   "cell_type": "code",
   "execution_count": 2,
   "metadata": {
    "collapsed": false,
    "scrolled": true
   },
   "outputs": [
    {
     "name": "stderr",
     "output_type": "stream",
     "text": [
      "INFO:ipyrad.core.assembly:try 2: starting controller\n",
      "DEBUG:ipyrad.core.assembly:OK! Connected to (1) engines\n"
     ]
    },
    {
     "ename": "CompositeError",
     "evalue": "one or more exceptions from call to method: consensus\n[0:apply]: IndexError: list index out of range\n[0:apply]: KeyError: 'G'\n[0:apply]: IndexError: index 236 is out of bounds for axis 1 with size 204",
     "output_type": "error",
     "traceback": [
      "[0:apply]: ",
      "\u001b[1;31m---------------------------------------------------------------------------\u001b[0m\u001b[1;31mIndexError\u001b[0m                                Traceback (most recent call last)\u001b[1;32m<string>\u001b[0m in \u001b[0;36m<module>\u001b[1;34m()\u001b[0m",
      "\u001b[1;32m/home/deren/Documents/ipyrad/ipyrad/assemble/consens_se.pyc\u001b[0m in \u001b[0;36mconsensus\u001b[1;34m(args)\u001b[0m",
      "\u001b[0;32m    241\u001b[0m \u001b[1;33m\u001b[0m\u001b[0m",
      "\u001b[0;32m    242\u001b[0m                         \u001b[1;31m## filter for max alleles and get lower case in consens\u001b[0m\u001b[1;33m\u001b[0m\u001b[1;33m\u001b[0m\u001b[0m",
      "\u001b[1;32m--> 243\u001b[1;33m                         \u001b[0mres\u001b[0m \u001b[1;33m=\u001b[0m \u001b[0mnfilter4\u001b[0m\u001b[1;33m(\u001b[0m\u001b[0mdata\u001b[0m\u001b[1;33m,\u001b[0m \u001b[0mconsens\u001b[0m\u001b[1;33m,\u001b[0m \u001b[0mhidx\u001b[0m\u001b[1;33m,\u001b[0m \u001b[0marrayed\u001b[0m\u001b[1;33m)\u001b[0m\u001b[1;33m\u001b[0m\u001b[0m",
      "\u001b[0m\u001b[0;32m    244\u001b[0m                         \u001b[0mconsens\u001b[0m\u001b[1;33m,\u001b[0m \u001b[0mpassed\u001b[0m \u001b[1;33m=\u001b[0m \u001b[0mres\u001b[0m\u001b[1;33m\u001b[0m\u001b[0m",
      "\u001b[0;32m    245\u001b[0m \u001b[1;33m\u001b[0m\u001b[0m",
      "\u001b[1;32m/home/deren/Documents/ipyrad/ipyrad/assemble/consens_se.pyc\u001b[0m in \u001b[0;36mnfilter4\u001b[1;34m(data, consens, hidx, arrayed)\u001b[0m",
      "\u001b[0;32m    354\u001b[0m     \u001b[1;32melse\u001b[0m\u001b[1;33m:\u001b[0m\u001b[1;33m\u001b[0m\u001b[0m",
      "\u001b[0;32m    355\u001b[0m         \u001b[1;31m## store order of alleles with lower case lettering in consens\u001b[0m\u001b[1;33m\u001b[0m\u001b[1;33m\u001b[0m\u001b[0m",
      "\u001b[1;32m--> 356\u001b[1;33m         \u001b[0mconsens\u001b[0m \u001b[1;33m=\u001b[0m \u001b[0mstorealleles\u001b[0m\u001b[1;33m(\u001b[0m\u001b[0mconsens\u001b[0m\u001b[1;33m,\u001b[0m \u001b[0mhidx\u001b[0m\u001b[1;33m,\u001b[0m \u001b[0malleles\u001b[0m\u001b[1;33m)\u001b[0m\u001b[1;33m\u001b[0m\u001b[0m",
      "\u001b[0m\u001b[0;32m    357\u001b[0m         \u001b[1;32mreturn\u001b[0m \u001b[0mconsens\u001b[0m\u001b[1;33m,\u001b[0m \u001b[1;36m1\u001b[0m\u001b[1;33m\u001b[0m\u001b[0m",
      "\u001b[0;32m    358\u001b[0m \u001b[1;33m\u001b[0m\u001b[0m",
      "\u001b[1;32m/home/deren/Documents/ipyrad/ipyrad/assemble/consens_se.pyc\u001b[0m in \u001b[0;36mstorealleles\u001b[1;34m(consens, hidx, alleles)\u001b[0m",
      "\u001b[0;32m    368\u001b[0m \u001b[1;33m\u001b[0m\u001b[0m",
      "\u001b[0;32m    369\u001b[0m     \u001b[1;31m## find which allele has priority based on bigbase\u001b[0m\u001b[1;33m\u001b[0m\u001b[1;33m\u001b[0m\u001b[0m",
      "\u001b[1;32m--> 370\u001b[1;33m     \u001b[0mbigallele\u001b[0m \u001b[1;33m=\u001b[0m \u001b[1;33m[\u001b[0m\u001b[0mi\u001b[0m \u001b[1;32mfor\u001b[0m \u001b[0mi\u001b[0m \u001b[1;32min\u001b[0m \u001b[0malleles\u001b[0m \u001b[1;32mif\u001b[0m \u001b[0mi\u001b[0m\u001b[1;33m[\u001b[0m\u001b[1;36m0\u001b[0m\u001b[1;33m]\u001b[0m \u001b[1;33m==\u001b[0m \u001b[0mbigbase\u001b[0m\u001b[1;33m]\u001b[0m\u001b[1;33m[\u001b[0m\u001b[1;36m0\u001b[0m\u001b[1;33m]\u001b[0m\u001b[1;33m\u001b[0m\u001b[0m",
      "\u001b[0m\u001b[0;32m    371\u001b[0m \u001b[1;33m\u001b[0m\u001b[0m",
      "\u001b[0;32m    372\u001b[0m     \u001b[1;31m## uplow other bases relative to this one and the priority list\u001b[0m\u001b[1;33m\u001b[0m\u001b[1;33m\u001b[0m\u001b[0m",
      "\u001b[1;31mIndexError\u001b[0m: list index out of range",
      "",
      "[0:apply]: ",
      "\u001b[1;31m---------------------------------------------------------------------------\u001b[0m\u001b[1;31mKeyError\u001b[0m                                  Traceback (most recent call last)\u001b[1;32m<string>\u001b[0m in \u001b[0;36m<module>\u001b[1;34m()\u001b[0m",
      "\u001b[1;32m/home/deren/Documents/ipyrad/ipyrad/assemble/consens_se.pyc\u001b[0m in \u001b[0;36mconsensus\u001b[1;34m(args)\u001b[0m",
      "\u001b[0;32m    241\u001b[0m \u001b[1;33m\u001b[0m\u001b[0m",
      "\u001b[0;32m    242\u001b[0m                         \u001b[1;31m## filter for max alleles and get lower case in consens\u001b[0m\u001b[1;33m\u001b[0m\u001b[1;33m\u001b[0m\u001b[0m",
      "\u001b[1;32m--> 243\u001b[1;33m                         \u001b[0mres\u001b[0m \u001b[1;33m=\u001b[0m \u001b[0mnfilter4\u001b[0m\u001b[1;33m(\u001b[0m\u001b[0mdata\u001b[0m\u001b[1;33m,\u001b[0m \u001b[0mconsens\u001b[0m\u001b[1;33m,\u001b[0m \u001b[0mhidx\u001b[0m\u001b[1;33m,\u001b[0m \u001b[0marrayed\u001b[0m\u001b[1;33m)\u001b[0m\u001b[1;33m\u001b[0m\u001b[0m",
      "\u001b[0m\u001b[0;32m    244\u001b[0m                         \u001b[0mconsens\u001b[0m\u001b[1;33m,\u001b[0m \u001b[0mpassed\u001b[0m \u001b[1;33m=\u001b[0m \u001b[0mres\u001b[0m\u001b[1;33m\u001b[0m\u001b[0m",
      "\u001b[0;32m    245\u001b[0m \u001b[1;33m\u001b[0m\u001b[0m",
      "\u001b[1;32m/home/deren/Documents/ipyrad/ipyrad/assemble/consens_se.pyc\u001b[0m in \u001b[0;36mnfilter4\u001b[1;34m(data, consens, hidx, arrayed)\u001b[0m",
      "\u001b[0;32m    354\u001b[0m     \u001b[1;32melse\u001b[0m\u001b[1;33m:\u001b[0m\u001b[1;33m\u001b[0m\u001b[0m",
      "\u001b[0;32m    355\u001b[0m         \u001b[1;31m## store order of alleles with lower case lettering in consens\u001b[0m\u001b[1;33m\u001b[0m\u001b[1;33m\u001b[0m\u001b[0m",
      "\u001b[1;32m--> 356\u001b[1;33m         \u001b[0mconsens\u001b[0m \u001b[1;33m=\u001b[0m \u001b[0mstorealleles\u001b[0m\u001b[1;33m(\u001b[0m\u001b[0mconsens\u001b[0m\u001b[1;33m,\u001b[0m \u001b[0mhidx\u001b[0m\u001b[1;33m,\u001b[0m \u001b[0malleles\u001b[0m\u001b[1;33m)\u001b[0m\u001b[1;33m\u001b[0m\u001b[0m",
      "\u001b[0m\u001b[0;32m    357\u001b[0m         \u001b[1;32mreturn\u001b[0m \u001b[0mconsens\u001b[0m\u001b[1;33m,\u001b[0m \u001b[1;36m1\u001b[0m\u001b[1;33m\u001b[0m\u001b[0m",
      "\u001b[0;32m    358\u001b[0m \u001b[1;33m\u001b[0m\u001b[0m",
      "\u001b[1;32m/home/deren/Documents/ipyrad/ipyrad/assemble/consens_se.pyc\u001b[0m in \u001b[0;36mstorealleles\u001b[1;34m(consens, hidx, alleles)\u001b[0m",
      "\u001b[0;32m    378\u001b[0m \u001b[1;33m\u001b[0m\u001b[0m",
      "\u001b[0;32m    379\u001b[0m     \u001b[1;32mfor\u001b[0m \u001b[0mhsite\u001b[0m\u001b[1;33m,\u001b[0m \u001b[0mpbase\u001b[0m \u001b[1;32min\u001b[0m \u001b[0mzip\u001b[0m\u001b[1;33m(\u001b[0m\u001b[0mhidx\u001b[0m\u001b[1;33m[\u001b[0m\u001b[1;36m1\u001b[0m\u001b[1;33m:\u001b[0m\u001b[1;33m]\u001b[0m\u001b[1;33m,\u001b[0m \u001b[0mbigallele\u001b[0m\u001b[1;33m[\u001b[0m\u001b[1;36m1\u001b[0m\u001b[1;33m:\u001b[0m\u001b[1;33m]\u001b[0m\u001b[1;33m)\u001b[0m\u001b[1;33m:\u001b[0m\u001b[1;33m\u001b[0m\u001b[0m",
      "\u001b[1;32m--> 380\u001b[1;33m         \u001b[1;32mif\u001b[0m \u001b[0mPRIORITY\u001b[0m\u001b[1;33m[\u001b[0m\u001b[0mconsens\u001b[0m\u001b[1;33m[\u001b[0m\u001b[0mhsite\u001b[0m\u001b[1;33m]\u001b[0m\u001b[1;33m]\u001b[0m \u001b[1;33m!=\u001b[0m \u001b[0mpbase\u001b[0m\u001b[1;33m:\u001b[0m\u001b[1;33m\u001b[0m\u001b[0m",
      "\u001b[0m\u001b[0;32m    381\u001b[0m             \u001b[0mconsens\u001b[0m\u001b[1;33m[\u001b[0m\u001b[0mhsite\u001b[0m\u001b[1;33m]\u001b[0m \u001b[1;33m=\u001b[0m \u001b[0mconsens\u001b[0m\u001b[1;33m[\u001b[0m\u001b[0mhsite\u001b[0m\u001b[1;33m]\u001b[0m\u001b[1;33m.\u001b[0m\u001b[0mlower\u001b[0m\u001b[1;33m(\u001b[0m\u001b[1;33m)\u001b[0m\u001b[1;33m\u001b[0m\u001b[0m",
      "\u001b[0;32m    382\u001b[0m \u001b[1;33m\u001b[0m\u001b[0m",
      "\u001b[1;31mKeyError\u001b[0m: 'G'",
      "",
      "[0:apply]: ",
      "\u001b[1;31m---------------------------------------------------------------------------\u001b[0m\u001b[1;31mIndexError\u001b[0m                                Traceback (most recent call last)\u001b[1;32m<string>\u001b[0m in \u001b[0;36m<module>\u001b[1;34m()\u001b[0m",
      "\u001b[1;32m/home/deren/Documents/ipyrad/ipyrad/assemble/consens_se.pyc\u001b[0m in \u001b[0;36mconsensus\u001b[1;34m(args)\u001b[0m",
      "\u001b[0;32m    241\u001b[0m \u001b[1;33m\u001b[0m\u001b[0m",
      "\u001b[0;32m    242\u001b[0m                         \u001b[1;31m## filter for max alleles and get lower case in consens\u001b[0m\u001b[1;33m\u001b[0m\u001b[1;33m\u001b[0m\u001b[0m",
      "\u001b[1;32m--> 243\u001b[1;33m                         \u001b[0mres\u001b[0m \u001b[1;33m=\u001b[0m \u001b[0mnfilter4\u001b[0m\u001b[1;33m(\u001b[0m\u001b[0mdata\u001b[0m\u001b[1;33m,\u001b[0m \u001b[0mconsens\u001b[0m\u001b[1;33m,\u001b[0m \u001b[0mhidx\u001b[0m\u001b[1;33m,\u001b[0m \u001b[0marrayed\u001b[0m\u001b[1;33m)\u001b[0m\u001b[1;33m\u001b[0m\u001b[0m",
      "\u001b[0m\u001b[0;32m    244\u001b[0m                         \u001b[0mconsens\u001b[0m\u001b[1;33m,\u001b[0m \u001b[0mpassed\u001b[0m \u001b[1;33m=\u001b[0m \u001b[0mres\u001b[0m\u001b[1;33m\u001b[0m\u001b[0m",
      "\u001b[0;32m    245\u001b[0m \u001b[1;33m\u001b[0m\u001b[0m",
      "\u001b[1;32m/home/deren/Documents/ipyrad/ipyrad/assemble/consens_se.pyc\u001b[0m in \u001b[0;36mnfilter4\u001b[1;34m(data, consens, hidx, arrayed)\u001b[0m",
      "\u001b[0;32m    332\u001b[0m \u001b[1;33m\u001b[0m\u001b[0m",
      "\u001b[0;32m    333\u001b[0m     \u001b[1;31m## store base calls for hetero sites\u001b[0m\u001b[1;33m\u001b[0m\u001b[1;33m\u001b[0m\u001b[0m",
      "\u001b[1;32m--> 334\u001b[1;33m     \u001b[0mharray\u001b[0m \u001b[1;33m=\u001b[0m \u001b[0marrayed\u001b[0m\u001b[1;33m[\u001b[0m\u001b[1;33m:\u001b[0m\u001b[1;33m,\u001b[0m \u001b[0mhidx\u001b[0m\u001b[1;33m]\u001b[0m\u001b[1;33m\u001b[0m\u001b[0m",
      "\u001b[0m\u001b[0;32m    335\u001b[0m     \u001b[0mLOGGER\u001b[0m\u001b[1;33m.\u001b[0m\u001b[0mdebug\u001b[0m\u001b[1;33m(\u001b[0m\u001b[1;34m\"harray1 %s\"\u001b[0m\u001b[1;33m,\u001b[0m \u001b[0mharray\u001b[0m\u001b[1;33m)\u001b[0m\u001b[1;33m\u001b[0m\u001b[0m",
      "\u001b[0;32m    336\u001b[0m \u001b[1;33m\u001b[0m\u001b[0m",
      "\u001b[1;31mIndexError\u001b[0m: index 236 is out of bounds for axis 1 with size 204",
      ""
     ]
    }
   ],
   "source": [
    "data1.step5()"
   ]
  },
  {
   "cell_type": "code",
   "execution_count": null,
   "metadata": {
    "collapsed": true
   },
   "outputs": [],
   "source": [
    "data1.step6()"
   ]
  },
  {
   "cell_type": "code",
   "execution_count": null,
   "metadata": {
    "collapsed": true
   },
   "outputs": [],
   "source": []
  }
 ],
 "metadata": {
  "kernelspec": {
   "display_name": "Python 2",
   "language": "python",
   "name": "python2"
  },
  "language_info": {
   "codemirror_mode": {
    "name": "ipython",
    "version": 2
   },
   "file_extension": ".py",
   "mimetype": "text/x-python",
   "name": "python",
   "nbconvert_exporter": "python",
   "pygments_lexer": "ipython2",
   "version": "2.7.11"
  }
 },
 "nbformat": 4,
 "nbformat_minor": 0
}
