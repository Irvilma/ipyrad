{
 "cells": [
  {
   "cell_type": "code",
   "execution_count": 23,
   "metadata": {
    "collapsed": false
   },
   "outputs": [],
   "source": [
    "import ipyparallel as ipp\n",
    "c = ipp.Client()\n",
    "lbview1 = c.load_balanced_view()\n",
    "lbview2 = c.load_balanced_view()"
   ]
  },
  {
   "cell_type": "code",
   "execution_count": 24,
   "metadata": {
    "collapsed": true
   },
   "outputs": [],
   "source": [
    "def returnsleep(x):\n",
    "    import time\n",
    "    time.sleep(x)\n",
    "    return \"that felt good\""
   ]
  },
  {
   "cell_type": "code",
   "execution_count": 28,
   "metadata": {
    "collapsed": false
   },
   "outputs": [
    {
     "name": "stdout",
     "output_type": "stream",
     "text": [
      "['a237079b-0737-477d-9a82-c84a66e827b6', '3a2663a0-defd-4dbc-a0ae-8fcfddc6b04e', '098eeee7-e64c-4efe-bcc2-beffefde3a3e', '9e3cad74-4756-4bc5-8da6-2b13598f64f9']\n"
     ]
    }
   ],
   "source": [
    "import time\n",
    "import itertools\n",
    "\n",
    "job1 = {}\n",
    "for i in range(4):\n",
    "    job1[i] = lbview1.apply(time.sleep, 2)\n",
    "\n",
    "job2 = {}\n",
    "for i in range(4):\n",
    "    with lbview1.temp_flags(after=job1[i]):\n",
    "        job2[i] = lbview1.apply(time.sleep, 2)\n",
    "\n",
    "job3 = {}\n",
    "for i in range(4):\n",
    "    with lbview1.temp_flags(after=job2[i]):\n",
    "        job3[i] = lbview1.apply(time.sleep, 2)\n",
    "\n",
    "job4 = {}\n",
    "for i in range(4):\n",
    "    with lbview1.temp_flags(after=job3[i]):\n",
    "        job4[i] = lbview1.apply(returnsleep, 2)\n",
    "\n",
    "        \n",
    "waitfor = list(itertools.chain(*[i.msg_ids for i in job4.values()]))\n",
    "print waitfor\n",
    "\n",
    "with lbview1.temp_flags(after=waitfor):\n",
    "    res = lbview1.apply(time.sleep, 2)"
   ]
  },
  {
   "cell_type": "code",
   "execution_count": 29,
   "metadata": {
    "collapsed": false
   },
   "outputs": [
    {
     "name": "stdout",
     "output_type": "stream",
     "text": [
      "0\n",
      "0\n",
      "0\n",
      "0\n",
      "0\n",
      "0\n",
      "0\n",
      "0\n",
      "0\n",
      "0\n",
      "0\n",
      "0\n",
      "0\n",
      "0\n",
      "4\n",
      "0\n",
      "4\n",
      "0\n",
      "4\n",
      "0\n",
      "4\n",
      "0\n",
      "4\n",
      "4\n",
      "4\n",
      "4\n"
     ]
    }
   ],
   "source": [
    "while 1:\n",
    "    if not res.ready():\n",
    "        print sum([job2[i].ready() for i in job2])\n",
    "        print sum([job4[i].ready() for i in job4])\n",
    "        time.sleep(1)\n",
    "    else:\n",
    "        break"
   ]
  },
  {
   "cell_type": "markdown",
   "metadata": {},
   "source": [
    "### Running sequential jobs w/ dependencies"
   ]
  },
  {
   "cell_type": "code",
   "execution_count": 14,
   "metadata": {
    "collapsed": false
   },
   "outputs": [
    {
     "name": "stdout",
     "output_type": "stream",
     "text": [
      "  17/17 tasks finished after   10 s\n",
      "done\n"
     ]
    }
   ],
   "source": [
    "c.wait_interactive()\n",
    "c."
   ]
  },
  {
   "cell_type": "markdown",
   "metadata": {},
   "source": [
    "### Retrieving returned results"
   ]
  },
  {
   "cell_type": "code",
   "execution_count": 28,
   "metadata": {
    "collapsed": false
   },
   "outputs": [
    {
     "name": "stdout",
     "output_type": "stream",
     "text": [
      "that felt good\n",
      "True\n"
     ]
    }
   ],
   "source": [
    "res = job4[0]\n",
    "print res.result()\n",
    "print res.successful()"
   ]
  },
  {
   "cell_type": "markdown",
   "metadata": {},
   "source": [
    "### Retrieving returned results AND raise error if failed"
   ]
  },
  {
   "cell_type": "code",
   "execution_count": 33,
   "metadata": {
    "collapsed": false
   },
   "outputs": [
    {
     "name": "stdout",
     "output_type": "stream",
     "text": [
      "hi [#####] time\n",
      "hi [#####] time\n",
      "hi [#####] time\n",
      "hi [#####] time\n",
      "hi [#####] time\n",
      "hi [#####] time\n",
      "hi [#####] time\n",
      "hi [#####] time\n",
      "hi [#####] time\n",
      "hi [#####] time\n",
      "hi [#####] time\n",
      "hi [#####] time\n",
      "hi [#####] time\n",
      "hi [#####] time\n",
      "hi [#####] time\n",
      "hi [#####] time\n",
      "hi [#####] time\n",
      "hi [#####] time\n",
      "hi [#####] time\n"
     ]
    }
   ],
   "source": [
    "while 1:\n",
    "    try:\n",
    "        if all([job4[i].successful() for i in job4]):\n",
    "            break\n",
    "    except AssertionError:\n",
    "        pass\n",
    "    print 'hi', '[#####]', \"time\"\n",
    "    time.sleep(1)"
   ]
  },
  {
   "cell_type": "markdown",
   "metadata": {},
   "source": [
    "### Running a non-blocking wait call"
   ]
  },
  {
   "cell_type": "code",
   "execution_count": 22,
   "metadata": {
    "collapsed": false
   },
   "outputs": [
    {
     "name": "stdout",
     "output_type": "stream",
     "text": [
      "hi [#####] time\n",
      "hi [#####] time\n",
      "hi [#####] time\n",
      "hi [#####] time\n",
      "hi [#####] time\n",
      "hi [#####] time\n",
      "hi [#####] time\n",
      "hi [#####] time\n",
      "hi [#####] time\n",
      "hi [#####] time\n",
      "hi [#####] time\n",
      "hi [#####] time\n",
      "hi [#####] time\n",
      "hi [#####] time\n",
      "hi [#####] time\n",
      "hi [#####] time\n",
      "hi [#####] time\n",
      "hi [#####] time\n",
      "hi [#####] time\n"
     ]
    }
   ],
   "source": [
    "while not all([job4[i].ready() for i in job4]):\n",
    "    print 'hi', '[#####]', \"time\"\n",
    "    time.sleep(1)"
   ]
  },
  {
   "cell_type": "code",
   "execution_count": 36,
   "metadata": {
    "collapsed": false
   },
   "outputs": [
    {
     "data": {
      "text/plain": [
       "20.041482"
      ]
     },
     "execution_count": 36,
     "metadata": {},
     "output_type": "execute_result"
    }
   ],
   "source": [
    "res.elapsed"
   ]
  },
  {
   "cell_type": "code",
   "execution_count": 34,
   "metadata": {
    "collapsed": false
   },
   "outputs": [
    {
     "data": {
      "text/plain": [
       "{0: 1, 1: 1, 2: 1, 3: 3, 4: 1, 5: 1}"
      ]
     },
     "execution_count": 34,
     "metadata": {},
     "output_type": "execute_result"
    }
   ],
   "source": [
    "import numpy as np\n",
    "from collections import Counter\n",
    "\n",
    "a = np.array([0, 1, 2, 5, 3, 3, 3, 4])\n",
    "dict(Counter(a))"
   ]
  },
  {
   "cell_type": "code",
   "execution_count": 38,
   "metadata": {
    "collapsed": false
   },
   "outputs": [
    {
     "data": {
      "text/plain": [
       "[0, 1, 2]"
      ]
     },
     "execution_count": 38,
     "metadata": {},
     "output_type": "execute_result"
    }
   ],
   "source": [
    "a\n",
    "b = [0, 1, 2]\n",
    "\n",
    "[i for i in a if i in b]"
   ]
  },
  {
   "cell_type": "code",
   "execution_count": null,
   "metadata": {
    "collapsed": true
   },
   "outputs": [],
   "source": [
    "### profiling\n",
    "python -m cProfile -s cumulative ../ipyrad/assemble/cluster_within.py\n"
   ]
  }
 ],
 "metadata": {
  "kernelspec": {
   "display_name": "Python 2",
   "language": "python",
   "name": "python2"
  },
  "language_info": {
   "codemirror_mode": {
    "name": "ipython",
    "version": 2
   },
   "file_extension": ".py",
   "mimetype": "text/x-python",
   "name": "python",
   "nbconvert_exporter": "python",
   "pygments_lexer": "ipython2",
   "version": "2.7.11"
  }
 },
 "nbformat": 4,
 "nbformat_minor": 0
}
