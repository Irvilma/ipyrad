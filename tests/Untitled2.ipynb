{
 "cells": [
  {
   "cell_type": "markdown",
   "metadata": {},
   "source": [
    "## catg testing"
   ]
  },
  {
   "cell_type": "code",
   "execution_count": 23,
   "metadata": {
    "collapsed": true
   },
   "outputs": [],
   "source": [
    "import ipyrad as ip\n",
    "import ipyparallel\n",
    "import subprocess\n",
    "import os"
   ]
  },
  {
   "cell_type": "code",
   "execution_count": 24,
   "metadata": {
    "collapsed": false
   },
   "outputs": [
    {
     "name": "stdout",
     "output_type": "stream",
     "text": [
      "  loading Assembly: cyatho-min8\n",
      "  from saved path: ~/Downloads/pedicularis/cyatho-min8.json\n"
     ]
    }
   ],
   "source": [
    "## load in a data set that is big, i.e., it has a large \n",
    "## {projdir}/{ccnsensdir}/{name}_cathaps.tmp and thus will take a long\n",
    "## time to cluster, so it prints a progress bar slowly over time\n",
    "\n",
    "data = ip.load_json(\"/home/deren/Downloads/pedicularis/cyatho-min8.json\")"
   ]
  },
  {
   "cell_type": "code",
   "execution_count": 25,
   "metadata": {
    "collapsed": true
   },
   "outputs": [],
   "source": [
    "def cluster(data):\n",
    "    \"\"\" returns a cmd list \"\"\"\n",
    "    \n",
    "-\n",
    "\n",
    "    #proc = subprocess.Popen(cmd, stderr=subprocess.STDOUT, stdout=subprocess.PIPE)\n",
    "    #proc.wait()"
   ]
  },
  {
   "cell_type": "code",
   "execution_count": 26,
   "metadata": {
    "collapsed": false
   },
   "outputs": [],
   "source": [
    "## store the command list\n",
    "cmd = cluster(data)"
   ]
  },
  {
   "cell_type": "markdown",
   "metadata": {},
   "source": [
    "### Now run it\n",
    "Our goal is to run it in a way that we can read the output to stderr \n",
    "that is in the form of (Clustering XX%) and parse it so that we can \n",
    "create a progress bar similar to the other steps. "
   ]
  },
  {
   "cell_type": "markdown",
   "metadata": {},
   "source": [
    "#### Attempt 1:\n",
    "use files like in: http://stackoverflow.com/questions/18421757/live-output-from-subprocess-command"
   ]
  },
  {
   "cell_type": "code",
   "execution_count": 18,
   "metadata": {
    "collapsed": false
   },
   "outputs": [
    {
     "ename": "KeyboardInterrupt",
     "evalue": "",
     "output_type": "error",
     "traceback": [
      "\u001b[1;31m---------------------------------------------------------------------------\u001b[0m",
      "\u001b[1;31mKeyboardInterrupt\u001b[0m                         Traceback (most recent call last)",
      "\u001b[1;32m<ipython-input-18-7c3415b0ef27>\u001b[0m in \u001b[0;36m<module>\u001b[1;34m()\u001b[0m\n\u001b[0;32m      5\u001b[0m \u001b[1;32mwith\u001b[0m \u001b[0mopen\u001b[0m\u001b[1;33m(\u001b[0m\u001b[1;34m'test.log'\u001b[0m\u001b[1;33m,\u001b[0m \u001b[1;34m'w'\u001b[0m\u001b[1;33m)\u001b[0m \u001b[1;32mas\u001b[0m \u001b[0mf\u001b[0m\u001b[1;33m:\u001b[0m\u001b[1;33m\u001b[0m\u001b[0m\n\u001b[0;32m      6\u001b[0m     \u001b[0mprocess\u001b[0m \u001b[1;33m=\u001b[0m \u001b[0msubprocess\u001b[0m\u001b[1;33m.\u001b[0m\u001b[0mPopen\u001b[0m\u001b[1;33m(\u001b[0m\u001b[0mcmd\u001b[0m\u001b[1;33m,\u001b[0m \u001b[0mstdout\u001b[0m\u001b[1;33m=\u001b[0m\u001b[0msubprocess\u001b[0m\u001b[1;33m.\u001b[0m\u001b[0mPIPE\u001b[0m\u001b[1;33m,\u001b[0m \u001b[0mstderr\u001b[0m\u001b[1;33m=\u001b[0m\u001b[0msubprocess\u001b[0m\u001b[1;33m.\u001b[0m\u001b[0mPIPE\u001b[0m\u001b[1;33m)\u001b[0m\u001b[1;33m\u001b[0m\u001b[0m\n\u001b[1;32m----> 7\u001b[1;33m     \u001b[1;32mfor\u001b[0m \u001b[0mc\u001b[0m \u001b[1;32min\u001b[0m \u001b[0miter\u001b[0m\u001b[1;33m(\u001b[0m\u001b[1;32mlambda\u001b[0m\u001b[1;33m:\u001b[0m \u001b[0mprocess\u001b[0m\u001b[1;33m.\u001b[0m\u001b[0mstderr\u001b[0m\u001b[1;33m.\u001b[0m\u001b[0mread\u001b[0m\u001b[1;33m(\u001b[0m\u001b[1;36m1\u001b[0m\u001b[1;33m)\u001b[0m\u001b[1;33m,\u001b[0m \u001b[1;34m''\u001b[0m\u001b[1;33m)\u001b[0m\u001b[1;33m:\u001b[0m\u001b[1;33m\u001b[0m\u001b[0m\n\u001b[0m\u001b[0;32m      8\u001b[0m         \u001b[1;32mif\u001b[0m \u001b[0mc\u001b[0m \u001b[1;33m==\u001b[0m \u001b[1;34m\"\\r\"\u001b[0m\u001b[1;33m:\u001b[0m\u001b[1;33m\u001b[0m\u001b[0m\n\u001b[0;32m      9\u001b[0m             \u001b[0mf\u001b[0m\u001b[1;33m.\u001b[0m\u001b[0mwrite\u001b[0m\u001b[1;33m(\u001b[0m\u001b[1;34m\"\"\u001b[0m\u001b[1;33m.\u001b[0m\u001b[0mjoin\u001b[0m\u001b[1;33m(\u001b[0m\u001b[0macc\u001b[0m\u001b[1;33m)\u001b[0m\u001b[1;33m)\u001b[0m\u001b[1;33m\u001b[0m\u001b[0m\n",
      "\u001b[1;32m<ipython-input-18-7c3415b0ef27>\u001b[0m in \u001b[0;36m<lambda>\u001b[1;34m()\u001b[0m\n\u001b[0;32m      5\u001b[0m \u001b[1;32mwith\u001b[0m \u001b[0mopen\u001b[0m\u001b[1;33m(\u001b[0m\u001b[1;34m'test.log'\u001b[0m\u001b[1;33m,\u001b[0m \u001b[1;34m'w'\u001b[0m\u001b[1;33m)\u001b[0m \u001b[1;32mas\u001b[0m \u001b[0mf\u001b[0m\u001b[1;33m:\u001b[0m\u001b[1;33m\u001b[0m\u001b[0m\n\u001b[0;32m      6\u001b[0m     \u001b[0mprocess\u001b[0m \u001b[1;33m=\u001b[0m \u001b[0msubprocess\u001b[0m\u001b[1;33m.\u001b[0m\u001b[0mPopen\u001b[0m\u001b[1;33m(\u001b[0m\u001b[0mcmd\u001b[0m\u001b[1;33m,\u001b[0m \u001b[0mstdout\u001b[0m\u001b[1;33m=\u001b[0m\u001b[0msubprocess\u001b[0m\u001b[1;33m.\u001b[0m\u001b[0mPIPE\u001b[0m\u001b[1;33m,\u001b[0m \u001b[0mstderr\u001b[0m\u001b[1;33m=\u001b[0m\u001b[0msubprocess\u001b[0m\u001b[1;33m.\u001b[0m\u001b[0mPIPE\u001b[0m\u001b[1;33m)\u001b[0m\u001b[1;33m\u001b[0m\u001b[0m\n\u001b[1;32m----> 7\u001b[1;33m     \u001b[1;32mfor\u001b[0m \u001b[0mc\u001b[0m \u001b[1;32min\u001b[0m \u001b[0miter\u001b[0m\u001b[1;33m(\u001b[0m\u001b[1;32mlambda\u001b[0m\u001b[1;33m:\u001b[0m \u001b[0mprocess\u001b[0m\u001b[1;33m.\u001b[0m\u001b[0mstderr\u001b[0m\u001b[1;33m.\u001b[0m\u001b[0mread\u001b[0m\u001b[1;33m(\u001b[0m\u001b[1;36m1\u001b[0m\u001b[1;33m)\u001b[0m\u001b[1;33m,\u001b[0m \u001b[1;34m''\u001b[0m\u001b[1;33m)\u001b[0m\u001b[1;33m:\u001b[0m\u001b[1;33m\u001b[0m\u001b[0m\n\u001b[0m\u001b[0;32m      8\u001b[0m         \u001b[1;32mif\u001b[0m \u001b[0mc\u001b[0m \u001b[1;33m==\u001b[0m \u001b[1;34m\"\\r\"\u001b[0m\u001b[1;33m:\u001b[0m\u001b[1;33m\u001b[0m\u001b[0m\n\u001b[0;32m      9\u001b[0m             \u001b[0mf\u001b[0m\u001b[1;33m.\u001b[0m\u001b[0mwrite\u001b[0m\u001b[1;33m(\u001b[0m\u001b[1;34m\"\"\u001b[0m\u001b[1;33m.\u001b[0m\u001b[0mjoin\u001b[0m\u001b[1;33m(\u001b[0m\u001b[0macc\u001b[0m\u001b[1;33m)\u001b[0m\u001b[1;33m)\u001b[0m\u001b[1;33m\u001b[0m\u001b[0m\n",
      "\u001b[1;31mKeyboardInterrupt\u001b[0m: "
     ]
    }
   ],
   "source": [
    "with open('test.log', 'w') as f:\n",
    "    process = subprocess.Popen(cmd, stdout=subprocess.PIPE, stderr=subprocess.STDOUT)\n",
    "    for c in iter(lambda: process.stdout.read(1), ''):\n",
    "        if c == '\\r':\n",
    "            print(c)\n",
    "            f.write(\"\".join(acc))\n",
    "            acc = []\n",
    "        else:\n",
    "            acc.append(c)\n",
    "        f.write(\"\".join(acc))"
   ]
  },
  {
   "cell_type": "code",
   "execution_count": null,
   "metadata": {
    "collapsed": true
   },
   "outputs": [],
   "source": [
    "m, s = pty.openpty()\n",
    "fm = os.fdopen(m, \"rw\")\n",
    "p = subprocess.Popen([\"python2\", \"test.py\"], stdin=s, stdout=s, stderr=s)\n",
    "p.communicate()\n",
    "os.close(s)\n",
    "print fm.read()"
   ]
  },
  {
   "cell_type": "code",
   "execution_count": null,
   "metadata": {
    "collapsed": true
   },
   "outputs": [],
   "source": [
    "from select import select\n",
    "master, slave = pty.openpty()\n",
    "\n",
    "process = subprocess.Popen(cmd, stderr=writer)\n",
    "pin = os.fdopen(master, 'w')\n",
    "tty.setcbreak(sys.stdin)\n",
    "\n",
    "while True:\n",
    "    rs, wc, es = select([])\n",
    "\n",
    "    while process.poll() is None:\n",
    "        sys.stdout.write(reader.read())\n",
    "        sys.stdout.flush()\n",
    "        time.sleep(0.5)\n",
    "    # Read the remaining\n",
    "    sys.stdout.write(reader.read())"
   ]
  },
  {
   "cell_type": "code",
   "execution_count": null,
   "metadata": {
    "collapsed": true
   },
   "outputs": [],
   "source": [
    "import io\n",
    "import time\n",
    "import subprocess\n",
    "import sys\n",
    "\n",
    "filename = 'test.log'\n",
    "\n",
    "with io.open(filename, 'wb') as writer, io.open(filename, 'rb', 1) as reader:\n",
    "    process = subprocess.Popen(cmd, stderr=writer)\n",
    "    while process.poll() is None:\n",
    "        print(is)\n",
    "        for c in iter(lambda: reader.read(), \"\"):\n",
    "            if c == \"\\r\":\n",
    "                print(\"\".join(acc))\n",
    "                acc = []\n",
    "            else:\n",
    "                acc.append(c)\n",
    "        time.sleep(0.5)\n",
    "    # Read the remaining\n",
    "    sys.stdout.write(reader.read())"
   ]
  },
  {
   "cell_type": "code",
   "execution_count": 17,
   "metadata": {
    "collapsed": false
   },
   "outputs": [
    {
     "ename": "KeyboardInterrupt",
     "evalue": "",
     "output_type": "error",
     "traceback": [
      "\u001b[1;31m---------------------------------------------------------------------------\u001b[0m",
      "\u001b[1;31mKeyboardInterrupt\u001b[0m                         Traceback (most recent call last)",
      "\u001b[1;32m<ipython-input-17-d2331c2dce30>\u001b[0m in \u001b[0;36m<module>\u001b[1;34m()\u001b[0m\n\u001b[0;32m     13\u001b[0m             ip.assemble.util.progressbar(100, prog, \n\u001b[0;32m     14\u001b[0m                         \" clustering across 1/4  | {}\".format('running...'))\n\u001b[1;32m---> 15\u001b[1;33m         \u001b[0mtime\u001b[0m\u001b[1;33m.\u001b[0m\u001b[0msleep\u001b[0m\u001b[1;33m(\u001b[0m\u001b[1;36m0.5\u001b[0m\u001b[1;33m)\u001b[0m\u001b[1;33m\u001b[0m\u001b[0m\n\u001b[0m\u001b[0;32m     16\u001b[0m     \u001b[1;31m# Read the remaining\u001b[0m\u001b[1;33m\u001b[0m\u001b[1;33m\u001b[0m\u001b[0m\n\u001b[0;32m     17\u001b[0m     \u001b[0mlinedat\u001b[0m \u001b[1;33m=\u001b[0m \u001b[0mreader\u001b[0m\u001b[1;33m.\u001b[0m\u001b[0mread\u001b[0m\u001b[1;33m(\u001b[0m\u001b[1;33m)\u001b[0m\u001b[1;33m.\u001b[0m\u001b[0mstrip\u001b[0m\u001b[1;33m(\u001b[0m\u001b[1;33m)\u001b[0m\u001b[1;33m\u001b[0m\u001b[0m\n",
      "\u001b[1;31mKeyboardInterrupt\u001b[0m: "
     ]
    }
   ],
   "source": [
    "import io\n",
    "import time\n",
    "import subprocess\n",
    "import sys\n",
    "\n",
    "filename = 'test.log'\n",
    "with io.open(filename, 'wb') as writer, io.open(filename, 'rb', 1) as reader:\n",
    "    process = subprocess.Popen(cmd, stderr=writer)#, stdout=writer)\n",
    "    while process.poll() is None:\n",
    "        linedat = reader.read().strip()\n",
    "        #writer.write(linedat)\n",
    "        if \"Clustering\" in linedat:\n",
    "            prog = linedat.split()\n",
    "            print prog\n",
    "            #ip.assemble.util.progressbar(100, prog, \n",
    "            #            \" clustering across 1/4  | {}\".format('running...'))\n",
    "        time.sleep(0.5)\n",
    "    # Read the remaining\n",
    "    linedat = reader.read().strip()\n",
    "    if \"Clustering\" in linedat:\n",
    "        prog = 100#int(linedat.split()[1][:-1])\n",
    "        print prog"
   ]
  },
  {
   "cell_type": "code",
   "execution_count": 6,
   "metadata": {
    "collapsed": true
   },
   "outputs": [],
   "source": [
    "ipyclient = ipyparallel.Client()"
   ]
  },
  {
   "cell_type": "code",
   "execution_count": 7,
   "metadata": {
    "collapsed": true
   },
   "outputs": [],
   "source": [
    "res = ipyclient[0].apply(cluster, data)"
   ]
  },
  {
   "cell_type": "code",
   "execution_count": 10,
   "metadata": {
    "collapsed": false
   },
   "outputs": [
    {
     "data": {
      "text/plain": [
       "<bound method AsyncResult.display_outputs of <AsyncResult: finished>>"
      ]
     },
     "execution_count": 10,
     "metadata": {},
     "output_type": "execute_result"
    }
   ],
   "source": [
    "res.display_outputs"
   ]
  },
  {
   "cell_type": "code",
   "execution_count": 12,
   "metadata": {
    "collapsed": false
   },
   "outputs": [
    {
     "name": "stdout",
     "output_type": "stream",
     "text": [
      "True\n"
     ]
    },
    {
     "data": {
      "text/plain": [
       "{'after': [],\n",
       " 'completed': datetime.datetime(2016, 4, 26, 17, 57, 53, 945046),\n",
       " 'data': {},\n",
       " 'engine_id': 0,\n",
       " 'engine_uuid': u'66a27d14-7a7a-4ed1-bd2a-f6691807408f',\n",
       " 'error': ipyparallel.error.RemoteError(u'UnsupportedOperation',\n",
       "                               u'IOStream has no fileno.'),\n",
       " 'execute_input': None,\n",
       " 'execute_result': None,\n",
       " 'follow': [],\n",
       " 'msg_id': u'55f60151-3278-4ae7-af8c-b0419716748b',\n",
       " 'outputs': [],\n",
       " 'received': datetime.datetime(2016, 4, 26, 17, 57, 53, 950281),\n",
       " 'started': datetime.datetime(2016, 4, 26, 17, 57, 52, 713298),\n",
       " 'status': u'error',\n",
       " 'stderr': '',\n",
       " 'stdout': '',\n",
       " 'submitted': datetime.datetime(2016, 4, 26, 17, 57, 52, 708782)}"
      ]
     },
     "execution_count": 12,
     "metadata": {},
     "output_type": "execute_result"
    }
   ],
   "source": [
    "print res.ready()\n",
    "res.metadata"
   ]
  },
  {
   "cell_type": "code",
   "execution_count": 8,
   "metadata": {
    "collapsed": false
   },
   "outputs": [
    {
     "data": {
      "text/plain": [
       "[u'catgs', u'edges', u'filters', u'seqs', u'snps']"
      ]
     },
     "execution_count": 8,
     "metadata": {},
     "output_type": "execute_result"
    }
   ],
   "source": [
    "io5 = h5py.File(data.database, 'r')\n",
    "io5.keys()"
   ]
  },
  {
   "cell_type": "code",
   "execution_count": 9,
   "metadata": {
    "collapsed": false
   },
   "outputs": [
    {
     "data": {
      "text/plain": [
       "array(['1A_0', '1B_0', '1C_0', '1D_0', '2E_0', '2F_0', '2G_0', '2H_0',\n",
       "       '3I_0', '3J_0', '3K_0', '3L_0'], \n",
       "      dtype='|S4')"
      ]
     },
     "execution_count": 9,
     "metadata": {},
     "output_type": "execute_result"
    }
   ],
   "source": [
    "io5['catgs'].attrs['samples']"
   ]
  },
  {
   "cell_type": "code",
   "execution_count": 13,
   "metadata": {
    "collapsed": false
   },
   "outputs": [
    {
     "data": {
      "text/plain": [
       "array([['A', 'C', 'C', 'G', 'A', 'A', 'G', 'C', 'G', 'T', 'T'],\n",
       "       ['A', 'C', 'C', 'G', 'A', 'A', 'G', 'C', 'G', 'T', 'T'],\n",
       "       ['A', 'C', 'C', 'G', 'A', 'A', 'G', 'C', 'G', 'T', 'T'],\n",
       "       ['A', 'C', 'C', 'G', 'A', 'A', 'G', 'C', 'G', 'T', 'T'],\n",
       "       ['A', 'C', 'C', 'G', 'A', 'A', 'G', 'C', 'G', 'T', 'T'],\n",
       "       ['A', 'C', 'C', 'G', 'A', 'A', 'G', 'C', 'G', 'T', 'T'],\n",
       "       ['A', 'C', 'C', 'G', 'A', 'A', 'G', '-', 'G', 'T', 'T'],\n",
       "       ['A', 'C', 'C', 'G', 'A', 'A', 'G', 'C', 'G', 'T', 'T'],\n",
       "       ['A', 'C', 'C', 'G', 'A', 'A', 'G', 'C', 'G', 'T', 'T'],\n",
       "       ['A', 'C', 'C', 'G', 'A', 'A', 'G', 'C', 'G', 'T', 'T'],\n",
       "       ['A', 'C', 'C', 'G', 'A', 'A', 'G', 'C', 'G', 'T', 'T'],\n",
       "       ['A', 'C', 'C', 'G', 'A', 'A', 'G', 'C', 'G', 'T', 'T']], \n",
       "      dtype='|S1')"
      ]
     },
     "execution_count": 13,
     "metadata": {},
     "output_type": "execute_result"
    }
   ],
   "source": [
    "io5['seqs'][1, :, 65:76]"
   ]
  },
  {
   "cell_type": "code",
   "execution_count": 14,
   "metadata": {
    "collapsed": false,
    "scrolled": true
   },
   "outputs": [
    {
     "data": {
      "text/plain": [
       "array([[[ 0, 26,  0,  0],\n",
       "        [26,  0,  0,  0],\n",
       "        [26,  0,  0,  0],\n",
       "        [ 0,  0,  0, 26],\n",
       "        [ 0, 25,  0,  1],\n",
       "        [ 0, 26,  0,  0],\n",
       "        [ 0,  0,  0, 26],\n",
       "        [26,  0,  0,  0],\n",
       "        [ 0,  0,  0, 26],\n",
       "        [ 0,  0, 26,  0],\n",
       "        [ 0,  0, 26,  0]],\n",
       "\n",
       "       [[ 0, 21,  0,  0],\n",
       "        [21,  0,  0,  0],\n",
       "        [20,  0,  1,  0],\n",
       "        [ 0,  0,  0, 21],\n",
       "        [ 0, 21,  0,  0],\n",
       "        [ 0, 21,  0,  0],\n",
       "        [ 0,  0,  0, 21],\n",
       "        [21,  0,  0,  0],\n",
       "        [ 0,  0,  0, 21],\n",
       "        [ 0,  0, 21,  0],\n",
       "        [ 0,  0, 21,  0]],\n",
       "\n",
       "       [[ 0, 20,  0,  0],\n",
       "        [20,  0,  0,  0],\n",
       "        [20,  0,  0,  0],\n",
       "        [ 0,  0,  0, 20],\n",
       "        [ 0, 20,  0,  0],\n",
       "        [ 0, 20,  0,  0],\n",
       "        [ 0,  0,  0, 20],\n",
       "        [20,  0,  0,  0],\n",
       "        [ 0,  0,  0, 20],\n",
       "        [ 0,  0, 20,  0],\n",
       "        [ 0,  0, 20,  0]],\n",
       "\n",
       "       [[ 0, 16,  0,  0],\n",
       "        [16,  0,  0,  0],\n",
       "        [16,  0,  0,  0],\n",
       "        [ 0,  0,  0, 16],\n",
       "        [ 0, 16,  0,  0],\n",
       "        [ 0, 16,  0,  0],\n",
       "        [ 0,  0,  0, 16],\n",
       "        [16,  0,  0,  0],\n",
       "        [ 0,  0,  0, 16],\n",
       "        [ 0,  0, 16,  0],\n",
       "        [ 0,  0, 16,  0]],\n",
       "\n",
       "       [[ 0, 21,  0,  0],\n",
       "        [21,  0,  0,  0],\n",
       "        [21,  0,  0,  0],\n",
       "        [ 0,  0,  0, 21],\n",
       "        [ 0, 21,  0,  0],\n",
       "        [ 0, 21,  0,  0],\n",
       "        [ 0,  0,  0, 21],\n",
       "        [21,  0,  0,  0],\n",
       "        [ 0,  0,  0, 21],\n",
       "        [ 0,  0, 21,  0],\n",
       "        [ 0,  0, 21,  0]],\n",
       "\n",
       "       [[ 0, 22,  0,  0],\n",
       "        [22,  0,  0,  0],\n",
       "        [22,  0,  0,  0],\n",
       "        [ 0,  0,  0, 22],\n",
       "        [ 0, 22,  0,  0],\n",
       "        [ 0, 22,  0,  0],\n",
       "        [ 0,  0,  0, 22],\n",
       "        [22,  0,  0,  0],\n",
       "        [ 0,  0,  0, 22],\n",
       "        [ 0,  0, 22,  0],\n",
       "        [ 0,  0, 22,  0]],\n",
       "\n",
       "       [[ 0, 22,  0,  0],\n",
       "        [22,  0,  0,  0],\n",
       "        [22,  0,  0,  0],\n",
       "        [ 0,  0,  0, 22],\n",
       "        [ 0, 22,  0,  0],\n",
       "        [ 0, 22,  0,  0],\n",
       "        [ 0,  0,  0, 22],\n",
       "        [ 0,  0,  0,  0],\n",
       "        [ 0,  0,  0, 22],\n",
       "        [ 0,  0, 22,  0],\n",
       "        [ 0,  0, 22,  0]],\n",
       "\n",
       "       [[ 0, 22,  0,  0],\n",
       "        [22,  0,  0,  0],\n",
       "        [22,  0,  0,  0],\n",
       "        [ 0,  0,  0, 22],\n",
       "        [ 0, 22,  0,  0],\n",
       "        [ 0, 22,  0,  0],\n",
       "        [ 0,  0,  0, 22],\n",
       "        [22,  0,  0,  0],\n",
       "        [ 0,  0,  0, 22],\n",
       "        [ 0,  0, 22,  0],\n",
       "        [ 0,  0, 22,  0]],\n",
       "\n",
       "       [[ 0, 18,  0,  0],\n",
       "        [18,  0,  0,  0],\n",
       "        [18,  0,  0,  0],\n",
       "        [ 0,  0,  0, 18],\n",
       "        [ 0, 18,  0,  0],\n",
       "        [ 0, 18,  0,  0],\n",
       "        [ 0,  0,  0, 18],\n",
       "        [18,  0,  0,  0],\n",
       "        [ 0,  0,  0, 18],\n",
       "        [ 0,  0, 18,  0],\n",
       "        [ 0,  0, 18,  0]],\n",
       "\n",
       "       [[ 0, 26,  0,  0],\n",
       "        [26,  0,  0,  0],\n",
       "        [26,  0,  0,  0],\n",
       "        [ 0,  0,  0, 26],\n",
       "        [ 0, 26,  0,  0],\n",
       "        [ 0, 26,  0,  0],\n",
       "        [ 0,  0,  0, 26],\n",
       "        [26,  0,  0,  0],\n",
       "        [ 0,  0,  0, 26],\n",
       "        [ 0,  0, 26,  0],\n",
       "        [ 0,  0, 26,  0]],\n",
       "\n",
       "       [[ 0, 20,  0,  0],\n",
       "        [20,  0,  0,  0],\n",
       "        [20,  0,  0,  0],\n",
       "        [ 0,  0,  0, 20],\n",
       "        [ 0, 20,  0,  0],\n",
       "        [ 0, 20,  0,  0],\n",
       "        [ 0,  0,  0, 20],\n",
       "        [20,  0,  0,  0],\n",
       "        [ 0,  0,  0, 20],\n",
       "        [ 0,  0, 20,  0],\n",
       "        [ 0,  0, 20,  0]],\n",
       "\n",
       "       [[ 0, 21,  0,  0],\n",
       "        [21,  0,  0,  0],\n",
       "        [21,  0,  0,  0],\n",
       "        [ 0,  0,  0, 21],\n",
       "        [ 0, 21,  0,  0],\n",
       "        [ 0, 21,  0,  0],\n",
       "        [ 0,  0,  0, 21],\n",
       "        [21,  0,  0,  0],\n",
       "        [ 0,  0,  0, 21],\n",
       "        [ 0,  0, 21,  0],\n",
       "        [ 0,  0, 21,  0]]], dtype=uint32)"
      ]
     },
     "execution_count": 14,
     "metadata": {},
     "output_type": "execute_result"
    }
   ],
   "source": [
    "io5['catgs'][1, :, 65:76]"
   ]
  },
  {
   "cell_type": "code",
   "execution_count": null,
   "metadata": {
    "collapsed": true
   },
   "outputs": [],
   "source": []
  },
  {
   "cell_type": "code",
   "execution_count": 23,
   "metadata": {
    "collapsed": false
   },
   "outputs": [],
   "source": [
    "import ipyparallel as ipp\n",
    "c = ipp.Client()\n",
    "lbview1 = c.load_balanced_view()\n",
    "lbview2 = c.load_balanced_view()"
   ]
  },
  {
   "cell_type": "code",
   "execution_count": 24,
   "metadata": {
    "collapsed": true
   },
   "outputs": [],
   "source": [
    "def returnsleep(x):\n",
    "    import time\n",
    "    time.sleep(x)\n",
    "    return \"that felt good\""
   ]
  },
  {
   "cell_type": "code",
   "execution_count": 28,
   "metadata": {
    "collapsed": false
   },
   "outputs": [
    {
     "name": "stdout",
     "output_type": "stream",
     "text": [
      "['a237079b-0737-477d-9a82-c84a66e827b6', '3a2663a0-defd-4dbc-a0ae-8fcfddc6b04e', '098eeee7-e64c-4efe-bcc2-beffefde3a3e', '9e3cad74-4756-4bc5-8da6-2b13598f64f9']\n"
     ]
    }
   ],
   "source": [
    "import time\n",
    "import itertools\n",
    "\n",
    "job1 = {}\n",
    "for i in range(4):\n",
    "    job1[i] = lbview1.apply(time.sleep, 2)\n",
    "\n",
    "job2 = {}\n",
    "for i in range(4):\n",
    "    with lbview1.temp_flags(after=job1[i]):\n",
    "        job2[i] = lbview1.apply(time.sleep, 2)\n",
    "\n",
    "job3 = {}\n",
    "for i in range(4):\n",
    "    with lbview1.temp_flags(after=job2[i]):\n",
    "        job3[i] = lbview1.apply(time.sleep, 2)\n",
    "\n",
    "job4 = {}\n",
    "for i in range(4):\n",
    "    with lbview1.temp_flags(after=job3[i]):\n",
    "        job4[i] = lbview1.apply(returnsleep, 2)\n",
    "\n",
    "        \n",
    "waitfor = list(itertools.chain(*[i.msg_ids for i in job4.values()]))\n",
    "print waitfor\n",
    "\n",
    "with lbview1.temp_flags(after=waitfor):\n",
    "    res = lbview1.apply(time.sleep, 2)"
   ]
  },
  {
   "cell_type": "code",
   "execution_count": 29,
   "metadata": {
    "collapsed": false
   },
   "outputs": [
    {
     "name": "stdout",
     "output_type": "stream",
     "text": [
      "0\n",
      "0\n",
      "0\n",
      "0\n",
      "0\n",
      "0\n",
      "0\n",
      "0\n",
      "0\n",
      "0\n",
      "0\n",
      "0\n",
      "0\n",
      "0\n",
      "4\n",
      "0\n",
      "4\n",
      "0\n",
      "4\n",
      "0\n",
      "4\n",
      "0\n",
      "4\n",
      "4\n",
      "4\n",
      "4\n"
     ]
    }
   ],
   "source": [
    "while 1:\n",
    "    if not res.ready():\n",
    "        print sum([job2[i].ready() for i in job2])\n",
    "        print sum([job4[i].ready() for i in job4])\n",
    "        time.sleep(1)\n",
    "    else:\n",
    "        break"
   ]
  },
  {
   "cell_type": "markdown",
   "metadata": {},
   "source": [
    "### Running sequential jobs w/ dependencies"
   ]
  },
  {
   "cell_type": "code",
   "execution_count": 14,
   "metadata": {
    "collapsed": false
   },
   "outputs": [
    {
     "name": "stdout",
     "output_type": "stream",
     "text": [
      "  17/17 tasks finished after   10 s\n",
      "done\n"
     ]
    }
   ],
   "source": [
    "c.wait_interactive()\n",
    "c."
   ]
  },
  {
   "cell_type": "markdown",
   "metadata": {},
   "source": [
    "### Retrieving returned results"
   ]
  },
  {
   "cell_type": "code",
   "execution_count": 28,
   "metadata": {
    "collapsed": false
   },
   "outputs": [
    {
     "name": "stdout",
     "output_type": "stream",
     "text": [
      "that felt good\n",
      "True\n"
     ]
    }
   ],
   "source": [
    "res = job4[0]\n",
    "print res.result()\n",
    "print res.successful()"
   ]
  },
  {
   "cell_type": "markdown",
   "metadata": {},
   "source": [
    "### Retrieving returned results AND raise error if failed"
   ]
  },
  {
   "cell_type": "code",
   "execution_count": 33,
   "metadata": {
    "collapsed": false
   },
   "outputs": [
    {
     "name": "stdout",
     "output_type": "stream",
     "text": [
      "hi [#####] time\n",
      "hi [#####] time\n",
      "hi [#####] time\n",
      "hi [#####] time\n",
      "hi [#####] time\n",
      "hi [#####] time\n",
      "hi [#####] time\n",
      "hi [#####] time\n",
      "hi [#####] time\n",
      "hi [#####] time\n",
      "hi [#####] time\n",
      "hi [#####] time\n",
      "hi [#####] time\n",
      "hi [#####] time\n",
      "hi [#####] time\n",
      "hi [#####] time\n",
      "hi [#####] time\n",
      "hi [#####] time\n",
      "hi [#####] time\n"
     ]
    }
   ],
   "source": [
    "while 1:\n",
    "    try:\n",
    "        if all([job4[i].successful() for i in job4]):\n",
    "            break\n",
    "    except AssertionError:\n",
    "        pass\n",
    "    print 'hi', '[#####]', \"time\"\n",
    "    time.sleep(1)"
   ]
  },
  {
   "cell_type": "markdown",
   "metadata": {},
   "source": [
    "### Running a non-blocking wait call"
   ]
  },
  {
   "cell_type": "code",
   "execution_count": 22,
   "metadata": {
    "collapsed": false
   },
   "outputs": [
    {
     "name": "stdout",
     "output_type": "stream",
     "text": [
      "hi [#####] time\n",
      "hi [#####] time\n",
      "hi [#####] time\n",
      "hi [#####] time\n",
      "hi [#####] time\n",
      "hi [#####] time\n",
      "hi [#####] time\n",
      "hi [#####] time\n",
      "hi [#####] time\n",
      "hi [#####] time\n",
      "hi [#####] time\n",
      "hi [#####] time\n",
      "hi [#####] time\n",
      "hi [#####] time\n",
      "hi [#####] time\n",
      "hi [#####] time\n",
      "hi [#####] time\n",
      "hi [#####] time\n",
      "hi [#####] time\n"
     ]
    }
   ],
   "source": [
    "while not all([job4[i].ready() for i in job4]):\n",
    "    print 'hi', '[#####]', \"time\"\n",
    "    time.sleep(1)"
   ]
  },
  {
   "cell_type": "code",
   "execution_count": 36,
   "metadata": {
    "collapsed": false
   },
   "outputs": [
    {
     "data": {
      "text/plain": [
       "20.041482"
      ]
     },
     "execution_count": 36,
     "metadata": {},
     "output_type": "execute_result"
    }
   ],
   "source": [
    "res.elapsed"
   ]
  },
  {
   "cell_type": "code",
   "execution_count": 34,
   "metadata": {
    "collapsed": false
   },
   "outputs": [
    {
     "data": {
      "text/plain": [
       "{0: 1, 1: 1, 2: 1, 3: 3, 4: 1, 5: 1}"
      ]
     },
     "execution_count": 34,
     "metadata": {},
     "output_type": "execute_result"
    }
   ],
   "source": [
    "import numpy as np\n",
    "from collections import Counter\n",
    "\n",
    "a = np.array([0, 1, 2, 5, 3, 3, 3, 4])\n",
    "dict(Counter(a))"
   ]
  },
  {
   "cell_type": "code",
   "execution_count": 38,
   "metadata": {
    "collapsed": false
   },
   "outputs": [
    {
     "data": {
      "text/plain": [
       "[0, 1, 2]"
      ]
     },
     "execution_count": 38,
     "metadata": {},
     "output_type": "execute_result"
    }
   ],
   "source": [
    "a\n",
    "b = [0, 1, 2]\n",
    "\n",
    "[i for i in a if i in b]"
   ]
  },
  {
   "cell_type": "code",
   "execution_count": null,
   "metadata": {
    "collapsed": true
   },
   "outputs": [],
   "source": [
    "### profiling\n",
    "python -m cProfile -s cumulative ../ipyrad/assemble/cluster_within.py\n"
   ]
  }
 ],
 "metadata": {
  "kernelspec": {
   "display_name": "Python 2",
   "language": "python",
   "name": "python2"
  },
  "language_info": {
   "codemirror_mode": {
    "name": "ipython",
    "version": 2
   },
   "file_extension": ".py",
   "mimetype": "text/x-python",
   "name": "python",
   "nbconvert_exporter": "python",
   "pygments_lexer": "ipython2",
   "version": "2.7.11"
  }
 },
 "nbformat": 4,
 "nbformat_minor": 0
}
