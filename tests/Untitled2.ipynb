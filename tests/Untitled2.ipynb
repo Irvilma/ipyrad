{
 "cells": [
  {
   "cell_type": "code",
   "execution_count": 1,
   "metadata": {
    "collapsed": false
   },
   "outputs": [
    {
     "name": "stderr",
     "output_type": "stream",
     "text": [
      "DEBUG:ipyrad:H4CKERZ-mode: __loglevel__ = DEBUG\n"
     ]
    },
    {
     "name": "stdout",
     "output_type": "stream",
     "text": [
      "  loading Assembly: data1 [test_rad/data1.assembly]\n"
     ]
    }
   ],
   "source": [
    "import os\n",
    "import pandas as pd\n",
    "import numpy as np\n",
    "import ipyrad as ip\n",
    "import h5py\n",
    "\n",
    "data = ip.load.load_assembly(\"test_rad/data1.assembly\")\n",
    "sample1 = data.samples[\"1A_0\"]\n",
    "sample2 = data.samples[\"1B_0\"]"
   ]
  },
  {
   "cell_type": "markdown",
   "metadata": {},
   "source": [
    "### New One to fill"
   ]
  },
  {
   "cell_type": "code",
   "execution_count": 2,
   "metadata": {
    "collapsed": false
   },
   "outputs": [],
   "source": [
    "new_h5 = h5py.File(\"test.hdf5\", 'w')\n",
    "nloci = 1000\n",
    "maxlen = 150\n",
    "\n",
    "icatg = new_h5.create_dataset('test', (nloci, maxlen, 4), \n",
    "                              dtype=np.uint32)"
   ]
  },
  {
   "cell_type": "code",
   "execution_count": 23,
   "metadata": {
    "collapsed": false
   },
   "outputs": [
    {
     "data": {
      "text/plain": [
       "array([[ 0,  0, 17,  0],\n",
       "       [ 0,  0,  0, 17],\n",
       "       [17,  0,  0,  0],\n",
       "       [ 0, 17,  0,  0],\n",
       "       [ 0,  0,  0, 17],\n",
       "       [ 0,  0,  0, 17],\n",
       "       [10,  0,  0,  7],\n",
       "       [ 0,  0, 17,  0],\n",
       "       [ 0, 17,  0,  0],\n",
       "       [ 0,  0, 17,  0],\n",
       "       [ 0,  0,  0,  0],\n",
       "       [ 0,  0,  0,  0],\n",
       "       [ 0,  0,  0,  0],\n",
       "       [ 0,  0,  0,  0],\n",
       "       [ 0,  0,  0,  0],\n",
       "       [ 0,  0,  0,  0],\n",
       "       [ 0,  0,  0,  0],\n",
       "       [ 0,  0,  0,  0],\n",
       "       [ 0,  0,  0,  0],\n",
       "       [ 0,  0,  0,  0]], dtype=uint32)"
      ]
     },
     "execution_count": 23,
     "metadata": {},
     "output_type": "execute_result"
    }
   ],
   "source": [
    "icatg[2, :20]"
   ]
  },
  {
   "cell_type": "markdown",
   "metadata": {},
   "source": [
    "#### LOad the old one"
   ]
  },
  {
   "cell_type": "code",
   "execution_count": 4,
   "metadata": {
    "collapsed": false
   },
   "outputs": [],
   "source": [
    "old_h5 = h5py.File(sample1.files.database, 'r')\n",
    "catarr1 = old_h5[\"catg\"][:]\n",
    "\n",
    "old_h5 = h5py.File(sample2.files.database, 'r')\n",
    "catarr2 = old_h5[\"catg\"]"
   ]
  },
  {
   "cell_type": "code",
   "execution_count": 42,
   "metadata": {
    "collapsed": false
   },
   "outputs": [
    {
     "data": {
      "text/plain": [
       "array([[ 0,  0, 20,  0],\n",
       "       [ 0,  0,  0, 20],\n",
       "       [20,  0,  0,  0],\n",
       "       [ 0, 20,  0,  0],\n",
       "       [ 0,  0,  0, 20],\n",
       "       [ 0,  0,  0, 20],\n",
       "       [20,  0,  0,  0],\n",
       "       [ 0, 20,  0,  0],\n",
       "       [ 0, 20,  0,  0],\n",
       "       [ 0,  0,  0, 20]], dtype=uint32)"
      ]
     },
     "execution_count": 42,
     "metadata": {},
     "output_type": "execute_result"
    }
   ],
   "source": [
    "icatg[1, :10] = catarr1[7, :10]\n",
    "icatg[1, :10]"
   ]
  },
  {
   "cell_type": "code",
   "execution_count": 10,
   "metadata": {
    "collapsed": false
   },
   "outputs": [
    {
     "data": {
      "text/plain": [
       "array([[[ 0,  0, 28,  0],\n",
       "        [ 0,  0,  0, 28],\n",
       "        [28,  0,  0,  0],\n",
       "        [ 0, 28,  0,  0],\n",
       "        [ 0,  0,  0, 28],\n",
       "        [ 0,  0, 28,  0],\n",
       "        [ 0, 28,  0,  0],\n",
       "        [ 0,  0, 28,  0],\n",
       "        [ 0,  0, 28,  0],\n",
       "        [ 0,  0,  0, 28]],\n",
       "\n",
       "       [[ 0,  0, 14,  0],\n",
       "        [ 0,  0,  0, 14],\n",
       "        [14,  0,  0,  0],\n",
       "        [ 0, 14,  0,  0],\n",
       "        [ 0,  0,  0, 14],\n",
       "        [ 0,  0, 14,  0],\n",
       "        [ 0,  0,  0, 14],\n",
       "        [14,  0,  0,  0],\n",
       "        [14,  0,  0,  0],\n",
       "        [ 0,  0, 14,  0]],\n",
       "\n",
       "       [[ 0,  0, 20,  0],\n",
       "        [ 0,  0,  0, 20],\n",
       "        [20,  0,  0,  0],\n",
       "        [ 0, 20,  0,  0],\n",
       "        [ 0,  0,  0, 20],\n",
       "        [ 0,  0,  0, 20],\n",
       "        [ 0, 20,  0,  0],\n",
       "        [ 0,  0,  0, 20],\n",
       "        [ 0,  0, 20,  0],\n",
       "        [ 0, 20,  0,  0]]], dtype=uint32)"
      ]
     },
     "execution_count": 10,
     "metadata": {},
     "output_type": "execute_result"
    }
   ],
   "source": [
    "catarr1[[0, 100, 200], :10]"
   ]
  },
  {
   "cell_type": "code",
   "execution_count": 11,
   "metadata": {
    "collapsed": false
   },
   "outputs": [
    {
     "name": "stdout",
     "output_type": "stream",
     "text": [
      "              0         1  2     3    4\n",
      "0      2G_0_274  1D_0_479  +  2G_0  274\n",
      "1      2G_0_977  1C_0_225  +  2G_0  977\n",
      "2      2E_0_651  1C_0_225  +  2E_0  651\n",
      "3      1D_0_182  2E_0_879  +  1D_0  182\n",
      "4      2G_0_304  3L_0_688  +  2G_0  304\n",
      "5      3J_0_165  2G_0_368  +  3J_0  165\n",
      "6      1A_0_755  2G_0_378  +  1A_0  755\n",
      "7      1D_0_712  2H_0_805  +  1D_0  712\n",
      "8      1D_0_510  2F_0_863  +  1D_0  510\n",
      "9      3K_0_641  2F_0_659  +  3K_0  641\n",
      "10     1D_0_782  3J_0_439  +  1D_0  782\n",
      "11     1C_0_834  3K_0_556  +  1C_0  834\n",
      "12     1A_0_203   3K_0_21  +  1A_0  203\n",
      "13     1D_0_261  1C_0_577  +  1D_0  261\n",
      "14     2F_0_543  3K_0_612  +  2F_0  543\n",
      "15     2E_0_266   3K_0_51  +  2E_0  266\n",
      "16     1B_0_868  3I_0_162  +  1B_0  868\n",
      "17     3K_0_910  2H_0_782  +  3K_0  910\n",
      "18     2E_0_656  2G_0_523  +  2E_0  656\n",
      "19     1D_0_413  3J_0_397  +  1D_0  413\n",
      "20     1A_0_318  3I_0_253  +  1A_0  318\n",
      "21     2F_0_503  3L_0_592  +  2F_0  503\n",
      "22     2E_0_846  1B_0_631  +  2E_0  846\n",
      "23     1D_0_794  1C_0_225  +  1D_0  794\n",
      "24     3I_0_644  1C_0_678  +  3I_0  644\n",
      "25     2E_0_898  3K_0_354  +  2E_0  898\n",
      "26     3K_0_851  1C_0_166  +  3K_0  851\n",
      "27     2G_0_707  3L_0_914  +  2G_0  707\n",
      "28     2E_0_460  3I_0_773  +  2E_0  460\n",
      "29     3I_0_857  3J_0_635  +  3I_0  857\n",
      "...         ...       ... ..   ...  ...\n",
      "10925  1A_0_696  3J_0_758  +  1A_0  696\n",
      "10926  2F_0_257  1D_0_862  +  2F_0  257\n",
      "10927  2H_0_832  1B_0_600  +  2H_0  832\n",
      "10928  1B_0_697  2F_0_732  +  1B_0  697\n",
      "10929  1B_0_353   3K_0_36  +  1B_0  353\n",
      "10930  3J_0_989  2F_0_971  +  3J_0  989\n",
      "10931  2F_0_244  2H_0_624  +  2F_0  244\n",
      "10932  1A_0_274  3J_0_934  +  1A_0  274\n",
      "10933  3L_0_409  2G_0_894  +  3L_0  409\n",
      "10934  2H_0_972  1D_0_633  +  2H_0  972\n",
      "10935  1C_0_447  1D_0_577  +  1C_0  447\n",
      "10936  2H_0_898  3J_0_397  +  2H_0  898\n",
      "10937  2E_0_546  3K_0_195  +  2E_0  546\n",
      "10938  3I_0_901  3L_0_892  +  3I_0  901\n",
      "10939  1B_0_156  2H_0_410  +  1B_0  156\n",
      "10940  2H_0_281  3K_0_631  +  2H_0  281\n",
      "10941  3L_0_391  3J_0_934  +  3L_0  391\n",
      "10942  1D_0_123  1A_0_721  +  1D_0  123\n",
      "10943   1D_0_79  3L_0_869  +  1D_0   79\n",
      "10944  3L_0_476  2H_0_784  +  3L_0  476\n",
      "10945  3I_0_152  2H_0_108  +  3I_0  152\n",
      "10946  2H_0_201  1C_0_713  +  2H_0  201\n",
      "10947  2E_0_190  3L_0_692  +  2E_0  190\n",
      "10948  1A_0_717  1B_0_123  +  1A_0  717\n",
      "10949  2H_0_413  1B_0_211  +  2H_0  413\n",
      "10950  2E_0_917  1C_0_463  +  2E_0  917\n",
      "10951  3K_0_588  3L_0_666  +  3K_0  588\n",
      "10952  2G_0_310  2H_0_460  +  2G_0  310\n",
      "10953  3L_0_487   1C_0_27  +  3L_0  487\n",
      "10954  2F_0_147  2E_0_376  +  2F_0  147\n",
      "\n",
      "[10955 rows x 5 columns]\n"
     ]
    }
   ],
   "source": [
    "uhandle = os.path.join(data.dirs.consens, data.name+\".utemp\")\n",
    "updf = pd.read_table(uhandle, header=None)\n",
    "updf.loc[:, 3] = [i.rsplit(\"_\", 1)[0] for i in updf[0]]\n",
    "## create a column with only consens index\n",
    "updf.loc[:, 4] = [i.rsplit(\"_\", 1)[1] for i in updf[0]]\n",
    "print updf"
   ]
  },
  {
   "cell_type": "code",
   "execution_count": 39,
   "metadata": {
    "collapsed": false,
    "scrolled": true
   },
   "outputs": [
    {
     "name": "stdout",
     "output_type": "stream",
     "text": [
      "0 82 820 98\n"
     ]
    }
   ],
   "source": [
    "f = 0\n",
    "n = 0\n",
    "h = 0\n",
    "s = 0\n",
    "\n",
    "udic = updf.groupby(by=1, sort=False)\n",
    "for iloc, seed in enumerate(udic.groups.keys()):\n",
    "    ipdf = udic.get_group(seed)\n",
    "    #print iloc, seed, ipdf\n",
    "    ask = ipdf.where(ipdf[3] == sample1.name).dropna()\n",
    "    if ask.shape[0] == 1:\n",
    "        #print iloc, int(ask[4])\n",
    "        y = catarr1[int(ask[4]), :10]\n",
    "        if np.any(y):\n",
    "            h += 1\n",
    "            icatg[iloc, :10] = y\n",
    "        else:\n",
    "            s += 1\n",
    "        \n",
    "    elif ask.shape[0] > 1:\n",
    "        f += 1\n",
    "        #print(\"FILTER-------------\")\n",
    "    else:\n",
    "        n += 1\n",
    "        #print(\"no hit-----------------------------------\")\n",
    "        \n",
    "print f, n, h, s"
   ]
  },
  {
   "cell_type": "code",
   "execution_count": 40,
   "metadata": {
    "collapsed": false
   },
   "outputs": [
    {
     "data": {
      "text/plain": [
       "1000"
      ]
     },
     "execution_count": 40,
     "metadata": {},
     "output_type": "execute_result"
    }
   ],
   "source": [
    "822 + 80 + 98"
   ]
  },
  {
   "cell_type": "code",
   "execution_count": 48,
   "metadata": {
    "collapsed": false
   },
   "outputs": [
    {
     "data": {
      "text/plain": [
       "array([[ 0,  0, 18,  0],\n",
       "       [ 0,  0,  0, 18],\n",
       "       [18,  0,  0,  0],\n",
       "       [ 0, 18,  0,  0],\n",
       "       [ 0,  0,  0, 18],\n",
       "       [ 0, 18,  0,  0],\n",
       "       [ 0,  0,  0, 18],\n",
       "       [ 0,  0,  0, 18],\n",
       "       [ 0, 18,  0,  0],\n",
       "       [ 0, 18,  0,  0]], dtype=uint32)"
      ]
     },
     "execution_count": 48,
     "metadata": {},
     "output_type": "execute_result"
    }
   ],
   "source": [
    "icatg[600, :10]"
   ]
  },
  {
   "cell_type": "markdown",
   "metadata": {},
   "source": [
    "### data hdf5"
   ]
  },
  {
   "cell_type": "code",
   "execution_count": 57,
   "metadata": {
    "collapsed": false
   },
   "outputs": [
    {
     "name": "stdout",
     "output_type": "stream",
     "text": [
      "  loading Assembly: data1 [test_rad/data1.assembly]\n"
     ]
    },
    {
     "data": {
      "text/plain": [
       "[u'catgs', u'edges', u'filters', u'seqs']"
      ]
     },
     "execution_count": 57,
     "metadata": {},
     "output_type": "execute_result"
    }
   ],
   "source": [
    "data = ip.load.load_assembly(\"test_rad/data1.assembly\")\n",
    "io5 = h5py.File(data.database, 'r')\n",
    "io5.keys()"
   ]
  },
  {
   "cell_type": "code",
   "execution_count": 59,
   "metadata": {
    "collapsed": false
   },
   "outputs": [
    {
     "data": {
      "text/plain": [
       "array([[0, 0, 0, 0],\n",
       "       [0, 0, 0, 0],\n",
       "       [0, 0, 0, 0],\n",
       "       [0, 0, 0, 0],\n",
       "       [0, 0, 0, 0],\n",
       "       [0, 0, 0, 0],\n",
       "       [0, 0, 0, 0],\n",
       "       [0, 0, 0, 0],\n",
       "       [0, 0, 0, 0],\n",
       "       [0, 0, 0, 0]], dtype=uint32)"
      ]
     },
     "execution_count": 59,
     "metadata": {},
     "output_type": "execute_result"
    }
   ],
   "source": [
    "io5['catgs'][1, 0, :10]"
   ]
  },
  {
   "cell_type": "markdown",
   "metadata": {},
   "source": [
    "### Check it out"
   ]
  },
  {
   "cell_type": "code",
   "execution_count": 1,
   "metadata": {
    "collapsed": false
   },
   "outputs": [
    {
     "name": "stdout",
     "output_type": "stream",
     "text": [
      "  loading Assembly: data1 [test_rad/data1.assembly]\n",
      "  loading Assembly: test_pairgbs [test_pairgbs/test_pairgbs.assembly]\n"
     ]
    }
   ],
   "source": [
    "import ipyrad as ip\n",
    "import h5py\n",
    "import numpy as np\n",
    "\n",
    "data1 = ip.load.load_assembly(\"test_rad/data1.assembly\")\n",
    "data2 = ip.load.load_assembly(\"test_pairgbs/test_pairgbs.assembly\")\n"
   ]
  },
  {
   "cell_type": "code",
   "execution_count": 20,
   "metadata": {
    "collapsed": false
   },
   "outputs": [
    {
     "name": "stdout",
     "output_type": "stream",
     "text": [
      "[u'catgs', u'edges', u'filters', u'seqs']\n",
      "set([])\n",
      "catg\n",
      "[[[[ 0  0 20  0]\n",
      "   [ 0  0  0 20]\n",
      "   [20  0  0  0]\n",
      "   [ 0 20  0  0]\n",
      "   [ 0  0  0 20]\n",
      "   [20  0  0  0]\n",
      "   [ 0  0  0 20]\n",
      "   [20  0  0  0]\n",
      "   [ 0  0 20  0]\n",
      "   [ 0 20  0  0]]\n",
      "\n",
      "  [[ 0  0 20  0]\n",
      "   [ 0  0  0 20]\n",
      "   [20  0  0  0]\n",
      "   [ 0 20  0  0]\n",
      "   [ 0  0  0 20]\n",
      "   [19  0  0  1]\n",
      "   [ 0  0  0 20]\n",
      "   [20  0  0  0]\n",
      "   [ 0  0 20  0]\n",
      "   [ 0 20  0  0]]\n",
      "\n",
      "  [[ 0  0 20  0]\n",
      "   [ 0  0  0 20]\n",
      "   [20  0  0  0]\n",
      "   [ 0 20  0  0]\n",
      "   [ 0  0  0 20]\n",
      "   [ 0  0  0 20]\n",
      "   [ 0  0 20  0]\n",
      "   [ 0  0  0 20]\n",
      "   [ 0  0 20  0]\n",
      "   [ 0  0  0 20]]]\n",
      "\n",
      "\n",
      " [[[ 0  0 20  0]\n",
      "   [ 0  0  0 20]\n",
      "   [20  0  0  0]\n",
      "   [ 0 20  0  0]\n",
      "   [ 0  0  0 20]\n",
      "   [ 0  0  0 20]\n",
      "   [ 0  0 20  0]\n",
      "   [ 0 20  0  0]\n",
      "   [ 0  0 20  0]\n",
      "   [ 0  0 20  0]]\n",
      "\n",
      "  [[ 0  0 20  0]\n",
      "   [ 0  0  0 20]\n",
      "   [20  0  0  0]\n",
      "   [ 0 20  0  0]\n",
      "   [ 0  0  0 20]\n",
      "   [ 0  0  0 20]\n",
      "   [ 0  0 20  0]\n",
      "   [ 0 20  0  0]\n",
      "   [ 0  0 20  0]\n",
      "   [ 0  0 20  0]]\n",
      "\n",
      "  [[ 0  0 20  0]\n",
      "   [ 0  0  0 20]\n",
      "   [20  0  0  0]\n",
      "   [ 0 20  0  0]\n",
      "   [ 0  0  0 20]\n",
      "   [ 0  0  0 20]\n",
      "   [ 0  0 20  0]\n",
      "   [ 0 20  0  0]\n",
      "   [ 0  0 20  0]\n",
      "   [ 0  0 20  0]]]]\n",
      "edge\n",
      "[[0 0 0 0]\n",
      " [0 0 0 0]]\n",
      "filt\n",
      "[[False False False False]\n",
      " [False False False False]]\n",
      "seqs\n",
      "[[['T' 'G' 'C' ..., '' '' '']\n",
      "  ['T' 'G' 'C' ..., '' '' '']\n",
      "  ['T' 'G' 'C' ..., '' '' '']\n",
      "  ..., \n",
      "  ['T' 'G' 'C' ..., '' '' '']\n",
      "  ['T' 'G' 'C' ..., '' '' '']\n",
      "  ['T' 'G' 'C' ..., '' '' '']]\n",
      "\n",
      " [['T' 'G' 'C' ..., '' '' '']\n",
      "  ['T' 'G' 'C' ..., '' '' '']\n",
      "  ['T' 'G' 'C' ..., '' '' '']\n",
      "  ..., \n",
      "  ['T' 'G' 'C' ..., '' '' '']\n",
      "  ['T' 'G' 'C' ..., '' '' '']\n",
      "  ['T' 'G' 'C' ..., '' '' '']]]\n"
     ]
    }
   ],
   "source": [
    "with h5py.File(data2.database, 'r') as inh5:\n",
    "    print inh5.keys()\n",
    "    newset = set(inh5['seqs'].attrs['samples'])\n",
    "    print newset.difference(newset)\n",
    "    \n",
    "    catg = inh5['catgs'][:]\n",
    "    edges = inh5['edges'][:]\n",
    "    filters = inh5['filters'][:]\n",
    "    seqs = inh5['seqs'][:]\n",
    "    \n",
    "    print 'catg\\n', catg[[0, 100], 0:3, :10, :]\n",
    "    print 'edge\\n', edges[[0, 100],]\n",
    "    print 'filt\\n', filters[[0, 100], ]\n",
    "    print 'seqs\\n', seqs[[0, 100],]\n",
    "    \n",
    "    "
   ]
  },
  {
   "cell_type": "code",
   "execution_count": 6,
   "metadata": {
    "collapsed": false
   },
   "outputs": [
    {
     "name": "stdout",
     "output_type": "stream",
     "text": [
      "(200, 12, 300)\n",
      "[[['T' 'G' 'C' ..., '' '' '']\n",
      "  ['T' 'G' 'C' ..., '' '' '']\n",
      "  ['T' 'G' 'C' ..., '' '' '']\n",
      "  ..., \n",
      "  ['T' 'G' 'C' ..., '' '' '']\n",
      "  ['T' 'G' 'C' ..., '' '' '']\n",
      "  ['T' 'G' 'C' ..., '' '' '']]\n",
      "\n",
      " [['T' 'G' 'C' ..., '' '' '']\n",
      "  ['T' 'G' 'C' ..., '' '' '']\n",
      "  ['T' 'G' 'C' ..., '' '' '']\n",
      "  ..., \n",
      "  ['T' 'G' 'C' ..., '' '' '']\n",
      "  ['T' 'G' 'C' ..., '' '' '']\n",
      "  ['T' 'G' 'C' ..., '' '' '']]\n",
      "\n",
      " [['T' 'G' 'C' ..., '' '' '']\n",
      "  ['T' 'G' 'C' ..., '' '' '']\n",
      "  ['T' 'G' 'C' ..., '' '' '']\n",
      "  ..., \n",
      "  ['T' 'G' 'C' ..., '' '' '']\n",
      "  ['T' 'G' 'C' ..., '' '' '']\n",
      "  ['T' 'G' 'C' ..., '' '' '']]\n",
      "\n",
      " ..., \n",
      " [['T' 'G' 'C' ..., '' '' '']\n",
      "  ['T' 'G' 'C' ..., '' '' '']\n",
      "  ['T' 'G' 'C' ..., '' '' '']\n",
      "  ..., \n",
      "  ['T' 'G' 'C' ..., '' '' '']\n",
      "  ['T' 'G' 'C' ..., '' '' '']\n",
      "  ['T' 'G' 'C' ..., '' '' '']]\n",
      "\n",
      " [['T' 'G' 'C' ..., '' '' '']\n",
      "  ['T' 'G' 'C' ..., '' '' '']\n",
      "  ['T' 'G' 'C' ..., '' '' '']\n",
      "  ..., \n",
      "  ['T' 'G' 'C' ..., '' '' '']\n",
      "  ['T' 'G' 'C' ..., '' '' '']\n",
      "  ['T' 'G' 'C' ..., '' '' '']]\n",
      "\n",
      " [['T' 'G' 'C' ..., '' '' '']\n",
      "  ['T' 'G' 'C' ..., '' '' '']\n",
      "  ['T' 'G' 'C' ..., '' '' '']\n",
      "  ..., \n",
      "  ['T' 'G' 'C' ..., '' '' '']\n",
      "  ['T' 'G' 'C' ..., '' '' '']\n",
      "  ['T' 'G' 'C' ..., '' '' '']]]\n"
     ]
    }
   ],
   "source": [
    "print seqs.shape\n",
    "print seqs"
   ]
  },
  {
   "cell_type": "markdown",
   "metadata": {},
   "source": [
    "### superseq testing"
   ]
  },
  {
   "cell_type": "code",
   "execution_count": 11,
   "metadata": {
    "collapsed": false
   },
   "outputs": [],
   "source": [
    "import ipyrad as ip\n",
    "import numpy as np\n",
    "import h5py"
   ]
  },
  {
   "cell_type": "code",
   "execution_count": 5,
   "metadata": {
    "collapsed": false
   },
   "outputs": [
    {
     "name": "stdout",
     "output_type": "stream",
     "text": [
      "  loading Assembly: test_pairgbs [test_pairgbs/test_pairgbs.assembly]\n"
     ]
    }
   ],
   "source": [
    "#data1 = ip.load.load_assembly(\"cli/cli.assembly\")\n",
    "data1 = ip.load.load_assembly(\"test_pairgbs/test_pairgbs.assembly\")\n"
   ]
  },
  {
   "cell_type": "code",
   "execution_count": 6,
   "metadata": {
    "collapsed": false
   },
   "outputs": [
    {
     "data": {
      "text/plain": [
       "[u'catgs', u'edges', u'filters', u'seqs']"
      ]
     },
     "execution_count": 6,
     "metadata": {},
     "output_type": "execute_result"
    }
   ],
   "source": [
    "io5 = h5py.File(data1.database, 'r')\n",
    "io5.keys()"
   ]
  },
  {
   "cell_type": "code",
   "execution_count": 27,
   "metadata": {
    "collapsed": false
   },
   "outputs": [
    {
     "data": {
      "text/plain": [
       "array([0, 0, 0, 0, 0, 0, 0, 0, 0, 0, 0, 0, 0, 0, 0, 0, 0, 0, 0, 0, 0, 0, 0,\n",
       "       0, 0, 0, 0, 0, 0, 0, 0, 0, 0, 0, 0, 0, 0, 0, 0, 0, 0, 0, 0, 0, 0, 0,\n",
       "       0, 0, 0, 0, 0, 0, 0, 0, 0, 0, 0, 0, 0, 0, 0, 0, 0, 0, 0, 0, 0, 0, 0,\n",
       "       0, 0, 0, 0, 0, 0, 0, 0, 0, 0, 0, 0, 0, 0, 0, 0, 0, 0, 0, 0, 0, 0, 0,\n",
       "       0, 0, 0, 0, 0, 0, 0, 0, 0, 0, 0, 0, 0, 0, 0, 0, 0, 0, 0, 0, 0, 0, 0,\n",
       "       0, 0, 0, 0, 0, 0, 0, 0, 0, 0, 0, 0, 0, 0, 0, 0, 0, 0, 0, 0, 0, 0, 0,\n",
       "       0, 0, 0, 0, 0, 0, 0, 0, 0, 0, 0, 0, 0, 0, 0, 0, 0, 0, 0, 0, 0, 0, 0,\n",
       "       0, 0, 0, 0, 0, 0, 0, 0, 0, 0, 0, 0, 0, 0, 0, 0, 0, 0, 0, 0, 0, 0, 0,\n",
       "       0, 0, 0, 0, 0, 0, 0, 0, 0, 0, 0, 0, 0, 0, 0, 0])"
      ]
     },
     "execution_count": 27,
     "metadata": {},
     "output_type": "execute_result"
    }
   ],
   "source": [
    "io5['filters'][:].sum(axis=1)"
   ]
  },
  {
   "cell_type": "code",
   "execution_count": 32,
   "metadata": {
    "collapsed": false
   },
   "outputs": [],
   "source": [
    "seqs = io5[\"seqs\"][:100,]\n",
    "\n",
    "np.save(\"size1\", np.array([list(i) for i in seqs[0]]))\n",
    "np.save(\"size2\", seqs[0])"
   ]
  },
  {
   "cell_type": "code",
   "execution_count": 38,
   "metadata": {
    "collapsed": false
   },
   "outputs": [],
   "source": [
    "np.save('size1', np.array(100*[np.array([list(i) for i in seqs[0]])]))\n",
    "np.save('size2', np.array(100*[seqs[0]]))"
   ]
  },
  {
   "cell_type": "code",
   "execution_count": 67,
   "metadata": {
    "collapsed": false
   },
   "outputs": [
    {
     "name": "stdout",
     "output_type": "stream",
     "text": [
      "(5,)\n",
      "(5,)\n"
     ]
    }
   ],
   "source": [
    "fill = np.zeros((12, 100), dtype=\"|S1\")\n",
    "seqs = np.array([list(\"apple\"), list(\"banan\")])\n",
    "fill[0, :seqs[0].shape[0]] = seqs[0]\n",
    "\n",
    "for seq in seqs:\n",
    "    print seq.shape"
   ]
  },
  {
   "cell_type": "code",
   "execution_count": 15,
   "metadata": {
    "collapsed": false
   },
   "outputs": [
    {
     "name": "stdout",
     "output_type": "stream",
     "text": [
      "[ 'TGCAGGGTCGATCTTGGGACCCACTCTCGGGGATCCCTAGGCTAGACCATAGGGTTATCCGCACTCTGTCCAGTACAAGTGCATCCACGCACGCnnnnTGCAGGGCGATTACACTCCCTTATTTTCTTTAGGKACGAATCTACCCGGGCCCGGTTGATCGAGGATCGAACAAGCAGCCACAACTACGGCCAC'\n",
      " 'TGCAGGGTCGATCTTGGGACCCACTCTCGGGGATCCCTAGGCTAGACCATAGGGTTATCCGCACTCTGTCCAGTACAAGTGCATCCACGCACGCnnnnTGCAGGGCGATTACACTCCCTTATTTTCTTTAGGGACGAATCTACCCGGGCCCGGTTGATCGAGGATCGAACAAGCAGCCACAACTACGGCCAC'\n",
      " 'TGCAGGGTCGATCTTGGGACCCACTCTCGGGGATCCCTAGGCTAGACCATAGGGTTATCCGCACTCTGTCCAGTACAAGTGCATCCACGCACGCnnnnTGCAGGGCGATTACACTCCCTTATTTTCTTTAGGGACGAATCTACCCGGGCCCGGTTGATCGAGGATCGAACAAGCAGCCACAACTACGGCCAC'\n",
      " 'TGCAGGGTCGATCTTGGGACCCACTCTCGGGGATCCCTAGGCTAGACCATAGGGTTATCCGCACTCTGTCCAGTACAAGTGCATCCACGCACGCnnnnTGCAGGGCGATTACACTCCCTTATTTTCTTTAGGGACGAATCTACCCGGGCCCGGTTGATCGAGGATCGAACAAGCAGCCACAACTACGGCCAC'\n",
      " 'TGCAGGGTCGATCTTGGGACCCACTCTCGGGGATCCCTAGGCTAGACCATAGGGTTATCCGCACTCTGTCCAGTACAAGTGCATCCACGCACGCnnnnTGCAGGGCGATTACACTCCCTTATTTTCTTTAGGGACGAATCTACCCGGGCCCGGTTGATCGAGGATCGAACAAGCAGCCACAACTACGGCCAC'\n",
      " 'TGCAGGGTCGATCTTGGGACCCACTCTCGGGGATCCCTAGGCTAGACCATAGGGTTATCCGCACTCTGTCCAGTACAAGTGCATCCACGCACGCnnnnTGCAGGGCGATTACACTCCCTTATTTTCTTTAGGGACGAATCTACCCGGGCCCGGTTGATCGAGGATCGAACAAGCAGCCACAACTACGGCCAC'\n",
      " 'TGCAGGGTCGATCTTGGGACCCACTCTCGGGGATCCCTAGGCTAGACCATAGGGTTATCCGCACTCTGTCCAGTACAAGTGCATCCACGCACGCnnnnTGCAGGGCGATTACACTCCCTTATTTTCTTTAGGGACGAATCTACCCGGGCCCGGTTGATCGAGGATCGAACAAGCAGCCACAACTACGGCCAC'\n",
      " 'TGCAGGGTCGATCTTGGGACCCACTCTCGGGGATCCCTAGGCTAGACCATAGGGTTATCCGCACTCTGTCCAGTACAAGTGCATCCACGCACGCnnnnTGCAGGGCGATTACACTCCCTTATTTTCTTTAGGGACGAATCTACCCGGGCCCGGTTGATCGAGGATCGAACAAGCAGCCACAACTACGGCCAC'\n",
      " 'TGCAGGGTCGATCTTGGGACCCACTCTCGGGGAYCCCTAGGCTAGACCATAGGGTTATCCGCACTCTGTCCAGTACAAGTGCATCCACGCACGCnnnnTGCAGGGCGATTACACTCCCTTATTTTCTTTAGGGACGAATCTACCCGCGCCCGGTTGATCGAGGATCGAACAAGCAGCCACAACTACGGCCAC'\n",
      " 'TGCAGGGTCGATCTTGGGACCCACTCTCGGGGATCCCTAGGCTAGACCATAGGGTTATCCGCACTCTGTCCAGTACAAGTGCATCCACGCACGCnnnnTGCAGGGCGATTACACTCCCTTATTTTCTTTAGGGACGAATCTACCCGCGCCCGGTTGATCGAGGATCGAACAAGCAGCCACAACTACGGCCAC'\n",
      " 'TGCAGGGTCGATCTTGGGACCCACTCYCGGGGATCCCTAGGCTAGACCATAGGGTTATCCGCACTCTGTCCAGTACAAGTGCATCCACGCACGCnnnnTGCAGGGCGATTACACTCCCTTAKTTTCTTTAGGGACGAATCTACCCGCGCCCGGTTGATCGAGGATCGAACAAGCAGCCACAACTACGGCCRC'\n",
      " 'TGCAGGGTCGATCTTGGTACCCACTCTCGGGGATCCCTAGGCTAGACCATAGGGTTATCCGCACTCTGTCCAGTACAAGTGCATCCACGCACGCnnnnTGCAGGGCGATTACACTCCCTTATTTTCTTTAGGGACGAATCTACCCGCGCCCGGTTGATCGAGSATCGAACAAGCAGCCACAACTACGGCCAC']\n"
     ]
    }
   ],
   "source": [
    "seqs = io5['seqs'][:]\n",
    "print np.array(seqs[0])"
   ]
  },
  {
   "cell_type": "code",
   "execution_count": 12,
   "metadata": {
    "collapsed": false
   },
   "outputs": [
    {
     "name": "stdout",
     "output_type": "stream",
     "text": [
      "[0, 1, 2]\n"
     ]
    }
   ],
   "source": [
    "x = range(5)\n",
    "x.remove(3)\n",
    "x.remove(4)\n",
    "print x"
   ]
  },
  {
   "cell_type": "code",
   "execution_count": 6,
   "metadata": {
    "collapsed": false
   },
   "outputs": [
    {
     "data": {
      "text/plain": [
       "{'1B_0',\n",
       " '1C_0',\n",
       " '1D_0',\n",
       " '2E_0',\n",
       " '2F_0',\n",
       " '2G_0',\n",
       " '2H_0',\n",
       " '3I_0',\n",
       " '3J_0',\n",
       " '3K_0',\n",
       " '3L_0'}"
      ]
     },
     "execution_count": 6,
     "metadata": {},
     "output_type": "execute_result"
    }
   ],
   "source": [
    "set(data1.samples.keys()).difference(set([\"1A_0\"]))"
   ]
  },
  {
   "cell_type": "code",
   "execution_count": 20,
   "metadata": {
    "collapsed": false
   },
   "outputs": [
    {
     "ename": "ValueError",
     "evalue": "'2H_1' is not in list",
     "output_type": "error",
     "traceback": [
      "\u001b[1;31m---------------------------------------------------------------------------\u001b[0m",
      "\u001b[1;31mValueError\u001b[0m                                Traceback (most recent call last)",
      "\u001b[1;32m<ipython-input-20-73998aa9e10e>\u001b[0m in \u001b[0;36m<module>\u001b[1;34m()\u001b[0m\n\u001b[1;32m----> 1\u001b[1;33m \u001b[0mdata1\u001b[0m\u001b[1;33m.\u001b[0m\u001b[0msamples\u001b[0m\u001b[1;33m.\u001b[0m\u001b[0mkeys\u001b[0m\u001b[1;33m(\u001b[0m\u001b[1;33m)\u001b[0m\u001b[1;33m.\u001b[0m\u001b[0mindex\u001b[0m\u001b[1;33m(\u001b[0m\u001b[1;34m\"2H_1\"\u001b[0m\u001b[1;33m)\u001b[0m\u001b[1;33m\u001b[0m\u001b[0m\n\u001b[0m",
      "\u001b[1;31mValueError\u001b[0m: '2H_1' is not in list"
     ]
    }
   ],
   "source": [
    "data1.samples.keys().index(\"2H_1\")"
   ]
  }
 ],
 "metadata": {
  "kernelspec": {
   "display_name": "Python 2",
   "language": "python",
   "name": "python2"
  },
  "language_info": {
   "codemirror_mode": {
    "name": "ipython",
    "version": 2
   },
   "file_extension": ".py",
   "mimetype": "text/x-python",
   "name": "python",
   "nbconvert_exporter": "python",
   "pygments_lexer": "ipython2",
   "version": "2.7.11"
  }
 },
 "nbformat": 4,
 "nbformat_minor": 0
}
