{
 "cells": [
  {
   "cell_type": "markdown",
   "metadata": {},
   "source": [
    "## Example notebook: Structure with pop assignments\n",
    "\n",
    "This notebook shows how to use the `ipyrad.analysis` toolkit to generate structure input files that use population information. "
   ]
  },
  {
   "cell_type": "markdown",
   "metadata": {},
   "source": [
    "#### Required software"
   ]
  },
  {
   "cell_type": "code",
   "execution_count": 1,
   "metadata": {
    "collapsed": true
   },
   "outputs": [],
   "source": [
    "# conda install ipyrad -c ipyrad\n",
    "# conda install structure clumpp -c ipyrad\n",
    "# conda install toytree -c eaton-lab"
   ]
  },
  {
   "cell_type": "code",
   "execution_count": 2,
   "metadata": {
    "collapsed": true
   },
   "outputs": [],
   "source": [
    "import ipyrad.analysis as ipa\n",
    "import toyplot"
   ]
  },
  {
   "cell_type": "markdown",
   "metadata": {},
   "source": [
    "### Create a structure analysis object\n",
    "If you include a 'mapfile' then we will use locus information to subsample just a single SNP from each locus so that the resulting data file will meet the expectations of structure that SNPs are \"unlinked\". If you create multiple replicates files using different random seeds then different SNPs will be selected in each rep. "
   ]
  },
  {
   "cell_type": "code",
   "execution_count": 3,
   "metadata": {
    "collapsed": true
   },
   "outputs": [],
   "source": [
    "s = ipa.structure(\n",
    "        name=\"test\", \n",
    "        workdir=\"analysis-structure\",\n",
    "        data=\"analysis-ipyrad/ped_min10_outfiles/ped_min10.str\",\n",
    "        mapfile=\"analysis-ipyrad/ped_min10_outfiles/ped_min10.snps.map\",\n",
    "    )"
   ]
  },
  {
   "cell_type": "markdown",
   "metadata": {},
   "source": [
    "#### Set params for the structure analysis\n",
    "These values are used to generate the \"mainparams\" and \"extraparams\" files for structure. "
   ]
  },
  {
   "cell_type": "code",
   "execution_count": 4,
   "metadata": {},
   "outputs": [
    {
     "data": {
      "text/plain": [
       "burnin             1000                \n",
       "extracols          0                   \n",
       "label              1                   \n",
       "locdata            0                   \n",
       "mapdistances       0                   \n",
       "markernames        0                   \n",
       "markovphase        0                   \n",
       "missing            -9                  \n",
       "notambiguous       -999                \n",
       "numreps            5000                \n",
       "onerowperind       0                   \n",
       "phased             0                   \n",
       "phaseinfo          0                   \n",
       "phenotype          0                   \n",
       "ploidy             2                   \n",
       "popdata            1                   \n",
       "popflag            1                   \n",
       "recessivealleles   0                   "
      ]
     },
     "execution_count": 4,
     "metadata": {},
     "output_type": "execute_result"
    }
   ],
   "source": [
    "## set run parameters (you probably want to run >10X this long)\n",
    "s.mainparams.burnin = 1000\n",
    "s.mainparams.numreps = 5000\n",
    "\n",
    "## tell structure to expect popdata & popflag\n",
    "s.mainparams.popdata = 1\n",
    "s.mainparams.popflag = 1\n",
    "\n",
    "## print all mainparams\n",
    "s.mainparams"
   ]
  },
  {
   "cell_type": "code",
   "execution_count": 5,
   "metadata": {},
   "outputs": [
    {
     "data": {
      "text/plain": [
       "admburnin           500                 \n",
       "alpha               1.0                 \n",
       "alphamax            10.0                \n",
       "alphapriora         1.0                 \n",
       "alphapriorb         2.0                 \n",
       "alphapropsd         0.025               \n",
       "ancestdist          0                   \n",
       "ancestpint          0.9                 \n",
       "computeprob         1                   \n",
       "echodata            0                   \n",
       "fpriormean          0.01                \n",
       "fpriorsd            0.05                \n",
       "freqscorr           1                   \n",
       "gensback            2                   \n",
       "inferalpha          1                   \n",
       "inferlambda         0                   \n",
       "intermedsave        0                   \n",
       "lambda_             1.0                 \n",
       "linkage             0                   \n",
       "locispop            0                   \n",
       "locprior            0                   \n",
       "locpriorinit        1.0                 \n",
       "log10rmax           1.0                 \n",
       "log10rmin           -4.0                \n",
       "log10rpropsd        0.1                 \n",
       "log10rstart         -2.0                \n",
       "maxlocprior         20.0                \n",
       "metrofreq           10                  \n",
       "migrprior           0.01                \n",
       "noadmix             0                   \n",
       "numboxes            1000                \n",
       "onefst              0                   \n",
       "pfrompopflagonly    0                   \n",
       "popalphas           0                   \n",
       "popspecificlambda   0                   \n",
       "printlambda         1                   \n",
       "printlikes          0                   \n",
       "printnet            1                   \n",
       "printqhat           0                   \n",
       "printqsum           1                   \n",
       "randomize           0                   \n",
       "reporthitrate       0                   \n",
       "seed                12345               \n",
       "sitebysite          0                   \n",
       "startatpopinfo      0                   \n",
       "unifprioralpha      1                   \n",
       "updatefreq          10000               \n",
       "usepopinfo          1                   "
      ]
     },
     "execution_count": 5,
     "metadata": {},
     "output_type": "execute_result"
    }
   ],
   "source": [
    "## tell structure to use popinfo\n",
    "s.extraparams.usepopinfo = 1\n",
    "\n",
    "## print all other extraparams\n",
    "s.extraparams"
   ]
  },
  {
   "cell_type": "markdown",
   "metadata": {},
   "source": [
    "#### By default the 'header' of the str file is empty"
   ]
  },
  {
   "cell_type": "code",
   "execution_count": 6,
   "metadata": {},
   "outputs": [
    {
     "data": {
      "text/html": [
       "<div>\n",
       "<table border=\"1\" class=\"dataframe\">\n",
       "  <thead>\n",
       "    <tr style=\"text-align: right;\">\n",
       "      <th></th>\n",
       "      <th>labels</th>\n",
       "      <th>popdata</th>\n",
       "      <th>popflag</th>\n",
       "      <th>locdata</th>\n",
       "      <th>phenotype</th>\n",
       "    </tr>\n",
       "  </thead>\n",
       "  <tbody>\n",
       "    <tr>\n",
       "      <th>0</th>\n",
       "      <td>29154_superba</td>\n",
       "      <td></td>\n",
       "      <td></td>\n",
       "      <td></td>\n",
       "      <td></td>\n",
       "    </tr>\n",
       "    <tr>\n",
       "      <th>1</th>\n",
       "      <td>30556_thamno</td>\n",
       "      <td></td>\n",
       "      <td></td>\n",
       "      <td></td>\n",
       "      <td></td>\n",
       "    </tr>\n",
       "    <tr>\n",
       "      <th>2</th>\n",
       "      <td>30686_cyathophylla</td>\n",
       "      <td></td>\n",
       "      <td></td>\n",
       "      <td></td>\n",
       "      <td></td>\n",
       "    </tr>\n",
       "    <tr>\n",
       "      <th>3</th>\n",
       "      <td>32082_przewalskii</td>\n",
       "      <td></td>\n",
       "      <td></td>\n",
       "      <td></td>\n",
       "      <td></td>\n",
       "    </tr>\n",
       "    <tr>\n",
       "      <th>4</th>\n",
       "      <td>33413_thamno</td>\n",
       "      <td></td>\n",
       "      <td></td>\n",
       "      <td></td>\n",
       "      <td></td>\n",
       "    </tr>\n",
       "    <tr>\n",
       "      <th>5</th>\n",
       "      <td>33588_przewalskii</td>\n",
       "      <td></td>\n",
       "      <td></td>\n",
       "      <td></td>\n",
       "      <td></td>\n",
       "    </tr>\n",
       "    <tr>\n",
       "      <th>6</th>\n",
       "      <td>35236_rex</td>\n",
       "      <td></td>\n",
       "      <td></td>\n",
       "      <td></td>\n",
       "      <td></td>\n",
       "    </tr>\n",
       "    <tr>\n",
       "      <th>7</th>\n",
       "      <td>35855_rex</td>\n",
       "      <td></td>\n",
       "      <td></td>\n",
       "      <td></td>\n",
       "      <td></td>\n",
       "    </tr>\n",
       "    <tr>\n",
       "      <th>8</th>\n",
       "      <td>38362_rex</td>\n",
       "      <td></td>\n",
       "      <td></td>\n",
       "      <td></td>\n",
       "      <td></td>\n",
       "    </tr>\n",
       "    <tr>\n",
       "      <th>9</th>\n",
       "      <td>39618_rex</td>\n",
       "      <td></td>\n",
       "      <td></td>\n",
       "      <td></td>\n",
       "      <td></td>\n",
       "    </tr>\n",
       "    <tr>\n",
       "      <th>10</th>\n",
       "      <td>40578_rex</td>\n",
       "      <td></td>\n",
       "      <td></td>\n",
       "      <td></td>\n",
       "      <td></td>\n",
       "    </tr>\n",
       "    <tr>\n",
       "      <th>11</th>\n",
       "      <td>41478_cyathophylloides</td>\n",
       "      <td></td>\n",
       "      <td></td>\n",
       "      <td></td>\n",
       "      <td></td>\n",
       "    </tr>\n",
       "    <tr>\n",
       "      <th>12</th>\n",
       "      <td>41954_cyathophylloides</td>\n",
       "      <td></td>\n",
       "      <td></td>\n",
       "      <td></td>\n",
       "      <td></td>\n",
       "    </tr>\n",
       "  </tbody>\n",
       "</table>\n",
       "</div>"
      ],
      "text/plain": [
       "                    labels popdata popflag locdata phenotype\n",
       "0            29154_superba                                  \n",
       "1             30556_thamno                                  \n",
       "2       30686_cyathophylla                                  \n",
       "3        32082_przewalskii                                  \n",
       "4             33413_thamno                                  \n",
       "5        33588_przewalskii                                  \n",
       "6                35236_rex                                  \n",
       "7                35855_rex                                  \n",
       "8                38362_rex                                  \n",
       "9                39618_rex                                  \n",
       "10               40578_rex                                  \n",
       "11  41478_cyathophylloides                                  \n",
       "12  41954_cyathophylloides                                  "
      ]
     },
     "execution_count": 6,
     "metadata": {},
     "output_type": "execute_result"
    }
   ],
   "source": [
    "s.header"
   ]
  },
  {
   "cell_type": "markdown",
   "metadata": {},
   "source": [
    "#### You can fill it in by filling the header attribute lists\n",
    "`popdata` is the *a priori* population assignment of an individual to a population. Assignments should be non-zero integers (e.g., 1, 2, 3). Zero is reserved to mean that there is no *a priori* assignment. `popflag` indicates whether or not to use the population assignment in the analysis (1) or to leave it to be inferred (0). So in the example below seven samples have assigned populations (popflag=1), and six samples will have their population assignments inferred (popflag=0). The popdata information will only be used for the seven individuals with assigned pops. "
   ]
  },
  {
   "cell_type": "code",
   "execution_count": 7,
   "metadata": {},
   "outputs": [
    {
     "data": {
      "text/html": [
       "<div>\n",
       "<table border=\"1\" class=\"dataframe\">\n",
       "  <thead>\n",
       "    <tr style=\"text-align: right;\">\n",
       "      <th></th>\n",
       "      <th>labels</th>\n",
       "      <th>popdata</th>\n",
       "      <th>popflag</th>\n",
       "      <th>locdata</th>\n",
       "      <th>phenotype</th>\n",
       "    </tr>\n",
       "  </thead>\n",
       "  <tbody>\n",
       "    <tr>\n",
       "      <th>0</th>\n",
       "      <td>29154_superba</td>\n",
       "      <td>1</td>\n",
       "      <td>1</td>\n",
       "      <td></td>\n",
       "      <td></td>\n",
       "    </tr>\n",
       "    <tr>\n",
       "      <th>1</th>\n",
       "      <td>30556_thamno</td>\n",
       "      <td>3</td>\n",
       "      <td>1</td>\n",
       "      <td></td>\n",
       "      <td></td>\n",
       "    </tr>\n",
       "    <tr>\n",
       "      <th>2</th>\n",
       "      <td>30686_cyathophylla</td>\n",
       "      <td>1</td>\n",
       "      <td>0</td>\n",
       "      <td></td>\n",
       "      <td></td>\n",
       "    </tr>\n",
       "    <tr>\n",
       "      <th>3</th>\n",
       "      <td>32082_przewalskii</td>\n",
       "      <td>2</td>\n",
       "      <td>0</td>\n",
       "      <td></td>\n",
       "      <td></td>\n",
       "    </tr>\n",
       "    <tr>\n",
       "      <th>4</th>\n",
       "      <td>33413_thamno</td>\n",
       "      <td>3</td>\n",
       "      <td>0</td>\n",
       "      <td></td>\n",
       "      <td></td>\n",
       "    </tr>\n",
       "    <tr>\n",
       "      <th>5</th>\n",
       "      <td>33588_przewalskii</td>\n",
       "      <td>2</td>\n",
       "      <td>0</td>\n",
       "      <td></td>\n",
       "      <td></td>\n",
       "    </tr>\n",
       "    <tr>\n",
       "      <th>6</th>\n",
       "      <td>35236_rex</td>\n",
       "      <td>3</td>\n",
       "      <td>0</td>\n",
       "      <td></td>\n",
       "      <td></td>\n",
       "    </tr>\n",
       "    <tr>\n",
       "      <th>7</th>\n",
       "      <td>35855_rex</td>\n",
       "      <td>3</td>\n",
       "      <td>0</td>\n",
       "      <td></td>\n",
       "      <td></td>\n",
       "    </tr>\n",
       "    <tr>\n",
       "      <th>8</th>\n",
       "      <td>38362_rex</td>\n",
       "      <td>3</td>\n",
       "      <td>1</td>\n",
       "      <td></td>\n",
       "      <td></td>\n",
       "    </tr>\n",
       "    <tr>\n",
       "      <th>9</th>\n",
       "      <td>39618_rex</td>\n",
       "      <td>3</td>\n",
       "      <td>1</td>\n",
       "      <td></td>\n",
       "      <td></td>\n",
       "    </tr>\n",
       "    <tr>\n",
       "      <th>10</th>\n",
       "      <td>40578_rex</td>\n",
       "      <td>3</td>\n",
       "      <td>1</td>\n",
       "      <td></td>\n",
       "      <td></td>\n",
       "    </tr>\n",
       "    <tr>\n",
       "      <th>11</th>\n",
       "      <td>41478_cyathophylloides</td>\n",
       "      <td>1</td>\n",
       "      <td>1</td>\n",
       "      <td></td>\n",
       "      <td></td>\n",
       "    </tr>\n",
       "    <tr>\n",
       "      <th>12</th>\n",
       "      <td>41954_cyathophylloides</td>\n",
       "      <td>1</td>\n",
       "      <td>1</td>\n",
       "      <td></td>\n",
       "      <td></td>\n",
       "    </tr>\n",
       "  </tbody>\n",
       "</table>\n",
       "</div>"
      ],
      "text/plain": [
       "                    labels popdata popflag locdata phenotype\n",
       "0            29154_superba       1       1                  \n",
       "1             30556_thamno       3       1                  \n",
       "2       30686_cyathophylla       1       0                  \n",
       "3        32082_przewalskii       2       0                  \n",
       "4             33413_thamno       3       0                  \n",
       "5        33588_przewalskii       2       0                  \n",
       "6                35236_rex       3       0                  \n",
       "7                35855_rex       3       0                  \n",
       "8                38362_rex       3       1                  \n",
       "9                39618_rex       3       1                  \n",
       "10               40578_rex       3       1                  \n",
       "11  41478_cyathophylloides       1       1                  \n",
       "12  41954_cyathophylloides       1       1                  "
      ]
     },
     "execution_count": 7,
     "metadata": {},
     "output_type": "execute_result"
    }
   ],
   "source": [
    "## assign popdata and popflag by entering a list of values\n",
    "s.popdata = [1, 3, 1, 2, 3, 2, 3, 3, 3, 3, 3, 1, 1]\n",
    "s.popflag = [1, 1, 0, 0, 0, 0, 0, 0, 1, 1, 1, 1, 1]\n",
    "\n",
    "## print the header information\n",
    "s.header"
   ]
  },
  {
   "cell_type": "markdown",
   "metadata": {},
   "source": [
    "### Write the input files and run STRUCTURE\n",
    "This will write the `.str` file (and subsample SNPs if you included a mapfile) with the header information included, and it will write a mainparams and extraparams file with the parameter settings that we entered above. "
   ]
  },
  {
   "cell_type": "code",
   "execution_count": 8,
   "metadata": {},
   "outputs": [
    {
     "data": {
      "text/plain": [
       "('/home/deren/Documents/ipyrad/tests/analysis-structure/tmp-test-3-1.mainparams.txt',\n",
       " '/home/deren/Documents/ipyrad/tests/analysis-structure/tmp-test-3-1.extraparams.txt',\n",
       " '/home/deren/Documents/ipyrad/tests/analysis-structure/tmp-test-3-1.strfile.txt')"
      ]
     },
     "execution_count": 8,
     "metadata": {},
     "output_type": "execute_result"
    }
   ],
   "source": [
    "## writes three input files and then call structure yourself\n",
    "s.write_structure_files(kpop=3)"
   ]
  },
  {
   "cell_type": "markdown",
   "metadata": {},
   "source": [
    "### Or, submit jobs directly to the cluster\n",
    "If you start an ipcluster instance (see other tutorials) you can submit structure jobs directly to the cluster and easily collect the results, like below. "
   ]
  },
  {
   "cell_type": "code",
   "execution_count": 9,
   "metadata": {},
   "outputs": [
    {
     "name": "stdout",
     "output_type": "stream",
     "text": [
      "connected to 40 cores\n"
     ]
    }
   ],
   "source": [
    "## connect to a running ipcluster instance\n",
    "import ipyparallel as ipp\n",
    "ipyclient = ipp.Client()\n",
    "print \"connected to {} cores\".format(len(ipyclient))"
   ]
  },
  {
   "cell_type": "code",
   "execution_count": 10,
   "metadata": {},
   "outputs": [
    {
     "name": "stderr",
     "output_type": "stream",
     "text": [
      "submitted 3 structure jobs [test-K-3]\n"
     ]
    }
   ],
   "source": [
    "## submit job replicates to ipyclient\n",
    "s.run(kpop=3, nreps=3, ipyclient=ipyclient)"
   ]
  },
  {
   "cell_type": "code",
   "execution_count": 11,
   "metadata": {},
   "outputs": [
    {
     "data": {
      "text/plain": [
       "True"
      ]
     },
     "execution_count": 11,
     "metadata": {},
     "output_type": "execute_result"
    }
   ],
   "source": [
    "## wait for jobs to finish\n",
    "ipyclient.wait()"
   ]
  },
  {
   "cell_type": "markdown",
   "metadata": {},
   "source": [
    "\n",
    "### Collect results and plot"
   ]
  },
  {
   "cell_type": "code",
   "execution_count": 12,
   "metadata": {},
   "outputs": [
    {
     "name": "stderr",
     "output_type": "stream",
     "text": [
      "mean scores across 3 replicates.\n"
     ]
    }
   ],
   "source": [
    "## get table of summarized results\n",
    "table = s.get_clumpp_table(3)"
   ]
  },
  {
   "cell_type": "code",
   "execution_count": 13,
   "metadata": {
    "collapsed": true
   },
   "outputs": [],
   "source": [
    "## reorder table by membership in groups\n",
    "table.sort_values(by=[0, 1, 2], inplace=True)"
   ]
  },
  {
   "cell_type": "code",
   "execution_count": 14,
   "metadata": {},
   "outputs": [
    {
     "data": {
      "text/html": [
       "<div align=\"center\" class=\"toyplot\" id=\"tb03b2f7c67c84fb5aa393b8565449b65\"><svg class=\"toyplot-canvas-Canvas\" height=\"250.0px\" id=\"t394121b7b372461f8c15a4d4c053c538\" preserveAspectRatio=\"xMidYMid meet\" style=\"background-color:transparent;fill:rgb(16.1%,15.3%,14.1%);fill-opacity:1.0;font-family:Helvetica;font-size:12px;opacity:1.0;stroke:rgb(16.1%,15.3%,14.1%);stroke-opacity:1.0;stroke-width:1.0\" viewBox=\"0 0 500.0 250.0\" width=\"500.0px\" xmlns=\"http://www.w3.org/2000/svg\" xmlns:toyplot=\"http://www.sandia.gov/toyplot\" xmlns:xlink=\"http://www.w3.org/1999/xlink\"><g class=\"toyplot-coordinates-Cartesian\" id=\"ta031f40b8cce44fab4b3fb898a8f3bcb\"><clipPath id=\"t78a99a9a59f24c04adef4cfda4626046\"><rect height=\"107.5\" width=\"445.0\" x=\"15.0\" y=\"15.0\"></rect></clipPath><g clip-path=\"url(#t78a99a9a59f24c04adef4cfda4626046)\"><g class=\"toyplot-mark-BarMagnitudes\" id=\"tcb8fb1aebb5c462a9670aa5de979fc75\" style=\"stroke:rgb(100%,100%,100%);stroke-opacity:1.0;stroke-width:1.0\"><g class=\"toyplot-Series\"><rect class=\"toyplot-Datum\" height=\"0.0\" style=\"fill:rgb(40%,76.1%,64.7%);fill-opacity:1.0;opacity:1.0;stroke:rgb(100%,100%,100%);stroke-opacity:1.0;stroke-width:1.0\" width=\"32.692307692307693\" x=\"25.0\" y=\"112.5\"></rect><rect class=\"toyplot-Datum\" height=\"0.0\" style=\"fill:rgb(40%,76.1%,64.7%);fill-opacity:1.0;opacity:1.0;stroke:rgb(100%,100%,100%);stroke-opacity:1.0;stroke-width:1.0\" width=\"32.692307692307693\" x=\"57.692307692307693\" y=\"112.5\"></rect><rect class=\"toyplot-Datum\" height=\"0.0\" style=\"fill:rgb(40%,76.1%,64.7%);fill-opacity:1.0;opacity:1.0;stroke:rgb(100%,100%,100%);stroke-opacity:1.0;stroke-width:1.0\" width=\"32.692307692307693\" x=\"90.384615384615387\" y=\"112.5\"></rect><rect class=\"toyplot-Datum\" height=\"0.0\" style=\"fill:rgb(40%,76.1%,64.7%);fill-opacity:1.0;opacity:1.0;stroke:rgb(100%,100%,100%);stroke-opacity:1.0;stroke-width:1.0\" width=\"32.692307692307693\" x=\"123.07692307692308\" y=\"112.5\"></rect><rect class=\"toyplot-Datum\" height=\"0.0\" style=\"fill:rgb(40%,76.1%,64.7%);fill-opacity:1.0;opacity:1.0;stroke:rgb(100%,100%,100%);stroke-opacity:1.0;stroke-width:1.0\" width=\"32.692307692307708\" x=\"155.76923076923077\" y=\"112.5\"></rect><rect class=\"toyplot-Datum\" height=\"0.0\" style=\"fill:rgb(40%,76.1%,64.7%);fill-opacity:1.0;opacity:1.0;stroke:rgb(100%,100%,100%);stroke-opacity:1.0;stroke-width:1.0\" width=\"32.692307692307679\" x=\"188.46153846153848\" y=\"112.5\"></rect><rect class=\"toyplot-Datum\" height=\"0.0\" style=\"fill:rgb(40%,76.1%,64.7%);fill-opacity:1.0;opacity:1.0;stroke:rgb(100%,100%,100%);stroke-opacity:1.0;stroke-width:1.0\" width=\"32.692307692307679\" x=\"221.15384615384616\" y=\"112.5\"></rect><rect class=\"toyplot-Datum\" height=\"0.0\" style=\"fill:rgb(40%,76.1%,64.7%);fill-opacity:1.0;opacity:1.0;stroke:rgb(100%,100%,100%);stroke-opacity:1.0;stroke-width:1.0\" width=\"32.692307692307764\" x=\"253.84615384615384\" y=\"112.5\"></rect><rect class=\"toyplot-Datum\" height=\"0.0\" style=\"fill:rgb(40%,76.1%,64.7%);fill-opacity:1.0;opacity:1.0;stroke:rgb(100%,100%,100%);stroke-opacity:1.0;stroke-width:1.0\" width=\"32.692307692307622\" x=\"286.5384615384616\" y=\"112.5\"></rect><rect class=\"toyplot-Datum\" height=\"87.5\" style=\"fill:rgb(40%,76.1%,64.7%);fill-opacity:1.0;opacity:1.0;stroke:rgb(100%,100%,100%);stroke-opacity:1.0;stroke-width:1.0\" width=\"32.692307692307736\" x=\"319.23076923076923\" y=\"25.0\"></rect><rect class=\"toyplot-Datum\" height=\"87.5\" style=\"fill:rgb(40%,76.1%,64.7%);fill-opacity:1.0;opacity:1.0;stroke:rgb(100%,100%,100%);stroke-opacity:1.0;stroke-width:1.0\" width=\"32.692307692307679\" x=\"351.92307692307696\" y=\"25.0\"></rect><rect class=\"toyplot-Datum\" height=\"87.5\" style=\"fill:rgb(40%,76.1%,64.7%);fill-opacity:1.0;opacity:1.0;stroke:rgb(100%,100%,100%);stroke-opacity:1.0;stroke-width:1.0\" width=\"32.692307692307679\" x=\"384.61538461538464\" y=\"25.0\"></rect><rect class=\"toyplot-Datum\" height=\"87.5\" style=\"fill:rgb(40%,76.1%,64.7%);fill-opacity:1.0;opacity:1.0;stroke:rgb(100%,100%,100%);stroke-opacity:1.0;stroke-width:1.0\" width=\"32.692307692307679\" x=\"417.30769230769232\" y=\"25.0\"></rect></g><g class=\"toyplot-Series\"><rect class=\"toyplot-Datum\" height=\"0.0\" style=\"fill:rgb(98.8%,55.3%,38.4%);fill-opacity:1.0;opacity:1.0;stroke:rgb(100%,100%,100%);stroke-opacity:1.0;stroke-width:1.0\" width=\"32.692307692307693\" x=\"25.0\" y=\"112.5\"></rect><rect class=\"toyplot-Datum\" height=\"0.0\" style=\"fill:rgb(98.8%,55.3%,38.4%);fill-opacity:1.0;opacity:1.0;stroke:rgb(100%,100%,100%);stroke-opacity:1.0;stroke-width:1.0\" width=\"32.692307692307693\" x=\"57.692307692307693\" y=\"112.5\"></rect><rect class=\"toyplot-Datum\" height=\"0.0\" style=\"fill:rgb(98.8%,55.3%,38.4%);fill-opacity:1.0;opacity:1.0;stroke:rgb(100%,100%,100%);stroke-opacity:1.0;stroke-width:1.0\" width=\"32.692307692307693\" x=\"90.384615384615387\" y=\"112.5\"></rect><rect class=\"toyplot-Datum\" height=\"0.0\" style=\"fill:rgb(98.8%,55.3%,38.4%);fill-opacity:1.0;opacity:1.0;stroke:rgb(100%,100%,100%);stroke-opacity:1.0;stroke-width:1.0\" width=\"32.692307692307693\" x=\"123.07692307692308\" y=\"112.5\"></rect><rect class=\"toyplot-Datum\" height=\"0.0\" style=\"fill:rgb(98.8%,55.3%,38.4%);fill-opacity:1.0;opacity:1.0;stroke:rgb(100%,100%,100%);stroke-opacity:1.0;stroke-width:1.0\" width=\"32.692307692307708\" x=\"155.76923076923077\" y=\"112.5\"></rect><rect class=\"toyplot-Datum\" height=\"0.0\" style=\"fill:rgb(98.8%,55.3%,38.4%);fill-opacity:1.0;opacity:1.0;stroke:rgb(100%,100%,100%);stroke-opacity:1.0;stroke-width:1.0\" width=\"32.692307692307679\" x=\"188.46153846153848\" y=\"112.5\"></rect><rect class=\"toyplot-Datum\" height=\"0.0\" style=\"fill:rgb(98.8%,55.3%,38.4%);fill-opacity:1.0;opacity:1.0;stroke:rgb(100%,100%,100%);stroke-opacity:1.0;stroke-width:1.0\" width=\"32.692307692307679\" x=\"221.15384615384616\" y=\"112.5\"></rect><rect class=\"toyplot-Datum\" height=\"87.5\" style=\"fill:rgb(98.8%,55.3%,38.4%);fill-opacity:1.0;opacity:1.0;stroke:rgb(100%,100%,100%);stroke-opacity:1.0;stroke-width:1.0\" width=\"32.692307692307764\" x=\"253.84615384615384\" y=\"25.0\"></rect><rect class=\"toyplot-Datum\" height=\"87.5\" style=\"fill:rgb(98.8%,55.3%,38.4%);fill-opacity:1.0;opacity:1.0;stroke:rgb(100%,100%,100%);stroke-opacity:1.0;stroke-width:1.0\" width=\"32.692307692307622\" x=\"286.5384615384616\" y=\"25.0\"></rect><rect class=\"toyplot-Datum\" height=\"0.0\" style=\"fill:rgb(98.8%,55.3%,38.4%);fill-opacity:1.0;opacity:1.0;stroke:rgb(100%,100%,100%);stroke-opacity:1.0;stroke-width:1.0\" width=\"32.692307692307736\" x=\"319.23076923076923\" y=\"25.0\"></rect><rect class=\"toyplot-Datum\" height=\"0.0\" style=\"fill:rgb(98.8%,55.3%,38.4%);fill-opacity:1.0;opacity:1.0;stroke:rgb(100%,100%,100%);stroke-opacity:1.0;stroke-width:1.0\" width=\"32.692307692307679\" x=\"351.92307692307696\" y=\"25.0\"></rect><rect class=\"toyplot-Datum\" height=\"0.0\" style=\"fill:rgb(98.8%,55.3%,38.4%);fill-opacity:1.0;opacity:1.0;stroke:rgb(100%,100%,100%);stroke-opacity:1.0;stroke-width:1.0\" width=\"32.692307692307679\" x=\"384.61538461538464\" y=\"25.0\"></rect><rect class=\"toyplot-Datum\" height=\"0.0\" style=\"fill:rgb(98.8%,55.3%,38.4%);fill-opacity:1.0;opacity:1.0;stroke:rgb(100%,100%,100%);stroke-opacity:1.0;stroke-width:1.0\" width=\"32.692307692307679\" x=\"417.30769230769232\" y=\"25.0\"></rect></g><g class=\"toyplot-Series\"><rect class=\"toyplot-Datum\" height=\"87.5\" style=\"fill:rgb(55.3%,62.7%,79.6%);fill-opacity:1.0;opacity:1.0;stroke:rgb(100%,100%,100%);stroke-opacity:1.0;stroke-width:1.0\" width=\"32.692307692307693\" x=\"25.0\" y=\"25.0\"></rect><rect class=\"toyplot-Datum\" height=\"87.5\" style=\"fill:rgb(55.3%,62.7%,79.6%);fill-opacity:1.0;opacity:1.0;stroke:rgb(100%,100%,100%);stroke-opacity:1.0;stroke-width:1.0\" width=\"32.692307692307693\" x=\"57.692307692307693\" y=\"25.0\"></rect><rect class=\"toyplot-Datum\" height=\"87.5\" style=\"fill:rgb(55.3%,62.7%,79.6%);fill-opacity:1.0;opacity:1.0;stroke:rgb(100%,100%,100%);stroke-opacity:1.0;stroke-width:1.0\" width=\"32.692307692307693\" x=\"90.384615384615387\" y=\"25.0\"></rect><rect class=\"toyplot-Datum\" height=\"87.5\" style=\"fill:rgb(55.3%,62.7%,79.6%);fill-opacity:1.0;opacity:1.0;stroke:rgb(100%,100%,100%);stroke-opacity:1.0;stroke-width:1.0\" width=\"32.692307692307693\" x=\"123.07692307692308\" y=\"25.0\"></rect><rect class=\"toyplot-Datum\" height=\"87.5\" style=\"fill:rgb(55.3%,62.7%,79.6%);fill-opacity:1.0;opacity:1.0;stroke:rgb(100%,100%,100%);stroke-opacity:1.0;stroke-width:1.0\" width=\"32.692307692307708\" x=\"155.76923076923077\" y=\"25.0\"></rect><rect class=\"toyplot-Datum\" height=\"87.5\" style=\"fill:rgb(55.3%,62.7%,79.6%);fill-opacity:1.0;opacity:1.0;stroke:rgb(100%,100%,100%);stroke-opacity:1.0;stroke-width:1.0\" width=\"32.692307692307679\" x=\"188.46153846153848\" y=\"25.0\"></rect><rect class=\"toyplot-Datum\" height=\"87.5\" style=\"fill:rgb(55.3%,62.7%,79.6%);fill-opacity:1.0;opacity:1.0;stroke:rgb(100%,100%,100%);stroke-opacity:1.0;stroke-width:1.0\" width=\"32.692307692307679\" x=\"221.15384615384616\" y=\"25.0\"></rect><rect class=\"toyplot-Datum\" height=\"0.0\" style=\"fill:rgb(55.3%,62.7%,79.6%);fill-opacity:1.0;opacity:1.0;stroke:rgb(100%,100%,100%);stroke-opacity:1.0;stroke-width:1.0\" width=\"32.692307692307764\" x=\"253.84615384615384\" y=\"25.0\"></rect><rect class=\"toyplot-Datum\" height=\"0.0\" style=\"fill:rgb(55.3%,62.7%,79.6%);fill-opacity:1.0;opacity:1.0;stroke:rgb(100%,100%,100%);stroke-opacity:1.0;stroke-width:1.0\" width=\"32.692307692307622\" x=\"286.5384615384616\" y=\"25.0\"></rect><rect class=\"toyplot-Datum\" height=\"0.0\" style=\"fill:rgb(55.3%,62.7%,79.6%);fill-opacity:1.0;opacity:1.0;stroke:rgb(100%,100%,100%);stroke-opacity:1.0;stroke-width:1.0\" width=\"32.692307692307736\" x=\"319.23076923076923\" y=\"25.0\"></rect><rect class=\"toyplot-Datum\" height=\"0.0\" style=\"fill:rgb(55.3%,62.7%,79.6%);fill-opacity:1.0;opacity:1.0;stroke:rgb(100%,100%,100%);stroke-opacity:1.0;stroke-width:1.0\" width=\"32.692307692307679\" x=\"351.92307692307696\" y=\"25.0\"></rect><rect class=\"toyplot-Datum\" height=\"0.0\" style=\"fill:rgb(55.3%,62.7%,79.6%);fill-opacity:1.0;opacity:1.0;stroke:rgb(100%,100%,100%);stroke-opacity:1.0;stroke-width:1.0\" width=\"32.692307692307679\" x=\"384.61538461538464\" y=\"25.0\"></rect><rect class=\"toyplot-Datum\" height=\"0.0\" style=\"fill:rgb(55.3%,62.7%,79.6%);fill-opacity:1.0;opacity:1.0;stroke:rgb(100%,100%,100%);stroke-opacity:1.0;stroke-width:1.0\" width=\"32.692307692307679\" x=\"417.30769230769232\" y=\"25.0\"></rect></g></g></g><g class=\"toyplot-coordinates-Axis\" id=\"t1171f437b88b481199d3711037f0688b\" transform=\"translate(25.0,112.5)translate(0,10.0)\"><line style=\"\" x1=\"0\" x2=\"425.0\" y1=\"0\" y2=\"0\"></line><g><line style=\"\" x1=\"16.346153846153847\" x2=\"16.346153846153847\" y1=\"0\" y2=\"-5\"></line><line style=\"\" x1=\"49.03846153846154\" x2=\"49.03846153846154\" y1=\"0\" y2=\"-5\"></line><line style=\"\" x1=\"81.73076923076924\" x2=\"81.73076923076924\" y1=\"0\" y2=\"-5\"></line><line style=\"\" x1=\"114.42307692307692\" x2=\"114.42307692307692\" y1=\"0\" y2=\"-5\"></line><line style=\"\" x1=\"147.1153846153846\" x2=\"147.1153846153846\" y1=\"0\" y2=\"-5\"></line><line style=\"\" x1=\"179.8076923076923\" x2=\"179.8076923076923\" y1=\"0\" y2=\"-5\"></line><line style=\"\" x1=\"212.5\" x2=\"212.5\" y1=\"0\" y2=\"-5\"></line><line style=\"\" x1=\"245.19230769230768\" x2=\"245.19230769230768\" y1=\"0\" y2=\"-5\"></line><line style=\"\" x1=\"277.8846153846154\" x2=\"277.8846153846154\" y1=\"0\" y2=\"-5\"></line><line style=\"\" x1=\"310.57692307692304\" x2=\"310.57692307692304\" y1=\"0\" y2=\"-5\"></line><line style=\"\" x1=\"343.2692307692308\" x2=\"343.2692307692308\" y1=\"0\" y2=\"-5\"></line><line style=\"\" x1=\"375.96153846153845\" x2=\"375.96153846153845\" y1=\"0\" y2=\"-5\"></line><line style=\"\" x1=\"408.6538461538462\" x2=\"408.6538461538462\" y1=\"0\" y2=\"-5\"></line></g><g><text style=\"font-weight:normal;stroke:none;text-anchor:start\" transform=\"translate(16.346153846153847,10.0)rotate(60)translate(0,4.5)\"><tspan style=\"font-size:12.0px\">30556_thamno</tspan></text><text style=\"font-weight:normal;stroke:none;text-anchor:start\" transform=\"translate(49.03846153846154,10.0)rotate(60)translate(0,4.5)\"><tspan style=\"font-size:12.0px\">33413_thamno</tspan></text><text style=\"font-weight:normal;stroke:none;text-anchor:start\" transform=\"translate(81.73076923076924,10.0)rotate(60)translate(0,4.5)\"><tspan style=\"font-size:12.0px\">35236_rex</tspan></text><text style=\"font-weight:normal;stroke:none;text-anchor:start\" transform=\"translate(114.42307692307692,10.0)rotate(60)translate(0,4.5)\"><tspan style=\"font-size:12.0px\">35855_rex</tspan></text><text style=\"font-weight:normal;stroke:none;text-anchor:start\" transform=\"translate(147.1153846153846,10.0)rotate(60)translate(0,4.5)\"><tspan style=\"font-size:12.0px\">38362_rex</tspan></text><text style=\"font-weight:normal;stroke:none;text-anchor:start\" transform=\"translate(179.8076923076923,10.0)rotate(60)translate(0,4.5)\"><tspan style=\"font-size:12.0px\">39618_rex</tspan></text><text style=\"font-weight:normal;stroke:none;text-anchor:start\" transform=\"translate(212.5,10.0)rotate(60)translate(0,4.5)\"><tspan style=\"font-size:12.0px\">40578_rex</tspan></text><text style=\"font-weight:normal;stroke:none;text-anchor:start\" transform=\"translate(245.19230769230768,10.0)rotate(60)translate(0,4.5)\"><tspan style=\"font-size:12.0px\">32082_przewalskii</tspan></text><text style=\"font-weight:normal;stroke:none;text-anchor:start\" transform=\"translate(277.8846153846154,10.0)rotate(60)translate(0,4.5)\"><tspan style=\"font-size:12.0px\">33588_przewalskii</tspan></text><text style=\"font-weight:normal;stroke:none;text-anchor:start\" transform=\"translate(310.57692307692304,10.0)rotate(60)translate(0,4.5)\"><tspan style=\"font-size:12.0px\">29154_superba</tspan></text><text style=\"font-weight:normal;stroke:none;text-anchor:start\" transform=\"translate(343.2692307692308,10.0)rotate(60)translate(0,4.5)\"><tspan style=\"font-size:12.0px\">30686_cyathophylla</tspan></text><text style=\"font-weight:normal;stroke:none;text-anchor:start\" transform=\"translate(375.96153846153845,10.0)rotate(60)translate(0,4.5)\"><tspan style=\"font-size:12.0px\">41478_cyathophylloides</tspan></text><text style=\"font-weight:normal;stroke:none;text-anchor:start\" transform=\"translate(408.6538461538462,10.0)rotate(60)translate(0,4.5)\"><tspan style=\"font-size:12.0px\">41954_cyathophylloides</tspan></text></g><g class=\"toyplot-coordinates-Axis-coordinates\" style=\"visibility:hidden\" transform=\"\"><line style=\"stroke:rgb(43.9%,50.2%,56.5%);stroke-opacity:1.0;stroke-width:1.0\" x1=\"0\" x2=\"0\" y1=\"-5.0\" y2=\"7.5\"></line><text style=\"alignment-baseline:alphabetic;fill:rgb(43.9%,50.2%,56.5%);fill-opacity:1.0;font-size:10px;font-weight:normal;stroke:none;text-anchor:middle\" x=\"0\" y=\"-10.0\"></text></g></g><g class=\"toyplot-coordinates-Axis\" id=\"t9cc292278783425db7193d96f51399bf\" transform=\"translate(25.0,112.5)rotate(-90.0)translate(0,-10.0)\"><line style=\"\" x1=\"0\" x2=\"87.5\" y1=\"0\" y2=\"0\"></line><g><text style=\"font-weight:normal;stroke:none;text-anchor:middle\" transform=\"translate(0.0,-6)\"><tspan style=\"font-size:10.0px\">0.0</tspan></text><text style=\"font-weight:normal;stroke:none;text-anchor:middle\" transform=\"translate(43.75,-6)\"><tspan style=\"font-size:10.0px\">0.5</tspan></text><text style=\"font-weight:normal;stroke:none;text-anchor:middle\" transform=\"translate(87.5,-6)\"><tspan style=\"font-size:10.0px\">1.0</tspan></text></g><g class=\"toyplot-coordinates-Axis-coordinates\" style=\"visibility:hidden\" transform=\"\"><line style=\"stroke:rgb(43.9%,50.2%,56.5%);stroke-opacity:1.0;stroke-width:1.0\" x1=\"0\" x2=\"0\" y1=\"3.0\" y2=\"-4.5\"></line><text style=\"alignment-baseline:hanging;fill:rgb(43.9%,50.2%,56.5%);fill-opacity:1.0;font-size:10px;font-weight:normal;stroke:none;text-anchor:middle\" x=\"0\" y=\"6\"></text></g></g></g></svg><div class=\"toyplot-interactive\"><ul class=\"toyplot-mark-popup\" onmouseleave=\"this.style.visibility='hidden'\" style=\"background:rgba(0%,0%,0%,0.75);border:0;border-radius:6px;color:white;cursor:default;list-style:none;margin:0;padding:5px;position:fixed;visibility:hidden\">\n",
       "            <li class=\"toyplot-mark-popup-title\" style=\"color:lightgray;cursor:default;padding:5px;list-style:none;margin:0\"></li>\n",
       "            <li class=\"toyplot-mark-popup-save-csv\" onmouseout=\"this.style.color='white';this.style.background='steelblue'\" onmouseover=\"this.style.color='steelblue';this.style.background='white'\" style=\"border-radius:3px;padding:5px;list-style:none;margin:0\">\n",
       "                Save as .csv\n",
       "            </li>\n",
       "        </ul><script>\n",
       "        (function()\n",
       "        {\n",
       "          var data_tables = [{\"title\": \"Bar Data\", \"names\": [\"left\", \"right\", \"baseline\", \"magnitude0\", \"magnitude1\", \"magnitude2\"], \"id\": \"tcb8fb1aebb5c462a9670aa5de979fc75\", \"columns\": [[-0.5, 0.5, 1.5, 2.5, 3.5, 4.5, 5.5, 6.5, 7.5, 8.5, 9.5, 10.5, 11.5], [0.5, 1.5, 2.5, 3.5, 4.5, 5.5, 6.5, 7.5, 8.5, 9.5, 10.5, 11.5, 12.5], [0.0, 0.0, 0.0, 0.0, 0.0, 0.0, 0.0, 0.0, 0.0, 0.0, 0.0, 0.0, 0.0], [0.0, 0.0, 0.0, 0.0, 0.0, 0.0, 0.0, 0.0, 0.0, 1.0, 1.0, 1.0, 1.0], [0.0, 0.0, 0.0, 0.0, 0.0, 0.0, 0.0, 1.0, 1.0, 0.0, 0.0, 0.0, 0.0], [1.0, 1.0, 1.0, 1.0, 1.0, 1.0, 1.0, 0.0, 0.0, 0.0, 0.0, 0.0, 0.0]], \"filename\": \"toyplot\"}];\n",
       "\n",
       "          function save_csv(data_table)\n",
       "          {\n",
       "            var uri = \"data:text/csv;charset=utf-8,\";\n",
       "            uri += data_table.names.join(\",\") + \"\\n\";\n",
       "            for(var i = 0; i != data_table.columns[0].length; ++i)\n",
       "            {\n",
       "              for(var j = 0; j != data_table.columns.length; ++j)\n",
       "              {\n",
       "                if(j)\n",
       "                  uri += \",\";\n",
       "                uri += data_table.columns[j][i];\n",
       "              }\n",
       "              uri += \"\\n\";\n",
       "            }\n",
       "            uri = encodeURI(uri);\n",
       "\n",
       "            var link = document.createElement(\"a\");\n",
       "            if(typeof link.download != \"undefined\")\n",
       "            {\n",
       "              link.href = uri;\n",
       "              link.style = \"visibility:hidden\";\n",
       "              link.download = data_table.filename + \".csv\";\n",
       "\n",
       "              document.body.appendChild(link);\n",
       "              link.click();\n",
       "              document.body.removeChild(link);\n",
       "            }\n",
       "            else\n",
       "            {\n",
       "              window.open(uri);\n",
       "            }\n",
       "          }\n",
       "\n",
       "          function open_popup(data_table)\n",
       "          {\n",
       "            return function(e)\n",
       "            {\n",
       "              var popup = document.querySelector(\"#tb03b2f7c67c84fb5aa393b8565449b65 .toyplot-mark-popup\");\n",
       "              popup.querySelector(\".toyplot-mark-popup-title\").innerHTML = data_table.title;\n",
       "              popup.querySelector(\".toyplot-mark-popup-save-csv\").onclick = function() { popup.style.visibility = \"hidden\"; save_csv(data_table); }\n",
       "              popup.style.left = (e.clientX - 50) + \"px\";\n",
       "              popup.style.top = (e.clientY - 20) + \"px\";\n",
       "              popup.style.visibility = \"visible\";\n",
       "              e.stopPropagation();\n",
       "              e.preventDefault();\n",
       "            }\n",
       "\n",
       "          }\n",
       "\n",
       "          for(var i = 0; i != data_tables.length; ++i)\n",
       "          {\n",
       "            var data_table = data_tables[i];\n",
       "            var event_target = document.querySelector(\"#\" + data_table.id);\n",
       "            event_target.oncontextmenu = open_popup(data_table);\n",
       "          }\n",
       "        })();\n",
       "        </script><script>\n",
       "        (function()\n",
       "        {\n",
       "            function _sign(x)\n",
       "            {\n",
       "                return x < 0 ? -1 : x > 0 ? 1 : 0;\n",
       "            }\n",
       "\n",
       "            function _mix(a, b, amount)\n",
       "            {\n",
       "                return ((1.0 - amount) * a) + (amount * b);\n",
       "            }\n",
       "\n",
       "            function _log(x, base)\n",
       "            {\n",
       "                return Math.log(Math.abs(x)) / Math.log(base);\n",
       "            }\n",
       "\n",
       "            function _in_range(a, x, b)\n",
       "            {\n",
       "                var left = Math.min(a, b);\n",
       "                var right = Math.max(a, b);\n",
       "                return left <= x && x <= right;\n",
       "            }\n",
       "\n",
       "            function inside(range, projection)\n",
       "            {\n",
       "                for(var i = 0; i != projection.length; ++i)\n",
       "                {\n",
       "                    var segment = projection[i];\n",
       "                    if(_in_range(segment.range.min, range, segment.range.max))\n",
       "                        return true;\n",
       "                }\n",
       "                return false;\n",
       "            }\n",
       "\n",
       "            function to_domain(range, projection)\n",
       "            {\n",
       "                for(var i = 0; i != projection.length; ++i)\n",
       "                {\n",
       "                    var segment = projection[i];\n",
       "                    if(_in_range(segment.range.bounds.min, range, segment.range.bounds.max))\n",
       "                    {\n",
       "                        if(segment.scale == \"linear\")\n",
       "                        {\n",
       "                            var amount = (range - segment.range.min) / (segment.range.max - segment.range.min);\n",
       "                            return _mix(segment.domain.min, segment.domain.max, amount)\n",
       "                        }\n",
       "                        else if(segment.scale[0] == \"log\")\n",
       "                        {\n",
       "                            var amount = (range - segment.range.min) / (segment.range.max - segment.range.min);\n",
       "                            var base = segment.scale[1];\n",
       "                            return _sign(segment.domain.min) * Math.pow(base, _mix(_log(segment.domain.min, base), _log(segment.domain.max, base), amount));\n",
       "                        }\n",
       "                    }\n",
       "                }\n",
       "            }\n",
       "\n",
       "            function display_coordinates(e)\n",
       "            {\n",
       "                var current = svg.createSVGPoint();\n",
       "                current.x = e.clientX;\n",
       "                current.y = e.clientY;\n",
       "\n",
       "                for(var axis_id in axes)\n",
       "                {\n",
       "                    var axis = document.querySelector(\"#\" + axis_id);\n",
       "                    var coordinates = axis.querySelector(\".toyplot-coordinates-Axis-coordinates\");\n",
       "                    if(coordinates)\n",
       "                    {\n",
       "                        var projection = axes[axis_id];\n",
       "                        var local = current.matrixTransform(axis.getScreenCTM().inverse());\n",
       "                        if(inside(local.x, projection))\n",
       "                        {\n",
       "                            var domain = to_domain(local.x, projection);\n",
       "                            coordinates.style.visibility = \"visible\";\n",
       "                            coordinates.setAttribute(\"transform\", \"translate(\" + local.x + \")\");\n",
       "                            var text = coordinates.querySelector(\"text\");\n",
       "                            text.textContent = domain.toFixed(2);\n",
       "                        }\n",
       "                        else\n",
       "                        {\n",
       "                            coordinates.style.visibility= \"hidden\";\n",
       "                        }\n",
       "                    }\n",
       "                }\n",
       "            }\n",
       "\n",
       "            var root_id = \"tb03b2f7c67c84fb5aa393b8565449b65\";\n",
       "            var axes = {\"t1171f437b88b481199d3711037f0688b\": [{\"domain\": {\"bounds\": {\"max\": Infinity, \"min\": -Infinity}, \"max\": 12.5, \"min\": -0.5}, \"range\": {\"bounds\": {\"max\": Infinity, \"min\": -Infinity}, \"max\": 425.0, \"min\": 0.0}, \"scale\": \"linear\"}], \"t9cc292278783425db7193d96f51399bf\": [{\"domain\": {\"bounds\": {\"max\": Infinity, \"min\": -Infinity}, \"max\": 1.0, \"min\": 0.0}, \"range\": {\"bounds\": {\"max\": Infinity, \"min\": -Infinity}, \"max\": 87.5, \"min\": 0.0}, \"scale\": \"linear\"}]};\n",
       "\n",
       "            var svg = document.querySelector(\"#\" + root_id + \" svg\");\n",
       "            svg.addEventListener(\"click\", display_coordinates);\n",
       "        })();\n",
       "        </script></div></div>"
      ]
     },
     "metadata": {},
     "output_type": "display_data"
    }
   ],
   "source": [
    "## build barplot\n",
    "canvas = toyplot.Canvas(width=500, height=250)\n",
    "axes = canvas.cartesian(bounds=(\"10%\", \"90%\", \"10%\", \"45%\"))\n",
    "axes.bars(table)\n",
    "\n",
    "## add labels to x-axis\n",
    "ticklabels = [i for i in table.index.tolist()]\n",
    "axes.x.ticks.locator = toyplot.locator.Explicit(labels=ticklabels)\n",
    "axes.x.ticks.labels.angle = -60\n",
    "axes.x.ticks.show = True\n",
    "axes.x.ticks.labels.offset = 10\n",
    "axes.x.ticks.labels.style = {\"font-size\": \"12px\"}"
   ]
  }
 ],
 "metadata": {
  "kernelspec": {
   "display_name": "Python 2",
   "language": "python",
   "name": "python2"
  },
  "language_info": {
   "codemirror_mode": {
    "name": "ipython",
    "version": 2
   },
   "file_extension": ".py",
   "mimetype": "text/x-python",
   "name": "python",
   "nbconvert_exporter": "python",
   "pygments_lexer": "ipython2",
   "version": "2.7.13"
  }
 },
 "nbformat": 4,
 "nbformat_minor": 2
}
