{
 "cells": [
  {
   "cell_type": "markdown",
   "metadata": {},
   "source": [
    "## Example notebook: Structure with pop assignments\n",
    "\n",
    "This notebook shows how to use the `ipyrad.analysis` tools to generate structure input files that use populations information. "
   ]
  },
  {
   "cell_type": "markdown",
   "metadata": {},
   "source": [
    "#### Required software"
   ]
  },
  {
   "cell_type": "code",
   "execution_count": 1,
   "metadata": {
    "collapsed": true
   },
   "outputs": [],
   "source": [
    "# conda install ipyrad -c ipyrad\n",
    "# conda install structure clumpp -c ipyrad"
   ]
  },
  {
   "cell_type": "code",
   "execution_count": 2,
   "metadata": {},
   "outputs": [],
   "source": [
    "## import modules\n",
    "import ipyrad.analysis as ipa"
   ]
  },
  {
   "cell_type": "markdown",
   "metadata": {},
   "source": [
    "### Create a structure analysis object\n",
    "If you include a 'mapfile' then we will use locus information to subsample just a single SNP from each locus so that the resulting data file will meet the expectations of structure that SNPs are \"unlinked\". If you create multiple replicates files using different random seeds then different SNPs will be selected in each rep. "
   ]
  },
  {
   "cell_type": "code",
   "execution_count": 3,
   "metadata": {},
   "outputs": [],
   "source": [
    "s = ipa.structure(\n",
    "        name=\"test\", \n",
    "        workdir=\"analysis-structure\",\n",
    "        data=\"analysis-ipyrad/ped_min10_outfiles/ped_min10.str\",\n",
    "        mapfile=\"analysis-ipyrad/ped_min10_outfiles/ped_min10.snps.map\",\n",
    "    )"
   ]
  },
  {
   "cell_type": "markdown",
   "metadata": {},
   "source": [
    "#### Set params for the structure analysis\n",
    "These values are used to generate the \"mainparams\" and \"extraparams\" files for structure. "
   ]
  },
  {
   "cell_type": "code",
   "execution_count": 4,
   "metadata": {},
   "outputs": [
    {
     "data": {
      "text/plain": [
       "burnin             250000              \n",
       "burnun             20000               \n",
       "extracols          0                   \n",
       "label              1                   \n",
       "locdata            0                   \n",
       "mapdistances       0                   \n",
       "markernames        0                   \n",
       "markovphase        0                   \n",
       "missing            -9                  \n",
       "notambiguous       -999                \n",
       "numreps            100000              \n",
       "onerowperind       0                   \n",
       "phased             0                   \n",
       "phaseinfo          0                   \n",
       "phenotype          0                   \n",
       "ploidy             2                   \n",
       "popdata            1                   \n",
       "popflag            1                   \n",
       "recessivealleles   0                   "
      ]
     },
     "execution_count": 4,
     "metadata": {},
     "output_type": "execute_result"
    }
   ],
   "source": [
    "## set run parameters\n",
    "s.mainparams.burnun = 20000\n",
    "s.mainparams.numreps = 100000\n",
    "\n",
    "## tell structure to expect popdata & popflag\n",
    "s.mainparams.popdata = 1\n",
    "s.mainparams.popflag = 1\n",
    "\n",
    "## print all mainparams\n",
    "s.mainparams"
   ]
  },
  {
   "cell_type": "code",
   "execution_count": 5,
   "metadata": {},
   "outputs": [
    {
     "data": {
      "text/plain": [
       "admburnin           500                 \n",
       "alpha               1.0                 \n",
       "alphamax            10.0                \n",
       "alphapriora         1.0                 \n",
       "alphapriorb         2.0                 \n",
       "alphapropsd         0.025               \n",
       "ancestdist          0                   \n",
       "ancestpint          0.9                 \n",
       "computeprob         1                   \n",
       "echodata            0                   \n",
       "fpriormean          0.01                \n",
       "fpriorsd            0.05                \n",
       "freqscorr           1                   \n",
       "gensback            2                   \n",
       "inferalpha          1                   \n",
       "inferlambda         0                   \n",
       "intermedsave        0                   \n",
       "lambda_             1.0                 \n",
       "linkage             0                   \n",
       "locispop            0                   \n",
       "locprior            0                   \n",
       "locpriorinit        1.0                 \n",
       "log10rmax           1.0                 \n",
       "log10rmin           -4.0                \n",
       "log10rpropsd        0.1                 \n",
       "log10rstart         -2.0                \n",
       "maxlocprior         20.0                \n",
       "metrofreq           10                  \n",
       "migrprior           0.01                \n",
       "noadmix             0                   \n",
       "numboxes            1000                \n",
       "onefst              0                   \n",
       "pfrompopflagonly    0                   \n",
       "popalphas           0                   \n",
       "popspecificlambda   0                   \n",
       "printlambda         1                   \n",
       "printlikes          0                   \n",
       "printnet            1                   \n",
       "printqhat           0                   \n",
       "printqsum           1                   \n",
       "randomize           0                   \n",
       "reporthitrate       0                   \n",
       "seed                12345               \n",
       "sitebysite          0                   \n",
       "startatpopinfo      0                   \n",
       "unifprioralpha      1                   \n",
       "updatefreq          10000               \n",
       "usepopinfo          1                   "
      ]
     },
     "execution_count": 5,
     "metadata": {},
     "output_type": "execute_result"
    }
   ],
   "source": [
    "## tell structure to use popinfo\n",
    "s.extraparams.usepopinfo = 1\n",
    "\n",
    "## print all other extraparams\n",
    "s.extraparams"
   ]
  },
  {
   "cell_type": "markdown",
   "metadata": {},
   "source": [
    "#### By default the 'header' of the str file is empty"
   ]
  },
  {
   "cell_type": "code",
   "execution_count": 6,
   "metadata": {},
   "outputs": [
    {
     "data": {
      "text/html": [
       "<div>\n",
       "<table border=\"1\" class=\"dataframe\">\n",
       "  <thead>\n",
       "    <tr style=\"text-align: right;\">\n",
       "      <th></th>\n",
       "      <th>labels</th>\n",
       "      <th>popdata</th>\n",
       "      <th>popflag</th>\n",
       "      <th>locdata</th>\n",
       "      <th>phenotype</th>\n",
       "    </tr>\n",
       "  </thead>\n",
       "  <tbody>\n",
       "    <tr>\n",
       "      <th>0</th>\n",
       "      <td>29154_superba</td>\n",
       "      <td></td>\n",
       "      <td></td>\n",
       "      <td></td>\n",
       "      <td></td>\n",
       "    </tr>\n",
       "    <tr>\n",
       "      <th>1</th>\n",
       "      <td>30556_thamno</td>\n",
       "      <td></td>\n",
       "      <td></td>\n",
       "      <td></td>\n",
       "      <td></td>\n",
       "    </tr>\n",
       "    <tr>\n",
       "      <th>2</th>\n",
       "      <td>30686_cyathophylla</td>\n",
       "      <td></td>\n",
       "      <td></td>\n",
       "      <td></td>\n",
       "      <td></td>\n",
       "    </tr>\n",
       "    <tr>\n",
       "      <th>3</th>\n",
       "      <td>32082_przewalskii</td>\n",
       "      <td></td>\n",
       "      <td></td>\n",
       "      <td></td>\n",
       "      <td></td>\n",
       "    </tr>\n",
       "    <tr>\n",
       "      <th>4</th>\n",
       "      <td>33413_thamno</td>\n",
       "      <td></td>\n",
       "      <td></td>\n",
       "      <td></td>\n",
       "      <td></td>\n",
       "    </tr>\n",
       "    <tr>\n",
       "      <th>5</th>\n",
       "      <td>33588_przewalskii</td>\n",
       "      <td></td>\n",
       "      <td></td>\n",
       "      <td></td>\n",
       "      <td></td>\n",
       "    </tr>\n",
       "    <tr>\n",
       "      <th>6</th>\n",
       "      <td>35236_rex</td>\n",
       "      <td></td>\n",
       "      <td></td>\n",
       "      <td></td>\n",
       "      <td></td>\n",
       "    </tr>\n",
       "    <tr>\n",
       "      <th>7</th>\n",
       "      <td>35855_rex</td>\n",
       "      <td></td>\n",
       "      <td></td>\n",
       "      <td></td>\n",
       "      <td></td>\n",
       "    </tr>\n",
       "    <tr>\n",
       "      <th>8</th>\n",
       "      <td>38362_rex</td>\n",
       "      <td></td>\n",
       "      <td></td>\n",
       "      <td></td>\n",
       "      <td></td>\n",
       "    </tr>\n",
       "    <tr>\n",
       "      <th>9</th>\n",
       "      <td>39618_rex</td>\n",
       "      <td></td>\n",
       "      <td></td>\n",
       "      <td></td>\n",
       "      <td></td>\n",
       "    </tr>\n",
       "    <tr>\n",
       "      <th>10</th>\n",
       "      <td>40578_rex</td>\n",
       "      <td></td>\n",
       "      <td></td>\n",
       "      <td></td>\n",
       "      <td></td>\n",
       "    </tr>\n",
       "    <tr>\n",
       "      <th>11</th>\n",
       "      <td>41478_cyathophylloides</td>\n",
       "      <td></td>\n",
       "      <td></td>\n",
       "      <td></td>\n",
       "      <td></td>\n",
       "    </tr>\n",
       "    <tr>\n",
       "      <th>12</th>\n",
       "      <td>41954_cyathophylloides</td>\n",
       "      <td></td>\n",
       "      <td></td>\n",
       "      <td></td>\n",
       "      <td></td>\n",
       "    </tr>\n",
       "  </tbody>\n",
       "</table>\n",
       "</div>"
      ],
      "text/plain": [
       "                    labels popdata popflag locdata phenotype\n",
       "0            29154_superba                                  \n",
       "1             30556_thamno                                  \n",
       "2       30686_cyathophylla                                  \n",
       "3        32082_przewalskii                                  \n",
       "4             33413_thamno                                  \n",
       "5        33588_przewalskii                                  \n",
       "6                35236_rex                                  \n",
       "7                35855_rex                                  \n",
       "8                38362_rex                                  \n",
       "9                39618_rex                                  \n",
       "10               40578_rex                                  \n",
       "11  41478_cyathophylloides                                  \n",
       "12  41954_cyathophylloides                                  "
      ]
     },
     "execution_count": 6,
     "metadata": {},
     "output_type": "execute_result"
    }
   ],
   "source": [
    "s.header"
   ]
  },
  {
   "cell_type": "markdown",
   "metadata": {},
   "source": [
    "#### You can fill it in by appending to the popdata attribute\n",
    "`popdata` is the *a priori* population assignment of an individual to a population. `popflag` is whether or not to assign that population assignment in the analysis (1) or to leave it to be inferred (0). "
   ]
  },
  {
   "cell_type": "code",
   "execution_count": 7,
   "metadata": {},
   "outputs": [
    {
     "data": {
      "text/html": [
       "<div>\n",
       "<table border=\"1\" class=\"dataframe\">\n",
       "  <thead>\n",
       "    <tr style=\"text-align: right;\">\n",
       "      <th></th>\n",
       "      <th>labels</th>\n",
       "      <th>popdata</th>\n",
       "      <th>popflag</th>\n",
       "      <th>locdata</th>\n",
       "      <th>phenotype</th>\n",
       "    </tr>\n",
       "  </thead>\n",
       "  <tbody>\n",
       "    <tr>\n",
       "      <th>0</th>\n",
       "      <td>29154_superba</td>\n",
       "      <td>0</td>\n",
       "      <td>1</td>\n",
       "      <td></td>\n",
       "      <td></td>\n",
       "    </tr>\n",
       "    <tr>\n",
       "      <th>1</th>\n",
       "      <td>30556_thamno</td>\n",
       "      <td>0</td>\n",
       "      <td>1</td>\n",
       "      <td></td>\n",
       "      <td></td>\n",
       "    </tr>\n",
       "    <tr>\n",
       "      <th>2</th>\n",
       "      <td>30686_cyathophylla</td>\n",
       "      <td>0</td>\n",
       "      <td>0</td>\n",
       "      <td></td>\n",
       "      <td></td>\n",
       "    </tr>\n",
       "    <tr>\n",
       "      <th>3</th>\n",
       "      <td>32082_przewalskii</td>\n",
       "      <td>1</td>\n",
       "      <td>0</td>\n",
       "      <td></td>\n",
       "      <td></td>\n",
       "    </tr>\n",
       "    <tr>\n",
       "      <th>4</th>\n",
       "      <td>33413_thamno</td>\n",
       "      <td>2</td>\n",
       "      <td>0</td>\n",
       "      <td></td>\n",
       "      <td></td>\n",
       "    </tr>\n",
       "    <tr>\n",
       "      <th>5</th>\n",
       "      <td>33588_przewalskii</td>\n",
       "      <td>1</td>\n",
       "      <td>0</td>\n",
       "      <td></td>\n",
       "      <td></td>\n",
       "    </tr>\n",
       "    <tr>\n",
       "      <th>6</th>\n",
       "      <td>35236_rex</td>\n",
       "      <td>2</td>\n",
       "      <td>0</td>\n",
       "      <td></td>\n",
       "      <td></td>\n",
       "    </tr>\n",
       "    <tr>\n",
       "      <th>7</th>\n",
       "      <td>35855_rex</td>\n",
       "      <td>2</td>\n",
       "      <td>0</td>\n",
       "      <td></td>\n",
       "      <td></td>\n",
       "    </tr>\n",
       "    <tr>\n",
       "      <th>8</th>\n",
       "      <td>38362_rex</td>\n",
       "      <td>2</td>\n",
       "      <td>1</td>\n",
       "      <td></td>\n",
       "      <td></td>\n",
       "    </tr>\n",
       "    <tr>\n",
       "      <th>9</th>\n",
       "      <td>39618_rex</td>\n",
       "      <td>2</td>\n",
       "      <td>1</td>\n",
       "      <td></td>\n",
       "      <td></td>\n",
       "    </tr>\n",
       "    <tr>\n",
       "      <th>10</th>\n",
       "      <td>40578_rex</td>\n",
       "      <td>2</td>\n",
       "      <td>1</td>\n",
       "      <td></td>\n",
       "      <td></td>\n",
       "    </tr>\n",
       "    <tr>\n",
       "      <th>11</th>\n",
       "      <td>41478_cyathophylloides</td>\n",
       "      <td>0</td>\n",
       "      <td>1</td>\n",
       "      <td></td>\n",
       "      <td></td>\n",
       "    </tr>\n",
       "    <tr>\n",
       "      <th>12</th>\n",
       "      <td>41954_cyathophylloides</td>\n",
       "      <td>0</td>\n",
       "      <td>1</td>\n",
       "      <td></td>\n",
       "      <td></td>\n",
       "    </tr>\n",
       "  </tbody>\n",
       "</table>\n",
       "</div>"
      ],
      "text/plain": [
       "                    labels popdata popflag locdata phenotype\n",
       "0            29154_superba       0       1                  \n",
       "1             30556_thamno       0       1                  \n",
       "2       30686_cyathophylla       0       0                  \n",
       "3        32082_przewalskii       1       0                  \n",
       "4             33413_thamno       2       0                  \n",
       "5        33588_przewalskii       1       0                  \n",
       "6                35236_rex       2       0                  \n",
       "7                35855_rex       2       0                  \n",
       "8                38362_rex       2       1                  \n",
       "9                39618_rex       2       1                  \n",
       "10               40578_rex       2       1                  \n",
       "11  41478_cyathophylloides       0       1                  \n",
       "12  41954_cyathophylloides       0       1                  "
      ]
     },
     "execution_count": 7,
     "metadata": {},
     "output_type": "execute_result"
    }
   ],
   "source": [
    "s.popdata = [0, 0, 0, 1, 2, 1, 2, 2, 2, 2, 2, 0, 0]\n",
    "s.popflag = [1, 1, 0, 0, 0, 0, 0, 0, 1, 1, 1, 1, 1]\n",
    "s.header"
   ]
  },
  {
   "cell_type": "markdown",
   "metadata": {},
   "source": [
    "### Write the new structure files\n",
    "This will write the `.str` file (and subsample SNPs if you included a mapfile) with the header information included, and it will write a mainparams and extraparams file with the parameter settings that we entered above. "
   ]
  },
  {
   "cell_type": "code",
   "execution_count": 8,
   "metadata": {},
   "outputs": [
    {
     "data": {
      "text/plain": [
       "('/home/deren/Documents/ipyrad/tests/analysis-structure/tmp-test-3-1.mainparams.txt',\n",
       " '/home/deren/Documents/ipyrad/tests/analysis-structure/tmp-test-3-1.extraparams.txt',\n",
       " '/home/deren/Documents/ipyrad/tests/analysis-structure/tmp-test-3-1.strfile.txt')"
      ]
     },
     "execution_count": 8,
     "metadata": {},
     "output_type": "execute_result"
    }
   ],
   "source": [
    "s.write_structure_files(kpop=3)"
   ]
  },
  {
   "cell_type": "markdown",
   "metadata": {},
   "source": [
    "### Run structure\n",
    "This runs the structure command line with the following arguments. "
   ]
  },
  {
   "cell_type": "code",
   "execution_count": null,
   "metadata": {},
   "outputs": [],
   "source": [
    "%%bash\n",
    "structure -i analysis-structure/tmp-test-3-1.strfile.txt \\\n",
    "          -m analysis-structure/tmp-test-3-1.mainparams.txt \\\n",
    "          -e analysis-structure/tmp-test-3-1.extraparams.txt \\\n",
    "          -K 3 \\\n",
    "          -N 13 \\\n",
    "          -D 12345 \\\n",
    "          -L 17337 \\\n",
    "          -o analysis-structure/tmp-test-3-1.results"
   ]
  }
 ],
 "metadata": {
  "kernelspec": {
   "display_name": "Python 2",
   "language": "python",
   "name": "python2"
  },
  "language_info": {
   "codemirror_mode": {
    "name": "ipython",
    "version": 2
   },
   "file_extension": ".py",
   "mimetype": "text/x-python",
   "name": "python",
   "nbconvert_exporter": "python",
   "pygments_lexer": "ipython2",
   "version": "2.7.13"
  }
 },
 "nbformat": 4,
 "nbformat_minor": 2
}
