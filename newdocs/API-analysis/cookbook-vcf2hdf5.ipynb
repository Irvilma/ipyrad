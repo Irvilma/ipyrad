{
 "cells": [
  {
   "cell_type": "markdown",
   "metadata": {},
   "source": [
    "# <span style=\"color:gray\">ipyrad-analysis toolkit:</span> VCF2HDF5"
   ]
  },
  {
   "cell_type": "markdown",
   "metadata": {},
   "source": [
    "Many genomic tools will write variant SNP calls to the VCF format (variant call format). This is a plain text file that stores variant calls relative to a reference genome in tabular format. It includes a lot of additional information about the quality of SNP calls, etc., but is not very easy to read or efficient to parse. To make analyses run a bit faster ipyrad uses a simplified format to store this information in the form of an HDF5 database. You can easily convert any VCF file to this HDF5 format using the `ipa.vcf_to_hdf5()` tool. \n",
    "\n",
    "This tool includes an added benefit of allowing you to enter an (optional) `ld_block_size` argument when creating the file which will write into the file information that can be used downstream by many other tools to subsample SNPs and perform bootstrap resampling in a way that reduces the effects of linkage among SNPs. If your data are assembled RAD data then the ld_block_size is not required, since we can simply use RAD loci as the linkage blocks. But if you want to combine reference-mapped RAD loci located nearby in the genome as being on the same linkage block then you can enter a value such as 50,000 to create 50Kb linkage block that will join many RAD loci together and sample only 1 SNP per block in each bootstrap replicate. If your data are not RAD data, e.g., whole genome data, then the ld_block_size argument will be required in order to  encode linkage information as discrete blocks into your database. "
   ]
  },
  {
   "cell_type": "markdown",
   "metadata": {},
   "source": [
    "### Required software"
   ]
  },
  {
   "cell_type": "code",
   "execution_count": 1,
   "metadata": {},
   "outputs": [],
   "source": [
    "# conda install ipyrad -c bioconda \n",
    "# conda install htslib -c bioconda\n",
    "# conda install bcftools -c bioconda"
   ]
  },
  {
   "cell_type": "code",
   "execution_count": 2,
   "metadata": {},
   "outputs": [],
   "source": [
    "import ipyrad.analysis as ipa"
   ]
  },
  {
   "cell_type": "markdown",
   "metadata": {},
   "source": [
    "### Pre-filter data from other programs (e.g., FreeBayes, GATK)\n",
    "\n",
    "You can use the program `bcftools` to pre-filter your data to exclude indels and low quality SNPs. If you ran the `conda install` commands above then you will have all of the required tools installed. To achieve the format that ipyrad expects you will need to exclude indel containing SNPs (this may change in the future). Further quality filtering is optional. \n",
    "\n",
    "The example below reduced the size of a VCF data file from 29Gb to 80Mb! VCF contains a lot of information that you do not need to retain through all of your analyses. We will keep only the final genotype calls.  \n"
   ]
  },
  {
   "cell_type": "code",
   "execution_count": null,
   "metadata": {},
   "outputs": [],
   "source": [
    "%%bash\n",
    "\n",
    "# compress the VCF file if not already done (creates .vcf.gz)\n",
    "bgzip data.vcf\n",
    "\n",
    "# tabix index the compressed VCF (creates .vcf.gz.tbi)\n",
    "tabix data.vcf.gz\n",
    "\n",
    "# remove multi-allelic SNPs and INDELs and PIPE to next command\n",
    "bcftools view -m2 -M2 -i'CIGAR=\"1X\" & QUAL>30' data.vcf.gz -Ou | \n",
    "\n",
    "    # remove extra annotations/formatting info and save to new .vcf\n",
    "    bcftools annotate -x FORMAT,INFO  > data.cleaned.vcf"
   ]
  },
  {
   "cell_type": "markdown",
   "metadata": {},
   "source": [
    "### A peek at the reduced VCF file"
   ]
  },
  {
   "cell_type": "code",
   "execution_count": null,
   "metadata": {},
   "outputs": [],
   "source": [
    "df."
   ]
  },
  {
   "cell_type": "code",
   "execution_count": 10,
   "metadata": {},
   "outputs": [
    {
     "data": {
      "text/html": [
       "<div>\n",
       "<style scoped>\n",
       "    .dataframe tbody tr th:only-of-type {\n",
       "        vertical-align: middle;\n",
       "    }\n",
       "\n",
       "    .dataframe tbody tr th {\n",
       "        vertical-align: top;\n",
       "    }\n",
       "\n",
       "    .dataframe thead th {\n",
       "        text-align: right;\n",
       "    }\n",
       "</style>\n",
       "<table border=\"1\" class=\"dataframe\">\n",
       "  <thead>\n",
       "    <tr style=\"text-align: right;\">\n",
       "      <th></th>\n",
       "      <th>NC_018152.2</th>\n",
       "      <th>51273</th>\n",
       "      <th>.</th>\n",
       "      <th>G</th>\n",
       "      <th>A</th>\n",
       "      <th>280.482</th>\n",
       "      <th>..1</th>\n",
       "      <th>..2</th>\n",
       "      <th>GT</th>\n",
       "      <th>0/0</th>\n",
       "      <th>...</th>\n",
       "      <th>0/0.9</th>\n",
       "      <th>0/0.10</th>\n",
       "      <th>0/0.11</th>\n",
       "      <th>0/0.12</th>\n",
       "      <th>0/0.13</th>\n",
       "      <th>0/0.14</th>\n",
       "      <th>0/0.15</th>\n",
       "      <th>0/0.16</th>\n",
       "      <th>0/0.17</th>\n",
       "      <th>0/1.1</th>\n",
       "    </tr>\n",
       "  </thead>\n",
       "  <tbody>\n",
       "    <tr>\n",
       "      <td>0</td>\n",
       "      <td>NC_018152.2</td>\n",
       "      <td>51292</td>\n",
       "      <td>.</td>\n",
       "      <td>A</td>\n",
       "      <td>G</td>\n",
       "      <td>16750.3000</td>\n",
       "      <td>.</td>\n",
       "      <td>.</td>\n",
       "      <td>GT</td>\n",
       "      <td>1/1</td>\n",
       "      <td>...</td>\n",
       "      <td>1/1</td>\n",
       "      <td>.</td>\n",
       "      <td>1/1</td>\n",
       "      <td>1/1</td>\n",
       "      <td>1/1</td>\n",
       "      <td>1/1</td>\n",
       "      <td>0/0</td>\n",
       "      <td>1/1</td>\n",
       "      <td>1/1</td>\n",
       "      <td>1/1</td>\n",
       "    </tr>\n",
       "    <tr>\n",
       "      <td>1</td>\n",
       "      <td>NC_018152.2</td>\n",
       "      <td>51349</td>\n",
       "      <td>.</td>\n",
       "      <td>A</td>\n",
       "      <td>G</td>\n",
       "      <td>628.5630</td>\n",
       "      <td>.</td>\n",
       "      <td>.</td>\n",
       "      <td>GT</td>\n",
       "      <td>0/0</td>\n",
       "      <td>...</td>\n",
       "      <td>0/0</td>\n",
       "      <td>0/0</td>\n",
       "      <td>0/0</td>\n",
       "      <td>0/0</td>\n",
       "      <td>0/0</td>\n",
       "      <td>0/0</td>\n",
       "      <td>0/0</td>\n",
       "      <td>0/0</td>\n",
       "      <td>0/0</td>\n",
       "      <td>0/0</td>\n",
       "    </tr>\n",
       "    <tr>\n",
       "      <td>2</td>\n",
       "      <td>NC_018152.2</td>\n",
       "      <td>51351</td>\n",
       "      <td>.</td>\n",
       "      <td>C</td>\n",
       "      <td>T</td>\n",
       "      <td>943.3530</td>\n",
       "      <td>.</td>\n",
       "      <td>.</td>\n",
       "      <td>GT</td>\n",
       "      <td>0/0</td>\n",
       "      <td>...</td>\n",
       "      <td>0/0</td>\n",
       "      <td>0/0</td>\n",
       "      <td>0/0</td>\n",
       "      <td>0/0</td>\n",
       "      <td>0/0</td>\n",
       "      <td>0/0</td>\n",
       "      <td>0/0</td>\n",
       "      <td>0/0</td>\n",
       "      <td>0/0</td>\n",
       "      <td>0/0</td>\n",
       "    </tr>\n",
       "    <tr>\n",
       "      <td>3</td>\n",
       "      <td>NC_018152.2</td>\n",
       "      <td>51352</td>\n",
       "      <td>.</td>\n",
       "      <td>G</td>\n",
       "      <td>A</td>\n",
       "      <td>607.6810</td>\n",
       "      <td>.</td>\n",
       "      <td>.</td>\n",
       "      <td>GT</td>\n",
       "      <td>0/0</td>\n",
       "      <td>...</td>\n",
       "      <td>0/0</td>\n",
       "      <td>0/0</td>\n",
       "      <td>0/0</td>\n",
       "      <td>0/0</td>\n",
       "      <td>0/0</td>\n",
       "      <td>0/0</td>\n",
       "      <td>0/0</td>\n",
       "      <td>0/0</td>\n",
       "      <td>0/0</td>\n",
       "      <td>0/0</td>\n",
       "    </tr>\n",
       "    <tr>\n",
       "      <td>4</td>\n",
       "      <td>NC_018152.2</td>\n",
       "      <td>51398</td>\n",
       "      <td>.</td>\n",
       "      <td>C</td>\n",
       "      <td>T</td>\n",
       "      <td>510.1200</td>\n",
       "      <td>.</td>\n",
       "      <td>.</td>\n",
       "      <td>GT</td>\n",
       "      <td>0/0</td>\n",
       "      <td>...</td>\n",
       "      <td>0/0</td>\n",
       "      <td>0/0</td>\n",
       "      <td>0/0</td>\n",
       "      <td>0/0</td>\n",
       "      <td>0/0</td>\n",
       "      <td>0/0</td>\n",
       "      <td>0/0</td>\n",
       "      <td>0/0</td>\n",
       "      <td>0/0</td>\n",
       "      <td>0/0</td>\n",
       "    </tr>\n",
       "    <tr>\n",
       "      <td>...</td>\n",
       "      <td>...</td>\n",
       "      <td>...</td>\n",
       "      <td>...</td>\n",
       "      <td>...</td>\n",
       "      <td>...</td>\n",
       "      <td>...</td>\n",
       "      <td>...</td>\n",
       "      <td>...</td>\n",
       "      <td>...</td>\n",
       "      <td>...</td>\n",
       "      <td>...</td>\n",
       "      <td>...</td>\n",
       "      <td>...</td>\n",
       "      <td>...</td>\n",
       "      <td>...</td>\n",
       "      <td>...</td>\n",
       "      <td>...</td>\n",
       "      <td>...</td>\n",
       "      <td>...</td>\n",
       "      <td>...</td>\n",
       "      <td>...</td>\n",
       "    </tr>\n",
       "    <tr>\n",
       "      <td>6093181</td>\n",
       "      <td>NC_018152.2</td>\n",
       "      <td>217458601</td>\n",
       "      <td>.</td>\n",
       "      <td>T</td>\n",
       "      <td>C</td>\n",
       "      <td>138.5900</td>\n",
       "      <td>.</td>\n",
       "      <td>.</td>\n",
       "      <td>GT</td>\n",
       "      <td>0/0</td>\n",
       "      <td>...</td>\n",
       "      <td>0/0</td>\n",
       "      <td>0/0</td>\n",
       "      <td>0/0</td>\n",
       "      <td>0/0</td>\n",
       "      <td>0/0</td>\n",
       "      <td>0/0</td>\n",
       "      <td>0/0</td>\n",
       "      <td>0/0</td>\n",
       "      <td>0/0</td>\n",
       "      <td>0/0</td>\n",
       "    </tr>\n",
       "    <tr>\n",
       "      <td>6093182</td>\n",
       "      <td>NC_018152.2</td>\n",
       "      <td>217458628</td>\n",
       "      <td>.</td>\n",
       "      <td>A</td>\n",
       "      <td>G</td>\n",
       "      <td>44.5791</td>\n",
       "      <td>.</td>\n",
       "      <td>.</td>\n",
       "      <td>GT</td>\n",
       "      <td>0/0</td>\n",
       "      <td>...</td>\n",
       "      <td>0/0</td>\n",
       "      <td>0/1</td>\n",
       "      <td>0/0</td>\n",
       "      <td>0/0</td>\n",
       "      <td>0/0</td>\n",
       "      <td>0/0</td>\n",
       "      <td>0/0</td>\n",
       "      <td>0/0</td>\n",
       "      <td>0/0</td>\n",
       "      <td>0/0</td>\n",
       "    </tr>\n",
       "    <tr>\n",
       "      <td>6093183</td>\n",
       "      <td>NC_018152.2</td>\n",
       "      <td>217458695</td>\n",
       "      <td>.</td>\n",
       "      <td>G</td>\n",
       "      <td>C</td>\n",
       "      <td>869.8200</td>\n",
       "      <td>.</td>\n",
       "      <td>.</td>\n",
       "      <td>GT</td>\n",
       "      <td>0/0</td>\n",
       "      <td>...</td>\n",
       "      <td>0/0</td>\n",
       "      <td>0/1</td>\n",
       "      <td>0/0</td>\n",
       "      <td>0/0</td>\n",
       "      <td>1/1</td>\n",
       "      <td>0/0</td>\n",
       "      <td>0/0</td>\n",
       "      <td>0/1</td>\n",
       "      <td>0/1</td>\n",
       "      <td>0/0</td>\n",
       "    </tr>\n",
       "    <tr>\n",
       "      <td>6093184</td>\n",
       "      <td>NC_018152.2</td>\n",
       "      <td>217458707</td>\n",
       "      <td>.</td>\n",
       "      <td>G</td>\n",
       "      <td>A</td>\n",
       "      <td>2386.0400</td>\n",
       "      <td>.</td>\n",
       "      <td>.</td>\n",
       "      <td>GT</td>\n",
       "      <td>0/0</td>\n",
       "      <td>...</td>\n",
       "      <td>0/0</td>\n",
       "      <td>1/1</td>\n",
       "      <td>1/1</td>\n",
       "      <td>0/0</td>\n",
       "      <td>1/1</td>\n",
       "      <td>0/0</td>\n",
       "      <td>0/0</td>\n",
       "      <td>1/1</td>\n",
       "      <td>1/1</td>\n",
       "      <td>0/1</td>\n",
       "    </tr>\n",
       "    <tr>\n",
       "      <td>6093185</td>\n",
       "      <td>NC_018152.2</td>\n",
       "      <td>217458730</td>\n",
       "      <td>.</td>\n",
       "      <td>G</td>\n",
       "      <td>C</td>\n",
       "      <td>349.6870</td>\n",
       "      <td>.</td>\n",
       "      <td>.</td>\n",
       "      <td>GT</td>\n",
       "      <td>0/0</td>\n",
       "      <td>...</td>\n",
       "      <td>0/0</td>\n",
       "      <td>0/0</td>\n",
       "      <td>0/0</td>\n",
       "      <td>0/0</td>\n",
       "      <td>0/0</td>\n",
       "      <td>0/0</td>\n",
       "      <td>0/1</td>\n",
       "      <td>0/0</td>\n",
       "      <td>0/0</td>\n",
       "      <td>0/0</td>\n",
       "    </tr>\n",
       "  </tbody>\n",
       "</table>\n",
       "<p>6093186 rows × 29 columns</p>\n",
       "</div>"
      ],
      "text/plain": [
       "         NC_018152.2      51273  .  G  A     280.482 ..1 ..2  GT  0/0  ...  \\\n",
       "0        NC_018152.2      51292  .  A  G  16750.3000   .   .  GT  1/1  ...   \n",
       "1        NC_018152.2      51349  .  A  G    628.5630   .   .  GT  0/0  ...   \n",
       "2        NC_018152.2      51351  .  C  T    943.3530   .   .  GT  0/0  ...   \n",
       "3        NC_018152.2      51352  .  G  A    607.6810   .   .  GT  0/0  ...   \n",
       "4        NC_018152.2      51398  .  C  T    510.1200   .   .  GT  0/0  ...   \n",
       "...              ...        ... .. .. ..         ...  ..  ..  ..  ...  ...   \n",
       "6093181  NC_018152.2  217458601  .  T  C    138.5900   .   .  GT  0/0  ...   \n",
       "6093182  NC_018152.2  217458628  .  A  G     44.5791   .   .  GT  0/0  ...   \n",
       "6093183  NC_018152.2  217458695  .  G  C    869.8200   .   .  GT  0/0  ...   \n",
       "6093184  NC_018152.2  217458707  .  G  A   2386.0400   .   .  GT  0/0  ...   \n",
       "6093185  NC_018152.2  217458730  .  G  C    349.6870   .   .  GT  0/0  ...   \n",
       "\n",
       "        0/0.9 0/0.10 0/0.11 0/0.12 0/0.13 0/0.14 0/0.15 0/0.16 0/0.17 0/1.1  \n",
       "0         1/1      .    1/1    1/1    1/1    1/1    0/0    1/1    1/1   1/1  \n",
       "1         0/0    0/0    0/0    0/0    0/0    0/0    0/0    0/0    0/0   0/0  \n",
       "2         0/0    0/0    0/0    0/0    0/0    0/0    0/0    0/0    0/0   0/0  \n",
       "3         0/0    0/0    0/0    0/0    0/0    0/0    0/0    0/0    0/0   0/0  \n",
       "4         0/0    0/0    0/0    0/0    0/0    0/0    0/0    0/0    0/0   0/0  \n",
       "...       ...    ...    ...    ...    ...    ...    ...    ...    ...   ...  \n",
       "6093181   0/0    0/0    0/0    0/0    0/0    0/0    0/0    0/0    0/0   0/0  \n",
       "6093182   0/0    0/1    0/0    0/0    0/0    0/0    0/0    0/0    0/0   0/0  \n",
       "6093183   0/0    0/1    0/0    0/0    1/1    0/0    0/0    0/1    0/1   0/0  \n",
       "6093184   0/0    1/1    1/1    0/0    1/1    0/0    0/0    1/1    1/1   0/1  \n",
       "6093185   0/0    0/0    0/0    0/0    0/0    0/0    0/1    0/0    0/0   0/0  \n",
       "\n",
       "[6093186 rows x 29 columns]"
      ]
     },
     "execution_count": 10,
     "metadata": {},
     "output_type": "execute_result"
    }
   ],
   "source": [
    "import pandas as pd\n",
    "\n",
    "# load the VCF as an datafram\n",
    "df = pd.read_csv(\n",
    "    \"/home/deren/Documents/tetrad/data/Macaque-Chr1.clean.vcf\",\n",
    "    sep=\"\\t\", \n",
    "    skiprows=1000, \n",
    "    #chunksize=1000,\n",
    ")\n",
    "\n",
    "# show the first few lines\n",
    "df.head()"
   ]
  },
  {
   "cell_type": "code",
   "execution_count": null,
   "metadata": {},
   "outputs": [],
   "source": [
    "df."
   ]
  },
  {
   "cell_type": "markdown",
   "metadata": {},
   "source": [
    "### Required data files"
   ]
  },
  {
   "cell_type": "code",
   "execution_count": 11,
   "metadata": {},
   "outputs": [],
   "source": [
    "data = \"../../tests/ped-2019_outfiles/ped-2019.vcf\"\n",
    "\n",
    "data = \"/home/deren/Documents/tetrad/Macaque-Chr1.cleaned.vcf.gz\"\n"
   ]
  },
  {
   "cell_type": "markdown",
   "metadata": {},
   "source": [
    "### Short tutorial"
   ]
  },
  {
   "cell_type": "code",
   "execution_count": 12,
   "metadata": {},
   "outputs": [
    {
     "ename": "AttributeError",
     "evalue": "module 'ipyrad.analysis' has no attribute 'vcf_to_hdf5'",
     "output_type": "error",
     "traceback": [
      "\u001b[0;31m---------------------------------------------------------------------------\u001b[0m",
      "\u001b[0;31mAttributeError\u001b[0m                            Traceback (most recent call last)",
      "\u001b[0;32m<ipython-input-12-47bea14ba643>\u001b[0m in \u001b[0;36m<module>\u001b[0;34m\u001b[0m\n\u001b[1;32m      1\u001b[0m \u001b[0;31m# init a conversion tool\u001b[0m\u001b[0;34m\u001b[0m\u001b[0;34m\u001b[0m\u001b[0;34m\u001b[0m\u001b[0m\n\u001b[0;32m----> 2\u001b[0;31m \u001b[0mself\u001b[0m \u001b[0;34m=\u001b[0m \u001b[0mipa\u001b[0m\u001b[0;34m.\u001b[0m\u001b[0mvcf_to_hdf5\u001b[0m\u001b[0;34m(\u001b[0m\u001b[0mdata\u001b[0m\u001b[0;34m=\u001b[0m\u001b[0mdata\u001b[0m\u001b[0;34m,\u001b[0m \u001b[0mld_block_size\u001b[0m\u001b[0;34m=\u001b[0m\u001b[0;36m200\u001b[0m\u001b[0;34m)\u001b[0m\u001b[0;34m\u001b[0m\u001b[0;34m\u001b[0m\u001b[0m\n\u001b[0m",
      "\u001b[0;31mAttributeError\u001b[0m: module 'ipyrad.analysis' has no attribute 'vcf_to_hdf5'"
     ]
    }
   ],
   "source": [
    "# init a conversion tool\n",
    "self = ipa.vcf_to_hdf5(data=data, ld_block_size=200)"
   ]
  },
  {
   "cell_type": "code",
   "execution_count": 4,
   "metadata": {},
   "outputs": [
    {
     "name": "stdout",
     "output_type": "stream",
     "text": [
      "VCF: 6094152 SNPs; 1 scaffolds\n"
     ]
    }
   ],
   "source": [
    "self.get_meta()\n",
    "\n",
    "# run the conversion\n",
    "#self.run()"
   ]
  },
  {
   "cell_type": "code",
   "execution_count": 5,
   "metadata": {},
   "outputs": [],
   "source": [
    "self.init_database()"
   ]
  },
  {
   "cell_type": "code",
   "execution_count": 6,
   "metadata": {},
   "outputs": [
    {
     "ename": "KeyboardInterrupt",
     "evalue": "",
     "output_type": "error",
     "traceback": [
      "\u001b[0;31m---------------------------------------------------------------------------\u001b[0m",
      "\u001b[0;31mKeyboardInterrupt\u001b[0m                         Traceback (most recent call last)",
      "\u001b[0;32m<ipython-input-6-a2881868f251>\u001b[0m in \u001b[0;36m<module>\u001b[0;34m\u001b[0m\n\u001b[0;32m----> 1\u001b[0;31m \u001b[0mself\u001b[0m\u001b[0;34m.\u001b[0m\u001b[0mbuild_matrix\u001b[0m\u001b[0;34m(\u001b[0m\u001b[0;34m)\u001b[0m\u001b[0;34m\u001b[0m\u001b[0;34m\u001b[0m\u001b[0m\n\u001b[0m",
      "\u001b[0;32m~/Documents/ipyrad/ipyrad/analysis/vcf_to_hdf5.py\u001b[0m in \u001b[0;36mbuild_matrix\u001b[0;34m(self)\u001b[0m\n\u001b[1;32m    178\u001b[0m \u001b[0;34m\u001b[0m\u001b[0m\n\u001b[1;32m    179\u001b[0m         \u001b[0;31m# load vcf as dataframe (chunking makes this an iterator)\u001b[0m\u001b[0;34m\u001b[0m\u001b[0;34m\u001b[0m\u001b[0;34m\u001b[0m\u001b[0m\n\u001b[0;32m--> 180\u001b[0;31m         \u001b[0mself\u001b[0m\u001b[0;34m.\u001b[0m\u001b[0mdf\u001b[0m \u001b[0;34m=\u001b[0m \u001b[0mpd\u001b[0m\u001b[0;34m.\u001b[0m\u001b[0mread_csv\u001b[0m\u001b[0;34m(\u001b[0m\u001b[0mself\u001b[0m\u001b[0;34m.\u001b[0m\u001b[0mdata\u001b[0m\u001b[0;34m,\u001b[0m \u001b[0msep\u001b[0m\u001b[0;34m=\u001b[0m\u001b[0;34m\"\\t\"\u001b[0m\u001b[0;34m,\u001b[0m \u001b[0mskiprows\u001b[0m\u001b[0;34m=\u001b[0m\u001b[0mself\u001b[0m\u001b[0;34m.\u001b[0m\u001b[0mhlines\u001b[0m\u001b[0;34m)\u001b[0m\u001b[0;34m\u001b[0m\u001b[0;34m\u001b[0m\u001b[0m\n\u001b[0m\u001b[1;32m    181\u001b[0m \u001b[0;34m\u001b[0m\u001b[0m\n\u001b[1;32m    182\u001b[0m         \u001b[0;31m# get ref and alt alleles as a string series\u001b[0m\u001b[0;34m\u001b[0m\u001b[0;34m\u001b[0m\u001b[0;34m\u001b[0m\u001b[0m\n",
      "\u001b[0;32m~/miniconda3/lib/python3.7/site-packages/pandas/io/parsers.py\u001b[0m in \u001b[0;36mparser_f\u001b[0;34m(filepath_or_buffer, sep, delimiter, header, names, index_col, usecols, squeeze, prefix, mangle_dupe_cols, dtype, engine, converters, true_values, false_values, skipinitialspace, skiprows, skipfooter, nrows, na_values, keep_default_na, na_filter, verbose, skip_blank_lines, parse_dates, infer_datetime_format, keep_date_col, date_parser, dayfirst, iterator, chunksize, compression, thousands, decimal, lineterminator, quotechar, quoting, doublequote, escapechar, comment, encoding, dialect, tupleize_cols, error_bad_lines, warn_bad_lines, delim_whitespace, low_memory, memory_map, float_precision)\u001b[0m\n\u001b[1;32m    700\u001b[0m                     skip_blank_lines=skip_blank_lines)\n\u001b[1;32m    701\u001b[0m \u001b[0;34m\u001b[0m\u001b[0m\n\u001b[0;32m--> 702\u001b[0;31m         \u001b[0;32mreturn\u001b[0m \u001b[0m_read\u001b[0m\u001b[0;34m(\u001b[0m\u001b[0mfilepath_or_buffer\u001b[0m\u001b[0;34m,\u001b[0m \u001b[0mkwds\u001b[0m\u001b[0;34m)\u001b[0m\u001b[0;34m\u001b[0m\u001b[0;34m\u001b[0m\u001b[0m\n\u001b[0m\u001b[1;32m    703\u001b[0m \u001b[0;34m\u001b[0m\u001b[0m\n\u001b[1;32m    704\u001b[0m     \u001b[0mparser_f\u001b[0m\u001b[0;34m.\u001b[0m\u001b[0m__name__\u001b[0m \u001b[0;34m=\u001b[0m \u001b[0mname\u001b[0m\u001b[0;34m\u001b[0m\u001b[0;34m\u001b[0m\u001b[0m\n",
      "\u001b[0;32m~/miniconda3/lib/python3.7/site-packages/pandas/io/parsers.py\u001b[0m in \u001b[0;36m_read\u001b[0;34m(filepath_or_buffer, kwds)\u001b[0m\n\u001b[1;32m    433\u001b[0m \u001b[0;34m\u001b[0m\u001b[0m\n\u001b[1;32m    434\u001b[0m     \u001b[0;32mtry\u001b[0m\u001b[0;34m:\u001b[0m\u001b[0;34m\u001b[0m\u001b[0;34m\u001b[0m\u001b[0m\n\u001b[0;32m--> 435\u001b[0;31m         \u001b[0mdata\u001b[0m \u001b[0;34m=\u001b[0m \u001b[0mparser\u001b[0m\u001b[0;34m.\u001b[0m\u001b[0mread\u001b[0m\u001b[0;34m(\u001b[0m\u001b[0mnrows\u001b[0m\u001b[0;34m)\u001b[0m\u001b[0;34m\u001b[0m\u001b[0;34m\u001b[0m\u001b[0m\n\u001b[0m\u001b[1;32m    436\u001b[0m     \u001b[0;32mfinally\u001b[0m\u001b[0;34m:\u001b[0m\u001b[0;34m\u001b[0m\u001b[0;34m\u001b[0m\u001b[0m\n\u001b[1;32m    437\u001b[0m         \u001b[0mparser\u001b[0m\u001b[0;34m.\u001b[0m\u001b[0mclose\u001b[0m\u001b[0;34m(\u001b[0m\u001b[0;34m)\u001b[0m\u001b[0;34m\u001b[0m\u001b[0;34m\u001b[0m\u001b[0m\n",
      "\u001b[0;32m~/miniconda3/lib/python3.7/site-packages/pandas/io/parsers.py\u001b[0m in \u001b[0;36mread\u001b[0;34m(self, nrows)\u001b[0m\n\u001b[1;32m   1152\u001b[0m             \u001b[0mnew_rows\u001b[0m \u001b[0;34m=\u001b[0m \u001b[0mlen\u001b[0m\u001b[0;34m(\u001b[0m\u001b[0mindex\u001b[0m\u001b[0;34m)\u001b[0m\u001b[0;34m\u001b[0m\u001b[0;34m\u001b[0m\u001b[0m\n\u001b[1;32m   1153\u001b[0m \u001b[0;34m\u001b[0m\u001b[0m\n\u001b[0;32m-> 1154\u001b[0;31m         \u001b[0mdf\u001b[0m \u001b[0;34m=\u001b[0m \u001b[0mDataFrame\u001b[0m\u001b[0;34m(\u001b[0m\u001b[0mcol_dict\u001b[0m\u001b[0;34m,\u001b[0m \u001b[0mcolumns\u001b[0m\u001b[0;34m=\u001b[0m\u001b[0mcolumns\u001b[0m\u001b[0;34m,\u001b[0m \u001b[0mindex\u001b[0m\u001b[0;34m=\u001b[0m\u001b[0mindex\u001b[0m\u001b[0;34m)\u001b[0m\u001b[0;34m\u001b[0m\u001b[0;34m\u001b[0m\u001b[0m\n\u001b[0m\u001b[1;32m   1155\u001b[0m \u001b[0;34m\u001b[0m\u001b[0m\n\u001b[1;32m   1156\u001b[0m         \u001b[0mself\u001b[0m\u001b[0;34m.\u001b[0m\u001b[0m_currow\u001b[0m \u001b[0;34m+=\u001b[0m \u001b[0mnew_rows\u001b[0m\u001b[0;34m\u001b[0m\u001b[0;34m\u001b[0m\u001b[0m\n",
      "\u001b[0;32m~/miniconda3/lib/python3.7/site-packages/pandas/core/frame.py\u001b[0m in \u001b[0;36m__init__\u001b[0;34m(self, data, index, columns, dtype, copy)\u001b[0m\n\u001b[1;32m    390\u001b[0m                                  dtype=dtype, copy=copy)\n\u001b[1;32m    391\u001b[0m         \u001b[0;32melif\u001b[0m \u001b[0misinstance\u001b[0m\u001b[0;34m(\u001b[0m\u001b[0mdata\u001b[0m\u001b[0;34m,\u001b[0m \u001b[0mdict\u001b[0m\u001b[0;34m)\u001b[0m\u001b[0;34m:\u001b[0m\u001b[0;34m\u001b[0m\u001b[0;34m\u001b[0m\u001b[0m\n\u001b[0;32m--> 392\u001b[0;31m             \u001b[0mmgr\u001b[0m \u001b[0;34m=\u001b[0m \u001b[0minit_dict\u001b[0m\u001b[0;34m(\u001b[0m\u001b[0mdata\u001b[0m\u001b[0;34m,\u001b[0m \u001b[0mindex\u001b[0m\u001b[0;34m,\u001b[0m \u001b[0mcolumns\u001b[0m\u001b[0;34m,\u001b[0m \u001b[0mdtype\u001b[0m\u001b[0;34m=\u001b[0m\u001b[0mdtype\u001b[0m\u001b[0;34m)\u001b[0m\u001b[0;34m\u001b[0m\u001b[0;34m\u001b[0m\u001b[0m\n\u001b[0m\u001b[1;32m    393\u001b[0m         \u001b[0;32melif\u001b[0m \u001b[0misinstance\u001b[0m\u001b[0;34m(\u001b[0m\u001b[0mdata\u001b[0m\u001b[0;34m,\u001b[0m \u001b[0mma\u001b[0m\u001b[0;34m.\u001b[0m\u001b[0mMaskedArray\u001b[0m\u001b[0;34m)\u001b[0m\u001b[0;34m:\u001b[0m\u001b[0;34m\u001b[0m\u001b[0;34m\u001b[0m\u001b[0m\n\u001b[1;32m    394\u001b[0m             \u001b[0;32mimport\u001b[0m \u001b[0mnumpy\u001b[0m\u001b[0;34m.\u001b[0m\u001b[0mma\u001b[0m\u001b[0;34m.\u001b[0m\u001b[0mmrecords\u001b[0m \u001b[0;32mas\u001b[0m \u001b[0mmrecords\u001b[0m\u001b[0;34m\u001b[0m\u001b[0;34m\u001b[0m\u001b[0m\n",
      "\u001b[0;32m~/miniconda3/lib/python3.7/site-packages/pandas/core/internals/construction.py\u001b[0m in \u001b[0;36minit_dict\u001b[0;34m(data, index, columns, dtype)\u001b[0m\n\u001b[1;32m    210\u001b[0m         \u001b[0marrays\u001b[0m \u001b[0;34m=\u001b[0m \u001b[0;34m[\u001b[0m\u001b[0mdata\u001b[0m\u001b[0;34m[\u001b[0m\u001b[0mk\u001b[0m\u001b[0;34m]\u001b[0m \u001b[0;32mfor\u001b[0m \u001b[0mk\u001b[0m \u001b[0;32min\u001b[0m \u001b[0mkeys\u001b[0m\u001b[0;34m]\u001b[0m\u001b[0;34m\u001b[0m\u001b[0;34m\u001b[0m\u001b[0m\n\u001b[1;32m    211\u001b[0m \u001b[0;34m\u001b[0m\u001b[0m\n\u001b[0;32m--> 212\u001b[0;31m     \u001b[0;32mreturn\u001b[0m \u001b[0marrays_to_mgr\u001b[0m\u001b[0;34m(\u001b[0m\u001b[0marrays\u001b[0m\u001b[0;34m,\u001b[0m \u001b[0mdata_names\u001b[0m\u001b[0;34m,\u001b[0m \u001b[0mindex\u001b[0m\u001b[0;34m,\u001b[0m \u001b[0mcolumns\u001b[0m\u001b[0;34m,\u001b[0m \u001b[0mdtype\u001b[0m\u001b[0;34m=\u001b[0m\u001b[0mdtype\u001b[0m\u001b[0;34m)\u001b[0m\u001b[0;34m\u001b[0m\u001b[0;34m\u001b[0m\u001b[0m\n\u001b[0m\u001b[1;32m    213\u001b[0m \u001b[0;34m\u001b[0m\u001b[0m\n\u001b[1;32m    214\u001b[0m \u001b[0;34m\u001b[0m\u001b[0m\n",
      "\u001b[0;32m~/miniconda3/lib/python3.7/site-packages/pandas/core/internals/construction.py\u001b[0m in \u001b[0;36marrays_to_mgr\u001b[0;34m(arrays, arr_names, index, columns, dtype)\u001b[0m\n\u001b[1;32m     54\u001b[0m \u001b[0;34m\u001b[0m\u001b[0m\n\u001b[1;32m     55\u001b[0m     \u001b[0;31m# don't force copy because getting jammed in an ndarray anyway\u001b[0m\u001b[0;34m\u001b[0m\u001b[0;34m\u001b[0m\u001b[0;34m\u001b[0m\u001b[0m\n\u001b[0;32m---> 56\u001b[0;31m     \u001b[0marrays\u001b[0m \u001b[0;34m=\u001b[0m \u001b[0m_homogenize\u001b[0m\u001b[0;34m(\u001b[0m\u001b[0marrays\u001b[0m\u001b[0;34m,\u001b[0m \u001b[0mindex\u001b[0m\u001b[0;34m,\u001b[0m \u001b[0mdtype\u001b[0m\u001b[0;34m)\u001b[0m\u001b[0;34m\u001b[0m\u001b[0;34m\u001b[0m\u001b[0m\n\u001b[0m\u001b[1;32m     57\u001b[0m \u001b[0;34m\u001b[0m\u001b[0m\n\u001b[1;32m     58\u001b[0m     \u001b[0;31m# from BlockManager perspective\u001b[0m\u001b[0;34m\u001b[0m\u001b[0;34m\u001b[0m\u001b[0;34m\u001b[0m\u001b[0m\n",
      "\u001b[0;32m~/miniconda3/lib/python3.7/site-packages/pandas/core/internals/construction.py\u001b[0m in \u001b[0;36m_homogenize\u001b[0;34m(data, index, dtype)\u001b[0m\n\u001b[1;32m    275\u001b[0m                 \u001b[0mval\u001b[0m \u001b[0;34m=\u001b[0m \u001b[0mlib\u001b[0m\u001b[0;34m.\u001b[0m\u001b[0mfast_multiget\u001b[0m\u001b[0;34m(\u001b[0m\u001b[0mval\u001b[0m\u001b[0;34m,\u001b[0m \u001b[0moindex\u001b[0m\u001b[0;34m.\u001b[0m\u001b[0mvalues\u001b[0m\u001b[0;34m,\u001b[0m \u001b[0mdefault\u001b[0m\u001b[0;34m=\u001b[0m\u001b[0mnp\u001b[0m\u001b[0;34m.\u001b[0m\u001b[0mnan\u001b[0m\u001b[0;34m)\u001b[0m\u001b[0;34m\u001b[0m\u001b[0;34m\u001b[0m\u001b[0m\n\u001b[1;32m    276\u001b[0m             val = sanitize_array(val, index, dtype=dtype, copy=False,\n\u001b[0;32m--> 277\u001b[0;31m                                  raise_cast_failure=False)\n\u001b[0m\u001b[1;32m    278\u001b[0m \u001b[0;34m\u001b[0m\u001b[0m\n\u001b[1;32m    279\u001b[0m         \u001b[0mhomogenized\u001b[0m\u001b[0;34m.\u001b[0m\u001b[0mappend\u001b[0m\u001b[0;34m(\u001b[0m\u001b[0mval\u001b[0m\u001b[0;34m)\u001b[0m\u001b[0;34m\u001b[0m\u001b[0;34m\u001b[0m\u001b[0m\n",
      "\u001b[0;32m~/miniconda3/lib/python3.7/site-packages/pandas/core/internals/construction.py\u001b[0m in \u001b[0;36msanitize_array\u001b[0;34m(data, index, dtype, copy, raise_cast_failure)\u001b[0m\n\u001b[1;32m    672\u001b[0m \u001b[0;34m\u001b[0m\u001b[0m\n\u001b[1;32m    673\u001b[0m     \u001b[0;32mif\u001b[0m \u001b[0mis_object_dtype\u001b[0m\u001b[0;34m(\u001b[0m\u001b[0msubarr\u001b[0m\u001b[0;34m.\u001b[0m\u001b[0mdtype\u001b[0m\u001b[0;34m)\u001b[0m \u001b[0;32mand\u001b[0m \u001b[0mdtype\u001b[0m \u001b[0;34m!=\u001b[0m \u001b[0;34m'object'\u001b[0m\u001b[0;34m:\u001b[0m\u001b[0;34m\u001b[0m\u001b[0;34m\u001b[0m\u001b[0m\n\u001b[0;32m--> 674\u001b[0;31m         \u001b[0minferred\u001b[0m \u001b[0;34m=\u001b[0m \u001b[0mlib\u001b[0m\u001b[0;34m.\u001b[0m\u001b[0minfer_dtype\u001b[0m\u001b[0;34m(\u001b[0m\u001b[0msubarr\u001b[0m\u001b[0;34m,\u001b[0m \u001b[0mskipna\u001b[0m\u001b[0;34m=\u001b[0m\u001b[0;32mFalse\u001b[0m\u001b[0;34m)\u001b[0m\u001b[0;34m\u001b[0m\u001b[0;34m\u001b[0m\u001b[0m\n\u001b[0m\u001b[1;32m    675\u001b[0m         \u001b[0;32mif\u001b[0m \u001b[0minferred\u001b[0m \u001b[0;34m==\u001b[0m \u001b[0;34m'period'\u001b[0m\u001b[0;34m:\u001b[0m\u001b[0;34m\u001b[0m\u001b[0;34m\u001b[0m\u001b[0m\n\u001b[1;32m    676\u001b[0m             \u001b[0;32mtry\u001b[0m\u001b[0;34m:\u001b[0m\u001b[0;34m\u001b[0m\u001b[0;34m\u001b[0m\u001b[0m\n",
      "\u001b[0;31mKeyboardInterrupt\u001b[0m: "
     ]
    }
   ],
   "source": [
    "self.build_matrix()"
   ]
  },
  {
   "cell_type": "code",
   "execution_count": null,
   "metadata": {},
   "outputs": [],
   "source": []
  },
  {
   "cell_type": "code",
   "execution_count": 12,
   "metadata": {},
   "outputs": [
    {
     "name": "stdout",
     "output_type": "stream",
     "text": [
      "Indexing VCF to HDF5 database file\n",
      "VCF: 205405 snps; 39051 scaffolds\n",
      "HDF5: 205405 snps; 39051 scaffolds; 39051 linkage group\n",
      "SNP database written to ./analysis-vcf2hdf5/test.snps.hdf5\n"
     ]
    },
    {
     "ename": "AttributeError",
     "evalue": "'VCFtoHDF5' object has no attribute 'run'",
     "output_type": "error",
     "traceback": [
      "\u001b[0;31m---------------------------------------------------------------------------\u001b[0m",
      "\u001b[0;31mAttributeError\u001b[0m                            Traceback (most recent call last)",
      "\u001b[0;32m<ipython-input-12-fdea1145b6ac>\u001b[0m in \u001b[0;36m<module>\u001b[0;34m\u001b[0m\n\u001b[1;32m      3\u001b[0m \u001b[0;34m\u001b[0m\u001b[0m\n\u001b[1;32m      4\u001b[0m \u001b[0;31m# run the conversion\u001b[0m\u001b[0;34m\u001b[0m\u001b[0;34m\u001b[0m\u001b[0;34m\u001b[0m\u001b[0m\n\u001b[0;32m----> 5\u001b[0;31m \u001b[0mself\u001b[0m\u001b[0;34m.\u001b[0m\u001b[0mrun\u001b[0m\u001b[0;34m(\u001b[0m\u001b[0;34m)\u001b[0m\u001b[0;34m\u001b[0m\u001b[0;34m\u001b[0m\u001b[0m\n\u001b[0m",
      "\u001b[0;31mAttributeError\u001b[0m: 'VCFtoHDF5' object has no attribute 'run'"
     ]
    }
   ],
   "source": [
    "# init a conversion tool\n",
    "self = ipa.vcf_to_hdf5(data=data, ld_block_size=200)\n",
    "\n",
    "# run the conversion\n",
    "self.run()"
   ]
  },
  {
   "cell_type": "code",
   "execution_count": 3,
   "metadata": {},
   "outputs": [
    {
     "data": {
      "text/plain": [
       "'./analysis-vcf2hdf5/test.snps.hdf5'"
      ]
     },
     "execution_count": 3,
     "metadata": {},
     "output_type": "execute_result"
    }
   ],
   "source": [
    "# the new hdf5 database file\n",
    "self.database"
   ]
  },
  {
   "cell_type": "markdown",
   "metadata": {},
   "source": [
    "### Downstream analyses"
   ]
  },
  {
   "cell_type": "code",
   "execution_count": 4,
   "metadata": {},
   "outputs": [
    {
     "name": "stdout",
     "output_type": "stream",
     "text": [
      "loading snps array [13 taxa x 205405 snps]\n",
      "max unlinked SNPs per quartet (nloci): 39051\n",
      "quartet sampler (full): 715 / 715\n"
     ]
    }
   ],
   "source": [
    "tet = ipa.tetrad(\n",
    "    name=\"test-vcf\",\n",
    "    data=self.database,\n",
    "    nboots=10,\n",
    ")"
   ]
  },
  {
   "cell_type": "code",
   "execution_count": 5,
   "metadata": {},
   "outputs": [
    {
     "name": "stdout",
     "output_type": "stream",
     "text": [
      "Parallel connection | oud: 4 cores\n",
      "initializing quartet sets database\n",
      "[####################] 100% 0:00:05 | inferring full tree    \n",
      "[####################] 100% 0:00:00 | bootstrap inference 1 \n",
      "[####################] 100% 0:00:00 | bootstrap inference 2 \n",
      "[####################] 100% 0:00:00 | bootstrap inference 3 \n",
      "[####################] 100% 0:00:00 | bootstrap inference 4 \n",
      "[####################] 100% 0:00:00 | bootstrap inference 5 \n",
      "[####################] 100% 0:00:00 | bootstrap inference 6 \n",
      "[####################] 100% 0:00:00 | bootstrap inference 7 \n",
      "[####################] 100% 0:00:00 | bootstrap inference 8 \n",
      "[####################] 100% 0:00:00 | bootstrap inference 9 \n",
      "[####################] 100% 0:00:00 | bootstrap inference 10 \n"
     ]
    }
   ],
   "source": [
    "tet.run(auto=True, force=True, quiet=False)"
   ]
  },
  {
   "cell_type": "code",
   "execution_count": 6,
   "metadata": {},
   "outputs": [
    {
     "data": {
      "text/plain": [
       "('tree', '/home/deren/Documents/ipyrad/tests/analysis-tetrad/test-vcf.tree')\n",
       "('cons', '/home/deren/Documents/ipyrad/tests/analysis-tetrad/test-vcf.tree.cons')\n",
       "('boots', '/home/deren/Documents/ipyrad/tests/analysis-tetrad/test-vcf.tree.boots')\n",
       "('nhx', '/home/deren/Documents/ipyrad/tests/analysis-tetrad/test-vcf.tree.nhx')"
      ]
     },
     "execution_count": 6,
     "metadata": {},
     "output_type": "execute_result"
    }
   ],
   "source": [
    "tet.trees"
   ]
  },
  {
   "cell_type": "code",
   "execution_count": 11,
   "metadata": {},
   "outputs": [
    {
     "data": {
      "text/html": [
       "<div class=\"toyplot\" id=\"t5f789af52fe0460bab4f212d4434ff7b\" style=\"text-align:center\"><svg class=\"toyplot-canvas-Canvas\" height=\"275.0px\" id=\"t675054117b7742a4b0b441e0865e577b\" preserveAspectRatio=\"xMidYMid meet\" style=\"background-color:transparent;border-color:#292724;border-style:none;border-width:1.0;fill:rgb(16.1%,15.3%,14.1%);fill-opacity:1.0;font-family:Helvetica;font-size:12px;opacity:1.0;stroke:rgb(16.1%,15.3%,14.1%);stroke-opacity:1.0;stroke-width:1.0\" viewBox=\"0 0 360.0 275.0\" width=\"360.0px\" xmlns=\"http://www.w3.org/2000/svg\" xmlns:toyplot=\"http://www.sandia.gov/toyplot\" xmlns:xlink=\"http://www.w3.org/1999/xlink\"><g class=\"toyplot-coordinates-Cartesian\" id=\"td399b5ac4a924af3b28b2e7509006c23\"><clipPath id=\"t21a7cf3ad33e44eab02fcc5bd83e7da3\"><rect height=\"215.0\" width=\"300.0\" x=\"30.0\" y=\"30.0\"></rect></clipPath><g clip-path=\"url(#t21a7cf3ad33e44eab02fcc5bd83e7da3)\"><g class=\"toyplot-mark-Text\" id=\"t00585df988294a5bbef0b40ce95b2016\"><g class=\"toyplot-Series\"><g class=\"toyplot-Datum\" transform=\"translate(173.80952380952382,218.86291179596174)\"><text style=\"fill:rgb(14.9%,14.9%,14.9%);fill-opacity:1.0;font-family:helvetica;font-size:11.0px;font-weight:normal;opacity:1;stroke:none;vertical-align:baseline;white-space:pre\" x=\"15.0\" y=\"2.8104999999999993\">35236_rex</text></g><g class=\"toyplot-Datum\" transform=\"translate(173.80952380952382,205.30242649663478)\"><text style=\"fill:rgb(14.9%,14.9%,14.9%);fill-opacity:1.0;font-family:helvetica;font-size:11.0px;font-weight:normal;opacity:1;stroke:none;vertical-align:baseline;white-space:pre\" x=\"15.0\" y=\"2.8104999999999993\">30556_thamno</text></g><g class=\"toyplot-Datum\" transform=\"translate(173.80952380952382,191.74194119730782)\"><text style=\"fill:rgb(14.9%,14.9%,14.9%);fill-opacity:1.0;font-family:helvetica;font-size:11.0px;font-weight:normal;opacity:1;stroke:none;vertical-align:baseline;white-space:pre\" x=\"15.0\" y=\"2.8104999999999993\">40578_rex</text></g><g class=\"toyplot-Datum\" transform=\"translate(173.80952380952382,178.18145589798087)\"><text style=\"fill:rgb(14.9%,14.9%,14.9%);fill-opacity:1.0;font-family:helvetica;font-size:11.0px;font-weight:normal;opacity:1;stroke:none;vertical-align:baseline;white-space:pre\" x=\"15.0\" y=\"2.8104999999999993\">35855_rex</text></g><g class=\"toyplot-Datum\" transform=\"translate(173.80952380952382,164.6209705986539)\"><text style=\"fill:rgb(14.9%,14.9%,14.9%);fill-opacity:1.0;font-family:helvetica;font-size:11.0px;font-weight:normal;opacity:1;stroke:none;vertical-align:baseline;white-space:pre\" x=\"15.0\" y=\"2.8104999999999993\">39618_rex</text></g><g class=\"toyplot-Datum\" transform=\"translate(173.80952380952382,151.06048529932696)\"><text style=\"fill:rgb(14.9%,14.9%,14.9%);fill-opacity:1.0;font-family:helvetica;font-size:11.0px;font-weight:normal;opacity:1;stroke:none;vertical-align:baseline;white-space:pre\" x=\"15.0\" y=\"2.8104999999999993\">38362_rex</text></g><g class=\"toyplot-Datum\" transform=\"translate(173.80952380952382,137.5)\"><text style=\"fill:rgb(14.9%,14.9%,14.9%);fill-opacity:1.0;font-family:helvetica;font-size:11.0px;font-weight:normal;opacity:1;stroke:none;vertical-align:baseline;white-space:pre\" x=\"15.0\" y=\"2.8104999999999993\">33413_thamno</text></g><g class=\"toyplot-Datum\" transform=\"translate(173.80952380952382,123.93951470067304)\"><text style=\"fill:rgb(14.9%,14.9%,14.9%);fill-opacity:1.0;font-family:helvetica;font-size:11.0px;font-weight:normal;opacity:1;stroke:none;vertical-align:baseline;white-space:pre\" x=\"15.0\" y=\"2.8104999999999993\">30686_cyathophylla</text></g><g class=\"toyplot-Datum\" transform=\"translate(173.80952380952382,110.37902940134609)\"><text style=\"fill:rgb(14.9%,14.9%,14.9%);fill-opacity:1.0;font-family:helvetica;font-size:11.0px;font-weight:normal;opacity:1;stroke:none;vertical-align:baseline;white-space:pre\" x=\"15.0\" y=\"2.8104999999999993\">29154_superba</text></g><g class=\"toyplot-Datum\" transform=\"translate(173.80952380952382,96.81854410201913)\"><text style=\"fill:rgb(14.9%,14.9%,14.9%);fill-opacity:1.0;font-family:helvetica;font-size:11.0px;font-weight:normal;opacity:1;stroke:none;vertical-align:baseline;white-space:pre\" x=\"15.0\" y=\"2.8104999999999993\">41954_cyathophylloides</text></g><g class=\"toyplot-Datum\" transform=\"translate(173.80952380952382,83.25805880269218)\"><text style=\"fill:rgb(14.9%,14.9%,14.9%);fill-opacity:1.0;font-family:helvetica;font-size:11.0px;font-weight:normal;opacity:1;stroke:none;vertical-align:baseline;white-space:pre\" x=\"15.0\" y=\"2.8104999999999993\">41478_cyathophylloides</text></g><g class=\"toyplot-Datum\" transform=\"translate(173.80952380952382,69.6975735033652)\"><text style=\"fill:rgb(14.9%,14.9%,14.9%);fill-opacity:1.0;font-family:helvetica;font-size:11.0px;font-weight:normal;opacity:1;stroke:none;vertical-align:baseline;white-space:pre\" x=\"15.0\" y=\"2.8104999999999993\">33588_przewalskii</text></g><g class=\"toyplot-Datum\" transform=\"translate(173.80952380952382,56.13708820403825)\"><text style=\"fill:rgb(14.9%,14.9%,14.9%);fill-opacity:1.0;font-family:helvetica;font-size:11.0px;font-weight:normal;opacity:1;stroke:none;vertical-align:baseline;white-space:pre\" x=\"15.0\" y=\"2.8104999999999993\">32082_przewalskii</text></g></g></g><g class=\"toyplot-mark-Graph\" id=\"t9b53980f084f4ab182a77812b9a54a9f\"><g class=\"toyplot-Edges\"><path d=\"M 50.0 62.91733085370173 L 153.17460317460316 62.91733085370173\" style=\"fill:none;opacity:1;stroke:rgb(14.9%,14.9%,14.9%);stroke-linecap:round;stroke-opacity:1.0;stroke-width:2.0\"></path><path d=\"M 50.0 130.71975735033652 L 70.63492063492063 130.71975735033652\" style=\"fill:none;opacity:1;stroke:rgb(14.9%,14.9%,14.9%);stroke-linecap:round;stroke-opacity:1.0;stroke-width:2.0\"></path><path d=\"M 153.17460317460316 56.13708820403825 L 173.80952380952382 56.13708820403825\" style=\"fill:none;opacity:1;stroke:rgb(14.9%,14.9%,14.9%);stroke-linecap:round;stroke-opacity:1.0;stroke-width:2.0\"></path><path d=\"M 153.17460317460316 69.6975735033652 L 173.80952380952382 69.6975735033652\" style=\"fill:none;opacity:1;stroke:rgb(14.9%,14.9%,14.9%);stroke-linecap:round;stroke-opacity:1.0;stroke-width:2.0\"></path><path d=\"M 70.63492063492063 103.59878675168261 L 132.53968253968253 103.59878675168261\" style=\"fill:none;opacity:1;stroke:rgb(14.9%,14.9%,14.9%);stroke-linecap:round;stroke-opacity:1.0;stroke-width:2.0\"></path><path d=\"M 70.63492063492063 157.84072794899043 L 91.26984126984127 157.84072794899043\" style=\"fill:none;opacity:1;stroke:rgb(14.9%,14.9%,14.9%);stroke-linecap:round;stroke-opacity:1.0;stroke-width:2.0\"></path><path d=\"M 132.53968253968253 90.03830145235565 L 153.17460317460316 90.03830145235565\" style=\"fill:none;opacity:1;stroke:rgb(14.9%,14.9%,14.9%);stroke-linecap:round;stroke-opacity:1.0;stroke-width:2.0\"></path><path d=\"M 132.53968253968253 117.15927205100957 L 153.17460317460316 117.15927205100957\" style=\"fill:none;opacity:1;stroke:rgb(14.9%,14.9%,14.9%);stroke-linecap:round;stroke-opacity:1.0;stroke-width:2.0\"></path><path d=\"M 91.26984126984127 137.5 L 173.80952380952382 137.5\" style=\"fill:none;opacity:1;stroke:rgb(14.9%,14.9%,14.9%);stroke-linecap:round;stroke-opacity:1.0;stroke-width:2.0\"></path><path d=\"M 91.26984126984127 178.18145589798087 L 111.9047619047619 178.18145589798087\" style=\"fill:none;opacity:1;stroke:rgb(14.9%,14.9%,14.9%);stroke-linecap:round;stroke-opacity:1.0;stroke-width:2.0\"></path><path d=\"M 153.17460317460316 83.25805880269218 L 173.80952380952382 83.25805880269218\" style=\"fill:none;opacity:1;stroke:rgb(14.9%,14.9%,14.9%);stroke-linecap:round;stroke-opacity:1.0;stroke-width:2.0\"></path><path d=\"M 153.17460317460316 96.81854410201913 L 173.80952380952382 96.81854410201913\" style=\"fill:none;opacity:1;stroke:rgb(14.9%,14.9%,14.9%);stroke-linecap:round;stroke-opacity:1.0;stroke-width:2.0\"></path><path d=\"M 153.17460317460316 110.37902940134609 L 173.80952380952382 110.37902940134609\" style=\"fill:none;opacity:1;stroke:rgb(14.9%,14.9%,14.9%);stroke-linecap:round;stroke-opacity:1.0;stroke-width:2.0\"></path><path d=\"M 153.17460317460316 123.93951470067304 L 173.80952380952382 123.93951470067304\" style=\"fill:none;opacity:1;stroke:rgb(14.9%,14.9%,14.9%);stroke-linecap:round;stroke-opacity:1.0;stroke-width:2.0\"></path><path d=\"M 111.9047619047619 157.84072794899043 L 153.17460317460316 157.84072794899043\" style=\"fill:none;opacity:1;stroke:rgb(14.9%,14.9%,14.9%);stroke-linecap:round;stroke-opacity:1.0;stroke-width:2.0\"></path><path d=\"M 111.9047619047619 198.5221838469713 L 132.53968253968253 198.5221838469713\" style=\"fill:none;opacity:1;stroke:rgb(14.9%,14.9%,14.9%);stroke-linecap:round;stroke-opacity:1.0;stroke-width:2.0\"></path><path d=\"M 153.17460317460316 151.06048529932696 L 173.80952380952382 151.06048529932696\" style=\"fill:none;opacity:1;stroke:rgb(14.9%,14.9%,14.9%);stroke-linecap:round;stroke-opacity:1.0;stroke-width:2.0\"></path><path d=\"M 153.17460317460316 164.6209705986539 L 173.80952380952382 164.6209705986539\" style=\"fill:none;opacity:1;stroke:rgb(14.9%,14.9%,14.9%);stroke-linecap:round;stroke-opacity:1.0;stroke-width:2.0\"></path><path d=\"M 132.53968253968253 184.96169854764435 L 153.17460317460316 184.96169854764435\" style=\"fill:none;opacity:1;stroke:rgb(14.9%,14.9%,14.9%);stroke-linecap:round;stroke-opacity:1.0;stroke-width:2.0\"></path><path d=\"M 132.53968253968253 212.08266914629826 L 153.17460317460316 212.08266914629826\" style=\"fill:none;opacity:1;stroke:rgb(14.9%,14.9%,14.9%);stroke-linecap:round;stroke-opacity:1.0;stroke-width:2.0\"></path><path d=\"M 153.17460317460316 178.18145589798087 L 173.80952380952382 178.18145589798087\" style=\"fill:none;opacity:1;stroke:rgb(14.9%,14.9%,14.9%);stroke-linecap:round;stroke-opacity:1.0;stroke-width:2.0\"></path><path d=\"M 153.17460317460316 191.74194119730782 L 173.80952380952382 191.74194119730782\" style=\"fill:none;opacity:1;stroke:rgb(14.9%,14.9%,14.9%);stroke-linecap:round;stroke-opacity:1.0;stroke-width:2.0\"></path><path d=\"M 153.17460317460316 205.30242649663478 L 173.80952380952382 205.30242649663478\" style=\"fill:none;opacity:1;stroke:rgb(14.9%,14.9%,14.9%);stroke-linecap:round;stroke-opacity:1.0;stroke-width:2.0\"></path><path d=\"M 153.17460317460316 218.86291179596174 L 173.80952380952382 218.86291179596174\" style=\"fill:none;opacity:1;stroke:rgb(14.9%,14.9%,14.9%);stroke-linecap:round;stroke-opacity:1.0;stroke-width:2.0\"></path><path d=\"M 50.0 96.81854410201913 L 50.0 62.91733085370173\" style=\"fill:none;opacity:1;stroke:rgb(14.9%,14.9%,14.9%);stroke-linecap:round;stroke-opacity:1.0;stroke-width:2.0\"></path><path d=\"M 50.0 96.81854410201913 L 50.0 130.71975735033652\" style=\"fill:none;opacity:1;stroke:rgb(14.9%,14.9%,14.9%);stroke-linecap:round;stroke-opacity:1.0;stroke-width:2.0\"></path><path d=\"M 153.17460317460316 62.91733085370173 L 153.17460317460316 56.13708820403825\" style=\"fill:none;opacity:1;stroke:rgb(14.9%,14.9%,14.9%);stroke-linecap:round;stroke-opacity:1.0;stroke-width:2.0\"></path><path d=\"M 153.17460317460316 62.91733085370173 L 153.17460317460316 69.6975735033652\" style=\"fill:none;opacity:1;stroke:rgb(14.9%,14.9%,14.9%);stroke-linecap:round;stroke-opacity:1.0;stroke-width:2.0\"></path><path d=\"M 70.63492063492063 130.71975735033652 L 70.63492063492063 103.59878675168261\" style=\"fill:none;opacity:1;stroke:rgb(14.9%,14.9%,14.9%);stroke-linecap:round;stroke-opacity:1.0;stroke-width:2.0\"></path><path d=\"M 70.63492063492063 130.71975735033652 L 70.63492063492063 157.84072794899043\" style=\"fill:none;opacity:1;stroke:rgb(14.9%,14.9%,14.9%);stroke-linecap:round;stroke-opacity:1.0;stroke-width:2.0\"></path><path d=\"M 132.53968253968253 103.59878675168261 L 132.53968253968253 90.03830145235565\" style=\"fill:none;opacity:1;stroke:rgb(14.9%,14.9%,14.9%);stroke-linecap:round;stroke-opacity:1.0;stroke-width:2.0\"></path><path d=\"M 132.53968253968253 103.59878675168261 L 132.53968253968253 117.15927205100957\" style=\"fill:none;opacity:1;stroke:rgb(14.9%,14.9%,14.9%);stroke-linecap:round;stroke-opacity:1.0;stroke-width:2.0\"></path><path d=\"M 91.26984126984127 157.84072794899043 L 91.26984126984127 137.5\" style=\"fill:none;opacity:1;stroke:rgb(14.9%,14.9%,14.9%);stroke-linecap:round;stroke-opacity:1.0;stroke-width:2.0\"></path><path d=\"M 91.26984126984127 157.84072794899043 L 91.26984126984127 178.18145589798087\" style=\"fill:none;opacity:1;stroke:rgb(14.9%,14.9%,14.9%);stroke-linecap:round;stroke-opacity:1.0;stroke-width:2.0\"></path><path d=\"M 153.17460317460316 90.03830145235565 L 153.17460317460316 83.25805880269218\" style=\"fill:none;opacity:1;stroke:rgb(14.9%,14.9%,14.9%);stroke-linecap:round;stroke-opacity:1.0;stroke-width:2.0\"></path><path d=\"M 153.17460317460316 90.03830145235565 L 153.17460317460316 96.81854410201913\" style=\"fill:none;opacity:1;stroke:rgb(14.9%,14.9%,14.9%);stroke-linecap:round;stroke-opacity:1.0;stroke-width:2.0\"></path><path d=\"M 153.17460317460316 117.15927205100957 L 153.17460317460316 110.37902940134609\" style=\"fill:none;opacity:1;stroke:rgb(14.9%,14.9%,14.9%);stroke-linecap:round;stroke-opacity:1.0;stroke-width:2.0\"></path><path d=\"M 153.17460317460316 117.15927205100957 L 153.17460317460316 123.93951470067304\" style=\"fill:none;opacity:1;stroke:rgb(14.9%,14.9%,14.9%);stroke-linecap:round;stroke-opacity:1.0;stroke-width:2.0\"></path><path d=\"M 111.9047619047619 178.18145589798087 L 111.9047619047619 157.84072794899043\" style=\"fill:none;opacity:1;stroke:rgb(14.9%,14.9%,14.9%);stroke-linecap:round;stroke-opacity:1.0;stroke-width:2.0\"></path><path d=\"M 111.9047619047619 178.18145589798087 L 111.9047619047619 198.5221838469713\" style=\"fill:none;opacity:1;stroke:rgb(14.9%,14.9%,14.9%);stroke-linecap:round;stroke-opacity:1.0;stroke-width:2.0\"></path><path d=\"M 153.17460317460316 157.84072794899043 L 153.17460317460316 151.06048529932696\" style=\"fill:none;opacity:1;stroke:rgb(14.9%,14.9%,14.9%);stroke-linecap:round;stroke-opacity:1.0;stroke-width:2.0\"></path><path d=\"M 153.17460317460316 157.84072794899043 L 153.17460317460316 164.6209705986539\" style=\"fill:none;opacity:1;stroke:rgb(14.9%,14.9%,14.9%);stroke-linecap:round;stroke-opacity:1.0;stroke-width:2.0\"></path><path d=\"M 132.53968253968253 198.5221838469713 L 132.53968253968253 184.96169854764435\" style=\"fill:none;opacity:1;stroke:rgb(14.9%,14.9%,14.9%);stroke-linecap:round;stroke-opacity:1.0;stroke-width:2.0\"></path><path d=\"M 132.53968253968253 198.5221838469713 L 132.53968253968253 212.08266914629826\" style=\"fill:none;opacity:1;stroke:rgb(14.9%,14.9%,14.9%);stroke-linecap:round;stroke-opacity:1.0;stroke-width:2.0\"></path><path d=\"M 153.17460317460316 184.96169854764435 L 153.17460317460316 178.18145589798087\" style=\"fill:none;opacity:1;stroke:rgb(14.9%,14.9%,14.9%);stroke-linecap:round;stroke-opacity:1.0;stroke-width:2.0\"></path><path d=\"M 153.17460317460316 184.96169854764435 L 153.17460317460316 191.74194119730782\" style=\"fill:none;opacity:1;stroke:rgb(14.9%,14.9%,14.9%);stroke-linecap:round;stroke-opacity:1.0;stroke-width:2.0\"></path><path d=\"M 153.17460317460316 212.08266914629826 L 153.17460317460316 205.30242649663478\" style=\"fill:none;opacity:1;stroke:rgb(14.9%,14.9%,14.9%);stroke-linecap:round;stroke-opacity:1.0;stroke-width:2.0\"></path><path d=\"M 153.17460317460316 212.08266914629826 L 153.17460317460316 218.86291179596174\" style=\"fill:none;opacity:1;stroke:rgb(14.9%,14.9%,14.9%);stroke-linecap:round;stroke-opacity:1.0;stroke-width:2.0\"></path><g class=\"toyplot-HeadMarkers\"></g><g class=\"toyplot-MiddleMarkers\"></g><g class=\"toyplot-TailMarkers\"></g></g><g class=\"toyplot-Vertices\"><g class=\"toyplot-Datum\" style=\"fill:rgb(40%,76.1%,64.7%);fill-opacity:1.0;opacity:1.0;stroke:rgb(40%,76.1%,64.7%);stroke-opacity:1.0\" transform=\"translate(173.80952380952382, 218.86291179596174)\"><circle r=\"0.0\"></circle></g><g class=\"toyplot-Datum\" style=\"fill:rgb(40%,76.1%,64.7%);fill-opacity:1.0;opacity:1.0;stroke:rgb(40%,76.1%,64.7%);stroke-opacity:1.0\" transform=\"translate(173.80952380952382, 205.30242649663478)\"><circle r=\"0.0\"></circle></g><g class=\"toyplot-Datum\" style=\"fill:rgb(40%,76.1%,64.7%);fill-opacity:1.0;opacity:1.0;stroke:rgb(40%,76.1%,64.7%);stroke-opacity:1.0\" transform=\"translate(173.80952380952382, 191.74194119730782)\"><circle r=\"0.0\"></circle></g><g class=\"toyplot-Datum\" style=\"fill:rgb(40%,76.1%,64.7%);fill-opacity:1.0;opacity:1.0;stroke:rgb(40%,76.1%,64.7%);stroke-opacity:1.0\" transform=\"translate(173.80952380952382, 178.18145589798087)\"><circle r=\"0.0\"></circle></g><g class=\"toyplot-Datum\" style=\"fill:rgb(40%,76.1%,64.7%);fill-opacity:1.0;opacity:1.0;stroke:rgb(40%,76.1%,64.7%);stroke-opacity:1.0\" transform=\"translate(173.80952380952382, 164.6209705986539)\"><circle r=\"0.0\"></circle></g><g class=\"toyplot-Datum\" style=\"fill:rgb(40%,76.1%,64.7%);fill-opacity:1.0;opacity:1.0;stroke:rgb(40%,76.1%,64.7%);stroke-opacity:1.0\" transform=\"translate(173.80952380952382, 151.06048529932696)\"><circle r=\"0.0\"></circle></g><g class=\"toyplot-Datum\" style=\"fill:rgb(40%,76.1%,64.7%);fill-opacity:1.0;opacity:1.0;stroke:rgb(40%,76.1%,64.7%);stroke-opacity:1.0\" transform=\"translate(173.80952380952382, 137.5)\"><circle r=\"0.0\"></circle></g><g class=\"toyplot-Datum\" style=\"fill:rgb(40%,76.1%,64.7%);fill-opacity:1.0;opacity:1.0;stroke:rgb(40%,76.1%,64.7%);stroke-opacity:1.0\" transform=\"translate(173.80952380952382, 123.93951470067304)\"><circle r=\"0.0\"></circle></g><g class=\"toyplot-Datum\" style=\"fill:rgb(40%,76.1%,64.7%);fill-opacity:1.0;opacity:1.0;stroke:rgb(40%,76.1%,64.7%);stroke-opacity:1.0\" transform=\"translate(173.80952380952382, 110.37902940134609)\"><circle r=\"0.0\"></circle></g><g class=\"toyplot-Datum\" style=\"fill:rgb(40%,76.1%,64.7%);fill-opacity:1.0;opacity:1.0;stroke:rgb(40%,76.1%,64.7%);stroke-opacity:1.0\" transform=\"translate(173.80952380952382, 96.81854410201913)\"><circle r=\"0.0\"></circle></g><g class=\"toyplot-Datum\" style=\"fill:rgb(40%,76.1%,64.7%);fill-opacity:1.0;opacity:1.0;stroke:rgb(40%,76.1%,64.7%);stroke-opacity:1.0\" transform=\"translate(173.80952380952382, 83.25805880269218)\"><circle r=\"0.0\"></circle></g><g class=\"toyplot-Datum\" style=\"fill:rgb(40%,76.1%,64.7%);fill-opacity:1.0;opacity:1.0;stroke:rgb(40%,76.1%,64.7%);stroke-opacity:1.0\" transform=\"translate(173.80952380952382, 69.6975735033652)\"><circle r=\"0.0\"></circle></g><g class=\"toyplot-Datum\" style=\"fill:rgb(40%,76.1%,64.7%);fill-opacity:1.0;opacity:1.0;stroke:rgb(40%,76.1%,64.7%);stroke-opacity:1.0\" transform=\"translate(173.80952380952382, 56.13708820403825)\"><circle r=\"0.0\"></circle></g><g class=\"toyplot-Datum\" style=\"fill:rgb(40%,76.1%,64.7%);fill-opacity:1.0;opacity:1.0;stroke:rgb(40%,76.1%,64.7%);stroke-opacity:1.0\" transform=\"translate(153.17460317460316, 212.08266914629826)\"><circle r=\"0.0\"></circle></g><g class=\"toyplot-Datum\" style=\"fill:rgb(40%,76.1%,64.7%);fill-opacity:1.0;opacity:1.0;stroke:rgb(40%,76.1%,64.7%);stroke-opacity:1.0\" transform=\"translate(153.17460317460316, 184.96169854764435)\"><circle r=\"0.0\"></circle></g><g class=\"toyplot-Datum\" style=\"fill:rgb(40%,76.1%,64.7%);fill-opacity:1.0;opacity:1.0;stroke:rgb(40%,76.1%,64.7%);stroke-opacity:1.0\" transform=\"translate(132.53968253968253, 198.5221838469713)\"><circle r=\"0.0\"></circle></g><g class=\"toyplot-Datum\" style=\"fill:rgb(40%,76.1%,64.7%);fill-opacity:1.0;opacity:1.0;stroke:rgb(40%,76.1%,64.7%);stroke-opacity:1.0\" transform=\"translate(153.17460317460316, 157.84072794899043)\"><circle r=\"0.0\"></circle></g><g class=\"toyplot-Datum\" style=\"fill:rgb(40%,76.1%,64.7%);fill-opacity:1.0;opacity:1.0;stroke:rgb(40%,76.1%,64.7%);stroke-opacity:1.0\" transform=\"translate(111.9047619047619, 178.18145589798087)\"><circle r=\"0.0\"></circle></g><g class=\"toyplot-Datum\" style=\"fill:rgb(40%,76.1%,64.7%);fill-opacity:1.0;opacity:1.0;stroke:rgb(40%,76.1%,64.7%);stroke-opacity:1.0\" transform=\"translate(153.17460317460316, 117.15927205100957)\"><circle r=\"0.0\"></circle></g><g class=\"toyplot-Datum\" style=\"fill:rgb(40%,76.1%,64.7%);fill-opacity:1.0;opacity:1.0;stroke:rgb(40%,76.1%,64.7%);stroke-opacity:1.0\" transform=\"translate(153.17460317460316, 90.03830145235565)\"><circle r=\"0.0\"></circle></g><g class=\"toyplot-Datum\" style=\"fill:rgb(40%,76.1%,64.7%);fill-opacity:1.0;opacity:1.0;stroke:rgb(40%,76.1%,64.7%);stroke-opacity:1.0\" transform=\"translate(91.26984126984127, 157.84072794899043)\"><circle r=\"0.0\"></circle></g><g class=\"toyplot-Datum\" style=\"fill:rgb(40%,76.1%,64.7%);fill-opacity:1.0;opacity:1.0;stroke:rgb(40%,76.1%,64.7%);stroke-opacity:1.0\" transform=\"translate(132.53968253968253, 103.59878675168261)\"><circle r=\"0.0\"></circle></g><g class=\"toyplot-Datum\" style=\"fill:rgb(40%,76.1%,64.7%);fill-opacity:1.0;opacity:1.0;stroke:rgb(40%,76.1%,64.7%);stroke-opacity:1.0\" transform=\"translate(70.63492063492063, 130.71975735033652)\"><circle r=\"0.0\"></circle></g><g class=\"toyplot-Datum\" style=\"fill:rgb(40%,76.1%,64.7%);fill-opacity:1.0;opacity:1.0;stroke:rgb(40%,76.1%,64.7%);stroke-opacity:1.0\" transform=\"translate(153.17460317460316, 62.91733085370173)\"><circle r=\"0.0\"></circle></g><g class=\"toyplot-Datum\" style=\"fill:rgb(40%,76.1%,64.7%);fill-opacity:1.0;opacity:1.0;stroke:rgb(40%,76.1%,64.7%);stroke-opacity:1.0\" transform=\"translate(50.0, 96.81854410201913)\"><circle r=\"0.0\"></circle></g><g class=\"toyplot-Datum\" style=\"fill:rgb(40%,76.1%,64.7%);fill-opacity:1.0;opacity:1.0;stroke:rgb(40%,76.1%,64.7%);stroke-opacity:1.0\" transform=\"translate(50.0, 62.91733085370173)\"><circle r=\"0.0\"></circle></g><g class=\"toyplot-Datum\" style=\"fill:rgb(40%,76.1%,64.7%);fill-opacity:1.0;opacity:1.0;stroke:rgb(40%,76.1%,64.7%);stroke-opacity:1.0\" transform=\"translate(50.0, 130.71975735033652)\"><circle r=\"0.0\"></circle></g><g class=\"toyplot-Datum\" style=\"fill:rgb(40%,76.1%,64.7%);fill-opacity:1.0;opacity:1.0;stroke:rgb(40%,76.1%,64.7%);stroke-opacity:1.0\" transform=\"translate(153.17460317460316, 56.13708820403825)\"><circle r=\"0.0\"></circle></g><g class=\"toyplot-Datum\" style=\"fill:rgb(40%,76.1%,64.7%);fill-opacity:1.0;opacity:1.0;stroke:rgb(40%,76.1%,64.7%);stroke-opacity:1.0\" transform=\"translate(153.17460317460316, 69.6975735033652)\"><circle r=\"0.0\"></circle></g><g class=\"toyplot-Datum\" style=\"fill:rgb(40%,76.1%,64.7%);fill-opacity:1.0;opacity:1.0;stroke:rgb(40%,76.1%,64.7%);stroke-opacity:1.0\" transform=\"translate(70.63492063492063, 103.59878675168261)\"><circle r=\"0.0\"></circle></g><g class=\"toyplot-Datum\" style=\"fill:rgb(40%,76.1%,64.7%);fill-opacity:1.0;opacity:1.0;stroke:rgb(40%,76.1%,64.7%);stroke-opacity:1.0\" transform=\"translate(70.63492063492063, 157.84072794899043)\"><circle r=\"0.0\"></circle></g><g class=\"toyplot-Datum\" style=\"fill:rgb(40%,76.1%,64.7%);fill-opacity:1.0;opacity:1.0;stroke:rgb(40%,76.1%,64.7%);stroke-opacity:1.0\" transform=\"translate(132.53968253968253, 90.03830145235565)\"><circle r=\"0.0\"></circle></g><g class=\"toyplot-Datum\" style=\"fill:rgb(40%,76.1%,64.7%);fill-opacity:1.0;opacity:1.0;stroke:rgb(40%,76.1%,64.7%);stroke-opacity:1.0\" transform=\"translate(132.53968253968253, 117.15927205100957)\"><circle r=\"0.0\"></circle></g><g class=\"toyplot-Datum\" style=\"fill:rgb(40%,76.1%,64.7%);fill-opacity:1.0;opacity:1.0;stroke:rgb(40%,76.1%,64.7%);stroke-opacity:1.0\" transform=\"translate(91.26984126984127, 137.5)\"><circle r=\"0.0\"></circle></g><g class=\"toyplot-Datum\" style=\"fill:rgb(40%,76.1%,64.7%);fill-opacity:1.0;opacity:1.0;stroke:rgb(40%,76.1%,64.7%);stroke-opacity:1.0\" transform=\"translate(91.26984126984127, 178.18145589798087)\"><circle r=\"0.0\"></circle></g><g class=\"toyplot-Datum\" style=\"fill:rgb(40%,76.1%,64.7%);fill-opacity:1.0;opacity:1.0;stroke:rgb(40%,76.1%,64.7%);stroke-opacity:1.0\" transform=\"translate(153.17460317460316, 83.25805880269218)\"><circle r=\"0.0\"></circle></g><g class=\"toyplot-Datum\" style=\"fill:rgb(40%,76.1%,64.7%);fill-opacity:1.0;opacity:1.0;stroke:rgb(40%,76.1%,64.7%);stroke-opacity:1.0\" transform=\"translate(153.17460317460316, 96.81854410201913)\"><circle r=\"0.0\"></circle></g><g class=\"toyplot-Datum\" style=\"fill:rgb(40%,76.1%,64.7%);fill-opacity:1.0;opacity:1.0;stroke:rgb(40%,76.1%,64.7%);stroke-opacity:1.0\" transform=\"translate(153.17460317460316, 110.37902940134609)\"><circle r=\"0.0\"></circle></g><g class=\"toyplot-Datum\" style=\"fill:rgb(40%,76.1%,64.7%);fill-opacity:1.0;opacity:1.0;stroke:rgb(40%,76.1%,64.7%);stroke-opacity:1.0\" transform=\"translate(153.17460317460316, 123.93951470067304)\"><circle r=\"0.0\"></circle></g><g class=\"toyplot-Datum\" style=\"fill:rgb(40%,76.1%,64.7%);fill-opacity:1.0;opacity:1.0;stroke:rgb(40%,76.1%,64.7%);stroke-opacity:1.0\" transform=\"translate(111.9047619047619, 157.84072794899043)\"><circle r=\"0.0\"></circle></g><g class=\"toyplot-Datum\" style=\"fill:rgb(40%,76.1%,64.7%);fill-opacity:1.0;opacity:1.0;stroke:rgb(40%,76.1%,64.7%);stroke-opacity:1.0\" transform=\"translate(111.9047619047619, 198.5221838469713)\"><circle r=\"0.0\"></circle></g><g class=\"toyplot-Datum\" style=\"fill:rgb(40%,76.1%,64.7%);fill-opacity:1.0;opacity:1.0;stroke:rgb(40%,76.1%,64.7%);stroke-opacity:1.0\" transform=\"translate(153.17460317460316, 151.06048529932696)\"><circle r=\"0.0\"></circle></g><g class=\"toyplot-Datum\" style=\"fill:rgb(40%,76.1%,64.7%);fill-opacity:1.0;opacity:1.0;stroke:rgb(40%,76.1%,64.7%);stroke-opacity:1.0\" transform=\"translate(153.17460317460316, 164.6209705986539)\"><circle r=\"0.0\"></circle></g><g class=\"toyplot-Datum\" style=\"fill:rgb(40%,76.1%,64.7%);fill-opacity:1.0;opacity:1.0;stroke:rgb(40%,76.1%,64.7%);stroke-opacity:1.0\" transform=\"translate(132.53968253968253, 184.96169854764435)\"><circle r=\"0.0\"></circle></g><g class=\"toyplot-Datum\" style=\"fill:rgb(40%,76.1%,64.7%);fill-opacity:1.0;opacity:1.0;stroke:rgb(40%,76.1%,64.7%);stroke-opacity:1.0\" transform=\"translate(132.53968253968253, 212.08266914629826)\"><circle r=\"0.0\"></circle></g><g class=\"toyplot-Datum\" style=\"fill:rgb(40%,76.1%,64.7%);fill-opacity:1.0;opacity:1.0;stroke:rgb(40%,76.1%,64.7%);stroke-opacity:1.0\" transform=\"translate(153.17460317460316, 178.18145589798087)\"><circle r=\"0.0\"></circle></g><g class=\"toyplot-Datum\" style=\"fill:rgb(40%,76.1%,64.7%);fill-opacity:1.0;opacity:1.0;stroke:rgb(40%,76.1%,64.7%);stroke-opacity:1.0\" transform=\"translate(153.17460317460316, 191.74194119730782)\"><circle r=\"0.0\"></circle></g><g class=\"toyplot-Datum\" style=\"fill:rgb(40%,76.1%,64.7%);fill-opacity:1.0;opacity:1.0;stroke:rgb(40%,76.1%,64.7%);stroke-opacity:1.0\" transform=\"translate(153.17460317460316, 205.30242649663478)\"><circle r=\"0.0\"></circle></g><g class=\"toyplot-Datum\" style=\"fill:rgb(40%,76.1%,64.7%);fill-opacity:1.0;opacity:1.0;stroke:rgb(40%,76.1%,64.7%);stroke-opacity:1.0\" transform=\"translate(153.17460317460316, 218.86291179596174)\"><circle r=\"0.0\"></circle></g></g></g><g class=\"toyplot-mark-Point\" id=\"t628c86b8fc3849ff9ac46935fa776605\"><g class=\"toyplot-Series\"><g class=\"toyplot-Datum\" style=\"fill:rgb(40%,76.1%,64.7%);fill-opacity:1.0;opacity:1.0;stroke:none;stroke-width:1\" transform=\"translate(153.17460317460316, 212.08266914629826)\"><circle r=\"9.0\"></circle><g><text style=\"fill:rgb(14.9%,14.9%,14.9%);fill-opacity:1.0;font-family:helvetica;font-size:9.0px;font-weight:normal;stroke:none;vertical-align:baseline;white-space:pre\" x=\"-5.0040000000000004\" y=\"2.2995\">50</text></g></g><g class=\"toyplot-Datum\" style=\"fill:rgb(40%,76.1%,64.7%);fill-opacity:1.0;opacity:1.0;stroke:none;stroke-width:1\" transform=\"translate(153.17460317460316, 184.96169854764435)\"><circle r=\"9.0\"></circle><g><text style=\"fill:rgb(14.9%,14.9%,14.9%);fill-opacity:1.0;font-family:helvetica;font-size:9.0px;font-weight:normal;stroke:none;vertical-align:baseline;white-space:pre\" x=\"-7.506\" y=\"2.2995\">100</text></g></g><g class=\"toyplot-Datum\" style=\"fill:rgb(40%,76.1%,64.7%);fill-opacity:1.0;opacity:1.0;stroke:none;stroke-width:1\" transform=\"translate(132.53968253968253, 198.5221838469713)\"><circle r=\"9.0\"></circle><g><text style=\"fill:rgb(14.9%,14.9%,14.9%);fill-opacity:1.0;font-family:helvetica;font-size:9.0px;font-weight:normal;stroke:none;vertical-align:baseline;white-space:pre\" x=\"-5.0040000000000004\" y=\"2.2995\">30</text></g></g><g class=\"toyplot-Datum\" style=\"fill:rgb(40%,76.1%,64.7%);fill-opacity:1.0;opacity:1.0;stroke:none;stroke-width:1\" transform=\"translate(153.17460317460316, 157.84072794899043)\"><circle r=\"9.0\"></circle><g><text style=\"fill:rgb(14.9%,14.9%,14.9%);fill-opacity:1.0;font-family:helvetica;font-size:9.0px;font-weight:normal;stroke:none;vertical-align:baseline;white-space:pre\" x=\"-7.506\" y=\"2.2995\">100</text></g></g><g class=\"toyplot-Datum\" style=\"fill:rgb(40%,76.1%,64.7%);fill-opacity:1.0;opacity:1.0;stroke:none;stroke-width:1\" transform=\"translate(111.9047619047619, 178.18145589798087)\"><circle r=\"9.0\"></circle><g><text style=\"fill:rgb(14.9%,14.9%,14.9%);fill-opacity:1.0;font-family:helvetica;font-size:9.0px;font-weight:normal;stroke:none;vertical-align:baseline;white-space:pre\" x=\"-5.0040000000000004\" y=\"2.2995\">90</text></g></g><g class=\"toyplot-Datum\" style=\"fill:rgb(40%,76.1%,64.7%);fill-opacity:1.0;opacity:1.0;stroke:none;stroke-width:1\" transform=\"translate(153.17460317460316, 117.15927205100957)\"><circle r=\"9.0\"></circle><g><text style=\"fill:rgb(14.9%,14.9%,14.9%);fill-opacity:1.0;font-family:helvetica;font-size:9.0px;font-weight:normal;stroke:none;vertical-align:baseline;white-space:pre\" x=\"-7.506\" y=\"2.2995\">100</text></g></g><g class=\"toyplot-Datum\" style=\"fill:rgb(40%,76.1%,64.7%);fill-opacity:1.0;opacity:1.0;stroke:none;stroke-width:1\" transform=\"translate(153.17460317460316, 90.03830145235565)\"><circle r=\"9.0\"></circle><g><text style=\"fill:rgb(14.9%,14.9%,14.9%);fill-opacity:1.0;font-family:helvetica;font-size:9.0px;font-weight:normal;stroke:none;vertical-align:baseline;white-space:pre\" x=\"-7.506\" y=\"2.2995\">100</text></g></g><g class=\"toyplot-Datum\" style=\"fill:rgb(40%,76.1%,64.7%);fill-opacity:1.0;opacity:1.0;stroke:none;stroke-width:1\" transform=\"translate(91.26984126984127, 157.84072794899043)\"><circle r=\"9.0\"></circle><g><text style=\"fill:rgb(14.9%,14.9%,14.9%);fill-opacity:1.0;font-family:helvetica;font-size:9.0px;font-weight:normal;stroke:none;vertical-align:baseline;white-space:pre\" x=\"-7.506\" y=\"2.2995\">100</text></g></g><g class=\"toyplot-Datum\" style=\"fill:rgb(40%,76.1%,64.7%);fill-opacity:1.0;opacity:1.0;stroke:none;stroke-width:1\" transform=\"translate(132.53968253968253, 103.59878675168261)\"><circle r=\"9.0\"></circle><g><text style=\"fill:rgb(14.9%,14.9%,14.9%);fill-opacity:1.0;font-family:helvetica;font-size:9.0px;font-weight:normal;stroke:none;vertical-align:baseline;white-space:pre\" x=\"-7.506\" y=\"2.2995\">100</text></g></g><g class=\"toyplot-Datum\" style=\"fill:rgb(40%,76.1%,64.7%);fill-opacity:1.0;opacity:1.0;stroke:none;stroke-width:1\" transform=\"translate(70.63492063492063, 130.71975735033652)\"><circle r=\"9.0\"></circle><g><text style=\"fill:rgb(14.9%,14.9%,14.9%);fill-opacity:1.0;font-family:helvetica;font-size:9.0px;font-weight:normal;stroke:none;vertical-align:baseline;white-space:pre\" x=\"-7.506\" y=\"2.2995\">100</text></g></g><g class=\"toyplot-Datum\" style=\"fill:rgb(40%,76.1%,64.7%);fill-opacity:1.0;opacity:1.0;stroke:none;stroke-width:1\" transform=\"translate(153.17460317460316, 62.91733085370173)\"><circle r=\"9.0\"></circle><g><text style=\"fill:rgb(14.9%,14.9%,14.9%);fill-opacity:1.0;font-family:helvetica;font-size:9.0px;font-weight:normal;stroke:none;vertical-align:baseline;white-space:pre\" x=\"-7.506\" y=\"2.2995\">100</text></g></g><g class=\"toyplot-Datum\" style=\"fill:rgb(40%,76.1%,64.7%);fill-opacity:1.0;opacity:1.0;stroke:none;stroke-width:1\" transform=\"translate(50.0, 96.81854410201913)\"><circle r=\"9.0\"></circle><g><text style=\"fill:rgb(14.9%,14.9%,14.9%);fill-opacity:1.0;font-family:helvetica;font-size:9.0px;font-weight:normal;stroke:none;vertical-align:baseline;white-space:pre\" x=\"-7.506\" y=\"2.2995\">100</text></g></g></g></g></g></g></svg><div class=\"toyplot-behavior\"><script>(function()\n",
       "{\n",
       "var modules={};\n",
       "modules[\"toyplot/tables\"] = (function()\n",
       "    {\n",
       "        var tables = [];\n",
       "\n",
       "        var module = {};\n",
       "\n",
       "        module.set = function(owner, key, names, columns)\n",
       "        {\n",
       "            tables.push({owner: owner, key: key, names: names, columns: columns});\n",
       "        }\n",
       "\n",
       "        module.get = function(owner, key)\n",
       "        {\n",
       "            for(var i = 0; i != tables.length; ++i)\n",
       "            {\n",
       "                var table = tables[i];\n",
       "                if(table.owner != owner)\n",
       "                    continue;\n",
       "                if(table.key != key)\n",
       "                    continue;\n",
       "                return {names: table.names, columns: table.columns};\n",
       "            }\n",
       "        }\n",
       "\n",
       "        module.get_csv = function(owner, key)\n",
       "        {\n",
       "            var table = module.get(owner, key);\n",
       "            if(table != undefined)\n",
       "            {\n",
       "                var csv = \"\";\n",
       "                csv += table.names.join(\",\") + \"\\n\";\n",
       "                for(var i = 0; i != table.columns[0].length; ++i)\n",
       "                {\n",
       "                  for(var j = 0; j != table.columns.length; ++j)\n",
       "                  {\n",
       "                    if(j)\n",
       "                      csv += \",\";\n",
       "                    csv += table.columns[j][i];\n",
       "                  }\n",
       "                  csv += \"\\n\";\n",
       "                }\n",
       "                return csv;\n",
       "            }\n",
       "        }\n",
       "\n",
       "        return module;\n",
       "    })();\n",
       "modules[\"toyplot/root/id\"] = \"t5f789af52fe0460bab4f212d4434ff7b\";\n",
       "modules[\"toyplot/root\"] = (function(root_id)\n",
       "    {\n",
       "        return document.querySelector(\"#\" + root_id);\n",
       "    })(modules[\"toyplot/root/id\"]);\n",
       "modules[\"toyplot/canvas/id\"] = \"t675054117b7742a4b0b441e0865e577b\";\n",
       "modules[\"toyplot/canvas\"] = (function(canvas_id)\n",
       "    {\n",
       "        return document.querySelector(\"#\" + canvas_id);\n",
       "    })(modules[\"toyplot/canvas/id\"]);\n",
       "modules[\"toyplot/menus/context\"] = (function(root, canvas)\n",
       "    {\n",
       "        var wrapper = document.createElement(\"div\");\n",
       "        wrapper.innerHTML = \"<ul class='toyplot-context-menu' style='background:#eee; border:1px solid #b8b8b8; border-radius:5px; box-shadow: 0px 0px 8px rgba(0%,0%,0%,0.25); margin:0; padding:3px 0; position:fixed; visibility:hidden;'></ul>\"\n",
       "        var menu = wrapper.firstChild;\n",
       "\n",
       "        root.appendChild(menu);\n",
       "\n",
       "        var items = [];\n",
       "\n",
       "        var ignore_mouseup = null;\n",
       "        function open_menu(e)\n",
       "        {\n",
       "            var show_menu = false;\n",
       "            for(var index=0; index != items.length; ++index)\n",
       "            {\n",
       "                var item = items[index];\n",
       "                if(item.show(e))\n",
       "                {\n",
       "                    item.item.style.display = \"block\";\n",
       "                    show_menu = true;\n",
       "                }\n",
       "                else\n",
       "                {\n",
       "                    item.item.style.display = \"none\";\n",
       "                }\n",
       "            }\n",
       "\n",
       "            if(show_menu)\n",
       "            {\n",
       "                ignore_mouseup = true;\n",
       "                menu.style.left = (e.clientX + 1) + \"px\";\n",
       "                menu.style.top = (e.clientY - 5) + \"px\";\n",
       "                menu.style.visibility = \"visible\";\n",
       "                e.stopPropagation();\n",
       "                e.preventDefault();\n",
       "            }\n",
       "        }\n",
       "\n",
       "        function close_menu()\n",
       "        {\n",
       "            menu.style.visibility = \"hidden\";\n",
       "        }\n",
       "\n",
       "        function contextmenu(e)\n",
       "        {\n",
       "            open_menu(e);\n",
       "        }\n",
       "\n",
       "        function mousemove(e)\n",
       "        {\n",
       "            ignore_mouseup = false;\n",
       "        }\n",
       "\n",
       "        function mouseup(e)\n",
       "        {\n",
       "            if(ignore_mouseup)\n",
       "            {\n",
       "                ignore_mouseup = false;\n",
       "                return;\n",
       "            }\n",
       "            close_menu();\n",
       "        }\n",
       "\n",
       "        function keydown(e)\n",
       "        {\n",
       "            if(e.key == \"Escape\" || e.key == \"Esc\" || e.keyCode == 27)\n",
       "            {\n",
       "                close_menu();\n",
       "            }\n",
       "        }\n",
       "\n",
       "        canvas.addEventListener(\"contextmenu\", contextmenu);\n",
       "        canvas.addEventListener(\"mousemove\", mousemove);\n",
       "        document.addEventListener(\"mouseup\", mouseup);\n",
       "        document.addEventListener(\"keydown\", keydown);\n",
       "\n",
       "        var module = {};\n",
       "        module.add_item = function(label, show, activate)\n",
       "        {\n",
       "            var wrapper = document.createElement(\"div\");\n",
       "            wrapper.innerHTML = \"<li class='toyplot-context-menu-item' style='background:#eee; color:#333; padding:2px 20px; list-style:none; margin:0; text-align:left;'>\" + label + \"</li>\"\n",
       "            var item = wrapper.firstChild;\n",
       "\n",
       "            items.push({item: item, show: show});\n",
       "\n",
       "            function mouseover()\n",
       "            {\n",
       "                this.style.background = \"steelblue\";\n",
       "                this.style.color = \"white\";\n",
       "            }\n",
       "\n",
       "            function mouseout()\n",
       "            {\n",
       "                this.style.background = \"#eee\";\n",
       "                this.style.color = \"#333\";\n",
       "            }\n",
       "\n",
       "            function choose_item(e)\n",
       "            {\n",
       "                close_menu();\n",
       "                activate();\n",
       "\n",
       "                e.stopPropagation();\n",
       "                e.preventDefault();\n",
       "            }\n",
       "\n",
       "            item.addEventListener(\"mouseover\", mouseover);\n",
       "            item.addEventListener(\"mouseout\", mouseout);\n",
       "            item.addEventListener(\"mouseup\", choose_item);\n",
       "            item.addEventListener(\"contextmenu\", choose_item);\n",
       "\n",
       "            menu.appendChild(item);\n",
       "        };\n",
       "        return module;\n",
       "    })(modules[\"toyplot/root\"],modules[\"toyplot/canvas\"]);\n",
       "modules[\"toyplot/io\"] = (function()\n",
       "    {\n",
       "        var module = {};\n",
       "        module.save_file = function(mime_type, charset, data, filename)\n",
       "        {\n",
       "            var uri = \"data:\" + mime_type + \";charset=\" + charset + \",\" + data;\n",
       "            uri = encodeURI(uri);\n",
       "\n",
       "            var link = document.createElement(\"a\");\n",
       "            if(typeof link.download != \"undefined\")\n",
       "            {\n",
       "              link.href = uri;\n",
       "              link.style = \"visibility:hidden\";\n",
       "              link.download = filename;\n",
       "\n",
       "              document.body.appendChild(link);\n",
       "              link.click();\n",
       "              document.body.removeChild(link);\n",
       "            }\n",
       "            else\n",
       "            {\n",
       "              window.open(uri);\n",
       "            }\n",
       "        };\n",
       "        return module;\n",
       "    })();\n",
       "(function(tables, context_menu, io, owner_id, key, label, names, columns, filename)\n",
       "        {\n",
       "            tables.set(owner_id, key, names, columns);\n",
       "\n",
       "            var owner = document.querySelector(\"#\" + owner_id);\n",
       "            function show_item(e)\n",
       "            {\n",
       "                return owner.contains(e.target);\n",
       "            }\n",
       "\n",
       "            function choose_item()\n",
       "            {\n",
       "                io.save_file(\"text/csv\", \"utf-8\", tables.get_csv(owner_id, key), filename + \".csv\");\n",
       "            }\n",
       "\n",
       "            context_menu.add_item(\"Save \" + label + \" as CSV\", show_item, choose_item);\n",
       "        })(modules[\"toyplot/tables\"],modules[\"toyplot/menus/context\"],modules[\"toyplot/io\"],\"t9b53980f084f4ab182a77812b9a54a9f\",\"vertex_data\",\"graph vertex data\",[\"x\", \"y\"],[[-0.0, -0.0, -0.0, -0.0, -0.0, -0.0, -0.0, -0.0, -0.0, -0.0, -0.0, -0.0, -0.0, -1.0, -1.0, -2.0, -1.0, -3.0, -1.0, -1.0, -4.0, -2.0, -5.0, -1.0, -6.0, -6.0, -6.0, -1.0, -1.0, -5.0, -5.0, -2.0, -2.0, -4.0, -4.0, -1.0, -1.0, -1.0, -1.0, -3.0, -3.0, -1.0, -1.0, -2.0, -2.0, -1.0, -1.0, -1.0, -1.0], [0.0, 1.0, 2.0, 3.0, 4.0, 5.0, 6.0, 7.0, 8.0, 9.0, 10.0, 11.0, 12.0, 0.5, 2.5, 1.5, 4.5, 3.0, 7.5, 9.5, 4.5, 8.5, 6.5, 11.5, 9.0, 11.5, 6.5, 12.0, 11.0, 8.5, 4.5, 9.5, 7.5, 6.0, 3.0, 10.0, 9.0, 8.0, 7.0, 4.5, 1.5, 5.0, 4.0, 2.5, 0.5, 3.0, 2.0, 1.0, 0.0]],\"toyplot\");\n",
       "(function(tables, context_menu, io, owner_id, key, label, names, columns, filename)\n",
       "        {\n",
       "            tables.set(owner_id, key, names, columns);\n",
       "\n",
       "            var owner = document.querySelector(\"#\" + owner_id);\n",
       "            function show_item(e)\n",
       "            {\n",
       "                return owner.contains(e.target);\n",
       "            }\n",
       "\n",
       "            function choose_item()\n",
       "            {\n",
       "                io.save_file(\"text/csv\", \"utf-8\", tables.get_csv(owner_id, key), filename + \".csv\");\n",
       "            }\n",
       "\n",
       "            context_menu.add_item(\"Save \" + label + \" as CSV\", show_item, choose_item);\n",
       "        })(modules[\"toyplot/tables\"],modules[\"toyplot/menus/context\"],modules[\"toyplot/io\"],\"t9b53980f084f4ab182a77812b9a54a9f\",\"edge_data\",\"graph edge data\",[\"source\", \"target\"],[[25, 26, 27, 28, 29, 30, 31, 32, 33, 34, 35, 36, 37, 38, 39, 40, 41, 42, 43, 44, 45, 46, 47, 48, 24, 24, 23, 23, 22, 22, 21, 21, 20, 20, 19, 19, 18, 18, 17, 17, 16, 16, 15, 15, 14, 14, 13, 13], [23, 22, 12, 11, 21, 20, 19, 18, 6, 17, 10, 9, 8, 7, 16, 15, 5, 4, 14, 13, 3, 2, 1, 0, 25, 26, 27, 28, 29, 30, 31, 32, 33, 34, 35, 36, 37, 38, 39, 40, 41, 42, 43, 44, 45, 46, 47, 48]],\"toyplot\");\n",
       "(function(tables, context_menu, io, owner_id, key, label, names, columns, filename)\n",
       "        {\n",
       "            tables.set(owner_id, key, names, columns);\n",
       "\n",
       "            var owner = document.querySelector(\"#\" + owner_id);\n",
       "            function show_item(e)\n",
       "            {\n",
       "                return owner.contains(e.target);\n",
       "            }\n",
       "\n",
       "            function choose_item()\n",
       "            {\n",
       "                io.save_file(\"text/csv\", \"utf-8\", tables.get_csv(owner_id, key), filename + \".csv\");\n",
       "            }\n",
       "\n",
       "            context_menu.add_item(\"Save \" + label + \" as CSV\", show_item, choose_item);\n",
       "        })(modules[\"toyplot/tables\"],modules[\"toyplot/menus/context\"],modules[\"toyplot/io\"],\"t628c86b8fc3849ff9ac46935fa776605\",\"data\",\"point\",[\"x\", \"y0\"],[[-0.0, -0.0, -0.0, -0.0, -0.0, -0.0, -0.0, -0.0, -0.0, -0.0, -0.0, -0.0, -0.0, -1.0, -1.0, -2.0, -1.0, -3.0, -1.0, -1.0, -4.0, -2.0, -5.0, -1.0, -6.0], [0.0, 1.0, 2.0, 3.0, 4.0, 5.0, 6.0, 7.0, 8.0, 9.0, 10.0, 11.0, 12.0, 0.5, 2.5, 1.5, 4.5, 3.0, 7.5, 9.5, 4.5, 8.5, 6.5, 11.5, 9.0]],\"toyplot\");\n",
       "})();</script></div></div>"
      ]
     },
     "metadata": {},
     "output_type": "display_data"
    }
   ],
   "source": [
    "toytree.tree(tet.trees.cons).root(wildcard=\"prz\").draw(node_labels=\"support\", use_edge_lengths=False);"
   ]
  },
  {
   "cell_type": "code",
   "execution_count": 13,
   "metadata": {},
   "outputs": [
    {
     "ename": "ParserError",
     "evalue": "Error tokenizing data. C error: Expected 1 fields in line 44, saw 4\n",
     "output_type": "error",
     "traceback": [
      "\u001b[0;31m---------------------------------------------------------------------------\u001b[0m",
      "\u001b[0;31mParserError\u001b[0m                               Traceback (most recent call last)",
      "\u001b[0;32m<ipython-input-13-23684d95a04c>\u001b[0m in \u001b[0;36m<module>\u001b[0;34m\u001b[0m\n\u001b[1;32m      2\u001b[0m \u001b[0;34m\u001b[0m\u001b[0m\n\u001b[1;32m      3\u001b[0m \u001b[0;32mimport\u001b[0m \u001b[0mpandas\u001b[0m \u001b[0;32mas\u001b[0m \u001b[0mpd\u001b[0m\u001b[0;34m\u001b[0m\u001b[0;34m\u001b[0m\u001b[0m\n\u001b[0;32m----> 4\u001b[0;31m \u001b[0mpd\u001b[0m\u001b[0;34m.\u001b[0m\u001b[0mread_csv\u001b[0m\u001b[0;34m(\u001b[0m\u001b[0mddd\u001b[0m\u001b[0;34m)\u001b[0m\u001b[0;34m\u001b[0m\u001b[0;34m\u001b[0m\u001b[0m\n\u001b[0m",
      "\u001b[0;32m~/miniconda3/lib/python3.6/site-packages/pandas/io/parsers.py\u001b[0m in \u001b[0;36mparser_f\u001b[0;34m(filepath_or_buffer, sep, delimiter, header, names, index_col, usecols, squeeze, prefix, mangle_dupe_cols, dtype, engine, converters, true_values, false_values, skipinitialspace, skiprows, skipfooter, nrows, na_values, keep_default_na, na_filter, verbose, skip_blank_lines, parse_dates, infer_datetime_format, keep_date_col, date_parser, dayfirst, iterator, chunksize, compression, thousands, decimal, lineterminator, quotechar, quoting, doublequote, escapechar, comment, encoding, dialect, tupleize_cols, error_bad_lines, warn_bad_lines, delim_whitespace, low_memory, memory_map, float_precision)\u001b[0m\n\u001b[1;32m    700\u001b[0m                     skip_blank_lines=skip_blank_lines)\n\u001b[1;32m    701\u001b[0m \u001b[0;34m\u001b[0m\u001b[0m\n\u001b[0;32m--> 702\u001b[0;31m         \u001b[0;32mreturn\u001b[0m \u001b[0m_read\u001b[0m\u001b[0;34m(\u001b[0m\u001b[0mfilepath_or_buffer\u001b[0m\u001b[0;34m,\u001b[0m \u001b[0mkwds\u001b[0m\u001b[0;34m)\u001b[0m\u001b[0;34m\u001b[0m\u001b[0;34m\u001b[0m\u001b[0m\n\u001b[0m\u001b[1;32m    703\u001b[0m \u001b[0;34m\u001b[0m\u001b[0m\n\u001b[1;32m    704\u001b[0m     \u001b[0mparser_f\u001b[0m\u001b[0;34m.\u001b[0m\u001b[0m__name__\u001b[0m \u001b[0;34m=\u001b[0m \u001b[0mname\u001b[0m\u001b[0;34m\u001b[0m\u001b[0;34m\u001b[0m\u001b[0m\n",
      "\u001b[0;32m~/miniconda3/lib/python3.6/site-packages/pandas/io/parsers.py\u001b[0m in \u001b[0;36m_read\u001b[0;34m(filepath_or_buffer, kwds)\u001b[0m\n\u001b[1;32m    433\u001b[0m \u001b[0;34m\u001b[0m\u001b[0m\n\u001b[1;32m    434\u001b[0m     \u001b[0;32mtry\u001b[0m\u001b[0;34m:\u001b[0m\u001b[0;34m\u001b[0m\u001b[0;34m\u001b[0m\u001b[0m\n\u001b[0;32m--> 435\u001b[0;31m         \u001b[0mdata\u001b[0m \u001b[0;34m=\u001b[0m \u001b[0mparser\u001b[0m\u001b[0;34m.\u001b[0m\u001b[0mread\u001b[0m\u001b[0;34m(\u001b[0m\u001b[0mnrows\u001b[0m\u001b[0;34m)\u001b[0m\u001b[0;34m\u001b[0m\u001b[0;34m\u001b[0m\u001b[0m\n\u001b[0m\u001b[1;32m    436\u001b[0m     \u001b[0;32mfinally\u001b[0m\u001b[0;34m:\u001b[0m\u001b[0;34m\u001b[0m\u001b[0;34m\u001b[0m\u001b[0m\n\u001b[1;32m    437\u001b[0m         \u001b[0mparser\u001b[0m\u001b[0;34m.\u001b[0m\u001b[0mclose\u001b[0m\u001b[0;34m(\u001b[0m\u001b[0;34m)\u001b[0m\u001b[0;34m\u001b[0m\u001b[0;34m\u001b[0m\u001b[0m\n",
      "\u001b[0;32m~/miniconda3/lib/python3.6/site-packages/pandas/io/parsers.py\u001b[0m in \u001b[0;36mread\u001b[0;34m(self, nrows)\u001b[0m\n\u001b[1;32m   1137\u001b[0m     \u001b[0;32mdef\u001b[0m \u001b[0mread\u001b[0m\u001b[0;34m(\u001b[0m\u001b[0mself\u001b[0m\u001b[0;34m,\u001b[0m \u001b[0mnrows\u001b[0m\u001b[0;34m=\u001b[0m\u001b[0;32mNone\u001b[0m\u001b[0;34m)\u001b[0m\u001b[0;34m:\u001b[0m\u001b[0;34m\u001b[0m\u001b[0;34m\u001b[0m\u001b[0m\n\u001b[1;32m   1138\u001b[0m         \u001b[0mnrows\u001b[0m \u001b[0;34m=\u001b[0m \u001b[0m_validate_integer\u001b[0m\u001b[0;34m(\u001b[0m\u001b[0;34m'nrows'\u001b[0m\u001b[0;34m,\u001b[0m \u001b[0mnrows\u001b[0m\u001b[0;34m)\u001b[0m\u001b[0;34m\u001b[0m\u001b[0;34m\u001b[0m\u001b[0m\n\u001b[0;32m-> 1139\u001b[0;31m         \u001b[0mret\u001b[0m \u001b[0;34m=\u001b[0m \u001b[0mself\u001b[0m\u001b[0;34m.\u001b[0m\u001b[0m_engine\u001b[0m\u001b[0;34m.\u001b[0m\u001b[0mread\u001b[0m\u001b[0;34m(\u001b[0m\u001b[0mnrows\u001b[0m\u001b[0;34m)\u001b[0m\u001b[0;34m\u001b[0m\u001b[0;34m\u001b[0m\u001b[0m\n\u001b[0m\u001b[1;32m   1140\u001b[0m \u001b[0;34m\u001b[0m\u001b[0m\n\u001b[1;32m   1141\u001b[0m         \u001b[0;31m# May alter columns / col_dict\u001b[0m\u001b[0;34m\u001b[0m\u001b[0;34m\u001b[0m\u001b[0;34m\u001b[0m\u001b[0m\n",
      "\u001b[0;32m~/miniconda3/lib/python3.6/site-packages/pandas/io/parsers.py\u001b[0m in \u001b[0;36mread\u001b[0;34m(self, nrows)\u001b[0m\n\u001b[1;32m   1993\u001b[0m     \u001b[0;32mdef\u001b[0m \u001b[0mread\u001b[0m\u001b[0;34m(\u001b[0m\u001b[0mself\u001b[0m\u001b[0;34m,\u001b[0m \u001b[0mnrows\u001b[0m\u001b[0;34m=\u001b[0m\u001b[0;32mNone\u001b[0m\u001b[0;34m)\u001b[0m\u001b[0;34m:\u001b[0m\u001b[0;34m\u001b[0m\u001b[0;34m\u001b[0m\u001b[0m\n\u001b[1;32m   1994\u001b[0m         \u001b[0;32mtry\u001b[0m\u001b[0;34m:\u001b[0m\u001b[0;34m\u001b[0m\u001b[0;34m\u001b[0m\u001b[0m\n\u001b[0;32m-> 1995\u001b[0;31m             \u001b[0mdata\u001b[0m \u001b[0;34m=\u001b[0m \u001b[0mself\u001b[0m\u001b[0;34m.\u001b[0m\u001b[0m_reader\u001b[0m\u001b[0;34m.\u001b[0m\u001b[0mread\u001b[0m\u001b[0;34m(\u001b[0m\u001b[0mnrows\u001b[0m\u001b[0;34m)\u001b[0m\u001b[0;34m\u001b[0m\u001b[0;34m\u001b[0m\u001b[0m\n\u001b[0m\u001b[1;32m   1996\u001b[0m         \u001b[0;32mexcept\u001b[0m \u001b[0mStopIteration\u001b[0m\u001b[0;34m:\u001b[0m\u001b[0;34m\u001b[0m\u001b[0;34m\u001b[0m\u001b[0m\n\u001b[1;32m   1997\u001b[0m             \u001b[0;32mif\u001b[0m \u001b[0mself\u001b[0m\u001b[0;34m.\u001b[0m\u001b[0m_first_chunk\u001b[0m\u001b[0;34m:\u001b[0m\u001b[0;34m\u001b[0m\u001b[0;34m\u001b[0m\u001b[0m\n",
      "\u001b[0;32mpandas/_libs/parsers.pyx\u001b[0m in \u001b[0;36mpandas._libs.parsers.TextReader.read\u001b[0;34m()\u001b[0m\n",
      "\u001b[0;32mpandas/_libs/parsers.pyx\u001b[0m in \u001b[0;36mpandas._libs.parsers.TextReader._read_low_memory\u001b[0;34m()\u001b[0m\n",
      "\u001b[0;32mpandas/_libs/parsers.pyx\u001b[0m in \u001b[0;36mpandas._libs.parsers.TextReader._read_rows\u001b[0;34m()\u001b[0m\n",
      "\u001b[0;32mpandas/_libs/parsers.pyx\u001b[0m in \u001b[0;36mpandas._libs.parsers.TextReader._tokenize_rows\u001b[0;34m()\u001b[0m\n",
      "\u001b[0;32mpandas/_libs/parsers.pyx\u001b[0m in \u001b[0;36mpandas._libs.parsers.raise_parser_error\u001b[0;34m()\u001b[0m\n",
      "\u001b[0;31mParserError\u001b[0m: Error tokenizing data. C error: Expected 1 fields in line 44, saw 4\n"
     ]
    }
   ],
   "source": [
    "ddd = \"https://docs.google.com/a/columbia.edu/spreadsheets/d/e/2PACX-1vRvRWJNx_C6ovrXz-iQRRJ9UdkvpHLTotS13YI6VItkuO_fO94zRT4lM1wZx7q0z9V-FGp2CmS0rSqh/pub?gid=0&single=true&output=csv\"\n",
    "\n",
    "import pandas as pd\n",
    "pd.read_csv(ddd)"
   ]
  },
  {
   "cell_type": "code",
   "execution_count": 4,
   "metadata": {},
   "outputs": [
    {
     "name": "stdout",
     "output_type": "stream",
     "text": [
      "loading snps array [10 taxa x 4776 snps]\n"
     ]
    }
   ],
   "source": [
    "io5 = h5py.File(self.database, 'r')\n",
    "names = [i.decode() for i in io5[\"snps\"].attrs[\"names\"]]\n",
    "samples = names\n",
    "ntaxa = len(names)\n",
    "nsnps = io5[\"snps\"].shape[1]\n",
    "print(\n",
    "    \"loading snps array [{} taxa x {} snps]\".format(ntaxa, nsnps))\n",
    "snpsmap = io5[\"snpsmap\"][:]\n",
    "snpsmap[:, 0] = snpsmap[:, 0] - 1\n",
    "snpsmap[:, 1] = np.arange(snpsmap.shape[0])"
   ]
  },
  {
   "cell_type": "code",
   "execution_count": 5,
   "metadata": {},
   "outputs": [
    {
     "data": {
      "text/plain": [
       "array([[      0,       0,    5029,       1,       0],\n",
       "       [      0,       1,    5049,       1,       1],\n",
       "       [      0,       2,    5098,       1,       2],\n",
       "       ...,\n",
       "       [   1254,    4773, 2737085,       1,    4773],\n",
       "       [   1254,    4774, 2737089,       1,    4774],\n",
       "       [   1254,    4775, 2737098,       1,    4775]], dtype=int32)"
      ]
     },
     "execution_count": 5,
     "metadata": {},
     "output_type": "execute_result"
    }
   ],
   "source": [
    "snpsmap.astype(np.int32)"
   ]
  },
  {
   "cell_type": "code",
   "execution_count": 5,
   "metadata": {},
   "outputs": [],
   "source": [
    "from tetrad.tetrad import *\n",
    "from tetrad.jitted import jget_spans"
   ]
  },
  {
   "cell_type": "code",
   "execution_count": 8,
   "metadata": {},
   "outputs": [
    {
     "name": "stdout",
     "output_type": "stream",
     "text": [
      "loading snps array [13 taxa x 205405 snps]\n"
     ]
    }
   ],
   "source": [
    "io5 = h5py.File(\"ped-2019_outfiles/ped-2019.snps.hdf5\", 'r')\n",
    "names = [i.decode() for i in io5[\"snps\"].attrs[\"names\"]]\n",
    "samples = names\n",
    "ntaxa = len(names)\n",
    "nsnps = io5[\"snps\"].shape[1]\n",
    "print(\n",
    "    \"loading snps array [{} taxa x {} snps]\".format(ntaxa, nsnps))\n",
    "snpsmap = io5[\"snpsmap\"][:]\n",
    "snpsmap[:, 0] = snpsmap[:, 0] - 1\n",
    "snpsmap[:, 1] = np.arange(snpsmap.shape[0])"
   ]
  },
  {
   "cell_type": "code",
   "execution_count": 9,
   "metadata": {},
   "outputs": [
    {
     "data": {
      "text/plain": [
       "array([[     1,      0,      1,      0,      1],\n",
       "       [     1,      1,     31,      0,      2],\n",
       "       [     1,      2,     32,      0,      3],\n",
       "       ...,\n",
       "       [ 40795, 205402,     40,      0, 205403],\n",
       "       [ 40795, 205403,     41,      0, 205404],\n",
       "       [ 40795, 205404,     46,      0, 205405]], dtype=uint32)"
      ]
     },
     "execution_count": 9,
     "metadata": {},
     "output_type": "execute_result"
    }
   ],
   "source": [
    "snpsmap"
   ]
  },
  {
   "cell_type": "code",
   "execution_count": 12,
   "metadata": {},
   "outputs": [
    {
     "data": {
      "text/plain": [
       "array([[     0,      5],\n",
       "       [     5,     15],\n",
       "       [    15,     22],\n",
       "       ...,\n",
       "       [205378, 205391],\n",
       "       [205391, 205397],\n",
       "       [205397, 205406]])"
      ]
     },
     "execution_count": 12,
     "metadata": {},
     "output_type": "execute_result"
    }
   ],
   "source": [
    "jget_spans(snpsmap)"
   ]
  },
  {
   "cell_type": "code",
   "execution_count": null,
   "metadata": {},
   "outputs": [],
   "source": [
    "maparr = snpsmap[:, :2]\n",
    "sidx = 0\n",
    "locs = np.unique(maparr[:, 0])\n",
    "nlocs = locs.size\n",
    "spans = np.zeros((nlocs, 2), np.int64)"
   ]
  },
  {
   "cell_type": "markdown",
   "metadata": {},
   "source": [
    "### TODO:\n",
    "sit down with a notebook and figure this out. I think current problem requires every locus to have variants. "
   ]
  },
  {
   "cell_type": "code",
   "execution_count": 58,
   "metadata": {},
   "outputs": [
    {
     "name": "stdout",
     "output_type": "stream",
     "text": [
      "[[     0      5]\n",
      " [     5     15]\n",
      " [    15     22]\n",
      " ...\n",
      " [205378 205391]\n",
      " [205391 205397]\n",
      " [205397 205405]]\n"
     ]
    }
   ],
   "source": [
    "sidx = maparr[0, 0]\n",
    "locs = np.unique(maparr[:, 0])\n",
    "nlocs = locs.size\n",
    "spans = np.zeros((nlocs, 2), np.int64)\n",
    "\n",
    "lidx = 0\n",
    "for idx in range(maparr.shape[0]):\n",
    "    \n",
    "    eidx = maparr[idx, 0]\n",
    "    #print(eidx, sidx, lidx)\n",
    "    \n",
    "    if eidx != sidx:\n",
    "        # the first value entered\n",
    "        if not lidx:\n",
    "            spans[lidx] = np.array((0, idx))\n",
    "\n",
    "        # all other values\n",
    "        else:\n",
    "            spans[lidx] = spans[lidx - 1, 1], idx\n",
    "\n",
    "        lidx += 1\n",
    "        sidx = locs[lidx]\n",
    "            \n",
    "    spans[-1] = np.array((spans[-2, 1], maparr[-1, -1] + 1))\n",
    "\n",
    "print(spans)"
   ]
  },
  {
   "cell_type": "code",
   "execution_count": 66,
   "metadata": {},
   "outputs": [
    {
     "data": {
      "text/plain": [
       "array([[ 40600, 204397],\n",
       "       [ 40601, 204398],\n",
       "       [ 40601, 204399],\n",
       "       ...,\n",
       "       [ 40795, 205402],\n",
       "       [ 40795, 205403],\n",
       "       [ 40795, 205404]], dtype=uint32)"
      ]
     },
     "execution_count": 66,
     "metadata": {},
     "output_type": "execute_result"
    }
   ],
   "source": [
    "maparr[204397:205405, :]"
   ]
  },
  {
   "cell_type": "code",
   "execution_count": 31,
   "metadata": {
    "scrolled": false
   },
   "outputs": [
    {
     "data": {
      "text/plain": [
       "array([[     0,      0],\n",
       "       [     0,      1],\n",
       "       [     1,      2],\n",
       "       ...,\n",
       "       [ 39047,  39048],\n",
       "       [ 39048,  39049],\n",
       "       [ 39049, 205405]])"
      ]
     },
     "execution_count": 31,
     "metadata": {},
     "output_type": "execute_result"
    }
   ],
   "source": [
    "#@njit()\n",
    "def jget_spans(maparr):\n",
    "    \"\"\" \n",
    "    Returns array with span distances for each locus in original seqarray. \n",
    "    This is much faster than pandas or numpy queries.\n",
    "    [ 0, 33],\n",
    "    [33, 47],\n",
    "    [47, 51], ...\n",
    "    \"\"\"\n",
    "    sidx = 0\n",
    "    locs = np.unique(maparr[:, 0])\n",
    "    nlocs = locs.size\n",
    "    spans = np.zeros((nlocs, 2), np.int64)\n",
    "\n",
    "    lidx = 0\n",
    "    # advance over all snp rows \n",
    "    for idx in range(maparr.shape[0]):\n",
    "        \n",
    "        # get locus id at this row 0, 0, 0, 0\n",
    "        eidx = maparr[idx, 0]\n",
    "        \n",
    "        # if locus id is not sidx\n",
    "        if eidx != sidx:\n",
    "            try:\n",
    "\n",
    "                if lidx:\n",
    "                    spans[lidx] = spans[lidx - 1, 1], idx\n",
    "                else:\n",
    "                    spans[lidx] = np.array((0, idx))\n",
    "                lidx += 1\n",
    "                sidx = locs[lidx]\n",
    "            except IndexError:\n",
    "                pass\n",
    "\n",
    "    # final end span\n",
    "    spans[-1] = np.array((spans[-2, 1], maparr[-1, -1] + 1))\n",
    "    return spans\n",
    "\n",
    "\n",
    "jget_spans(maparr)"
   ]
  },
  {
   "cell_type": "code",
   "execution_count": 38,
   "metadata": {},
   "outputs": [
    {
     "data": {
      "text/plain": [
       "array([[ 1,  0],\n",
       "       [ 1,  1],\n",
       "       [ 1,  2],\n",
       "       [ 1,  3],\n",
       "       [ 1,  4],\n",
       "       [ 3,  5],\n",
       "       [ 3,  6],\n",
       "       [ 3,  7],\n",
       "       [ 3,  8],\n",
       "       [ 3,  9],\n",
       "       [ 3, 10],\n",
       "       [ 3, 11],\n",
       "       [ 3, 12],\n",
       "       [ 3, 13],\n",
       "       [ 3, 14],\n",
       "       [ 4, 15],\n",
       "       [ 4, 16],\n",
       "       [ 4, 17],\n",
       "       [ 4, 18],\n",
       "       [ 4, 19],\n",
       "       [ 4, 20],\n",
       "       [ 4, 21],\n",
       "       [ 5, 22],\n",
       "       [ 5, 23],\n",
       "       [ 5, 24]], dtype=uint32)"
      ]
     },
     "execution_count": 38,
     "metadata": {},
     "output_type": "execute_result"
    }
   ],
   "source": [
    "snpsmap[:25, :2]"
   ]
  },
  {
   "cell_type": "code",
   "execution_count": null,
   "metadata": {},
   "outputs": [],
   "source": [
    "lidx = 0\n",
    "for idx in range(maparr.shape[0]):\n",
    "    \n",
    "    eidx = maparr[idx, 0]\n",
    "    \n",
    "    if eidx != sidx:\n",
    "        if lidx"
   ]
  },
  {
   "cell_type": "code",
   "execution_count": null,
   "metadata": {},
   "outputs": [],
   "source": [
    "snpsmap[:, :2]"
   ]
  },
  {
   "cell_type": "code",
   "execution_count": 6,
   "metadata": {},
   "outputs": [
    {
     "ename": "NameError",
     "evalue": "name 'snpsmap' is not defined",
     "output_type": "error",
     "traceback": [
      "\u001b[0;31m---------------------------------------------------------------------------\u001b[0m",
      "\u001b[0;31mNameError\u001b[0m                                 Traceback (most recent call last)",
      "\u001b[0;32m<ipython-input-6-ee29ef671b59>\u001b[0m in \u001b[0;36m<module>\u001b[0;34m\u001b[0m\n\u001b[0;32m----> 1\u001b[0;31m \u001b[0mjget_spans\u001b[0m\u001b[0;34m(\u001b[0m\u001b[0msnpsmap\u001b[0m\u001b[0;34m[\u001b[0m\u001b[0;34m:\u001b[0m\u001b[0;34m,\u001b[0m \u001b[0;34m:\u001b[0m\u001b[0;36m2\u001b[0m\u001b[0;34m]\u001b[0m\u001b[0;34m)\u001b[0m\u001b[0;34m\u001b[0m\u001b[0;34m\u001b[0m\u001b[0m\n\u001b[0m",
      "\u001b[0;31mNameError\u001b[0m: name 'snpsmap' is not defined"
     ]
    }
   ],
   "source": [
    "jget_spans(snpsmap[:, :2])"
   ]
  },
  {
   "cell_type": "code",
   "execution_count": null,
   "metadata": {},
   "outputs": [],
   "source": [
    "io5 = h5py.File(\"ped-2019_outfiles/ped-2019.snps.hdf5\", 'r')\n",
    "names = [i.decode() for i in io5[\"snps\"].attrs[\"names\"]]\n",
    "samples = names\n",
    "ntaxa = len(names)\n",
    "nsnps = io5[\"snps\"].shape[1]\n",
    "print(\n",
    "    \"loading snps array [{} taxa x {} snps]\".format(ntaxa, nsnps))\n",
    "\n",
    "# data base file to write the transformed array to\n",
    "idb = h5py.File(\"/tmp/test.snps.hdf5\", 'w')\n",
    "\n",
    "# store maps info (enforced to 0-indexed?)\n",
    "idb.create_dataset(\"bootsmap\", (nsnps, 2), dtype=np.uint32)\n",
    "snpsmap = io5[\"snpsmap\"][:]\n",
    "snpsmap[:, 0] = snpsmap[:, 0] - 1\n",
    "snpsmap[:, 1] = np.arange(snpsmap.shape[0])\n",
    "nloci = np.unique(snpsmap[:, 0]).size\n",
    "idb[\"bootsmap\"][:] = snpsmap[:, :2]\n",
    "\n",
    "# store spans between loci\n",
    "idb.create_dataset(\"spans\", (nloci, 2), dtype=np.int64)\n",
    "idb[\"spans\"][:] = jget_spans(snpsmap[:, :2])\n",
    "\n",
    "# store snps info\n",
    "idb.create_dataset(\"seqarr\", (ntaxa, nsnps), dtype=np.uint8)\n",
    "tmpseq = io5[\"snps\"][:].astype(np.uint8)\n",
    "tmpseq[tmpseq == 45] = 78\n",
    "tmpseq[tmpseq == 95] = 78\n",
    "idb[\"seqarr\"][:] = tmpseq\n",
    "\n",
    "# boot samples: resolve ambigs and convert CATG bases to matrix indices\n",
    "idb.create_dataset(\"bootsarr\", (ntaxa, nsnps), dtype=np.uint8)\n",
    "tmpseq = resolve_ambigs(tmpseq)       \n",
    "tmpseq[tmpseq == 65] = 0\n",
    "tmpseq[tmpseq == 67] = 1\n",
    "tmpseq[tmpseq == 71] = 2\n",
    "tmpseq[tmpseq == 84] = 3\n",
    "idb[\"bootsarr\"][:] = tmpseq\n",
    "\n",
    "# report \n",
    "print(\n",
    "    \"max unlinked SNPs per quartet (nloci): {}\"\n",
    "    .format(nloci))\n",
    "\n",
    "# cleanup\n",
    "io5.close()\n",
    "idb.close()\n",
    "del tmpseq\n",
    "del snpsmap"
   ]
  },
  {
   "cell_type": "code",
   "execution_count": null,
   "metadata": {},
   "outputs": [],
   "source": []
  },
  {
   "cell_type": "code",
   "execution_count": null,
   "metadata": {},
   "outputs": [],
   "source": [
    "io5 = h5py.File(self.database, 'r') \n"
   ]
  },
  {
   "cell_type": "code",
   "execution_count": null,
   "metadata": {},
   "outputs": [],
   "source": [
    "names = [i.decode() for i in io5[\"snps\"].attrs[\"names\"]]\n",
    "ntaxa = len(names)\n",
    "nsnps = io5[\"snps\"].shape[1]\n",
    "(ntaxa, nsnps), names"
   ]
  },
  {
   "cell_type": "code",
   "execution_count": null,
   "metadata": {},
   "outputs": [],
   "source": [
    "io5.close()"
   ]
  },
  {
   "cell_type": "code",
   "execution_count": null,
   "metadata": {},
   "outputs": [],
   "source": [
    "self.database"
   ]
  },
  {
   "cell_type": "code",
   "execution_count": null,
   "metadata": {},
   "outputs": [],
   "source": [
    "#self.df[\"#CHROM\"].factorize()\n",
    "\n",
    "import tetrad"
   ]
  },
  {
   "cell_type": "code",
   "execution_count": null,
   "metadata": {},
   "outputs": [],
   "source": [
    "from tetrad.tetrad import Tetrad"
   ]
  },
  {
   "cell_type": "code",
   "execution_count": null,
   "metadata": {},
   "outputs": [],
   "source": [
    "import ipyrad.analysis as ipa\n",
    "ipa.tetrad(\n",
    "    name='test-tmp',\n",
    "    data=\"/tmp/tmp-227.snps.hdf5\",\n",
    "    workdir=\"/tmp/test-tetrad\",\n",
    ")"
   ]
  },
  {
   "cell_type": "code",
   "execution_count": null,
   "metadata": {},
   "outputs": [],
   "source": [
    "# with h5py.File(self.database, 'r') as io5:\n",
    "#     print(io5[\"\"][:])"
   ]
  },
  {
   "cell_type": "code",
   "execution_count": null,
   "metadata": {},
   "outputs": [],
   "source": [
    "ldsize = 1000\n",
    "lidx = 0\n",
    "self.df[[\"#CHROM\", \"POS\"]]#.groupby(\"#CHROM\")"
   ]
  },
  {
   "cell_type": "code",
   "execution_count": null,
   "metadata": {},
   "outputs": [],
   "source": [
    "df = pd.DataFrame({\n",
    "    \"#CHROM\": [\"A\"] * 10 + [\"B\"] * 6,\n",
    "    \"POS\": np.concatenate([\n",
    "        np.linspace(1000, 5000, 10).astype(int),\n",
    "        np.linspace(10000, 15000, 6).astype(int),\n",
    "    ])\n",
    "})\n",
    "\n",
    "df"
   ]
  },
  {
   "cell_type": "code",
   "execution_count": null,
   "metadata": {},
   "outputs": [],
   "source": [
    "idx = 0\n",
    "for _, scaff in df.groupby(\"#CHROM\"):\n",
    "    df.loc[scaff.index, \"#CHROM\"] = idx\n",
    "    idx += 1\n",
    "    #print(scaff.index)"
   ]
  },
  {
   "cell_type": "code",
   "execution_count": null,
   "metadata": {},
   "outputs": [],
   "source": [
    "df"
   ]
  },
  {
   "cell_type": "code",
   "execution_count": null,
   "metadata": {},
   "outputs": [],
   "source": [
    "np.arange(10) + 10"
   ]
  },
  {
   "cell_type": "code",
   "execution_count": null,
   "metadata": {},
   "outputs": [],
   "source": [
    "def chunker(df, ldsize=1000, lidx=0):\n",
    "    \n",
    "    # list to store chunks of scaffold\n",
    "    chunks = []\n",
    "    \n",
    "    # get starting position on this scaffold\n",
    "    start_pos = df.iloc[0, 1]\n",
    "    \n",
    "    # get all rows up to the ldsize\n",
    "    chunk = df[(df.POS >= start_pos) & (df.POS < start_pos + ldsize)]\n",
    "    \n",
    "    # set new scaffold idx on chunk\n",
    "    chunk.CHROM = lidx\n",
    "    \n",
    "    # add new counter for chunk snpsidx\n",
    "    chunk[\"snpidx\"] = range(chunk.shape[0])\n",
    "    \n",
    "    print(chunk)\n",
    "    \n",
    "    \n",
    "chunker(df)\n",
    "    "
   ]
  },
  {
   "cell_type": "code",
   "execution_count": null,
   "metadata": {},
   "outputs": [],
   "source": [
    "self = conv\n",
    "\n",
    "# load vcf as dataframe (TODO: chunk for large files)\n",
    "self.df = pd.read_csv(self.vcf, sep=\"\\t\", skiprows=self.hlines)\n",
    "\n",
    "# get ref and alt alleles as a string series\n",
    "refalt = (self.df.REF + self.df.ALT).apply(str.replace, args=(\",\", \"\"))\n",
    "\n",
    "# genos array to fill from geno indices and refalt\n",
    "genos = np.zeros((self.nsnps, self.nsamples, 2), dtype=\"u1\")\n",
    "snps = np.zeros((self.nsnps, self.nsamples), dtype=\"S1\")\n",
    "\n",
    "print(genos.shape, refalt.shape)\n",
    "\n",
    "# iterate over samples indices\n",
    "for sidx in range(self.nsamples):\n",
    "\n",
    "    # store geno calls for this sample (+9 goes to geno columns in vcf)\n",
    "    glist = self.df.iloc[:, sidx + 9].apply(get_genos).apply(sorted)\n",
    "    genos[:, sidx, :] = pd.concat([\n",
    "        glist.apply(lambda x: x[0]),\n",
    "        glist.apply(lambda x: x[1]),\n",
    "    ], axis=1)\n",
    "\n",
    "    # iterate over geno indices to get alleles\n",
    "    for gidx in range(genos.shape[0]):\n",
    "\n",
    "        # this sample's geno\n",
    "        sgeno = genos[gidx, sidx]\n",
    "        if sgeno[0] == 9:\n",
    "            call = b\"N\"\n",
    "            continue\n",
    "\n",
    "        # convert to geno alleles\n",
    "        call0 = refalt[gidx][sgeno[0]]\n",
    "        call1 = refalt[gidx][sgeno[1]]\n",
    "\n",
    "        # get ambiguity code\n",
    "        if call0 != call1:\n",
    "            call = TRANSFULL[(call0, call1)].encode()\n",
    "        else:\n",
    "            call = call0\n",
    "\n",
    "        # store call\n",
    "        snps[gidx, sidx] = call\n",
    "\n",
    "# convert snps to uint8\n",
    "snps = snps.astype(\"u1\")\n",
    "print(snps)"
   ]
  },
  {
   "cell_type": "code",
   "execution_count": null,
   "metadata": {},
   "outputs": [],
   "source": [
    "genos[10, 7]"
   ]
  },
  {
   "cell_type": "code",
   "execution_count": null,
   "metadata": {},
   "outputs": [],
   "source": [
    "snps.view(\"u1\")"
   ]
  },
  {
   "cell_type": "code",
   "execution_count": null,
   "metadata": {},
   "outputs": [],
   "source": [
    "refalt[782], [genos[782, 0, 1]]"
   ]
  },
  {
   "cell_type": "code",
   "execution_count": null,
   "metadata": {},
   "outputs": [],
   "source": [
    "snps.fill(\"9\")\n",
    "snps"
   ]
  },
  {
   "cell_type": "code",
   "execution_count": null,
   "metadata": {},
   "outputs": [],
   "source": [
    "genos[782, 0]"
   ]
  },
  {
   "cell_type": "code",
   "execution_count": null,
   "metadata": {},
   "outputs": [],
   "source": [
    "genos = np.zeros((conv.nsnps, conv.nsamples, 2), dtype=\"u1\")\n",
    "\n",
    "genos.shape"
   ]
  },
  {
   "cell_type": "code",
   "execution_count": null,
   "metadata": {},
   "outputs": [],
   "source": [
    "genos[:, 0, :].shape"
   ]
  },
  {
   "cell_type": "code",
   "execution_count": null,
   "metadata": {},
   "outputs": [],
   "source": [
    "pd.concat([a.apply(lambda x: x[0]), a.apply(lambda x: x[1])], axis=1)"
   ]
  },
  {
   "cell_type": "code",
   "execution_count": null,
   "metadata": {},
   "outputs": [],
   "source": [
    "a = conv.df.iloc[:, 9].apply(get_genos).apply(sorted)"
   ]
  },
  {
   "cell_type": "code",
   "execution_count": null,
   "metadata": {},
   "outputs": [],
   "source": [
    "genos"
   ]
  },
  {
   "cell_type": "code",
   "execution_count": null,
   "metadata": {},
   "outputs": [],
   "source": [
    "with h5py.File(conv.database, 'r') as io5:\n",
    "    print(io5[\"genos\"][:])"
   ]
  },
  {
   "cell_type": "code",
   "execution_count": null,
   "metadata": {},
   "outputs": [],
   "source": [
    "refalt = (conv.df.REF + conv.df.ALT).apply(str.replace, args=(\",\", \"\"))\n",
    "\n",
    "# genos array to fill from geno indices and refalt\n",
    "genos = np.zeros((conv.nsamples, conv.nsnps, 2), dtype=\"u1\")\n",
    "snps = np.zeros((conv.nsamples, conv.nsnps), dtype=\"u4\")        "
   ]
  },
  {
   "cell_type": "code",
   "execution_count": null,
   "metadata": {},
   "outputs": [],
   "source": []
  },
  {
   "cell_type": "code",
   "execution_count": null,
   "metadata": {},
   "outputs": [],
   "source": [
    "sorted((1, 0))"
   ]
  },
  {
   "cell_type": "code",
   "execution_count": null,
   "metadata": {},
   "outputs": [],
   "source": [
    "refalt[0]"
   ]
  },
  {
   "cell_type": "code",
   "execution_count": null,
   "metadata": {},
   "outputs": [],
   "source": [
    "def get_geno(gstr):\n",
    "    return gstr[0], gstr[2]\n",
    "\n",
    "\n",
    "conv.df.iloc[:, 9].apply(get_geno).apply(sorted)"
   ]
  },
  {
   "cell_type": "code",
   "execution_count": null,
   "metadata": {},
   "outputs": [],
   "source": [
    "conv.df.ALT.values.astype(\"S1\").view(\"u1\")"
   ]
  },
  {
   "cell_type": "code",
   "execution_count": null,
   "metadata": {},
   "outputs": [],
   "source": [
    "for i in conv.df[[\"#CHROM\", \"POS\"]].groupby(\"#CHROM\"):\n",
    "    print(i)"
   ]
  },
  {
   "cell_type": "code",
   "execution_count": null,
   "metadata": {},
   "outputs": [],
   "source": [
    "conv.vcf"
   ]
  },
  {
   "cell_type": "code",
   "execution_count": null,
   "metadata": {},
   "outputs": [],
   "source": [
    "%%timeit\n",
    "arr = pd.read_csv(conv.vcf, skiprows=conv.hlines, sep=\"\\t\")\n",
    "#ser = arr[\"#CHROM\"]"
   ]
  },
  {
   "cell_type": "code",
   "execution_count": null,
   "metadata": {},
   "outputs": [],
   "source": [
    "with open(conv.vcf) as infile:\n",
    "    while 1:\n",
    "        dat = infile.readline()\n",
    "        \n",
    "    "
   ]
  },
  {
   "cell_type": "code",
   "execution_count": null,
   "metadata": {},
   "outputs": [],
   "source": [
    "ser.factorize()[0]"
   ]
  },
  {
   "cell_type": "markdown",
   "metadata": {},
   "source": [
    "### Current file"
   ]
  },
  {
   "cell_type": "code",
   "execution_count": null,
   "metadata": {},
   "outputs": [],
   "source": [
    "print(io5[\"snpsmap\"][-10:])"
   ]
  },
  {
   "cell_type": "code",
   "execution_count": null,
   "metadata": {},
   "outputs": [],
   "source": [
    "with h5py.File(\"./test2-denovo_outfiles/test2-denovo.snps.hdf5\") as io5:\n",
    "    print(io5.keys())\n",
    "    print(io5[\"snpsmap\"][-10:])"
   ]
  },
  {
   "cell_type": "code",
   "execution_count": null,
   "metadata": {},
   "outputs": [],
   "source": [
    "with h5py.File(\"./test2_outfiles/test2.snps.hdf5\") as io5:\n",
    "    print(io5.keys())\n",
    "    print(io5[\"genos\"])\n",
    "    #print(io5['snps'])\n",
    "    #print(io5[\"genos\"][:10])\n",
    "    "
   ]
  },
  {
   "cell_type": "code",
   "execution_count": null,
   "metadata": {},
   "outputs": [],
   "source": [
    "io5 = h5py.File(\"./test2_outfiles//test2.snps.hdf5\")"
   ]
  },
  {
   "cell_type": "code",
   "execution_count": null,
   "metadata": {},
   "outputs": [],
   "source": [
    "import numpy as np"
   ]
  },
  {
   "cell_type": "code",
   "execution_count": null,
   "metadata": {},
   "outputs": [],
   "source": [
    "np.zeros(10, dtype=\"i8\")"
   ]
  }
 ],
 "metadata": {
  "kernelspec": {
   "display_name": "Python 3",
   "language": "python",
   "name": "python3"
  },
  "language_info": {
   "codemirror_mode": {
    "name": "ipython",
    "version": 3
   },
   "file_extension": ".py",
   "mimetype": "text/x-python",
   "name": "python",
   "nbconvert_exporter": "python",
   "pygments_lexer": "ipython3",
   "version": "3.7.3"
  }
 },
 "nbformat": 4,
 "nbformat_minor": 2
}
