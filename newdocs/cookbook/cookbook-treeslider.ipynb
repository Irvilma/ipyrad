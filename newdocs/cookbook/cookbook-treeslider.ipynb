{
 "cells": [
  {
   "cell_type": "markdown",
   "metadata": {},
   "source": [
    "<h2><span style=\"color:gray\">ipyrad-analysis toolkit:</span> treeslider</h2>"
   ]
  },
  {
   "cell_type": "markdown",
   "metadata": {},
   "source": [
    "<h5><span style=\"color:red\">(Reference only method)</span></h5>\n",
    "\n",
    "With reference mapped RAD loci you can select windows of loci located close together on scaffolds and automate extracting, filtering, and submitting alignments to phylogenetic inference software (raxml or mb). \n",
    "\n",
    "Key features:\n",
    "\n",
    "1. Automatically concatenates ref-mapped RAD loci in sliding windows.\n",
    "2. Distributes phylogenetic inference jobs in parallel.\n",
    "3. Can be easily restarted from checkpoint if interrupted.\n",
    "4. Provides a tree_table (dataframe) with stats and tree results. \n",
    "5. Can be paired with other tools for further analysis of tree_table."
   ]
  },
  {
   "cell_type": "markdown",
   "metadata": {},
   "source": [
    "### Required software"
   ]
  },
  {
   "cell_type": "code",
   "execution_count": 5,
   "metadata": {},
   "outputs": [],
   "source": [
    "# conda install ipyrad -c bioconda\n",
    "# conda install raxml -c bioconda\n",
    "# conda install toytree -c eaton-lab"
   ]
  },
  {
   "cell_type": "code",
   "execution_count": 6,
   "metadata": {},
   "outputs": [],
   "source": [
    "import ipyrad.analysis as ipa\n",
    "import toytree"
   ]
  },
  {
   "cell_type": "markdown",
   "metadata": {},
   "source": [
    "### Short Tutorial:\n",
    "\n",
    "The `treeslider()` tool takes the `.seqs.hdf5` database file from ipyrad as its input file. You can select scaffolds by their index (integer) or by their name (string). If you don't know what these are then first read in the data file without a scaffold argument and check the `.scaffold_table` attribute table. If one or more samples has no data in the selected window then it will be dropped from the data set. If no samples contain data in the selected window an error will be raised.\n"
   ]
  },
  {
   "cell_type": "markdown",
   "metadata": {},
   "source": [
    "#### Load the data"
   ]
  },
  {
   "cell_type": "code",
   "execution_count": 7,
   "metadata": {},
   "outputs": [],
   "source": [
    "# the path to your HDF5 formatted seqs file\n",
    "data = \"/home/deren/Downloads/ref_pop2.seqs.hdf5\""
   ]
  },
  {
   "cell_type": "code",
   "execution_count": 8,
   "metadata": {},
   "outputs": [
    {
     "data": {
      "text/html": [
       "<div>\n",
       "<style scoped>\n",
       "    .dataframe tbody tr th:only-of-type {\n",
       "        vertical-align: middle;\n",
       "    }\n",
       "\n",
       "    .dataframe tbody tr th {\n",
       "        vertical-align: top;\n",
       "    }\n",
       "\n",
       "    .dataframe thead th {\n",
       "        text-align: right;\n",
       "    }\n",
       "</style>\n",
       "<table border=\"1\" class=\"dataframe\">\n",
       "  <thead>\n",
       "    <tr style=\"text-align: right;\">\n",
       "      <th></th>\n",
       "      <th>scaffold_name</th>\n",
       "      <th>scaffold_length</th>\n",
       "    </tr>\n",
       "  </thead>\n",
       "  <tbody>\n",
       "    <tr>\n",
       "      <th>0</th>\n",
       "      <td>Qrob_Chr01</td>\n",
       "      <td>55068941</td>\n",
       "    </tr>\n",
       "    <tr>\n",
       "      <th>1</th>\n",
       "      <td>Qrob_Chr02</td>\n",
       "      <td>115639695</td>\n",
       "    </tr>\n",
       "    <tr>\n",
       "      <th>2</th>\n",
       "      <td>Qrob_Chr03</td>\n",
       "      <td>57474983</td>\n",
       "    </tr>\n",
       "    <tr>\n",
       "      <th>3</th>\n",
       "      <td>Qrob_Chr04</td>\n",
       "      <td>44977106</td>\n",
       "    </tr>\n",
       "    <tr>\n",
       "      <th>4</th>\n",
       "      <td>Qrob_Chr05</td>\n",
       "      <td>70629082</td>\n",
       "    </tr>\n",
       "  </tbody>\n",
       "</table>\n",
       "</div>"
      ],
      "text/plain": [
       "  scaffold_name  scaffold_length\n",
       "0    Qrob_Chr01         55068941\n",
       "1    Qrob_Chr02        115639695\n",
       "2    Qrob_Chr03         57474983\n",
       "3    Qrob_Chr04         44977106\n",
       "4    Qrob_Chr05         70629082"
      ]
     },
     "execution_count": 8,
     "metadata": {},
     "output_type": "execute_result"
    }
   ],
   "source": [
    "# check scaffold idx (row) against scaffold names\n",
    "ipa.treeslider(data).scaffold_table.head()"
   ]
  },
  {
   "cell_type": "markdown",
   "metadata": {},
   "source": [
    "#### Enter window and slide arguments\n",
    "You may wish to use smaller window sizes, I am using a large window size here so that the analysis will run faster (fewer windows total). "
   ]
  },
  {
   "cell_type": "code",
   "execution_count": 4,
   "metadata": {},
   "outputs": [],
   "source": [
    "# select a scaffold idx, start, and end positions\n",
    "ts = ipa.treeslider(\n",
    "    name=\"chr1_w5M_s1M\",\n",
    "    data=data,\n",
    "    workdir=\"analysis-treeslider\",\n",
    "    scaffold_idxs=[0],\n",
    "    window_size=5000000,\n",
    "    slide_size=1000000,\n",
    "    minsnps=10,\n",
    "    inference_args={\"N\": 10}\n",
    ")"
   ]
  },
  {
   "cell_type": "markdown",
   "metadata": {},
   "source": [
    "#### submit jobs to run on cluster\n",
    "Below is the raxml command that will be run, with ... replaced by arguments that will be filled in. See advanced options below for how to modify the raxml command string. "
   ]
  },
  {
   "cell_type": "code",
   "execution_count": 5,
   "metadata": {},
   "outputs": [
    {
     "name": "stdout",
     "output_type": "stream",
     "text": [
      "raxmlHPC-PTHREADS-SSE3 -f a -T 2 -m GTRGAMMA -n ... -w ... -s ... -p 54321 -N 10 -x 12345\n"
     ]
    }
   ],
   "source": [
    "# this is the tree inference command that will be used\n",
    "ts.show_inference_command()"
   ]
  },
  {
   "cell_type": "code",
   "execution_count": 6,
   "metadata": {},
   "outputs": [
    {
     "name": "stdout",
     "output_type": "stream",
     "text": [
      "Parallel connection | oud: 4 cores\n",
      "building database: nwindows=51; minsnps=10\n",
      "[#################   ]  88% 1:20:04 | inferring raxml trees \n",
      "Keyboard Interrupt by user\n",
      "\n"
     ]
    }
   ],
   "source": [
    "# run tree inference in parallel\n",
    "ts.run(auto=True)"
   ]
  },
  {
   "cell_type": "code",
   "execution_count": 9,
   "metadata": {},
   "outputs": [
    {
     "data": {
      "text/plain": [
       "<ipyrad.analysis.treeslider.TreeSlider at 0x7f63b63a3748>"
      ]
     },
     "execution_count": 9,
     "metadata": {},
     "output_type": "execute_result"
    }
   ],
   "source": [
    "ts"
   ]
  },
  {
   "cell_type": "markdown",
   "metadata": {},
   "source": [
    "#### Examine results\n",
    "The tree table of results is also saved as a CSV formatted file in the workdir. You can re-load it later using pandas. Here we can see how much information was in each region, and extract the tree for plotting from each region. To examine how phylogenetic relationships vary across the genome using data from the tree table check out the `clade_weights()` tool. "
   ]
  },
  {
   "cell_type": "code",
   "execution_count": 13,
   "metadata": {},
   "outputs": [
    {
     "ename": "AttributeError",
     "evalue": "'TreeSlider' object has no attribute 'treetable'",
     "output_type": "error",
     "traceback": [
      "\u001b[0;31m---------------------------------------------------------------------------\u001b[0m",
      "\u001b[0;31mAttributeError\u001b[0m                            Traceback (most recent call last)",
      "\u001b[0;32m<ipython-input-13-2b222402a8a3>\u001b[0m in \u001b[0;36m<module>\u001b[0;34m\u001b[0m\n\u001b[0;32m----> 1\u001b[0;31m \u001b[0mts\u001b[0m\u001b[0;34m.\u001b[0m\u001b[0mtreetable\u001b[0m\u001b[0;34m.\u001b[0m\u001b[0mhead\u001b[0m\u001b[0;34m(\u001b[0m\u001b[0;34m)\u001b[0m\u001b[0;34m\u001b[0m\u001b[0;34m\u001b[0m\u001b[0m\n\u001b[0m",
      "\u001b[0;31mAttributeError\u001b[0m: 'TreeSlider' object has no attribute 'treetable'"
     ]
    }
   ],
   "source": [
    "ts.tree_table.head()"
   ]
  },
  {
   "cell_type": "markdown",
   "metadata": {},
   "source": [
    "<h3><span style=\"color:red\">Advanced</span>: Restart from interrupted checkpoint</h3>"
   ]
  },
  {
   "cell_type": "code",
   "execution_count": null,
   "metadata": {},
   "outputs": [],
   "source": [
    "# select a scaffold idx, start, and end positions\n",
    "ts = ipa.treeslider(\n",
    "    name=\"chr1_w500K_s100K\",\n",
    "    data=data,\n",
    "    workdir=\"analysis-treeslider\",\n",
    "    scaffold_idxs=[0],\n",
    "    window_size=500000,\n",
    "    slide_size=100000,\n",
    "    minsnps=10,\n",
    "    inference_method=\"raxml\",\n",
    ")"
   ]
  },
  {
   "cell_type": "markdown",
   "metadata": {},
   "source": [
    "<h3><span style=\"color:red\">Advanced</span>: Modify the raxml command</h3>"
   ]
  },
  {
   "cell_type": "code",
   "execution_count": 15,
   "metadata": {},
   "outputs": [
    {
     "name": "stdout",
     "output_type": "stream",
     "text": [
      "raxmlHPC-PTHREADS-SSE3 -f a -T 2 -m GTRGAMMA -n ... -w ... -s ... -p 54321 -N 100 -x 12345\n"
     ]
    }
   ],
   "source": [
    "# this is the tree inference command that will be used\n",
    "ts.show_inference_command()"
   ]
  },
  {
   "cell_type": "code",
   "execution_count": 8,
   "metadata": {},
   "outputs": [
    {
     "name": "stdout",
     "output_type": "stream",
     "text": [
      "existing results loaded from /home/deren/Documents/ipyrad/newdocs/cookbook/analysis-treeslider/chr1_w500K_s100K.tree_table.csv\n"
     ]
    }
   ],
   "source": [
    "# select a scaffold idx, start, and end positions\n",
    "ts = ipa.treeslider(\n",
    "    name=\"chr1_w500K_s100K\",\n",
    "    data=data,\n",
    "    workdir=\"analysis-treeslider\",\n",
    "    scaffold_idxs=[0],\n",
    "    window_size=500000,\n",
    "    slide_size=100000,\n",
    "    minsnps=10,\n",
    "    inference_method=\"raxml\",\n",
    "    inference_args={\"m\": \"GTRCAT\", \"N\": 10, \"f\": \"d\", 'x': None},\n",
    ")"
   ]
  },
  {
   "cell_type": "markdown",
   "metadata": {},
   "source": [
    "<h3><span style=\"color:red\">Advanced</span>: Cores and threads </h3>\n",
    "    \n",
    "By default each alignment (window) is run using two threads, so if you have 4 cores available this will be 2 2-threaded jobs. You can set the number of cores and threads to use (must be available) using the `.ipcluster` dictionary. "
   ]
  },
  {
   "cell_type": "code",
   "execution_count": 7,
   "metadata": {},
   "outputs": [
    {
     "data": {
      "text/plain": [
       "{'cluster_id': 'ipp-983188349',\n",
       " 'profile': 'default',\n",
       " 'engines': 'Local',\n",
       " 'quiet': 0,\n",
       " 'timeout': 60,\n",
       " 'cores': 4,\n",
       " 'threads': 2,\n",
       " 'pids': {0: 13020, 1: 13022, 2: 13024, 3: 13039}}"
      ]
     },
     "execution_count": 7,
     "metadata": {},
     "output_type": "execute_result"
    }
   ],
   "source": [
    "# automatically start 8-cores and run 4-threaded jobs\n",
    "ts.ipcluster[\"threads\"] = 4\n",
    "ts.ipcluster[\"cores\"] = 8\n",
    "ts.run(auto=True)"
   ]
  }
 ],
 "metadata": {
  "kernelspec": {
   "display_name": "Python 3",
   "language": "python",
   "name": "python3"
  },
  "language_info": {
   "codemirror_mode": {
    "name": "ipython",
    "version": 3
   },
   "file_extension": ".py",
   "mimetype": "text/x-python",
   "name": "python",
   "nbconvert_exporter": "python",
   "pygments_lexer": "ipython3",
   "version": "3.6.8"
  }
 },
 "nbformat": 4,
 "nbformat_minor": 2
}
