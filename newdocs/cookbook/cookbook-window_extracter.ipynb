{
 "cells": [
  {
   "cell_type": "markdown",
   "metadata": {},
   "source": [
    "<h2><span style=\"color:gray\">ipyrad-analysis toolkit:</span> window_extracter</h2>"
   ]
  },
  {
   "cell_type": "markdown",
   "metadata": {},
   "source": [
    "<h5><span style=\"color:red\">(Reference only method)</span></h5>\n",
    "\n",
    "\n",
    "With reference mapped RAD loci you can extract and concatenate and filter RAD loci from a given window to use to other downstream analyses. For example, you may wish to extract all RAD loci within 10Kb of a gene of interest to see the phylogenetic tree of linked SNPs in this region. "
   ]
  },
  {
   "cell_type": "markdown",
   "metadata": {},
   "source": [
    "### Required software"
   ]
  },
  {
   "cell_type": "code",
   "execution_count": 1,
   "metadata": {},
   "outputs": [],
   "source": [
    "# conda install ipyrad -c bioconda"
   ]
  },
  {
   "cell_type": "code",
   "execution_count": 2,
   "metadata": {},
   "outputs": [],
   "source": [
    "import ipyrad.analysis as ipa\n",
    "import toytree\n"
   ]
  },
  {
   "cell_type": "markdown",
   "metadata": {},
   "source": [
    "### Short Tutorial:\n",
    "\n",
    "The `window_extracter()` tool takes the `.seqs.hdf5` database file from ipyrad as its input file. You can select scaffolds by their index (integer) or by their name (string). If you don't know what these are then first read in the data file without a scaffold argument and check the `.scaffold_table` attribute table. If one or more samples has no data in the selected window then it will be dropped from the data set. If no samples contain data in the selected window an error will be raised."
   ]
  },
  {
   "cell_type": "code",
   "execution_count": 3,
   "metadata": {},
   "outputs": [],
   "source": [
    "# the path to your HDF5 formatted seqs file\n",
    "data = \"/home/deren/Downloads/ref_pop2.seqs.hdf5\""
   ]
  },
  {
   "cell_type": "code",
   "execution_count": 4,
   "metadata": {},
   "outputs": [
    {
     "data": {
      "text/html": [
       "<div>\n",
       "<style scoped>\n",
       "    .dataframe tbody tr th:only-of-type {\n",
       "        vertical-align: middle;\n",
       "    }\n",
       "\n",
       "    .dataframe tbody tr th {\n",
       "        vertical-align: top;\n",
       "    }\n",
       "\n",
       "    .dataframe thead th {\n",
       "        text-align: right;\n",
       "    }\n",
       "</style>\n",
       "<table border=\"1\" class=\"dataframe\">\n",
       "  <thead>\n",
       "    <tr style=\"text-align: right;\">\n",
       "      <th></th>\n",
       "      <th>scaffold_name</th>\n",
       "      <th>scaffold_length</th>\n",
       "    </tr>\n",
       "  </thead>\n",
       "  <tbody>\n",
       "    <tr>\n",
       "      <th>0</th>\n",
       "      <td>Qrob_Chr01</td>\n",
       "      <td>55068941</td>\n",
       "    </tr>\n",
       "    <tr>\n",
       "      <th>1</th>\n",
       "      <td>Qrob_Chr02</td>\n",
       "      <td>115639695</td>\n",
       "    </tr>\n",
       "    <tr>\n",
       "      <th>2</th>\n",
       "      <td>Qrob_Chr03</td>\n",
       "      <td>57474983</td>\n",
       "    </tr>\n",
       "    <tr>\n",
       "      <th>3</th>\n",
       "      <td>Qrob_Chr04</td>\n",
       "      <td>44977106</td>\n",
       "    </tr>\n",
       "    <tr>\n",
       "      <th>4</th>\n",
       "      <td>Qrob_Chr05</td>\n",
       "      <td>70629082</td>\n",
       "    </tr>\n",
       "  </tbody>\n",
       "</table>\n",
       "</div>"
      ],
      "text/plain": [
       "  scaffold_name  scaffold_length\n",
       "0    Qrob_Chr01         55068941\n",
       "1    Qrob_Chr02        115639695\n",
       "2    Qrob_Chr03         57474983\n",
       "3    Qrob_Chr04         44977106\n",
       "4    Qrob_Chr05         70629082"
      ]
     },
     "execution_count": 4,
     "metadata": {},
     "output_type": "execute_result"
    }
   ],
   "source": [
    "# check scaffold idx (row) against scaffold names\n",
    "ipa.window_extracter(data).scaffold_table.head()"
   ]
  },
  {
   "cell_type": "code",
   "execution_count": 5,
   "metadata": {},
   "outputs": [
    {
     "data": {
      "text/html": [
       "<div>\n",
       "<style scoped>\n",
       "    .dataframe tbody tr th:only-of-type {\n",
       "        vertical-align: middle;\n",
       "    }\n",
       "\n",
       "    .dataframe tbody tr th {\n",
       "        vertical-align: top;\n",
       "    }\n",
       "\n",
       "    .dataframe thead th {\n",
       "        text-align: right;\n",
       "    }\n",
       "</style>\n",
       "<table border=\"1\" class=\"dataframe\">\n",
       "  <thead>\n",
       "    <tr style=\"text-align: right;\">\n",
       "      <th></th>\n",
       "      <th>Scaffold</th>\n",
       "      <th>Start</th>\n",
       "      <th>End</th>\n",
       "      <th>nSites</th>\n",
       "      <th>nSNPs</th>\n",
       "      <th>Missing</th>\n",
       "      <th>Samples</th>\n",
       "      <th>Empty/drop samples</th>\n",
       "    </tr>\n",
       "  </thead>\n",
       "  <tbody>\n",
       "    <tr>\n",
       "      <th>0</th>\n",
       "      <td>Qrob_Chr02</td>\n",
       "      <td>1000000</td>\n",
       "      <td>1500000</td>\n",
       "      <td>7424</td>\n",
       "      <td>142</td>\n",
       "      <td>0.17</td>\n",
       "      <td>29</td>\n",
       "      <td>0</td>\n",
       "    </tr>\n",
       "  </tbody>\n",
       "</table>\n",
       "</div>"
      ],
      "text/plain": [
       "     Scaffold    Start      End  nSites  nSNPs  Missing  Samples  \\\n",
       "0  Qrob_Chr02  1000000  1500000    7424    142     0.17       29   \n",
       "\n",
       "   Empty/drop samples  \n",
       "0                   0  "
      ]
     },
     "execution_count": 5,
     "metadata": {},
     "output_type": "execute_result"
    }
   ],
   "source": [
    "# select a scaffold idx, start, and end positions\n",
    "we = ipa.window_extracter(\n",
    "    data=data,\n",
    "    workdir=\"analysis-window_extracter\",\n",
    "    scaffold_idx=1,\n",
    "    start=1000000,\n",
    "    end=1500000,\n",
    "    exclude=[\"reference\"],\n",
    ")\n",
    "\n",
    "# show stats of the window\n",
    "we.stats"
   ]
  },
  {
   "cell_type": "code",
   "execution_count": 14,
   "metadata": {},
   "outputs": [
    {
     "name": "stdout",
     "output_type": "stream",
     "text": [
      "Wrote data to /home/deren/Documents/ipyrad/newdocs/cookbook/analysis-window_extracter/scaf1-1000000-1500000.phy\n"
     ]
    }
   ],
   "source": [
    "# write the data to a phylip formatted file\n",
    "we.run()"
   ]
  },
  {
   "cell_type": "markdown",
   "metadata": {},
   "source": [
    "### optional: infer tree from output and draw it"
   ]
  },
  {
   "cell_type": "code",
   "execution_count": 15,
   "metadata": {},
   "outputs": [
    {
     "name": "stdout",
     "output_type": "stream",
     "text": [
      "raxmlHPC-PTHREADS-SSE3 -f a -T 4 -m GTRGAMMA -n test -w /home/deren/Documents/ipyrad/newdocs/cookbook/analysis-raxml -s /home/deren/Documents/ipyrad/newdocs/cookbook/analysis-window_extracter/scaf1-1000000-1500000.phy -p 54321 -N 10 -x 12345\n",
      "job test finished successfully\n"
     ]
    }
   ],
   "source": [
    "# run raxml on the phylip file \n",
    "rax = ipa.raxml(data=we.outfile, N=10)\n",
    "print(rax.command)\n",
    "rax.run(force=True)"
   ]
  },
  {
   "cell_type": "code",
   "execution_count": 19,
   "metadata": {
    "scrolled": false
   },
   "outputs": [
    {
     "data": {
      "text/html": [
       "<div class=\"toyplot\" id=\"t10d19f5f8c9f41b88f9974ffeb3f2845\" style=\"text-align:center\"><svg class=\"toyplot-canvas-Canvas\" height=\"522.0px\" id=\"t406f346d9ee344de875868f94343b863\" preserveAspectRatio=\"xMidYMid meet\" style=\"background-color:transparent;border-color:#292724;border-style:none;border-width:1.0;fill:rgb(16.1%,15.3%,14.1%);fill-opacity:1.0;font-family:Helvetica;font-size:12px;opacity:1.0;stroke:rgb(16.1%,15.3%,14.1%);stroke-opacity:1.0;stroke-width:1.0\" viewBox=\"0 0 290.0 522.0\" width=\"290.0px\" xmlns=\"http://www.w3.org/2000/svg\" xmlns:toyplot=\"http://www.sandia.gov/toyplot\" xmlns:xlink=\"http://www.w3.org/1999/xlink\"><g class=\"toyplot-coordinates-Cartesian\" id=\"t0cb2fbc0bf9e48c79647ed188223f2d2\"><clipPath id=\"t04cb2bd3761547c29273abb6c9b89fbc\"><rect height=\"462.0\" width=\"230.0\" x=\"30.0\" y=\"30.0\"></rect></clipPath><g clip-path=\"url(#t04cb2bd3761547c29273abb6c9b89fbc)\"><g class=\"toyplot-mark-Text\" id=\"t5929caf7b4ee4b3dab54cf6273de7ec0\"><g class=\"toyplot-Series\"><g class=\"toyplot-Datum\" transform=\"translate(140.83246138356225,465.6001838235294)\"><text style=\"fill:rgb(14.9%,14.9%,14.9%);fill-opacity:1.0;font-family:helvetica;font-size:11.0px;font-weight:normal;opacity:1;stroke:none;vertical-align:baseline;white-space:pre\" x=\"15.0\" y=\"2.8104999999999993\">FLMO62</text></g><g class=\"toyplot-Datum\" transform=\"translate(138.17852791187485,450.9858849789916)\"><text style=\"fill:rgb(14.9%,14.9%,14.9%);fill-opacity:1.0;font-family:helvetica;font-size:11.0px;font-weight:normal;opacity:1;stroke:none;vertical-align:baseline;white-space:pre\" x=\"15.0\" y=\"2.8104999999999993\">FLCK216</text></g><g class=\"toyplot-Datum\" transform=\"translate(134.31854878842262,436.37158613445376)\"><text style=\"fill:rgb(14.9%,14.9%,14.9%);fill-opacity:1.0;font-family:helvetica;font-size:11.0px;font-weight:normal;opacity:1;stroke:none;vertical-align:baseline;white-space:pre\" x=\"15.0\" y=\"2.8104999999999993\">FLSA185</text></g><g class=\"toyplot-Datum\" transform=\"translate(136.1612261317527,421.75728728991595)\"><text style=\"fill:rgb(14.9%,14.9%,14.9%);fill-opacity:1.0;font-family:helvetica;font-size:11.0px;font-weight:normal;opacity:1;stroke:none;vertical-align:baseline;white-space:pre\" x=\"15.0\" y=\"2.8104999999999993\">FLCK18</text></g><g class=\"toyplot-Datum\" transform=\"translate(139.8064669506952,407.1429884453781)\"><text style=\"fill:rgb(14.9%,14.9%,14.9%);fill-opacity:1.0;font-family:helvetica;font-size:11.0px;font-weight:normal;opacity:1;stroke:none;vertical-align:baseline;white-space:pre\" x=\"15.0\" y=\"2.8104999999999993\">FLBA140</text></g><g class=\"toyplot-Datum\" transform=\"translate(146.92850660134516,392.52868960084027)\"><text style=\"fill:rgb(14.9%,14.9%,14.9%);fill-opacity:1.0;font-family:helvetica;font-size:11.0px;font-weight:normal;opacity:1;stroke:none;vertical-align:baseline;white-space:pre\" x=\"15.0\" y=\"2.8104999999999993\">TXGR3</text></g><g class=\"toyplot-Datum\" transform=\"translate(137.4819126748809,377.91439075630245)\"><text style=\"fill:rgb(14.9%,14.9%,14.9%);fill-opacity:1.0;font-family:helvetica;font-size:11.0px;font-weight:normal;opacity:1;stroke:none;vertical-align:baseline;white-space:pre\" x=\"15.0\" y=\"2.8104999999999993\">SCCU3</text></g><g class=\"toyplot-Datum\" transform=\"translate(158.78884413302296,363.3000919117647)\"><text style=\"fill:rgb(14.9%,14.9%,14.9%);fill-opacity:1.0;font-family:helvetica;font-size:11.0px;font-weight:normal;opacity:1;stroke:none;vertical-align:baseline;white-space:pre\" x=\"15.0\" y=\"2.8104999999999993\">CRL0030</text></g><g class=\"toyplot-Datum\" transform=\"translate(170.14853903027858,348.6857930672269)\"><text style=\"fill:rgb(14.9%,14.9%,14.9%);fill-opacity:1.0;font-family:helvetica;font-size:11.0px;font-weight:normal;opacity:1;stroke:none;vertical-align:baseline;white-space:pre\" x=\"15.0\" y=\"2.8104999999999993\">BZBB1</text></g><g class=\"toyplot-Datum\" transform=\"translate(163.52250983080967,334.0714942226891)\"><text style=\"fill:rgb(14.9%,14.9%,14.9%);fill-opacity:1.0;font-family:helvetica;font-size:11.0px;font-weight:normal;opacity:1;stroke:none;vertical-align:baseline;white-space:pre\" x=\"15.0\" y=\"2.8104999999999993\">HNDA09</text></g><g class=\"toyplot-Datum\" transform=\"translate(156.83361373470962,319.4571953781513)\"><text style=\"fill:rgb(14.9%,14.9%,14.9%);fill-opacity:1.0;font-family:helvetica;font-size:11.0px;font-weight:normal;opacity:1;stroke:none;vertical-align:baseline;white-space:pre\" x=\"15.0\" y=\"2.8104999999999993\">CUVN10</text></g><g class=\"toyplot-Datum\" transform=\"translate(143.8031699850054,304.84289653361344)\"><text style=\"fill:rgb(14.9%,14.9%,14.9%);fill-opacity:1.0;font-family:helvetica;font-size:11.0px;font-weight:normal;opacity:1;stroke:none;vertical-align:baseline;white-space:pre\" x=\"15.0\" y=\"2.8104999999999993\">CRL0001</text></g><g class=\"toyplot-Datum\" transform=\"translate(185.7142857142857,290.2285976890756)\"><text style=\"fill:rgb(14.9%,14.9%,14.9%);fill-opacity:1.0;font-family:helvetica;font-size:11.0px;font-weight:normal;opacity:1;stroke:none;vertical-align:baseline;white-space:pre\" x=\"15.0\" y=\"2.8104999999999993\">CUCA4</text></g><g class=\"toyplot-Datum\" transform=\"translate(172.53535200642904,275.6142988445378)\"><text style=\"fill:rgb(14.9%,14.9%,14.9%);fill-opacity:1.0;font-family:helvetica;font-size:11.0px;font-weight:normal;opacity:1;stroke:none;vertical-align:baseline;white-space:pre\" x=\"15.0\" y=\"2.8104999999999993\">FLSF33</text></g><g class=\"toyplot-Datum\" transform=\"translate(150.60051058653622,260.99999999999994)\"><text style=\"fill:rgb(14.9%,14.9%,14.9%);fill-opacity:1.0;font-family:helvetica;font-size:11.0px;font-weight:normal;opacity:1;stroke:none;vertical-align:baseline;white-space:pre\" x=\"15.0\" y=\"2.8104999999999993\">FLWO6</text></g><g class=\"toyplot-Datum\" transform=\"translate(163.0367666743292,246.38570115546213)\"><text style=\"fill:rgb(14.9%,14.9%,14.9%);fill-opacity:1.0;font-family:helvetica;font-size:11.0px;font-weight:normal;opacity:1;stroke:none;vertical-align:baseline;white-space:pre\" x=\"15.0\" y=\"2.8104999999999993\">TXMD3</text></g><g class=\"toyplot-Datum\" transform=\"translate(138.67559723668032,231.77140231092437)\"><text style=\"fill:rgb(14.9%,14.9%,14.9%);fill-opacity:1.0;font-family:helvetica;font-size:11.0px;font-weight:normal;opacity:1;stroke:none;vertical-align:baseline;white-space:pre\" x=\"15.0\" y=\"2.8104999999999993\">CUMM5</text></g><g class=\"toyplot-Datum\" transform=\"translate(151.97251012763925,217.15710346638656)\"><text style=\"fill:rgb(14.9%,14.9%,14.9%);fill-opacity:1.0;font-family:helvetica;font-size:11.0px;font-weight:normal;opacity:1;stroke:none;vertical-align:baseline;white-space:pre\" x=\"15.0\" y=\"2.8104999999999993\">FLSF54</text></g><g class=\"toyplot-Datum\" transform=\"translate(162.75991050416278,202.54280462184875)\"><text style=\"fill:rgb(14.9%,14.9%,14.9%);fill-opacity:1.0;font-family:helvetica;font-size:11.0px;font-weight:normal;opacity:1;stroke:none;vertical-align:baseline;white-space:pre\" x=\"15.0\" y=\"2.8104999999999993\">FLSF47</text></g><g class=\"toyplot-Datum\" transform=\"translate(138.70399501909546,187.92850577731093)\"><text style=\"fill:rgb(14.9%,14.9%,14.9%);fill-opacity:1.0;font-family:helvetica;font-size:11.0px;font-weight:normal;opacity:1;stroke:none;vertical-align:baseline;white-space:pre\" x=\"15.0\" y=\"2.8104999999999993\">CUSV6</text></g><g class=\"toyplot-Datum\" transform=\"translate(119.54068949276791,173.31420693277312)\"><text style=\"fill:rgb(14.9%,14.9%,14.9%);fill-opacity:1.0;font-family:helvetica;font-size:11.0px;font-weight:normal;opacity:1;stroke:none;vertical-align:baseline;white-space:pre\" x=\"15.0\" y=\"2.8104999999999993\">LALC2</text></g><g class=\"toyplot-Datum\" transform=\"translate(123.03017928941182,158.6999080882353)\"><text style=\"fill:rgb(14.9%,14.9%,14.9%);fill-opacity:1.0;font-family:helvetica;font-size:11.0px;font-weight:normal;opacity:1;stroke:none;vertical-align:baseline;white-space:pre\" x=\"15.0\" y=\"2.8104999999999993\">FLAB109</text></g><g class=\"toyplot-Datum\" transform=\"translate(130.34750173658915,144.0856092436975)\"><text style=\"fill:rgb(14.9%,14.9%,14.9%);fill-opacity:1.0;font-family:helvetica;font-size:11.0px;font-weight:normal;opacity:1;stroke:none;vertical-align:baseline;white-space:pre\" x=\"15.0\" y=\"2.8104999999999993\">MXSA3017</text></g><g class=\"toyplot-Datum\" transform=\"translate(92.55741482398167,129.47131039915965)\"><text style=\"fill:rgb(14.9%,14.9%,14.9%);fill-opacity:1.0;font-family:helvetica;font-size:11.0px;font-weight:normal;opacity:1;stroke:none;vertical-align:baseline;white-space:pre\" x=\"15.0\" y=\"2.8104999999999993\">TXWV2</text></g><g class=\"toyplot-Datum\" transform=\"translate(78.89180555521966,114.85701155462183)\"><text style=\"fill:rgb(14.9%,14.9%,14.9%);fill-opacity:1.0;font-family:helvetica;font-size:11.0px;font-weight:normal;opacity:1;stroke:none;vertical-align:baseline;white-space:pre\" x=\"15.0\" y=\"2.8104999999999993\">BJVL19</text></g><g class=\"toyplot-Datum\" transform=\"translate(70.61909885583715,100.24271271008402)\"><text style=\"fill:rgb(14.9%,14.9%,14.9%);fill-opacity:1.0;font-family:helvetica;font-size:11.0px;font-weight:normal;opacity:1;stroke:none;vertical-align:baseline;white-space:pre\" x=\"15.0\" y=\"2.8104999999999993\">MXED8</text></g><g class=\"toyplot-Datum\" transform=\"translate(71.70592616726384,85.62841386554621)\"><text style=\"fill:rgb(14.9%,14.9%,14.9%);fill-opacity:1.0;font-family:helvetica;font-size:11.0px;font-weight:normal;opacity:1;stroke:none;vertical-align:baseline;white-space:pre\" x=\"15.0\" y=\"2.8104999999999993\">BJSB3</text></g><g class=\"toyplot-Datum\" transform=\"translate(70.32888567233618,71.0141150210084)\"><text style=\"fill:rgb(14.9%,14.9%,14.9%);fill-opacity:1.0;font-family:helvetica;font-size:11.0px;font-weight:normal;opacity:1;stroke:none;vertical-align:baseline;white-space:pre\" x=\"15.0\" y=\"2.8104999999999993\">BJSL25</text></g><g class=\"toyplot-Datum\" transform=\"translate(60.63795335302579,56.39981617647058)\"><text style=\"fill:rgb(14.9%,14.9%,14.9%);fill-opacity:1.0;font-family:helvetica;font-size:11.0px;font-weight:normal;opacity:1;stroke:none;vertical-align:baseline;white-space:pre\" x=\"15.0\" y=\"2.8104999999999993\">MXGT4</text></g></g></g><g class=\"toyplot-mark-Graph\" id=\"t9bbc7daa45b546bf98a86c4ee836fe5b\"><g class=\"toyplot-Edges\"><path d=\"M 50.0 56.39981617647058 L 60.63795335302579 56.39981617647058\" style=\"fill:none;opacity:1;stroke:rgb(14.9%,14.9%,14.9%);stroke-linecap:round;stroke-opacity:1.0;stroke-width:2.0\"></path><path d=\"M 50.0 71.0141150210084 L 70.32888567233618 71.0141150210084\" style=\"fill:none;opacity:1;stroke:rgb(14.9%,14.9%,14.9%);stroke-linecap:round;stroke-opacity:1.0;stroke-width:2.0\"></path><path d=\"M 50.0 121.17465115929181 L 58.70227479933873 121.17465115929181\" style=\"fill:none;opacity:1;stroke:rgb(14.9%,14.9%,14.9%);stroke-linecap:round;stroke-opacity:1.0;stroke-width:2.0\"></path><path d=\"M 58.70227479933873 92.93556328781511 L 65.19904670416278 92.93556328781511\" style=\"fill:none;opacity:1;stroke:rgb(14.9%,14.9%,14.9%);stroke-linecap:round;stroke-opacity:1.0;stroke-width:2.0\"></path><path d=\"M 58.70227479933873 149.41373903076854 L 67.71439875068785 149.41373903076854\" style=\"fill:none;opacity:1;stroke:rgb(14.9%,14.9%,14.9%);stroke-linecap:round;stroke-opacity:1.0;stroke-width:2.0\"></path><path d=\"M 65.19904670416278 85.62841386554621 L 71.70592616726384 85.62841386554621\" style=\"fill:none;opacity:1;stroke:rgb(14.9%,14.9%,14.9%);stroke-linecap:round;stroke-opacity:1.0;stroke-width:2.0\"></path><path d=\"M 65.19904670416278 100.24271271008402 L 70.61909885583715 100.24271271008402\" style=\"fill:none;opacity:1;stroke:rgb(14.9%,14.9%,14.9%);stroke-linecap:round;stroke-opacity:1.0;stroke-width:2.0\"></path><path d=\"M 67.71439875068785 114.85701155462183 L 78.89180555521966 114.85701155462183\" style=\"fill:none;opacity:1;stroke:rgb(14.9%,14.9%,14.9%);stroke-linecap:round;stroke-opacity:1.0;stroke-width:2.0\"></path><path d=\"M 67.71439875068785 129.47131039915965 L 92.55741482398167 129.47131039915965\" style=\"fill:none;opacity:1;stroke:rgb(14.9%,14.9%,14.9%);stroke-linecap:round;stroke-opacity:1.0;stroke-width:2.0\"></path><path d=\"M 67.71439875068785 203.91289513852414 L 96.55249963180205 203.91289513852414\" style=\"fill:none;opacity:1;stroke:rgb(14.9%,14.9%,14.9%);stroke-linecap:round;stroke-opacity:1.0;stroke-width:2.0\"></path><path d=\"M 96.55249963180205 144.0856092436975 L 130.34750173658915 144.0856092436975\" style=\"fill:none;opacity:1;stroke:rgb(14.9%,14.9%,14.9%);stroke-linecap:round;stroke-opacity:1.0;stroke-width:2.0\"></path><path d=\"M 96.55249963180205 158.6999080882353 L 123.03017928941182 158.6999080882353\" style=\"fill:none;opacity:1;stroke:rgb(14.9%,14.9%,14.9%);stroke-linecap:round;stroke-opacity:1.0;stroke-width:2.0\"></path><path d=\"M 96.55249963180205 173.31420693277312 L 119.54068949276791 173.31420693277312\" style=\"fill:none;opacity:1;stroke:rgb(14.9%,14.9%,14.9%);stroke-linecap:round;stroke-opacity:1.0;stroke-width:2.0\"></path><path d=\"M 96.55249963180205 339.5518562893907 L 113.14104818341164 339.5518562893907\" style=\"fill:none;opacity:1;stroke:rgb(14.9%,14.9%,14.9%);stroke-linecap:round;stroke-opacity:1.0;stroke-width:2.0\"></path><path d=\"M 113.14104818341164 187.92850577731093 L 138.70399501909546 187.92850577731093\" style=\"fill:none;opacity:1;stroke:rgb(14.9%,14.9%,14.9%);stroke-linecap:round;stroke-opacity:1.0;stroke-width:2.0\"></path><path d=\"M 113.14104818341164 262.8267873555672 L 138.66154311063826 262.8267873555672\" style=\"fill:none;opacity:1;stroke:rgb(14.9%,14.9%,14.9%);stroke-linecap:round;stroke-opacity:1.0;stroke-width:2.0\"></path><path d=\"M 113.14104818341164 385.2215401785714 L 126.76833190823449 385.2215401785714\" style=\"fill:none;opacity:1;stroke:rgb(14.9%,14.9%,14.9%);stroke-linecap:round;stroke-opacity:1.0;stroke-width:2.0\"></path><path d=\"M 113.14104818341164 414.450137867647 L 127.00277411155267 414.450137867647\" style=\"fill:none;opacity:1;stroke:rgb(14.9%,14.9%,14.9%);stroke-linecap:round;stroke-opacity:1.0;stroke-width:2.0\"></path><path d=\"M 113.14104818341164 447.33231026785717 L 124.8497442701909 447.33231026785717\" style=\"fill:none;opacity:1;stroke:rgb(14.9%,14.9%,14.9%);stroke-linecap:round;stroke-opacity:1.0;stroke-width:2.0\"></path><path d=\"M 138.66154311063826 202.54280462184875 L 162.75991050416278 202.54280462184875\" style=\"fill:none;opacity:1;stroke:rgb(14.9%,14.9%,14.9%);stroke-linecap:round;stroke-opacity:1.0;stroke-width:2.0\"></path><path d=\"M 138.66154311063826 217.15710346638656 L 151.97251012763925 217.15710346638656\" style=\"fill:none;opacity:1;stroke:rgb(14.9%,14.9%,14.9%);stroke-linecap:round;stroke-opacity:1.0;stroke-width:2.0\"></path><path d=\"M 138.66154311063826 231.77140231092437 L 138.67559723668032 231.77140231092437\" style=\"fill:none;opacity:1;stroke:rgb(14.9%,14.9%,14.9%);stroke-linecap:round;stroke-opacity:1.0;stroke-width:2.0\"></path><path d=\"M 138.66154311063826 246.38570115546213 L 163.0367666743292 246.38570115546213\" style=\"fill:none;opacity:1;stroke:rgb(14.9%,14.9%,14.9%);stroke-linecap:round;stroke-opacity:1.0;stroke-width:2.0\"></path><path d=\"M 138.66154311063826 260.99999999999994 L 150.60051058653622 260.99999999999994\" style=\"fill:none;opacity:1;stroke:rgb(14.9%,14.9%,14.9%);stroke-linecap:round;stroke-opacity:1.0;stroke-width:2.0\"></path><path d=\"M 138.66154311063826 282.92144826680664 L 157.85866723434833 282.92144826680664\" style=\"fill:none;opacity:1;stroke:rgb(14.9%,14.9%,14.9%);stroke-linecap:round;stroke-opacity:1.0;stroke-width:2.0\"></path><path d=\"M 138.66154311063826 312.1500459558823 L 143.78911585896336 312.1500459558823\" style=\"fill:none;opacity:1;stroke:rgb(14.9%,14.9%,14.9%);stroke-linecap:round;stroke-opacity:1.0;stroke-width:2.0\"></path><path d=\"M 138.66154311063826 348.6857930672269 L 158.7747900069809 348.6857930672269\" style=\"fill:none;opacity:1;stroke:rgb(14.9%,14.9%,14.9%);stroke-linecap:round;stroke-opacity:1.0;stroke-width:2.0\"></path><path d=\"M 126.76833190823449 377.91439075630245 L 137.4819126748809 377.91439075630245\" style=\"fill:none;opacity:1;stroke:rgb(14.9%,14.9%,14.9%);stroke-linecap:round;stroke-opacity:1.0;stroke-width:2.0\"></path><path d=\"M 126.76833190823449 392.52868960084027 L 146.92850660134516 392.52868960084027\" style=\"fill:none;opacity:1;stroke:rgb(14.9%,14.9%,14.9%);stroke-linecap:round;stroke-opacity:1.0;stroke-width:2.0\"></path><path d=\"M 127.00277411155267 407.1429884453781 L 139.8064669506952 407.1429884453781\" style=\"fill:none;opacity:1;stroke:rgb(14.9%,14.9%,14.9%);stroke-linecap:round;stroke-opacity:1.0;stroke-width:2.0\"></path><path d=\"M 127.00277411155267 421.75728728991595 L 136.1612261317527 421.75728728991595\" style=\"fill:none;opacity:1;stroke:rgb(14.9%,14.9%,14.9%);stroke-linecap:round;stroke-opacity:1.0;stroke-width:2.0\"></path><path d=\"M 124.8497442701909 436.37158613445376 L 134.31854878842262 436.37158613445376\" style=\"fill:none;opacity:1;stroke:rgb(14.9%,14.9%,14.9%);stroke-linecap:round;stroke-opacity:1.0;stroke-width:2.0\"></path><path d=\"M 124.8497442701909 458.29303440126046 L 135.54651436628913 458.29303440126046\" style=\"fill:none;opacity:1;stroke:rgb(14.9%,14.9%,14.9%);stroke-linecap:round;stroke-opacity:1.0;stroke-width:2.0\"></path><path d=\"M 157.85866723434833 275.6142988445378 L 172.53535200642904 275.6142988445378\" style=\"fill:none;opacity:1;stroke:rgb(14.9%,14.9%,14.9%);stroke-linecap:round;stroke-opacity:1.0;stroke-width:2.0\"></path><path d=\"M 157.85866723434833 290.2285976890756 L 185.7142857142857 290.2285976890756\" style=\"fill:none;opacity:1;stroke:rgb(14.9%,14.9%,14.9%);stroke-linecap:round;stroke-opacity:1.0;stroke-width:2.0\"></path><path d=\"M 143.78911585896336 304.84289653361344 L 143.8031699850054 304.84289653361344\" style=\"fill:none;opacity:1;stroke:rgb(14.9%,14.9%,14.9%);stroke-linecap:round;stroke-opacity:1.0;stroke-width:2.0\"></path><path d=\"M 143.78911585896336 319.4571953781513 L 156.83361373470962 319.4571953781513\" style=\"fill:none;opacity:1;stroke:rgb(14.9%,14.9%,14.9%);stroke-linecap:round;stroke-opacity:1.0;stroke-width:2.0\"></path><path d=\"M 158.7747900069809 334.0714942226891 L 163.52250983080967 334.0714942226891\" style=\"fill:none;opacity:1;stroke:rgb(14.9%,14.9%,14.9%);stroke-linecap:round;stroke-opacity:1.0;stroke-width:2.0\"></path><path d=\"M 158.7747900069809 348.6857930672269 L 170.14853903027858 348.6857930672269\" style=\"fill:none;opacity:1;stroke:rgb(14.9%,14.9%,14.9%);stroke-linecap:round;stroke-opacity:1.0;stroke-width:2.0\"></path><path d=\"M 158.7747900069809 363.3000919117647 L 158.78884413302296 363.3000919117647\" style=\"fill:none;opacity:1;stroke:rgb(14.9%,14.9%,14.9%);stroke-linecap:round;stroke-opacity:1.0;stroke-width:2.0\"></path><path d=\"M 135.54651436628913 450.9858849789916 L 138.17852791187485 450.9858849789916\" style=\"fill:none;opacity:1;stroke:rgb(14.9%,14.9%,14.9%);stroke-linecap:round;stroke-opacity:1.0;stroke-width:2.0\"></path><path d=\"M 135.54651436628913 465.6001838235294 L 140.83246138356225 465.6001838235294\" style=\"fill:none;opacity:1;stroke:rgb(14.9%,14.9%,14.9%);stroke-linecap:round;stroke-opacity:1.0;stroke-width:2.0\"></path><path d=\"M 50.0 82.86286078559021 L 50.0 56.39981617647058\" style=\"fill:none;opacity:1;stroke:rgb(14.9%,14.9%,14.9%);stroke-linecap:round;stroke-opacity:1.0;stroke-width:2.0\"></path><path d=\"M 50.0 82.86286078559021 L 50.0 71.0141150210084\" style=\"fill:none;opacity:1;stroke:rgb(14.9%,14.9%,14.9%);stroke-linecap:round;stroke-opacity:1.0;stroke-width:2.0\"></path><path d=\"M 50.0 82.86286078559021 L 50.0 121.17465115929181\" style=\"fill:none;opacity:1;stroke:rgb(14.9%,14.9%,14.9%);stroke-linecap:round;stroke-opacity:1.0;stroke-width:2.0\"></path><path d=\"M 58.70227479933873 121.17465115929181 L 58.70227479933873 92.93556328781511\" style=\"fill:none;opacity:1;stroke:rgb(14.9%,14.9%,14.9%);stroke-linecap:round;stroke-opacity:1.0;stroke-width:2.0\"></path><path d=\"M 58.70227479933873 121.17465115929181 L 58.70227479933873 149.41373903076854\" style=\"fill:none;opacity:1;stroke:rgb(14.9%,14.9%,14.9%);stroke-linecap:round;stroke-opacity:1.0;stroke-width:2.0\"></path><path d=\"M 65.19904670416278 92.93556328781511 L 65.19904670416278 85.62841386554621\" style=\"fill:none;opacity:1;stroke:rgb(14.9%,14.9%,14.9%);stroke-linecap:round;stroke-opacity:1.0;stroke-width:2.0\"></path><path d=\"M 65.19904670416278 92.93556328781511 L 65.19904670416278 100.24271271008402\" style=\"fill:none;opacity:1;stroke:rgb(14.9%,14.9%,14.9%);stroke-linecap:round;stroke-opacity:1.0;stroke-width:2.0\"></path><path d=\"M 67.71439875068785 149.41373903076854 L 67.71439875068785 114.85701155462183\" style=\"fill:none;opacity:1;stroke:rgb(14.9%,14.9%,14.9%);stroke-linecap:round;stroke-opacity:1.0;stroke-width:2.0\"></path><path d=\"M 67.71439875068785 149.41373903076854 L 67.71439875068785 129.47131039915965\" style=\"fill:none;opacity:1;stroke:rgb(14.9%,14.9%,14.9%);stroke-linecap:round;stroke-opacity:1.0;stroke-width:2.0\"></path><path d=\"M 67.71439875068785 149.41373903076854 L 67.71439875068785 203.91289513852414\" style=\"fill:none;opacity:1;stroke:rgb(14.9%,14.9%,14.9%);stroke-linecap:round;stroke-opacity:1.0;stroke-width:2.0\"></path><path d=\"M 96.55249963180205 203.91289513852414 L 96.55249963180205 144.0856092436975\" style=\"fill:none;opacity:1;stroke:rgb(14.9%,14.9%,14.9%);stroke-linecap:round;stroke-opacity:1.0;stroke-width:2.0\"></path><path d=\"M 96.55249963180205 203.91289513852414 L 96.55249963180205 158.6999080882353\" style=\"fill:none;opacity:1;stroke:rgb(14.9%,14.9%,14.9%);stroke-linecap:round;stroke-opacity:1.0;stroke-width:2.0\"></path><path d=\"M 96.55249963180205 203.91289513852414 L 96.55249963180205 173.31420693277312\" style=\"fill:none;opacity:1;stroke:rgb(14.9%,14.9%,14.9%);stroke-linecap:round;stroke-opacity:1.0;stroke-width:2.0\"></path><path d=\"M 96.55249963180205 203.91289513852414 L 96.55249963180205 339.5518562893907\" style=\"fill:none;opacity:1;stroke:rgb(14.9%,14.9%,14.9%);stroke-linecap:round;stroke-opacity:1.0;stroke-width:2.0\"></path><path d=\"M 113.14104818341164 339.5518562893907 L 113.14104818341164 187.92850577731093\" style=\"fill:none;opacity:1;stroke:rgb(14.9%,14.9%,14.9%);stroke-linecap:round;stroke-opacity:1.0;stroke-width:2.0\"></path><path d=\"M 113.14104818341164 339.5518562893907 L 113.14104818341164 262.8267873555672\" style=\"fill:none;opacity:1;stroke:rgb(14.9%,14.9%,14.9%);stroke-linecap:round;stroke-opacity:1.0;stroke-width:2.0\"></path><path d=\"M 113.14104818341164 339.5518562893907 L 113.14104818341164 385.2215401785714\" style=\"fill:none;opacity:1;stroke:rgb(14.9%,14.9%,14.9%);stroke-linecap:round;stroke-opacity:1.0;stroke-width:2.0\"></path><path d=\"M 113.14104818341164 339.5518562893907 L 113.14104818341164 414.450137867647\" style=\"fill:none;opacity:1;stroke:rgb(14.9%,14.9%,14.9%);stroke-linecap:round;stroke-opacity:1.0;stroke-width:2.0\"></path><path d=\"M 113.14104818341164 339.5518562893907 L 113.14104818341164 447.33231026785717\" style=\"fill:none;opacity:1;stroke:rgb(14.9%,14.9%,14.9%);stroke-linecap:round;stroke-opacity:1.0;stroke-width:2.0\"></path><path d=\"M 138.66154311063826 262.8267873555672 L 138.66154311063826 202.54280462184875\" style=\"fill:none;opacity:1;stroke:rgb(14.9%,14.9%,14.9%);stroke-linecap:round;stroke-opacity:1.0;stroke-width:2.0\"></path><path d=\"M 138.66154311063826 262.8267873555672 L 138.66154311063826 217.15710346638656\" style=\"fill:none;opacity:1;stroke:rgb(14.9%,14.9%,14.9%);stroke-linecap:round;stroke-opacity:1.0;stroke-width:2.0\"></path><path d=\"M 138.66154311063826 262.8267873555672 L 138.66154311063826 231.77140231092437\" style=\"fill:none;opacity:1;stroke:rgb(14.9%,14.9%,14.9%);stroke-linecap:round;stroke-opacity:1.0;stroke-width:2.0\"></path><path d=\"M 138.66154311063826 262.8267873555672 L 138.66154311063826 246.38570115546213\" style=\"fill:none;opacity:1;stroke:rgb(14.9%,14.9%,14.9%);stroke-linecap:round;stroke-opacity:1.0;stroke-width:2.0\"></path><path d=\"M 138.66154311063826 262.8267873555672 L 138.66154311063826 260.99999999999994\" style=\"fill:none;opacity:1;stroke:rgb(14.9%,14.9%,14.9%);stroke-linecap:round;stroke-opacity:1.0;stroke-width:2.0\"></path><path d=\"M 138.66154311063826 262.8267873555672 L 138.66154311063826 282.92144826680664\" style=\"fill:none;opacity:1;stroke:rgb(14.9%,14.9%,14.9%);stroke-linecap:round;stroke-opacity:1.0;stroke-width:2.0\"></path><path d=\"M 138.66154311063826 262.8267873555672 L 138.66154311063826 312.1500459558823\" style=\"fill:none;opacity:1;stroke:rgb(14.9%,14.9%,14.9%);stroke-linecap:round;stroke-opacity:1.0;stroke-width:2.0\"></path><path d=\"M 138.66154311063826 262.8267873555672 L 138.66154311063826 348.6857930672269\" style=\"fill:none;opacity:1;stroke:rgb(14.9%,14.9%,14.9%);stroke-linecap:round;stroke-opacity:1.0;stroke-width:2.0\"></path><path d=\"M 126.76833190823449 385.2215401785714 L 126.76833190823449 377.91439075630245\" style=\"fill:none;opacity:1;stroke:rgb(14.9%,14.9%,14.9%);stroke-linecap:round;stroke-opacity:1.0;stroke-width:2.0\"></path><path d=\"M 126.76833190823449 385.2215401785714 L 126.76833190823449 392.52868960084027\" style=\"fill:none;opacity:1;stroke:rgb(14.9%,14.9%,14.9%);stroke-linecap:round;stroke-opacity:1.0;stroke-width:2.0\"></path><path d=\"M 127.00277411155267 414.450137867647 L 127.00277411155267 407.1429884453781\" style=\"fill:none;opacity:1;stroke:rgb(14.9%,14.9%,14.9%);stroke-linecap:round;stroke-opacity:1.0;stroke-width:2.0\"></path><path d=\"M 127.00277411155267 414.450137867647 L 127.00277411155267 421.75728728991595\" style=\"fill:none;opacity:1;stroke:rgb(14.9%,14.9%,14.9%);stroke-linecap:round;stroke-opacity:1.0;stroke-width:2.0\"></path><path d=\"M 124.8497442701909 447.33231026785717 L 124.8497442701909 436.37158613445376\" style=\"fill:none;opacity:1;stroke:rgb(14.9%,14.9%,14.9%);stroke-linecap:round;stroke-opacity:1.0;stroke-width:2.0\"></path><path d=\"M 124.8497442701909 447.33231026785717 L 124.8497442701909 458.29303440126046\" style=\"fill:none;opacity:1;stroke:rgb(14.9%,14.9%,14.9%);stroke-linecap:round;stroke-opacity:1.0;stroke-width:2.0\"></path><path d=\"M 157.85866723434833 282.92144826680664 L 157.85866723434833 275.6142988445378\" style=\"fill:none;opacity:1;stroke:rgb(14.9%,14.9%,14.9%);stroke-linecap:round;stroke-opacity:1.0;stroke-width:2.0\"></path><path d=\"M 157.85866723434833 282.92144826680664 L 157.85866723434833 290.2285976890756\" style=\"fill:none;opacity:1;stroke:rgb(14.9%,14.9%,14.9%);stroke-linecap:round;stroke-opacity:1.0;stroke-width:2.0\"></path><path d=\"M 143.78911585896336 312.1500459558823 L 143.78911585896336 304.84289653361344\" style=\"fill:none;opacity:1;stroke:rgb(14.9%,14.9%,14.9%);stroke-linecap:round;stroke-opacity:1.0;stroke-width:2.0\"></path><path d=\"M 143.78911585896336 312.1500459558823 L 143.78911585896336 319.4571953781513\" style=\"fill:none;opacity:1;stroke:rgb(14.9%,14.9%,14.9%);stroke-linecap:round;stroke-opacity:1.0;stroke-width:2.0\"></path><path d=\"M 158.7747900069809 348.6857930672269 L 158.7747900069809 334.0714942226891\" style=\"fill:none;opacity:1;stroke:rgb(14.9%,14.9%,14.9%);stroke-linecap:round;stroke-opacity:1.0;stroke-width:2.0\"></path><path d=\"M 158.7747900069809 348.6857930672269 L 158.7747900069809 348.6857930672269\" style=\"fill:none;opacity:1;stroke:rgb(14.9%,14.9%,14.9%);stroke-linecap:round;stroke-opacity:1.0;stroke-width:2.0\"></path><path d=\"M 158.7747900069809 348.6857930672269 L 158.7747900069809 363.3000919117647\" style=\"fill:none;opacity:1;stroke:rgb(14.9%,14.9%,14.9%);stroke-linecap:round;stroke-opacity:1.0;stroke-width:2.0\"></path><path d=\"M 135.54651436628913 458.29303440126046 L 135.54651436628913 450.9858849789916\" style=\"fill:none;opacity:1;stroke:rgb(14.9%,14.9%,14.9%);stroke-linecap:round;stroke-opacity:1.0;stroke-width:2.0\"></path><path d=\"M 135.54651436628913 458.29303440126046 L 135.54651436628913 465.6001838235294\" style=\"fill:none;opacity:1;stroke:rgb(14.9%,14.9%,14.9%);stroke-linecap:round;stroke-opacity:1.0;stroke-width:2.0\"></path><g class=\"toyplot-HeadMarkers\"></g><g class=\"toyplot-MiddleMarkers\"></g><g class=\"toyplot-TailMarkers\"></g></g><g class=\"toyplot-Vertices\"><g class=\"toyplot-Datum\" style=\"fill:rgb(40%,76.1%,64.7%);fill-opacity:1.0;opacity:1.0;stroke:rgb(40%,76.1%,64.7%);stroke-opacity:1.0\" transform=\"translate(140.83246138356225, 465.6001838235294)\"><circle r=\"0.0\"></circle></g><g class=\"toyplot-Datum\" style=\"fill:rgb(40%,76.1%,64.7%);fill-opacity:1.0;opacity:1.0;stroke:rgb(40%,76.1%,64.7%);stroke-opacity:1.0\" transform=\"translate(138.17852791187485, 450.9858849789916)\"><circle r=\"0.0\"></circle></g><g class=\"toyplot-Datum\" style=\"fill:rgb(40%,76.1%,64.7%);fill-opacity:1.0;opacity:1.0;stroke:rgb(40%,76.1%,64.7%);stroke-opacity:1.0\" transform=\"translate(134.31854878842262, 436.37158613445376)\"><circle r=\"0.0\"></circle></g><g class=\"toyplot-Datum\" style=\"fill:rgb(40%,76.1%,64.7%);fill-opacity:1.0;opacity:1.0;stroke:rgb(40%,76.1%,64.7%);stroke-opacity:1.0\" transform=\"translate(136.1612261317527, 421.75728728991595)\"><circle r=\"0.0\"></circle></g><g class=\"toyplot-Datum\" style=\"fill:rgb(40%,76.1%,64.7%);fill-opacity:1.0;opacity:1.0;stroke:rgb(40%,76.1%,64.7%);stroke-opacity:1.0\" transform=\"translate(139.8064669506952, 407.1429884453781)\"><circle r=\"0.0\"></circle></g><g class=\"toyplot-Datum\" style=\"fill:rgb(40%,76.1%,64.7%);fill-opacity:1.0;opacity:1.0;stroke:rgb(40%,76.1%,64.7%);stroke-opacity:1.0\" transform=\"translate(146.92850660134516, 392.52868960084027)\"><circle r=\"0.0\"></circle></g><g class=\"toyplot-Datum\" style=\"fill:rgb(40%,76.1%,64.7%);fill-opacity:1.0;opacity:1.0;stroke:rgb(40%,76.1%,64.7%);stroke-opacity:1.0\" transform=\"translate(137.4819126748809, 377.91439075630245)\"><circle r=\"0.0\"></circle></g><g class=\"toyplot-Datum\" style=\"fill:rgb(40%,76.1%,64.7%);fill-opacity:1.0;opacity:1.0;stroke:rgb(40%,76.1%,64.7%);stroke-opacity:1.0\" transform=\"translate(158.78884413302296, 363.3000919117647)\"><circle r=\"0.0\"></circle></g><g class=\"toyplot-Datum\" style=\"fill:rgb(40%,76.1%,64.7%);fill-opacity:1.0;opacity:1.0;stroke:rgb(40%,76.1%,64.7%);stroke-opacity:1.0\" transform=\"translate(170.14853903027858, 348.6857930672269)\"><circle r=\"0.0\"></circle></g><g class=\"toyplot-Datum\" style=\"fill:rgb(40%,76.1%,64.7%);fill-opacity:1.0;opacity:1.0;stroke:rgb(40%,76.1%,64.7%);stroke-opacity:1.0\" transform=\"translate(163.52250983080967, 334.0714942226891)\"><circle r=\"0.0\"></circle></g><g class=\"toyplot-Datum\" style=\"fill:rgb(40%,76.1%,64.7%);fill-opacity:1.0;opacity:1.0;stroke:rgb(40%,76.1%,64.7%);stroke-opacity:1.0\" transform=\"translate(156.83361373470962, 319.4571953781513)\"><circle r=\"0.0\"></circle></g><g class=\"toyplot-Datum\" style=\"fill:rgb(40%,76.1%,64.7%);fill-opacity:1.0;opacity:1.0;stroke:rgb(40%,76.1%,64.7%);stroke-opacity:1.0\" transform=\"translate(143.8031699850054, 304.84289653361344)\"><circle r=\"0.0\"></circle></g><g class=\"toyplot-Datum\" style=\"fill:rgb(40%,76.1%,64.7%);fill-opacity:1.0;opacity:1.0;stroke:rgb(40%,76.1%,64.7%);stroke-opacity:1.0\" transform=\"translate(185.7142857142857, 290.2285976890756)\"><circle r=\"0.0\"></circle></g><g class=\"toyplot-Datum\" style=\"fill:rgb(40%,76.1%,64.7%);fill-opacity:1.0;opacity:1.0;stroke:rgb(40%,76.1%,64.7%);stroke-opacity:1.0\" transform=\"translate(172.53535200642904, 275.6142988445378)\"><circle r=\"0.0\"></circle></g><g class=\"toyplot-Datum\" style=\"fill:rgb(40%,76.1%,64.7%);fill-opacity:1.0;opacity:1.0;stroke:rgb(40%,76.1%,64.7%);stroke-opacity:1.0\" transform=\"translate(150.60051058653622, 260.99999999999994)\"><circle r=\"0.0\"></circle></g><g class=\"toyplot-Datum\" style=\"fill:rgb(40%,76.1%,64.7%);fill-opacity:1.0;opacity:1.0;stroke:rgb(40%,76.1%,64.7%);stroke-opacity:1.0\" transform=\"translate(163.0367666743292, 246.38570115546213)\"><circle r=\"0.0\"></circle></g><g class=\"toyplot-Datum\" style=\"fill:rgb(40%,76.1%,64.7%);fill-opacity:1.0;opacity:1.0;stroke:rgb(40%,76.1%,64.7%);stroke-opacity:1.0\" transform=\"translate(138.67559723668032, 231.77140231092437)\"><circle r=\"0.0\"></circle></g><g class=\"toyplot-Datum\" style=\"fill:rgb(40%,76.1%,64.7%);fill-opacity:1.0;opacity:1.0;stroke:rgb(40%,76.1%,64.7%);stroke-opacity:1.0\" transform=\"translate(151.97251012763925, 217.15710346638656)\"><circle r=\"0.0\"></circle></g><g class=\"toyplot-Datum\" style=\"fill:rgb(40%,76.1%,64.7%);fill-opacity:1.0;opacity:1.0;stroke:rgb(40%,76.1%,64.7%);stroke-opacity:1.0\" transform=\"translate(162.75991050416278, 202.54280462184875)\"><circle r=\"0.0\"></circle></g><g class=\"toyplot-Datum\" style=\"fill:rgb(40%,76.1%,64.7%);fill-opacity:1.0;opacity:1.0;stroke:rgb(40%,76.1%,64.7%);stroke-opacity:1.0\" transform=\"translate(138.70399501909546, 187.92850577731093)\"><circle r=\"0.0\"></circle></g><g class=\"toyplot-Datum\" style=\"fill:rgb(40%,76.1%,64.7%);fill-opacity:1.0;opacity:1.0;stroke:rgb(40%,76.1%,64.7%);stroke-opacity:1.0\" transform=\"translate(119.54068949276791, 173.31420693277312)\"><circle r=\"0.0\"></circle></g><g class=\"toyplot-Datum\" style=\"fill:rgb(40%,76.1%,64.7%);fill-opacity:1.0;opacity:1.0;stroke:rgb(40%,76.1%,64.7%);stroke-opacity:1.0\" transform=\"translate(123.03017928941182, 158.6999080882353)\"><circle r=\"0.0\"></circle></g><g class=\"toyplot-Datum\" style=\"fill:rgb(40%,76.1%,64.7%);fill-opacity:1.0;opacity:1.0;stroke:rgb(40%,76.1%,64.7%);stroke-opacity:1.0\" transform=\"translate(130.34750173658915, 144.0856092436975)\"><circle r=\"0.0\"></circle></g><g class=\"toyplot-Datum\" style=\"fill:rgb(40%,76.1%,64.7%);fill-opacity:1.0;opacity:1.0;stroke:rgb(40%,76.1%,64.7%);stroke-opacity:1.0\" transform=\"translate(92.55741482398167, 129.47131039915965)\"><circle r=\"0.0\"></circle></g><g class=\"toyplot-Datum\" style=\"fill:rgb(40%,76.1%,64.7%);fill-opacity:1.0;opacity:1.0;stroke:rgb(40%,76.1%,64.7%);stroke-opacity:1.0\" transform=\"translate(78.89180555521966, 114.85701155462183)\"><circle r=\"0.0\"></circle></g><g class=\"toyplot-Datum\" style=\"fill:rgb(40%,76.1%,64.7%);fill-opacity:1.0;opacity:1.0;stroke:rgb(40%,76.1%,64.7%);stroke-opacity:1.0\" transform=\"translate(70.61909885583715, 100.24271271008402)\"><circle r=\"0.0\"></circle></g><g class=\"toyplot-Datum\" style=\"fill:rgb(40%,76.1%,64.7%);fill-opacity:1.0;opacity:1.0;stroke:rgb(40%,76.1%,64.7%);stroke-opacity:1.0\" transform=\"translate(71.70592616726384, 85.62841386554621)\"><circle r=\"0.0\"></circle></g><g class=\"toyplot-Datum\" style=\"fill:rgb(40%,76.1%,64.7%);fill-opacity:1.0;opacity:1.0;stroke:rgb(40%,76.1%,64.7%);stroke-opacity:1.0\" transform=\"translate(70.32888567233618, 71.0141150210084)\"><circle r=\"0.0\"></circle></g><g class=\"toyplot-Datum\" style=\"fill:rgb(40%,76.1%,64.7%);fill-opacity:1.0;opacity:1.0;stroke:rgb(40%,76.1%,64.7%);stroke-opacity:1.0\" transform=\"translate(60.63795335302579, 56.39981617647058)\"><circle r=\"0.0\"></circle></g><g class=\"toyplot-Datum\" style=\"fill:rgb(40%,76.1%,64.7%);fill-opacity:1.0;opacity:1.0;stroke:rgb(40%,76.1%,64.7%);stroke-opacity:1.0\" transform=\"translate(135.54651436628913, 458.29303440126046)\"><circle r=\"0.0\"></circle></g><g class=\"toyplot-Datum\" style=\"fill:rgb(40%,76.1%,64.7%);fill-opacity:1.0;opacity:1.0;stroke:rgb(40%,76.1%,64.7%);stroke-opacity:1.0\" transform=\"translate(158.7747900069809, 348.6857930672269)\"><circle r=\"0.0\"></circle></g><g class=\"toyplot-Datum\" style=\"fill:rgb(40%,76.1%,64.7%);fill-opacity:1.0;opacity:1.0;stroke:rgb(40%,76.1%,64.7%);stroke-opacity:1.0\" transform=\"translate(143.78911585896336, 312.1500459558823)\"><circle r=\"0.0\"></circle></g><g class=\"toyplot-Datum\" style=\"fill:rgb(40%,76.1%,64.7%);fill-opacity:1.0;opacity:1.0;stroke:rgb(40%,76.1%,64.7%);stroke-opacity:1.0\" transform=\"translate(157.85866723434833, 282.92144826680664)\"><circle r=\"0.0\"></circle></g><g class=\"toyplot-Datum\" style=\"fill:rgb(40%,76.1%,64.7%);fill-opacity:1.0;opacity:1.0;stroke:rgb(40%,76.1%,64.7%);stroke-opacity:1.0\" transform=\"translate(124.8497442701909, 447.33231026785717)\"><circle r=\"0.0\"></circle></g><g class=\"toyplot-Datum\" style=\"fill:rgb(40%,76.1%,64.7%);fill-opacity:1.0;opacity:1.0;stroke:rgb(40%,76.1%,64.7%);stroke-opacity:1.0\" transform=\"translate(127.00277411155267, 414.450137867647)\"><circle r=\"0.0\"></circle></g><g class=\"toyplot-Datum\" style=\"fill:rgb(40%,76.1%,64.7%);fill-opacity:1.0;opacity:1.0;stroke:rgb(40%,76.1%,64.7%);stroke-opacity:1.0\" transform=\"translate(126.76833190823449, 385.2215401785714)\"><circle r=\"0.0\"></circle></g><g class=\"toyplot-Datum\" style=\"fill:rgb(40%,76.1%,64.7%);fill-opacity:1.0;opacity:1.0;stroke:rgb(40%,76.1%,64.7%);stroke-opacity:1.0\" transform=\"translate(138.66154311063826, 262.8267873555672)\"><circle r=\"0.0\"></circle></g><g class=\"toyplot-Datum\" style=\"fill:rgb(40%,76.1%,64.7%);fill-opacity:1.0;opacity:1.0;stroke:rgb(40%,76.1%,64.7%);stroke-opacity:1.0\" transform=\"translate(113.14104818341164, 339.5518562893907)\"><circle r=\"0.0\"></circle></g><g class=\"toyplot-Datum\" style=\"fill:rgb(40%,76.1%,64.7%);fill-opacity:1.0;opacity:1.0;stroke:rgb(40%,76.1%,64.7%);stroke-opacity:1.0\" transform=\"translate(96.55249963180205, 203.91289513852414)\"><circle r=\"0.0\"></circle></g><g class=\"toyplot-Datum\" style=\"fill:rgb(40%,76.1%,64.7%);fill-opacity:1.0;opacity:1.0;stroke:rgb(40%,76.1%,64.7%);stroke-opacity:1.0\" transform=\"translate(67.71439875068785, 149.41373903076854)\"><circle r=\"0.0\"></circle></g><g class=\"toyplot-Datum\" style=\"fill:rgb(40%,76.1%,64.7%);fill-opacity:1.0;opacity:1.0;stroke:rgb(40%,76.1%,64.7%);stroke-opacity:1.0\" transform=\"translate(65.19904670416278, 92.93556328781511)\"><circle r=\"0.0\"></circle></g><g class=\"toyplot-Datum\" style=\"fill:rgb(40%,76.1%,64.7%);fill-opacity:1.0;opacity:1.0;stroke:rgb(40%,76.1%,64.7%);stroke-opacity:1.0\" transform=\"translate(58.70227479933873, 121.17465115929181)\"><circle r=\"0.0\"></circle></g><g class=\"toyplot-Datum\" style=\"fill:rgb(40%,76.1%,64.7%);fill-opacity:1.0;opacity:1.0;stroke:rgb(40%,76.1%,64.7%);stroke-opacity:1.0\" transform=\"translate(50.0, 82.86286078559021)\"><circle r=\"0.0\"></circle></g><g class=\"toyplot-Datum\" style=\"fill:rgb(40%,76.1%,64.7%);fill-opacity:1.0;opacity:1.0;stroke:rgb(40%,76.1%,64.7%);stroke-opacity:1.0\" transform=\"translate(50.0, 56.39981617647058)\"><circle r=\"0.0\"></circle></g><g class=\"toyplot-Datum\" style=\"fill:rgb(40%,76.1%,64.7%);fill-opacity:1.0;opacity:1.0;stroke:rgb(40%,76.1%,64.7%);stroke-opacity:1.0\" transform=\"translate(50.0, 71.0141150210084)\"><circle r=\"0.0\"></circle></g><g class=\"toyplot-Datum\" style=\"fill:rgb(40%,76.1%,64.7%);fill-opacity:1.0;opacity:1.0;stroke:rgb(40%,76.1%,64.7%);stroke-opacity:1.0\" transform=\"translate(50.0, 121.17465115929181)\"><circle r=\"0.0\"></circle></g><g class=\"toyplot-Datum\" style=\"fill:rgb(40%,76.1%,64.7%);fill-opacity:1.0;opacity:1.0;stroke:rgb(40%,76.1%,64.7%);stroke-opacity:1.0\" transform=\"translate(58.70227479933873, 92.93556328781511)\"><circle r=\"0.0\"></circle></g><g class=\"toyplot-Datum\" style=\"fill:rgb(40%,76.1%,64.7%);fill-opacity:1.0;opacity:1.0;stroke:rgb(40%,76.1%,64.7%);stroke-opacity:1.0\" transform=\"translate(58.70227479933873, 149.41373903076854)\"><circle r=\"0.0\"></circle></g><g class=\"toyplot-Datum\" style=\"fill:rgb(40%,76.1%,64.7%);fill-opacity:1.0;opacity:1.0;stroke:rgb(40%,76.1%,64.7%);stroke-opacity:1.0\" transform=\"translate(65.19904670416278, 85.62841386554621)\"><circle r=\"0.0\"></circle></g><g class=\"toyplot-Datum\" style=\"fill:rgb(40%,76.1%,64.7%);fill-opacity:1.0;opacity:1.0;stroke:rgb(40%,76.1%,64.7%);stroke-opacity:1.0\" transform=\"translate(65.19904670416278, 100.24271271008402)\"><circle r=\"0.0\"></circle></g><g class=\"toyplot-Datum\" style=\"fill:rgb(40%,76.1%,64.7%);fill-opacity:1.0;opacity:1.0;stroke:rgb(40%,76.1%,64.7%);stroke-opacity:1.0\" transform=\"translate(67.71439875068785, 114.85701155462183)\"><circle r=\"0.0\"></circle></g><g class=\"toyplot-Datum\" style=\"fill:rgb(40%,76.1%,64.7%);fill-opacity:1.0;opacity:1.0;stroke:rgb(40%,76.1%,64.7%);stroke-opacity:1.0\" transform=\"translate(67.71439875068785, 129.47131039915965)\"><circle r=\"0.0\"></circle></g><g class=\"toyplot-Datum\" style=\"fill:rgb(40%,76.1%,64.7%);fill-opacity:1.0;opacity:1.0;stroke:rgb(40%,76.1%,64.7%);stroke-opacity:1.0\" transform=\"translate(67.71439875068785, 203.91289513852414)\"><circle r=\"0.0\"></circle></g><g class=\"toyplot-Datum\" style=\"fill:rgb(40%,76.1%,64.7%);fill-opacity:1.0;opacity:1.0;stroke:rgb(40%,76.1%,64.7%);stroke-opacity:1.0\" transform=\"translate(96.55249963180205, 144.0856092436975)\"><circle r=\"0.0\"></circle></g><g class=\"toyplot-Datum\" style=\"fill:rgb(40%,76.1%,64.7%);fill-opacity:1.0;opacity:1.0;stroke:rgb(40%,76.1%,64.7%);stroke-opacity:1.0\" transform=\"translate(96.55249963180205, 158.6999080882353)\"><circle r=\"0.0\"></circle></g><g class=\"toyplot-Datum\" style=\"fill:rgb(40%,76.1%,64.7%);fill-opacity:1.0;opacity:1.0;stroke:rgb(40%,76.1%,64.7%);stroke-opacity:1.0\" transform=\"translate(96.55249963180205, 173.31420693277312)\"><circle r=\"0.0\"></circle></g><g class=\"toyplot-Datum\" style=\"fill:rgb(40%,76.1%,64.7%);fill-opacity:1.0;opacity:1.0;stroke:rgb(40%,76.1%,64.7%);stroke-opacity:1.0\" transform=\"translate(96.55249963180205, 339.5518562893907)\"><circle r=\"0.0\"></circle></g><g class=\"toyplot-Datum\" style=\"fill:rgb(40%,76.1%,64.7%);fill-opacity:1.0;opacity:1.0;stroke:rgb(40%,76.1%,64.7%);stroke-opacity:1.0\" transform=\"translate(113.14104818341164, 187.92850577731093)\"><circle r=\"0.0\"></circle></g><g class=\"toyplot-Datum\" style=\"fill:rgb(40%,76.1%,64.7%);fill-opacity:1.0;opacity:1.0;stroke:rgb(40%,76.1%,64.7%);stroke-opacity:1.0\" transform=\"translate(113.14104818341164, 262.8267873555672)\"><circle r=\"0.0\"></circle></g><g class=\"toyplot-Datum\" style=\"fill:rgb(40%,76.1%,64.7%);fill-opacity:1.0;opacity:1.0;stroke:rgb(40%,76.1%,64.7%);stroke-opacity:1.0\" transform=\"translate(113.14104818341164, 385.2215401785714)\"><circle r=\"0.0\"></circle></g><g class=\"toyplot-Datum\" style=\"fill:rgb(40%,76.1%,64.7%);fill-opacity:1.0;opacity:1.0;stroke:rgb(40%,76.1%,64.7%);stroke-opacity:1.0\" transform=\"translate(113.14104818341164, 414.450137867647)\"><circle r=\"0.0\"></circle></g><g class=\"toyplot-Datum\" style=\"fill:rgb(40%,76.1%,64.7%);fill-opacity:1.0;opacity:1.0;stroke:rgb(40%,76.1%,64.7%);stroke-opacity:1.0\" transform=\"translate(113.14104818341164, 447.33231026785717)\"><circle r=\"0.0\"></circle></g><g class=\"toyplot-Datum\" style=\"fill:rgb(40%,76.1%,64.7%);fill-opacity:1.0;opacity:1.0;stroke:rgb(40%,76.1%,64.7%);stroke-opacity:1.0\" transform=\"translate(138.66154311063826, 202.54280462184875)\"><circle r=\"0.0\"></circle></g><g class=\"toyplot-Datum\" style=\"fill:rgb(40%,76.1%,64.7%);fill-opacity:1.0;opacity:1.0;stroke:rgb(40%,76.1%,64.7%);stroke-opacity:1.0\" transform=\"translate(138.66154311063826, 217.15710346638656)\"><circle r=\"0.0\"></circle></g><g class=\"toyplot-Datum\" style=\"fill:rgb(40%,76.1%,64.7%);fill-opacity:1.0;opacity:1.0;stroke:rgb(40%,76.1%,64.7%);stroke-opacity:1.0\" transform=\"translate(138.66154311063826, 231.77140231092437)\"><circle r=\"0.0\"></circle></g><g class=\"toyplot-Datum\" style=\"fill:rgb(40%,76.1%,64.7%);fill-opacity:1.0;opacity:1.0;stroke:rgb(40%,76.1%,64.7%);stroke-opacity:1.0\" transform=\"translate(138.66154311063826, 246.38570115546213)\"><circle r=\"0.0\"></circle></g><g class=\"toyplot-Datum\" style=\"fill:rgb(40%,76.1%,64.7%);fill-opacity:1.0;opacity:1.0;stroke:rgb(40%,76.1%,64.7%);stroke-opacity:1.0\" transform=\"translate(138.66154311063826, 260.99999999999994)\"><circle r=\"0.0\"></circle></g><g class=\"toyplot-Datum\" style=\"fill:rgb(40%,76.1%,64.7%);fill-opacity:1.0;opacity:1.0;stroke:rgb(40%,76.1%,64.7%);stroke-opacity:1.0\" transform=\"translate(138.66154311063826, 282.92144826680664)\"><circle r=\"0.0\"></circle></g><g class=\"toyplot-Datum\" style=\"fill:rgb(40%,76.1%,64.7%);fill-opacity:1.0;opacity:1.0;stroke:rgb(40%,76.1%,64.7%);stroke-opacity:1.0\" transform=\"translate(138.66154311063826, 312.1500459558823)\"><circle r=\"0.0\"></circle></g><g class=\"toyplot-Datum\" style=\"fill:rgb(40%,76.1%,64.7%);fill-opacity:1.0;opacity:1.0;stroke:rgb(40%,76.1%,64.7%);stroke-opacity:1.0\" transform=\"translate(138.66154311063826, 348.6857930672269)\"><circle r=\"0.0\"></circle></g><g class=\"toyplot-Datum\" style=\"fill:rgb(40%,76.1%,64.7%);fill-opacity:1.0;opacity:1.0;stroke:rgb(40%,76.1%,64.7%);stroke-opacity:1.0\" transform=\"translate(126.76833190823449, 377.91439075630245)\"><circle r=\"0.0\"></circle></g><g class=\"toyplot-Datum\" style=\"fill:rgb(40%,76.1%,64.7%);fill-opacity:1.0;opacity:1.0;stroke:rgb(40%,76.1%,64.7%);stroke-opacity:1.0\" transform=\"translate(126.76833190823449, 392.52868960084027)\"><circle r=\"0.0\"></circle></g><g class=\"toyplot-Datum\" style=\"fill:rgb(40%,76.1%,64.7%);fill-opacity:1.0;opacity:1.0;stroke:rgb(40%,76.1%,64.7%);stroke-opacity:1.0\" transform=\"translate(127.00277411155267, 407.1429884453781)\"><circle r=\"0.0\"></circle></g><g class=\"toyplot-Datum\" style=\"fill:rgb(40%,76.1%,64.7%);fill-opacity:1.0;opacity:1.0;stroke:rgb(40%,76.1%,64.7%);stroke-opacity:1.0\" transform=\"translate(127.00277411155267, 421.75728728991595)\"><circle r=\"0.0\"></circle></g><g class=\"toyplot-Datum\" style=\"fill:rgb(40%,76.1%,64.7%);fill-opacity:1.0;opacity:1.0;stroke:rgb(40%,76.1%,64.7%);stroke-opacity:1.0\" transform=\"translate(124.8497442701909, 436.37158613445376)\"><circle r=\"0.0\"></circle></g><g class=\"toyplot-Datum\" style=\"fill:rgb(40%,76.1%,64.7%);fill-opacity:1.0;opacity:1.0;stroke:rgb(40%,76.1%,64.7%);stroke-opacity:1.0\" transform=\"translate(124.8497442701909, 458.29303440126046)\"><circle r=\"0.0\"></circle></g><g class=\"toyplot-Datum\" style=\"fill:rgb(40%,76.1%,64.7%);fill-opacity:1.0;opacity:1.0;stroke:rgb(40%,76.1%,64.7%);stroke-opacity:1.0\" transform=\"translate(157.85866723434833, 275.6142988445378)\"><circle r=\"0.0\"></circle></g><g class=\"toyplot-Datum\" style=\"fill:rgb(40%,76.1%,64.7%);fill-opacity:1.0;opacity:1.0;stroke:rgb(40%,76.1%,64.7%);stroke-opacity:1.0\" transform=\"translate(157.85866723434833, 290.2285976890756)\"><circle r=\"0.0\"></circle></g><g class=\"toyplot-Datum\" style=\"fill:rgb(40%,76.1%,64.7%);fill-opacity:1.0;opacity:1.0;stroke:rgb(40%,76.1%,64.7%);stroke-opacity:1.0\" transform=\"translate(143.78911585896336, 304.84289653361344)\"><circle r=\"0.0\"></circle></g><g class=\"toyplot-Datum\" style=\"fill:rgb(40%,76.1%,64.7%);fill-opacity:1.0;opacity:1.0;stroke:rgb(40%,76.1%,64.7%);stroke-opacity:1.0\" transform=\"translate(143.78911585896336, 319.4571953781513)\"><circle r=\"0.0\"></circle></g><g class=\"toyplot-Datum\" style=\"fill:rgb(40%,76.1%,64.7%);fill-opacity:1.0;opacity:1.0;stroke:rgb(40%,76.1%,64.7%);stroke-opacity:1.0\" transform=\"translate(158.7747900069809, 334.0714942226891)\"><circle r=\"0.0\"></circle></g><g class=\"toyplot-Datum\" style=\"fill:rgb(40%,76.1%,64.7%);fill-opacity:1.0;opacity:1.0;stroke:rgb(40%,76.1%,64.7%);stroke-opacity:1.0\" transform=\"translate(158.7747900069809, 348.6857930672269)\"><circle r=\"0.0\"></circle></g><g class=\"toyplot-Datum\" style=\"fill:rgb(40%,76.1%,64.7%);fill-opacity:1.0;opacity:1.0;stroke:rgb(40%,76.1%,64.7%);stroke-opacity:1.0\" transform=\"translate(158.7747900069809, 363.3000919117647)\"><circle r=\"0.0\"></circle></g><g class=\"toyplot-Datum\" style=\"fill:rgb(40%,76.1%,64.7%);fill-opacity:1.0;opacity:1.0;stroke:rgb(40%,76.1%,64.7%);stroke-opacity:1.0\" transform=\"translate(135.54651436628913, 450.9858849789916)\"><circle r=\"0.0\"></circle></g><g class=\"toyplot-Datum\" style=\"fill:rgb(40%,76.1%,64.7%);fill-opacity:1.0;opacity:1.0;stroke:rgb(40%,76.1%,64.7%);stroke-opacity:1.0\" transform=\"translate(135.54651436628913, 465.6001838235294)\"><circle r=\"0.0\"></circle></g></g></g><g class=\"toyplot-mark-Point\" id=\"ta6832983a36b4753982c9d0cec1b16f2\"><g class=\"toyplot-Series\"><g class=\"toyplot-Datum\" style=\"fill:rgb(40%,76.1%,64.7%);fill-opacity:1.0;opacity:1.0;stroke:none;stroke-width:1\" transform=\"translate(135.54651436628913, 458.29303440126046)\"><circle r=\"9.0\"></circle><g><text style=\"fill:rgb(14.9%,14.9%,14.9%);fill-opacity:1.0;font-family:helvetica;font-size:9.0px;font-weight:normal;stroke:none;vertical-align:baseline;white-space:pre\" x=\"-7.506\" y=\"2.2995\">100</text></g></g><g class=\"toyplot-Datum\" style=\"fill:rgb(40%,76.1%,64.7%);fill-opacity:1.0;opacity:1.0;stroke:none;stroke-width:1\" transform=\"translate(158.7747900069809, 348.6857930672269)\"><circle r=\"9.0\"></circle><g><text style=\"fill:rgb(14.9%,14.9%,14.9%);fill-opacity:1.0;font-family:helvetica;font-size:9.0px;font-weight:normal;stroke:none;vertical-align:baseline;white-space:pre\" x=\"-7.506\" y=\"2.2995\">100</text></g></g><g class=\"toyplot-Datum\" style=\"fill:rgb(40%,76.1%,64.7%);fill-opacity:1.0;opacity:1.0;stroke:none;stroke-width:1\" transform=\"translate(143.78911585896336, 312.1500459558823)\"><circle r=\"9.0\"></circle><g><text style=\"fill:rgb(14.9%,14.9%,14.9%);fill-opacity:1.0;font-family:helvetica;font-size:9.0px;font-weight:normal;stroke:none;vertical-align:baseline;white-space:pre\" x=\"-5.0040000000000004\" y=\"2.2995\">70</text></g></g><g class=\"toyplot-Datum\" style=\"fill:rgb(40%,76.1%,64.7%);fill-opacity:1.0;opacity:1.0;stroke:none;stroke-width:1\" transform=\"translate(157.85866723434833, 282.92144826680664)\"><circle r=\"9.0\"></circle><g><text style=\"fill:rgb(14.9%,14.9%,14.9%);fill-opacity:1.0;font-family:helvetica;font-size:9.0px;font-weight:normal;stroke:none;vertical-align:baseline;white-space:pre\" x=\"-5.0040000000000004\" y=\"2.2995\">60</text></g></g><g class=\"toyplot-Datum\" style=\"fill:rgb(40%,76.1%,64.7%);fill-opacity:1.0;opacity:1.0;stroke:none;stroke-width:1\" transform=\"translate(124.8497442701909, 447.33231026785717)\"><circle r=\"9.0\"></circle><g><text style=\"fill:rgb(14.9%,14.9%,14.9%);fill-opacity:1.0;font-family:helvetica;font-size:9.0px;font-weight:normal;stroke:none;vertical-align:baseline;white-space:pre\" x=\"-5.0040000000000004\" y=\"2.2995\">70</text></g></g><g class=\"toyplot-Datum\" style=\"fill:rgb(40%,76.1%,64.7%);fill-opacity:1.0;opacity:1.0;stroke:none;stroke-width:1\" transform=\"translate(127.00277411155267, 414.450137867647)\"><circle r=\"9.0\"></circle><g><text style=\"fill:rgb(14.9%,14.9%,14.9%);fill-opacity:1.0;font-family:helvetica;font-size:9.0px;font-weight:normal;stroke:none;vertical-align:baseline;white-space:pre\" x=\"-5.0040000000000004\" y=\"2.2995\">80</text></g></g><g class=\"toyplot-Datum\" style=\"fill:rgb(40%,76.1%,64.7%);fill-opacity:1.0;opacity:1.0;stroke:none;stroke-width:1\" transform=\"translate(126.76833190823449, 385.2215401785714)\"><circle r=\"9.0\"></circle><g><text style=\"fill:rgb(14.9%,14.9%,14.9%);fill-opacity:1.0;font-family:helvetica;font-size:9.0px;font-weight:normal;stroke:none;vertical-align:baseline;white-space:pre\" x=\"-5.0040000000000004\" y=\"2.2995\">80</text></g></g><g class=\"toyplot-Datum\" style=\"fill:rgb(40%,76.1%,64.7%);fill-opacity:1.0;opacity:1.0;stroke:none;stroke-width:1\" transform=\"translate(138.66154311063826, 262.8267873555672)\"><circle r=\"9.0\"></circle><g><text style=\"fill:rgb(14.9%,14.9%,14.9%);fill-opacity:1.0;font-family:helvetica;font-size:9.0px;font-weight:normal;stroke:none;vertical-align:baseline;white-space:pre\" x=\"-5.0040000000000004\" y=\"2.2995\">90</text></g></g><g class=\"toyplot-Datum\" style=\"fill:rgb(40%,76.1%,64.7%);fill-opacity:1.0;opacity:1.0;stroke:none;stroke-width:1\" transform=\"translate(113.14104818341164, 339.5518562893907)\"><circle r=\"9.0\"></circle><g><text style=\"fill:rgb(14.9%,14.9%,14.9%);fill-opacity:1.0;font-family:helvetica;font-size:9.0px;font-weight:normal;stroke:none;vertical-align:baseline;white-space:pre\" x=\"-5.0040000000000004\" y=\"2.2995\">70</text></g></g><g class=\"toyplot-Datum\" style=\"fill:rgb(40%,76.1%,64.7%);fill-opacity:1.0;opacity:1.0;stroke:none;stroke-width:1\" transform=\"translate(96.55249963180205, 203.91289513852414)\"><circle r=\"9.0\"></circle><g><text style=\"fill:rgb(14.9%,14.9%,14.9%);fill-opacity:1.0;font-family:helvetica;font-size:9.0px;font-weight:normal;stroke:none;vertical-align:baseline;white-space:pre\" x=\"-7.506\" y=\"2.2995\">100</text></g></g><g class=\"toyplot-Datum\" style=\"fill:rgb(40%,76.1%,64.7%);fill-opacity:1.0;opacity:1.0;stroke:none;stroke-width:1\" transform=\"translate(67.71439875068785, 149.41373903076854)\"><circle r=\"9.0\"></circle><g><text style=\"fill:rgb(14.9%,14.9%,14.9%);fill-opacity:1.0;font-family:helvetica;font-size:9.0px;font-weight:normal;stroke:none;vertical-align:baseline;white-space:pre\" x=\"-5.0040000000000004\" y=\"2.2995\">70</text></g></g><g class=\"toyplot-Datum\" style=\"fill:rgb(40%,76.1%,64.7%);fill-opacity:1.0;opacity:1.0;stroke:none;stroke-width:1\" transform=\"translate(65.19904670416278, 92.93556328781511)\"><circle r=\"9.0\"></circle><g><text style=\"fill:rgb(14.9%,14.9%,14.9%);fill-opacity:1.0;font-family:helvetica;font-size:9.0px;font-weight:normal;stroke:none;vertical-align:baseline;white-space:pre\" x=\"-5.0040000000000004\" y=\"2.2995\">60</text></g></g><g class=\"toyplot-Datum\" style=\"fill:rgb(40%,76.1%,64.7%);fill-opacity:1.0;opacity:1.0;stroke:none;stroke-width:1\" transform=\"translate(58.70227479933873, 121.17465115929181)\"><circle r=\"9.0\"></circle><g><text style=\"fill:rgb(14.9%,14.9%,14.9%);fill-opacity:1.0;font-family:helvetica;font-size:9.0px;font-weight:normal;stroke:none;vertical-align:baseline;white-space:pre\" x=\"-5.0040000000000004\" y=\"2.2995\">80</text></g></g><g class=\"toyplot-Datum\" style=\"fill:rgb(40%,76.1%,64.7%);fill-opacity:1.0;opacity:1.0;stroke:none;stroke-width:1\" transform=\"translate(50.0, 82.86286078559021)\"><circle r=\"9.0\"></circle><g><text style=\"fill:rgb(14.9%,14.9%,14.9%);fill-opacity:1.0;font-family:helvetica;font-size:9.0px;font-weight:normal;stroke:none;vertical-align:baseline;white-space:pre\" x=\"-7.506\" y=\"2.2995\">100</text></g></g></g></g></g></g></svg><div class=\"toyplot-behavior\"><script>(function()\n",
       "{\n",
       "var modules={};\n",
       "modules[\"toyplot/tables\"] = (function()\n",
       "    {\n",
       "        var tables = [];\n",
       "\n",
       "        var module = {};\n",
       "\n",
       "        module.set = function(owner, key, names, columns)\n",
       "        {\n",
       "            tables.push({owner: owner, key: key, names: names, columns: columns});\n",
       "        }\n",
       "\n",
       "        module.get = function(owner, key)\n",
       "        {\n",
       "            for(var i = 0; i != tables.length; ++i)\n",
       "            {\n",
       "                var table = tables[i];\n",
       "                if(table.owner != owner)\n",
       "                    continue;\n",
       "                if(table.key != key)\n",
       "                    continue;\n",
       "                return {names: table.names, columns: table.columns};\n",
       "            }\n",
       "        }\n",
       "\n",
       "        module.get_csv = function(owner, key)\n",
       "        {\n",
       "            var table = module.get(owner, key);\n",
       "            if(table != undefined)\n",
       "            {\n",
       "                var csv = \"\";\n",
       "                csv += table.names.join(\",\") + \"\\n\";\n",
       "                for(var i = 0; i != table.columns[0].length; ++i)\n",
       "                {\n",
       "                  for(var j = 0; j != table.columns.length; ++j)\n",
       "                  {\n",
       "                    if(j)\n",
       "                      csv += \",\";\n",
       "                    csv += table.columns[j][i];\n",
       "                  }\n",
       "                  csv += \"\\n\";\n",
       "                }\n",
       "                return csv;\n",
       "            }\n",
       "        }\n",
       "\n",
       "        return module;\n",
       "    })();\n",
       "modules[\"toyplot/root/id\"] = \"t10d19f5f8c9f41b88f9974ffeb3f2845\";\n",
       "modules[\"toyplot/root\"] = (function(root_id)\n",
       "    {\n",
       "        return document.querySelector(\"#\" + root_id);\n",
       "    })(modules[\"toyplot/root/id\"]);\n",
       "modules[\"toyplot/canvas/id\"] = \"t406f346d9ee344de875868f94343b863\";\n",
       "modules[\"toyplot/canvas\"] = (function(canvas_id)\n",
       "    {\n",
       "        return document.querySelector(\"#\" + canvas_id);\n",
       "    })(modules[\"toyplot/canvas/id\"]);\n",
       "modules[\"toyplot/menus/context\"] = (function(root, canvas)\n",
       "    {\n",
       "        var wrapper = document.createElement(\"div\");\n",
       "        wrapper.innerHTML = \"<ul class='toyplot-context-menu' style='background:#eee; border:1px solid #b8b8b8; border-radius:5px; box-shadow: 0px 0px 8px rgba(0%,0%,0%,0.25); margin:0; padding:3px 0; position:fixed; visibility:hidden;'></ul>\"\n",
       "        var menu = wrapper.firstChild;\n",
       "\n",
       "        root.appendChild(menu);\n",
       "\n",
       "        var items = [];\n",
       "\n",
       "        var ignore_mouseup = null;\n",
       "        function open_menu(e)\n",
       "        {\n",
       "            var show_menu = false;\n",
       "            for(var index=0; index != items.length; ++index)\n",
       "            {\n",
       "                var item = items[index];\n",
       "                if(item.show(e))\n",
       "                {\n",
       "                    item.item.style.display = \"block\";\n",
       "                    show_menu = true;\n",
       "                }\n",
       "                else\n",
       "                {\n",
       "                    item.item.style.display = \"none\";\n",
       "                }\n",
       "            }\n",
       "\n",
       "            if(show_menu)\n",
       "            {\n",
       "                ignore_mouseup = true;\n",
       "                menu.style.left = (e.clientX + 1) + \"px\";\n",
       "                menu.style.top = (e.clientY - 5) + \"px\";\n",
       "                menu.style.visibility = \"visible\";\n",
       "                e.stopPropagation();\n",
       "                e.preventDefault();\n",
       "            }\n",
       "        }\n",
       "\n",
       "        function close_menu()\n",
       "        {\n",
       "            menu.style.visibility = \"hidden\";\n",
       "        }\n",
       "\n",
       "        function contextmenu(e)\n",
       "        {\n",
       "            open_menu(e);\n",
       "        }\n",
       "\n",
       "        function mousemove(e)\n",
       "        {\n",
       "            ignore_mouseup = false;\n",
       "        }\n",
       "\n",
       "        function mouseup(e)\n",
       "        {\n",
       "            if(ignore_mouseup)\n",
       "            {\n",
       "                ignore_mouseup = false;\n",
       "                return;\n",
       "            }\n",
       "            close_menu();\n",
       "        }\n",
       "\n",
       "        function keydown(e)\n",
       "        {\n",
       "            if(e.key == \"Escape\" || e.key == \"Esc\" || e.keyCode == 27)\n",
       "            {\n",
       "                close_menu();\n",
       "            }\n",
       "        }\n",
       "\n",
       "        canvas.addEventListener(\"contextmenu\", contextmenu);\n",
       "        canvas.addEventListener(\"mousemove\", mousemove);\n",
       "        document.addEventListener(\"mouseup\", mouseup);\n",
       "        document.addEventListener(\"keydown\", keydown);\n",
       "\n",
       "        var module = {};\n",
       "        module.add_item = function(label, show, activate)\n",
       "        {\n",
       "            var wrapper = document.createElement(\"div\");\n",
       "            wrapper.innerHTML = \"<li class='toyplot-context-menu-item' style='background:#eee; color:#333; padding:2px 20px; list-style:none; margin:0; text-align:left;'>\" + label + \"</li>\"\n",
       "            var item = wrapper.firstChild;\n",
       "\n",
       "            items.push({item: item, show: show});\n",
       "\n",
       "            function mouseover()\n",
       "            {\n",
       "                this.style.background = \"steelblue\";\n",
       "                this.style.color = \"white\";\n",
       "            }\n",
       "\n",
       "            function mouseout()\n",
       "            {\n",
       "                this.style.background = \"#eee\";\n",
       "                this.style.color = \"#333\";\n",
       "            }\n",
       "\n",
       "            function choose_item(e)\n",
       "            {\n",
       "                close_menu();\n",
       "                activate();\n",
       "\n",
       "                e.stopPropagation();\n",
       "                e.preventDefault();\n",
       "            }\n",
       "\n",
       "            item.addEventListener(\"mouseover\", mouseover);\n",
       "            item.addEventListener(\"mouseout\", mouseout);\n",
       "            item.addEventListener(\"mouseup\", choose_item);\n",
       "            item.addEventListener(\"contextmenu\", choose_item);\n",
       "\n",
       "            menu.appendChild(item);\n",
       "        };\n",
       "        return module;\n",
       "    })(modules[\"toyplot/root\"],modules[\"toyplot/canvas\"]);\n",
       "modules[\"toyplot/io\"] = (function()\n",
       "    {\n",
       "        var module = {};\n",
       "        module.save_file = function(mime_type, charset, data, filename)\n",
       "        {\n",
       "            var uri = \"data:\" + mime_type + \";charset=\" + charset + \",\" + data;\n",
       "            uri = encodeURI(uri);\n",
       "\n",
       "            var link = document.createElement(\"a\");\n",
       "            if(typeof link.download != \"undefined\")\n",
       "            {\n",
       "              link.href = uri;\n",
       "              link.style = \"visibility:hidden\";\n",
       "              link.download = filename;\n",
       "\n",
       "              document.body.appendChild(link);\n",
       "              link.click();\n",
       "              document.body.removeChild(link);\n",
       "            }\n",
       "            else\n",
       "            {\n",
       "              window.open(uri);\n",
       "            }\n",
       "        };\n",
       "        return module;\n",
       "    })();\n",
       "(function(tables, context_menu, io, owner_id, key, label, names, columns, filename)\n",
       "        {\n",
       "            tables.set(owner_id, key, names, columns);\n",
       "\n",
       "            var owner = document.querySelector(\"#\" + owner_id);\n",
       "            function show_item(e)\n",
       "            {\n",
       "                return owner.contains(e.target);\n",
       "            }\n",
       "\n",
       "            function choose_item()\n",
       "            {\n",
       "                io.save_file(\"text/csv\", \"utf-8\", tables.get_csv(owner_id, key), filename + \".csv\");\n",
       "            }\n",
       "\n",
       "            context_menu.add_item(\"Save \" + label + \" as CSV\", show_item, choose_item);\n",
       "        })(modules[\"toyplot/tables\"],modules[\"toyplot/menus/context\"],modules[\"toyplot/io\"],\"t9bbc7daa45b546bf98a86c4ee836fe5b\",\"vertex_data\",\"graph vertex data\",[\"x\", \"y\"],[[-0.0031934996625631266, -0.0033823363636705933, -0.0036569874548876505, -0.003525874480718524, -0.0032665027751596354, -0.0027597446038893445, -0.003431902987965623, -0.0019158398725174913, -0.0011075576254794064, -0.00157902290854617, -0.0020549613924280043, -0.0029821232967903125, -0.0, -0.0009377274871639248, -0.002498468604918626, -0.001613585242618917, -0.003346968132884348, -0.002400846011878217, -0.0016332845329037754, -0.003344947530782882, -0.004708484121474196, -0.004460194648970033, -0.003939541419864769, -0.006628439021583488, -0.007600795186674506, -0.008189427365667216, -0.008112095779795613, -0.008210077054431032, -0.008899620974562074, -0.003569613384937659, -0.0019168398730175212, -0.0029831232972903424, -0.001982025230540205, -0.004330726200688801, -0.0041775305546916195, -0.004194211942053912, -0.003347968133384378, -0.005163841109892426, -0.006344174685720655, -0.008396106994759109, -0.008575083140038178, -0.009037351311958337, -0.009656548772169328, -0.009656548772169328, -0.009656548772169328, -0.009656548772169328, -0.009037351311958337, -0.009037351311958337, -0.008575083140038178, -0.008575083140038178, -0.008396106994759109, -0.008396106994759109, -0.008396106994759109, -0.006344174685720655, -0.006344174685720655, -0.006344174685720655, -0.006344174685720655, -0.005163841109892426, -0.005163841109892426, -0.005163841109892426, -0.005163841109892426, -0.005163841109892426, -0.003347968133384378, -0.003347968133384378, -0.003347968133384378, -0.003347968133384378, -0.003347968133384378, -0.003347968133384378, -0.003347968133384378, -0.003347968133384378, -0.004194211942053912, -0.004194211942053912, -0.0041775305546916195, -0.0041775305546916195, -0.004330726200688801, -0.004330726200688801, -0.001982025230540205, -0.001982025230540205, -0.0029831232972903424, -0.0029831232972903424, -0.0019168398730175212, -0.0019168398730175212, -0.0019168398730175212, -0.003569613384937659, -0.003569613384937659], [0.0, 1.0, 2.0, 3.0, 4.0, 5.0, 6.0, 7.0, 8.0, 9.0, 10.0, 11.0, 12.0, 13.0, 14.0, 15.0, 16.0, 17.0, 18.0, 19.0, 20.0, 21.0, 22.0, 23.0, 24.0, 25.0, 26.0, 27.0, 28.0, 0.5, 8.0, 10.5, 12.5, 1.25, 3.5, 5.5, 13.875, 8.625, 17.90625, 21.635416666666668, 25.5, 23.567708333333336, 26.189236111111114, 28.0, 27.0, 23.567708333333336, 25.5, 21.635416666666668, 26.0, 25.0, 24.0, 23.0, 17.90625, 22.0, 21.0, 20.0, 8.625, 19.0, 13.875, 5.5, 3.5, 1.25, 18.0, 17.0, 16.0, 15.0, 14.0, 12.5, 10.5, 8.0, 6.0, 5.0, 4.0, 3.0, 2.0, 0.5, 13.0, 12.0, 11.0, 10.0, 9.0, 8.0, 7.0, 1.0, 0.0]],\"toyplot\");\n",
       "(function(tables, context_menu, io, owner_id, key, label, names, columns, filename)\n",
       "        {\n",
       "            tables.set(owner_id, key, names, columns);\n",
       "\n",
       "            var owner = document.querySelector(\"#\" + owner_id);\n",
       "            function show_item(e)\n",
       "            {\n",
       "                return owner.contains(e.target);\n",
       "            }\n",
       "\n",
       "            function choose_item()\n",
       "            {\n",
       "                io.save_file(\"text/csv\", \"utf-8\", tables.get_csv(owner_id, key), filename + \".csv\");\n",
       "            }\n",
       "\n",
       "            context_menu.add_item(\"Save \" + label + \" as CSV\", show_item, choose_item);\n",
       "        })(modules[\"toyplot/tables\"],modules[\"toyplot/menus/context\"],modules[\"toyplot/io\"],\"t9bbc7daa45b546bf98a86c4ee836fe5b\",\"edge_data\",\"graph edge data\",[\"source\", \"target\"],[[43, 44, 45, 46, 47, 48, 49, 50, 51, 52, 53, 54, 55, 56, 57, 58, 59, 60, 61, 62, 63, 64, 65, 66, 67, 68, 69, 70, 71, 72, 73, 74, 75, 76, 77, 78, 79, 80, 81, 82, 83, 84, 42, 42, 42, 41, 41, 40, 40, 39, 39, 39, 38, 38, 38, 38, 37, 37, 37, 37, 37, 36, 36, 36, 36, 36, 36, 36, 36, 35, 35, 34, 34, 33, 33, 32, 32, 31, 31, 30, 30, 30, 29, 29], [28, 27, 41, 40, 39, 26, 25, 24, 23, 38, 22, 21, 20, 37, 19, 36, 35, 34, 33, 18, 17, 16, 15, 14, 32, 31, 30, 6, 5, 4, 3, 2, 29, 13, 12, 11, 10, 9, 8, 7, 1, 0, 43, 44, 45, 46, 47, 48, 49, 50, 51, 52, 53, 54, 55, 56, 57, 58, 59, 60, 61, 62, 63, 64, 65, 66, 67, 68, 69, 70, 71, 72, 73, 74, 75, 76, 77, 78, 79, 80, 81, 82, 83, 84]],\"toyplot\");\n",
       "(function(tables, context_menu, io, owner_id, key, label, names, columns, filename)\n",
       "        {\n",
       "            tables.set(owner_id, key, names, columns);\n",
       "\n",
       "            var owner = document.querySelector(\"#\" + owner_id);\n",
       "            function show_item(e)\n",
       "            {\n",
       "                return owner.contains(e.target);\n",
       "            }\n",
       "\n",
       "            function choose_item()\n",
       "            {\n",
       "                io.save_file(\"text/csv\", \"utf-8\", tables.get_csv(owner_id, key), filename + \".csv\");\n",
       "            }\n",
       "\n",
       "            context_menu.add_item(\"Save \" + label + \" as CSV\", show_item, choose_item);\n",
       "        })(modules[\"toyplot/tables\"],modules[\"toyplot/menus/context\"],modules[\"toyplot/io\"],\"ta6832983a36b4753982c9d0cec1b16f2\",\"data\",\"point\",[\"x\", \"y0\"],[[-0.0031934996625631266, -0.0033823363636705933, -0.0036569874548876505, -0.003525874480718524, -0.0032665027751596354, -0.0027597446038893445, -0.003431902987965623, -0.0019158398725174913, -0.0011075576254794064, -0.00157902290854617, -0.0020549613924280043, -0.0029821232967903125, -0.0, -0.0009377274871639248, -0.002498468604918626, -0.001613585242618917, -0.003346968132884348, -0.002400846011878217, -0.0016332845329037754, -0.003344947530782882, -0.004708484121474196, -0.004460194648970033, -0.003939541419864769, -0.006628439021583488, -0.007600795186674506, -0.008189427365667216, -0.008112095779795613, -0.008210077054431032, -0.008899620974562074, -0.003569613384937659, -0.0019168398730175212, -0.0029831232972903424, -0.001982025230540205, -0.004330726200688801, -0.0041775305546916195, -0.004194211942053912, -0.003347968133384378, -0.005163841109892426, -0.006344174685720655, -0.008396106994759109, -0.008575083140038178, -0.009037351311958337, -0.009656548772169328], [0.0, 1.0, 2.0, 3.0, 4.0, 5.0, 6.0, 7.0, 8.0, 9.0, 10.0, 11.0, 12.0, 13.0, 14.0, 15.0, 16.0, 17.0, 18.0, 19.0, 20.0, 21.0, 22.0, 23.0, 24.0, 25.0, 26.0, 27.0, 28.0, 0.5, 8.0, 10.5, 12.5, 1.25, 3.5, 5.5, 13.875, 8.625, 17.90625, 21.635416666666668, 25.5, 23.567708333333336, 26.189236111111114]],\"toyplot\");\n",
       "})();</script></div></div>"
      ]
     },
     "metadata": {},
     "output_type": "display_data"
    }
   ],
   "source": [
    "# plot the tree for this genome window\n",
    "tre = toytree.tree(rax.trees.bipartitions)\n",
    "ttt = tre.collapse_nodes(min_support=50)\n",
    "ttt.draw(node_labels=\"support\");"
   ]
  },
  {
   "cell_type": "markdown",
   "metadata": {},
   "source": [
    "### Cookbook"
   ]
  },
  {
   "cell_type": "markdown",
   "metadata": {},
   "source": [
    "#### TODO: Filtering to reduce missing data:\n"
   ]
  },
  {
   "cell_type": "code",
   "execution_count": null,
   "metadata": {},
   "outputs": [],
   "source": [
    "# Or, to include only sites with sample coverage > X\n",
    "we = ipa.window_extracter(\n",
    "    data=data,\n",
    "    workdir=\"analysis-window_extracter\",\n",
    "    scaffold_idx=1,\n",
    "    start=1000000,\n",
    "    end=1500000,\n",
    "    exclude=[\"reference\"],\n",
    ")\n",
    "\n",
    "# show stats of the window\n",
    "we.stats"
   ]
  },
  {
   "cell_type": "markdown",
   "metadata": {},
   "source": [
    "#### Output in alternative formats"
   ]
  },
  {
   "cell_type": "code",
   "execution_count": null,
   "metadata": {},
   "outputs": [],
   "source": [
    "we.run(\"loci\")\n",
    "we.run(\"fasta\")"
   ]
  }
 ],
 "metadata": {
  "kernelspec": {
   "display_name": "Python 3",
   "language": "python",
   "name": "python3"
  },
  "language_info": {
   "codemirror_mode": {
    "name": "ipython",
    "version": 3
   },
   "file_extension": ".py",
   "mimetype": "text/x-python",
   "name": "python",
   "nbconvert_exporter": "python",
   "pygments_lexer": "ipython3",
   "version": "3.6.8"
  }
 },
 "nbformat": 4,
 "nbformat_minor": 2
}
